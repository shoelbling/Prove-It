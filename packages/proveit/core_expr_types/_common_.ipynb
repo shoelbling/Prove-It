{
 "cells": [
  {
   "cell_type": "markdown",
   "metadata": {},
   "source": [
    "Common expressions for context <a href=\"_context_.ipynb\" class=\"ProveItLink\">proveit.core_expr_types</a>\n",
    "========"
   ]
  },
  {
   "cell_type": "code",
   "execution_count": 1,
   "metadata": {
    "scrolled": false
   },
   "outputs": [],
   "source": [
    "import proveit\n",
    "# Automation is not needed when only building common expressions:\n",
    "proveit.defaults.automation = False # This will speed things up.\n",
    "# the context is in the current directory:\n",
    "context = proveit.Context('.') # adds context root to sys.path if necessary\n",
    "from proveit import ExprTuple, IndexedVar, Function, ExprRange, varRange\n",
    "from proveit._common_ import (a, b, c, d, f, g, i, j, k, l, m, n, \n",
    "                              x, y, z, A, B, C, D, P, Q, R, fa, fx, gx)\n",
    "from proveit.number import zero, one, two, Add, Neg, subtract\n",
    "from proveit.logic import Equals, Implies\n",
    "from proveit.core_expr_types import Len"
   ]
  },
  {
   "cell_type": "code",
   "execution_count": 2,
   "metadata": {},
   "outputs": [
    {
     "name": "stdout",
     "output_type": "stream",
     "text": [
      "Defining common sub-expressions for context 'proveit.core_expr_types'\n",
      "Subsequent end-of-cell assignments will define common sub-expressions\n",
      "%end_common will finalize the definitions\n"
     ]
    }
   ],
   "source": [
    "%begin common"
   ]
  },
  {
   "cell_type": "code",
   "execution_count": 3,
   "metadata": {},
   "outputs": [
    {
     "data": {
      "text/html": [
       "<strong id=\"a_1_to_i\">a_1_to_i:</strong> <a class=\"ProveItLink\" href=\"__pv_it/181313b16a2dc97e8bde0525ec5f7e16b35cd7480/expr.ipynb\"><img src=\"data:image/png;base64,iVBORw0KGgoAAAANSUhEUgAAAFMAAAANBAMAAAAnGE+0AAAAMFBMVEX////MzMxUVFQyMjKqqqoi\n",
       "IiKYmJju7u5EREQQEBC6urqIiIh2dnZmZmbc3NwAAAD0tjQRAAAAAXRSTlMAQObYZgAAAAlwSFlz\n",
       "AAAOxAAADsQBlSsOGwAAAMJJREFUKM9jYOC7s28DAz6AULDyAcd3vEohCuoYGNinMfAGMLAn41QJ\n",
       "UcBwmoGB9zsD6wEG6a04lUIUgABnA0P9AgYGV5xKoQqAoP4AQz4DPqUQBasVgCwHhmaWB2ClBZju\n",
       "ZIApOA70GfMGtlgesKnsn0ESBlAGnAdWwFcC9Bm79sFHGyEOCAUay3oByIhlgBKs4TAFHIiwByll\n",
       "wXSBO9zFhShKeTD9dADGcIZLvrG/zcBQjektuLVF+1AkEjCUsiFzALFmOQ8yL6I0AAAAAElFTkSu\n",
       "QmCC\n",
       "\" style=\"display:inline;vertical-align:middle;\" /></a><br>"
      ],
      "text/plain": [
       "a_1_to_i: a_{1},...,a_{i}"
      ]
     },
     "execution_count": 3,
     "metadata": {},
     "output_type": "execute_result"
    }
   ],
   "source": [
    "a_1_to_i = varRange(a, one, i)"
   ]
  },
  {
   "cell_type": "code",
   "execution_count": 5,
   "metadata": {},
   "outputs": [
    {
     "data": {
      "text/html": [
       "<strong id=\"a_1_to_ip1\">a_1_to_ip1:</strong> <a class=\"ProveItLink\" href=\"__pv_it/e269d14aff060ec03fe79e2d31fd80585a7e0f770/expr.ipynb\"><img src=\"data:image/png;base64,iVBORw0KGgoAAAANSUhEUgAAAGcAAAAOBAMAAADAlB9YAAAAMFBMVEX////MzMxUVFQyMjKqqqoi\n",
       "IiKYmJju7u5EREQQEBC6urqIiIh2dnZmZmbc3NwAAAD0tjQRAAAAAXRSTlMAQObYZgAAAAlwSFlz\n",
       "AAAOxAAADsQBlSsOGwAAAOxJREFUKM9jYOC7s28DAz6ATcHKBxzf8WqCKKhDFmKfxsAbwMCejFMP\n",
       "RAHDaRi/zICBgfc7A+sBBumtODVBFECYQMy4G2gCZwND/QIGBlecmqAKQIADRLAANdUfYMhnwKcJ\n",
       "omC1AoomB4ZmlgdgTQWY/mGAKTj+HVkT8wa2WB6wTeyfGaBEvQESA6yAryQAWRO79sFHGyHOCwVZ\n",
       "FQvErBdgjHCYAo4NDDc6Ojs6EsCaoACkiQXTfe5wnxUi24SkiQczFA7AGM48mJre2N9mYKjGDAh4\n",
       "+inaB9XEd/gvSqJKwNDEhsrlYCAD8EJpAOewQz4r4+W6AAAAAElFTkSuQmCC\n",
       "\" style=\"display:inline;vertical-align:middle;\" /></a><br>"
      ],
      "text/plain": [
       "a_1_to_ip1: a_{1},...,a_{i + 1}"
      ]
     },
     "execution_count": 5,
     "metadata": {},
     "output_type": "execute_result"
    }
   ],
   "source": [
    "a_1_to_ip1 = varRange(a, one, Add(i, one))"
   ]
  },
  {
   "cell_type": "code",
   "execution_count": 6,
   "metadata": {},
   "outputs": [
    {
     "data": {
      "text/html": [
       "<strong id=\"a_1_to_j\">a_1_to_j:</strong> <a class=\"ProveItLink\" href=\"__pv_it/82e26f0631ded7d94772aa5e3891baba943fe0120/expr.ipynb\"><img src=\"data:image/png;base64,iVBORw0KGgoAAAANSUhEUgAAAFQAAAAPBAMAAACIDPXGAAAAMFBMVEX////MzMxUVFQyMjKqqqoi\n",
       "IiKYmJju7u5EREQQEBC6urqIiIh2dnZmZmbc3NwAAAD0tjQRAAAAAXRSTlMAQObYZgAAAAlwSFlz\n",
       "AAAOxAAADsQBlSsOGwAAANNJREFUKM9jYOC7s28DAz6AULDyAcd3vEqhCgQY2Kcx8AYwsCfjVAlR\n",
       "wMAQyMD7nYH1AIP0VpxKIQpAgLOBoX4BA4MrTqVQBUBQf4AhnwGfUogC9r0ODPUODM0sD8BKCzDd\n",
       "CVIKVsDLYsDAvIEtlgdsKvtnkIQBlAHnQRSU81xgYNc++GgjxAGhQGNZLwAZsQxQgjWcAaaAOQFm\n",
       "FUgpC6YL3OEs/gfISnkw/XQAzpKEMd7Y32ZgqMb0FiLKN6FIJGAoZUMwzRiIBMwLJxCrlHdvAQMA\n",
       "bIc4/pWcsG4AAAAASUVORK5CYII=\n",
       "\" style=\"display:inline;vertical-align:middle;\" /></a><br>"
      ],
      "text/plain": [
       "a_1_to_j: a_{1},...,a_{j}"
      ]
     },
     "execution_count": 6,
     "metadata": {},
     "output_type": "execute_result"
    }
   ],
   "source": [
    "a_1_to_j = varRange(a, one, j)"
   ]
  },
  {
   "cell_type": "code",
   "execution_count": 7,
   "metadata": {},
   "outputs": [
    {
     "data": {
      "text/html": [
       "<strong id=\"a_1_to_k\">a_1_to_k:</strong> <a class=\"ProveItLink\" href=\"__pv_it/b910e9e024bc92ee51e26138b2941f0707c943e50/expr.ipynb\"><img src=\"data:image/png;base64,iVBORw0KGgoAAAANSUhEUgAAAFYAAAANBAMAAADBMYTwAAAAMFBMVEX////MzMxUVFQyMjKqqqoi\n",
       "IiKYmJju7u5EREQQEBC6urqIiIh2dnZmZmbc3NwAAAD0tjQRAAAAAXRSTlMAQObYZgAAAAlwSFlz\n",
       "AAAOxAAADsQBlSsOGwAAANNJREFUKM9jYOC7s28DAz6ApGDlA47veNUiFLBPY+ANYGBPxqkUooAt\n",
       "Gsjk/c7AeoBBeitOtRAFDLOATM4GhvoFDAyuONVCFPB9ADLrDzDkM+BTC1HA1vD6AkO9A0MzywOw\n",
       "2gJMt4LUghUw7XOfx8C8gS2WB2wu+2eQjAGUgPMgCjiPMQgwsGsffLQR4oZQoMGsFxigRCyIEc4A\n",
       "VfD+rgDcNpBaFkxHuMMYGVwBD5DV8mB67ACMoc0YAGO/sb/NwFCN6Td47NsxqAkgyyRgqGVD4QEA\n",
       "KXI9XclS6a8AAAAASUVORK5CYII=\n",
       "\" style=\"display:inline;vertical-align:middle;\" /></a><br>"
      ],
      "text/plain": [
       "a_1_to_k: a_{1},...,a_{k}"
      ]
     },
     "execution_count": 7,
     "metadata": {},
     "output_type": "execute_result"
    }
   ],
   "source": [
    "a_1_to_k = varRange(a, one, k)"
   ]
  },
  {
   "cell_type": "code",
   "execution_count": 8,
   "metadata": {},
   "outputs": [
    {
     "data": {
      "text/html": [
       "<strong id=\"a_1_to_n\">a_1_to_n:</strong> <a class=\"ProveItLink\" href=\"__pv_it/b0be34ac34e60d563fef8680d2a763fe9c0bcdf30/expr.ipynb\"><img src=\"data:image/png;base64,iVBORw0KGgoAAAANSUhEUgAAAFgAAAANBAMAAADf+LRDAAAAMFBMVEX////MzMxUVFQyMjKqqqoi\n",
       "IiKYmJju7u5EREQQEBC6urqIiIh2dnZmZmbc3NwAAAD0tjQRAAAAAXRSTlMAQObYZgAAAAlwSFlz\n",
       "AAAOxAAADsQBlSsOGwAAAPFJREFUKM9jYOC7s28DA17w9vRrGHPlA47veNVyzWPoL4Aw2acx8AYw\n",
       "sCfjVlyZwHAVyuT9zsB6gEF6K27F9wsYYqBMzgaG+gUMDK64Fc9gYP8FZdYfYMhnwKeY/Q8D2wcG\n",
       "tmvSe4GKHRiaWR6AFbNjqgR6jP0LA4eBH9vKBM4HDMwb2GJ5ICbXGwClPiMzwIQ1Q+qFA8+3MvAX\n",
       "MLBrH3y0EaKYNRxIxIIYF6AMhlCg0UV75LQFGLQZVsLtA7vZHcMZLAUw1kSGO4woig9gKOaBMfg+\n",
       "MEQ5Qtlv7G8DXYgZ7dXwaFRg2JOALMOGGRoo8gwAsUs70t2oc5MAAAAASUVORK5CYII=\n",
       "\" style=\"display:inline;vertical-align:middle;\" /></a><br>"
      ],
      "text/plain": [
       "a_1_to_n: a_{1},...,a_{n}"
      ]
     },
     "execution_count": 8,
     "metadata": {},
     "output_type": "execute_result"
    }
   ],
   "source": [
    "a_1_to_n = varRange(a, one, n)"
   ]
  },
  {
   "cell_type": "code",
   "execution_count": 9,
   "metadata": {},
   "outputs": [
    {
     "data": {
      "text/html": [
       "<strong id=\"a_i_to_j\">a_i_to_j:</strong> <a class=\"ProveItLink\" href=\"__pv_it/96df2e267a2e9f1592e84882e5e5f51ee8d5cae80/expr.ipynb\"><img src=\"data:image/png;base64,iVBORw0KGgoAAAANSUhEUgAAAFIAAAAPBAMAAACFEoWBAAAAMFBMVEX////MzMxUVFQyMjKqqqoi\n",
       "IiKYmJju7u5EREQQEBC6urqIiIh2dnZmZmbc3NwAAAD0tjQRAAAAAXRSTlMAQObYZgAAAAlwSFlz\n",
       "AAAOxAAADsQBlSsOGwAAANtJREFUKM9jYOC7s28DAx6AkF/5gOM7A0MdTpUQeQYBBvZpDLwBDAyn\n",
       "cSmEyjMEMvB+Z2A9gMdyhDxnA0P9AjwqEfL1BxjyGRhWK+BSCZFn3+vAUO/A0Mzy4DjQ0QWYbgSp\n",
       "BMvzshgwMG9gi+XhKwlgYP8MEjdgQDDABFieoZznAgO79sFHGxk4gEEWCjSU9QJQQSwDlMEazgCV\n",
       "Z2BOgLmmkIGBBdN6dziL/wGU4czDwMCD6R1E8EnCGEX7GBiqMX2EiOZNyOIJGCrZEEwzBuIA88IJ\n",
       "RKrk3VvAAADXcTvTISkvegAAAABJRU5ErkJggg==\n",
       "\" style=\"display:inline;vertical-align:middle;\" /></a><br>"
      ],
      "text/plain": [
       "a_i_to_j: a_{i},...,a_{j}"
      ]
     },
     "execution_count": 9,
     "metadata": {},
     "output_type": "execute_result"
    }
   ],
   "source": [
    "a_i_to_j = varRange(a, i, j)"
   ]
  },
  {
   "cell_type": "code",
   "execution_count": 10,
   "metadata": {},
   "outputs": [
    {
     "data": {
      "text/html": [
       "<strong id=\"a_1_to_0\">a_1_to_0:</strong> <a class=\"ProveItLink\" href=\"__pv_it/374a4d503249521561e5bd3af1be032d0783a6a70/expr.ipynb\"><img src=\"data:image/png;base64,iVBORw0KGgoAAAANSUhEUgAAAFYAAAANBAMAAADBMYTwAAAAMFBMVEX////MzMxUVFQyMjKqqqoi\n",
       "IiKYmJju7u5EREQQEBC6urqIiIh2dnZmZmbc3NwAAAD0tjQRAAAAAXRSTlMAQObYZgAAAAlwSFlz\n",
       "AAAOxAAADsQBlSsOGwAAAPVJREFUKM9jYOC7s28DA17w9vRrKGvlA47veJVyzWPoLwCz2Kcx8AYw\n",
       "sCfjVluZwHCVgeHMHgYG3u8MrAcYpLfiVnu/gCGGgWcDVwMDZwND/QIGBlfcamcwsP9i4BRg+MdQ\n",
       "f4AhnwGfWvY/DGwfGN4/YJjCUO/A0MzyAKyWHVMh0E/sXxg4DPzkCxjCGJg3sMXyQMytNwDKfEZm\n",
       "gAlrhtQLB4BqZzOwax98tBGiljUcSMSCGBegDIZQoMFFe+S0BYBu+AKzDOxedww3sBRAGWC/Ias9\n",
       "gKGWB87YwGUAZb6xvw10HWZcV8NZZ/YWIEuwYYZDAjIHABjIQArGx4wBAAAAAElFTkSuQmCC\n",
       "\" style=\"display:inline;vertical-align:middle;\" /></a><br>"
      ],
      "text/plain": [
       "a_1_to_0: a_{1},...,a_{0}"
      ]
     },
     "execution_count": 10,
     "metadata": {},
     "output_type": "execute_result"
    }
   ],
   "source": [
    "a_1_to_0 = varRange(a, one, zero)"
   ]
  },
  {
   "cell_type": "code",
   "execution_count": 11,
   "metadata": {},
   "outputs": [
    {
     "data": {
      "text/html": [
       "<strong id=\"a_ip1\">a_ip1:</strong> <a class=\"ProveItLink\" href=\"__pv_it/86dc7b309f56afcf81929c12fda8a0c247468b260/expr.ipynb\"><img src=\"data:image/png;base64,iVBORw0KGgoAAAANSUhEUgAAACUAAAAOBAMAAABa28jFAAAAMFBMVEX////MzMxUVFQyMjKqqqoi\n",
       "IiKYmJju7u5EREQQEBC6urqIiIh2dnZmZmbc3NwAAAD0tjQRAAAAAXRSTlMAQObYZgAAAAlwSFlz\n",
       "AAAOxAAADsQBlSsOGwAAAIxJREFUGNNjYOC7s28DAxpY+YDjOwNDHbIQ+zQG3gAGhtMwfpkBAwPv\n",
       "dwbWAxAuLxAz7gYq4GxgqF8AEeMAESxAsfoDDPkMDKsVUMQcGJpZHhz/jizGvIEtloevJABZjF37\n",
       "4KONDBwbGG50dHZ0JIDFIKC+EFkdBDjzYIoV7YOK8R3+i+JTDgZMwAulAaEPIsLJ7123AAAAAElF\n",
       "TkSuQmCC\n",
       "\" style=\"display:inline;vertical-align:middle;\" /></a><br>"
      ],
      "text/plain": [
       "a_ip1: a_{i + 1}"
      ]
     },
     "execution_count": 11,
     "metadata": {},
     "output_type": "execute_result"
    }
   ],
   "source": [
    "a_ip1 = IndexedVar(a, Add(i, one))"
   ]
  },
  {
   "cell_type": "code",
   "execution_count": 12,
   "metadata": {},
   "outputs": [
    {
     "data": {
      "text/html": [
       "<strong id=\"b_1_to_i\">b_1_to_i:</strong> <a class=\"ProveItLink\" href=\"__pv_it/a25ed26e90b8362c52b6003635c2df95187cc7430/expr.ipynb\"><img src=\"data:image/png;base64,iVBORw0KGgoAAAANSUhEUgAAAE8AAAASBAMAAADoCp6cAAAAMFBMVEX////MzMyYmJjc3NyIiIhU\n",
       "VFR2dna6urqqqqpmZmYyMjIiIiIQEBBERETu7u4AAACIO4EmAAAAAXRSTlMAQObYZgAAAAlwSFlz\n",
       "AAAOxAAADsQBlSsOGwAAANtJREFUKM9j4LuzgQEfQMhzTcCrECHP34BfIVy+/gF+hXD5bPzqEPJL\n",
       "XWbgVQiT5/v14L0BPl+D5R8zMHD8Y+B34NPCqRAsz5DCwMC5gOF9gog3ToVgeWgw1TcwdOMLxnpw\n",
       "APErMMx/gEchWL4kAMgo4DvEAFaIGZ58DFD5vH8MDKwKvBPACvl+AYXfL4Ay4DyQPPMLYHzzTQEF\n",
       "E8jE3UAjuUERu5MBSnDvg8rzOsAsASnkwLS7D0q/f4iskA3TJwlQugsmZ7Z+CgPDE0zPwGx86ows\n",
       "rIChkAmJDQBazUNySmiZawAAAABJRU5ErkJggg==\n",
       "\" style=\"display:inline;vertical-align:middle;\" /></a><br>"
      ],
      "text/plain": [
       "b_1_to_i: b_{1},...,b_{i}"
      ]
     },
     "execution_count": 12,
     "metadata": {},
     "output_type": "execute_result"
    }
   ],
   "source": [
    "b_1_to_i = varRange(b, one, i)"
   ]
  },
  {
   "cell_type": "code",
   "execution_count": 13,
   "metadata": {},
   "outputs": [
    {
     "data": {
      "text/html": [
       "<strong id=\"b_1_to_ip1\">b_1_to_ip1:</strong> <a class=\"ProveItLink\" href=\"__pv_it/3df8291489e533f9d90a971a8f13f25cb920da2d0/expr.ipynb\"><img src=\"data:image/png;base64,iVBORw0KGgoAAAANSUhEUgAAAGMAAAATBAMAAAB2N65nAAAAMFBMVEX////MzMyYmJjc3NyIiIhU\n",
       "VFR2dna6urqqqqpmZmYyMjIiIiIQEBBERETu7u4AAACIO4EmAAAAAXRSTlMAQObYZgAAAAlwSFlz\n",
       "AAAOxAAADsQBlSsOGwAAAQVJREFUKM9j4LuzgQEfwCbPNQGvFmzy/A34tWCRr3+AXwsW+Wz8OrDJ\n",
       "L3WZgVcLpjzfrwfvDfCFGFj+MbIQxz8Gfgc+LZxawPIMKTDuowUMDJwLGN4niHjj1AKWh7CAmNFl\n",
       "AzjY6xsYuvFFSz0kmHnBlgK18CswzH+ARwtYviQARUsB3yEGsBbM8OdjgMrn/UPWwqrAOwGshe8X\n",
       "A5R4vwCJAZJnfrEBWQvfFFCwg2zZDbJmJxBzT4Ax9kHleR0Y5t69c/euAlgLBIC0cGC6rA9Kv3+I\n",
       "bAtCCxum3xOgdBcbhhaz9VMYGJ5get8BynjqDNXCnPXTAUmBAoYWJhQeLwPJgBNKAwBnpFFBsz/i\n",
       "0gAAAABJRU5ErkJggg==\n",
       "\" style=\"display:inline;vertical-align:middle;\" /></a><br>"
      ],
      "text/plain": [
       "b_1_to_ip1: b_{1},...,b_{i + 1}"
      ]
     },
     "execution_count": 13,
     "metadata": {},
     "output_type": "execute_result"
    }
   ],
   "source": [
    "b_1_to_ip1 = varRange(b, one, Add(i, one))"
   ]
  },
  {
   "cell_type": "code",
   "execution_count": 14,
   "metadata": {},
   "outputs": [
    {
     "data": {
      "text/html": [
       "<strong id=\"b_1_to_j\">b_1_to_j:</strong> <a class=\"ProveItLink\" href=\"__pv_it/b4da98c9e8b87c0befff5b49d2bb725730693b090/expr.ipynb\"><img src=\"data:image/png;base64,iVBORw0KGgoAAAANSUhEUgAAAFAAAAAUBAMAAADo9qfkAAAAMFBMVEX////MzMyYmJjc3NyIiIhU\n",
       "VFR2dna6urqqqqpmZmYyMjIiIiIQEBBERETu7u4AAACIO4EmAAAAAXRSTlMAQObYZgAAAAlwSFlz\n",
       "AAAOxAAADsQBlSsOGwAAAOlJREFUKM9j4LuzgQEfQMhzTcCrECHP34BfIVy+/gF+hXD5bPzqEPJL\n",
       "XWbgVQiT5/v14L0BPl9D5AUYOP4x8DvwaeFUCJZnYNjIwLmA4X2CiDdOhWB5aDDVNzB04wvGenAA\n",
       "8SswzH+ARyFYns+zgYG/gO8QA1ghZnjygRSC5Dk5FjCwKvBOACvk+wUUfr8AyoDzwPLv2CYw8E0B\n",
       "BRPIxN1AI7lBEbuTAUpw72OAynMpQC0BKeTAtLsP7lIDJIVsmD5JgDFkoLTZ+ikMDE8wPeMAY7ki\n",
       "CytgKGSCsxYxEAW4Cg8Qp5DT8wEDACmsQjFJBMg2AAAAAElFTkSuQmCC\n",
       "\" style=\"display:inline;vertical-align:middle;\" /></a><br>"
      ],
      "text/plain": [
       "b_1_to_j: b_{1},...,b_{j}"
      ]
     },
     "execution_count": 14,
     "metadata": {},
     "output_type": "execute_result"
    }
   ],
   "source": [
    "b_1_to_j = varRange(b, one, j)"
   ]
  },
  {
   "cell_type": "code",
   "execution_count": 15,
   "metadata": {},
   "outputs": [
    {
     "data": {
      "text/html": [
       "<strong id=\"b_1_to_k\">b_1_to_k:</strong> <a class=\"ProveItLink\" href=\"__pv_it/abac02080803014123a4e25f74e1d9cf68ce82570/expr.ipynb\"><img src=\"data:image/png;base64,iVBORw0KGgoAAAANSUhEUgAAAFIAAAASBAMAAAA6WpTEAAAAMFBMVEX////MzMyYmJjc3NyIiIhU\n",
       "VFR2dna6urqqqqpmZmYyMjIiIiIQEBBERETu7u4AAACIO4EmAAAAAXRSTlMAQObYZgAAAAlwSFlz\n",
       "AAAOxAAADsQBlSsOGwAAAOlJREFUKM9j4LuzgQEfQJLnmoBXJZI8fwN+lQj5+gf4VSLks/ErRJJf\n",
       "6jIDr0q4PN+vB+8N8PkdLs/xj4HfgU8Lp0qwPNMWIItzAcP7BBFvnCrB8gzHIcFV38DQjS846xuY\n",
       "P4CCS4Fh/gM8KsHyTBdMJjDwF/AdYgCrxAxXPpBKkDyrc99hBlYF3glglXy/gOLvF0AJOA8sz5PE\n",
       "IMDANwUUXCAzdwMN5QZFMpjYCWLsY4DI288UgNkDUsmBaX0flNZl32CApJIN0zsJUDqEcQOUabZ+\n",
       "CgPDE0wfOUAZixmCBJDEFTBUMiFzANGFRXc9SWFVAAAAAElFTkSuQmCC\n",
       "\" style=\"display:inline;vertical-align:middle;\" /></a><br>"
      ],
      "text/plain": [
       "b_1_to_k: b_{1},...,b_{k}"
      ]
     },
     "execution_count": 15,
     "metadata": {},
     "output_type": "execute_result"
    }
   ],
   "source": [
    "b_1_to_k = varRange(b, one, k)"
   ]
  },
  {
   "cell_type": "code",
   "execution_count": 16,
   "metadata": {},
   "outputs": [
    {
     "data": {
      "text/html": [
       "<strong id=\"b_j_to_k\">b_j_to_k:</strong> <a class=\"ProveItLink\" href=\"__pv_it/af42e30f6056ef1d73107e254fca8a9f9f465bb50/expr.ipynb\"><img src=\"data:image/png;base64,iVBORw0KGgoAAAANSUhEUgAAAFIAAAAUBAMAAADsA3fZAAAAMFBMVEX////MzMyYmJjc3NyIiIhU\n",
       "VFR2dna6urqqqqpmZmYyMjIiIiIQEBBERETu7u4AAACIO4EmAAAAAXRSTlMAQObYZgAAAAlwSFlz\n",
       "AAAOxAAADsQBlSsOGwAAAQFJREFUKM9j4LuzgQEfQJLnmoBXJZI8fwN+lQj5+gf4VSLks/ErRJJf\n",
       "6jIDr0q4PN+vB+8NGBgEcPodIg8EHP8Y+B0YGDbiUgmWZ9oCZHEuYHifgMdyiPxxSHDVN+APzvoG\n",
       "5g+g4FJgmP+AzxOnYrA80wWTCQz8BXyHGDg5FjAwYIYrH0glSJ7Vue8wA6sC7wSGd2wTgJ4Eir9f\n",
       "wABhwHlgeZ4kYODwTQEFF5cCA8NuoKHcoEjeyQAluPcxQOTtZ8JDkR8YZByY1vdBaV32DQZQpgwQ\n",
       "s2F6BxZ8IYwbYExXIH6C6SMHKGMxQxDM+kVArIChkgkzdAsPMBAHOD0fEFYEAIH1Rtc2JQ0/AAAA\n",
       "AElFTkSuQmCC\n",
       "\" style=\"display:inline;vertical-align:middle;\" /></a><br>"
      ],
      "text/plain": [
       "b_j_to_k: b_{j},...,b_{k}"
      ]
     },
     "execution_count": 16,
     "metadata": {},
     "output_type": "execute_result"
    }
   ],
   "source": [
    "b_j_to_k = varRange(b, j, k)"
   ]
  },
  {
   "cell_type": "code",
   "execution_count": 17,
   "metadata": {},
   "outputs": [
    {
     "data": {
      "text/html": [
       "<strong id=\"b_ip1\">b_ip1:</strong> <a class=\"ProveItLink\" href=\"__pv_it/8eba5fcd5791f41f0be1ded64bf57ae0b84336e80/expr.ipynb\"><img src=\"data:image/png;base64,iVBORw0KGgoAAAANSUhEUgAAACMAAAATBAMAAADojanHAAAAMFBMVEX////MzMyYmJjc3NyIiIhU\n",
       "VFR2dna6urqqqqpmZmYyMjIiIiIQEBBERETu7u4AAACIO4EmAAAAAXRSTlMAQObYZgAAAAlwSFlz\n",
       "AAAOxAAADsQBlSsOGwAAAJhJREFUGNNj4LuzgQEdcE3AEOJvwBCqf4AhlI0hwrDUZQaaCN+vB+8N\n",
       "GB4jC3H8Y+B3YEiBcR8tYGDgXMDwPgHM4wRiRpcNYGfVQ5zBC9YEFOJXYJj/oCQARaiA7xBD3j9k\n",
       "IVYF3gnMLzYgC/FNATqL14Fh7t07d+8qgIXA4P1DZFVg0MWGIfTUGSrEnPXTAckfvJj+54TSALhU\n",
       "KauQiLoWAAAAAElFTkSuQmCC\n",
       "\" style=\"display:inline;vertical-align:middle;\" /></a><br>"
      ],
      "text/plain": [
       "b_ip1: b_{i + 1}"
      ]
     },
     "execution_count": 17,
     "metadata": {},
     "output_type": "execute_result"
    }
   ],
   "source": [
    "b_ip1 = IndexedVar(b, Add(i, one))"
   ]
  },
  {
   "cell_type": "code",
   "execution_count": 18,
   "metadata": {},
   "outputs": [
    {
     "data": {
      "text/html": [
       "<strong id=\"b_kp1\">b_kp1:</strong> <a class=\"ProveItLink\" href=\"__pv_it/d847531b8171cd03197c22e590adabde16b4874b0/expr.ipynb\"><img src=\"data:image/png;base64,iVBORw0KGgoAAAANSUhEUgAAACYAAAATBAMAAAAOpGKDAAAAMFBMVEX////MzMyYmJjc3NyIiIhU\n",
       "VFR2dna6urqqqqpmZmYyMjIiIiIQEBBERETu7u4AAACIO4EmAAAAAXRSTlMAQObYZgAAAAlwSFlz\n",
       "AAAOxAAADsQBlSsOGwAAAKVJREFUGNNj4LuzgQEDcE3AFONvwBSrf4Aplo0pxLDUZQa6EN+vB+8N\n",
       "0MQ4/jHwOzBtQajRYmDgXMDwPoHhOJgPcpWIN9h59Q3MH8BiF0BEN9B5CgzzHzBdMJmALFbAd4iB\n",
       "1bnvMJIYqwLvBAaeJAYBJDG+KUDn2c8UYOC8e/fs3UtgMTDQZd9ggKQODEIYNySgiy1mCIKZZ7Z+\n",
       "CoqfLmAJDmjoAgAFAC80OXpn0QAAAABJRU5ErkJggg==\n",
       "\" style=\"display:inline;vertical-align:middle;\" /></a><br>"
      ],
      "text/plain": [
       "b_kp1: b_{k + 1}"
      ]
     },
     "execution_count": 18,
     "metadata": {},
     "output_type": "execute_result"
    }
   ],
   "source": [
    "b_kp1 = IndexedVar(b, Add(k, one))"
   ]
  },
  {
   "cell_type": "code",
   "execution_count": 19,
   "metadata": {},
   "outputs": [
    {
     "data": {
      "text/html": [
       "<strong id=\"b_j_to_kp1\">b_j_to_kp1:</strong> <a class=\"ProveItLink\" href=\"__pv_it/2893cdcfca14fe0506abd047bca1edbf5de92b9f0/expr.ipynb\"><img src=\"data:image/png;base64,iVBORw0KGgoAAAANSUhEUgAAAGYAAAAUBAMAAACNG1WbAAAAMFBMVEX////MzMyYmJjc3NyIiIhU\n",
       "VFR2dna6urqqqqpmZmYyMjIiIiIQEBBERETu7u4AAACIO4EmAAAAAXRSTlMAQObYZgAAAAlwSFlz\n",
       "AAAOxAAADsQBlSsOGwAAASpJREFUOMtj4LuzgQEfwCrPNQGvHqzy/A349WCTr3+AXw82+Wz8WrDK\n",
       "L3WZgVcPFnm+Xw/eGzAwCOAMN4g8CuD4x8DvwMCwEZcesDzTFoQZWgwMnAsY3ifgcRpE/jiYDQp1\n",
       "EW9w8Nc34I+e+gbmD2D2BRDRDQx+BYb5D/g8cWoDyzNdMJmArKeA7xADJ8cCBj5M9aCYAcuzOvcd\n",
       "RtLDqsA7geEd2wSG9wuAAiCC7xcyAyzPkwQOWJgevimg4OdSYODeB6S5QU7YCWPsfgCVt58pwMB5\n",
       "9+7Zu5fAeqCuBkZBH2Y4w5KNLvsGAyR7IEAGiDFDnA3GCGHckIChxxXoCAcMPU9gjMUMQTD/mK2f\n",
       "AhVcxMDAhBluCmj8C8jxVniAgRiAnPs4PR8wkAAAbfZY/AXCOB4AAAAASUVORK5CYII=\n",
       "\" style=\"display:inline;vertical-align:middle;\" /></a><br>"
      ],
      "text/plain": [
       "b_j_to_kp1: b_{j},...,b_{k + 1}"
      ]
     },
     "execution_count": 19,
     "metadata": {},
     "output_type": "execute_result"
    }
   ],
   "source": [
    "b_j_to_kp1 = varRange(b, j, Add(k, one))"
   ]
  },
  {
   "cell_type": "code",
   "execution_count": 20,
   "metadata": {},
   "outputs": [
    {
     "data": {
      "text/html": [
       "<strong id=\"c_1_to_i\">c_1_to_i:</strong> <a class=\"ProveItLink\" href=\"__pv_it/081cf9f39c0802af2bbc75d2f58168819d03bf1d0/expr.ipynb\"><img src=\"data:image/png;base64,iVBORw0KGgoAAAANSUhEUgAAAE8AAAANBAMAAAAaii7SAAAAMFBMVEX///9UVFQyMjK6urqYmJju\n",
       "7u4QEBBERERmZmaqqqoiIiLc3NzMzMyIiIh2dnYAAAAoX9D3AAAAAXRSTlMAQObYZgAAAAlwSFlz\n",
       "AAAOxAAADsQBlSsOGwAAALZJREFUKM9jYGB4e+8AAz4Ak981gaMAnzqwfDSQsY6B7QKrE26FIHmG\n",
       "twwMHF+BnLO3cKoDy4MAG9jeWTgVssHcFf8Av0KwvK0AAwO/AwODAVhhAIYiVgao/FOg/RwNDHwH\n",
       "QApZP4H0K0AZcB5I/nTkAiDv3d2rEKtXAY3kagAyVjBACa6lUHn2CzBLQAo5Me2eCnNoDLJCPkyf\n",
       "PIDSk2By+/R7GRhiMT0DszHwNrKwA4ZCFiQ2AKsgNG0b9G6AAAAAAElFTkSuQmCC\n",
       "\" style=\"display:inline;vertical-align:middle;\" /></a><br>"
      ],
      "text/plain": [
       "c_1_to_i: c_{1},...,c_{i}"
      ]
     },
     "execution_count": 20,
     "metadata": {},
     "output_type": "execute_result"
    }
   ],
   "source": [
    "c_1_to_i = varRange(c, one, i)"
   ]
  },
  {
   "cell_type": "code",
   "execution_count": 21,
   "metadata": {},
   "outputs": [
    {
     "data": {
      "text/html": [
       "<strong id=\"c_1_to_j\">c_1_to_j:</strong> <a class=\"ProveItLink\" href=\"__pv_it/c3034d107c33e8152c811925895abddd2e4984af0/expr.ipynb\"><img src=\"data:image/png;base64,iVBORw0KGgoAAAANSUhEUgAAAFAAAAAPBAMAAACB51W8AAAAMFBMVEX///9UVFQyMjK6urqYmJju\n",
       "7u4QEBBERERmZmaqqqoiIiLc3NzMzMyIiIh2dnYAAAAoX9D3AAAAAXRSTlMAQObYZgAAAAlwSFlz\n",
       "AAAOxAAADsQBlSsOGwAAAMVJREFUKM9jYGB4e+8AAz4Ak981gaMAnzqIPFDtOga2C6xOuBWC5BkY\n",
       "1jBwfAVyzt7CqQ4sDwJsYHtn4VTIBnNX/AP8CsHyrDcmMPA7MDAYgBUGYChiBWKwPAenAgNHAwPf\n",
       "AZBC1k8g/QpQBpwHlg/la2BgeHf3KsTqVUAjuYACDCsYoATXUgaoPJMD1BKQQk5Mu6fCGPwbkBTy\n",
       "YfrkAYxxDErv0+9lYIjF9MwFGOsisrADhkIWOEuFgSjAZJNAnEKOGwEMAKfbNROvg/HqAAAAAElF\n",
       "TkSuQmCC\n",
       "\" style=\"display:inline;vertical-align:middle;\" /></a><br>"
      ],
      "text/plain": [
       "c_1_to_j: c_{1},...,c_{j}"
      ]
     },
     "execution_count": 21,
     "metadata": {},
     "output_type": "execute_result"
    }
   ],
   "source": [
    "c_1_to_j = varRange(c, one, j)"
   ]
  },
  {
   "cell_type": "code",
   "execution_count": 22,
   "metadata": {},
   "outputs": [
    {
     "data": {
      "text/html": [
       "<strong id=\"c_1_to_k\">c_1_to_k:</strong> <a class=\"ProveItLink\" href=\"__pv_it/367b145e20246ef20dd07b34c71082c6257c336b0/expr.ipynb\"><img src=\"data:image/png;base64,iVBORw0KGgoAAAANSUhEUgAAAFIAAAANBAMAAADI2iSKAAAAMFBMVEX///9UVFQyMjK6urqYmJju\n",
       "7u4QEBBERERmZmaqqqoiIiLc3NzMzMyIiIh2dnYAAAAoX9D3AAAAAXRSTlMAQObYZgAAAAlwSFlz\n",
       "AAAOxAAADsQBlSsOGwAAAMJJREFUKM9jYGB4e+8AAz4Al981gaMAn0KE/DoGtgusTrhVguRZ1gIZ\n",
       "HF+BxNlbOBWC5RmSgZgNbPQsnCrB8twfgET8A/wqwfIsBXsbGPgdGBgMwCoDMFSxAjFYnvH21GwG\n",
       "jgYGvgMglayfQCYoQAk4DyzP9oQBGFLv7l6F2L4KaChXAwOUWAFiLGWAyO/vgAc5SCUnpvVTobQ7\n",
       "84INSCr5ML3zAErL8iyAMvfp9zIwxGL66AKUoc0gghzjDhgqWZA5ACtXOZW+xklmAAAAAElFTkSu\n",
       "QmCC\n",
       "\" style=\"display:inline;vertical-align:middle;\" /></a><br>"
      ],
      "text/plain": [
       "c_1_to_k: c_{1},...,c_{k}"
      ]
     },
     "execution_count": 22,
     "metadata": {},
     "output_type": "execute_result"
    }
   ],
   "source": [
    "c_1_to_k = varRange(c, one, k)"
   ]
  },
  {
   "cell_type": "code",
   "execution_count": 23,
   "metadata": {},
   "outputs": [
    {
     "data": {
      "text/html": [
       "<strong id=\"d_1_to_k\">d_1_to_k:</strong> <a class=\"ProveItLink\" href=\"__pv_it/80a8dca82939899d3dca2124ac254e1a2094bc9a0/expr.ipynb\"><img src=\"data:image/png;base64,iVBORw0KGgoAAAANSUhEUgAAAFYAAAASBAMAAAAzsTS+AAAAMFBMVEX///9UVFSYmJhERESIiIjc\n",
       "3NwiIiJ2dnbu7u66urqqqqpmZmYQEBAyMjLMzMwAAAAJQA1gAAAAAXRSTlMAQObYZgAAAAlwSFlz\n",
       "AAAOxAAADsQBlSsOGwAAAPRJREFUKM9jYGBg4LuzgQEvQFbAvwC/WmQF8xsIqEVSUEZAKbKC24TU\n",
       "whSwbvf7hVchkoI5Acw/8KpFKOA4xMB9gYFDF6dSiAKmFCCT+wcDWwHDEzecaiEKGE4CmTwGDP0T\n",
       "GBiW4VQLUcD6AcjsL2DQZ8CnFqKAySBkA0P/AgZbrgCwWswY4QCpBStgdF1xlIHXgSmbHWwux1+Q\n",
       "zAUoAedBFPAUMTxg4BCpC/SDuCENaDAbKJWAiWwQI4MBqiB+9wO4bSC1XJiOWAFjKHMmBCCrZcf0\n",
       "WAGMIcKXAGOH39/CwNCC6TcHGOsqg9ADZBkFDLVMKDwA5FREVXleJxkAAAAASUVORK5CYII=\n",
       "\" style=\"display:inline;vertical-align:middle;\" /></a><br>"
      ],
      "text/plain": [
       "d_1_to_k: d_{1},...,d_{k}"
      ]
     },
     "execution_count": 23,
     "metadata": {},
     "output_type": "execute_result"
    }
   ],
   "source": [
    "d_1_to_k = varRange(d, one, k)"
   ]
  },
  {
   "cell_type": "code",
   "execution_count": 24,
   "metadata": {},
   "outputs": [
    {
     "data": {
      "text/html": [
       "<strong id=\"x_1_to_n\">x_1_to_n:</strong> <a class=\"ProveItLink\" href=\"__pv_it/62a4f6db7cd6d81c4ac5111bf8172ea1eee1dad90/expr.ipynb\"><img src=\"data:image/png;base64,iVBORw0KGgoAAAANSUhEUgAAAFoAAAANBAMAAADbDWR+AAAAMFBMVEX///8QEBC6uroyMjJERETc\n",
       "3NyYmJgiIiJmZmaqqqp2dnbMzMxUVFSIiIju7u4AAAAoIwv1AAAAAXRSTlMAQObYZgAAAAlwSFlz\n",
       "AAAOxAAADsQBlSsOGwAAANBJREFUKM9jYHh75/WqCQz4ALKKBt6zHAV4VSOpYAvg/cqTwPDMAKdi\n",
       "qAow4GZgASrkvovbeIgKGOC/ACQ48TkGrAIK9AP4HuBXDVLB1rb3BgPDE4XzDFxQsx9gqONjgKlg\n",
       "U0xgDGCYv6+RQROimu8zUO69ARIDTEBUxF1n4H/A8OIuZ9sEqNnlQMPZG4CMCgYog72OAabiLIMi\n",
       "3Eqwak5Mp8yDs6QZurhRVHNhenABjMH6gaFoNoy9+AcwlN5i+hIedkwHGG4loMglYMYjKhcAEJJC\n",
       "pmr6ALcAAAAASUVORK5CYII=\n",
       "\" style=\"display:inline;vertical-align:middle;\" /></a><br>"
      ],
      "text/plain": [
       "x_1_to_n: x_{1},...,x_{n}"
      ]
     },
     "execution_count": 24,
     "metadata": {},
     "output_type": "execute_result"
    }
   ],
   "source": [
    "x_1_to_n = varRange(x, one, n)"
   ]
  },
  {
   "cell_type": "code",
   "execution_count": 25,
   "metadata": {},
   "outputs": [
    {
     "data": {
      "text/html": [
       "<strong id=\"x_1_to_np1\">x_1_to_np1:</strong> <a class=\"ProveItLink\" href=\"__pv_it/5ca28f822e6112de8cced9363e45311ade6066b70/expr.ipynb\"><img src=\"data:image/png;base64,iVBORw0KGgoAAAANSUhEUgAAAG0AAAAOBAMAAADXto+RAAAAMFBMVEX///8QEBC6uroyMjJERETc\n",
       "3NyYmJgiIiJmZmaqqqp2dnbMzMxUVFSIiIju7u4AAAAoIwv1AAAAAXRSTlMAQObYZgAAAAlwSFlz\n",
       "AAAOxAAADsQBlSsOGwAAARFJREFUKM9jYHh75/WqCQx4AN/dc7tWYgo38J7lKMCnj4PhzoV2DFG2\n",
       "AN6vPAkMzwxw6ktluB9wDEUEpJibgQVE3sVt5QYGZ2TL4Yr5LwAJTnxO/YtgsjDAFesH8D3Aq4/p\n",
       "K8M7hozsuw3I+p4onGfggjD5MLU8AIo68XxgWMCQJMYgiqxv/r5GBk0I8z3Qo3yfGaAEjMf5+4UA\n",
       "0wTWtwUM/5D1vbjL2TYBwmSvA4pVMEAJdpCzyh8w8PVemJHJwMBzgUmAocXF0cUlAdlTYOY8DHdy\n",
       "PoCxGDdwLNiAEi4IfQsw9HHBWfEM7JqY+lgX/7jAwHcBQ99bOEuHgXcZ1H9gxchJBzM8E9AFWBjI\n",
       "AxxQGgC37E3VxMVVlQAAAABJRU5ErkJggg==\n",
       "\" style=\"display:inline;vertical-align:middle;\" /></a><br>"
      ],
      "text/plain": [
       "x_1_to_np1: x_{1},...,x_{n + 1}"
      ]
     },
     "execution_count": 25,
     "metadata": {},
     "output_type": "execute_result"
    }
   ],
   "source": [
    "x_1_to_np1 = varRange(x, one, Add(n, one))"
   ]
  },
  {
   "cell_type": "code",
   "execution_count": 26,
   "metadata": {},
   "outputs": [
    {
     "data": {
      "text/html": [
       "<strong id=\"y_1_to_n\">y_1_to_n:</strong> <a class=\"ProveItLink\" href=\"__pv_it/77e881ef471c0528c2aa943421eeaa376ff4289a0/expr.ipynb\"><img src=\"data:image/png;base64,iVBORw0KGgoAAAANSUhEUgAAAFYAAAANBAMAAADBMYTwAAAAMFBMVEX///8iIiLMzMy6urpEREQy\n",
       "MjLc3NyYmJgQEBCqqqp2dnZUVFRmZmaIiIju7u4AAACJ/BCYAAAAAXRSTlMAQObYZgAAAAlwSFlz\n",
       "AAAOxAAADsQBlSsOGwAAAONJREFUKM9j4LtzgeE1Ax6ApICLs4GhHp9aJAWZPAEMWxieB+BUC1EA\n",
       "Bg84LjD0Mt0VwKkWrADKtn/A9ImBE7daiAIIOMrA24BXLUgB+3HdO0CmNwPLBojaB5hhwABVwG5R\n",
       "wJHAwHCawb4ArJbvK1DifQASA0KAFORdZOAHGvV67fkEiLmCQB7jASBDhgHKYJRjgCrYy2ABtmkp\n",
       "A0QtJ6Yj5sEUNDGcYmLgCeDrhKrlwvTXAgaIArYPDMKTGBgvcC9gYFv65wIDw1tMvwFFwQqYNzDc\n",
       "Avrq7mGYTAGGWnaQy+AKAFeRR8Q43BvGAAAAAElFTkSuQmCC\n",
       "\" style=\"display:inline;vertical-align:middle;\" /></a><br>"
      ],
      "text/plain": [
       "y_1_to_n: y_{1},...,y_{n}"
      ]
     },
     "execution_count": 26,
     "metadata": {},
     "output_type": "execute_result"
    }
   ],
   "source": [
    "y_1_to_n = varRange(y, one, n)"
   ]
  },
  {
   "cell_type": "code",
   "execution_count": 27,
   "metadata": {},
   "outputs": [
    {
     "data": {
      "text/html": [
       "<strong id=\"z_1_to_n\">z_1_to_n:</strong> <a class=\"ProveItLink\" href=\"__pv_it/d9943db087604fa8b763a052ef227e245bc8cb4c0/expr.ipynb\"><img src=\"data:image/png;base64,iVBORw0KGgoAAAANSUhEUgAAAFUAAAANBAMAAAAqBj/zAAAAMFBMVEX///8QEBCqqqpUVFS6urru\n",
       "7u5mZmZERER2dnaIiIgyMjKYmJjc3NwiIiLMzMwAAAC+/aJUAAAAAXRSTlMAQObYZgAAAAlwSFlz\n",
       "AAAOxAAADsQBlSsOGwAAAN9JREFUKM9jYOC7++A0Az7w9h7PBiiTa0ZlAl61K9unwZhHGTgYGKIX\n",
       "4FTKE8DQAOewpjLwzbyAx+CwADjzBBAz4VHLgzCWZQJDAF61ngysDNv2zQR5ypuBwQCslhVTGchy\n",
       "lg0MzAxbpBlkGBj4Kip7H4DVxgP9x/qLAYkBJp63z7jHE3mB4SsDMBAUl0Dcy3sVKHMNiHkToAyG\n",
       "u0CDG5ikHBiYJ7AIwCwDu1cVww1MsBBgfMDW8ABZbQOGWg4Y4zwDrxNULU/XtwkMrBMw1EbCGM4M\n",
       "nN3IEtyY4bABhQcAnb03en5OWhQAAAAASUVORK5CYII=\n",
       "\" style=\"display:inline;vertical-align:middle;\" /></a><br>"
      ],
      "text/plain": [
       "z_1_to_n: z_{1},...,z_{n}"
      ]
     },
     "execution_count": 27,
     "metadata": {},
     "output_type": "execute_result"
    }
   ],
   "source": [
    "z_1_to_n = varRange(z, one, n)"
   ]
  },
  {
   "cell_type": "code",
   "execution_count": 28,
   "metadata": {},
   "outputs": [
    {
     "data": {
      "text/html": [
       "<strong id=\"range_1_to_i\">range_1_to_i:</strong> <a class=\"ProveItLink\" href=\"__pv_it/34ded47880a5d2de2c839da31bee7ae9bb58d6dd0/expr.ipynb\"><img src=\"data:image/png;base64,iVBORw0KGgoAAAANSUhEUgAAAD4AAAASBAMAAADxgXA6AAAAMFBMVEX////c3Ny6urqYmJh2dnaq\n",
       "qqoQEBBERESIiIgyMjJmZmZUVFTu7u4iIiLMzMwAAAACGKt9AAAAAXRSTlMAQObYZgAAAAlwSFlz\n",
       "AAAOxAAADsQBlSsOGwAAAIRJREFUKM9jYOC7w4ATcCxgOL3yD255XgegGjzyYDNoJ39iBX55BzW8\n",
       "8owBK/HK8zD8wG8+6x/88pwboPI8mHIHgPh8ADT8zk8AqvnJACXgPH1GAwbusr87GHhBcXSLAUrw\n",
       "LgASd4EGsDfDTIvBdNsBlJDAkGdB8WkDZtgic5gx3W8AoQBJ+if1fWAVvwAAAABJRU5ErkJggg==\n",
       "\" style=\"display:inline;vertical-align:middle;\" /></a><br>"
      ],
      "text/plain": [
       "range_1_to_i: 1,...,i"
      ]
     },
     "execution_count": 28,
     "metadata": {},
     "output_type": "execute_result"
    }
   ],
   "source": [
    "range_1_to_i = ExprRange(k, k, one, i)"
   ]
  },
  {
   "cell_type": "code",
   "execution_count": 29,
   "metadata": {},
   "outputs": [
    {
     "data": {
      "text/html": [
       "<strong id=\"range_i_to_j\">range_i_to_j:</strong> <a class=\"ProveItLink\" href=\"__pv_it/cd841c8c0c58e42e9d1785a8e5e52604fe69d9320/expr.ipynb\"><img src=\"data:image/png;base64,iVBORw0KGgoAAAANSUhEUgAAAD4AAAASBAMAAADxgXA6AAAAMFBMVEX////MzMxERESYmJhUVFQy\n",
       "MjKqqqrc3NwQEBC6urru7u52dnYiIiJmZmaIiIgAAAB85A1lAAAAAXRSTlMAQObYZgAAAAlwSFlz\n",
       "AAAOxAAADsQBlSsOGwAAAKlJREFUKM9jYGB4y4ATMGoBidO45fkCGGgNuN4+wCm37hEDAzdnA075\n",
       "CxwGDGW8ON3IXMCfwLCAH7f5DPkLIBgXuAPEIXgcDww6rm/cDFyYMmBD2X8yMHB+KGZYD3IiiOD6\n",
       "isxgYP4AJPQMGHhOAWmeC0DiLIxxBmQAiwLUtCwM89lA8hwwr23AkOcG6k6wh3qNCzMI1jEwyCcc\n",
       "gwUUpvsNGBh4305gYAAAFz8mim4nEukAAAAASUVORK5CYII=\n",
       "\" style=\"display:inline;vertical-align:middle;\" /></a><br>"
      ],
      "text/plain": [
       "range_i_to_j: i,...,j"
      ]
     },
     "execution_count": 29,
     "metadata": {},
     "output_type": "execute_result"
    }
   ],
   "source": [
    "range_i_to_j = ExprRange(k, k, i, j)"
   ]
  },
  {
   "cell_type": "code",
   "execution_count": 30,
   "metadata": {},
   "outputs": [
    {
     "data": {
      "text/html": [
       "<strong id=\"range_i_to_jp1\">range_i_to_jp1:</strong> <a class=\"ProveItLink\" href=\"__pv_it/353884b3a08159d07c6b38d648b916760bdb2e470/expr.ipynb\"><img src=\"data:image/png;base64,iVBORw0KGgoAAAANSUhEUgAAAHEAAAAVBAMAAACDNRyvAAAAMFBMVEX////MzMxERESYmJhUVFQy\n",
       "MjKqqqrc3NwQEBC6urru7u52dnYiIiJmZmaIiIgAAAB85A1lAAAAAXRSTlMAQObYZgAAAAlwSFlz\n",
       "AAAOxAAADsQBlSsOGwAAAUxJREFUOMtjYMALCkgUhwO+BBwS88DkW9w6s0GE0AJUQcZTMCNP49TI\n",
       "FQAin6IKLrn6C0hG4XcsrwEShxPG4QPptMWvkwOZw/YAWSfHArw6p+LWyWrAwPX2AU6dt0F+faeA\n",
       "TSe3AwM3ZwNOncEgvzI0Y9PJHMBQxhuAU+cxIDZn+IZNJ9sBhgX8uF3bCdYBUsh75syJnjNnHOA6\n",
       "GT8wMOQvwK+T9wA2O0F+DMEdtmEggmcDDtdyfeNm4MLUBHaIHoion4A1hBQYOD8UM6wHBRKI4PqK\n",
       "zGDYAiLsscYnL5CnZ8DAcwrkqgtA4iyMcQZk6RyQQic0nSwaf/yAiqD5LAvDtWwgnTwCQKIP3U4w\n",
       "qIHSGzB0coMI5gsMbsy/0FM8GFyG5ibMKF0HJtUZv/Fgzdzs0CTJjCkFsWARw72bWOOLaQGB0oTd\n",
       "AIeEOQMDAEO1WRZOCFbSAAAAAElFTkSuQmCC\n",
       "\" style=\"display:inline;vertical-align:middle;\" /></a><br>"
      ],
      "text/plain": [
       "range_i_to_jp1: i,...,(j + 1)"
      ]
     },
     "execution_count": 30,
     "metadata": {},
     "output_type": "execute_result"
    }
   ],
   "source": [
    "range_i_to_jp1 = ExprRange(k, k, i, Add(j, one))"
   ]
  },
  {
   "cell_type": "code",
   "execution_count": 31,
   "metadata": {},
   "outputs": [
    {
     "data": {
      "text/html": [
       "<strong id=\"range_1_to_mp1\">range_1_to_mp1:</strong> <a class=\"ProveItLink\" href=\"__pv_it/231a7c25eb2dc7f148a7c8df00b3166aa14a522b0/expr.ipynb\"><img src=\"data:image/png;base64,iVBORw0KGgoAAAANSUhEUgAAAHwAAAAVBAMAAAB2y5cfAAAAMFBMVEX///+6urrc3NyYmJh2dnaq\n",
       "qqoQEBBERESIiIgyMjJmZmZUVFTu7u4iIiLMzMwAAADZRvEaAAAAAXRSTlMAQObYZgAAAAlwSFlz\n",
       "AAAOxAAADsQBlSsOGwAAAVdJREFUOMtjYMAPFPDIMTEQAhwBeCQZG4AE3x08KkJwyrw9wMDQysBw\n",
       "euUf3Lp5JuCS2DUfqJ0TiDnwaOcyQBcRhjH6gVqZF+DXzoYhEoGsnSEHv3ZJAton49e+BBi83koe\n",
       "O/g8CrFq98avHWg6C3sFw3lDhjCs2i3xa7/KwPCQrYBB34HBHqv2WPzaExkYDpwXYIg/wLAdxF17\n",
       "927a3bu3EdrfE9TOEM/AsJKBIQOr7WL4tU8F4p0MDFcYGD/x4HE8D5Z0BSIqgDiFgecjA/cEVWza\n",
       "zSHaz4MSJ4jg+cmAxANFDNM/BuYPDJwODti0r2DgLvu7g4EXlG14gUmQ4RaMARaSBcb7BQaOBQys\n",
       "KxRQtW/Pvw3Mb5egvBhM14OEeB/gTHXgDH8BynDA1A4SAuUJHFkGOUfxNGAGHVioCG9hog6lmTGl\n",
       "IELH8WqvIVRYMRngkWRWYAAAy0hiWW7OnLoAAAAASUVORK5CYII=\n",
       "\" style=\"display:inline;vertical-align:middle;\" /></a><br>"
      ],
      "text/plain": [
       "range_1_to_mp1: 1,...,(m + 1)"
      ]
     },
     "execution_count": 31,
     "metadata": {},
     "output_type": "execute_result"
    }
   ],
   "source": [
    "range_1_to_mp1 = ExprRange(k, k, one, Add(m, one))"
   ]
  },
  {
   "cell_type": "code",
   "execution_count": 32,
   "metadata": {},
   "outputs": [
    {
     "data": {
      "text/html": [
       "<strong id=\"f__a_1_to_i\">f__a_1_to_i:</strong> <a class=\"ProveItLink\" href=\"__pv_it/c6338f937e8ddd759bc5eb3cf896b6aa82bac6150/expr.ipynb\"><img src=\"data:image/png;base64,iVBORw0KGgoAAAANSUhEUgAAAHEAAAAVBAMAAACDNRyvAAAAMFBMVEX///8yMjLc3NyIiIiYmJgi\n",
       "IiJERES6urqqqqoQEBDMzMxUVFTu7u52dnZmZmYAAAD1zdHuAAAAAXRSTlMAQObYZgAAAAlwSFlz\n",
       "AAAOxAAADsQBlSsOGwAAAatJREFUOMuVkz1Iw1AQx/+tST8kiQUdHAQD4uRXEVwUoSqu2kUR1FJ1\n",
       "dFARBbciOKkoKupYdHIrdHKLCII4JCAuihD8GIt1UiSC916S0hJaTCD/d7ncL3fvLg8oXSr+f1XE\n",
       "1mV8kKv2ojxrpLs+QDfN0wWtUswPiRaup+uUU0n4IseYhC2mUV8gomyDcpKZK/7IAJUoXE6bZBbo\n",
       "DhZ647WB7vs225BzJA08uonuDTVk1QTDB1jSINE0BdbQnixzTlF7j6AkIQ1VJ28TeKd8lCrCtrjH\n",
       "nSfUXguigfO+6uSHhlnbqi+SPLhkNA19GdiqTh5D+nLq3idZ5GYzoBsYRy1S+oVQRHgATrWH3LtA\n",
       "ZAZzEZWTkhejAUrfCMU2ZZ1MIU2j+LF/QZpRXEjJdk6dWid9lhtcGjFqGp0sQGFdKnJyjV7mHzv6\n",
       "bVKcIUkxw3QMTFCmu8GzfJaVB5Emo+Q4KWbdsvg+dzzVRjR3txaFtgPbAfvACGYFaXhIufSJGL18\n",
       "AyavHMe8s3a1vtJ3vX/hdanDeRVBatDIi+O4KQ8TvL2tOIUhrewh6OeADgN/eylcLqFOERYAAAAA\n",
       "SUVORK5CYII=\n",
       "\" style=\"display:inline;vertical-align:middle;\" /></a><br>"
      ],
      "text/plain": [
       "f__a_1_to_i: f(a_{1} ,  ...  , a_{i})"
      ]
     },
     "execution_count": 32,
     "metadata": {},
     "output_type": "execute_result"
    }
   ],
   "source": [
    "f__a_1_to_i = Function(f, a_1_to_i)"
   ]
  },
  {
   "cell_type": "code",
   "execution_count": 33,
   "metadata": {},
   "outputs": [
    {
     "data": {
      "text/html": [
       "<strong id=\"g__a_1_to_i\">g__a_1_to_i:</strong> <a class=\"ProveItLink\" href=\"__pv_it/54543b255dd74b6fbc49a1ec5f3c5b42b0415d320/expr.ipynb\"><img src=\"data:image/png;base64,iVBORw0KGgoAAAANSUhEUgAAAHEAAAAVBAMAAACDNRyvAAAAMFBMVEX///8iIiK6urpUVFTMzMzu\n",
       "7u5EREQQEBAyMjJ2dnaYmJjc3NyIiIhmZmaqqqoAAABI0TZoAAAAAXRSTlMAQObYZgAAAAlwSFlz\n",
       "AAAOxAAADsQBlSsOGwAAAYxJREFUOMuVU7FKA0EQfQm3p3cXQwQtLAKCrUI6m4ABS5sFC4MIuQ8Q\n",
       "TJXG5ho7i5QWFrEUEWJhExQOrAJBEksbY2ElYhAFJRqc3b2cF44Ed+CWmbn3lpk3O0BoDv5v9ZHo\n",
       "VoO5HA3SVQ1mqhsJitCxg4h/r8U8j/hlLeYUD92kp8WcrtHx0mrQOSMEuj6+mkwIAVaOPs+pBJck\n",
       "97HHJxEVgNE0bSrxleObkgnSeauGDrA9vm4FsHyaYQaowOiLlheBB44FGK3MWKYESDN6MAZIlQNm\n",
       "BexNXTfGFEDWXYbdh5kTfXbBvmD3JjEVIHkDCSK3JBQ2fbABTO9ZMlmcRtIpgFUi13bB+ljjgcyH\n",
       "OGlXJbNEKrFPKOcvkoDLRzFEUmmp2ZGFE36zuZEvSGZinlJZIXl7eMzyIWBXpOSeZWU1c+HSiD6f\n",
       "YtWmh5NmHwXgAljnxvvoG5bM+MpZ4X+vKvdjlRd9mTCDPXeOfkgsP8bcCRXO1+G4wMrpXZBwIzA7\n",
       "rm0tGpgjj7ShsSpnwC+JgGNFh2wB5wAAAABJRU5ErkJggg==\n",
       "\" style=\"display:inline;vertical-align:middle;\" /></a><br>"
      ],
      "text/plain": [
       "g__a_1_to_i: g(a_{1} ,  ...  , a_{i})"
      ]
     },
     "execution_count": 33,
     "metadata": {},
     "output_type": "execute_result"
    }
   ],
   "source": [
    "g__a_1_to_i = Function(g, a_1_to_i)"
   ]
  },
  {
   "cell_type": "code",
   "execution_count": 34,
   "metadata": {},
   "outputs": [
    {
     "data": {
      "text/html": [
       "<strong id=\"f__b_1_to_i\">f__b_1_to_i:</strong> <a class=\"ProveItLink\" href=\"__pv_it/499325288fe1925f4c41ee86c2a6feed8db802d50/expr.ipynb\"><img src=\"data:image/png;base64,iVBORw0KGgoAAAANSUhEUgAAAG0AAAAVBAMAAAC+p33JAAAAMFBMVEX///8yMjLc3NyIiIiYmJgi\n",
       "IiJERES6urqqqqoQEBDMzMxUVFTu7u52dnZmZmYAAAD1zdHuAAAAAXRSTlMAQObYZgAAAAlwSFlz\n",
       "AAAOxAAADsQBlSsOGwAAAZdJREFUOMuNVD1Iw0AUfo2JacslZnBwKKWLm2DAUZCgu7gogiKioyCI\n",
       "6OzipFJBRMeuboW6uEUUwcXq4CRCFFeh/oBFqvje3eWIhKQ5eO99d999uZf3LgFQowJZx7+dPVuZ\n",
       "desi2I8++j2Aq8P0/SEvj3g4wcgcROUuB4V8ifvjTTzP9hC1u+hCfpKc2SFfUCh5KL5AL2ZNEVxT\n",
       "KHkoPofJ6WdzAcJXmjbGUouqeKuOrs8l2I/WLLH3NB3nGXZPpyIO12htFq3qwwdcOok6zlt4TJ4S\n",
       "rvK1I7QnYD/FkeSXJJ6DYgvdvdKVwWyLZyW1zxSdMPfRrXA4gPYJdidNR7w5CjLPA762jPYF1x5f\n",
       "Y3GNL3mriUhfBNC+xWVDO4VV8awm1oa9QQRwR/zQNt1oqk2L6zbQbqg9pDPmcbaAZgQSwLQveUrM\n",
       "wF7Yda4zajIhnvtuLM+8LyLr4MZBgJ2cuAJ6ENXdxu9YSDvIvQDMnMuFJRG0u18XmBvTXcjIGhXQ\n",
       "sCwTz+FHGdmkx+vpRXCvH5loXub/xDjAH/SwY1EnP0a2AAAAAElFTkSuQmCC\n",
       "\" style=\"display:inline;vertical-align:middle;\" /></a><br>"
      ],
      "text/plain": [
       "f__b_1_to_i: f(b_{1} ,  ...  , b_{i})"
      ]
     },
     "execution_count": 34,
     "metadata": {},
     "output_type": "execute_result"
    }
   ],
   "source": [
    "f__b_1_to_i = Function(f, b_1_to_i)"
   ]
  },
  {
   "cell_type": "code",
   "execution_count": 35,
   "metadata": {},
   "outputs": [
    {
     "data": {
      "text/html": [
       "<strong id=\"g__c_1_to_i\">g__c_1_to_i:</strong> <a class=\"ProveItLink\" href=\"__pv_it/e14e27231dc40f19a6dc189d27bece9518c3c6120/expr.ipynb\"><img src=\"data:image/png;base64,iVBORw0KGgoAAAANSUhEUgAAAG0AAAAVBAMAAAC+p33JAAAAMFBMVEX///8iIiK6urpUVFTMzMzu\n",
       "7u5EREQQEBAyMjJ2dnaYmJjc3NyIiIhmZmaqqqoAAABI0TZoAAAAAXRSTlMAQObYZgAAAAlwSFlz\n",
       "AAAOxAAADsQBlSsOGwAAAX1JREFUOMuVUzFLw1AQ/lryoklqqaBjRXBV6OYiKPgH3lhEaH6AQ6ZM\n",
       "DlncM3RwcOgqItTBpVPASQiiDg6CtA6OYgcFtSreuyRtSmhJH+Rxd999yd13OWB4LOQ97THvJjdv\n",
       "Pe2U/dy8Ui/l1JH/HKXsxxl45ynbmYE3J4dm0ZuBN9+i6zXs0L2gZDHC5tT8BDdq9HiWG7/CWsHD\n",
       "NBrjgqZnUnFvEj8UK5C2BR+H2JtcMONGQDOrAC60gWp1FehSu1pYmcjrJnJofWh/KDkxz+X5T+a5\n",
       "QxEdmAPoNdVfD+JrOo/x4lWUY/bRUKrqVPY3hZknsiRVosKNBlmmDTHAtoylfQKazGuQNuITkTHy\n",
       "FH75rIZGH1m7vuOSKd04CSXzCssUqSoFb5NrUcb4gYrwJlW5kKVkL1R/L5k6y7GW4mMHuAB2pfY+\n",
       "9q8yL7tTRgJ7Pu/ApqwHHNCjLbaOfwOIIMPbT0TdasOygY3T+zhgj5LMrJ6tlK3LNNLJvQ5nwD/D\n",
       "QVZ9aDe8JAAAAABJRU5ErkJggg==\n",
       "\" style=\"display:inline;vertical-align:middle;\" /></a><br>"
      ],
      "text/plain": [
       "g__c_1_to_i: g(c_{1} ,  ...  , c_{i})"
      ]
     },
     "execution_count": 35,
     "metadata": {},
     "output_type": "execute_result"
    }
   ],
   "source": [
    "g__c_1_to_i = Function(g, c_1_to_i)"
   ]
  },
  {
   "cell_type": "code",
   "execution_count": 36,
   "metadata": {},
   "outputs": [
    {
     "data": {
      "text/html": [
       "<strong id=\"f__x_1_to_n\">f__x_1_to_n:</strong> <a class=\"ProveItLink\" href=\"__pv_it/089404aaf6e0d7d9cc20076bc4277bbc237d68370/expr.ipynb\"><img src=\"data:image/png;base64,iVBORw0KGgoAAAANSUhEUgAAAHgAAAAVBAMAAAB/IDdlAAAAMFBMVEX///8yMjLc3NyIiIiYmJgi\n",
       "IiJERES6urqqqqoQEBDMzMxUVFTu7u52dnZmZmYAAAD1zdHuAAAAAXRSTlMAQObYZgAAAAlwSFlz\n",
       "AAAOxAAADsQBlSsOGwAAAYpJREFUOMtjYIADJgaSAKpyC9I0sxuAKb67B4AkxwXSNEMtu72yAUge\n",
       "JFEvAyPISoYZZSDqCamaWR6AHP8HzJ5AqmaGOUDMGwD2vwDJmkWAtu+MBtnPBwwvHuM9a2/gVY+i\n",
       "4jYQ84PDnNEBaACDtcFTvJpRVDgCsf4CEIsVGOJODPYKWxh4HHFrhqiAglYg7gezOAsYGBYwJAJZ\n",
       "i01xa4aogIL1QHwVrpmB4TPMRJzgM4JZCcTZkCgHJRT2Twxn8GsGq/DzMn4AtWQyWJTNgIEnnfsD\n",
       "wwWIIA9mQIMwRIX7FIZJQJ4bMHf8AsvxbmDg+HVuAnsDRPN5YLTzfERnQFQwHQ5gACWsx0CBDxD3\n",
       "BDDwPDbo84A6hzUGSMSBGA9gDKAIVAW3ATsoPQYBo24DxFlRDMhRwNCD4W6ECOcCvgsLGJgCGLrB\n",
       "IQUEfqiaMTMoQkSfgbViAQOfA0MYLCuyKUAZuvJAz/AYYAQYQqSagfkKA4MaA4PzI5hkAkp+w8yB\n",
       "6AI5yBwVErOzAgMAXHVfTwHxaFwAAAAASUVORK5CYII=\n",
       "\" style=\"display:inline;vertical-align:middle;\" /></a><br>"
      ],
      "text/plain": [
       "f__x_1_to_n: f(x_{1} ,  ...  , x_{n})"
      ]
     },
     "execution_count": 36,
     "metadata": {},
     "output_type": "execute_result"
    }
   ],
   "source": [
    "f__x_1_to_n = Function(f, x_1_to_n)"
   ]
  },
  {
   "cell_type": "code",
   "execution_count": 37,
   "metadata": {},
   "outputs": [
    {
     "data": {
      "text/html": [
       "<strong id=\"f__y_1_to_n\">f__y_1_to_n:</strong> <a class=\"ProveItLink\" href=\"__pv_it/2e0fc47c38f88160b42eee284994398aba7c68fc0/expr.ipynb\"><img src=\"data:image/png;base64,iVBORw0KGgoAAAANSUhEUgAAAHQAAAAVBAMAAABlHNfrAAAAMFBMVEX///8yMjLc3NyIiIiYmJgi\n",
       "IiJERES6urqqqqoQEBDMzMxUVFTu7u52dnZmZmYAAAD1zdHuAAAAAXRSTlMAQObYZgAAAAlwSFlz\n",
       "AAAOxAAADsQBlSsOGwAAAZ9JREFUOMuVU7FKA0EQfTmTnCGXM4W9KcROciCCNiFBULAIQcFCRdJr\n",
       "kUoUmwNJIQqKsbCwOLCySlqLgJLKyhRaBSExfoCKlVg4M3un0SOBW5jd2dn3dmZnZ4CfoSHA+Aue\n",
       "CULVLVnMpxuah5tBqK6j1pVN820gJkLsDufbvLwEo4bbHPaX6CfBqLggSRTk3cmA1FHyfL3Gvk3K\n",
       "UqMLozYI3gtokYxInkNZoHmA8Osgai8gR5J2WIvY0OwO4kUj178OBOBuyiTHosVKMFBBzLqc7ktV\n",
       "AHdTJXn0qJzrqiPX9ashAaixS7KpvpjKwkxiFoOoAsgvTrXdgCtijVIg0RrfU5bQ/MHCBSyc4ZT0\n",
       "eXr7pxwlKOlmTf9Q1Hv6ZePtvyIArVEAF1GXyl5lW6fCMOqZd0WNrNO0wUrbU9gigLilc+Ut8U0q\n",
       "olXxnXTfeuSLWFkIEHPMpgOtgEPOD4880MGd7VL9HcgWAaQR2XFgZrHiNVs0hWXUgckxeoVh+dLE\n",
       "FgHsYegBmADmnr2zIvYzJa+l/E3G0y8AW72H44HaNYVv1etl9Zit5p0AAAAASUVORK5CYII=\n",
       "\" style=\"display:inline;vertical-align:middle;\" /></a><br>"
      ],
      "text/plain": [
       "f__y_1_to_n: f(y_{1} ,  ...  , y_{n})"
      ]
     },
     "execution_count": 37,
     "metadata": {},
     "output_type": "execute_result"
    }
   ],
   "source": [
    "f__y_1_to_n = Function(f, y_1_to_n)"
   ]
  },
  {
   "cell_type": "code",
   "execution_count": 38,
   "metadata": {},
   "outputs": [
    {
     "data": {
      "text/html": [
       "<strong id=\"A_1_to_l\">A_1_to_l:</strong> <a class=\"ProveItLink\" href=\"__pv_it/f22ad1b8578328e1f093aec6a87d7053cf5e0b3f0/expr.ipynb\"><img src=\"data:image/png;base64,iVBORw0KGgoAAAANSUhEUgAAAFwAAAATBAMAAADvz3fSAAAAMFBMVEX///8QEBAiIiLu7u5ERES6\n",
       "urqYmJiIiIjMzMx2dnZUVFRmZmaqqqoyMjLc3NwAAABb1yYoAAAAAXRSTlMAQObYZgAAAAlwSFlz\n",
       "AAAOxAAADsQBlSsOGwAAASBJREFUKM9jYACBtwwEAd8FBPs+YeW8H+BMnv+ElZ9HKOde/4Cg8l3/\n",
       "4Mx58xsIqeZ8+QPui4L6A4SUP2f/A3cLw/kEQso38HyDMWMY+icQUM16gOMnXCfD+wUMDGYX8Cjn\n",
       "ZuD7xcBgBQoddu/d6x0YOMoV8Cgv2b3rCzDAQSaaMzDwA5Xy4FHOXMDA8AloxwSwWxiYBPAr5wZi\n",
       "RaCyAKAvEiAxDFLOjKnSAESEQRKKPZB6CMQs/yDK7YGOY/7LACXgPD6g5Qz+DxjOMjCY/L/MwOP/\n",
       "dwJYOZMyUFybAUowAZ3JoGTAwOz/14DhyP+bDDuRbAW7/TCGY3gMEGxVAzTlmNHFiRQ+HwoQyX/u\n",
       "7wJwgKEBcyT28gBUOTbMkEFNTQBSwkXBGObikQAAAABJRU5ErkJggg==\n",
       "\" style=\"display:inline;vertical-align:middle;\" /></a><br>"
      ],
      "text/plain": [
       "A_1_to_l: A_{1},...,A_{l}"
      ]
     },
     "execution_count": 38,
     "metadata": {},
     "output_type": "execute_result"
    }
   ],
   "source": [
    "A_1_to_l = varRange(A, one, l)"
   ]
  },
  {
   "cell_type": "code",
   "execution_count": 39,
   "metadata": {},
   "outputs": [
    {
     "data": {
      "text/html": [
       "<strong id=\"A_1_to_m\">A_1_to_m:</strong> <a class=\"ProveItLink\" href=\"__pv_it/2eeecb9e8aa879f029f841b392d63dbb5c4c981e0/expr.ipynb\"><img src=\"data:image/png;base64,iVBORw0KGgoAAAANSUhEUgAAAGUAAAATBAMAAAB7Kd4gAAAAMFBMVEX///8QEBAiIiLu7u5ERES6\n",
       "urqYmJiIiIjMzMx2dnZUVFRmZmaqqqoyMjLc3NwAAABb1yYoAAAAAXRSTlMAQObYZgAAAAlwSFlz\n",
       "AAAOxAAADsQBlSsOGwAAATVJREFUKM9jYACBtwwEAd8FNIH7hPXwfkDl8/wnrOc8mh7u9Q8I6tn1\n",
       "D5U/b34DIS2cL3+geq+g/gAhPc/Z/6A6jeF8AiE9G3i+ofBjGPonENDCeoDjJ6oZDO8XMDCYXcCj\n",
       "h5uB7xcyn91793oHBo5yBTx6Snbv+oLMN2dg4Aeq58Gjh7mAgeETqtMYmATw6+EGYkUGhuyM8gVl\n",
       "K0DeS4AkDJAeA0wbwGQYJH2lijFIMVQB2Q+BmOUfWA/zX5AqEGF/AYnBwAd0BoP/Az5zBYavDDsZ\n",
       "GEz+X2bg8f87AWyPEsgibSBm2gBjKAM1+/81YDjy/yYDVwGHAIMOckIFhQOm4w4jsRkb2B34PjSg\n",
       "6uHE9D5ybL8H2sTmgBDhm/u7ABTsWEIZDqIYeB/wLUdzC2ayY8MS8gA6vEvz34oTJQAAAABJRU5E\n",
       "rkJggg==\n",
       "\" style=\"display:inline;vertical-align:middle;\" /></a><br>"
      ],
      "text/plain": [
       "A_1_to_m: A_{1},...,A_{m}"
      ]
     },
     "execution_count": 39,
     "metadata": {},
     "output_type": "execute_result"
    }
   ],
   "source": [
    "A_1_to_m = varRange(A, one, m)"
   ]
  },
  {
   "cell_type": "code",
   "execution_count": 40,
   "metadata": {},
   "outputs": [
    {
     "data": {
      "text/html": [
       "<strong id=\"B_1_to_m\">B_1_to_m:</strong> <a class=\"ProveItLink\" href=\"__pv_it/bd79dabdf140cf43dfbe2c669f9a0bb7b0439b280/expr.ipynb\"><img src=\"data:image/png;base64,iVBORw0KGgoAAAANSUhEUgAAAGYAAAASBAMAAABbQraGAAAAMFBMVEX///92dnaqqqoiIiLu7u5m\n",
       "Zma6urqIiIjc3NwQEBDMzMwyMjJUVFRERESYmJgAAAAeMT9/AAAAAXRSTlMAQObYZgAAAAlwSFlz\n",
       "AAAOxAAADsQBlSsOGwAAAR5JREFUKM9jYGB4+//Omb0LGPACDDVzGRh4fuHXg66G4zsDA9tX/FrQ\n",
       "1fAB9fN9x68HXQ3PBwYG7hn49aCr4bzAwHKYQBigq1l/vfz0AwJBgK6mvoGBaR4Dg98GPHqgauDg\n",
       "JhDLL+AqN8CjB6IGwf8DxO8LGJjw6YGqgQGuf0DifAJePVA1fHHLa9jfAK1j/wEU+80A1sOCqdwB\n",
       "REDV8GU+4DzAfgAY7BMYGDK3QPT4g8IBRLD8RmbA1LQUM/AnsAow8Oz/c+b0JQaIHmYTIIM5AEiY\n",
       "whjGQIvgao4zrGRgVkA4AuwfFQy3MTkgcWYx1DL0c6HpEcDQw4icUj8AbXqLEOGQ/lrAwFKAoccd\n",
       "ic12gGEHQ08JWvLFDDcsqQoA4sZhGr9k2B0AAAAASUVORK5CYII=\n",
       "\" style=\"display:inline;vertical-align:middle;\" /></a><br>"
      ],
      "text/plain": [
       "B_1_to_m: B_{1},...,B_{m}"
      ]
     },
     "execution_count": 40,
     "metadata": {},
     "output_type": "execute_result"
    }
   ],
   "source": [
    "B_1_to_m = varRange(B, one, m)"
   ]
  },
  {
   "cell_type": "code",
   "execution_count": 41,
   "metadata": {},
   "outputs": [
    {
     "data": {
      "text/html": [
       "<strong id=\"B_1_to_n\">B_1_to_n:</strong> <a class=\"ProveItLink\" href=\"__pv_it/f22133b70c5f32b25ac2b3540d6263d15cad15df0/expr.ipynb\"><img src=\"data:image/png;base64,iVBORw0KGgoAAAANSUhEUgAAAGEAAAASBAMAAAC5nq3/AAAAMFBMVEX///92dnaqqqoiIiLu7u5m\n",
       "Zma6urqIiIjc3NwQEBDMzMwyMjJUVFRERESYmJgAAAAeMT9/AAAAAXRSTlMAQObYZgAAAAlwSFlz\n",
       "AAAOxAAADsQBlSsOGwAAAUZJREFUKM9jYGB4+//Omb0LGPABvvt/z5y+heDPZWDg+YVXBwPnBQaG\n",
       "83BTOb4zMLB9xa+jv4CBIT8AbiXQfL7v+HW8B5r/vgDG4/nAwMA9A7+O80C8swHJjSyH8fsc5FUf\n",
       "Kzhv/fXy0w/wa+D6W16zD8Gtb2BgmsfA4LcBtw72HwwMmghTbwKx/AKucgPcOngnMDAwIiLgDwM4\n",
       "HJjw6OA/gBycXP9AYZGAV8d6oIt4vjE8fVUeAHUj128GsA4WTMUOUK8yrN/A8GweAygWuIFuzNwC\n",
       "0eEP9D0LUDeCASYYdgJTxWwHDncDhi9Ay/b/OXP6EgNEB7MJkGEKxMwBUAaDMdCS0//PnNmrAFRb\n",
       "wDYByXqwP1QwXMXkgJQeF7AKLEDTIYChgxE5PTIwJyF0cEh/LWBgKcDQ4Y7EzmFgl0PPOZhhhZF+\n",
       "AG1KW1tmtjLUAAAAAElFTkSuQmCC\n",
       "\" style=\"display:inline;vertical-align:middle;\" /></a><br>"
      ],
      "text/plain": [
       "B_1_to_n: B_{1},...,B_{n}"
      ]
     },
     "execution_count": 41,
     "metadata": {},
     "output_type": "execute_result"
    }
   ],
   "source": [
    "B_1_to_n = varRange(B, one, n)"
   ]
  },
  {
   "cell_type": "code",
   "execution_count": 42,
   "metadata": {},
   "outputs": [
    {
     "data": {
      "text/html": [
       "<strong id=\"C_1_to_m\">C_1_to_m:</strong> <a class=\"ProveItLink\" href=\"__pv_it/96a4ff7460bf87a34bcea875c20429180c4c19400/expr.ipynb\"><img src=\"data:image/png;base64,iVBORw0KGgoAAAANSUhEUgAAAGMAAAASBAMAAAC9a33CAAAAMFBMVEX////MzMy6uroyMjJmZmYi\n",
       "IiKqqqoQEBB2dnbc3NyYmJhUVFRERESIiIju7u4AAACU7+9TAAAAAXRSTlMAQObYZgAAAAlwSFlz\n",
       "AAAOxAAADsQBlSsOGwAAAUZJREFUKM9jYGDgu7N7F2cDA17w9vTuBTMQ3Ov3GNhaF+DVwVv7gCEj\n",
       "Cs59Ewck/Cfg08F39AEDA8tPON8cyGVQx2sJcx2QYCqAcTm+gUgRvFr6E4AEowOMOz8ARD7Ep4Pz\n",
       "K9h1AnATLjAQAhx/UfnxUM2vDHBqYf2Iyq8H+Z7hAePdAJxa2P+BHYawBUSwCTCw4dbC+gFEJsL5\n",
       "4BjhYMCnBRIjDQxLFt7dcGsjMMRA3u+DaOHDVA5yNifI+xwPGBZVMVQz3AYq/cXAkPEAouU9KAhA\n",
       "BN9nZAZD/gIGtj4GzrcBDJ8YPID8J6e3KDBAtLCC0g4rKMpCYIxQkDV8PrudgBT3BcYChjCEC8B+\n",
       "ycNwGNsDpJAT4D3A+UEAVQtmFuBAYs8H2sN1AK6Gs/nLBQY+zJTwFomtzcA8gXPvAxR5LswQw5KP\n",
       "AFiVVN511LFyAAAAAElFTkSuQmCC\n",
       "\" style=\"display:inline;vertical-align:middle;\" /></a><br>"
      ],
      "text/plain": [
       "C_1_to_m: C_{1},...,C_{m}"
      ]
     },
     "execution_count": 42,
     "metadata": {},
     "output_type": "execute_result"
    }
   ],
   "source": [
    "C_1_to_m = varRange(C, one, m)"
   ]
  },
  {
   "cell_type": "code",
   "execution_count": 43,
   "metadata": {},
   "outputs": [
    {
     "data": {
      "text/html": [
       "<strong id=\"C_1_to_n\">C_1_to_n:</strong> <a class=\"ProveItLink\" href=\"__pv_it/81bed46b4f7edc41cfaf61ad6081642d589d59fe0/expr.ipynb\"><img src=\"data:image/png;base64,iVBORw0KGgoAAAANSUhEUgAAAF4AAAASBAMAAAAgZnRKAAAAMFBMVEX////MzMy6uroyMjJmZmYi\n",
       "IiKqqqoQEBB2dnbc3NyYmJhUVFRERESIiIju7u4AAACU7+9TAAAAAXRSTlMAQObYZgAAAAlwSFlz\n",
       "AAAOxAAADsQBlSsOGwAAAP5JREFUKM9jYGDgu7N7F2cDAz6AouT6PQa21gV41SMreRMHJPwn4FOO\n",
       "osT8AZBQx2s8shKObyBSBJ9yFCXzA0DkQ3zqUZT0X2AgBFCUxAtA6FcGONXDlIBBPcgvDA8Y7wbg\n",
       "VA9VAtUMItgEGNhwq4cpAQNwsHIw4FMPVcLlJXsF6HmQZ/og6vkw1YJcAVXCpb6AfQID2y8GhowH\n",
       "EPXvgX7m+8yAxAATUCXzrjLwAxU+Ob1FgQGinhUU7yFAzOoAZTCEgiyAKtmLnAzA7s/DcA/bAwS7\n",
       "kMGDEVU9ZqrmQDA5PzAEJcI5zV8uMPBhxvVbBJNpA8MN1GTPhRk+6PkCANjaTv9LIP7mAAAAAElF\n",
       "TkSuQmCC\n",
       "\" style=\"display:inline;vertical-align:middle;\" /></a><br>"
      ],
      "text/plain": [
       "C_1_to_n: C_{1},...,C_{n}"
      ]
     },
     "execution_count": 43,
     "metadata": {},
     "output_type": "execute_result"
    }
   ],
   "source": [
    "C_1_to_n = varRange(C, one, n)"
   ]
  },
  {
   "cell_type": "code",
   "execution_count": 44,
   "metadata": {},
   "outputs": [
    {
     "data": {
      "text/html": [
       "<strong id=\"D_1_to_n\">D_1_to_n:</strong> <a class=\"ProveItLink\" href=\"__pv_it/9300681fa79c1d62f13ae346b62c3c11acca997f0/expr.ipynb\"><img src=\"data:image/png;base64,iVBORw0KGgoAAAANSUhEUgAAAGQAAAASBAMAAABft2a7AAAAMFBMVEX///8iIiLu7u52dna6uroQ\n",
       "EBBmZmbMzMyqqqqYmJjc3NwyMjJUVFRERESIiIgAAABmmfmVAAAAAXRSTlMAQObYZgAAAAlwSFlz\n",
       "AAAOxAAADsQBlSsOGwAAATpJREFUKM9jYGB4+//O2T0LGPACvvt/z9w+heD/ZmDg/IFfCwP/BgaG\n",
       "+Q0wHvs/IJFKQEv9AwYGtgC4pd+BhP8E/FreFzAwsPyE8Xg/AIn1Bvi13Adirs9wZ14A2XIAv5a/\n",
       "QMzyB9mZDO/x2wL2L99nZGcynHdgmo0vkEH+5fmC7EyGrwx1D/FoAfuXPwDZmZzAwGjEFy0g/86f\n",
       "gOxM1Qv4tYD8yxTLwJlZ9wzqTKbdDBAtTJiqFWD+1d7AwOk6gRWYtLiBznRMgGrRB6YLpt/IDDDB\n",
       "sB8YxGIMDIseMvArMPDs/3PmbhYDVAujEJAQAzESoAwGQaA1p/+fOXsNlHLPMbgiuwDslyYMh3Eo\n",
       "IHHCGZLZ0bVgxigzEpvrA4NIO4K7eH8e0OUPMLToIbFZDjA8Rk+/nJghhpHEAWKlWWX0jakzAAAA\n",
       "AElFTkSuQmCC\n",
       "\" style=\"display:inline;vertical-align:middle;\" /></a><br>"
      ],
      "text/plain": [
       "D_1_to_n: D_{1},...,D_{n}"
      ]
     },
     "execution_count": 44,
     "metadata": {},
     "output_type": "execute_result"
    }
   ],
   "source": [
    "D_1_to_n = varRange(D, one, n)"
   ]
  },
  {
   "cell_type": "code",
   "execution_count": 45,
   "metadata": {},
   "outputs": [
    {
     "data": {
      "text/html": [
       "<strong id=\"P__x_1_to_n\">P__x_1_to_n:</strong> <a class=\"ProveItLink\" href=\"__pv_it/e92d6dc421af33c14da2348b5e1b44b674f757590/expr.ipynb\"><img src=\"data:image/png;base64,iVBORw0KGgoAAAANSUhEUgAAAHwAAAAVBAMAAAB2y5cfAAAAMFBMVEX///+YmJgiIiLc3Ny6urp2\n",
       "dnaqqqrMzMwQEBDu7u5mZmYyMjJUVFRERESIiIgAAACzCz+6AAAAAXRSTlMAQObYZgAAAAlwSFlz\n",
       "AAAOxAAADsQBlSsOGwAAAZtJREFUOMtjYEACzAwkAXTlz0jTzvIARL79f+fsrglABlsAadqh1v1m\n",
       "YODtBNKzSdTNwA2ylP0f0GIgZlhIqnbGBUCC7zsQfwUyGkjVzgByM+8HIAYawbKBZO0bgZj/AgOD\n",
       "PzAQuYAhx/nuZGkYXh0oKmKAuP4Bg6kaKCAEgEYwvHmwCK92FBXSQPz+aKgIiM2UwMAgzPDe4CAD\n",
       "pzRu7RAVUJAExPehbA4HBoYChttAVt0j3NohKqCgHhLtcO0MDP9gpuIE/xBMD2C0f4UlggRQQvzM\n",
       "MBO/drAKKfF3CyDW8H2BivM+YOC8wvOBIQCifQJmoIMwRIVII0MzkCcLtPQDVJb1AAPb91kNLAlg\n",
       "7ZwgP4GJ+RuQGBAVzPMUGH4CRdYx8Oz/+wDqKgUGznUPssSgflcCWa8FipEFMIYmA0wFzwMWUBpV\n",
       "RnacOgNyhLBhuj4TzuIo4AooYGBWQJaVQtHOihlqiAxtz8DkVsDAJYAsy2sAZZjuX8fAMA8z6B7A\n",
       "mT4MfIEMDLao0heQeQKY+RNd4CYq15DE7G7AAAC0fmhIHreECQAAAABJRU5ErkJggg==\n",
       "\" style=\"display:inline;vertical-align:middle;\" /></a><br>"
      ],
      "text/plain": [
       "P__x_1_to_n: P(x_{1} ,  ...  , x_{n})"
      ]
     },
     "execution_count": 45,
     "metadata": {},
     "output_type": "execute_result"
    }
   ],
   "source": [
    "P__x_1_to_n = Function(P, x_1_to_n)"
   ]
  },
  {
   "cell_type": "code",
   "execution_count": 46,
   "metadata": {},
   "outputs": [
    {
     "data": {
      "text/html": [
       "<strong id=\"P__y_1_to_n\">P__y_1_to_n:</strong> <a class=\"ProveItLink\" href=\"__pv_it/b8af6ddb35b6bb91fcceabb17ff7b91e582b4ef30/expr.ipynb\"><img src=\"data:image/png;base64,iVBORw0KGgoAAAANSUhEUgAAAHkAAAAVBAMAAACQ4lxbAAAAMFBMVEX///+YmJgiIiLc3Ny6urp2\n",
       "dnaqqqrMzMwQEBDu7u5mZmYyMjJUVFRERESIiIgAAACzCz+6AAAAAXRSTlMAQObYZgAAAAlwSFlz\n",
       "AAAOxAAADsQBlSsOGwAAAaxJREFUOMuVUztLxEAQ/nKned3DgFY2ioiglQgKtlaC4F1jpYiNiJ2/\n",
       "QK8QxUZi7xO8SsGzEbTxGssTwVZ0EWwE9QpFUHzMbBJNjHewAzOZ3fm+yZfdDBC2XijYX3B2SoU9\n",
       "KuPD11XlxOVsWoUcvOsdyKzQ0yopsXHMwfgEdHLYjhq7VSp4JX+hxFQjw+TPzVTJqQNGFNkp1tp0\n",
       "AeQEJUX69HuB9XqMMKCxTGFBoL+LV4e0oRfQVo8dBmh8yk9nYy1yRS0G7BIqWKt9+B7AM72dwk1Q\n",
       "WQRcU2DVeGyvyZYAPzeq3nX/sJFzjVevaQ2TAM8aCtThJSgcke8hW6jLZoC2M3/vK88+B4Vr8itk\n",
       "ynLb+kc1fIA27Jg0IxpdVqoaVCfI95FzJHuLT46D9R5OJGDwFk3UyhZIn34Inz1Evj550CvZiW5a\n",
       "JbYp9ARJhxsAzjHMm5EZTcxxHPevYjamXJfSGbCMogH0RaraNuySteSz8/E/hSeJAckqOmeAnWj5\n",
       "EgmRziM5/iZgiRh7k/UxoKGMOwfJi2h5A/rjbiAkfuY8FL8AZNxoOak04M3ANwdubm7rzs5BAAAA\n",
       "AElFTkSuQmCC\n",
       "\" style=\"display:inline;vertical-align:middle;\" /></a><br>"
      ],
      "text/plain": [
       "P__y_1_to_n: P(y_{1} ,  ...  , y_{n})"
      ]
     },
     "execution_count": 46,
     "metadata": {},
     "output_type": "execute_result"
    }
   ],
   "source": [
    "P__y_1_to_n = Function(P, y_1_to_n)"
   ]
  },
  {
   "cell_type": "code",
   "execution_count": 47,
   "metadata": {},
   "outputs": [
    {
     "data": {
      "text/html": [
       "<strong id=\"P__x_1_to_np1\">P__x_1_to_np1:</strong> <a class=\"ProveItLink\" href=\"__pv_it/4fee9909d71cc170f036f74699faa35b84119b6d0/expr.ipynb\"><img src=\"data:image/png;base64,iVBORw0KGgoAAAANSUhEUgAAAJEAAAAVBAMAAAC01xHeAAAAMFBMVEX///+YmJgiIiLc3Ny6urp2\n",
       "dnaqqqrMzMwQEBDu7u5mZmYyMjJUVFRERESIiIgAAACzCz+6AAAAAXRSTlMAQObYZgAAAAlwSFlz\n",
       "AAAOxAAADsQBlSsOGwAAAeNJREFUOMtjYEAGBgxkAnSNfAnkmuQHJt/+v3N21wQQK5Vcg2Bu+M3A\n",
       "wNsJpDk3kG0Sw04Qwf6PgYENiBm4BMg3SQrssu9A/BXI4CDfIAYOUPDwfgBioGkM3hSYxA3yD/8F\n",
       "Bgb/B0DGUiCe92Z6KN4Y5Hx3sjQMU5j1AJCof8BgqgbibQTiBXznuBTwmcTF8ObBIkxhRlBsvT8a\n",
       "KgLmAY1jNOD7zCPAMBF3LAozvDc4iCICVswGsv4+TKgFGI8MvEBx9ne4nVXAcBvZgTDF7B8gyQlu\n",
       "EjDUHsBswAX+IZi8DDDFLA1A077CxLeBCH8Dzgl4TWL5zDCTQUr83QIUk0AE3xeYmnsMDHMdzjOw\n",
       "QsQ5MQ0BphnOKzwfGAIYRBoZmlFMYgQmAO4PMIUxDAz5lSsY3CCS84EBxgnyOYgB57F9n9XAksA8\n",
       "T4HhJ4pJXA8YePb/fQA1yYmBYdY7toUJEEkmTaCQFhAzLYARShMYONc9yBJjYOB5AAyYtXdv3L0r\n",
       "ADGJCaVcYSqAscCSmRi+Y5sAzxwFXAEFyG4yQk1dC1BMCsBMyHCWPQOTG4pJC1FVXobSzNG/HjBw\n",
       "PsAwaR6c5cPAFwgNJ7Bi5guoKueiuBAz7jBKHV44YwKqBDOpBRQXIg8xAABPEXIBoO8dxgAAAABJ\n",
       "RU5ErkJggg==\n",
       "\" style=\"display:inline;vertical-align:middle;\" /></a><br>"
      ],
      "text/plain": [
       "P__x_1_to_np1: P(x_{1} ,  ...  , x_{n + 1})"
      ]
     },
     "execution_count": 47,
     "metadata": {},
     "output_type": "execute_result"
    }
   ],
   "source": [
    "P__x_1_to_np1 = Function(P, x_1_to_np1)"
   ]
  },
  {
   "cell_type": "code",
   "execution_count": 48,
   "metadata": {},
   "outputs": [
    {
     "data": {
      "text/html": [
       "<strong id=\"Q__x_1_to_n\">Q__x_1_to_n:</strong> <a class=\"ProveItLink\" href=\"__pv_it/67d2eb865da7090ecade1f9a3fab8093b93ea9630/expr.ipynb\"><img src=\"data:image/png;base64,iVBORw0KGgoAAAANSUhEUgAAAHwAAAAVBAMAAAB2y5cfAAAAMFBMVEX///+IiIiqqqq6uroiIiIQ\n",
       "EBBERETu7u7MzMwyMjKYmJhUVFRmZmZ2dnbc3NwAAABtgPhfAAAAAXRSTlMAQObYZgAAAAlwSFlz\n",
       "AAAOxAAADsQBlSsOGwAAAbpJREFUOMuVUztIA0EQfclFT80Zzk9n4RWijYUIVjYpBC1EbUQQEcFC\n",
       "LARTiAiCZy2SFFY2EQUxEMROsDGCNlokCBb+8CoLQTSFGC3Umd2T83IY2IHbfTv73uzM3C7wx2JQ\n",
       "snJ6o5pcM0WQu/sjsQwX1OTyuGsb0RSDJUU1audJNEVgglfnqvK6HLDB4JiHEVU5xmCUeH6wqRMp\n",
       "ZfkmXjh35LsAgzqnNxyuX1ZU+Bi3yFs8px1qxBaFQIt5WlHuY2Qw7HDINxoiFGgfrc4R9Mz/cslw\n",
       "rQ3fooWfNFRRATZmCa02/y+XDNeS6ONpIeXKgaKMWsGKHuyhX6ZZOOMKarkL2hcWK8sFI7vXkBPH\n",
       "JK2mRN0k+6tN6NPRVxSkXA82nT/J2BkHa3YRmjSNi3nerT9AuLQ8QskI+QoVpH+UA8mIJeJ4J88J\n",
       "sDZ31UUNoazi0E/Mzm239kg/DYMMcr+APC4jamp8R4dE1lZIHD8A74eQdQSy9zxVtlGwEYsL+UG7\n",
       "8GX98uDz9TwviHTbMLbERfoW9x7Vjrv5nKaidDPQOs/Ti9AN8Chwzaglt6d8rzH4PssdM/7lk+Jz\n",
       "d/ADBBloxTWnMSEAAAAASUVORK5CYII=\n",
       "\" style=\"display:inline;vertical-align:middle;\" /></a><br>"
      ],
      "text/plain": [
       "Q__x_1_to_n: Q(x_{1} ,  ...  , x_{n})"
      ]
     },
     "execution_count": 48,
     "metadata": {},
     "output_type": "execute_result"
    }
   ],
   "source": [
    "Q__x_1_to_n = Function(Q, x_1_to_n)"
   ]
  },
  {
   "cell_type": "code",
   "execution_count": 49,
   "metadata": {},
   "outputs": [
    {
     "data": {
      "text/html": [
       "<strong id=\"Q__y_1_to_n\">Q__y_1_to_n:</strong> <a class=\"ProveItLink\" href=\"__pv_it/a1a964fe713e9f2ae9d94341de2434b33ceeb4290/expr.ipynb\"><img src=\"data:image/png;base64,iVBORw0KGgoAAAANSUhEUgAAAHgAAAAVBAMAAAB/IDdlAAAAMFBMVEX///+IiIiqqqq6uroiIiIQ\n",
       "EBBERETu7u7MzMwyMjKYmJhUVFRmZmZ2dnbc3NwAAABtgPhfAAAAAXRSTlMAQObYZgAAAAlwSFlz\n",
       "AAAOxAAADsQBlSsOGwAAAcNJREFUOMuVkztIA0EQhv94SU6TM5yvzuIEH20QrGwiCFqIj0IEkZDO\n",
       "QoSksLDyrC1yhZWNgiAGUqQWxFhYRIuksfCFqSwEiY34KIwzsydGYwK3xezs3P/tzsztAjUjAg/j\n",
       "r7jTC6yZssXt3ZEsW0peYHXUlY2ww866JxZtSUIS5Czx6twbHMoD2+ycsJn1BmMBxhvP9zZ1wPEI\n",
       "76DCWaMYBQzqV+oUeq4ZUCu4QdHiebdMDdgDSgMIPTeDawUZzBAG/YWM30LEKiCc0DONb4YI3EU/\n",
       "qtK4DzKBKHTMIWBudjeElcBdpDHO05qjYGivSNu0ZeN7JQI1RugnaRbOOPc2qt5w0INmsAiyhx15\n",
       "STttdaVCcY4HKZ1gDisK1v9JGa5gfxFMHMAXN42LJMfb6RcYOe1DwRtUif7+1xFBJBXDK/mnwNbq\n",
       "ZRRchhYj1XHvp4L9E2Sm2Ml/OxwRQdjU+DZOSyqWT46elPMdt+ahurxVhAQB2yjZiMRUHYMSzgIF\n",
       "rFkuXP8+OSKCCvzDNow96WBV7jeCZYzhGHjapWp0s65hHBHBKHzXwINEW+ct9TWBvt7o94Orf4Js\n",
       "fgRY/v350dNzLuMLegBsd/E0kHMAAAAASUVORK5CYII=\n",
       "\" style=\"display:inline;vertical-align:middle;\" /></a><br>"
      ],
      "text/plain": [
       "Q__y_1_to_n: Q(y_{1} ,  ...  , y_{n})"
      ]
     },
     "execution_count": 49,
     "metadata": {},
     "output_type": "execute_result"
    }
   ],
   "source": [
    "Q__y_1_to_n = Function(Q, y_1_to_n)"
   ]
  },
  {
   "cell_type": "code",
   "execution_count": 50,
   "metadata": {},
   "outputs": [
    {
     "data": {
      "text/html": [
       "<strong id=\"Q__z_1_to_n\">Q__z_1_to_n:</strong> <a class=\"ProveItLink\" href=\"__pv_it/aa00161fa77a4a9cd57d2cb0f840d24c61655b1e0/expr.ipynb\"><img src=\"data:image/png;base64,iVBORw0KGgoAAAANSUhEUgAAAHcAAAAVBAMAAACOK2zoAAAAMFBMVEX///+IiIiqqqq6uroiIiIQ\n",
       "EBBERETu7u7MzMwyMjKYmJhUVFRmZmZ2dnbc3NwAAABtgPhfAAAAAXRSTlMAQObYZgAAAAlwSFlz\n",
       "AAAOxAAADsQBlSsOGwAAAbxJREFUOMuVlLFLw0AUxr8mNWljGot2tJBBxbEOLk6CHToIuggKUtI/\n",
       "QIiDgyAYQVwcjCg4mlUQqauLOoigSDuoICh2EAoFsYugLnrvkkZJMJCDXL58ye/eu3t3Af40DTFa\n",
       "I/DcGwceceM9Pp1wIdTjwAmd+gcL3TaJZcRqe4QYrJunp6t48CG7dkmcUjcdD+4yoX6QeLYA0Y4H\n",
       "px28UdaoFQCV1mu9pDlRRKpotTyZqaLGF22/wUcCtu/7o8PlK2eeVGxMUbHld9Yl2TCaiTrkg//h\n",
       "JjIdKYzjmw/yRQtQILliYi0XEVq+9GfQRpHuS3YH1mjiAxHwq6/EaVYkUccF5Z7W+aaTI2ExC1O5\n",
       "Wut3097S+xaVMvlSlr1z0O3CZojjzhhQVUadLhZNMZAoZ9Vr01t6bNznSxyWP5mzagdFaqFyazVz\n",
       "6GGEyoJtLtwVYFFG40BdmCu4kYvsdZKqMglPkJPB4A5wjFEy+aGU9AQPXeokSLAQyvvXmcVNCnjh\n",
       "WqoO+TvdhzOhOfuO1sbEcOccqd8f7iDez+F1/xxYDMG+I1aRd6AZbrVndLf+xp9Pwzs84EiBebXi\n",
       "HKoj4AechmN2siZ9iwAAAABJRU5ErkJggg==\n",
       "\" style=\"display:inline;vertical-align:middle;\" /></a><br>"
      ],
      "text/plain": [
       "Q__z_1_to_n: Q(z_{1} ,  ...  , z_{n})"
      ]
     },
     "execution_count": 50,
     "metadata": {},
     "output_type": "execute_result"
    }
   ],
   "source": [
    "Q__z_1_to_n = Function(Q, z_1_to_n)"
   ]
  },
  {
   "cell_type": "code",
   "execution_count": 51,
   "metadata": {},
   "outputs": [
    {
     "data": {
      "text/html": [
       "<strong id=\"Q__a_1_to_i\">Q__a_1_to_i:</strong> <a class=\"ProveItLink\" href=\"__pv_it/5394d7df30021f43fe469551f6339595caf19d1f0/expr.ipynb\"><img src=\"data:image/png;base64,iVBORw0KGgoAAAANSUhEUgAAAHUAAAAVBAMAAACK3rzVAAAAMFBMVEX///+IiIiqqqq6uroiIiIQ\n",
       "EBBERETu7u7MzMwyMjKYmJhUVFRmZmZ2dnbc3NwAAABtgPhfAAAAAXRSTlMAQObYZgAAAAlwSFlz\n",
       "AAAOxAAADsQBlSsOGwAAAdNJREFUOMuVlE8oBFEcx7/7b4Yxu21xUKI5iBNRHNw2KZcVJQ7Sto4O\n",
       "GAdKDrPOiiGlXOzBRYndq4tVXGjbdVCErFIOyEZalPi9N0O7pt3M1Pu9b+/9Pu/93u/33gB5Xwb/\n",
       "//74OhQbbCu3vsurXS6abKDmRucRVOjUi7odFqvUZsJkhqnJUVvsFrUVJvaoeWyh8KiQ35i4jgAd\n",
       "9tjyKJ5YyEi1AEmWt2SdvzTycHJjCG8MKZ6vdSrXGvXtGSFXEnWFMKFCJHdJRy8rsvhKppP6IcgB\n",
       "iJvF2akoDmhPCs4ZwBcbkT7I9FOqc3CnMVdVnE2p6DFUWRZdfDXdYD1haHTy+uLsIMQXM/o+qo5L\n",
       "wSELfBnQ0thBKVb8hJSFqwY85kWlclIKsfERYhWMOjOcFa2gSqPPEPRmr0ZSCsMR8svHKpu6oJr5\n",
       "paDX2FejY4jv+YKbJWwk0nfMQaZ8zY+dtoCuBtpoOn52X22w7m4yQSYSpkAXbTFbuxCPsBDh5q9Q\n",
       "UBxsY3fkJzh+3kZLzE7159Q5cr3lUog18EIlCti0hfX+LqLT5BGX8he/0xg3px7X92lt692c/M12\n",
       "PANf2KjygPHDmM53lKx5Lnijglow57PzgLeBb9WXa1vADFvZAAAAAElFTkSuQmCC\n",
       "\" style=\"display:inline;vertical-align:middle;\" /></a><br>"
      ],
      "text/plain": [
       "Q__a_1_to_i: Q(a_{1} ,  ...  , a_{i})"
      ]
     },
     "execution_count": 51,
     "metadata": {},
     "output_type": "execute_result"
    }
   ],
   "source": [
    "Q__a_1_to_i = Function(Q, a_1_to_i)"
   ]
  },
  {
   "cell_type": "code",
   "execution_count": 52,
   "metadata": {},
   "outputs": [
    {
     "data": {
      "text/html": [
       "<strong id=\"Q__b_1_to_i\">Q__b_1_to_i:</strong> <a class=\"ProveItLink\" href=\"__pv_it/9b729d11d3f81020a9fea17397084e7eab6667b80/expr.ipynb\"><img src=\"data:image/png;base64,iVBORw0KGgoAAAANSUhEUgAAAHEAAAAVBAMAAACDNRyvAAAAMFBMVEX///+IiIiqqqq6uroiIiIQ\n",
       "EBBERETu7u7MzMwyMjKYmJhUVFRmZmZ2dnbc3NwAAABtgPhfAAAAAXRSTlMAQObYZgAAAAlwSFlz\n",
       "AAAOxAAADsQBlSsOGwAAAcBJREFUOMuNVDFLw0AU/mransa0VBx16CA6iRVc3EQKLoKCukmpu0o6\n",
       "KChCuzsYRBCkYH6AiK5d7OKgIro4FBU7CI5qRapFre9d0hINTRv43vty3325l3uXAI6riFavfzN9\n",
       "0ZadwzKG7+5zkgwCq7PejppuLVLIoNOgLDhkmyxW03cJa0kK8wTNpFBq4qzpB4QdJieEAEEpexvr\n",
       "ekCH9sHkIQOMUg6NeTvreoeJZy4WVzHgkgeOez03uK6HjnAl2T41aI9yelf8eDmlLmiyamCKmyre\n",
       "KYwThnS8Yt1o6JR6KAK0jaHKA2qFwgzhDOK7vavxy7IuSfsL4pxXDNuZhVLi5zVup2L1RZmmfihR\n",
       "nHLJ24QKtLKXk3WlB7LarWh3Sk3w6ALhDSumdAq3S7f1UJqYmoQvEdEueBC3hBwW5fOQpvrFJxxE\n",
       "Btaf+vjA0S5tLt3EQAcBI4QNbhc7/RN0N0nw522CuG7rXJxffmfBqI8X9WfssuR7DriqbdOtLMo0\n",
       "8VHS4FG/bE3e6bx2n7yabJB2LqlWlWcXy5YSLnxFICIuZ8rO4riIcNLq6px1Flcd01T33poOHtT/\n",
       "SGGz5b/JIfAL28lv30J/XLYAAAAASUVORK5CYII=\n",
       "\" style=\"display:inline;vertical-align:middle;\" /></a><br>"
      ],
      "text/plain": [
       "Q__b_1_to_i: Q(b_{1} ,  ...  , b_{i})"
      ]
     },
     "execution_count": 52,
     "metadata": {},
     "output_type": "execute_result"
    }
   ],
   "source": [
    "Q__b_1_to_i = Function(Q, b_1_to_i)"
   ]
  },
  {
   "cell_type": "code",
   "execution_count": 53,
   "metadata": {},
   "outputs": [
    {
     "data": {
      "text/html": [
       "<strong id=\"Q__c_1_to_i\">Q__c_1_to_i:</strong> <a class=\"ProveItLink\" href=\"__pv_it/2b5d486f52e38c5041eb0030bfccebf54059c8fd0/expr.ipynb\"><img src=\"data:image/png;base64,iVBORw0KGgoAAAANSUhEUgAAAHEAAAAVBAMAAACDNRyvAAAAMFBMVEX///+IiIiqqqq6uroiIiIQ\n",
       "EBBERETu7u7MzMwyMjKYmJhUVFRmZmZ2dnbc3NwAAABtgPhfAAAAAXRSTlMAQObYZgAAAAlwSFlz\n",
       "AAAOxAAADsQBlSsOGwAAAblJREFUOMuVVL9Lw0AU/mrTXo1JTVFwECGD6CRUcHGTUnBRVEQnKfUP\n",
       "UNpBwalxdjCIILi0qyBSVxfroIM/aDsIFS12KDiJLlIVpL67tBANLenBe+8jd9/dd++9C2AbFbgd\n",
       "/1Z6dNfMceGDT+UzAcZcExuHPBjoMSky0z0TB2RbcXIrZEqmA+Yx2T4H52S+DojwJaB8cvBsAJOd\n",
       "MLszeONikQ8DdxwUh4y2DDVUsmIWeZGlNBXokGJVV+LtiMEIrsBosWxijheVfZCLkM3Cp7Gj1kyp\n",
       "gAWoGtA1hTr/IH+TW6T01ihu97dm5hMNEHhHlMcN02L6hNTh1szlJvDOUz28Oi655D0gVWjPZD+c\n",
       "NAihdlfvS8ox/nkV6KVmCAsmc9K4ULqVV00RkuPwxDTlRqh/pHvmoBqCmSL97MsOhLsFSi98XqEs\n",
       "7azdh8GLOEFWDg1YaqVpcjMc5BoAUdpfLYYSXBwk8c78uocfKjV7QNxz1KG2q5FXVqOFVQH92RFR\n",
       "mpydWXC2T3MHk+auBVTqonexbs28pi9oY83BTDYTfFpB0Oq0wJL1M9i0LZOdubU/Qn/ib1O6f6An\n",
       "wC+82l9FwH7JZwAAAABJRU5ErkJggg==\n",
       "\" style=\"display:inline;vertical-align:middle;\" /></a><br>"
      ],
      "text/plain": [
       "Q__c_1_to_i: Q(c_{1} ,  ...  , c_{i})"
      ]
     },
     "execution_count": 53,
     "metadata": {},
     "output_type": "execute_result"
    }
   ],
   "source": [
    "Q__c_1_to_i = Function(Q, c_1_to_i)"
   ]
  },
  {
   "cell_type": "code",
   "execution_count": 54,
   "metadata": {},
   "outputs": [
    {
     "data": {
      "text/html": [
       "<strong id=\"R__x_1_to_n\">R__x_1_to_n:</strong> <a class=\"ProveItLink\" href=\"__pv_it/0e5539a2564146c4ff8ba380cc55728b0b07537c0/expr.ipynb\"><img src=\"data:image/png;base64,iVBORw0KGgoAAAANSUhEUgAAAHwAAAAVBAMAAAB2y5cfAAAAMFBMVEX///+YmJgQEBDu7u52dnZm\n",
       "Zma6uroiIiIyMjLc3NzMzMyqqqpUVFRERESIiIgAAABEQnZxAAAAAXRSTlMAQObYZgAAAAlwSFlz\n",
       "AAAOxAAADsQBlSsOGwAAAcpJREFUOMuVk79Lw0AUx7/1ktg0ts0iKCIKbk4FEUTQduimYCuCWykd\n",
       "XBwsiIrioP4DRnQVijqrICK4tOJsLYgiqCWD4uCviosVf73TpKaGFnLwLu/l8nl59313gGXIcDT+\n",
       "f37nDJd0Pj98XV5dcEcJOcON330AWxl6djmk4Q7Q5PkEvEVyok5xV4Qm3xvl4XirUxxtvIQCFZ8j\n",
       "JeYc4/Nk/hzkWXqKpBx7PNzoq0r03neHt82gn2wsf3Oa4lWolAL3+nBVPOLLikkzaCAb0NgRl7CW\n",
       "kjbiSTsAa6isluYr1qlmtEe2QPXzjtfEgRTOydu8rYh74LVItEX2DgQzBg58mlkrDb/+5ydI8Gcg\n",
       "zRvo5opIRXRUx8c0FnBFN2+M34gvtH3dQ0dHBzurKyD0iwdsICPriR9DgCuh1mgUNYOtEd6ijwBC\n",
       "BspbZ6u0/YOzVxhTcM7ipNcHMYrlW/h5+hiEcFiFmCcxpSRYTN9tMvY+xdcneEcipjMOdD4qUcqf\n",
       "5dsGpq3FzcDaEMVe/U7Ja8cQbVdOWlfry3DBrlrpQssFTO6TbKp11asZzspijE6nXbpSy6QMrgld\n",
       "LV/OWSPVfuL+vzgpD5ccXncN33rCbhPT8ZWDAAAAAElFTkSuQmCC\n",
       "\" style=\"display:inline;vertical-align:middle;\" /></a><br>"
      ],
      "text/plain": [
       "R__x_1_to_n: R(x_{1} ,  ...  , x_{n})"
      ]
     },
     "execution_count": 54,
     "metadata": {},
     "output_type": "execute_result"
    }
   ],
   "source": [
    "R__x_1_to_n = Function(R, x_1_to_n)"
   ]
  },
  {
   "cell_type": "code",
   "execution_count": 55,
   "metadata": {},
   "outputs": [
    {
     "data": {
      "text/html": [
       "<strong id=\"R__z_1_to_n\">R__z_1_to_n:</strong> <a class=\"ProveItLink\" href=\"__pv_it/90828bf7fe78b76b957af90be67a3e03303e2f6f0/expr.ipynb\"><img src=\"data:image/png;base64,iVBORw0KGgoAAAANSUhEUgAAAHcAAAAVBAMAAACOK2zoAAAAMFBMVEX///+YmJgQEBDu7u52dnZm\n",
       "Zma6uroiIiIyMjLc3NzMzMyqqqpUVFRERESIiIgAAABEQnZxAAAAAXRSTlMAQObYZgAAAAlwSFlz\n",
       "AAAOxAAADsQBlSsOGwAAAbBJREFUOMuVUz1Lw1AUPWmamLTWZhF00lGcsghOtkPBqdiis9QOjiqI\n",
       "FopDUXDUlhZci4uTtegguNg/oGTQSS0ZWjqIUHFR8eu+NK+0DQbyhvvOTTjvnnveu0DPUuFh5Qfy\n",
       "Zy/kNSu+/D4+PTAQjHohj1St7Rs4q9E+C09rj4XADxD6IJD0Rh616n8CCiNPeiP7dApKm2QbgJzz\n",
       "RlY0CmED6g7tEvPrJKtqboxAplywoZ/5tF5v3pf5SQfxpnu5Rj1hQ4EpXciLN0z+EHmv6ohCHPuf\n",
       "XISfw+AGhV1SzhT7UuzTjI5Ky6W0uNjtgLzCFxCpcbLKjrl0IZe6SKbbkV+Ba9aHUrUenehKlk3o\n",
       "QrLStGVLb9S2GaCHYtI/DcMdsu4UzMIKUBPSmo/GQjAgHhN5wlztWH8ab2QtsvgOO0RyPSBwV58v\n",
       "F1sI09mSCX8spkGq0zXJJCManEp1KmdY6S12CQkONqkAzveBW6RZ3jeUWQ4YOejUfcHBNJaozSPn\n",
       "S+dkv9MsPrFqG9tXg3MUsnWUDpeBOadhJne8hoYG1ej/25s6X7jQn4YG+ip4Gapx4A/3E2Mgzmwt\n",
       "GwAAAABJRU5ErkJggg==\n",
       "\" style=\"display:inline;vertical-align:middle;\" /></a><br>"
      ],
      "text/plain": [
       "R__z_1_to_n: R(z_{1} ,  ...  , z_{n})"
      ]
     },
     "execution_count": 55,
     "metadata": {},
     "output_type": "execute_result"
    }
   ],
   "source": [
    "R__z_1_to_n = Function(R, z_1_to_n)"
   ]
  },
  {
   "cell_type": "code",
   "execution_count": 56,
   "metadata": {},
   "outputs": [
    {
     "data": {
      "text/html": [
       "<strong id=\"fi\">fi:</strong> <a class=\"ProveItLink\" href=\"__pv_it/f78e211eb81b6bf4bca743e003e005836a4261570/expr.ipynb\"><img src=\"data:image/png;base64,iVBORw0KGgoAAAANSUhEUgAAACQAAAAVBAMAAADcCFGjAAAAMFBMVEX///8yMjLc3NyIiIiYmJgi\n",
       "IiJERES6urqqqqoQEBDMzMxUVFTu7u52dnZmZmYAAAD1zdHuAAAAAXRSTlMAQObYZgAAAAlwSFlz\n",
       "AAAOxAAADsQBlSsOGwAAAPFJREFUGNNjYIADJjgBBxYggt0AzOa7ewBIclxgYGB+AJFguL2yAUge\n",
       "BGLWCwyMIGmGGWUg6glEO8sDkPY/YPYEqJFzgJg3AGyuAFRIBKhyZzRILR/Q9MOPQSYDMT/YXkYH\n",
       "BoYLlUCGIxDrLwAJsTYwMDU8BDJagbgfbARnAQMPw2cgYz0QX4UJMXCA7AZpzgYLMQKdy7gBqnEy\n",
       "WIgNaMn5BqC1bkC//wIL8QJV1DMBrQU6hOMDWIgd6GA2EyAjCOjGDRBXR0FDLYChG2QuCPhBKD4H\n",
       "hrCDUL+xKYApNQYG50dQIZ4EMJWDHNAq4OBSYAAAorAwGv6j7CQAAAAASUVORK5CYII=\n",
       "\" style=\"display:inline;vertical-align:middle;\" /></a><br>"
      ],
      "text/plain": [
       "fi: f(i)"
      ]
     },
     "execution_count": 56,
     "metadata": {},
     "output_type": "execute_result"
    }
   ],
   "source": [
    "fi = Function(f, i)"
   ]
  },
  {
   "cell_type": "code",
   "execution_count": 57,
   "metadata": {},
   "outputs": [
    {
     "data": {
      "text/html": [
       "<strong id=\"fj\">fj:</strong> <a class=\"ProveItLink\" href=\"__pv_it/36ca5b235979f21894d1d9e8fa3870f5f22fe4f10/expr.ipynb\"><img src=\"data:image/png;base64,iVBORw0KGgoAAAANSUhEUgAAACYAAAAVBAMAAADY/YGeAAAAMFBMVEX///8yMjLc3NyIiIiYmJgi\n",
       "IiJERES6urqqqqoQEBDMzMxUVFTu7u52dnZmZmYAAAD1zdHuAAAAAXRSTlMAQObYZgAAAAlwSFlz\n",
       "AAAOxAAADsQBlSsOGwAAAPtJREFUGNNjYIADJiQSBizAJLsBmOK7ewBIclwAElw5UKnbKxuA5EEQ\n",
       "k1mAgRGkgGFGGYh6AjWC5QHIhD9g9gSYuXOAmDcAbLYATEwEqHZnNEg1H8iKw2Yg44GYH2w7owOQ\n",
       "eMAJJB2BDP0FIDFWoN0sCvxAshXI6webwlkAIvuBLlgPpK8iiT0F4kogzgaLMYLczRDLANE7GSzG\n",
       "BrKJ6TuQcAPSv8BivBtAfvgAJB4D/f4BEh4gl3MnAIkgoGM3QJwfBbIIaABTAEM3xHAGBj8G7gZ/\n",
       "oFP4HBjCDkK9yaawviECSKsxMDg/gorxJPDZgdyYgxz2KpDgU2AAAAErMJ+sZ6wqAAAAAElFTkSu\n",
       "QmCC\n",
       "\" style=\"display:inline;vertical-align:middle;\" /></a><br>"
      ],
      "text/plain": [
       "fj: f(j)"
      ]
     },
     "execution_count": 57,
     "metadata": {},
     "output_type": "execute_result"
    }
   ],
   "source": [
    "fj = Function(f, j)"
   ]
  },
  {
   "cell_type": "code",
   "execution_count": 58,
   "metadata": {},
   "outputs": [
    {
     "data": {
      "text/html": [
       "<strong id=\"fk\">fk:</strong> <a class=\"ProveItLink\" href=\"__pv_it/609b068ad0e743654af35f0dc985e28842c1cf8d0/expr.ipynb\"><img src=\"data:image/png;base64,iVBORw0KGgoAAAANSUhEUgAAACgAAAAVBAMAAADGNLEtAAAAMFBMVEX///8yMjLc3NyIiIiYmJgi\n",
       "IiJERES6urqqqqoQEBDMzMxUVFTu7u52dnZmZmYAAAD1zdHuAAAAAXRSTlMAQObYZgAAAAlwSFlz\n",
       "AAAOxAAADsQBlSsOGwAAAQpJREFUGNNjYIADJhQKCiwgFLsBmOK7ewBIclxg4MkMgEveXtkAJA8C\n",
       "MeMDEAFSwjCjDEQ9AWJ+kCwLSIb9D1j9BCCuByuaA8S8AWDzBYDETbC0CFD1zmiQer4LQEKaofkN\n",
       "0A6QQWA3MDowMPB84WiawsDgCOTqLwAJsgLt4PhUwSXEwNAK5PaDDeIsABoxBSy/HoivwgVZ5W6B\n",
       "mJVAnA0WZARqP19QD1IK0j4ZLMgGtM6f4XwDkHIDhsovsCDvBgaGbQznFwBd9hho5QdI4AC9kMHA\n",
       "/BjopyCglRsgQRYFD9cAhm6QDSDgBxPkc2AIOwhlsylAGWoMDM6PoGyeBCgjBzk6VCAUiwIDAAiC\n",
       "OTPp3iZnAAAAAElFTkSuQmCC\n",
       "\" style=\"display:inline;vertical-align:middle;\" /></a><br>"
      ],
      "text/plain": [
       "fk: f(k)"
      ]
     },
     "execution_count": 58,
     "metadata": {},
     "output_type": "execute_result"
    }
   ],
   "source": [
    "fk = Function(f, k)"
   ]
  },
  {
   "cell_type": "code",
   "execution_count": 59,
   "metadata": {},
   "outputs": [
    {
     "data": {
      "text/html": [
       "<strong id=\"f_jp1\">f_jp1:</strong> <a class=\"ProveItLink\" href=\"__pv_it/161e28c15528fa129983f106e58640b594a44f790/expr.ipynb\"><img src=\"data:image/png;base64,iVBORw0KGgoAAAANSUhEUgAAAEoAAAAVBAMAAAATJmVgAAAAMFBMVEX///8yMjLc3NyIiIiYmJgi\n",
       "IiJERES6urqqqqoQEBDMzMxUVFTu7u52dnZmZmYAAAD1zdHuAAAAAXRSTlMAQObYZgAAAAlwSFlz\n",
       "AAAOxAAADsQBlSsOGwAAAS1JREFUKM9jYIADJgbsAFXcAocqdgMwxXf3AJDkuAAkuHLQlCw9ANN+\n",
       "e2UDkDwIYjILoKjh2ScPVMUIMoRhRhmIeoIsXQJj2AOlWB6A7P0D5k9AVtWMrIphDhDzBoDdKIBb\n",
       "lQjQvJ3RIBP5QI4/bIZV1W0g5gf7lNEBSDzgdMCmyhGI9ReAuKxAf7Io8DdgU9UKxP1gLmcBiOwH\n",
       "CT4NDZ0ZGhqNULUeiK8iqXqK1V2VQJwN5jKC7YplwGXjZDCXDeQHpu9YVbkBZX6BubwbgATLB6yq\n",
       "HgNjGSLDDgpb7gQ0VdvmRwPtCAIG5waIQBTICwboZoETWABDNyM0iPwYuBv8D6DHNjhlOTCEHYSy\n",
       "2RTWN0RgTYZqDAzOj2BpKYHPrgCrKpSUqYIjRbMoMAAARmhKODPJ6OMAAAAASUVORK5CYII=\n",
       "\" style=\"display:inline;vertical-align:middle;\" /></a><br>"
      ],
      "text/plain": [
       "f_jp1: f(j + 1)"
      ]
     },
     "execution_count": 59,
     "metadata": {},
     "output_type": "execute_result"
    }
   ],
   "source": [
    "f_jp1 = Function(f, Add(j, one))"
   ]
  },
  {
   "cell_type": "code",
   "execution_count": 60,
   "metadata": {},
   "outputs": [
    {
     "data": {
      "text/html": [
       "<strong id=\"f_1_to_i\">f_1_to_i:</strong> <a class=\"ProveItLink\" href=\"__pv_it/e865b4a6f0e6b01cb73a40e59ca66544ba6ef0c00/expr.ipynb\"><img src=\"data:image/png;base64,iVBORw0KGgoAAAANSUhEUgAAAIAAAAAVBAMAAAB8u/sIAAAAMFBMVEX///8yMjLc3NyIiIiYmJgi\n",
       "IiJERES6urqqqqoQEBDMzMxUVFTu7u52dnZmZmYAAAD1zdHuAAAAAXRSTlMAQObYZgAAAAlwSFlz\n",
       "AAAOxAAADsQBlSsOGwAAAbVJREFUOMuNVLFKA0EQnbtckku8nCksLVKorSksLKOCpQRBCxVJK1oI\n",
       "gmDlNVYKBmwsLGytDKSyS0hpkWusREjUD1DERlI4M7t7e9zBcgOzO7f75u3szM4BRGKLqQaZxI65\n",
       "SFkW00k2AkYX62z7bz0c3RCgvAeQC8yeGp0byUNfH8inD/A8nqAxayaI0JAPwSIyuD2l6RM1RwQb\n",
       "ZgKNRnFGdJEJ221FUOqZ/GNokjvUSpM3qorAapgIYmiSGYziaZfi8ENFUOkY/GPowQdlBHWaa8Hn\n",
       "MoFTNUWg0eEZGiuoi/e0lA8Ugds0EURoOxijcYF6zRulY0VQ/jIRRGgPftB4RH1JEBTbJgKNdglM\n",
       "1zjkJSvjFTTa6sgr3PBSoR4lsYWDl3YVz0OjhwGWYh076k/Ut6MIfKIaYim8b2norzj63MZSYCld\n",
       "kbMiBj518NvFDFND57GtYJ+MkRq2uIk0urCExiYeKN/Njgp1nser1BVcIkig7SZcWrJ9ox4SfRKm\n",
       "HzFqEu03YLsv9wvyV2RTDsGrpwgGqEn0AsDau1zyWnKLs+2kq0BvPYk+igPmxLSa7ZfGaKcG/5H9\n",
       "cODAWQVXAAAAAElFTkSuQmCC\n",
       "\" style=\"display:inline;vertical-align:middle;\" /></a><br>"
      ],
      "text/plain": [
       "f_1_to_i: f(1),...,f(i)"
      ]
     },
     "execution_count": 60,
     "metadata": {},
     "output_type": "execute_result"
    }
   ],
   "source": [
    "f_1_to_i = ExprRange(a, fa, one, i)"
   ]
  },
  {
   "cell_type": "code",
   "execution_count": 61,
   "metadata": {},
   "outputs": [
    {
     "data": {
      "text/html": [
       "<strong id=\"f_1_to_j\">f_1_to_j:</strong> <a class=\"ProveItLink\" href=\"__pv_it/852a6f6e14c1ec8d1b45f5a285938ace2a4b7f960/expr.ipynb\"><img src=\"data:image/png;base64,iVBORw0KGgoAAAANSUhEUgAAAIIAAAAVBAMAAAB4Tis1AAAAMFBMVEX///8yMjLc3NyIiIiYmJgi\n",
       "IiJERES6urqqqqoQEBDMzMxUVFTu7u52dnZmZmYAAAD1zdHuAAAAAXRSTlMAQObYZgAAAAlwSFlz\n",
       "AAAOxAAADsQBlSsOGwAAAcJJREFUOMuNVDtIA0EQnTsvJpdcLiksLVKoranESqKCpQZBEX+kFVMI\n",
       "gmB3jZVCAjYWFrZWCVjZJaS0MI2VCPHXayGCpHBmdvdu9WC5gfnc7tu3s7M7BxCKLVwJEomtr5Ey\n",
       "K9xhMgaBTpfZ+U8dtJk+QHYbYCQwL43QkK1LosdrWtQFuHseYjBuZgjRuFkRLKKDiyNybzREDMtm\n",
       "hghN4gzoLEOOm4rB7ZgINDTLJWq+yjNFxWBVTAwammUM87jdokz8vmLItw0EOro3Q2VBLfCN8M7M\n",
       "4BRNOWjogYt2HoPpKxpLBYohUzUxRGinVEB7gl8NnnEPFEP2w8SgoaGBNW+hf/jHkG6aGDQ0vKMe\n",
       "o+7zmJXwFBoadkCc4pzHRsthJWtovPha8Uw0tP2NZgn9j7jntmLwafYeL8T71AM2f9AOFewVkxaF\n",
       "S2Puub2vG6wz9XcKewx2KRjIANa4oyI05CjZVdxSPqBNle0k27PYKTLEoKNdTNauwqkluzlsKNE0\n",
       "/fh7RtXQuWAFKf0KrHclYFT+nGzKDbxyjKGHqqFbwQb6KYDFFznm1eQc19yJ3wU9ZA3tz9GbqOuI\n",
       "CeEWkv3lBNopwS+3Z3D8WLlLhAAAAABJRU5ErkJggg==\n",
       "\" style=\"display:inline;vertical-align:middle;\" /></a><br>"
      ],
      "text/plain": [
       "f_1_to_j: f(1),...,f(j)"
      ]
     },
     "execution_count": 61,
     "metadata": {},
     "output_type": "execute_result"
    }
   ],
   "source": [
    "f_1_to_j = ExprRange(a, fa, one, j)"
   ]
  },
  {
   "cell_type": "code",
   "execution_count": 62,
   "metadata": {},
   "outputs": [
    {
     "data": {
      "text/html": [
       "<strong id=\"f_i_to_i\">f_i_to_i:</strong> <a class=\"ProveItLink\" href=\"__pv_it/49b8a1cee6b9b97b6622549774d8ca13098606ab0/expr.ipynb\"><img src=\"data:image/png;base64,iVBORw0KGgoAAAANSUhEUgAAAHwAAAAVBAMAAAB2y5cfAAAAMFBMVEX///8yMjLc3NyIiIiYmJgi\n",
       "IiJERES6urqqqqoQEBDMzMxUVFTu7u52dnZmZmYAAAD1zdHuAAAAAXRSTlMAQObYZgAAAAlwSFlz\n",
       "AAAOxAAADsQBlSsOGwAAAV9JREFUOMtjYIADJjhBGGBRawEi2A2I0o6slu/uASDJcYGBgfkBRAI3\n",
       "wKL29soGIHkQiFkvMDAewKsdi9oZZSDqCUSe5QFe7Zhq2f+A2ROgCubg041FLW8AWEIAKiSCTzum\n",
       "Wpad0SA38AFD4/BjkO/w6Mamlh8c/owODAwXKoEMR3y2Y1GrvwAkxNrAwNTwEMhoxacdi9p+sARn\n",
       "AQMPw2cgYz0+7VjUXoUJMXCAwrUSn3YsarPBQozA5MC4gZDjsaidDBZiAwbK+QZgkLoBOTyYGiGJ\n",
       "EVMt0y9IjAJNq2cCBikoQs4LQAmej8gMbGo5PkDSEzBBsJkAGUGgoI0BEaAojoMxQsFZBVMt3waI\n",
       "66KgORmcrnowHM8B0o6pthsUDiDgB82RDiDyAmZyBWIsasMOQuXZFMCUGojgwSw0DgMxFrXOj6BC\n",
       "PAlgKgectjFDHuQorGphQAWsUYGowgqmFgDX4GyouHJK+gAAAABJRU5ErkJggg==\n",
       "\" style=\"display:inline;vertical-align:middle;\" /></a><br>"
      ],
      "text/plain": [
       "f_i_to_i: f(i),...,f(i)"
      ]
     },
     "execution_count": 62,
     "metadata": {},
     "output_type": "execute_result"
    }
   ],
   "source": [
    "f_i_to_i = ExprRange(a, fa, i, i)"
   ]
  },
  {
   "cell_type": "code",
   "execution_count": 63,
   "metadata": {},
   "outputs": [
    {
     "data": {
      "text/html": [
       "<strong id=\"f_i_to_j\">f_i_to_j:</strong> <a class=\"ProveItLink\" href=\"__pv_it/f5015d293cc84187ac5d07344610c3bfb787e21a0/expr.ipynb\"><img src=\"data:image/png;base64,iVBORw0KGgoAAAANSUhEUgAAAIAAAAAVBAMAAAB8u/sIAAAAMFBMVEX///8yMjLc3NyIiIiYmJgi\n",
       "IiJERES6urqqqqoQEBDMzMxUVFTu7u52dnZmZmYAAAD1zdHuAAAAAXRSTlMAQObYZgAAAAlwSFlz\n",
       "AAAOxAAADsQBlSsOGwAAAeNJREFUOMuNVDtIA0EQnTvv8pHkTGGRMoXYRtHCSqKCjaBBUERFgpam\n",
       "0ELBymvEQkVBxRQWqQQrU4laSESwNY2VCtEIFiIoNiIpnM/mIhysWbi3M3Nv52be7h6AN0wPGhgJ\n",
       "8LN7CIIdDa1vcuEP23ksIoZKGC9LGs14fyDcIjgqKvb9MeW7wscugVHUro9e5BAjMbI7QbFzyzS9\n",
       "CMMqaxOE17NUcwr+sINVtndU7FCbYJU/GfZ8YkfTrEdMhVq1Ce4YFz0f2db5FNXhoIbXFVJEt35o\n",
       "/5KVJB26MordwnthYFulFTT6tBV8eVU6sKfYyTzFbBdM9wmNNd1684enCXz64Vuxt0XeBYhw/hNd\n",
       "gtAHTwdsVxX7rpZAQivaY5CuJ3DSij3PMQMPk1H4r4VAgac4yKkT9q68QilvXYwNkuc/jhGpUw7/\n",
       "HEESaya20iWKuVdN3Araysgnwm1MQd1TgstWjxBUPF2C2FGgG41R8sawBJuOB8MMGdPgCQ5LBKcg\n",
       "bEfagkm1USxTyN/DJsGb2HZetY7sDUOuNgzLJPck6tcP5QkV4t4dOrOqwh6/qgksP5l2xmu/iCif\n",
       "na1dmNnmb9sV9sBzjZHhKcuY8iWw6OlNKO8GKq91thptzEs09Esz5QvI/gVZv2xbZL9soAAAAABJ\n",
       "RU5ErkJggg==\n",
       "\" style=\"display:inline;vertical-align:middle;\" /></a><br>"
      ],
      "text/plain": [
       "f_i_to_j: f(i),...,f(j)"
      ]
     },
     "execution_count": 63,
     "metadata": {},
     "output_type": "execute_result"
    }
   ],
   "source": [
    "f_i_to_j = ExprRange(a, fa, i, j)"
   ]
  },
  {
   "cell_type": "code",
   "execution_count": 64,
   "metadata": {},
   "outputs": [
    {
     "data": {
      "text/html": [
       "<strong id=\"f_i_to_jp1\">f_i_to_jp1:</strong> <a class=\"ProveItLink\" href=\"__pv_it/50882e8cde45e5f24e98a4971b30e55771cc949d0/expr.ipynb\"><img src=\"data:image/png;base64,iVBORw0KGgoAAAANSUhEUgAAAKIAAAAVBAMAAAA3EyjlAAAAMFBMVEX///8yMjLc3NyIiIiYmJgi\n",
       "IiJERES6urqqqqoQEBDMzMxUVFTu7u52dnZmZmYAAAD1zdHuAAAAAXRSTlMAQObYZgAAAAlwSFlz\n",
       "AAAOxAAADsQBlSsOGwAAAhpJREFUOMuNVT1I5EAUfhuzblbX7BZXXGcKsTWFiJV6CJanCBH/ES21\n",
       "0ELB6tJYeYfCIVoIZ2NhpdWBzRFZsHUbKxHWv1JQLASx8P1MwrpJ5jYwL/My3/ftm3lv3gJEj0PG\n",
       "gIYeo5HvTT7ZnNuQYm/Kd0W3rwO0v0i1mopVj2CtCpqWpbq1wyD8qasjDK9Qwlm2AplAq8hYOONN\n",
       "lT6tFP61I1Xoe2v4sgdkwaxqFRkL9592qpjQHyh67p3cfAjY1wkKFrZrv1lujSLT20bIXQkBX3SK\n",
       "gs2V0hWRbp5OUaSPOMp3dFIaQYW1KTHlnkRFohfdMLTKOppvuhgFm6GTq+YHkhSJ3nVA7jiWp3+D\n",
       "kw2domCzmG/TKfpJikTfYncX8w8vODnWKQo2v8xzErA9b2LH804iRaJfhopgUSbXdYqXNYoPiedI\n",
       "9EV2v9L5nPxv14LN8H5nIG3Xv9ldwHHhYxKHqP7jWnKVBNtMGsZroiLSjTe5Xjh+GJg+qqALLLjC\n",
       "MygTeSG2jfZiPiUqIt2SlVX67W40o5TMaTSzoEyWatDjDiHYHNV561yd4t8/Uy7Tbc4TZA9Uh+Nb\n",
       "8TO2a4szK1iYpPS49TEq+qYcc9QhpGNU4vcPR4iF79DqDwf1nULRx87UfF5endyZ4n23jCPCNjvH\n",
       "/nhiMSB98FbNz+XFbdSMQymQCFuYs/uWExVru7DBwZtOQ/8KHWmtxIEPtp2C2cZ0lToAAAAASUVO\n",
       "RK5CYII=\n",
       "\" style=\"display:inline;vertical-align:middle;\" /></a><br>"
      ],
      "text/plain": [
       "f_i_to_jp1: f(i),...,f(j + 1)"
      ]
     },
     "execution_count": 64,
     "metadata": {},
     "output_type": "execute_result"
    }
   ],
   "source": [
    "f_i_to_jp1 = ExprRange(a, fa, i, Add(j, one))"
   ]
  },
  {
   "cell_type": "code",
   "execution_count": 65,
   "metadata": {},
   "outputs": [
    {
     "data": {
      "text/html": [
       "<strong id=\"f_i_to_jm1\">f_i_to_jm1:</strong> <a class=\"ProveItLink\" href=\"__pv_it/74c277cf676c30ec7cdf357bbf40297258e223970/expr.ipynb\"><img src=\"data:image/png;base64,iVBORw0KGgoAAAANSUhEUgAAAKIAAAAVBAMAAAA3EyjlAAAAMFBMVEX///8yMjLc3NyIiIiYmJgi\n",
       "IiJERES6urqqqqoQEBDMzMxUVFTu7u52dnZmZmYAAAD1zdHuAAAAAXRSTlMAQObYZgAAAAlwSFlz\n",
       "AAAOxAAADsQBlSsOGwAAAgtJREFUOMuNVTtIA0EQ3ZyXn17OFAp2XiG2phCx8oNgqSJEgj9ESy20\n",
       "UEjlNVYqChZaCKaxsNJKsJFIwDZpUokQf6WgWAhi4Xz2Ds3trVnYuZ3b997t7OzOCeE3B40hGmpG\n",
       "I++bXLTxTEOK/SHvJd2+L4LdRdVaKFY2xiYqYJpX6uZOi96n7s5geVYaRtGKiBS1ioQVNxRU+s+M\n",
       "dd0JVKYfbcDDHuIJs6ZVJKx4Vs4NFiU9/o1u0nt/rBNkrNgPVSR6agLdNe99m06RsfF0uCLQzasZ\n",
       "XOkr9NIT7pRGUGJtTEypT6mI9NaMt7RKHsywbo2MjeCe15JDKkWk9xTQzcHxdB9gsKVTZGwU8m06\n",
       "ra5KEel75B5C/sUHDM51ioxNrtIYBaz2LLaCr4j0qqcoEpjJvE6x+kvxRbmPSF8mtwP35+K/qBkb\n",
       "oXjnRFjUB+QuQS+7kMRRjCWoxVeJsTHMj/GpVAS68cXXC/qmAenDE1SGA2e9C2l8z8OmMBbzTakI\n",
       "9ATPrOO3e8FMYjJnwcwLaaJ4BrNUIRgbx3PeslAneHkykyG6fUF+tCArHN2KnUDUCVSUWDGN6VHW\n",
       "PaBv8zb7FYIrRiV4/6B7WDEmWtxxZZEC+tSNHC/yo5sqU/D7Jeg+NuacuznlYQD6yKMc3/KDyqgZ\n",
       "hOLSfay1YA+sKhV/V2GDwjWdhv4KXWGlxBE/qTx/Ta7JFpQAAAAASUVORK5CYII=\n",
       "\" style=\"display:inline;vertical-align:middle;\" /></a><br>"
      ],
      "text/plain": [
       "f_i_to_jm1: f(i),...,f(j - 1)"
      ]
     },
     "execution_count": 65,
     "metadata": {},
     "output_type": "execute_result"
    }
   ],
   "source": [
    "f_i_to_jm1 = ExprRange(a, fa, i, subtract(j, one))"
   ]
  },
  {
   "cell_type": "code",
   "execution_count": 66,
   "metadata": {},
   "outputs": [
    {
     "data": {
      "text/html": [
       "<strong id=\"f_i_to_k\">f_i_to_k:</strong> <a class=\"ProveItLink\" href=\"__pv_it/f52300ba678524ef8e23a9d880be5d6d39ffd3a80/expr.ipynb\"><img src=\"data:image/png;base64,iVBORw0KGgoAAAANSUhEUgAAAIEAAAAVBAMAAACTeZA2AAAAMFBMVEX///8yMjLc3NyIiIiYmJgi\n",
       "IiJERES6urqqqqoQEBDMzMxUVFTu7u52dnZmZmYAAAD1zdHuAAAAAXRSTlMAQObYZgAAAAlwSFlz\n",
       "AAAOxAAADsQBlSsOGwAAAgZJREFUOMuNVD1IHFEQnt279fZkXYNYCIpcobZapEipCaTUICiiIpI0\n",
       "SiwUSYiVR8QqEQM50MLiWqtcFUh3ItjeNleoCGdMmYB/VUiRb2bebi4sebkHb+a92W+/NzNv5hEl\n",
       "o8DCpZaG2/xPPDJFlrmRlhgeGb2uKryoQu4wSyP59o+hWD+iYPlZciydH0IHD7DyInKqVgbB0hGm\n",
       "0+B9n1j3X+OvcFQh2YaVQbD0DbNTjh+X0H+xzMeYAxuBYukD5qY4m2fZwQHRWgzqtjEoNscRn4rB\n",
       "gevZL3Ps+A/M4yuO1EJgsGEE0Utb30FZ4YBG4qOjDYgxmw+K5YODe/9tCZzsznCZrTMok+IlFts2\n",
       "BsV6SKJ/+6a9C4rD2pVve6ClOyw+2RgUm19FJCUha7+GqMcM5HOmN2wM9YTB6z+TpPK1vBRrD8dX\n",
       "+V8UinUQRW11k52QKD6K9QVmrYgkPyWOJzW0VBXbhnxOAA2VXUT+fmq5cpG4SDLfaA0ZDm7IiGQX\n",
       "Y/kKP1OtjPNCsPjXYn3F3A8hJjnZ8xALZITHNTAlHaXYHFxfoswVTB76O6yI1Subzpeqe5+KwmcG\n",
       "g6XZxDxI9M4p/tVR2mFRup7pD1b7SQZ6bPrIrJ+rGmIRpN+ZY2rCtsVvk4tEPvlqNieqVsSh9F2w\n",
       "awk2WIypml8TV9zPFlp65QaMfkz0G0l2dYV3ydUiAAAAAElFTkSuQmCC\n",
       "\" style=\"display:inline;vertical-align:middle;\" /></a><br>"
      ],
      "text/plain": [
       "f_i_to_k: f(i),...,f(k)"
      ]
     },
     "execution_count": 66,
     "metadata": {},
     "output_type": "execute_result"
    }
   ],
   "source": [
    "f_i_to_k = ExprRange(a, fa, i, k)"
   ]
  },
  {
   "cell_type": "code",
   "execution_count": 67,
   "metadata": {},
   "outputs": [
    {
     "data": {
      "text/html": [
       "<strong id=\"f_i_to_l\">f_i_to_l:</strong> <a class=\"ProveItLink\" href=\"__pv_it/dcb845ed4d4d25265935590288f4fbeb511ece540/expr.ipynb\"><img src=\"data:image/png;base64,iVBORw0KGgoAAAANSUhEUgAAAHwAAAAVBAMAAAB2y5cfAAAAMFBMVEX///8yMjLc3NyIiIiYmJgi\n",
       "IiJERES6urqqqqoQEBDMzMxUVFTu7u52dnZmZmYAAAD1zdHuAAAAAXRSTlMAQObYZgAAAAlwSFlz\n",
       "AAAOxAAADsQBlSsOGwAAAdhJREFUOMuNVDtIA0EQ3Vzukosk8QqLlFeIrVdYWElEsBE0CIqoiGhp\n",
       "Ci0UAkLSiIWKgSCmsEhrZSpBC0kI2CZNKhXip5NA1C5YODM7d0YO1izMZ2/f7M682T0hvKF5qo9h\n",
       "+7DjqMJOX9HB3C82/lQBbTbga0tuohjtR9QnQjS7jH24xL2qIEZDBCrK6NhtEXTUEkLvMLa4h+ZN\n",
       "rustZXjkMI35JkEsiQ1/00KeARfK8CwdGMFMHYmNpYgziwFDyvAm6R2Q0RJh9ZsVzCEOzNVekQlV\n",
       "9MzZHfEHMsfYQeI/AOU0MuBMKk//8jK8ZixmAaXkhJZ7BudAFa11ySyBFBh7KindFlHa+0oVbnbI\n",
       "nAsx8MnYphsuTOxBRtn2lBsezDN2i74E4OoEyv8lHyqTSaBXkdiCXAAC6zmgfxpn/qsXlTnKa74J\n",
       "hCcdwjIbMdg3qwH92LzoB6i61eNIxTRjwwb3HcIyG2GoKjQGzjzOFuB4A6/DmmDHWBUezWIXrktb\n",
       "YuOyHLHMrSFyTH/2x6jepW+UXOwRcoZjVhp8DVCKnzWgxSwn/rwrwC5WXVJtMiOka37qoFQj7T6M\n",
       "DRc79eKur5NJk076wnWUCZtn9z1YHsOEsvv6WWGLEPsDTe1pf1iwOYAAAAAASUVORK5CYII=\n",
       "\" style=\"display:inline;vertical-align:middle;\" /></a><br>"
      ],
      "text/plain": [
       "f_i_to_l: f(i),...,f(l)"
      ]
     },
     "execution_count": 67,
     "metadata": {},
     "output_type": "execute_result"
    }
   ],
   "source": [
    "f_i_to_l = ExprRange(a, fa, i, l)"
   ]
  },
  {
   "cell_type": "code",
   "execution_count": 68,
   "metadata": {},
   "outputs": [
    {
     "data": {
      "text/html": [
       "<strong id=\"f_j_to_k\">f_j_to_k:</strong> <a class=\"ProveItLink\" href=\"__pv_it/4c061e063016653f0c20d07d6cb42ffc62d31cb40/expr.ipynb\"><img src=\"data:image/png;base64,iVBORw0KGgoAAAANSUhEUgAAAIQAAAAVBAMAAAB1UFtyAAAAMFBMVEX///8yMjLc3NyIiIiYmJgi\n",
       "IiJERES6urqqqqoQEBDMzMxUVFTu7u52dnZmZmYAAAD1zdHuAAAAAXRSTlMAQObYZgAAAAlwSFlz\n",
       "AAAOxAAADsQBlSsOGwAAAglJREFUOMuNVD1IHEEUfnfu3p/neoQUQkLYIqb1KrGSUyGlHhYhJEYO\n",
       "0yhaGETRykWxUjlBQQuLa61MJdgpgbRnY5FI4IjaKSQiCGLh++btjD+L4w3Mm7dvvvnmzTfzlsi0\n",
       "uAw+1dX8B4vC1iHDRF0MDYGMybwavD97bFMHbDJjZvKpJuhlouxI0Wx8tIVV+4o8R/TaTqHQWcZR\n",
       "rAYDQtqYwnCiMb12CoX2Cuw1Y2cHPMkbNbWiMek9G4Og0zCzCrjJvamopnIaFCvYKAT9DeaXCrzk\n",
       "THY/IxcPav5oB+i7hSFEn8N/RfNnrA2OlDd719JsnZwtC0Hz1pS9TM2tEXWx21ZB0GVtHB8KpYo2\n",
       "CkF/xCu4mM68IFpgtywijsOWWaHMPxuFoNdx9DXFts398B7FKYRdsVEcGgr3zW+4M9xH5R7Uo/xC\n",
       "zx1E0C3cq+OzSAMHWVXBBGSKX0H0ErSKrA0jgv7KvY+qAS96z8uu5b5xlQ5k8EBW5WvJ/n/sGDRu\n",
       "coeqFX4Jx5y3qJdE+o1IwEUduwNsBuHUtIOIRk9yH6aGY1a/nzcNX9InaIoEWtXnUuQkKhKi3Yr5\n",
       "yxRpMRbo6moM+u7q7SBCgYhGq+KS2i/Qh/3QT/jbAV5MvKTEy0fkRMSgh3T4HVHPXw0peZ14GwlV\n",
       "f060OmAM+qcOj93HvJWhu64fXzwsZ8enW917dEhPYprsAAAAAElFTkSuQmCC\n",
       "\" style=\"display:inline;vertical-align:middle;\" /></a><br>"
      ],
      "text/plain": [
       "f_j_to_k: f(j),...,f(k)"
      ]
     },
     "execution_count": 68,
     "metadata": {},
     "output_type": "execute_result"
    }
   ],
   "source": [
    "f_j_to_k = ExprRange(a, fa, j, k)"
   ]
  },
  {
   "cell_type": "code",
   "execution_count": 69,
   "metadata": {},
   "outputs": [
    {
     "data": {
      "text/html": [
       "<strong id=\"f_k_to_l\">f_k_to_l:</strong> <a class=\"ProveItLink\" href=\"__pv_it/80c7604d1cef3959890fb1931ad5d4844dfab6510/expr.ipynb\"><img src=\"data:image/png;base64,iVBORw0KGgoAAAANSUhEUgAAAIAAAAAVBAMAAAB8u/sIAAAAMFBMVEX///8yMjLc3NyIiIiYmJgi\n",
       "IiJERES6urqqqqoQEBDMzMxUVFTu7u52dnZmZmYAAAD1zdHuAAAAAXRSTlMAQObYZgAAAAlwSFlz\n",
       "AAAOxAAADsQBlSsOGwAAAfBJREFUOMuNlEsoRFEYx795XHNH80oWSmkWsjVLK42UjWJSJCSxIbNg\n",
       "QZQikgUyNSMWFrO1MivFQjMp27GZhVcJOxTDarLwPc696OZw6nvcOb/z3fP9z7kDYA/3j/DniDrY\n",
       "Fgm+2L/We5a+2NBNHr15DoGJxFehX8fzNflNgFJFsVf7VK2A5roll9euDx7vog9EALwvit2dpfCA\n",
       "FqZK3lttAf9aknYdR4sI6/vgiRTaIhfc0xYQxo9mxIQNJlg73BNcMFKrLVBiP43WnGXWezRI+wid\n",
       "o6uHlSfURLe+c/uElUTrBmHDfBYubCrwbi5nANq0O3izd3kIwtJOsCHUzyzPVdcArOrWuysc+tHS\n",
       "IOyWiDuFbWS41oGugPnCYQeguqzYkl3AaLikdF57DRJWAU9KsZP8iwtbKE4tZuGPFqpyHOooywub\n",
       "lokYyVpcwtBBz87rGJCdyvUfQ/HjwipVgjmStZjF07wn+hVdMfItEackp+MLL8SYVar4sLdx8Nzj\n",
       "m3vouRcTgy7IMKjEGAJbcpjBC0R3AdmQNAUD9kGxTKazhw1yj5IbWYtdJ/VodFkcfSfYklM/7M7M\n",
       "1Umuvjhk+wqWvFGVNLE/dYqILRvJiHoatdj2O2t+RCVJ9nFHAS9Zq/Was2+sGo2Ki/7rL80dF/YT\n",
       "AFlymEdFpnoAAAAASUVORK5CYII=\n",
       "\" style=\"display:inline;vertical-align:middle;\" /></a><br>"
      ],
      "text/plain": [
       "f_k_to_l: f(k),...,f(l)"
      ]
     },
     "execution_count": 69,
     "metadata": {},
     "output_type": "execute_result"
    }
   ],
   "source": [
    "f_k_to_l = ExprRange(a, fa, k, l)"
   ]
  },
  {
   "cell_type": "code",
   "execution_count": 70,
   "metadata": {},
   "outputs": [
    {
     "data": {
      "text/html": [
       "<strong id=\"f_ip1_to_j\">f_ip1_to_j:</strong> <a class=\"ProveItLink\" href=\"__pv_it/00cc3764211111a8647bbb95dc8c66379c83e6240/expr.ipynb\"><img src=\"data:image/png;base64,iVBORw0KGgoAAAANSUhEUgAAAKMAAAAVBAMAAADY0UPbAAAAMFBMVEX///8yMjLc3NyIiIiYmJgi\n",
       "IiJERES6urqqqqoQEBDMzMxUVFTu7u52dnZmZmYAAAD1zdHuAAAAAXRSTlMAQObYZgAAAAlwSFlz\n",
       "AAAOxAAADsQBlSsOGwAAAgtJREFUOMuVVT1IAzEUTttr7/p37eDg4NBBZzuIOEnRXbuc1F+KTqJD\n",
       "RRScvF1FQUTHrk4WnNxaCi4OvcVJhPo3ChURQTqY95JcWy8X6oOkL8n3fbmXl7wS4lqGSM1n+q8F\n",
       "JeiQLcdu9yc50YM2H6u0PwLZZi8utuS/lTDGNhyAbwr0wyX9TaSpF3Z60HdPbdoPqSWRTWoYaFqg\n",
       "L3bpPmaug9KFHwLJGbUkssmrGCJaBx6JdqGMbLdktKpSZGxyIsaITubB3fKVDORUkoytp8UY0NrN\n",
       "IiTlnbb6i0wyWVEocrYJSaiPC3QKBQZoc/Zkklpa9ZWMjZE0ozmOHi3DZIHeVvtJJmnkVZKMHaZZ\n",
       "1zIpm6OPcemc3iPyCTFY1vyZZVVcyVhLJcnY0RL6VY6+F5LEaMu+Uj9RSd53Sb4J9AZODsKJVP4f\n",
       "OGMH8NEsC/QpTq7R1rAdWXqKBA7FY+y6MnYEGMFvjg7+sHdF234wJ5E0YdSgiUx8cKczEmy8OlqL\n",
       "ow12+juw11hv4PH1r2uaTShYYVpAyAo4TdFZWC4YW4dw4xAOoE12gOGy5PWgjWB/6AncAEnOJguQ\n",
       "oyxDH7CTJVpTUjbQWEVwvE+RdNi0WsTtWV4/5mocsepXriEcksh6Fuqkix3JXNkFjp5+5pO3PpIR\n",
       "zKzmXYBQXHaiaE6WXLT4Gp+CM9XfH8Wwi/4FRtODYLwclvEAAAAASUVORK5CYII=\n",
       "\" style=\"display:inline;vertical-align:middle;\" /></a><br>"
      ],
      "text/plain": [
       "f_ip1_to_j: f(i + 1),...,f(j)"
      ]
     },
     "execution_count": 70,
     "metadata": {},
     "output_type": "execute_result"
    }
   ],
   "source": [
    "f_ip1_to_j = ExprRange(a, fa, Add(i, one), j)"
   ]
  },
  {
   "cell_type": "code",
   "execution_count": 71,
   "metadata": {},
   "outputs": [
    {
     "data": {
      "text/html": [
       "<strong id=\"f_jp1_to_k\">f_jp1_to_k:</strong> <a class=\"ProveItLink\" href=\"__pv_it/741a184f24a8cf45171b02c5275345eda03ac1030/expr.ipynb\"><img src=\"data:image/png;base64,iVBORw0KGgoAAAANSUhEUgAAAKgAAAAVBAMAAAAgMbgsAAAAMFBMVEX///8yMjLc3NyIiIiYmJgi\n",
       "IiJERES6urqqqqoQEBDMzMxUVFTu7u52dnZmZmYAAAD1zdHuAAAAAXRSTlMAQObYZgAAAAlwSFlz\n",
       "AAAOxAAADsQBlSsOGwAAAidJREFUOMtjYIADJgbsAJc4OlDAptwCh2J2A6LMZG5AUc539wCQ5LgA\n",
       "JLhy0JQuPYDbNhiA6O9lYDg2FeG42ytBlhwEWyeAopxnnzxQPeMB/IaC9fOAdMqBuBDlM8pA1BMU\n",
       "LztAGfZAKZYH+A0F6+cD6fgB4oKVs/8BS01AVsdhgGQowxy8ZkL0cyJMAinnDQBLCeA2VASvoRD9\n",
       "hSAWxGFA5Sw7o0Hu5QPF02EzrIbexmcmVP9bUGhu4LA7AFHODzaAERQmDzgdsBnqiNelEP0g35x3\n",
       "6NB0gCjXXwASZAXGIIsCfwM2Q1vxGgrRHwHE/eoNCxUgyvvBUpwFILIfZAZfaGjk1NDQDXBD1+M1\n",
       "FKJ/OhC/9AIzQcqvIhn6FGuYVuI19Crc0MC3YEeDlGeDBRnBHo9lIN37EP0SwPT/nf0XA1T5ZLAg\n",
       "G8gYpu9YDXUDsTCzFQ+EguhPBkbJB54fzBDlTL8gqQ0UhCwfsBr6GGTCRxhxXgCJAdcPTEfcCTy/\n",
       "eCHKOSAGsYOSMHcCmqHb5kcDWUEgZijI+DhQOnkAY8SAlUL0lwI928BgZ8MAVs63AaI/ChRbBugu\n",
       "BbsFnGU4MP3fAy6jIPpZFyAp72aEJk0/Bu4G/wPoBQpYG5jDixlFoEwI048odYDKww5C2WwK6xsi\n",
       "sEavGpg8jBlRIO/A9SchKXd+BFOSwGdXgNVQSMHtgJnrQQRc/zFU5VCggqvEUCCqOmFygCsHALI2\n",
       "ik5Vyk9cAAAAAElFTkSuQmCC\n",
       "\" style=\"display:inline;vertical-align:middle;\" /></a><br>"
      ],
      "text/plain": [
       "f_jp1_to_k: f(j + 1),...,f(k)"
      ]
     },
     "execution_count": 71,
     "metadata": {},
     "output_type": "execute_result"
    }
   ],
   "source": [
    "f_jp1_to_k = ExprRange(a, fa, Add(j, one), k)"
   ]
  },
  {
   "cell_type": "code",
   "execution_count": 72,
   "metadata": {},
   "outputs": [
    {
     "data": {
      "text/html": [
       "<strong id=\"g_k_to_l\">g_k_to_l:</strong> <a class=\"ProveItLink\" href=\"__pv_it/bbcd6ace0850eed46d848c0654fcb26b1418b1870/expr.ipynb\"><img src=\"data:image/png;base64,iVBORw0KGgoAAAANSUhEUgAAAH4AAAAVBAMAAAByPkciAAAAMFBMVEX///8iIiK6urpUVFTMzMzu\n",
       "7u5EREQQEBAyMjJ2dnaYmJjc3NyIiIhmZmaqqqoAAABI0TZoAAAAAXRSTlMAQObYZgAAAAlwSFlz\n",
       "AAAOxAAADsQBlSsOGwAAAiRJREFUOMuNVD1IW1EU/vLybmJ+TC20UOif0kGHCi7SpWCgS7e8SRwK\n",
       "CUindkgLOmdxKVUCXVwCGYooRXw6KDi5lFJai+3SGhzSoUOHVhGFYiT4nXtfHq88fMmF8/Puu9+5\n",
       "537n3gP4w/3PdBkZX3VGtmns/Z7wX0RZO4GZ38Dki0CcyJGrInU3b6KYoSpU8+LN9YCfoqwBfY4/\n",
       "01+naou32gO+QfkBpPf8maSc51R7Tnd8mXKLMuPPjFBSMo2+ele4xcNmTui8ovz5vE29L8ix3K6D\n",
       "1FgUcQefGL6/ytyP+PmGm1Yys16kYv3vVh3pSgR+EVslk2KcFsvAoYNzencohxvNxy5yAxHbn+IK\n",
       "ix5jjZNS/J/ALOwWvZeU729ljX10OT5ZQoEXNDkIbVGA3Ua27OFv7OeFnPLl+EITH2DwYjGMdAsJ\n",
       "IWyBV+jYEk6j8l9zMS1EM/9ppfMnjUUp2HNhVLWzNEKMCmMdfefUGU2CZz/jUixBtTDhmErES+ok\n",
       "xeIIMUUWQf0LOubLjcsdkxIfP6FzANz7+FWiDzFqE7vvSa4QE7tOdVucPc/BVW5jPazJ6SyqVd4B\n",
       "3ETnbyzfyXNd61/h2ul7rePhmtcFBvDIsYW0wFNoaF0N4Xk0exyFfOCN8dE9cKZMF3jW6Swl/Zx3\n",
       "QnieNz6jXms/YbrUJjC68s38nvSWJXSa6TD/rJLVqA2abqE3wdNgR/Oe3bue+te23sTFBSFPfz9a\n",
       "Qz7hAAAAAElFTkSuQmCC\n",
       "\" style=\"display:inline;vertical-align:middle;\" /></a><br>"
      ],
      "text/plain": [
       "g_k_to_l: g(k),...,g(l)"
      ]
     },
     "execution_count": 72,
     "metadata": {},
     "output_type": "execute_result"
    }
   ],
   "source": [
    "g_k_to_l = ExprRange(x, gx, k, l)"
   ]
  },
  {
   "cell_type": "code",
   "execution_count": 73,
   "metadata": {},
   "outputs": [
    {
     "data": {
      "text/html": [
       "<strong id=\"i_to_j_len\">i_to_j_len:</strong> <a class=\"ProveItLink\" href=\"__pv_it/9998eb4bab70a7e8d3b3dc58c536e4d383bd1a9b0/expr.ipynb\"><img src=\"data:image/png;base64,iVBORw0KGgoAAAANSUhEUgAAAE0AAAASBAMAAADs/06hAAAAMFBMVEX///9UVFS6urp2dnYiIiKq\n",
       "qqrc3NyYmJgQEBBmZmYyMjKIiIju7u5ERETMzMwAAAC4hZuzAAAAAXRSTlMAQObYZgAAAAlwSFlz\n",
       "AAAOxAAADsQBlSsOGwAAALBJREFUKM9jYGBg4LvDgAp2ovGfHABT3AvQxJ1ReDyS6w8w4ANMBVDG\n",
       "fvzqWDeQpe70XlRpnp0bsKqbwFGAoo6ZqQGbOvYE/gAUdamcC7C7Lx5EnXIBAT8g6wA/SJ7TxcWj\n",
       "xcVFAEndFDT3xx/Abp4zmrqF2P3L9gnNv1+Zsapj/4AWDR/SsapjvIBm7+0CVHWy/Y4gFscGQvEB\n",
       "Ni2g/gChdAAC7wNcGYgBnDsViFEGABovO5FltZR5AAAAAElFTkSuQmCC\n",
       "\" style=\"display:inline;vertical-align:middle;\" /></a><br>"
      ],
      "text/plain": [
       "i_to_j_len: j - i + 1"
      ]
     },
     "execution_count": 73,
     "metadata": {},
     "output_type": "execute_result"
    }
   ],
   "source": [
    "i_to_j_len = Add(j, Neg(i), one)"
   ]
  },
  {
   "cell_type": "code",
   "execution_count": 74,
   "metadata": {},
   "outputs": [
    {
     "data": {
      "text/html": [
       "<strong id=\"j_to_k_len\">j_to_k_len:</strong> <a class=\"ProveItLink\" href=\"__pv_it/fa0f89005a166555fea724788100fbba073554010/expr.ipynb\"><img src=\"data:image/png;base64,iVBORw0KGgoAAAANSUhEUgAAAE8AAAASBAMAAADoCp6cAAAAMFBMVEX////MzMzc3NyYmJiIiIhU\n",
       "VFR2dna6urqqqqpmZmYyMjIiIiIQEBBERETu7u4AAADM1VnsAAAAAXRSTlMAQObYZgAAAAlwSFlz\n",
       "AAAOxAAADsQBlSsOGwAAANBJREFUKM9j4LuzgQEdMN5DE5B+ACS4JmAoZFmAwuWLXA9SyN/AgAuw\n",
       "G0AZ/iCF9Q9wKuRwQFaYw0CkwqUMLfNQ5Z/4YlPI95mj6TCqwgk8BlgUcnyqYFyEoo5ZAeY/FIWc\n",
       "hwXA7Fe7QWAjmN0PchLn7t17Tu/eHQBTyL0yEcMTs7G58X1BvQC6wm3YFNozvG9wQFXH9B2bwliG\n",
       "9wIJqAqZP2BTeIOBZQpa3LBeQFMYe36rA7YI4XFANxErYG2wf4CeKLAC+YYdDEQBTs8CbMIAk7ZB\n",
       "+TyUGRAAAAAASUVORK5CYII=\n",
       "\" style=\"display:inline;vertical-align:middle;\" /></a><br>"
      ],
      "text/plain": [
       "j_to_k_len: k - j + 1"
      ]
     },
     "execution_count": 74,
     "metadata": {},
     "output_type": "execute_result"
    }
   ],
   "source": [
    "j_to_k_len = Add(k, Neg(j), one)"
   ]
  },
  {
   "cell_type": "code",
   "execution_count": 75,
   "metadata": {},
   "outputs": [
    {
     "data": {
      "text/html": [
       "<strong id=\"k_to_l_len\">k_to_l_len:</strong> <a class=\"ProveItLink\" href=\"__pv_it/a726b0ab5653006dfed4c9e05b81561816348f3f0/expr.ipynb\"><img src=\"data:image/png;base64,iVBORw0KGgoAAAANSUhEUgAAAE4AAAAQBAMAAABKAFSpAAAAMFBMVEX///+qqqq6urru7u4QEBBE\n",
       "RERUVFTc3NyIiIgyMjJmZmaYmJjMzMwiIiJ2dnYAAACPW0xlAAAAAXRSTlMAQObYZgAAAAlwSFlz\n",
       "AAAOxAAADsQBlSsOGwAAAMZJREFUKM9jYHj7hwEFmPoyoAOey0CC+wOa6Cx0ZWYrPwNJrglowh9h\n",
       "DKYNUAYHSB1vA6oyps8wFmMDsrr6A6jq+Bywq9uPZi1nAmOXARZ1qWjq7DcIlmzAos4DTZ18kcDJ\n",
       "Akx1PN9BLMu7IHAHxFyyByzHdffuFd+7dxNg6jgc0My7ue4ANn+wJhigKGP+xPQHmzr+Dajhx/2B\n",
       "+SMHNnXKqOrYApj/8GFRx70O1XmsAgxdzajq2EL+ZjDgAYwNDEQBeDoAAgBXSz5WyT9dLQAAAABJ\n",
       "RU5ErkJggg==\n",
       "\" style=\"display:inline;vertical-align:middle;\" /></a><br>"
      ],
      "text/plain": [
       "k_to_l_len: l - k + 1"
      ]
     },
     "execution_count": 75,
     "metadata": {},
     "output_type": "execute_result"
    }
   ],
   "source": [
    "k_to_l_len = Add(l, Neg(k), one)"
   ]
  },
  {
   "cell_type": "code",
   "execution_count": 76,
   "metadata": {},
   "outputs": [
    {
     "data": {
      "text/html": [
       "<strong id=\"tuple_len_incr_equiv\">tuple_len_incr_equiv:</strong> <a class=\"ProveItLink\" href=\"__pv_it/dbb1be0a0911283c7a447a3a2238cc7fb4309eef0/expr.ipynb\"><img src=\"data:image/png;base64,iVBORw0KGgoAAAANSUhEUgAAAKcAAAAuBAMAAAC/hxTPAAAAMFBMVEX///9UVFREREQiIiIQEBCY\n",
       "mJhmZmYyMjLu7u6qqqrMzMyIiIi6urp2dnbc3NwAAABm9RoHAAAAAXRSTlMAQObYZgAAAAlwSFlz\n",
       "AAAOxAAADsQBlSsOGwAAAvVJREFUSMftl01oE0EUx5/ZfGya3aUXT7nkIFoolMhKaT1IoQg99BA8\n",
       "mJsWRHqQQC6R9mQaRKmCCfSgl2LuHhoQhPZQCg300Et6E81hrXgUBBEjfuB87IyTbGbMC3jzQSaZ\n",
       "fW9+Ox9vZv4BAAiAmgdjmKdt2mXl7jhQp0VL90ADTXewwNqi6IoW+hDfzbvkk6qaoLfx0G/kk1gx\n",
       "QRfw89mj5ZIB6pTRUDdPy4oBmqTr5JX2W+YMUgNS2VcNgBMDNFUgRTuI9YxQHvCEV+pr9i+AooTe\n",
       "8qldVKAWeal9FZJ5sItaJg+At7z2vArfAbYMPY2T58keWB148VIL5QHCVsH+CbDzF2g8B/UD/u7h\n",
       "FgbINHVIUrVNc0qGX+/ATTBBecDxJK99oT1Xhh+d0xhZ1XoDLqQDFlaNzieIgNc97v8B98nqXjP0\n",
       "1CWvT7USsy57t/2VIsrKD1awAG8zzx+fhfOkvGNKfrKqdvbNuz0+IJ90xaI7cBbCH9acCKCDov4H\n",
       "NE3himmbXpZVCk1Hx/9Mzuwjxe/lTdDrfVA3GiVz6amr+JMFEzQWhLWP98g0PY4ulNyfG/uK/9R4\n",
       "nto59VEhEpSAof4pHXSPlR/GuU4SbHyZJvy3f29BqCbE1+giYmgLvnSNUE1kGlgRETbst2NabAvf\n",
       "NmZ4u0OhE3O8b3ZZZD/qPmUiYhC6sUqvuDW+ebtyF4+e9SsK1BFNMz1+isSFL45b3iUFmm6p0HgV\n",
       "joTvCAetaKHkti8JXwmnJk60UHKJVISvglMTRS00UYZ54ZvHqYktLTSdh2XhW8apiR2pwnz/0qLv\n",
       "T0roxKc+KEZNtLU9dRZgXfjWcWrCOPxp4ZtGqQkmIjQLlWOp0Q1zRKcmZE2qCS4ihkOTLTgUvkO9\n",
       "muCSok9NMBExCD1z7nOWBAZgNUOf1cSoCSYiIj1l9p6fDN0/R8SoaoIfP4MHCoj/OTPCN4NRE6fa\n",
       "Q9qjAqImfDWMmpjSQmN04rxCqCY8xIHKRUTYsN9uAPwGQP8pX8XnI0oAAAAASUVORK5CYII=\n",
       "\" style=\"display:inline;vertical-align:middle;\" /></a><br>"
      ],
      "text/plain": [
       "tuple_len_incr_equiv: |(a_{1} ,  ...  , a_{i} , b)| =  \\\\ (|(a_{1} ,  ...  , a_{i})| + 1)"
      ]
     },
     "execution_count": 76,
     "metadata": {},
     "output_type": "execute_result"
    }
   ],
   "source": [
    "tuple_len_incr_equiv = Equals(Len([a_1_to_i, b]),\n",
    "                             Add(Len([a_1_to_i]), one)) \\\n",
    "    .withWrapAfterOperator()"
   ]
  },
  {
   "cell_type": "code",
   "execution_count": 77,
   "metadata": {},
   "outputs": [
    {
     "data": {
      "text/html": [
       "<strong id=\"concat_len_equiv\">concat_len_equiv:</strong> <a class=\"ProveItLink\" href=\"__pv_it/40b3798c2d3b6539f12e6f8f10c221d21f09e81b0/expr.ipynb\"><img src=\"data:image/png;base64,iVBORw0KGgoAAAANSUhEUgAAARoAAAAuBAMAAAAFAcuGAAAAMFBMVEX///9UVFREREQiIiIQEBCY\n",
       "mJhmZmYyMjLu7u6qqqrMzMyIiIi6urp2dnbc3NwAAABm9RoHAAAAAXRSTlMAQObYZgAAAAlwSFlz\n",
       "AAAOxAAADsQBlSsOGwAABIFJREFUWMPtVz1oFEEUntxl7/aSuzWIWGhzVh4IcjHgTyASiIJBwZgi\n",
       "AQWNRLEIkYBETJUzTdCAWbFQiZKAgoVFDsVDLTRoxMLCCzbiD6w/6RTTeYkpnDdvZm9/5jbnOsTG\n",
       "B293Zve9fd++efPzEYsw4bcQYvzRB6yyk+F05/KBXevN0Gge4e1VVcYiTjKPSkhqxo/mZggYsY85\n",
       "ek0U6aUus+L/9L/lcUbaxD88qoBGHwiBZu42ABhlv0z9zwUapza0izhnoR/PocrQxDpCoGl/Bl87\n",
       "Kbpdgca1NzIiziL0tR5UGZraEGCSJXZrtePlgqxf50Qc7rePqwTNyxBoUlmGyR7jeGB+3xARJ4X4\n",
       "B7lK0PTDVOt/kg+eyi4DbV0jJDoGRTx2Dz7bEOB7qG29iBNvSBRoouYIqgQNgJy1IqVANGhwSXTX\n",
       "5O2M9NTSqxY4E37ZCRnvuP6VmncTVETT2wTSiGh20XLfS2JZondX/B4akPei/2MKrlE6rzRrDb0m\n",
       "skF5XSI8Dpn8Zt6ha+AVgirJzQGa8hKJFsnd+5WXF2ZQlkmsXfaxSZr6uoUANAl8SeOQE4dZc5qr\n",
       "HE1tmozPINwKcxQNPHWJaHqhnltXLHmGZkc/S+osVwmaITqcRXKMBKFBg1d2rW7CmcSW4BaywkhF\n",
       "0I3G0ZeTbNTcI+Wqmy00mEk2Jyxm4F84dCIM3pbE+/0YBmrZWIZJlq7oSlOIs5HG0Rb0xXra7OQq\n",
       "yQ2davG8tj3F4Oo/IfYAb9g9ZmBcyOITUZdsXmtQFbG818NuiJKHODVpfYnGIX1cJWieU9eN7z49\n",
       "xuQ10T+MwmKynfBLdKcwgFw05cp1mYTxqYG0RC3uih49DldR8hAnYpLCQ9rczVWCJjoluoAm4c/3\n",
       "Nbt6LvL3MV5AzWIcvpAA1+PYLscxsqgyNGz/stGk/FVoT+2rKXx/OW6KzbLGPGZvn3LXRMMQX8Dt\n",
       "OLB/sj1Udr7Zynvfh+lYjvlL0d4Szj/B99tGxWyxpk1Y1AwYrQqu0YxYp0Uc8pmrFM2I85F/+9OI\n",
       "9/2R0yJaOlaAD0ZylV21gjin2nEyXD1oHuMwhjngoMzj7Wh1h2geR7NQ6UFtivyX/7JKYvwT1xVI\n",
       "XBhJ5lWDARJX3+N+hjzNLXUZz4Nbub/6E7nA0us6+hHB0zzU1n061tcPCxqnUk462i9EY7GyvW3z\n",
       "NOfcnhSJ85g54eZ3UplwomE0TqEkBySRUq3VohlUiwZI3FifJxLnaU5hPM+PZk4tGiBxxVlPJM7T\n",
       "nMJ4nh9Nt1o0lMQZ5ikPGs7TnMcHxvP8aK6oRUNpk47slXKNPcA1yjxNP8PoB54MgOc5bRDNtHI0\n",
       "JFHy5IbzNJf0SutmVnHdmFC07kiCp7mkhazCSAFxGTeLrkiCp7k2yGUpmk61aIDEvTbc80XwNFcZ\n",
       "L0jR9Cle/Sj1iTxwRxI8zSmM5znRrD3YmEcap1KaZeuspNrzMhsjqxhNl2xH9ArneT6bWIdiNBGr\n",
       "CiPkeX75rPp8o6er2c0KM9LnGeUn0fnwrppVreVvPS9Tn6WlIAsAAAAASUVORK5CYII=\n",
       "\" style=\"display:inline;vertical-align:middle;\" /></a><br>"
      ],
      "text/plain": [
       "concat_len_equiv: |(a_{1} ,  ...  , a_{i} , f(j) ,  ...  , f(k))| =  \\\\ (i + k - j + 1)"
      ]
     },
     "execution_count": 77,
     "metadata": {},
     "output_type": "execute_result"
    }
   ],
   "source": [
    "concat_len_equiv = Equals(Len([a_1_to_i, f_j_to_k]),\n",
    "                          Add(i, k, Neg(j), one)) \\\n",
    "    .withWrapAfterOperator()"
   ]
  },
  {
   "cell_type": "code",
   "execution_count": 78,
   "metadata": {},
   "outputs": [
    {
     "data": {
      "text/html": [
       "<strong id=\"concat_len_simple_equiv\">concat_len_simple_equiv:</strong> <a class=\"ProveItLink\" href=\"__pv_it/d575479bcffc1e2b63606bb9e39b007aff7d70b70/expr.ipynb\"><img src=\"data:image/png;base64,iVBORw0KGgoAAAANSUhEUgAAARgAAAAuBAMAAAAB9Bu7AAAAMFBMVEX///9UVFREREQiIiIQEBCY\n",
       "mJhmZmYyMjLu7u6qqqrMzMyIiIi6urp2dnbc3NwAAABm9RoHAAAAAXRSTlMAQObYZgAAAAlwSFlz\n",
       "AAAOxAAADsQBlSsOGwAABANJREFUWMPtWE1oE0EUft1kN5s02ebgrZcIggVBUyOlFiqiCIoiRSEe\n",
       "hDZQSg+lmougeElFES2YFQ96UXvwbBdBoRVL0YKHHoz0oFiFqOjFgwVB4x84b2Z2un/ZhJVNLn3w\n",
       "JjOd92a+ffPm5ytUAUWDwMJdq81Zr0/n5feWlnPBwXDX5aaMO3X6kzSYivmtYOKVACiUdyXumugX\n",
       "0zSwvo3VRA/9grk6YC4HCcnLezpznRqvkcrZJqzVIg1PEWIEGaoXmLEgYA49LXHXTgSTb8JaGeIt\n",
       "ucDUC8zeAFiSNTBdKZhoqbF1VLQPcnWDSRYDgEllwXSlYGJDja2fi/YZrm4wCubv59UvDfbw5IKx\n",
       "3pI39RZMVwomlfbx5daTWJ9+gCnE1Q0GPyp5FHb4BhqWqhKZ9JrZ7KLIaDwoGNk3vMyaxqIQJT4n\n",
       "gCkDM5pD6aWNCEn0i0MwCnCp/ojqAVBIrFfN9tcZ4K4MTDzrB4ZZ70bQ1S7icwOYuiMTXQQ4XYJB\n",
       "SDyuP6JSg4j1OLpLS3RlYBJrfmCY9RFWJyswC0y9wewD9Y/v50UzUF60tFccYJK+W3LFAmYU15yr\n",
       "R87ooP4Fec0XTLkCI+TUF2m6mZaxJpeJWZ+j5SA4l8maM5IB6k+QinfoiKp7KMzssg5b49XXNbP/\n",
       "MC0lQyRwhhs6Us1qvY3uSrICcIyrOzK4K8/D8UKFgiljEmOh/rBWYobcl9KuZFk/aL/Y+ZE2wSgG\n",
       "N7S72azpZsYVgAmuHocegTD15H73DAUT6cddgsdCn1nJkS9Wu9+8n8dI0H6Is3xF144t37qJYZUb\n",
       "rrvRitX6GRYdGMI9XD2ugwGzRRf+livWcRH+8lXer/DkEa4f7YZCrNYR3OBREkIty9QLTN4Gxv2e\n",
       "SInazRTrvx7jTwbhOmY3FGK1Jndjhz7Cb0x2a7rBSPy9pb36TnLZcA04LWpTC6x/p/nqEK4Zu6FI\n",
       "YJv1dpjV8eT7wNULjJqx3iPur7PdgbT/5ClzMu4qlVyGHtYXQHmEJ1MPVweYeVp+Cv7s5K7DzT2Y\n",
       "GVq5ylTMvyEb0nLR/Ghaq6UO8VtuBxZkb50Fxx8JP2vE5kIRPFQjzpuD8LNGbC4UsRC/pO3gzbcB\n",
       "jOWVGbfdZv5sLhSxEj87GH82F4oge5uecICh/MyXzYUj+P2VJQcYys/kYsvBEPam6eN2MIyf+dOE\n",
       "UIQQJhV+43rlcrv253Jpwc/82VxYYCBecybwaEM2F07OkAWJpZ1gBqEty4TsraxX7GAoP5MzLQeD\n",
       "G/gFf0UKMJSfKUbrDz2yGNJDxzJRfhZpwyNiwOMERn7G2FyLJe+6KBk/C/av0//NYNdqMH6mZdoA\n",
       "RnVNyviZVGoDmHrEbzj4iP8APm4e8ZtXvesAAAAASUVORK5CYII=\n",
       "\" style=\"display:inline;vertical-align:middle;\" /></a><br>"
      ],
      "text/plain": [
       "concat_len_simple_equiv: |(a_{1} ,  ...  , a_{i} , f(1) ,  ...  , f(j))| =  \\\\ (i + j)"
      ]
     },
     "execution_count": 78,
     "metadata": {},
     "output_type": "execute_result"
    }
   ],
   "source": [
    "concat_len_simple_equiv = Equals(Len([a_1_to_i, f_1_to_j]),\n",
    "                                 Add(i, j)) \\\n",
    "    .withWrapAfterOperator()"
   ]
  },
  {
   "cell_type": "code",
   "execution_count": 79,
   "metadata": {},
   "outputs": [
    {
     "data": {
      "text/html": [
       "<strong id=\"iter_ext_equiv\">iter_ext_equiv:</strong> <a class=\"ProveItLink\" href=\"__pv_it/0c7f2ee3725a3617b034d76f1b093bf507ebe6970/expr.ipynb\"><img src=\"data:image/png;base64,iVBORw0KGgoAAAANSUhEUgAAAOkAAAAuBAMAAAA/9CPcAAAAMFBMVEX////MzMxUVFREREQiIiK6\n",
       "uroQEBCYmJhmZmYyMjLu7u52dnaqqqqIiIjc3NwAAACFAiZ1AAAAAXRSTlMAQObYZgAAAAlwSFlz\n",
       "AAAOxAAADsQBlSsOGwAABEBJREFUWMPtWD1oFEEUnuR+9v5jIbY5ESSNcKSwCCTEeIgkQQJKIEVI\n",
       "iqSRiIc2WhgPCYQQlGAjhICLqVKEHCGVNotoo0UOLLwi4IGBNIIRtDAYcN6b2dnZud23d7UOzPLd\n",
       "zve9tzvzdvbbY0y1AjOwfoJoBep8M0p9YOJEva2sByHnUT4dIc7V4Jh6Y0ucr4bGk83jsq4BY+ys\n",
       "LS4n79AxtvC4e86ROF5jaZtUeFyWX/ONZPpecinK1+msy3hcuGkrzKwqqfBx5axWJPhiS/kDOuss\n",
       "qk48zNttSmBwxTLVtawoT5LzlcA5yg57mLcXlMLgBmQFebpClgYUhXVxpCrx9lNYOUKgcdn2p8Cs\n",
       "IM8WqazimnrqLq5NcvCQUnhcVk1WgrKC3MK5WCpDG2mJEccS/35G4oKzwsE7KqviMqvZ4wRlBXlu\n",
       "mIqRnIDjvosz7JSDXkqxr+sgSapcvjZXLhdVVpB3HUdn3VM4BxU6SSn2NN1S4LqCPDFLrivOUb/C\n",
       "6WLUDPdrujFGz3DYusaQf0fhHYcX533YZ1rziUfQ47LCr8CsILdK5NMH91b4ofBMgZclPD07vAgz\n",
       "v5k8qF86l1nHgVlBniJfIQmYidyxwrHPHNyAIh3lh+tMHuLwjJZtP5d1l4ysF+6O1KWcftddgQsr\n",
       "ehhuB9fkQ+vryTa4ybp5r0p+SO/DfJt+m3YUxv0Kn/1a62owH7fbeWybu7+SL9NZY012dcvD0L7i\n",
       "W6t1YbZ517i9znhgRJAXSnTWTIk9euZhaPiqtlqpcA8aN9WYCIwI8pgdYSaOTGxFmp4Wne/1APJF\n",
       "9r/9U61p4vaKyHXfzQ6MOZJRoDtWgafbyyrd8nQHxhzJKPiIP1dfu7gR6Zz97tvPxjjBxrxrVNwW\n",
       "9IzwhucXmMRjkc7ZcN86W8QJMubs1cqJNOXr7l6bfD+g9t1I52y4b50t4gQb8/yJJPOexDMzuHEl\n",
       "Xa3difvW2SJOsDHHrEDmfUrzQFM+l9qu+9bZe4Qxx6xA5n0VTtyb68NS4EvbqEc45xb3rbFFnBBj\n",
       "jlmBzLv4qDh1PzCy4OmstU7ct84+JYw5ZgUy7+OaB+L4W2otyjmb7ltjizghxhyzApn3eeZ5II5t\n",
       "uBPaOZvuW2OLOCHGHLMCmfd5r0AQA5l2zqb71tgiTogxx6xA5n0DXYgoCMDPI79NTPetsUWcEGOu\n",
       "z/Ag8zwex5k/Wemc23bfyBZDIk6IMRfVVMK+6xUI4MTxkXTOym8DoNw3sMWQjBNizDErkHm/5RUI\n",
       "4sGKdM7KfaPxJtw3snFIxgk25t2Xf14SZN7jcHlP5DesuGXpnNt134dqyI0TbsyRfIh/lOSKG/7/\n",
       "XMTu3a77XnaHVJxwY45k6EMsPuDuLkPiWS914r4FG4ZUnHBjDmQUbDKr4bqQTSGyO3Hfgg1DKk64\n",
       "MQcyCgraDAjcpnOW7nuxA2OOZN7/AinqjIP8NuuZAAAAAElFTkSuQmCC\n",
       "\" style=\"display:inline;vertical-align:middle;\" /></a><br>"
      ],
      "text/plain": [
       "iter_ext_equiv: (f(i) ,  ...  , f(j + 1)) =  \\\\ (f(i) ,  ...  , f(j) , f(j + 1))"
      ]
     },
     "execution_count": 79,
     "metadata": {},
     "output_type": "execute_result"
    }
   ],
   "source": [
    "iter_ext_equiv = Equals(ExprTuple(f_i_to_jp1),\n",
    "                        ExprTuple(f_i_to_j, f_jp1))\\\n",
    "    .withWrapAfterOperator()"
   ]
  },
  {
   "cell_type": "code",
   "execution_count": 80,
   "metadata": {},
   "outputs": [
    {
     "data": {
      "text/html": [
       "<strong id=\"partition_equiv\">partition_equiv:</strong> <a class=\"ProveItLink\" href=\"__pv_it/71dc10bd704eb9804695064e2589061e3e837cec0/expr.ipynb\"><img src=\"data:image/png;base64,iVBORw0KGgoAAAANSUhEUgAAAUYAAAAuBAMAAACmKa1AAAAAMFBMVEX////MzMxUVFREREQiIiK6\n",
       "uroQEBCYmJhmZmYyMjLu7u52dnaqqqqIiIjc3NwAAACFAiZ1AAAAAXRSTlMAQObYZgAAAAlwSFlz\n",
       "AAAOxAAADsQBlSsOGwAABG9JREFUWMPtWD9om0cUf7YlffIn2c4QApmsUigeTUdBgutoSBNjAi0u\n",
       "GUIyJB2CS5R4sYekpph6MCmiS0II5INMHkyNydQuH8VZ0hYLsogSqMBpvRQqDxkSXOjdu//fySdd\n",
       "nBsKefDO7/N7T/x0993pfj+Avq2djdtefaPcQ9pImo0vefXlm8xD2i84rv0o4paBupvJ2sdXafCC\n",
       "eziLG3QsfTAv4vMAD5wdWu19+jycMA9nxTodC0+rMgZYdHZotQf0OVpmHs4KOF5OVEz+OmdF1ebf\n",
       "4D+ucw9mF3F8osVk5equDlVbuoLhPe7BbI0Ot65O8DhukS1aqjgaVC0MV8otMqlbwDyYsQn4V8Sl\n",
       "PJmbqOHqkLXwQ/3Xv8iULwFzKNbQKu8a4wyew/si/rtI8JWnHA2qFnb+TE+Sk3wbmAeza3Qod0Sc\n",
       "jJG1Hug4GlQtfHsTw3HuYTGWpmS8Q16w/BXX8ahqP107RsM57sHsIR2GKjL+HnqstaqNX+Vx3eVa\n",
       "h3ofT+Fh1xRxfFAie2aSPNhnZAxmbdSJD0ZIuMA9mOGh8c8xEec7e2Q+CIz4Nd24DT6oJ612cDLe\n",
       "J98I7nIPZp/TYUfFp8hhkqPXrhqZyBz9icPhLA3OmbVDKbR+J+Es92CWo9PyjRYTe4n7117sZ2DX\n",
       "ksNoink4I7eBcuWhjNFWcf/atZtg17LbRbEe9HJ2GnLVhoxxYuiWgQ17z5DXNFtLbJd7QHsMUast\n",
       "YzxdcJXtmYmoZ2qJVbkHtNF6Nr7j1Re1mb+39/a/t6Nx+660/jCuP+oHqS1ajsjtu9L6w2h0nxqA\n",
       "gHRJtPhz++JPiegbqJp4WKq8yVKmHU96awCmbIBAXrwNt4etE6noG2mYtB5TsM5Txo/PxKPeGkBW\n",
       "NnjApAN/bg/znyXaL69B6zHFfseFfSGCP5KeGkBWNlhkn+/P7RmjL8jn69kUGBTiNx1jDw0gKxsU\n",
       "WIs/t2dE5WKG1WqpfONwjG4NICsbIJB7/tw++mh6WWgCG88NWs9TxU2RsjE6NQBLNkAgW2/B7cea\n",
       "cvaWC5zaGyn89piyMS6Bj2yAQJb8uT0nKjN4lRlLDVrPUrlUpGyMTg3Akg0QyLY/t+dE5RqLE4PW\n",
       "s1ThgkjBSq32Za02rTA6NQBLNkAg4/7cnr/YDOOKSeufaBhXur6Pc713oyYbIJA5f24PHytNgB74\n",
       "+vKx1HAqUp5rbckGfK29uT18pTSB0VeC1idaaqgpUjZGrbgP2QCBLLi5vaT0GrfnLzb2RR1O6zEv\n",
       "UnhiRJ2uGO9an+qSDSgQ0uLk9ozSm9yev9jYNzgpaD1W81R+SqR0jB/emG5qxfJTXbIBApn15/bF\n",
       "iqqli8NoPVbzFHyi1k2bR6EDeMgGL1mLJ7eHn9mOoLWD6dfyclHSUuQqwFLmnQJAL+5LNljlLX7c\n",
       "Hs6sy9rxdEbS+g09NdRmKdtUcT+yAQLZ9eb2cPs7WVtsXZC0vq6n4kmWsk0V9yMbIJDq0bl9V1q/\n",
       "d9h9pO3z0QiEtPwHM0q485skntcAAAAASUVORK5CYII=\n",
       "\" style=\"display:inline;vertical-align:middle;\" /></a><br>"
      ],
      "text/plain": [
       "partition_equiv: (f(i) ,  ...  , f(k)) =  \\\\ (f(i) ,  ...  , f(j) , f(j + 1) ,  ...  , f(k))"
      ]
     },
     "execution_count": 80,
     "metadata": {},
     "output_type": "execute_result"
    }
   ],
   "source": [
    "partition_equiv = Equals(ExprTuple(f_i_to_k),\n",
    "                         ExprTuple(f_i_to_j, f_jp1_to_k))\\\n",
    "    .withWrapAfterOperator()"
   ]
  },
  {
   "cell_type": "code",
   "execution_count": 81,
   "metadata": {},
   "outputs": [
    {
     "data": {
      "text/html": [
       "<strong id=\"merge_equiv\">merge_equiv:</strong> <a class=\"ProveItLink\" href=\"__pv_it/9b4595cef232dd8bbf3ab3f641794aa0908c41f70/expr.ipynb\"><img src=\"data:image/png;base64,iVBORw0KGgoAAAANSUhEUgAAATYAAAAuBAMAAABQYCjYAAAAMFBMVEX////MzMxUVFREREQiIiK6\n",
       "uroQEBCYmJhmZmYyMjLu7u52dnaqqqqIiIjc3NwAAACFAiZ1AAAAAXRSTlMAQObYZgAAAAlwSFlz\n",
       "AAAOxAAADsQBlSsOGwAABPhJREFUWMPtWE1oXFUUPmneZCZvJi9ZuU2kIC6DCxeDlUntothSAkpA\n",
       "sWQWlkJpYbCbdmEzlELQEBm6iUiQAVdZhBlLcKGbh9SNog64MIssBhrIRnC6EFFs8Zxz3/2dmfcu\n",
       "Ux9uemDuO4/zve/c++65975vAKAP2vqqybbIeGR0yJdJZXXxc7HrX/ZjPBKXy+NDnkw6q4v/gdut\n",
       "r6V/aPV2lJW+aWNb6WIzVXXQzIOh8NWaM+7xTJj14DFjHXzYorb84nXpXwD4LJ3xwQtEscdDbtlo\n",
       "wUOh2Sbd+zBR1uJAYG18qUHtzHdV5QPcSme8/haNdlPemmjBQ6H52JeJspZaAmvjZ7hdb2sfr+00\n",
       "wsLffKnDCLTgqWtGDybKGvQE1sa/w+2B4eN8NNIYyzXmbcEI9IEKfeXNRFl/XxBYG79FzQfvv5z4\n",
       "4SGOoLyUQlh86SyVUomWwv4vYKEFD4fuw48f+zFRDzYSHhu/w+0T6ZcLOCHFVtpo53vqjTRnGjb6\n",
       "iQyFf1Z+uurHRD04DQIr8PfOkZ2Fi7xXPmYs+r9RVVZqaYz0/rFCsNaLfap4Ay14KFR5+t7U535M\n",
       "1IMbILA2/go1lYH02zSWqUEa489iBayy37bQgodCpauc14cJs049TbA2/oouSvYpW6Gexnhg9O0e\n",
       "WGjBQ6Hg0y8B/Jgw61w9wdr4XWqml5R/H7Jm4hWxAnn/umCjBQ+FOqvrC55Mu/Rc25xTWW9neKRc\n",
       "lOSH/5SxjpbpkBjmEpvPDdENeiT6AxK0CAkeCm1AJ+5ZMeswAoMJs843Eizj9bGhi5L8wuAEi4VS\n",
       "dHBRhH8ljr6T64ZXOx01jBahhIdCp6Gz0DViiklTSibMOv9uT2BLPbNvb+uiZP8MbgABfasEb2Jz\n",
       "npymbM619bop0Ns/RcNkNIcSHgq9BnPbbTOmmM5LbsmEWYtbCU9gfSUFNNS7ho92zO33Q1NRoSSl\n",
       "ZHtckXN4rEKSZ0U9YcQsY+6Eycx6bG/OTags7SqfTRzj3eEzBn/fzsbyiD8Vb6hDn0KKR5/YKuZY\n",
       "12Ays27asNchqLaUz3XABRn2hhj38ffGnlyT/cX4okJTSPFMy5nRMWct9EwmnTVatnFfQPGwr3ym\n",
       "5jkoDo+WjqkPP5H8y6XDVYWmkOIJZQodc05SMJl01mln9qOG69/x+yY/EZc740OeTDqrZ+bn9tz+\n",
       "b4tcP/J8sJ9go/z6duT6hZ6/OCasJ34CY7VsKOe5ptXbUaYkOYrjI2d0/6ntOco56MJsqsYzJDl+\n",
       "sRA2Az+5bQ4rZ3kWjjEtyVGGEDYDP7nVRyjna6lPaElO4vhaJn5iE2rZUc47kC0IpDjeycRPbCyJ\n",
       "DeW8vy0/m8eZluQsjh9k4Sc38X+AVs7dNXRupz6iJDmL49uZ+IktiC3lHMUfofMwda9Wkpxly8Ms\n",
       "/OSWqGXph/xWFlM3xIEljhez8M/aN62cK7Ri17L/J1LieC0L/wz1FtvKeXYpa460JGdxnOOcslo2\n",
       "lHMnxsV6E1LEsZbkLI4JezOfvrFaNpTzOn1Lb4/WxUIca0nO4piw2zntvTVbOU//is4lSMSx1sVN\n",
       "JY61JGdxfEnic7AVRznTa6yliWNbkhM2quXUt1uWchZnRWO8OHYlOR/5jZz6hpLYUM58eQTjxbEr\n",
       "yR8pfA6GkthQznypwnhx7EryqsLnYSeuX+z7i2PCeuIT+xes8Y2rrJKDWAAAAABJRU5ErkJggg==\n",
       "\" style=\"display:inline;vertical-align:middle;\" /></a><br>"
      ],
      "text/plain": [
       "merge_equiv: (f(i) ,  ...  , f(j) , f(k) ,  ...  , f(l)) =  \\\\ (f(i) ,  ...  , f(l))"
      ]
     },
     "execution_count": 81,
     "metadata": {},
     "output_type": "execute_result"
    }
   ],
   "source": [
    "merge_equiv = Equals(ExprTuple(f_i_to_j, f_k_to_l),\n",
    "                     ExprTuple(f_i_to_l))\\\n",
    "    .withWrapAfterOperator()"
   ]
  },
  {
   "cell_type": "code",
   "execution_count": 82,
   "metadata": {},
   "outputs": [
    {
     "data": {
      "text/html": [
       "<strong id=\"partition_front_equiv\">partition_front_equiv:</strong> <a class=\"ProveItLink\" href=\"__pv_it/5b85b59ef6d4481d4d496910317bf901c82648610/expr.ipynb\"><img src=\"data:image/png;base64,iVBORw0KGgoAAAANSUhEUgAAAOYAAAAuBAMAAADO/3hRAAAAMFBMVEX////MzMxUVFREREQiIiK6\n",
       "uroQEBCYmJhmZmYyMjLu7u52dnaqqqqIiIjc3NwAAACFAiZ1AAAAAXRSTlMAQObYZgAAAAlwSFlz\n",
       "AAAOxAAADsQBlSsOGwAABGRJREFUWMPtmE1IVFEUx4/Op2+mKSjaOhGEixbScsAwaxEaIRSGC9FF\n",
       "HyBKkhtdpBJFRBhDG0GEHrRyIQ7iqjZD2KYIB1pkYDSg4CbIFi0She455777vu6782YbHXj3neH+\n",
       "zznv477zfm8AQlYP+nWIZQU3JGaEsmPVoD8UL3Cbd0PxI5R9pDH71pb+lu8odMbafEUMLSVSN4oI\n",
       "mFWm3drpqvT7ABbNIaSFZbowZVYvNlUzO0G7sRu28mHKHEJaeOr8nGocEbA0jakD1xd72xTBWhgB\n",
       "j9ocEbRBGnPdrg/QNmGKYG2qDB61OSJoz3HInOuZY9/aqomsRUOA1GZxCa18BlYbI0K2QOPxmvRz\n",
       "KXHNMmVTBGvpzObSE6zmiMdX0Hoa1rxG488T0v+RFdH5blMEa5Ni7Wbqx6usNkcE7Q6Nm45v41m0\n",
       "7JsiWJvuJ99mtTlCX3Nd+ZglNWKKWPfUfAysNkcEbYnGC8p/CY2uFGvbqPX0gffaxr2fXTSOO751\n",
       "mBP3qRMbVFhre7QJXEmF38Bqiohta/SK+OX4qf098RxgvlWxmKw/IAf1y9HS05HB24hqiohtN3HI\n",
       "7yu/S6z+JL6bkr1iuApySOIzecV2tSm8mq14eqhONvU2S+LKzxZdX9gujR9C2rztauESLqSaVO82\n",
       "1W8z4gTe8YIgH1T7roS7Hrha0dZbq7NOs3/a3PvzIsDlZdfHO0YLwgrfohXwaBP19uo1qS50Nlfz\n",
       "NcDDF66P2Wh9ZsJSbHdKa3Vmt/qlOmE3V7MwEfRn4gXu8W4mfsR/+1csFkMXjBwds0bBiYjH0NsR\n",
       "/BWvr8oaqKYIZujnbyCCoWkGgfnYXCDTKTvyWPzRXOOkTepth6FzZ8ZAz9A8g80m6W9+VscrUbPN\n",
       "/PR78sJXVouNuTn9vgR6huYZb/+85TjfbbclR9GyLy+pxcbcPGxHMTTPeFHjk7cmjBpr+vOyelRy\n",
       "8zpEMfS6H5hDNRegMSsN+kh2gRn6we0O0DM0zyAwr8xra66ZSrp5wfrWKdVr8jiPIIqhj5wTrwxo\n",
       "a04bz1PlhSzck+ppZmjJNBqG5hkBzIXqM23NDeM7SuUVr5pDqd5gnpVMo2FonhHwavExC3y86+Aj\n",
       "1Ww31XTzCv9Aqtv5N39a6RiaZxCY8wfa8xxo/MnGNbLdUj3ADJ0oRjE0zyDztBWbv7aevNxS+NoS\n",
       "Q6drYYbmZ5RnEJhXqxVdzUkXrn1dCvx5xadUv1RP8lrnTysfQzMwyxl8eIYdaPHXnA9RtvrlzQsw\n",
       "C1I9zwy9CWGGJmCWMwjMiS+Ba3v2fo84tusgtUTZLnP3BvLCWRyu00bc/AjCDE3A7Mxc0vUhehq6\n",
       "Xa3PPkAg77hUi0203HxxCcIMjcCsZqZ0Pd79myUXXj4V8OU9nzmQatwuQrJU1jA0ArOaSUR9f+wo\n",
       "uA6soRp487Yc4nc4qXeImzNbdQ1D4wmoGSsKzEsKrgOfIN5okXf+iaMuxWbovYivm3jfX7IGqsX2\n",
       "F1kZZxCzAL+OAAAAAElFTkSuQmCC\n",
       "\" style=\"display:inline;vertical-align:middle;\" /></a><br>"
      ],
      "text/plain": [
       "partition_front_equiv: (f(i) ,  ...  , f(j)) =  \\\\ (f(i) , f(i + 1) ,  ...  , f(j))"
      ]
     },
     "execution_count": 82,
     "metadata": {},
     "output_type": "execute_result"
    }
   ],
   "source": [
    "partition_front_equiv = Equals(ExprTuple(f_i_to_j),\n",
    "                               ExprTuple(fi, f_ip1_to_j))\\\n",
    "    .withWrapAfterOperator()"
   ]
  },
  {
   "cell_type": "code",
   "execution_count": 83,
   "metadata": {},
   "outputs": [
    {
     "data": {
      "text/html": [
       "<strong id=\"merge_front_equiv\">merge_front_equiv:</strong> <a class=\"ProveItLink\" href=\"__pv_it/7a73c8d7dd11b4df7e27d2a92d8559ed554acaad0/expr.ipynb\"><img src=\"data:image/png;base64,iVBORw0KGgoAAAANSUhEUgAAAN4AAAAuBAMAAAC127qdAAAAMFBMVEX////MzMxUVFREREQiIiK6\n",
       "uroQEBCYmJhmZmYyMjLu7u52dnaqqqqIiIjc3NwAAACFAiZ1AAAAAXRSTlMAQObYZgAAAAlwSFlz\n",
       "AAAOxAAADsQBlSsOGwAABHVJREFUWMPtl01oVFcUx0+cN5mXN5PJQKHgyhGhuHARXLgIKmOahdZS\n",
       "ApaA0JAsIoFiYKobuzAG0QaVkSEbRaQ8cJWFzLRIF7oZSrupH8nOUSwMqHUjmCyKKIn0nnPfPffe\n",
       "l5f7ppCVeCDnHXL+59w399173+8BQAe0ddjFTf6zCF1Z0SiKd+tvxePxhA6RKrvc1XjPout4Qrf7\n",
       "5K/cVXHbugMzA5+F3GkzI3WhCXBrKrpLuxsEdfT5nSdVfBTghpE3MvAEoC90DifVixheR3cD7G4A\n",
       "fhV9759DHAOcMfJ2BnJzzvGkeh7DNdXpjK0gPxHqWFyNH2FnAL53jifVk/ik36tOvdaUHCd/x4jF\n",
       "pFV13s4AXHOOR+osTn5+UnUyu4kHjO7U1O4oDtpiBebLnNYZCP4eFP5X13BS7TdxpHKhHVInoxvf\n",
       "77qK81lxX7m6znMGfJgW/kfn71vn6WlUH/xTpU6y24URtGH4mvbnKqlF/NoX2UJF71zOwCwtgT+c\n",
       "+5zUHu6ApZet7R3qZHQTdgJdYUXF4YCYz54VTuuMiHEJ7HCNJ9W9o8L99AOG2MnopjrlKxwvidWU\n",
       "ndQbSmfAx3jMuf0qPN6RKyWQnYxuwm6iy5Q5XgBrBowMeM20+ZTqPjGfwb/Z1aiT7Kae3wG6I3ks\n",
       "ijhYy4snjAsxADsD8Abv+zSnLAsNdUb43Eqw1i87UTc2Wt9vSirOrrwSE4dljbqdATiHrqZS6IJ3\n",
       "ZqDUuAG2DQarednJt874b9Et6fiAWMwevkO8r2IZ2IXuG5Xy8GQ7rIKRUKuzYgIzLWg/lZ08643k\n",
       "4S2dN2JhL8j/BbHMDK74CqfslRka6kP87xfcDfQBXCjftA9jOm9BrA4zsyf3ng/u5saVCYZan9Dz\n",
       "3I3tIHhDdY5p19IDDsS0G5meNdrGz1UqZrfBUGfUDGKn4qCtvAW5dodjktPc5PDPyNQu4nVIpWJW\n",
       "NdWBGgI7ZWJvzGI1Hs8mnVRSlet0xROvouvsJt0+2cdlxTjobgHndsOrDLpbwLmu1yadH/69MALd\n",
       "/rk0zpVaURfsqyRzrssW5Tvh81YEuuLFl8K5pKW6vrlkznWZPPFOHgs16KZwLmmpbqCVzLkuIwCI\n",
       "gLUrzpVaqov4eAPnuqrrmkWOd8W5Ukt1v0Ey57oePi6X3BfDcxHo3q6lcG6kpboFeHgZEjjXYfLG\n",
       "BpbVz2qOpXGu1GJd8LbwaBoMzu3C6EUXsYgA3WLrUhqXSS3WFT581/MzJHCu66NqVLPICaSx9TTO\n",
       "XeI6f7qUzLmp491h0CWuHkv9LKI67/ovkMi5rudH87mXQbevnDafe7muMTpRgv85nxl6+jMMuo1W\n",
       "M4VzZ7junFAvJ3GuazeV9YcRboMJhImaSbYxzo20WLcLGqVmEue69ntFfxgh6GYem5yLiBvj3EiL\n",
       "dfuhvxYmca7LkFf9soXATs6NtE7OdZk4aX+Xi4bPaRfnKq2bc10LpgNfLloI7ORc1jo512GCV89e\n",
       "tRDYybmsdXJuN7zKoLtlnPsfuohXHBMN5EEAAAAASUVORK5CYII=\n",
       "\" style=\"display:inline;vertical-align:middle;\" /></a><br>"
      ],
      "text/plain": [
       "merge_front_equiv: (f(i) , f(j) ,  ...  , f(k)) =  \\\\ (f(i) ,  ...  , f(k))"
      ]
     },
     "execution_count": 83,
     "metadata": {},
     "output_type": "execute_result"
    }
   ],
   "source": [
    "merge_front_equiv = Equals(ExprTuple(fi, f_j_to_k),\n",
    "                           ExprTuple(f_i_to_k))\\\n",
    "    .withWrapAfterOperator()"
   ]
  },
  {
   "cell_type": "code",
   "execution_count": 84,
   "metadata": {},
   "outputs": [
    {
     "data": {
      "text/html": [
       "<strong id=\"partition_back_equiv\">partition_back_equiv:</strong> <a class=\"ProveItLink\" href=\"__pv_it/699ef1c0dd6f01efc2b3537dcaab8cd96912b62b0/expr.ipynb\"><img src=\"data:image/png;base64,iVBORw0KGgoAAAANSUhEUgAAAOkAAAAuBAMAAAA/9CPcAAAAMFBMVEX////MzMxUVFREREQiIiK6\n",
       "uroQEBCYmJhmZmYyMjLu7u52dnaqqqqIiIjc3NwAAACFAiZ1AAAAAXRSTlMAQObYZgAAAAlwSFlz\n",
       "AAAOxAAADsQBlSsOGwAAA1xJREFUWMPtmD9oU0Ecx39tXvLSJKYO4tqIIB2DY6AljR3EFilYhA7F\n",
       "DnaRikGXOlhLKXQoSnAplIIHnToUS+ikSxBddDDgkkEwYKGLYB0cFAXvfvfy7pJfc/f+bOJv+L1f\n",
       "yvf7fu/d3bv7UAAa7d66DYEirywBHVqcafTW88GMn+RlPrhDi/eY06+YV7e6nuO0kNrcAU8DJVTb\n",
       "HCQyNbzUzze8egpg22xBLezh4NSkejtk13QVL0s3mF/DstmCWtjo/Fy2O0ikMCd/qZpfmckhtbAA\n",
       "mtrsoDGHOVtWNcBQ1eSQ2mQNNLXZQWNTJPdSZVXWmVaT37dgMHjatFhM+x9Bqo2OU2IL83DTq7NJ\n",
       "PnJuzeSQWny71VRVqqVjfVJEJUDXaczfznr11zT358omh9Q6fB277eGGVJsdNBYxf+jUTLzJwInJ\n",
       "IbWpGayZVJsd/boe+rW4T3LB5DjUuq6DVJsdNHYwX/brZ2AbL6kdwu1oCvQRDj6vY5jvdurM7yyf\n",
       "r6LYtKiWadqEWFP5HyDV6AgRdTw+vnfq5Mkx/yrEHV/wZZX5CV7yf3W0+K24YjqFGh0hYlak3Ilf\n",
       "j/FvwREnl3ONp6vgJUd8o5NMaZNiTAfFKwq1E/Ksc8R3kC6omscR5ndEm2NKCxNiSTU99VHIfdjl\n",
       "L/FaLg2swd/YD+heCErLN/zBxuPOMbAR9nwdB7iyp2oxc7g0MnSq9kHTJtojjWlPnS+G7boL8Oip\n",
       "qsX9cK26VCo2QV+bKaZbM546wcJ2zVd765VgxmN5WQnu+B//XMSE7mB/7yX0uNBN4a0ZgNAldG++\n",
       "hIjQ3R3nWM/jnE7oErqzF5YgKnTrBD/6nPcYYlZCl6CdeluCqNDdFZ+Z2r0NhC5B+xaLDt2kK9yx\n",
       "Evqchj7RoJt23bISOkL3/dujEBm6ade6ldDlc/2B6NBNuz60Evq0hj7RoJt2fWMl9EUNk6JBN+wh\n",
       "f06oriNWQl9Ucx4Ruum73rQSOkJ3ohADuo0j3IfQEbpTzRjQTbs+sBJ6Xc15H+gWhQm6adcnYCP0\n",
       "WTXnfaAbedsA3XpcvFfht70ONkJH0F6DGNBNz9KyldD5Vp0r7EAM6O7zXxwzoY+DU6rFgG4aXwIQ\n",
       "+i64rXYM6KZRCkDocaGbHg9tK6H/BaU8ZuAo6gTFAAAAAElFTkSuQmCC\n",
       "\" style=\"display:inline;vertical-align:middle;\" /></a><br>"
      ],
      "text/plain": [
       "partition_back_equiv: (f(i) ,  ...  , f(j)) =  \\\\ (f(i) ,  ...  , f(j - 1) , f(j))"
      ]
     },
     "execution_count": 84,
     "metadata": {},
     "output_type": "execute_result"
    }
   ],
   "source": [
    "partition_back_equiv = Equals(ExprTuple(f_i_to_j),\n",
    "                              ExprTuple(f_i_to_jm1, fj))\\\n",
    "    .withWrapAfterOperator()"
   ]
  },
  {
   "cell_type": "code",
   "execution_count": 85,
   "metadata": {},
   "outputs": [
    {
     "data": {
      "text/html": [
       "<strong id=\"merge_back_equiv\">merge_back_equiv:</strong> <a class=\"ProveItLink\" href=\"__pv_it/8289e38773351ab684465be434cd2f074497b15e0/expr.ipynb\"><img src=\"data:image/png;base64,iVBORw0KGgoAAAANSUhEUgAAAN4AAAAuBAMAAAC127qdAAAAMFBMVEX////MzMxUVFREREQiIiK6\n",
       "uroQEBCYmJhmZmYyMjLu7u52dnaqqqqIiIjc3NwAAACFAiZ1AAAAAXRSTlMAQObYZgAAAAlwSFlz\n",
       "AAAOxAAADsQBlSsOGwAABGRJREFUWMPtl01oFEkUx18yPZmZns5kToInR4TFY/DgIahM1INfSEAR\n",
       "hA2ZgyKIC7O7Fz2og4hBQ2TIRZEgDZ5yCDNK8KCXRvTirjrgYYfFQ4NxvSxschBxScR6r7qquno6\n",
       "NZWj4IN5/cL/1avq6tfVvwBACMpC6fpbKTYkXSItqQ8HyXjSbr53/DK5sURaUv+D/MwTEXe1FaRZ\n",
       "/qnPvNdmbmAskU11UHpwJlp/oprbRF/cfkHERwHumed7tAVLLNCGNPVsXoeku+juQbJavo5+6MWY\n",
       "jAEumue7cALvb1r8Gc/mdUhaE5pebYj8lK9idvVN02X/p0sNUrJ5nZrMQk2vdpr8UiwGKNRN8xWr\n",
       "NGsTUrKXpFSsCU2vNoPutzM7o9jtdlhuxTBd7qf9Ddx7bJfFt6Bl8zokFSpe1ydNr3aH/LqIi1m2\n",
       "rlzTdH8jHXlXjaG6nr0upVb9z3/qpHH9+kG0/XCM3s9Vymbxv3mmelXTfP+V0TusR3PhSKBl8zoo\n",
       "wZsPwdaQNL3aWXTeioh9XP3Aimm+N7xLJij2tWxeh6Qbv2KIml7trGoBirFCtmaabyk233XQsnkd\n",
       "kg7PlCNNrzaPLlOR8Rz0289dvCvp2DiqZ/M6KLmfsquRxnXx/PbSiqgFMHbXiuy5jOJh0zsTf5F+\n",
       "4aVxSOkTRNlc4nVQyq24a8NcI10dTqoFMM6ufGQNjcNarHHcLxA5+ZfoLeryHD4azOZSVAelwVF3\n",
       "tci1fCc+30nVAhTvZc3s4DfEOcLcIYicg+/cQV/1VhZ3aRCXTtkkRXVQygTQ/ZtrjvZFcnBJ12Ix\n",
       "s2XyL3v208Oi+ej1HRf7tywlUWdcjliW1eRx0QCvMi9jMn4Ut3tPMvZ7VgjEMT0YXJUHN0qyjjqh\n",
       "p+MHO7d94Iw1ZUxPiB6w2+mZb5H9DiyIXgy3BcdkNkqyTkbsIGqlUb3IA8h1QxlTOu1Nrrc/8Zy6\n",
       "fFt8OEfz3QmZjZKs44opUMskPjalejK+YscTH/nlysYSaZbVfth3bKUkApc2Ny60p2aNVyUCZzub\n",
       "GjdpT80gUDbCWkTg4UZ8BUYEdndX0znXZAsKawmBnTYUfEsELjTSOddk0wprBQKLo7UvAo8E6Zxr\n",
       "sprCWoHAcN4SgSNy9vtRc3x0U7HIaZ0b+yPwY0jnXNPDbyusRRxenBUcYIHAc/DqFqRwrsH4wjjW\n",
       "4m21TzF3yQ6B3c/e63MQ41wLI16NWIR94UrBTRY8t0Ng7+vPA/chhXMNFqGsQFKXKH2bHQLnz5XT\n",
       "ObfvfEsSgT3svlN2COzcfQipnGt6foHC2nn6V6fffioEbk1MlWGT+0koG2Et4nArYI33ux0CX2XZ\n",
       "nTTONb1NFYW1+BpMIWbM2iHwDmiV22mca3rfqwprEYEzfzF33A6B98DwrJ/GuSYbV1grELhUtUTg\n",
       "jTjXZBcV1opzmp/bfRHYwLmmhgkV1nIEhvd2CGzgXIMxXpVYyxEYxuwQ2MC5FiirEDgXbmrcxpz7\n",
       "DRiCWxgWHzREAAAAAElFTkSuQmCC\n",
       "\" style=\"display:inline;vertical-align:middle;\" /></a><br>"
      ],
      "text/plain": [
       "merge_back_equiv: (f(i) ,  ...  , f(j) , f(k)) =  \\\\ (f(i) ,  ...  , f(k))"
      ]
     },
     "execution_count": 85,
     "metadata": {},
     "output_type": "execute_result"
    }
   ],
   "source": [
    "merge_back_equiv = Equals(ExprTuple(f_i_to_j, fk),\n",
    "                          ExprTuple(f_i_to_k))\\\n",
    "    .withWrapAfterOperator()"
   ]
  },
  {
   "cell_type": "code",
   "execution_count": 86,
   "metadata": {},
   "outputs": [
    {
     "data": {
      "text/html": [
       "<strong id=\"x_0_to_jmi\">x_0_to_jmi:</strong> <a class=\"ProveItLink\" href=\"__pv_it/ef4835b5a09cde1f40c5da61f5a4cd43054519900/expr.ipynb\"><img src=\"data:image/png;base64,iVBORw0KGgoAAAANSUhEUgAAAGoAAAAPBAMAAAD+NkdNAAAAMFBMVEX///8QEBC6uroyMjJERETc\n",
       "3NyYmJgiIiJmZmaqqqp2dnbMzMxUVFSIiIju7u4AAAAoIwv1AAAAAXRSTlMAQObYZgAAAAlwSFlz\n",
       "AAAOxAAADsQBlSsOGwAAAQ9JREFUKM9jYHh75/WqCQz4ADYVDbxnOQrw6oKq4Ibx+QIY2AJ4v/Ik\n",
       "MKy6hVMTVAUD+waoANcFoAksBiAGkwMuXRAV6ID/AgMD4waGr7idCFKBDvQD+B7EBzBI4tYFUsHw\n",
       "thPKY7rDwPBE4TwDF8P+BwxlDAwPMNSDRCAqGBomw7z1/gHD/H2NDJogXbIMfJ+BYu+BfkBlQFTw\n",
       "PVgB1RU3nYHhxV3OtgkMQBf+ZGAoBxrN3gCUqGCAMkAiEBUMDGYMW1yAIIDBF+YSSGhwYjgRWQQW\n",
       "XHz/EFHABAp/DH8hiXALwEwyWAATW3UDaOpbzMSEYPIegNl1NgBFTQKGLiQR5gQG0oHRRjI0MfT2\n",
       "IXEAkXRVWTxgJoQAAAAASUVORK5CYII=\n",
       "\" style=\"display:inline;vertical-align:middle;\" /></a><br>"
      ],
      "text/plain": [
       "x_0_to_jmi: x_{0},...,x_{j - i}"
      ]
     },
     "execution_count": 86,
     "metadata": {},
     "output_type": "execute_result"
    }
   ],
   "source": [
    "x_0_to_jmi = ExprRange(i, IndexedVar(x, i), zero, subtract(j, i))"
   ]
  },
  {
   "cell_type": "code",
   "execution_count": 87,
   "metadata": {},
   "outputs": [
    {
     "data": {
      "text/html": [
       "<strong id=\"merge_series_conditions\">merge_series_conditions:</strong> <a class=\"ProveItLink\" href=\"__pv_it/f3b1a40431dace5deb758eadd3704b54ee372ccd0/expr.ipynb\"><img src=\"data:image/png;base64,iVBORw0KGgoAAAANSUhEUgAAAXcAAAAWBAMAAADJMcGGAAAAMFBMVEX////MzMxUVFREREQiIiK6\n",
       "uroQEBCYmJhmZmYyMjLu7u52dnaqqqqIiIjc3NwAAACFAiZ1AAAAAXRSTlMAQObYZgAAAAlwSFlz\n",
       "AAAOxAAADsQBlSsOGwAABCJJREFUWMO9V0FoE0EU/W2yyXaTpgGhBz20JwWhKIoHBYutQUVLqVgq\n",
       "gpIK1oO0EFBEQWsPxSJSCV4K4mHFixVKg/ZWhUU8iCIJ8WBAxQULBRGaHgSttfj/zO4mu7M7WUQc\n",
       "+LuT2fn/vfnz588PAJjQuKX8h83gTw00IdhgyGlsaqsRYvZH/+EzKErpbzT9WyguFi4JvJFOUxd1\n",
       "fCYLaHjC/WWxYnIwKT3SDNM4DnHx4kDTPs9AheGSaHmp0SftxG8WJeqm0WJo/QD3qKdL9GdD+pzh\n",
       "MC5R73JbvQyPcVwUNSc1OnqCqE3VjZzkr0sATwGuYC8+IdGfCkme4dRzUaS8rnCJSW0qa+w1XDf0\n",
       "lr92ARR1iNHSLkgMDIfjznHquSSlR4lwUU5JjSYOMNN5kfwPgKwBLeSfGQmpfDjyHOdUaPKEi3Ib\n",
       "u3PlB4u+5zy+tZdiQsUwnJt2kdeIfA4SnRSvknOImtqn7VueyblbOIzLtIf83Dv3XK2CXwgXhdw2\n",
       "0dqlHrA/Tmao9fIfbSV7nYUhF/nUL4COEsTJs1flHlKhXJrEftqBNwNwiIuN45CfiLmjP6FgKBIu\n",
       "Sh8+zdaN5hwsfhDBVxhi1ICUcUskX4AkrfllMHnUhHH4bG7Dfo8DXwrAQS4Ojk0+bra5g+KbisQJ\n",
       "F2UEEylE8mRS2SkYLfLjMQAa/LbcdZ65S0Py2RI0VXGwQ3KwBsjjexvGPMdBLhxHzWQOnctkOvk3\n",
       "SgqzbJ9o/TrtEuGijNi7FkvDhmB0waGQXBMObNEA2kIYkpMHvm5pW7DJOzi1AzvpXSguhnBR7tPv\n",
       "rKnpKyaMCrG4y7qQUDrd5HcD3NAbhg1pgrIBj/Gc2buvlCEAh7jYODXyxzw274ITNvsBHg7sgAR0\n",
       "6HBYAB9jzwgamjcKLvKXATA64xRpF+kQisR1rqntaa5CAdSknTUT83oADnJxcBzyqe+ebLOe4Lgo\n",
       "mOeKm2/CaSI/JpSEqxwOvZFN5Vzko4Z2FoOTICi5zeeth/azvoOaydVHw4oBjxP2RfxV3CkLh3Ku\n",
       "jeOQj1c9V0d1meOiDAI8+pScMgDDZl0oq7iigpsUee8OG+15GTNElLJeP63lKD2I3xG7k9GZpjZd\n",
       "enWNZ81Nu7GZzMG+OINQw3HIN3vTyP4cx0WJ2unX78CqVgD2iDcsb0vkNnZFvBYZ6S7NNrtW19bS\n",
       "ATjRtM8NG/O7ape4OGUVpkrvXf6ixajVQZ7CrFZ38XJKLH0Tbs12h1a+EIBTX+JZhVmzcUMPqPdI\n",
       "umsFunfaQbugjQT8w0nRln5h7hT9M+fWLDsnrssMwukWjHQYfQG4DPthcKK7fsfG2+k/IULLZf8V\n",
       "4uLHnFtzJgSOyEWtDATgMuxULkTVt+w/PM7u7zCaLcfDFMehuFi44/DfmlrR/73RPwIRNWOMk40V\n",
       "AAAAAElFTkSuQmCC\n",
       "\" style=\"display:inline;vertical-align:middle;\" /></a><br>"
      ],
      "text/plain": [
       "merge_series_conditions: (x_{0} = f(i + 0)),...,(x_{j - i} = f(i + j - i))"
      ]
     },
     "execution_count": 87,
     "metadata": {},
     "output_type": "execute_result"
    }
   ],
   "source": [
    "merge_series_conditions = \\\n",
    "    ExprRange(k, Equals(IndexedVar(x, k), Function(f, Add(i, k))),\n",
    "              zero, subtract(j, i))"
   ]
  },
  {
   "cell_type": "code",
   "execution_count": 88,
   "metadata": {},
   "outputs": [
    {
     "data": {
      "text/html": [
       "<strong id=\"merge_series_equiv\">merge_series_equiv:</strong> <a class=\"ProveItLink\" href=\"__pv_it/6c3a0212b7eff34fe59c04314a779ba0cdedd0350/expr.ipynb\"><img src=\"data:image/png;base64,iVBORw0KGgoAAAANSUhEUgAAAI8AAAAuBAMAAADjDVfrAAAAMFBMVEX////MzMxUVFREREQiIiK6\n",
       "uroQEBCYmJhmZmYyMjLu7u52dnaqqqqIiIjc3NwAAACFAiZ1AAAAAXRSTlMAQObYZgAAAAlwSFlz\n",
       "AAAOxAAADsQBlSsOGwAAA3VJREFUSMflVk9IFFEY/1Znd8eZde3kpYPbpaKTFB0SlK08REkYRuBB\n",
       "MshLGCx1MShbIhASQ7oI4mHKS0qmiCdLGKKgPwcHu+yhPwsJXoLWQ4ckpe/73rydeTPuZHPtwW/4\n",
       "5s3vffPe9773/R4AZCFWCw/7FM9R0gl0ZBbiOQpNYCamH2iw1PeRuI7SRfW9P64juKbGbDy2ownl\n",
       "TcdYG5+P7H8ZOWZXxqIasgI6gzXnfqQjydgnO54jbvGXTm450GyAYfhaPgTmSu1EEAyAk7JjBfFa\n",
       "oaS66T8n+FtPTUeCEWgtIUcA24gr0FSuvbjtcNclNUY2bd0OzGZ3IGXXPhDIAKMkCX05ubRqjOod\n",
       "MI7XVWAhsQVaAYzwhhGYAXpG5sryFj5uKjwzB5nNp/1JGx2lHJhHqvEL+xVDMGDWdJM5+yyPzzF1\n",
       "znkwxpy3twGX1mSDdhb7ziC0ojSwRzAoVxLHsHXQOgDOq1Ov7qgI9vvQ2nw91d2Yf4zTyqu8IS81\n",
       "evEZziVfT7M03pkY5oLKq5d/MVce4CKcULB9PWvSePIF4FuQ2KrUhnC1qHVM24LMjT1Xsgv+kpMu\n",
       "xy4besmC/7SVg/Yeo5j1hvCIRt+RF3bfP+lanxzxgV9Hl6VdUlzvunsvLCmsiTZmEwyuDOaBQXDt\n",
       "cwCT0Y4Wm20prI3jgj0pT0zqDeWpPD1D0Y4Geyy/sA4JpPjlMqdaSpbfyMRLbqnCSmxEL78s8bPX\n",
       "J1G1m5lXhZXYiFGyb1w9zBHHMJUcrpoRkn/wVNEVVpj7KGosYcKnEWibSZxyOlLGm5zqrIupgmAj\n",
       "uji3NpmC9nedSnQ+ytEPllsS1nQZizOzEQN82aowBW2L/peoRDla9enhqiXYiAEvfmzTp2TkVWfJ\n",
       "54juA8RGTHG5FdEl+xH8bWlHPWGl7JVLa2f3oi6jbfzGsp5udYUx0ER6XRelnoZkf4JgIxa9+JGd\n",
       "rGDl1R2/Qqp6KTeGUyRNwSQ24qIXP7bbcUO1siuMrJCeXnZa3sYkafl1NHViIzSazD3hSHPvUetB\n",
       "YZQ3aXKk5zxh5ZCsC+DdNJObUu+pI0FhlIcD8arBlme1zr4rTy+hA7Q2mckdovS1BoXRbXOI0zNV\n",
       "YW2xu1w2j5iGdEkW12lBsXaXSqBTcedhVVj1UrfL5hFZ31EX9vDeSu2GvF4y/gAlePHxKU/Y+QAA\n",
       "AABJRU5ErkJggg==\n",
       "\" style=\"display:inline;vertical-align:middle;\" /></a><br>"
      ],
      "text/plain": [
       "merge_series_equiv: (x_{0} ,  ...  , x_{j - i}) =  \\\\ (f(i) ,  ...  , f(j))"
      ]
     },
     "execution_count": 88,
     "metadata": {},
     "output_type": "execute_result"
    }
   ],
   "source": [
    "merge_series_equiv = Equals(ExprTuple(x_0_to_jmi),\n",
    "                            ExprTuple(f_i_to_j))\\\n",
    "    .withWrapAfterOperator()"
   ]
  },
  {
   "cell_type": "code",
   "execution_count": 89,
   "metadata": {},
   "outputs": [
    {
     "name": "stdout",
     "output_type": "stream",
     "text": [
      "a_1_to_n expression notebook is being updated\n",
      "x_1_to_n expression notebook is being updated\n",
      "x_1_to_np1 expression notebook is being updated\n",
      "y_1_to_n expression notebook is being updated\n",
      "z_1_to_n expression notebook is being updated\n",
      "range_1_to_mp1 expression notebook is being updated\n",
      "f__x_1_to_n expression notebook is being updated\n",
      "f__y_1_to_n expression notebook is being updated\n",
      "A_1_to_l expression notebook is being updated\n",
      "A_1_to_m expression notebook is being updated\n",
      "B_1_to_m expression notebook is being updated\n",
      "B_1_to_n expression notebook is being updated\n",
      "C_1_to_m expression notebook is being updated\n",
      "C_1_to_n expression notebook is being updated\n",
      "D_1_to_n expression notebook is being updated\n",
      "P__x_1_to_n expression notebook is being updated\n",
      "P__y_1_to_n expression notebook is being updated\n",
      "P__x_1_to_np1 expression notebook is being updated\n",
      "Q__x_1_to_n expression notebook is being updated\n",
      "Q__y_1_to_n expression notebook is being updated\n",
      "Q__z_1_to_n expression notebook is being updated\n",
      "Q__a_1_to_i expression notebook is being updated\n",
      "Q__b_1_to_i expression notebook is being updated\n",
      "Q__c_1_to_i expression notebook is being updated\n",
      "R__x_1_to_n expression notebook is being updated\n",
      "R__z_1_to_n expression notebook is being updated\n",
      "f_1_to_i expression notebook is being updated\n",
      "f_1_to_j expression notebook is being updated\n",
      "f_i_to_i expression notebook is being updated\n",
      "f_i_to_j expression notebook is being updated\n",
      "f_i_to_jp1 expression notebook is being updated\n",
      "f_i_to_jm1 expression notebook is being updated\n",
      "f_i_to_k expression notebook is being updated\n",
      "f_i_to_l expression notebook is being updated\n",
      "f_j_to_k expression notebook is being updated\n",
      "f_k_to_l expression notebook is being updated\n",
      "f_ip1_to_j expression notebook is being updated\n",
      "f_jp1_to_k expression notebook is being updated\n",
      "g_k_to_l expression notebook is being updated\n",
      "k_to_l_len expression notebook is being updated\n",
      "concat_len_equiv expression notebook is being updated\n",
      "concat_len_simple_equiv expression notebook is being updated\n",
      "iter_ext_equiv expression notebook is being updated\n",
      "partition_equiv expression notebook is being updated\n",
      "merge_equiv expression notebook is being updated\n",
      "partition_front_equiv expression notebook is being updated\n",
      "merge_front_equiv expression notebook is being updated\n",
      "partition_back_equiv expression notebook is being updated\n",
      "merge_back_equiv expression notebook is being updated\n",
      "merge_series_equiv expression notebook is being updated\n",
      "Common expressions may be imported from autogenerated _common_.py\n"
     ]
    }
   ],
   "source": [
    "%end common"
   ]
  }
 ],
 "metadata": {
  "kernelspec": {
   "display_name": "Python 3",
   "language": "python",
   "name": "python3"
  },
  "language_info": {
   "codemirror_mode": {
    "name": "ipython",
    "version": 3
   },
   "file_extension": ".py",
   "mimetype": "text/x-python",
   "name": "python",
   "nbconvert_exporter": "python",
   "pygments_lexer": "ipython3",
   "version": "3.7.4"
  }
 },
 "nbformat": 4,
 "nbformat_minor": 1
}
