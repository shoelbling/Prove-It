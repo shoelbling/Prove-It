{
 "cells": [
  {
   "cell_type": "markdown",
   "metadata": {},
   "source": [
    "Theorems for context <a href=\"_context_.ipynb\" class=\"ProveItLink\">proveit.core_expr_types.tuples</a>\n",
    "========"
   ]
  },
  {
   "cell_type": "code",
   "execution_count": 1,
   "metadata": {},
   "outputs": [],
   "source": [
    "import proveit\n",
    "# Automation is not needed when building theorem expressions:\n",
    "proveit.defaults.automation = False # This will speed things up.\n",
    "# the context is in the current directory:\n",
    "context = proveit.Context('.') # adds context root to sys.path if necessary\n",
    "from proveit import ExprTuple, ExprRange, IndexedVar, Function, Len\n",
    "from proveit._common_ import a, b, c, d, f, g, i, j, k, l, n, x, aa, bb\n",
    "from proveit.logic import Forall, Equals, And, InSet\n",
    "from proveit.core_expr_types._common_ import \\\n",
    "   (range_1_to_i, range_i_to_j, range_i_to_jp1,\n",
    "    a_1_to_i, b_1_to_i, b_1_to_j, fi, fj, f_jp1, \n",
    "    f_1_to_i, f_i_to_i, f_i_to_j, i_to_j_len, j_to_k_len,\n",
    "    concat_len_equiv, concat_len_simple_equiv, iter_ext_equiv,\n",
    "    partition_equiv, merge_equiv,\n",
    "    partition_front_equiv, merge_front_equiv,\n",
    "    partition_back_equiv, merge_back_equiv,\n",
    "    merge_series_conditions, merge_series_equiv)\n",
    "from proveit.number import Naturals, NaturalsPos, Add, zero, one, subtract"
   ]
  },
  {
   "cell_type": "code",
   "execution_count": 2,
   "metadata": {},
   "outputs": [
    {
     "name": "stdout",
     "output_type": "stream",
     "text": [
      "Defining theorems for context 'proveit.core_expr_types.tuples'\n",
      "Subsequent end-of-cell assignments will define theorems\n",
      "'%end theorems' will finalize the definitions\n"
     ]
    }
   ],
   "source": [
    "%begin theorems"
   ]
  },
  {
   "cell_type": "code",
   "execution_count": 3,
   "metadata": {},
   "outputs": [
    {
     "data": {
      "text/html": [
       "<strong id=\"tuple_len_0\"><a class=\"ProveItLink\" href=\"_proofs_/tuple_len_0.ipynb\">tuple_len_0</a>:</strong> <a class=\"ProveItLink\" href=\"__pv_it/4798b6ea35e8611160512705431543e9c7df1b1f0/expr.ipynb\"><img src=\"data:image/png;base64,iVBORw0KGgoAAAANSUhEUgAAAD8AAAAVBAMAAAADRiu8AAAAMFBMVEX///9UVFREREQiIiIQEBCY\n",
       "mJhmZmYyMjLu7u6qqqrMzMyIiIi6urp2dnbc3NwAAABm9RoHAAAAAXRSTlMAQObYZgAAAAlwSFlz\n",
       "AAAOxAAADsQBlSsOGwAAAPVJREFUKM9jeMAABA/4wCQDNnAHiLkn8GyAMrErmMvAsBObgrvbHoBF\n",
       "OQoYGNgbMBWwT+CwA4uyBTAwsCZgKghmYLgEFmUB8TwwFSgyMMxvAIkeB/FKMRV8Y2A4PwEkmgvi\n",
       "XcRQwAFSEAASLQVxw6EKko1BwBDI4vvLwLB+A0jUEiQxGcMEsIILIFEfEHc9phVABec3wBUcwerI\n",
       "+WBHViJbgXADgxIDQzzYm9ogXhCmCSEMDOlg0YsgXjamAuYJHF5g0cMgnh2mAo7bGxeARZmBFJ8B\n",
       "nugGRRQownCnBz0Ghkd4E0wTA4MGTgW7QIEawPoAysQAAFSFU7mW6tUXAAAAAElFTkSuQmCC\n",
       "\" style=\"display:inline;vertical-align:middle;\" /></a><br>"
      ],
      "text/plain": [
       "tuple_len_0: |()| = 0"
      ]
     },
     "execution_count": 3,
     "metadata": {},
     "output_type": "execute_result"
    }
   ],
   "source": [
    "tuple_len_0 = Equals(Len([]), zero)"
   ]
  },
  {
   "cell_type": "code",
   "execution_count": 4,
   "metadata": {},
   "outputs": [
    {
     "data": {
      "text/html": [
       "<strong id=\"single_elem_len\"><a class=\"ProveItLink\" href=\"_proofs_/single_elem_len.ipynb\">single_elem_len</a>:</strong> <a class=\"ProveItLink\" href=\"__pv_it/45d3905438f374d42f36e8f2712a9702f237f93d0/expr.ipynb\"><img src=\"data:image/png;base64,iVBORw0KGgoAAAANSUhEUgAAAIEAAAAVBAMAAACTeZA2AAAAMFBMVEX///+IiIgiIiIQEBB2dnbu\n",
       "7u5UVFTMzMzc3NwyMjK6urpmZmaYmJiqqqpEREQAAACk/Np2AAAAAXRSTlMAQObYZgAAAAlwSFlz\n",
       "AAAOxAAADsQBlSsOGwAAAehJREFUOMtjYMAEDUAIAhwMyFQDA1al2ADjBQYvMEMWwucSAFNe2NQu\n",
       "BOIHIMYdZNErUNW8DlABWewmsKuCbWPYBeLMQJJgnQBVHQkT4QzAZkLYzq9AcioDQxnIpw+QZLgP\n",
       "QFXvgYnwbMDqBkaQCachFrBcQJJghqk2gAuZ4jaBOYCBB2glJ7LESqhqrglwoTm4TeAEajdSUjJB\n",
       "ltgCVc0NCshux0Yg6YbbBJYEBobtDAxPkSXmQFWDTOeyYHgP9OVJuAmblEBADWECD9ClbQwcCcgm\n",
       "6EJVMwEDJ/gAwyYg8xJuN/AqMDDwBbAsQJawgqpmBoruD2BQATLrcZvA/gFoigBKQKKYYMfA+gvI\n",
       "XIzbBC5QjE04CCSiD3pAJebCwuECA+sXBp4PKL7ACAeQLxh8gemKVZ39K9SEh1DVfAIMrH8Z+Cbc\n",
       "YGA4h9sNPKDE2AwMSO4N7LAE5AZVDYqniQyHNgAjdSNuE7hB2Y6vgIGBfwEjLEIWwVIU0H1hIhWJ\n",
       "QFkNbCawPf6UCIwxWP6Ob+A7GgBhMhVAVavD1HIo4MzdDE3wzNBQvwYpH4FVn0bOa7hMgGc/rj0X\n",
       "fWDsF1DVfDAH9uEuYVByNRzEQVWzwmSf4jaBLwCruQcYxMGMHqi3IG4Rx6b2BAMDAFGfcipqGgNK\n",
       "AAAAAElFTkSuQmCC\n",
       "\" style=\"display:inline;vertical-align:middle;\" /></a><br>"
      ],
      "text/plain": [
       "single_elem_len: forall_{a} (|(a)| = 1)"
      ]
     },
     "execution_count": 4,
     "metadata": {},
     "output_type": "execute_result"
    }
   ],
   "source": [
    "single_elem_len = Forall(a, Equals(Len([a]), one))"
   ]
  },
  {
   "cell_type": "code",
   "execution_count": 5,
   "metadata": {},
   "outputs": [
    {
     "data": {
      "text/html": [
       "<strong id=\"tuple_len\"><a class=\"ProveItLink\" href=\"_proofs_/tuple_len.ipynb\">tuple_len</a>:</strong> <a class=\"ProveItLink\" href=\"__pv_it/7d8f0ec934a526ff1174a6717a9428505774d9010/expr.ipynb\"><img src=\"data:image/png;base64,iVBORw0KGgoAAAANSUhEUgAAATYAAAAWBAMAAAC4Sa0YAAAAMFBMVEX///+IiIgiIiIQEBB2dnbu\n",
       "7u5UVFTMzMzc3NwyMjK6urpmZmaYmJiqqqpEREQAAACk/Np2AAAAAXRSTlMAQObYZgAAAAlwSFlz\n",
       "AAAOxAAADsQBlSsOGwAAA5dJREFUSMe1ls9rE0EUx1+aXXbzY2Ospe2hSgnUHxShiEKpCqtglaCy\n",
       "lfoLqUn/AUkpePDSFbUnKbkIHqpW60UUTKVQ1B7Sg4cqalrU4o9DPRS1aMFDQHtyfu1kszuTdg8+\n",
       "IZ31+3bmM/Pem30AUqvfBus3G/3Dpgd4R5e+oa+1fDrAMqESc98c4KVoEv8qYxIlDYt4/EXMJte8\n",
       "9o5txTADsNGN+NlCBaKk4Rl+uilmk2seU/OM7WwQNIhYQrY6kyhpuIjDuyhmk2seixUZ23QgtnhB\n",
       "ElOipAmhUhKzyTWPhZ307AjEBntkbFhJQxxtOSKpBbnmsQeMLZoPxjYqZRslE+5KpXbL6lSqeWyS\n",
       "scVwKeiTzcnadwd36Bax9UxQBU04BbCEstkWsVFtffvHbBF00DBuJ8o1vanDGTSa5WxPUti24qE5\n",
       "ThU04TDoWeRBd6K1p2FTlrNRbW3bydjqUHKq+yDWCuqsvKiJAxxAw3nBuemlp1RBEyYsRx24sAwf\n",
       "FCtmcbaKVtu6GFsYecfK+BIYqJcXNXEgNiRgU+E3VdCERpKle2wK37TJglKJKdcCsIUXITNGj0RS\n",
       "1NSBRFeUb0aZKnjC/AwqsEaAFiwsfLrsYiManJs54g/MdIMrQ285+YZimjHhLdRiow53s1UxdeVb\n",
       "JMtjCsduIIeMpZJLdkHpu+9iw5q6TfPn9onckFV5+srcEyhrMyX4YdhkWcu/JXAcDuE534jOLVMy\n",
       "iYInvII4r81DtEjYoLDFxYa1WEHrAN1Tr89h0HX3dTN3BblHkvF2hWxc/YtXyrsG5Ic46H2oHGBC\n",
       "xPZYLxKFbDZHdh6/vbLyC7H1RlxsWNswFsrCpbbqCVah0fV0z7l70YJq/+HhJhquFDq4Ovxdagc2\n",
       "qGtzHPARw3YRW6KFKk4fpJZzmknPLTrn6ZEyduKFBdVs6h/4edLYyL/OOeZe6bkwm+EP6nseudPo\n",
       "umiVfRew4qxv5E16y74EfiCOFraHHgFm6wXVJD/oT6e2WjQ+V3+akb2qYlP8i/Ie6qNCWwQxG28e\n",
       "8Dn02zCCNh/dkYOEhy06PXeUsA2WtE4YtLVObT88fN1QhG98ru/MPeEU79U7KGN6/LXAv2anmgFG\n",
       "ZL0lUdy9rXp8ZVne9+KY8pbEoC+08mnPM3e1qqMq+nufqqclKdvSGn33QXfDPrC35EofljX9/D9Q\n",
       "aTWRwfUg7Rs55FBOrNR3BWoFaxzI/7B/fBnpf4PI39wAAAAASUVORK5CYII=\n",
       "\" style=\"display:inline;vertical-align:middle;\" /></a><br>"
      ],
      "text/plain": [
       "tuple_len: forall_{i in Naturals} [forall_{a_{1},...,a_{i}} (|(a_{1} ,  ...  , a_{i})| = i)]"
      ]
     },
     "execution_count": 5,
     "metadata": {},
     "output_type": "execute_result"
    }
   ],
   "source": [
    "tuple_len = Forall(i, Forall(a_1_to_i, \n",
    "                             Equals(Len([a_1_to_i]), i)),\n",
    "                   domain=Naturals)"
   ]
  },
  {
   "cell_type": "code",
   "execution_count": 6,
   "metadata": {},
   "outputs": [
    {
     "data": {
      "text/html": [
       "<strong id=\"range_len\"><a class=\"ProveItLink\" href=\"_proofs_/range_len.ipynb\">range_len</a>:</strong> <a class=\"ProveItLink\" href=\"__pv_it/6ccc6bfccc61ac15603b7754992b5c7d50bd22ea0/expr.ipynb\"><img src=\"data:image/png;base64,iVBORw0KGgoAAAANSUhEUgAAAc0AAAAXBAMAAACbuQnTAAAAMFBMVEX///+IiIgiIiIQEBB2dnbu\n",
       "7u5UVFTMzMzc3NwyMjK6urpmZmaYmJiqqqpEREQAAACk/Np2AAAAAXRSTlMAQObYZgAAAAlwSFlz\n",
       "AAAOxAAADsQBlSsOGwAABXpJREFUWMPdWE9oXEUY/3azL9ndt2+z8RCRtbIE2wqixGIVxMpSTA9C\n",
       "4AXqoQhJSg8eRFmNeDNd6h8Qot2Lfw4prvagBU03JWo1PSQXaRJoH2JzqILJYTUHWeIhiELA+f7M\n",
       "vJfd915zWA86Yd5+M/PNb77fzDffzASg2ymt/ihVA5XV9opYAP0NAfIV9M8+gKrwL6QDkKrjb8Lz\n",
       "61j+ZL8AmLIFzio906bA+KIXk7i70saBN1D+uXs0nbLY8SMVF0a0XNzDPCzZT7sMANDXJBoHYnii\n",
       "XqIRjTbtcneljQN/h/JH3eN5SuywajTI88e0fD/A+/FdT0x5DKAI1CCjSGOO4ol6yXI02j3SHbXV\n",
       "wK+hC290j+c1scNewlLP7aaRAdbiux6bcxmAUq7BOYrntTvbQt1Re405p7zu8RwWO3qodJkWpEfa\n",
       "etzY7bSjATgdlRzBc3gfxhwVbTVwTs11pns0szWx4xIVj9P3kjRmluK6pkoagNOs5HCevl5MmhVt\n",
       "HPjI0NCj3eNpl8WOBSx9f+QFYNkqquCXmoxzsjOHGgIAY/fhdpUczhP1xuYj0ayBDemO2jjwNwBN\n",
       "v5mPmgqZLAG0KuVAO6dCCD7OHNlBKwF/6GlNZZWf5WLXoL9g1rzRo74rwJl5XhnCdMjwRL3yxej5\n",
       "hielO2rjwG9DGqfZWsQBUmz7YfzkuceqLoPfrtRXzETAKwv1xGMiJz2x4yE6o/+kSiW/a6uhnFIc\n",
       "z/MVDZCr9qvvD8A5fD2VXtr7NhLsOuxKd9TGgfMu9etdrbSpMk+r09fQvV6+S20R5Tp9g626MzkC\n",
       "X+lQUxc7niBf2KZKJbu4Wn3bcTx/MQBKVhHrLHAO56n0LHGX8HN8R7qjNg7sFCgM9XdcjpinXe+A\n",
       "oFMIp0odS4tqdpxlG8qhPDm0kIyWZ2Nj5PEAzysqX5QcyZO5RDluSbqjNg1cW0b6Z0YxiA3SEhY9\n",
       "n2fSlE274TkKCXR25/XPC5pnRvvtBYJgZ0D5A7iT3/5qAOhS0ea3HftT6WVi4hpdIYJ+C6N0TblB\n",
       "CBN4wtlOzef5jimbdsPzJxgnF6mM3NY88wWxY5MWh7ezkq3dlNp32NPqjI3884gBgPTfYtGNyPVE\n",
       "vQmvDG4E3Pm6dKc4hAO/QbOyiJ+3aP6eTTV8nnOmbNoNzzn4gnnaCX2jwghOdpzwQwvK2e0ZNWHI\n",
       "YUJNmvVXu2BiFp09OdzI85LDeaLe5fRSCBLD3QTpjto0cL4C5hzYDJznzHOdy9Mtlaqq3W61nmr9\n",
       "zjynYUXVek7FKusVz5bEjk/90ELypsJMYgxIHlSfB1FoaOFgIGYhAPTitD0gOeKegCH0XoAhN4jU\n",
       "MHAvgXRH7aQffB6nJd+p+DGJeU4HYxS3B/z2VV5P+NKcpYd13EfNr2WvSCg/R99bHZ5GNfakASB/\n",
       "T5c4R9375Kxz3HA43AXUHbXP+U6tQtdJcGplS+20KdgTh6SMoLVykOeAOpTQy9TLx0SENbFD3aGd\n",
       "yQuB+7S5ene+MbBmPeNpgF7vpsuXf34AhPOUR0EKwuBezO3o9wNq+3d+dIMpzzpd7VMPqcEAz3xV\n",
       "l3E2TleF55sfK9/fgvRv6JYfCnfRZzu2INnU3rzFL3tSsjquUVTz8CkDcNbDS8Z7kqN45tnJxiAE\n",
       "rm8XrxvcXWkH3mM05TSjjt6rzBMvA7Mh5ycCKuFkq7X3gFWVbMc45Ira38cZkFws13mzxc/yVQNg\n",
       "FxGgCfpCGs7TYjOWQuHm6VndFO288e38ekW7+q3MZ8MBnnBVl/fchwgh9Jk1AwnajumABSxf399T\n",
       "YIatrXJW6e42BcYXvbiXQVW0/YFTA2aml+yiG+SZeq4Y8Wxchf9F0v9Pi3wcu/8hMv8Avhl4O2Ns\n",
       "BIMAAAAASUVORK5CYII=\n",
       "\" style=\"display:inline;vertical-align:middle;\" /></a><br>"
      ],
      "text/plain": [
       "range_len: forall_{f, i, j | (j - i + 1) in Naturals} (|(f(i) ,  ...  , f(j))| = |(i ,  ...  , j)|)"
      ]
     },
     "execution_count": 6,
     "metadata": {},
     "output_type": "execute_result"
    }
   ],
   "source": [
    "range_len = Forall((f, i, j), \n",
    "                   Equals(Len([f_i_to_j]), Len(range_i_to_j)),\n",
    "                   conditions=InSet(i_to_j_len, Naturals))"
   ]
  },
  {
   "cell_type": "code",
   "execution_count": 7,
   "metadata": {},
   "outputs": [
    {
     "data": {
      "text/html": [
       "<strong id=\"range_len_in_nats\"><a class=\"ProveItLink\" href=\"_proofs_/range_len_in_nats.ipynb\">range_len_in_nats</a>:</strong> <a class=\"ProveItLink\" href=\"__pv_it/a9f9362e99090de468a00bcb14ab72363867a34b0/expr.ipynb\"><img src=\"data:image/png;base64,iVBORw0KGgoAAAANSUhEUgAAAXgAAAAXBAMAAADzZkmuAAAAMFBMVEX///+IiIgiIiIQEBB2dnbu\n",
       "7u5UVFTMzMzc3NwyMjK6urpmZmaYmJiqqqpEREQAAACk/Np2AAAAAXRSTlMAQObYZgAAAAlwSFlz\n",
       "AAAOxAAADsQBlSsOGwAABP5JREFUWMPNl11oHFUUgM9OZrKzmZ1pIhiVWFkW1IBoY7EKxdS1mDwo\n",
       "hUmo0T7YXclDH0TZGvHNdMAfEEqal6JIgtEUtaDtBlK1iULyIqbFugQttoquSrQUWfQhqA8F7zn3\n",
       "3DuzO9uxDwt6w17OzDn3zHfvPefcG4B2t0D8YbMj7+zmF8kOlLUNCeNsaH9LVeFhErZGXpLc1X2t\n",
       "DpS1HGHONeitbfWjYD6wE5U1fPFd++C/AgnvFrB3HvJZTlUaptOqLQ6xA4BJn6y3toAHr/oOQJEM\n",
       "lvD59baxW9MMv48ehyeqLBsFyPiJQ80Dg+wA4CYgaxrRDN/Zb65ABymfx/CptQ3eWWH4T+hx8ISv\n",
       "ZchWEod2XNxgB9qaRsTgvxeLbZASJ2dW2wYvVkTCD1DgboKWRduROPSkrxyE1jsi8Lfk87QrnYe7\n",
       "X0V4ocyKmWbaF/LHGb6LvmPmQMuizSQO3a0dhNYzIfzx69XKBwdSBUMqt+fz97QPfpHhHczX7Pht\n",
       "FZZHFjADkkZ+tv0p5cDqqbH1sIa3j+qwCTy4bEjlRwAb2sPj1Kdl+MpX34hfWedjEPlcq9I3w/AZ\n",
       "Ct0tZIJyYV4Ia4nz/kM7cOB+tl7T8JkghE9XRkel8hWwS4i1jJ97kNQGwXoyb3Do7boiKGBrTc8O\n",
       "nl2cS93L8p0Mb1AaHSFHQrarp4WwnsRu/6kdfA5X2Ho9hA8TNoAv3J+l0vNJ23mm3ORNwo/FP4Oh\n",
       "cPA6EcsiHNK99Tm3NASnWLeT4Tvoiz/IJJ4Di9b1UBK8+7t2AO4mWx/S8BN50WoM3+mPS6XbTZPa\n",
       "EkBL+KX4Z8gFrokIw2UxZXfVgUJL+N0KXuLMJ5b5XAjv5Nh6XsPvj668VRpl5fQqznV8j+jfwgCC\n",
       "kU8j8MKN1adKaVdvA/weSGGsuS+8163gZ1XM05Bf6B3KmdK/hY1X0g7wRGsOGyMKDwc9hUB5fA67\n",
       "IarLlQshvC3KnOOqWmcW/Sj8t3I93PLQRQX/I8N7lBx3S0dCLlYL/I34MWvJ/enWDuDIHBOd0/Ap\n",
       "XR48sdmpSVa+SFNeRtIncLss/5EQvkuQPmqqo/Hl9YaVPwHvS3gnpc7oYYY3S2EOonzSFnuE5dL6\n",
       "W3TFaRb0k0puWU6/xG6Bf1znZxU81YLTrPTK+gCR68WHCcG7JVnrJuuiBWJdnHp9V/03CT8Ja+Jt\n",
       "1S1bBbU3b6tDKhfmIMrezULox6e8WHoDV+MO4M64NUxucgDPAFv3h/Bjl+Wepbft4utSv967+7Ar\n",
       "PkbyXyF8uhZNZmuz3Bg2z8mVhw/UpmKVpesBVldHhrGqtDalpBuPm6+x+zB0QOGG1jRCXQ+O/ZSf\n",
       "bqitOR13m2AV4IIJewXwQGPCwoQuZ9OFKHyPqLPyKEiVItcpgj8LcD7DiX42vLQJlniuFnCHZ7WD\n",
       "p7ObbE0jmi9m0TsgqK1ND8LYjSDusEwi4S+JX6+e4pMBw7/05gLq7F9xp1/jCbE9wXsB3LVPpZjc\n",
       "uSnqR+IJK7bN2FCreil9haJ6So24GvyUlnDFXJKqfLQz/LH4hUqBWkLYW683+t7P8EK5+nHEENQt\n",
       "ZCVGkcVfX6AdLCwp640keH2p8c6XOfRc/42J6CHlBJl3B+InLHlt9c+FqCo3kHA48pLkbHBNVztb\n",
       "zg6t5YhUuaVd6M7sUWuShYVTUXgYcvqu8h/QGfj/Njt6hLRq/n9N+A+YqUaHcD7duwAAAABJRU5E\n",
       "rkJggg==\n",
       "\" style=\"display:inline;vertical-align:middle;\" /></a><br>"
      ],
      "text/plain": [
       "range_len_in_nats: forall_{f, i, j | (j - i + 1) in Naturals} (|(f(i) ,  ...  , f(j))| in Naturals)"
      ]
     },
     "execution_count": 7,
     "metadata": {},
     "output_type": "execute_result"
    }
   ],
   "source": [
    "range_len_in_nats = Forall((f, i, j), \n",
    "                           InSet(Len([f_i_to_j]), Naturals),\n",
    "                           conditions=InSet(i_to_j_len, Naturals))"
   ]
  },
  {
   "cell_type": "code",
   "execution_count": 8,
   "metadata": {},
   "outputs": [
    {
     "data": {
      "text/html": [
       "<strong id=\"range_len_val\"><a class=\"ProveItLink\" href=\"_proofs_/range_len_val.ipynb\">range_len_val</a>:</strong> <a class=\"ProveItLink\" href=\"__pv_it/53dce4b68ce247f66a2c046371a86cdfc0bedea60/expr.ipynb\"><img src=\"data:image/png;base64,iVBORw0KGgoAAAANSUhEUgAAAckAAAAXBAMAAACSUqmpAAAAMFBMVEX///+IiIgiIiIQEBB2dnbu\n",
       "7u5UVFTMzMzc3NwyMjK6urpmZmaYmJiqqqpEREQAAACk/Np2AAAAAXRSTlMAQObYZgAAAAlwSFlz\n",
       "AAAOxAAADsQBlSsOGwAABU1JREFUWMPdWF1oHFUUPrs7k93szGw2PqTKUglrawUJxOIPFCurkD5E\n",
       "AhOoVRGTLT74IMpqxDfTpf6AUO0i+IMkuK0PWtCalNS/tJC+SJNAu4RaaBWaIME8yBKFxR8IeM79\n",
       "mbkzdzJdYV/0ljM5c/bce8537rnnnilAp0cV/wlGFYYEsQvQyAiKnJdp35m2zf6rkWjAsGRUIY4T\n",
       "7S5AI5vnhGNY09nZrjcnBK3Sy0+dQ3lFenWFPeeGJF8I4I4avi5MugzJzmiUTgkf6fWQtBB6T+/m\n",
       "ISP6jgQfdgykWRNeEQNgPLtf8rsA3oudqujCbQDdLqcIlE+yPa+FpLuCr4e+bQE3ifQKpflqx1Ba\n",
       "C8IrYgBS19c9HmA5dmpQF+wZThEoz8Utk5ULJFrC5DIPl9HoGMqU9CrFXr90fR7/unFTg7oA9wnS\n",
       "UQ7GLePkVZRkEslG6N2dO5anpFen2Osj4PNoZyFualAXYEqQhjJbax8lmSTaWyze2zmUc9IrYuD7\n",
       "vc8J3iygcaMcM9PXBbOXjtABQRpKi4rP6O2hglDIR6Ekk0RfA/jV6glenfhiYhbeNxVvLfXyyUf4\n",
       "OiW9YrsAv0mhkcU0s2M3wdNFyw/ic1EQX+9MkcadXkrMpIKJwQzoKMkk0ZuQoRCb8zTrYfZ7kqHK\n",
       "ceUlpD3eWnIJc9ELA7w0V0/cL/gB6dUAu73/kMK3LTTl9MeA9HXhImzhc0WQtpdJLCN2tSdYTJgB\n",
       "HSWZJMq5Rh1fu5YqocU4SlPPMip8L96C5wMzJ93XrDvlITgrftsnvdrHLG5KoduDxtObcefJ00We\n",
       "HDwiSEOZIn/hBhUr8122xRVhAKxi8Q48gmUPJZkkcvKs+PRojRBHadU1f9i9s8Ivonk04FywoBSJ\n",
       "0uj3hORUNq44KrpgEf+JoG1QnglJb7hRe0kmmdnaBfrtmRFqhlgQRs8rKJN0sGVyZPsCKEcgQWnu\n",
       "vPpZXqKcll5NsyXKnvB9uEnGKrqQLGkZq57LRkQTwAxsn7EwwlqSS/QYarGMvKagfAsj68iqYYy7\n",
       "KsofYYytWxm6LlGuSa/WWNTzUmhuGXiYaKZ+Z5oQ1AU4XhceXYrayxxpZv4OLUIGIqrPqjD7Ggvi\n",
       "PM18mlCb7qMKytMAjxkzYuIbK4G9PA2fc5RWQnZPB6RX7A44XpHC7OYxDBc6YP6FgvGaePhvii7A\n",
       "ZXrMCtJQsgvJDp1xZkBHSSaJIFfxKn8uD/4twFFe5aV7somjipG2ms2Hmr9ylJOwiNKGUzFLcrdP\n",
       "Sq9OsrPiC9cwt5N09ou4mUkKG3vcTczukC68QI+7BOldAe1FV7grXVsIouz6+ffD3GTSLzkP0GP8\n",
       "ccb/qaCcVCuT2aoEM/ZlvpfwhQwgXULD3m30FSg3E8BRpq2n7A8Q0r2HEqufU0SHt8dP8JjexzN5\n",
       "1E/rFpgluGbAQay8g8HqAxPeCrWSirIXryFKnjokykqPPSwYpzztC70u29Adw0VV3eftlmjbeeuu\n",
       "oVyGrsZl92bdumfynJoF6f1w6FaYaEiXOcoc7mOfF4vDVYHy9Y/xyGxA5hdKsg8Echob0qsNSK7X\n",
       "fKH36TOqVx+MvqKb3qJrH94RFIEyVz3SGGir4SSTyhcXhdthXEM21RwlXf1TEfcleYfMwWYzeKGO\n",
       "Sa/GwC5UfSEtyMKvd+w2kaI7y75510G2nhpKc9Uq1NtCSSZz3q7nrlbE8XDcjybUrgC+6f50UO99\n",
       "WO5FJU1mAXZIRhWyxq2t8PN5dpUTjh2azrF2Px4uBswavTLKNsyeDaA0nipscwSW4H8w5H+Ubfvp\n",
       "6/5noPwDCtpoof47gtAAAAAASUVORK5CYII=\n",
       "\" style=\"display:inline;vertical-align:middle;\" /></a><br>"
      ],
      "text/plain": [
       "range_len_val: forall_{f, i, j | (j - i + 1) in Naturals} (|(f(i) ,  ...  , f(j))| = (j - i + 1))"
      ]
     },
     "execution_count": 8,
     "metadata": {},
     "output_type": "execute_result"
    }
   ],
   "source": [
    "range_len_val = Forall((f, i, j), \n",
    "                       Equals(Len([f_i_to_j]), i_to_j_len),\n",
    "                       conditions=InSet(i_to_j_len, Naturals))"
   ]
  },
  {
   "cell_type": "code",
   "execution_count": 9,
   "metadata": {},
   "outputs": [
    {
     "data": {
      "text/html": [
       "<strong id=\"simple_range_len\"><a class=\"ProveItLink\" href=\"_proofs_/simple_range_len.ipynb\">simple_range_len</a>:</strong> <a class=\"ProveItLink\" href=\"__pv_it/e2551a6f7683fb07764d08209d408a817c5af4c30/expr.ipynb\"><img src=\"data:image/png;base64,iVBORw0KGgoAAAANSUhEUgAAAZEAAAAWBAMAAADzzbywAAAAMFBMVEX///+IiIgiIiIQEBB2dnbu\n",
       "7u5UVFTMzMzc3NwyMjK6urpmZmaYmJiqqqpEREQAAACk/Np2AAAAAXRSTlMAQObYZgAAAAlwSFlz\n",
       "AAAOxAAADsQBlSsOGwAABHtJREFUWMPVV01oVFcUPi+ZZ96bmTeZbkoXhg4jxoJYYukPFErH0mRR\n",
       "CExBtFloprgU5BHFnTRYcCV2NtIuLE10o9CfpFjUJotkp0ZkKm0gpdAUSetqSAtBuus55/6+3xm7\n",
       "8w5n7nnnnfOd99177n33AcSbUw8hu3n4k4pt5DYLfTVP/XkJoGdC0+GzGQ9dmMsLH1H3RyJGbvP9\n",
       "MWHvYlVISj5hcDq9cHT4vOg26fK3CFCFumAlLTpoyESoYCu935T60N7eyY23s8B8RnKY/Iwy08wG\n",
       "kxDkTXmx+5Euv4gAlQjKT53dKZVoii8nTneEfuTODiqX85lobxhogI9PSZLBxG2De/KrHCYSgr0v\n",
       "c3eWam0zAjTUwu5SavyyyrzMl+9825S6Q0zW8pkYb2zlBSEZTEpUEi83c/F0+Bp3RKzQiQLR2E6m\n",
       "Bo+pzGNcqTvKKJgM5ma2vKm9ISWdySD0ZqLDMS92ZSTvx4AeYNdOfZi2TFTk24WaMgom/kpeXsub\n",
       "2hUp6Uxu9MNEhWNe6l6r11+PAQ3W63saqWu2oSafbpdPjC4onZkUWnm1YLw/XKRVIyWdyc0eTDQE\n",
       "eWNe6m4BbMWASiFUEOSjRDwNOicSoz9cVUbBpNzOG0Hj3biGyj0pgsn3dWqjmsmVHkw0BHljXuou\n",
       "gEdD6S6taCZouIDaIWGYuTnnvCk3jI5MNMAr67NQGQWToJbHRHt7nTuoPJKSPicH8pkYCPLGvNRV\n",
       "mhy6635ogLbgA3Ex9GJ3LmiNww/icnBOLUhO/7s2CiZD23lMtLcLf6PyiZR0Jm/nMzEQ5I15mVCV\n",
       "F/zwrAX0k1rwS0gvWC1BI5XJezEmxbE8JsY7IOdrUv4XEwNB3piXg9qrdOfEpAXkl7Gm51vgUMUF\n",
       "565XJRNfVZfP1fWnNvZTXcbbbyWqK75OvuzBRENY1QWT/Gp+aA9JYQMxxnfgONMPx3+VTCpVmajC\n",
       "q/egNsoVv8kTn2jigYz3dKchEj7MnJM/FJNmSmWBBcErflMEfcp755IN5OEK947V4GvBpOTIQwBt\n",
       "sxzD+633VBsFkxJxmsbCdP+1Ff6zvb/zcK5pG13MZDIhmRiACK6BIG/MK8Y3VG8ZA/SXGL173W63\n",
       "E4RuQy6bYk29GamOgm1t3PX4n49xX6K1NoBnSdhPyoJUoN6Meld2o/KKlHQmV1FOvTtaFbEROE6g\n",
       "Icgb81oobyVO9dNH4YyYE/imKm371P19NAUtbRTtPP//klyezaS3VxOSwWQgtGOjTSXQ4edtFHcn\n",
       "wWSjwO9HKOO5Wb2819R9VNb9jjbq8yW9tJLnFEh60xGRj4npTPh0qGLjb0UwEOy9bKMUawkmR14C\n",
       "j6rs6ucA6rBcUfOIyqtTxijGiL3cavJogRL3vqTO2xnfJ0+s2NiKVwlUOOU1KHoMosiHu91IIlfu\n",
       "EqSs3jZG8YxcCOXkINLYxb23pGQxOW7Fxg5wSlHhlFejVNb1d3Ah9zv+IjihVGwjt7v9ff2yd3lW\n",
       "CCg862uQDd5KLxwdjnmdPYpJ4QV43tt/V8ReBrfxFIcAAAAASUVORK5CYII=\n",
       "\" style=\"display:inline;vertical-align:middle;\" /></a><br>"
      ],
      "text/plain": [
       "simple_range_len: forall_{f} [forall_{i in Naturals} (|(f(1) ,  ...  , f(i))| = |(1 ,  ...  , i)|)]"
      ]
     },
     "execution_count": 9,
     "metadata": {},
     "output_type": "execute_result"
    }
   ],
   "source": [
    "simple_range_len = Forall(f, Forall(i, Equals(Len([f_1_to_i]), \n",
    "                                              Len(range_1_to_i)),\n",
    "                                    domain=Naturals))"
   ]
  },
  {
   "cell_type": "code",
   "execution_count": 10,
   "metadata": {},
   "outputs": [
    {
     "data": {
      "text/html": [
       "<strong id=\"simple_range_len_val\"><a class=\"ProveItLink\" href=\"_proofs_/simple_range_len_val.ipynb\">simple_range_len_val</a>:</strong> <a class=\"ProveItLink\" href=\"__pv_it/1df4d4823a167b53feff680a8c70adde028940db0/expr.ipynb\"><img src=\"data:image/png;base64,iVBORw0KGgoAAAANSUhEUgAAATYAAAAWBAMAAAC4Sa0YAAAAMFBMVEX///+IiIgiIiIQEBB2dnbu\n",
       "7u5UVFTMzMzc3NwyMjK6urpmZmaYmJiqqqpEREQAAACk/Np2AAAAAXRSTlMAQObYZgAAAAlwSFlz\n",
       "AAAOxAAADsQBlSsOGwAAA79JREFUSMfNl01IVFEUgI/je6nPmXEycGM/MlQWIoQUgRANQS4GjAna\n",
       "tEiNFi0EmVq07WXUymw2RQst+9m4ykAS0sW0iVIIk1KQIF0IIiS2kGgRdM+55953593nw2VHzn33\n",
       "nnM877v/bwDCUpUtws5SK/5IfMPos2t34qti539DT2OrbXfG4hIfYH/VvNEbWfcyu0KT0c9Zo99H\n",
       "njys4ON7BZtlCiSV41xfqTl5XtVvFpA7XoLoZiKUlDab9Aq2d9h6UsFmmQK5zLncEoVePyPrbv8z\n",
       "wVZXiEXT0QCHAR6B1Ag29ubhFk75SgWbZQpkhnPVl7FVvbym6ocEV3Iils2IFjLHGr2G5ogNO+vM\n",
       "V7BZpkBOcK5qar2mgaI6ssGpWDYjGp8FqdFs6MlDUvSjrnIvWCYtXolzjVPzHJXjmm0kls2IFlJX\n",
       "lhrNhp48QEc2ezK0T8MmLfU5zjWJrQ8d/aDqxNYVhxZEu81iRzt9Ui027RVsUwBrITZpcv3I7lAu\n",
       "OUK/qBzRbJ9ix01HO55YGsmSVF6/WRJiVV7Bdh9q0eROlzWbNDnyvKppy8O+PulLzHOudjo1f5Ox\n",
       "XbMtxKEF0Q/qxZtTLVKtcdNewZYukHfPbFGzsUnIjYENWHQK9Xw6VI9xrk467LbI2KnZbsexBdGF\n",
       "BtHrmi2pFpv2CrZUhtZ9gx/MKZvEUE/hKZyZcCCKzWkJsb2MPd6C6B8iGGcO1d4LyivYoPQee3Wt\n",
       "27iz0OQ1AexHw9LyHcVWp+Z0FFtpOdOju5tTI/oxhOfUWG/ai2zddDx/Nu9TNDm9BZcO4CXnyiuV\n",
       "P8O5VmkU5YJc1WyUw74cXKiMdv+KviZXpNr7VHmR7S7RTptsaLq3AB5tjyWYOKh8fZyLTouHcoV2\n",
       "abY3mPqPKHpLXAQtI9rbGhIjlZFqsWkvsqWLYJ6bGEumVUg+3dz8KdguqZPYa+FcL2hhSCPWB84e\n",
       "FdmOYTMrKBN4e1HRhpUjoehV0eeEL9Veb8qb15bT4W8kd7tYk5Pj5n1Rzlb2JxD+LR8s6nuvllZ7\n",
       "yp7Ub2BHD7JG3wuDYLC522G2VCknD+VZgCbjDia/uNZTfaPSpq94eY079ptEF63oGdZothmTzWux\n",
       "xu2qD8Oik97xIqT1ZvPZvw6JtRIb1/k5TOVFey+I6Q5H43eO/NaJYiOPZgu+b8xY98LmRuVrVtjf\n",
       "A8lmdSL28FNefWXrTUnUUHS6IDWajTyKLb2ofyQ4sb8XhqCK3LUGAteT/q6+yWX0R1bgfJWCnsZO\n",
       "BbQX/j/5B5JjEsdcq9zyAAAAAElFTkSuQmCC\n",
       "\" style=\"display:inline;vertical-align:middle;\" /></a><br>"
      ],
      "text/plain": [
       "simple_range_len_val: forall_{f} [forall_{i in Naturals} (|(f(1) ,  ...  , f(i))| = i)]"
      ]
     },
     "execution_count": 10,
     "metadata": {},
     "output_type": "execute_result"
    }
   ],
   "source": [
    "simple_range_len_val = Forall(f, Forall(i, Equals(Len([f_1_to_i]), i),\n",
    "                                        domain=Naturals))"
   ]
  },
  {
   "cell_type": "code",
   "execution_count": 11,
   "metadata": {},
   "outputs": [
    {
     "data": {
      "text/html": [
       "<strong id=\"simple_len_in_nats\"><a class=\"ProveItLink\" href=\"_proofs_/simple_len_in_nats.ipynb\">simple_len_in_nats</a>:</strong> <a class=\"ProveItLink\" href=\"__pv_it/62cc3f5366b55abb06b2c33bf1fb863a0953d5630/expr.ipynb\"><img src=\"data:image/png;base64,iVBORw0KGgoAAAANSUhEUgAAATsAAAAWBAMAAABNtyaoAAAAMFBMVEX///+IiIgiIiIQEBB2dnbu\n",
       "7u5UVFTMzMzc3NwyMjK6urpmZmaYmJiqqqpEREQAAACk/Np2AAAAAXRSTlMAQObYZgAAAAlwSFlz\n",
       "AAAOxAAADsQBlSsOGwAABFVJREFUSMfNl11oHFUUx8+kM8ns7sx2Bb+gVIeprQWpRPEDCuL6kT6I\n",
       "gVUk2gftYhECoiyp+CLiUqFPte5L1YcGN9UHCyoRKorNQ/JmVWQVLVTEToTYKrgEShAfFM8599w7\n",
       "d2cmQx6dkJl77/mfe3/389wFyD5O3IHNHx//+OlahV0xbe3p6pdf5tbdhMTtl9W9U+zOwOqQSlcb\n",
       "W6JT6gXjkGnv8X9/b8FDV/sLypRQ2c8jeHX6hMtFdYdNqe4HztYebkl6rkXo5U+q3qEgdxYNx5/V\n",
       "NngbLEDTF1T0zghejRwq3aIWDkp1Xo+zB44MOO09/y62XGmV42k1wC0AJ0EcsnjPdh8FmGQBml6m\n",
       "6U9G8Cba+DlR2MKSVFdTY3vfxy1J34yJYLEcL1Xj8zWIQxbvhQRHJmIBmqgH7mB07VHPpgtbmJTq\n",
       "tqnVtgE6TXhwdymdpaavdtB4N8UxT8nsit8jPBSgKcDeVDJb4xv89Apb6El1Z5Q0Ap1mvFOleJaa\n",
       "JnZZHATvzHVimB3vXEt4KCDTnXF8VwZvWxzvahYu7qZUd5ZyweE9izrNeAfK6FK1twO3rNsWB4Xn\n",
       "n9S6WUjq/YgFZPoMYC2DV+tAHZt7KtcEdZmrU+O0nU+GUwbvfOnoGbVbxTUS9MRB4aU7cRZe8XZH\n",
       "LCDTMfCpI965ZYOHBccw9YAqmDvbd+5RybGBVLePs2/ysbnP4H1fimfUb9QQLYzEQfAgxQsGv0yy\n",
       "gEz1FgvGv+qkx/IaPKIyE9cP+2F7Cj6V9dyX6vZz9hK/9xu810rxjLpF4zixLg4K70iMT6Lw4Lnx\n",
       "SRaQKWww+fauFTW+0zvjHDKHKzVoFuI9mMF7rxQvVV9CMU0wOyi8Z6zRgxkvYgGbeisUDg5PW3iV\n",
       "APu30AaHJjx89YOG4FX05M5z9jd+z29xclP1W5Cb3DEbb6KRmMmFad4039ox172IrU1tqD6Fnamf\n",
       "BK/ekOpWOXsHv1cNHteRDx0ejKq9f1xc+Yk4SAw3Afsy/t+QsIBNr7d5Gm08H7eC/3QEHyq8miNh\n",
       "hU4D9uEjxP9LxSqD9wmx/K1fh3pWwlZX14/jGdUQBzn35nX7tNNo76CATfUO2Ecql11WQ3V+OBwO\n",
       "wo7XlKVYjcR+mrnXuZDSL96/B5vbS9mYQG+j+VrUid0Z9SqumTFa63tTvJk/1LDPXU1UYEaBFe/u\n",
       "zV2oDj0JL6nRg4/00N8q9jHqUq2tTht9K/M5LIT52f0R8uqj2kG39/6v8UikOmqHY28jh3fR5cMZ\n",
       "gj44bTCBnO0UzC9UVKg2NwEV7d38pqCVm1UvaYfN7pdLtqka5fBmbgSfJvn02wD6SlPXI34F4PaD\n",
       "UnhFvuqS81h+a9DYZ9R8STpRcv0lQWpKL0Mj8ieGwxFvL0nPqZXPpVCfWSo25q+xAb0yap6XtRI8\n",
       "EhhT/YK51rulvzWOg8Nm36KQdNDd0mVeqb80Dk5xcyhwdmk89xr4Xz7/AXx8McMUW/rvAAAAAElF\n",
       "TkSuQmCC\n",
       "\" style=\"display:inline;vertical-align:middle;\" /></a><br>"
      ],
      "text/plain": [
       "simple_len_in_nats: forall_{f} [forall_{i in Naturals} (|(f(1) ,  ...  , f(i))| in Naturals)]"
      ]
     },
     "execution_count": 11,
     "metadata": {},
     "output_type": "execute_result"
    }
   ],
   "source": [
    "simple_len_in_nats = Forall(f, Forall(i, \n",
    "                                      InSet(Len([f_1_to_i]), Naturals),\n",
    "                                      domain=Naturals))"
   ]
  },
  {
   "cell_type": "code",
   "execution_count": 12,
   "metadata": {},
   "outputs": [
    {
     "data": {
      "text/html": [
       "<strong id=\"extension_range_len\"><a class=\"ProveItLink\" href=\"_proofs_/extension_range_len.ipynb\">extension_range_len</a>:</strong> <a class=\"ProveItLink\" href=\"__pv_it/3d5b184920338e55f767a861877133a5a4c35ad00/expr.ipynb\"><img src=\"data:image/png;base64,iVBORw0KGgoAAAANSUhEUgAAApsAAAAZBAMAAACMW/itAAAAMFBMVEX///+IiIgiIiIQEBB2dnbu\n",
       "7u5UVFTMzMzc3NwyMjK6urpmZmaYmJiqqqpEREQAAACk/Np2AAAAAXRSTlMAQObYZgAAAAlwSFlz\n",
       "AAAOxAAADsQBlSsOGwAAB1pJREFUaN7tWV+IVFUYPzM7487MnTuOPqzEJg1j/oEozLQiWpqk9UEQ\n",
       "rmCCCDrigw+WDBm9pYNRIJjOi9XDSmsKJtS6G1b+2YfxRdSFbZJcwgJHYm1fWixYqgeh7/vOd869\n",
       "554710W2P2BnmbvfnO/7/c45v3vuOd89I4RV5pVXiP/LA5SF5VZEbfYfaLkOf1gygbpMuCKeoGN0\n",
       "vQMk4wPqEa4Y5Gz6gUa++e/ImWiJ9WQsDlSSnSvOlqBTdKLVAYPBDFgfcqUGY5Ex5bjCH5dytvHr\n",
       "jyE57cq5Ld/xiNwKXp1XPLYTw4bAUeVsPxMIsc8zoyWPcpnlDU/er8UxciKyN6bpMGn3UnULAI8G\n",
       "yHkBv34UktOunNOSbvCIttDXdXtbbCcrIuvFQlO7+phAiEeEGU082mU0uPtjTwZLQKSchHw8pu0Q\n",
       "6ebzM3A9qvBHSc638NFvh+S0K+e0OE0e0Sh97RvytC3yw7HQrpuTTGBHE49jrF+fKeMxTwZLQKSc\n",
       "TnN2vc+puATKOabwYyQn3q5UKySnXTmnpUuNaCV1b0ZoG8qaWOgZTxFY0ZKnywj/NignBa/pKGfX\n",
       "LHvvFoNydnmMBwPkxN0oG96K7Mo5Lad5RDl6MFMloW0oA7HQtZrAipY8p2PkHFCASDlPP5Cc2Sbj\n",
       "s1LLVeXyamtntyrntJzlETm4E+V3Lhtme+MIroBxyMurdiuC9IK2Ec08vsuWc50CRMoJyHRv58RC\n",
       "k5pypqqMBwPl/FqISUtOq3JOywCPiO6smE/dQ7tyAoyrsdBfNYEjXjSjJY/vsuW8qgAk5xdlLMu0\n",
       "nIBM5VZ2XvAVqSlnvsF4MFDO90SmaskpK9MySa1JNixw/12V7H4P/kT041BHELSakJBweZJHlKTl\n",
       "+Qjxg51pnQfjepyamd81wRVxz4yWPL7LlvO6AkTOTkC+7zQ6Nq1JTTndEuPBQDkLnkwTLjYDcsrK\n",
       "lAQux0uBTJjv1zg4P4h+S6ytozJkOd2AYc5hIfE7O5h4lmNe4BF1Ubp3S25PgyJNc29/7Lp1VxMI\n",
       "d8aMvhVy4fR7hqeflHO/AkTKCUhvfsxbBJE65fISWAmrWs7uu4wHA+V0i7TpzLtWC8jJlYGi5ExX\n",
       "OXgzVZwMN/raKRkCm0uF3CBnd8/0oFvtF19GyrlWySk7fCI27Sz5mjklM3ptyGXPzhMK0ElOcSsm\n",
       "61Wk5uyk5QHxYNBLZuMSrTx14yVTVkbI6Qxy8AUZHG7/DyFDZIYLbpDzItwp95IjKhxzTK2d9LDf\n",
       "kURgZ6v3e9gLVU2AOb8RfSfkut/DHl47EflBTNuKNP5hFxswsXd3bjDkxMpcD+1ova2gnEkVXCJ/\n",
       "ODudWN3CEAJtIHdbJLAV9+1Pi2qQt3lEBerY01IosLe3IGIcv9mTJC3ncFETiCOowbh2MY/vsuUc\n",
       "50/07ARk+l5KsQWL7I0iDW1FbbUVtaWc79AdHzePQLAytR15HLcRlPMgB2ca5HdDiyeyH2TQDwLd\n",
       "bbGNOlHrv6nkXMcjoiSDdxe0z2SgP5gspf+Ey/YGG/qb2m5ktvMNXka0i3l8ly3nCH+i5QRk7u4h\n",
       "yabb1oZPasrpFBkPBslZoC5eNOXEynfpwXg1NRyUc4iDc23y50Kvog4EDzFoiNxt+abn1pyEiv1E\n",
       "pfElf3dBu/AoGHTYWobRJ7HdJwRfkkv97YYIxB7B0dLFPL4rKOeel5YVZfCKjnIi8nZTsum2ySh7\n",
       "QVIl57yfftsBAXXGgxE4oBuIOKC7LYTODpWcExzsVsnfHZITgyf4/z5yt8XV6enplltLV1QWkqzx\n",
       "iDBncDhNW86pEC34rv2038DLVz4BPdwymlzMo13m7FTUEhApZ7IWaMjc0z0RIHWN3f+Awh8wzjuf\n",
       "s+VMz9T8TUrJuY+DQSj0hx/2rhrJSCD1sL8pZ6f4vBg4uKARjYH2WV59x/zjEeifvYBV8BYe0wSv\n",
       "52d0NC4iike7zCMQRS0BkXKq45SKnU/AxyfNGUclowo/GpQzPWPL6TYqaeDeK8JbEQWX0C8SRQjZ\n",
       "JNRF4HKLIQhaAMtLESAFvLmQpib068IUj6hQF09tUZu2TC0O03WjvRXBvUhOqvk91X2P3gEOK5fP\n",
       "o1x2Oazpo887p3RDoQK96UQqz90Aj4YvZ64UMTt31Lv7hOgx5MRRU/AU+uErhOytdz+Plz65AGFI\n",
       "j+wemG2R+RlXpg91Ri9wc6IRpdvi0jnVmvTKd1v7rCyPn966Jhi5oKPR5fMol10mNX20nNt0Q6GC\n",
       "velASlMF8Wj4cgYODo0E3lWrqpITk3MKPqmEcYPBY5y/D0h9tpGGm6anB8172hSLyDgUqCQ7P7vf\n",
       "azKy41HRmU7HlhjMgEXhH0RqsciYckXhrwR/KypM1KLlvJE9tdKQU5zjYId61h9cum+IX3bh/3ME\n",
       "Snnk/vtOof9zRcuZWiCi5Ww6vZ4pZ8rj4H65IgYezKZ4mRae1FYEXZPuh1FOI9eJ/J1d/nZaD7yx\n",
       "pP0XksjXCE+66w+NmguXNP8Cl08qQWMap6MAAAAASUVORK5CYII=\n",
       "\" style=\"display:inline;vertical-align:middle;\" /></a><br>"
      ],
      "text/plain": [
       "extension_range_len: forall_{f} [forall_{i, j | |(f(i) ,  ...  , f(j))| in Naturals} (|(f(i) ,  ...  , f(j) , f(j + 1))| = |(i ,  ...  , j + 1)|)]"
      ]
     },
     "execution_count": 12,
     "metadata": {},
     "output_type": "execute_result"
    }
   ],
   "source": [
    "extension_range_len = Forall(f, Forall((i, j), \n",
    "                                       Equals(Len([f_i_to_j, f_jp1]), \n",
    "                                              Len(range_i_to_jp1)),\n",
    "                                       conditions=[InSet(Len(f_i_to_j), Naturals)]))"
   ]
  },
  {
   "cell_type": "code",
   "execution_count": 13,
   "metadata": {},
   "outputs": [
    {
     "data": {
      "text/html": [
       "<strong id=\"extension_range_len_val\"><a class=\"ProveItLink\" href=\"_proofs_/extension_range_len_val.ipynb\">extension_range_len_val</a>:</strong> <a class=\"ProveItLink\" href=\"__pv_it/4d885c9e1678ef462c5ae5960b429e1eb25ec7af0/expr.ipynb\"><img src=\"data:image/png;base64,iVBORw0KGgoAAAANSUhEUgAAAlAAAAAZBAMAAAAMBA37AAAAMFBMVEX///+IiIgiIiIQEBB2dnbu\n",
       "7u5UVFTMzMzc3NwyMjK6urpmZmaYmJiqqqpEREQAAACk/Np2AAAAAXRSTlMAQObYZgAAAAlwSFlz\n",
       "AAAOxAAADsQBlSsOGwAABwFJREFUWMPtWW+IVFUUP7Pz3s7OvJlxJLBiK4YptRBjFftDuDBK24eN\n",
       "jbdg1hK6I37wQyUTC33UyUgISueLEaHhPxC/6CiW/zZYv4TpoGPkmhY4EVuLoGzB0h8QOufcP+/P\n",
       "fTPul6GQLm/uPXPP+d039/fOPffcNwBG6S48Cf+XQIkVlkb0Jjt/4x6AihL8ncGO9gNQqUTpKi0w\n",
       "FYi6a3uQxtT/HaIeBRhUgr8TIJWb6wBU9kU9/UYLzD4NsPbOFaQxdWhS82OQqCw1mYmO8ZQpSqJI\n",
       "AHBedKUcqwWoiyonBjRuixucH6vgO6EKohILBRkCYBLFoMRUqLfXw9ThDPV8GiTKoYGSlY4RNQKS\n",
       "qBH++tJYQ8pdRUi6baHWpn6Nexhgl6Gyq1LlL2tPz4Iw3hVJlADFqqHuJzxMHd6lNdsMEpUoYbOj\n",
       "cytvXBE1zl/7j7hahnStLTR+Y8qzBbhoqBz/QkipL7FZaXwxkiin5epRmDo/QasRilHE4VDniOpT\n",
       "RPXxbGZ1J5Vn2kKPun5biLthVTywxnN+osiYAQZR8dYPRmLqkJ4Ih++kiPHVjvGUqkqiWAArrzup\n",
       "7G6LXR2wheRESAWHWxNFxgwwiDrc8n4Kg4wsLxRWhImKFwqPFztGlFOURLGQ3rioJuXhYxSx2kG/\n",
       "Xv6mwtnzMWBYpZAKTiiVSRQZM8AgikAw/FgocPXmPAwSdRJgKkyUU4as2zGi+KkOan+Yl1OdxQMo\n",
       "fNMW+5sewIGVyHI1pGKHZJVJFBkzQBB1vEBlkfbiWjwYqaxUn4dBorZDTylMFPZsR+l1sbVyXVN1\n",
       "Ru6G2NqVWORsvsdPGfBH5uhHG6WrIYliAXaWZWdP4zQK37ZNNP/QA5yHu/gj8iEVLFUqkygyZoDh\n",
       "UQRKV+YFk6mPnaqHQaKyLuPssxO+hHOKJ7JKzIsnIpwZ6wvYvDHOrZUDY49CVZrGW0wU4ZWVicyS\n",
       "QXhAPpD4XkkUC3BTddrsFFvbZmAzegDI4OQTMyEVvKBU4GD8wLhS0kSRMQMMohgEN2kRjbCfLUbJ\n",
       "JVdXmDqxzrG8+0LZR9QVI5Yromy68VuHRAtwMDwVVK2VMbtIFxH1zuZbMGm5jhtJ1GrdyfM70DaN\n",
       "yntEOSin+kIqMWcnH+VRZMyAFkQdD/UScQrD29s5jhQV/xEmmc61IIqT0T9BtGDmh6g6I8VddCFR\n",
       "zklK/nM1S91ALT0W4BfdmSzda+llS3oAyk79S0+oYI9S3XPp+WLUHpVfBsonEFh6MERZU2bjkJ8o\n",
       "6zoSsI9vPfxVgKgurCdXNKhNLQinYEKVpx2jwZnYEBH1CCmu3XhPEZXNSaJYgGW6c7SBE7xEccCk\n",
       "SDyQeE4PADtxuummthYq+EmpIoJ5UwIMj2JQz9+hXe+u5WGIqPeZj0uBQ3HPs1gNcCZYux4g6kN5\n",
       "R2ytURcyoSCFqh5ctU4Gqx/oyoLN0GvWOrVMeYseVIIMwiQf7cE4SSnCaFVW9l9+QQV+kRRcpjWW\n",
       "U9ZSJbKLy5F5FBkzwCCKQemZULo385GHIaKyfIezwbcHv+IM1pGb2u7LAaKO0B2RHWw/wFWSaoZy\n",
       "pBp3vWoJkyNIlDhHXIOaylNSeZVw5r0gTHKWfI9ehnUtpIqewRIlFFwv8DMONpOqoqylCvYrlZ+o\n",
       "7p9/3yCMGWAQxaDuZtjPJjyM95plt/maRXi41CiiJmUeMyk8NtE0cqRMSZpsoSsL6c/v3LmNRK3R\n",
       "Ay9WRxgSnJLXSQ7GJFw19zsm6kufLS3ZbaCtpYr36GVhj+KyTQEMohgUj3rDozAeUc+ZRI2+psKz\n",
       "j6gtNGSZWbBny8bSQxVzR3uDXHqJovCo1BX/SXNQCpPJRuB8K86n5rGAAlymtEfbvp2e1afjok+F\n",
       "h2qhChyK9Vl8PJIoBHU3Lrstzu/jfqLsWZOo6xasQZ/pM4I5xiZqM9UixHJ2Ea1UxSryiTH8zKcr\n",
       "KxN/TLsWaFetSKJQeHrE16leWtjmwx2mBz9VVbaJu5R1itceZK1VMC1UEclqUwHM91HTsLWxtB1G\n",
       "E5XKm0StfQjGGhArBYii+ewX87I3VOgn98NYJfE8Vf1CNQ2ClGm6kKgd6ICpp8oq9wQO74NSOHfK\n",
       "1wmS1bT5k8k30r0VbXuMkhBxzkr7VbBeqCJSC1cBTKLWg9O7tx2m7nO+yFfBDXVAV0RhDsmrJFWU\n",
       "d4CMF0eE6qAIbDgbvJAd+5U7t4L3x+3kQSX4O+kgMafjosSdj3KCVu+WzmtArDxXkMYoorKT5Uii\n",
       "Mu5nY8GEE07B7U0kCk8Y8Afeq0LlVJKHcL1aLl3Z++N/GEWUNT/6z4U0HPsiRJTlruIIYpFH0rFu\n",
       "wrc8hGrA6XU5Kl2A+42owA4f+b9eRdeuL1e2I0e1ld6d8/9P/+0SK6z8BxB1+ueS5tdJAAAAAElF\n",
       "TkSuQmCC\n",
       "\" style=\"display:inline;vertical-align:middle;\" /></a><br>"
      ],
      "text/plain": [
       "extension_range_len_val: forall_{f} [forall_{i, j | |(f(i) ,  ...  , f(j))| in Naturals} (|(f(i) ,  ...  , f(j) , f(j + 1))| = (j - i))]"
      ]
     },
     "execution_count": 13,
     "metadata": {},
     "output_type": "execute_result"
    }
   ],
   "source": [
    "extension_range_len_val = Forall(f, Forall((i, j), \n",
    "                                           Equals(Len([f_i_to_j, f_jp1]), \n",
    "                                                  subtract(j, i)),\n",
    "                                           conditions=[InSet(Len(f_i_to_j), Naturals)]))"
   ]
  },
  {
   "cell_type": "code",
   "execution_count": 14,
   "metadata": {},
   "outputs": [
    {
     "data": {
      "text/html": [
       "<strong id=\"simple_extension_range_len_val\"><a class=\"ProveItLink\" href=\"_proofs_/simple_extension_range_len_val.ipynb\">simple_extension_range_len_val</a>:</strong> <a class=\"ProveItLink\" href=\"__pv_it/b6f3f5371647d20c6181075c3f54ab28c969e8d80/expr.ipynb\"><img src=\"data:image/png;base64,iVBORw0KGgoAAAANSUhEUgAAAYoAAAAWBAMAAAAsg8avAAAAMFBMVEX///+IiIgiIiIQEBB2dnbu\n",
       "7u5UVFTMzMzc3NwyMjK6urpmZmaYmJiqqqpEREQAAACk/Np2AAAAAXRSTlMAQObYZgAAAAlwSFlz\n",
       "AAAOxAAADsQBlSsOGwAABMZJREFUWMPVl11oXEUUx89+3Ozdvfdut0VUqMWw0rQgSqxGIRC8FpOH\n",
       "QOEWpVrEZEvxSZGLiiAiCQp9krgvRcGI2+ZFwY9G6kdMHzZvxkjZFi1UhK5IVBAWFRc/sOCcOTNz\n",
       "5+7MXvLqhLmcM/Pf7PnNzLlzFsDe9hyAjLbI/rC52pgrp3bU3MGPK9cdIrYPu5mxzmaFkOuI+X3a\n",
       "oLDP7IyCqyu11Bi5xZZdbDbU88/MQhf970yKKj6DtvXjXwvKIMSn92Ak7NJ+TpjZEnXunBbe3CEZ\n",
       "rUkhxOn2TET6fZzicxx6w6Tw8J+VrefDaQqK49ydebZD9rG1PjNOZ1MoNeRDKEdq/E38ushKIcSp\n",
       "EJ58OyI99ll4Hg9X16QoNdhzyb6cbUFxgbtTH0TCziHFVjZFombNT1b4unRNigua/Z40bo1Ij32W\n",
       "sxQ7lrzANT1iDaQg82acn84+SJtTFKIsCE2NbSI9PmGlGNfsSzoF109gMD5b2LItu79iz6Y1kncF\n",
       "RYVPF0dB2pyi3M6i0NTYltPjyzaKSnMoxTJ1Fsyhev0eG0WhXr8ttEZyXlB4OO2fHDsnbU5RbGRA\n",
       "aOqjq5glcqJ8Ym+HXINCiU2KGeosmE8Btm0UXgxVpnzUnFsWFLTqu/j7kducwm9m7UWiDleYsSnH\n",
       "5087f5FLFB/VsY2lxCbFJnUWzClwcfWcdSZ+oZtQsNFTzHhAvNjOt3L3irk7BEWep9NrMUibUwSj\n",
       "WRRK7XbWmHFZjl+L4Ddyjb1QYpPiMnUWTDXinxv5kv3/kVC79bbl1Ve6sdcKGtPwsZibFBQF/n3X\n",
       "KONbkqL0axaFUjsYNSzI8TVw/iDXoFBi3KC7xQYRxQJ1FkxQ48m9C6+GQqxRXJLJvc5Ggw0PQivF\n",
       "4QGKyngWRaIOULySXBeV6+TaKEhs7sUKdQymuYHn4CS+VRd2P5FQlH12hs80IIdHPnjpnZqkeEvm\n",
       "BT9RP1J27vBEJepyQz9R/4LX10+UnhdSnHWi4Ai/bS/yGjDam1AUrzLhdB/meBUQT38rKb4XFFWe\n",
       "qXfxMW5TdmNuOWb8dI0k6vlOKL4VZ/6Bh9rkGnuhxCbFReoYzCucc53i20woXJbN7uOjdF0GsZeT\n",
       "qT8jKPg71f2T3vcNSeEhzzw7jM7fIB7K09UfuizsVSl5Cn4Bcg0KJTYpVqnzJY3V/TMJn2g17U+0\n",
       "EJu9Xq8TxE4oX6Fn5a2HZyegZEZ75IffT7BXCiZYntWFcDuIRx7viHqUVldvYcZBEDOP4XXBXfPW\n",
       "k2Kd4un7x2qkP6gX4Pfhow9TA5X5/CPwHO0FvC/r6Hws5rGu98SJVTX+y/z5jXGigshUu6NqRrlm\n",
       "BXLAdndLPXZF4fTBCWG/3x2guFrkdx/4LcjJDKMCjAq/K2VRg22lazfz1i+CqfbaciZxTYotWzUo\n",
       "9ao0FdtWmoIXbxj8lXTsZnDxZJ19HUBdiT+L+eoi3Hlc5qAo4qk+dmoGxVHWB9VLaiZxTYrqsN+P\n",
       "S6IrClzfYMhvvYd7vfR/nhPzThc2PpObKRj5zoFvfiWu86B6W80krknhdIdQbIsug61eidNn+XDW\n",
       "7272wriJG69qg8L+Yme/WLnaTy8yubnYLraUlovU90zKQ7tbX5P/XfsPfT5RpFkFFWAAAAAASUVO\n",
       "RK5CYII=\n",
       "\" style=\"display:inline;vertical-align:middle;\" /></a><br>"
      ],
      "text/plain": [
       "simple_extension_range_len_val: forall_{f, b} [forall_{i in Naturals} (|(f(1) ,  ...  , f(i) , b)| = (i + 1))]"
      ]
     },
     "execution_count": 14,
     "metadata": {},
     "output_type": "execute_result"
    }
   ],
   "source": [
    "simple_extension_range_len_val = Forall((f, b), Forall(i, \n",
    "                                                       Equals(Len([f_1_to_i, b]), \n",
    "                                                              Add(i, one)),\n",
    "                                                       domain=Naturals))"
   ]
  },
  {
   "cell_type": "code",
   "execution_count": 15,
   "metadata": {},
   "outputs": [
    {
     "data": {
      "text/html": [
       "<strong id=\"concatElemLenVal\"><a class=\"ProveItLink\" href=\"_proofs_/concatElemLenVal.ipynb\">concatElemLenVal</a>:</strong> <a class=\"ProveItLink\" href=\"__pv_it/ba21cf3e47f4df1b617a6960411dadfa29635b310/expr.ipynb\"><img src=\"data:image/png;base64,iVBORw0KGgoAAAANSUhEUgAAAYgAAAAWBAMAAAAodhaSAAAAMFBMVEX///+IiIgiIiIQEBB2dnbu\n",
       "7u5UVFTMzMzc3NwyMjK6urpmZmaYmJiqqqpEREQAAACk/Np2AAAAAXRSTlMAQObYZgAAAAlwSFlz\n",
       "AAAOxAAADsQBlSsOGwAABHRJREFUWMPNV11oHFUUPtmdYWb/pmssScFWl0CaShBKtViqxVUwyqIy\n",
       "1dYqpdkEfFPKxoAPvmRF7ZOEfSkIxjYaX4qCGymUah62Dz5EadyE1lAVjA/B/mig4IIGBc+Ze+/s\n",
       "zc65W+fNs5zhzJxzds53z8+9A2Ck3iGIS1X8SSE+uSZX12zv3inOUuwweprSCYX4lM4bXrvLbB/4\n",
       "lGCN7n/iQZh1PF1RIVyJC2B0XxhsBESuiKtS73j4ui/sdwUeX9Kj93kQZh1Ldk2GQEJM+gA55bMg\n",
       "XkZOFLe+6dWzvrAnLsEbVFlrPAizjqVMQ4ZAQkz6BzlbZ0EsaPJnSrjPF/bEpQCK1eRBmHUsJVUI\n",
       "yfj90KLrfhbEXk1e1kEE9vvJI4urljI0tlnH0jkVwrnYIKwCXWc4EOmaEcSMYPTYNzDwkGk6GXUs\n",
       "nVchkOCe35HvPlF1g9T4PZjxEQ5EBtvh8DwLYkQwelwAWMdWqXIghO6/0owKgYS5qtfqai0MXhI3\n",
       "5dP2nwCLIYgvBoh2B/iwHIpzLIhFwehxCtwxzKdYFWe4BHePhSCErjs5Z5T0gAoBBftRyBTAXjSP\n",
       "ssAAHhd3P/twG2CFy0SiCW7zIgtiRTB6eL41KxQTJ2/C95af8UMQbV0XekUJB1UIKGRaNBYnes2j\n",
       "rKXPzYtg/wEwxYFIzoJNCIP0PCjTI0BMCUaPXF72buYCbW35utUup1DXjR7mQCTXoDwr15YfZcIg\n",
       "3CbSOGTnDCAg12IzMSeYPGqXcAT0Aewk5eoPb2kgAh0cv/R0tBoWtssucm73ydR9qEJAoVyE76Ab\n",
       "CGHwkazWvykzWjnpPYEdnxq7QznBs6exJcq+Hexqq9aJTzQQpLOHnGiLPl+ZkqH3DKozwS8qBBTK\n",
       "TbiRqwav8aMrAMrgyZbQb8IL2L9LXCa8PBkXORBLgsnjbYT57gqkg212Fer3aiBIl6k7e8HtmFJf\n",
       "waTcQ7x8Vk7yERUCCql8dtgK1sn+i0KuSSG8CwzcEwXx5DW4hdd5DoSFIXzuNjgQ84LJw6sEi5c9\n",
       "s7HxO4I4ktJAkG7bbM8YvDm49a83oS+s2YxM9scqBBTs8adO9YuED+D7EpSsYZCXxKAyoGUm/XHa\n",
       "JmAPu9nhDPN2dpTTycd254X9nraH3ao4RZGJ9HLHUbxc9b72YSsInOq/Hc3dReI2PylPJomKdCJB\n",
       "EIHIRevpatgZxzS9W2CPHUPcjq3siZVHrlYU29o3EC6x0iWrU3juGgS7CEfCywFns5H7EfAm4S9J\n",
       "Q3EYC09yCoQV7epwtl6zNL04N0ZAfMsdAJV9eOiklR2vwjSuX/r+CngdINILy88QCOcQTFadA3Q5\n",
       "BJ9e3t6AXwEmm858GNJ15XRdPnjnLJbs4Whjh+eNF3do+mn+e8IzfSZOS9Y97Oc2bpq/7LCccu3v\n",
       "FOFQwBGuH3JHldOo7hk9l2eB1a/zIGzTx8C65G6foE/oxTjxSLNdyUoa97cWPM6QfiXEp6xY8f6I\n",
       "4j2zPXHvwThvaTBSFv4H9C8GUC3eXXISRAAAAABJRU5ErkJggg==\n",
       "\" style=\"display:inline;vertical-align:middle;\" /></a><br>"
      ],
      "text/plain": [
       "concatElemLenVal: forall_{i in Naturals} [forall_{a_{1},...,a_{i}, b} (|(a_{1} ,  ...  , a_{i} , b)| = (i + 1))]"
      ]
     },
     "execution_count": 15,
     "metadata": {},
     "output_type": "execute_result"
    }
   ],
   "source": [
    "concatElemLenVal = Forall(i, Forall((a_1_to_i, b), \n",
    "                                 Equals(Len([a_1_to_i, b]),\n",
    "                                        Add(i, one))),\n",
    "                      domain=Naturals)"
   ]
  },
  {
   "cell_type": "code",
   "execution_count": 16,
   "metadata": {},
   "outputs": [
    {
     "data": {
      "text/html": [
       "<strong id=\"concatIterLenVal\"><a class=\"ProveItLink\" href=\"_proofs_/concatIterLenVal.ipynb\">concatIterLenVal</a>:</strong> <a class=\"ProveItLink\" href=\"__pv_it/df030ef0862afe870f2e31659562b361edef17840/expr.ipynb\"><img src=\"data:image/png;base64,iVBORw0KGgoAAAANSUhEUgAAAnQAAAAzBAMAAADshYgBAAAAMFBMVEX///+IiIgiIiIQEBB2dnbu\n",
       "7u5UVFTMzMzc3NwyMjK6urpmZmaYmJiqqqpEREQAAACk/Np2AAAAAXRSTlMAQObYZgAAAAlwSFlz\n",
       "AAAOxAAADsQBlSsOGwAACVxJREFUaN7tm3+MHFUdwL+7O7OzOzuz3Qu1Sg5hPWwqorE0RU9szaqp\n",
       "P/g5SI+kEdk9SfQPoS7UGDGxN4Vo4i/u/KNKRMwKJEIQbg8KFVt0WyMIjdyW2BarpotN1RDYXg1n\n",
       "zzuu9f2aN/PmV/ctuXRIfMl78+N9583MZ977vu/3+3YBYtLIyAj8P/WF5gOnF87Og2UbSUWmHqPb\n",
       "46dPxcq992w94M3J7W63W2znhUSiy1bYjk3KXP8tyTVgu5vIC81yotHtdXYuJ+U7+24o1SYbvSQj\n",
       "DT9nGUAJURxPJhld7qSAzqz00caODbj8Ey62WmeEz6VvXMMQUoxh6NKtBKNLVwR0m/poQvnSeqzT\n",
       "J/D+uQB5q1fpe/DxdpZD0ZmXJhjd70BAt7uPJjKH8UxYYB0EjGav0ov4eB/Loego3YSiWyuiW91H\n",
       "E5Okm2X48aU9SuuzZM+iORzdpJ1YdKlZAZ0+0UcbHyflQ/z4pz1KK+Q75Vs0h6PLNxOLLl0T0BWw\n",
       "5vvex7bFXyQKPLPmy0T7Yw020EHlJ+Ou9Ujna+agBQp6ApzD0ZmziUU3VhfQ4c+vD8PxWE1PBVTb\n",
       "OT7B+1oB1qHyudg7utLV1t/ubIGBOjrOFF1hiCT+QdUTiUV3Ewjo0shMuK4FjwHcED10qYBSEs2b\n",
       "96P8B6L5X+zBGMLSR77bvt0mZi8xfUN7Hfw9seg+KKLLoMf/rQXvBm2gHHkNEfCMqRmyuYyPr7G4\n",
       "G3qkH38W72kzNEegm7YTik57I4juo6DOe3ygYKICrqFWdtEV8P79sWadK33RDqwt9NU0R6CrthKK\n",
       "TpkT0eXboL4OxkwcOiqgr3COi1Qx3csN7NgB60qr8/pJ5qe6A9av6yBTSyi64moRXbEE6iIUJ14i\n",
       "b6MGL0DzBxVQqharz1Cl9zIuxhvOewYnGr+0MaMuptCmQ3NEryuWE4ou0xHRYSvhh7C3WSHoqmiq\n",
       "UP8LrOBHROBbL9IzCBedpIlJMo2LqcAVRNAvne2oJxXUz0o0R6BTZig68qB/jUQXV700qdoU0ekI\n",
       "2PXLvz5aJ+jSK9Gpi4EVaSw7ZDkCL7N6OEIvvw8Xm3HxHmCC5Ap+qV+62IbBt6HTNs0R6Ix5iu7X\n",
       "eHN3JLq46iUy60oiOlglhMoOBCdIZyCqs3VWzwJDadydLsHmR1kQdFNAmqQ7WI5Ap52g6L6GW+5E\n",
       "oourXpp0pO1Dt09AF4xAKbx+okLqzdq93Ou/xZjlcQAleDOfNEu7naBDODp1gaLD8RilHYkurnpp\n",
       "0nTdh67IfITcZxbQjBGMWl7LX2nUJvXpY47t/C9tEVvUcJco6EIQpR0TueN0l3B08B+KzsCubvQ0\n",
       "EVe9NOkC24dO9XZ6I3hBC3z1xqDTxI0wRTTOsaBgqDSbQS2aI9GdYjPsmqGhtTEzbEz10qRrPBrp\n",
       "7aT8ft9t5Sgtw5aRRr4bzQCpeqjghxm6neSjqHYEup3ON+slee9UYApIbFjzRpeifKqkpyGG7tuQ\n",
       "q3HPWbv4cjin5kVHq8+U1F0tZzI03sW6Pd08D7DXo5/4NIZ9eUcv37ajkeKe61cSTw4uZOiKljOi\n",
       "b938ChxUrILlRedWx6Xs826Hu8yLTq1RLxR8/ZH48g/gnRXdhlnbAE+8BdGZJTYNFHZi67fUVIQB\n",
       "y6tj0zJ3WOZmvOgKCNu435FxLA08fe9CzM09BdfoeAsNWJjYA8RzPg+fOHR4m4iOVMPn9nw6OEh3\n",
       "L3eAmTddhU8MYkPA6GxruujS+Ca5QW5IPO1Fh6yeFB7o5jcfLHF019jy7/KmF7nlkjNNwFXb0UtU\n",
       "LWoDHFI+/4CIDlerq7TZQAOfrY/xDkJ84YKJLaTsOw4Mu+i+g/LoD65zHrD5Zy86s0kNArO+4TBH\n",
       "d0Fd/l36X+Rma9V9RBTxK9+J1BHynHWi6A9B83wRHa4uNLXgutQu2OLZR2lEwd0tcyWdaCm6R1Fe\n",
       "23LmVdW6wotO78AvKbpCqhNmEveY8CJ3SlwvVI+GRKi2+nSBttJd8pdJCw66Yp1EXIyfdbuvIXQb\n",
       "8yI6XL2skapBzmekzMMKbi7TFSeyijS+q+7RdQfRaFpASnRrFyUbC/6me7TbbRF0WgeeQ6fbZl2t\n",
       "8OD5kYb0q2wC77o3TfmQpddzxcPrn8JDabv07dTXvUEn5DlrFdrr9P3BoFPVLv7e+sZKsYE5eJX/\n",
       "xuxD7mTxgl62XXRbsfK7z9VFc74B+1Xa6+ARbsCMtaTfxbPIrTtXL4vuTVyGLFvuk76d4/67nvMx\n",
       "ZoatCKLL2GNoZK0EtQIbeTGszbfMAUAHiDw+gQYwKke1ckWYJrKl2/jMQ8Y9R5cqUYfHaECKG4/L\n",
       "mtLv4lEmpvMJJqMnai5D0GWkZ3RzUeh1yHO+Cw00/aK6Y8t60em791+J0WnrYYutDeNiPTz8x+Ut\n",
       "8y8IWBvH1NAJBB2Vd8PNHl2HfPe8nX2WOxA1VkN8eVSZ+yeOlP2YBQYJbOkla+8iN8fyCegRXV66\n",
       "l6fm/FFi9eruK7FRYjRgTff+dIPfvE3iNSbReKZovYEuqiDynPzb4Ol1Y7crKres9A8l8CL3tVM+\n",
       "LD+C/U/4VNRAJwydUpO9X3bGjy7chxXRHRCDhKCWG2BaxYM4xpj/xWqvAAP0K28LP9ni8W4BNoTG\n",
       "YGdlXwV/j8r9Ihb1DfOldX4nZl0YOkO6l9MlABl0t36k7YnbsL1RCwxQBvCJwqDlDewwdIpXlUwJ\n",
       "HcEIj8Euyr5Kug259lMiFnPuEc0X3KaL2QF0MUuUEWm8JN3r+rPwo7WwGmNwSvWCBmoKz3qFoaEL\n",
       "19Blv8I6aiJtIguBNEZPFrM9MhSdNiMdjLWXGF3f6fE+0Dm/oeE9Kn3Pp4I6sRzW63Rp3foFSCq6\n",
       "SVmbON/GP1ESsVQbkwGvxLGa3+yATe7PddKyhl0Roai2KwKWaXTGv4wx3gidJjqStzOS+yMx6SkW\n",
       "mxeTLDruYNkM1XrFr6NC7bpCSfbT1hKLDmTXQvAid/E8EctrkJryT1CbfeiyR/89ytaqpRSKnVx0\n",
       "07Ku0aoQTyEkXRIqc4fs4/0DkosuX5G8YF+Iax9It3BFIMrI/kBen00wOm1Ydp7oYcyxxeyg+Sk7\n",
       "S2TaCUbnj6udOYDWy+vTxewgdlnt8EVIMrqs7Ijtf5GbrVVLRJwmekL3vrP1V+JXIbGJ/alzZOT8\n",
       "WLGz9lfiYiOp5FQWjz9++tT/ALsYhv1MFcwqAAAAAElFTkSuQmCC\n",
       "\" style=\"display:inline;vertical-align:middle;\" /></a><br>"
      ],
      "text/plain": [
       "concatIterLenVal: forall_{i in Naturals} [forall_{a_{1},...,a_{i}, f, j, k | (k - j + 1) in Naturals} (|(a_{1} ,  ...  , a_{i} , f(j) ,  ...  , f(k))| =  \\\\ (i + k - j + 1))]"
      ]
     },
     "execution_count": 16,
     "metadata": {},
     "output_type": "execute_result"
    }
   ],
   "source": [
    "concatIterLenVal = Forall(i, Forall((a_1_to_i, f, j, k), \n",
    "                                 concat_len_equiv,\n",
    "                                 conditions=[InSet(j_to_k_len, \n",
    "                                                   Naturals)]),\n",
    "                      domain=Naturals)"
   ]
  },
  {
   "cell_type": "code",
   "execution_count": 17,
   "metadata": {},
   "outputs": [
    {
     "data": {
      "text/html": [
       "<strong id=\"concatSimpleIterLenVal\"><a class=\"ProveItLink\" href=\"_proofs_/concatSimpleIterLenVal.ipynb\">concatSimpleIterLenVal</a>:</strong> <a class=\"ProveItLink\" href=\"__pv_it/eb5a22ffa93adb20a4fc9f116c585b4a7705f7a20/expr.ipynb\"><img src=\"data:image/png;base64,iVBORw0KGgoAAAANSUhEUgAAAhQAAAAzBAMAAAA9YoxxAAAAMFBMVEX///+IiIgiIiIQEBB2dnbu\n",
       "7u5UVFTMzMzc3NwyMjK6urpmZmaYmJiqqqpEREQAAACk/Np2AAAAAXRSTlMAQObYZgAAAAlwSFlz\n",
       "AAAOxAAADsQBlSsOGwAAB7FJREFUaN7dm22ME0UYx59ru22v3faKEsTwYlM9EBCtKIoKphpBo6KL\n",
       "4VBi8HpiNNFIjlxioh+8FZVPBPpBEqOHFvCL0UiPoIicSfmg4SVyC1EIaMIpOVSicBgr5+GB87rd\n",
       "ty7d3WZz+iTX3Zv9z+zsb2eeeWamBXBibW1t8P80x09206UL7u70/FhFIAzS49lLF51lnOnyhuEy\n",
       "PUbpQXZdc2cFaNSyNkFrL0vs5KA/KJ5hx1ARfzYprlFMoYfNjtWbNffXWSLtKwoxrUPxrZsydizE\n",
       "9c4BRFovDzN+n8TUEBkkaprDAgV85iuKDZ1aFELBRRGh5xagz+UAy3ZV0MlGe/WiLoWqEYMCVW+s\n",
       "hSJQ9hPFdaBFES+7KCJ4HPu3PvxsGMUBe/WCTySmJnaA57BCkZjrIwoxq0MRdFPGNuLdshxFULIT\n",
       "xyrA1ZSjxHJYoYB3fUQRzOlQfOimjHvJIxY4imbblhVKq2piWE1yWKLYJvuH4hpJh2IHHtV2TEzZ\n",
       "j4N6wddzXsBdK8dRhPJ2rXDltBJXL5nK1CSHJYrmkn8opoEORQ/62yonK7Z5qOAJ9f9z/O1SFKKt\n",
       "621JqepSsEzVJAf1VRliKsxExTcUkfN6FLPRIDIf4mkQ9tUOAokA7lEbCSkjoHAUajRgM2JhtSi3\n",
       "KFRNcli2CuGcbyjCWT2KO9GLqUAgB6uvqB0YEIHGzQ8Rp1PkKCJDdnc8AaoaTkhUTXJYooCffEMR\n",
       "zJtQBAegHZ0erp2HCgyOsIoilr2sj2UotjM1yWGNol/2C0V3WY9iE0B7DvrBDgUVbFYhJslZc50d\n",
       "5BSoahLT6DuI0VdAe9kvFI/KehQ/opsr8GtCJijMAYIAXLCwwq8HiSNMplS3OcCEBqPqm0FVR0eY\n",
       "muSwbhW02fqB4iToUSxCLywlzgqRViH8DeyjvaA5IYLoijRN4Y6QDIgERTzFhPpsVE19LFWLQ0xN\n",
       "clijSKYpCgwLfqgfhSM9sbsNKLagKnfcv/Yq2kEy+EXOwg6/xE9auQC/V3KdOcIYqnP45B8dSCMz\n",
       "oSZbiZdGfSxRQxjXF6tJDmsUoSGK4gt8eLt+FI70pL1fMKAI8MkZQZEw95Dv1E78OL/Opo/T+ZU1\n",
       "emF1pMHqeL6qJj1rDc9hjUIcoShewi1qoH4UjvQkrDhnQCGWtChC5hzqKHosRK8n8puq8ypifXph\n",
       "9Qbo70izwtVhpZ/Py/pqo6A1PAjNSBtS6kfhSE9e1KgBBfzC/nvj/V4UGZubkRpxL5tIrwcGWXCZ\n",
       "ZB6YvgvBHLtj9Y3LuQ+Qu5XZTE1zWKOg7fYgiHiq4sBtOtKT5nfeiOIp7WXzvEoE43VxEkMgsOaY\n",
       "lMxCVb3nc/6IA/FJRaamOaxRwF9sBJmTydzqZARxoidrJ8Oac+Imom4WLKito4e9jtV7Nfc32UWG\n",
       "YifAICJoXDmN1EJB9Q7Wnyow1u0OhmItRPEclva7yKwH4UrigJmfryZwFFR/2XFjd7k6nRjrlmEo\n",
       "khLvQatXnYYjISmuDm+mhJmg1dvOwfbzthgeGvMormUoEinmBeM7cfCUKqnDmymBoFD1ttaidrj/\n",
       "EAoo7EGR2QSAyTjh6PHXyJMv+dKQUA28sR6e3POAuVP0jecAEisXQ0M7SNRRsssOAos3IlfRLtGB\n",
       "6mhoxQf4WDoG+oQqCqwXpkfMT/hYZ7falaqTm9BwI2o7pcaCbqqRbhNeR17wzcMQI37uKJTwaqAg\n",
       "PaRP0KDA+ngpkoWoYSTZDV1qzLG7OoCeb0Bl8e5OU8mY+qpUC5Ezu42jSHaSmbP43pkzv6MnX0of\n",
       "pseYoKLA+pZiUx5eadWXOAIT1PMeyxDLteEAMmCKs6+mwa9nu6Btx0KlM5KjjSB2iKQMgyFBN0lv\n",
       "l5NfSaBHIQzDb22JcfSf26svdKQBle3TnH+sC01L3gsX/tSiSBRyNHDaD+jVLkXxRBY0CSYUQbkb\n",
       "1QihWApCjnygw7zISDnxPU5DaKux2j8NQKFdvzukuzLXe+F8OsbAdMiwHjX82IxOSEKXAqj9axJM\n",
       "KGJ9hx4mKLqUyDzokiPzIgvgo2/Gl+FnnEbXCrTNz5vFCjVR9DTAEY0aV7GER86cZqcK2UTQJFiv\n",
       "YrUSKS+QFpIu4jRtu53hvbJ4d2dJrwGFMG6Arol5NTpLsl7QS0jvdNWxoLf6LkWz8sLWUToklJY8\n",
       "opn3rPReWfxiclsNKOIwH33u8156eKg2ChF6P61zbVO0mG2LEBqnkfR7d/IBBaLKLgOKvTAKdqvm\n",
       "dVtwoDYK20m6Y+tWvFe2CALdK9yeydySydCtR7LD1+0dxYaUXyiC+Uag4FubGreJtxJhq3cU/m0J\n",
       "xbPefQVqWM15IwoSczWggzwNfqGIeY+x8C5Au5IzoNhQdP4EVubf9jHZpfBmeHdnG18HVFHgvUbo\n",
       "9Vy46N+XChowhOCILTnZ2EFW4Y/rvQ9Pef9QBHOeqzvdKtrEW6PRtOey/fwCkuh98eaAeTr2IinW\n",
       "1df99HYK/EMBb3n3m7JpDjVKvoOz3vv8puInii7Z8zx6wJTUS3ZvBz2jCCp+omgqeK7wuhp9zzNk\n",
       "eBb8RKF+3X0MWqLgDsUNLn8akyyPWRTsRxBtbVOd5XP905jTY5WEwL44f/bSxX8BcBYnwljv05QA\n",
       "AAAASUVORK5CYII=\n",
       "\" style=\"display:inline;vertical-align:middle;\" /></a><br>"
      ],
      "text/plain": [
       "concatSimpleIterLenVal: forall_{i in Naturals , j in Naturals} [forall_{a_{1},...,a_{i}, f} (|(a_{1} ,  ...  , a_{i} , f(1) ,  ...  , f(j))| =  \\\\ (i + j))]"
      ]
     },
     "execution_count": 17,
     "metadata": {},
     "output_type": "execute_result"
    }
   ],
   "source": [
    "concatSimpleIterLenVal = Forall((i, j), Forall((a_1_to_i, f), \n",
    "                                            concat_len_simple_equiv),\n",
    "                             domain=Naturals)"
   ]
  },
  {
   "cell_type": "code",
   "execution_count": null,
   "metadata": {},
   "outputs": [],
   "source": []
  },
  {
   "cell_type": "code",
   "execution_count": 18,
   "metadata": {},
   "outputs": [
    {
     "data": {
      "text/html": [
       "<strong id=\"singular_range_reduction\"><a class=\"ProveItLink\" href=\"_proofs_/singular_range_reduction.ipynb\">singular_range_reduction</a>:</strong> <a class=\"ProveItLink\" href=\"__pv_it/90531ae7d02db7d2beb8a3d0de8cf07c5ed560310/expr.ipynb\"><img src=\"data:image/png;base64,iVBORw0KGgoAAAANSUhEUgAAARsAAAAWBAMAAAAC6iV4AAAAMFBMVEX///+IiIgiIiIQEBB2dnbu\n",
       "7u5UVFTMzMzc3NwyMjK6urpmZmaYmJiqqqpEREQAAACk/Np2AAAAAXRSTlMAQObYZgAAAAlwSFlz\n",
       "AAAOxAAADsQBlSsOGwAAA3RJREFUSMfFVj1oFFEQnlx2zf3t5eyEGDgO/0AiMSiCEDiDsQtsGjWF\n",
       "5iCFhc2BYOsRwSrqNYqFAU0qG5NA8C8pkkaiQjhEA4qQpDhJGYsgFoIz783bv9ls0jnwzb3Zm/l2\n",
       "3nvz3izALlJHpCO2VntL2qj0bsyCtZ7M3tZE1R2x4fn+0lFx2aJGLLNgNdigBz9E0BeEU6FR7qLL\n",
       "dleIKk60L8W1zaqkuiGWGWB+EEKsBu/o8ZNojN1ANaKGl2412T4C8Cg5HeWr4lIVyGBqhBhmsG70\n",
       "Q5iVcZu2eENMcwnVohr2v3TZRvmUnI7y5TjIz2rEMEP79xaEWRmUvyX2oJ1UryqBHc+mXzcpG+2r\n",
       "41DOMiQzzLhRVkYeM8wI4hdErpe1ZGySzFJSOtpXx6E8ZQhmgAGIshr0lctnBPE8LSVVcn7s2Ky2\n",
       "7S48JlY1IRv2pbjhOaokhmCG9303IcJq8Bqg5TlfDUxMr0RnkW0ri5uQbyStjvaluMo0Dj4wIFdW\n",
       "UgVvuX5BlNXgHqTJz16gt19g4h46HKqiHtbYvp9DZ6eUlI72xbh08y0OPjNC0qOuyN8QZTUouNYz\n",
       "/OvAx1og6DwVGD2GdWO7NPeO7aR0tC/G2Wr6dxghIWZwtgWrgVNUldxZh9h0Bjx7HWs/25uUzoBJ\n",
       "Bxw6Y9MMmY6u+RCrATSWKd+xIbqmTaVOUg2ozfrp2Y9hr83SvhSXqQY3K1g7xASFqmA1gCF11a6S\n",
       "Gtxh4k2KUYV52tj2XwuLjS5MWyairyPtS3GjzYqmXI16bqoFLApWA7irUl2gCrtmJk/nUx1qLjq0\n",
       "s9sTOE/iGcXqs/8AK88yvhQ3k8aDQYd9TvQRv+ZDrAZQqHkHsGA68BRdZyW/6MjexDekqMJSR1Gd\n",
       "BFYpumvKru9LcYXDODjBCMmUX/MhVgOWc6RGr7CVohSP07ZXfRtlXOmvYrMc1/dVcbRYJY2wKKZX\n",
       "IFjHPXbVaHfArsA3C/z2Rx1tTdez1wp1d6zI9gC+r+mz1CBzoqkgk1OdBMG66PdevcId/XD5kLG3\n",
       "aOvqcGokYJvWb8uPqmGE51vQa/6AEZEtSLUagtUgsBxOIOg6vXYDlt8EbLoyla98By2C52tr2hYE\n",
       "20+AOd9VF6wGPKG1Wrgk6GTARMSGlf19nKq4fF1DfEgvxbGuhNitgzzF/yz/ANPS+vTu40wJAAAA\n",
       "AElFTkSuQmCC\n",
       "\" style=\"display:inline;vertical-align:middle;\" /></a><br>"
      ],
      "text/plain": [
       "singular_range_reduction: forall_{f, i} ((f(i) ,  ...  , f(i)) = (f(i)))"
      ]
     },
     "execution_count": 18,
     "metadata": {},
     "output_type": "execute_result"
    }
   ],
   "source": [
    "singular_range_reduction = Forall((f, i), Equals([f_i_to_i], [fi]))"
   ]
  },
  {
   "cell_type": "code",
   "execution_count": 19,
   "metadata": {},
   "outputs": [
    {
     "data": {
      "text/html": [
       "<strong id=\"partition\"><a class=\"ProveItLink\" href=\"_proofs_/partition.ipynb\">partition</a>:</strong> <a class=\"ProveItLink\" href=\"__pv_it/b17cc24d01245c3bd45b35de5399f9d1b66c7cfd0/expr.ipynb\"><img src=\"data:image/png;base64,iVBORw0KGgoAAAANSUhEUgAAAnUAAAAyBAMAAADIGzCaAAAAMFBMVEX///+IiIgiIiIQEBB2dnbu\n",
       "7u5UVFTMzMzc3NwyMjK6urpmZmaYmJiqqqpEREQAAACk/Np2AAAAAXRSTlMAQObYZgAAAAlwSFlz\n",
       "AAAOxAAADsQBlSsOGwAACchJREFUaN7dW2+MG0cVfz577bV37XOEOLUybc2ppK1K0BESqBCBo+Ii\n",
       "gShxRPgTQXuO8oEPLcHkEBIf6LmtQAKlib8EkJqCk1SCSqG5tGlTSAVOkWibSokbmqQNoLigwKkC\n",
       "6/LhFGh7EvPe7PzZ9dq+OSN5ryNl/Nbz3ubtb2fevDc/H0AEWrIOq6vdU4qMK/etMuggtT8qniQn\n",
       "TS3soGwv07CqbOxBXD4XFeyeN7a4IShn8suyizX5J6ov0yS8OeVoQGdfM7XI8ol6fMqTY3M+NMMa\n",
       "6cKrLFStF4DfMIjTH4wGdiPGS3Y79YlvbPJkdod07+jNda0a6x7Ba1RPDxLw/xSN3eIPxhbPUR+/\n",
       "dEXK4M71tOC6ToN1S0K9j0nvlp6LBHYbjC0mqD9aUjLAxp4WXDeOoW5Rqm8cwOnMf6IAXWzR2O8a\n",
       "fdypyQAHepqQLjyOq3dCqh8YxO1HIhHujLcshwLkH9ff68lbjzFhcy8LrgvHcbGVs4USV988iNuX\n",
       "oxDwZivGsaZBH1eFPHmYCS/1NLkqJ9t0468PNbg6mTjj1Ixf4HQ+AtjtNJ+pTZXaMNlu/qZftuql\n",
       "Qetwvvy4+b0qVx8owc0VI4DdR40t4lT+Zhc82aJZNdszISRd+Dj799QLfLb3M+nX3AhsFql3Vohd\n",
       "oijkLO42h3umd0WJ3W3HKUYc7mfSr1nvDB+7hPn7S9OazZWFnC73W4BcFx5lj/xW5pooSM8NEu9W\n",
       "sF7+7y03YW5CYTqeF/J0k222Z/Cqc++zQOnCG2ypLVhLMeDqZwZy/G/Dxy7eMp+qNEn2VYR81GYb\n",
       "J+Yp1n9xA6x5nbrydDEpSbasawng6scGcnwLALn+l+FhN21e3GQoel2Wcu59TLgVr8bZxBvBG1J3\n",
       "OwofULpwiOk2ofBeT/3WgRw/W4ff4ufPhpjerSBPugW7ZzSZZSGEZ7Zz0Z7XdEdkKonqdnFQx7+L\n",
       "d2oND7vLTXOblxlK5UelDKLMh0Sn7qSmq6p/VOcmgywYPIlJNIeH3dmKuU2uCiNXalLGtpf6rZ17\n",
       "BZvWUhfmxdd7pcmK22gZXIZ+eoh7xU3VFeRWLXALVSlju0J950xy8Z/QhXvE11ekycqxY//x+vHx\n",
       "DUPEbstKauo9Qdld3huwPXBR3a0O5nicTeYT+huw+A31deTFiNdY3Kj6R2JK/Cp0hvzX/JeVWKgL\n",
       "v48OXWdYVbOt5odgY75kncR3ksjLzet5Dw2+JlxW+5xW2xrA12sSVtY+DY6osW7/HLynzC3c9/s2\n",
       "R6G++3g9JrPyb8FqxY4l9blSAuvD5OlKWNUosPsyQ1fULQhTag2D/TE96WIbGnx715twIVFyStyC\n",
       "CkjVUD011q5ny1Pw9LsCu2yetorR4PLfBzp2LA106mKbo1SqGGBL9jONE5hn5+cSnoW94K9DmfpJ\n",
       "9oaypxxMHd4FaxZqpxCKnXfh5BmjoFfAnOWMXdCwY4ojYkRiJ3Obg2xKMnvM7+HipQcSnoXbekCs\n",
       "U7Rk6jEMDNnv/yovsdvie2fVoLzMgM7VQunqbhy2IR1eDTqDewXcRT8QoMI4MY2zwMni1zse/mJV\n",
       "Ymezb34kRiR2WYHM1CLAn7104WLi7sc8i+R15+8Q65xZMnVKErKVqUsSu5t8u08zKB9c1vN5dqF0\n",
       "dTca1pAOPxh0Jo4h7CGKYyex+wEdy3wpgZhsaKTUvMuw/gkxIrHLePWIfXcRhzOUAVyEuRs9i/jn\n",
       "5b6MluyrIxw7J9YKzY1fpV7y0FDwoRnWnM+UhN39JT9OfIh48FQwl9tdAkM6HB3xOTNKUJD3B8Qp\n",
       "DXASwH77hBbvsgzfC3zkd+2/t9sNwi7VSrVZm6eToPvB/Xm7/W+G3ba0Z7GPRTdPAy1TLXiJXTSz\n",
       "FWuyJmuyupbz0rcaD30zhdFebfNMU9hdHwjANMR58FjNn1vf+4v+3HaQDt8Pfmem5dKBj9FNFyti\n",
       "33Bbh2yFHXtsBo63o3Su2emv4JpNTfJ5l3nFsziTKcoQwSyZ+nf4vINfywUzq9UCvMLUeGhVr3Zr\n",
       "m54oaZWpj66mIcF983ZERoqSMR3+csAZdYhhsYi1DbK1SYsBMMPEZH53omOvYCM6djFh/jpTXePl\n",
       "2CwLHGP2aLEjVZQvZ4bUcyWe+cXKvqkv3KVe8dD02XN2cKY6Lq83BofAd7T6io6dIR2OjujOqEMM\n",
       "PAebaVo7qqlN+OwzzXQ1+YKG3TyvuscEdvZn386LOpzlcteRxl42azO3VZgCWy7zeLR1n4xmY3QD\n",
       "+594jPZTcVfc6rXl9Dj1d2qyJBS7Layiruujq/lQptYdOzM6HB3RnVGFOE1gQjJLN1VRsSXyWsx+\n",
       "D8h55yutvZrc+kL7Te+y6UucuaOovq3drvu+T2oTA7lnjYe2CnlxSNyluTvXznl21poW6HS1N0Q8\n",
       "+NYbQ7Ezo8PREd0ZmdTnLlTEyeH59C8n9ENEjp3DUH4WR7y6gqcm+gzwrS1m7+jZEFlOhT7+IgRm\n",
       "jeShExlm5NZ6HmbkhZ0DnwAfw82HaKbMxRth2JnR4eiI7swn5ZOv8c5rABoOA9mFAHb44ImvFXwA\n",
       "ufoMOt1x9KNDRfesh7mYWlLyOkp4JA/9sFPjcbV740QE2r1IEf1ccAh5cLc62gzDzowOp81ROWNf\n",
       "XX5ejYRTIGxb+kU3iqr7tdc0ro7KX8VDl3DqpBZ6njprdjiBZ4NDvCqnH488OT7+kfHxtQo7Mzoc\n",
       "HdGciQK3DU8FsNN4aHzkzET/gE52DtodDg5x7J4MjXdmdDg6ojmTLEYAu6NqKROtoHho+An0W7P/\n",
       "UHYjk/5lyIc4D34zGK/ZDjo8sGZHo/BbnhGV4FFVo3hoaymBOXqvgPBhZbevDj6Gmw8RD26/FYqd\n",
       "GR2OjrgytYKzUTj/0TbazSrGo5xZ2MOWYt5jqSVVrXHWXkAnu7PYSYZbDFFW4S6EYnes46696HB0\n",
       "xFGTbW0kDsIUW3JIxXiS32CpxQjuVchZc6raz1l7AZ3sdmEnGW4xRDx4shXAbten1uaDdDjetRcd\n",
       "jo6MyLwrGr+Z1WY/cc8BHvpBL10MNuKsvT9zIF1coxrDLf4C4ha1/rR5B2BMhz8onNHD4bBbelIr\n",
       "bjp4aKrlwzlruMB3AtT9Ji19xXCLIVa+J5vy7RzxnVE1ut86hA5/znewcDQax92pO6Q438FD858s\n",
       "hHPW8KHtQje1RD8GVQy3HMpVZ5vrQv9fMzocHdF+P7EpIif/14MqkIM8NB28dOGs4dSzUvcY/a5G\n",
       "MdxyyGo5hdCCxpAOR0dycrIlyxHBTv0tnq09CZdfXNYdPLtQunpPt/29anJrckQ58zpEpf0LVlmL\n",
       "zt+AQq6+yrDbTov3f0OnuhEidqr3AAAAAElFTkSuQmCC\n",
       "\" style=\"display:inline;vertical-align:middle;\" /></a><br>"
      ],
      "text/plain": [
       "partition: forall_{f, i, j, k | ((j + 1) - i) in Naturals , (k - j) in Naturals} ((f(i) ,  ...  , f(k)) =  \\\\ (f(i) ,  ...  , f(j) , f(j + 1) ,  ...  , f(k)))"
      ]
     },
     "execution_count": 19,
     "metadata": {},
     "output_type": "execute_result"
    }
   ],
   "source": [
    "partition = \\\n",
    "    Forall((f, i, j, k), partition_equiv,\n",
    "           conditions=[InSet(subtract(Add(j, one), i), Naturals),\n",
    "                       InSet(subtract(k, j), Naturals)])"
   ]
  },
  {
   "cell_type": "code",
   "execution_count": 20,
   "metadata": {},
   "outputs": [
    {
     "data": {
      "text/html": [
       "<strong id=\"merge\"><a class=\"ProveItLink\" href=\"_proofs_/merge.ipynb\">merge</a>:</strong> <a class=\"ProveItLink\" href=\"__pv_it/25c1ececdd740980796eb067d7b8b77abf9735d20/expr.ipynb\"><img src=\"data:image/png;base64,iVBORw0KGgoAAAANSUhEUgAAAo4AAAAyBAMAAAAgt0f0AAAAMFBMVEX///+IiIgiIiIQEBB2dnbu\n",
       "7u5UVFTMzMzc3NwyMjK6urpmZmaYmJiqqqpEREQAAACk/Np2AAAAAXRSTlMAQObYZgAAAAlwSFlz\n",
       "AAAOxAAADsQBlSsOGwAACfhJREFUeNrVW32MXFUVP2923ny993anIWnQFRnWL7RBF1IRSZuM1a1B\n",
       "RKaxokTpTm2if4gwUmPiH7YDRhOT0p1/io2A2RaJmAg7G1spFHWLiRaa7A4EttCY7FTS2hCYbBNX\n",
       "Ku0a7zn387158zr7jMnbm+ybM+/+zpl5v7n3nHPPvQuQ1JaZhFXR7DPJ/n53wyppP6wk+dtlylLK\n",
       "GXdzwRtRrQ490XWAlVrK9cJ7pSTz+LySrjLuklwo9mXBakEvtOhakSXEhuN/n2Aac++on5sGpvO5\n",
       "ipCtpo/ZsHZoDK+v4GVXxY/mdliX/UYp8BtFWtr0DmFD8amZ5PKYUtP6Trpu3tkSMuvJR3uk9Lc3\n",
       "ov9voPwe8KPJDnXlmwD9W3IXCRuK9z6ZXB7/rKTn6LrxqYqSwW1G6g6cwhDqyFHiQ5Md6hpqrcSS\n",
       "0yBsOP7h5PK4Xkmj5MiWtMxa9ACYokEzoN4baG5nQKP6tZQqcmwofqqeVBqtJfXkND3TJS2z9kik\n",
       "8ia6/ka9N9DcDnV9dkWWJmocG4rPNxPrHqsqMKCjdHd8uCnkLdPo5aJ0/3LDdyhEoGdb0/ahhR3s\n",
       "gofgpcP9W5oTdkLx3lJSedxdU781ubmhopTLjzHhhUjl82qkObDBj+Z2sMu+5L22oX9L9wg7hHdG\n",
       "qKnf2j6fVB536JFJqd5ETci51jNMeLmPlOk69ncclv1obge7vAtPZvf3b+l6YScc//ek8nijDpm0\n",
       "zF6Qsk1jZHeUrrdILzerGWegF1SXs4Eo7dNS9oLAhuPnEhpospcCPG5SMjHzWGTSV9I8OiU/epPq\n",
       "Sj38eejfkjUqsOH48YRm4ukLOhbSvD6r5Hz1cvN6kPutR1U6b6DPqq7xyala/5YGqxVjXgf9IwxU\n",
       "k8nj4KgWKTJcr+TxFqNmFt91Ly1s/lB8EXya/CGO5lnVJeycpgA83ir2tFQJWBqaEdjZ8O+b0FLF\n",
       "QFsPzap2+ChP5dgcwtzH/jeOqoa46HcilvAMBdMVQvMuYWczBeDxWjlgyS+YloYeL3LsdPj8WQT6\n",
       "xn9LGI/jOrEtlLTDR3nwfUy4Ft+NsEGTQiBd1qHwIR1L4CCIdIXQvEvYwa63wZquBC2tk9ZGKn5L\n",
       "7iFh59rQ7+u+C8/i6/6kpY9Gfeoj6JCqWsZhRdPI656OrxplrFRNzGOOpi5hJ6Wy016W+B3TEsfm\n",
       "widw9jz8ABHthPG40NLyCYD5fEvJoEoQ6W49NlG96qOqPPFdd0mhMeBIO7ra0MsS3jEtSawTHpjt\n",
       "i1QJSrcSxuNczfDhdfj4nVrGtpeuW7ofhw3j1Bm5CD+XXaYkfq/s0nbOSY1elvCOYUlh9/b4wv8C\n",
       "lzGcT1qcudrIa+02HDuiZWx8Z6l7aLj4Nyx1t8H0swqNXdrONqnRy9JMwJLE9trT+g/ADSMj65PG\n",
       "4+2mw9oTlN3+Vg85Tk8YWnStyBJie+I/DfC0yfLXuNvswgmH8ppvFtWt7pWU+UFZsCJXXQxbM2tl\n",
       "WvxTorfgQtoIwE8hh1HMPoqkf0YFKPcaTta99MLnkzsJz+tImi5KeuG+Q5MWLYlflArCjABk130B\n",
       "rsBPMdQZVgVggG801I/F2r2rjEb4APPdlTQm/ZkXa/6um/nL6waPd8jlrmy/Qo7Wdia96hgcRtar\n",
       "UsEAfO+eN2E+XXEq4FO35VrKQSNrShy8enn0ihRmhgJTP8dTVl7zFDwytz3hA2GwP8r49445lFg4\n",
       "k1JBA5ynMdEvNim5MNQdSekgTfKSuYm0Guc1NI7hc+y4jV0P0BjZ8gecw+37aZ59zOCRPetsblgu\n",
       "NNZSwmShO/B+9EQReUwpBWGGAXD9ASdP3U88anXE2sMtk0edft0esw5VD8p92slJbNz6F4szcNs+\n",
       "kAvwMSqQN3FqZq589SacfYuaxxzzYdsf/LL4rPR4Bbwmzwm82tgp5PFnSkGY8Zo8VTmZvotmLao7\n",
       "HdbeQqzjNUwePeUgr67FehqrFZQP9Kd4lcQeiMkjBocf0yA8ikTdhcseu3IrerIvUjD1GprHAruu\n",
       "n5HB/Ccv053fch4dCyFPKQVhptAuUIpxEprvx1etjtivpJsmj4V2WB6+gvYK90TqFMCwj9mwpo4X\n",
       "pD9RQ6wVc0VyEZ+DvvQjukhF8sRRuk3bTIJHrwq5i8zb7cIBVcdyUrYNLzC55dXsMvI3TwqiH81k\n",
       "2+4vO523GY9b0QuTumjzQBsuf+y80enMEI9ZxePCZJyH4Tv/ximADwLsi1bRxwvmOHZfLBrtfyrx\n",
       "U1Rn+SrJWEWdLZRwAqce1zyy53TbB+VZIXuphjPx+3w8wpP4E+xSCsKM18yW+XgsvEROl6mLeb1L\n",
       "BreQeb07Vn2ZL379pwBORKvo4wXPcOyJWDxm1UaXvQR2GV5Pw1Z2d5SJ27OlMnszbvniTKZ4n1zU\n",
       "e40yWEWWNvHE0qoyJRY7xlU6nR0FBJwRueJaZs1Qp5i00xevLZVcDsXaEOY7//5TAAORkd84XnAN\n",
       "xw7EyhS8ZaPMl90Id1wJbKBbVSbuh7tr7E3mvQaP5yBfz/xVMr+9jnWD3D+wQvdzBmFK7L1QQE9f\n",
       "pcLCXuYfCh+tMbp2tgx1qjmslTzmbrlYlFUI5LgR52n4zr//FEA+cmTr4wVY4UVsPtZMsNQ+CNaG\n",
       "PJJaaMsTt6Xbbaus2tcwWG/tdIQ386BQNnPHGQLYX+q8GbDGf7mydMoQrB5AZjTO01Dmqvfu7eGi\n",
       "KKf3asbxAneRYyPxPVtGJimD8zVR6vQqv9gpRKPAyXl0gunVWLCKekS/QzN+QKBceiT/61G5nglY\n",
       "c2MdUOBnRtTefbrAzLuRI1sfL8i0OdaNNRPUPkh6jSwfuTB9WFWSXPDxGOAN3WKg2JTWVKEZP8AN\n",
       "TKqvD1d6WMsux3ma6yjJVXv3DzqNyx2WVccLaEuLYl0pzidPFPsEioFoB8J9N7ByOUBPrA98Y5yn\n",
       "4Tv/au++gqMtuxiloY4XwO46x0bje9ad466D/t/td7F5NE4BLLAfqhDpafXxgiuAYwuxPPM3k7ru\n",
       "n4qTiNN2inEK4CG43DzVxwvO2v/LvE7sOalUnASSdv713r29nMbMP8r/6OMFlyyOddsxPthN7Lm9\n",
       "WN9ssw4dKBcW97BkAGnt3uPnG/3G8YJ3t3CsU4zzq1eTyiPE2TI6qEMHyadZApGixS0eAlB7/Ouo\n",
       "YFgB3/GCE2WOTcWJGMk91wxzMdZntF/v37uHB2RmG1zJof3A8YIHFH6F7WxiaYR8OYYzaHbt3Yv/\n",
       "cOg2hsv84PGC5xR+Za2wlFweszfFUDrXtXfPT4rY3U4PN/oDxwsQG+tkyUAruTziPxCtuG3r2run\n",
       "alRwISXWXsHjBYgdjFPu+VaCaTT+T7P/lpsJysf7U9wjscdjfFOvkWQe4S1YJS3Z/zcMg5Org0ab\n",
       "tiL+C4PVw4Th3fSbAAAAAElFTkSuQmCC\n",
       "\" style=\"display:inline;vertical-align:middle;\" /></a><br>"
      ],
      "text/plain": [
       "merge: forall_{f, i, j, k, l | (k - i) in Naturals , (l - j) in Naturals , k = (j + 1)} ((f(i) ,  ...  , f(j) , f(k) ,  ...  , f(l)) =  \\\\ (f(i) ,  ...  , f(l)))"
      ]
     },
     "execution_count": 20,
     "metadata": {},
     "output_type": "execute_result"
    }
   ],
   "source": [
    "merge = Forall((f, i, j, k, l), merge_equiv,\n",
    "               conditions=[InSet(subtract(k, i), Naturals),\n",
    "                           InSet(subtract(l, j), Naturals),\n",
    "                           Equals(k, Add(j, one))])"
   ]
  },
  {
   "cell_type": "code",
   "execution_count": 21,
   "metadata": {},
   "outputs": [
    {
     "data": {
      "text/html": [
       "<strong id=\"partition_front\"><a class=\"ProveItLink\" href=\"_proofs_/partition_front.ipynb\">partition_front</a>:</strong> <a class=\"ProveItLink\" href=\"__pv_it/86aac9c327cdb3d19cd2b9af809e85d6d14d5a680/expr.ipynb\"><img src=\"data:image/png;base64,iVBORw0KGgoAAAANSUhEUgAAAaEAAAAyBAMAAAAHA3moAAAAMFBMVEX///+IiIgiIiIQEBB2dnbu\n",
       "7u5UVFTMzMzc3NwyMjK6urpmZmaYmJiqqqpEREQAAACk/Np2AAAAAXRSTlMAQObYZgAAAAlwSFlz\n",
       "AAAOxAAADsQBlSsOGwAAB5RJREFUaN7Nml1oXEUUx082e/d7N1uEQtm2LkubKlWJtVURo0uxfRBq\n",
       "t1AfgmgiffChWqMFH5u1oiDUdF8UwVS3tiCCNJtabG0DTRWkH9Bs1aZYhKRCRIqG9iH4QQPOOTN3\n",
       "Zu73xr3YDuzs3MydmfufOXPm3N8GILQUq8PtTS9UQu7wZc+aqr1cba3HhMpbaRF/P1xBsbJXTUfT\n",
       "Xj7YWpcrKE/lW23xfbiKvvGs+ZHyY5vMcsGi0S2ln0IDyuIcxWdJWFAL3mwgTEGJP71qjBrm0Zd6\n",
       "zfIqgAD72LwbBfTRotYgifJasqj7wlQU8TS69ATmnVdnZRnggn9nvUdQxLi4yjSCW/D0Q5i+4VvP\n",
       "mk7KRyuqzL59h07N01ePeb0hsIVIyUaIitZ71nxO+UatzIae8OsrWiRdNfN6JLCFORV/hSeoY96z\n",
       "6hhm363bKcpGgfmuqN8ezuzoxrlOox1vW4nbCgJayPRRiNvIe8ARym+a5WiKWVOm5tdZV16uY6OT\n",
       "5edAtEiXKHmPNR3eRhoa9Ky6X3OFrPxemj1btujX2X7qLML8Xaba1eTnjH8LM/XnQ1O0w7vqMcyy\n",
       "N8xyBVcgfsOvs2nuPermrA9BUAsz5YqhKXo4QBHf7FTGZ0z1+HW2UVN0lH0OQVALuQVDcw3xW951\n",
       "B2jyBmT5g0Ab+pX7QwoTVoFmdYH7yLgVlqKoz9xcownPm2VjIcrmcgaHd97LN/aD3IKwSeIfll0E\n",
       "0aItW1lcyvnYxGa12bGcurGPTTY+bT9zEcbfeoEy04uQv87g9hkD0SI4/QJA0n9uV1Gnzwx+qjY7\n",
       "la8xfxzBt4PIapatxUJDFKBUUV4khXYWw47vAdEiOG0FOInfH7arqN8n/Ijg8nyllVnaS/llx73Z\n",
       "ihZCrxHWmijKFoFpsg5v4DLPtKtoyMcmWKCZHTigBZ0yCHUGt2yLwVSyaYazseZkRYS34y0/CIbq\n",
       "0Wa7iqb9evgNIrM1WQY5hYZzGraxzwN95uasDjXxeB5exKQzY8mwCUi27RkmB/3e/yFTqMoyPSv5\n",
       "tIzzVlyNMydMVzyTLuCZNCtbBKcuZrHrSqX1bSu622/fJibs5bOt9bqPW2q19RbQxdbyOJ+E9tLW\n",
       "sDHMf3a6zLzfgYQ6gw0+12RDaeF+quKa13e4dnT6TlEUKaKFRtFYjVNoD9G89JuQ4/ecN6+B1wtv\n",
       "FV/7NNwlp+JVuFMUsaM+myfHEDtv39xckWEPog6zz2u7rsNUtJKu3JGKoHaGtpRjb3NF6br9Xb4C\n",
       "6eMYZ+QbUXerS9jLCVd/4eFGWkRP/KsKNjiJVgdbEBxld2zBwGMpLUuhqRRF5LWoZ4fXcixfufqm\n",
       "UrS16gCHWjnldv6u8EAFrcVvovVBsMFJ9AzwFtnVRdom/RSFZGtK0bvyWtRnGwaddleizx9W3lsz\n",
       "WQKHGkTsaFif3lJjTa9XPJUqbLFJjrGngmDSAic7UUyOnuYUZm8TZ3022lCKjshrUZ+aSdGZcgUa\n",
       "K11P2D4bRIyUOUN04kUb4zN2flIB670u7y1EMvkYyziY1OFkV8PGN65p7IkrmuLXe+ZYqmJ9fCbz\n",
       "8dzcH0zRdhVrTGu7bdwJETMNT7yI6Qu51BXbvS4HDpFM2fqCDU72q0l6hGZpflB5Ca5oj+41sD7b\n",
       "iJf5GqUuqQBRCwt6XCDiBm+8yNIlXZF+r0viJFO2RjCpw0kVMhtsnO2QrZUN9ri7weIZxDWab60M\n",
       "HXkeY7BzaqnbYnNwaIOII9540aFoBAIZhGqN5qTDSRUy4+vV7qbxYjXeaz5pTgTA2pOzevzDMFvJ\n",
       "1L2D5hmMutUDEjjUIOK2MfM91o4XqcapaLOfIE4yaQxjyQx/0dXhpAowyXpJX9acJf68qbJt1lj0\n",
       "bDwzd906UEwZEZ8xBRHLSHLOueFFqnEqOue7RjflGGl4nINJHWfKoz43NSheIOFy8rMeTRGcMK9F\n",
       "2uT6VqcgcaRpgYiJ5tdg+a3KVuNU5Pu7FmcQNMZZWOCISAdLT0jjXiLfVybShYquKPpcQfenmbor\n",
       "3VpQzqhugYgGzeqQC17kNXC0VHqoVOpWiob8FHEGwcfIznMwqcHJxM0WAg2wng9GEFXioymIiOPC\n",
       "ITe8mJ13XaNDvsdRUY2RLnIwqcHJ8AgkfKn2UdMKEZMDVkuy1SzS6jjJ5GPgAW2zulh4lHhUGiOB\n",
       "Qw0i9jfLIsay40WqcSq66AcnOcnkY+yvczCpwcmu8Eh+RB5I5Es1iDiKL+Jjbnhx1HxdtyoaE0zS\n",
       "hVCafoX760kBJjU4ORnem6dydgQONYiYWy4YogMvUo2uaNeT3XnBG1frYJIK1Fr4FRoDdgkwqcHJ\n",
       "7hBftRR9WWODiCAYohMvOmIGda8HnDRJ5hrTfvda4GSYv1pq633BAhF5HDHhghddIlV1rzuclCST\n",
       "tX6FzGLcEvTmBkJUlJTPwMIkDSLS17AbXvToaNgHTkqSmavGF/CYRTCpwcnRMAFO/FF5Ys3oEJG+\n",
       "Zt3wokdHsz5wUpJM1nrspACTGpzsDZVZLLOBQ62cqXriRaeLqS4CThKYVHAyNhCqIu//dPrf0k8h\n",
       "9/f77RYU9n+jQa5+mxX10Yb6F9v48r0t3QpAAAAAAElFTkSuQmCC\n",
       "\" style=\"display:inline;vertical-align:middle;\" /></a><br>"
      ],
      "text/plain": [
       "partition_front: forall_{f, i, j | (j - i) in Naturals} ((f(i) ,  ...  , f(j)) =  \\\\ (f(i) , f(i + 1) ,  ...  , f(j)))"
      ]
     },
     "execution_count": 21,
     "metadata": {},
     "output_type": "execute_result"
    }
   ],
   "source": [
    "partition_front = Forall((f, i, j), partition_front_equiv,\n",
    "                         conditions=[InSet(subtract(j, i),\n",
    "                                           Naturals)])"
   ]
  },
  {
   "cell_type": "code",
   "execution_count": 22,
   "metadata": {},
   "outputs": [
    {
     "data": {
      "text/html": [
       "<strong id=\"merge_front\"><a class=\"ProveItLink\" href=\"_proofs_/merge_front.ipynb\">merge_front</a>:</strong> <a class=\"ProveItLink\" href=\"__pv_it/ff8e6625f2005e81c17b4b07c28020048587543d0/expr.ipynb\"><img src=\"data:image/png;base64,iVBORw0KGgoAAAANSUhEUgAAAecAAAAyBAMAAACUpw5PAAAAMFBMVEX///+IiIgiIiIQEBB2dnbu\n",
       "7u5UVFTMzMzc3NwyMjK6urpmZmaYmJiqqqpEREQAAACk/Np2AAAAAXRSTlMAQObYZgAAAAlwSFlz\n",
       "AAAOxAAADsQBlSsOGwAAB6xJREFUaN7NWm+IVFUUP7Mzb/7se293DJJgK4fFVqWMTdQgUCZp+7Y0\n",
       "kll+yB0xCOpDmxtBH3KHrD5E6XxIClRa/0AFpatZlkqMfchUcB+W4p/CqViTiGX9IFua0P337p83\n",
       "9903H+I9D7w3591zzpt77j33nHt/MwCx0wuQHK2tJPO92YbP5aXWfLBBlehFGqoJI51JbmsyTj/H\n",
       "uXukVsJ3FjX6VEsraqWUB1xda3ImEZ+dks+5ZXy3H6swPjWuDIMkgdykKtLQwQF8/wlF8CJ/qHQm\n",
       "djUJp7cM+9wacn98xGN8RxkK8pITEkjVVVErZZ5fhu5WHd224WesrjV5IAmn53LuKLkv21vhPDjj\n",
       "kqYiUUWtlL44iecR54tbvrrW5McEUpnTz1nCdV4XPKIlQjMgkUUa2kd8SQu7JSEmhfH4nU6XuVN1\n",
       "EpYlwSPaLgWsKpFFGlpB7p9iu36urjPp/Dt+p+fw6LKx+876vnHGr9yP17EICSGBlfcqIg19v+hF\n",
       "ks3wVFbdngpV15psi9/pPhFnpF53F32+vBsxJ4SmkMB4uqGINHSNT+9Q45dNTJ2YHOjFJL73cuyL\n",
       "OjfD2Q5PJHPE571v1DLKJeDUur2ICpun712InXrHe61G1bUmQ8W4nc6KPJYeI+Pu8xaZrFGhelnW\n",
       "qiiiVnKnyccj6PriOGFHIcSkqxR7HqsGnF7BeRdn3d3B1ES1DqgiTZkucacXHCQhsjvMxIk9k402\n",
       "xJom4X2F84WqGpBXJK25URvILjqYO9D+5EbnjL/fPKNb09a/cTv9RE30k6ythzg/5KFEfRo/0Uwj\n",
       "JJC/AYpIJosGBF2ov6KJnLZupZj6aW0flsbt9O9SRFZFAsL8vjyKAly2rH9AlSBHQBIN1RnDn/jm\n",
       "FtWobNOayTD1/do+/AbQxJ8/x+X0cmmXUBIJCPNddyNmPn7qragS5Igs6sD1+35gt477RNaDXeg1\n",
       "HvTcydTn66MN4DD+/DAmn62b0sM86dAzj1Ueko/cSkCCg1cSqXQW375iZZCfZrB6Xp+nJ8bgVazR\n",
       "jKtMX5MeTgGcK3icB//AADg6JUnWm6jIogChTOBWdwRPJVjdbuiTaZGcvzJeTE67t+SMW4MH1wge\n",
       "02ZyX4kuSTLqLVREgeBBUdAx6e/Qr/rNm7lJ6+5kHBw0HIXYzlgzcnebcOxrwWOaJHc8QZLE7hlT\n",
       "RIFX4qvHLwpr/eZJbtJC3WjhLOrtXRyX0yllY/BukHdqGhuqpRVptqNsVLB6mEk3GuBDoUPy/1Pm\n",
       "OiRPabQW3oa82BtadHSGJR2WG84rhs9A67ZdGJ3330NJqNq3g9MduD5WMnjNWEdwZGSKvE58x/pK\n",
       "V5szxhswPQo24zYcHEstlcsO0c34uhY63tnivDF9OziNDj1ukeSx7MnhQBSMyU6vFg1sb4FKRW72\n",
       "1JhbHYAvVcvVUoy8fAdVvc2chvoxsryDy34LyE4fFg2MtgIcQePkHrOhrEoOy5ZnqGqb4d0e/q+h\n",
       "mviotRHeMIj75K4fxNM3m4RkD67bp/M9ktMl0YBoJ8oCg5DCC8J9/ZNimRsxXfoe7vQgT2RRx7r2\n",
       "8H9NWWBfvpNdUYkMNpE8Rk4kmSGyA3Rx87r3nqzxrufrogHRAJqxS7QousMDF8vM6NspRA2kS9/D\n",
       "nb7E+zYTsXkhMROO/2tIBfmx8ymvjTN9F1nMR/DtLXICfSqDV+PiRk7MdGdTNKAheBZN/F74jDpt\n",
       "p5rciOnS93Cn92o3JxqKwv81RTAA8m+VV1NInRYg8Hb/QMrQuPzNQ9LKdKu0IYfn8io55W6EE4j3\n",
       "3GGrXBdAH9VF77GnppZP/UWd3shn8oa5P1H4v2baAiD/KbGRD6MhkYIeJqv5+rCf1JzmrrxwOtcU\n",
       "DdjuaRyzr9CZhs+LzIiGN9Kl72kN71wEahGB/2soCPKnK/QyoTc8TVjIZBW49bKFxmEEsdnihoyS\n",
       "yHgDoguIm4UqPC3KqSo1EokMvUd2ehYX3TR2Jwr/11AQ5MfxVmgYTS578pF+xLPW1XJojcxGbKGW\n",
       "PS45fRV4A67Ed+GW/B/43P4BUqFGwI866D3M8s2P9ktnH1hg7E4E/q+hFpAfIy2ZqvFb5vCaRpYO\n",
       "GQKXDK7IgNTpPS1HOtS+amqKbVhceUb2KJb8CIVpvbE7Ufi/hoIgv4MCxKkbTV7iZ9tzwz4scbbw\n",
       "cb+MUNAe28GSn1EWDjHiE1ZTdu2y6oRxuUXh/5rNTBDkd1HEuqX2IKvMLHY0RUdWG0WJAwGnYSBg\n",
       "elJ5IkacBkJVR401NAr/1xT2IMifm6aXYZyutb/BswLNpimzQlXT1Winw/F/TZkucacpyN/ZTy8D\n",
       "kBE72G8b+xOF/7dSC8gfHd7ZUtxOdxp3J1H4f2s0tYD8TpNehg1Z7D/gUbw6NFirYMD/OchP8P0Q\n",
       "kN8u0iucJuL//4XxK834Pwf5CRMC8nfU6BVOfQkAVGWT1Iz/q6QH+d9gV/jAJvD3C8cIIxjx/wCV\n",
       "tSD/UXFUMaa+eOl9Y49M+H8gkWlBfvxbjfn3mn1J/Dt0xLTgjPh/IGRAB/LjM1CX0a1lScByKePG\n",
       "uD38X7PNYqPyA7vCq3QS0S3/ITYJupDM13Y1EvQ5qb8+w58JOr2GrPf/AGvlT0118ok/AAAAAElF\n",
       "TkSuQmCC\n",
       "\" style=\"display:inline;vertical-align:middle;\" /></a><br>"
      ],
      "text/plain": [
       "merge_front: forall_{f, i, j, k | (k - i) in Naturals , j = (i + 1)} ((f(i) , f(j) ,  ...  , f(k)) =  \\\\ (f(i) ,  ...  , f(k)))"
      ]
     },
     "execution_count": 22,
     "metadata": {},
     "output_type": "execute_result"
    }
   ],
   "source": [
    "merge_front = Forall((f, i, j, k), merge_front_equiv,\n",
    "                     conditions=[InSet(subtract(k, i), Naturals),\n",
    "                                 Equals(j, Add(i, one))])"
   ]
  },
  {
   "cell_type": "code",
   "execution_count": 23,
   "metadata": {},
   "outputs": [
    {
     "data": {
      "text/html": [
       "<strong id=\"partition_back\"><a class=\"ProveItLink\" href=\"_proofs_/partition_back.ipynb\">partition_back</a>:</strong> <a class=\"ProveItLink\" href=\"__pv_it/4531eb4b8a41cc81e0f230b8b6c0353f97bf04480/expr.ipynb\"><img src=\"data:image/png;base64,iVBORw0KGgoAAAANSUhEUgAAAaMAAAAyBAMAAAAD9qmVAAAAMFBMVEX///+IiIgiIiIQEBB2dnbu\n",
       "7u5UVFTMzMzc3NwyMjK6urpmZmaYmJiqqqpEREQAAACk/Np2AAAAAXRSTlMAQObYZgAAAAlwSFlz\n",
       "AAAOxAAADsQBlSsOGwAABohJREFUaN7NWm9oHEUUf3e3e3/3LleEosTYI9jUUpVYrIIYOYvpB6W6\n",
       "hVoN0uRKBEGxRgJ+TM6KgiDxEAuiqaSmIH5pL6K2tRWuXyStYM+qCSlCT0tEAoZUOFrbBpw3uzv7\n",
       "d3a3ucHkwc29u5l5t7+Z9968+SUAwuRlWG3pV8Xai9e4XUmnngxps8zaUDMSB8VCepHf1eHU0/lQ\n",
       "JiN1+nY49IwLQhEpBW5Xtoht5glV1yNVG0gv+aoX21+wGVEpso4wD5EpiYT0/hC3q4+2O4bruh4t\n",
       "Qsrf66WXekgrV1C/AwD9KRUqTu4VCeluftdp2vYcVZkOStXXWOziPK65EZ0/BM/Q5WeBCULp5vfR\n",
       "rnTT1Ils87V2jD5ZjCFUA2fokqqKgxQrcrvS1H+kgqkTGfe1tp22X7AHrQXOMH7rmjhIG/g7nkG0\n",
       "ymBXVdd3TWFk+Rn7fusrNEdgPK1rkOUoBc1g8ok4SF0+zkBDoi1v6MVJopz1tXaF7WQGHiXrUTFm\n",
       "fNmJ4vNjl4QFU+Iqvy9aNzMi0ZP1k0EnSFKzdh95TcMyyfyF0GfOQF4UpLhPdohN0OUzdJnuwaif\n",
       "tewSfXuE6iStJJaCZjDJFYRlh1IQpO1Mx4eESd9jqWBCyhA93R00w8y8wvLDaM0nlqjj/cn0VCnI\n",
       "jXLaAh0C7Vy2OF5gLMk3RUF6puzzgNS9H2D6QJ085Y/4yR3KsraXWkD8TmOQ7KtCsp42I1geEgXp\n",
       "sp8blcyIR/1YkmwpJnL5X4znikXRGqO4omn7PDofQpwK9yR/AOACwG+tQnrM7/grmBGPeu5OotyD\n",
       "nzrJNkXxuNoCuhLdaKYS+Ayb/fht2ZgRwl8AvsX3j1pEJN/w691kqZE36WmaJoCs2/N+xeYbPfsP\n",
       "6Q57gM0IlvMT8AYOb7R6LF3x6yVV54yWI7QKlFWkknssJoPSIVbbvqo09Vo3UwuZqPK0aJfqLULK\n",
       "LvsmsDLc32fqKGO03eXebhI10XmjEPwrsYznNF3xsZCPMlAFhaBPtVyHX/V1ywacOWHqKPO0dS+8\n",
       "gq92I332wxTGRU5lM4KljXj41s7OB1uFFPE/4N5z6ko5lNmkhnk6/AwCiazZ8fArwM/TTVgrEiNe\n",
       "+w4kzWrmeS3atRDW44SsD7uEy+WI5/1h7UCK4jGhSliEyadwlx83syfktDHnzNRLtiMP+r0xseVJ\n",
       "uM1Yi/jS2oFE6sFsnmaH+DknH6JBkp0F6RHyen3/AsxIakZdm5CgcoaGlSv+NEiZCWcVqkLmOFYc\n",
       "+ark7XgtMpEhvy8z+0mn48FO5JSygzuRBKRbsus7C6Qo2ah249xKr6eHGFY0MHvxTQZJsmW8FplI\n",
       "txzmD0bTNvOYHuAtioMWur10tatzFkjvkj3IGmefNKBCtqqdLbPS3iPMvvVcapWJdBQmG51Y7YM7\n",
       "HGtIb245GkSncAf34q7J6lMWSEcBnpUMKultcmlJN9L0uJiF6l2eR23LTKRV9pzEVT7IH4ymrebb\n",
       "TNpr3Lza6PySBmlGI0FGFomU8QqTaCifLi7+TSDtZlVH9rpIJtLuYE2zMvQajKat5gdM9u1h+vk5\n",
       "ql+zQBqxpg65OUQcL1HUdin9E/OOmyKZSDekmMofvM1ufpQFltwEuQhzEuwmD9htTw8wzHajUoRI\n",
       "Xqs2yHm1nhm6IZKJdENK1fiDx+3mL9Ut97RED+y5HUgIREoWSFg6s0eX95XxizESfenNQ8ZhTGSz\n",
       "SCbSDUkq8QfvsJvfwDI+umOWanVjTbQHThcda9xPbD29uGD/4UGRTKQbklLhDz5rN/8aO1ZnhvQb\n",
       "ZVb9eNh61MKJ1Oc2kq7X8y6pCmQi3ZCyBf7gC3bzjDKQ1hnXFwWmvrZBkl5ot6ZgZcLzLlkXyESC\n",
       "/AHltoYYpMQSf/CozXzS935t1BmqBy3lQ022zkS6dyndzR88aTMvjprMdAtkIn0dzzXY7nhxYQRy\n",
       "+vqKmEjVk4n0SA8NLm1JTZu0ZZswmp8ycbfMRFLFzUS6IVFu0pu2pKanvPJUq2KauhUmslP1YiKt\n",
       "Er/8zz6dm/SmLalpk7bsEnjlL66EidS+cTKRbjnApy3RtElbivzDptJcCROJ37iZSLec5tOWaNos\n",
       "eHMlgRfkD1fCROI3LibS4zhpcGlLanrMUdMKkuHyCpjImhcT6ZHlVS5tSU2bpF2PSBojUhHFRLpl\n",
       "mj8YTZvm4yL9zvffov43mRNrLldbdUSi/3kNFlYdUh+Nuf8A6xn0SeaEYSsAAAAASUVORK5CYII=\n",
       "\" style=\"display:inline;vertical-align:middle;\" /></a><br>"
      ],
      "text/plain": [
       "partition_back: forall_{f, i, j | (j - i) in Naturals} ((f(i) ,  ...  , f(j)) =  \\\\ (f(i) ,  ...  , f(j - 1) , f(j)))"
      ]
     },
     "execution_count": 23,
     "metadata": {},
     "output_type": "execute_result"
    }
   ],
   "source": [
    "partition_back = Forall((f, i, j), partition_back_equiv,\n",
    "                        conditions=[InSet(subtract(j, i),\n",
    "                                          Naturals)])"
   ]
  },
  {
   "cell_type": "code",
   "execution_count": 24,
   "metadata": {},
   "outputs": [
    {
     "data": {
      "text/html": [
       "<strong id=\"merge_back\"><a class=\"ProveItLink\" href=\"_proofs_/merge_back.ipynb\">merge_back</a>:</strong> <a class=\"ProveItLink\" href=\"__pv_it/d3d1f28b87d453e3e5a3de95e3cc2a937ebbd4dd0/expr.ipynb\"><img src=\"data:image/png;base64,iVBORw0KGgoAAAANSUhEUgAAAeoAAAAyBAMAAABhWYX/AAAAMFBMVEX///+IiIgiIiIQEBB2dnbu\n",
       "7u5UVFTMzMzc3NwyMjK6urpmZmaYmJiqqqpEREQAAACk/Np2AAAAAXRSTlMAQObYZgAAAAlwSFlz\n",
       "AAAOxAAADsQBlSsOGwAACCZJREFUaN7NWn1sFEUUfz1ue1+75YiRYCpy1i8I0VQCiASS8wOMH8gR\n",
       "8YMo9JBE/xDxlMSEf+CQaKLh4/6RECmmoInxD+EaQIigFkwUMYGDSBGiaZHUEAJNSawgpcZ5M7Mz\n",
       "s3t7026UXSa5vdd7b3b3zbz35r3fK0Dwo74NQhtGT1hPXiqoovJr0f2DZjCxuBcrLr88+Sty4Shd\n",
       "n7Wpuor8ldFbh3UHPi+Z9uCNBcHz5FuZcLQ+KKif6XXXLJtudKyD15CysDJna8hG6lHcRSsLxtkM\n",
       "136s1y2+DEXp+GXhYyW8Rl+dadN3AnyonavIwi0ACdVaZy/HFVtAPokyMF7Cy5ojHWFoHREGnqLP\n",
       "H3G6R9AAP2nnOmXBLCu8mdtRx/3kM7LCeQ6+MPEpYWj9ndSBXnfkJE2+tcHGKQugKJDsp1/NQmqK\n",
       "ky/H5jC0niyoz+n1YYUmRqm1P6csQKti/DRKJdH4HxG8Vs+lKwavdF2/DE14+X7Sa5w2GknMjeY1\n",
       "c6UsGKO60ZcFy1xyN5pzCt1nIxzbzXizve6SKIfg1nnXTl2y6WiSmKdZ0k0WspCCGeT6o2SNTNum\n",
       "YlyzfpnBeJSfaqJDPNfqD17rVQVB3quEdEKvS5WGOE6lLByCQXI9Lnkb6H0jJJBZV76IbWK8457p\n",
       "2aXgtV4iyel05ftsOofbFevTzJWyfMdWSV4XC4Yk2U3NoAuwyslXxu/Baz3VpTWLQpTuIrEXrbz2\n",
       "cS1lIYX0J+5Ah1pHNj8GnPeJ522OBh7OYtckvQUvDXlBbxwqYVRk2bGvWPAfLFIRC29p21EAxcLd\n",
       "fg0tgecp0SuSPkN3J23TxmCURDMMzdVntgFOWeLHWLgdASF9P1sXInEUWippxjvinevkg9a6QbHg\n",
       "2TIKIZ3sW0s2hryv8TduSIlf5F+KLOpGRjtwvh3o8OBbBi2FLOO1e79DBnBt4dfAtB7RLeltMgpR\n",
       "+gyxvAj6XBPZvgieqvQyEYm7XLJENzLGA5e2A12SOMhFqGvPMd54b3vrg6/we1NgWrcoKUKkIEug\n",
       "CD/Q3qHxudrET4BLFi06nhHSKW6194hTLmPzq4Z5Fd5Gie7gjmul5iXFgZXf4iwk9tPNqJ5HTFaV\n",
       "fd3sF2UISncmKq7qBXkp77AVu0SrsWglMK271Eedg0hPSdAg1n9edTQji6XIxgYxHYH1YEvft8D2\n",
       "WftUWi/41TcbAJOsRyK4aHa0oPyxCMzGoqDpS1Pbrt4iEz+KbDt1TIaBofSBvbZGttn2CH71+Atg\n",
       "UlPT5OC0HqdmCPEON31oeMAEm2d6ZRtrQfDMWtnIPwB7aq/JdRhzQwLrHONBgPcgLk/tF5i7q3AU\n",
       "T4Ed62YU63R3RWHVkhXhb28ErZvQlaKY5hj70GweEkeDeTsPD+zrMMBBGX6jaeAxNzbxCbgJV03h\n",
       "orA8Ql4iMUgeV2/cAErDHWRj0jSY1R8uOFnTVa2NPMvs5fiUfN5cdh46o7lUDhxcI6/YSWxUhgnf\n",
       "WFpD6QCtyl2uH+9TtU4RnTY4EYkcpPZgWpcu0+NV4absBaBzsZ6QYOWQFl5008MskLhYTfTfZeEw\n",
       "B9FYa8kcct1Kd2ne1xgEu1eXpdYRTOXjjTYyN5qe8bciffL0aqq15KKw0VhRtZYJwdwhlPiPjYHa\n",
       "6L8rmsEaqiotT2ZRcKV8Ci1+zIlpUuv3yWfxumf4K0dbcmCV2dF4MrqQ2i9yU71kXEDhlFVStbaE\n",
       "Y48r6F/If2OAof9EdtEk/LMm+u+q8Rvoi+xD01iIiauRexL99CkWhpnW2xHc7LBj+7ukbk12J+mp\n",
       "eRLKt4GDi8LPRsuq1sluzyzFI23y3Rhg6D+V3cw9zxv9V8aAE7prSAt6w76C4tedZEkGiBuvxN0s\n",
       "YoUb6zY/7u29SLSej9GQcvnoZLDdN71ne3s7qNYxoXVXm37j6Er6aQww9J/KDtoJvalHQY0/BfkA\n",
       "rYiepzRW/keSmaLUeiU6+jY7TBj9BWK0sSzb6+Qx4Fxu4Svt4Ohh4av0OIb/xgBD/0cIqjb6r1Yf\n",
       "QhEwsnAqCvPJr82EXBzLZB3RrD79ll0LWaUs1KVZSkfO5tFkksKloW+5I4bXifgyUr8N/hsDDEtD\n",
       "2WizMNRW7UOsQbFkGYjNhOfGAPGSujwhN8FSxa9JKZMo1v9gL9HiIv6ynggkJxSIyPKKwqV1z2h7\n",
       "bvzxgbSshCCixbv9NwY4+o/zEnmrMadB/2W8v6LUumBRqoKLa0m4hS1K1j2V1EjG073n+V+OOIvC\n",
       "rUpeZxdUNBlq1r6Q/8YAQ/9bKQj425oOBf2vOept9Lmhs8DxCiv30XJOqhnpXvfUWQ6bcbre3sRn\n",
       "zUoOrwqb+saD78YAx9JwXtcHlRVFDfpfjWJFR9llrQntu9UKl2sddYUUs81d/qq+9mJjroZwbFD7\n",
       "Qr4bAxxLw3k7mYvVRv/FQg2Vxcj0LucF1dYaGuGpQ2vtpzHAIx/KTthFt702+i9yhmEmuf/j2Knl\n",
       "+m4McPSfyBpXk9Qzhrbwl4Ovd3Zo0xTfjQGO/hNZs88YrAMd+m+PELp7Ee2BrW0MiH6A0hjgkY/I\n",
       "1ncblzFlqI3+Dy+gXpehf6a2McD6Ac7GAI98RLahAo03gw79t9c9H0JJr4UmfTcGOPofEUWNBv23\n",
       "fawYgtZHdWm1z8aAQP9lvaFB/x3xL+CRyOq4/hoDEv0/Z/+sQf/VciXoEZum4/prDEj0X+S8OvSf\n",
       "ZWaVMLTGfwrUJEUdbtpXY0CP/tPxSjgIZX02THzUKoX04Athah3Wf0pDQ1t4ShsUhfsXRaE/vrjR\n",
       "hhwAAAAASUVORK5CYII=\n",
       "\" style=\"display:inline;vertical-align:middle;\" /></a><br>"
      ],
      "text/plain": [
       "merge_back: forall_{f, i, j, k | (k - i) in Naturals , k = (j + 1)} ((f(i) ,  ...  , f(j) , f(k)) =  \\\\ (f(i) ,  ...  , f(k)))"
      ]
     },
     "execution_count": 24,
     "metadata": {},
     "output_type": "execute_result"
    }
   ],
   "source": [
    "merge_back = Forall((f, i, j, k), merge_back_equiv,\n",
    "                    conditions=[InSet(subtract(k, i),\n",
    "                                      Naturals),\n",
    "                                Equals(k, Add(j, one))])"
   ]
  },
  {
   "cell_type": "code",
   "execution_count": 25,
   "metadata": {},
   "outputs": [
    {
     "data": {
      "text/html": [
       "<strong id=\"merge_extension\"><a class=\"ProveItLink\" href=\"_proofs_/merge_extension.ipynb\">merge_extension</a>:</strong> <a class=\"ProveItLink\" href=\"__pv_it/94d15aa6c4bf7967fd0c5a14be8793f40121aa570/expr.ipynb\"><img src=\"data:image/png;base64,iVBORw0KGgoAAAANSUhEUgAAApcAAAAYBAMAAABdO8uGAAAAMFBMVEX///+IiIgiIiIQEBB2dnbu\n",
       "7u5UVFTMzMzc3NwyMjK6urpmZmaYmJiqqqpEREQAAACk/Np2AAAAAXRSTlMAQObYZgAAAAlwSFlz\n",
       "AAAOxAAADsQBlSsOGwAABrlJREFUWMPlWF1oVEcUPrvZm93s3buuL4GStoRUTUEsqdgqpYGtNL4U\n",
       "4QpWkIKu+OBDf1ia0rfqYmmhYOu+2JYSYf0BW2g1EW01phBfihrQS6nB2kKvlLR5adBC6A8IPefM\n",
       "z/3Nzd2HlYIXzp2Z+535zsyZmTNzB+ABPQ0p/nLgQ8JT8FWJh5a3F1ehkMjQpqEGPLAn4wjxlwGO\n",
       "pav8mEiOLQ1Fn2MpKnC+WGmnDUsbInHpw88dd+YPUgDOjahyX8C9cY/5oo1vq4qv/FxIm3kYgv12\n",
       "sFp+dXT05CMqeLyZ8aXd1J4hkkn6+GmnfWk0hQDk9g3LMqwCOJJcbcsouWMnT+VmUFvwMASPBGvt\n",
       "uLgIQjlKvzPEm61Cj53YhtSGUN6meOB22pnmtBCArttzoPIAM8nVhk9TR6dU0a8teKb82sVpFUMW\n",
       "pXKUfirKWxpPbENqQyg0Ljmn087skgJwxgadxzRxVhQXORmCGG3BMxRYwhV/H0k5Sj8Uw/tMYtNT\n",
       "G0IpoZd7Oh4yv5ACsFmX6emZTlxh/dz1JsRobw5C0T6ScoReVAjxjiU2PbUhkvUDAxs67sxzUuC7\n",
       "9a/KstGHTcrVEiqV9q6hFWhS7N/2OAS0BQ9Dxko3ro+kHKHnCj7ebRMUQZNant4QyTcAcx135pie\n",
       "APdUOVfEpVNqJtVaUdHzcbxrOqh9T0MmPB/XR1IWFc4O0LPGm9seb/UEZq4mNj21IZL3oeCNnyGO\n",
       "nnUeRVDvWxK9hXgm1qKF9fKANgiOCejrpEDhL1X+0ETjVn9SPw5zO7IY0UuNFU5AW/AQBFfgflwf\n",
       "STlCzxU83oJzETPfJx7WUxsiKdu5FrnxEjk/J9QG6VUG+S61BIwp4hFXvYI73TUyWDeFJ+ViePNc\n",
       "K/Os1HlOClh3Vdmm+ZG/m9SRX8S20+K8HdAWPAKyqEvmwMATGLFquo+kHKGXXCpv8Lw7kNSG9IZI\n",
       "rArvP93X6iEa7cwdEt7BH06Gzb12Cgwxt4tVhtGZ+d6FllUbgfNhZ4rYz3lyT3Fo2dgvO3IWAtqC\n",
       "R0Bmf9yEIeUIvajg8bJ7Tiy/CaYxxMaalzmORP4ttTMnJTwpttTwceNvtNIS2SMMozMv4chYl02o\n",
       "Sp2jUqBc0+WPYbll/pswyEtzVVBb8AgoW01e5v6Y6QR5e2rLLfP0htjYVjq+W3u3kpN7OXD2OQFn\n",
       "9ku4n/HwoXR2gwNZ2m+/RSqGXchQyLDe+byinHlHCnRVVNm4n8MIQiHBiHZBDNjTogVUpfAvSG0B\n",
       "CR6G4HArdl9wZYWAaypB3t0OtvB6UhvSG2Jj77Lvr/Oc3k0MptX0O7PQFDCmhFuhoEkcH1Cw/BHg\n",
       "JyDYhV1ssj5yWzlzizqBiNhP+eLdQ2iKmrWb/jX/kRmvpDYrPt+UKHSRtoAkjzj63Ig9/pGyGb7E\n",
       "4Ao+3jMFHPaJiGmvDW0YYmNlVr9Er/d4xr+cG/c7s+gKGFPCi6HRNlH5NNq2X+IUYRe+FM40M0r3\n",
       "uBQZ+zl/B/uRpeCSXY2vtZQZV68B29usirR8uomJtRmSPAzBG6E+dv/65x6hnA3HLq7g4y0/ipkn\n",
       "VRvY9NpAG9ow5DM2ppejOo0pZ1o1AVOKeD7kTFKelQz7GXbh6sLCgmPVjao6GGbrQuBrr0zPQX7f\n",
       "jO6hvELkkW1QrbaDGlI8g96q9U0YTX0wQjwY4qWJ2p/QhjYM+Yxt5Gi5WPc2I+VM9t5GdhPh4WXe\n",
       "VWcn8kaklvlbYmbCV8oqXSagWLWjwcsFcX9Qje6hFIx7HHW/0e3c0DcTBGmeGYDXS4vh+wdNPRUh\n",
       "ngnw6kuYpdrQjiHPmIGK28FqVg1kHYXwBkQwpohDpoKKqEUvUqYwSxtQHk8GK4FgF8+uwMfTjP4d\n",
       "mGfJzjV9ZXVdZUSvZ7ehPLVT7RqNA846rU2Q5ik38vezsdc0pBxzG1Zu+Hk5+SihDW0Y8hmjoDDq\n",
       "GHsa+WGA3qAz52XMmAfEqQmjTn4TjDbym0j5uGwWOW6esy4Ufqe4+Ik+vwNvSbug1NfwlUE4HUrR\n",
       "FtLQX76gBto1+1pamyDNY7gwMRl/pLFVheDFquvn5WQuoQ1tGPIZ43XHnrdU/NTOPCnhk9oNeogs\n",
       "sVjotI6xk1q3iz24fWGhFRy/aSH+Mv2gpXoOieTK0lD0uZKiAudLjXbasLQhz1h5tq4i7s2eU0NB\n",
       "Z5oNhjGlDyNKUYTtP/ZRegE+w9iQsxnu+FXz//zJrdRTfdrss4POhBGG2VH8o17yLYUXONjk7Inz\n",
       "/IdO8MPuzNjIqt/q98CI/1XQvwu2gBsPq8f+A1JiKLEivhQYAAAAAElFTkSuQmCC\n",
       "\" style=\"display:inline;vertical-align:middle;\" /></a><br>"
      ],
      "text/plain": [
       "merge_extension: forall_{f, i, j | |(f(i) ,  ...  , f(j))| in Naturals} ((f(i) ,  ...  , f(j) , f(j + 1)) = (f(i) ,  ...  , f(j + 1)))"
      ]
     },
     "execution_count": 25,
     "metadata": {},
     "output_type": "execute_result"
    }
   ],
   "source": [
    "merge_extension = Forall((f, i, j), iter_ext_equiv.reversed(),\n",
    "                         conditions=[InSet(Len([f_i_to_j]), \n",
    "                                           Naturals)])"
   ]
  },
  {
   "cell_type": "code",
   "execution_count": 26,
   "metadata": {},
   "outputs": [
    {
     "data": {
      "text/html": [
       "<strong id=\"merge_pair\"><a class=\"ProveItLink\" href=\"_proofs_/merge_pair.ipynb\">merge_pair</a>:</strong> <a class=\"ProveItLink\" href=\"__pv_it/f7ebcdc90242aa95a7131bd3c234f9b667db900f0/expr.ipynb\"><img src=\"data:image/png;base64,iVBORw0KGgoAAAANSUhEUgAAAbEAAAAXBAMAAAB3zGzFAAAAMFBMVEX///+IiIgiIiIQEBB2dnbu\n",
       "7u5UVFTMzMzc3NwyMjK6urpmZmaYmJiqqqpEREQAAACk/Np2AAAAAXRSTlMAQObYZgAAAAlwSFlz\n",
       "AAAOxAAADsQBlSsOGwAABNhJREFUWMPVWE1oXFUUPpnMSybz5k2mLrIZlRDUFqQSi0UQKkOw3QVe\n",
       "QIVuzEgXLtyMBFw2Q/1Z1fo2iosWoxHETTuR4k9bZLqRtkJ9BFtEBSeLkS4kxEWRCoL3nHvu73s+\n",
       "B8aFHvjunPO+88695/6/AfhXpMKwbeeBy2T8tXR9vTt6A9i7O/pbI8gDDNuGauNvPCWVR0+kvv7B\n",
       "6A1gb4UBPvhpzMSilgRA+EzM9kTPydViYHqY6QqW76i8eFTpTSfXPHHDorfCJaTfGzOz4wyAY2sp\n",
       "66UWzMSWj2FgIiHKoUmCBMvyS0eU/hDAO8VVu2HJm/EqTtLBmJldYQAcOR9rHWo9y8dhiHJoOQB9\n",
       "LCd/GGod4Jviqt2w5M3AjiunY2a2yIDqXW2jHDYuHkPUYT/OJJUXYqOL37ioZj8sejNqomtmxkys\n",
       "mkiIPppXNslZ4+MxRJ31A31C5ZKli8b1i6r2w6K3wqGFhSfGzCxsSUDtxCM9tle2cBFoF4uBlQeZ\n",
       "OuYHuojF14deZj1oiu2z3C6oORMWvRU+BxiaJSwPgg61l591NPu94qU0/I4CmG0ou7UplOvG2TDQ\n",
       "m+xLiuhwgaRtxvg3NajlqphltaSoU/2w6K3wJlQwanAZ2bJs7X4s6vzyft1BG4oX7tdN6lBKJQDe\n",
       "7rBdSb8UyrZpgmag1p1NJbXtt/MgHbq/K/2tULQvmi/KzA+L3gr1uLwhyKkbHe+luh/lef7F8X/l\n",
       "PjG7W2rZbkgA/KzsgHp+3bysGdRjSa37NTxFh+Oe0mMckem9osz8sOitEDVoA5nNXEgymV3iXzoj\n",
       "tsEcNSazJW1HuGltmpeXrCZ8ytRmbmZyUyAd21pdLMrMD4veCpBcxY46sYzP52imNVOTGRso88zr\n",
       "zJbVOkslAH4xdtudboah89fMRnudnaN65ZaB+rvwT7PRD2vPRlimrr9J3bWKh0cYJSYzNL7aFdKv\n",
       "JMzrzH5Uo9uQAHhc26tpi4PK88gwUPmD67vpt3OHBqCh9ODPslg/WF2QzSk/LHorwGvUR5exeIN6\n",
       "8blyz2TGBg7ogHmd2Xl1qPA2qxY/6hcqYkfCnT+4By4DNVw5Wwz3qmQ2BdSre6dF12KrVxMOhIqx\n",
       "smHRWwHqHbPh7liHY907KaM28uHu7tO7v8rMTqqc5yXU4ke9fr9QDqC1ELsMTA2YOuBn9qHZFEjf\n",
       "EXWXcAMoPSyKR1HpqSI/LHorsDxJi+pux+wmnJkw5GycHjCfmY10MCDCtnNQVGiJRLHH4HRDqpJZ\n",
       "QSUM/5mlCzlF5a3s90VeWPI+pd+SOQE8C1HSCsTyWLP3xjUwO4jg7cz2effQ2zOpc4uVl1qxVmxm\n",
       "Kv02llSYuTeJO3LUPudep+Vlt5W9V+WF1XfzK+bqJ/pvLQ1e7E6LL4g5O7M57XMHBM+Zvf7+Fj5Q\n",
       "W0iX8NhxyxZyhsoVAYtZTw8ydSa7LdyB0jDROujvkCD7lZobFr0VrK8KoA6I1Jqr+7faj+zzDKvT\n",
       "r6MmcPULl5G3NhwZiwmbG0wNs5m9ALVmV+vUCtoDa1nX3LDorcA53+7wzIVbMx8vmsyUQZOra+4g\n",
       "NB/M98Vphm2L+07OASS9kMqjK31fvzbapZwrv2aBG7lPd0w/bMYmM2WQHHWj3YD/qWT/Wwryzsr/\n",
       "qvwF5bZ7k1oDh0kAAAAASUVORK5CYII=\n",
       "\" style=\"display:inline;vertical-align:middle;\" /></a><br>"
      ],
      "text/plain": [
       "merge_pair: forall_{f, i, j | j = (i + 1)} ((f(i) , f(j)) = (f(i) ,  ...  , f(j)))"
      ]
     },
     "execution_count": 26,
     "metadata": {},
     "output_type": "execute_result"
    }
   ],
   "source": [
    "merge_pair = Forall((f, i, j), Equals(ExprTuple(fi, fj), \n",
    "                                      ExprTuple(f_i_to_j)),\n",
    "                    conditions=[Equals(j, Add(i, one))])"
   ]
  },
  {
   "cell_type": "code",
   "execution_count": 27,
   "metadata": {},
   "outputs": [
    {
     "data": {
      "text/html": [
       "<strong id=\"merge_series\"><a class=\"ProveItLink\" href=\"_proofs_/merge_series.ipynb\">merge_series</a>:</strong> <a class=\"ProveItLink\" href=\"__pv_it/bc436183afd3ba1fb48c69df8f9ec485037966b60/expr.ipynb\"><img src=\"data:image/png;base64,iVBORw0KGgoAAAANSUhEUgAAAjcAAAAyBAMAAABSVOcHAAAAMFBMVEX///+IiIgiIiIQEBB2dnbu\n",
       "7u5UVFTMzMzc3NwyMjK6urpmZmaYmJiqqqpEREQAAACk/Np2AAAAAXRSTlMAQObYZgAAAAlwSFlz\n",
       "AAAOxAAADsQBlSsOGwAACIhJREFUaN7dW21sFEUYfu+629vedyM2mKpcGkUIYg4iQowlV9KaKEGu\n",
       "hg8JgZagMVGEmqo/6SpoJDFwPzQxCqYIieGH9IoglaIpiTFSIxwKRUBC0WCw0QZ+NNSPJs47Mzsz\n",
       "+3HlLKlxb5Lbe28zz8zuszPvvM87ewB+L89NRqNrs1AOpbJvMloNvVMW5DwtTXNiLXjCvisHbqIp\n",
       "YQYKE2tit9fJSGsZkLOjTZinJ9iEN6n3lwE59whLz020DU//8r3/XXI0LSfChD3zN14nq/K+J6ci\n",
       "I82JN+I1SMKjvidnmryvfRNupMpzzL3ve3KmS/Mg+TTXrGwcd83Sq595aYnzpOa5Ml3yu9MJ3ZD2\n",
       "TvLJB9ZFUuMBIlCTPEC+xRqnkygnSl35gTosku2WpN/DY+mPYTa5SzMwSiLmxilFAV/DNHMD+b5P\n",
       "jBpCQcyTz3jK7/5YmRAPk4EE8Rzeb3iwGKANfvUYf9c8F0K/e+SOPhs5AAkyECraYJz7uu6xMKU9\n",
       "3dPfPidnqaKLduGhy9SzO0yoL4ogK/Ry0Gstrx2uAWtaOX0OPORzcn5W7MsAazs3gQYdWRL76+7K\n",
       "ZPXRhyqvQQYiMSua1lrI2aj3LPzJ5+QsVOxHyer78ifwMZIzB1rw9vGg/6EYsRur0+ECLNes8Pd1\n",
       "VN8R73VpKQBl7Ud/cqP/pfz4EGB1dexoAci0GoPgveRUEDmYZRl1WdC7kxe+ZWHf5mFSTBxvEPTO\n",
       "dZzshCP4/a5PwxzVuwat2IU55DOu2jEZ1SUsOvQRgnqtiLdPwivkyxj0JzmxMXXpzYvQJUxmUcZV\n",
       "W5Nmu2ghR+od9W69JQ9VhE+t4E9yojfUX1cto7GWTCC3H2mWZo2YmOvMokMj0QpREipU+dQfB2zx\n",
       "zFobb+7afXapIUPhIiIqQUibW1f3oE/J0UbUX0apCZ2qj9J2SVEk/CaT8zDAFef5p5i/41qNzU7T\n",
       "JtcCpTkFkyo7Uf6VlvtBxXp2HRmZEKeR2pIEd5DEhm+AgQpF71WIb1D8f5yd6nfINe7+QrMeh9s8\n",
       "JT822M+UHcM0ZCyib75GE2y0U2I9uya689pkjstgGqec1okd9bd512Hk6E4C9pLPixuHYEDLRjwf\n",
       "BGlQgPKU8P0QzpSotsnFrFCw7q7/I3JiySrb0u9NTqTTOXGzEDmM8WMyr3n7M1OCcD2Yj2dK3CvD\n",
       "izmiYF1d39K0KpUclFy5Y+gd1mOCLFC7tYd87aZPvPlzhZwgOOQaWf7vRPvs+VcpOdU9i230YoNB\n",
       "ruzwBo1RqCiAIwvnBClYSEmsu2s+xWyrleG0jRJZMAXEcDpkWEIf5wk8TK0cRHHbRJ9I/pxCzjZw\n",
       "yLVYXqfP9Ky2Bod5wNxYxa75C4zL+2iD27iywxsMjUCwDy7Yl2IB4kXBGjmJdXVt4W1xzl1OO1ya\n",
       "/+f7VljbhqDJoi10nPTSUCCeJJ7HWIMDSs8uVsjZDw65Fh4MUw9+FvJ307jicsjeZy8FUWXHyalI\n",
       "4hlbMOIESWx4UGJdXXsFgTHqzyKNWW4H8ja6vMrBJjzSzcDNWVpbRSSwz3ibjIsSbIFKKqESI2fA\n",
       "KddCg9EPhod/J+QsYzEkudCtp01boDVAMwmR4eGFw7+RaZUowGbH5eHdVVqgnIqNtUqsq2uLjz+V\n",
       "plYxbd5e4HYwI51TkTDpWcz7sM3AO5grUxEtcvWYz8QWnYAtK+mPUYWczU65FsuHMmzkhE+xXKNB\n",
       "7i4np8Z8CqLKTjrkC84Epd0vKFjCgMQ6u7bgarKOKaT6/VlhS7lVJMo7jwGe2AzE2iqiQ8wxfQT0\n",
       "jJF+DDJ6Bs5psIx0nbY7ZLtcCyRZ7NiPSmUZbNFymp6GeaA0iCCq7OgNNuDOUjWpSjrgBwRB1Npw\n",
       "PKVeDDpkiXV1zYuasqBXGx6RNinzxiWniw4TuRk4z464JNxhOAWhen3D3inZUD2smApkdAZaFXLi\n",
       "pkOukRPbyYMNz2wjNdoLK/obmoyUjNWwQayDVdkNag2HUBy2F0ILoN3EAwXBm6s44mJexZKqEuvq\n",
       "mpeZSv6Tzg4tJW2nhnKVRfS4z6a4FMQ0UxX8Mf5w6LFgbQQycjB82+mQefoTw0P8FyWZjJwFtgyC\n",
       "iPksJ4ELnFyeuPUlGL29vUe47xPTYa+K3emtMNcrmgD7iq6fnud2czfLDhYvX819nnplvK7qQV5b\n",
       "QWwSkd5Am8gPnWGZoffa1SAQehxyrckjj5STPpU2CD2OKFfLKikny7LeW3sybMNGTIEt2vVJ6T/Z\n",
       "o0wkLTuzhxjHxx0518V4icAjvPZxjxysVi01fR9bZbsP2cjRVtvkWrTTI0GgrFa0QSTDVvrVXIJl\n",
       "pSwxcLsNq3AQKdZ1hxyGQWqy13WIbRQ+g5u8n2WwQGA2FeZjvLZEGNdLiJEMmbxXpWFpwWd23J80\n",
       "BLtYbEnRb36+Qiq+CkrZJcvW6bjoGDdlwJQZ3e+KjfDaEvF/2NSLHbwFcCTtIGeRsOnt7hk3zElJ\n",
       "cugO+x4bojIF/i5hGQUyHfKLsKtabzat4mzY0c3AYMY1rRJ+f5GA7rvwW6X3MkfYLYUMF4zZIhOz\n",
       "gt39ZeqrOrm8POHl7H1a5B3Ql2y4j0W7C7OmuJzbdvXkZp9415Iu3ifx0M0/rEz3OzfKa280cOQ+\n",
       "lgagmFCZgb/qss7tPbrjx503bgYCbARee4Zoz/+vvUVHbIlU6+1hHqgbKTWeUgoN5T4FmQyew2sb\n",
       "KYdH8nV5W1hEog1Y2SEu15im9EhUZlD17xLh+AuUY6wtX0ntKoN/P7SLsJMorgdWSRvLdnpsdjtk\n",
       "4oqDV6xo/mpojEaQ2wWCynv/cwMBIViIbjvWo2g4sLac+tyTET+1ppBq3Ues2mKTqrIMZpX6x5C3\n",
       "lLPUjpoltcA3A7G2RJwrB24g3jcZrZbJX4pgaDIaXUXd8T8nVk5gthg59wAAAABJRU5ErkJggg==\n",
       "\" style=\"display:inline;vertical-align:middle;\" /></a><br>"
      ],
      "text/plain": [
       "merge_series: forall_{f, x, i, j | (j - i) in Naturals , x_{0} = f(i + 0) ,  ...  , x_{j - i} = f(i + j - i)} ((x_{0} ,  ...  , x_{j - i}) =  \\\\ (f(i) ,  ...  , f(j)))"
      ]
     },
     "execution_count": 27,
     "metadata": {},
     "output_type": "execute_result"
    }
   ],
   "source": [
    "merge_series = Forall((f, x, i, j), merge_series_equiv,\n",
    "                    conditions=[InSet(subtract(j, i), Naturals),\n",
    "                                merge_series_conditions])"
   ]
  },
  {
   "cell_type": "code",
   "execution_count": 28,
   "metadata": {},
   "outputs": [
    {
     "data": {
      "text/html": [
       "<strong id=\"tuple_eq_via_elem_eq\"><a class=\"ProveItLink\" href=\"_proofs_/tuple_eq_via_elem_eq.ipynb\">tuple_eq_via_elem_eq</a>:</strong> <a class=\"ProveItLink\" href=\"__pv_it/331371038ee66eb6b044e3dda0144b26fd6a49b70/expr.ipynb\"><img src=\"data:image/png;base64,iVBORw0KGgoAAAANSUhEUgAAAkoAAAAZBAMAAAA8iBzaAAAAMFBMVEX///+IiIgiIiIQEBB2dnbu\n",
       "7u5UVFTMzMzc3NwyMjK6urpmZmaYmJiqqqpEREQAAACk/Np2AAAAAXRSTlMAQObYZgAAAAlwSFlz\n",
       "AAAOxAAADsQBlSsOGwAABU9JREFUWMPlWV1oXEUUPpu9t3f37u7txsa8VGVZTYMEIRTRoFbWN61W\n",
       "rrUK0mp2Rd9EtgTEn4dsK/bFUlYhIATKVnzTh7UPFk3ErSBUs5VdQeNfMT6EQK2xBQM1GnDO/Nw7\n",
       "92fn3tZCtjhw7s7MOd/JnO/OnJm5AYgqzxZr8L8uieId0Ub1PhpwikvcUuvhIz6aemhfXyzdzCVu\n",
       "OdHDR3z0CcbSEv78rGTJwp9ca/NJypWYxF8snTAfz+xUo4Qe0dRDGz7B9jtKljIN8pPug+z0FJf4\n",
       "ZSbUx2wEalZCz1CWXsKluqRkySiTn2N9sODmucQvC6E+NiJQGxJ6gbKUtgG0jjovIZ97+oClcS7x\n",
       "S9IO8WGuqUGOHtEobciSfJOOyN7t/kjiZp3JFZR0K8SHVlCDHD2iUUj8O4vFOyNYShaLt5Y2n6VM\n",
       "iQm8+cAhtaVjoJVDfKQr2ztKaoUe0SiEpVMAyxEsZapg2ZvPkni15gT8oRyOa5ClU+9kEcsO4WNy\n",
       "Rr+sgjt6RGfZWjoCKUKX7t3CSh6WiMGR/zoPrgFLAx0mj7fgpNKQGWBIuUKIj19suKSCU71AoxCW\n",
       "LFsjO72WpwbG2G7YRkhrek+Vy7A7KgTjuLLPCsO8shTl1WORbDD5zIbbAA70zlDMAEMyLvrTOcF/\n",
       "DPqfKjjVCzQKYSmXF8n74Ivn4TvNztgBlroxkvdzyr5QlrZEJjuPhWDpftDXwRjsnYOpAVt74yEs\n",
       "zYK5oYKj3kGj0N3rNF8Up/AUnm9qEGApnc1HsnS3si+UpWQ1cieXLdIdKuRFZy+GLCancAN60i74\n",
       "8xLx8Q9k1hRwphdovuJgDzkOmcMAN6Fi8cdDGjw8NzbXkFnSfiDzS58fCp6/959+kK+uS8OBjCr1\n",
       "MZZ8LqYHnw+G6DHxWFh5KvoGWPXv6fD1YIg4UGqAIUHWv6bRxzomrt5wqnfQKMjS67jfTdo6dbio\n",
       "Pf1ecC6l7iKPvdXpAA/6qMGPYImRRDNwjXL7GEvCRWaVlAtwg709MExuEmYhNua34PNmiYY5SQan\n",
       "/wWs4raoAQmJuPGvAcS/AL+BCo56B42CLFlkVr/xDZj0ALYIzVuCLMEKkTmYIhcVL1GZpjHOTKx8\n",
       "tp5a9r84so/WJZZ8Ln6FL/0OmUlatnAaZoHJk0MvV6o0zIER0j2GW1dTPIo2NyAhkS7/7Ef8fjwO\n",
       "KeCod9AobXc42eOrq78TlvalQ1gCOhGHwXjXG9TWRqIs0mKm/OqIP1Vmyp655HNxD3zkd0hN3EIs\n",
       "pNYoFzflfBu880vvAOBwQD8aEy7Qh6XvS/pa1SixuWR2A+clZnIZLjwBA96gJmvWF3YXp/VWO9kB\n",
       "H0vY1827LDku+Hpag11+h9QkNyhZkAb4bp9umMFNUgM3pLC78UI8uIOel1jK1UvsBP4VeN6lPJcm\n",
       "jPUWBrUP9JJ4JGvTH8C5JqkN2F8DsuTqWN+5pjSXhAteRkhqJC0XQh5okvtJsnAbYNWYOGHqwa33\n",
       "MZBCCvnYIfARcIGmHpy5VKnBMcKeeXvVv2k7LL1/doiGONUxJmCqho+OOd99BBMb6fuwRFkydnFd\n",
       "jfVZVYkl4YKX14YAWy6E1KjJimyx4k60JSb0w+xDf+chG9yknOsthhRyr+L4KLhAUw/yF1390dXz\n",
       "kV90MUT3qshqe01RwxWX82pR6T0vedcYtlwIq+mFhjQsqXGUS9xyJqTv6BWhz1zNd29j26dSfuS1\n",
       "LTfy2sF7O1JGZH1E6WUJXXgdSkmU1yoykZVNv2hfzX8HssqaO+U989lS/YlWSK2fSgyW3r4m/49L\n",
       "wXVbEsX7/gWanbMG55HFIgAAAABJRU5ErkJggg==\n",
       "\" style=\"display:inline;vertical-align:middle;\" /></a><br>"
      ],
      "text/plain": [
       "tuple_eq_via_elem_eq: forall_{i in NaturalsPos} [forall_{a_{1},...,a_{i}, b_{1},...,b_{i} | a_{1} = b_{1} ,  ...  , a_{i} = b_{i}} ((a_{1} ,  ...  , a_{i}) = (b_{1} ,  ...  , b_{i}))]"
      ]
     },
     "execution_count": 28,
     "metadata": {},
     "output_type": "execute_result"
    }
   ],
   "source": [
    "tuple_eq_via_elem_eq = Forall(i, Forall((a_1_to_i, b_1_to_i),\n",
    "                                        Equals(ExprTuple(a_1_to_i), ExprTuple(b_1_to_i)),\n",
    "                                        conditions=[ExprRange(k, Equals(IndexedVar(a, k),\n",
    "                                                                        IndexedVar(b, k)),\n",
    "                                                              one, i)]),\n",
    "                              domain=NaturalsPos)"
   ]
  },
  {
   "cell_type": "code",
   "execution_count": 29,
   "metadata": {},
   "outputs": [
    {
     "name": "stdout",
     "output_type": "stream",
     "text": [
      "Modifying theorem single_elem_len in proveit.core_expr_types.tuples context\n",
      "Modifying theorem tuple_len in proveit.core_expr_types.tuples context\n",
      "Modifying theorem range_len in proveit.core_expr_types.tuples context\n",
      "Modifying theorem range_len_in_nats in proveit.core_expr_types.tuples context\n",
      "Modifying theorem range_len_val in proveit.core_expr_types.tuples context\n",
      "Modifying theorem simple_range_len in proveit.core_expr_types.tuples context\n",
      "Modifying theorem simple_range_len_val in proveit.core_expr_types.tuples context\n",
      "Modifying theorem simple_len_in_nats in proveit.core_expr_types.tuples context\n",
      "Modifying theorem extension_range_len in proveit.core_expr_types.tuples context\n",
      "Modifying theorem extension_range_len_val in proveit.core_expr_types.tuples context\n",
      "Modifying theorem simple_extension_range_len_val in proveit.core_expr_types.tuples context\n",
      "Modifying theorem concatElemLenVal in proveit.core_expr_types.tuples context\n",
      "Modifying theorem concatIterLenVal in proveit.core_expr_types.tuples context\n",
      "Modifying theorem concatSimpleIterLenVal in proveit.core_expr_types.tuples context\n",
      "Modifying theorem singular_range_reduction in proveit.core_expr_types.tuples context\n",
      "Modifying theorem partition in proveit.core_expr_types.tuples context\n",
      "Modifying theorem merge in proveit.core_expr_types.tuples context\n",
      "Modifying theorem partition_front in proveit.core_expr_types.tuples context\n",
      "Modifying theorem merge_front in proveit.core_expr_types.tuples context\n",
      "Modifying theorem partition_back in proveit.core_expr_types.tuples context\n",
      "Modifying theorem merge_back in proveit.core_expr_types.tuples context\n",
      "Modifying theorem merge_extension in proveit.core_expr_types.tuples context\n",
      "Modifying theorem merge_pair in proveit.core_expr_types.tuples context\n",
      "Modifying theorem merge_series in proveit.core_expr_types.tuples context\n",
      "Modifying theorem tuple_eq_via_elem_eq in proveit.core_expr_types.tuples context\n",
      "single_elem_len expression notebook is being updated\n",
      "tuple_len expression notebook is being updated\n",
      "range_len expression notebook is being updated\n",
      "range_len_in_nats expression notebook is being updated\n",
      "range_len_val expression notebook is being updated\n",
      "simple_range_len expression notebook is being updated\n",
      "simple_range_len_val expression notebook is being updated\n",
      "simple_len_in_nats expression notebook is being updated\n",
      "extension_range_len expression notebook is being updated\n",
      "extension_range_len_val expression notebook is being updated\n",
      "simple_extension_range_len_val expression notebook is being updated\n",
      "concatElemLenVal expression notebook is being updated\n",
      "concatIterLenVal expression notebook is being updated\n",
      "concatSimpleIterLenVal expression notebook is being updated\n",
      "singular_range_reduction expression notebook is being updated\n",
      "partition expression notebook is being updated\n",
      "merge expression notebook is being updated\n",
      "partition_front expression notebook is being updated\n",
      "merge_front expression notebook is being updated\n",
      "partition_back expression notebook is being updated\n",
      "merge_back expression notebook is being updated\n",
      "merge_extension expression notebook is being updated\n",
      "merge_pair expression notebook is being updated\n",
      "merge_series expression notebook is being updated\n",
      "tuple_eq_via_elem_eq expression notebook is being updated\n",
      "Theorems may be imported from autogenerated _theorems_.py\n"
     ]
    }
   ],
   "source": [
    "%end theorems"
   ]
  },
  {
   "cell_type": "code",
   "execution_count": null,
   "metadata": {},
   "outputs": [],
   "source": []
  }
 ],
 "metadata": {
  "kernelspec": {
   "display_name": "Python 3",
   "language": "python",
   "name": "python3"
  },
  "language_info": {
   "codemirror_mode": {
    "name": "ipython",
    "version": 3
   },
   "file_extension": ".py",
   "mimetype": "text/x-python",
   "name": "python",
   "nbconvert_exporter": "python",
   "pygments_lexer": "ipython3",
   "version": "3.7.4"
  }
 },
 "nbformat": 4,
 "nbformat_minor": 1
}
