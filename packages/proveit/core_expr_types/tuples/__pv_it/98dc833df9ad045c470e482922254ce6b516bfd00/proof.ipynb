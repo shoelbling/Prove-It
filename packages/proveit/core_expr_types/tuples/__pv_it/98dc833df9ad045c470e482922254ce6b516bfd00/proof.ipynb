{
 "cells": [
  {
   "cell_type": "markdown",
   "metadata": {},
   "source": [
    "Show the Proof\n",
    "========"
   ]
  },
  {
   "cell_type": "code",
   "execution_count": 1,
   "metadata": {},
   "outputs": [
    {
     "data": {
      "text/html": [
       "<table><tr><th>&nbsp;</th><th>step type</th><th>requirements</th><th>statement</th></tr>\n",
       "<tr><td><a name=\"proveit.core_expr_types.tuples.98dc833df9ad045c470e482922254ce6b516bfd00_step0\">0</a></td><td>instantiation</td><td><a href=\"#proveit.core_expr_types.tuples.98dc833df9ad045c470e482922254ce6b516bfd00_step1\">1</a>, <a href=\"#proveit.core_expr_types.tuples.98dc833df9ad045c470e482922254ce6b516bfd00_step2\">2</a>, <a href=\"#proveit.core_expr_types.tuples.98dc833df9ad045c470e482922254ce6b516bfd00_step3\">3</a></td><td><span style=\"font-size:20px;\"><a class=\"ProveItLink\" href=\"../aeb53a7d21682a8c749d7f9cd797b13eca9dca730/expr.ipynb\"><img src=\"data:image/png;base64,iVBORw0KGgoAAAANSUhEUgAAAFUAAAAVBAMAAADFg78FAAAAMFBMVEX///8QEBBERERUVFTMzMyY\n",
       "mJjc3NxmZmYiIiJ2dnaqqqoyMjKIiIi6urru7u4AAAAvZeGPAAAAAXRSTlMAQObYZgAAAAlwSFlz\n",
       "AAAOxAAADsQBlSsOGwAAARtJREFUKM9jYGDgu8tAELAtg9Cn1xFWy+CsByK5/uFWwafYAGMqgwjO\n",
       "BjzGcRfAWDMIquVfQLza+w+IVzuDAVMtW+WxA9jUbj5ThayWfQOQuJjABA8O9g4wMACFw+8H7xMg\n",
       "ogdBRH4AUEyUgb2BgS8a3VhgePIfgAjnA33p3Asy6h8DxwQGnxPoaoF2vp8AEWbTXsDAVw30KqMC\n",
       "w/sLDAwrsATv/QUQYc69QIIJ6LD3ExjiGWBqkdzLH8BQ/wAivD4BGg7vFzBocyVgmst/AegTiPBE\n",
       "WJhxH2Bt58TiBuYApgKoMDx8+WymJB/BopavpooBXS0UrMAeeeSp5RGAiWXur8GmFCJcDXaTFBHZ\n",
       "AhSzIJBuRVgpy2RgFAMAVYBU9gY3dkEAAAAASUVORK5CYII=\n",
       "\" style=\"display:inline;vertical-align:middle;\" /></a> <a class=\"ProveItLink\" href=\"proof.ipynb\" style=\"text-decoration: none\">&#x22A2;&nbsp;</a><a class=\"ProveItLink\" href=\"../199f3e1afb064cadc2d1a898a8163a42a39eb9440/expr.ipynb\"><img src=\"data:image/png;base64,iVBORw0KGgoAAAANSUhEUgAAALEAAAAVBAMAAAD7ihIOAAAAMFBMVEX////MzMxUVFREREQiIiK6\n",
       "uroQEBCYmJhmZmYyMjLu7u52dnaqqqqIiIjc3NwAAACFAiZ1AAAAAXRSTlMAQObYZgAAAAlwSFlz\n",
       "AAAOxAAADsQBlSsOGwAAAj9JREFUOMuNVT1oVEEQ/sLd8/3ceQQtAxoLsQqcnQTUp1ipiIUELISA\n",
       "2ljIgRZJoVwREBHxdUo44dAQk8qQzkK4wk7Q6xQ08EBBGyFNUOIp7uzs7l3m7eV88O0s3zczNze7\n",
       "bx6AHAo1eB7NFhWvr4ikZW+HEHSLMrNF5fPozFdoecvwuBtWKtW1oQmfX3NFAUnGiNvSzbJWqXTY\n",
       "ru5S6xO7WQSiBiNsSi/LWmUpY3tvl8w9u5kD9oCBG9LLsUb5cJjt7PDEwbYLbuOyMgQ8lm6ONUq6\n",
       "n6Oz4Zkrqd3FDTxQhoB16ebYdXNwsb5LER3g99c/fJnjqY/mMCqT/aLmddgZ/UxikJ3nqLzaNNUg\n",
       "uImT7sQXdMhp2r5cTP4yGWY4rwwBb2QBjmVlH3CWbFlVtdzAAvCi0Jf3bfxhupriujIEHJRujmXl\n",
       "ELChz+Yi8KiNcxjbSGXIfSS/mR7b7Gee8WaesQrd7iWb+SqSLV1X4ToHPaaDWbSUabluDPa5taMb\n",
       "9J5EdDxxRxWGcNNlHujzT0TbTKvluDIE3JIFOFYrZRpF1MFSF0kPpeydp+YtOgFNh/X+tXoo3Ryr\n",
       "lTu0HOX7hKe43VzzZD6CY+avRF1cUoaAC9LNsVqZpmWCOqgCn306MDXuybxC11nT5RzlcWjUCm6W\n",
       "lcopN/RS74uo6a/9mUPzZ+djWanM/U9mGlsnGF+KLoaVSik3n5ZXvzyfC6ZrdZrWjGnPHGdWKkl9\n",
       "9DelRO9+rUEIc8+va7aofBud+S7wD7jhnUjizlKbAAAAAElFTkSuQmCC\n",
       "\" style=\"display:inline;vertical-align:middle;\" /></a></span></td></tr>\n",
       "<tr><td>&nbsp;</td><td colspan=4 style=\"text-align:left\"><span style=\"font-size:20px;\"><a class=\"ProveItLink\" href=\"../../../../__pv_it/d3792d0d8642fdf1cd2a3a9b32c673ee13653de00/expr.ipynb\"><img src=\"data:image/png;base64,iVBORw0KGgoAAAANSUhEUgAAAA8AAAAPBAMAAADJ+Ih5AAAAMFBMVEX///8QEBAiIiLu7u5ERES6\n",
       "urqYmJiIiIjMzMx2dnZUVFRmZmaqqqoyMjLc3NwAAABb1yYoAAAAAXRSTlMAQObYZgAAAAlwSFlz\n",
       "AAAOxAAADsQBlSsOGwAAAF9JREFUCNdjYACBtwxQcB9K8/yHMrjXP4Aw5s1vANN8BfUHIDIM5xPA\n",
       "jBiG/glgxgaG9wtANLv37vUOIIY5AwO/AkSGgUkASLMCdfB+ADIeAjHLPwYGk/+XGXj8/04AADnq\n",
       "Fzds8Dk2AAAAAElFTkSuQmCC\n",
       "\" style=\"display:inline;vertical-align:middle;\" /></a> : <a class=\"ProveItLink\" href=\"../15ecdb6055860c8602f669812e4fca8f86908e400/expr.ipynb\"><img src=\"data:image/png;base64,iVBORw0KGgoAAAANSUhEUgAAADgAAAAVBAMAAADhmjDFAAAAMFBMVEX////MzMxUVFREREQiIiK6\n",
       "uroQEBCYmJhmZmYyMjLu7u52dnaqqqqIiIjc3NwAAACFAiZ1AAAAAXRSTlMAQObYZgAAAAlwSFlz\n",
       "AAAOxAAADsQBlSsOGwAAALhJREFUKM9jYGB4wMeABUBEeQ+wXsCUg4qeZmC4gykJEeWawMDAuQBd\n",
       "DirKUcDAwN6ALgkVZQOxs9AloaKRIGo6uiRUtBtEbUKXhIqCNVWC7XEBAwW4UZUMPiDqCLpOqGgq\n",
       "iJJHl4SKgqkwrJJhDHPgxiLbCRW1BVHF6DqhomBf9KJLQkVDQJQfuiRUlEWAgYHPAV0SKgoKdFAw\n",
       "owKYqB0Dw2PM+ISKLmZgsMKUhIryFbA/wJQEiwIAAZot1Uhm2OgAAAAASUVORK5CYII=\n",
       "\" style=\"display:inline;vertical-align:middle;\" /></a>, <a class=\"ProveItLink\" href=\"../../../../__pv_it/4d98b438710c5ada9ffa4646bb123a7d0e69ec000/expr.ipynb\"><img src=\"data:image/png;base64,iVBORw0KGgoAAAANSUhEUgAAABAAAAAOBAMAAADUAYG5AAAAMFBMVEX///92dnaqqqoiIiLu7u5m\n",
       "Zma6urqIiIjc3NwQEBDMzMwyMjJUVFRERESYmJgAAAAeMT9/AAAAAXRSTlMAQObYZgAAAAlwSFlz\n",
       "AAAOxAAADsQBlSsOGwAAAHJJREFUCNdjYGB4+//Omb0LGIBgLgMDzy8gzfGdgYHtK5DBB+TxATkM\n",
       "PB8YGLhnABmcFxhYDoMUr79efvoBSFN9AwPTPBDjJhDLg6T+APH7AgYGrn9AxvkEBgb2H0DObyCH\n",
       "ewIDQ+YWoHH7/5w5fYmBAQBdUiHY6HsJaQAAAABJRU5ErkJggg==\n",
       "\" style=\"display:inline;vertical-align:middle;\" /></a> : <a class=\"ProveItLink\" href=\"../42f265cb18e2981b17c13304c9403860c66794040/expr.ipynb\"><img src=\"data:image/png;base64,iVBORw0KGgoAAAANSUhEUgAAAEAAAAARBAMAAACflbe/AAAAMFBMVEX////MzMxUVFQyMjKqqqoi\n",
       "IiKYmJju7u5EREQQEBC6urqIiIh2dnZmZmbc3NwAAAD0tjQRAAAAAXRSTlMAQObYZgAAAAlwSFlz\n",
       "AAAOxAAADsQBlSsOGwAAALhJREFUKM9jYMAB2DsDGPAD5gsEFPA7EFCwvoCAgqMwBt+dfRuwKTDa\n",
       "fQXCWPmA4ztMkDcUDBRAvvhcUP8A7J1pDLwBDOzJ6AawfGfg3wAS5v3OwHqAQXorugJeA4b6AyBh\n",
       "zgaG+gUMDK5YgmG9A0i4/gBDPgNMAZIb+BMY7heAFTgwNLM8wDSBfwHQdSBh5g1ssTxYrGBK4LgA\n",
       "FmbXPvhoIxYF7LevMCALu2IPTuIVvLG/jU0eKAwAQUgyxtN9cbAAAAAASUVORK5CYII=\n",
       "\" style=\"display:inline;vertical-align:middle;\" /></a></span></td></tr><tr><td><a name=\"proveit.core_expr_types.tuples.98dc833df9ad045c470e482922254ce6b516bfd00_step1\">1</a></td><td>theorem</td><td></td><td><span style=\"font-size:20px;\"> <a class=\"ProveItLink\" href=\"../../../../logic/boolean/conjunction/_proofs_/andIfBoth.ipynb\" style=\"text-decoration: none\">&#x22A2;&nbsp;</a><a class=\"ProveItLink\" href=\"../1df665ec3aa9c68929d5c6622d079a3560594c3a0/expr.ipynb\"><img src=\"data:image/png;base64,iVBORw0KGgoAAAANSUhEUgAAAK0AAAAXBAMAAACL0NJjAAAAMFBMVEX///+IiIgiIiIQEBB2dnbu\n",
       "7u5UVFTMzMzc3NwyMjK6urpmZmaYmJiqqqpEREQAAACk/Np2AAAAAXRSTlMAQObYZgAAAAlwSFlz\n",
       "AAAOxAAADsQBlSsOGwAAArhJREFUOMutlUtoE1EUhv9JMnnMZOKIK0Fp6EZEF1FEXVjJIohQSscq\n",
       "gggSXFRKFwkU3DZYEAQh2US60URcdOOjYFF81diFCBU7C10pGBF1IaUVbNNYSzz3MWE6tdFUByb3\n",
       "ce757rn/PXMCbOgJt7TmsNFnu2gu/d56nd4q67xrE2skRVvyzL9qfO6/loViAw/ZeLRN7imJb8hx\n",
       "j2M4DARrQBE4z9Sqtsl9LBo9I5RUdzqyfwO0ZWAaiFhAwG6TmxDN0d4sb5XnZTERpVijxPZbiFaI\n",
       "3SZWK4jozA4RkC8kDxycJ9hBegm6t7NzX5tcXVybjvcV3nntXJC/CvUsnSGQBu4Dn/ik5fEel626\n",
       "hhsRuFsYFhuM4q0wDH/YPMBsUTrQRYTT3P0AN91eTk0K1ZzLPM6H2txE9xc547PlxnnuGUrDJ4Lq\n",
       "yME4xBIlDsSsAFc9sCKkj0NJrOL2CsoUsEXO+LmD8vVRhq8JUsaa3PCRLacwQqSzYYprG9sjpB9H\n",
       "dN7N1YaEzyAws4p7DNgUl9ms8g4W6Z2h5RqLrPCMz5lXhI+Nvoqbq0T4YdEFdbejry319yWcr+IJ\n",
       "F+Qn/WTKQgf0FLk7HnCf/Lbpc3BzTb0gUv7lvazkxtgJNJag/GRxp1IoS8SuMzGZ7wiPZ0yqNwV1\n",
       "0M3VskJu0v2kkyEsjTDCNlhiFrZLjO0ZoZU3WJR6cwoTqYwlZcyXXVw9dWRB6h7+4XwXFOGZRhHG\n",
       "XD3JLp5JQJ1gabF/YJYnTLNSKoTLChlxx51nJsI1qbtWc1bv+MOHc6HZu0mXa6tJhBeg7nLpwFRc\n",
       "wQna1UKfowOrK39Tl+i0+6E+vRrqwtbvqUnbxb2bxum6PWQrpVT3bNMv1vofYU19NNwDt9FT8NTW\n",
       "hTXmLQlv1uEa3oWXW3JfeCcq63Cj+I9P7l+cfwHI9aougK8NwAAAAABJRU5ErkJggg==\n",
       "\" style=\"display:inline;vertical-align:middle;\" /></a></span></td></tr>\n",
       "<tr><td>&nbsp;</td><td colspan=4 style-\"text-align:left\"><a class=\"ProveItLink\" href=\"../../../../logic/boolean/conjunction/_proofs_/andIfBoth.ipynb\">proveit.logic.boolean.conjunction.andIfBoth</a></td></tr><tr><td><a name=\"proveit.core_expr_types.tuples.98dc833df9ad045c470e482922254ce6b516bfd00_step2\">2</a></td><td>instantiation</td><td><a href=\"#proveit.core_expr_types.tuples.98dc833df9ad045c470e482922254ce6b516bfd00_step4\">4</a></td><td><span style=\"font-size:20px;\"> <a class=\"ProveItLink\" href=\"../080bc516bccd0d30d6cb098a05c5ee614a7fa2ce0/proof.ipynb\" style=\"text-decoration: none\">&#x22A2;&nbsp;</a><a class=\"ProveItLink\" href=\"../15ecdb6055860c8602f669812e4fca8f86908e400/expr.ipynb\"><img src=\"data:image/png;base64,iVBORw0KGgoAAAANSUhEUgAAADgAAAAVBAMAAADhmjDFAAAAMFBMVEX////MzMxUVFREREQiIiK6\n",
       "uroQEBCYmJhmZmYyMjLu7u52dnaqqqqIiIjc3NwAAACFAiZ1AAAAAXRSTlMAQObYZgAAAAlwSFlz\n",
       "AAAOxAAADsQBlSsOGwAAALhJREFUKM9jYGB4wMeABUBEeQ+wXsCUg4qeZmC4gykJEeWawMDAuQBd\n",
       "DirKUcDAwN6ALgkVZQOxs9AloaKRIGo6uiRUtBtEbUKXhIqCNVWC7XEBAwW4UZUMPiDqCLpOqGgq\n",
       "iJJHl4SKgqkwrJJhDHPgxiLbCRW1BVHF6DqhomBf9KJLQkVDQJQfuiRUlEWAgYHPAV0SKgoKdFAw\n",
       "owKYqB0Dw2PM+ISKLmZgsMKUhIryFbA/wJQEiwIAAZot1Uhm2OgAAAAASUVORK5CYII=\n",
       "\" style=\"display:inline;vertical-align:middle;\" /></a></span></td></tr>\n",
       "<tr><td>&nbsp;</td><td colspan=4 style=\"text-align:left\"><span style=\"font-size:20px;\"><a class=\"ProveItLink\" href=\"../../../__pv_it/72df168d2bfb4e0140af90912ebf83b13772060b0/expr.ipynb\"><img src=\"data:image/png;base64,iVBORw0KGgoAAAANSUhEUgAAAAsAAAAJBAMAAAAWSsseAAAAMFBMVEX///8QEBC6uroyMjJERETc\n",
       "3NyYmJgiIiJmZmaqqqp2dnbMzMxUVFSIiIju7u4AAAAoIwv1AAAAAXRSTlMAQObYZgAAAAlwSFlz\n",
       "AAAOxAAADsQBlSsOGwAAAENJREFUCNdjYHh75/WqCQwMDbxnOQoY2AJ4v/IkMHAzsBgwgAD/BTCl\n",
       "H8D3gOGJwnkGLgaG+fsaGTQZGF7c5WybwAAAJGsQ2L2rVEcAAAAASUVORK5CYII=\n",
       "\" style=\"display:inline;vertical-align:middle;\" /></a> : <a class=\"ProveItLink\" href=\"../932ad914fbc084fb83cd7cce8742c2c1338987a00/expr.ipynb\"><img src=\"data:image/png;base64,iVBORw0KGgoAAAANSUhEUgAAAAwAAAAVBAMAAACAghKHAAAAMFBMVEX////MzMxUVFREREQiIiK6\n",
       "uroQEBCYmJhmZmYyMjLu7u52dnaqqqqIiIjc3NwAAACFAiZ1AAAAAXRSTlMAQObYZgAAAAlwSFlz\n",
       "AAAOxAAADsQBlSsOGwAAAHRJREFUCNdjYGB4wMcABLwHWC8AqdMMDHcYGLgmMDBwLmDgKGBgYG9g\n",
       "YAPJZzFEgqjpDN0gahOQAQSVDD4g6ghDKoiSh1BhDHMggrYgqhioFgh6GUJAlB8DiwADA58DyFiw\n",
       "8XYMDI+B4osZGKyAFF8B+wMGAFwSFSv4L9l8AAAAAElFTkSuQmCC\n",
       "\" style=\"display:inline;vertical-align:middle;\" /></a></span></td></tr><tr><td><a name=\"proveit.core_expr_types.tuples.98dc833df9ad045c470e482922254ce6b516bfd00_step3\">3</a></td><td>assumption</td><td></td><td><span style=\"font-size:20px;\"><a class=\"ProveItLink\" href=\"../aeb53a7d21682a8c749d7f9cd797b13eca9dca730/expr.ipynb\"><img src=\"data:image/png;base64,iVBORw0KGgoAAAANSUhEUgAAAFUAAAAVBAMAAADFg78FAAAAMFBMVEX///8QEBBERERUVFTMzMyY\n",
       "mJjc3NxmZmYiIiJ2dnaqqqoyMjKIiIi6urru7u4AAAAvZeGPAAAAAXRSTlMAQObYZgAAAAlwSFlz\n",
       "AAAOxAAADsQBlSsOGwAAARtJREFUKM9jYGDgu8tAELAtg9Cn1xFWy+CsByK5/uFWwafYAGMqgwjO\n",
       "BjzGcRfAWDMIquVfQLza+w+IVzuDAVMtW+WxA9jUbj5ThayWfQOQuJjABA8O9g4wMACFw+8H7xMg\n",
       "ogdBRH4AUEyUgb2BgS8a3VhgePIfgAjnA33p3Asy6h8DxwQGnxPoaoF2vp8AEWbTXsDAVw30KqMC\n",
       "w/sLDAwrsATv/QUQYc69QIIJ6LD3ExjiGWBqkdzLH8BQ/wAivD4BGg7vFzBocyVgmst/AegTiPBE\n",
       "WJhxH2Bt58TiBuYApgKoMDx8+WymJB/BopavpooBXS0UrMAeeeSp5RGAiWXur8GmFCJcDXaTFBHZ\n",
       "AhSzIJBuRVgpy2RgFAMAVYBU9gY3dkEAAAAASUVORK5CYII=\n",
       "\" style=\"display:inline;vertical-align:middle;\" /></a> <a class=\"ProveItLink\" href=\"../384e5f0c40a37a075844d794ad376626f1cbfe650/proof.ipynb\" style=\"text-decoration: none\">&#x22A2;&nbsp;</a><a class=\"ProveItLink\" href=\"../42f265cb18e2981b17c13304c9403860c66794040/expr.ipynb\"><img src=\"data:image/png;base64,iVBORw0KGgoAAAANSUhEUgAAAEAAAAARBAMAAACflbe/AAAAMFBMVEX////MzMxUVFQyMjKqqqoi\n",
       "IiKYmJju7u5EREQQEBC6urqIiIh2dnZmZmbc3NwAAAD0tjQRAAAAAXRSTlMAQObYZgAAAAlwSFlz\n",
       "AAAOxAAADsQBlSsOGwAAALhJREFUKM9jYMAB2DsDGPAD5gsEFPA7EFCwvoCAgqMwBt+dfRuwKTDa\n",
       "fQXCWPmA4ztMkDcUDBRAvvhcUP8A7J1pDLwBDOzJ6AawfGfg3wAS5v3OwHqAQXorugJeA4b6AyBh\n",
       "zgaG+gUMDK5YgmG9A0i4/gBDPgNMAZIb+BMY7heAFTgwNLM8wDSBfwHQdSBh5g1ssTxYrGBK4LgA\n",
       "FmbXPvhoIxYF7LevMCALu2IPTuIVvLG/jU0eKAwAQUgyxtN9cbAAAAAASUVORK5CYII=\n",
       "\" style=\"display:inline;vertical-align:middle;\" /></a></span></td></tr>\n",
       "<tr><td><a name=\"proveit.core_expr_types.tuples.98dc833df9ad045c470e482922254ce6b516bfd00_step4\">4</a></td><td>axiom</td><td></td><td><span style=\"font-size:20px;\"> <a class=\"ProveItLink\" href=\"../../../../logic/equality/_axioms_.ipynb#equalsReflexivity\" style=\"text-decoration: none\">&#x22A2;&nbsp;</a><a class=\"ProveItLink\" href=\"../541de60749028f41cedef688f370b709eec61fc70/expr.ipynb\"><img src=\"data:image/png;base64,iVBORw0KGgoAAAANSUhEUgAAAGIAAAAVBAMAAABPrCZEAAAAMFBMVEX///+IiIgiIiIQEBB2dnbu\n",
       "7u5UVFTMzMzc3NwyMjK6urpmZmaYmJiqqqpEREQAAACk/Np2AAAAAXRSTlMAQObYZgAAAAlwSFlz\n",
       "AAAOxAAADsQBlSsOGwAAAU9JREFUOMtjYMAEDQw4AQdWUcYLuHVwCTAwPAAx7iCLXmHAA2QZGHaB\n",
       "6BlIYqwT8OngDGAoA7nuAZIY9wF8Ong2gDQxsCC7nJkBLzBl4AEayYkstBK/jjkMDEZKSibIQluA\n",
       "OFAs3AU9xKBibgwM2xkYnqIZwrCBMZFbAeQnJTBIYECInWRgaGPgSEDWoQv0XgPjDza0AICJXWJg\n",
       "4AtgWYAsZcXAwM7AhxHEMLF6BgZeARSPg3QwMPALYPoZIrYYiCccBBKCO7yhyWkuiFjfwBqA5g+o\n",
       "GNBVDL5TgWmpIY8TGjgPGRjiFuQzsKDZABM7B8TNQCN4GB6yQ6WAwXe/dDPDWjQdMLGNQMxXABL5\n",
       "DpNaxMAQLci7Bz06YGIa8KD4AEv6TAX4opxDAcpoZpnAgkhreAA8nYadcnSFCb7Ap6MPm2AcPh1P\n",
       "sToVTwbhaWAAADs5S8OycnLnAAAAAElFTkSuQmCC\n",
       "\" style=\"display:inline;vertical-align:middle;\" /></a></span></td></tr>\n",
       "<tr><td>&nbsp;</td><td colspan=4 style-\"text-align:left\"><a class=\"ProveItLink\" href=\"../../../../logic/equality/_axioms_.ipynb#equalsReflexivity\">proveit.logic.equality.equalsReflexivity</a></td></tr></table>"
      ],
      "text/plain": [
       "<proveit._core_.proof._ShowProof at 0x2323ff21e08>"
      ]
     },
     "execution_count": 1,
     "metadata": {},
     "output_type": "execute_result"
    }
   ],
   "source": [
    "import proveit\n",
    "# Automation is not needed when only showing a stored proof:\n",
    "proveit.defaults.automation = False # This will speed things up.\n",
    "%show_proof"
   ]
  },
  {
   "cell_type": "code",
   "execution_count": null,
   "metadata": {},
   "outputs": [],
   "source": []
  }
 ],
 "metadata": {
  "kernelspec": {
   "display_name": "Python 3",
   "language": "python",
   "name": "python3"
  },
  "language_info": {
   "codemirror_mode": {
    "name": "ipython",
    "version": 3
   },
   "file_extension": ".py",
   "mimetype": "text/x-python",
   "name": "python",
   "nbconvert_exporter": "python",
   "pygments_lexer": "ipython3",
   "version": "3.7.4"
  }
 },
 "nbformat": 4,
 "nbformat_minor": 1
}
