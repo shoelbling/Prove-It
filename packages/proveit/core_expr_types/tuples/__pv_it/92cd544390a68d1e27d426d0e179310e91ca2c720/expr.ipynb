{
 "cells": [
  {
   "cell_type": "markdown",
   "metadata": {},
   "source": [
    "Expression of type <a class=\"ProveItLink\" href=\"../../../../../../doc/html/api/proveit.logic.Equals.html\">Equals</a>\n",
    "=======================\n",
    "# from context <a class=\"ProveItLink\" href=\"../../_context_.ipynb\">proveit.core_expr_types.tuples</a>"
   ]
  },
  {
   "cell_type": "code",
   "execution_count": 1,
   "metadata": {},
   "outputs": [],
   "source": [
    "import proveit\n",
    "# Automation is not needed when building an expression:\n",
    "proveit.defaults.automation = False # This will speed things up.\n",
    "# import Expression classes needed to build the expression\n",
    "from proveit import ExprRange, Function, Variable\n",
    "from proveit.logic import Equals"
   ]
  },
  {
   "cell_type": "code",
   "execution_count": 2,
   "metadata": {},
   "outputs": [
    {
     "data": {
      "text/html": [
       "<strong id=\"expr\">expr:</strong> <a class=\"ProveItLink\" href=\"expr.ipynb\"><img src=\"data:image/png;base64,iVBORw0KGgoAAAANSUhEUgAAALsAAAAVBAMAAADsqILHAAAAMFBMVEX////MzMxUVFREREQiIiK6\n",
       "uroQEBCYmJhmZmYyMjLu7u52dnaqqqqIiIjc3NwAAACFAiZ1AAAAAXRSTlMAQObYZgAAAAlwSFlz\n",
       "AAAOxAAADsQBlSsOGwAAAmVJREFUOMuNVT1MFFEQHrj9Yw8PK1qorC+WJhBACiMUJNJQkFxjp8mV\n",
       "14gUJFeYmIuNibHYhOoKAiF0NhdLLbzE5gqKLUiuIRELC42FM9+83X34jgevmJ355vtm376fWSLK\n",
       "qRp5aW4fjUqST0wDvTeoIPV371b+XB+7NyjOFf2KIPmUGX907YWThnJnT9hMPQJ7goLTgqY9RKfz\n",
       "hb9B9MFfHlzq43N7ynYVfUWTNqIXz7LSp46/PLjULcLOREVX0QhB+EdsZFJR5quuXGqRxXYVLc3s\n",
       "IKiviN0xqZm2r7xywx5ZbEeBNKNvJIgfrO3zg/10NOQCi57qhpvIzh59J2U7CqQZfY9obiiW/XrI\n",
       "XxX3fLNXLua7H7WVrYqDdRlrZZrRTUh+3BfL/mXCxNkVX3nlBnx64nxuoGxHIWlBnyP6Bst+JnOb\n",
       "uvKVV260BT9TtqNAmlEtf1aUhyBs+cqfWeUPSNmOAmlGPyJ6CCv+O7ptcZQ7g4u6Qfbi2GtvFmcJ\n",
       "5Jew7Kd/67ymTQ5St3BmcWuywY1fpGwo7IE0o6fobj/1tvP3XI35VEnumPc4/U3GlFHBxVGMZcmF\n",
       "DcW1y7GomW30H90Z8Zf4RAXSSoOnbJ6QMYGc9fWs4oayHNMyaWEH/7dkpBkN5Jgleivg87iA/eJ2\n",
       "wazi0qps4NCwLxzuqqIxT+uz7hN8KrvVidsOqOJyv5oevC56W9fhdgy6TPS4b7Bl/c9gn9KhIzki\n",
       "i1vLFwabht1oOtxarugh0au3BjvUDE5I7J4cueglN20moy3DrrktNm0q2rCanfp7d/sZjvWxd4Ni\n",
       "LOg/NVukjIqPlm0AAAAASUVORK5CYII=\n",
       "\" style=\"display:inline;vertical-align:middle;\" /></a><br>"
      ],
      "text/plain": [
       "expr: (f(i) ,  ...  , f(j)) = ()"
      ]
     },
     "execution_count": 2,
     "metadata": {},
     "output_type": "execute_result"
    }
   ],
   "source": [
    "# build up the expression from sub-expressions\n",
    "subExpr1 = Variable(\"a\")\n",
    "expr = Equals([ExprRange(subExpr1, Function(Variable(\"f\"), subExpr1), Variable(\"i\"), Variable(\"j\"))], [])"
   ]
  },
  {
   "cell_type": "code",
   "execution_count": 3,
   "metadata": {},
   "outputs": [
    {
     "name": "stdout",
     "output_type": "stream",
     "text": [
      "Passed sanity check: built 'expr' is the same as the stored Expression.\n"
     ]
    }
   ],
   "source": [
    "# check that the built expression is the same as the stored expression\n",
    "%check_expr"
   ]
  },
  {
   "cell_type": "code",
   "execution_count": 4,
   "metadata": {},
   "outputs": [
    {
     "name": "stdout",
     "output_type": "stream",
     "text": [
      "\\left(f\\left(i\\right) , \\ldots , f\\left(j\\right)\\right) = ()\n"
     ]
    }
   ],
   "source": [
    "# Show the LaTeX representation of the expression for convenience if you need it.\n",
    "print(expr.latex())"
   ]
  },
  {
   "cell_type": "code",
   "execution_count": 5,
   "metadata": {},
   "outputs": [
    {
     "data": {
      "text/html": [
       "<table><tr><th>&nbsp;</th><th>core type</th><th>sub-expressions</th><th>expression</th></tr>\n",
       "<tr><td>0</td><td>Operation</td><td>operator:&nbsp;1<br>operands:&nbsp;2<br></td><td><a class=\"ProveItLink\" href=\"expr.ipynb\"><img src=\"data:image/png;base64,iVBORw0KGgoAAAANSUhEUgAAALsAAAAVBAMAAADsqILHAAAAMFBMVEX////MzMxUVFREREQiIiK6\n",
       "uroQEBCYmJhmZmYyMjLu7u52dnaqqqqIiIjc3NwAAACFAiZ1AAAAAXRSTlMAQObYZgAAAAlwSFlz\n",
       "AAAOxAAADsQBlSsOGwAAAmVJREFUOMuNVT1MFFEQHrj9Yw8PK1qorC+WJhBACiMUJNJQkFxjp8mV\n",
       "14gUJFeYmIuNibHYhOoKAiF0NhdLLbzE5gqKLUiuIRELC42FM9+83X34jgevmJ355vtm376fWSLK\n",
       "qRp5aW4fjUqST0wDvTeoIPV371b+XB+7NyjOFf2KIPmUGX907YWThnJnT9hMPQJ7goLTgqY9RKfz\n",
       "hb9B9MFfHlzq43N7ynYVfUWTNqIXz7LSp46/PLjULcLOREVX0QhB+EdsZFJR5quuXGqRxXYVLc3s\n",
       "IKiviN0xqZm2r7xywx5ZbEeBNKNvJIgfrO3zg/10NOQCi57qhpvIzh59J2U7CqQZfY9obiiW/XrI\n",
       "XxX3fLNXLua7H7WVrYqDdRlrZZrRTUh+3BfL/mXCxNkVX3nlBnx64nxuoGxHIWlBnyP6Bst+JnOb\n",
       "uvKVV260BT9TtqNAmlEtf1aUhyBs+cqfWeUPSNmOAmlGPyJ6CCv+O7ptcZQ7g4u6Qfbi2GtvFmcJ\n",
       "5Jew7Kd/67ymTQ5St3BmcWuywY1fpGwo7IE0o6fobj/1tvP3XI35VEnumPc4/U3GlFHBxVGMZcmF\n",
       "DcW1y7GomW30H90Z8Zf4RAXSSoOnbJ6QMYGc9fWs4oayHNMyaWEH/7dkpBkN5Jgleivg87iA/eJ2\n",
       "wazi0qps4NCwLxzuqqIxT+uz7hN8KrvVidsOqOJyv5oevC56W9fhdgy6TPS4b7Bl/c9gn9KhIzki\n",
       "i1vLFwabht1oOtxarugh0au3BjvUDE5I7J4cueglN20moy3DrrktNm0q2rCanfp7d/sZjvWxd4Ni\n",
       "LOg/NVukjIqPlm0AAAAASUVORK5CYII=\n",
       "\" style=\"display:inline;vertical-align:middle;\" /></a></td></tr>\n",
       "<tr><td>1</td><td>Literal</td><td></td><td><a class=\"ProveItLink\" href=\"../../../../logic/equality/__pv_it/e16d2caa26a16688b658bdb9c422caf4b84579e10/expr.ipynb\"><img src=\"data:image/png;base64,iVBORw0KGgoAAAANSUhEUgAAAA4AAAAFBAMAAACHocAhAAAAD1BMVEX///9UVFQiIiJmZmYAAACP\n",
       "OqLZAAAAAXRSTlMAQObYZgAAAAlwSFlzAAAOxAAADsQBlSsOGwAAABJJREFUCNdjMFICAUUGXAAq\n",
       "DwAoFgH7Aeay4gAAAABJRU5ErkJggg==\n",
       "\" style=\"display:inline;vertical-align:middle;\" /></a></td></tr>\n",
       "<tr><td>2</td><td>ExprTuple</td><td>3, 4</td><td><a class=\"ProveItLink\" href=\"../ef92200a04150f9bab395f6b420c473ba30a30c60/expr.ipynb\"><img src=\"data:image/png;base64,iVBORw0KGgoAAAANSUhEUgAAALsAAAAVBAMAAADsqILHAAAAMFBMVEX////MzMxUVFREREQiIiK6\n",
       "uroQEBCYmJhmZmYyMjLu7u52dnaqqqqIiIjc3NwAAACFAiZ1AAAAAXRSTlMAQObYZgAAAAlwSFlz\n",
       "AAAOxAAADsQBlSsOGwAAArJJREFUOMuNVT1oU1EUPm3y8l5+TJ1cWxdxLI6BlFQdihYRLEIGMYNd\n",
       "pELQRQc1iJChVIJLoXR40ClDsJROugTRRQcDLhk6PLCQRTAODoqC3znn3pebRJ598J1837k55953\n",
       "7rn3EVFECvtENOFIeIojG42546Snugr7KL91svRHYr3eRMSRKPF8NCDafG11f2zCfz3BmxC2sA8z\n",
       "U5JZnAi47aJzLQVR/uwGGX6VaCc5/cEZztaW121RlucaRbSNAoK6gijzvkSWEz1MTr9xgzM2jfIb\n",
       "YxFNo4AMKYhuhxRz/IZJ2b1f8lOz+u5YRM0ooApaFeeh2Kr5S7aelD5fkUlaVm+7EeJmBWzynrLz\n",
       "/p3zpDzXRyfkFxKy++cucjkC3tnOZ94KciLEzQrYNnMT/bHryHt4O7+VtPq5XvyGjQzsI3IixM0K\n",
       "WAVdlaPwXcbAvwYYKlSS0n87zTaN7vGjOdh35ESwWxSwDrouzTqUMfCQ1zYzTEr/Sbf/unBs4jw5\n",
       "EeJmBcTpdbeEc4BXS0p/6KR/DtwkJ0LcrIBdUAaldGeYv6T/FeeCFlkOKs7geHGyTnHKoGWZU3aL\n",
       "ee53HjVd5CM8nVib+57YFIcUf8A8IBMRWjcr4MC0ldkt5t5wgO7i/7ziG+OnS8TYNpBW9LnkW6QR\n",
       "MixuVsAa6Npot4SX0Vlpvk7TV2BWmDQMocvhqA08LscsL/oamQgeFjcrII1FM+iZ6Sp9CToW+2Gq\n",
       "OAVOH5gTtGyKWqzYCBleNupYbyOgsLDr3E7xbbU/fR0Ab7Nde+/Ndp+G5h5s2mG5zpoGS4J0yZ65\n",
       "Jf3e8CtTrjeVvgNcahuRiua7fCa/xBEddYsSz57A79uP2Z4GSof4053D63z8wojcYtDnJi/FEXV1\n",
       "ixJPsa6Iv5PCn5zsYzjQgkYTEQNRwF8ebbkppJAdCwAAAABJRU5ErkJggg==\n",
       "\" style=\"display:inline;vertical-align:middle;\" /></a></td></tr>\n",
       "<tr><td>3</td><td>ExprTuple</td><td>5</td><td><a class=\"ProveItLink\" href=\"../5910a78a7973c5226a5f485b62af157f80dbd44b0/expr.ipynb\"><img src=\"data:image/png;base64,iVBORw0KGgoAAAANSUhEUgAAAI8AAAAVBAMAAACNsKCFAAAAMFBMVEX////MzMxUVFREREQiIiK6\n",
       "uroQEBCYmJhmZmYyMjLu7u52dnaqqqqIiIjc3NwAAACFAiZ1AAAAAXRSTlMAQObYZgAAAAlwSFlz\n",
       "AAAOxAAADsQBlSsOGwAAAiRJREFUOMuNVD1Iw0AUftqkiWmsTq7qIo7iWFD8G8Q6CLo4iA66KRQn\n",
       "F7WI4CBIcRGkQ8DJQRTppEsQXHSw4NLBoYPgIlgHB0XB93PXVCKnge/lvdx3X+7ee3cAUIXoqdbN\n",
       "3086msIzWsNoTPy5/wk9yGtOz7jlcPdC+5Uf0r897mWA1j9D05RhNsEr0FiqexmUnwU4NAudd9Cf\n",
       "jnkLBWEj3Bx9SF5nQPsAa2ah5Wla0Y4O1wRJDuYDllNDycCkY3/wawEa2IhZDkpsZ9VQS84klBpi\n",
       "uQI0sBG75K8u9nLGMU2VMlK7DDpOz0ie0kC5PrkHYSMOePSLLfopG5fsFEwraivXV51P5oSNmOTe\n",
       "emUK+s8ufvaHTEIv7WQtrJxTbQuFjViir36NKegH9L+mmknoTlI8xX4gbMRSlD/2acheMAmVGoS2\n",
       "QdiIIsUJyS75+/DX1vqlVtz+WahvbYDlOX/ke58p3HsftXlcQtprhW2CpqTfQNiI8yh/5Nu1Jywt\n",
       "kU4x6947KFOPdGG4RRxKJrERM1H+2B/Aglp0LVgTaMZBGYt6ZyyICmPT9ptp6cRGWLSYLRGyZGHw\n",
       "yPYmtjWfhFzVrcM6JY8CJw9+V1E1bV7ech7P4ocDcdUS6rPaHG7q00sYBCujO3lQrj5aMHjlmNAJ\n",
       "YvRYBYlqZzip2DzjCJyKvlyPhMLVceJVo1OxvqcCr8+tTCk2z0g3HHXxN/531T7Ja0PwDXNriMf2\n",
       "aFtyAAAAAElFTkSuQmCC\n",
       "\" style=\"display:inline;vertical-align:middle;\" /></a></td></tr>\n",
       "<tr><td>4</td><td>ExprTuple</td><td></td><td><a class=\"ProveItLink\" href=\"../932ad914fbc084fb83cd7cce8742c2c1338987a00/expr.ipynb\"><img src=\"data:image/png;base64,iVBORw0KGgoAAAANSUhEUgAAAAwAAAAVBAMAAACAghKHAAAAMFBMVEX////MzMxUVFREREQiIiK6\n",
       "uroQEBCYmJhmZmYyMjLu7u52dnaqqqqIiIjc3NwAAACFAiZ1AAAAAXRSTlMAQObYZgAAAAlwSFlz\n",
       "AAAOxAAADsQBlSsOGwAAAHRJREFUCNdjYGB4wMcABLwHWC8AqdMMDHcYGLgmMDBwLmDgKGBgYG9g\n",
       "YAPJZzFEgqjpDN0gahOQAQSVDD4g6ghDKoiSh1BhDHMggrYgqhioFgh6GUJAlB8DiwADA58DyFiw\n",
       "8XYMDI+B4osZGKyAFF8B+wMGAFwSFSv4L9l8AAAAAElFTkSuQmCC\n",
       "\" style=\"display:inline;vertical-align:middle;\" /></a></td></tr>\n",
       "<tr><td>5</td><td>ExprRange</td><td>lambda_map:&nbsp;6<br>start_index:&nbsp;7<br>end_index:&nbsp;8<br></td><td><a class=\"ProveItLink\" href=\"../14c0c9bb000b56f8d077902c994f2d4e9b8e9d030/expr.ipynb\"><img src=\"data:image/png;base64,iVBORw0KGgoAAAANSUhEUgAAAIAAAAAVBAMAAAB8u/sIAAAAMFBMVEX///8yMjLc3NyIiIiYmJgi\n",
       "IiJERES6urqqqqoQEBDMzMxUVFTu7u52dnZmZmYAAAD1zdHuAAAAAXRSTlMAQObYZgAAAAlwSFlz\n",
       "AAAOxAAADsQBlSsOGwAAAeNJREFUOMuNVDtIA0EQnTvv8pHkTGGRMoXYRtHCSqKCjaBBUERFgpam\n",
       "0ELBymvEQkVBxRQWqQQrU4laSESwNY2VCtEIFiIoNiIpnM/mIhysWbi3M3Nv52be7h6AN0wPGhgJ\n",
       "8LN7CIIdDa1vcuEP23ksIoZKGC9LGs14fyDcIjgqKvb9MeW7wscugVHUro9e5BAjMbI7QbFzyzS9\n",
       "CMMqaxOE17NUcwr+sINVtndU7FCbYJU/GfZ8YkfTrEdMhVq1Ce4YFz0f2db5FNXhoIbXFVJEt35o\n",
       "/5KVJB26MordwnthYFulFTT6tBV8eVU6sKfYyTzFbBdM9wmNNd1684enCXz64Vuxt0XeBYhw/hNd\n",
       "gtAHTwdsVxX7rpZAQivaY5CuJ3DSij3PMQMPk1H4r4VAgac4yKkT9q68QilvXYwNkuc/jhGpUw7/\n",
       "HEESaya20iWKuVdN3Araysgnwm1MQd1TgstWjxBUPF2C2FGgG41R8sawBJuOB8MMGdPgCQ5LBKcg\n",
       "bEfagkm1USxTyN/DJsGb2HZetY7sDUOuNgzLJPck6tcP5QkV4t4dOrOqwh6/qgksP5l2xmu/iCif\n",
       "na1dmNnmb9sV9sBzjZHhKcuY8iWw6OlNKO8GKq91thptzEs09Esz5QvI/gVZv2xbZL9soAAAAABJ\n",
       "RU5ErkJggg==\n",
       "\" style=\"display:inline;vertical-align:middle;\" /></a></td></tr>\n",
       "<tr><td>6</td><td>Lambda</td><td>parameter:&nbsp;11<br>body:&nbsp;9<br></td><td><a class=\"ProveItLink\" href=\"../f0043753ff2624d263f59c4c60930b136180b0460/expr.ipynb\"><img src=\"data:image/png;base64,iVBORw0KGgoAAAANSUhEUgAAAFQAAAAVCAMAAADvsTk6AAAANlBMVEX///8WFhYNDQ3MzMxUVFQy\n",
       "MjKqqqoiIiKYmJju7u5EREQQEBC6urqIiIh2dnZmZmbc3NwAAADRPqZpAAAAAXRSTlMAQObYZgAA\n",
       "AAlwSFlzAAAOxAAADsQBlSsOGwAAATxJREFUOMulVFtihCAMtOUdHoH7X7agZZcEdKvNj2JkMsOE\n",
       "bNt/I1+snkbUZBniQxxMyfV3na6L/DWSFL7vdGpKK/cE1OsAfSPaKW3x44nNBx/KQMWvii6okk96\n",
       "LpvMUEAtQNXOPmOK+eWaIX8YLk56I/FtWe+kASLJVs5XjfASRWE0cCIlclIMwlb6zrcMmhNuEegR\n",
       "5SIGHUcXUAhdn7gXMK9++/4yJEoJhHoZPTlSFELUP3wT6N47GdOgwqlPHZRCBF/fWwFbTqwRvJdB\n",
       "jkbv8hlEle9KS4DadF6BKt6ofrzcEA9QAmErb1UT1uDWD5WoDbxPiU9H93AIrCsnYxJZRrGcHfwr\n",
       "8WkLhywKYW6PP5T0bsxUsrmHqOWvNVfTYzFjLsPANOqAa81wU7uNyDEcx4BH45Qzo2ptq/oDHYoL\n",
       "1B9fEzQAAAAASUVORK5CYII=\n",
       "\" style=\"display:inline;vertical-align:middle;\" /></a></td></tr>\n",
       "<tr><td>7</td><td>Variable</td><td></td><td><a class=\"ProveItLink\" href=\"../557ab5defdcd46aa58168b08767502985122cd490/expr.ipynb\"><img src=\"data:image/png;base64,iVBORw0KGgoAAAANSUhEUgAAAAcAAAAOBAMAAAARcxsoAAAALVBMVEX///9ERESYmJhUVFQyMjKq\n",
       "qqrc3NwQEBC6urru7u52dnYiIiJmZmaIiIgAAAD/UVazAAAAAXRSTlMAQObYZgAAAAlwSFlzAAAO\n",
       "xAAADsQBlSsOGwAAADlJREFUCNdjYGC4wwAEuxjQAeedCwwMXBwFDAypPA4MDBP4gFyGuAlAwhkk\n",
       "+5SLgYHjQRKQKavAAAAx5QmdfgFqMAAAAABJRU5ErkJggg==\n",
       "\" style=\"display:inline;vertical-align:middle;\" /></a></td></tr>\n",
       "<tr><td>8</td><td>Variable</td><td></td><td><a class=\"ProveItLink\" href=\"../6a5b5879f51878868f626bf09e4d76392d4779cd0/expr.ipynb\"><img src=\"data:image/png;base64,iVBORw0KGgoAAAANSUhEUgAAAAoAAAASBAMAAACQmVJ4AAAAMFBMVEX///9UVFS6urp2dnYiIiKq\n",
       "qqrc3NyYmJgQEBBmZmYyMjKIiIju7u5ERETMzMwAAAC4hZuzAAAAAXRSTlMAQObYZgAAAAlwSFlz\n",
       "AAAOxAAADsQBlSsOGwAAAEtJREFUCNdjYGBg4LsDJBi4FzBgA6f3gsgJHAUMDOwJ/AEgTvwBEDkF\n",
       "LO0MItg+gUj2DyCS8QKI5NgAZAXUAxW+D3AF8jl3KjAwAACAGg5QwkhbIAAAAABJRU5ErkJggg==\n",
       "\" style=\"display:inline;vertical-align:middle;\" /></a></td></tr>\n",
       "<tr><td>9</td><td>Operation</td><td>operator:&nbsp;10<br>operand:&nbsp;11<br></td><td><a class=\"ProveItLink\" href=\"../e80bce2a0c2e8c976be76e7b3ce08f76e74ec5550/expr.ipynb\"><img src=\"data:image/png;base64,iVBORw0KGgoAAAANSUhEUgAAACgAAAAVBAMAAADGNLEtAAAAMFBMVEX///8yMjLc3NyIiIiYmJgi\n",
       "IiJERES6urqqqqoQEBDMzMxUVFTu7u52dnZmZmYAAAD1zdHuAAAAAXRSTlMAQObYZgAAAAlwSFlz\n",
       "AAAOxAAADsQBlSsOGwAAAP1JREFUGNNjYIADJhQKCiwgFLsBmOK7ewBIclxAkby9sgFIHoTpYAQp\n",
       "YZhRBqKewARZHoAM+QNmT4AbPgeIeQPA5gvABUWAqndGg9TzgezRu6wMsgOI+cFuYHQAqp7EkA80\n",
       "3hHI1V8AEmQFuuCkA8NTILMViPvBBnEWMDC8P8AQC2SuB+KrcMFpDDzfgcxKIM6GOLmBgecvA8sH\n",
       "qPbJYEE2AwaeHwxsAk0MDG7AUPkFFuTdwMAgzOD6AOiyx8CA+AAJHKAXTtsu2gx0ShDQ1Rsg/oiC\n",
       "h2sAQzdjA4TtBxPkc2AIgwUZmwKUocbA4PwIyuZJgDJykKNDBRqcCgwAmIo1X55DCvQAAAAASUVO\n",
       "RK5CYII=\n",
       "\" style=\"display:inline;vertical-align:middle;\" /></a></td></tr>\n",
       "<tr><td>10</td><td>Variable</td><td></td><td><a class=\"ProveItLink\" href=\"../d7bbb04e874e28c7cefb21d4eea40806ae52f1f70/expr.ipynb\"><img src=\"data:image/png;base64,iVBORw0KGgoAAAANSUhEUgAAAAsAAAASBAMAAAB/WzlGAAAAMFBMVEX///8yMjLc3NyIiIiYmJgi\n",
       "IiJERES6urqqqqoQEBDMzMxUVFTu7u52dnZmZmYAAAD1zdHuAAAAAXRSTlMAQObYZgAAAAlwSFlz\n",
       "AAAOxAAADsQBlSsOGwAAAFNJREFUCNdjYGBg4Lt7AEgy3F7ZAKJmlIF47H9AbAbeABDJsjP6AYjm\n",
       "NwAL6i8AU/1gkuEqhMqGUJPBJNMvMMXxAUzxbQCR3Yxg48MOgsWcH4FIAPrAEkCfAu8DAAAAAElF\n",
       "TkSuQmCC\n",
       "\" style=\"display:inline;vertical-align:middle;\" /></a></td></tr>\n",
       "<tr><td>11</td><td>Variable</td><td></td><td><a class=\"ProveItLink\" href=\"../a8d4b3a34d2189508f9082853fbac36935714f280/expr.ipynb\"><img src=\"data:image/png;base64,iVBORw0KGgoAAAANSUhEUgAAAAsAAAAJBAMAAAAWSsseAAAAMFBMVEX////MzMxUVFQyMjKqqqoi\n",
       "IiKYmJju7u5EREQQEBC6urqIiIh2dnZmZmbc3NwAAAD0tjQRAAAAAXRSTlMAQObYZgAAAAlwSFlz\n",
       "AAAOxAAADsQBlSsOGwAAAEdJREFUCNdjYOC7s28DAwPDygcc3xkY2Kcx8AYwMPB+Z2A9wMDA2cBQ\n",
       "v4CBof4AQz5QRb0DQzPLAwbmDWyxPECV2gcfbWQAABp5EMgcedARAAAAAElFTkSuQmCC\n",
       "\" style=\"display:inline;vertical-align:middle;\" /></a></td></tr>\n",
       "</table>\n"
      ],
      "text/plain": [
       "0. (f(i) ,  ...  , f(j)) = ()\n",
       "   core type: Operation\n",
       "   operator: 1\n",
       "   operands: 2\n",
       "1. =\n",
       "   core type: Literal\n",
       "   sub-expressions: \n",
       "2. ((f(i) ,  ...  , f(j)) , ())\n",
       "   core type: ExprTuple\n",
       "   sub-expressions: 3, 4\n",
       "3. (f(i) ,  ...  , f(j))\n",
       "   core type: ExprTuple\n",
       "   sub-expressions: 5\n",
       "4. ()\n",
       "   core type: ExprTuple\n",
       "   sub-expressions: \n",
       "5. f(i),...,f(j)\n",
       "   core type: ExprRange\n",
       "   lambda_map: 6\n",
       "   start_index: 7\n",
       "   end_index: 8\n",
       "6. a -> f(a)\n",
       "   core type: Lambda\n",
       "   parameter: 11\n",
       "   body: 9\n",
       "7. i\n",
       "   core type: Variable\n",
       "   sub-expressions: \n",
       "8. j\n",
       "   core type: Variable\n",
       "   sub-expressions: \n",
       "9. f(a)\n",
       "   core type: Operation\n",
       "   operator: 10\n",
       "   operand: 11\n",
       "10. f\n",
       "    core type: Variable\n",
       "    sub-expressions: \n",
       "11. a\n",
       "    core type: Variable\n",
       "    sub-expressions: "
      ]
     },
     "execution_count": 5,
     "metadata": {},
     "output_type": "execute_result"
    }
   ],
   "source": [
    "# display the expression information\n",
    "expr.exprInfo()"
   ]
  },
  {
   "cell_type": "code",
   "execution_count": null,
   "metadata": {},
   "outputs": [],
   "source": []
  }
 ],
 "metadata": {
  "kernelspec": {
   "display_name": "Python 3",
   "language": "python",
   "name": "python3"
  },
  "language_info": {
   "codemirror_mode": {
    "name": "ipython",
    "version": 3
   },
   "file_extension": ".py",
   "mimetype": "text/x-python",
   "name": "python",
   "nbconvert_exporter": "python",
   "pygments_lexer": "ipython3",
   "version": "3.7.4"
  }
 },
 "nbformat": 4,
 "nbformat_minor": 1
}
