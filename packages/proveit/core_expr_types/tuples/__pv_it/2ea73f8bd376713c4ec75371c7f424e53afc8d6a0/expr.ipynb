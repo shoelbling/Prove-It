{
 "cells": [
  {
   "cell_type": "markdown",
   "metadata": {},
   "source": [
    "Expression of type <a class=\"ProveItLink\" href=\"../../../../../../doc/html/api/proveit.ExprTuple.html\">ExprTuple</a>\n",
    "=======================\n",
    "# from context <a class=\"ProveItLink\" href=\"../../_context_.ipynb\">proveit.core_expr_types.tuples</a>"
   ]
  },
  {
   "cell_type": "code",
   "execution_count": 1,
   "metadata": {},
   "outputs": [],
   "source": [
    "import proveit\n",
    "# Automation is not needed when building an expression:\n",
    "proveit.defaults.automation = False # This will speed things up.\n",
    "# import Expression classes needed to build the expression\n",
    "from proveit import ExprTuple, Variable"
   ]
  },
  {
   "cell_type": "code",
   "execution_count": 2,
   "metadata": {},
   "outputs": [
    {
     "data": {
      "text/html": [
       "<strong id=\"expr\">expr:</strong> <a class=\"ProveItLink\" href=\"expr.ipynb\"><img src=\"data:image/png;base64,iVBORw0KGgoAAAANSUhEUgAAAE0AAAAVBAMAAADx+n4ZAAAAMFBMVEX////MzMxUVFREREQiIiK6\n",
       "uroQEBCYmJhmZmYyMjLu7u52dnaqqqqIiIjc3NwAAACFAiZ1AAAAAXRSTlMAQObYZgAAAAlwSFlz\n",
       "AAAOxAAADsQBlSsOGwAAAXFJREFUKM9Nkr1KA0EUhU/Mmk020fURfAEhlWChpBSxSCFCComN2G5p\n",
       "peksohgsVMRiwQfYKD7A1tokDyAs4gPYGiw8996ZZC988/PtYWaZGQAFDN+6KhadDldyg3VUijml\n",
       "Tv2HEm12Ft+8RuVu4JeJRkZjQP84j4lixbk6Uk+MWNY6m+dEsfqpOlKDQcNB6nM1697MkR5nPTPc\n",
       "PPG5nnUP5siQM+H28wporvucqNXh9M8cuacg0W+aFQhHPif6sKjOoI7sU5DWDPEErY7PUUWnqDMj\n",
       "jpxQEppsjMqPz4maIRhDHXE5Hl8/x/JxKVdrI+tCHXmiJHGCm7S0LxXXv8B8320OSdzl7yBsy1XA\n",
       "VJZjq1WoI6+UZCmp8uLqE86ykanGJNxtmiMHlCS65vEhkBcU7Dm18fI1NUeCNSha39q+o6TUkXBg\n",
       "aF1qy8NYKHXCjkMuqq1PSn7SK3Xqnx2sqj6XUMdOqVO/mhis89K7d0od+Qccx2ypEmuVXQAAAABJ\n",
       "RU5ErkJggg==\n",
       "\" style=\"display:inline;vertical-align:middle;\" /></a><br>"
      ],
      "text/plain": [
       "expr: ((b) , (d))"
      ]
     },
     "execution_count": 2,
     "metadata": {},
     "output_type": "execute_result"
    }
   ],
   "source": [
    "# build up the expression from sub-expressions\n",
    "expr = ExprTuple([Variable(\"b\")], [Variable(\"d\")])"
   ]
  },
  {
   "cell_type": "code",
   "execution_count": 3,
   "metadata": {},
   "outputs": [
    {
     "name": "stdout",
     "output_type": "stream",
     "text": [
      "Passed sanity check: built 'expr' is the same as the stored Expression.\n"
     ]
    }
   ],
   "source": [
    "# check that the built expression is the same as the stored expression\n",
    "%check_expr"
   ]
  },
  {
   "cell_type": "code",
   "execution_count": 4,
   "metadata": {},
   "outputs": [
    {
     "name": "stdout",
     "output_type": "stream",
     "text": [
      "\\left(\\left(b\\right) , \\left(d\\right)\\right)\n"
     ]
    }
   ],
   "source": [
    "# Show the LaTeX representation of the expression for convenience if you need it.\n",
    "print(expr.latex())"
   ]
  },
  {
   "cell_type": "code",
   "execution_count": 5,
   "metadata": {},
   "outputs": [
    {
     "data": {
      "text/html": [
       "<table><tr><th>&nbsp;</th><th>core type</th><th>sub-expressions</th><th>expression</th></tr>\n",
       "<tr><td>0</td><td>ExprTuple</td><td>1, 2</td><td><a class=\"ProveItLink\" href=\"expr.ipynb\"><img src=\"data:image/png;base64,iVBORw0KGgoAAAANSUhEUgAAAE0AAAAVBAMAAADx+n4ZAAAAMFBMVEX////MzMxUVFREREQiIiK6\n",
       "uroQEBCYmJhmZmYyMjLu7u52dnaqqqqIiIjc3NwAAACFAiZ1AAAAAXRSTlMAQObYZgAAAAlwSFlz\n",
       "AAAOxAAADsQBlSsOGwAAAXFJREFUKM9Nkr1KA0EUhU/Mmk020fURfAEhlWChpBSxSCFCComN2G5p\n",
       "peksohgsVMRiwQfYKD7A1tokDyAs4gPYGiw8996ZZC988/PtYWaZGQAFDN+6KhadDldyg3VUijml\n",
       "Tv2HEm12Ft+8RuVu4JeJRkZjQP84j4lixbk6Uk+MWNY6m+dEsfqpOlKDQcNB6nM1697MkR5nPTPc\n",
       "PPG5nnUP5siQM+H28wporvucqNXh9M8cuacg0W+aFQhHPif6sKjOoI7sU5DWDPEErY7PUUWnqDMj\n",
       "jpxQEppsjMqPz4maIRhDHXE5Hl8/x/JxKVdrI+tCHXmiJHGCm7S0LxXXv8B8320OSdzl7yBsy1XA\n",
       "VJZjq1WoI6+UZCmp8uLqE86ykanGJNxtmiMHlCS65vEhkBcU7Dm18fI1NUeCNSha39q+o6TUkXBg\n",
       "aF1qy8NYKHXCjkMuqq1PSn7SK3Xqnx2sqj6XUMdOqVO/mhis89K7d0od+Qccx2ypEmuVXQAAAABJ\n",
       "RU5ErkJggg==\n",
       "\" style=\"display:inline;vertical-align:middle;\" /></a></td></tr>\n",
       "<tr><td>1</td><td>ExprTuple</td><td>3</td><td><a class=\"ProveItLink\" href=\"../0387b0b5ca0ae11270febe0abc2c4709f4a519060/expr.ipynb\"><img src=\"data:image/png;base64,iVBORw0KGgoAAAANSUhEUgAAABUAAAAVBAMAAABbObilAAAAMFBMVEX////MzMxUVFREREQiIiK6\n",
       "uroQEBCYmJhmZmYyMjLu7u52dnaqqqqIiIjc3NwAAACFAiZ1AAAAAXRSTlMAQObYZgAAAAlwSFlz\n",
       "AAAOxAAADsQBlSsOGwAAAMFJREFUCNctjj8OAVEQxn/sYnf9WUdwhK10ZA+gUGgUQiPaV6pEp0Bs\n",
       "NBJRvMQBiDiAXuMCki0cQEtl3j6TzPf9Mpn5MkCKqUyrt4wHRu4EzdiOggT8ucz24CkIzdoUimJD\n",
       "LVLU9MWu5s5XLMW2zxWUG+zk/KNPKaWEDlS+hA8qMWOJSjidyb0NS/zwRmHEQeIVG212WsLdYAKl\n",
       "iAvklSNPeA96krmWeNwUt46tl6zN/7yQblusRSJHy475taYynsEPQmoodRAxfskAAAAASUVORK5C\n",
       "YII=\n",
       "\" style=\"display:inline;vertical-align:middle;\" /></a></td></tr>\n",
       "<tr><td>2</td><td>ExprTuple</td><td>4</td><td><a class=\"ProveItLink\" href=\"../e8ef8dc48faa4a74aa89053300f9b0df587da4440/expr.ipynb\"><img src=\"data:image/png;base64,iVBORw0KGgoAAAANSUhEUgAAABcAAAAVBAMAAABfzGiYAAAAMFBMVEX////MzMxUVFREREQiIiK6\n",
       "uroQEBCYmJhmZmYyMjLu7u52dnaqqqqIiIjc3NwAAACFAiZ1AAAAAXRSTlMAQObYZgAAAAlwSFlz\n",
       "AAAOxAAADsQBlSsOGwAAAMhJREFUGNM1j78OwVAUxn+itP57BC8g6WogRoPBIBKDsIjVaMJmsJgQ\n",
       "MTTxAC3xAN0t7Rs04gHMYnDubZ3kfvf8vtzznVwgQpe+Sn4MIyUPJan9Wpn5nfYrPiew5hrGDgvI\n",
       "xhN36RyGMRwhN2crXXkbfqFQ4yAwiNIfMHd0JXCGJZnFNlMJ/GB4suutIGvj9iAz4Qyuxwr9rCng\n",
       "0yhGmDY3WRCYnYKMBvQlrX59hmBEGFWSesmq9R82clpJX7ZFLgmkHeXEH2IJP7SeKqGacVG0AAAA\n",
       "AElFTkSuQmCC\n",
       "\" style=\"display:inline;vertical-align:middle;\" /></a></td></tr>\n",
       "<tr><td>3</td><td>Variable</td><td></td><td><a class=\"ProveItLink\" href=\"../53e304ff98ebc000dbe3ef224f4637dbafd46ba70/expr.ipynb\"><img src=\"data:image/png;base64,iVBORw0KGgoAAAANSUhEUgAAAAkAAAAOBAMAAAAPuiubAAAALVBMVEX///+YmJjc3NyIiIhUVFR2\n",
       "dna6urqqqqpmZmYyMjIiIiIQEBBERETu7u4AAAALjtrwAAAAAXRSTlMAQObYZgAAAAlwSFlzAAAO\n",
       "xAAADsQBlSsOGwAAAE5JREFUCNdj4D29gAEIOBtAJF8BiMy7ACKjQATDFON2BgbelxfuKTCwv2Xg\n",
       "M2DgmMBwLwCkPK+AgU+Aoe8CA18C70YGBhYBHqARvM1A5QCqGhDobJhHyAAAAABJRU5ErkJggg==\n",
       "\" style=\"display:inline;vertical-align:middle;\" /></a></td></tr>\n",
       "<tr><td>4</td><td>Variable</td><td></td><td><a class=\"ProveItLink\" href=\"../445e790c2b62732eb8597a2ddda4cbd1a8fb79140/expr.ipynb\"><img src=\"data:image/png;base64,iVBORw0KGgoAAAANSUhEUgAAAAsAAAAOBAMAAAALT/umAAAAMFBMVEX///9UVFSYmJhERESIiIjc\n",
       "3NwiIiJ2dnbu7u66urqqqqpmZmYQEBAyMjLMzMwAAAAJQA1gAAAAAXRSTlMAQObYZgAAAAlwSFlz\n",
       "AAAOxAAADsQBlSsOGwAAAFpJREFUCNdjYGBg4LuzgQEE+BeAqfkNYKoMTDLcBmLW7X6/gNScAOYf\n",
       "DAwchxi4LzAwcP9gYCtgYOAxYOifwMDQX8CgD1TRv4DBliuAgdeBKZsdqFKkLtCPAQBT/hIMxxSb\n",
       "NAAAAABJRU5ErkJggg==\n",
       "\" style=\"display:inline;vertical-align:middle;\" /></a></td></tr>\n",
       "</table>\n"
      ],
      "text/plain": [
       "0. ((b) , (d))\n",
       "   core type: ExprTuple\n",
       "   sub-expressions: 1, 2\n",
       "1. (b)\n",
       "   core type: ExprTuple\n",
       "   sub-expressions: 3\n",
       "2. (d)\n",
       "   core type: ExprTuple\n",
       "   sub-expressions: 4\n",
       "3. b\n",
       "   core type: Variable\n",
       "   sub-expressions: \n",
       "4. d\n",
       "   core type: Variable\n",
       "   sub-expressions: "
      ]
     },
     "execution_count": 5,
     "metadata": {},
     "output_type": "execute_result"
    }
   ],
   "source": [
    "# display the expression information\n",
    "expr.exprInfo()"
   ]
  },
  {
   "cell_type": "code",
   "execution_count": null,
   "metadata": {},
   "outputs": [],
   "source": []
  }
 ],
 "metadata": {
  "kernelspec": {
   "display_name": "Python 3",
   "language": "python",
   "name": "python3"
  },
  "language_info": {
   "codemirror_mode": {
    "name": "ipython",
    "version": 3
   },
   "file_extension": ".py",
   "mimetype": "text/x-python",
   "name": "python",
   "nbconvert_exporter": "python",
   "pygments_lexer": "ipython3",
   "version": "3.7.4"
  }
 },
 "nbformat": 4,
 "nbformat_minor": 1
}
