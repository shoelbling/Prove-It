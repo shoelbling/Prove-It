{
 "cells": [
  {
   "cell_type": "markdown",
   "metadata": {},
   "source": [
    "Expression of type <a class=\"ProveItLink\" href=\"../../../../../../doc/html/api/proveit.ExprTuple.html\">ExprTuple</a>\n",
    "=======================\n",
    "# from context <a class=\"ProveItLink\" href=\"../../_context_.ipynb\">proveit.core_expr_types.tuples</a>"
   ]
  },
  {
   "cell_type": "code",
   "execution_count": 1,
   "metadata": {},
   "outputs": [],
   "source": [
    "import proveit\n",
    "# Automation is not needed when building an expression:\n",
    "proveit.defaults.automation = False # This will speed things up.\n",
    "# import Expression classes needed to build the expression\n",
    "from proveit import ExprTuple\n",
    "from proveit._common_ import i, j\n",
    "from proveit.logic import InSet\n",
    "from proveit.number import Naturals"
   ]
  },
  {
   "cell_type": "code",
   "execution_count": 2,
   "metadata": {},
   "outputs": [
    {
     "data": {
      "text/html": [
       "<strong id=\"expr\">expr:</strong> <a class=\"ProveItLink\" href=\"../19d3281e13badc074154ecf6b6cec8528a98417f0/expr.ipynb\"><img src=\"data:image/png;base64,iVBORw0KGgoAAAANSUhEUgAAAHcAAAAVBAMAAACOK2zoAAAAMFBMVEX////MzMxUVFREREQiIiK6\n",
       "uroQEBCYmJhmZmYyMjLu7u52dnaqqqqIiIjc3NwAAACFAiZ1AAAAAXRSTlMAQObYZgAAAAlwSFlz\n",
       "AAAOxAAADsQBlSsOGwAAAgBJREFUOMudlDtIHFEUhv957Gv24YIS0ogbCClCGCZEBcUVi6lUdBEb\n",
       "CYGFkDpTpshjC0GCzZImsIgM6zYWoqTQdsAyhSM2iza3CEjAYkEiKCly7t2dnb27mWYv3GHO+e7P\n",
       "ecy5A4BhqCVkWa/fbay+qiH9/t3/RY3bGRfHd6U33PhJuylzzVsDDt2OpczKdC5WgPEgghpVspdk\n",
       "rK6kHcQDK1uV6VN2ApSBGpB0BjNTT7ELParYF1aKYQH4gDAArQvbFlHUa//3oDig5qdclYvjLjZC\n",
       "unEZRGZPskf94i411fwVF6ccbFPZTZ87c7Vu2kzDVCA+uIBMTVhaicTpAr7TM1bmzhQLxUql0egY\n",
       "lbgjUxOPjUUSJ6pYBm6SopZU2DCGj5np9nuCjXgyNZHwTilcZgE0Cu6ISPuRTcvqiFX3WXD4zJWp\n",
       "CTxXSay0uLiD93ojG4UgbWxCpiSuG5Q2FbtD5jfh1HvFGNcCa6mPkljxLZF2kbr9Ny0mye+OZ56s\n",
       "UapHtPkPZPqS9jmJExZ+UPzWtfDuBFjnLfoK4150rAWZUovBW5z0sU6vxfaI1qfad0FZfUvPfcDm\n",
       "tmpBomN3VvtG6Ax6Phyi15O2dAky/Hjcj6C/KKtK9H2nVqjeFzeCbtGejxYfABPecgTMWdIHHFjU\n",
       "imSzFAE1nlHOGe4f9hn4Bym7eUKp9p3FAAAAAElFTkSuQmCC\n",
       "\" style=\"display:inline;vertical-align:middle;\" /></a><br>"
      ],
      "text/plain": [
       "expr: (i in Naturals , j in Naturals)"
      ]
     },
     "execution_count": 2,
     "metadata": {},
     "output_type": "execute_result"
    }
   ],
   "source": [
    "# build up the expression from sub-expressions\n",
    "expr = ExprTuple(InSet(i, Naturals), InSet(j, Naturals))"
   ]
  },
  {
   "cell_type": "code",
   "execution_count": 3,
   "metadata": {},
   "outputs": [
    {
     "name": "stdout",
     "output_type": "stream",
     "text": [
      "Passed sanity check: built 'expr' is the same as the stored Expression.\n"
     ]
    }
   ],
   "source": [
    "# check that the built expression is the same as the stored expression\n",
    "%check_expr"
   ]
  },
  {
   "cell_type": "code",
   "execution_count": 4,
   "metadata": {},
   "outputs": [
    {
     "name": "stdout",
     "output_type": "stream",
     "text": [
      "\\left(i \\in \\mathbb{N} , j \\in \\mathbb{N}\\right)\n"
     ]
    }
   ],
   "source": [
    "# Show the LaTeX representation of the expression for convenience if you need it.\n",
    "print(expr.latex())"
   ]
  },
  {
   "cell_type": "code",
   "execution_count": 5,
   "metadata": {},
   "outputs": [
    {
     "data": {
      "text/html": [
       "<table><tr><th>&nbsp;</th><th>core type</th><th>sub-expressions</th><th>expression</th></tr>\n",
       "<tr><td>0</td><td>ExprTuple</td><td>1, 2</td><td><a class=\"ProveItLink\" href=\"../19d3281e13badc074154ecf6b6cec8528a98417f0/expr.ipynb\"><img src=\"data:image/png;base64,iVBORw0KGgoAAAANSUhEUgAAAHcAAAAVBAMAAACOK2zoAAAAMFBMVEX////MzMxUVFREREQiIiK6\n",
       "uroQEBCYmJhmZmYyMjLu7u52dnaqqqqIiIjc3NwAAACFAiZ1AAAAAXRSTlMAQObYZgAAAAlwSFlz\n",
       "AAAOxAAADsQBlSsOGwAAAgBJREFUOMudlDtIHFEUhv957Gv24YIS0ogbCClCGCZEBcUVi6lUdBEb\n",
       "CYGFkDpTpshjC0GCzZImsIgM6zYWoqTQdsAyhSM2iza3CEjAYkEiKCly7t2dnb27mWYv3GHO+e7P\n",
       "ecy5A4BhqCVkWa/fbay+qiH9/t3/RY3bGRfHd6U33PhJuylzzVsDDt2OpczKdC5WgPEgghpVspdk\n",
       "rK6kHcQDK1uV6VN2ApSBGpB0BjNTT7ELParYF1aKYQH4gDAArQvbFlHUa//3oDig5qdclYvjLjZC\n",
       "unEZRGZPskf94i411fwVF6ccbFPZTZ87c7Vu2kzDVCA+uIBMTVhaicTpAr7TM1bmzhQLxUql0egY\n",
       "lbgjUxOPjUUSJ6pYBm6SopZU2DCGj5np9nuCjXgyNZHwTilcZgE0Cu6ISPuRTcvqiFX3WXD4zJWp\n",
       "CTxXSay0uLiD93ojG4UgbWxCpiSuG5Q2FbtD5jfh1HvFGNcCa6mPkljxLZF2kbr9Ny0mye+OZ56s\n",
       "UapHtPkPZPqS9jmJExZ+UPzWtfDuBFjnLfoK4150rAWZUovBW5z0sU6vxfaI1qfad0FZfUvPfcDm\n",
       "tmpBomN3VvtG6Ax6Phyi15O2dAky/Hjcj6C/KKtK9H2nVqjeFzeCbtGejxYfABPecgTMWdIHHFjU\n",
       "imSzFAE1nlHOGe4f9hn4Bym7eUKp9p3FAAAAAElFTkSuQmCC\n",
       "\" style=\"display:inline;vertical-align:middle;\" /></a></td></tr>\n",
       "<tr><td>1</td><td>Operation</td><td>operator:&nbsp;4<br>operands:&nbsp;3<br></td><td><a class=\"ProveItLink\" href=\"../d5564913a3c065d11578b8b1a7bf5fd263fe9d650/expr.ipynb\"><img src=\"data:image/png;base64,iVBORw0KGgoAAAANSUhEUgAAAC8AAAAQBAMAAAB0JTvnAAAAMFBMVEX////MzMxERESYmJhUVFQy\n",
       "MjKqqqrc3NwQEBC6urru7u52dnYiIiJmZmaIiIgAAAB85A1lAAAAAXRSTlMAQObYZgAAAAlwSFlz\n",
       "AAAOxAAADsQBlSsOGwAAAMxJREFUGNNjYEADaz6pLmDY8WMCkPkWVUaN04GB6xeIdRpVwqdgMwND\n",
       "AwMmcFNgLWA4gCTw6MyZABDtbscegCwx9RWU4c4i8BokwfX2AYjLHgVT4c6gwDQBKMHNCbYIaC5c\n",
       "QpbrFFCijBdsMisDQoI5IQmoeAE/2CiJM0CgAJFg8GIBmZK/AMRdhKSDYQkXyFUhYC4PsgTjA6Be\n",
       "rm/cIC7fA5iEIhA/BEpwfigG88NgEseAGOwgPQMwf4km2C4GmR8gYwKQgmS2zhlkLgDQaDLwT8v6\n",
       "WAAAAABJRU5ErkJggg==\n",
       "\" style=\"display:inline;vertical-align:middle;\" /></a></td></tr>\n",
       "<tr><td>2</td><td>Operation</td><td>operator:&nbsp;4<br>operands:&nbsp;5<br></td><td><a class=\"ProveItLink\" href=\"../2428fbfd219f53fb81899ed8dedd4913ac842cc40/expr.ipynb\"><img src=\"data:image/png;base64,iVBORw0KGgoAAAANSUhEUgAAADMAAAATBAMAAADPIygvAAAAMFBMVEX///9UVFS6urp2dnYiIiKq\n",
       "qqrc3NyYmJgQEBBmZmYyMjKIiIju7u5ERETMzMwAAAC4hZuzAAAAAXRSTlMAQObYZgAAAAlwSFlz\n",
       "AAAOxAAADsQBlSsOGwAAAORJREFUKM9jYMAAR/7eOsBg8UMBxOa7gyp3lUmAgecPmMm9AFVKJMGc\n",
       "gaGBARsQvcCVwOCALMJ9xcULzBCrZluAIsW0+gCUJcb4YDNE6vResEAWTIZBjOECrwJYagJHAYha\n",
       "xoCQesnjA5JiT+APAAksQJJiD4iFuDAeZBRfi4uLiy9UikGGESI1BUTwXEDSxXCQB+JCZzDpgCzF\n",
       "twGsku0TWGA3XOoeEO8DS7F/AAtwBcCkXIGYE+wqRogtPLI6EJknP4ACPGApjg3Q4LCFBhQMMAbU\n",
       "H2DADt4HuOKQYeDcqYBDBgBB+TOtN/SzkwAAAABJRU5ErkJggg==\n",
       "\" style=\"display:inline;vertical-align:middle;\" /></a></td></tr>\n",
       "<tr><td>3</td><td>ExprTuple</td><td>6, 8</td><td><a class=\"ProveItLink\" href=\"../56ab5c04dbe75a194e434cbc64451eca803092e60/expr.ipynb\"><img src=\"data:image/png;base64,iVBORw0KGgoAAAANSUhEUgAAACsAAAAVBAMAAAAtAwouAAAAMFBMVEX////MzMxUVFREREQiIiK6\n",
       "uroQEBCYmJhmZmYyMjLu7u52dnaqqqqIiIjc3NwAAACFAiZ1AAAAAXRSTlMAQObYZgAAAAlwSFlz\n",
       "AAAOxAAADsQBlSsOGwAAAR5JREFUGNNdkSFMw0AUQN+2bu1uUCYQyAkUIeSQJIxMD8QEBkEyg6/E\n",
       "QHAITIMhIYgG8BAE2CW4IShuCaaCBINYQjJBEPy70q7ZJf/y/8vv+707IGFmWTA/yMrb742Ix0lv\n",
       "3xQvEqOUb1ZbqB/bqEKpt1O8nDxBHy7BC6bSVV1P6MAh1Aqz1o780OBaxF4Rl5vvBtcDzkQ/iv8x\n",
       "utIT3GhxIXu1n+El1RXshuzAlxdm2B08S8tchwOIFnIJK2XBpbHBvEY5vlYiEemVlOfkuBRrK2nL\n",
       "n/w2UAavS7wJdjUP8s34kzszVcZjxnsxu5K2A5wuLE50ekdOgtNMvcPCaT/Ec5Km9wV8KrFlMxVP\n",
       "qS8ubmzqFpor5hh+MPuWx/AHvqY8nXrUkk4AAAAASUVORK5CYII=\n",
       "\" style=\"display:inline;vertical-align:middle;\" /></a></td></tr>\n",
       "<tr><td>4</td><td>Literal</td><td></td><td><a class=\"ProveItLink\" href=\"../../../../logic/set_theory/membership/__pv_it/7776fc89cb67d0b5b1ec2c0c8e08da5587921ccf0/expr.ipynb\"><img src=\"data:image/png;base64,iVBORw0KGgoAAAANSUhEUgAAAAwAAAAMBAMAAACkW0HUAAAAKlBMVEX///92dnZUVFSqqqoQEBDM\n",
       "zMzc3Nzu7u66uroyMjIiIiJERESIiIgAAACm0meuAAAAAXRSTlMAQObYZgAAAAlwSFlzAAAOxAAA\n",
       "DsQBlSsOGwAAADxJREFUCNdjYGA4vWrVBAaGzuMMQMA2HUQycCZAKDDJELIKCDYwVEN4XBCK5wCE\n",
       "ngyhinYUgOnGXasmAABvGQ6ucz2C1gAAAABJRU5ErkJggg==\n",
       "\" style=\"display:inline;vertical-align:middle;\" /></a></td></tr>\n",
       "<tr><td>5</td><td>ExprTuple</td><td>7, 8</td><td><a class=\"ProveItLink\" href=\"../2d08abddd7c627b55d645ca3690d95d09b2a37fb0/expr.ipynb\"><img src=\"data:image/png;base64,iVBORw0KGgoAAAANSUhEUgAAAC0AAAAVBAMAAAAgHXppAAAAMFBMVEX////MzMxUVFREREQiIiK6\n",
       "uroQEBCYmJhmZmYyMjLu7u52dnaqqqqIiIjc3NwAAACFAiZ1AAAAAXRSTlMAQObYZgAAAAlwSFlz\n",
       "AAAOxAAADsQBlSsOGwAAASxJREFUGNNlkTFIw0AUhv+0ae961lCog2NBJylyjoJK5uKQwcWh0EWc\n",
       "hIwuVhdxECGbIA5B3S0OuhbcdElHESFD9xaEDqWD7yUmnhp4ufu+XN69ewcgxt8nMfP9nO8+10M8\n",
       "Trw2wyu/6mHyYaPUgJomS1XA4i39YTl+AjrAFSB9I3FTV2K4wCFQNjdcPXIC9uUQu798ofbOvuLj\n",
       "nFB96G8PXfTIzzVwSSixn/lF1SIvAmwTdjHLvOg/Uz1VF3vM1WnmsVIgb41TL93c3yialzq4ZrZ7\n",
       "ubcineTZZB55UDyuUQzIC40H5mPgnvvBRUiayAg77JcoVQtYmOi0YXYMu0b+gOLFOPeQUp2gKbjM\n",
       "nuHPKLasmc39jn60w225xcUpDcJYXuRbcvx/99sFvgAJcj2WHx/E8AAAAABJRU5ErkJggg==\n",
       "\" style=\"display:inline;vertical-align:middle;\" /></a></td></tr>\n",
       "<tr><td>6</td><td>Variable</td><td></td><td><a class=\"ProveItLink\" href=\"../../../../__pv_it/557ab5defdcd46aa58168b08767502985122cd490/expr.ipynb\"><img src=\"data:image/png;base64,iVBORw0KGgoAAAANSUhEUgAAAAcAAAAOBAMAAAARcxsoAAAALVBMVEX///9ERESYmJhUVFQyMjKq\n",
       "qqrc3NwQEBC6urru7u52dnYiIiJmZmaIiIgAAAD/UVazAAAAAXRSTlMAQObYZgAAAAlwSFlzAAAO\n",
       "xAAADsQBlSsOGwAAADlJREFUCNdjYGC4wwAEuxjQAeedCwwMXBwFDAypPA4MDBP4gFyGuAlAwhkk\n",
       "+5SLgYHjQRKQKavAAAAx5QmdfgFqMAAAAABJRU5ErkJggg==\n",
       "\" style=\"display:inline;vertical-align:middle;\" /></a></td></tr>\n",
       "<tr><td>7</td><td>Variable</td><td></td><td><a class=\"ProveItLink\" href=\"../../../../__pv_it/6a5b5879f51878868f626bf09e4d76392d4779cd0/expr.ipynb\"><img src=\"data:image/png;base64,iVBORw0KGgoAAAANSUhEUgAAAAoAAAASBAMAAACQmVJ4AAAAMFBMVEX///9UVFS6urp2dnYiIiKq\n",
       "qqrc3NyYmJgQEBBmZmYyMjKIiIju7u5ERETMzMwAAAC4hZuzAAAAAXRSTlMAQObYZgAAAAlwSFlz\n",
       "AAAOxAAADsQBlSsOGwAAAEtJREFUCNdjYGBg4LsDJBi4FzBgA6f3gsgJHAUMDOwJ/AEgTvwBEDkF\n",
       "LO0MItg+gUj2DyCS8QKI5NgAZAXUAxW+D3AF8jl3KjAwAACAGg5QwkhbIAAAAABJRU5ErkJggg==\n",
       "\" style=\"display:inline;vertical-align:middle;\" /></a></td></tr>\n",
       "<tr><td>8</td><td>Literal</td><td></td><td><a class=\"ProveItLink\" href=\"../../../../number/sets/integer/__pv_it/b49c37b99b7e8d73a8d7971bcf454d693b90a2c60/expr.ipynb\"><img src=\"data:image/png;base64,iVBORw0KGgoAAAANSUhEUgAAAA8AAAAPBAMAAADJ+Ih5AAAAMFBMVEX///9mZmbMzMyIiIiYmJjc\n",
       "3NxUVFSqqqq6uroQEBB2dnYyMjJEREQiIiLu7u4AAAAPqInnAAAAAXRSTlMAQObYZgAAAAlwSFlz\n",
       "AAAOxAAADsQBlSsOGwAAAGpJREFUCNdjePvn9AOGlT8bGBiOcyQw8P1jYGDIDVjCwDAByEg/wB3A\n",
       "cAHISHVm3QBhsClYQRgMB3gaIAxFvnsQBktBzQQwgyGPDcp4xgeRYmAyOABkHAJiIxDjOhAzbmBg\n",
       "0P0J5PFtYAAA6AAhaNFZV/8AAAAASUVORK5CYII=\n",
       "\" style=\"display:inline;vertical-align:middle;\" /></a></td></tr>\n",
       "</table>\n"
      ],
      "text/plain": [
       "0. (i in Naturals , j in Naturals)\n",
       "   core type: ExprTuple\n",
       "   sub-expressions: 1, 2\n",
       "1. i in Naturals\n",
       "   core type: Operation\n",
       "   operator: 4\n",
       "   operands: 3\n",
       "2. j in Naturals\n",
       "   core type: Operation\n",
       "   operator: 4\n",
       "   operands: 5\n",
       "3. (i , Naturals)\n",
       "   core type: ExprTuple\n",
       "   sub-expressions: 6, 8\n",
       "4. in\n",
       "   core type: Literal\n",
       "   sub-expressions: \n",
       "5. (j , Naturals)\n",
       "   core type: ExprTuple\n",
       "   sub-expressions: 7, 8\n",
       "6. i\n",
       "   core type: Variable\n",
       "   sub-expressions: \n",
       "7. j\n",
       "   core type: Variable\n",
       "   sub-expressions: \n",
       "8. Naturals\n",
       "   core type: Literal\n",
       "   sub-expressions: "
      ]
     },
     "execution_count": 5,
     "metadata": {},
     "output_type": "execute_result"
    }
   ],
   "source": [
    "# display the expression information\n",
    "expr.exprInfo()"
   ]
  },
  {
   "cell_type": "code",
   "execution_count": null,
   "metadata": {},
   "outputs": [],
   "source": []
  }
 ],
 "metadata": {
  "kernelspec": {
   "display_name": "Python 3",
   "language": "python",
   "name": "python3"
  },
  "language_info": {
   "codemirror_mode": {
    "name": "ipython",
    "version": 3
   },
   "file_extension": ".py",
   "mimetype": "text/x-python",
   "name": "python",
   "nbconvert_exporter": "python",
   "pygments_lexer": "ipython3",
   "version": "3.7.4"
  }
 },
 "nbformat": 4,
 "nbformat_minor": 1
}
