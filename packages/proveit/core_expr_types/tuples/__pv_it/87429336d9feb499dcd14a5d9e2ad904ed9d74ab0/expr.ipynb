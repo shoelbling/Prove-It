{
 "cells": [
  {
   "cell_type": "markdown",
   "metadata": {},
   "source": [
    "Expression of type <a class=\"ProveItLink\" href=\"../../../../../../doc/html/api/proveit.logic.And.html\">And</a>\n",
    "=======================\n",
    "# from context <a class=\"ProveItLink\" href=\"../../_context_.ipynb\">proveit.core_expr_types.tuples</a>"
   ]
  },
  {
   "cell_type": "code",
   "execution_count": 1,
   "metadata": {},
   "outputs": [],
   "source": [
    "import proveit\n",
    "# Automation is not needed when building an expression:\n",
    "proveit.defaults.automation = False # This will speed things up.\n",
    "# import Expression classes needed to build the expression\n",
    "from proveit import Variable\n",
    "from proveit.logic import And, InSet\n",
    "from proveit.number import Naturals"
   ]
  },
  {
   "cell_type": "code",
   "execution_count": 2,
   "metadata": {},
   "outputs": [
    {
     "data": {
      "text/html": [
       "<strong id=\"expr\">expr:</strong> <a class=\"ProveItLink\" href=\"expr.ipynb\"><img src=\"data:image/png;base64,iVBORw0KGgoAAAANSUhEUgAAAJgAAAAVBAMAAABIwjoUAAAAMFBMVEX////MzMxUVFREREQiIiK6\n",
       "uroQEBCYmJhmZmYyMjLu7u52dnaqqqqIiIjc3NwAAACFAiZ1AAAAAXRSTlMAQObYZgAAAAlwSFlz\n",
       "AAAOxAAADsQBlSsOGwAAAodJREFUOMuNlE1oE0EUx//7kWyy+QRFvIgRxINoWdEWKio55KBS2iBS\n",
       "KCItSBG8NOhFwY/cRNpi8CIUCUvNxVOiiF48BOpB6GWLN78YVJDeBKFgTr43s6GZzQc+2MzMe7/9\n",
       "75v3ZgJAYKiJ//B0Lcs/mXZ/oPFn0sebnfLVaGAA7M6cXENqaTEW0GJz0GfOxApwO/3vbsKdKEZ8\n",
       "VvsS0PTxhYRrg8QOi7fAArAWrt+FWRCcrEZYczpVQZwCPhKVQWLHvKQApXA7FLmgRoZz0WzNDdRh\n",
       "A06VJXvsY6kkMx27l62xWNxXpbpZliPD836ENX8F2yyGG5jr1Zr7FE7GzPxnFkuqvG3DU3F6XkdZ\n",
       "UxzKtFjsKZa5q8vfAtndbokwBs8qk1iqENa9LkeGn3xd0VlTWBhnsVckB8wKq8PupNgV2+9eJDFH\n",
       "taeOD3Ik2P3rN4XGmsKoNho0uYMpil9HQvY7iV0xp71B3UxLv1GALStFcLqDXKCxpsDd9ARN3mOR\n",
       "etSB3WL3vhKZp8Rw1CQx47fE88jIOjBcQ7OlsSRm+kdocpDjcQ9N2a3nPZlh3aWsYgu8ekHZF0Mx\n",
       "OmbzbY0lMbfA25zFM/CXHqim9YoZgdfdJh9ZWXWCcxU89jWWxHDAkts8S2JtTKa5nmovbCfo2SIx\n",
       "R26EFbd5QnCuTCXWWCtPqz00uUX9RDJwzqcQflnZFGR1kOBXnCB8hWGzYlV11uZdP6JnFZepHsdf\n",
       "ft+S/vVxdbz37njqItqcsMVOg6vO8OoKNNaYuabKimnY+d4rcOVUSbv4P/VrqMFRNlvk6znCHurL\n",
       "kTD/C5wbEc96Ecco+Id2YPrN8iOOUfBp/nplePx+X6rDYUfgH6hCnxYSNd8vAAAAAElFTkSuQmCC\n",
       "\" style=\"display:inline;vertical-align:middle;\" /></a><br>"
      ],
      "text/plain": [
       "expr: (a in Naturals) and (b in Naturals)"
      ]
     },
     "execution_count": 2,
     "metadata": {},
     "output_type": "execute_result"
    }
   ],
   "source": [
    "# build up the expression from sub-expressions\n",
    "expr = And(InSet(Variable(\"a\"), Naturals), InSet(Variable(\"b\"), Naturals))"
   ]
  },
  {
   "cell_type": "code",
   "execution_count": 3,
   "metadata": {},
   "outputs": [
    {
     "name": "stdout",
     "output_type": "stream",
     "text": [
      "Passed sanity check: built 'expr' is the same as the stored Expression.\n"
     ]
    }
   ],
   "source": [
    "# check that the built expression is the same as the stored expression\n",
    "%check_expr"
   ]
  },
  {
   "cell_type": "code",
   "execution_count": 4,
   "metadata": {},
   "outputs": [
    {
     "name": "stdout",
     "output_type": "stream",
     "text": [
      "\\left(a \\in \\mathbb{N}\\right) \\land \\left(b \\in \\mathbb{N}\\right)\n"
     ]
    }
   ],
   "source": [
    "# Show the LaTeX representation of the expression for convenience if you need it.\n",
    "print(expr.latex())"
   ]
  },
  {
   "cell_type": "code",
   "execution_count": 5,
   "metadata": {},
   "outputs": [
    {
     "data": {
      "text/html": [
       "<table><tr><th>&nbsp;</th><th>core type</th><th>sub-expressions</th><th>expression</th></tr>\n",
       "<tr><td>0</td><td>Operation</td><td>operator:&nbsp;1<br>operands:&nbsp;2<br></td><td><a class=\"ProveItLink\" href=\"expr.ipynb\"><img src=\"data:image/png;base64,iVBORw0KGgoAAAANSUhEUgAAAJgAAAAVBAMAAABIwjoUAAAAMFBMVEX////MzMxUVFREREQiIiK6\n",
       "uroQEBCYmJhmZmYyMjLu7u52dnaqqqqIiIjc3NwAAACFAiZ1AAAAAXRSTlMAQObYZgAAAAlwSFlz\n",
       "AAAOxAAADsQBlSsOGwAAAodJREFUOMuNlE1oE0EUx//7kWyy+QRFvIgRxINoWdEWKio55KBS2iBS\n",
       "KCItSBG8NOhFwY/cRNpi8CIUCUvNxVOiiF48BOpB6GWLN78YVJDeBKFgTr43s6GZzQc+2MzMe7/9\n",
       "75v3ZgJAYKiJ//B0Lcs/mXZ/oPFn0sebnfLVaGAA7M6cXENqaTEW0GJz0GfOxApwO/3vbsKdKEZ8\n",
       "VvsS0PTxhYRrg8QOi7fAArAWrt+FWRCcrEZYczpVQZwCPhKVQWLHvKQApXA7FLmgRoZz0WzNDdRh\n",
       "A06VJXvsY6kkMx27l62xWNxXpbpZliPD836ENX8F2yyGG5jr1Zr7FE7GzPxnFkuqvG3DU3F6XkdZ\n",
       "UxzKtFjsKZa5q8vfAtndbokwBs8qk1iqENa9LkeGn3xd0VlTWBhnsVckB8wKq8PupNgV2+9eJDFH\n",
       "taeOD3Ik2P3rN4XGmsKoNho0uYMpil9HQvY7iV0xp71B3UxLv1GALStFcLqDXKCxpsDd9ARN3mOR\n",
       "etSB3WL3vhKZp8Rw1CQx47fE88jIOjBcQ7OlsSRm+kdocpDjcQ9N2a3nPZlh3aWsYgu8ekHZF0Mx\n",
       "OmbzbY0lMbfA25zFM/CXHqim9YoZgdfdJh9ZWXWCcxU89jWWxHDAkts8S2JtTKa5nmovbCfo2SIx\n",
       "R26EFbd5QnCuTCXWWCtPqz00uUX9RDJwzqcQflnZFGR1kOBXnCB8hWGzYlV11uZdP6JnFZepHsdf\n",
       "ft+S/vVxdbz37njqItqcsMVOg6vO8OoKNNaYuabKimnY+d4rcOVUSbv4P/VrqMFRNlvk6znCHurL\n",
       "kTD/C5wbEc96Ecco+Id2YPrN8iOOUfBp/nplePx+X6rDYUfgH6hCnxYSNd8vAAAAAElFTkSuQmCC\n",
       "\" style=\"display:inline;vertical-align:middle;\" /></a></td></tr>\n",
       "<tr><td>1</td><td>Literal</td><td></td><td><a class=\"ProveItLink\" href=\"../../../../logic/boolean/conjunction/__pv_it/f41cc6b553210927c09f19a8a39cdf860a5585930/expr.ipynb\"><img src=\"data:image/png;base64,iVBORw0KGgoAAAANSUhEUgAAAAwAAAANBAMAAABvB5JxAAAALVBMVEX///9mZmbc3NxERETMzMy6\n",
       "urpUVFSYmJiIiIgyMjIiIiLu7u6qqqp2dnYAAACMfHT6AAAAAXRSTlMAQObYZgAAAAlwSFlzAAAO\n",
       "xAAADsQBlSsOGwAAAEpJREFUCNdjYGDgPcAAArsmgKn2VDC1wBlE8lzgVABSnAo8AkDKjYFhNZBK\n",
       "YWDoYGDgBirfBdHMeICBCyjONIGhAqTJhMEaRPkCACemC8GDBfsjAAAAAElFTkSuQmCC\n",
       "\" style=\"display:inline;vertical-align:middle;\" /></a></td></tr>\n",
       "<tr><td>2</td><td>ExprTuple</td><td>3, 4</td><td><a class=\"ProveItLink\" href=\"../82f65aa90f035a2281c7c1030ed4ada86452a24f0/expr.ipynb\"><img src=\"data:image/png;base64,iVBORw0KGgoAAAANSUhEUgAAAHoAAAAVBAMAAAB71edYAAAAMFBMVEX////MzMxUVFREREQiIiK6\n",
       "uroQEBCYmJhmZmYyMjLu7u52dnaqqqqIiIjc3NwAAACFAiZ1AAAAAXRSTlMAQObYZgAAAAlwSFlz\n",
       "AAAOxAAADsQBlSsOGwAAAgxJREFUOMudlE1I3EAUx/87iWaT/XChpfRSVBAPRZeUVsHSlj3soYjo\n",
       "IkUQDxZECr0Y8CRYutei0qWXgkgJdi897baIXgN6spdIb36UwR5KzwXBPflmssFMXHLwwSQv83+/\n",
       "ycybNwOA43aWF4+cd1Oo/x9zsXtR6UhZU483kVla7PLp42eniGddfbBaQfBoKSZq3jTQcHFKYq0T\n",
       "PcD3gNeBb1ZjIpvMOOgmwUXa6UQP2SZH+5898aWxfXyBDhhVMUbEfpXLci7Fd/laSM+7MZH99f8J\n",
       "Gm8xG4Vnj9tOkRVOQnonLjLen2sK+jPWRO7XfvtyDzbDYYqwtUqb/nS2roqMaxgR9A/igRmuyfya\n",
       "/Jq+b40HtHXpNrgiMp6q1uvkrGCC9DdIy0gT17Th7Qc5z7bQ4ysi41jNjpJzgEUg3YLeFN33ymR2\n",
       "QOMhC+h0DY2mIhLN3EFyegXdbaMhy+pr5N/Ytkrhds97iki01SdmPoMtiKHfy249Sqd8O9huBx9d\n",
       "RSQaDzQ58+dEexjLipzk/DDgEbUjG5agK5QXRdQK9HWHnGXKOkzfeJmR/VthwER7wVQdzNGqqqiL\n",
       "hXygtoFXlPPh7+dHsn97JKiruxe2PAH6OL021qGIqakFen6jNgm9EC22uSdl5dQcJon5kij1BGsm\n",
       "ieKAvUjQLT+J/qPs400zEq+mp2L2zi3vNYPjCmuQgS4Kk77DAAAAAElFTkSuQmCC\n",
       "\" style=\"display:inline;vertical-align:middle;\" /></a></td></tr>\n",
       "<tr><td>3</td><td>Operation</td><td>operator:&nbsp;6<br>operands:&nbsp;5<br></td><td><a class=\"ProveItLink\" href=\"../1f25c558fdc1163126d38e8ca48ed7dc0f188cf20/expr.ipynb\"><img src=\"data:image/png;base64,iVBORw0KGgoAAAANSUhEUgAAADMAAAAQBAMAAABJt1qBAAAAMFBMVEX////MzMxUVFQyMjKqqqoi\n",
       "IiKYmJju7u5EREQQEBC6urqIiIh2dnZmZmbc3NwAAAD0tjQRAAAAAXRSTlMAQObYZgAAAAlwSFlz\n",
       "AAAOxAAADsQBlSsOGwAAAN1JREFUGNNjYMAApT+aCxhO/lzAgAW0cCkwsH/HJsOg+uAYA8MErFIq\n",
       "DcwPGAJQhHaEhhqAaL1sPgNUqcXboQw9JoE9YCm+O/s2gAT4zGFq9BgaOBaApFY+4AC7Bmg+XEqW\n",
       "PRwoxT6NgRdsLjMDQorNwQPoQt7vDKwHQAKSoUDQAJFiUGcCSnE2MNSDPV6BpIuhiB1oUv0Bhnyw\n",
       "ACuyFOMGoP56B4ZmFpALuDfApBqBeCNQinkDWywPWMQEJhUCxLxAz7NrH3y0ESxS1FUApkV/AnWw\n",
       "G6AE1JrWUGQBANBBM51On+YaAAAAAElFTkSuQmCC\n",
       "\" style=\"display:inline;vertical-align:middle;\" /></a></td></tr>\n",
       "<tr><td>4</td><td>Operation</td><td>operator:&nbsp;6<br>operands:&nbsp;7<br></td><td><a class=\"ProveItLink\" href=\"../d6e542fbeab0a4a2f5f921a706f4ef120fb9d6720/expr.ipynb\"><img src=\"data:image/png;base64,iVBORw0KGgoAAAANSUhEUgAAADEAAAAQBAMAAABNQoq8AAAAMFBMVEX////MzMyYmJjc3NyIiIhU\n",
       "VFR2dna6urqqqqpmZmYyMjIiIiIQEBBERETu7u4AAACIO4EmAAAAAXRSTlMAQObYZgAAAAlwSFlz\n",
       "AAAOxAAADsQBlSsOGwAAAOZJREFUGNNjYEAHr//eesCQ86eAge/OBjSpG+wBDHz/gAyuCWgy0QZJ\n",
       "DAwHgAz+BjSZiAtcBgwgg+ofQEV8d+9eAKKDVZgXgGWyoRJVflBGMKuAG1hmqcsMEJ95Hcy0YIYL\n",
       "vAVAGb5fD94bgBxigJCR5NsHlOH4x8DvAJJhQMgwNfQC3ca5gOF9ApAvsxsILkBkGOJYD4C9Uw9y\n",
       "91skPQxP+YCm8SswzAe5mxtZhtEBqJu/gO8QiM/iAJO5CMSOQBlWBV5I8KyAyexgANvOwDdlBkTg\n",
       "6XVIYEj/AarnW4AcXmW3dyPzAfUfQbcKqkipAAAAAElFTkSuQmCC\n",
       "\" style=\"display:inline;vertical-align:middle;\" /></a></td></tr>\n",
       "<tr><td>5</td><td>ExprTuple</td><td>8, 10</td><td><a class=\"ProveItLink\" href=\"../9126d7abb0f4b80634b5a6f2eaead72da21bfeb00/expr.ipynb\"><img src=\"data:image/png;base64,iVBORw0KGgoAAAANSUhEUgAAAC8AAAAVBAMAAAAk6KpUAAAAMFBMVEX////MzMxUVFREREQiIiK6\n",
       "uroQEBCYmJhmZmYyMjLu7u52dnaqqqqIiIjc3NwAAACFAiZ1AAAAAXRSTlMAQObYZgAAAAlwSFlz\n",
       "AAAOxAAADsQBlSsOGwAAASxJREFUKM9l0b9Lw0AUB/BvmzRJrzV0cHDs4CQq51hQySjFIYMIDkIX\n",
       "cc3o4o/NoUs2QRyCuic62DXgpst1FuQQ/wBB6JDJdzHXXmng4N773L28vACQWHjK1FI+Szz+9hK8\n",
       "TMJjFbybR7cbXbCiPMxiE1blCBgAt4AXmbDOmxIBcAY4c2/dPPdjBU6Co3modz4UNCMMKfSHn6IC\n",
       "cCskaHVxQ+GhtAoNK6xP4MbYp8ZO4QUa3PyVumoHOKHGCtiZBqzVCWo/ChyONJzCPaPbjQHugDTD\n",
       "JaZQE7wstUOQo9eWTMEWrTGBy/FMTQt3r4VUzYZagUcbT+CAutp4+hrD7gPLE/4/PVvC7uivfjMm\n",
       "8E3VrnSQGXBNa7faMzHL+1QRD1XgGhesRGm0+M8vgD8EgEEYsWQXXQAAAABJRU5ErkJggg==\n",
       "\" style=\"display:inline;vertical-align:middle;\" /></a></td></tr>\n",
       "<tr><td>6</td><td>Literal</td><td></td><td><a class=\"ProveItLink\" href=\"../../../../logic/set_theory/membership/__pv_it/7776fc89cb67d0b5b1ec2c0c8e08da5587921ccf0/expr.ipynb\"><img src=\"data:image/png;base64,iVBORw0KGgoAAAANSUhEUgAAAAwAAAAMBAMAAACkW0HUAAAAKlBMVEX///92dnZUVFSqqqoQEBDM\n",
       "zMzc3Nzu7u66uroyMjIiIiJERESIiIgAAACm0meuAAAAAXRSTlMAQObYZgAAAAlwSFlzAAAOxAAA\n",
       "DsQBlSsOGwAAADxJREFUCNdjYGA4vWrVBAaGzuMMQMA2HUQycCZAKDDJELIKCDYwVEN4XBCK5wCE\n",
       "ngyhinYUgOnGXasmAABvGQ6ucz2C1gAAAABJRU5ErkJggg==\n",
       "\" style=\"display:inline;vertical-align:middle;\" /></a></td></tr>\n",
       "<tr><td>7</td><td>ExprTuple</td><td>9, 10</td><td><a class=\"ProveItLink\" href=\"../df316cf0d5025f24e82859c526c9b1c4cb97d95f0/expr.ipynb\"><img src=\"data:image/png;base64,iVBORw0KGgoAAAANSUhEUgAAAC0AAAAVBAMAAAAgHXppAAAAMFBMVEX////MzMxUVFREREQiIiK6\n",
       "uroQEBCYmJhmZmYyMjLu7u52dnaqqqqIiIjc3NwAAACFAiZ1AAAAAXRSTlMAQObYZgAAAAlwSFlz\n",
       "AAAOxAAADsQBlSsOGwAAATRJREFUGNNlkb9Lw0AYhp/+THPWtoODYwcnkRIXQVDpXBwyuDhIu4hr\n",
       "Rhelm4OKwUUQh6DuKUV0LbjpEmcRMvgHCELBTn6XXjTowcG9z92933vfATF/R0JmRz/69nM14H7s\n",
       "7mjxjFppm421UhM1SY4qH+y+4QvxA/TgEioe1FOrJceOkcv7UBbZDQxvHdR8zcsB2yLv0sKtfONV\n",
       "c9vjWOT524nhOAVX+EyTCyn9FYSx4fOqI9zy2YTqhHpkuDV6lDzVNrsSySccGM5iXnjuQ3OJ3x2l\n",
       "/FqJT6nHlcT3OAtSnoucxGdduKv2UJovy3wRbjkMIe8V+oTSDx1CV6MSsSU5TyV+sQNzY2fasGJM\n",
       "sWHe+pT5gHexSns5yPAjmRvTpYp+cU3suJmurczxgk5d8/797yF8AxLLQ4zOYK8IAAAAAElFTkSu\n",
       "QmCC\n",
       "\" style=\"display:inline;vertical-align:middle;\" /></a></td></tr>\n",
       "<tr><td>8</td><td>Variable</td><td></td><td><a class=\"ProveItLink\" href=\"../a8d4b3a34d2189508f9082853fbac36935714f280/expr.ipynb\"><img src=\"data:image/png;base64,iVBORw0KGgoAAAANSUhEUgAAAAsAAAAJBAMAAAAWSsseAAAAMFBMVEX////MzMxUVFQyMjKqqqoi\n",
       "IiKYmJju7u5EREQQEBC6urqIiIh2dnZmZmbc3NwAAAD0tjQRAAAAAXRSTlMAQObYZgAAAAlwSFlz\n",
       "AAAOxAAADsQBlSsOGwAAAEdJREFUCNdjYOC7s28DAwPDygcc3xkY2Kcx8AYwMPB+Z2A9wMDA2cBQ\n",
       "v4CBof4AQz5QRb0DQzPLAwbmDWyxPECV2gcfbWQAABp5EMgcedARAAAAAElFTkSuQmCC\n",
       "\" style=\"display:inline;vertical-align:middle;\" /></a></td></tr>\n",
       "<tr><td>9</td><td>Variable</td><td></td><td><a class=\"ProveItLink\" href=\"../53e304ff98ebc000dbe3ef224f4637dbafd46ba70/expr.ipynb\"><img src=\"data:image/png;base64,iVBORw0KGgoAAAANSUhEUgAAAAkAAAAOBAMAAAAPuiubAAAALVBMVEX///+YmJjc3NyIiIhUVFR2\n",
       "dna6urqqqqpmZmYyMjIiIiIQEBBERETu7u4AAAALjtrwAAAAAXRSTlMAQObYZgAAAAlwSFlzAAAO\n",
       "xAAADsQBlSsOGwAAAE5JREFUCNdj4D29gAEIOBtAJF8BiMy7ACKjQATDFON2BgbelxfuKTCwv2Xg\n",
       "M2DgmMBwLwCkPK+AgU+Aoe8CA18C70YGBhYBHqARvM1A5QCqGhDobJhHyAAAAABJRU5ErkJggg==\n",
       "\" style=\"display:inline;vertical-align:middle;\" /></a></td></tr>\n",
       "<tr><td>10</td><td>Literal</td><td></td><td><a class=\"ProveItLink\" href=\"../../../../number/sets/integer/__pv_it/b49c37b99b7e8d73a8d7971bcf454d693b90a2c60/expr.ipynb\"><img src=\"data:image/png;base64,iVBORw0KGgoAAAANSUhEUgAAAA8AAAAPBAMAAADJ+Ih5AAAAMFBMVEX///9mZmbMzMyIiIiYmJjc\n",
       "3NxUVFSqqqq6uroQEBB2dnYyMjJEREQiIiLu7u4AAAAPqInnAAAAAXRSTlMAQObYZgAAAAlwSFlz\n",
       "AAAOxAAADsQBlSsOGwAAAGpJREFUCNdjePvn9AOGlT8bGBiOcyQw8P1jYGDIDVjCwDAByEg/wB3A\n",
       "cAHISHVm3QBhsClYQRgMB3gaIAxFvnsQBktBzQQwgyGPDcp4xgeRYmAyOABkHAJiIxDjOhAzbmBg\n",
       "0P0J5PFtYAAA6AAhaNFZV/8AAAAASUVORK5CYII=\n",
       "\" style=\"display:inline;vertical-align:middle;\" /></a></td></tr>\n",
       "</table>\n"
      ],
      "text/plain": [
       "0. (a in Naturals) and (b in Naturals)\n",
       "   core type: Operation\n",
       "   operator: 1\n",
       "   operands: 2\n",
       "1. and\n",
       "   core type: Literal\n",
       "   sub-expressions: \n",
       "2. (a in Naturals , b in Naturals)\n",
       "   core type: ExprTuple\n",
       "   sub-expressions: 3, 4\n",
       "3. a in Naturals\n",
       "   core type: Operation\n",
       "   operator: 6\n",
       "   operands: 5\n",
       "4. b in Naturals\n",
       "   core type: Operation\n",
       "   operator: 6\n",
       "   operands: 7\n",
       "5. (a , Naturals)\n",
       "   core type: ExprTuple\n",
       "   sub-expressions: 8, 10\n",
       "6. in\n",
       "   core type: Literal\n",
       "   sub-expressions: \n",
       "7. (b , Naturals)\n",
       "   core type: ExprTuple\n",
       "   sub-expressions: 9, 10\n",
       "8. a\n",
       "   core type: Variable\n",
       "   sub-expressions: \n",
       "9. b\n",
       "   core type: Variable\n",
       "   sub-expressions: \n",
       "10. Naturals\n",
       "    core type: Literal\n",
       "    sub-expressions: "
      ]
     },
     "execution_count": 5,
     "metadata": {},
     "output_type": "execute_result"
    }
   ],
   "source": [
    "# display the expression information\n",
    "expr.exprInfo()"
   ]
  },
  {
   "cell_type": "code",
   "execution_count": null,
   "metadata": {},
   "outputs": [],
   "source": []
  }
 ],
 "metadata": {
  "kernelspec": {
   "display_name": "Python 3",
   "language": "python",
   "name": "python3"
  },
  "language_info": {
   "codemirror_mode": {
    "name": "ipython",
    "version": 3
   },
   "file_extension": ".py",
   "mimetype": "text/x-python",
   "name": "python",
   "nbconvert_exporter": "python",
   "pygments_lexer": "ipython3",
   "version": "3.7.4"
  }
 },
 "nbformat": 4,
 "nbformat_minor": 1
}
