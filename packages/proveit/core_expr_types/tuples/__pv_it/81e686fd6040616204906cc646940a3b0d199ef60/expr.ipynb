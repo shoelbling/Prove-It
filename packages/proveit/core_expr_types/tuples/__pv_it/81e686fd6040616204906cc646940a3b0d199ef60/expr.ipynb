{
 "cells": [
  {
   "cell_type": "markdown",
   "metadata": {},
   "source": [
    "Expression of type <a class=\"ProveItLink\" href=\"../../../../../../doc/html/api/proveit.logic.InSet.html\">InSet</a>\n",
    "=======================\n",
    "# from context <a class=\"ProveItLink\" href=\"../../_context_.ipynb\">proveit.core_expr_types.tuples</a>"
   ]
  },
  {
   "cell_type": "code",
   "execution_count": 1,
   "metadata": {},
   "outputs": [],
   "source": [
    "import proveit\n",
    "# Automation is not needed when building an expression:\n",
    "proveit.defaults.automation = False # This will speed things up.\n",
    "# import Expression classes needed to build the expression\n",
    "from proveit._common_ import j, k\n",
    "from proveit.logic import InSet\n",
    "from proveit.number import Add, Naturals, Neg, one"
   ]
  },
  {
   "cell_type": "code",
   "execution_count": 2,
   "metadata": {},
   "outputs": [
    {
     "data": {
      "text/html": [
       "<strong id=\"expr\">expr:</strong> <a class=\"ProveItLink\" href=\"../b10ccdb6808fc6ac1d30a9d8cf837cc1e1a3758f0/expr.ipynb\"><img src=\"data:image/png;base64,iVBORw0KGgoAAAANSUhEUgAAAIkAAAAVBAMAAACArtDCAAAAMFBMVEX////MzMxUVFREREQiIiK6\n",
       "uroQEBCYmJhmZmYyMjLu7u52dnaqqqqIiIjc3NwAAACFAiZ1AAAAAXRSTlMAQObYZgAAAAlwSFlz\n",
       "AAAOxAAADsQBlSsOGwAAAeJJREFUOMtjYGB4wEAs4MMtxXuAaFNYL6AJLPlsuYBh27cABobTDAyL\n",
       "UzB1MFqhCYgsYGC4g67KhlWBgesXAwPXBCBnBhYnTkDhcmnMB5rCuQBNlcqD7QwMCQwMHAVAzh88\n",
       "viiAMu4DTWBvQJPVMeB8wODAwMAGUvkLtyk8F5BMYciCci67uIDdqlfLNwFkSiSQzZ1ArCnTIezI\n",
       "W1BBPSaB2yBTuoFsTgWeG2g+XnsZqymbIDE+C6ZMj8GAOcABYvr6gjPPClBNaWArwGZKJZjJ+QBh\n",
       "igSXF9AUHyD7/NMDkqhpj/0B/wFsphyBmMKAMIX9wGFgeKQC2W2FkNic4gICAmDOeZAmDhcXtxQX\n",
       "FwW4KfJgOTGQMgOIKQxaTFBTPLsFMEK1BWu4hIGZi5HcwrCIC+ijOUA3fGX9iGGKNwNuH7Egm8J4\n",
       "AegqW2AgfOD6w4ue8b5iNaUYkq7h+ckQiC8agOOOyYDrIzeaKewfsJrSC2HPgSkDxQ0HMP2FMDAw\n",
       "H2C4cQvNFCYDNFOU852ALD8IZ5EpJHmJfDOA5EQWAaxJlu0CulvA/nSAMqJNXFByK0YGA7vkQP0C\n",
       "9NwIAhwFuDKKHRYx+QM+WNU+xpndFmMR47gRgFWtFe7CtIDoEpMdVxENAD0Pfj95c8XVAAAAAElF\n",
       "TkSuQmCC\n",
       "\" style=\"display:inline;vertical-align:middle;\" /></a><br>"
      ],
      "text/plain": [
       "expr: (k - j + 1) in Naturals"
      ]
     },
     "execution_count": 2,
     "metadata": {},
     "output_type": "execute_result"
    }
   ],
   "source": [
    "# build up the expression from sub-expressions\n",
    "expr = InSet(Add(k, Neg(j), one), Naturals)"
   ]
  },
  {
   "cell_type": "code",
   "execution_count": 3,
   "metadata": {},
   "outputs": [
    {
     "name": "stdout",
     "output_type": "stream",
     "text": [
      "Passed sanity check: built 'expr' is the same as the stored Expression.\n"
     ]
    }
   ],
   "source": [
    "# check that the built expression is the same as the stored expression\n",
    "%check_expr"
   ]
  },
  {
   "cell_type": "code",
   "execution_count": 4,
   "metadata": {},
   "outputs": [
    {
     "name": "stdout",
     "output_type": "stream",
     "text": [
      "\\left(k - j + 1\\right) \\in \\mathbb{N}\n"
     ]
    }
   ],
   "source": [
    "# Show the LaTeX representation of the expression for convenience if you need it.\n",
    "print(expr.latex())"
   ]
  },
  {
   "cell_type": "code",
   "execution_count": 5,
   "metadata": {},
   "outputs": [
    {
     "data": {
      "text/html": [
       "<table><tr><th>&nbsp;</th><th>core type</th><th>sub-expressions</th><th>expression</th></tr>\n",
       "<tr><td>0</td><td>Operation</td><td>operator:&nbsp;1<br>operands:&nbsp;2<br></td><td><a class=\"ProveItLink\" href=\"../b10ccdb6808fc6ac1d30a9d8cf837cc1e1a3758f0/expr.ipynb\"><img src=\"data:image/png;base64,iVBORw0KGgoAAAANSUhEUgAAAIkAAAAVBAMAAACArtDCAAAAMFBMVEX////MzMxUVFREREQiIiK6\n",
       "uroQEBCYmJhmZmYyMjLu7u52dnaqqqqIiIjc3NwAAACFAiZ1AAAAAXRSTlMAQObYZgAAAAlwSFlz\n",
       "AAAOxAAADsQBlSsOGwAAAeJJREFUOMtjYGB4wEAs4MMtxXuAaFNYL6AJLPlsuYBh27cABobTDAyL\n",
       "UzB1MFqhCYgsYGC4g67KhlWBgesXAwPXBCBnBhYnTkDhcmnMB5rCuQBNlcqD7QwMCQwMHAVAzh88\n",
       "viiAMu4DTWBvQJPVMeB8wODAwMAGUvkLtyk8F5BMYciCci67uIDdqlfLNwFkSiSQzZ1ArCnTIezI\n",
       "W1BBPSaB2yBTuoFsTgWeG2g+XnsZqymbIDE+C6ZMj8GAOcABYvr6gjPPClBNaWArwGZKJZjJ+QBh\n",
       "igSXF9AUHyD7/NMDkqhpj/0B/wFsphyBmMKAMIX9wGFgeKQC2W2FkNic4gICAmDOeZAmDhcXtxQX\n",
       "FwW4KfJgOTGQMgOIKQxaTFBTPLsFMEK1BWu4hIGZi5HcwrCIC+ijOUA3fGX9iGGKNwNuH7Egm8J4\n",
       "AegqW2AgfOD6w4ue8b5iNaUYkq7h+ckQiC8agOOOyYDrIzeaKewfsJrSC2HPgSkDxQ0HMP2FMDAw\n",
       "H2C4cQvNFCYDNFOU852ALD8IZ5EpJHmJfDOA5EQWAaxJlu0CulvA/nSAMqJNXFByK0YGA7vkQP0C\n",
       "9NwIAhwFuDKKHRYx+QM+WNU+xpndFmMR47gRgFWtFe7CtIDoEpMdVxENAD0Pfj95c8XVAAAAAElF\n",
       "TkSuQmCC\n",
       "\" style=\"display:inline;vertical-align:middle;\" /></a></td></tr>\n",
       "<tr><td>1</td><td>Literal</td><td></td><td><a class=\"ProveItLink\" href=\"../../../../logic/set_theory/membership/__pv_it/7776fc89cb67d0b5b1ec2c0c8e08da5587921ccf0/expr.ipynb\"><img src=\"data:image/png;base64,iVBORw0KGgoAAAANSUhEUgAAAAwAAAAMBAMAAACkW0HUAAAAKlBMVEX///92dnZUVFSqqqoQEBDM\n",
       "zMzc3Nzu7u66uroyMjIiIiJERESIiIgAAACm0meuAAAAAXRSTlMAQObYZgAAAAlwSFlzAAAOxAAA\n",
       "DsQBlSsOGwAAADxJREFUCNdjYGA4vWrVBAaGzuMMQMA2HUQycCZAKDDJELIKCDYwVEN4XBCK5wCE\n",
       "ngyhinYUgOnGXasmAABvGQ6ucz2C1gAAAABJRU5ErkJggg==\n",
       "\" style=\"display:inline;vertical-align:middle;\" /></a></td></tr>\n",
       "<tr><td>2</td><td>ExprTuple</td><td>3, 4</td><td><a class=\"ProveItLink\" href=\"../b1918b60ed81ba3767458872c3590cfc8620b01a0/expr.ipynb\"><img src=\"data:image/png;base64,iVBORw0KGgoAAAANSUhEUgAAAHcAAAAVBAMAAACOK2zoAAAAMFBMVEX////MzMxUVFREREQiIiK6\n",
       "uroQEBCYmJhmZmYyMjLu7u52dnaqqqqIiIjc3NwAAACFAiZ1AAAAAXRSTlMAQObYZgAAAAlwSFlz\n",
       "AAAOxAAADsQBlSsOGwAAAbBJREFUOMud1D1Iw0AYBuC36U/S9McOHXSyoIOISBwVlSpBUDt0cHEQ\n",
       "OtTZuLn4M4gOLt0UEQzWxaEIDroGHBUacSk6mEGdW6QFSwe/SxWaayLoQeDecA/33fElACz8a9gs\n",
       "ZvwNnX+M67huZFdYuAOK+e41vgnuRVL/nkwGU5Cb9qZygfJRN44VHFEeOv3Bg9YNkAOOAUmj3PKu\n",
       "Mqh9T15+8IgStpAGNoAQW9D0xlGTx6Ob8QLDIR3LFCO5P2Eh8cxwWMMBxXAqWtGdpvTojaH4s4Qj\n",
       "KRxSvNTu3zUn3glp3rhXXiAsFpChWH4z+pytIlo9hjcWjVs6aDSNVYp76+3XFyobM/a8zNZKqjqX\n",
       "V9UUhzEsEPZVbTx/kOi6qN1fzowzmcoO5nBCDVAP1rrw4m/YZyp22VN0wKrcinE2XnfDth+j54Gw\n",
       "qOAKEBS5FuGwWHXB8iebsCuWqHklE0uA30DlicOCwuGBtVkTKm2dbCjtLyJgIZBwbayQye9sh85W\n",
       "eqX6dlyoYGzr/IfBhuNw+/RMu+B+I+NaT6nzStnBii6LpErWFXdW4We1xbX//cO2gC8eXHhGLLH0\n",
       "TQAAAABJRU5ErkJggg==\n",
       "\" style=\"display:inline;vertical-align:middle;\" /></a></td></tr>\n",
       "<tr><td>3</td><td>Operation</td><td>operator:&nbsp;5<br>operands:&nbsp;6<br></td><td><a class=\"ProveItLink\" href=\"../../../__pv_it/06ef701d63e94afc3fa2a77fa880da2d70b6eeeb0/expr.ipynb\"><img src=\"data:image/png;base64,iVBORw0KGgoAAAANSUhEUgAAAE8AAAASBAMAAADoCp6cAAAAMFBMVEX////MzMzc3NyYmJiIiIhU\n",
       "VFR2dna6urqqqqpmZmYyMjIiIiIQEBBERETu7u4AAADM1VnsAAAAAXRSTlMAQObYZgAAAAlwSFlz\n",
       "AAAOxAAADsQBlSsOGwAAANBJREFUKM9j4LuzgQEdMN5DE5B+ACS4JmAoZFmAwuWLXA9SyN/AgAuw\n",
       "G0AZ/iCF9Q9wKuRwQFaYw0CkwqUMLfNQ5Z/4YlPI95mj6TCqwgk8BlgUcnyqYFyEoo5ZAeY/FIWc\n",
       "hwXA7Fe7QWAjmN0PchLn7t17Tu/eHQBTyL0yEcMTs7G58X1BvQC6wm3YFNozvG9wQFXH9B2bwliG\n",
       "9wIJqAqZP2BTeIOBZQpa3LBeQFMYe36rA7YI4XFANxErYG2wf4CeKLAC+YYdDEQBTs8CbMIAk7ZB\n",
       "+TyUGRAAAAAASUVORK5CYII=\n",
       "\" style=\"display:inline;vertical-align:middle;\" /></a></td></tr>\n",
       "<tr><td>4</td><td>Literal</td><td></td><td><a class=\"ProveItLink\" href=\"../../../../number/sets/integer/__pv_it/b49c37b99b7e8d73a8d7971bcf454d693b90a2c60/expr.ipynb\"><img src=\"data:image/png;base64,iVBORw0KGgoAAAANSUhEUgAAAA8AAAAPBAMAAADJ+Ih5AAAAMFBMVEX///9mZmbMzMyIiIiYmJjc\n",
       "3NxUVFSqqqq6uroQEBB2dnYyMjJEREQiIiLu7u4AAAAPqInnAAAAAXRSTlMAQObYZgAAAAlwSFlz\n",
       "AAAOxAAADsQBlSsOGwAAAGpJREFUCNdjePvn9AOGlT8bGBiOcyQw8P1jYGDIDVjCwDAByEg/wB3A\n",
       "cAHISHVm3QBhsClYQRgMB3gaIAxFvnsQBktBzQQwgyGPDcp4xgeRYmAyOABkHAJiIxDjOhAzbmBg\n",
       "0P0J5PFtYAAA6AAhaNFZV/8AAAAASUVORK5CYII=\n",
       "\" style=\"display:inline;vertical-align:middle;\" /></a></td></tr>\n",
       "<tr><td>5</td><td>Literal</td><td></td><td><a class=\"ProveItLink\" href=\"../../../../number/addition/__pv_it/65ad7e8aee19b10110d590375ba95a879c4fb7ea0/expr.ipynb\"><img src=\"data:image/png;base64,iVBORw0KGgoAAAANSUhEUgAAAA4AAAAOBAMAAADtZjDiAAAAHlBMVEX///9UVFQQEBAiIiJmZmaI\n",
       "iIiqqqqYmJi6uroAAAAAFVhYAAAAAXRSTlMAQObYZgAAAAlwSFlzAAAOxAAADsQBlSsOGwAAAB9J\n",
       "REFUCNdjYGBgaGeAgFRiaGdjYyVjY0Oi1SPRIHsAgDEGyG9xCpgAAAAASUVORK5CYII=\n",
       "\" style=\"display:inline;vertical-align:middle;\" /></a></td></tr>\n",
       "<tr><td>6</td><td>ExprTuple</td><td>7, 8, 9</td><td><a class=\"ProveItLink\" href=\"../../../__pv_it/e54e0e1fa60077f679f277d7f5fc9c8dcdb77fc10/expr.ipynb\"><img src=\"data:image/png;base64,iVBORw0KGgoAAAANSUhEUgAAAE0AAAAVBAMAAADx+n4ZAAAAMFBMVEX////MzMxUVFREREQiIiK6\n",
       "uroQEBCYmJhmZmYyMjLu7u52dnaqqqqIiIjc3NwAAACFAiZ1AAAAAXRSTlMAQObYZgAAAAlwSFlz\n",
       "AAAOxAAADsQBlSsOGwAAAUFJREFUKM9jYGB4wEAIgFXwHiCoLhZEnGZgWJyCKcdoBaW9IEZxTQBy\n",
       "ZmCq450AphZ1/gKSsxgYOAqA9B/cdvKC1FUwMLABKdZfBNSxLWCIBFLcCQTUcRYwdIMoBZ4bC1Cl\n",
       "115GVsetwDAdSK0vOPOsAFVdA1sBkjr2CQw+QOr80wOSqKHN/oD/AJI6HgeGVCDVVgiTX+kCAo4g\n",
       "vQuQ1DF+AKvz7BbAcH8LsvtYExjmAIP6K+tHDHXeDKj22gId84HrDy8DA4qP+b5CBSD+MGDYxMDA\n",
       "ZMD1kZuB6yeKRz5ABcDqOC4whDAwMB9guHGLgcEF2UAmA4gAk9kXXQYGlgcMLHAv8CCrY7uALPAE\n",
       "aEEDjMONZNqB+gXIAu1AbAePKoQ6+QM+yAJ8QEcwLIbxkGKO40YAsgAzyAF8BQTTfR0DAwBwqVQU\n",
       "/ws+MQAAAABJRU5ErkJggg==\n",
       "\" style=\"display:inline;vertical-align:middle;\" /></a></td></tr>\n",
       "<tr><td>7</td><td>Variable</td><td></td><td><a class=\"ProveItLink\" href=\"../../../../__pv_it/273f49450ca25e1b56abbd98a7aef618f8f6c1360/expr.ipynb\"><img src=\"data:image/png;base64,iVBORw0KGgoAAAANSUhEUgAAAAoAAAAOBAMAAADkjZCYAAAAMFBMVEX////MzMzc3NyYmJiIiIhU\n",
       "VFR2dna6urqqqqpmZmYyMjIiIiIQEBBERETu7u4AAADM1VnsAAAAAXRSTlMAQObYZgAAAAlwSFlz\n",
       "AAAOxAAADsQBlSsOGwAAAE9JREFUCNdj4LuzgQEIuCaASP4GEFn/AETmgAiGpQwt8xj4PnM0HWbg\n",
       "+FTBuIiB87AAUJh7ZSKQfF9QD+TYM7xvcGCIZXgvkMBwg4FlygMA76IUkutkA5UAAAAASUVORK5C\n",
       "YII=\n",
       "\" style=\"display:inline;vertical-align:middle;\" /></a></td></tr>\n",
       "<tr><td>8</td><td>Operation</td><td>operator:&nbsp;10<br>operand:&nbsp;11<br></td><td><a class=\"ProveItLink\" href=\"../../../__pv_it/67082f1e9bc7222aefbd632c8543cd4e7f208d690/expr.ipynb\"><img src=\"data:image/png;base64,iVBORw0KGgoAAAANSUhEUgAAABgAAAASBAMAAACzwgOtAAAAMFBMVEX///9UVFS6urp2dnaqqqrc\n",
       "3NyYmJgQEBBmZmaIiIhERETMzMwiIiIyMjLu7u4AAAA5KYoZAAAAAXRSTlMAQObYZgAAAAlwSFlz\n",
       "AAAOxAAADsQBlSsOGwAAAFNJREFUCNdjYIAD7nUINgPnBQZSwctZSJwG9gQ4my2A34Hh7RkQOA3k\n",
       "+j9AUteDbMJhJDbrJyQO2wckDuMCJA77BIS4Qz7C5P0ORxCKOGYoMDAAAAwPFAzA0IWkAAAAAElF\n",
       "TkSuQmCC\n",
       "\" style=\"display:inline;vertical-align:middle;\" /></a></td></tr>\n",
       "<tr><td>9</td><td>Literal</td><td></td><td><a class=\"ProveItLink\" href=\"../../../../number/numeral/__pv_it/f086f8c372bd40a2458306ddfdbb29f3dc6f63030/expr.ipynb\"><img src=\"data:image/png;base64,iVBORw0KGgoAAAANSUhEUgAAAAgAAAAOBAMAAADgeEClAAAAIVBMVEX///8QEBBERESIiIgyMjJm\n",
       "ZmZUVFTu7u4iIiLMzMwAAAAWRytzAAAAAXRSTlMAQObYZgAAAAlwSFlzAAAOxAAADsQBlSsOGwAA\n",
       "ABtJREFUCNdjYOBsZ2AoC1nOwMDATBbBprgiGQBsuwqCZsDj4wAAAABJRU5ErkJggg==\n",
       "\" style=\"display:inline;vertical-align:middle;\" /></a></td></tr>\n",
       "<tr><td>10</td><td>Literal</td><td></td><td><a class=\"ProveItLink\" href=\"../../../../number/negation/__pv_it/2867787e35502987d81a45cac8e7f1c6996d6ff40/expr.ipynb\"><img src=\"data:image/png;base64,iVBORw0KGgoAAAANSUhEUgAAAA4AAAABBAMAAAAcMII3AAAAElBMVEX////MzMwiIiIyMjLu7u4A\n",
       "AADe/Ps1AAAAAXRSTlMAQObYZgAAAAlwSFlzAAAOxAAADsQBlSsOGwAAAA1JREFUCNdjcFYCAUUA\n",
       "BKYBD24TAeoAAAAASUVORK5CYII=\n",
       "\" style=\"display:inline;vertical-align:middle;\" /></a></td></tr>\n",
       "<tr><td>11</td><td>Variable</td><td></td><td><a class=\"ProveItLink\" href=\"../../../../__pv_it/6a5b5879f51878868f626bf09e4d76392d4779cd0/expr.ipynb\"><img src=\"data:image/png;base64,iVBORw0KGgoAAAANSUhEUgAAAAoAAAASBAMAAACQmVJ4AAAAMFBMVEX///9UVFS6urp2dnYiIiKq\n",
       "qqrc3NyYmJgQEBBmZmYyMjKIiIju7u5ERETMzMwAAAC4hZuzAAAAAXRSTlMAQObYZgAAAAlwSFlz\n",
       "AAAOxAAADsQBlSsOGwAAAEtJREFUCNdjYGBg4LsDJBi4FzBgA6f3gsgJHAUMDOwJ/AEgTvwBEDkF\n",
       "LO0MItg+gUj2DyCS8QKI5NgAZAXUAxW+D3AF8jl3KjAwAACAGg5QwkhbIAAAAABJRU5ErkJggg==\n",
       "\" style=\"display:inline;vertical-align:middle;\" /></a></td></tr>\n",
       "</table>\n"
      ],
      "text/plain": [
       "0. (k - j + 1) in Naturals\n",
       "   core type: Operation\n",
       "   operator: 1\n",
       "   operands: 2\n",
       "1. in\n",
       "   core type: Literal\n",
       "   sub-expressions: \n",
       "2. (k - j + 1 , Naturals)\n",
       "   core type: ExprTuple\n",
       "   sub-expressions: 3, 4\n",
       "3. k - j + 1\n",
       "   core type: Operation\n",
       "   operator: 5\n",
       "   operands: 6\n",
       "4. Naturals\n",
       "   core type: Literal\n",
       "   sub-expressions: \n",
       "5. +\n",
       "   core type: Literal\n",
       "   sub-expressions: \n",
       "6. (k , -j , 1)\n",
       "   core type: ExprTuple\n",
       "   sub-expressions: 7, 8, 9\n",
       "7. k\n",
       "   core type: Variable\n",
       "   sub-expressions: \n",
       "8. -j\n",
       "   core type: Operation\n",
       "   operator: 10\n",
       "   operand: 11\n",
       "9. 1\n",
       "   core type: Literal\n",
       "   sub-expressions: \n",
       "10. -\n",
       "    core type: Literal\n",
       "    sub-expressions: \n",
       "11. j\n",
       "    core type: Variable\n",
       "    sub-expressions: "
      ]
     },
     "execution_count": 5,
     "metadata": {},
     "output_type": "execute_result"
    }
   ],
   "source": [
    "# display the expression information\n",
    "expr.exprInfo()"
   ]
  },
  {
   "cell_type": "code",
   "execution_count": null,
   "metadata": {},
   "outputs": [],
   "source": []
  }
 ],
 "metadata": {
  "kernelspec": {
   "display_name": "Python 3",
   "language": "python",
   "name": "python3"
  },
  "language_info": {
   "codemirror_mode": {
    "name": "ipython",
    "version": 3
   },
   "file_extension": ".py",
   "mimetype": "text/x-python",
   "name": "python",
   "nbconvert_exporter": "python",
   "pygments_lexer": "ipython3",
   "version": "3.7.4"
  }
 },
 "nbformat": 4,
 "nbformat_minor": 1
}
