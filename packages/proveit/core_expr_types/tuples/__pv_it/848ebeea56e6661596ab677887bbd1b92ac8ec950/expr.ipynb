{
 "cells": [
  {
   "cell_type": "markdown",
   "metadata": {},
   "source": [
    "Expression of type <a class=\"ProveItLink\" href=\"../../../../../../doc/html/api/proveit.logic.Equals.html\">Equals</a>\n",
    "=======================\n",
    "# from context <a class=\"ProveItLink\" href=\"../../_context_.ipynb\">proveit.core_expr_types.tuples</a>"
   ]
  },
  {
   "cell_type": "code",
   "execution_count": 1,
   "metadata": {},
   "outputs": [],
   "source": [
    "import proveit\n",
    "# Automation is not needed when building an expression:\n",
    "proveit.defaults.automation = False # This will speed things up.\n",
    "# import Expression classes needed to build the expression\n",
    "from proveit import ExprRange, Len, Variable\n",
    "from proveit.logic import Equals\n",
    "from proveit.number import one, zero"
   ]
  },
  {
   "cell_type": "code",
   "execution_count": 2,
   "metadata": {},
   "outputs": [
    {
     "data": {
      "text/html": [
       "<strong id=\"expr\">expr:</strong> <a class=\"ProveItLink\" href=\"expr.ipynb\"><img src=\"data:image/png;base64,iVBORw0KGgoAAAANSUhEUgAAAJkAAAAVBAMAAACnAFEqAAAAMFBMVEX///9UVFREREQiIiIQEBCY\n",
       "mJhmZmYyMjLu7u6qqqrMzMyIiIi6urp2dnbc3NwAAABm9RoHAAAAAXRSTlMAQObYZgAAAAlwSFlz\n",
       "AAAOxAAADsQBlSsOGwAAActJREFUOMud1DtLA0EQB/C/uTw2moT0NlEsBEECgqhFsBSxOFRipzYh\n",
       "hQhpBO1OGwsLD2xsJPkGno1gqoCChUUSWxWCYi8IaiO4c4/NxXMu4Bab2cndLzvZBzqQrZOxe/xq\n",
       "TiKDvk09+Cg/hsyUBSfsaU7iqr92Z/fphv3GmfPK31qyBQzO8NLTZUdOp6uJCpAwOO0Q2C9/sVjC\n",
       "FAVgt6vFdSC2yWkl+it4bQW4B4pdLUrhAqfNh2sjQNVA1FDaLWV3GC1VCdc+gKaJhK60bcq2GS3e\n",
       "CtUEaTrSWaXtUHrN1eJTdst6mv2rvJb5Bs4txCpKm6X0CTM3zeyvtZDMK22J0ueMFm2EVyq1poXB\n",
       "t17t5n8arULVRGpeaXv+SgP/W3ilGAU2DH+lE5RdZuYWsVxNBCXaZKtAWW7+nNLa9M0Wo9lrT9ox\n",
       "LRt14tMfaKZYlBVZSrumNwvc7pU1DIy9D0Ojk6/JA4hpL5iSkxMPFzU57ChNk8NMnjtZc97oNFBp\n",
       "0vCil+45pRNPJ/9vreiNWgEtraKS736bBJ7Z+y3iXsnCCmhHag/nfNoBMM5qIucMYsE11b0gYrha\n",
       "nWg9RhOo/37aSbz2v8nX7X6o9gPqXKN4tSyaggAAAABJRU5ErkJggg==\n",
       "\" style=\"display:inline;vertical-align:middle;\" /></a><br>"
      ],
      "text/plain": [
       "expr: |()| = |(1 ,  ...  , 0)|"
      ]
     },
     "execution_count": 2,
     "metadata": {},
     "output_type": "execute_result"
    }
   ],
   "source": [
    "# build up the expression from sub-expressions\n",
    "expr = Equals(Len([]), Len([ExprRange(Variable(\"k\"), Variable(\"k\"), one, zero)]))"
   ]
  },
  {
   "cell_type": "code",
   "execution_count": 3,
   "metadata": {},
   "outputs": [
    {
     "name": "stdout",
     "output_type": "stream",
     "text": [
      "Passed sanity check: built 'expr' is the same as the stored Expression.\n"
     ]
    }
   ],
   "source": [
    "# check that the built expression is the same as the stored expression\n",
    "%check_expr"
   ]
  },
  {
   "cell_type": "code",
   "execution_count": 4,
   "metadata": {},
   "outputs": [
    {
     "name": "stdout",
     "output_type": "stream",
     "text": [
      "|()| = |\\left(1 , \\ldots , 0\\right)|\n"
     ]
    }
   ],
   "source": [
    "# Show the LaTeX representation of the expression for convenience if you need it.\n",
    "print(expr.latex())"
   ]
  },
  {
   "cell_type": "code",
   "execution_count": 5,
   "metadata": {},
   "outputs": [
    {
     "data": {
      "text/html": [
       "<table><tr><th>&nbsp;</th><th>core type</th><th>sub-expressions</th><th>expression</th></tr>\n",
       "<tr><td>0</td><td>Operation</td><td>operator:&nbsp;1<br>operands:&nbsp;2<br></td><td><a class=\"ProveItLink\" href=\"expr.ipynb\"><img src=\"data:image/png;base64,iVBORw0KGgoAAAANSUhEUgAAAJkAAAAVBAMAAACnAFEqAAAAMFBMVEX///9UVFREREQiIiIQEBCY\n",
       "mJhmZmYyMjLu7u6qqqrMzMyIiIi6urp2dnbc3NwAAABm9RoHAAAAAXRSTlMAQObYZgAAAAlwSFlz\n",
       "AAAOxAAADsQBlSsOGwAAActJREFUOMud1DtLA0EQB/C/uTw2moT0NlEsBEECgqhFsBSxOFRipzYh\n",
       "hQhpBO1OGwsLD2xsJPkGno1gqoCChUUSWxWCYi8IaiO4c4/NxXMu4Bab2cndLzvZBzqQrZOxe/xq\n",
       "TiKDvk09+Cg/hsyUBSfsaU7iqr92Z/fphv3GmfPK31qyBQzO8NLTZUdOp6uJCpAwOO0Q2C9/sVjC\n",
       "FAVgt6vFdSC2yWkl+it4bQW4B4pdLUrhAqfNh2sjQNVA1FDaLWV3GC1VCdc+gKaJhK60bcq2GS3e\n",
       "CtUEaTrSWaXtUHrN1eJTdst6mv2rvJb5Bs4txCpKm6X0CTM3zeyvtZDMK22J0ueMFm2EVyq1poXB\n",
       "t17t5n8arULVRGpeaXv+SgP/W3ilGAU2DH+lE5RdZuYWsVxNBCXaZKtAWW7+nNLa9M0Wo9lrT9ox\n",
       "LRt14tMfaKZYlBVZSrumNwvc7pU1DIy9D0Ojk6/JA4hpL5iSkxMPFzU57ChNk8NMnjtZc97oNFBp\n",
       "0vCil+45pRNPJ/9vreiNWgEtraKS736bBJ7Z+y3iXsnCCmhHag/nfNoBMM5qIucMYsE11b0gYrha\n",
       "nWg9RhOo/37aSbz2v8nX7X6o9gPqXKN4tSyaggAAAABJRU5ErkJggg==\n",
       "\" style=\"display:inline;vertical-align:middle;\" /></a></td></tr>\n",
       "<tr><td>1</td><td>Literal</td><td></td><td><a class=\"ProveItLink\" href=\"../../../../logic/equality/__pv_it/e16d2caa26a16688b658bdb9c422caf4b84579e10/expr.ipynb\"><img src=\"data:image/png;base64,iVBORw0KGgoAAAANSUhEUgAAAA4AAAAFBAMAAACHocAhAAAAD1BMVEX///9UVFQiIiJmZmYAAACP\n",
       "OqLZAAAAAXRSTlMAQObYZgAAAAlwSFlzAAAOxAAADsQBlSsOGwAAABJJREFUCNdjMFICAUUGXAAq\n",
       "DwAoFgH7Aeay4gAAAABJRU5ErkJggg==\n",
       "\" style=\"display:inline;vertical-align:middle;\" /></a></td></tr>\n",
       "<tr><td>2</td><td>ExprTuple</td><td>3, 4</td><td><a class=\"ProveItLink\" href=\"../25ad97490afdaa53660b76bf77643013c21e1e300/expr.ipynb\"><img src=\"data:image/png;base64,iVBORw0KGgoAAAANSUhEUgAAAJcAAAAVBAMAAAC5yWGZAAAAMFBMVEX////MzMxUVFREREQiIiK6\n",
       "uroQEBCYmJhmZmYyMjLu7u52dnaqqqqIiIjc3NwAAACFAiZ1AAAAAXRSTlMAQObYZgAAAAlwSFlz\n",
       "AAAOxAAADsQBlSsOGwAAAgNJREFUOMuVlD1Lw0AYx5+atKnXF/oN9AsIQcFNUXAQEXFwcSjWwT2D\n",
       "iJN2K+LSTRCHoJODGHQUIbMOBicHhwyCq4ODL4vPy10wjUmxw92vD8//Ry53FwCIoQn4ayKA4OBU\n",
       "9ItNI0MjhNoqzs/QxpExmZ6Hy9qmn+FeovWAtGkZ1qC0lC+6eYo5xP0Eqi/RcywdD8iwdnrwlesa\n",
       "DdUKh6QfoeoJ9rC0OyCjWiNftg1wzSHpR6ho7OBc8dOyTrFsEuDBp5D0I6wLlvv03F5KxrUC2QfA\n",
       "Rkgh6Uc4FKwGNI+nZFzLlymSeRSSfoQjQfY7/ZSMa/my5jfAWEQh6UdYFrRph+tzKRnXhsgCCunD\n",
       "NQdbghVKl95SMq4VLBNlGxGFpB/ht6zc+Y+MNuAhpJD0I5zod/bHMkeLlwlTAPt+apkzglZEG+AS\n",
       "KiPjGslUVkSHawfggEN6A1y4EuQNrkaEl/qCSY1kVFGfoIfknx2qTQ5JP8KaPrT0sHbMG7tkDi3W\n",
       "RqbfJ7gCi6AHu4vDAj6aun1scUj6EeyW4DyWXgTvzHWaN4u6yyyz7ht6Me8Ywekm15QuNmFgZLsm\n",
       "EGRktYR6RkYwK2jhB9dlVJGRWbE+UVFGdpEcXVfLGM4kqlywfEYn+WooVwJOdjc9A5avZQxNDxr4\n",
       "3uAV9mjzWtyip9fhn+0904/wA5FclrMbEpiSAAAAAElFTkSuQmCC\n",
       "\" style=\"display:inline;vertical-align:middle;\" /></a></td></tr>\n",
       "<tr><td>3</td><td>Operation</td><td>operator:&nbsp;6<br>operand:&nbsp;8<br></td><td><a class=\"ProveItLink\" href=\"../d71bd2c95d7da32b435b92e985689b217796dda50/expr.ipynb\"><img src=\"data:image/png;base64,iVBORw0KGgoAAAANSUhEUgAAABgAAAAVBAMAAACuxzMVAAAAMFBMVEX///9UVFREREQiIiIQEBCY\n",
       "mJhmZmYyMjLu7u6qqqrMzMyIiIi6urp2dnbc3NwAAABm9RoHAAAAAXRSTlMAQObYZgAAAAlwSFlz\n",
       "AAAOxAAADsQBlSsOGwAAAI9JREFUGNNjeMAABA/4wCTDHSDJPYFnA5C6A+bMZWDYCeNwFDAwsDdA\n",
       "OWwBDAysCVAOC0i3B5RzHMQphXJyQZyLUE4piBMO5ViCOJOhHB8QZz0y5wiUU4msTBvECYJyLoI4\n",
       "2VDOYRDHDsphXsDAwGcA5YAcCXIsxD96DAyP4J5rYmDQAHN2AUm+AFZQUOwCAC9ZN/rn/9clAAAA\n",
       "AElFTkSuQmCC\n",
       "\" style=\"display:inline;vertical-align:middle;\" /></a></td></tr>\n",
       "<tr><td>4</td><td>Operation</td><td>operator:&nbsp;6<br>operand:&nbsp;9<br></td><td><a class=\"ProveItLink\" href=\"../2f5fbbda51c040be18a40468699aa9c103acab2f0/expr.ipynb\"><img src=\"data:image/png;base64,iVBORw0KGgoAAAANSUhEUgAAAGIAAAAVBAMAAABPrCZEAAAAMFBMVEX///9UVFREREQiIiIQEBCY\n",
       "mJhmZmYyMjLu7u6qqqrMzMyIiIi6urp2dnbc3NwAAABm9RoHAAAAAXRSTlMAQObYZgAAAAlwSFlz\n",
       "AAAOxAAADsQBlSsOGwAAAThJREFUOMtjeMAAAnwMBAFUyQOGO2B6J2EdPBvA1B2IDs4LDAxcFrhV\n",
       "897Og5kK1dHOwNCY/gO3jkqG5gcM7A1IOlKBmBu3DlYDBl4FBtYEJB0O+HUwCTBwAmU9EDp4CvDr\n",
       "4E9g4PnJwFCK0MF2Ab+OfqCOrwwMFxE62APw63h/gYHrNwNDOEIH8wTCOv4yMExG6GA5QMBVFxh4\n",
       "gHasJ14H0OecQJ8fQfIHAVcxASPjB4qrmDZAdXBgqgYJsTowsAEjIAihg1cAqqMfFDEgguM7AxKP\n",
       "wZKhZQEDQzZSDBowMDCqfJZmYAalRmZQajCDMcBCvbulgKQdUiqxgrlhBqaz4EJ8Bkg6wmCiFzB1\n",
       "wIXYApB0MD2AenMDps/hQo+Q8weHAjRZY0npcJYGVMcuMP2UcK5lhbhjFwD3s2g700iatAAAAABJ\n",
       "RU5ErkJggg==\n",
       "\" style=\"display:inline;vertical-align:middle;\" /></a></td></tr>\n",
       "<tr><td>5</td><td>ExprTuple</td><td>8</td><td><a class=\"ProveItLink\" href=\"../77203df42ad57e0e6e860ece2001e410ba24393b0/expr.ipynb\"><img src=\"data:image/png;base64,iVBORw0KGgoAAAANSUhEUgAAABwAAAAVBAMAAACnLJNvAAAAMFBMVEX////MzMxUVFREREQiIiK6\n",
       "uroQEBCYmJhmZmYyMjLu7u52dnaqqqqIiIjc3NwAAACFAiZ1AAAAAXRSTlMAQObYZgAAAAlwSFlz\n",
       "AAAOxAAADsQBlSsOGwAAAJdJREFUGNNF0L0JAkEUReETqKuCix3Yh6BYgBiJYAEmRgtGZuYimJls\n",
       "INjBVmBgZmIBBoKNeN+dZQ2+A8M8mB/gg+RKYHAP7RcEnskb65+T3tW6BZYdrKOhwNbWauBiRzVQ\n",
       "2aXeYG9zNfCwjRoYWbNcWamW/+GJGthZVZ/ByZZqYGGtIZbPrL5685Qp9iW5JWOSvAiZfkx+SkIq\n",
       "VTAW9CwAAAAASUVORK5CYII=\n",
       "\" style=\"display:inline;vertical-align:middle;\" /></a></td></tr>\n",
       "<tr><td>6</td><td>Literal</td><td></td><td><a class=\"ProveItLink\" href=\"../92831c6291223dfbd76a11e90e750ae52564aa9f0/expr.ipynb\"><img src=\"data:image/png;base64,iVBORw0KGgoAAAANSUhEUgAAADsAAAASBAMAAAAXqLt+AAAAMFBMVEX///+qqqq6urru7u4QEBBE\n",
       "RERUVFTc3NyIiIgyMjJmZmaYmJjMzMwiIiJ2dnYAAACPW0xlAAAAAXRSTlMAQObYZgAAAAlwSFlz\n",
       "AAAOxAAADsQBlSsOGwAAAUNJREFUKM91kD1Lw1AUhp8kNVX7ke4OBgQ3NaOTFURwkg7apUMLIjpm\n",
       "0FWD+NGxozgVHFQEiaNT+wtsNxeRjLbQUiwoYhDPjQ5C2wuXey7POe95z4FOyLBjbDSjN9Ebwp5g\n",
       "ohqFk5VBrEmJlYnClDeIVcmCE4WH9UGcCqDzG9bkLpUvmd85OBUh7frMny3mPS6mTlxB26A/80iw\n",
       "6Rkf0GIvx7S4+3TNkuA10fc5StqrxEO0PpbHjaiEmDlISkWx3LUN403NGMvRcHmJ3MWk1/gyvP8N\n",
       "I+mNDMdIpnKnTI+VHL4VNitYvlNzyaP3cLJ25N3yPaWlEQvEUVDD+CJd0VwZaD3hYM14PGBcKalW\n",
       "ws26Zh+ztKgGCtOy8jvp/1qGOdi/R99tN4kXfArQHbJPUlVGnuQWjfpobK4Y56Mp+m3b/v//AcRT\n",
       "WSEJp2bgAAAAAElFTkSuQmCC\n",
       "\" style=\"display:inline;vertical-align:middle;\" /></a></td></tr>\n",
       "<tr><td>7</td><td>ExprTuple</td><td>9</td><td><a class=\"ProveItLink\" href=\"../80d3a80e5204450eddb83f1ea861ff9f0ad4aa910/expr.ipynb\"><img src=\"data:image/png;base64,iVBORw0KGgoAAAANSUhEUgAAAF8AAAAVBAMAAADSoS/MAAAAMFBMVEX////MzMxUVFREREQiIiK6\n",
       "uroQEBCYmJhmZmYyMjLu7u52dnaqqqqIiIjc3NwAAACFAiZ1AAAAAXRSTlMAQObYZgAAAAlwSFlz\n",
       "AAAOxAAADsQBlSsOGwAAAUBJREFUOMuNkrFLw0AUh39ibe21hg7uCi6OReeKiINDcXLpUKpDZzOI\n",
       "OGk3kS7dClIw4CxKHUW4vUODk1sz+Ac4Ki6+d++aCjG5PvjC5cf77t6FAIggOCpuW9GCq5oWjCyr\n",
       "QXrzy3sUb6x6BrV5ly4UtToEbmFY9gVM0oUz4Bm4gCEPIUvYAsYB8tRANChoOIQvoKVRpDmILgXd\n",
       "bEGx4KO0DqZPST9b8H6AtRAF+jxEnZL6HMITyrtg2pS0HSOR0Aqx8AlmDoEvPdZYOgYzoGDgELaB\n",
       "q2A6Uo2C2lT4x+HoHLihC1cNQwqGVlDfPDE/Hnv485bT6oT+h9BwRAGzcboXYp/3O+CWjl2YSL2+\n",
       "VSiLDDleVuz55eRMs+hDKHQEU6XkHWbRtWXHwvWQFOLIqwq4t3D5SSGOFgMBni+46lL4BeC2ZIq+\n",
       "8kq0AAAAAElFTkSuQmCC\n",
       "\" style=\"display:inline;vertical-align:middle;\" /></a></td></tr>\n",
       "<tr><td>8</td><td>ExprTuple</td><td></td><td><a class=\"ProveItLink\" href=\"../932ad914fbc084fb83cd7cce8742c2c1338987a00/expr.ipynb\"><img src=\"data:image/png;base64,iVBORw0KGgoAAAANSUhEUgAAAAwAAAAVBAMAAACAghKHAAAAMFBMVEX////MzMxUVFREREQiIiK6\n",
       "uroQEBCYmJhmZmYyMjLu7u52dnaqqqqIiIjc3NwAAACFAiZ1AAAAAXRSTlMAQObYZgAAAAlwSFlz\n",
       "AAAOxAAADsQBlSsOGwAAAHRJREFUCNdjYGB4wMcABLwHWC8AqdMMDHcYGLgmMDBwLmDgKGBgYG9g\n",
       "YAPJZzFEgqjpDN0gahOQAQSVDD4g6ghDKoiSh1BhDHMggrYgqhioFgh6GUJAlB8DiwADA58DyFiw\n",
       "8XYMDI+B4osZGKyAFF8B+wMGAFwSFSv4L9l8AAAAAElFTkSuQmCC\n",
       "\" style=\"display:inline;vertical-align:middle;\" /></a></td></tr>\n",
       "<tr><td>9</td><td>ExprTuple</td><td>10</td><td><a class=\"ProveItLink\" href=\"../bd98505e76f93aa58ff52cd26fc7dfc1419cc0030/expr.ipynb\"><img src=\"data:image/png;base64,iVBORw0KGgoAAAANSUhEUgAAAE8AAAAVBAMAAAD1D64kAAAAMFBMVEX////MzMxUVFREREQiIiK6\n",
       "uroQEBCYmJhmZmYyMjLu7u52dnaqqqqIiIjc3NwAAACFAiZ1AAAAAXRSTlMAQObYZgAAAAlwSFlz\n",
       "AAAOxAAADsQBlSsOGwAAARZJREFUKM+Nk7FLAzEUhz+xtjatRwd3hS6ORWdFxMFBnLo4SHVwbgYR\n",
       "J+0m4nKbIIIHzqLoKEJ2hx6dunmDf4Cj4mLeEVvhvIuBPN775Ut+L4QACd6RIjPGD+5IeLFzNsqH\n",
       "noZJepgKUQvX+WDVqC24hGltq9d88AAe4QjKFIOL0I8oR2x7wA/oGKqa82JQCaipzXNRDAZfMBdT\n",
       "Cdn8B3hPfZV9j7UFOzET7z5QLtM3TO1y5QGX4CQS6+Uf8A9WpEM4g0qLBweqT+lIwl3Ir6pk1J59\n",
       "v5i2LZrdtZh12b8hSz2XpJJ6HjSsllBqOJ961nssvVn3nstr2R7H0qmdKy6/zYIjKWjZcOMKnQVH\n",
       "0qT0EGj/VziGbwr5TujLHNTfAAAAAElFTkSuQmCC\n",
       "\" style=\"display:inline;vertical-align:middle;\" /></a></td></tr>\n",
       "<tr><td>10</td><td>ExprRange</td><td>lambda_map:&nbsp;11<br>start_index:&nbsp;12<br>end_index:&nbsp;13<br></td><td><a class=\"ProveItLink\" href=\"../11fcd289ee1a9fc004d2dec220d8a5caaf662f530/expr.ipynb\"><img src=\"data:image/png;base64,iVBORw0KGgoAAAANSUhEUgAAAEIAAAASBAMAAAAd9BUsAAAAMFBMVEX///+6urrc3NyYmJh2dnaq\n",
       "qqoQEBBERESIiIgyMjJmZmZUVFTu7u4iIiLMzMwAAADZRvEaAAAAAXRSTlMAQObYZgAAAAlwSFlz\n",
       "AAAOxAAADsQBlSsOGwAAAKRJREFUKM9jYOC7w4ATsHgsYmA4vfIPbhVTGc4qMDBw4FbBfIGBpQCv\n",
       "CvYNDKx/8KrgX8DA+BWvivNAFZ/xqtB3YOD7QVDFF/y2ODAw/iDkUlb8LmUvYGCG+pYHUxYkxJzA\n",
       "wDUBouL8BAYIwfOTAYnHcJXh2AMG7rK/Oxh4QbHHuwBI3IIxwEJHOvbBzIzBtAZNyAFTBaoQTwOm\n",
       "S1GFmLHEPIwBAFbpNLhX+QW7AAAAAElFTkSuQmCC\n",
       "\" style=\"display:inline;vertical-align:middle;\" /></a></td></tr>\n",
       "<tr><td>11</td><td>Lambda</td><td>parameter:&nbsp;14<br>body:&nbsp;14<br></td><td><a class=\"ProveItLink\" href=\"../3f65dd765ebc1f78cc5012238a4d9c3aeb80e9230/expr.ipynb\"><img src=\"data:image/png;base64,iVBORw0KGgoAAAANSUhEUgAAADYAAAAOCAMAAABTsh8vAAAANlBMVEX///8WFhYNDQ3MzMzc3NyY\n",
       "mJiIiIhUVFR2dna6urqqqqpmZmYyMjIiIiIQEBBERETu7u4AAADpXcuUAAAAAXRSTlMAQObYZgAA\n",
       "AAlwSFlzAAAOxAAADsQBlSsOGwAAAKVJREFUKM+NkkkOwzAIRWk9JMZ44P6XbbKo/YlsKaxAPNBn\n",
       "IOqtFnpphpVMrw1Y5fdlk03at1T0Ngb2rFY/BvzQD6wcVzrmP27389jWZLsGYvY1LEFuRslkWX1i\n",
       "cuLX/WMD1cDmGhxy308xpppGDtgi+XT7aZIkyA22X82Sul2Zk46jDTboHTLFdZng4YA92u06Oocq\n",
       "I9HcDdh2f0vMcf0p2Wxrsj83mAflxQIppAAAAABJRU5ErkJggg==\n",
       "\" style=\"display:inline;vertical-align:middle;\" /></a></td></tr>\n",
       "<tr><td>12</td><td>Literal</td><td></td><td><a class=\"ProveItLink\" href=\"../../../../number/numeral/__pv_it/f086f8c372bd40a2458306ddfdbb29f3dc6f63030/expr.ipynb\"><img src=\"data:image/png;base64,iVBORw0KGgoAAAANSUhEUgAAAAgAAAAOBAMAAADgeEClAAAAIVBMVEX///8QEBBERESIiIgyMjJm\n",
       "ZmZUVFTu7u4iIiLMzMwAAAAWRytzAAAAAXRSTlMAQObYZgAAAAlwSFlzAAAOxAAADsQBlSsOGwAA\n",
       "ABtJREFUCNdjYOBsZ2AoC1nOwMDATBbBprgiGQBsuwqCZsDj4wAAAABJRU5ErkJggg==\n",
       "\" style=\"display:inline;vertical-align:middle;\" /></a></td></tr>\n",
       "<tr><td>13</td><td>Literal</td><td></td><td><a class=\"ProveItLink\" href=\"../../../../number/numeral/__pv_it/bcb6bc33e5975ec2290a3272bf7802d26ab8421d0/expr.ipynb\"><img src=\"data:image/png;base64,iVBORw0KGgoAAAANSUhEUgAAAAoAAAAOBAMAAADkjZCYAAAAMFBMVEX///8QEBDMzMy6urpUVFRE\n",
       "RESYmJgiIiLu7u6qqqoyMjLc3NxmZmaIiIh2dnYAAABjjC/7AAAAAXRSTlMAQObYZgAAAAlwSFlz\n",
       "AAAOxAAADsQBlSsOGwAAAFdJREFUCNdjYOB7e5qBgWElQ/sGBrYCBr4ABlYHBs4fDPwHGJh/MvQD\n",
       "yW8M+x8wMP0Fk/8Y+h8wMP8FyXL+ZGANYGD7wcAmwMCzgIGhkqFRgYGh764TAwAMEBgt0IBciQAA\n",
       "AABJRU5ErkJggg==\n",
       "\" style=\"display:inline;vertical-align:middle;\" /></a></td></tr>\n",
       "<tr><td>14</td><td>Variable</td><td></td><td><a class=\"ProveItLink\" href=\"../273f49450ca25e1b56abbd98a7aef618f8f6c1360/expr.ipynb\"><img src=\"data:image/png;base64,iVBORw0KGgoAAAANSUhEUgAAAAoAAAAOBAMAAADkjZCYAAAAMFBMVEX////MzMzc3NyYmJiIiIhU\n",
       "VFR2dna6urqqqqpmZmYyMjIiIiIQEBBERETu7u4AAADM1VnsAAAAAXRSTlMAQObYZgAAAAlwSFlz\n",
       "AAAOxAAADsQBlSsOGwAAAE9JREFUCNdj4LuzgQEIuCaASP4GEFn/AETmgAiGpQwt8xj4PnM0HWbg\n",
       "+FTBuIiB87AAUJh7ZSKQfF9QD+TYM7xvcGCIZXgvkMBwg4FlygMA76IUkutkA5UAAAAASUVORK5C\n",
       "YII=\n",
       "\" style=\"display:inline;vertical-align:middle;\" /></a></td></tr>\n",
       "</table>\n"
      ],
      "text/plain": [
       "0. |()| = |(1 ,  ...  , 0)|\n",
       "   core type: Operation\n",
       "   operator: 1\n",
       "   operands: 2\n",
       "1. =\n",
       "   core type: Literal\n",
       "   sub-expressions: \n",
       "2. (|()| , |(1 ,  ...  , 0)|)\n",
       "   core type: ExprTuple\n",
       "   sub-expressions: 3, 4\n",
       "3. |()|\n",
       "   core type: Operation\n",
       "   operator: 6\n",
       "   operand: 8\n",
       "4. |(1 ,  ...  , 0)|\n",
       "   core type: Operation\n",
       "   operator: 6\n",
       "   operand: 9\n",
       "5. (())\n",
       "   core type: ExprTuple\n",
       "   sub-expressions: 8\n",
       "6. length\n",
       "   core type: Literal\n",
       "   sub-expressions: \n",
       "7. ((1 ,  ...  , 0))\n",
       "   core type: ExprTuple\n",
       "   sub-expressions: 9\n",
       "8. ()\n",
       "   core type: ExprTuple\n",
       "   sub-expressions: \n",
       "9. (1 ,  ...  , 0)\n",
       "   core type: ExprTuple\n",
       "   sub-expressions: 10\n",
       "10. 1,...,0\n",
       "    core type: ExprRange\n",
       "    lambda_map: 11\n",
       "    start_index: 12\n",
       "    end_index: 13\n",
       "11. k -> k\n",
       "    core type: Lambda\n",
       "    parameter: 14\n",
       "    body: 14\n",
       "12. 1\n",
       "    core type: Literal\n",
       "    sub-expressions: \n",
       "13. 0\n",
       "    core type: Literal\n",
       "    sub-expressions: \n",
       "14. k\n",
       "    core type: Variable\n",
       "    sub-expressions: "
      ]
     },
     "execution_count": 5,
     "metadata": {},
     "output_type": "execute_result"
    }
   ],
   "source": [
    "# display the expression information\n",
    "expr.exprInfo()"
   ]
  },
  {
   "cell_type": "code",
   "execution_count": null,
   "metadata": {},
   "outputs": [],
   "source": []
  }
 ],
 "metadata": {
  "kernelspec": {
   "display_name": "Python 3",
   "language": "python",
   "name": "python3"
  },
  "language_info": {
   "codemirror_mode": {
    "name": "ipython",
    "version": 3
   },
   "file_extension": ".py",
   "mimetype": "text/x-python",
   "name": "python",
   "nbconvert_exporter": "python",
   "pygments_lexer": "ipython3",
   "version": "3.7.4"
  }
 },
 "nbformat": 4,
 "nbformat_minor": 1
}
