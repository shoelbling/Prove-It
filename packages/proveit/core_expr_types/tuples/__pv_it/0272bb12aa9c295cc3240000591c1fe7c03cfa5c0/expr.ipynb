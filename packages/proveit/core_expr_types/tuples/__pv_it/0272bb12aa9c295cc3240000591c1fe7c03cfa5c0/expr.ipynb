{
 "cells": [
  {
   "cell_type": "markdown",
   "metadata": {},
   "source": [
    "Expression of type <a class=\"ProveItLink\" href=\"../../../../../../doc/html/api/proveit.ExprTuple.html\">ExprTuple</a>\n",
    "=======================\n",
    "# from context <a class=\"ProveItLink\" href=\"../../_context_.ipynb\">proveit.core_expr_types.tuples</a>"
   ]
  },
  {
   "cell_type": "code",
   "execution_count": 1,
   "metadata": {},
   "outputs": [],
   "source": [
    "import proveit\n",
    "# Automation is not needed when building an expression:\n",
    "proveit.defaults.automation = False # This will speed things up.\n",
    "# import Expression classes needed to build the expression\n",
    "from proveit import ExprRange, ExprTuple, Function\n",
    "from proveit._common_ import a, f, fa, i, j"
   ]
  },
  {
   "cell_type": "code",
   "execution_count": 2,
   "metadata": {},
   "outputs": [
    {
     "data": {
      "text/html": [
       "<strong id=\"expr\">expr:</strong> <a class=\"ProveItLink\" href=\"../16dd73917b1db526fa0a3168c19ab159bc9f73cf0/expr.ipynb\"><img src=\"data:image/png;base64,iVBORw0KGgoAAAANSUhEUgAAARkAAAAVBAMAAACAi4frAAAAMFBMVEX////MzMxUVFREREQiIiK6\n",
       "uroQEBCYmJhmZmYyMjLu7u52dnaqqqqIiIjc3NwAAACFAiZ1AAAAAXRSTlMAQObYZgAAAAlwSFlz\n",
       "AAAOxAAADsQBlSsOGwAAA3RJREFUSMeNVj1oFEEU/pLcZe82yUYQbBMRxMIiWAYS4k8hGkRQAilC\n",
       "UiiCKARttDAJoohI5LARxOLAyiJ4SCptDtFGCwMWRlA4ULARjIWFIYLzfmbnzbJGH3xz3973Zt/8\n",
       "vHmzADoQeOug8EesIFPklhV5hv+yLLw1H8NAW+BN+ExJb/Wqrgly+1jkkfp3034zBnijAO4888/r\n",
       "0fisgp1NfosZQX+L2trzpvKBpWh8JRZ80TWaLwchbQiAvt0XoPw48MD0Ngo+APWmQO0xt093tZVX\n",
       "WlYts+CLgYaEUtTmBUDvq1F4DlwxvWMFyZJA7Ra3F041c27VMot8JZSiFwJglifU60dgphcrwHmF\n",
       "2BynymbgkVpiBV8OpZh2j9P85yq30+pSnw/dYwW4r5B3yzZPBG7VMiv4cijFHUpS+u/SmX0Qnq67\n",
       "M9E3nPcOCtJPI7TvCklJSsZk76El5SvLVi0x44uVd5BQijDP335WfVW3iEkj9M8V1HDOtVcVZhEH\n",
       "1zxvTVm1zIIvlnrnJZRi0v03ybXoB7s6/q3mpP6JUKVyBQvYcu1LBVuFa8H3Hcqz9m2rllnui6Qz\n",
       "2JZQirNOOMtlY4NdHW/S4Ls2QkHJFccpA4cUkoMnqX3recorObTdaN7afk0JpchHI7nFnFyqc4Ws\n",
       "E68a8SmFeetqznm8U9uNZtX0uwEJpXjoHgnokbQlfg/RThmFSlthp+q8UwdyXh/+104dMP2OI9qp\n",
       "Mfc4xmOVy8XxdKvPbSkdnhSx4vacZnRZwXIPqxfh+ZN2y6ixSQ0Lvsh+QkIp8tMquUW8uvHVbQk5\n",
       "P2nECrBIzbKCZS4FmujEZ7N5o1KT/rLE+iKhlKRQitPu8XTILeZj7n0VuuArxwoK9lBzQsFydSIk\n",
       "OvGe91atUGk56smRZuyLbtoBCqWouIkTcF0PrCwEvnD7GgWFVjmbEKh8kKantfKg1oSgRtbfLPhy\n",
       "EnwJ0Cuwf/hhfOHJneZSwCr7k03Yi7all96Leju6a40a3wmIfLvbi/769BhnVEZ97R2X2dESInVD\n",
       "N0rXFpe6zwqW3dZ0cPixP37yeWjUyFYcjO9Qe1JDeeARI1n3356PxJXTPyEYZfkm/Y4qWHZRR3Dt\n",
       "rrqkPAmrRkZLZnxr6yc1lAfoCGTmwha+UPYdK15JR5Db1yJPOv/1Jar9FgL+AMckICRyC/kFAAAA\n",
       "AElFTkSuQmCC\n",
       "\" style=\"display:inline;vertical-align:middle;\" /></a><br>"
      ],
      "text/plain": [
       "expr: ((f(i) , f(j)) , (f(i) ,  ...  , f(j)))"
      ]
     },
     "execution_count": 2,
     "metadata": {},
     "output_type": "execute_result"
    }
   ],
   "source": [
    "# build up the expression from sub-expressions\n",
    "expr = ExprTuple([Function(f, i), Function(f, j)], [ExprRange(a, fa, i, j)])"
   ]
  },
  {
   "cell_type": "code",
   "execution_count": 3,
   "metadata": {},
   "outputs": [
    {
     "name": "stdout",
     "output_type": "stream",
     "text": [
      "Passed sanity check: built 'expr' is the same as the stored Expression.\n"
     ]
    }
   ],
   "source": [
    "# check that the built expression is the same as the stored expression\n",
    "%check_expr"
   ]
  },
  {
   "cell_type": "code",
   "execution_count": 4,
   "metadata": {},
   "outputs": [
    {
     "name": "stdout",
     "output_type": "stream",
     "text": [
      "\\left(\\left(f\\left(i\\right) , f\\left(j\\right)\\right) , \\left(f\\left(i\\right) , \\ldots , f\\left(j\\right)\\right)\\right)\n"
     ]
    }
   ],
   "source": [
    "# Show the LaTeX representation of the expression for convenience if you need it.\n",
    "print(expr.latex())"
   ]
  },
  {
   "cell_type": "code",
   "execution_count": 5,
   "metadata": {},
   "outputs": [
    {
     "data": {
      "text/html": [
       "<table><tr><th>&nbsp;</th><th>core type</th><th>sub-expressions</th><th>expression</th></tr>\n",
       "<tr><td>0</td><td>ExprTuple</td><td>1, 2</td><td><a class=\"ProveItLink\" href=\"../16dd73917b1db526fa0a3168c19ab159bc9f73cf0/expr.ipynb\"><img src=\"data:image/png;base64,iVBORw0KGgoAAAANSUhEUgAAARkAAAAVBAMAAACAi4frAAAAMFBMVEX////MzMxUVFREREQiIiK6\n",
       "uroQEBCYmJhmZmYyMjLu7u52dnaqqqqIiIjc3NwAAACFAiZ1AAAAAXRSTlMAQObYZgAAAAlwSFlz\n",
       "AAAOxAAADsQBlSsOGwAAA3RJREFUSMeNVj1oFEEU/pLcZe82yUYQbBMRxMIiWAYS4k8hGkRQAilC\n",
       "UiiCKARttDAJoohI5LARxOLAyiJ4SCptDtFGCwMWRlA4ULARjIWFIYLzfmbnzbJGH3xz3973Zt/8\n",
       "vHmzADoQeOug8EesIFPklhV5hv+yLLw1H8NAW+BN+ExJb/Wqrgly+1jkkfp3034zBnijAO4888/r\n",
       "0fisgp1NfosZQX+L2trzpvKBpWh8JRZ80TWaLwchbQiAvt0XoPw48MD0Ngo+APWmQO0xt093tZVX\n",
       "WlYts+CLgYaEUtTmBUDvq1F4DlwxvWMFyZJA7Ra3F041c27VMot8JZSiFwJglifU60dgphcrwHmF\n",
       "2BynymbgkVpiBV8OpZh2j9P85yq30+pSnw/dYwW4r5B3yzZPBG7VMiv4cijFHUpS+u/SmX0Qnq67\n",
       "M9E3nPcOCtJPI7TvCklJSsZk76El5SvLVi0x44uVd5BQijDP335WfVW3iEkj9M8V1HDOtVcVZhEH\n",
       "1zxvTVm1zIIvlnrnJZRi0v03ybXoB7s6/q3mpP6JUKVyBQvYcu1LBVuFa8H3Hcqz9m2rllnui6Qz\n",
       "2JZQirNOOMtlY4NdHW/S4Ls2QkHJFccpA4cUkoMnqX3recorObTdaN7afk0JpchHI7nFnFyqc4Ws\n",
       "E68a8SmFeetqznm8U9uNZtX0uwEJpXjoHgnokbQlfg/RThmFSlthp+q8UwdyXh/+104dMP2OI9qp\n",
       "Mfc4xmOVy8XxdKvPbSkdnhSx4vacZnRZwXIPqxfh+ZN2y6ixSQ0Lvsh+QkIp8tMquUW8uvHVbQk5\n",
       "P2nECrBIzbKCZS4FmujEZ7N5o1KT/rLE+iKhlKRQitPu8XTILeZj7n0VuuArxwoK9lBzQsFydSIk\n",
       "OvGe91atUGk56smRZuyLbtoBCqWouIkTcF0PrCwEvnD7GgWFVjmbEKh8kKantfKg1oSgRtbfLPhy\n",
       "EnwJ0Cuwf/hhfOHJneZSwCr7k03Yi7all96Leju6a40a3wmIfLvbi/769BhnVEZ97R2X2dESInVD\n",
       "N0rXFpe6zwqW3dZ0cPixP37yeWjUyFYcjO9Qe1JDeeARI1n3356PxJXTPyEYZfkm/Y4qWHZRR3Dt\n",
       "rrqkPAmrRkZLZnxr6yc1lAfoCGTmwha+UPYdK15JR5Db1yJPOv/1Jar9FgL+AMckICRyC/kFAAAA\n",
       "AElFTkSuQmCC\n",
       "\" style=\"display:inline;vertical-align:middle;\" /></a></td></tr>\n",
       "<tr><td>1</td><td>ExprTuple</td><td>3, 4</td><td><a class=\"ProveItLink\" href=\"../0fc615ebc6fb933d0a77363e0f6bd5fd159e30f50/expr.ipynb\"><img src=\"data:image/png;base64,iVBORw0KGgoAAAANSUhEUgAAAGkAAAAVBAMAAAC3TN2zAAAAMFBMVEX////MzMxUVFREREQiIiK6\n",
       "uroQEBCYmJhmZmYyMjLu7u52dnaqqqqIiIjc3NwAAACFAiZ1AAAAAXRSTlMAQObYZgAAAAlwSFlz\n",
       "AAAOxAAADsQBlSsOGwAAAbRJREFUOMttlD9LQlEYxh/p6r2pWdAXMFoaGpwFxbkaGlocpIaipUCa\n",
       "miyCaJBAWoJwuOAHKKKpyaWlBh1tCByCliBbxaD3z733nCseeA7Pe37nPZ73nHMFMIRpw6ibbsOo\n",
       "F7fQNUh9bUZSMKsW4jcJm8+hH8TWsQmWfUasdIvjzMoRAr8J3FlJFsG7IpJX5zj1UkTogVMrK04E\n",
       "kVIS7PoyI5zpm6w4EUSqSvAkfTVA83WTFSeCSE32J/trUjgVMOhTLfkoyRCkPwqKSLcC/6Qnn0nu\n",
       "AW7L/FZE4OFQEWmLB3O/wsh/ezScrURJhqCBiSLSAQ9mR8LI+4u0w8QoyjKE/FgRSeJMJWI9OiTe\n",
       "ZXhdhsCrKCK1OZ7T8tnfILZDi8B5iHZYklvoCyOfnmSo3AIfGeIE+NlWRHqUeEkY+eToi7bCU+9b\n",
       "cQKcQRFph+Oebod9ia7R4Y/B2ZgiWIUiksOLXShzdGF8Sv+KKXIcIJJ7jmy+rYy8tCvpuXaLrLvj\n",
       "ALHKcIrhWyjrzfJhIE0VWCQxcbqKBHfgDsJvvqOnLc/cZVnk+jJAgnPWA1ffmPEPEMxqqP4BbRN8\n",
       "gMbBh70AAAAASUVORK5CYII=\n",
       "\" style=\"display:inline;vertical-align:middle;\" /></a></td></tr>\n",
       "<tr><td>2</td><td>ExprTuple</td><td>5</td><td><a class=\"ProveItLink\" href=\"../5910a78a7973c5226a5f485b62af157f80dbd44b0/expr.ipynb\"><img src=\"data:image/png;base64,iVBORw0KGgoAAAANSUhEUgAAAI8AAAAVBAMAAACNsKCFAAAAMFBMVEX////MzMxUVFREREQiIiK6\n",
       "uroQEBCYmJhmZmYyMjLu7u52dnaqqqqIiIjc3NwAAACFAiZ1AAAAAXRSTlMAQObYZgAAAAlwSFlz\n",
       "AAAOxAAADsQBlSsOGwAAAiRJREFUOMuNVD1Iw0AUftqkiWmsTq7qIo7iWFD8G8Q6CLo4iA66KRQn\n",
       "F7WI4CBIcRGkQ8DJQRTppEsQXHSw4NLBoYPgIlgHB0XB93PXVCKnge/lvdx3X+7ee3cAUIXoqdbN\n",
       "3086msIzWsNoTPy5/wk9yGtOz7jlcPdC+5Uf0r897mWA1j9D05RhNsEr0FiqexmUnwU4NAudd9Cf\n",
       "jnkLBWEj3Bx9SF5nQPsAa2ah5Wla0Y4O1wRJDuYDllNDycCkY3/wawEa2IhZDkpsZ9VQS84klBpi\n",
       "uQI0sBG75K8u9nLGMU2VMlK7DDpOz0ie0kC5PrkHYSMOePSLLfopG5fsFEwraivXV51P5oSNmOTe\n",
       "emUK+s8ufvaHTEIv7WQtrJxTbQuFjViir36NKegH9L+mmknoTlI8xX4gbMRSlD/2acheMAmVGoS2\n",
       "QdiIIsUJyS75+/DX1vqlVtz+WahvbYDlOX/ke58p3HsftXlcQtprhW2CpqTfQNiI8yh/5Nu1Jywt\n",
       "kU4x6947KFOPdGG4RRxKJrERM1H+2B/Aglp0LVgTaMZBGYt6ZyyICmPT9ptp6cRGWLSYLRGyZGHw\n",
       "yPYmtjWfhFzVrcM6JY8CJw9+V1E1bV7ech7P4ocDcdUS6rPaHG7q00sYBCujO3lQrj5aMHjlmNAJ\n",
       "YvRYBYlqZzip2DzjCJyKvlyPhMLVceJVo1OxvqcCr8+tTCk2z0g3HHXxN/531T7Ja0PwDXNriMf2\n",
       "aFtyAAAAAElFTkSuQmCC\n",
       "\" style=\"display:inline;vertical-align:middle;\" /></a></td></tr>\n",
       "<tr><td>3</td><td>Operation</td><td>operator:&nbsp;10<br>operand:&nbsp;7<br></td><td><a class=\"ProveItLink\" href=\"../../../__pv_it/ac406608e4c1a110d279c13e6aa03c833d5f65d00/expr.ipynb\"><img src=\"data:image/png;base64,iVBORw0KGgoAAAANSUhEUgAAACQAAAAVBAMAAADcCFGjAAAAMFBMVEX///8yMjLc3NyIiIiYmJgi\n",
       "IiJERES6urqqqqoQEBDMzMxUVFTu7u52dnZmZmYAAAD1zdHuAAAAAXRSTlMAQObYZgAAAAlwSFlz\n",
       "AAAOxAAADsQBlSsOGwAAAPFJREFUGNNjYIADJjgBBxYggt0AzOa7ewBIclxgYGB+AJFguL2yAUge\n",
       "BGLWCwyMIGmGGWUg6glEO8sDkPY/YPYEqJFzgJg3AGyuAFRIBKhyZzRILR/Q9MOPQSYDMT/YXkYH\n",
       "BoYLlUCGIxDrLwAJsTYwMDU8BDJagbgfbARnAQMPw2cgYz0QX4UJMXCA7AZpzgYLMQKdy7gBqnEy\n",
       "WIgNaMn5BqC1bkC//wIL8QJV1DMBrQU6hOMDWIgd6GA2EyAjCOjGDRBXR0FDLYChG2QuCPhBKD4H\n",
       "hrCDUL+xKYApNQYG50dQIZ4EMJWDHNAq4OBSYAAAorAwGv6j7CQAAAAASUVORK5CYII=\n",
       "\" style=\"display:inline;vertical-align:middle;\" /></a></td></tr>\n",
       "<tr><td>4</td><td>Operation</td><td>operator:&nbsp;10<br>operand:&nbsp;8<br></td><td><a class=\"ProveItLink\" href=\"../../../__pv_it/6068da495044ef502493c983021e74977d4c60d50/expr.ipynb\"><img src=\"data:image/png;base64,iVBORw0KGgoAAAANSUhEUgAAACYAAAAVBAMAAADY/YGeAAAAMFBMVEX///8yMjLc3NyIiIiYmJgi\n",
       "IiJERES6urqqqqoQEBDMzMxUVFTu7u52dnZmZmYAAAD1zdHuAAAAAXRSTlMAQObYZgAAAAlwSFlz\n",
       "AAAOxAAADsQBlSsOGwAAAPtJREFUGNNjYIADJiQSBizAJLsBmOK7ewBIclwAElw5UKnbKxuA5EEQ\n",
       "k1mAgRGkgGFGGYh6AjWC5QHIhD9g9gSYuXOAmDcAbLYATEwEqHZnNEg1H8iKw2Yg44GYH2w7owOQ\n",
       "eMAJJB2BDP0FIDFWoN0sCvxAshXI6webwlkAIvuBLlgPpK8iiT0F4kogzgaLMYLczRDLANE7GSzG\n",
       "BrKJ6TuQcAPSv8BivBtAfvgAJB4D/f4BEh4gl3MnAIkgoGM3QJwfBbIIaABTAEM3xHAGBj8G7gZ/\n",
       "oFP4HBjCDkK9yaawviECSKsxMDg/gorxJPDZgdyYgxz2KpDgU2AAAAErMJ+sZ6wqAAAAAElFTkSu\n",
       "QmCC\n",
       "\" style=\"display:inline;vertical-align:middle;\" /></a></td></tr>\n",
       "<tr><td>5</td><td>ExprRange</td><td>lambda_map:&nbsp;6<br>start_index:&nbsp;7<br>end_index:&nbsp;8<br></td><td><a class=\"ProveItLink\" href=\"../../../__pv_it/7f96e6de282d54f64e1aae45a405d6bb8b75f88f0/expr.ipynb\"><img src=\"data:image/png;base64,iVBORw0KGgoAAAANSUhEUgAAAIAAAAAVBAMAAAB8u/sIAAAAMFBMVEX///8yMjLc3NyIiIiYmJgi\n",
       "IiJERES6urqqqqoQEBDMzMxUVFTu7u52dnZmZmYAAAD1zdHuAAAAAXRSTlMAQObYZgAAAAlwSFlz\n",
       "AAAOxAAADsQBlSsOGwAAAeNJREFUOMuNVDtIA0EQnTvv8pHkTGGRMoXYRtHCSqKCjaBBUERFgpam\n",
       "0ELBymvEQkVBxRQWqQQrU4laSESwNY2VCtEIFiIoNiIpnM/mIhysWbi3M3Nv52be7h6AN0wPGhgJ\n",
       "8LN7CIIdDa1vcuEP23ksIoZKGC9LGs14fyDcIjgqKvb9MeW7wscugVHUro9e5BAjMbI7QbFzyzS9\n",
       "CMMqaxOE17NUcwr+sINVtndU7FCbYJU/GfZ8YkfTrEdMhVq1Ce4YFz0f2db5FNXhoIbXFVJEt35o\n",
       "/5KVJB26MordwnthYFulFTT6tBV8eVU6sKfYyTzFbBdM9wmNNd1684enCXz64Vuxt0XeBYhw/hNd\n",
       "gtAHTwdsVxX7rpZAQivaY5CuJ3DSij3PMQMPk1H4r4VAgac4yKkT9q68QilvXYwNkuc/jhGpUw7/\n",
       "HEESaya20iWKuVdN3Araysgnwm1MQd1TgstWjxBUPF2C2FGgG41R8sawBJuOB8MMGdPgCQ5LBKcg\n",
       "bEfagkm1USxTyN/DJsGb2HZetY7sDUOuNgzLJPck6tcP5QkV4t4dOrOqwh6/qgksP5l2xmu/iCif\n",
       "na1dmNnmb9sV9sBzjZHhKcuY8iWw6OlNKO8GKq91thptzEs09Esz5QvI/gVZv2xbZL9soAAAAABJ\n",
       "RU5ErkJggg==\n",
       "\" style=\"display:inline;vertical-align:middle;\" /></a></td></tr>\n",
       "<tr><td>6</td><td>Lambda</td><td>parameter:&nbsp;11<br>body:&nbsp;9<br></td><td><a class=\"ProveItLink\" href=\"../../../__pv_it/2f41bfa613e300bb7e01a730e156eccf7e200ec90/expr.ipynb\"><img src=\"data:image/png;base64,iVBORw0KGgoAAAANSUhEUgAAAFQAAAAVCAMAAADvsTk6AAAANlBMVEX///8WFhYNDQ3MzMxUVFQy\n",
       "MjKqqqoiIiKYmJju7u5EREQQEBC6urqIiIh2dnZmZmbc3NwAAADRPqZpAAAAAXRSTlMAQObYZgAA\n",
       "AAlwSFlzAAAOxAAADsQBlSsOGwAAATxJREFUOMulVFtihCAMtOUdHoH7X7agZZcEdKvNj2JkMsOE\n",
       "bNt/I1+snkbUZBniQxxMyfV3na6L/DWSFL7vdGpKK/cE1OsAfSPaKW3x44nNBx/KQMWvii6okk96\n",
       "LpvMUEAtQNXOPmOK+eWaIX8YLk56I/FtWe+kASLJVs5XjfASRWE0cCIlclIMwlb6zrcMmhNuEegR\n",
       "5SIGHUcXUAhdn7gXMK9++/4yJEoJhHoZPTlSFELUP3wT6N47GdOgwqlPHZRCBF/fWwFbTqwRvJdB\n",
       "jkbv8hlEle9KS4DadF6BKt6ofrzcEA9QAmErb1UT1uDWD5WoDbxPiU9H93AIrCsnYxJZRrGcHfwr\n",
       "8WkLhywKYW6PP5T0bsxUsrmHqOWvNVfTYzFjLsPANOqAa81wU7uNyDEcx4BH45Qzo2ptq/oDHYoL\n",
       "1B9fEzQAAAAASUVORK5CYII=\n",
       "\" style=\"display:inline;vertical-align:middle;\" /></a></td></tr>\n",
       "<tr><td>7</td><td>Variable</td><td></td><td><a class=\"ProveItLink\" href=\"../../../../__pv_it/557ab5defdcd46aa58168b08767502985122cd490/expr.ipynb\"><img src=\"data:image/png;base64,iVBORw0KGgoAAAANSUhEUgAAAAcAAAAOBAMAAAARcxsoAAAALVBMVEX///9ERESYmJhUVFQyMjKq\n",
       "qqrc3NwQEBC6urru7u52dnYiIiJmZmaIiIgAAAD/UVazAAAAAXRSTlMAQObYZgAAAAlwSFlzAAAO\n",
       "xAAADsQBlSsOGwAAADlJREFUCNdjYGC4wwAEuxjQAeedCwwMXBwFDAypPA4MDBP4gFyGuAlAwhkk\n",
       "+5SLgYHjQRKQKavAAAAx5QmdfgFqMAAAAABJRU5ErkJggg==\n",
       "\" style=\"display:inline;vertical-align:middle;\" /></a></td></tr>\n",
       "<tr><td>8</td><td>Variable</td><td></td><td><a class=\"ProveItLink\" href=\"../../../../__pv_it/6a5b5879f51878868f626bf09e4d76392d4779cd0/expr.ipynb\"><img src=\"data:image/png;base64,iVBORw0KGgoAAAANSUhEUgAAAAoAAAASBAMAAACQmVJ4AAAAMFBMVEX///9UVFS6urp2dnYiIiKq\n",
       "qqrc3NyYmJgQEBBmZmYyMjKIiIju7u5ERETMzMwAAAC4hZuzAAAAAXRSTlMAQObYZgAAAAlwSFlz\n",
       "AAAOxAAADsQBlSsOGwAAAEtJREFUCNdjYGBg4LsDJBi4FzBgA6f3gsgJHAUMDOwJ/AEgTvwBEDkF\n",
       "LO0MItg+gUj2DyCS8QKI5NgAZAXUAxW+D3AF8jl3KjAwAACAGg5QwkhbIAAAAABJRU5ErkJggg==\n",
       "\" style=\"display:inline;vertical-align:middle;\" /></a></td></tr>\n",
       "<tr><td>9</td><td>Operation</td><td>operator:&nbsp;10<br>operand:&nbsp;11<br></td><td><a class=\"ProveItLink\" href=\"../../../../__pv_it/e80bce2a0c2e8c976be76e7b3ce08f76e74ec5550/expr.ipynb\"><img src=\"data:image/png;base64,iVBORw0KGgoAAAANSUhEUgAAACgAAAAVBAMAAADGNLEtAAAAMFBMVEX///8yMjLc3NyIiIiYmJgi\n",
       "IiJERES6urqqqqoQEBDMzMxUVFTu7u52dnZmZmYAAAD1zdHuAAAAAXRSTlMAQObYZgAAAAlwSFlz\n",
       "AAAOxAAADsQBlSsOGwAAAP1JREFUGNNjYIADJhQKCiwgFLsBmOK7ewBIclxAkby9sgFIHoTpYAQp\n",
       "YZhRBqKewARZHoAM+QNmT4AbPgeIeQPA5gvABUWAqndGg9TzgezRu6wMsgOI+cFuYHQAqp7EkA80\n",
       "3hHI1V8AEmQFuuCkA8NTILMViPvBBnEWMDC8P8AQC2SuB+KrcMFpDDzfgcxKIM6GOLmBgecvA8sH\n",
       "qPbJYEE2AwaeHwxsAk0MDG7AUPkFFuTdwMAgzOD6AOiyx8CA+AAJHKAXTtsu2gx0ShDQ1Rsg/oiC\n",
       "h2sAQzdjA4TtBxPkc2AIgwUZmwKUocbA4PwIyuZJgDJykKNDBRqcCgwAmIo1X55DCvQAAAAASUVO\n",
       "RK5CYII=\n",
       "\" style=\"display:inline;vertical-align:middle;\" /></a></td></tr>\n",
       "<tr><td>10</td><td>Variable</td><td></td><td><a class=\"ProveItLink\" href=\"../../../../__pv_it/d7bbb04e874e28c7cefb21d4eea40806ae52f1f70/expr.ipynb\"><img src=\"data:image/png;base64,iVBORw0KGgoAAAANSUhEUgAAAAsAAAASBAMAAAB/WzlGAAAAMFBMVEX///8yMjLc3NyIiIiYmJgi\n",
       "IiJERES6urqqqqoQEBDMzMxUVFTu7u52dnZmZmYAAAD1zdHuAAAAAXRSTlMAQObYZgAAAAlwSFlz\n",
       "AAAOxAAADsQBlSsOGwAAAFNJREFUCNdjYGBg4Lt7AEgy3F7ZAKJmlIF47H9AbAbeABDJsjP6AYjm\n",
       "NwAL6i8AU/1gkuEqhMqGUJPBJNMvMMXxAUzxbQCR3Yxg48MOgsWcH4FIAPrAEkCfAu8DAAAAAElF\n",
       "TkSuQmCC\n",
       "\" style=\"display:inline;vertical-align:middle;\" /></a></td></tr>\n",
       "<tr><td>11</td><td>Variable</td><td></td><td><a class=\"ProveItLink\" href=\"../../../../__pv_it/a8d4b3a34d2189508f9082853fbac36935714f280/expr.ipynb\"><img src=\"data:image/png;base64,iVBORw0KGgoAAAANSUhEUgAAAAsAAAAJBAMAAAAWSsseAAAAMFBMVEX////MzMxUVFQyMjKqqqoi\n",
       "IiKYmJju7u5EREQQEBC6urqIiIh2dnZmZmbc3NwAAAD0tjQRAAAAAXRSTlMAQObYZgAAAAlwSFlz\n",
       "AAAOxAAADsQBlSsOGwAAAEdJREFUCNdjYOC7s28DAwPDygcc3xkY2Kcx8AYwMPB+Z2A9wMDA2cBQ\n",
       "v4CBof4AQz5QRb0DQzPLAwbmDWyxPECV2gcfbWQAABp5EMgcedARAAAAAElFTkSuQmCC\n",
       "\" style=\"display:inline;vertical-align:middle;\" /></a></td></tr>\n",
       "</table>\n"
      ],
      "text/plain": [
       "0. ((f(i) , f(j)) , (f(i) ,  ...  , f(j)))\n",
       "   core type: ExprTuple\n",
       "   sub-expressions: 1, 2\n",
       "1. (f(i) , f(j))\n",
       "   core type: ExprTuple\n",
       "   sub-expressions: 3, 4\n",
       "2. (f(i) ,  ...  , f(j))\n",
       "   core type: ExprTuple\n",
       "   sub-expressions: 5\n",
       "3. f(i)\n",
       "   core type: Operation\n",
       "   operator: 10\n",
       "   operand: 7\n",
       "4. f(j)\n",
       "   core type: Operation\n",
       "   operator: 10\n",
       "   operand: 8\n",
       "5. f(i),...,f(j)\n",
       "   core type: ExprRange\n",
       "   lambda_map: 6\n",
       "   start_index: 7\n",
       "   end_index: 8\n",
       "6. a -> f(a)\n",
       "   core type: Lambda\n",
       "   parameter: 11\n",
       "   body: 9\n",
       "7. i\n",
       "   core type: Variable\n",
       "   sub-expressions: \n",
       "8. j\n",
       "   core type: Variable\n",
       "   sub-expressions: \n",
       "9. f(a)\n",
       "   core type: Operation\n",
       "   operator: 10\n",
       "   operand: 11\n",
       "10. f\n",
       "    core type: Variable\n",
       "    sub-expressions: \n",
       "11. a\n",
       "    core type: Variable\n",
       "    sub-expressions: "
      ]
     },
     "execution_count": 5,
     "metadata": {},
     "output_type": "execute_result"
    }
   ],
   "source": [
    "# display the expression information\n",
    "expr.exprInfo()"
   ]
  },
  {
   "cell_type": "code",
   "execution_count": null,
   "metadata": {},
   "outputs": [],
   "source": []
  }
 ],
 "metadata": {
  "kernelspec": {
   "display_name": "Python 3",
   "language": "python",
   "name": "python3"
  },
  "language_info": {
   "codemirror_mode": {
    "name": "ipython",
    "version": 3
   },
   "file_extension": ".py",
   "mimetype": "text/x-python",
   "name": "python",
   "nbconvert_exporter": "python",
   "pygments_lexer": "ipython3",
   "version": "3.7.4"
  }
 },
 "nbformat": 4,
 "nbformat_minor": 1
}
