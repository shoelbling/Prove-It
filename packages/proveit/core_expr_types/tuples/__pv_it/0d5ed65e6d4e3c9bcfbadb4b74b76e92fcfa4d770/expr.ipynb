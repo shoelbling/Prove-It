{
 "cells": [
  {
   "cell_type": "markdown",
   "metadata": {},
   "source": [
    "Expression of type <a class=\"ProveItLink\" href=\"../../../../../../doc/html/api/proveit.ExprTuple.html\">ExprTuple</a>\n",
    "=======================\n",
    "# from context <a class=\"ProveItLink\" href=\"../../_context_.ipynb\">proveit.core_expr_types.tuples</a>"
   ]
  },
  {
   "cell_type": "code",
   "execution_count": 1,
   "metadata": {},
   "outputs": [],
   "source": [
    "import proveit\n",
    "# Automation is not needed when building an expression:\n",
    "proveit.defaults.automation = False # This will speed things up.\n",
    "# import Expression classes needed to build the expression\n",
    "from proveit import ExprTuple, Function, Variable\n",
    "from proveit.logic import Equals"
   ]
  },
  {
   "cell_type": "code",
   "execution_count": 2,
   "metadata": {},
   "outputs": [
    {
     "data": {
      "text/html": [
       "<strong id=\"expr\">expr:</strong> <a class=\"ProveItLink\" href=\"expr.ipynb\"><img src=\"data:image/png;base64,iVBORw0KGgoAAAANSUhEUgAAAHsAAAAVBAMAAACUF4xmAAAAMFBMVEX////MzMxUVFREREQiIiK6\n",
       "uroQEBCYmJhmZmYyMjLu7u52dnaqqqqIiIjc3NwAAACFAiZ1AAAAAXRSTlMAQObYZgAAAAlwSFlz\n",
       "AAAOxAAADsQBlSsOGwAAAgxJREFUOMuFVD1IHEEU/u5/b2/vYq2FgoUQCRHBIkKSK6xEJIUEApG7\n",
       "Jo0YOAiBBIIRSSISJNcpIrhqI0JQ7MQELFJIUriYJoWHC6ZLipOQQkST78063u4mxz54++Z78755\n",
       "M2/mLQAXfrlEBUSLCs3v+l0apZxo+qh8vlC//untnLc1UnIYTZdUZlVGp0BiDBqJZO1o/gJgVGhj\n",
       "54BF9ZCSzGQ0/RmQVts4oZ7hEnkyFk1P23ggNlGncgkPeTIXTc9W8FbstR6gJLUW9P5geYdF2dJB\n",
       "Zu1624cgz/zmYAXIdXhJ2h38GNIpJ/M3jCLwXMcaOHBeiR1Q0sFhzirjJetThWIdde88VaFEGTd/\n",
       "EWcFP2n6BI7crmD2n0YVnax2EY8E3tV+ohgS6vbata8Ft8KHttMOHjO07tFPfXRWQr24+43o83+K\n",
       "VrJjrHSqjEW59jPtXlRzrmn7No/UBdaDZ8cM8mW1+dty7b91JNHqvZvIcfhEKizaF69jM5S9Fwku\n",
       "k+lR95OtazfRfusbPORwlrrBKlgna+XUbog+hRKrazgYAeJLv3R/Ea3VrGmJHqYmB5l91tl7ET77\n",
       "ysd3bNeki2SL391AhaJ8Pzd9cdvU7+HWaCCveTb/zzWq5jjNNPVOYOIKHavH2eSnkXTiXLjAp47V\n",
       "wMQV6lebabJzq/ZaGk1+CYWKf0KjjBvdcBPAXwY+fTNROmd/AAAAAElFTkSuQmCC\n",
       "\" style=\"display:inline;vertical-align:middle;\" /></a><br>"
      ],
      "text/plain": [
       "expr: (P(x) , x = y)"
      ]
     },
     "execution_count": 2,
     "metadata": {},
     "output_type": "execute_result"
    }
   ],
   "source": [
    "# build up the expression from sub-expressions\n",
    "subExpr1 = Variable(\"x\")\n",
    "expr = ExprTuple(Function(Variable(\"P\"), subExpr1), Equals(subExpr1, Variable(\"y\")))"
   ]
  },
  {
   "cell_type": "code",
   "execution_count": 3,
   "metadata": {},
   "outputs": [
    {
     "name": "stdout",
     "output_type": "stream",
     "text": [
      "Passed sanity check: built 'expr' is the same as the stored Expression.\n"
     ]
    }
   ],
   "source": [
    "# check that the built expression is the same as the stored expression\n",
    "%check_expr"
   ]
  },
  {
   "cell_type": "code",
   "execution_count": 4,
   "metadata": {},
   "outputs": [
    {
     "name": "stdout",
     "output_type": "stream",
     "text": [
      "\\left(P\\left(x\\right) , x = y\\right)\n"
     ]
    }
   ],
   "source": [
    "# Show the LaTeX representation of the expression for convenience if you need it.\n",
    "print(expr.latex())"
   ]
  },
  {
   "cell_type": "code",
   "execution_count": 5,
   "metadata": {},
   "outputs": [
    {
     "data": {
      "text/html": [
       "<table><tr><th>&nbsp;</th><th>core type</th><th>sub-expressions</th><th>expression</th></tr>\n",
       "<tr><td>0</td><td>ExprTuple</td><td>1, 2</td><td><a class=\"ProveItLink\" href=\"expr.ipynb\"><img src=\"data:image/png;base64,iVBORw0KGgoAAAANSUhEUgAAAHsAAAAVBAMAAACUF4xmAAAAMFBMVEX////MzMxUVFREREQiIiK6\n",
       "uroQEBCYmJhmZmYyMjLu7u52dnaqqqqIiIjc3NwAAACFAiZ1AAAAAXRSTlMAQObYZgAAAAlwSFlz\n",
       "AAAOxAAADsQBlSsOGwAAAgxJREFUOMuFVD1IHEEU/u5/b2/vYq2FgoUQCRHBIkKSK6xEJIUEApG7\n",
       "Jo0YOAiBBIIRSSISJNcpIrhqI0JQ7MQELFJIUriYJoWHC6ZLipOQQkST78063u4mxz54++Z78755\n",
       "M2/mLQAXfrlEBUSLCs3v+l0apZxo+qh8vlC//untnLc1UnIYTZdUZlVGp0BiDBqJZO1o/gJgVGhj\n",
       "54BF9ZCSzGQ0/RmQVts4oZ7hEnkyFk1P23ggNlGncgkPeTIXTc9W8FbstR6gJLUW9P5geYdF2dJB\n",
       "Zu1624cgz/zmYAXIdXhJ2h38GNIpJ/M3jCLwXMcaOHBeiR1Q0sFhzirjJetThWIdde88VaFEGTd/\n",
       "EWcFP2n6BI7crmD2n0YVnax2EY8E3tV+ohgS6vbata8Ft8KHttMOHjO07tFPfXRWQr24+43o83+K\n",
       "VrJjrHSqjEW59jPtXlRzrmn7No/UBdaDZ8cM8mW1+dty7b91JNHqvZvIcfhEKizaF69jM5S9Fwku\n",
       "k+lR95OtazfRfusbPORwlrrBKlgna+XUbog+hRKrazgYAeJLv3R/Ea3VrGmJHqYmB5l91tl7ET77\n",
       "ysd3bNeki2SL391AhaJ8Pzd9cdvU7+HWaCCveTb/zzWq5jjNNPVOYOIKHavH2eSnkXTiXLjAp47V\n",
       "wMQV6lebabJzq/ZaGk1+CYWKf0KjjBvdcBPAXwY+fTNROmd/AAAAAElFTkSuQmCC\n",
       "\" style=\"display:inline;vertical-align:middle;\" /></a></td></tr>\n",
       "<tr><td>1</td><td>Operation</td><td>operator:&nbsp;3<br>operand:&nbsp;6<br></td><td><a class=\"ProveItLink\" href=\"../2548a99d921e002e203801a4828f7377ced085bf0/expr.ipynb\"><img src=\"data:image/png;base64,iVBORw0KGgoAAAANSUhEUgAAAC4AAAAVBAMAAADLKsFqAAAAMFBMVEX///+YmJgiIiLc3Ny6urp2\n",
       "dnaqqqrMzMwQEBDu7u5mZmYyMjJUVFRERESIiIgAAACzCz+6AAAAAXRSTlMAQObYZgAAAAlwSFlz\n",
       "AAAOxAAADsQBlSsOGwAAAQpJREFUGNNjYEAGBhCKmQEV8CVAaJYHIPLt/ztnd00AsVJhCp6Byd8M\n",
       "DLydQJpzA0ycG6SM/R8DAxsQM3AJwMQZF4BM/Q7EX4EMDoRNIO28H4AYKMfgjRDfCMT8FxgY/EEu\n",
       "WArE895MDwW6KgbIrH/AYKoGU7SA7xyXAgODNJD5/mioCFgzUJLRgO8zD9D6JCD3PszQFqDbGHjB\n",
       "jq2HOB8uDrQN7FcPoJKvMPFtIMLfgHMC2By+LzDxewwMcx3OM7ACmbJAP3+AiQMdl1+5gsENyFzH\n",
       "wLP/7wOouBMDw6x3bAtBgaqMHMxMBTAWswKyODi0wAARgmBwGcawRY2vuTDGTVRxZqh2RgMGAF7Q\n",
       "Oro1FvfJAAAAAElFTkSuQmCC\n",
       "\" style=\"display:inline;vertical-align:middle;\" /></a></td></tr>\n",
       "<tr><td>2</td><td>Operation</td><td>operator:&nbsp;4<br>operands:&nbsp;5<br></td><td><a class=\"ProveItLink\" href=\"../ae69c5423268187f3ecac0931bfa3f986d3c6b4b0/expr.ipynb\"><img src=\"data:image/png;base64,iVBORw0KGgoAAAANSUhEUgAAADMAAAANBAMAAAD2/0vEAAAAMFBMVEX///8QEBC6uroyMjJERETc\n",
       "3NyYmJgiIiJmZmaqqqp2dnbMzMxUVFSIiIju7u4AAAAoIwv1AAAAAXRSTlMAQObYZgAAAAlwSFlz\n",
       "AAAOxAAADsQBlSsOGwAAAJ1JREFUGNNjYHh75/WqCQwogO/GBYY3QLqB9yxHAZDmKAeDA0AmF6cA\n",
       "Qz4DA1sA71eeBFRdkRwGDEcYGLgZWAwY0MADxgsMsiAG/wV0KQb9B9y/wXQA3wNUuxiaGXgFGBie\n",
       "KJxn4ELX5cPAAlQyf18jgya6VA+DPtBlL+5ytk1Al3qztj+AARdYjEOcw4BPEocU+wWeBTikOO82\n",
       "AUkAd6ApmCXBelcAAAAASUVORK5CYII=\n",
       "\" style=\"display:inline;vertical-align:middle;\" /></a></td></tr>\n",
       "<tr><td>3</td><td>Variable</td><td></td><td><a class=\"ProveItLink\" href=\"../390c91a44e60b16c95d2255652741252e8ec8d980/expr.ipynb\"><img src=\"data:image/png;base64,iVBORw0KGgoAAAANSUhEUgAAABAAAAAOBAMAAADUAYG5AAAAMFBMVEX///+YmJgiIiLc3Ny6urp2\n",
       "dnaqqqrMzMwQEBDu7u5mZmYyMjJUVFRERESIiIgAAACzCz+6AAAAAXRSTlMAQObYZgAAAAlwSFlz\n",
       "AAAOxAAADsQBlSsOGwAAAF1JREFUCNdjYGB4+//O2V0TGIDgNwMDbyeQZv/HwMAGxAx834H4K5DB\n",
       "+wGIgRwG/gsMDP4PgIz6BwymaiBN74+GioBohvsMUPAbSrN/hTL4vkAZ3B8gNM/+vyAzGABqABnj\n",
       "X5k3PAAAAABJRU5ErkJggg==\n",
       "\" style=\"display:inline;vertical-align:middle;\" /></a></td></tr>\n",
       "<tr><td>4</td><td>Literal</td><td></td><td><a class=\"ProveItLink\" href=\"../../../../logic/equality/__pv_it/e16d2caa26a16688b658bdb9c422caf4b84579e10/expr.ipynb\"><img src=\"data:image/png;base64,iVBORw0KGgoAAAANSUhEUgAAAA4AAAAFBAMAAACHocAhAAAAD1BMVEX///9UVFQiIiJmZmYAAACP\n",
       "OqLZAAAAAXRSTlMAQObYZgAAAAlwSFlzAAAOxAAADsQBlSsOGwAAABJJREFUCNdjMFICAUUGXAAq\n",
       "DwAoFgH7Aeay4gAAAABJRU5ErkJggg==\n",
       "\" style=\"display:inline;vertical-align:middle;\" /></a></td></tr>\n",
       "<tr><td>5</td><td>ExprTuple</td><td>6, 7</td><td><a class=\"ProveItLink\" href=\"../d6c4b110a769a6fd35fecf1455b60c19f379d7e50/expr.ipynb\"><img src=\"data:image/png;base64,iVBORw0KGgoAAAANSUhEUgAAACwAAAAVBAMAAADP3xFXAAAAMFBMVEX////MzMxUVFREREQiIiK6\n",
       "uroQEBCYmJhmZmYyMjLu7u52dnaqqqqIiIjc3NwAAACFAiZ1AAAAAXRSTlMAQObYZgAAAAlwSFlz\n",
       "AAAOxAAADsQBlSsOGwAAARdJREFUGNNtkLFLAmEYxn9petendzq3eLtI0RgUDo4lDiEEQVNLEARO\n",
       "bU6GhODW0mAI0XIQri0O0RKRNIhDwUH/QFvYIL3v5S2eL3zPx/2+797veV4gYKFcFWe4iFMjkRdi\n",
       "9QGmG8drPezzOLaapFlSpxwuw9dcifrvt4//fvwOxoOBHEDTKdnlED88Y33DBXvyQuDMEuHL7rBN\n",
       "YhOeOIEVknOXhjPSEqagGHKjKOAvhTzUudGv48D0Qmx3GaNNdqBf2yADepD02JKtIV54W29xhJnq\n",
       "bS/1I1uHA7j/zF6K7YpcN8XJTHCV1XwULRu2z4gpt6xjmZe0p82d/Kfj242wL2ufouiXrH6ENefr\n",
       "pCa6rYFjA7cC/gA9wTtx/wv4QgAAAABJRU5ErkJggg==\n",
       "\" style=\"display:inline;vertical-align:middle;\" /></a></td></tr>\n",
       "<tr><td>6</td><td>Variable</td><td></td><td><a class=\"ProveItLink\" href=\"../72df168d2bfb4e0140af90912ebf83b13772060b0/expr.ipynb\"><img src=\"data:image/png;base64,iVBORw0KGgoAAAANSUhEUgAAAAsAAAAJBAMAAAAWSsseAAAAMFBMVEX///8QEBC6uroyMjJERETc\n",
       "3NyYmJgiIiJmZmaqqqp2dnbMzMxUVFSIiIju7u4AAAAoIwv1AAAAAXRSTlMAQObYZgAAAAlwSFlz\n",
       "AAAOxAAADsQBlSsOGwAAAENJREFUCNdjYHh75/WqCQwMDbxnOQoY2AJ4v/IkMHAzsBgwgAD/BTCl\n",
       "H8D3gOGJwnkGLgaG+fsaGTQZGF7c5WybwAAAJGsQ2L2rVEcAAAAASUVORK5CYII=\n",
       "\" style=\"display:inline;vertical-align:middle;\" /></a></td></tr>\n",
       "<tr><td>7</td><td>Variable</td><td></td><td><a class=\"ProveItLink\" href=\"../c6e291955561f22a0e6708fd793ea93f1c7dbb5d0/expr.ipynb\"><img src=\"data:image/png;base64,iVBORw0KGgoAAAANSUhEUgAAAAsAAAANBAMAAACN24kIAAAAMFBMVEX///8iIiLMzMy6urpEREQy\n",
       "MjLc3NyYmJgQEBCqqqp2dnZUVFRmZmaIiIju7u4AAACJ/BCYAAAAAXRSTlMAQObYZgAAAAlwSFlz\n",
       "AAAOxAAADsQBlSsOGwAAAFdJREFUCNdj4LtzgeE1AwMXZwNDPQNDJk8AwxYGhgccFxh6GRgY7B8w\n",
       "fQJSRxl4G4CUNwPLBiB1msG+AEi9Xns+gQEElgIxTwBfJ5BivMC9AEhx3j0MJAH6nBTYXSPRQAAA\n",
       "AABJRU5ErkJggg==\n",
       "\" style=\"display:inline;vertical-align:middle;\" /></a></td></tr>\n",
       "</table>\n"
      ],
      "text/plain": [
       "0. (P(x) , x = y)\n",
       "   core type: ExprTuple\n",
       "   sub-expressions: 1, 2\n",
       "1. P(x)\n",
       "   core type: Operation\n",
       "   operator: 3\n",
       "   operand: 6\n",
       "2. x = y\n",
       "   core type: Operation\n",
       "   operator: 4\n",
       "   operands: 5\n",
       "3. P\n",
       "   core type: Variable\n",
       "   sub-expressions: \n",
       "4. =\n",
       "   core type: Literal\n",
       "   sub-expressions: \n",
       "5. (x , y)\n",
       "   core type: ExprTuple\n",
       "   sub-expressions: 6, 7\n",
       "6. x\n",
       "   core type: Variable\n",
       "   sub-expressions: \n",
       "7. y\n",
       "   core type: Variable\n",
       "   sub-expressions: "
      ]
     },
     "execution_count": 5,
     "metadata": {},
     "output_type": "execute_result"
    }
   ],
   "source": [
    "# display the expression information\n",
    "expr.exprInfo()"
   ]
  },
  {
   "cell_type": "code",
   "execution_count": null,
   "metadata": {},
   "outputs": [],
   "source": []
  }
 ],
 "metadata": {
  "kernelspec": {
   "display_name": "Python 3",
   "language": "python",
   "name": "python3"
  },
  "language_info": {
   "codemirror_mode": {
    "name": "ipython",
    "version": 3
   },
   "file_extension": ".py",
   "mimetype": "text/x-python",
   "name": "python",
   "nbconvert_exporter": "python",
   "pygments_lexer": "ipython3",
   "version": "3.7.4"
  }
 },
 "nbformat": 4,
 "nbformat_minor": 1
}
