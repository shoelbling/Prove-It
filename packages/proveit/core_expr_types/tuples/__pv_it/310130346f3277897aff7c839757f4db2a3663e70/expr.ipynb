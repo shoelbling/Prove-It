{
 "cells": [
  {
   "cell_type": "markdown",
   "metadata": {},
   "source": [
    "Expression of type <a class=\"ProveItLink\" href=\"../../../../../../doc/html/api/proveit.Lambda.html\">Lambda</a>\n",
    "=======================\n",
    "# from context <a class=\"ProveItLink\" href=\"../../_context_.ipynb\">proveit.core_expr_types.tuples</a>"
   ]
  },
  {
   "cell_type": "code",
   "execution_count": 1,
   "metadata": {},
   "outputs": [],
   "source": [
    "import proveit\n",
    "# Automation is not needed when building an expression:\n",
    "proveit.defaults.automation = False # This will speed things up.\n",
    "# import Expression classes needed to build the expression\n",
    "from proveit import Lambda, Len\n",
    "from proveit._common_ import a\n",
    "from proveit.logic import Equals\n",
    "from proveit.number import one"
   ]
  },
  {
   "cell_type": "code",
   "execution_count": 2,
   "metadata": {},
   "outputs": [
    {
     "data": {
      "text/html": [
       "<strong id=\"expr\">expr:</strong> <a class=\"ProveItLink\" href=\"../ffb2bda606e311d685aed941d4a74d1a3557a6400/expr.ipynb\"><img src=\"data:image/png;base64,iVBORw0KGgoAAAANSUhEUgAAAI0AAAAVCAMAAABMtZ25AAAANlBMVEX///8WFhYNDQ3MzMxUVFQy\n",
       "MjKqqqoiIiKYmJju7u5EREQQEBC6urqIiIh2dnZmZmbc3NwAAADRPqZpAAAAAXRSTlMAQObYZgAA\n",
       "AAlwSFlzAAAOxAAADsQBlSsOGwAAAaBJREFUSMedVtuWhCAMY1ewlIvA///siqNCK+4AffAMGZKG\n",
       "UkEhRiPeD4I0R3FQdjj8mp+b48gdzpff9bQvUdO6Y914mhNpuutxswC2FtUTqHiaC6lCYbcblEEl\n",
       "5LTeCJqnuZAqdBipjb/cFNr7XNpd9pHGNkgWZ9wUGqke6RNi2CmexqmGgtJTbj60GDYfS0sDmUxG\n",
       "YeNpbqQW2eSUm4Pm7L4b5saYm9X8u+gLISJaPd0EqEI23WQaWn1MfqmN8KZsHaw8zYlQkRWmapNp\n",
       "4RhBOTV+f4BESqVlHU9zIlRkSVNuMs3mrcCSkdfGqfLXqxsq4uyUm52GKS9Ip5e+FUt9KKnHTn0Q\n",
       "JtLaqY6+2WmYsp5RYo1NN6o+cIznaT4IE9FmqjaZpnY9DUHcjUMUHDlvnq/uiVCR4KfcZBpKvy1R\n",
       "+qV9FRDYPbbgRKgIxG430tgE0lNab8DC08BzFREmvihqWm9cN1tJ07jrykU65KZx/34LE3kaw+sb\n",
       "zczXVk3r/8AxPA1ylersHnFjcNyNiEc9656PtMK6qtXLq9HsgUz7A+pfE+Oz+8JSAAAAAElFTkSu\n",
       "QmCC\n",
       "\" style=\"display:inline;vertical-align:middle;\" /></a><br>"
      ],
      "text/plain": [
       "expr: a -> (|(a)| = 1)"
      ]
     },
     "execution_count": 2,
     "metadata": {},
     "output_type": "execute_result"
    }
   ],
   "source": [
    "# build up the expression from sub-expressions\n",
    "expr = Lambda(a, Equals(Len([a]), one))"
   ]
  },
  {
   "cell_type": "code",
   "execution_count": 3,
   "metadata": {},
   "outputs": [
    {
     "name": "stdout",
     "output_type": "stream",
     "text": [
      "Passed sanity check: built 'expr' is the same as the stored Expression.\n"
     ]
    }
   ],
   "source": [
    "# check that the built expression is the same as the stored expression\n",
    "%check_expr"
   ]
  },
  {
   "cell_type": "code",
   "execution_count": 4,
   "metadata": {},
   "outputs": [
    {
     "name": "stdout",
     "output_type": "stream",
     "text": [
      "a \\mapsto \\left(|\\left(a\\right)| = 1\\right)\n"
     ]
    }
   ],
   "source": [
    "# Show the LaTeX representation of the expression for convenience if you need it.\n",
    "print(expr.latex())"
   ]
  },
  {
   "cell_type": "code",
   "execution_count": 5,
   "metadata": {},
   "outputs": [
    {
     "data": {
      "text/html": [
       "<table><tr><th>&nbsp;</th><th>core type</th><th>sub-expressions</th><th>expression</th></tr>\n",
       "<tr><td>0</td><td>Lambda</td><td>parameter:&nbsp;9<br>body:&nbsp;1<br></td><td><a class=\"ProveItLink\" href=\"../ffb2bda606e311d685aed941d4a74d1a3557a6400/expr.ipynb\"><img src=\"data:image/png;base64,iVBORw0KGgoAAAANSUhEUgAAAI0AAAAVCAMAAABMtZ25AAAANlBMVEX///8WFhYNDQ3MzMxUVFQy\n",
       "MjKqqqoiIiKYmJju7u5EREQQEBC6urqIiIh2dnZmZmbc3NwAAADRPqZpAAAAAXRSTlMAQObYZgAA\n",
       "AAlwSFlzAAAOxAAADsQBlSsOGwAAAaBJREFUSMedVtuWhCAMY1ewlIvA///siqNCK+4AffAMGZKG\n",
       "UkEhRiPeD4I0R3FQdjj8mp+b48gdzpff9bQvUdO6Y914mhNpuutxswC2FtUTqHiaC6lCYbcblEEl\n",
       "5LTeCJqnuZAqdBipjb/cFNr7XNpd9pHGNkgWZ9wUGqke6RNi2CmexqmGgtJTbj60GDYfS0sDmUxG\n",
       "YeNpbqQW2eSUm4Pm7L4b5saYm9X8u+gLISJaPd0EqEI23WQaWn1MfqmN8KZsHaw8zYlQkRWmapNp\n",
       "4RhBOTV+f4BESqVlHU9zIlRkSVNuMs3mrcCSkdfGqfLXqxsq4uyUm52GKS9Ip5e+FUt9KKnHTn0Q\n",
       "JtLaqY6+2WmYsp5RYo1NN6o+cIznaT4IE9FmqjaZpnY9DUHcjUMUHDlvnq/uiVCR4KfcZBpKvy1R\n",
       "+qV9FRDYPbbgRKgIxG430tgE0lNab8DC08BzFREmvihqWm9cN1tJ07jrykU65KZx/34LE3kaw+sb\n",
       "zczXVk3r/8AxPA1ylersHnFjcNyNiEc9656PtMK6qtXLq9HsgUz7A+pfE+Oz+8JSAAAAAElFTkSu\n",
       "QmCC\n",
       "\" style=\"display:inline;vertical-align:middle;\" /></a></td></tr>\n",
       "<tr><td>1</td><td>Operation</td><td>operator:&nbsp;2<br>operands:&nbsp;3<br></td><td><a class=\"ProveItLink\" href=\"../65018d1b31b650a6ca2f0b340987fa18d2203d3d0/expr.ipynb\"><img src=\"data:image/png;base64,iVBORw0KGgoAAAANSUhEUgAAAFAAAAAVBAMAAAAjqnRBAAAAMFBMVEX///9UVFREREQiIiIQEBCY\n",
       "mJhmZmYyMjLu7u6qqqrMzMyIiIi6urp2dnbc3NwAAABm9RoHAAAAAXRSTlMAQObYZgAAAAlwSFlz\n",
       "AAAOxAAADsQBlSsOGwAAAPVJREFUKM9jeMAAAnwMyBREDA3cAZM7IRyeDUhi2BRyXoDydmJXyGUB\n",
       "FWyHibA3YFPYmP4DKpgKE2JNwGoiN0yhA1zIA69CngK4UClehWwgvzy7/RpIXsSrkD0AaKofgz7Q\n",
       "J+FwhcnGIGCIopB5AgNDSwBDMpA5Ga+JLAcYGPIbGGyBzPUEFToxcPwBMo/gd+MEBo6/DKwfUKzG\n",
       "5kamDQwcPxmYCuYxMAThNZFXgIGhmiE4ARhK2fgD3AAYn3vXSS9gYLDDppBR5bM0RNAKJsRngD+Z\n",
       "hcF4bAH4FTLB0vQjAgmXQwHK08CtcBeYfApNjg+QxFABADLQWqPn0gWaAAAAAElFTkSuQmCC\n",
       "\" style=\"display:inline;vertical-align:middle;\" /></a></td></tr>\n",
       "<tr><td>2</td><td>Literal</td><td></td><td><a class=\"ProveItLink\" href=\"../../../../logic/equality/__pv_it/e16d2caa26a16688b658bdb9c422caf4b84579e10/expr.ipynb\"><img src=\"data:image/png;base64,iVBORw0KGgoAAAANSUhEUgAAAA4AAAAFBAMAAACHocAhAAAAD1BMVEX///9UVFQiIiJmZmYAAACP\n",
       "OqLZAAAAAXRSTlMAQObYZgAAAAlwSFlzAAAOxAAADsQBlSsOGwAAABJJREFUCNdjMFICAUUGXAAq\n",
       "DwAoFgH7Aeay4gAAAABJRU5ErkJggg==\n",
       "\" style=\"display:inline;vertical-align:middle;\" /></a></td></tr>\n",
       "<tr><td>3</td><td>ExprTuple</td><td>4, 5</td><td><a class=\"ProveItLink\" href=\"../c5b782b735d5a9ddd9c7f53c75020e583fd804c70/expr.ipynb\"><img src=\"data:image/png;base64,iVBORw0KGgoAAAANSUhEUgAAAE0AAAAVBAMAAADx+n4ZAAAAMFBMVEX////MzMxUVFREREQiIiK6\n",
       "uroQEBCYmJhmZmYyMjLu7u52dnaqqqqIiIjc3NwAAACFAiZ1AAAAAXRSTlMAQObYZgAAAAlwSFlz\n",
       "AAAOxAAADsQBlSsOGwAAAXdJREFUKM9jYGB4AIQgwMeATEHEkNi8Bxi2gnl3IIKsF8DUViR1sSDi\n",
       "NFSMZwNU9A6KOkYvsFEMXBOgYithujkXIKlb1PkLSM5iYOAogIq1w9SxNyCbxwtSV8HAwAYTS4A7\n",
       "JwtDHdsChkioGOsEuLrpGOo4Cxi6oWIcIG+82PsWSG7CUMetANa8FaKFgTWPwR7oiUoMdewTGHyg\n",
       "YixAvy8rYGgBMo9gqONxYEiFirEFMDD0L2DwBjLlMdQxfkBRl8zA9RXIDMNQx5rAMAfmvgMMXL8Z\n",
       "2D/gstcWKsZ8gYHrDwPzhHMMDMVQdQsQ/jAAB8JWiNcZ5jKUNACDpxeijusnXB3HBYYQWDg7ACPz\n",
       "tpyuAAODH9Q8F6CBTGZfdIGB8YCBRQDqFkdYdPA5QNXxLIAJPYHEOlhdBUwQlDLAYtzwmASlETuo\n",
       "OmZYCn4MS39r4TYYAInFUHVcBlBRK5i6Apg6ZpAD+AoYLoJ5z6HJD2LuRaR0X8fAAAC1um6PO4U7\n",
       "TwAAAABJRU5ErkJggg==\n",
       "\" style=\"display:inline;vertical-align:middle;\" /></a></td></tr>\n",
       "<tr><td>4</td><td>Operation</td><td>operator:&nbsp;6<br>operand:&nbsp;8<br></td><td><a class=\"ProveItLink\" href=\"../a328052a56446b242c31e4f8e396eafe14d60bdf0/expr.ipynb\"><img src=\"data:image/png;base64,iVBORw0KGgoAAAANSUhEUgAAACoAAAAVBAMAAADCwWEQAAAAMFBMVEX///9UVFREREQiIiIQEBCY\n",
       "mJhmZmYyMjLu7u6qqqrMzMyIiIi6urp2dnbc3NwAAABm9RoHAAAAAXRSTlMAQObYZgAAAAlwSFlz\n",
       "AAAOxAAADsQBlSsOGwAAANZJREFUGNNjeMAAAnwMyNQDhjtgeieEy7MBTN2BiHJegIhCZaGi7VBB\n",
       "BvYGJNFUmChrApKoA0yUwQMhylMAFy1FiLKBLHt2+zWQvIgQZQ8Aqvdj0AdaFY4QZZ7AwNASwJAM\n",
       "ZE5GiLIcYGDIb2CwBTLXo4o6MXD8ATKPIJk7gYHjLwPrB1QTmDYwcPxkYCqYx8AQhBDlFWBgqGYI\n",
       "TgA6MBvJFwYMDI1710kvYGCwQ/KxFcxrfAZIomEwUbYAJFGmB1DRR8jhy6EAFdWAiu4C00+hwQvR\n",
       "swsAQ1FJBzjGrLMAAAAASUVORK5CYII=\n",
       "\" style=\"display:inline;vertical-align:middle;\" /></a></td></tr>\n",
       "<tr><td>5</td><td>Literal</td><td></td><td><a class=\"ProveItLink\" href=\"../../../../number/numeral/__pv_it/f086f8c372bd40a2458306ddfdbb29f3dc6f63030/expr.ipynb\"><img src=\"data:image/png;base64,iVBORw0KGgoAAAANSUhEUgAAAAgAAAAOBAMAAADgeEClAAAAIVBMVEX///8QEBBERESIiIgyMjJm\n",
       "ZmZUVFTu7u4iIiLMzMwAAAAWRytzAAAAAXRSTlMAQObYZgAAAAlwSFlzAAAOxAAADsQBlSsOGwAA\n",
       "ABtJREFUCNdjYOBsZ2AoC1nOwMDATBbBprgiGQBsuwqCZsDj4wAAAABJRU5ErkJggg==\n",
       "\" style=\"display:inline;vertical-align:middle;\" /></a></td></tr>\n",
       "<tr><td>6</td><td>Literal</td><td></td><td><a class=\"ProveItLink\" href=\"../92831c6291223dfbd76a11e90e750ae52564aa9f0/expr.ipynb\"><img src=\"data:image/png;base64,iVBORw0KGgoAAAANSUhEUgAAADsAAAASBAMAAAAXqLt+AAAAMFBMVEX///+qqqq6urru7u4QEBBE\n",
       "RERUVFTc3NyIiIgyMjJmZmaYmJjMzMwiIiJ2dnYAAACPW0xlAAAAAXRSTlMAQObYZgAAAAlwSFlz\n",
       "AAAOxAAADsQBlSsOGwAAAUNJREFUKM91kD1Lw1AUhp8kNVX7ke4OBgQ3NaOTFURwkg7apUMLIjpm\n",
       "0FWD+NGxozgVHFQEiaNT+wtsNxeRjLbQUiwoYhDPjQ5C2wuXey7POe95z4FOyLBjbDSjN9Ebwp5g\n",
       "ohqFk5VBrEmJlYnClDeIVcmCE4WH9UGcCqDzG9bkLpUvmd85OBUh7frMny3mPS6mTlxB26A/80iw\n",
       "6Rkf0GIvx7S4+3TNkuA10fc5StqrxEO0PpbHjaiEmDlISkWx3LUN403NGMvRcHmJ3MWk1/gyvP8N\n",
       "I+mNDMdIpnKnTI+VHL4VNitYvlNzyaP3cLJ25N3yPaWlEQvEUVDD+CJd0VwZaD3hYM14PGBcKalW\n",
       "ws26Zh+ztKgGCtOy8jvp/1qGOdi/R99tN4kXfArQHbJPUlVGnuQWjfpobK4Y56Mp+m3b/v//AcRT\n",
       "WSEJp2bgAAAAAElFTkSuQmCC\n",
       "\" style=\"display:inline;vertical-align:middle;\" /></a></td></tr>\n",
       "<tr><td>7</td><td>ExprTuple</td><td>8</td><td><a class=\"ProveItLink\" href=\"../7c1a61d7cd9d404c36cd4d2228c615a840d0c97b0/expr.ipynb\"><img src=\"data:image/png;base64,iVBORw0KGgoAAAANSUhEUgAAACcAAAAVBAMAAAA3P+qgAAAAMFBMVEX////MzMxUVFREREQiIiK6\n",
       "uroQEBCYmJhmZmYyMjLu7u52dnaqqqqIiIjc3NwAAACFAiZ1AAAAAXRSTlMAQObYZgAAAAlwSFlz\n",
       "AAAOxAAADsQBlSsOGwAAANFJREFUGNNNzLEOwWAUxfEjqq2i8QheQNLVQIwGg0EkBolFrB1N2AwW\n",
       "m0QMEg9QPIHdUi8gjXgAs8n97vki/skvuTn5WgAZCH9n5UqmkYWb9f8g2BDbkR8Tm5ELYu5BDeUc\n",
       "/sZirNZyGuH6kQKlmtrKYAyy/AfwNqorgwim8NtAmSYyCv8D5wTk3sqOboSkBxTGai+jSE5Y4Pd5\n",
       "U06RXNEoZ/AiGBcZRTH1OiX5dar6Moqgfn7eASdTThWKvchbEltZLcsURoSjZcofCGFMpjl9AbpK\n",
       "O6Mzz/v6AAAAAElFTkSuQmCC\n",
       "\" style=\"display:inline;vertical-align:middle;\" /></a></td></tr>\n",
       "<tr><td>8</td><td>ExprTuple</td><td>9</td><td><a class=\"ProveItLink\" href=\"../68e51884dae55a9c544ebe02dc78b572e602a87c0/expr.ipynb\"><img src=\"data:image/png;base64,iVBORw0KGgoAAAANSUhEUgAAABcAAAAVBAMAAABfzGiYAAAAMFBMVEX////MzMxUVFREREQiIiK6\n",
       "uroQEBCYmJhmZmYyMjLu7u52dnaqqqqIiIjc3NwAAACFAiZ1AAAAAXRSTlMAQObYZgAAAAlwSFlz\n",
       "AAAOxAAADsQBlSsOGwAAAMBJREFUGNNjYGB4wAAGYIr3AIQTCyJOQ9hgQa4JUA7DLAYGjgIYp4KB\n",
       "gQ3GZmBbwBAJ53AWMHQDKb7uexcYGLgVGKYDOWEPmH8xMLBPYPABGpjOwOHAwMDjwJAKNPAXA8sG\n",
       "BgbGDyAOmwHD+gAGBtYEhjkMDOs3MNQzgJXZAjkHGCx5HjCwGzBsAlpwgd2DG6j1AkMI0DTdjY8u\n",
       "MjCwPGBgEYC54AnQqgYYpx2I7aBsPgMgsRjKYV4AEoF6qI6BAQDn8iYB5tI9eQAAAABJRU5ErkJg\n",
       "gg==\n",
       "\" style=\"display:inline;vertical-align:middle;\" /></a></td></tr>\n",
       "<tr><td>9</td><td>Variable</td><td></td><td><a class=\"ProveItLink\" href=\"../../../../__pv_it/a8d4b3a34d2189508f9082853fbac36935714f280/expr.ipynb\"><img src=\"data:image/png;base64,iVBORw0KGgoAAAANSUhEUgAAAAsAAAAJBAMAAAAWSsseAAAAMFBMVEX////MzMxUVFQyMjKqqqoi\n",
       "IiKYmJju7u5EREQQEBC6urqIiIh2dnZmZmbc3NwAAAD0tjQRAAAAAXRSTlMAQObYZgAAAAlwSFlz\n",
       "AAAOxAAADsQBlSsOGwAAAEdJREFUCNdjYOC7s28DAwPDygcc3xkY2Kcx8AYwMPB+Z2A9wMDA2cBQ\n",
       "v4CBof4AQz5QRb0DQzPLAwbmDWyxPECV2gcfbWQAABp5EMgcedARAAAAAElFTkSuQmCC\n",
       "\" style=\"display:inline;vertical-align:middle;\" /></a></td></tr>\n",
       "</table>\n"
      ],
      "text/plain": [
       "0. a -> (|(a)| = 1)\n",
       "   core type: Lambda\n",
       "   parameter: 9\n",
       "   body: 1\n",
       "1. |(a)| = 1\n",
       "   core type: Operation\n",
       "   operator: 2\n",
       "   operands: 3\n",
       "2. =\n",
       "   core type: Literal\n",
       "   sub-expressions: \n",
       "3. (|(a)| , 1)\n",
       "   core type: ExprTuple\n",
       "   sub-expressions: 4, 5\n",
       "4. |(a)|\n",
       "   core type: Operation\n",
       "   operator: 6\n",
       "   operand: 8\n",
       "5. 1\n",
       "   core type: Literal\n",
       "   sub-expressions: \n",
       "6. length\n",
       "   core type: Literal\n",
       "   sub-expressions: \n",
       "7. ((a))\n",
       "   core type: ExprTuple\n",
       "   sub-expressions: 8\n",
       "8. (a)\n",
       "   core type: ExprTuple\n",
       "   sub-expressions: 9\n",
       "9. a\n",
       "   core type: Variable\n",
       "   sub-expressions: "
      ]
     },
     "execution_count": 5,
     "metadata": {},
     "output_type": "execute_result"
    }
   ],
   "source": [
    "# display the expression information\n",
    "expr.exprInfo()"
   ]
  },
  {
   "cell_type": "code",
   "execution_count": null,
   "metadata": {},
   "outputs": [],
   "source": []
  }
 ],
 "metadata": {
  "kernelspec": {
   "display_name": "Python 3",
   "language": "python",
   "name": "python3"
  },
  "language_info": {
   "codemirror_mode": {
    "name": "ipython",
    "version": 3
   },
   "file_extension": ".py",
   "mimetype": "text/x-python",
   "name": "python",
   "nbconvert_exporter": "python",
   "pygments_lexer": "ipython3",
   "version": "3.7.4"
  }
 },
 "nbformat": 4,
 "nbformat_minor": 1
}
