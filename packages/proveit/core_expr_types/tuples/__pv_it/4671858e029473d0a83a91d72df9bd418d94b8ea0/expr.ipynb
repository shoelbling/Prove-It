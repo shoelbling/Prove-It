{
 "cells": [
  {
   "cell_type": "markdown",
   "metadata": {},
   "source": [
    "Expression of type <a class=\"ProveItLink\" href=\"../../../../../../doc/html/api/proveit.Conditional.html\">Conditional</a>\n",
    "=======================\n",
    "# from context <a class=\"ProveItLink\" href=\"../../_context_.ipynb\">proveit.core_expr_types.tuples</a>"
   ]
  },
  {
   "cell_type": "code",
   "execution_count": 1,
   "metadata": {},
   "outputs": [],
   "source": [
    "import proveit\n",
    "# Automation is not needed when building an expression:\n",
    "proveit.defaults.automation = False # This will speed things up.\n",
    "# import Expression classes needed to build the expression\n",
    "from proveit import Conditional, Function, Variable\n",
    "from proveit.logic import InSet\n",
    "from proveit.number import NaturalsPos"
   ]
  },
  {
   "cell_type": "code",
   "execution_count": 2,
   "metadata": {},
   "outputs": [
    {
     "data": {
      "text/html": [
       "<strong id=\"expr\">expr:</strong> <a class=\"ProveItLink\" href=\"expr.ipynb\"><img src=\"data:image/png;base64,iVBORw0KGgoAAAANSUhEUgAAAKQAAAAZBAMAAABNz5jZAAAAMFBMVEX///9mZma6urrc3NwiIiKI\n",
       "iIjMzMyYmJgQEBB2dnbu7u5EREQyMjJUVFSqqqoAAABfjFPjAAAAAXRSTlMAQObYZgAAAAlwSFlz\n",
       "AAAOxAAADsQBlSsOGwAAAoJJREFUSMetlU1oE0EUx//ZdJPsbjbtRbx4yMGDCuKCh1IaaKTBix/N\n",
       "xZP4geApiFHrSakiBWuDNBcPooUcchQSxFLpUoyUIihiRRQ1Kj2IFw/GipViQd/Mzm52x42HkCGz\n",
       "7+3M7C8z72sApD6hF23Apz+r9ARZb6va1eBUVJJdIM1GcOq4kEreP3oxHcrRx+yn0GauSUiuH/2z\n",
       "2HzMLJAqy+zodSD5ZS18b8bqbqBWCUNik6anSd7zJpLCxsp3YDz6PhxpjmpFJBCx7ZI9H0TGftIG\n",
       "qWOrtzru+pDQHztZ0PyKJfQhbJfqOvUNUnzOmm6rL2WU+iB3kH89mM90QBot6oRVfM560hmpLAur\n",
       "mNYbtSwjDa7303MP+ThC3lFm9956TWOzzoLMTZyZ4iff+WromBMHGTeWTcvAfRlZK7Ln2TyGDjOf\n",
       "0JtmzKFmAZfFikOuLct2Xv/BtSXvjFZsoFoNZk9smYsT726fZ7JvFTiVqGPkJPBZLFkUyFi6hOg6\n",
       "H2q0kZhIPQxaZdzi4pF4TVBIV2ppXGE7l5C6voZ4i8Mnc7ncAYE0K29lQ7th6SHxDWiS2CEhkWoJ\n",
       "Z+p13y71larkPG7L2IYb33RwfAB+6f8enOVuf5E7JutD4rQhpxT7R9XNN4N59AbtRwMuychEmQ7A\n",
       "E/aI9zXZXC3I8c+QyZZbl1bAXKA1LgBbxJjNf9TIZ3fjlncY153Y5i8kmw7SfPFb1B0ly3t0npaO\n",
       "OkOFqYXCzBzTtgPDE86HzV1OvIyVAnWB2j6vbLhtf7twZv9THZU7TkKGJ34Qec7TIsVuC7yENCxX\n",
       "G+76zpCqejvkFrpGqtLdM+iWS6v7q+05et56dI977S9vGKOPFX8pbgAAAABJRU5ErkJggg==\n",
       "\" style=\"display:inline;vertical-align:middle;\" /></a><br>"
      ],
      "text/plain": [
       "expr: {P(n) if n in NaturalsPos."
      ]
     },
     "execution_count": 2,
     "metadata": {},
     "output_type": "execute_result"
    }
   ],
   "source": [
    "# build up the expression from sub-expressions\n",
    "expr = Conditional(Function(Variable(\"P\"), Variable(\"n\")), InSet(Variable(\"n\"), NaturalsPos))"
   ]
  },
  {
   "cell_type": "code",
   "execution_count": 3,
   "metadata": {},
   "outputs": [
    {
     "name": "stdout",
     "output_type": "stream",
     "text": [
      "Passed sanity check: built 'expr' is the same as the stored Expression.\n"
     ]
    }
   ],
   "source": [
    "# check that the built expression is the same as the stored expression\n",
    "%check_expr"
   ]
  },
  {
   "cell_type": "code",
   "execution_count": 4,
   "metadata": {},
   "outputs": [
    {
     "name": "stdout",
     "output_type": "stream",
     "text": [
      "\\left\\{P\\left(n\\right) \\textrm{ if } n \\in \\mathbb{N}^+\\right..\n"
     ]
    }
   ],
   "source": [
    "# Show the LaTeX representation of the expression for convenience if you need it.\n",
    "print(expr.latex())"
   ]
  },
  {
   "cell_type": "code",
   "execution_count": 5,
   "metadata": {},
   "outputs": [
    {
     "data": {
      "text/html": [
       "<table><tr><th>&nbsp;</th><th>core type</th><th>sub-expressions</th><th>expression</th></tr>\n",
       "<tr><td>0</td><td>Conditional</td><td>value:&nbsp;1<br>condition:&nbsp;2<br></td><td><a class=\"ProveItLink\" href=\"expr.ipynb\"><img src=\"data:image/png;base64,iVBORw0KGgoAAAANSUhEUgAAAKQAAAAZBAMAAABNz5jZAAAAMFBMVEX///9mZma6urrc3NwiIiKI\n",
       "iIjMzMyYmJgQEBB2dnbu7u5EREQyMjJUVFSqqqoAAABfjFPjAAAAAXRSTlMAQObYZgAAAAlwSFlz\n",
       "AAAOxAAADsQBlSsOGwAAAoJJREFUSMetlU1oE0EUx//ZdJPsbjbtRbx4yMGDCuKCh1IaaKTBix/N\n",
       "xZP4geApiFHrSakiBWuDNBcPooUcchQSxFLpUoyUIihiRRQ1Kj2IFw/GipViQd/Mzm52x42HkCGz\n",
       "7+3M7C8z72sApD6hF23Apz+r9ARZb6va1eBUVJJdIM1GcOq4kEreP3oxHcrRx+yn0GauSUiuH/2z\n",
       "2HzMLJAqy+zodSD5ZS18b8bqbqBWCUNik6anSd7zJpLCxsp3YDz6PhxpjmpFJBCx7ZI9H0TGftIG\n",
       "qWOrtzru+pDQHztZ0PyKJfQhbJfqOvUNUnzOmm6rL2WU+iB3kH89mM90QBot6oRVfM560hmpLAur\n",
       "mNYbtSwjDa7303MP+ThC3lFm9956TWOzzoLMTZyZ4iff+WromBMHGTeWTcvAfRlZK7Ln2TyGDjOf\n",
       "0JtmzKFmAZfFikOuLct2Xv/BtSXvjFZsoFoNZk9smYsT726fZ7JvFTiVqGPkJPBZLFkUyFi6hOg6\n",
       "H2q0kZhIPQxaZdzi4pF4TVBIV2ppXGE7l5C6voZ4i8Mnc7ncAYE0K29lQ7th6SHxDWiS2CEhkWoJ\n",
       "Z+p13y71larkPG7L2IYb33RwfAB+6f8enOVuf5E7JutD4rQhpxT7R9XNN4N59AbtRwMuychEmQ7A\n",
       "E/aI9zXZXC3I8c+QyZZbl1bAXKA1LgBbxJjNf9TIZ3fjlncY153Y5i8kmw7SfPFb1B0ly3t0npaO\n",
       "OkOFqYXCzBzTtgPDE86HzV1OvIyVAnWB2j6vbLhtf7twZv9THZU7TkKGJ34Qec7TIsVuC7yENCxX\n",
       "G+76zpCqejvkFrpGqtLdM+iWS6v7q+05et56dI977S9vGKOPFX8pbgAAAABJRU5ErkJggg==\n",
       "\" style=\"display:inline;vertical-align:middle;\" /></a></td></tr>\n",
       "<tr><td>1</td><td>Operation</td><td>operator:&nbsp;3<br>operand:&nbsp;6<br></td><td><a class=\"ProveItLink\" href=\"../44f91245c775ac8694c06eccb2efa94a8598ec2c0/expr.ipynb\"><img src=\"data:image/png;base64,iVBORw0KGgoAAAANSUhEUgAAAC0AAAAVBAMAAAAgHXppAAAAMFBMVEX///+YmJgiIiLc3Ny6urp2\n",
       "dnaqqqrMzMwQEBDu7u5mZmYyMjJUVFRERESIiIgAAACzCz+6AAAAAXRSTlMAQObYZgAAAAlwSFlz\n",
       "AAAOxAAADsQBlSsOGwAAARVJREFUGNNjYEACzFDagAEVPIPSfmDy7f87Z3dNADLYAqDifAlg6jcD\n",
       "A28nkJ4N17gTRLD/AyoFYoaFcHEpsK7vQPwVyGiAi3OAjOX9AMRAOZYNcHFuASDBf4GBwf8BAwMX\n",
       "0FrXw6ZvgEzWA0Dx+gcMpmpQRQF3H3B+ZmBgBGl9fzRUBKSZKYGB3aGXgRloJJsCkH8fZpkDAyfn\n",
       "FwZGoHXsHyDOh4kzsH1g4AFaxwJ0GvtXmCOAvuTZwMAvMAFsDt8XqDgv0CEcAQz5DAEMjEA93B+g\n",
       "4iDH2RcwRDMaMHA9YODZ//cBRJwFqNmJgcFWDOg0lJBWh7OMUIJfCs5aiCLOC9PNfAFFnBPG5Z2A\n",
       "Go+GUFqYgQEASug8r2dqC2UAAAAASUVORK5CYII=\n",
       "\" style=\"display:inline;vertical-align:middle;\" /></a></td></tr>\n",
       "<tr><td>2</td><td>Operation</td><td>operator:&nbsp;4<br>operands:&nbsp;5<br></td><td><a class=\"ProveItLink\" href=\"../3cc4230d6f3d66a655680cc6deefe4323f8967710/expr.ipynb\"><img src=\"data:image/png;base64,iVBORw0KGgoAAAANSUhEUgAAAEEAAAATBAMAAAA9n32KAAAAMFBMVEX///9mZmYiIiIyMjKqqqqY\n",
       "mJgQEBDMzMzu7u5ERESIiIjc3NxUVFR2dna6uroAAABonEzTAAAAAXRSTlMAQObYZgAAAAlwSFlz\n",
       "AAAOxAAADsQBlSsOGwAAAPlJREFUKM9jYMAHGBkIAU6yVTT9nNzAcO3bAzxmTOE7wMDxA58thzZc\n",
       "ZWBIYJCcOW3mzACsKo5MYN7AoIDNjJVKSgYg+nQUtwFWFY9XQBmneQrWIlTw3dl96xRYnNsCpvQ0\n",
       "wwTOB3AVvJyzGPo3gFjMGxAqCjk0FGBhWsc2gWF/AVgFA0IFq4NnAozX0P+AIR7MKlMCggkQFQwn\n",
       "eOAqGPwZGE6CGZ1IZjD0cCjAuYcZGL5ygBhMyCrYF0yAc3MZWD7wghhcC2BC04F4OVwF93cGXoNo\n",
       "MNMEJqYC8oYBjMenwMA91QHM7JnXAKaLvgH1cxhgi4+3k5QwxQHHgj1ZIOxujgAAAABJRU5ErkJg\n",
       "gg==\n",
       "\" style=\"display:inline;vertical-align:middle;\" /></a></td></tr>\n",
       "<tr><td>3</td><td>Variable</td><td></td><td><a class=\"ProveItLink\" href=\"../390c91a44e60b16c95d2255652741252e8ec8d980/expr.ipynb\"><img src=\"data:image/png;base64,iVBORw0KGgoAAAANSUhEUgAAABAAAAAOBAMAAADUAYG5AAAAMFBMVEX///+YmJgiIiLc3Ny6urp2\n",
       "dnaqqqrMzMwQEBDu7u5mZmYyMjJUVFRERESIiIgAAACzCz+6AAAAAXRSTlMAQObYZgAAAAlwSFlz\n",
       "AAAOxAAADsQBlSsOGwAAAF1JREFUCNdjYGB4+//O2V0TGIDgNwMDbyeQZv/HwMAGxAx834H4K5DB\n",
       "+wGIgRwG/gsMDP4PgIz6BwymaiBN74+GioBohvsMUPAbSrN/hTL4vkAZ3B8gNM/+vyAzGABqABnj\n",
       "X5k3PAAAAABJRU5ErkJggg==\n",
       "\" style=\"display:inline;vertical-align:middle;\" /></a></td></tr>\n",
       "<tr><td>4</td><td>Literal</td><td></td><td><a class=\"ProveItLink\" href=\"../../../../logic/set_theory/membership/__pv_it/7776fc89cb67d0b5b1ec2c0c8e08da5587921ccf0/expr.ipynb\"><img src=\"data:image/png;base64,iVBORw0KGgoAAAANSUhEUgAAAAwAAAAMBAMAAACkW0HUAAAAKlBMVEX///92dnZUVFSqqqoQEBDM\n",
       "zMzc3Nzu7u66uroyMjIiIiJERESIiIgAAACm0meuAAAAAXRSTlMAQObYZgAAAAlwSFlzAAAOxAAA\n",
       "DsQBlSsOGwAAADxJREFUCNdjYGA4vWrVBAaGzuMMQMA2HUQycCZAKDDJELIKCDYwVEN4XBCK5wCE\n",
       "ngyhinYUgOnGXasmAABvGQ6ucz2C1gAAAABJRU5ErkJggg==\n",
       "\" style=\"display:inline;vertical-align:middle;\" /></a></td></tr>\n",
       "<tr><td>5</td><td>ExprTuple</td><td>6, 7</td><td><a class=\"ProveItLink\" href=\"../13662f0b562b83ef590e94bdb0c95834e55323040/expr.ipynb\"><img src=\"data:image/png;base64,iVBORw0KGgoAAAANSUhEUgAAAEAAAAAZBAMAAABzxjXSAAAAMFBMVEX///9UVFQiIiKIiIjMzMx2\n",
       "dnYQEBDc3NyYmJhEREQyMjLu7u5mZma6urqqqqoAAACMi3WHAAAAAXRSTlMAQObYZgAAAAlwSFlz\n",
       "AAAOxAAADsQBlSsOGwAAAWBJREFUKM91kr9Lw0AUx7/FpEl6SSw6FBUkuDhUpIo6FzdBsSKI4JLF\n",
       "PZs4GXFwNKBI00HifxB1c4mrW/4DuzoUHaT+KAXvgrlrMDm4L9zxed97794D0EPe0pm0mJhPuYDG\n",
       "ZIPJI4oBtUGlPXp9/90JsdeP/wDUAcXOBN4YVZBB6oAlmkwrA0w4+4CNZ//a910gCjEeZ4BZr+LA\n",
       "4g4VF9thBqidKcEIoHtYziZfKzVXR4AxG9OAsXO0O5kC8LRYAMYAPiBrl4icFNgkdSv9SUgfuAW2\n",
       "yh5Omimgdl9F5coQC0AYxbjgT2CmJAAyZA54A6YEcEcs4ZA8wRL9IhyQGh4HpM8k9BDmu4zkQ67o\n",
       "XhEArWIt8ZGDc/LDbhZZAQEHVBsvIQwLSruLOWqx3qfRRAB6FWXeCzP8PxW0F6Kbcs7Y0G5KvOiH\n",
       "HOCUNTg9uDnAfPFMgs9kwVQn6zjRXjFwAPwCDu1Mda9EWrAAAAAASUVORK5CYII=\n",
       "\" style=\"display:inline;vertical-align:middle;\" /></a></td></tr>\n",
       "<tr><td>6</td><td>Variable</td><td></td><td><a class=\"ProveItLink\" href=\"../0c1c4cb515e0f4344b1ac06650f349123e526deb0/expr.ipynb\"><img src=\"data:image/png;base64,iVBORw0KGgoAAAANSUhEUgAAAAwAAAAJBAMAAAD0ltBnAAAALVBMVEX///8iIiIyMjKqqqqYmJgQ\n",
       "EBDMzMzu7u5ERESIiIjc3NxUVFR2dna6uroAAABc6vguAAAAAXRSTlMAQObYZgAAAAlwSFlzAAAO\n",
       "xAAADsQBlSsOGwAAAEdJREFUCNdj4D296uROBgYejk6GugUMuawNDOsSGArqLjD4MTAw2DEw7ABS\n",
       "mxgYnrAzMMQwMD/gYeB6xsCj4MXAK8DA1WIAACOEDusgYYkuAAAAAElFTkSuQmCC\n",
       "\" style=\"display:inline;vertical-align:middle;\" /></a></td></tr>\n",
       "<tr><td>7</td><td>Literal</td><td></td><td><a class=\"ProveItLink\" href=\"../../../../number/sets/integer/__pv_it/f6a9f4b6dec6ab4d2dcb6ba1b0ba3cceefc643530/expr.ipynb\"><img src=\"data:image/png;base64,iVBORw0KGgoAAAANSUhEUgAAABsAAAASBAMAAABY9biuAAAAMFBMVEX///9mZmbMzMyIiIiYmJjc\n",
       "3NxUVFSqqqq6uroQEBB2dnYyMjJEREQiIiLu7u4AAAAPqInnAAAAAXRSTlMAQObYZgAAAAlwSFlz\n",
       "AAAOxAAADsQBlSsOGwAAAH9JREFUGNNjYIADRgYUwIOF+/bP6QcMK382wGSPcyQw8P2DK84NWMLA\n",
       "MIFB5szJM2ccGBjSD3AHMFyAy6Y6s25A5rIpWCFzGQ7wNCBzFfnuXYC7KpWBpaBmAtwxqQwMeWwo\n",
       "3Gd8F5C5TAYH4NxDQGyE4F4HGboBxtP9CZThg3EBugMlU91oyisAAAAASUVORK5CYII=\n",
       "\" style=\"display:inline;vertical-align:middle;\" /></a></td></tr>\n",
       "</table>\n"
      ],
      "text/plain": [
       "0. {P(n) if n in NaturalsPos.\n",
       "   core type: Conditional\n",
       "   value: 1\n",
       "   condition: 2\n",
       "1. P(n)\n",
       "   core type: Operation\n",
       "   operator: 3\n",
       "   operand: 6\n",
       "2. n in NaturalsPos\n",
       "   core type: Operation\n",
       "   operator: 4\n",
       "   operands: 5\n",
       "3. P\n",
       "   core type: Variable\n",
       "   sub-expressions: \n",
       "4. in\n",
       "   core type: Literal\n",
       "   sub-expressions: \n",
       "5. (n , NaturalsPos)\n",
       "   core type: ExprTuple\n",
       "   sub-expressions: 6, 7\n",
       "6. n\n",
       "   core type: Variable\n",
       "   sub-expressions: \n",
       "7. NaturalsPos\n",
       "   core type: Literal\n",
       "   sub-expressions: "
      ]
     },
     "execution_count": 5,
     "metadata": {},
     "output_type": "execute_result"
    }
   ],
   "source": [
    "# display the expression information\n",
    "expr.exprInfo()"
   ]
  },
  {
   "cell_type": "code",
   "execution_count": null,
   "metadata": {},
   "outputs": [],
   "source": []
  }
 ],
 "metadata": {
  "kernelspec": {
   "display_name": "Python 3",
   "language": "python",
   "name": "python3"
  },
  "language_info": {
   "codemirror_mode": {
    "name": "ipython",
    "version": 3
   },
   "file_extension": ".py",
   "mimetype": "text/x-python",
   "name": "python",
   "nbconvert_exporter": "python",
   "pygments_lexer": "ipython3",
   "version": "3.7.4"
  }
 },
 "nbformat": 4,
 "nbformat_minor": 1
}
