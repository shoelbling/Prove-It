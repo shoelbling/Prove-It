{
 "cells": [
  {
   "cell_type": "markdown",
   "metadata": {},
   "source": [
    "Expression of type <a class=\"ProveItLink\" href=\"../../../../../../doc/html/api/proveit.Len.html\">Len</a>\n",
    "=======================\n",
    "# from context <a class=\"ProveItLink\" href=\"../../_context_.ipynb\">proveit.core_expr_types.tuples</a>"
   ]
  },
  {
   "cell_type": "code",
   "execution_count": 1,
   "metadata": {},
   "outputs": [],
   "source": [
    "import proveit\n",
    "# Automation is not needed when building an expression:\n",
    "proveit.defaults.automation = False # This will speed things up.\n",
    "# import Expression classes needed to build the expression\n",
    "from proveit import ExprRange, Len\n",
    "from proveit._common_ import i, j, k"
   ]
  },
  {
   "cell_type": "code",
   "execution_count": 2,
   "metadata": {},
   "outputs": [
    {
     "data": {
      "text/html": [
       "<strong id=\"expr\">expr:</strong> <a class=\"ProveItLink\" href=\"../e7e66cdbf176d32537663c617bbe76cb413b34350/expr.ipynb\"><img src=\"data:image/png;base64,iVBORw0KGgoAAAANSUhEUgAAAF4AAAAVBAMAAAA9Y0TyAAAAMFBMVEX///9UVFREREQiIiIQEBCY\n",
       "mJhmZmYyMjLu7u6qqqrMzMyIiIi6urp2dnbc3NwAAABm9RoHAAAAAXRSTlMAQObYZgAAAAlwSFlz\n",
       "AAAOxAAADsQBlSsOGwAAATtJREFUKM9jeMAAAnwMBABUwQOGO2B6JyH1PBvA1B2Ies4LDAzcCbhV\n",
       "L2qAmghV3w7EzBdwq9/OwMDegKQ+lYEgYE1AUu9AWD2DB0I9TwER6ksR6tmATu/OxqmSY7cCkLyI\n",
       "UM8ewMBw4QhO9WwMrkAyHKGeeQID34R0nOrjGH4CyckI9SwHGDgYfuN2OucPILEeRT1EDJeDDIDE\n",
       "EST3TwBiAdzqwVGJ5B4mYOLon3CBoQEzaMDke6D9DEEI9bxAs8/zBXB8B6kAEf0FSAwGhngQkY0U\n",
       "X0D3MW1lYDAGWWAGckACjGEBUiUEIuyQ0oMVNBwwHTQDRHiDMoABkvowiCQvpleBPpVkBQUdWwCS\n",
       "eiZILuvG9O8GBq6fwOhkYHiEnP45FMC8AMxUDPJoDoilAVW/C0w/JZj8IS7YBQBVEVrgmpsRrgAA\n",
       "AABJRU5ErkJggg==\n",
       "\" style=\"display:inline;vertical-align:middle;\" /></a><br>"
      ],
      "text/plain": [
       "expr: |(i ,  ...  , j)|"
      ]
     },
     "execution_count": 2,
     "metadata": {},
     "output_type": "execute_result"
    }
   ],
   "source": [
    "# build up the expression from sub-expressions\n",
    "expr = Len([ExprRange(k, k, i, j)])"
   ]
  },
  {
   "cell_type": "code",
   "execution_count": 3,
   "metadata": {},
   "outputs": [
    {
     "name": "stdout",
     "output_type": "stream",
     "text": [
      "Passed sanity check: built 'expr' is the same as the stored Expression.\n"
     ]
    }
   ],
   "source": [
    "# check that the built expression is the same as the stored expression\n",
    "%check_expr"
   ]
  },
  {
   "cell_type": "code",
   "execution_count": 4,
   "metadata": {},
   "outputs": [
    {
     "name": "stdout",
     "output_type": "stream",
     "text": [
      "|\\left(i , \\ldots , j\\right)|\n"
     ]
    }
   ],
   "source": [
    "# Show the LaTeX representation of the expression for convenience if you need it.\n",
    "print(expr.latex())"
   ]
  },
  {
   "cell_type": "code",
   "execution_count": 5,
   "metadata": {},
   "outputs": [
    {
     "data": {
      "text/html": [
       "<table><tr><th>&nbsp;</th><th>core type</th><th>sub-expressions</th><th>expression</th></tr>\n",
       "<tr><td>0</td><td>Operation</td><td>operator:&nbsp;1<br>operand:&nbsp;3<br></td><td><a class=\"ProveItLink\" href=\"../e7e66cdbf176d32537663c617bbe76cb413b34350/expr.ipynb\"><img src=\"data:image/png;base64,iVBORw0KGgoAAAANSUhEUgAAAF4AAAAVBAMAAAA9Y0TyAAAAMFBMVEX///9UVFREREQiIiIQEBCY\n",
       "mJhmZmYyMjLu7u6qqqrMzMyIiIi6urp2dnbc3NwAAABm9RoHAAAAAXRSTlMAQObYZgAAAAlwSFlz\n",
       "AAAOxAAADsQBlSsOGwAAATtJREFUKM9jeMAAAnwMBABUwQOGO2B6JyH1PBvA1B2Ies4LDAzcCbhV\n",
       "L2qAmghV3w7EzBdwq9/OwMDegKQ+lYEgYE1AUu9AWD2DB0I9TwER6ksR6tmATu/OxqmSY7cCkLyI\n",
       "UM8ewMBw4QhO9WwMrkAyHKGeeQID34R0nOrjGH4CyckI9SwHGDgYfuN2OucPILEeRT1EDJeDDIDE\n",
       "EST3TwBiAdzqwVGJ5B4mYOLon3CBoQEzaMDke6D9DEEI9bxAs8/zBXB8B6kAEf0FSAwGhngQkY0U\n",
       "X0D3MW1lYDAGWWAGckACjGEBUiUEIuyQ0oMVNBwwHTQDRHiDMoABkvowiCQvpleBPpVkBQUdWwCS\n",
       "eiZILuvG9O8GBq6fwOhkYHiEnP45FMC8AMxUDPJoDoilAVW/C0w/JZj8IS7YBQBVEVrgmpsRrgAA\n",
       "AABJRU5ErkJggg==\n",
       "\" style=\"display:inline;vertical-align:middle;\" /></a></td></tr>\n",
       "<tr><td>1</td><td>Literal</td><td></td><td><a class=\"ProveItLink\" href=\"../92831c6291223dfbd76a11e90e750ae52564aa9f0/expr.ipynb\"><img src=\"data:image/png;base64,iVBORw0KGgoAAAANSUhEUgAAADsAAAASBAMAAAAXqLt+AAAAMFBMVEX///+qqqq6urru7u4QEBBE\n",
       "RERUVFTc3NyIiIgyMjJmZmaYmJjMzMwiIiJ2dnYAAACPW0xlAAAAAXRSTlMAQObYZgAAAAlwSFlz\n",
       "AAAOxAAADsQBlSsOGwAAAUNJREFUKM91kD1Lw1AUhp8kNVX7ke4OBgQ3NaOTFURwkg7apUMLIjpm\n",
       "0FWD+NGxozgVHFQEiaNT+wtsNxeRjLbQUiwoYhDPjQ5C2wuXey7POe95z4FOyLBjbDSjN9Ebwp5g\n",
       "ohqFk5VBrEmJlYnClDeIVcmCE4WH9UGcCqDzG9bkLpUvmd85OBUh7frMny3mPS6mTlxB26A/80iw\n",
       "6Rkf0GIvx7S4+3TNkuA10fc5StqrxEO0PpbHjaiEmDlISkWx3LUN403NGMvRcHmJ3MWk1/gyvP8N\n",
       "I+mNDMdIpnKnTI+VHL4VNitYvlNzyaP3cLJ25N3yPaWlEQvEUVDD+CJd0VwZaD3hYM14PGBcKalW\n",
       "ws26Zh+ztKgGCtOy8jvp/1qGOdi/R99tN4kXfArQHbJPUlVGnuQWjfpobK4Y56Mp+m3b/v//AcRT\n",
       "WSEJp2bgAAAAAElFTkSuQmCC\n",
       "\" style=\"display:inline;vertical-align:middle;\" /></a></td></tr>\n",
       "<tr><td>2</td><td>ExprTuple</td><td>3</td><td><a class=\"ProveItLink\" href=\"../68a1b2d4db4400796b36c8e78c90e45692f0d5610/expr.ipynb\"><img src=\"data:image/png;base64,iVBORw0KGgoAAAANSUhEUgAAAFsAAAAVBAMAAADbSo+2AAAAMFBMVEX////MzMxUVFREREQiIiK6\n",
       "uroQEBCYmJhmZmYyMjLu7u52dnaqqqqIiIjc3NwAAACFAiZ1AAAAAXRSTlMAQObYZgAAAAlwSFlz\n",
       "AAAOxAAADsQBlSsOGwAAAT5JREFUKM+N0jFLw1AQB/Crpkl8aVO/gX6EzELFwUHUwcGlg+DintFJ\n",
       "MwgOLsFFEIeAc1H8BJl1sOCSMYPg0qGLg+Dg/+6eRQgv9eD3ekmvL/cuJaKaVGvMi/qlao8ji16s\n",
       "yl3b2ZhvanJFe+7yPr6/JRGmalGcKp/UovALMUI6+kf5SiqukIKpJs7K8RuWaF3cIIWoe+wsz3zs\n",
       "HORiH9cwDXNXdVAPMMHeljjBDSgG7mboFcfszIQtl1uuuABuFu6QsuuWqfAbtM0MkYL5jsg0C+WR\n",
       "8SefIBFPSKE7+6AHPi0v5utvQgHapnAiDpGyYUreLj69DMvOb7LN2y8lfFkLb5UEx3OjmR6X+zy0\n",
       "dxVkiuOxUR5h7/Kcf3NpbVrotDn6MdFayW8yThTdW3hIczL8764OkCwXiuJUtceZ+gEinlLGs7Wa\n",
       "0QAAAABJRU5ErkJggg==\n",
       "\" style=\"display:inline;vertical-align:middle;\" /></a></td></tr>\n",
       "<tr><td>3</td><td>ExprTuple</td><td>4</td><td><a class=\"ProveItLink\" href=\"../04c758905cadaca9b975c0d89db6dd5d4a92f1360/expr.ipynb\"><img src=\"data:image/png;base64,iVBORw0KGgoAAAANSUhEUgAAAEsAAAAVBAMAAAD85A5eAAAAMFBMVEX////MzMxUVFREREQiIiK6\n",
       "uroQEBCYmJhmZmYyMjLu7u52dnaqqqqIiIjc3NwAAACFAiZ1AAAAAXRSTlMAQObYZgAAAAlwSFlz\n",
       "AAAOxAAADsQBlSsOGwAAASFJREFUKM9jYGB4wEAAgBXwHiCkLBZEnAbiG7jVMFqBDeKaAGR741bG\n",
       "C5SfxcDAUcBAEFQwMLARVsXAtoAhkghlnAUM3UDn3biAU8Xay0CCW4FhOpBkTcCprIEN6Hb2CQw+\n",
       "DAxvOCbgUsX+gB8YGjwODKkMDAv4cVvKcH4BMOw+gJSBmbhACxADHTUHSE3C40tQyAMttQX69A83\n",
       "AxemArAVfF9BLjRg2AQ088NzhvUgX4AIrp/IDAb2D0CC4wJDCJCyLWBg8QLSLA1AwgPGcAEZx2QA\n",
       "4j5gYBGAWHEKw1IekDI2UCA8AZraABHcgKGMG2jWgXqQ2nYgtgOLcWEG3VoGBvkDPiBvgCxeDAlu\n",
       "TJ8CY4njRgCQwQwykY9ggqtjYAAAGZ89JP9UpLwAAAAASUVORK5CYII=\n",
       "\" style=\"display:inline;vertical-align:middle;\" /></a></td></tr>\n",
       "<tr><td>4</td><td>ExprRange</td><td>lambda_map:&nbsp;5<br>start_index:&nbsp;6<br>end_index:&nbsp;7<br></td><td><a class=\"ProveItLink\" href=\"../../../__pv_it/dd5e9cbf908d71e882a8eab46c4502f58d9782930/expr.ipynb\"><img src=\"data:image/png;base64,iVBORw0KGgoAAAANSUhEUgAAAD4AAAASBAMAAADxgXA6AAAAMFBMVEX////MzMxERESYmJhUVFQy\n",
       "MjKqqqrc3NwQEBC6urru7u52dnYiIiJmZmaIiIgAAAB85A1lAAAAAXRSTlMAQObYZgAAAAlwSFlz\n",
       "AAAOxAAADsQBlSsOGwAAAKlJREFUKM9jYGB4y4ATMGoBidO45fkCGGgNuN4+wCm37hEDAzdnA075\n",
       "CxwGDGW8ON3IXMCfwLCAH7f5DPkLIBgXuAPEIXgcDww6rm/cDFyYMmBD2X8yMHB+KGZYD3IiiOD6\n",
       "isxgYP4AJPQMGHhOAWmeC0DiLIxxBmQAiwLUtCwM89lA8hwwr23AkOcG6k6wh3qNCzMI1jEwyCcc\n",
       "gwUUpvsNGBh4305gYAAAFz8mim4nEukAAAAASUVORK5CYII=\n",
       "\" style=\"display:inline;vertical-align:middle;\" /></a></td></tr>\n",
       "<tr><td>5</td><td>Lambda</td><td>parameter:&nbsp;8<br>body:&nbsp;8<br></td><td><a class=\"ProveItLink\" href=\"../../../__pv_it/82fe28cbd110a157b51f2b928885391b55091bcb0/expr.ipynb\"><img src=\"data:image/png;base64,iVBORw0KGgoAAAANSUhEUgAAADYAAAAOCAMAAABTsh8vAAAANlBMVEX///8WFhYNDQ3MzMzc3NyY\n",
       "mJiIiIhUVFR2dna6urqqqqpmZmYyMjIiIiIQEBBERETu7u4AAADpXcuUAAAAAXRSTlMAQObYZgAA\n",
       "AAlwSFlzAAAOxAAADsQBlSsOGwAAAKVJREFUKM+NkkkOwzAIRWk9JMZ44P6XbbKo/YlsKaxAPNBn\n",
       "IOqtFnpphpVMrw1Y5fdlk03at1T0Ngb2rFY/BvzQD6wcVzrmP27389jWZLsGYvY1LEFuRslkWX1i\n",
       "cuLX/WMD1cDmGhxy308xpppGDtgi+XT7aZIkyA22X82Sul2Zk46jDTboHTLFdZng4YA92u06Oocq\n",
       "I9HcDdh2f0vMcf0p2Wxrsj83mAflxQIppAAAAABJRU5ErkJggg==\n",
       "\" style=\"display:inline;vertical-align:middle;\" /></a></td></tr>\n",
       "<tr><td>6</td><td>Variable</td><td></td><td><a class=\"ProveItLink\" href=\"../../../../__pv_it/557ab5defdcd46aa58168b08767502985122cd490/expr.ipynb\"><img src=\"data:image/png;base64,iVBORw0KGgoAAAANSUhEUgAAAAcAAAAOBAMAAAARcxsoAAAALVBMVEX///9ERESYmJhUVFQyMjKq\n",
       "qqrc3NwQEBC6urru7u52dnYiIiJmZmaIiIgAAAD/UVazAAAAAXRSTlMAQObYZgAAAAlwSFlzAAAO\n",
       "xAAADsQBlSsOGwAAADlJREFUCNdjYGC4wwAEuxjQAeedCwwMXBwFDAypPA4MDBP4gFyGuAlAwhkk\n",
       "+5SLgYHjQRKQKavAAAAx5QmdfgFqMAAAAABJRU5ErkJggg==\n",
       "\" style=\"display:inline;vertical-align:middle;\" /></a></td></tr>\n",
       "<tr><td>7</td><td>Variable</td><td></td><td><a class=\"ProveItLink\" href=\"../../../../__pv_it/6a5b5879f51878868f626bf09e4d76392d4779cd0/expr.ipynb\"><img src=\"data:image/png;base64,iVBORw0KGgoAAAANSUhEUgAAAAoAAAASBAMAAACQmVJ4AAAAMFBMVEX///9UVFS6urp2dnYiIiKq\n",
       "qqrc3NyYmJgQEBBmZmYyMjKIiIju7u5ERETMzMwAAAC4hZuzAAAAAXRSTlMAQObYZgAAAAlwSFlz\n",
       "AAAOxAAADsQBlSsOGwAAAEtJREFUCNdjYGBg4LsDJBi4FzBgA6f3gsgJHAUMDOwJ/AEgTvwBEDkF\n",
       "LO0MItg+gUj2DyCS8QKI5NgAZAXUAxW+D3AF8jl3KjAwAACAGg5QwkhbIAAAAABJRU5ErkJggg==\n",
       "\" style=\"display:inline;vertical-align:middle;\" /></a></td></tr>\n",
       "<tr><td>8</td><td>Variable</td><td></td><td><a class=\"ProveItLink\" href=\"../../../../__pv_it/273f49450ca25e1b56abbd98a7aef618f8f6c1360/expr.ipynb\"><img src=\"data:image/png;base64,iVBORw0KGgoAAAANSUhEUgAAAAoAAAAOBAMAAADkjZCYAAAAMFBMVEX////MzMzc3NyYmJiIiIhU\n",
       "VFR2dna6urqqqqpmZmYyMjIiIiIQEBBERETu7u4AAADM1VnsAAAAAXRSTlMAQObYZgAAAAlwSFlz\n",
       "AAAOxAAADsQBlSsOGwAAAE9JREFUCNdj4LuzgQEIuCaASP4GEFn/AETmgAiGpQwt8xj4PnM0HWbg\n",
       "+FTBuIiB87AAUJh7ZSKQfF9QD+TYM7xvcGCIZXgvkMBwg4FlygMA76IUkutkA5UAAAAASUVORK5C\n",
       "YII=\n",
       "\" style=\"display:inline;vertical-align:middle;\" /></a></td></tr>\n",
       "</table>\n"
      ],
      "text/plain": [
       "0. |(i ,  ...  , j)|\n",
       "   core type: Operation\n",
       "   operator: 1\n",
       "   operand: 3\n",
       "1. length\n",
       "   core type: Literal\n",
       "   sub-expressions: \n",
       "2. ((i ,  ...  , j))\n",
       "   core type: ExprTuple\n",
       "   sub-expressions: 3\n",
       "3. (i ,  ...  , j)\n",
       "   core type: ExprTuple\n",
       "   sub-expressions: 4\n",
       "4. i,...,j\n",
       "   core type: ExprRange\n",
       "   lambda_map: 5\n",
       "   start_index: 6\n",
       "   end_index: 7\n",
       "5. k -> k\n",
       "   core type: Lambda\n",
       "   parameter: 8\n",
       "   body: 8\n",
       "6. i\n",
       "   core type: Variable\n",
       "   sub-expressions: \n",
       "7. j\n",
       "   core type: Variable\n",
       "   sub-expressions: \n",
       "8. k\n",
       "   core type: Variable\n",
       "   sub-expressions: "
      ]
     },
     "execution_count": 5,
     "metadata": {},
     "output_type": "execute_result"
    }
   ],
   "source": [
    "# display the expression information\n",
    "expr.exprInfo()"
   ]
  },
  {
   "cell_type": "code",
   "execution_count": null,
   "metadata": {},
   "outputs": [],
   "source": []
  }
 ],
 "metadata": {
  "kernelspec": {
   "display_name": "Python 3",
   "language": "python",
   "name": "python3"
  },
  "language_info": {
   "codemirror_mode": {
    "name": "ipython",
    "version": 3
   },
   "file_extension": ".py",
   "mimetype": "text/x-python",
   "name": "python",
   "nbconvert_exporter": "python",
   "pygments_lexer": "ipython3",
   "version": "3.7.4"
  }
 },
 "nbformat": 4,
 "nbformat_minor": 1
}
