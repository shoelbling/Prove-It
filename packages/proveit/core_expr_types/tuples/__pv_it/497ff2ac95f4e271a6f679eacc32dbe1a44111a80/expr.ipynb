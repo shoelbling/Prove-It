{
 "cells": [
  {
   "cell_type": "markdown",
   "metadata": {},
   "source": [
    "Expression of type <a class=\"ProveItLink\" href=\"../../../../../../doc/html/api/proveit.logic.Forall.html\">Forall</a>\n",
    "=======================\n",
    "# from context <a class=\"ProveItLink\" href=\"../../_context_.ipynb\">proveit.core_expr_types.tuples</a>"
   ]
  },
  {
   "cell_type": "code",
   "execution_count": 1,
   "metadata": {},
   "outputs": [],
   "source": [
    "import proveit\n",
    "# Automation is not needed when building an expression:\n",
    "proveit.defaults.automation = False # This will speed things up.\n",
    "# import Expression classes needed to build the expression\n",
    "from proveit import Function, Variable\n",
    "from proveit.logic import Forall\n",
    "from proveit.number import NaturalsPos"
   ]
  },
  {
   "cell_type": "code",
   "execution_count": 2,
   "metadata": {},
   "outputs": [
    {
     "data": {
      "text/html": [
       "<strong id=\"expr\">expr:</strong> <a class=\"ProveItLink\" href=\"expr.ipynb\"><img src=\"data:image/png;base64,iVBORw0KGgoAAAANSUhEUgAAAG0AAAAVBAMAAAC+p33JAAAAMFBMVEX///+IiIgiIiIQEBB2dnbu\n",
       "7u5UVFTMzMzc3NwyMjK6urpmZmaYmJiqqqpEREQAAACk/Np2AAAAAXRSTlMAQObYZgAAAAlwSFlz\n",
       "AAAOxAAADsQBlSsOGwAAAfBJREFUOMuVU79LG2EYfmrucpfL5RJUXKxGXEp1ERG6SRCX+osbXDoI\n",
       "6VLapcTFNWn9MYneInTSaPIHZLAEjMO5iSKkSwNSUBGHCk3iYsXB9v2S+74cchzkg5fvuffe595f\n",
       "zwFtHNW5M2jv9Dn3LtklA798gl/Unj78/s5QJMFdZeCAgW9+WaIWcG0SeCdcW8ASq/vSj5eOARdk\n",
       "OBSuUyBEX5LKfrx4ioyVOCJcARO6TVzfadSYEVezhCtEpNHBwTFf3hNR7ugOU878x5UeKllKAkXg\n",
       "xiOazw7KHdSJspMkUY3JD4BOqdegJj14BbGH+8mZLAMdZSjZcah/aSMDgGFKWVe8MjyFrqSLZ9T5\n",
       "MLKQ5Ufo9KyQRWKtsSx+vsVPyQybLl7UavEQqSNIS9PYaK0jHhIuMu3EChKmS8Mlp4o07zRETQYt\n",
       "RG2zUSdmafv64WIv8JK9rpx/kdz9xXkXBg0ykMAFjUxnQlmmbvScHcjIDdlUpIW8m7fDARv+Zgpv\n",
       "9QzCTD4G7XS1E1FTsxs8FPpdvE//rhykUXF7wMYZjVb8Se+Rg75drf4h3nzIvb/WeSXQV4HeYF9R\n",
       "Es182g9v4ZwKJBSu1jFUaermBOjx5hm8utb/oyXRbWODqfd1CoY3T+bhhvnsxVz11k/h6859DPwH\n",
       "ah12aB3oRAAAAAAASUVORK5CYII=\n",
       "\" style=\"display:inline;vertical-align:middle;\" /></a><br>"
      ],
      "text/plain": [
       "expr: forall_{n in NaturalsPos} P(n)"
      ]
     },
     "execution_count": 2,
     "metadata": {},
     "output_type": "execute_result"
    }
   ],
   "source": [
    "# build up the expression from sub-expressions\n",
    "expr = Forall([Variable(\"n\")], Function(Variable(\"P\"), Variable(\"n\")), domain = NaturalsPos)"
   ]
  },
  {
   "cell_type": "code",
   "execution_count": 3,
   "metadata": {},
   "outputs": [
    {
     "name": "stdout",
     "output_type": "stream",
     "text": [
      "Passed sanity check: built 'expr' is the same as the stored Expression.\n"
     ]
    }
   ],
   "source": [
    "# check that the built expression is the same as the stored expression\n",
    "%check_expr"
   ]
  },
  {
   "cell_type": "code",
   "execution_count": 4,
   "metadata": {},
   "outputs": [
    {
     "name": "stdout",
     "output_type": "stream",
     "text": [
      "\\forall_{n \\in \\mathbb{N}^+}~P\\left(n\\right)\n"
     ]
    }
   ],
   "source": [
    "# Show the LaTeX representation of the expression for convenience if you need it.\n",
    "print(expr.latex())"
   ]
  },
  {
   "cell_type": "code",
   "execution_count": 5,
   "metadata": {},
   "outputs": [
    {
     "data": {
      "text/html": [
       "<table><tr><th>&nbsp;</th><th>core type</th><th>sub-expressions</th><th>expression</th></tr>\n",
       "<tr><td>0</td><td>Operation</td><td>operator:&nbsp;1<br>operand:&nbsp;2<br></td><td><a class=\"ProveItLink\" href=\"expr.ipynb\"><img src=\"data:image/png;base64,iVBORw0KGgoAAAANSUhEUgAAAG0AAAAVBAMAAAC+p33JAAAAMFBMVEX///+IiIgiIiIQEBB2dnbu\n",
       "7u5UVFTMzMzc3NwyMjK6urpmZmaYmJiqqqpEREQAAACk/Np2AAAAAXRSTlMAQObYZgAAAAlwSFlz\n",
       "AAAOxAAADsQBlSsOGwAAAfBJREFUOMuVU79LG2EYfmrucpfL5RJUXKxGXEp1ERG6SRCX+osbXDoI\n",
       "6VLapcTFNWn9MYneInTSaPIHZLAEjMO5iSKkSwNSUBGHCk3iYsXB9v2S+74cchzkg5fvuffe595f\n",
       "zwFtHNW5M2jv9Dn3LtklA798gl/Unj78/s5QJMFdZeCAgW9+WaIWcG0SeCdcW8ASq/vSj5eOARdk\n",
       "OBSuUyBEX5LKfrx4ioyVOCJcARO6TVzfadSYEVezhCtEpNHBwTFf3hNR7ugOU878x5UeKllKAkXg\n",
       "xiOazw7KHdSJspMkUY3JD4BOqdegJj14BbGH+8mZLAMdZSjZcah/aSMDgGFKWVe8MjyFrqSLZ9T5\n",
       "MLKQ5Ufo9KyQRWKtsSx+vsVPyQybLl7UavEQqSNIS9PYaK0jHhIuMu3EChKmS8Mlp4o07zRETQYt\n",
       "RG2zUSdmafv64WIv8JK9rpx/kdz9xXkXBg0ykMAFjUxnQlmmbvScHcjIDdlUpIW8m7fDARv+Zgpv\n",
       "9QzCTD4G7XS1E1FTsxs8FPpdvE//rhykUXF7wMYZjVb8Se+Rg75drf4h3nzIvb/WeSXQV4HeYF9R\n",
       "Es182g9v4ZwKJBSu1jFUaermBOjx5hm8utb/oyXRbWODqfd1CoY3T+bhhvnsxVz11k/h6859DPwH\n",
       "ah12aB3oRAAAAAAASUVORK5CYII=\n",
       "\" style=\"display:inline;vertical-align:middle;\" /></a></td></tr>\n",
       "<tr><td>1</td><td>Literal</td><td></td><td><a class=\"ProveItLink\" href=\"../../../../logic/boolean/quantification/universal/__pv_it/fd9c772d6675566ed52a6897806f45eb08a4ea910/expr.ipynb\"><img src=\"data:image/png;base64,iVBORw0KGgoAAAANSUhEUgAAAAwAAAAOBAMAAADpk+DfAAAAMFBMVEX///+IiIgiIiIQEBB2dnbu\n",
       "7u5UVFTMzMzc3NwyMjK6urpmZmaYmJiqqqpEREQAAACk/Np2AAAAAXRSTlMAQObYZgAAAAlwSFlz\n",
       "AAAOxAAADsQBlSsOGwAAAFNJREFUCNdjeMAABHcYdoGoGQxlQJLjAQNnAAMDywUGngMMDJxAESMl\n",
       "JRMgtZ2B4SmQamPgSABSfAEsC4AUrwBIBQPDhINgyncqmGpOAFN8BQwMAB49Dl+s5gmkAAAAAElF\n",
       "TkSuQmCC\n",
       "\" style=\"display:inline;vertical-align:middle;\" /></a></td></tr>\n",
       "<tr><td>2</td><td>Lambda</td><td>parameter:&nbsp;9<br>body:&nbsp;3<br></td><td><a class=\"ProveItLink\" href=\"../7ed984b6de3a930cd9ab6ee176e1c96529893be00/expr.ipynb\"><img src=\"data:image/png;base64,iVBORw0KGgoAAAANSUhEUgAAANMAAAAZCAMAAACcqus5AAAANlBMVEX///8WFhYNDQ1mZmYiIiIy\n",
       "MjKqqqqYmJgQEBDMzMzu7u5ERESIiIjc3NxUVFR2dna6uroAAABNFN6rAAAAAXRSTlMAQObYZgAA\n",
       "AAlwSFlzAAAOxAAADsQBlSsOGwAAAoxJREFUWMPdWO2yoyAMza58BwK8/8suaq0IEcfe3hln80On\n",
       "VkMOOSeJAnxgihQ8x6ZvOJHoHgQJ8As+orm4IQx/PhITyfH/viFm8uf3ap/uLO1ERpRu2dhs0hcx\n",
       "7U485oxEKKedjSpegSypM3plsbI53UuKgkQLvOzgVzAB5DVpaLYVHJNF2eov5UXYWkCge9okESAu\n",
       "GzIrYMJiZj7o72GyeSWWyhvBJsa77krTCoTo/uKqrC5niYof6MmHASaf7eu8MY4tIIZPBl2WYY+i\n",
       "WJV6CtpDkPcxHSJQ0wAT5u1sX6xiC4jUH2FK0rebQQHIgo9jTClSCNFTVZ3E4QbRyrRykvGljzf1\n",
       "Iuc0HkkWpCkXLBmzs48JI8g+vQXTDALTEFMsQfq5joQTFOr4kMu6kVOIQjUZaZzqNnuCWj0xYUim\n",
       "s82Y7FSKuhPnc4RNYOagw8aePjO+nhus9LWcKMaoq3K8omudqi7XLSYuDI7GMybQqmy0GWnHLS1C\n",
       "5/3a3z/iYHlvIlrUm4e5qwaJc2rzFSYmDGu29bHBBKUB0HCaUblVvmilmg667bpTh6l1mswVJiYM\n",
       "h2d5AkfgxPWsU1TieEz2KNVKTzZ3M4NUnNNr7l2HUWMC68cl3MTXLkXeWSvVve75frBBzznVeI2p\n",
       "D8MzgyK+5ObtCNOqyihBv2M/RJrO+5PMfRUlzunk2X5QdwUmjHfSoa1Bs8uTSdrNekhLVgLqk/e8\n",
       "yZ5gIlkG2DbY1VvrVBxTbdEYdOVYPc+F4QjTgfdWZIPnc+W61ifviDRksrAMFcSns2WKeJyNfsnG\n",
       "mDSzTZOGh9sYE2DX/QPC4zGNqdC3lWd9vuDn/4vvEaFhmg7wfJME/5896/teZ/8ABXUbv80gj1cA\n",
       "AAAASUVORK5CYII=\n",
       "\" style=\"display:inline;vertical-align:middle;\" /></a></td></tr>\n",
       "<tr><td>3</td><td>Conditional</td><td>value:&nbsp;4<br>condition:&nbsp;5<br></td><td><a class=\"ProveItLink\" href=\"../4671858e029473d0a83a91d72df9bd418d94b8ea0/expr.ipynb\"><img src=\"data:image/png;base64,iVBORw0KGgoAAAANSUhEUgAAAKQAAAAZBAMAAABNz5jZAAAAMFBMVEX///9mZma6urrc3NwiIiKI\n",
       "iIjMzMyYmJgQEBB2dnbu7u5EREQyMjJUVFSqqqoAAABfjFPjAAAAAXRSTlMAQObYZgAAAAlwSFlz\n",
       "AAAOxAAADsQBlSsOGwAAAoJJREFUSMetlU1oE0EUx//ZdJPsbjbtRbx4yMGDCuKCh1IaaKTBix/N\n",
       "xZP4geApiFHrSakiBWuDNBcPooUcchQSxFLpUoyUIihiRRQ1Kj2IFw/GipViQd/Mzm52x42HkCGz\n",
       "7+3M7C8z72sApD6hF23Apz+r9ARZb6va1eBUVJJdIM1GcOq4kEreP3oxHcrRx+yn0GauSUiuH/2z\n",
       "2HzMLJAqy+zodSD5ZS18b8bqbqBWCUNik6anSd7zJpLCxsp3YDz6PhxpjmpFJBCx7ZI9H0TGftIG\n",
       "qWOrtzru+pDQHztZ0PyKJfQhbJfqOvUNUnzOmm6rL2WU+iB3kH89mM90QBot6oRVfM560hmpLAur\n",
       "mNYbtSwjDa7303MP+ThC3lFm9956TWOzzoLMTZyZ4iff+WromBMHGTeWTcvAfRlZK7Ln2TyGDjOf\n",
       "0JtmzKFmAZfFikOuLct2Xv/BtSXvjFZsoFoNZk9smYsT726fZ7JvFTiVqGPkJPBZLFkUyFi6hOg6\n",
       "H2q0kZhIPQxaZdzi4pF4TVBIV2ppXGE7l5C6voZ4i8Mnc7ncAYE0K29lQ7th6SHxDWiS2CEhkWoJ\n",
       "Z+p13y71larkPG7L2IYb33RwfAB+6f8enOVuf5E7JutD4rQhpxT7R9XNN4N59AbtRwMuychEmQ7A\n",
       "E/aI9zXZXC3I8c+QyZZbl1bAXKA1LgBbxJjNf9TIZ3fjlncY153Y5i8kmw7SfPFb1B0ly3t0npaO\n",
       "OkOFqYXCzBzTtgPDE86HzV1OvIyVAnWB2j6vbLhtf7twZv9THZU7TkKGJ34Qec7TIsVuC7yENCxX\n",
       "G+76zpCqejvkFrpGqtLdM+iWS6v7q+05et56dI977S9vGKOPFX8pbgAAAABJRU5ErkJggg==\n",
       "\" style=\"display:inline;vertical-align:middle;\" /></a></td></tr>\n",
       "<tr><td>4</td><td>Operation</td><td>operator:&nbsp;6<br>operand:&nbsp;9<br></td><td><a class=\"ProveItLink\" href=\"../44f91245c775ac8694c06eccb2efa94a8598ec2c0/expr.ipynb\"><img src=\"data:image/png;base64,iVBORw0KGgoAAAANSUhEUgAAAC0AAAAVBAMAAAAgHXppAAAAMFBMVEX///+YmJgiIiLc3Ny6urp2\n",
       "dnaqqqrMzMwQEBDu7u5mZmYyMjJUVFRERESIiIgAAACzCz+6AAAAAXRSTlMAQObYZgAAAAlwSFlz\n",
       "AAAOxAAADsQBlSsOGwAAARVJREFUGNNjYEACzFDagAEVPIPSfmDy7f87Z3dNADLYAqDifAlg6jcD\n",
       "A28nkJ4N17gTRLD/AyoFYoaFcHEpsK7vQPwVyGiAi3OAjOX9AMRAOZYNcHFuASDBf4GBwf8BAwMX\n",
       "0FrXw6ZvgEzWA0Dx+gcMpmpQRQF3H3B+ZmBgBGl9fzRUBKSZKYGB3aGXgRloJJsCkH8fZpkDAyfn\n",
       "FwZGoHXsHyDOh4kzsH1g4AFaxwJ0GvtXmCOAvuTZwMAvMAFsDt8XqDgv0CEcAQz5DAEMjEA93B+g\n",
       "4iDH2RcwRDMaMHA9YODZ//cBRJwFqNmJgcFWDOg0lJBWh7OMUIJfCs5aiCLOC9PNfAFFnBPG5Z2A\n",
       "Go+GUFqYgQEASug8r2dqC2UAAAAASUVORK5CYII=\n",
       "\" style=\"display:inline;vertical-align:middle;\" /></a></td></tr>\n",
       "<tr><td>5</td><td>Operation</td><td>operator:&nbsp;7<br>operands:&nbsp;8<br></td><td><a class=\"ProveItLink\" href=\"../3cc4230d6f3d66a655680cc6deefe4323f8967710/expr.ipynb\"><img src=\"data:image/png;base64,iVBORw0KGgoAAAANSUhEUgAAAEEAAAATBAMAAAA9n32KAAAAMFBMVEX///9mZmYiIiIyMjKqqqqY\n",
       "mJgQEBDMzMzu7u5ERESIiIjc3NxUVFR2dna6uroAAABonEzTAAAAAXRSTlMAQObYZgAAAAlwSFlz\n",
       "AAAOxAAADsQBlSsOGwAAAPlJREFUKM9jYMAHGBkIAU6yVTT9nNzAcO3bAzxmTOE7wMDxA58thzZc\n",
       "ZWBIYJCcOW3mzACsKo5MYN7AoIDNjJVKSgYg+nQUtwFWFY9XQBmneQrWIlTw3dl96xRYnNsCpvQ0\n",
       "wwTOB3AVvJyzGPo3gFjMGxAqCjk0FGBhWsc2gWF/AVgFA0IFq4NnAozX0P+AIR7MKlMCggkQFQwn\n",
       "eOAqGPwZGE6CGZ1IZjD0cCjAuYcZGL5ygBhMyCrYF0yAc3MZWD7wghhcC2BC04F4OVwF93cGXoNo\n",
       "MNMEJqYC8oYBjMenwMA91QHM7JnXAKaLvgH1cxhgi4+3k5QwxQHHgj1ZIOxujgAAAABJRU5ErkJg\n",
       "gg==\n",
       "\" style=\"display:inline;vertical-align:middle;\" /></a></td></tr>\n",
       "<tr><td>6</td><td>Variable</td><td></td><td><a class=\"ProveItLink\" href=\"../390c91a44e60b16c95d2255652741252e8ec8d980/expr.ipynb\"><img src=\"data:image/png;base64,iVBORw0KGgoAAAANSUhEUgAAABAAAAAOBAMAAADUAYG5AAAAMFBMVEX///+YmJgiIiLc3Ny6urp2\n",
       "dnaqqqrMzMwQEBDu7u5mZmYyMjJUVFRERESIiIgAAACzCz+6AAAAAXRSTlMAQObYZgAAAAlwSFlz\n",
       "AAAOxAAADsQBlSsOGwAAAF1JREFUCNdjYGB4+//O2V0TGIDgNwMDbyeQZv/HwMAGxAx834H4K5DB\n",
       "+wGIgRwG/gsMDP4PgIz6BwymaiBN74+GioBohvsMUPAbSrN/hTL4vkAZ3B8gNM/+vyAzGABqABnj\n",
       "X5k3PAAAAABJRU5ErkJggg==\n",
       "\" style=\"display:inline;vertical-align:middle;\" /></a></td></tr>\n",
       "<tr><td>7</td><td>Literal</td><td></td><td><a class=\"ProveItLink\" href=\"../../../../logic/set_theory/membership/__pv_it/7776fc89cb67d0b5b1ec2c0c8e08da5587921ccf0/expr.ipynb\"><img src=\"data:image/png;base64,iVBORw0KGgoAAAANSUhEUgAAAAwAAAAMBAMAAACkW0HUAAAAKlBMVEX///92dnZUVFSqqqoQEBDM\n",
       "zMzc3Nzu7u66uroyMjIiIiJERESIiIgAAACm0meuAAAAAXRSTlMAQObYZgAAAAlwSFlzAAAOxAAA\n",
       "DsQBlSsOGwAAADxJREFUCNdjYGA4vWrVBAaGzuMMQMA2HUQycCZAKDDJELIKCDYwVEN4XBCK5wCE\n",
       "ngyhinYUgOnGXasmAABvGQ6ucz2C1gAAAABJRU5ErkJggg==\n",
       "\" style=\"display:inline;vertical-align:middle;\" /></a></td></tr>\n",
       "<tr><td>8</td><td>ExprTuple</td><td>9, 10</td><td><a class=\"ProveItLink\" href=\"../13662f0b562b83ef590e94bdb0c95834e55323040/expr.ipynb\"><img src=\"data:image/png;base64,iVBORw0KGgoAAAANSUhEUgAAAEAAAAAZBAMAAABzxjXSAAAAMFBMVEX///9UVFQiIiKIiIjMzMx2\n",
       "dnYQEBDc3NyYmJhEREQyMjLu7u5mZma6urqqqqoAAACMi3WHAAAAAXRSTlMAQObYZgAAAAlwSFlz\n",
       "AAAOxAAADsQBlSsOGwAAAWBJREFUKM91kr9Lw0AUx7/FpEl6SSw6FBUkuDhUpIo6FzdBsSKI4JLF\n",
       "PZs4GXFwNKBI00HifxB1c4mrW/4DuzoUHaT+KAXvgrlrMDm4L9zxed97794D0EPe0pm0mJhPuYDG\n",
       "ZIPJI4oBtUGlPXp9/90JsdeP/wDUAcXOBN4YVZBB6oAlmkwrA0w4+4CNZ//a910gCjEeZ4BZr+LA\n",
       "4g4VF9thBqidKcEIoHtYziZfKzVXR4AxG9OAsXO0O5kC8LRYAMYAPiBrl4icFNgkdSv9SUgfuAW2\n",
       "yh5Omimgdl9F5coQC0AYxbjgT2CmJAAyZA54A6YEcEcs4ZA8wRL9IhyQGh4HpM8k9BDmu4zkQ67o\n",
       "XhEArWIt8ZGDc/LDbhZZAQEHVBsvIQwLSruLOWqx3qfRRAB6FWXeCzP8PxW0F6Kbcs7Y0G5KvOiH\n",
       "HOCUNTg9uDnAfPFMgs9kwVQn6zjRXjFwAPwCDu1Mda9EWrAAAAAASUVORK5CYII=\n",
       "\" style=\"display:inline;vertical-align:middle;\" /></a></td></tr>\n",
       "<tr><td>9</td><td>Variable</td><td></td><td><a class=\"ProveItLink\" href=\"../0c1c4cb515e0f4344b1ac06650f349123e526deb0/expr.ipynb\"><img src=\"data:image/png;base64,iVBORw0KGgoAAAANSUhEUgAAAAwAAAAJBAMAAAD0ltBnAAAALVBMVEX///8iIiIyMjKqqqqYmJgQ\n",
       "EBDMzMzu7u5ERESIiIjc3NxUVFR2dna6uroAAABc6vguAAAAAXRSTlMAQObYZgAAAAlwSFlzAAAO\n",
       "xAAADsQBlSsOGwAAAEdJREFUCNdj4D296uROBgYejk6GugUMuawNDOsSGArqLjD4MTAw2DEw7ABS\n",
       "mxgYnrAzMMQwMD/gYeB6xsCj4MXAK8DA1WIAACOEDusgYYkuAAAAAElFTkSuQmCC\n",
       "\" style=\"display:inline;vertical-align:middle;\" /></a></td></tr>\n",
       "<tr><td>10</td><td>Literal</td><td></td><td><a class=\"ProveItLink\" href=\"../../../../number/sets/integer/__pv_it/f6a9f4b6dec6ab4d2dcb6ba1b0ba3cceefc643530/expr.ipynb\"><img src=\"data:image/png;base64,iVBORw0KGgoAAAANSUhEUgAAABsAAAASBAMAAABY9biuAAAAMFBMVEX///9mZmbMzMyIiIiYmJjc\n",
       "3NxUVFSqqqq6uroQEBB2dnYyMjJEREQiIiLu7u4AAAAPqInnAAAAAXRSTlMAQObYZgAAAAlwSFlz\n",
       "AAAOxAAADsQBlSsOGwAAAH9JREFUGNNjYIADRgYUwIOF+/bP6QcMK382wGSPcyQw8P2DK84NWMLA\n",
       "MIFB5szJM2ccGBjSD3AHMFyAy6Y6s25A5rIpWCFzGQ7wNCBzFfnuXYC7KpWBpaBmAtwxqQwMeWwo\n",
       "3Gd8F5C5TAYH4NxDQGyE4F4HGboBxtP9CZThg3EBugMlU91oyisAAAAASUVORK5CYII=\n",
       "\" style=\"display:inline;vertical-align:middle;\" /></a></td></tr>\n",
       "</table>\n"
      ],
      "text/plain": [
       "0. forall_{n in NaturalsPos} P(n)\n",
       "   core type: Operation\n",
       "   operator: 1\n",
       "   operand: 2\n",
       "1. forall\n",
       "   core type: Literal\n",
       "   sub-expressions: \n",
       "2. n -> {P(n) if n in NaturalsPos.\n",
       "   core type: Lambda\n",
       "   parameter: 9\n",
       "   body: 3\n",
       "3. {P(n) if n in NaturalsPos.\n",
       "   core type: Conditional\n",
       "   value: 4\n",
       "   condition: 5\n",
       "4. P(n)\n",
       "   core type: Operation\n",
       "   operator: 6\n",
       "   operand: 9\n",
       "5. n in NaturalsPos\n",
       "   core type: Operation\n",
       "   operator: 7\n",
       "   operands: 8\n",
       "6. P\n",
       "   core type: Variable\n",
       "   sub-expressions: \n",
       "7. in\n",
       "   core type: Literal\n",
       "   sub-expressions: \n",
       "8. (n , NaturalsPos)\n",
       "   core type: ExprTuple\n",
       "   sub-expressions: 9, 10\n",
       "9. n\n",
       "   core type: Variable\n",
       "   sub-expressions: \n",
       "10. NaturalsPos\n",
       "    core type: Literal\n",
       "    sub-expressions: "
      ]
     },
     "execution_count": 5,
     "metadata": {},
     "output_type": "execute_result"
    }
   ],
   "source": [
    "# display the expression information\n",
    "expr.exprInfo()"
   ]
  },
  {
   "cell_type": "code",
   "execution_count": null,
   "metadata": {},
   "outputs": [],
   "source": []
  }
 ],
 "metadata": {
  "kernelspec": {
   "display_name": "Python 3",
   "language": "python",
   "name": "python3"
  },
  "language_info": {
   "codemirror_mode": {
    "name": "ipython",
    "version": 3
   },
   "file_extension": ".py",
   "mimetype": "text/x-python",
   "name": "python",
   "nbconvert_exporter": "python",
   "pygments_lexer": "ipython3",
   "version": "3.7.4"
  }
 },
 "nbformat": 4,
 "nbformat_minor": 1
}
