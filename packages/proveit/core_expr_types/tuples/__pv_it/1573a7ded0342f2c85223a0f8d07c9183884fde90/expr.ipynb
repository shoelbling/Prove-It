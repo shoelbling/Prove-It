{
 "cells": [
  {
   "cell_type": "markdown",
   "metadata": {},
   "source": [
    "Expression of type <a class=\"ProveItLink\" href=\"../../../../../../doc/html/api/proveit.Lambda.html\">Lambda</a>\n",
    "=======================\n",
    "# from context <a class=\"ProveItLink\" href=\"../../_context_.ipynb\">proveit.core_expr_types.tuples</a>"
   ]
  },
  {
   "cell_type": "code",
   "execution_count": 1,
   "metadata": {},
   "outputs": [],
   "source": [
    "import proveit\n",
    "# Automation is not needed when building an expression:\n",
    "proveit.defaults.automation = False # This will speed things up.\n",
    "# import Expression classes needed to build the expression\n",
    "from proveit import Conditional, Lambda, Variable\n",
    "from proveit.logic import And"
   ]
  },
  {
   "cell_type": "code",
   "execution_count": 2,
   "metadata": {},
   "outputs": [
    {
     "data": {
      "text/html": [
       "<strong id=\"expr\">expr:</strong> <a class=\"ProveItLink\" href=\"expr.ipynb\"><img src=\"data:image/png;base64,iVBORw0KGgoAAAANSUhEUgAAAOcAAAAVCAMAAACKcAkAAAAANlBMVEX///8WFhYNDQ3MzMxUVFRE\n",
       "REQiIiK6uroQEBCYmJhmZmYyMjLu7u52dnaqqqqIiIjc3NwAAACgirQNAAAAAXRSTlMAQObYZgAA\n",
       "AAlwSFlzAAAOxAAADsQBlSsOGwAAAplJREFUWMPNWNlywyAMpEXcmOP/f7bYYJvDYOhMO9FDmtiw\n",
       "2hVCiCIUzKEFWxqsGUMfY9bkMtTLaGYXkJXRaAV8aMI2QVsBNFv+S/kWn3hPAEAR3IRljOx1+eAB\n",
       "fOQpaeEiTjbY10Lf2d6ppUpqT1Q4Of6AP6YqPalzo7XuCnwzY08xgbw8+FPkQL8A9jCCSVH8At9u\n",
       "QOdt4VH+UmcNrqkae0rDIm1oHcywvdQXzNxWRiGmQnomEgLvLKh1Q50NuBXAxp4ygza6c2xTVuQh\n",
       "dRZZ324/SNmheBSiRBXrM43kSGcLThEmY09DnZNs09LnVUjuKS86Ca+BpuBtkFEtiQ90NuB7AVRu\n",
       "6OkoqTy4w8B5nbmTbFG9NoiF4GC/1ROxJ9ZauEcK1VFmyuWRea604LvGMgUaT9EHPO7PWbYJxBQB\n",
       "Cru42e82bnbDz6mG9lbQEp0XBIEG4Pj4TvXI02HkWecs27TKLCMpZahgpJ5JUqm6Nj2+q/n3Fy3M\n",
       "X0ccBsqKCNTgEE9jO/I00DnNttapo0dP65lnzK4CxnhvPZm6tWmZHbQteDq3NR156uucZ5s2icnz\n",
       "YGfOm4QXZyFjL3mLyxaCAOqDnz2CNANPfZ3zbBPIqZqJopXSdcIHBHW1Vh2dVfW8620Fns/MWtTW\n",
       "U1fnAtvyjHBnYMgxUN/DFE/Jei2WvDOiiBnrnZ8VeGzKLxm47ykOIPcnWmcbX7ODiw7N7/HC7F/2\n",
       "Wk1TIQTlPRxt8Z1ftHM3k/hRZwu+E7xo4PTkydP+mnBOdPj0V+qtsd1fhwWguHPZ6Hbrjv6yv/1D\n",
       "M693i15XvnVnSPF5Orf3IeQxC3X3Ou3I9DWb/5dMPXH514+8+2tG9LR3bv5J51SGObEEufAPIifB\n",
       "oI+wHxA+IR9I8HhWAAAAAElFTkSuQmCC\n",
       "\" style=\"display:inline;vertical-align:middle;\" /></a><br>"
      ],
      "text/plain": [
       "expr: (A, B) -> {A and B if A ,  B."
      ]
     },
     "execution_count": 2,
     "metadata": {},
     "output_type": "execute_result"
    }
   ],
   "source": [
    "# build up the expression from sub-expressions\n",
    "subExpr1 = And(Variable(\"A\"), Variable(\"B\"))\n",
    "expr = Lambda([Variable(\"A\"), Variable(\"B\")], Conditional(subExpr1, subExpr1))"
   ]
  },
  {
   "cell_type": "code",
   "execution_count": 3,
   "metadata": {},
   "outputs": [
    {
     "name": "stdout",
     "output_type": "stream",
     "text": [
      "Passed sanity check: built 'expr' is the same as the stored Expression.\n"
     ]
    }
   ],
   "source": [
    "# check that the built expression is the same as the stored expression\n",
    "%check_expr"
   ]
  },
  {
   "cell_type": "code",
   "execution_count": 4,
   "metadata": {},
   "outputs": [
    {
     "name": "stdout",
     "output_type": "stream",
     "text": [
      "\\left(A, B\\right) \\mapsto \\left\\{A \\land B \\textrm{ if } A ,  B\\right..\n"
     ]
    }
   ],
   "source": [
    "# Show the LaTeX representation of the expression for convenience if you need it.\n",
    "print(expr.latex())"
   ]
  },
  {
   "cell_type": "code",
   "execution_count": 5,
   "metadata": {},
   "outputs": [
    {
     "data": {
      "text/html": [
       "<table><tr><th>&nbsp;</th><th>core type</th><th>sub-expressions</th><th>expression</th></tr>\n",
       "<tr><td>0</td><td>Lambda</td><td>parameters:&nbsp;4<br>body:&nbsp;1<br></td><td><a class=\"ProveItLink\" href=\"expr.ipynb\"><img src=\"data:image/png;base64,iVBORw0KGgoAAAANSUhEUgAAAOcAAAAVCAMAAACKcAkAAAAANlBMVEX///8WFhYNDQ3MzMxUVFRE\n",
       "REQiIiK6uroQEBCYmJhmZmYyMjLu7u52dnaqqqqIiIjc3NwAAACgirQNAAAAAXRSTlMAQObYZgAA\n",
       "AAlwSFlzAAAOxAAADsQBlSsOGwAAAplJREFUWMPNWNlywyAMpEXcmOP/f7bYYJvDYOhMO9FDmtiw\n",
       "2hVCiCIUzKEFWxqsGUMfY9bkMtTLaGYXkJXRaAV8aMI2QVsBNFv+S/kWn3hPAEAR3IRljOx1+eAB\n",
       "fOQpaeEiTjbY10Lf2d6ppUpqT1Q4Of6AP6YqPalzo7XuCnwzY08xgbw8+FPkQL8A9jCCSVH8At9u\n",
       "QOdt4VH+UmcNrqkae0rDIm1oHcywvdQXzNxWRiGmQnomEgLvLKh1Q50NuBXAxp4ygza6c2xTVuQh\n",
       "dRZZ324/SNmheBSiRBXrM43kSGcLThEmY09DnZNs09LnVUjuKS86Ca+BpuBtkFEtiQ90NuB7AVRu\n",
       "6OkoqTy4w8B5nbmTbFG9NoiF4GC/1ROxJ9ZauEcK1VFmyuWRea604LvGMgUaT9EHPO7PWbYJxBQB\n",
       "Cru42e82bnbDz6mG9lbQEp0XBIEG4Pj4TvXI02HkWecs27TKLCMpZahgpJ5JUqm6Nj2+q/n3Fy3M\n",
       "X0ccBsqKCNTgEE9jO/I00DnNttapo0dP65lnzK4CxnhvPZm6tWmZHbQteDq3NR156uucZ5s2icnz\n",
       "YGfOm4QXZyFjL3mLyxaCAOqDnz2CNANPfZ3zbBPIqZqJopXSdcIHBHW1Vh2dVfW8620Fns/MWtTW\n",
       "U1fnAtvyjHBnYMgxUN/DFE/Jei2WvDOiiBnrnZ8VeGzKLxm47ykOIPcnWmcbX7ODiw7N7/HC7F/2\n",
       "Wk1TIQTlPRxt8Z1ftHM3k/hRZwu+E7xo4PTkydP+mnBOdPj0V+qtsd1fhwWguHPZ6Hbrjv6yv/1D\n",
       "M693i15XvnVnSPF5Orf3IeQxC3X3Ou3I9DWb/5dMPXH514+8+2tG9LR3bv5J51SGObEEufAPIifB\n",
       "oI+wHxA+IR9I8HhWAAAAAElFTkSuQmCC\n",
       "\" style=\"display:inline;vertical-align:middle;\" /></a></td></tr>\n",
       "<tr><td>1</td><td>Conditional</td><td>value:&nbsp;2<br>condition:&nbsp;2<br></td><td><a class=\"ProveItLink\" href=\"../b21ee772f5bb2ecc33d3a6b252ed000973a842d90/expr.ipynb\"><img src=\"data:image/png;base64,iVBORw0KGgoAAAANSUhEUgAAAI4AAAAVBAMAAABicsu7AAAAMFBMVEX///8QEBBERERUVFTMzMyY\n",
       "mJjc3NxmZmYiIiJ2dnaqqqoyMjKIiIi6urru7u4AAAAvZeGPAAAAAXRSTlMAQObYZgAAAAlwSFlz\n",
       "AAAOxAAADsQBlSsOGwAAAgdJREFUOMtjYGDgu8tAFXB6HYTOxq8s5gKUwbYBqzzXPyhjP5pE0H9l\n",
       "400OYJ2iDAzcS/5Cxbk/YKoAAs4GqHn/oQKzYMqEGBiYv4AYvN8ZGCLY7KDC6+HmIFQgmcNunwCm\n",
       "+bph7v8DMQEIHjAwGMM1F39jwFSBMGfafIgLeYKhAcEKtIn1D0yPOYzBmQlzAaoKqDlsB84vADM4\n",
       "WBQgEsxA93OLYZiTw/MLxkRRATWHnWF9AJixkmEbRIJRgYHPAuzGbGEGZ0GYxwq4vsLMQagAGQCJ\n",
       "xlsM/hPAjG0MyyES/jpnrCFGMzQjwod3ActPmDlIKhgY8iGsAoZ8AxDNYsDA8QAscj6BgUsUokYZ\n",
       "YQ47A9tnmFYkFQzOvZDQVS+3B4cLswMDzwGwkCIQQ8MeyZxD5cWfYOYgqWDgqwbb/oaBgR8cUK+B\n",
       "QpAQA1kbfwDNHD6gwA+YOUgqGBiYDCDeYuAQgKXCKrAHQcFpfwHNHHYgboTqRFYBjS/eAFh6b4Dl\n",
       "NB5gcmP5jR4+VyEZiA9dBdScRJDDQOmUFeRMJpCfuYHOu7gPokYJjECpDORm/QSG9xtQVPD9hpjz\n",
       "6P8+Bi7938CIZwKFFguQwbz/s7G1FsQYJ0E9J3kdkHr93w8YFv3fycDRh6qiHZEvSAPrMETIM2cC\n",
       "hgiPABnG8B3AFJIiwxxWLGLpVlQonAFBt4Z65LUqiwAAAABJRU5ErkJggg==\n",
       "\" style=\"display:inline;vertical-align:middle;\" /></a></td></tr>\n",
       "<tr><td>2</td><td>Operation</td><td>operator:&nbsp;3<br>operands:&nbsp;4<br></td><td><a class=\"ProveItLink\" href=\"../645b9b1f48664370ecac54d2d8d6e7135a3f0a1a0/expr.ipynb\"><img src=\"data:image/png;base64,iVBORw0KGgoAAAANSUhEUgAAADcAAAAPBAMAAACy3Eq1AAAAMFBMVEX///8QEBAiIiLu7u5ERES6\n",
       "urqYmJiIiIjMzMx2dnZUVFRmZmaqqqoyMjLc3NwAAABb1yYoAAAAAXRSTlMAQObYZgAAAAlwSFlz\n",
       "AAAOxAAADsQBlSsOGwAAAQZJREFUGNNjYACBtwx4wH00Ppv/l1VrPSBsnv9QwTkwWUYHBob1DWAm\n",
       "9/oHYJpZFyb5voCBIX4DmDlvPkQRe1YAVDIfKJBfAGLxFdQfAAsxcThAJdcD8UWwcdwM5xPAQicZ\n",
       "7kElRRgYrDTArBiG/glgxj2G0xA5ji/lVdcgzA0M7xeAhRYwMBlALP/HwHAQbBq79+71YLu4GhjY\n",
       "wY5gYBFgYOD8AWKZMzDwK4AYtkDPgBkM/ECT2L5DTGVgEoAFwR6wZD/QSK6vQAYrkMH7ASSkAA/l\n",
       "eqAv+i8AGQ9BdvwDBSjIPhZwcFwE6pEFus3k/2UGHv+/QL+wgFzKAfLU2v+rVl0BhgsAzw9AO6zb\n",
       "Ip4AAAAASUVORK5CYII=\n",
       "\" style=\"display:inline;vertical-align:middle;\" /></a></td></tr>\n",
       "<tr><td>3</td><td>Literal</td><td></td><td><a class=\"ProveItLink\" href=\"../../../../logic/boolean/conjunction/__pv_it/f41cc6b553210927c09f19a8a39cdf860a5585930/expr.ipynb\"><img src=\"data:image/png;base64,iVBORw0KGgoAAAANSUhEUgAAAAwAAAANBAMAAABvB5JxAAAALVBMVEX///9mZmbc3NxERETMzMy6\n",
       "urpUVFSYmJiIiIgyMjIiIiLu7u6qqqp2dnYAAACMfHT6AAAAAXRSTlMAQObYZgAAAAlwSFlzAAAO\n",
       "xAAADsQBlSsOGwAAAEpJREFUCNdjYGDgPcAAArsmgKn2VDC1wBlE8lzgVABSnAo8AkDKjYFhNZBK\n",
       "YWDoYGDgBirfBdHMeICBCyjONIGhAqTJhMEaRPkCACemC8GDBfsjAAAAAElFTkSuQmCC\n",
       "\" style=\"display:inline;vertical-align:middle;\" /></a></td></tr>\n",
       "<tr><td>4</td><td>ExprTuple</td><td>5, 6</td><td><a class=\"ProveItLink\" href=\"../7999cdc030dc214006d7286ab60a527860367ca80/expr.ipynb\"><img src=\"data:image/png;base64,iVBORw0KGgoAAAANSUhEUgAAADUAAAAVBAMAAAAUZLt1AAAAMFBMVEX////MzMxUVFREREQiIiK6\n",
       "uroQEBCYmJhmZmYyMjLu7u52dnaqqqqIiIjc3NwAAACFAiZ1AAAAAXRSTlMAQObYZgAAAAlwSFlz\n",
       "AAAOxAAADsQBlSsOGwAAAUlJREFUKM9tkjFLw1AUhY82bdI2TfMPUrJ1StxctBUcHV0ExYA4uL3R\n",
       "yWZTcCkIFYpgsHOh+ANsJxcHg7s0gwhOrRSHDjbe95I0QRp44Z3z3XceuTcAAqx6hFsZif3XP3bE\n",
       "Xy/R/j4x5cbMrG+II6W2cNRweaJgA5aOLqAwYSjW8tqJDxy7OKeqyHga6glr0a7lo+DhQGjNH48S\n",
       "ZtHqBCgyXEeReGUJOwEedoByDbdCH8IYxGht9v7GTbmNPWG4mNRiVlkAzxSiNnEq9OaVZccs51De\n",
       "N52fRqwPVJsxq1KA/AvkHdxFkZCcmBmUt/4jMrdI5kkWp4DH2ZiaYFCzZBuPJD/5NQuU5px1qPaM\n",
       "qhQf+0Av7EJtzAfYJasemuYN74MUQNLTuaheZkgfFOumspwd4CWt7VT2M0jj39tLNcuwHM/X2Mr/\n",
       "5QL4A652SjnTmh5GAAAAAElFTkSuQmCC\n",
       "\" style=\"display:inline;vertical-align:middle;\" /></a></td></tr>\n",
       "<tr><td>5</td><td>Variable</td><td></td><td><a class=\"ProveItLink\" href=\"../d3792d0d8642fdf1cd2a3a9b32c673ee13653de00/expr.ipynb\"><img src=\"data:image/png;base64,iVBORw0KGgoAAAANSUhEUgAAAA8AAAAPBAMAAADJ+Ih5AAAAMFBMVEX///8QEBAiIiLu7u5ERES6\n",
       "urqYmJiIiIjMzMx2dnZUVFRmZmaqqqoyMjLc3NwAAABb1yYoAAAAAXRSTlMAQObYZgAAAAlwSFlz\n",
       "AAAOxAAADsQBlSsOGwAAAF9JREFUCNdjYACBtwxQcB9K8/yHMrjXP4Aw5s1vANN8BfUHIDIM5xPA\n",
       "jBiG/glgxgaG9wtANLv37vUOIIY5AwO/AkSGgUkASLMCdfB+ADIeAjHLPwYGk/+XGXj8/04AADnq\n",
       "Fzds8Dk2AAAAAElFTkSuQmCC\n",
       "\" style=\"display:inline;vertical-align:middle;\" /></a></td></tr>\n",
       "<tr><td>6</td><td>Variable</td><td></td><td><a class=\"ProveItLink\" href=\"../4d98b438710c5ada9ffa4646bb123a7d0e69ec000/expr.ipynb\"><img src=\"data:image/png;base64,iVBORw0KGgoAAAANSUhEUgAAABAAAAAOBAMAAADUAYG5AAAAMFBMVEX///92dnaqqqoiIiLu7u5m\n",
       "Zma6urqIiIjc3NwQEBDMzMwyMjJUVFRERESYmJgAAAAeMT9/AAAAAXRSTlMAQObYZgAAAAlwSFlz\n",
       "AAAOxAAADsQBlSsOGwAAAHJJREFUCNdjYGB4+//Omb0LGIBgLgMDzy8gzfGdgYHtK5DBB+TxATkM\n",
       "PB8YGLhnABmcFxhYDoMUr79efvoBSFN9AwPTPBDjJhDLg6T+APH7AgYGrn9AxvkEBgb2H0DObyCH\n",
       "ewIDQ+YWoHH7/5w5fYmBAQBdUiHY6HsJaQAAAABJRU5ErkJggg==\n",
       "\" style=\"display:inline;vertical-align:middle;\" /></a></td></tr>\n",
       "</table>\n"
      ],
      "text/plain": [
       "0. (A, B) -> {A and B if A ,  B.\n",
       "   core type: Lambda\n",
       "   parameters: 4\\n   body: 1\n",
       "1. {A and B if A ,  B.\n",
       "   core type: Conditional\n",
       "   value: 2\n",
       "   condition: 2\n",
       "2. A and B\n",
       "   core type: Operation\n",
       "   operator: 3\n",
       "   operands: 4\n",
       "3. and\n",
       "   core type: Literal\n",
       "   sub-expressions: \n",
       "4. (A , B)\n",
       "   core type: ExprTuple\n",
       "   sub-expressions: 5, 6\n",
       "5. A\n",
       "   core type: Variable\n",
       "   sub-expressions: \n",
       "6. B\n",
       "   core type: Variable\n",
       "   sub-expressions: "
      ]
     },
     "execution_count": 5,
     "metadata": {},
     "output_type": "execute_result"
    }
   ],
   "source": [
    "# display the expression information\n",
    "expr.exprInfo()"
   ]
  },
  {
   "cell_type": "code",
   "execution_count": null,
   "metadata": {},
   "outputs": [],
   "source": []
  }
 ],
 "metadata": {
  "kernelspec": {
   "display_name": "Python 3",
   "language": "python",
   "name": "python3"
  },
  "language_info": {
   "codemirror_mode": {
    "name": "ipython",
    "version": 3
   },
   "file_extension": ".py",
   "mimetype": "text/x-python",
   "name": "python",
   "nbconvert_exporter": "python",
   "pygments_lexer": "ipython3",
   "version": "3.7.4"
  }
 },
 "nbformat": 4,
 "nbformat_minor": 1
}
