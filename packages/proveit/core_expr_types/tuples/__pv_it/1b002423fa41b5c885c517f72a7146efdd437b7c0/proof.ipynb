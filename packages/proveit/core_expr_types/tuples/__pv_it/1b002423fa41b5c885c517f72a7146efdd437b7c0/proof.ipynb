{
 "cells": [
  {
   "cell_type": "markdown",
   "metadata": {},
   "source": [
    "Show the Proof\n",
    "========"
   ]
  },
  {
   "cell_type": "code",
   "execution_count": 1,
   "metadata": {},
   "outputs": [
    {
     "data": {
      "text/html": [
       "<table><tr><th>&nbsp;</th><th>step type</th><th>requirements</th><th>statement</th></tr>\n",
       "<tr><td><a name=\"proveit.core_expr_types.tuples.1b002423fa41b5c885c517f72a7146efdd437b7c0_step0\">0</a></td><td>instantiation</td><td><a href=\"#proveit.core_expr_types.tuples.1b002423fa41b5c885c517f72a7146efdd437b7c0_step1\">1</a></td><td><span style=\"font-size:20px;\"> <a class=\"ProveItLink\" href=\"proof.ipynb\" style=\"text-decoration: none\">&#x22A2;&nbsp;</a><a class=\"ProveItLink\" href=\"../f10fd9daf7fadef3a163f2a0fd5bd3a940a246bb0/expr.ipynb\"><img src=\"data:image/png;base64,iVBORw0KGgoAAAANSUhEUgAAAJ0AAAAVBAMAAACu6/FQAAAAMFBMVEX////MzMxUVFREREQiIiK6\n",
       "uroQEBCYmJhmZmYyMjLu7u52dnaqqqqIiIjc3NwAAACFAiZ1AAAAAXRSTlMAQObYZgAAAAlwSFlz\n",
       "AAAOxAAADsQBlSsOGwAAActJREFUOMtjYGB4wEA0wKaUD02a9wDx5sViEbuDJn2agcvMAb8xi1Og\n",
       "DCx282xAleaawMDA2UDAXTNgjFkYUivRpDkKGBj4CXn5D4xRgSHVjibNBqTiF+A3jvUXjMWGoTIB\n",
       "TToSSG0h4DxuePhyFqBbNQFNuhtITbrbg9c8Tt0b0BDhVkCT4tiAJj0dGCU/F6zHmwjXz+L6B2Gx\n",
       "TwCRLS4g4ARzMIq0DzDKfzHwX+CqxG3e+QUMfxmWg4ziQU9ZLAfQpFOBbp7AsH6D7BXc5nUycP1m\n",
       "vAsyivEDmhRbAJp0Kjj5xR9gOIIv+bH+gTiNNQGLeSjSc4DJr4ChfwE+874zcPyCaID4Fzn8DqBJ\n",
       "2wLNC+BKZwCbx4VpFijBfWVYVgDRwG6AJs18AU16EwMDUwFzA8S89RNAsY3MABPqDBZQp3FcQE+a\n",
       "CmjSIUA9vaDkBzKPxQtIeIAYDVAGgwvQgStA6QusgQU9XbE6oEmzCEBlwOF3CrP8gOUwsIYnGPKO\n",
       "aNLsDcjmbcDMawzIGtox5CvQpe0g/Nfze4E+v4Chfi2sGN754wIDnwGGPPMDNOnFSJLsmPGLUgAw\n",
       "YxZEXAZo0nwFxJf3dVjEnqNIAwAzOI935RQw/gAAAABJRU5ErkJggg==\n",
       "\" style=\"display:inline;vertical-align:middle;\" /></a></span></td></tr>\n",
       "<tr><td>&nbsp;</td><td colspan=4 style=\"text-align:left\"><span style=\"font-size:20px;\"><a class=\"ProveItLink\" href=\"../../../__pv_it/abc2da5dd9ef09681410396323f16aeb9dd2e0ad0/expr.ipynb\"><img src=\"data:image/png;base64,iVBORw0KGgoAAAANSUhEUgAAACgAAAAVBAMAAADGNLEtAAAAMFBMVEX///8yMjLc3NyIiIiYmJgi\n",
       "IiJERES6urqqqqoQEBDMzMxUVFTu7u52dnZmZmYAAAD1zdHuAAAAAXRSTlMAQObYZgAAAAlwSFlz\n",
       "AAAOxAAADsQBlSsOGwAAAP1JREFUGNNjYIADJhQKCiwgFLsBmOK7ewBIclxAkby9sgFIHoTpYAQp\n",
       "YZhRBqKewARZHoAM+QNmT4AbPgeIeQPA5gvABUWAqndGg9TzgezRu6wMsgOI+cFuYHQAqp7EkA80\n",
       "3hHI1V8AEmQFuuCkA8NTILMViPvBBnEWMDC8P8AQC2SuB+KrcMFpDDzfgcxKIM6GOLmBgecvA8sH\n",
       "qPbJYEE2AwaeHwxsAk0MDG7AUPkFFuTdwMAgzOD6AOiyx8CA+AAJHKAXTtsu2gx0ShDQ1Rsg/oiC\n",
       "h2sAQzdjA4TtBxPkc2AIgwUZmwKUocbA4PwIyuZJgDJykKNDBRqcCgwAmIo1X55DCvQAAAAASUVO\n",
       "RK5CYII=\n",
       "\" style=\"display:inline;vertical-align:middle;\" /></a> : <a class=\"ProveItLink\" href=\"../../../__pv_it/f753f8362b362955627c11616e72bcb2b9d636cf0/expr.ipynb\"><img src=\"data:image/png;base64,iVBORw0KGgoAAAANSUhEUgAAABIAAAARBAMAAAAidOHKAAAAMFBMVEX////MzMyYmJjc3NyIiIhU\n",
       "VFR2dna6urqqqqpmZmYyMjIiIiIQEBBERETu7u4AAACIO4EmAAAAAXRSTlMAQObYZgAAAAlwSFlz\n",
       "AAAOxAAADsQBlSsOGwAAAHNJREFUCNdj4LuzgQEKuCbAWPwNMFb9AxgrG8ZgWOoyA8Lg+/XgvQGY\n",
       "xfGPgd8BzOJcwPA+AWZcPcQcfgWG+Q/4JrkZMPAX8B1ieC0g/4CBVYF3AsNMBhmgKVOAxn1ncIWa\n",
       "+Znh0jsI8zDjdwUIq1LDTQEAoGAdmQp96AQAAAAASUVORK5CYII=\n",
       "\" style=\"display:inline;vertical-align:middle;\" /></a>, <a class=\"ProveItLink\" href=\"../../../__pv_it/557ab5defdcd46aa58168b08767502985122cd490/expr.ipynb\"><img src=\"data:image/png;base64,iVBORw0KGgoAAAANSUhEUgAAAAcAAAAOBAMAAAARcxsoAAAALVBMVEX///9ERESYmJhUVFQyMjKq\n",
       "qqrc3NwQEBC6urru7u52dnYiIiJmZmaIiIgAAAD/UVazAAAAAXRSTlMAQObYZgAAAAlwSFlzAAAO\n",
       "xAAADsQBlSsOGwAAADlJREFUCNdjYGC4wwAEuxjQAeedCwwMXBwFDAypPA4MDBP4gFyGuAlAwhkk\n",
       "+5SLgYHjQRKQKavAAAAx5QmdfgFqMAAAAABJRU5ErkJggg==\n",
       "\" style=\"display:inline;vertical-align:middle;\" /></a> : <a class=\"ProveItLink\" href=\"../../../../number/numeral/__pv_it/f086f8c372bd40a2458306ddfdbb29f3dc6f63030/expr.ipynb\"><img src=\"data:image/png;base64,iVBORw0KGgoAAAANSUhEUgAAAAgAAAAOBAMAAADgeEClAAAAIVBMVEX///8QEBBERESIiIgyMjJm\n",
       "ZmZUVFTu7u4iIiLMzMwAAAAWRytzAAAAAXRSTlMAQObYZgAAAAlwSFlzAAAOxAAADsQBlSsOGwAA\n",
       "ABtJREFUCNdjYOBsZ2AoC1nOwMDATBbBprgiGQBsuwqCZsDj4wAAAABJRU5ErkJggg==\n",
       "\" style=\"display:inline;vertical-align:middle;\" /></a></span></td></tr><tr><td><a name=\"proveit.core_expr_types.tuples.1b002423fa41b5c885c517f72a7146efdd437b7c0_step1\">1</a></td><td>theorem</td><td></td><td><span style=\"font-size:20px;\"> <a class=\"ProveItLink\" href=\"../../_proofs_/singular_range_reduction.ipynb\" style=\"text-decoration: none\">&#x22A2;&nbsp;</a><a class=\"ProveItLink\" href=\"../2ab4fe5b7195cf9ffe9cdfd662fae464e7cfc2d50/expr.ipynb\"><img src=\"data:image/png;base64,iVBORw0KGgoAAAANSUhEUgAAARsAAAAWBAMAAAAC6iV4AAAAMFBMVEX///+IiIgiIiIQEBB2dnbu\n",
       "7u5UVFTMzMzc3NwyMjK6urpmZmaYmJiqqqpEREQAAACk/Np2AAAAAXRSTlMAQObYZgAAAAlwSFlz\n",
       "AAAOxAAADsQBlSsOGwAAA3RJREFUSMfFVj1oFFEQnlx2zf3t5eyEGDgO/0AiMSiCEDiDsQtsGjWF\n",
       "5iCFhc2BYOsRwSrqNYqFAU0qG5NA8C8pkkaiQjhEA4qQpDhJGYsgFoIz783bv9ls0jnwzb3Zm/l2\n",
       "3nvz3izALlJHpCO2VntL2qj0bsyCtZ7M3tZE1R2x4fn+0lFx2aJGLLNgNdigBz9E0BeEU6FR7qLL\n",
       "dleIKk60L8W1zaqkuiGWGWB+EEKsBu/o8ZNojN1ANaKGl2412T4C8Cg5HeWr4lIVyGBqhBhmsG70\n",
       "Q5iVcZu2eENMcwnVohr2v3TZRvmUnI7y5TjIz2rEMEP79xaEWRmUvyX2oJ1UryqBHc+mXzcpG+2r\n",
       "41DOMiQzzLhRVkYeM8wI4hdErpe1ZGySzFJSOtpXx6E8ZQhmgAGIshr0lctnBPE8LSVVcn7s2Ky2\n",
       "7S48JlY1IRv2pbjhOaokhmCG9303IcJq8Bqg5TlfDUxMr0RnkW0ri5uQbyStjvaluMo0Dj4wIFdW\n",
       "UgVvuX5BlNXgHqTJz16gt19g4h46HKqiHtbYvp9DZ6eUlI72xbh08y0OPjNC0qOuyN8QZTUouNYz\n",
       "/OvAx1og6DwVGD2GdWO7NPeO7aR0tC/G2Wr6dxghIWZwtgWrgVNUldxZh9h0Bjx7HWs/25uUzoBJ\n",
       "Bxw6Y9MMmY6u+RCrATSWKd+xIbqmTaVOUg2ozfrp2Y9hr83SvhSXqQY3K1g7xASFqmA1gCF11a6S\n",
       "Gtxh4k2KUYV52tj2XwuLjS5MWyairyPtS3GjzYqmXI16bqoFLApWA7irUl2gCrtmJk/nUx1qLjq0\n",
       "s9sTOE/iGcXqs/8AK88yvhQ3k8aDQYd9TvQRv+ZDrAZQqHkHsGA68BRdZyW/6MjexDekqMJSR1Gd\n",
       "BFYpumvKru9LcYXDODjBCMmUX/MhVgOWc6RGr7CVohSP07ZXfRtlXOmvYrMc1/dVcbRYJY2wKKZX\n",
       "IFjHPXbVaHfArsA3C/z2Rx1tTdez1wp1d6zI9gC+r+mz1CBzoqkgk1OdBMG66PdevcId/XD5kLG3\n",
       "aOvqcGokYJvWb8uPqmGE51vQa/6AEZEtSLUagtUgsBxOIOg6vXYDlt8EbLoyla98By2C52tr2hYE\n",
       "20+AOd9VF6wGPKG1Wrgk6GTARMSGlf19nKq4fF1DfEgvxbGuhNitgzzF/yz/ANPS+vTu40wJAAAA\n",
       "AElFTkSuQmCC\n",
       "\" style=\"display:inline;vertical-align:middle;\" /></a></span></td></tr>\n",
       "<tr><td>&nbsp;</td><td colspan=4 style-\"text-align:left\"><a class=\"ProveItLink\" href=\"../../_proofs_/singular_range_reduction.ipynb\">proveit.core_expr_types.tuples.singular_range_reduction</a></td></tr></table>"
      ],
      "text/plain": [
       "<proveit._core_.proof._ShowProof at 0x2323e909a08>"
      ]
     },
     "execution_count": 1,
     "metadata": {},
     "output_type": "execute_result"
    }
   ],
   "source": [
    "import proveit\n",
    "# Automation is not needed when only showing a stored proof:\n",
    "proveit.defaults.automation = False # This will speed things up.\n",
    "%show_proof"
   ]
  },
  {
   "cell_type": "code",
   "execution_count": null,
   "metadata": {},
   "outputs": [],
   "source": []
  }
 ],
 "metadata": {
  "kernelspec": {
   "display_name": "Python 3",
   "language": "python",
   "name": "python3"
  },
  "language_info": {
   "codemirror_mode": {
    "name": "ipython",
    "version": 3
   },
   "file_extension": ".py",
   "mimetype": "text/x-python",
   "name": "python",
   "nbconvert_exporter": "python",
   "pygments_lexer": "ipython3",
   "version": "3.7.4"
  }
 },
 "nbformat": 4,
 "nbformat_minor": 1
}
