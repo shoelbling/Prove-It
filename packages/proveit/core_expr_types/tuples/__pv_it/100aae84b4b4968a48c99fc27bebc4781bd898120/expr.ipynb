{
 "cells": [
  {
   "cell_type": "markdown",
   "metadata": {},
   "source": [
    "Expression of type <a class=\"ProveItLink\" href=\"../../../../../../doc/html/api/proveit.logic.InSet.html\">InSet</a>\n",
    "=======================\n",
    "# from context <a class=\"ProveItLink\" href=\"../../_context_.ipynb\">proveit.core_expr_types.tuples</a>"
   ]
  },
  {
   "cell_type": "code",
   "execution_count": 1,
   "metadata": {},
   "outputs": [],
   "source": [
    "import proveit\n",
    "# Automation is not needed when building an expression:\n",
    "proveit.defaults.automation = False # This will speed things up.\n",
    "# import Expression classes needed to build the expression\n",
    "from proveit._common_ import i, j\n",
    "from proveit.logic import InSet\n",
    "from proveit.number import Add, Naturals, Neg, one"
   ]
  },
  {
   "cell_type": "code",
   "execution_count": 2,
   "metadata": {},
   "outputs": [
    {
     "data": {
      "text/html": [
       "<strong id=\"expr\">expr:</strong> <a class=\"ProveItLink\" href=\"../fdd20365dd8683766e79537c5abbaf2aa612555a0/expr.ipynb\"><img src=\"data:image/png;base64,iVBORw0KGgoAAAANSUhEUgAAAIUAAAAVBAMAAACakjBMAAAAMFBMVEX////MzMxUVFREREQiIiK6\n",
       "uroQEBCYmJhmZmYyMjLu7u52dnaqqqqIiIjc3NwAAACFAiZ1AAAAAXRSTlMAQObYZgAAAAlwSFlz\n",
       "AAAOxAAADsQBlSsOGwAAAbxJREFUOMtjYGB4wEAc4MMtxXuASDNYL6AJLPlsuYBh27cABobTIC6j\n",
       "FZr8DTS+yAIGhjvoptqwKjBw/WJg4JoAdswENGlvFB6XxnygGZwL0BSpPNjOwJDAwMBRgM/94TDG\n",
       "faB+9gY0WR0DzgcMDgwMbHjD4CyyGQxZ0BA0cfEEM/Rq+SaAzIgkwYzpkLCdC/OTHpPAbZAZ3SDO\n",
       "2suoWrluXMBmxiYw8yU8WPQYDJgDHKBmN7Chhgo3awI2MyrBzHkMCDMkuLyAZvgA2ewP+FETyRuO\n",
       "CdjMOAJmTkAyg/3AYaBtqWDeeZCSlS4g4AhkLeAH+aXFxSXNxcUJYYY8OCmlABU5Q81g0GKCm9GC\n",
       "FpbnF2BzRxg4rAyQ3MGwiAvolzlYkhQDwyQG3H5xQDaD8QLQSFtwdvqKFi9/uLGZUQxm3oUrMwTi\n",
       "iwbQ+GL/gJa9PjzHZkYvmMkJD39QfIBCPwTEYTJA84ttAaoZyvlOwFD2gzhSOQqaD78ZQPIbiwCQ\n",
       "x3aBUDoF+xgaEqyboWkdBoAZielA/QJCeQ4EcGdPOwb5Az5EFUKPccosZuC4EUCUGVa4i8kCIstC\n",
       "dlwFLwDic3MPYK8pwQAAAABJRU5ErkJggg==\n",
       "\" style=\"display:inline;vertical-align:middle;\" /></a><br>"
      ],
      "text/plain": [
       "expr: (j - i + 1) in Naturals"
      ]
     },
     "execution_count": 2,
     "metadata": {},
     "output_type": "execute_result"
    }
   ],
   "source": [
    "# build up the expression from sub-expressions\n",
    "expr = InSet(Add(j, Neg(i), one), Naturals)"
   ]
  },
  {
   "cell_type": "code",
   "execution_count": 3,
   "metadata": {},
   "outputs": [
    {
     "name": "stdout",
     "output_type": "stream",
     "text": [
      "Passed sanity check: built 'expr' is the same as the stored Expression.\n"
     ]
    }
   ],
   "source": [
    "# check that the built expression is the same as the stored expression\n",
    "%check_expr"
   ]
  },
  {
   "cell_type": "code",
   "execution_count": 4,
   "metadata": {},
   "outputs": [
    {
     "name": "stdout",
     "output_type": "stream",
     "text": [
      "\\left(j - i + 1\\right) \\in \\mathbb{N}\n"
     ]
    }
   ],
   "source": [
    "# Show the LaTeX representation of the expression for convenience if you need it.\n",
    "print(expr.latex())"
   ]
  },
  {
   "cell_type": "code",
   "execution_count": 5,
   "metadata": {},
   "outputs": [
    {
     "data": {
      "text/html": [
       "<table><tr><th>&nbsp;</th><th>core type</th><th>sub-expressions</th><th>expression</th></tr>\n",
       "<tr><td>0</td><td>Operation</td><td>operator:&nbsp;1<br>operands:&nbsp;2<br></td><td><a class=\"ProveItLink\" href=\"../fdd20365dd8683766e79537c5abbaf2aa612555a0/expr.ipynb\"><img src=\"data:image/png;base64,iVBORw0KGgoAAAANSUhEUgAAAIUAAAAVBAMAAACakjBMAAAAMFBMVEX////MzMxUVFREREQiIiK6\n",
       "uroQEBCYmJhmZmYyMjLu7u52dnaqqqqIiIjc3NwAAACFAiZ1AAAAAXRSTlMAQObYZgAAAAlwSFlz\n",
       "AAAOxAAADsQBlSsOGwAAAbxJREFUOMtjYGB4wEAc4MMtxXuASDNYL6AJLPlsuYBh27cABobTIC6j\n",
       "FZr8DTS+yAIGhjvoptqwKjBw/WJg4JoAdswENGlvFB6XxnygGZwL0BSpPNjOwJDAwMBRgM/94TDG\n",
       "faB+9gY0WR0DzgcMDgwMbHjD4CyyGQxZ0BA0cfEEM/Rq+SaAzIgkwYzpkLCdC/OTHpPAbZAZ3SDO\n",
       "2suoWrluXMBmxiYw8yU8WPQYDJgDHKBmN7Chhgo3awI2MyrBzHkMCDMkuLyAZvgA2ewP+FETyRuO\n",
       "CdjMOAJmTkAyg/3AYaBtqWDeeZCSlS4g4AhkLeAH+aXFxSXNxcUJYYY8OCmlABU5Q81g0GKCm9GC\n",
       "FpbnF2BzRxg4rAyQ3MGwiAvolzlYkhQDwyQG3H5xQDaD8QLQSFtwdvqKFi9/uLGZUQxm3oUrMwTi\n",
       "iwbQ+GL/gJa9PjzHZkYvmMkJD39QfIBCPwTEYTJA84ttAaoZyvlOwFD2gzhSOQqaD78ZQPIbiwCQ\n",
       "x3aBUDoF+xgaEqyboWkdBoAZielA/QJCeQ4EcGdPOwb5Az5EFUKPccosZuC4EUCUGVa4i8kCIstC\n",
       "dlwFLwDic3MPYK8pwQAAAABJRU5ErkJggg==\n",
       "\" style=\"display:inline;vertical-align:middle;\" /></a></td></tr>\n",
       "<tr><td>1</td><td>Literal</td><td></td><td><a class=\"ProveItLink\" href=\"../../../../logic/set_theory/membership/__pv_it/7776fc89cb67d0b5b1ec2c0c8e08da5587921ccf0/expr.ipynb\"><img src=\"data:image/png;base64,iVBORw0KGgoAAAANSUhEUgAAAAwAAAAMBAMAAACkW0HUAAAAKlBMVEX///92dnZUVFSqqqoQEBDM\n",
       "zMzc3Nzu7u66uroyMjIiIiJERESIiIgAAACm0meuAAAAAXRSTlMAQObYZgAAAAlwSFlzAAAOxAAA\n",
       "DsQBlSsOGwAAADxJREFUCNdjYGA4vWrVBAaGzuMMQMA2HUQycCZAKDDJELIKCDYwVEN4XBCK5wCE\n",
       "ngyhinYUgOnGXasmAABvGQ6ucz2C1gAAAABJRU5ErkJggg==\n",
       "\" style=\"display:inline;vertical-align:middle;\" /></a></td></tr>\n",
       "<tr><td>2</td><td>ExprTuple</td><td>3, 4</td><td><a class=\"ProveItLink\" href=\"../3ecee91335250729771ac3c69dc85c5e4c72b13f0/expr.ipynb\"><img src=\"data:image/png;base64,iVBORw0KGgoAAAANSUhEUgAAAHIAAAAVBAMAAABoAqesAAAAMFBMVEX////MzMxUVFREREQiIiK6\n",
       "uroQEBCYmJhmZmYyMjLu7u52dnaqqqqIiIjc3NwAAACFAiZ1AAAAAXRSTlMAQObYZgAAAAlwSFlz\n",
       "AAAOxAAADsQBlSsOGwAAAYtJREFUOMtjYGB4wEA64AMRvAdI0MHlbzyLgTs/lfUCkHMaJCK8AFUF\n",
       "bwMqn9ELymA+EMTAsH4Bwx2gKRNAAjfRzGbZgMJd1PkLymLy4y5gYGNg4FzAwFGAx3GsMEleuM7D\n",
       "DPMYWBgY2BtA+nEDngsYOp9feAnSyZDFEEmizgeKvBtAOqczdINC7K4Bqo61vbh1MjOYgnRuAupl\n",
       "YOBgSEfVuSEMt07GhiVLgIxKBh8gWcfwBzWeD3Ti1slQw2MGZBxhSAWrAElwTXEBAQEgi+EvyCUu\n",
       "Lm4pLi4K6DqZFqgBGfIQnRwOaCHzC4+dXAog14YxzMES8QycCnh0Msgyg11rC+K/D0DVuf7ABkyd\n",
       "XODUB/QMrzCQUQwMXSCoR4vHeL4CTJ3rQemUBZQ/QOHXyxACklBG08l8HdW1TGZfdBlYgKme0T8Z\n",
       "yF0JxH4MLEDrGXIJpSEwOIUccQ6gpKvD/otQioekDyQ2KKPYMf5hISpzcyE74DEQL2bobSWqPGBH\n",
       "5liBXFxARjnE/oABAC0xZeFz+lo7AAAAAElFTkSuQmCC\n",
       "\" style=\"display:inline;vertical-align:middle;\" /></a></td></tr>\n",
       "<tr><td>3</td><td>Operation</td><td>operator:&nbsp;5<br>operands:&nbsp;6<br></td><td><a class=\"ProveItLink\" href=\"../../../__pv_it/7c428ac385f8c8f81bbe21522841ed974b07bc030/expr.ipynb\"><img src=\"data:image/png;base64,iVBORw0KGgoAAAANSUhEUgAAAE0AAAASBAMAAADs/06hAAAAMFBMVEX///9UVFS6urp2dnYiIiKq\n",
       "qqrc3NyYmJgQEBBmZmYyMjKIiIju7u5ERETMzMwAAAC4hZuzAAAAAXRSTlMAQObYZgAAAAlwSFlz\n",
       "AAAOxAAADsQBlSsOGwAAALBJREFUKM9jYGBg4LvDgAp2ovGfHABT3AvQxJ1ReDyS6w8w4ANMBVDG\n",
       "fvzqWDeQpe70XlRpnp0bsKqbwFGAoo6ZqQGbOvYE/gAUdamcC7C7Lx5EnXIBAT8g6wA/SJ7TxcWj\n",
       "xcVFAEndFDT3xx/Abp4zmrqF2P3L9gnNv1+Zsapj/4AWDR/SsapjvIBm7+0CVHWy/Y4gFscGQvEB\n",
       "Ni2g/gChdAAC7wNcGYgBnDsViFEGABovO5FltZR5AAAAAElFTkSuQmCC\n",
       "\" style=\"display:inline;vertical-align:middle;\" /></a></td></tr>\n",
       "<tr><td>4</td><td>Literal</td><td></td><td><a class=\"ProveItLink\" href=\"../../../../number/sets/integer/__pv_it/b49c37b99b7e8d73a8d7971bcf454d693b90a2c60/expr.ipynb\"><img src=\"data:image/png;base64,iVBORw0KGgoAAAANSUhEUgAAAA8AAAAPBAMAAADJ+Ih5AAAAMFBMVEX///9mZmbMzMyIiIiYmJjc\n",
       "3NxUVFSqqqq6uroQEBB2dnYyMjJEREQiIiLu7u4AAAAPqInnAAAAAXRSTlMAQObYZgAAAAlwSFlz\n",
       "AAAOxAAADsQBlSsOGwAAAGpJREFUCNdjePvn9AOGlT8bGBiOcyQw8P1jYGDIDVjCwDAByEg/wB3A\n",
       "cAHISHVm3QBhsClYQRgMB3gaIAxFvnsQBktBzQQwgyGPDcp4xgeRYmAyOABkHAJiIxDjOhAzbmBg\n",
       "0P0J5PFtYAAA6AAhaNFZV/8AAAAASUVORK5CYII=\n",
       "\" style=\"display:inline;vertical-align:middle;\" /></a></td></tr>\n",
       "<tr><td>5</td><td>Literal</td><td></td><td><a class=\"ProveItLink\" href=\"../../../../number/addition/__pv_it/65ad7e8aee19b10110d590375ba95a879c4fb7ea0/expr.ipynb\"><img src=\"data:image/png;base64,iVBORw0KGgoAAAANSUhEUgAAAA4AAAAOBAMAAADtZjDiAAAAHlBMVEX///9UVFQQEBAiIiJmZmaI\n",
       "iIiqqqqYmJi6uroAAAAAFVhYAAAAAXRSTlMAQObYZgAAAAlwSFlzAAAOxAAADsQBlSsOGwAAAB9J\n",
       "REFUCNdjYGBgaGeAgFRiaGdjYyVjY0Oi1SPRIHsAgDEGyG9xCpgAAAAASUVORK5CYII=\n",
       "\" style=\"display:inline;vertical-align:middle;\" /></a></td></tr>\n",
       "<tr><td>6</td><td>ExprTuple</td><td>7, 8, 9</td><td><a class=\"ProveItLink\" href=\"../../../__pv_it/cab555b58e5e4dbe341177e562e346377082af100/expr.ipynb\"><img src=\"data:image/png;base64,iVBORw0KGgoAAAANSUhEUgAAAEkAAAAVBAMAAAD4Ed5jAAAAMFBMVEX////MzMxUVFREREQiIiK6\n",
       "uroQEBCYmJhmZmYyMjLu7u52dnaqqqqIiIjc3NwAAACFAiZ1AAAAAXRSTlMAQObYZgAAAAlwSFlz\n",
       "AAAOxAAADsQBlSsOGwAAASVJREFUKM9jYGB4wIAfgOV5DxBQFQsiToMI4QWoMjegNKMXxBiuCSDe\n",
       "TTT93hBqUecvIDmLgYGjAJ9tvCBVFQwMbAwEVbEtYIgkrIqzgKEbSHHdNUCR47pxAVkVtwLDdCDF\n",
       "wZCOooqbNQFZFfsEBh8gVcfwB0XVG44JyKp4HBhSQRyeXxCbpriAgMACfhQbGT9AVHE4oDr6/AJk\n",
       "VUD754A4LBtQVU1iQLPRFsR5H8DAhezHP9xQPsT1BgybQJx6Bob1ExCqWD88h/LBqjguMISAOMpA\n",
       "S72QDLMtgPCZzL7oAqUeMLAIAHm5QHwKLdgR/CdASxsYdNhB5qJ5AInfDsR2jH9YQCnoAqoiBJ8P\n",
       "FH2LGXpbQR5BMwrBZwYFHl8BgRRdx8AAAEAcR176HjaEAAAAAElFTkSuQmCC\n",
       "\" style=\"display:inline;vertical-align:middle;\" /></a></td></tr>\n",
       "<tr><td>7</td><td>Variable</td><td></td><td><a class=\"ProveItLink\" href=\"../../../../__pv_it/6a5b5879f51878868f626bf09e4d76392d4779cd0/expr.ipynb\"><img src=\"data:image/png;base64,iVBORw0KGgoAAAANSUhEUgAAAAoAAAASBAMAAACQmVJ4AAAAMFBMVEX///9UVFS6urp2dnYiIiKq\n",
       "qqrc3NyYmJgQEBBmZmYyMjKIiIju7u5ERETMzMwAAAC4hZuzAAAAAXRSTlMAQObYZgAAAAlwSFlz\n",
       "AAAOxAAADsQBlSsOGwAAAEtJREFUCNdjYGBg4LsDJBi4FzBgA6f3gsgJHAUMDOwJ/AEgTvwBEDkF\n",
       "LO0MItg+gUj2DyCS8QKI5NgAZAXUAxW+D3AF8jl3KjAwAACAGg5QwkhbIAAAAABJRU5ErkJggg==\n",
       "\" style=\"display:inline;vertical-align:middle;\" /></a></td></tr>\n",
       "<tr><td>8</td><td>Operation</td><td>operator:&nbsp;10<br>operand:&nbsp;11<br></td><td><a class=\"ProveItLink\" href=\"../../../__pv_it/a97ae8d89777c65b7049866f2afe64692300c7ff0/expr.ipynb\"><img src=\"data:image/png;base64,iVBORw0KGgoAAAANSUhEUgAAABYAAAAOBAMAAADZH/H+AAAAMFBMVEX///9ERESYmJhUVFSqqqrc\n",
       "3NwQEBC6urp2dnZmZmaIiIjMzMwiIiIyMjLu7u4AAAAZ5Kn/AAAAAXRSTlMAQObYZgAAAAlwSFlz\n",
       "AAAOxAAADsQBlSsOGwAAAEBJREFUCNdjYIABrglwJgNPAwMp4NUsBLuhDM5kdZjLwPD2DAic5mP4\n",
       "hVDD8g/B5jVAsN87IOytZ1WAsxkXMQAAD4QPdBPDwSoAAAAASUVORK5CYII=\n",
       "\" style=\"display:inline;vertical-align:middle;\" /></a></td></tr>\n",
       "<tr><td>9</td><td>Literal</td><td></td><td><a class=\"ProveItLink\" href=\"../../../../number/numeral/__pv_it/f086f8c372bd40a2458306ddfdbb29f3dc6f63030/expr.ipynb\"><img src=\"data:image/png;base64,iVBORw0KGgoAAAANSUhEUgAAAAgAAAAOBAMAAADgeEClAAAAIVBMVEX///8QEBBERESIiIgyMjJm\n",
       "ZmZUVFTu7u4iIiLMzMwAAAAWRytzAAAAAXRSTlMAQObYZgAAAAlwSFlzAAAOxAAADsQBlSsOGwAA\n",
       "ABtJREFUCNdjYOBsZ2AoC1nOwMDATBbBprgiGQBsuwqCZsDj4wAAAABJRU5ErkJggg==\n",
       "\" style=\"display:inline;vertical-align:middle;\" /></a></td></tr>\n",
       "<tr><td>10</td><td>Literal</td><td></td><td><a class=\"ProveItLink\" href=\"../../../../number/negation/__pv_it/2867787e35502987d81a45cac8e7f1c6996d6ff40/expr.ipynb\"><img src=\"data:image/png;base64,iVBORw0KGgoAAAANSUhEUgAAAA4AAAABBAMAAAAcMII3AAAAElBMVEX////MzMwiIiIyMjLu7u4A\n",
       "AADe/Ps1AAAAAXRSTlMAQObYZgAAAAlwSFlzAAAOxAAADsQBlSsOGwAAAA1JREFUCNdjcFYCAUUA\n",
       "BKYBD24TAeoAAAAASUVORK5CYII=\n",
       "\" style=\"display:inline;vertical-align:middle;\" /></a></td></tr>\n",
       "<tr><td>11</td><td>Variable</td><td></td><td><a class=\"ProveItLink\" href=\"../../../../__pv_it/557ab5defdcd46aa58168b08767502985122cd490/expr.ipynb\"><img src=\"data:image/png;base64,iVBORw0KGgoAAAANSUhEUgAAAAcAAAAOBAMAAAARcxsoAAAALVBMVEX///9ERESYmJhUVFQyMjKq\n",
       "qqrc3NwQEBC6urru7u52dnYiIiJmZmaIiIgAAAD/UVazAAAAAXRSTlMAQObYZgAAAAlwSFlzAAAO\n",
       "xAAADsQBlSsOGwAAADlJREFUCNdjYGC4wwAEuxjQAeedCwwMXBwFDAypPA4MDBP4gFyGuAlAwhkk\n",
       "+5SLgYHjQRKQKavAAAAx5QmdfgFqMAAAAABJRU5ErkJggg==\n",
       "\" style=\"display:inline;vertical-align:middle;\" /></a></td></tr>\n",
       "</table>\n"
      ],
      "text/plain": [
       "0. (j - i + 1) in Naturals\n",
       "   core type: Operation\n",
       "   operator: 1\n",
       "   operands: 2\n",
       "1. in\n",
       "   core type: Literal\n",
       "   sub-expressions: \n",
       "2. (j - i + 1 , Naturals)\n",
       "   core type: ExprTuple\n",
       "   sub-expressions: 3, 4\n",
       "3. j - i + 1\n",
       "   core type: Operation\n",
       "   operator: 5\n",
       "   operands: 6\n",
       "4. Naturals\n",
       "   core type: Literal\n",
       "   sub-expressions: \n",
       "5. +\n",
       "   core type: Literal\n",
       "   sub-expressions: \n",
       "6. (j , -i , 1)\n",
       "   core type: ExprTuple\n",
       "   sub-expressions: 7, 8, 9\n",
       "7. j\n",
       "   core type: Variable\n",
       "   sub-expressions: \n",
       "8. -i\n",
       "   core type: Operation\n",
       "   operator: 10\n",
       "   operand: 11\n",
       "9. 1\n",
       "   core type: Literal\n",
       "   sub-expressions: \n",
       "10. -\n",
       "    core type: Literal\n",
       "    sub-expressions: \n",
       "11. i\n",
       "    core type: Variable\n",
       "    sub-expressions: "
      ]
     },
     "execution_count": 5,
     "metadata": {},
     "output_type": "execute_result"
    }
   ],
   "source": [
    "# display the expression information\n",
    "expr.exprInfo()"
   ]
  },
  {
   "cell_type": "code",
   "execution_count": null,
   "metadata": {},
   "outputs": [],
   "source": []
  }
 ],
 "metadata": {
  "kernelspec": {
   "display_name": "Python 3",
   "language": "python",
   "name": "python3"
  },
  "language_info": {
   "codemirror_mode": {
    "name": "ipython",
    "version": 3
   },
   "file_extension": ".py",
   "mimetype": "text/x-python",
   "name": "python",
   "nbconvert_exporter": "python",
   "pygments_lexer": "ipython3",
   "version": "3.7.4"
  }
 },
 "nbformat": 4,
 "nbformat_minor": 1
}
