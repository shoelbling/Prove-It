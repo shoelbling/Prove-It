{
 "cells": [
  {
   "cell_type": "markdown",
   "metadata": {},
   "source": [
    "Expression of type <a class=\"ProveItLink\" href=\"../../../../../../doc/html/api/proveit.ExprTuple.html\">ExprTuple</a>\n",
    "=======================\n",
    "# from context <a class=\"ProveItLink\" href=\"../../_context_.ipynb\">proveit.core_expr_types.tuples</a>"
   ]
  },
  {
   "cell_type": "code",
   "execution_count": 1,
   "metadata": {},
   "outputs": [],
   "source": [
    "import proveit\n",
    "# Automation is not needed when building an expression:\n",
    "proveit.defaults.automation = False # This will speed things up.\n",
    "# import Expression classes needed to build the expression\n",
    "from proveit import ExprTuple, Variable\n",
    "from proveit.logic import Equals"
   ]
  },
  {
   "cell_type": "code",
   "execution_count": 2,
   "metadata": {},
   "outputs": [
    {
     "data": {
      "text/html": [
       "<strong id=\"expr\">expr:</strong> <a class=\"ProveItLink\" href=\"expr.ipynb\"><img src=\"data:image/png;base64,iVBORw0KGgoAAAANSUhEUgAAAGEAAAAVBAMAAACkm51HAAAAMFBMVEX////MzMxUVFREREQiIiK6\n",
       "uroQEBCYmJhmZmYyMjLu7u52dnaqqqqIiIjc3NwAAACFAiZ1AAAAAXRSTlMAQObYZgAAAAlwSFlz\n",
       "AAAOxAAADsQBlSsOGwAAAdBJREFUOMuVU00oRFEU/sbMmDcz3nhZ2BILsSELJb/JUpmFDVE2REmz\n",
       "khWSEIshSkmZUspCJPlpFqYsLbwNCxuzsJMMQgrjO3ce8UwTt+733jnfOeeee865AOL4+1K2euwf\n",
       "Hl0CJwLXszshS6k3PBRVz/yyDRxES1LhfXMU/fNA6SeXS01VxO5xaCCLxDKgMbZvgarsMYsrMIFT\n",
       "0+awUUHoA4ZpyD9vIyErYZGXBve2zWNRoJzmEbTzL2xIZncW2SDb+OmgKfLIgDeEWV7qQSkfLZaS\n",
       "+812xK0khXAQ/kIs0fZVRO97inS8IbCrKj7RLKtJ2SrFahyeObQALmW71W1V9z66H7RXqlVa53sC\n",
       "chrRw3KqO49aDXEm0nQuKeB5ZgYJ8XBJqXz939rxazULrJNxd2NF1bUT2uBnO74K++0e5XDHMBlX\n",
       "WdXxpFe9wxyiqBp9GUxzRkHsbNMjMT0V2OHn/AbTZUzsRRUk3QTqg6Y2LgE1E21S0OJoDxzMlrrS\n",
       "ZF06l7yavSDYVlccrlR3a3HBJCMZBt0Z00lfMbHUAFbmsKv+TE/DWXhMnOKuV3I4ybM2M3loSc5W\n",
       "QKZlTcn5A4RQJg9HLyfFKXkHQv94tSPABzuicK6Vzw53AAAAAElFTkSuQmCC\n",
       "\" style=\"display:inline;vertical-align:middle;\" /></a><br>"
      ],
      "text/plain": [
       "expr: (Q , P = Q)"
      ]
     },
     "execution_count": 2,
     "metadata": {},
     "output_type": "execute_result"
    }
   ],
   "source": [
    "# build up the expression from sub-expressions\n",
    "expr = ExprTuple(Variable(\"Q\"), Equals(Variable(\"P\"), Variable(\"Q\")))"
   ]
  },
  {
   "cell_type": "code",
   "execution_count": 3,
   "metadata": {},
   "outputs": [
    {
     "name": "stdout",
     "output_type": "stream",
     "text": [
      "Passed sanity check: built 'expr' is the same as the stored Expression.\n"
     ]
    }
   ],
   "source": [
    "# check that the built expression is the same as the stored expression\n",
    "%check_expr"
   ]
  },
  {
   "cell_type": "code",
   "execution_count": 4,
   "metadata": {},
   "outputs": [
    {
     "name": "stdout",
     "output_type": "stream",
     "text": [
      "\\left(Q , P = Q\\right)\n"
     ]
    }
   ],
   "source": [
    "# Show the LaTeX representation of the expression for convenience if you need it.\n",
    "print(expr.latex())"
   ]
  },
  {
   "cell_type": "code",
   "execution_count": 5,
   "metadata": {},
   "outputs": [
    {
     "data": {
      "text/html": [
       "<table><tr><th>&nbsp;</th><th>core type</th><th>sub-expressions</th><th>expression</th></tr>\n",
       "<tr><td>0</td><td>ExprTuple</td><td>5, 1</td><td><a class=\"ProveItLink\" href=\"expr.ipynb\"><img src=\"data:image/png;base64,iVBORw0KGgoAAAANSUhEUgAAAGEAAAAVBAMAAACkm51HAAAAMFBMVEX////MzMxUVFREREQiIiK6\n",
       "uroQEBCYmJhmZmYyMjLu7u52dnaqqqqIiIjc3NwAAACFAiZ1AAAAAXRSTlMAQObYZgAAAAlwSFlz\n",
       "AAAOxAAADsQBlSsOGwAAAdBJREFUOMuVU00oRFEU/sbMmDcz3nhZ2BILsSELJb/JUpmFDVE2REmz\n",
       "khWSEIshSkmZUspCJPlpFqYsLbwNCxuzsJMMQgrjO3ce8UwTt+733jnfOeeee865AOL4+1K2euwf\n",
       "Hl0CJwLXszshS6k3PBRVz/yyDRxES1LhfXMU/fNA6SeXS01VxO5xaCCLxDKgMbZvgarsMYsrMIFT\n",
       "0+awUUHoA4ZpyD9vIyErYZGXBve2zWNRoJzmEbTzL2xIZncW2SDb+OmgKfLIgDeEWV7qQSkfLZaS\n",
       "+812xK0khXAQ/kIs0fZVRO97inS8IbCrKj7RLKtJ2SrFahyeObQALmW71W1V9z66H7RXqlVa53sC\n",
       "chrRw3KqO49aDXEm0nQuKeB5ZgYJ8XBJqXz939rxazULrJNxd2NF1bUT2uBnO74K++0e5XDHMBlX\n",
       "WdXxpFe9wxyiqBp9GUxzRkHsbNMjMT0V2OHn/AbTZUzsRRUk3QTqg6Y2LgE1E21S0OJoDxzMlrrS\n",
       "ZF06l7yavSDYVlccrlR3a3HBJCMZBt0Z00lfMbHUAFbmsKv+TE/DWXhMnOKuV3I4ybM2M3loSc5W\n",
       "QKZlTcn5A4RQJg9HLyfFKXkHQv94tSPABzuicK6Vzw53AAAAAElFTkSuQmCC\n",
       "\" style=\"display:inline;vertical-align:middle;\" /></a></td></tr>\n",
       "<tr><td>1</td><td>Operation</td><td>operator:&nbsp;2<br>operands:&nbsp;3<br></td><td><a class=\"ProveItLink\" href=\"../2d15bb5dca9257784e06d6b0ffa03305afdaea100/expr.ipynb\"><img src=\"data:image/png;base64,iVBORw0KGgoAAAANSUhEUgAAADsAAAASBAMAAAAXqLt+AAAAMFBMVEX///+YmJgiIiLc3Ny6urp2\n",
       "dnaqqqrMzMwQEBDu7u5mZmYyMjJUVFRERESIiIgAAACzCz+6AAAAAXRSTlMAQObYZgAAAAlwSFlz\n",
       "AAAOxAAADsQBlSsOGwAAAN1JREFUKM9jYGB4+//O2V0TGNAAc1ToQQjrNwMDbye6dHQBA88GEIP9\n",
       "HwMD2z802dkXgEQXiMX3HYi/oklvAhHnQQTvByD+jirLBebHFwAJfqA5/g9Qpe1BZjOsdwAS9Q8Y\n",
       "TNXAWpTA4ABIIgEksN8ASLw/GiqC7m59kATnDxDzPgMm+A8iGD9CvY0BlEDEDJC/2eF+QrL7PANL\n",
       "AsMKkA18X7Dork94Mo+xGcTi/oBFmq/5AdcaUDzw7P/7AIt8zdUIB4YCBtyAN4FvAj7pA7l4ZBm4\n",
       "/n/HJ83eAQxYAJGBPTruhASiAAAAAElFTkSuQmCC\n",
       "\" style=\"display:inline;vertical-align:middle;\" /></a></td></tr>\n",
       "<tr><td>2</td><td>Literal</td><td></td><td><a class=\"ProveItLink\" href=\"../../../../logic/equality/__pv_it/e16d2caa26a16688b658bdb9c422caf4b84579e10/expr.ipynb\"><img src=\"data:image/png;base64,iVBORw0KGgoAAAANSUhEUgAAAA4AAAAFBAMAAACHocAhAAAAD1BMVEX///9UVFQiIiJmZmYAAACP\n",
       "OqLZAAAAAXRSTlMAQObYZgAAAAlwSFlzAAAOxAAADsQBlSsOGwAAABJJREFUCNdjMFICAUUGXAAq\n",
       "DwAoFgH7Aeay4gAAAABJRU5ErkJggg==\n",
       "\" style=\"display:inline;vertical-align:middle;\" /></a></td></tr>\n",
       "<tr><td>3</td><td>ExprTuple</td><td>4, 5</td><td><a class=\"ProveItLink\" href=\"../09318b7fce5794e7189389212fc35b2174e090490/expr.ipynb\"><img src=\"data:image/png;base64,iVBORw0KGgoAAAANSUhEUgAAADMAAAAVBAMAAAAZessyAAAAMFBMVEX////MzMxUVFREREQiIiK6\n",
       "uroQEBCYmJhmZmYyMjLu7u52dnaqqqqIiIjc3NwAAACFAiZ1AAAAAXRSTlMAQObYZgAAAAlwSFlz\n",
       "AAAOxAAADsQBlSsOGwAAAVVJREFUKM9tUr9Lw2AQfW1ak6ZNDf4DLTg4OLS4ij+GjoIdXBxEF0Uc\n",
       "ShbBScRBB4d2EBQRWigIDl0cROlgwNElIM5mcHMwRVRKKfHuPvimBO7dfe8l77s7AiBEwiOk4ydJ\n",
       "GwwvFK/x3PRlR5HFh/6M+sBu8XkIGHtKenSRJu4KsDw6psZAYSzKbZVgFzgAJuS+AcVIpHOGCvEd\n",
       "rHNpRBQDrizBJxc5D2dcTpLLZsDVF/uhWUe+jAsuSwE+V8SvKaO0Q5gtCPM+299X/a3yrPYvdbWM\n",
       "bSaW9Kgxg/lHTUdKGmqpxnBDc2W3cM1jjbRUQdbHSSiGCzzWj9C8qZL/1jMbbFrFHaVcxIrNtk4j\n",
       "sI75HSvAGpBuf8tMNaam5u/rcIFMiIyr7ymo3Ru+Q8UHeR5pKa+SUX4mPKVY1FJPJSumPRZ5YV0t\n",
       "eSqldmhZBpsXvaQf4BD4B/6oUNawqQNyAAAAAElFTkSuQmCC\n",
       "\" style=\"display:inline;vertical-align:middle;\" /></a></td></tr>\n",
       "<tr><td>4</td><td>Variable</td><td></td><td><a class=\"ProveItLink\" href=\"../390c91a44e60b16c95d2255652741252e8ec8d980/expr.ipynb\"><img src=\"data:image/png;base64,iVBORw0KGgoAAAANSUhEUgAAABAAAAAOBAMAAADUAYG5AAAAMFBMVEX///+YmJgiIiLc3Ny6urp2\n",
       "dnaqqqrMzMwQEBDu7u5mZmYyMjJUVFRERESIiIgAAACzCz+6AAAAAXRSTlMAQObYZgAAAAlwSFlz\n",
       "AAAOxAAADsQBlSsOGwAAAF1JREFUCNdjYGB4+//O2V0TGIDgNwMDbyeQZv/HwMAGxAx834H4K5DB\n",
       "+wGIgRwG/gsMDP4PgIz6BwymaiBN74+GioBohvsMUPAbSrN/hTL4vkAZ3B8gNM/+vyAzGABqABnj\n",
       "X5k3PAAAAABJRU5ErkJggg==\n",
       "\" style=\"display:inline;vertical-align:middle;\" /></a></td></tr>\n",
       "<tr><td>5</td><td>Variable</td><td></td><td><a class=\"ProveItLink\" href=\"../dbe7145e53d9411a5ba89652cbfea9d54e4b581a0/expr.ipynb\"><img src=\"data:image/png;base64,iVBORw0KGgoAAAANSUhEUgAAAA8AAAASBAMAAAB2sJk8AAAAMFBMVEX///+IiIiqqqq6uroiIiIQ\n",
       "EBBERETu7u7MzMwyMjKYmJhUVFRmZmZ2dnbc3NwAAABtgPhfAAAAAXRSTlMAQObYZgAAAAlwSFlz\n",
       "AAAOxAAADsQBlSsOGwAAAIJJREFUCNdjYGDgu3N3FwMI3Gxg4J4ApCsTgEQMEE8Bie5nYOD5AWLc\n",
       "b2B4D5JhOG/AcF4BxJj/gMH/AZBm/8rA8B8kwPWLgcEFxCidANLIrMBwFCjfryBcyBUHFGWME+A5\n",
       "XQCS7869asDQALaVTYGxAMLYoAamGXj+/4AwOEKB1gAAAV0f3CdXaksAAAAASUVORK5CYII=\n",
       "\" style=\"display:inline;vertical-align:middle;\" /></a></td></tr>\n",
       "</table>\n"
      ],
      "text/plain": [
       "0. (Q , P = Q)\n",
       "   core type: ExprTuple\n",
       "   sub-expressions: 5, 1\n",
       "1. P = Q\n",
       "   core type: Operation\n",
       "   operator: 2\n",
       "   operands: 3\n",
       "2. =\n",
       "   core type: Literal\n",
       "   sub-expressions: \n",
       "3. (P , Q)\n",
       "   core type: ExprTuple\n",
       "   sub-expressions: 4, 5\n",
       "4. P\n",
       "   core type: Variable\n",
       "   sub-expressions: \n",
       "5. Q\n",
       "   core type: Variable\n",
       "   sub-expressions: "
      ]
     },
     "execution_count": 5,
     "metadata": {},
     "output_type": "execute_result"
    }
   ],
   "source": [
    "# display the expression information\n",
    "expr.exprInfo()"
   ]
  },
  {
   "cell_type": "code",
   "execution_count": null,
   "metadata": {},
   "outputs": [],
   "source": []
  }
 ],
 "metadata": {
  "kernelspec": {
   "display_name": "Python 3",
   "language": "python",
   "name": "python3"
  },
  "language_info": {
   "codemirror_mode": {
    "name": "ipython",
    "version": 3
   },
   "file_extension": ".py",
   "mimetype": "text/x-python",
   "name": "python",
   "nbconvert_exporter": "python",
   "pygments_lexer": "ipython3",
   "version": "3.7.4"
  }
 },
 "nbformat": 4,
 "nbformat_minor": 1
}
