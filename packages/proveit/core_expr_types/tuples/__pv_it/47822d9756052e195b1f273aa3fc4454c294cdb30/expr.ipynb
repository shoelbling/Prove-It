{
 "cells": [
  {
   "cell_type": "markdown",
   "metadata": {},
   "source": [
    "Expression of type <a class=\"ProveItLink\" href=\"../../../../../../doc/html/api/proveit.ExprTuple.html\">ExprTuple</a>\n",
    "=======================\n",
    "# from context <a class=\"ProveItLink\" href=\"../../_context_.ipynb\">proveit.core_expr_types.tuples</a>"
   ]
  },
  {
   "cell_type": "code",
   "execution_count": 1,
   "metadata": {},
   "outputs": [],
   "source": [
    "import proveit\n",
    "# Automation is not needed when building an expression:\n",
    "proveit.defaults.automation = False # This will speed things up.\n",
    "# import Expression classes needed to build the expression\n",
    "from proveit import ExprTuple, Variable\n",
    "from proveit.core_expr_types._common_ import x_1_to_n, y_1_to_n"
   ]
  },
  {
   "cell_type": "code",
   "execution_count": 2,
   "metadata": {},
   "outputs": [
    {
     "data": {
      "text/html": [
       "<strong id=\"expr\">expr:</strong> <a class=\"ProveItLink\" href=\"expr.ipynb\"><img src=\"data:image/png;base64,iVBORw0KGgoAAAANSUhEUgAAAN4AAAAVBAMAAADbZk3zAAAAMFBMVEX////MzMxUVFREREQiIiK6\n",
       "uroQEBCYmJhmZmYyMjLu7u52dnaqqqqIiIjc3NwAAACFAiZ1AAAAAXRSTlMAQObYZgAAAAlwSFlz\n",
       "AAAOxAAADsQBlSsOGwAAAmNJREFUSMe9Vk1oE0EYfdn8rZNNk7NSstCDYCiWggcFtQcFEZUepCAI\n",
       "iQcvRWFBPBREg6gllODe9CB0rSBFKAZvUoUIQUQRl1okoKEL3qyHBBGpktiZnd3phpjxlB2Yn7fz\n",
       "Ht/u95cAcBDWGGFLuhaavbhNl3d0fvw7OXbfGr7BLwAx2WELiM4O394uC6pB90gH0DrDt5csIeHG\n",
       "sE3nnxAiOItzbIu26GyHYO8eFtiWmQAKLHlAmvv2vJBKVtYergZTeqUCokv4pGFjyQfPqEU6cjY2\n",
       "T7kPVKzZt6T2SulxdSqAq6+RbEn4Ka2IGz6Yg2tmI796lT+4jg1nL8jc4JA76a5iBGq4VoYyIRF8\n",
       "V02M+aCOi2w7Km6zOEjX0fWB8giiZo+7cBkJWyKwEjaleCPH7W0F7jv8PQaPjN3bNH4jl5UJClZE\n",
       "pOIMHrB3DpRCvIsncnsFh1jJ+dGGB6m7PkkFZaSLPr+Ow6z8fvIvp945oLRQ5fL+/kbofDS9Hykk\n",
       "Z4yE42JEdUzKBPQ2qnM+cIVmKG0zbn4R6lWtvVyM11w5g3hqeotAH3bfwXl8W0fG4reqHv8lE+Am\n",
       "CgbnAxWcBZTFH25IjlkgFfvNNS9+FCJWgrecYIeTwHJTm6cvNE5D4WKQfKMrE2Dp5V2H84EziGXF\n",
       "12s7Dqn3Qn+8FacLWIj4OGX+R/Dc549MsRYqKhM99lL9oa+Kqmvh+CuOy3hckwlUk1zy+ezH4chO\n",
       "ZxKnzcVKEIrwi0qI6/hscHwaeakgZitVj4+vLOHErdFLNvp7y7/w+8a0VKA1bwt8iLnGCO3/RNLB\n",
       "Nh9su0J5oJHdAAAAAElFTkSuQmCC\n",
       "\" style=\"display:inline;vertical-align:middle;\" /></a><br>"
      ],
      "text/plain": [
       "expr: (P , x_{1} ,  ...  , x_{n} , y_{1} ,  ...  , y_{n})"
      ]
     },
     "execution_count": 2,
     "metadata": {},
     "output_type": "execute_result"
    }
   ],
   "source": [
    "# build up the expression from sub-expressions\n",
    "expr = ExprTuple(Variable(\"P\"), x_1_to_n, y_1_to_n)"
   ]
  },
  {
   "cell_type": "code",
   "execution_count": 3,
   "metadata": {},
   "outputs": [
    {
     "name": "stdout",
     "output_type": "stream",
     "text": [
      "Passed sanity check: built 'expr' is the same as the stored Expression.\n"
     ]
    }
   ],
   "source": [
    "# check that the built expression is the same as the stored expression\n",
    "%check_expr"
   ]
  },
  {
   "cell_type": "code",
   "execution_count": 4,
   "metadata": {},
   "outputs": [
    {
     "name": "stdout",
     "output_type": "stream",
     "text": [
      "\\left(P , x_{1} , \\ldots , x_{n} , y_{1} , \\ldots , y_{n}\\right)\n"
     ]
    }
   ],
   "source": [
    "# Show the LaTeX representation of the expression for convenience if you need it.\n",
    "print(expr.latex())"
   ]
  },
  {
   "cell_type": "code",
   "execution_count": 5,
   "metadata": {},
   "outputs": [
    {
     "data": {
      "text/html": [
       "<table><tr><th>&nbsp;</th><th>core type</th><th>sub-expressions</th><th>expression</th></tr>\n",
       "<tr><td>0</td><td>ExprTuple</td><td>1, 2, 3</td><td><a class=\"ProveItLink\" href=\"expr.ipynb\"><img src=\"data:image/png;base64,iVBORw0KGgoAAAANSUhEUgAAAN4AAAAVBAMAAADbZk3zAAAAMFBMVEX////MzMxUVFREREQiIiK6\n",
       "uroQEBCYmJhmZmYyMjLu7u52dnaqqqqIiIjc3NwAAACFAiZ1AAAAAXRSTlMAQObYZgAAAAlwSFlz\n",
       "AAAOxAAADsQBlSsOGwAAAmNJREFUSMe9Vk1oE0EYfdn8rZNNk7NSstCDYCiWggcFtQcFEZUepCAI\n",
       "iQcvRWFBPBREg6gllODe9CB0rSBFKAZvUoUIQUQRl1okoKEL3qyHBBGpktiZnd3phpjxlB2Yn7fz\n",
       "Ht/u95cAcBDWGGFLuhaavbhNl3d0fvw7OXbfGr7BLwAx2WELiM4O394uC6pB90gH0DrDt5csIeHG\n",
       "sE3nnxAiOItzbIu26GyHYO8eFtiWmQAKLHlAmvv2vJBKVtYergZTeqUCokv4pGFjyQfPqEU6cjY2\n",
       "T7kPVKzZt6T2SulxdSqAq6+RbEn4Ka2IGz6Yg2tmI796lT+4jg1nL8jc4JA76a5iBGq4VoYyIRF8\n",
       "V02M+aCOi2w7Km6zOEjX0fWB8giiZo+7cBkJWyKwEjaleCPH7W0F7jv8PQaPjN3bNH4jl5UJClZE\n",
       "pOIMHrB3DpRCvIsncnsFh1jJ+dGGB6m7PkkFZaSLPr+Ow6z8fvIvp945oLRQ5fL+/kbofDS9Hykk\n",
       "Z4yE42JEdUzKBPQ2qnM+cIVmKG0zbn4R6lWtvVyM11w5g3hqeotAH3bfwXl8W0fG4reqHv8lE+Am\n",
       "CgbnAxWcBZTFH25IjlkgFfvNNS9+FCJWgrecYIeTwHJTm6cvNE5D4WKQfKMrE2Dp5V2H84EziGXF\n",
       "12s7Dqn3Qn+8FacLWIj4OGX+R/Dc549MsRYqKhM99lL9oa+Kqmvh+CuOy3hckwlUk1zy+ezH4chO\n",
       "ZxKnzcVKEIrwi0qI6/hscHwaeakgZitVj4+vLOHErdFLNvp7y7/w+8a0VKA1bwt8iLnGCO3/RNLB\n",
       "Nh9su0J5oJHdAAAAAElFTkSuQmCC\n",
       "\" style=\"display:inline;vertical-align:middle;\" /></a></td></tr>\n",
       "<tr><td>1</td><td>Variable</td><td></td><td><a class=\"ProveItLink\" href=\"../390c91a44e60b16c95d2255652741252e8ec8d980/expr.ipynb\"><img src=\"data:image/png;base64,iVBORw0KGgoAAAANSUhEUgAAABAAAAAOBAMAAADUAYG5AAAAMFBMVEX///+YmJgiIiLc3Ny6urp2\n",
       "dnaqqqrMzMwQEBDu7u5mZmYyMjJUVFRERESIiIgAAACzCz+6AAAAAXRSTlMAQObYZgAAAAlwSFlz\n",
       "AAAOxAAADsQBlSsOGwAAAF1JREFUCNdjYGB4+//O2V0TGIDgNwMDbyeQZv/HwMAGxAx834H4K5DB\n",
       "+wGIgRwG/gsMDP4PgIz6BwymaiBN74+GioBohvsMUPAbSrN/hTL4vkAZ3B8gNM/+vyAzGABqABnj\n",
       "X5k3PAAAAABJRU5ErkJggg==\n",
       "\" style=\"display:inline;vertical-align:middle;\" /></a></td></tr>\n",
       "<tr><td>2</td><td>ExprRange</td><td>lambda_map:&nbsp;4<br>start_index:&nbsp;6<br>end_index:&nbsp;7<br></td><td><a class=\"ProveItLink\" href=\"../../../__pv_it/62a4f6db7cd6d81c4ac5111bf8172ea1eee1dad90/expr.ipynb\"><img src=\"data:image/png;base64,iVBORw0KGgoAAAANSUhEUgAAAFoAAAANBAMAAADbDWR+AAAAMFBMVEX///8QEBC6uroyMjJERETc\n",
       "3NyYmJgiIiJmZmaqqqp2dnbMzMxUVFSIiIju7u4AAAAoIwv1AAAAAXRSTlMAQObYZgAAAAlwSFlz\n",
       "AAAOxAAADsQBlSsOGwAAANBJREFUKM9jYHh75/WqCQz4ALKKBt6zHAV4VSOpYAvg/cqTwPDMAKdi\n",
       "qAow4GZgASrkvovbeIgKGOC/ACQ48TkGrAIK9AP4HuBXDVLB1rb3BgPDE4XzDFxQsx9gqONjgKlg\n",
       "U0xgDGCYv6+RQROimu8zUO69ARIDTEBUxF1n4H/A8OIuZ9sEqNnlQMPZG4CMCgYog72OAabiLIMi\n",
       "3Eqwak5Mp8yDs6QZurhRVHNhenABjMH6gaFoNoy9+AcwlN5i+hIedkwHGG4loMglYMYjKhcAEJJC\n",
       "pmr6ALcAAAAASUVORK5CYII=\n",
       "\" style=\"display:inline;vertical-align:middle;\" /></a></td></tr>\n",
       "<tr><td>3</td><td>ExprRange</td><td>lambda_map:&nbsp;5<br>start_index:&nbsp;6<br>end_index:&nbsp;7<br></td><td><a class=\"ProveItLink\" href=\"../../../__pv_it/77e881ef471c0528c2aa943421eeaa376ff4289a0/expr.ipynb\"><img src=\"data:image/png;base64,iVBORw0KGgoAAAANSUhEUgAAAFYAAAANBAMAAADBMYTwAAAAMFBMVEX///8iIiLMzMy6urpEREQy\n",
       "MjLc3NyYmJgQEBCqqqp2dnZUVFRmZmaIiIju7u4AAACJ/BCYAAAAAXRSTlMAQObYZgAAAAlwSFlz\n",
       "AAAOxAAADsQBlSsOGwAAAONJREFUKM9j4LtzgeE1Ax6ApICLs4GhHp9aJAWZPAEMWxieB+BUC1EA\n",
       "Bg84LjD0Mt0VwKkWrADKtn/A9ImBE7daiAIIOMrA24BXLUgB+3HdO0CmNwPLBojaB5hhwABVwG5R\n",
       "wJHAwHCawb4ArJbvK1DifQASA0KAFORdZOAHGvV67fkEiLmCQB7jASBDhgHKYJRjgCrYy2ABtmkp\n",
       "A0QtJ6Yj5sEUNDGcYmLgCeDrhKrlwvTXAgaIArYPDMKTGBgvcC9gYFv65wIDw1tMvwFFwQqYNzDc\n",
       "Avrq7mGYTAGGWnaQy+AKAFeRR8Q43BvGAAAAAElFTkSuQmCC\n",
       "\" style=\"display:inline;vertical-align:middle;\" /></a></td></tr>\n",
       "<tr><td>4</td><td>Lambda</td><td>parameter:&nbsp;12<br>body:&nbsp;8<br></td><td><a class=\"ProveItLink\" href=\"../../../__pv_it/e722db747cfbe405859686f15af09ea3f8e82cd00/expr.ipynb\"><img src=\"data:image/png;base64,iVBORw0KGgoAAAANSUhEUgAAAEAAAAAOCAMAAACo5erwAAAANlBMVEX///8WFhYNDQ3MzMxUVFQy\n",
       "MjKqqqoiIiKYmJju7u5EREQQEBC6urqIiIh2dnZmZmbc3NwAAADRPqZpAAAAAXRSTlMAQObYZgAA\n",
       "AAlwSFlzAAAOxAAADsQBlSsOGwAAAOJJREFUKM+dUtFyxCAI5IpRUBH9/58t5DpWr7lOG2Z8WCDL\n",
       "Qhbg95AO/w5eQdQ/fNG1SZcJ01bcEIsExtbi1lKLycyDrwliXoDJkSCgO2shL6U3CkDypCabJKND\n",
       "oLVBz9mpzcTHI20xRv2qoL18vF6guEaeTT8U1KOucMjrzYfPpvHmbIDH9leqbQDsKVaS5mDEp7DY\n",
       "LwmObyNwrhB8ko/khIDn9odpoqQwj7AprosP4kDWYjkfqVbAcvIGadiD4KVHdEmzipiz6HSBH00C\n",
       "3A72W2Rivs1g7sNR6b6EaqtII/gEvskH/QXIwUEAAAAASUVORK5CYII=\n",
       "\" style=\"display:inline;vertical-align:middle;\" /></a></td></tr>\n",
       "<tr><td>5</td><td>Lambda</td><td>parameter:&nbsp;12<br>body:&nbsp;9<br></td><td><a class=\"ProveItLink\" href=\"../../../__pv_it/af78f43c813469d5211e823738a8a76e809bd63a0/expr.ipynb\"><img src=\"data:image/png;base64,iVBORw0KGgoAAAANSUhEUgAAAD4AAAAPCAMAAACLOYx+AAAANlBMVEX///8WFhYNDQ3MzMxUVFQy\n",
       "MjKqqqoiIiKYmJju7u5EREQQEBC6urqIiIh2dnZmZmbc3NwAAADRPqZpAAAAAXRSTlMAQObYZgAA\n",
       "AAlwSFlzAAAOxAAADsQBlSsOGwAAAO5JREFUKM+dUutaBSEIpMQLKqDv/7LB1tmjtae+jR8qysAw\n",
       "AvC78YCbRquT9M/4ocKDTzdvj6tHrB5GuAb0ZgTrpGt4qs+zQGq2lbmmbMVWzS+qA9dH4pFAo+24\n",
       "ZAQ96mY5L97f8mZz9lOU5uQbL/DmuegR8rN6j8+n7qXCDAv3Kd/a2eEhLj9xcGfvn7SwDIcn82qE\n",
       "NC7hcf34il8L5WAsPHG0TkpWOJvvG/Xt3xW9AZNa7Tq0gz2yhIEcLmdCt2tCYZ3Gx6VihH+YRO/Y\n",
       "R6UQ3UK6ctRcK5u0MHu5VzibTCifkpTEchOemHUTFj4A+58IXd2zl2AAAAAASUVORK5CYII=\n",
       "\" style=\"display:inline;vertical-align:middle;\" /></a></td></tr>\n",
       "<tr><td>6</td><td>Literal</td><td></td><td><a class=\"ProveItLink\" href=\"../../../../number/numeral/__pv_it/f086f8c372bd40a2458306ddfdbb29f3dc6f63030/expr.ipynb\"><img src=\"data:image/png;base64,iVBORw0KGgoAAAANSUhEUgAAAAgAAAAOBAMAAADgeEClAAAAIVBMVEX///8QEBBERESIiIgyMjJm\n",
       "ZmZUVFTu7u4iIiLMzMwAAAAWRytzAAAAAXRSTlMAQObYZgAAAAlwSFlzAAAOxAAADsQBlSsOGwAA\n",
       "ABtJREFUCNdjYOBsZ2AoC1nOwMDATBbBprgiGQBsuwqCZsDj4wAAAABJRU5ErkJggg==\n",
       "\" style=\"display:inline;vertical-align:middle;\" /></a></td></tr>\n",
       "<tr><td>7</td><td>Variable</td><td></td><td><a class=\"ProveItLink\" href=\"../../../../__pv_it/0c1c4cb515e0f4344b1ac06650f349123e526deb0/expr.ipynb\"><img src=\"data:image/png;base64,iVBORw0KGgoAAAANSUhEUgAAAAwAAAAJBAMAAAD0ltBnAAAALVBMVEX///8iIiIyMjKqqqqYmJgQ\n",
       "EBDMzMzu7u5ERESIiIjc3NxUVFR2dna6uroAAABc6vguAAAAAXRSTlMAQObYZgAAAAlwSFlzAAAO\n",
       "xAAADsQBlSsOGwAAAEdJREFUCNdj4D296uROBgYejk6GugUMuawNDOsSGArqLjD4MTAw2DEw7ABS\n",
       "mxgYnrAzMMQwMD/gYeB6xsCj4MXAK8DA1WIAACOEDusgYYkuAAAAAElFTkSuQmCC\n",
       "\" style=\"display:inline;vertical-align:middle;\" /></a></td></tr>\n",
       "<tr><td>8</td><td>IndexedVar</td><td>variable:&nbsp;10<br>index:&nbsp;12<br></td><td><a class=\"ProveItLink\" href=\"../../../__pv_it/dee26a812cfa22d9ad480944f52f6d73aab21be10/expr.ipynb\"><img src=\"data:image/png;base64,iVBORw0KGgoAAAANSUhEUgAAABUAAAAMBAMAAAB/4Ov2AAAAMFBMVEX///8QEBC6uroyMjJERETc\n",
       "3NyYmJgiIiJmZmaqqqp2dnbMzMxUVFSIiIju7u4AAAAoIwv1AAAAAXRSTlMAQObYZgAAAAlwSFlz\n",
       "AAAOxAAADsQBlSsOGwAAAG1JREFUCNdjYHh75/WqCQwQ0MB7lqMAwmQL4P3KkwBhczOwGDDAAf8F\n",
       "BFs/gO8Bw4vcpQwMTxTOM3Ax8FVz/2NgmL+vkUGTgaOBW4CB4cVdzrYJDPwKvAdget4HsOQ9gLIZ\n",
       "A/arwcSZ2uYuYwAAzdgblULCgcAAAAAASUVORK5CYII=\n",
       "\" style=\"display:inline;vertical-align:middle;\" /></a></td></tr>\n",
       "<tr><td>9</td><td>IndexedVar</td><td>variable:&nbsp;11<br>index:&nbsp;12<br></td><td><a class=\"ProveItLink\" href=\"../../../__pv_it/f10e69a02f69c775894561cad176161bc0ede74f0/expr.ipynb\"><img src=\"data:image/png;base64,iVBORw0KGgoAAAANSUhEUgAAABMAAAANBAMAAAC5okgUAAAAMFBMVEX///8iIiLMzMy6urpEREQy\n",
       "MjLc3NyYmJgQEBCqqqp2dnZUVFRmZmaIiIju7u4AAACJ/BCYAAAAAXRSTlMAQObYZgAAAAlwSFlz\n",
       "AAAOxAAADsQBlSsOGwAAAHlJREFUCNdj4LtzgeE1AxhwcTYw1EOYmTwBDFsgzAccFxh6IUwG+wdM\n",
       "n6DMowy8DQxvapcBmd4MLBv4hJj+AZmnGewLeA4wNQCZr9eeT+A34N0AVr2U4X0CS90DBp4Avk4G\n",
       "jgR9cwYGxgvcCxiYj89dzsDAefcw1FQAZWgf3tpJsGMAAAAASUVORK5CYII=\n",
       "\" style=\"display:inline;vertical-align:middle;\" /></a></td></tr>\n",
       "<tr><td>10</td><td>Variable</td><td></td><td><a class=\"ProveItLink\" href=\"../../../__pv_it/72df168d2bfb4e0140af90912ebf83b13772060b0/expr.ipynb\"><img src=\"data:image/png;base64,iVBORw0KGgoAAAANSUhEUgAAAAsAAAAJBAMAAAAWSsseAAAAMFBMVEX///8QEBC6uroyMjJERETc\n",
       "3NyYmJgiIiJmZmaqqqp2dnbMzMxUVFSIiIju7u4AAAAoIwv1AAAAAXRSTlMAQObYZgAAAAlwSFlz\n",
       "AAAOxAAADsQBlSsOGwAAAENJREFUCNdjYHh75/WqCQwMDbxnOQoY2AJ4v/IkMHAzsBgwgAD/BTCl\n",
       "H8D3gOGJwnkGLgaG+fsaGTQZGF7c5WybwAAAJGsQ2L2rVEcAAAAASUVORK5CYII=\n",
       "\" style=\"display:inline;vertical-align:middle;\" /></a></td></tr>\n",
       "<tr><td>11</td><td>Variable</td><td></td><td><a class=\"ProveItLink\" href=\"../../../__pv_it/c6e291955561f22a0e6708fd793ea93f1c7dbb5d0/expr.ipynb\"><img src=\"data:image/png;base64,iVBORw0KGgoAAAANSUhEUgAAAAsAAAANBAMAAACN24kIAAAAMFBMVEX///8iIiLMzMy6urpEREQy\n",
       "MjLc3NyYmJgQEBCqqqp2dnZUVFRmZmaIiIju7u4AAACJ/BCYAAAAAXRSTlMAQObYZgAAAAlwSFlz\n",
       "AAAOxAAADsQBlSsOGwAAAFdJREFUCNdj4LtzgeE1AwMXZwNDPQNDJk8AwxYGhgccFxh6GRgY7B8w\n",
       "fQJSRxl4G4CUNwPLBiB1msG+AEi9Xns+gQEElgIxTwBfJ5BivMC9AEhx3j0MJAH6nBTYXSPRQAAA\n",
       "AABJRU5ErkJggg==\n",
       "\" style=\"display:inline;vertical-align:middle;\" /></a></td></tr>\n",
       "<tr><td>12</td><td>Variable</td><td></td><td><a class=\"ProveItLink\" href=\"../../../__pv_it/a8d4b3a34d2189508f9082853fbac36935714f280/expr.ipynb\"><img src=\"data:image/png;base64,iVBORw0KGgoAAAANSUhEUgAAAAsAAAAJBAMAAAAWSsseAAAAMFBMVEX////MzMxUVFQyMjKqqqoi\n",
       "IiKYmJju7u5EREQQEBC6urqIiIh2dnZmZmbc3NwAAAD0tjQRAAAAAXRSTlMAQObYZgAAAAlwSFlz\n",
       "AAAOxAAADsQBlSsOGwAAAEdJREFUCNdjYOC7s28DAwPDygcc3xkY2Kcx8AYwMPB+Z2A9wMDA2cBQ\n",
       "v4CBof4AQz5QRb0DQzPLAwbmDWyxPECV2gcfbWQAABp5EMgcedARAAAAAElFTkSuQmCC\n",
       "\" style=\"display:inline;vertical-align:middle;\" /></a></td></tr>\n",
       "</table>\n"
      ],
      "text/plain": [
       "0. (P , x_{1} ,  ...  , x_{n} , y_{1} ,  ...  , y_{n})\n",
       "   core type: ExprTuple\n",
       "   sub-expressions: 1, 2, 3\n",
       "1. P\n",
       "   core type: Variable\n",
       "   sub-expressions: \n",
       "2. x_{1},...,x_{n}\n",
       "   core type: ExprRange\n",
       "   lambda_map: 4\n",
       "   start_index: 6\n",
       "   end_index: 7\n",
       "3. y_{1},...,y_{n}\n",
       "   core type: ExprRange\n",
       "   lambda_map: 5\n",
       "   start_index: 6\n",
       "   end_index: 7\n",
       "4. a -> x_{a}\n",
       "   core type: Lambda\n",
       "   parameter: 12\n",
       "   body: 8\n",
       "5. a -> y_{a}\n",
       "   core type: Lambda\n",
       "   parameter: 12\n",
       "   body: 9\n",
       "6. 1\n",
       "   core type: Literal\n",
       "   sub-expressions: \n",
       "7. n\n",
       "   core type: Variable\n",
       "   sub-expressions: \n",
       "8. x_{a}\n",
       "   core type: IndexedVar\n",
       "variable: 10\n",
       "index: 12\n",
       "9. y_{a}\n",
       "   core type: IndexedVar\n",
       "variable: 11\n",
       "index: 12\n",
       "10. x\n",
       "    core type: Variable\n",
       "    sub-expressions: \n",
       "11. y\n",
       "    core type: Variable\n",
       "    sub-expressions: \n",
       "12. a\n",
       "    core type: Variable\n",
       "    sub-expressions: "
      ]
     },
     "execution_count": 5,
     "metadata": {},
     "output_type": "execute_result"
    }
   ],
   "source": [
    "# display the expression information\n",
    "expr.exprInfo()"
   ]
  },
  {
   "cell_type": "code",
   "execution_count": null,
   "metadata": {},
   "outputs": [],
   "source": []
  }
 ],
 "metadata": {
  "kernelspec": {
   "display_name": "Python 3",
   "language": "python",
   "name": "python3"
  },
  "language_info": {
   "codemirror_mode": {
    "name": "ipython",
    "version": 3
   },
   "file_extension": ".py",
   "mimetype": "text/x-python",
   "name": "python",
   "nbconvert_exporter": "python",
   "pygments_lexer": "ipython3",
   "version": "3.7.4"
  }
 },
 "nbformat": 4,
 "nbformat_minor": 1
}
