{
 "cells": [
  {
   "cell_type": "markdown",
   "metadata": {},
   "source": [
    "Expression of type <a class=\"ProveItLink\" href=\"../../../../../../doc/html/api/proveit.ExprTuple.html\">ExprTuple</a>\n",
    "=======================\n",
    "# from context <a class=\"ProveItLink\" href=\"../../_context_.ipynb\">proveit.core_expr_types.tuples</a>"
   ]
  },
  {
   "cell_type": "code",
   "execution_count": 1,
   "metadata": {},
   "outputs": [],
   "source": [
    "import proveit\n",
    "# Automation is not needed when building an expression:\n",
    "proveit.defaults.automation = False # This will speed things up.\n",
    "# import Expression classes needed to build the expression\n",
    "from proveit import ExprTuple\n",
    "from proveit._common_ import m, n\n",
    "from proveit.logic import InSet\n",
    "from proveit.number import Naturals"
   ]
  },
  {
   "cell_type": "code",
   "execution_count": 2,
   "metadata": {},
   "outputs": [
    {
     "data": {
      "text/html": [
       "<strong id=\"expr\">expr:</strong> <a class=\"ProveItLink\" href=\"../1a49e34ce6ca0b4fb884cc663a283e47d90254840/expr.ipynb\"><img src=\"data:image/png;base64,iVBORw0KGgoAAAANSUhEUgAAAIUAAAAVBAMAAACakjBMAAAAMFBMVEX////MzMxUVFREREQiIiK6\n",
       "uroQEBCYmJhmZmYyMjLu7u52dnaqqqqIiIjc3NwAAACFAiZ1AAAAAXRSTlMAQObYZgAAAAlwSFlz\n",
       "AAAOxAAADsQBlSsOGwAAAcNJREFUOMullD1IAzEYht/+Xpu2RwcFx0JdFC0nKCJYKdjF6tDBRUHo\n",
       "oFMRuggu2m4iItwmiMqh7i0VdCoUBAcdWmcRbnARRCtiBQcxyV1rae9nMJAjuefJl8t9SQCo+E/h\n",
       "o0NVY3j+MaXgspmGNV5hnTuzGaY9EZBv2GD2CUQ2kwbVKyADO3wI+HJm0ojkV5GAHd4EvN0sNJ6c\n",
       "443Ylij3xujBXgVLXY7nWNFbMWf4oSdGL/bnsEffl18ro47KBEfPLQcxSK60FoMbJjgQwQF9uuIo\n",
       "buCGoxP8SQMkpcXghmqMBRkLQL9XwlsJeY7kDkmoXmt54UbYGAcTWAOUYho1BVFGHKvJZHJWlzDs\n",
       "1GIwI2+CHQ0WAzVgF1hnhEgdE+GU6P+UGlET7MngiHaHgHl4fghDiU7JUdfHUOPLBNO1xGk3C/IJ\n",
       "p/zC0GNbGqP1XgIfmkWwETDEECSUAfEdQgP+Uokhf/sI0r8Nn4yizI2AvG2I4atjka4ogVABwX2e\n",
       "PBJd1py+psRPkzvFDXGyaojhVuEOd+/EC30zt8qtNX6iyynY3TIla7xD64xNCFK3xCLL3JlNDMEa\n",
       "u9gBEnP/uk9ptn4BdjWCFytfzs0AAAAASUVORK5CYII=\n",
       "\" style=\"display:inline;vertical-align:middle;\" /></a><br>"
      ],
      "text/plain": [
       "expr: (m in Naturals , n in Naturals)"
      ]
     },
     "execution_count": 2,
     "metadata": {},
     "output_type": "execute_result"
    }
   ],
   "source": [
    "# build up the expression from sub-expressions\n",
    "expr = ExprTuple(InSet(m, Naturals), InSet(n, Naturals))"
   ]
  },
  {
   "cell_type": "code",
   "execution_count": 3,
   "metadata": {},
   "outputs": [
    {
     "name": "stdout",
     "output_type": "stream",
     "text": [
      "Passed sanity check: built 'expr' is the same as the stored Expression.\n"
     ]
    }
   ],
   "source": [
    "# check that the built expression is the same as the stored expression\n",
    "%check_expr"
   ]
  },
  {
   "cell_type": "code",
   "execution_count": 4,
   "metadata": {},
   "outputs": [
    {
     "name": "stdout",
     "output_type": "stream",
     "text": [
      "\\left(m \\in \\mathbb{N} , n \\in \\mathbb{N}\\right)\n"
     ]
    }
   ],
   "source": [
    "# Show the LaTeX representation of the expression for convenience if you need it.\n",
    "print(expr.latex())"
   ]
  },
  {
   "cell_type": "code",
   "execution_count": 5,
   "metadata": {},
   "outputs": [
    {
     "data": {
      "text/html": [
       "<table><tr><th>&nbsp;</th><th>core type</th><th>sub-expressions</th><th>expression</th></tr>\n",
       "<tr><td>0</td><td>ExprTuple</td><td>1, 2</td><td><a class=\"ProveItLink\" href=\"../1a49e34ce6ca0b4fb884cc663a283e47d90254840/expr.ipynb\"><img src=\"data:image/png;base64,iVBORw0KGgoAAAANSUhEUgAAAIUAAAAVBAMAAACakjBMAAAAMFBMVEX////MzMxUVFREREQiIiK6\n",
       "uroQEBCYmJhmZmYyMjLu7u52dnaqqqqIiIjc3NwAAACFAiZ1AAAAAXRSTlMAQObYZgAAAAlwSFlz\n",
       "AAAOxAAADsQBlSsOGwAAAcNJREFUOMullD1IAzEYht/+Xpu2RwcFx0JdFC0nKCJYKdjF6tDBRUHo\n",
       "oFMRuggu2m4iItwmiMqh7i0VdCoUBAcdWmcRbnARRCtiBQcxyV1rae9nMJAjuefJl8t9SQCo+E/h\n",
       "o0NVY3j+MaXgspmGNV5hnTuzGaY9EZBv2GD2CUQ2kwbVKyADO3wI+HJm0ojkV5GAHd4EvN0sNJ6c\n",
       "443Ylij3xujBXgVLXY7nWNFbMWf4oSdGL/bnsEffl18ro47KBEfPLQcxSK60FoMbJjgQwQF9uuIo\n",
       "buCGoxP8SQMkpcXghmqMBRkLQL9XwlsJeY7kDkmoXmt54UbYGAcTWAOUYho1BVFGHKvJZHJWlzDs\n",
       "1GIwI2+CHQ0WAzVgF1hnhEgdE+GU6P+UGlET7MngiHaHgHl4fghDiU7JUdfHUOPLBNO1xGk3C/IJ\n",
       "p/zC0GNbGqP1XgIfmkWwETDEECSUAfEdQgP+Uokhf/sI0r8Nn4yizI2AvG2I4atjka4ogVABwX2e\n",
       "PBJd1py+psRPkzvFDXGyaojhVuEOd+/EC30zt8qtNX6iyynY3TIla7xD64xNCFK3xCLL3JlNDMEa\n",
       "u9gBEnP/uk9ptn4BdjWCFytfzs0AAAAASUVORK5CYII=\n",
       "\" style=\"display:inline;vertical-align:middle;\" /></a></td></tr>\n",
       "<tr><td>1</td><td>Operation</td><td>operator:&nbsp;4<br>operands:&nbsp;3<br></td><td><a class=\"ProveItLink\" href=\"../8bd68d2a816f3e8e379b277728c71749d95e1c4d0/expr.ipynb\"><img src=\"data:image/png;base64,iVBORw0KGgoAAAANSUhEUgAAADsAAAAQBAMAAABaYBp1AAAAMFBMVEX///8iIiIyMjJmZmYQEBCq\n",
       "qqqYmJju7u5ERETMzMyIiIjc3NxUVFR2dna6uroAAACULOzSAAAAAXRSTlMAQObYZgAAAAlwSFlz\n",
       "AAAOxAAADsQBlSsOGwAAAQNJREFUGNNjYMAKCn80FTBc+fKAAQdo5TvAwP4dlyzDwQ3XGBgccEof\n",
       "bWDawCCALsrVKCgEZpzO4lbAkObTKoCyTvNMWAuS5ruz+9Ypzlt9YMFNMFmG0wwNHA+A0rwcXQz1\n",
       "eQwhYEFtBoT0ZHZxoPQ8lgaG/RcY8sGCCkjSbAERQJcX1D9giC9gOAES43QUFBSUgEozHOcBeSye\n",
       "gcGIgcELJMbegKSboYYd5PJDDAyyDHy/2UGCAsjSnAtAqn0Z2P8x8ChsBQmugkt3AvFKoDT3Twa2\n",
       "DwxMFy6ABJkCYNKiQMwMdCmfAAOXAQOr1Qaw5SeeQ2QnfgHqZFdAD1S+G9BAhQIAOvY877r4sX8A\n",
       "AAAASUVORK5CYII=\n",
       "\" style=\"display:inline;vertical-align:middle;\" /></a></td></tr>\n",
       "<tr><td>2</td><td>Operation</td><td>operator:&nbsp;4<br>operands:&nbsp;5<br></td><td><a class=\"ProveItLink\" href=\"../ea7a7b216aa76d36941eba05f4c0acd13c4034bc0/expr.ipynb\"><img src=\"data:image/png;base64,iVBORw0KGgoAAAANSUhEUgAAADUAAAAQBAMAAABEqSrGAAAAMFBMVEX///9mZmYiIiIyMjKqqqqY\n",
       "mJgQEBDMzMzu7u5ERESIiIjc3NxUVFR2dna6uroAAABonEzTAAAAAXRSTlMAQObYZgAAAAlwSFlz\n",
       "AAAOxAAADsQBlSsOGwAAAOdJREFUGNNjYMAETT8nNzBc+/aAARuYwneAgeMHVimGQxuuMjAkYJc7\n",
       "MoF5A4MCqthKJSUDEH06itsATe7xCijjNE/BWpAc353dt06BRbgtYIpOM0zgfACU4+WcxdC/ASTC\n",
       "vAEhV8ihAZSrY5vAsL8ALMeAkGN18AS6s6H/AUM8WKRMCQgmQOQYTvCA/ODPwHASLNeJpI+hhwPk\n",
       "zsMMDF85QCJMyHLsC0Am5DKwfOAFiXAtgMlNB+LlQDnu7wy8BtFgIROYnAoQMwJDgU+BgXuqA1io\n",
       "Z14DmC76BtTDYYAaZm8nKSGLAADF1zpFf81hBQAAAABJRU5ErkJggg==\n",
       "\" style=\"display:inline;vertical-align:middle;\" /></a></td></tr>\n",
       "<tr><td>3</td><td>ExprTuple</td><td>6, 8</td><td><a class=\"ProveItLink\" href=\"../deff4dcd953934bb2cb37c9e17e03644e94339f20/expr.ipynb\"><img src=\"data:image/png;base64,iVBORw0KGgoAAAANSUhEUgAAADcAAAAVBAMAAAAQkWtIAAAAMFBMVEX////MzMxUVFREREQiIiK6\n",
       "uroQEBCYmJhmZmYyMjLu7u52dnaqqqqIiIjc3NwAAACFAiZ1AAAAAXRSTlMAQObYZgAAAAlwSFlz\n",
       "AAAOxAAADsQBlSsOGwAAAUhJREFUKM9tkj1IA0EQRl9+LpdckiOFgmVAG0XlLCwEIyms1CKFjYWQ\n",
       "xkqENIKNmk5EhOsEsTjUVhJSaBUICDYWibXNFZaiETGghTgb8VwTF2bZbx7z7TC7gM+/q5tON/4m\n",
       "z19nPC47hVUlbntLZo0s1ke3yHJ74Yh/BUU4hnipF447CZ88bEGsr5PJbdtVMOax0g/DmXsFEyUO\n",
       "wKg91SdC9ekfiBMpCExmOZI9kqOyyU0Ah6wFgabLEgzGHJ6r7AbQbFxLt6k8a+BVCjQ9hgPIWFhg\n",
       "qK0gTdiHjV94aomtUeRE5CgsYnxaAQy1nK5tTuQ61hth9xFPwSmJO4GmQw3sF8w2iWrVeldQWiQu\n",
       "Q423WBbzPOkyqUOfeSkd6DjfE4/6RDPacFKeJh7EuazppD7GPYk5TV9oZ1vcOdMS+vNF1BV26f8/\n",
       "tANfibhITILw4esAAAAASUVORK5CYII=\n",
       "\" style=\"display:inline;vertical-align:middle;\" /></a></td></tr>\n",
       "<tr><td>4</td><td>Literal</td><td></td><td><a class=\"ProveItLink\" href=\"../../../../logic/set_theory/membership/__pv_it/7776fc89cb67d0b5b1ec2c0c8e08da5587921ccf0/expr.ipynb\"><img src=\"data:image/png;base64,iVBORw0KGgoAAAANSUhEUgAAAAwAAAAMBAMAAACkW0HUAAAAKlBMVEX///92dnZUVFSqqqoQEBDM\n",
       "zMzc3Nzu7u66uroyMjIiIiJERESIiIgAAACm0meuAAAAAXRSTlMAQObYZgAAAAlwSFlzAAAOxAAA\n",
       "DsQBlSsOGwAAADxJREFUCNdjYGA4vWrVBAaGzuMMQMA2HUQycCZAKDDJELIKCDYwVEN4XBCK5wCE\n",
       "ngyhinYUgOnGXasmAABvGQ6ucz2C1gAAAABJRU5ErkJggg==\n",
       "\" style=\"display:inline;vertical-align:middle;\" /></a></td></tr>\n",
       "<tr><td>5</td><td>ExprTuple</td><td>7, 8</td><td><a class=\"ProveItLink\" href=\"../8523ac9024e017b0054bafb17df64301faa224970/expr.ipynb\"><img src=\"data:image/png;base64,iVBORw0KGgoAAAANSUhEUgAAADEAAAAVBAMAAAAdjxsPAAAAMFBMVEX////MzMxUVFREREQiIiK6\n",
       "uroQEBCYmJhmZmYyMjLu7u52dnaqqqqIiIjc3NwAAACFAiZ1AAAAAXRSTlMAQObYZgAAAAlwSFlz\n",
       "AAAOxAAADsQBlSsOGwAAATFJREFUKM9tki9IBEEUh7/7v7d7LhsUjAdaFJUxieDJBpMYLlgMwhWT\n",
       "5aLF02awbBPEsKhVDi6cSVgwGjyzZYNZT4QTTb45mXNXHXgDv/fN/ObNmwFi/o5hbixKZC7flkO6\n",
       "g/q2FnepxSuFKvbncLkdpMh0fA0NOAWrmSJzqhzjwx4U00cv7LuBJsWQrV8k6z1qUm5yDIXO8828\n",
       "IahcXYhT5UTmXI12bMikvS6kFLABE0XFi2dIKbqV2io+OxC26xyM3JjNCsn0NeEepn7IuS1uhQZn\n",
       "Imfg3R6RTE8N3Woid6n0HUJNFiUehJQUHXBfcYKW/aGJFIQlDbN6bIqnj7sUsSabxgfqu5X5mLxn\n",
       "rl8JE714EsNDI5xkl44kVo24SgBXTLkwKvkcOe3sNv/5By34Ak9LP+Ss6hVEAAAAAElFTkSuQmCC\n",
       "\" style=\"display:inline;vertical-align:middle;\" /></a></td></tr>\n",
       "<tr><td>6</td><td>Variable</td><td></td><td><a class=\"ProveItLink\" href=\"../../../../__pv_it/6e8a38e9a7e2b6af352562cd77e0eb4751f142620/expr.ipynb\"><img src=\"data:image/png;base64,iVBORw0KGgoAAAANSUhEUgAAABIAAAAJBAMAAADN8WE8AAAAMFBMVEX///8iIiIyMjJmZmYQEBCq\n",
       "qqqYmJju7u5ERETMzMyIiIjc3NxUVFR2dna6uroAAACULOzSAAAAAXRSTlMAQObYZgAAAAlwSFlz\n",
       "AAAOxAAADsQBlSsOGwAAAGNJREFUCNdj4Luz+9Ypzlt9DAy8HF0M9XkMIQwM81gaGPZfYMhnYCio\n",
       "f8AQX8BwgoGBIZ6BwYiBwQvIOsTAIMvA95udgcGXgf0fA4/CVgbunwxsHxiYLlxg4BNg4DJgYLXa\n",
       "AAB/WBcBafZ/twAAAABJRU5ErkJggg==\n",
       "\" style=\"display:inline;vertical-align:middle;\" /></a></td></tr>\n",
       "<tr><td>7</td><td>Variable</td><td></td><td><a class=\"ProveItLink\" href=\"../../../../__pv_it/0c1c4cb515e0f4344b1ac06650f349123e526deb0/expr.ipynb\"><img src=\"data:image/png;base64,iVBORw0KGgoAAAANSUhEUgAAAAwAAAAJBAMAAAD0ltBnAAAALVBMVEX///8iIiIyMjKqqqqYmJgQ\n",
       "EBDMzMzu7u5ERESIiIjc3NxUVFR2dna6uroAAABc6vguAAAAAXRSTlMAQObYZgAAAAlwSFlzAAAO\n",
       "xAAADsQBlSsOGwAAAEdJREFUCNdj4D296uROBgYejk6GugUMuawNDOsSGArqLjD4MTAw2DEw7ABS\n",
       "mxgYnrAzMMQwMD/gYeB6xsCj4MXAK8DA1WIAACOEDusgYYkuAAAAAElFTkSuQmCC\n",
       "\" style=\"display:inline;vertical-align:middle;\" /></a></td></tr>\n",
       "<tr><td>8</td><td>Literal</td><td></td><td><a class=\"ProveItLink\" href=\"../../../../number/sets/integer/__pv_it/b49c37b99b7e8d73a8d7971bcf454d693b90a2c60/expr.ipynb\"><img src=\"data:image/png;base64,iVBORw0KGgoAAAANSUhEUgAAAA8AAAAPBAMAAADJ+Ih5AAAAMFBMVEX///9mZmbMzMyIiIiYmJjc\n",
       "3NxUVFSqqqq6uroQEBB2dnYyMjJEREQiIiLu7u4AAAAPqInnAAAAAXRSTlMAQObYZgAAAAlwSFlz\n",
       "AAAOxAAADsQBlSsOGwAAAGpJREFUCNdjePvn9AOGlT8bGBiOcyQw8P1jYGDIDVjCwDAByEg/wB3A\n",
       "cAHISHVm3QBhsClYQRgMB3gaIAxFvnsQBktBzQQwgyGPDcp4xgeRYmAyOABkHAJiIxDjOhAzbmBg\n",
       "0P0J5PFtYAAA6AAhaNFZV/8AAAAASUVORK5CYII=\n",
       "\" style=\"display:inline;vertical-align:middle;\" /></a></td></tr>\n",
       "</table>\n"
      ],
      "text/plain": [
       "0. (m in Naturals , n in Naturals)\n",
       "   core type: ExprTuple\n",
       "   sub-expressions: 1, 2\n",
       "1. m in Naturals\n",
       "   core type: Operation\n",
       "   operator: 4\n",
       "   operands: 3\n",
       "2. n in Naturals\n",
       "   core type: Operation\n",
       "   operator: 4\n",
       "   operands: 5\n",
       "3. (m , Naturals)\n",
       "   core type: ExprTuple\n",
       "   sub-expressions: 6, 8\n",
       "4. in\n",
       "   core type: Literal\n",
       "   sub-expressions: \n",
       "5. (n , Naturals)\n",
       "   core type: ExprTuple\n",
       "   sub-expressions: 7, 8\n",
       "6. m\n",
       "   core type: Variable\n",
       "   sub-expressions: \n",
       "7. n\n",
       "   core type: Variable\n",
       "   sub-expressions: \n",
       "8. Naturals\n",
       "   core type: Literal\n",
       "   sub-expressions: "
      ]
     },
     "execution_count": 5,
     "metadata": {},
     "output_type": "execute_result"
    }
   ],
   "source": [
    "# display the expression information\n",
    "expr.exprInfo()"
   ]
  },
  {
   "cell_type": "code",
   "execution_count": null,
   "metadata": {},
   "outputs": [],
   "source": []
  }
 ],
 "metadata": {
  "kernelspec": {
   "display_name": "Python 3",
   "language": "python",
   "name": "python3"
  },
  "language_info": {
   "codemirror_mode": {
    "name": "ipython",
    "version": 3
   },
   "file_extension": ".py",
   "mimetype": "text/x-python",
   "name": "python",
   "nbconvert_exporter": "python",
   "pygments_lexer": "ipython3",
   "version": "3.7.4"
  }
 },
 "nbformat": 4,
 "nbformat_minor": 1
}
