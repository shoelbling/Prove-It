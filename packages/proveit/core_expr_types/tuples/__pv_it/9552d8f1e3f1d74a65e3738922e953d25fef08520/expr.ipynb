{
 "cells": [
  {
   "cell_type": "markdown",
   "metadata": {},
   "source": [
    "Expression of type <a class=\"ProveItLink\" href=\"../../../../../../doc/html/api/proveit.logic.InSet.html\">InSet</a>\n",
    "=======================\n",
    "# from context <a class=\"ProveItLink\" href=\"../../_context_.ipynb\">proveit.core_expr_types.tuples</a>"
   ]
  },
  {
   "cell_type": "code",
   "execution_count": 1,
   "metadata": {},
   "outputs": [],
   "source": [
    "import proveit\n",
    "# Automation is not needed when building an expression:\n",
    "proveit.defaults.automation = False # This will speed things up.\n",
    "# import Expression classes needed to build the expression\n",
    "from proveit._common_ import j, k\n",
    "from proveit.logic import InSet\n",
    "from proveit.number import Add, Naturals, Neg"
   ]
  },
  {
   "cell_type": "code",
   "execution_count": 2,
   "metadata": {},
   "outputs": [
    {
     "data": {
      "text/html": [
       "<strong id=\"expr\">expr:</strong> <a class=\"ProveItLink\" href=\"../34104fbf3d0e6bd8a68ae5c5740b9bebe4a4ee370/expr.ipynb\"><img src=\"data:image/png;base64,iVBORw0KGgoAAAANSUhEUgAAAGUAAAAVBAMAAACtcD09AAAAMFBMVEX////MzMxUVFREREQiIiK6\n",
       "uroQEBCYmJhmZmYyMjLu7u52dnaqqqqIiIjc3NwAAACFAiZ1AAAAAXRSTlMAQObYZgAAAAlwSFlz\n",
       "AAAOxAAADsQBlSsOGwAAAa1JREFUOMt1kz1Iw1AQx6/pR9K0jRlEdLKDk0iJoIOi0qGLH0MHlyJC\n",
       "B93j5qJ2EB26dBAU6RBaVxEcdA04KrTSpdQlgzq3SDuUDt4l/UzeC4Tc/V9+7/53eQEACzgXdwFi\n",
       "Jm/l0JU//K0Z8NJJA7wDlI+8gG/du9tGMA5yF0AuYHLHKI/6vUtbsF4BsgCSjkmPbe7UlS9pYQuS\n",
       "ACGMg102EzKcZy2VIjeQOFMKxGQwjmTZTFi3H5lGP08I6hcxeVqLR+vG5OuPNdorTqEybCsBmj+N\n",
       "zC3GT/rHrz7J5EIoiLajsDViZuUdZPYwrvyYc5MfULSmcNDRpM3AiBHNN+zjGOOrE1uSb1J0qXZS\n",
       "QbO+JkUzJGoOA4tCn9nOq57+L2me9mzKY3WgJGPtIu7fDrY8zC4MvAXGGV8VK26i+abci7kQpU1d\n",
       "2Y5i1YG4jPcnas8Agia3Ii5GpFYk5+3iQKR5STjLfQC/CfWGixGoRMAZZmnV+XjTHc05nwGVfWyo\n",
       "xHc/OVhxzs7QRI5BCOYFbX3N+7O2GNq8SdYVjceUGZpUx58R/AaPUXTeyjlH/wfi0V45QtcPZwAA\n",
       "AABJRU5ErkJggg==\n",
       "\" style=\"display:inline;vertical-align:middle;\" /></a><br>"
      ],
      "text/plain": [
       "expr: (k - j) in Naturals"
      ]
     },
     "execution_count": 2,
     "metadata": {},
     "output_type": "execute_result"
    }
   ],
   "source": [
    "# build up the expression from sub-expressions\n",
    "expr = InSet(Add(k, Neg(j)), Naturals)"
   ]
  },
  {
   "cell_type": "code",
   "execution_count": 3,
   "metadata": {},
   "outputs": [
    {
     "name": "stdout",
     "output_type": "stream",
     "text": [
      "Passed sanity check: built 'expr' is the same as the stored Expression.\n"
     ]
    }
   ],
   "source": [
    "# check that the built expression is the same as the stored expression\n",
    "%check_expr"
   ]
  },
  {
   "cell_type": "code",
   "execution_count": 4,
   "metadata": {},
   "outputs": [
    {
     "name": "stdout",
     "output_type": "stream",
     "text": [
      "\\left(k - j\\right) \\in \\mathbb{N}\n"
     ]
    }
   ],
   "source": [
    "# Show the LaTeX representation of the expression for convenience if you need it.\n",
    "print(expr.latex())"
   ]
  },
  {
   "cell_type": "code",
   "execution_count": 5,
   "metadata": {},
   "outputs": [
    {
     "data": {
      "text/html": [
       "<table><tr><th>&nbsp;</th><th>core type</th><th>sub-expressions</th><th>expression</th></tr>\n",
       "<tr><td>0</td><td>Operation</td><td>operator:&nbsp;1<br>operands:&nbsp;2<br></td><td><a class=\"ProveItLink\" href=\"../34104fbf3d0e6bd8a68ae5c5740b9bebe4a4ee370/expr.ipynb\"><img src=\"data:image/png;base64,iVBORw0KGgoAAAANSUhEUgAAAGUAAAAVBAMAAACtcD09AAAAMFBMVEX////MzMxUVFREREQiIiK6\n",
       "uroQEBCYmJhmZmYyMjLu7u52dnaqqqqIiIjc3NwAAACFAiZ1AAAAAXRSTlMAQObYZgAAAAlwSFlz\n",
       "AAAOxAAADsQBlSsOGwAAAa1JREFUOMt1kz1Iw1AQx6/pR9K0jRlEdLKDk0iJoIOi0qGLH0MHlyJC\n",
       "B93j5qJ2EB26dBAU6RBaVxEcdA04KrTSpdQlgzq3SDuUDt4l/UzeC4Tc/V9+7/53eQEACzgXdwFi\n",
       "Jm/l0JU//K0Z8NJJA7wDlI+8gG/du9tGMA5yF0AuYHLHKI/6vUtbsF4BsgCSjkmPbe7UlS9pYQuS\n",
       "ACGMg102EzKcZy2VIjeQOFMKxGQwjmTZTFi3H5lGP08I6hcxeVqLR+vG5OuPNdorTqEybCsBmj+N\n",
       "zC3GT/rHrz7J5EIoiLajsDViZuUdZPYwrvyYc5MfULSmcNDRpM3AiBHNN+zjGOOrE1uSb1J0qXZS\n",
       "QbO+JkUzJGoOA4tCn9nOq57+L2me9mzKY3WgJGPtIu7fDrY8zC4MvAXGGV8VK26i+abci7kQpU1d\n",
       "2Y5i1YG4jPcnas8Agia3Ii5GpFYk5+3iQKR5STjLfQC/CfWGixGoRMAZZmnV+XjTHc05nwGVfWyo\n",
       "xHc/OVhxzs7QRI5BCOYFbX3N+7O2GNq8SdYVjceUGZpUx58R/AaPUXTeyjlH/wfi0V45QtcPZwAA\n",
       "AABJRU5ErkJggg==\n",
       "\" style=\"display:inline;vertical-align:middle;\" /></a></td></tr>\n",
       "<tr><td>1</td><td>Literal</td><td></td><td><a class=\"ProveItLink\" href=\"../../../../logic/set_theory/membership/__pv_it/7776fc89cb67d0b5b1ec2c0c8e08da5587921ccf0/expr.ipynb\"><img src=\"data:image/png;base64,iVBORw0KGgoAAAANSUhEUgAAAAwAAAAMBAMAAACkW0HUAAAAKlBMVEX///92dnZUVFSqqqoQEBDM\n",
       "zMzc3Nzu7u66uroyMjIiIiJERESIiIgAAACm0meuAAAAAXRSTlMAQObYZgAAAAlwSFlzAAAOxAAA\n",
       "DsQBlSsOGwAAADxJREFUCNdjYGA4vWrVBAaGzuMMQMA2HUQycCZAKDDJELIKCDYwVEN4XBCK5wCE\n",
       "ngyhinYUgOnGXasmAABvGQ6ucz2C1gAAAABJRU5ErkJggg==\n",
       "\" style=\"display:inline;vertical-align:middle;\" /></a></td></tr>\n",
       "<tr><td>2</td><td>ExprTuple</td><td>3, 4</td><td><a class=\"ProveItLink\" href=\"../06cacb68f410f75689af0ce944045519edf553510/expr.ipynb\"><img src=\"data:image/png;base64,iVBORw0KGgoAAAANSUhEUgAAAFIAAAAVBAMAAAAnX6R8AAAAMFBMVEX////MzMxUVFREREQiIiK6\n",
       "uroQEBCYmJhmZmYyMjLu7u52dnaqqqqIiIjc3NwAAACFAiZ1AAAAAXRSTlMAQObYZgAAAAlwSFlz\n",
       "AAAOxAAADsQBlSsOGwAAAYJJREFUKM9jYGB4wEAY8IEI3gN4VHD5G89i4M5PZb0A5JxmYFicgqmG\n",
       "0QpMMR8IYmBYv4DhDlDXBCB/BqZK3glgismPu4CBjYGBcwEDRwGQ/wen9UyHGeYxsDAwsDeA1DOw\n",
       "/sKt8vmFlyCVDFkMkUCSOwG3ygeKvBtAKqczdANJTgWeGwtQVay9DFPJzGAKUrkJqBbot4IzzwpQ\n",
       "VTawFUBVMjYsWQJkVDL4AMnzTw9IooY/+wP+A1CVDDU8ZkDGEYZUINlWCAnmKS4gIADmnF8AU8m0\n",
       "QA3IkAer9OwWwPBKC8ydDFwKINvDGOYAzfrK+hFDpTdcJYMsM9h2W6CjPnD94UVPEl8ZuMCxCbSN\n",
       "VxjIKAb6noHJgOsjN5pK9g8M60HxyQLyWCcQ9zKEgFIBw41b6CFuwMDiBUwn/slAzkog9mNgEcAa\n",
       "N2zAZHYK2TUOoKjHEocH6oGBtAFJBJSQ7LColD8AjBCuC0gij4F4MRaVHDcCgJ5CFgGla74CIvIR\n",
       "+wMGADa4VzLGyq87AAAAAElFTkSuQmCC\n",
       "\" style=\"display:inline;vertical-align:middle;\" /></a></td></tr>\n",
       "<tr><td>3</td><td>Operation</td><td>operator:&nbsp;5<br>operands:&nbsp;6<br></td><td><a class=\"ProveItLink\" href=\"../594ee822290f92eda0c2078cc5df5aa2f4622eeb0/expr.ipynb\"><img src=\"data:image/png;base64,iVBORw0KGgoAAAANSUhEUgAAAC0AAAASBAMAAAA9GErRAAAAMFBMVEX////MzMzc3NyYmJiIiIhU\n",
       "VFR2dna6urqqqqpmZmYyMjIiIiIQEBBERETu7u4AAADM1VnsAAAAAXRSTlMAQObYZgAAAAlwSFlz\n",
       "AAAOxAAADsQBlSsOGwAAAJpJREFUGNNj4LuzgQEDyD5gYOCagCnuBcT8DQxYQf0D7OI52IUZljK0\n",
       "zEMV4XO5ACQ+czQdRhXnZAAKcHyqYFyEKm7E8AMoeVgAzHm1GwQ2gtkc/xgYuFcmYljJCfTq+4J6\n",
       "AXRx7gQGBnuG9w0OaOL6BQwMsQzvBRLQxO2B+AYDyxR0H8fi8OoRrKIRzP+wCTP+4MYewlOmAwkA\n",
       "EhsmZBYFxyoAAAAASUVORK5CYII=\n",
       "\" style=\"display:inline;vertical-align:middle;\" /></a></td></tr>\n",
       "<tr><td>4</td><td>Literal</td><td></td><td><a class=\"ProveItLink\" href=\"../../../../number/sets/integer/__pv_it/b49c37b99b7e8d73a8d7971bcf454d693b90a2c60/expr.ipynb\"><img src=\"data:image/png;base64,iVBORw0KGgoAAAANSUhEUgAAAA8AAAAPBAMAAADJ+Ih5AAAAMFBMVEX///9mZmbMzMyIiIiYmJjc\n",
       "3NxUVFSqqqq6uroQEBB2dnYyMjJEREQiIiLu7u4AAAAPqInnAAAAAXRSTlMAQObYZgAAAAlwSFlz\n",
       "AAAOxAAADsQBlSsOGwAAAGpJREFUCNdjePvn9AOGlT8bGBiOcyQw8P1jYGDIDVjCwDAByEg/wB3A\n",
       "cAHISHVm3QBhsClYQRgMB3gaIAxFvnsQBktBzQQwgyGPDcp4xgeRYmAyOABkHAJiIxDjOhAzbmBg\n",
       "0P0J5PFtYAAA6AAhaNFZV/8AAAAASUVORK5CYII=\n",
       "\" style=\"display:inline;vertical-align:middle;\" /></a></td></tr>\n",
       "<tr><td>5</td><td>Literal</td><td></td><td><a class=\"ProveItLink\" href=\"../../../../number/addition/__pv_it/65ad7e8aee19b10110d590375ba95a879c4fb7ea0/expr.ipynb\"><img src=\"data:image/png;base64,iVBORw0KGgoAAAANSUhEUgAAAA4AAAAOBAMAAADtZjDiAAAAHlBMVEX///9UVFQQEBAiIiJmZmaI\n",
       "iIiqqqqYmJi6uroAAAAAFVhYAAAAAXRSTlMAQObYZgAAAAlwSFlzAAAOxAAADsQBlSsOGwAAAB9J\n",
       "REFUCNdjYGBgaGeAgFRiaGdjYyVjY0Oi1SPRIHsAgDEGyG9xCpgAAAAASUVORK5CYII=\n",
       "\" style=\"display:inline;vertical-align:middle;\" /></a></td></tr>\n",
       "<tr><td>6</td><td>ExprTuple</td><td>7, 8</td><td><a class=\"ProveItLink\" href=\"../96398f6bc444f47157bcab89f8e07b93b246d31e0/expr.ipynb\"><img src=\"data:image/png;base64,iVBORw0KGgoAAAANSUhEUgAAADsAAAAVBAMAAAAKrYvGAAAAMFBMVEX////MzMxUVFREREQiIiK6\n",
       "uroQEBCYmJhmZmYyMjLu7u52dnaqqqqIiIjc3NwAAACFAiZ1AAAAAXRSTlMAQObYZgAAAAlwSFlz\n",
       "AAAOxAAADsQBlSsOGwAAASFJREFUKM9jYGB4wIADgCV4D+CSjgURpxkYFqdgyjFagTVyTQCyZ2BK\n",
       "8wLFZzEwcBQA2X+wm17BwMAGpFh/YZdmW8AQCaS4E7BLcxYwdIMoBZ4bC1Bl1l4GaVNgmA6k1hec\n",
       "eVaAKt3ABhRgn8DgA2Sff3pAEjVw2B/wA33F48CQCuS0FcKEV7qAgCNIC9A2xg9gac9uAQxntYB8\n",
       "lMAwBxgyX1k/Ykh7M4ANtwVa9IHrDy8DA4rb+b6CXGDAsImBgcmA6yM3A9dPFLd9ABIcFxhCGBiY\n",
       "DzDcuMXA4IKsnckASLA8YGCBu4oHWZrtApB4AjSlASbCjaT3QD1IbTsQ28HDESEtfwAUWnwgCxbD\n",
       "xJCCleNGAJBkBpnAV4ArMdUxMAAAZtJAo2KWrtgAAAAASUVORK5CYII=\n",
       "\" style=\"display:inline;vertical-align:middle;\" /></a></td></tr>\n",
       "<tr><td>7</td><td>Variable</td><td></td><td><a class=\"ProveItLink\" href=\"../../../../__pv_it/273f49450ca25e1b56abbd98a7aef618f8f6c1360/expr.ipynb\"><img src=\"data:image/png;base64,iVBORw0KGgoAAAANSUhEUgAAAAoAAAAOBAMAAADkjZCYAAAAMFBMVEX////MzMzc3NyYmJiIiIhU\n",
       "VFR2dna6urqqqqpmZmYyMjIiIiIQEBBERETu7u4AAADM1VnsAAAAAXRSTlMAQObYZgAAAAlwSFlz\n",
       "AAAOxAAADsQBlSsOGwAAAE9JREFUCNdj4LuzgQEIuCaASP4GEFn/AETmgAiGpQwt8xj4PnM0HWbg\n",
       "+FTBuIiB87AAUJh7ZSKQfF9QD+TYM7xvcGCIZXgvkMBwg4FlygMA76IUkutkA5UAAAAASUVORK5C\n",
       "YII=\n",
       "\" style=\"display:inline;vertical-align:middle;\" /></a></td></tr>\n",
       "<tr><td>8</td><td>Operation</td><td>operator:&nbsp;9<br>operand:&nbsp;10<br></td><td><a class=\"ProveItLink\" href=\"../50bcc0671c1f2d3ebf951d41bf5acaafeedeaa480/expr.ipynb\"><img src=\"data:image/png;base64,iVBORw0KGgoAAAANSUhEUgAAABgAAAASBAMAAACzwgOtAAAAMFBMVEX///9UVFS6urp2dnaqqqrc\n",
       "3NyYmJgQEBBmZmaIiIhERETMzMwiIiIyMjLu7u4AAAA5KYoZAAAAAXRSTlMAQObYZgAAAAlwSFlz\n",
       "AAAOxAAADsQBlSsOGwAAAFNJREFUCNdjYIAD7nUINgPnBQZSwctZSJwG9gQ4my2A34Hh7RkQOA3k\n",
       "+j9AUteDbMJhJDbrJyQO2wckDuMCJA77BIS4Qz7C5P0ORxCKOGYoMDAAAAwPFAzA0IWkAAAAAElF\n",
       "TkSuQmCC\n",
       "\" style=\"display:inline;vertical-align:middle;\" /></a></td></tr>\n",
       "<tr><td>9</td><td>Literal</td><td></td><td><a class=\"ProveItLink\" href=\"../../../../number/negation/__pv_it/2867787e35502987d81a45cac8e7f1c6996d6ff40/expr.ipynb\"><img src=\"data:image/png;base64,iVBORw0KGgoAAAANSUhEUgAAAA4AAAABBAMAAAAcMII3AAAAElBMVEX////MzMwiIiIyMjLu7u4A\n",
       "AADe/Ps1AAAAAXRSTlMAQObYZgAAAAlwSFlzAAAOxAAADsQBlSsOGwAAAA1JREFUCNdjcFYCAUUA\n",
       "BKYBD24TAeoAAAAASUVORK5CYII=\n",
       "\" style=\"display:inline;vertical-align:middle;\" /></a></td></tr>\n",
       "<tr><td>10</td><td>Variable</td><td></td><td><a class=\"ProveItLink\" href=\"../../../../__pv_it/6a5b5879f51878868f626bf09e4d76392d4779cd0/expr.ipynb\"><img src=\"data:image/png;base64,iVBORw0KGgoAAAANSUhEUgAAAAoAAAASBAMAAACQmVJ4AAAAMFBMVEX///9UVFS6urp2dnYiIiKq\n",
       "qqrc3NyYmJgQEBBmZmYyMjKIiIju7u5ERETMzMwAAAC4hZuzAAAAAXRSTlMAQObYZgAAAAlwSFlz\n",
       "AAAOxAAADsQBlSsOGwAAAEtJREFUCNdjYGBg4LsDJBi4FzBgA6f3gsgJHAUMDOwJ/AEgTvwBEDkF\n",
       "LO0MItg+gUj2DyCS8QKI5NgAZAXUAxW+D3AF8jl3KjAwAACAGg5QwkhbIAAAAABJRU5ErkJggg==\n",
       "\" style=\"display:inline;vertical-align:middle;\" /></a></td></tr>\n",
       "</table>\n"
      ],
      "text/plain": [
       "0. (k - j) in Naturals\n",
       "   core type: Operation\n",
       "   operator: 1\n",
       "   operands: 2\n",
       "1. in\n",
       "   core type: Literal\n",
       "   sub-expressions: \n",
       "2. (k - j , Naturals)\n",
       "   core type: ExprTuple\n",
       "   sub-expressions: 3, 4\n",
       "3. k - j\n",
       "   core type: Operation\n",
       "   operator: 5\n",
       "   operands: 6\n",
       "4. Naturals\n",
       "   core type: Literal\n",
       "   sub-expressions: \n",
       "5. +\n",
       "   core type: Literal\n",
       "   sub-expressions: \n",
       "6. (k , -j)\n",
       "   core type: ExprTuple\n",
       "   sub-expressions: 7, 8\n",
       "7. k\n",
       "   core type: Variable\n",
       "   sub-expressions: \n",
       "8. -j\n",
       "   core type: Operation\n",
       "   operator: 9\n",
       "   operand: 10\n",
       "9. -\n",
       "   core type: Literal\n",
       "   sub-expressions: \n",
       "10. j\n",
       "    core type: Variable\n",
       "    sub-expressions: "
      ]
     },
     "execution_count": 5,
     "metadata": {},
     "output_type": "execute_result"
    }
   ],
   "source": [
    "# display the expression information\n",
    "expr.exprInfo()"
   ]
  },
  {
   "cell_type": "code",
   "execution_count": null,
   "metadata": {},
   "outputs": [],
   "source": []
  }
 ],
 "metadata": {
  "kernelspec": {
   "display_name": "Python 3",
   "language": "python",
   "name": "python3"
  },
  "language_info": {
   "codemirror_mode": {
    "name": "ipython",
    "version": 3
   },
   "file_extension": ".py",
   "mimetype": "text/x-python",
   "name": "python",
   "nbconvert_exporter": "python",
   "pygments_lexer": "ipython3",
   "version": "3.7.4"
  }
 },
 "nbformat": 4,
 "nbformat_minor": 1
}
