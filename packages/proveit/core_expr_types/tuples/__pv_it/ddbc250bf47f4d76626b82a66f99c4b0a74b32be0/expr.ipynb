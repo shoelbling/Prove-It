{
 "cells": [
  {
   "cell_type": "markdown",
   "metadata": {},
   "source": [
    "Expression of type <a class=\"ProveItLink\" href=\"../../../../../../doc/html/api/proveit.logic.Equals.html\">Equals</a>\n",
    "=======================\n",
    "# from context <a class=\"ProveItLink\" href=\"../../_context_.ipynb\">proveit.core_expr_types.tuples</a>"
   ]
  },
  {
   "cell_type": "code",
   "execution_count": 1,
   "metadata": {},
   "outputs": [],
   "source": [
    "import proveit\n",
    "# Automation is not needed when building an expression:\n",
    "proveit.defaults.automation = False # This will speed things up.\n",
    "# import Expression classes needed to build the expression\n",
    "from proveit import IndexedVar, Variable\n",
    "from proveit.logic import Equals"
   ]
  },
  {
   "cell_type": "code",
   "execution_count": 2,
   "metadata": {},
   "outputs": [
    {
     "data": {
      "text/html": [
       "<strong id=\"expr\">expr:</strong> <a class=\"ProveItLink\" href=\"expr.ipynb\"><img src=\"data:image/png;base64,iVBORw0KGgoAAAANSUhEUgAAAEEAAAARBAMAAABwV9yBAAAAMFBMVEX////MzMxUVFQyMjKqqqoi\n",
       "IiKYmJju7u5EREQQEBC6urqIiIh2dnZmZmbc3NwAAAD0tjQRAAAAAXRSTlMAQObYZgAAAAlwSFlz\n",
       "AAAOxAAADsQBlSsOGwAAALtJREFUKM9jYMAB2DsDGAgA5guEVPA7EFKxvoCQiqNwFt+dfRuwqTDa\n",
       "fQXKWvmA4ztMlDcUDBRAfvlcUP8A4qtpDLzY/MXynYEfYjbvdwbWA1hU8Bow1EPEORsY6hdgD471\n",
       "EP8CFeYDqdPZaO7gT2C4XwAWrndgaGZ5wLpAEj3AFgBdCBZm3sAWy8Nwg6EQTQVTAscFiDC79sFH\n",
       "GxmmYMbcbWBwIAn/wx6uSMJWDDzYVCAJv03bjk0FSBgAtTU2vjk8mBQAAAAASUVORK5CYII=\n",
       "\" style=\"display:inline;vertical-align:middle;\" /></a><br>"
      ],
      "text/plain": [
       "expr: a_{c} = b_{c}"
      ]
     },
     "execution_count": 2,
     "metadata": {},
     "output_type": "execute_result"
    }
   ],
   "source": [
    "# build up the expression from sub-expressions\n",
    "subExpr1 = Variable(\"c\")\n",
    "expr = Equals(IndexedVar(Variable(\"a\"), subExpr1), IndexedVar(Variable(\"b\"), subExpr1))"
   ]
  },
  {
   "cell_type": "code",
   "execution_count": 3,
   "metadata": {},
   "outputs": [
    {
     "name": "stdout",
     "output_type": "stream",
     "text": [
      "Passed sanity check: built 'expr' is the same as the stored Expression.\n"
     ]
    }
   ],
   "source": [
    "# check that the built expression is the same as the stored expression\n",
    "%check_expr"
   ]
  },
  {
   "cell_type": "code",
   "execution_count": 4,
   "metadata": {},
   "outputs": [
    {
     "name": "stdout",
     "output_type": "stream",
     "text": [
      "a_{c} = b_{c}\n"
     ]
    }
   ],
   "source": [
    "# Show the LaTeX representation of the expression for convenience if you need it.\n",
    "print(expr.latex())"
   ]
  },
  {
   "cell_type": "code",
   "execution_count": 5,
   "metadata": {},
   "outputs": [
    {
     "data": {
      "text/html": [
       "<table><tr><th>&nbsp;</th><th>core type</th><th>sub-expressions</th><th>expression</th></tr>\n",
       "<tr><td>0</td><td>Operation</td><td>operator:&nbsp;1<br>operands:&nbsp;2<br></td><td><a class=\"ProveItLink\" href=\"expr.ipynb\"><img src=\"data:image/png;base64,iVBORw0KGgoAAAANSUhEUgAAAEEAAAARBAMAAABwV9yBAAAAMFBMVEX////MzMxUVFQyMjKqqqoi\n",
       "IiKYmJju7u5EREQQEBC6urqIiIh2dnZmZmbc3NwAAAD0tjQRAAAAAXRSTlMAQObYZgAAAAlwSFlz\n",
       "AAAOxAAADsQBlSsOGwAAALtJREFUKM9jYMAB2DsDGAgA5guEVPA7EFKxvoCQiqNwFt+dfRuwqTDa\n",
       "fQXKWvmA4ztMlDcUDBRAfvlcUP8A4qtpDLzY/MXynYEfYjbvdwbWA1hU8Bow1EPEORsY6hdgD471\n",
       "EP8CFeYDqdPZaO7gT2C4XwAWrndgaGZ5wLpAEj3AFgBdCBZm3sAWy8Nwg6EQTQVTAscFiDC79sFH\n",
       "GxmmYMbcbWBwIAn/wx6uSMJWDDzYVCAJv03bjk0FSBgAtTU2vjk8mBQAAAAASUVORK5CYII=\n",
       "\" style=\"display:inline;vertical-align:middle;\" /></a></td></tr>\n",
       "<tr><td>1</td><td>Literal</td><td></td><td><a class=\"ProveItLink\" href=\"../../../../logic/equality/__pv_it/e16d2caa26a16688b658bdb9c422caf4b84579e10/expr.ipynb\"><img src=\"data:image/png;base64,iVBORw0KGgoAAAANSUhEUgAAAA4AAAAFBAMAAACHocAhAAAAD1BMVEX///9UVFQiIiJmZmYAAACP\n",
       "OqLZAAAAAXRSTlMAQObYZgAAAAlwSFlzAAAOxAAADsQBlSsOGwAAABJJREFUCNdjMFICAUUGXAAq\n",
       "DwAoFgH7Aeay4gAAAABJRU5ErkJggg==\n",
       "\" style=\"display:inline;vertical-align:middle;\" /></a></td></tr>\n",
       "<tr><td>2</td><td>ExprTuple</td><td>3, 4</td><td><a class=\"ProveItLink\" href=\"../72e4042585403dd0b5e497fa869f87b6deeee7fc0/expr.ipynb\"><img src=\"data:image/png;base64,iVBORw0KGgoAAAANSUhEUgAAADoAAAAVBAMAAADlb+D4AAAAMFBMVEX////MzMxUVFREREQiIiK6\n",
       "uroQEBCYmJhmZmYyMjLu7u52dnaqqqqIiIjc3NwAAACFAiZ1AAAAAXRSTlMAQObYZgAAAAlwSFlz\n",
       "AAAOxAAADsQBlSsOGwAAATFJREFUKM9jYGB4wIAd8IEI3gM4ZFkvAInTaIJcZg5Q1h0gZwK6Hs4G\n",
       "GGMBA0cBuiw/zCr2BgY2DPviF8BYWQyRGLJb4KzpDN0gt3ffu4CQnXS3B8raBJRnYAh7wPwL4eaf\n",
       "C9ZDg6CSwQfIT2fgcIDL8vxi4IeadIQhlYGB4xcDywa4LMcEhvVQnjxIls2AYX0AsnfjoX4KY5jD\n",
       "AFJaD2TvrYV4t4ChfwGEc4TBFih7gMGS5wFLgBgDF0g2AOgOEIeBoRjoagbOC+we3AzNDAsZ1gOD\n",
       "lamAuQHMYWDoZQgBull346OLDDlALosXkNcL9G4O2BI/BhYBqGv+gYhTyBw+B1BQQ8BUBm4Ghg3I\n",
       "HFAE2UEFXpTfYuC6gMRheAxkLEaKAHaU6LACmV6AI+WwP2AAAPqQSmM8MRH8AAAAAElFTkSuQmCC\n",
       "\" style=\"display:inline;vertical-align:middle;\" /></a></td></tr>\n",
       "<tr><td>3</td><td>IndexedVar</td><td>variable:&nbsp;5<br>index:&nbsp;7<br></td><td><a class=\"ProveItLink\" href=\"../04ab329960ed2aed21405936b4778ec83e6e084a0/expr.ipynb\"><img src=\"data:image/png;base64,iVBORw0KGgoAAAANSUhEUgAAABMAAAAMBAMAAABy/puxAAAAMFBMVEX////MzMxUVFQyMjKqqqoi\n",
       "IiKYmJju7u5EREQQEBC6urqIiIh2dnZmZmbc3NwAAAD0tjQRAAAAAXRSTlMAQObYZgAAAAlwSFlz\n",
       "AAAOxAAADsQBlSsOGwAAAGBJREFUCNdjYOC7s28DAwSsfMDxHcJin8bAGwBh8n5nYD0AYXI2MNQv\n",
       "gDDrDzDkA6nT2UCmA0MzywPWBZIMDMwb2GJ5GG4wFAJN0D74aCPDFAY4+IdgWjHwwJhv07YzAACN\n",
       "kBfngFFj9wAAAABJRU5ErkJggg==\n",
       "\" style=\"display:inline;vertical-align:middle;\" /></a></td></tr>\n",
       "<tr><td>4</td><td>IndexedVar</td><td>variable:&nbsp;6<br>index:&nbsp;7<br></td><td><a class=\"ProveItLink\" href=\"../88819d6392db95f1d59bc8abf90216d7f6c9e0440/expr.ipynb\"><img src=\"data:image/png;base64,iVBORw0KGgoAAAANSUhEUgAAABEAAAARBAMAAADJQ1rJAAAAMFBMVEX////MzMyYmJjc3NyIiIhU\n",
       "VFR2dna6urqqqqpmZmYyMjIiIiIQEBBERETu7u4AAACIO4EmAAAAAXRSTlMAQObYZgAAAAlwSFlz\n",
       "AAAOxAAADsQBlSsOGwAAAGtJREFUCNdj4LuzgQEKuCbAWPwNMFb9AxgrG8ZgWOoyA8Lg+/XgvQGY\n",
       "xfGPgd8BzOJcwPA+AWZcPcQcfgWG+Q8YUlSArAK+QwzcBTIMDKwKvBMY5jI8BJoyBWjcCbjpn+Gs\n",
       "5QxsUJalkh8DABEXGKNxdSKBAAAAAElFTkSuQmCC\n",
       "\" style=\"display:inline;vertical-align:middle;\" /></a></td></tr>\n",
       "<tr><td>5</td><td>Variable</td><td></td><td><a class=\"ProveItLink\" href=\"../a8d4b3a34d2189508f9082853fbac36935714f280/expr.ipynb\"><img src=\"data:image/png;base64,iVBORw0KGgoAAAANSUhEUgAAAAsAAAAJBAMAAAAWSsseAAAAMFBMVEX////MzMxUVFQyMjKqqqoi\n",
       "IiKYmJju7u5EREQQEBC6urqIiIh2dnZmZmbc3NwAAAD0tjQRAAAAAXRSTlMAQObYZgAAAAlwSFlz\n",
       "AAAOxAAADsQBlSsOGwAAAEdJREFUCNdjYOC7s28DAwPDygcc3xkY2Kcx8AYwMPB+Z2A9wMDA2cBQ\n",
       "v4CBof4AQz5QRb0DQzPLAwbmDWyxPECV2gcfbWQAABp5EMgcedARAAAAAElFTkSuQmCC\n",
       "\" style=\"display:inline;vertical-align:middle;\" /></a></td></tr>\n",
       "<tr><td>6</td><td>Variable</td><td></td><td><a class=\"ProveItLink\" href=\"../53e304ff98ebc000dbe3ef224f4637dbafd46ba70/expr.ipynb\"><img src=\"data:image/png;base64,iVBORw0KGgoAAAANSUhEUgAAAAkAAAAOBAMAAAAPuiubAAAALVBMVEX///+YmJjc3NyIiIhUVFR2\n",
       "dna6urqqqqpmZmYyMjIiIiIQEBBERETu7u4AAAALjtrwAAAAAXRSTlMAQObYZgAAAAlwSFlzAAAO\n",
       "xAAADsQBlSsOGwAAAE5JREFUCNdj4D29gAEIOBtAJF8BiMy7ACKjQATDFON2BgbelxfuKTCwv2Xg\n",
       "M2DgmMBwLwCkPK+AgU+Aoe8CA18C70YGBhYBHqARvM1A5QCqGhDobJhHyAAAAABJRU5ErkJggg==\n",
       "\" style=\"display:inline;vertical-align:middle;\" /></a></td></tr>\n",
       "<tr><td>7</td><td>Variable</td><td></td><td><a class=\"ProveItLink\" href=\"../b2b446b221a34ee579eb9a1fbdd4ac4e2891d8c70/expr.ipynb\"><img src=\"data:image/png;base64,iVBORw0KGgoAAAANSUhEUgAAAAkAAAAJBAMAAAASvxsjAAAAKlBMVEX///+6urqYmJju7u4QEBBE\n",
       "RERmZmaqqqoiIiLc3NzMzMyIiIh2dnYAAACSkFDuAAAAAXRSTlMAQObYZgAAAAlwSFlzAAAOxAAA\n",
       "DsQBlSsOGwAAADhJREFUCNdjYGA4vWcBA8OMArYABoYeBpYNDGyXGYCAJQBE2h4AkbwKDAwCDGwJ\n",
       "DDxAlWd2b2YAACirCnk+94p2AAAAAElFTkSuQmCC\n",
       "\" style=\"display:inline;vertical-align:middle;\" /></a></td></tr>\n",
       "</table>\n"
      ],
      "text/plain": [
       "0. a_{c} = b_{c}\n",
       "   core type: Operation\n",
       "   operator: 1\n",
       "   operands: 2\n",
       "1. =\n",
       "   core type: Literal\n",
       "   sub-expressions: \n",
       "2. (a_{c} , b_{c})\n",
       "   core type: ExprTuple\n",
       "   sub-expressions: 3, 4\n",
       "3. a_{c}\n",
       "   core type: IndexedVar\n",
       "variable: 5\n",
       "index: 7\n",
       "4. b_{c}\n",
       "   core type: IndexedVar\n",
       "variable: 6\n",
       "index: 7\n",
       "5. a\n",
       "   core type: Variable\n",
       "   sub-expressions: \n",
       "6. b\n",
       "   core type: Variable\n",
       "   sub-expressions: \n",
       "7. c\n",
       "   core type: Variable\n",
       "   sub-expressions: "
      ]
     },
     "execution_count": 5,
     "metadata": {},
     "output_type": "execute_result"
    }
   ],
   "source": [
    "# display the expression information\n",
    "expr.exprInfo()"
   ]
  },
  {
   "cell_type": "code",
   "execution_count": null,
   "metadata": {},
   "outputs": [],
   "source": []
  }
 ],
 "metadata": {
  "kernelspec": {
   "display_name": "Python 3",
   "language": "python",
   "name": "python3"
  },
  "language_info": {
   "codemirror_mode": {
    "name": "ipython",
    "version": 3
   },
   "file_extension": ".py",
   "mimetype": "text/x-python",
   "name": "python",
   "nbconvert_exporter": "python",
   "pygments_lexer": "ipython3",
   "version": "3.7.4"
  }
 },
 "nbformat": 4,
 "nbformat_minor": 1
}
