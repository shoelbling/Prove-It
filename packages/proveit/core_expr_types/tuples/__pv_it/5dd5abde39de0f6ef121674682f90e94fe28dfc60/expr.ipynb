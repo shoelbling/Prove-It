{
 "cells": [
  {
   "cell_type": "markdown",
   "metadata": {},
   "source": [
    "Expression of type <a class=\"ProveItLink\" href=\"../../../../../../doc/html/api/proveit.logic.Equals.html\">Equals</a>\n",
    "=======================\n",
    "# from context <a class=\"ProveItLink\" href=\"../../_context_.ipynb\">proveit.core_expr_types.tuples</a>"
   ]
  },
  {
   "cell_type": "code",
   "execution_count": 1,
   "metadata": {},
   "outputs": [],
   "source": [
    "import proveit\n",
    "# Automation is not needed when building an expression:\n",
    "proveit.defaults.automation = False # This will speed things up.\n",
    "# import Expression classes needed to build the expression\n",
    "from proveit import ExprRange, Len\n",
    "from proveit._common_ import a, fa, i\n",
    "from proveit.logic import Equals\n",
    "from proveit.number import one"
   ]
  },
  {
   "cell_type": "code",
   "execution_count": 2,
   "metadata": {},
   "outputs": [
    {
     "data": {
      "text/html": [
       "<strong id=\"expr\">expr:</strong> <a class=\"ProveItLink\" href=\"../d5d95aee28bec46189543674b7a52b316c2a72b50/expr.ipynb\"><img src=\"data:image/png;base64,iVBORw0KGgoAAAANSUhEUgAAAMcAAAAVBAMAAAAA3efRAAAAMFBMVEX///9UVFREREQiIiIQEBCY\n",
       "mJhmZmYyMjLu7u6qqqrMzMyIiIi6urp2dnbc3NwAAABm9RoHAAAAAXRSTlMAQObYZgAAAAlwSFlz\n",
       "AAAOxAAADsQBlSsOGwAAAidJREFUSMeNVTEvBEEY/WIdd9xyUShUyksuEXKJREEkGhKJo6ATCpVI\n",
       "TiGhstEqSLSExA+guoRGQaJQiGgUig1RqFwnaMz3vtnZtcO4Sd637968nbc3MztLIaHpS4J3UGMt\n",
       "jEpoDWTaI2r7bqxonj9tKEPcNxrReL+GHKCuPET8OCA6+2f42F1DlMTZITUtZqtc/Z4J4dnuTRXS\n",
       "GjgzjJtomGidBL+EDGuxpcK1eb8Y8QsVkFlwhiTcqs1qOKarGfQ2MJxDaNwZknDzNRA4Qq5B78lw\n",
       "hKw5QxJu1VorAkfICpfpsW7DEXLnyojd2Zrah35BYIWgF6I88xcZjpA55z8xbj8/qhawKtBrXEbj\n",
       "UPRCHMLb90mGI2TPlRG7X1vU4Ll+gfVP0AtxkkuuToYj5MQVEruDTjUhbXWBFYLeOMTvT4VcOV+T\n",
       "2H2ozDwpDHvhuRfiBpemAhn+/3Ql3KuUnq7EmqAXYglbXQ6rkgmZwd+1hhcldmc/fLXovQJ7d3Ev\n",
       "RGzWtyMyHCHL7HlXZaeaJkl3vv6inv1UYIWgF+IlJk9U5l1TA+qGEf5ZVnEeHzCDpEk5SLlL6iX0\n",
       "QoG9JtwL0ePHWhTRO4o2KZY2Z82XKCn3s4bjjVdnYa6wIYI5F+Xs8+19xUFp95KG63vSR16xqpU+\n",
       "fX1C3bbuYCXt7ugVOEO2KFOLPpxb+lpErVh3sJJ2NwWCP0LO5UkSY2meCRv6/Ip7XiMa72f7Btix\n",
       "sOBaH1LhAAAAAElFTkSuQmCC\n",
       "\" style=\"display:inline;vertical-align:middle;\" /></a><br>"
      ],
      "text/plain": [
       "expr: |(f(1) ,  ...  , f(i))| = i"
      ]
     },
     "execution_count": 2,
     "metadata": {},
     "output_type": "execute_result"
    }
   ],
   "source": [
    "# build up the expression from sub-expressions\n",
    "expr = Equals(Len([ExprRange(a, fa, one, i)]), i)"
   ]
  },
  {
   "cell_type": "code",
   "execution_count": 3,
   "metadata": {},
   "outputs": [
    {
     "name": "stdout",
     "output_type": "stream",
     "text": [
      "Passed sanity check: built 'expr' is the same as the stored Expression.\n"
     ]
    }
   ],
   "source": [
    "# check that the built expression is the same as the stored expression\n",
    "%check_expr"
   ]
  },
  {
   "cell_type": "code",
   "execution_count": 4,
   "metadata": {},
   "outputs": [
    {
     "name": "stdout",
     "output_type": "stream",
     "text": [
      "|\\left(f\\left(1\\right) , \\ldots , f\\left(i\\right)\\right)| = i\n"
     ]
    }
   ],
   "source": [
    "# Show the LaTeX representation of the expression for convenience if you need it.\n",
    "print(expr.latex())"
   ]
  },
  {
   "cell_type": "code",
   "execution_count": 5,
   "metadata": {},
   "outputs": [
    {
     "data": {
      "text/html": [
       "<table><tr><th>&nbsp;</th><th>core type</th><th>sub-expressions</th><th>expression</th></tr>\n",
       "<tr><td>0</td><td>Operation</td><td>operator:&nbsp;1<br>operands:&nbsp;2<br></td><td><a class=\"ProveItLink\" href=\"../d5d95aee28bec46189543674b7a52b316c2a72b50/expr.ipynb\"><img src=\"data:image/png;base64,iVBORw0KGgoAAAANSUhEUgAAAMcAAAAVBAMAAAAA3efRAAAAMFBMVEX///9UVFREREQiIiIQEBCY\n",
       "mJhmZmYyMjLu7u6qqqrMzMyIiIi6urp2dnbc3NwAAABm9RoHAAAAAXRSTlMAQObYZgAAAAlwSFlz\n",
       "AAAOxAAADsQBlSsOGwAAAidJREFUSMeNVTEvBEEY/WIdd9xyUShUyksuEXKJREEkGhKJo6ATCpVI\n",
       "TiGhstEqSLSExA+guoRGQaJQiGgUig1RqFwnaMz3vtnZtcO4Sd637968nbc3MztLIaHpS4J3UGMt\n",
       "jEpoDWTaI2r7bqxonj9tKEPcNxrReL+GHKCuPET8OCA6+2f42F1DlMTZITUtZqtc/Z4J4dnuTRXS\n",
       "GjgzjJtomGidBL+EDGuxpcK1eb8Y8QsVkFlwhiTcqs1qOKarGfQ2MJxDaNwZknDzNRA4Qq5B78lw\n",
       "hKw5QxJu1VorAkfICpfpsW7DEXLnyojd2Zrah35BYIWgF6I88xcZjpA55z8xbj8/qhawKtBrXEbj\n",
       "UPRCHMLb90mGI2TPlRG7X1vU4Ll+gfVP0AtxkkuuToYj5MQVEruDTjUhbXWBFYLeOMTvT4VcOV+T\n",
       "2H2ozDwpDHvhuRfiBpemAhn+/3Ql3KuUnq7EmqAXYglbXQ6rkgmZwd+1hhcldmc/fLXovQJ7d3Ev\n",
       "RGzWtyMyHCHL7HlXZaeaJkl3vv6inv1UYIWgF+IlJk9U5l1TA+qGEf5ZVnEeHzCDpEk5SLlL6iX0\n",
       "QoG9JtwL0ePHWhTRO4o2KZY2Z82XKCn3s4bjjVdnYa6wIYI5F+Xs8+19xUFp95KG63vSR16xqpU+\n",
       "fX1C3bbuYCXt7ugVOEO2KFOLPpxb+lpErVh3sJJ2NwWCP0LO5UkSY2meCRv6/Ip7XiMa72f7Btix\n",
       "sOBaH1LhAAAAAElFTkSuQmCC\n",
       "\" style=\"display:inline;vertical-align:middle;\" /></a></td></tr>\n",
       "<tr><td>1</td><td>Literal</td><td></td><td><a class=\"ProveItLink\" href=\"../../../../logic/equality/__pv_it/e16d2caa26a16688b658bdb9c422caf4b84579e10/expr.ipynb\"><img src=\"data:image/png;base64,iVBORw0KGgoAAAANSUhEUgAAAA4AAAAFBAMAAACHocAhAAAAD1BMVEX///9UVFQiIiJmZmYAAACP\n",
       "OqLZAAAAAXRSTlMAQObYZgAAAAlwSFlzAAAOxAAADsQBlSsOGwAAABJJREFUCNdjMFICAUUGXAAq\n",
       "DwAoFgH7Aeay4gAAAABJRU5ErkJggg==\n",
       "\" style=\"display:inline;vertical-align:middle;\" /></a></td></tr>\n",
       "<tr><td>2</td><td>ExprTuple</td><td>3, 10</td><td><a class=\"ProveItLink\" href=\"../20148f16fc68f2ad3b04ca015050dbc7ca11cecd0/expr.ipynb\"><img src=\"data:image/png;base64,iVBORw0KGgoAAAANSUhEUgAAAMIAAAAVBAMAAADm9CyVAAAAMFBMVEX////MzMxUVFREREQiIiK6\n",
       "uroQEBCYmJhmZmYyMjLu7u52dnaqqqqIiIjc3NwAAACFAiZ1AAAAAXRSTlMAQObYZgAAAAlwSFlz\n",
       "AAAOxAAADsQBlSsOGwAAAm5JREFUSMeNVT1oFFEQnng/+3N7aypbr7ITDgsLQbkYCxERIRKwENPY\n",
       "iMKBjRbKdRIkct2BWCyxSnHkCKayOSSVFiaVTYoFBUsVbAwIzsz73r69W3jcHLN8++2379udNztH\n",
       "RDn/JFJyAZzTQpHaQ+U2JdpT2tez49I9wPcWc1B149Akx35xRYnPYJKJHMMPGfDSDXX3hlO3B+pz\n",
       "PONgyHgIZkfJvTNTg7c3Txi88TsUaqpPKGI3SedgyLAP5qWSj9Yy4LY4PPU7ODVHMDBZrpIQTcts\n",
       "aN1OyGJ1aGY+g5Ja4iGy7MDEXTCNoZy3emSxOkR9n0NJLTFCzjiM6BWYUDY6OHd1YLE6tDoeg5J6\n",
       "vCW7grQOIEdgzNOe1nZTrA7B0PcOTj1ZZ/AMaR1A3gRT18b8uUwWq0PS8zkU6nS6yeAACQdLPgDT\n",
       "vC3sF72mWB2WfvkcCnVM/xicRcLBkrMO7+ccGhs+B6dORLyOtFUC+dbug1bpgl6KFqySU0edapUs\n",
       "eRlMTXftsV5SbHa6q69bCfOZOPXulBvqCZmU9UQAcg8O2pfpb9PnHesQitcuN1T8twz0UFbfT7mh\n",
       "pDm3jIMKQN6xX5zUIzEbK/jUxT/nuU9kENd5BtJ1AQMAupbNqmtfGdxCynoiAFlfRt1W5JHxga3Y\n",
       "anzX46dKlZKsqk57JnW9JCtImVXqwEPuY4RpXQw8M9Qm1XlBVbXM0LAPhxY58gocajmt7oCv4V8q\n",
       "7WpjH1Ycxpzz6m9IXW+Ma0K8g0Pcpeevwcdd3KvvGlR7SR51Xn0JqevZiSkEb/iRnvworQD8YrF/\n",
       "UVUHuUmOIzccc/oP37bNQVjXDZAAAAAASUVORK5CYII=\n",
       "\" style=\"display:inline;vertical-align:middle;\" /></a></td></tr>\n",
       "<tr><td>3</td><td>Operation</td><td>operator:&nbsp;4<br>operand:&nbsp;6<br></td><td><a class=\"ProveItLink\" href=\"../fb8477b1f5c75f6e408e0e46a0dddd7215c79d3b0/expr.ipynb\"><img src=\"data:image/png;base64,iVBORw0KGgoAAAANSUhEUgAAAKIAAAAVBAMAAAA3EyjlAAAAMFBMVEX///9UVFREREQiIiIQEBCY\n",
       "mJhmZmYyMjLu7u6qqqrMzMyIiIi6urp2dnbc3NwAAABm9RoHAAAAAXRSTlMAQObYZgAAAAlwSFlz\n",
       "AAAOxAAADsQBlSsOGwAAAf1JREFUOMuNlTFIw0AUhp9t0yS2jR3cXCo4OFYFkQ7SUXEpDjoI0kUc\n",
       "BOkiOMbJoUMrLm46uOviUCcRNwcrrhWK4qzgoOjie+/eXWIDRx/8lz/w5+Pu3vUKfaAKICrxfRiq\n",
       "Aj2Yz3r87MQy4u+HI3I6f6mE1VNEv0tj9jkUP7oAkGvbUVE6V2duJ0485JfH87byB9vfaPbtRJOG\n",
       "dBdcpJMMcYszy7eh+BwR1+zEKI3l1JUMscqb8Q3aMzET2oCxNNWSSIj5BvlCGbRnoluzEWNpqj2R\n",
       "ELPUGGd8pq49EwtFCzCWbu7QroqEqGYzxu1nz0SnYZtjlO7eoVkXCTHNB+X9DLRnol+2EU06aG+j\n",
       "ORYJMXND/pST7Jk4+mEjmrQHv2guRP+ITwPEfNVGjNI+he9Eeh951ZOccYdcdZR2i8lVp3iXVzjD\n",
       "XnWmhIOXZKljGqVbbWz4KigJkc9J8KPOWVETs8RuYcO9LzHRWzz9EGDD6QTtxE44rc9XjSA/MvU5\n",
       "gX2k+yyNdwbMk6nrYS78n05doVkU6V9hhaYkB7qiV/fK40li1X6YTAdlJUPES+HIldvLXBDqEugm\n",
       "f3+QTGdrSoaY6sPsoXyQkss7oMaAd5kgNlGD6ReRIXol2NiVjFeSLPfUSfaapjKYnhYR8Zqfb7Ev\n",
       "xG8O96/AaaevhHX9B0m5pt0UT+eMAAAAAElFTkSuQmCC\n",
       "\" style=\"display:inline;vertical-align:middle;\" /></a></td></tr>\n",
       "<tr><td>4</td><td>Literal</td><td></td><td><a class=\"ProveItLink\" href=\"../92831c6291223dfbd76a11e90e750ae52564aa9f0/expr.ipynb\"><img src=\"data:image/png;base64,iVBORw0KGgoAAAANSUhEUgAAADsAAAASBAMAAAAXqLt+AAAAMFBMVEX///+qqqq6urru7u4QEBBE\n",
       "RERUVFTc3NyIiIgyMjJmZmaYmJjMzMwiIiJ2dnYAAACPW0xlAAAAAXRSTlMAQObYZgAAAAlwSFlz\n",
       "AAAOxAAADsQBlSsOGwAAAUNJREFUKM91kD1Lw1AUhp8kNVX7ke4OBgQ3NaOTFURwkg7apUMLIjpm\n",
       "0FWD+NGxozgVHFQEiaNT+wtsNxeRjLbQUiwoYhDPjQ5C2wuXey7POe95z4FOyLBjbDSjN9Ebwp5g\n",
       "ohqFk5VBrEmJlYnClDeIVcmCE4WH9UGcCqDzG9bkLpUvmd85OBUh7frMny3mPS6mTlxB26A/80iw\n",
       "6Rkf0GIvx7S4+3TNkuA10fc5StqrxEO0PpbHjaiEmDlISkWx3LUN403NGMvRcHmJ3MWk1/gyvP8N\n",
       "I+mNDMdIpnKnTI+VHL4VNitYvlNzyaP3cLJ25N3yPaWlEQvEUVDD+CJd0VwZaD3hYM14PGBcKalW\n",
       "ws26Zh+ztKgGCtOy8jvp/1qGOdi/R99tN4kXfArQHbJPUlVGnuQWjfpobK4Y56Mp+m3b/v//AcRT\n",
       "WSEJp2bgAAAAAElFTkSuQmCC\n",
       "\" style=\"display:inline;vertical-align:middle;\" /></a></td></tr>\n",
       "<tr><td>5</td><td>ExprTuple</td><td>6</td><td><a class=\"ProveItLink\" href=\"../0aaceb986d3d3fcc3c45a459ea65355970482bf30/expr.ipynb\"><img src=\"data:image/png;base64,iVBORw0KGgoAAAANSUhEUgAAAJ8AAAAVBAMAAACqHiFtAAAAMFBMVEX////MzMxUVFREREQiIiK6\n",
       "uroQEBCYmJhmZmYyMjLu7u52dnaqqqqIiIjc3NwAAACFAiZ1AAAAAXRSTlMAQObYZgAAAAlwSFlz\n",
       "AAAOxAAADsQBlSsOGwAAAftJREFUOMuNlTFII0EUhn9xY3Q3l7OwN3KNpXUgIscVcoarDiGFaKGN\n",
       "CBe85mxEbCzkIFwTOAIuWIsSrK66QhsttEwhGLgDG8FcKSjce29m36xZGDPwvX0z++fPzOybXQBd\n",
       "GJJm8iIGa90kqM2b34ak2Tx3PZCfUS+lwKUF2P+V9Cdi4OYVK6fu6KSYsGEAoqkNSB5OH5DhWOz1\n",
       "UzWwAPyEMlo3ACPnZdj8lszyO17DlJraN8cIDMCyTElyNsS61zCl5mus1Khbk8FTiTU1bHoNU2pq\n",
       "Y3Vln/eXxzZXp5HkYtj2+Tl12KF6iEpKU+fyLLGphlveGao6yq3QhjeUKg1XpZL/iaSqhmc+P6e+\n",
       "HyWjwpyyRsMMCj2RrKnhpM/QqeO3tOShnqKG0Vyf4aK3DJ36isS8bEuLhhgMl0TSGmzJKfUPvFhy\n",
       "hboVKSVzeCtq+JWz7HEJ8VIdPkX0MGaUdlIgD+Miaavhd/71I4Xjhk20l1bnend0Yq6VzzTM4MpM\n",
       "gPN3X97TzU/c/UDWAR/CedgQfOxTV6igg64S0F8x2DWSYDwpDNn2QnbNF8iq/zr4HUAUSi1zS98J\n",
       "5txH2edxgqx6L8WsEJQbVj9rr38kHmUfCu1Gv7o448ChkO8kX4FDey1LrGcM80yfejh2oFg36KEy\n",
       "eb470CfAqLcd/wHhfqHA5F8vIgAAAABJRU5ErkJggg==\n",
       "\" style=\"display:inline;vertical-align:middle;\" /></a></td></tr>\n",
       "<tr><td>6</td><td>ExprTuple</td><td>7</td><td><a class=\"ProveItLink\" href=\"../fa390d9c1e3ea8c75a3d9bbe9edf30d58892ff860/expr.ipynb\"><img src=\"data:image/png;base64,iVBORw0KGgoAAAANSUhEUgAAAI8AAAAVBAMAAACNsKCFAAAAMFBMVEX////MzMxUVFREREQiIiK6\n",
       "uroQEBCYmJhmZmYyMjLu7u52dnaqqqqIiIjc3NwAAACFAiZ1AAAAAXRSTlMAQObYZgAAAAlwSFlz\n",
       "AAAOxAAADsQBlSsOGwAAAdpJREFUOMuNlD9Iw0AUxp80/ZfE2sHdikvHzoWWIg6ixUmEDqKDXUSw\n",
       "6KKLiItDEYpLQQoGOotSnJwcdNGhHTsIBhRcBOsoKPjeu+slJnD24Ht5d+/LL7nLXQDABa+JPAWj\n",
       "NXcYOBm/9Soyj/ZG4gj3qhQ88mD9ZphPOgBP/yA8d59xJLNBY9b0FnBuZs8RlHS0HOUGWAQ4A1ai\n",
       "RqXYfR5k/oyQ+KEW5HNj2xOKcWeNX4FzAsGmFuRz09VhVbhzzbGiQE0tyOfGlqyx6pTvbGR5DRWo\n",
       "o+N4brOP39fKsMSzfzg2FWhf+0bKbUXXcUEbrDLvwE8ulRXoTsfx3O8JhNglVpXG7AGXqgo0pQN5\n",
       "bmcCpzY2YPHNVikAWtFuI8/dRTNND9WisUiGS63RpuZzn4KaWoG3gjhcBQXapSy8vU346za/LVzo\n",
       "HIs/9EeaSx0FOqG7vjBcNmSien53dPCGO7zHWqaxrngg5TPbs1hYou4cIg06LPMgg7EQcBdwMxou\n",
       "yyD8kSgZ6eEH5uW0w3N7gLD7VQjPp51piSF1VsV5tMLrfAVh97FUEYx8Q/qK8vrC8SK82DjroDuV\n",
       "E4I2xPvDv21bXvMcayFQnBRwRxwhSPn8Mo+7I/1qhftA6BcwwowefdNUNAAAAABJRU5ErkJggg==\n",
       "\" style=\"display:inline;vertical-align:middle;\" /></a></td></tr>\n",
       "<tr><td>7</td><td>ExprRange</td><td>lambda_map:&nbsp;8<br>start_index:&nbsp;9<br>end_index:&nbsp;10<br></td><td><a class=\"ProveItLink\" href=\"../../../__pv_it/9046f00a5d0b611dea2199f4a2d7c05367f25e150/expr.ipynb\"><img src=\"data:image/png;base64,iVBORw0KGgoAAAANSUhEUgAAAIAAAAAVBAMAAAB8u/sIAAAAMFBMVEX///8yMjLc3NyIiIiYmJgi\n",
       "IiJERES6urqqqqoQEBDMzMxUVFTu7u52dnZmZmYAAAD1zdHuAAAAAXRSTlMAQObYZgAAAAlwSFlz\n",
       "AAAOxAAADsQBlSsOGwAAAbVJREFUOMuNVLFKA0EQnbtckku8nCksLVKorSksLKOCpQRBCxVJK1oI\n",
       "gmDlNVYKBmwsLGytDKSyS0hpkWusREjUD1DERlI4M7t7e9zBcgOzO7f75u3szM4BRGKLqQaZxI65\n",
       "SFkW00k2AkYX62z7bz0c3RCgvAeQC8yeGp0byUNfH8inD/A8nqAxayaI0JAPwSIyuD2l6RM1RwQb\n",
       "ZgKNRnFGdJEJ221FUOqZ/GNokjvUSpM3qorAapgIYmiSGYziaZfi8ENFUOkY/GPowQdlBHWaa8Hn\n",
       "MoFTNUWg0eEZGiuoi/e0lA8Ugds0EURoOxijcYF6zRulY0VQ/jIRRGgPftB4RH1JEBTbJgKNdglM\n",
       "1zjkJSvjFTTa6sgr3PBSoR4lsYWDl3YVz0OjhwGWYh076k/Ut6MIfKIaYim8b2norzj63MZSYCld\n",
       "kbMiBj518NvFDFND57GtYJ+MkRq2uIk0urCExiYeKN/Njgp1nser1BVcIkig7SZcWrJ9ox4SfRKm\n",
       "HzFqEu03YLsv9wvyV2RTDsGrpwgGqEn0AsDau1zyWnKLs+2kq0BvPYk+igPmxLSa7ZfGaKcG/5H9\n",
       "cODAWQVXAAAAAElFTkSuQmCC\n",
       "\" style=\"display:inline;vertical-align:middle;\" /></a></td></tr>\n",
       "<tr><td>8</td><td>Lambda</td><td>parameter:&nbsp;13<br>body:&nbsp;11<br></td><td><a class=\"ProveItLink\" href=\"../../../__pv_it/2f41bfa613e300bb7e01a730e156eccf7e200ec90/expr.ipynb\"><img src=\"data:image/png;base64,iVBORw0KGgoAAAANSUhEUgAAAFQAAAAVCAMAAADvsTk6AAAANlBMVEX///8WFhYNDQ3MzMxUVFQy\n",
       "MjKqqqoiIiKYmJju7u5EREQQEBC6urqIiIh2dnZmZmbc3NwAAADRPqZpAAAAAXRSTlMAQObYZgAA\n",
       "AAlwSFlzAAAOxAAADsQBlSsOGwAAATxJREFUOMulVFtihCAMtOUdHoH7X7agZZcEdKvNj2JkMsOE\n",
       "bNt/I1+snkbUZBniQxxMyfV3na6L/DWSFL7vdGpKK/cE1OsAfSPaKW3x44nNBx/KQMWvii6okk96\n",
       "LpvMUEAtQNXOPmOK+eWaIX8YLk56I/FtWe+kASLJVs5XjfASRWE0cCIlclIMwlb6zrcMmhNuEegR\n",
       "5SIGHUcXUAhdn7gXMK9++/4yJEoJhHoZPTlSFELUP3wT6N47GdOgwqlPHZRCBF/fWwFbTqwRvJdB\n",
       "jkbv8hlEle9KS4DadF6BKt6ofrzcEA9QAmErb1UT1uDWD5WoDbxPiU9H93AIrCsnYxJZRrGcHfwr\n",
       "8WkLhywKYW6PP5T0bsxUsrmHqOWvNVfTYzFjLsPANOqAa81wU7uNyDEcx4BH45Qzo2ptq/oDHYoL\n",
       "1B9fEzQAAAAASUVORK5CYII=\n",
       "\" style=\"display:inline;vertical-align:middle;\" /></a></td></tr>\n",
       "<tr><td>9</td><td>Literal</td><td></td><td><a class=\"ProveItLink\" href=\"../../../../number/numeral/__pv_it/f086f8c372bd40a2458306ddfdbb29f3dc6f63030/expr.ipynb\"><img src=\"data:image/png;base64,iVBORw0KGgoAAAANSUhEUgAAAAgAAAAOBAMAAADgeEClAAAAIVBMVEX///8QEBBERESIiIgyMjJm\n",
       "ZmZUVFTu7u4iIiLMzMwAAAAWRytzAAAAAXRSTlMAQObYZgAAAAlwSFlzAAAOxAAADsQBlSsOGwAA\n",
       "ABtJREFUCNdjYOBsZ2AoC1nOwMDATBbBprgiGQBsuwqCZsDj4wAAAABJRU5ErkJggg==\n",
       "\" style=\"display:inline;vertical-align:middle;\" /></a></td></tr>\n",
       "<tr><td>10</td><td>Variable</td><td></td><td><a class=\"ProveItLink\" href=\"../../../../__pv_it/557ab5defdcd46aa58168b08767502985122cd490/expr.ipynb\"><img src=\"data:image/png;base64,iVBORw0KGgoAAAANSUhEUgAAAAcAAAAOBAMAAAARcxsoAAAALVBMVEX///9ERESYmJhUVFQyMjKq\n",
       "qqrc3NwQEBC6urru7u52dnYiIiJmZmaIiIgAAAD/UVazAAAAAXRSTlMAQObYZgAAAAlwSFlzAAAO\n",
       "xAAADsQBlSsOGwAAADlJREFUCNdjYGC4wwAEuxjQAeedCwwMXBwFDAypPA4MDBP4gFyGuAlAwhkk\n",
       "+5SLgYHjQRKQKavAAAAx5QmdfgFqMAAAAABJRU5ErkJggg==\n",
       "\" style=\"display:inline;vertical-align:middle;\" /></a></td></tr>\n",
       "<tr><td>11</td><td>Operation</td><td>operator:&nbsp;12<br>operand:&nbsp;13<br></td><td><a class=\"ProveItLink\" href=\"../../../../__pv_it/e80bce2a0c2e8c976be76e7b3ce08f76e74ec5550/expr.ipynb\"><img src=\"data:image/png;base64,iVBORw0KGgoAAAANSUhEUgAAACgAAAAVBAMAAADGNLEtAAAAMFBMVEX///8yMjLc3NyIiIiYmJgi\n",
       "IiJERES6urqqqqoQEBDMzMxUVFTu7u52dnZmZmYAAAD1zdHuAAAAAXRSTlMAQObYZgAAAAlwSFlz\n",
       "AAAOxAAADsQBlSsOGwAAAP1JREFUGNNjYIADJhQKCiwgFLsBmOK7ewBIclxAkby9sgFIHoTpYAQp\n",
       "YZhRBqKewARZHoAM+QNmT4AbPgeIeQPA5gvABUWAqndGg9TzgezRu6wMsgOI+cFuYHQAqp7EkA80\n",
       "3hHI1V8AEmQFuuCkA8NTILMViPvBBnEWMDC8P8AQC2SuB+KrcMFpDDzfgcxKIM6GOLmBgecvA8sH\n",
       "qPbJYEE2AwaeHwxsAk0MDG7AUPkFFuTdwMAgzOD6AOiyx8CA+AAJHKAXTtsu2gx0ShDQ1Rsg/oiC\n",
       "h2sAQzdjA4TtBxPkc2AIgwUZmwKUocbA4PwIyuZJgDJykKNDBRqcCgwAmIo1X55DCvQAAAAASUVO\n",
       "RK5CYII=\n",
       "\" style=\"display:inline;vertical-align:middle;\" /></a></td></tr>\n",
       "<tr><td>12</td><td>Variable</td><td></td><td><a class=\"ProveItLink\" href=\"../../../../__pv_it/d7bbb04e874e28c7cefb21d4eea40806ae52f1f70/expr.ipynb\"><img src=\"data:image/png;base64,iVBORw0KGgoAAAANSUhEUgAAAAsAAAASBAMAAAB/WzlGAAAAMFBMVEX///8yMjLc3NyIiIiYmJgi\n",
       "IiJERES6urqqqqoQEBDMzMxUVFTu7u52dnZmZmYAAAD1zdHuAAAAAXRSTlMAQObYZgAAAAlwSFlz\n",
       "AAAOxAAADsQBlSsOGwAAAFNJREFUCNdjYGBg4Lt7AEgy3F7ZAKJmlIF47H9AbAbeABDJsjP6AYjm\n",
       "NwAL6i8AU/1gkuEqhMqGUJPBJNMvMMXxAUzxbQCR3Yxg48MOgsWcH4FIAPrAEkCfAu8DAAAAAElF\n",
       "TkSuQmCC\n",
       "\" style=\"display:inline;vertical-align:middle;\" /></a></td></tr>\n",
       "<tr><td>13</td><td>Variable</td><td></td><td><a class=\"ProveItLink\" href=\"../../../../__pv_it/a8d4b3a34d2189508f9082853fbac36935714f280/expr.ipynb\"><img src=\"data:image/png;base64,iVBORw0KGgoAAAANSUhEUgAAAAsAAAAJBAMAAAAWSsseAAAAMFBMVEX////MzMxUVFQyMjKqqqoi\n",
       "IiKYmJju7u5EREQQEBC6urqIiIh2dnZmZmbc3NwAAAD0tjQRAAAAAXRSTlMAQObYZgAAAAlwSFlz\n",
       "AAAOxAAADsQBlSsOGwAAAEdJREFUCNdjYOC7s28DAwPDygcc3xkY2Kcx8AYwMPB+Z2A9wMDA2cBQ\n",
       "v4CBof4AQz5QRb0DQzPLAwbmDWyxPECV2gcfbWQAABp5EMgcedARAAAAAElFTkSuQmCC\n",
       "\" style=\"display:inline;vertical-align:middle;\" /></a></td></tr>\n",
       "</table>\n"
      ],
      "text/plain": [
       "0. |(f(1) ,  ...  , f(i))| = i\n",
       "   core type: Operation\n",
       "   operator: 1\n",
       "   operands: 2\n",
       "1. =\n",
       "   core type: Literal\n",
       "   sub-expressions: \n",
       "2. (|(f(1) ,  ...  , f(i))| , i)\n",
       "   core type: ExprTuple\n",
       "   sub-expressions: 3, 10\n",
       "3. |(f(1) ,  ...  , f(i))|\n",
       "   core type: Operation\n",
       "   operator: 4\n",
       "   operand: 6\n",
       "4. length\n",
       "   core type: Literal\n",
       "   sub-expressions: \n",
       "5. ((f(1) ,  ...  , f(i)))\n",
       "   core type: ExprTuple\n",
       "   sub-expressions: 6\n",
       "6. (f(1) ,  ...  , f(i))\n",
       "   core type: ExprTuple\n",
       "   sub-expressions: 7\n",
       "7. f(1),...,f(i)\n",
       "   core type: ExprRange\n",
       "   lambda_map: 8\n",
       "   start_index: 9\n",
       "   end_index: 10\n",
       "8. a -> f(a)\n",
       "   core type: Lambda\n",
       "   parameter: 13\n",
       "   body: 11\n",
       "9. 1\n",
       "   core type: Literal\n",
       "   sub-expressions: \n",
       "10. i\n",
       "    core type: Variable\n",
       "    sub-expressions: \n",
       "11. f(a)\n",
       "    core type: Operation\n",
       "    operator: 12\n",
       "    operand: 13\n",
       "12. f\n",
       "    core type: Variable\n",
       "    sub-expressions: \n",
       "13. a\n",
       "    core type: Variable\n",
       "    sub-expressions: "
      ]
     },
     "execution_count": 5,
     "metadata": {},
     "output_type": "execute_result"
    }
   ],
   "source": [
    "# display the expression information\n",
    "expr.exprInfo()"
   ]
  },
  {
   "cell_type": "code",
   "execution_count": null,
   "metadata": {},
   "outputs": [],
   "source": []
  }
 ],
 "metadata": {
  "kernelspec": {
   "display_name": "Python 3",
   "language": "python",
   "name": "python3"
  },
  "language_info": {
   "codemirror_mode": {
    "name": "ipython",
    "version": 3
   },
   "file_extension": ".py",
   "mimetype": "text/x-python",
   "name": "python",
   "nbconvert_exporter": "python",
   "pygments_lexer": "ipython3",
   "version": "3.7.4"
  }
 },
 "nbformat": 4,
 "nbformat_minor": 1
}
