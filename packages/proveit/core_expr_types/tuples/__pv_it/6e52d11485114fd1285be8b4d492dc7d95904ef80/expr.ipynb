{
 "cells": [
  {
   "cell_type": "markdown",
   "metadata": {},
   "source": [
    "Expression of type <a class=\"ProveItLink\" href=\"../../../../../../doc/html/api/proveit.logic.Equals.html\">Equals</a>\n",
    "=======================\n",
    "# from context <a class=\"ProveItLink\" href=\"../../_context_.ipynb\">proveit.core_expr_types.tuples</a>"
   ]
  },
  {
   "cell_type": "code",
   "execution_count": 1,
   "metadata": {},
   "outputs": [],
   "source": [
    "import proveit\n",
    "# Automation is not needed when building an expression:\n",
    "proveit.defaults.automation = False # This will speed things up.\n",
    "# import Expression classes needed to build the expression\n",
    "from proveit import Variable\n",
    "from proveit._common_ import d\n",
    "from proveit.core_expr_types._common_ import a_1_to_i, c_1_to_i\n",
    "from proveit.logic import Equals"
   ]
  },
  {
   "cell_type": "code",
   "execution_count": 2,
   "metadata": {},
   "outputs": [
    {
     "data": {
      "text/html": [
       "<strong id=\"expr\">expr:</strong> <a class=\"ProveItLink\" href=\"../f0e9e2bcb82b34690f0765909d0644e98d42f4360/expr.ipynb\"><img src=\"data:image/png;base64,iVBORw0KGgoAAAANSUhEUgAAAQMAAAAVBAMAAACwB5bKAAAAMFBMVEX////MzMxUVFREREQiIiK6\n",
       "uroQEBCYmJhmZmYyMjLu7u52dnaqqqqIiIjc3NwAAACFAiZ1AAAAAXRSTlMAQObYZgAAAAlwSFlz\n",
       "AAAOxAAADsQBlSsOGwAAAqJJREFUSMedlr+L1FAQx2fN7mZ9WbP7Dyj+AwtbCRZqlCsOveIKESzk\n",
       "Dg6xUrawOBtd8EBh73CxUBHFoKBYyGbFxuJgi6sUZE/sdCWIoCjCNaKuVzgzL7n8eEkwSfHIezPz\n",
       "mW/m/QoAuFDgSQoyi3L2jIpIOJMw9qEo53XeKHHAShRed/KSSre6xBH93Mp3d7G5qww/zV+Dxog4\n",
       "tU6RQIBlZfhafgkLNnGqhQIxzo4PL+YnvWDO6UKBOBvx6lXyzyjcYU6PdlPv4zjb9+v6j6Bzc7IK\n",
       "YOyPudRoNRqTYSYnbDd7m9vMuY2dU642zYysXIAjNgh5GIg/9sAFnT96ZYaeY35ZzDm4msVhu4fx\n",
       "siJnDpnnoGaBuJQe+rgDKyhYlqo+hcYY6lbMp4yLtOzAeXiSPiNs9zCUFT2RcxZLOCXb3nfpEm7Y\n",
       "cCKoeB8GDpS2Yj7VefaD0sTK4gQYzkoclFBtwwDjN9IlLIH4GT4WFkZQWUyQsMRVsjI4IX+ZFTn3\n",
       "gL7pCmRJEH9B34LKW+9Y6NDXyEThtTAiv0wJbPcxXlb0PoSdERysuyxBqHFYO7ENWv+NMbDZ3pjH\n",
       "aQS9HfPTcIp/YQaWkMxhu4/xsiLnOeof67OGrMKgTys+/MLNfbjYdb5tyOFdHQ1P6Fp8G9MuvQ4w\n",
       "ZAkRTtAju4/xsiLnJFpbw0+bUkL5ODaz9NL1XmAG5T98v6/VpIKRXaytkkP8uq5gZmN9IqcoyuGG\n",
       "OGz3MTIrcspNn8Fr4ZV6AfqrWEybIftnxfGoH2BlcqIY4ujdiAT1wjV2GH0nZFcvpeWwhHROFMOc\n",
       "w9779wdrKFE9qJ/trOeWG9jNtuKoyakxX/4eZ3EiGMl5FPbT1ZXcSbRrtrrl2v/NCczMMfP/MOBz\n",
       "OWHsSzHOP36M0z9llbNMAAAAAElFTkSuQmCC\n",
       "\" style=\"display:inline;vertical-align:middle;\" /></a><br>"
      ],
      "text/plain": [
       "expr: (a_{1} ,  ...  , a_{i} , b) = (c_{1} ,  ...  , c_{i} , d)"
      ]
     },
     "execution_count": 2,
     "metadata": {},
     "output_type": "execute_result"
    }
   ],
   "source": [
    "# build up the expression from sub-expressions\n",
    "expr = Equals([a_1_to_i, Variable(\"b\")], [c_1_to_i, d])"
   ]
  },
  {
   "cell_type": "code",
   "execution_count": 3,
   "metadata": {},
   "outputs": [
    {
     "name": "stdout",
     "output_type": "stream",
     "text": [
      "Passed sanity check: built 'expr' is the same as the stored Expression.\n"
     ]
    }
   ],
   "source": [
    "# check that the built expression is the same as the stored expression\n",
    "%check_expr"
   ]
  },
  {
   "cell_type": "code",
   "execution_count": 4,
   "metadata": {},
   "outputs": [
    {
     "name": "stdout",
     "output_type": "stream",
     "text": [
      "\\left(a_{1} , \\ldots , a_{i} , b\\right) = \\left(c_{1} , \\ldots , c_{i} , d\\right)\n"
     ]
    }
   ],
   "source": [
    "# Show the LaTeX representation of the expression for convenience if you need it.\n",
    "print(expr.latex())"
   ]
  },
  {
   "cell_type": "code",
   "execution_count": 5,
   "metadata": {},
   "outputs": [
    {
     "data": {
      "text/html": [
       "<table><tr><th>&nbsp;</th><th>core type</th><th>sub-expressions</th><th>expression</th></tr>\n",
       "<tr><td>0</td><td>Operation</td><td>operator:&nbsp;1<br>operands:&nbsp;2<br></td><td><a class=\"ProveItLink\" href=\"../f0e9e2bcb82b34690f0765909d0644e98d42f4360/expr.ipynb\"><img src=\"data:image/png;base64,iVBORw0KGgoAAAANSUhEUgAAAQMAAAAVBAMAAACwB5bKAAAAMFBMVEX////MzMxUVFREREQiIiK6\n",
       "uroQEBCYmJhmZmYyMjLu7u52dnaqqqqIiIjc3NwAAACFAiZ1AAAAAXRSTlMAQObYZgAAAAlwSFlz\n",
       "AAAOxAAADsQBlSsOGwAAAqJJREFUSMedlr+L1FAQx2fN7mZ9WbP7Dyj+AwtbCRZqlCsOveIKESzk\n",
       "Dg6xUrawOBtd8EBh73CxUBHFoKBYyGbFxuJgi6sUZE/sdCWIoCjCNaKuVzgzL7n8eEkwSfHIezPz\n",
       "mW/m/QoAuFDgSQoyi3L2jIpIOJMw9qEo53XeKHHAShRed/KSSre6xBH93Mp3d7G5qww/zV+Dxog4\n",
       "tU6RQIBlZfhafgkLNnGqhQIxzo4PL+YnvWDO6UKBOBvx6lXyzyjcYU6PdlPv4zjb9+v6j6Bzc7IK\n",
       "YOyPudRoNRqTYSYnbDd7m9vMuY2dU642zYysXIAjNgh5GIg/9sAFnT96ZYaeY35ZzDm4msVhu4fx\n",
       "siJnDpnnoGaBuJQe+rgDKyhYlqo+hcYY6lbMp4yLtOzAeXiSPiNs9zCUFT2RcxZLOCXb3nfpEm7Y\n",
       "cCKoeB8GDpS2Yj7VefaD0sTK4gQYzkoclFBtwwDjN9IlLIH4GT4WFkZQWUyQsMRVsjI4IX+ZFTn3\n",
       "gL7pCmRJEH9B34LKW+9Y6NDXyEThtTAiv0wJbPcxXlb0PoSdERysuyxBqHFYO7ENWv+NMbDZ3pjH\n",
       "aQS9HfPTcIp/YQaWkMxhu4/xsiLnOeof67OGrMKgTys+/MLNfbjYdb5tyOFdHQ1P6Fp8G9MuvQ4w\n",
       "ZAkRTtAju4/xsiLnJFpbw0+bUkL5ODaz9NL1XmAG5T98v6/VpIKRXaytkkP8uq5gZmN9IqcoyuGG\n",
       "OGz3MTIrcspNn8Fr4ZV6AfqrWEybIftnxfGoH2BlcqIY4ujdiAT1wjV2GH0nZFcvpeWwhHROFMOc\n",
       "w9779wdrKFE9qJ/trOeWG9jNtuKoyakxX/4eZ3EiGMl5FPbT1ZXcSbRrtrrl2v/NCczMMfP/MOBz\n",
       "OWHsSzHOP36M0z9llbNMAAAAAElFTkSuQmCC\n",
       "\" style=\"display:inline;vertical-align:middle;\" /></a></td></tr>\n",
       "<tr><td>1</td><td>Literal</td><td></td><td><a class=\"ProveItLink\" href=\"../../../../logic/equality/__pv_it/e16d2caa26a16688b658bdb9c422caf4b84579e10/expr.ipynb\"><img src=\"data:image/png;base64,iVBORw0KGgoAAAANSUhEUgAAAA4AAAAFBAMAAACHocAhAAAAD1BMVEX///9UVFQiIiJmZmYAAACP\n",
       "OqLZAAAAAXRSTlMAQObYZgAAAAlwSFlzAAAOxAAADsQBlSsOGwAAABJJREFUCNdjMFICAUUGXAAq\n",
       "DwAoFgH7Aeay4gAAAABJRU5ErkJggg==\n",
       "\" style=\"display:inline;vertical-align:middle;\" /></a></td></tr>\n",
       "<tr><td>2</td><td>ExprTuple</td><td>3, 4</td><td><a class=\"ProveItLink\" href=\"../4949cc5a5e8a2757c9ff0bedc714138f54c7e43a0/expr.ipynb\"><img src=\"data:image/png;base64,iVBORw0KGgoAAAANSUhEUgAAAQQAAAAVBAMAAABS242zAAAAMFBMVEX////MzMxUVFREREQiIiK6\n",
       "uroQEBCYmJhmZmYyMjLu7u52dnaqqqqIiIjc3NwAAACFAiZ1AAAAAXRSTlMAQObYZgAAAAlwSFlz\n",
       "AAAOxAAADsQBlSsOGwAAAt9JREFUSMedVk1oE0EU/iT/u3Ht1YONN0+BHLWgpuCh2FJykEAPglBF\n",
       "KSiFejAnAx60lGJuFVGMLfgD1iS9qQRy6EUFjeBBrCnBCgpevBQ1VvHNvNnZkTULmwffY1/e9755\n",
       "s7MzEwBdMMKa0zcIISDrdrcYoS3WNoIPAwpIkZcKoWzl9L/DpuuhG9h7TgoQrAojpN0gpKo6fDjA\n",
       "S9iRAoTkLCRC1wOJsg6vDrAMPSlAiFMUH6SebEbHp8K3YOdZYAZT5KcGqgeWdEfhVxKpMgssYYG8\n",
       "gLOw2Q7eQiYhlX1Hm2jNDZPia7Q7jeBBmxtD+vlLM6ME1lQjQLEb6QUKMOExB7Wb1h+gpDuij8mZ\n",
       "wJVAgU+tZM6tj13A0SoLlDBBnmCdRTIPq9RXgAlocvS6it/AupuM0oyidZzH/YAVGUe87dbfm8U8\n",
       "WGAdZ8gTkj2hse9tXwEmuDYP6xeQccN4AbhOs9rVyQcJeEbkcbBAxm0hnkOtYMzLZ4qgj4UYbcui\n",
       "2cK0PKLyQQKeTcPaBgsUcYs8oVbHZQS1wIST+zn6Liel2amWfCuBLdTEO1T1RE580wtxmDyh1sKh\n",
       "dFf+VvV/B3AJT3uc3xariTkoeqQtukJMtmD5hxecPVRQoHqRtnYQqbxigTm1L5BqJ8Zs2Zb1UwxY\n",
       "UU5HkuA8yvMvB3CQ/CIUwabJXQMasgV/rXxIlmEPU71M38bFcp0FFnGCPMHKNj6+4TdzjHqOirNX\n",
       "ujHxcNwliOmK/ANxLGASih6jke1mpypbEGyjtqw4eNZ5L+plenljODvEApOI0lNUHxmihbR/JV7o\n",
       "Bb1r5B258DIcdW/MvMn2LtKqUe+lhQBBXRVGC7Z/LfVufG4beb7dZHjJbMF/cdtmvZd2r8gjYAj7\n",
       "eodWZ9X/OeqTeXnTyG9JL8MI/+1ynvxoG2xtq0a9kd5SWFHQ5r+5E/hvfsQLrVw/tk/SSI8oOLOM\n",
       "0JYw/3B+HlCA8BfiCOhyNLrLhgAAAABJRU5ErkJggg==\n",
       "\" style=\"display:inline;vertical-align:middle;\" /></a></td></tr>\n",
       "<tr><td>3</td><td>ExprTuple</td><td>5, 14</td><td><a class=\"ProveItLink\" href=\"../1255917db2839e76662cf09cefc20f612bf6a20f0/expr.ipynb\"><img src=\"data:image/png;base64,iVBORw0KGgoAAAANSUhEUgAAAHMAAAAVBAMAAACHwMySAAAAMFBMVEX////MzMxUVFREREQiIiK6\n",
       "uroQEBCYmJhmZmYyMjLu7u52dnaqqqqIiIjc3NwAAACFAiZ1AAAAAXRSTlMAQObYZgAAAAlwSFlz\n",
       "AAAOxAAADsQBlSsOGwAAAaNJREFUOMudlL9Lw0AUx7+atonX2PYfUPwHCp0EB7WDg6hDBxEcpIKI\n",
       "m2Rw0EUzCA5tMbgIohgU3CRRXIUOnRQkipsoQRxEEbo4GB18l/RHJLaQBvLyLu8+977v3XEAbHTw\n",
       "uFBvuRN0jpvrsBQbzHoJmRY6Y49KZg+QlNBokpe4CsTC15nXycR0zIZHL1zVCgr0SRSerPazXy8/\n",
       "moOdxyIQH8Au+TO24LQlo8sY1cG8E8C+dMOGqGGK/CVIWbC11uiJgk1K5EmTHSQtyFksUpMdREz0\n",
       "3bdGt3VMNgaSBsNEV5WjsQyMHFBpjS6Affq3NV9GdB774GtsoB3KviFWEb2rbavCVZDgYULLGJJt\n",
       "F2VBjjaR/UDQbuKG7saTOWoOxAzOSYEljse9rIbGO+h3XHOAFdV8q3i/uxWBTqJkYZqi6bPnWw+N\n",
       "TJAZ545aczBGaY8e+tMpLpDHWanIJ9iIpOrK3FqvAoJlvV6xk/LFX0iz+gc1A2i8sYZm+uJb9I7U\n",
       "/PfDEq0cPJCnjT6n7WY8kSFz7J8nBjus/BsXeBkJpZMLZh34BW2obIAvOSV/AAAAAElFTkSuQmCC\n",
       "\" style=\"display:inline;vertical-align:middle;\" /></a></td></tr>\n",
       "<tr><td>4</td><td>ExprTuple</td><td>6, 7</td><td><a class=\"ProveItLink\" href=\"../2a6ded65f491926c6c65692a1f93903024572e330/expr.ipynb\"><img src=\"data:image/png;base64,iVBORw0KGgoAAAANSUhEUgAAAHEAAAAVBAMAAACDNRyvAAAAMFBMVEX////MzMxUVFREREQiIiK6\n",
       "uroQEBCYmJhmZmYyMjLu7u52dnaqqqqIiIjc3NwAAACFAiZ1AAAAAXRSTlMAQObYZgAAAAlwSFlz\n",
       "AAAOxAAADsQBlSsOGwAAAXlJREFUOMudkzFLw0AUx/+ladNeYuxH8AsUujpUOjgU6eAggoMoFHES\n",
       "OjppwUGhg51UxOHAwUmSiIuDkMFJl9S9EMTJyU2tDr67JHgQG0gOcnnv/u+Xu/feBUCA7EMyM14O\n",
       "cl1MT5mxwklfbMeG2Xec9XAOVHrZyQ2OXaCcI8tbwjjWcpBnQLWHgTCNsZsaqurWYPRDK3M4FU4H\n",
       "B2mg1FnU99WgOAH0ITrkaA52cDW9yFI3fGmzbVQo0mxhi7xjTk0at6aSQo9HZSI+hMK7JLtiyZxO\n",
       "dhW73IC9DJQ2cUEH+E4npV56Dh3bwX4Y3aTXBwmSZEmMR7phcynbHubNAHoDN+QdAa4kbcqdfSE0\n",
       "/jyhvz2EC1VfbxuUro8V0a77MZektkReW1SzH0+LPNKboczq7suIzABaLTqWzPMxcVozqiub1FT5\n",
       "lVraV0kneX1ieeio8iE9C9E9ufv0wfwEeR0XuB4ostWg6VIJ05O17f0rF0UOVo4fFHvAL3MBYVHW\n",
       "fxnOAAAAAElFTkSuQmCC\n",
       "\" style=\"display:inline;vertical-align:middle;\" /></a></td></tr>\n",
       "<tr><td>5</td><td>ExprRange</td><td>lambda_map:&nbsp;8<br>start_index:&nbsp;10<br>end_index:&nbsp;11<br></td><td><a class=\"ProveItLink\" href=\"../../../__pv_it/181313b16a2dc97e8bde0525ec5f7e16b35cd7480/expr.ipynb\"><img src=\"data:image/png;base64,iVBORw0KGgoAAAANSUhEUgAAAFMAAAANBAMAAAAnGE+0AAAAMFBMVEX////MzMxUVFQyMjKqqqoi\n",
       "IiKYmJju7u5EREQQEBC6urqIiIh2dnZmZmbc3NwAAAD0tjQRAAAAAXRSTlMAQObYZgAAAAlwSFlz\n",
       "AAAOxAAADsQBlSsOGwAAAMJJREFUKM9jYOC7s28DAz6AULDyAcd3vEohCuoYGNinMfAGMLAn41QJ\n",
       "UcBwmoGB9zsD6wEG6a04lUIUgABnA0P9AgYGV5xKoQqAoP4AQz4DPqUQBasVgCwHhmaWB2ClBZju\n",
       "ZIApOA70GfMGtlgesKnsn0ESBlAGnAdWwFcC9Bm79sFHGyEOCAUay3oByIhlgBKs4TAFHIiwByll\n",
       "wXSBO9zFhShKeTD9dADGcIZLvrG/zcBQjektuLVF+1AkEjCUsiFzALFmOQ8yL6I0AAAAAElFTkSu\n",
       "QmCC\n",
       "\" style=\"display:inline;vertical-align:middle;\" /></a></td></tr>\n",
       "<tr><td>6</td><td>ExprRange</td><td>lambda_map:&nbsp;9<br>start_index:&nbsp;10<br>end_index:&nbsp;11<br></td><td><a class=\"ProveItLink\" href=\"../../../__pv_it/081cf9f39c0802af2bbc75d2f58168819d03bf1d0/expr.ipynb\"><img src=\"data:image/png;base64,iVBORw0KGgoAAAANSUhEUgAAAE8AAAANBAMAAAAaii7SAAAAMFBMVEX///9UVFQyMjK6urqYmJju\n",
       "7u4QEBBERERmZmaqqqoiIiLc3NzMzMyIiIh2dnYAAAAoX9D3AAAAAXRSTlMAQObYZgAAAAlwSFlz\n",
       "AAAOxAAADsQBlSsOGwAAALZJREFUKM9jYGB4e+8AAz4Ak981gaMAnzqwfDSQsY6B7QKrE26FIHmG\n",
       "twwMHF+BnLO3cKoDy4MAG9jeWTgVssHcFf8Av0KwvK0AAwO/AwODAVhhAIYiVgao/FOg/RwNDHwH\n",
       "QApZP4H0K0AZcB5I/nTkAiDv3d2rEKtXAY3kagAyVjBACa6lUHn2CzBLQAo5Me2eCnNoDLJCPkyf\n",
       "PIDSk2By+/R7GRhiMT0DszHwNrKwA4ZCFiQ2AKsgNG0b9G6AAAAAAElFTkSuQmCC\n",
       "\" style=\"display:inline;vertical-align:middle;\" /></a></td></tr>\n",
       "<tr><td>7</td><td>Variable</td><td></td><td><a class=\"ProveItLink\" href=\"../../../../__pv_it/445e790c2b62732eb8597a2ddda4cbd1a8fb79140/expr.ipynb\"><img src=\"data:image/png;base64,iVBORw0KGgoAAAANSUhEUgAAAAsAAAAOBAMAAAALT/umAAAAMFBMVEX///9UVFSYmJhERESIiIjc\n",
       "3NwiIiJ2dnbu7u66urqqqqpmZmYQEBAyMjLMzMwAAAAJQA1gAAAAAXRSTlMAQObYZgAAAAlwSFlz\n",
       "AAAOxAAADsQBlSsOGwAAAFpJREFUCNdjYGBg4LuzgQEE+BeAqfkNYKoMTDLcBmLW7X6/gNScAOYf\n",
       "DAwchxi4LzAwcP9gYCtgYOAxYOifwMDQX8CgD1TRv4DBliuAgdeBKZsdqFKkLtCPAQBT/hIMxxSb\n",
       "NAAAAABJRU5ErkJggg==\n",
       "\" style=\"display:inline;vertical-align:middle;\" /></a></td></tr>\n",
       "<tr><td>8</td><td>Lambda</td><td>parameter:&nbsp;14<br>body:&nbsp;12<br></td><td><a class=\"ProveItLink\" href=\"../../../__pv_it/c2a58b1c714071e1c6f226ef2cd0aeab3fa85e090/expr.ipynb\"><img src=\"data:image/png;base64,iVBORw0KGgoAAAANSUhEUgAAADwAAAARCAMAAAC2ED+oAAAANlBMVEX////MzMwWFhYNDQ2YmJjc\n",
       "3NyIiIhUVFR2dna6urqqqqpmZmYyMjIiIiIQEBBERETu7u4AAADe7qe0AAAAAXRSTlMAQObYZgAA\n",
       "AAlwSFlzAAAOxAAADsQBlSsOGwAAAOVJREFUOMulU1sSwyAI1FbxAYre/7JF0yaappMZ64cTlWV3\n",
       "IShVOCe1vgj/ANe4jg21/HoCewf2k+UpUbw1RA4Ad+Vz8U6ltOjBwkhVqchmL8MjTwazRPHoMvZD\n",
       "hWsu4CO0ZCM7tghNW1akTu/fEc9Hmlat4QPGTpN6pPNHl8PerhNzoB2rMneafpH11mWzJ/0GaxpU\n",
       "d3Wm9vsK4OSpZdrcXIDJjpVt6phUtApSUSCSneD46GeYRE99JimqSahEALdPKVbBocunhXr6fxx4\n",
       "bR3IZRYOdKvjIH7z6kiIZcOrw6QRxPkLSMQIqTrNxM4AAAAASUVORK5CYII=\n",
       "\" style=\"display:inline;vertical-align:middle;\" /></a></td></tr>\n",
       "<tr><td>9</td><td>Lambda</td><td>parameter:&nbsp;16<br>body:&nbsp;13<br></td><td><a class=\"ProveItLink\" href=\"../../../__pv_it/b7d044f706ce9dfee4503d406978f3241b57101d0/expr.ipynb\"><img src=\"data:image/png;base64,iVBORw0KGgoAAAANSUhEUgAAAD0AAAAOCAMAAACrUuTYAAAANlBMVEX///8WFhYNDQ3MzMxUVFQy\n",
       "MjKqqqoiIiKYmJju7u5EREQQEBC6urqIiIh2dnZmZmbc3NwAAADRPqZpAAAAAXRSTlMAQObYZgAA\n",
       "AAlwSFlzAAAOxAAADsQBlSsOGwAAAMxJREFUKM+dUtEOwyAIZLMqqIj+/88ObZpJ021Z78EInh4e\n",
       "AHwFN/gPtAZBfvKbVG58RNGcxRO3Mle3JkrW8lKnS35IRicGAFlTlFFXiR/UOC1fiVWXzMuxTNWZ\n",
       "n3g+okHvxVIN8iiE3pSTdvHFUq3Ffahi/+CT83Si7ltBrm2k1AhIHkK7uu3XhnfcywGKDtz8hlcT\n",
       "MAoc7xZTt+m3zEg7NjYuzyI27WDb2F2Ngths1XazSg6XeIN7oD4mBInuXdf5cr3gTfEiGLgivAAI\n",
       "3AdgjYgidAAAAABJRU5ErkJggg==\n",
       "\" style=\"display:inline;vertical-align:middle;\" /></a></td></tr>\n",
       "<tr><td>10</td><td>Literal</td><td></td><td><a class=\"ProveItLink\" href=\"../../../../number/numeral/__pv_it/f086f8c372bd40a2458306ddfdbb29f3dc6f63030/expr.ipynb\"><img src=\"data:image/png;base64,iVBORw0KGgoAAAANSUhEUgAAAAgAAAAOBAMAAADgeEClAAAAIVBMVEX///8QEBBERESIiIgyMjJm\n",
       "ZmZUVFTu7u4iIiLMzMwAAAAWRytzAAAAAXRSTlMAQObYZgAAAAlwSFlzAAAOxAAADsQBlSsOGwAA\n",
       "ABtJREFUCNdjYOBsZ2AoC1nOwMDATBbBprgiGQBsuwqCZsDj4wAAAABJRU5ErkJggg==\n",
       "\" style=\"display:inline;vertical-align:middle;\" /></a></td></tr>\n",
       "<tr><td>11</td><td>Variable</td><td></td><td><a class=\"ProveItLink\" href=\"../../../__pv_it/557ab5defdcd46aa58168b08767502985122cd490/expr.ipynb\"><img src=\"data:image/png;base64,iVBORw0KGgoAAAANSUhEUgAAAAcAAAAOBAMAAAARcxsoAAAALVBMVEX///9ERESYmJhUVFQyMjKq\n",
       "qqrc3NwQEBC6urru7u52dnYiIiJmZmaIiIgAAAD/UVazAAAAAXRSTlMAQObYZgAAAAlwSFlzAAAO\n",
       "xAAADsQBlSsOGwAAADlJREFUCNdjYGC4wwAEuxjQAeedCwwMXBwFDAypPA4MDBP4gFyGuAlAwhkk\n",
       "+5SLgYHjQRKQKavAAAAx5QmdfgFqMAAAAABJRU5ErkJggg==\n",
       "\" style=\"display:inline;vertical-align:middle;\" /></a></td></tr>\n",
       "<tr><td>12</td><td>IndexedVar</td><td>variable:&nbsp;16<br>index:&nbsp;14<br></td><td><a class=\"ProveItLink\" href=\"../../../__pv_it/0cb2ee2c74b83e0aeb2dfcc689d03116b41089f70/expr.ipynb\"><img src=\"data:image/png;base64,iVBORw0KGgoAAAANSUhEUgAAABIAAAAMBAMAAACdPPCPAAAAMFBMVEX////MzMxUVFQyMjKqqqoi\n",
       "IiKYmJju7u5EREQQEBC6urqIiIh2dnZmZmbc3NwAAAD0tjQRAAAAAXRSTlMAQObYZgAAAAlwSFlz\n",
       "AAAOxAAADsQBlSsOGwAAAG5JREFUCNdjYOC7s28DAxisfMDxHcxgn8bAG8Ag3MDAwPudgfUAA9MB\n",
       "BgbOBob6BQycAgwM9QcY8hkY5HerM9Q7MDSzPNhasJeBeQNbLA9DN0MyA7v2wUcbGWYxXIKYyfCd\n",
       "YQqUFc7WAGXJ7mEAAK6nGrTbYfrbAAAAAElFTkSuQmCC\n",
       "\" style=\"display:inline;vertical-align:middle;\" /></a></td></tr>\n",
       "<tr><td>13</td><td>IndexedVar</td><td>variable:&nbsp;15<br>index:&nbsp;16<br></td><td><a class=\"ProveItLink\" href=\"../../../__pv_it/180ecdc68f16bd3e9260cef5d2773f3cf1f4d5480/expr.ipynb\"><img src=\"data:image/png;base64,iVBORw0KGgoAAAANSUhEUgAAABIAAAAMBAMAAACdPPCPAAAALVBMVEX///9UVFS6urqYmJju7u4Q\n",
       "EBBERERmZmaqqqoiIiLc3NzMzMyIiIh2dnYAAAC/g6wNAAAAAXRSTlMAQObYZgAAAAlwSFlzAAAO\n",
       "xAAADsQBlSsOGwAAAF1JREFUCNdjYGC4c3YDAxisbGBPgLDmMrAeADPYnzBAAWsCjOV3AUiwFJ9d\n",
       "wMBnwMCg4LlhnwMDewED74Zyhq1AmbtnjjA8YjgIUcvyiiHZBcKM4n5kAGGpW5w1AAAeBhbL5icH\n",
       "EgAAAABJRU5ErkJggg==\n",
       "\" style=\"display:inline;vertical-align:middle;\" /></a></td></tr>\n",
       "<tr><td>14</td><td>Variable</td><td></td><td><a class=\"ProveItLink\" href=\"../../../__pv_it/53e304ff98ebc000dbe3ef224f4637dbafd46ba70/expr.ipynb\"><img src=\"data:image/png;base64,iVBORw0KGgoAAAANSUhEUgAAAAkAAAAOBAMAAAAPuiubAAAALVBMVEX///+YmJjc3NyIiIhUVFR2\n",
       "dna6urqqqqpmZmYyMjIiIiIQEBBERETu7u4AAAALjtrwAAAAAXRSTlMAQObYZgAAAAlwSFlzAAAO\n",
       "xAAADsQBlSsOGwAAAE5JREFUCNdj4D29gAEIOBtAJF8BiMy7ACKjQATDFON2BgbelxfuKTCwv2Xg\n",
       "M2DgmMBwLwCkPK+AgU+Aoe8CA18C70YGBhYBHqARvM1A5QCqGhDobJhHyAAAAABJRU5ErkJggg==\n",
       "\" style=\"display:inline;vertical-align:middle;\" /></a></td></tr>\n",
       "<tr><td>15</td><td>Variable</td><td></td><td><a class=\"ProveItLink\" href=\"../../../__pv_it/b2b446b221a34ee579eb9a1fbdd4ac4e2891d8c70/expr.ipynb\"><img src=\"data:image/png;base64,iVBORw0KGgoAAAANSUhEUgAAAAkAAAAJBAMAAAASvxsjAAAAKlBMVEX///+6urqYmJju7u4QEBBE\n",
       "RERmZmaqqqoiIiLc3NzMzMyIiIh2dnYAAACSkFDuAAAAAXRSTlMAQObYZgAAAAlwSFlzAAAOxAAA\n",
       "DsQBlSsOGwAAADhJREFUCNdjYGA4vWcBA8OMArYABoYeBpYNDGyXGYCAJQBE2h4AkbwKDAwCDGwJ\n",
       "DDxAlWd2b2YAACirCnk+94p2AAAAAElFTkSuQmCC\n",
       "\" style=\"display:inline;vertical-align:middle;\" /></a></td></tr>\n",
       "<tr><td>16</td><td>Variable</td><td></td><td><a class=\"ProveItLink\" href=\"../../../__pv_it/a8d4b3a34d2189508f9082853fbac36935714f280/expr.ipynb\"><img src=\"data:image/png;base64,iVBORw0KGgoAAAANSUhEUgAAAAsAAAAJBAMAAAAWSsseAAAAMFBMVEX////MzMxUVFQyMjKqqqoi\n",
       "IiKYmJju7u5EREQQEBC6urqIiIh2dnZmZmbc3NwAAAD0tjQRAAAAAXRSTlMAQObYZgAAAAlwSFlz\n",
       "AAAOxAAADsQBlSsOGwAAAEdJREFUCNdjYOC7s28DAwPDygcc3xkY2Kcx8AYwMPB+Z2A9wMDA2cBQ\n",
       "v4CBof4AQz5QRb0DQzPLAwbmDWyxPECV2gcfbWQAABp5EMgcedARAAAAAElFTkSuQmCC\n",
       "\" style=\"display:inline;vertical-align:middle;\" /></a></td></tr>\n",
       "</table>\n"
      ],
      "text/plain": [
       "0. (a_{1} ,  ...  , a_{i} , b) = (c_{1} ,  ...  , c_{i} , d)\n",
       "   core type: Operation\n",
       "   operator: 1\n",
       "   operands: 2\n",
       "1. =\n",
       "   core type: Literal\n",
       "   sub-expressions: \n",
       "2. ((a_{1} ,  ...  , a_{i} , b) , (c_{1} ,  ...  , c_{i} , d))\n",
       "   core type: ExprTuple\n",
       "   sub-expressions: 3, 4\n",
       "3. (a_{1} ,  ...  , a_{i} , b)\n",
       "   core type: ExprTuple\n",
       "   sub-expressions: 5, 14\n",
       "4. (c_{1} ,  ...  , c_{i} , d)\n",
       "   core type: ExprTuple\n",
       "   sub-expressions: 6, 7\n",
       "5. a_{1},...,a_{i}\n",
       "   core type: ExprRange\n",
       "   lambda_map: 8\n",
       "   start_index: 10\n",
       "   end_index: 11\n",
       "6. c_{1},...,c_{i}\n",
       "   core type: ExprRange\n",
       "   lambda_map: 9\n",
       "   start_index: 10\n",
       "   end_index: 11\n",
       "7. d\n",
       "   core type: Variable\n",
       "   sub-expressions: \n",
       "8. b -> a_{b}\n",
       "   core type: Lambda\n",
       "   parameter: 14\n",
       "   body: 12\n",
       "9. a -> c_{a}\n",
       "   core type: Lambda\n",
       "   parameter: 16\n",
       "   body: 13\n",
       "10. 1\n",
       "    core type: Literal\n",
       "    sub-expressions: \n",
       "11. i\n",
       "    core type: Variable\n",
       "    sub-expressions: \n",
       "12. a_{b}\n",
       "    core type: IndexedVar\n",
       "variable: 16\n",
       "index: 14\n",
       "13. c_{a}\n",
       "    core type: IndexedVar\n",
       "variable: 15\n",
       "index: 16\n",
       "14. b\n",
       "    core type: Variable\n",
       "    sub-expressions: \n",
       "15. c\n",
       "    core type: Variable\n",
       "    sub-expressions: \n",
       "16. a\n",
       "    core type: Variable\n",
       "    sub-expressions: "
      ]
     },
     "execution_count": 5,
     "metadata": {},
     "output_type": "execute_result"
    }
   ],
   "source": [
    "# display the expression information\n",
    "expr.exprInfo()"
   ]
  },
  {
   "cell_type": "code",
   "execution_count": null,
   "metadata": {},
   "outputs": [],
   "source": []
  }
 ],
 "metadata": {
  "kernelspec": {
   "display_name": "Python 3",
   "language": "python",
   "name": "python3"
  },
  "language_info": {
   "codemirror_mode": {
    "name": "ipython",
    "version": 3
   },
   "file_extension": ".py",
   "mimetype": "text/x-python",
   "name": "python",
   "nbconvert_exporter": "python",
   "pygments_lexer": "ipython3",
   "version": "3.7.4"
  }
 },
 "nbformat": 4,
 "nbformat_minor": 1
}
