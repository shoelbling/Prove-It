{
 "cells": [
  {
   "cell_type": "markdown",
   "metadata": {},
   "source": [
    "Expression of type <a class=\"ProveItLink\" href=\"../../../../../../doc/html/api/proveit.Conditional.html\">Conditional</a>\n",
    "=======================\n",
    "# from context <a class=\"ProveItLink\" href=\"../../_context_.ipynb\">proveit.core_expr_types.tuples</a>"
   ]
  },
  {
   "cell_type": "code",
   "execution_count": 1,
   "metadata": {},
   "outputs": [],
   "source": [
    "import proveit\n",
    "# Automation is not needed when building an expression:\n",
    "proveit.defaults.automation = False # This will speed things up.\n",
    "# import Expression classes needed to build the expression\n",
    "from proveit import Conditional, Function, Variable\n",
    "from proveit.logic import And, InSet\n",
    "from proveit.number import Add, NaturalsPos, one"
   ]
  },
  {
   "cell_type": "code",
   "execution_count": 2,
   "metadata": {},
   "outputs": [
    {
     "data": {
      "text/html": [
       "<strong id=\"expr\">expr:</strong> <a class=\"ProveItLink\" href=\"expr.ipynb\"><img src=\"data:image/png;base64,iVBORw0KGgoAAAANSUhEUgAAARMAAAAZBAMAAADga9dZAAAAMFBMVEX///9mZma6urrc3NwiIiKI\n",
       "iIjMzMyYmJgQEBB2dnbu7u5EREQyMjJUVFSqqqoAAABfjFPjAAAAAXRSTlMAQObYZgAAAAlwSFlz\n",
       "AAAOxAAADsQBlSsOGwAAA5NJREFUSMfNV01oE0EUfskmm2Q3WXOwFKWHHBR/UBpQqGK1gS6CaG1U\n",
       "PIm2iB7EQ1r1pmgRBTVI92ARkcIeqheFhGoxGKGBUtSKNSJKoVUiKCgeGpQqWkVnf2Z3ZrIbY2nB\n",
       "gSEzO9+89837mwkASG9gIVv0H7BP1AWlkq0dGuphPsSrgLl5osI5qosUaJS/VEWuN0nOArvdcEJ7\n",
       "fgxCvWfdqBywh8sJKjrWPzz7+sFSbfTRlcchlZCxoQtgPBVzw4qltQAZlaJi65AUx6MbVGARMk4O\n",
       "bRUKbgd9/gwth3FgNUYhkNjsGmaR1lAXBMGTz6fz9/BHrANuk9AxlkoKmX4adU8XK3UFHnQgKQGc\n",
       "EALaWXT3ZOQTjICPiRWsA+pJaDdLpaMTdWS3YIXU9yQVuESoc8hT/115h77WlGyuoIJ1AJUpQZWh\n",
       "Mqx1BF3zFyoPq1LxjppyI/FXfoWlgnV4qSAIW34QDewsQsyg3yXot39d30u+b9CRSr+ZjY+K/MRl\n",
       "zUMUuhmfMBIXYZClgnV4kGVWvdi4P3lkH4r7kOXnjE6KnwHuSsk4dUgcgswx+OBI5ZQ58RXNWKHQ\n",
       "I5bF4nx0YICutpYOzQ5KPil8i0nIVQFsI37U8PGva1f1zNwJcDCYhRYFzjhSeYeNialQ6IJNBU5L\n",
       "OSaOsA5fCfhYGrjvECijzE6Y6yeMaieWzTmqSmomBtMqTGrTxbJ8QZbbbCoplgqJ5s/JsrzdpBJR\n",
       "J5hag3UEYyAIn0H6oQcqX7YCzUp5TAWmARoAzjtaZSVLhUQLWcIqQnGApmLpQFRAKoOnAEGU2t4e\n",
       "OlZSuP6Noz4FsA28X4SaHEShEwQVOCzSVCwd4ZJ+3/gUaIyrtoPMDOrAJXwI9YuAzBcpbHGicrKC\n",
       "Conea0lFOes/arFQKR0iskVQAeTZKa4EgSxdV57hKUpW7qsWTmFFcaJSZ5/AOASFDuMLxacNGqxL\n",
       "4yelQ0vflk4t0h+HUGrrV2ymYFKZ+j1kwpYh5yXAHwWpLk5TmextQ5tazcTLpW/mZjUhFFqYXG0s\n",
       "t6epq0ZWSR1oi6ZnF8DbPYi1vtMXtaotbr5O12qr2yBR/XXivW4UfqZJ9L25lZysZ+8g6w0Sdb0O\n",
       "tVZ5W9b2PqOn3eSk3o0K3Kkqc9PcXpU3mApDPN24rOsr7lZVmffnRoWxpUAcX7R952fetlw1FwTi\n",
       "8/P2brKHx4nPT+G/aQv8P6jm9gefaRVk7wIsxAAAAABJRU5ErkJggg==\n",
       "\" style=\"display:inline;vertical-align:middle;\" /></a><br>"
      ],
      "text/plain": [
       "expr: {P(m + 1) if m in NaturalsPos ,  P(m)."
      ]
     },
     "execution_count": 2,
     "metadata": {},
     "output_type": "execute_result"
    }
   ],
   "source": [
    "# build up the expression from sub-expressions\n",
    "expr = Conditional(Function(Variable(\"P\"), Add(Variable(\"m\"), one)), And(InSet(Variable(\"m\"), NaturalsPos), Function(Variable(\"P\"), Variable(\"m\"))))"
   ]
  },
  {
   "cell_type": "code",
   "execution_count": 3,
   "metadata": {},
   "outputs": [
    {
     "name": "stdout",
     "output_type": "stream",
     "text": [
      "Passed sanity check: built 'expr' is the same as the stored Expression.\n"
     ]
    }
   ],
   "source": [
    "# check that the built expression is the same as the stored expression\n",
    "%check_expr"
   ]
  },
  {
   "cell_type": "code",
   "execution_count": 4,
   "metadata": {},
   "outputs": [
    {
     "name": "stdout",
     "output_type": "stream",
     "text": [
      "\\left\\{P\\left(m + 1\\right) \\textrm{ if } m \\in \\mathbb{N}^+ ,  P\\left(m\\right)\\right..\n"
     ]
    }
   ],
   "source": [
    "# Show the LaTeX representation of the expression for convenience if you need it.\n",
    "print(expr.latex())"
   ]
  },
  {
   "cell_type": "code",
   "execution_count": 5,
   "metadata": {},
   "outputs": [
    {
     "data": {
      "text/html": [
       "<table><tr><th>&nbsp;</th><th>core type</th><th>sub-expressions</th><th>expression</th></tr>\n",
       "<tr><td>0</td><td>Conditional</td><td>value:&nbsp;1<br>condition:&nbsp;2<br></td><td><a class=\"ProveItLink\" href=\"expr.ipynb\"><img src=\"data:image/png;base64,iVBORw0KGgoAAAANSUhEUgAAARMAAAAZBAMAAADga9dZAAAAMFBMVEX///9mZma6urrc3NwiIiKI\n",
       "iIjMzMyYmJgQEBB2dnbu7u5EREQyMjJUVFSqqqoAAABfjFPjAAAAAXRSTlMAQObYZgAAAAlwSFlz\n",
       "AAAOxAAADsQBlSsOGwAAA5NJREFUSMfNV01oE0EUfskmm2Q3WXOwFKWHHBR/UBpQqGK1gS6CaG1U\n",
       "PIm2iB7EQ1r1pmgRBTVI92ARkcIeqheFhGoxGKGBUtSKNSJKoVUiKCgeGpQqWkVnf2Z3ZrIbY2nB\n",
       "gSEzO9+89837mwkASG9gIVv0H7BP1AWlkq0dGuphPsSrgLl5osI5qosUaJS/VEWuN0nOArvdcEJ7\n",
       "fgxCvWfdqBywh8sJKjrWPzz7+sFSbfTRlcchlZCxoQtgPBVzw4qltQAZlaJi65AUx6MbVGARMk4O\n",
       "bRUKbgd9/gwth3FgNUYhkNjsGmaR1lAXBMGTz6fz9/BHrANuk9AxlkoKmX4adU8XK3UFHnQgKQGc\n",
       "EALaWXT3ZOQTjICPiRWsA+pJaDdLpaMTdWS3YIXU9yQVuESoc8hT/115h77WlGyuoIJ1AJUpQZWh\n",
       "Mqx1BF3zFyoPq1LxjppyI/FXfoWlgnV4qSAIW34QDewsQsyg3yXot39d30u+b9CRSr+ZjY+K/MRl\n",
       "zUMUuhmfMBIXYZClgnV4kGVWvdi4P3lkH4r7kOXnjE6KnwHuSsk4dUgcgswx+OBI5ZQ58RXNWKHQ\n",
       "I5bF4nx0YICutpYOzQ5KPil8i0nIVQFsI37U8PGva1f1zNwJcDCYhRYFzjhSeYeNialQ6IJNBU5L\n",
       "OSaOsA5fCfhYGrjvECijzE6Y6yeMaieWzTmqSmomBtMqTGrTxbJ8QZbbbCoplgqJ5s/JsrzdpBJR\n",
       "J5hag3UEYyAIn0H6oQcqX7YCzUp5TAWmARoAzjtaZSVLhUQLWcIqQnGApmLpQFRAKoOnAEGU2t4e\n",
       "OlZSuP6Noz4FsA28X4SaHEShEwQVOCzSVCwd4ZJ+3/gUaIyrtoPMDOrAJXwI9YuAzBcpbHGicrKC\n",
       "Conea0lFOes/arFQKR0iskVQAeTZKa4EgSxdV57hKUpW7qsWTmFFcaJSZ5/AOASFDuMLxacNGqxL\n",
       "4yelQ0vflk4t0h+HUGrrV2ymYFKZ+j1kwpYh5yXAHwWpLk5TmextQ5tazcTLpW/mZjUhFFqYXG0s\n",
       "t6epq0ZWSR1oi6ZnF8DbPYi1vtMXtaotbr5O12qr2yBR/XXivW4UfqZJ9L25lZysZ+8g6w0Sdb0O\n",
       "tVZ5W9b2PqOn3eSk3o0K3Kkqc9PcXpU3mApDPN24rOsr7lZVmffnRoWxpUAcX7R952fetlw1FwTi\n",
       "8/P2brKHx4nPT+G/aQv8P6jm9gefaRVk7wIsxAAAAABJRU5ErkJggg==\n",
       "\" style=\"display:inline;vertical-align:middle;\" /></a></td></tr>\n",
       "<tr><td>1</td><td>Operation</td><td>operator:&nbsp;13<br>operand:&nbsp;3<br></td><td><a class=\"ProveItLink\" href=\"../97d37c3221dbffdf129cebfda8fae7aaf1fe2d5c0/expr.ipynb\"><img src=\"data:image/png;base64,iVBORw0KGgoAAAANSUhEUgAAAFcAAAAVBAMAAADBdm84AAAAMFBMVEX///+YmJgiIiLc3Ny6urp2\n",
       "dnaqqqrMzMwQEBDu7u5mZmYyMjJUVFRERESIiIgAAACzCz+6AAAAAXRSTlMAQObYZgAAAAlwSFlz\n",
       "AAAOxAAADsQBlSsOGwAAAV9JREFUKM99kr9Lw1AQx781adL8VLBTF0vAX1tUdLV/gWZxk+Lo1sVd\n",
       "ERxcJLtCdS5IV13s4iQtGRwcRDO5iUFbiog/7j0fpQlJDu7e3b3P+3XvgDGRkCNuIn7Jgze4ff19\n",
       "7F775CheFqguAvYOd78A65jG0yz2rPVJ9oov+6FNSXGRhOQp4dgMrnBvSDog5yAJK+E4XGJXtSJS\n",
       "WiC382GDnTMZAJuU1ul98vZKvafW79PgYofMfojVObGyaD2hWcZuGlxgJ7/dbpVZZoJqs1cKsO5h\n",
       "Jg1WqmSeRaZUA/xmDQ0fXQp1x1k4dJzOCFaj/zKPYDSAFnCStrNM1VIHImOwL7oDZiF/aBnXsPsi\n",
       "Y7GpI2h9mO21tAdS1YxIZFhppCEKEQzPS4H1EObNt0jJVa72OZRLNwabD+89qlasSeczf5DLcmyu\n",
       "ktlIXOJ9Zrl5zS8FsVAL8mDLj8dLefA08Af+ol2r0qLZOgAAAABJRU5ErkJggg==\n",
       "\" style=\"display:inline;vertical-align:middle;\" /></a></td></tr>\n",
       "<tr><td>2</td><td>Operation</td><td>operator:&nbsp;4<br>operands:&nbsp;5<br></td><td><a class=\"ProveItLink\" href=\"../de9f89536395af148e310498ffcf387a675b52190/expr.ipynb\"><img src=\"data:image/png;base64,iVBORw0KGgoAAAANSUhEUgAAAKQAAAAZBAMAAABNz5jZAAAAMFBMVEX///9UVFQiIiKIiIjMzMx2\n",
       "dnYQEBDc3NyYmJhEREQyMjLu7u5mZma6urqqqqoAAACMi3WHAAAAAXRSTlMAQObYZgAAAAlwSFlz\n",
       "AAAOxAAADsQBlSsOGwAAAuFJREFUSMeVVU1oE1EQ/jbZZPOzSQtWpQUlBCQHxaYKalE0IhU8SLcU\n",
       "T14K4qEUcS/Fn4ONeFKoRivapQTjQRQquuZWLwkULz1FoR68tAgKgqUBW6qWovPe5u1uWrddH8zb\n",
       "eTsz35uZN/MegAVsNapEGvyPZHVLlQLRmf+AfAtfkJHsJgq6zSlsGvdQi3cakwhdvtSAxF5vxOC8\n",
       "zSZoZ2XASzE6/x6omAKya728+8/99pdMjC+uv8cB1TPvUiaURxiqYQwa4w1wGiHbpd+07RCLp+Sy\n",
       "iploqXlCfsNzBEQuEctbv8sCQP5BZ0sENe+yilTRa24IKJ3mVtLV7HUXpFqwxEd2iQwuES0TE24y\n",
       "H8KB9Yifjgov9bag5kAGG0lPiXKK1omWmEWT/Qt00Dy7c7gr29PNU6BM2oHrURQdyMSqVcZarFEy\n",
       "LfR7jpXWOxL2XenfJvcXadUHg3WGkY3/rCW5GzHdgZSr5bLoHshLVvp10Ru9WQzvt/xCKDqGyii+\n",
       "0uoOnpJybRDKMiJ1buIcj467yUdOEa/xz0m7Qk9sPzfKGcI9Gy5gRMM9Wn3GPiqC+BqSq5B4fKfT\n",
       "NAoNSMnc4ZS+BdkGHLR+PBES6gazUsOiiXbmPPMSyTrUEsK85abcXsZby46XPHBWg2W7LG1ILAIz\n",
       "wAXiPnJIqYSAhjmd1VPADYlTUXspr4hCV3mxy8tC8oqITnkPEitxFjjzNayBHO9QmGrQvh6iOVo5\n",
       "F5B14mxHhZdtcE1IxogussRIpRvAbRyi9UiOJfZZyN6TjwDbYcZpC14Qt9j0kJ9jXUj6eFbodGMa\n",
       "dfc05ijaD8Ax4PthrvCmaPWT3DnYdPWprWyeYFMPS8vrXyIeMk+kEKwiOU25yiC8ocdnH6RL/2j5\n",
       "WN7rMgjkXAsltclNtG5UTC9JxP0u0B0iD/iEvOkteuzirxHt9gmZ8RZNufgJf28Ptnh7FCfNEd3f\n",
       "CykC8j0WfGmd9433F4tarJ5fnV2nAAAAAElFTkSuQmCC\n",
       "\" style=\"display:inline;vertical-align:middle;\" /></a></td></tr>\n",
       "<tr><td>3</td><td>Operation</td><td>operator:&nbsp;6<br>operands:&nbsp;7<br></td><td><a class=\"ProveItLink\" href=\"../17d5fa5ddafd28c4bee2a37256e609f0d2406b990/expr.ipynb\"><img src=\"data:image/png;base64,iVBORw0KGgoAAAANSUhEUgAAADQAAAAQBAMAAACra0H4AAAAMFBMVEX///8iIiIyMjJmZmYQEBCq\n",
       "qqqYmJju7u5ERETMzMyIiIjc3NxUVFR2dna6uroAAACULOzSAAAAAXRSTlMAQObYZgAAAAlwSFlz\n",
       "AAAOxAAADsQBlSsOGwAAAJFJREFUGNNjYMAOOMVxSDDUGH3HEHsGpbkwpaKIk+K7s/vWKc5bfVik\n",
       "eDm6GOrzGEKwSM1jaWDYf4EhH4tUQf0DhvgChhMgvqGgoIugoAzcGfEMDEYMDF7YXHiIgUGWge83\n",
       "OxYpXwb2fww8Clsxpbh/MrB9YGC6cAGLvwQYuAwYWK02oEjxtHw8hSs0sIBnCCYAGT4sm372algA\n",
       "AAAASUVORK5CYII=\n",
       "\" style=\"display:inline;vertical-align:middle;\" /></a></td></tr>\n",
       "<tr><td>4</td><td>Literal</td><td></td><td><a class=\"ProveItLink\" href=\"../../../../logic/boolean/conjunction/__pv_it/f41cc6b553210927c09f19a8a39cdf860a5585930/expr.ipynb\"><img src=\"data:image/png;base64,iVBORw0KGgoAAAANSUhEUgAAAAwAAAANBAMAAABvB5JxAAAALVBMVEX///9mZmbc3NxERETMzMy6\n",
       "urpUVFSYmJiIiIgyMjIiIiLu7u6qqqp2dnYAAACMfHT6AAAAAXRSTlMAQObYZgAAAAlwSFlzAAAO\n",
       "xAAADsQBlSsOGwAAAEpJREFUCNdjYGDgPcAAArsmgKn2VDC1wBlE8lzgVABSnAo8AkDKjYFhNZBK\n",
       "YWDoYGDgBirfBdHMeICBCyjONIGhAqTJhMEaRPkCACemC8GDBfsjAAAAAElFTkSuQmCC\n",
       "\" style=\"display:inline;vertical-align:middle;\" /></a></td></tr>\n",
       "<tr><td>5</td><td>ExprTuple</td><td>8, 9</td><td><a class=\"ProveItLink\" href=\"../300012350c1f0b0d17ead484d00a3550f2c528210/expr.ipynb\"><img src=\"data:image/png;base64,iVBORw0KGgoAAAANSUhEUgAAAJYAAAAZBAMAAAAhycrcAAAAMFBMVEX///9UVFQiIiKIiIjMzMx2\n",
       "dnYQEBDc3NyYmJhEREQyMjLu7u5mZma6urqqqqoAAACMi3WHAAAAAXRSTlMAQObYZgAAAAlwSFlz\n",
       "AAAOxAAADsQBlSsOGwAAArZJREFUOMudVU1oE1EQ/pJss5vdJC2KhFaQEJAeKrIVfwiKBkFBUJpQ\n",
       "FMFLQDxIEXIp4sVGPCkUVytqlGo8CIKiqbd6SaF40FMQ6sFLiqAgKg00aW1D0JndbLK7JmRx4M2b\n",
       "WeZ9b+bNzwL4hR4UhAtKMgsv9DILuME6wewt/g8r05JEZpJK7EEXhDcbDws4s1bqguVbbokhhsEI\n",
       "gaa7ufM4NAClbvcr/uf24MsCS18tloeZjdLDJrthbcmcBdJ4n7uXy2XNj5sEPUG7krdYyoxeLKC/\n",
       "1A1rhyZnELX7JaxSslY5t1mLpcTpk7MYKzgx4rGYfmnkuph3YvmqtGok+G1H2NOghj1OqM8Hm0LE\n",
       "k9jnxApUaFXZynbmOV+TxhBtS5HJUfVYXI9WfGEaRKAFSg6sfg0oc9reUfpSl8e3CuOzpKU4m3Xk\n",
       "uGZzqvK7FNYzKmfaWCeVkai97sdUTO5uetIXmEFxGt9Iu8lPWcVT4qWLEGuQKjoW2ljS8ndHxRzZ\n",
       "dnpaFwjwlF/DVBK3SPvCATWwi/KrNBCuw6Ox0fEYkWZgYbvHgfXEFC4BhWIJKwUMsrtcJQ32C+EK\n",
       "gnn49fKdt/iFOSVqx9q0YGEF+ACcJ+kT+6XHCE8e3iTKGS4PrxVLUDUblFAzpVe0KG07EVpXjBiF\n",
       "dd1FfxLk75DILeZTTfO7tPa2sBS9vBqmOkPrAsflyV8Fbhh53E/bVIJf8Flf60bzeTn0JhVZkium\n",
       "mtKDonTJSWrCRS7+NMoU2EfgEPDzgG41N2t0wtE1zdp2XpoDntcbptd0JBSFbwHhRSqiYb52AP5/\n",
       "+nHpTizfoT1/2DRvwqKIUaMfu8+JTkPY3s6tIZ415oSQdgelqHb9vkW+wuwajxZ3WJJDn7fIj5gN\n",
       "u5r3HUlsDzApY8773v8hV6TH2fv/6IrOAX8BxU+gbIPlMbIAAAAASUVORK5CYII=\n",
       "\" style=\"display:inline;vertical-align:middle;\" /></a></td></tr>\n",
       "<tr><td>6</td><td>Literal</td><td></td><td><a class=\"ProveItLink\" href=\"../../../../number/addition/__pv_it/65ad7e8aee19b10110d590375ba95a879c4fb7ea0/expr.ipynb\"><img src=\"data:image/png;base64,iVBORw0KGgoAAAANSUhEUgAAAA4AAAAOBAMAAADtZjDiAAAAHlBMVEX///9UVFQQEBAiIiJmZmaI\n",
       "iIiqqqqYmJi6uroAAAAAFVhYAAAAAXRSTlMAQObYZgAAAAlwSFlzAAAOxAAADsQBlSsOGwAAAB9J\n",
       "REFUCNdjYGBgaGeAgFRiaGdjYyVjY0Oi1SPRIHsAgDEGyG9xCpgAAAAASUVORK5CYII=\n",
       "\" style=\"display:inline;vertical-align:middle;\" /></a></td></tr>\n",
       "<tr><td>7</td><td>ExprTuple</td><td>14, 10</td><td><a class=\"ProveItLink\" href=\"../7a702cba5addd226167644cd161e360e411c0d180/expr.ipynb\"><img src=\"data:image/png;base64,iVBORw0KGgoAAAANSUhEUgAAADEAAAAVBAMAAAAdjxsPAAAAMFBMVEX////MzMxUVFREREQiIiK6\n",
       "uroQEBCYmJhmZmYyMjLu7u52dnaqqqqIiIjc3NwAAACFAiZ1AAAAAXRSTlMAQObYZgAAAAlwSFlz\n",
       "AAAOxAAADsQBlSsOGwAAAQlJREFUKM9jYGB4wIAJwGK8B7DIxIKI0+iijF4Q5VwT0CQWdf4CkrMY\n",
       "GDgK0PXwgmQqGBjYGLDKsC1giMQuw1nA0M3AwLrp3V5dxr2myDLcCgzTgSSzLcP6UoZjyDLsExh8\n",
       "GBhE2QwY3m9gqEeW4XFgSGVgWLA+gOH8AgZlZBnGDyAZhvMMDJ0MDLnIMqwJDHOAlCYDgzcD6z8u\n",
       "VNNsgVQ2A9dXBqYJbxgWIFxgwLCJgYHvIwP7BwbODRu4fsJlOC4whADNdGDgbWDg6X3A4ALUxGT2\n",
       "RZeBgeUBA4sAkvd5FsBYT4AGNiDJcMNZ7UBshySzFsbgMwASi5Fk4DHCDDKWrwBLbNcxMAAASstA\n",
       "PQuwl6YAAAAASUVORK5CYII=\n",
       "\" style=\"display:inline;vertical-align:middle;\" /></a></td></tr>\n",
       "<tr><td>8</td><td>Operation</td><td>operator:&nbsp;11<br>operands:&nbsp;12<br></td><td><a class=\"ProveItLink\" href=\"../a161961d737d8b3142c513a50eeca001eab352ec0/expr.ipynb\"><img src=\"data:image/png;base64,iVBORw0KGgoAAAANSUhEUgAAAEYAAAATBAMAAADfQ2bzAAAAMFBMVEX///8iIiIyMjJmZmYQEBCq\n",
       "qqqYmJju7u5ERETMzMyIiIjc3NxUVFR2dna6uroAAACULOzSAAAAAXRSTlMAQObYZgAAAAlwSFlz\n",
       "AAAOxAAADsQBlSsOGwAAARJJREFUKM9jYCAADBgIgwZK1LDLd6gz8Pr74TWHI+ANA0N9AV41PNK8\n",
       "CQwsDMwdHR4dbbjURDBoMzBidw9Xo6AQWM22BZtwqOHTKoCas+Ek1wW4Gr47u2+d4rzVB5baVACz\n",
       "awMHQx9cDS9HF0N9HkMIWEob7p4NnAaFhbBwnsfSwLD/AkM+WEoBoYYhlbUFxiuof8AQX8BwAsTm\n",
       "dBQUFJSAquEpOAJ3ZzwDgxEDgxc4eBuQzGE/UAhXc4iBQZaB7zc7iC2ApIZhFgdcjS8D+z8GHoWt\n",
       "IPYqeFxMAIbVDBiP+ycD2wcGpgsXQBymAKgoI4hhBA82AQYuAwZWqw1gB514DhbklPcAkkXY44nv\n",
       "BiQuUAAA7zs7hIz3bAEAAAAASUVORK5CYII=\n",
       "\" style=\"display:inline;vertical-align:middle;\" /></a></td></tr>\n",
       "<tr><td>9</td><td>Operation</td><td>operator:&nbsp;13<br>operand:&nbsp;14<br></td><td><a class=\"ProveItLink\" href=\"../bedb7bd8894c723af4e2070bfcfd076b999e19470/expr.ipynb\"><img src=\"data:image/png;base64,iVBORw0KGgoAAAANSUhEUgAAADMAAAAVBAMAAAAZessyAAAAMFBMVEX///+YmJgiIiLc3Ny6urp2\n",
       "dnaqqqrMzMwQEBDu7u5mZmYyMjJUVFRERESIiIgAAACzCz+6AAAAAXRSTlMAQObYZgAAAAlwSFlz\n",
       "AAAOxAAADsQBlSsOGwAAAS9JREFUKM9lkj1LxEAQht9ccvm4S05BKxuttD2Fq10EWy+NfWorG2tt\n",
       "LYT0FuI/SGOhjYJYiXA/QHFBsBAPI1wQET/ezSVkFxdmdjbP7juzswG0YTdhH+Z4bsKt0o9/7+8u\n",
       "UgZu3KBeUk5fQHTI+VhXOFfO++EBGk51tFCe/aAVDA505KsUUU4jdjIddWfpZkbAUAIdVrF5PXiV\n",
       "e2MBtK+I9iUGy9W++EEG78KltKU03m6255VEK4EnjmAXsJjCXeKnxzqxQBBM4H4iZAovn16rRnBz\n",
       "dDL4zOxQ1CvqmtiAMEMrxrCfloK9SYUi7vVjnAjc2gksinbzCqly13exCJy1eRWJ8PJbTpFDiQ3g\n",
       "Bdh5Yr3Gs6zoizX862g9jF4j0jTskYECbRml5g+w2oRzwB+/HkXlxpULYAAAAABJRU5ErkJggg==\n",
       "\" style=\"display:inline;vertical-align:middle;\" /></a></td></tr>\n",
       "<tr><td>10</td><td>Literal</td><td></td><td><a class=\"ProveItLink\" href=\"../../../../number/numeral/__pv_it/f086f8c372bd40a2458306ddfdbb29f3dc6f63030/expr.ipynb\"><img src=\"data:image/png;base64,iVBORw0KGgoAAAANSUhEUgAAAAgAAAAOBAMAAADgeEClAAAAIVBMVEX///8QEBBERESIiIgyMjJm\n",
       "ZmZUVFTu7u4iIiLMzMwAAAAWRytzAAAAAXRSTlMAQObYZgAAAAlwSFlzAAAOxAAADsQBlSsOGwAA\n",
       "ABtJREFUCNdjYOBsZ2AoC1nOwMDATBbBprgiGQBsuwqCZsDj4wAAAABJRU5ErkJggg==\n",
       "\" style=\"display:inline;vertical-align:middle;\" /></a></td></tr>\n",
       "<tr><td>11</td><td>Literal</td><td></td><td><a class=\"ProveItLink\" href=\"../../../../logic/set_theory/membership/__pv_it/7776fc89cb67d0b5b1ec2c0c8e08da5587921ccf0/expr.ipynb\"><img src=\"data:image/png;base64,iVBORw0KGgoAAAANSUhEUgAAAAwAAAAMBAMAAACkW0HUAAAAKlBMVEX///92dnZUVFSqqqoQEBDM\n",
       "zMzc3Nzu7u66uroyMjIiIiJERESIiIgAAACm0meuAAAAAXRSTlMAQObYZgAAAAlwSFlzAAAOxAAA\n",
       "DsQBlSsOGwAAADxJREFUCNdjYGA4vWrVBAaGzuMMQMA2HUQycCZAKDDJELIKCDYwVEN4XBCK5wCE\n",
       "ngyhinYUgOnGXasmAABvGQ6ucz2C1gAAAABJRU5ErkJggg==\n",
       "\" style=\"display:inline;vertical-align:middle;\" /></a></td></tr>\n",
       "<tr><td>12</td><td>ExprTuple</td><td>14, 15</td><td><a class=\"ProveItLink\" href=\"../061fccfc91c2b2afb1ecc0b4adbbc1fd783de4430/expr.ipynb\"><img src=\"data:image/png;base64,iVBORw0KGgoAAAANSUhEUgAAAEYAAAAZBAMAAAB+2EWVAAAAMFBMVEX///9UVFQiIiKIiIjMzMx2\n",
       "dnYQEBDc3NyYmJhEREQyMjLu7u5mZma6urqqqqoAAACMi3WHAAAAAXRSTlMAQObYZgAAAAlwSFlz\n",
       "AAAOxAAADsQBlSsOGwAAAXxJREFUKM99k7tLw1AUxr/U2KS9aS0uwQrSzaEiqfhAcCiCgyCYSQSX\n",
       "rG5dHJys+AeYQcQ4lHRwj44udXULgnO7ihY6aFVKwXNL82hieyHf4eb+ck7O4wJoY8xSuOhcsk/j\n",
       "mBSXXS6PmMjIGslN5OTh99bBQdcdMigCkhH9vJbJgfU8PyjRj+lRZrZyCBh4tq4tqwo0HMy4UWbB\n",
       "TFdQ8P2kq9h3oox6IdkhRjGxEktHFcprIWbKQJ7Mq3pS0nY2h1FVmCk3YDI9WLyWlsZ+3KzhMXus\n",
       "WPDqDPETdVL3GNIX5I7HyK23oCJSH0sAY31kexBMj8G8EDB0WOct60CxkdR85p4VAj+DWBBsJHQ0\n",
       "K47HiJrpM+I35sgkdTRc5KUW4y+v6FkNGMprncxZGZfA3TQaNu2WeUq2z8gGmhTgBdgCPjaQoCZv\n",
       "d8kHCxglh+RIv97jU0T9Gu27Hmeo72J4fpgWZ875KIT28j8TuzhxnuHP8/h7MVinA21PZI6APwpi\n",
       "VFupzjAyAAAAAElFTkSuQmCC\n",
       "\" style=\"display:inline;vertical-align:middle;\" /></a></td></tr>\n",
       "<tr><td>13</td><td>Variable</td><td></td><td><a class=\"ProveItLink\" href=\"../390c91a44e60b16c95d2255652741252e8ec8d980/expr.ipynb\"><img src=\"data:image/png;base64,iVBORw0KGgoAAAANSUhEUgAAABAAAAAOBAMAAADUAYG5AAAAMFBMVEX///+YmJgiIiLc3Ny6urp2\n",
       "dnaqqqrMzMwQEBDu7u5mZmYyMjJUVFRERESIiIgAAACzCz+6AAAAAXRSTlMAQObYZgAAAAlwSFlz\n",
       "AAAOxAAADsQBlSsOGwAAAF1JREFUCNdjYGB4+//O2V0TGIDgNwMDbyeQZv/HwMAGxAx834H4K5DB\n",
       "+wGIgRwG/gsMDP4PgIz6BwymaiBN74+GioBohvsMUPAbSrN/hTL4vkAZ3B8gNM/+vyAzGABqABnj\n",
       "X5k3PAAAAABJRU5ErkJggg==\n",
       "\" style=\"display:inline;vertical-align:middle;\" /></a></td></tr>\n",
       "<tr><td>14</td><td>Variable</td><td></td><td><a class=\"ProveItLink\" href=\"../6e8a38e9a7e2b6af352562cd77e0eb4751f142620/expr.ipynb\"><img src=\"data:image/png;base64,iVBORw0KGgoAAAANSUhEUgAAABIAAAAJBAMAAADN8WE8AAAAMFBMVEX///8iIiIyMjJmZmYQEBCq\n",
       "qqqYmJju7u5ERETMzMyIiIjc3NxUVFR2dna6uroAAACULOzSAAAAAXRSTlMAQObYZgAAAAlwSFlz\n",
       "AAAOxAAADsQBlSsOGwAAAGNJREFUCNdj4Luz+9Ypzlt9DAy8HF0M9XkMIQwM81gaGPZfYMhnYCio\n",
       "f8AQX8BwgoGBIZ6BwYiBwQvIOsTAIMvA95udgcGXgf0fA4/CVgbunwxsHxiYLlxg4BNg4DJgYLXa\n",
       "AAB/WBcBafZ/twAAAABJRU5ErkJggg==\n",
       "\" style=\"display:inline;vertical-align:middle;\" /></a></td></tr>\n",
       "<tr><td>15</td><td>Literal</td><td></td><td><a class=\"ProveItLink\" href=\"../../../../number/sets/integer/__pv_it/f6a9f4b6dec6ab4d2dcb6ba1b0ba3cceefc643530/expr.ipynb\"><img src=\"data:image/png;base64,iVBORw0KGgoAAAANSUhEUgAAABsAAAASBAMAAABY9biuAAAAMFBMVEX///9mZmbMzMyIiIiYmJjc\n",
       "3NxUVFSqqqq6uroQEBB2dnYyMjJEREQiIiLu7u4AAAAPqInnAAAAAXRSTlMAQObYZgAAAAlwSFlz\n",
       "AAAOxAAADsQBlSsOGwAAAH9JREFUGNNjYIADRgYUwIOF+/bP6QcMK382wGSPcyQw8P2DK84NWMLA\n",
       "MIFB5szJM2ccGBjSD3AHMFyAy6Y6s25A5rIpWCFzGQ7wNCBzFfnuXYC7KpWBpaBmAtwxqQwMeWwo\n",
       "3Gd8F5C5TAYH4NxDQGyE4F4HGboBxtP9CZThg3EBugMlU91oyisAAAAASUVORK5CYII=\n",
       "\" style=\"display:inline;vertical-align:middle;\" /></a></td></tr>\n",
       "</table>\n"
      ],
      "text/plain": [
       "0. {P(m + 1) if m in NaturalsPos ,  P(m).\n",
       "   core type: Conditional\n",
       "   value: 1\n",
       "   condition: 2\n",
       "1. P(m + 1)\n",
       "   core type: Operation\n",
       "   operator: 13\n",
       "   operand: 3\n",
       "2. (m in NaturalsPos) and P(m)\n",
       "   core type: Operation\n",
       "   operator: 4\n",
       "   operands: 5\n",
       "3. m + 1\n",
       "   core type: Operation\n",
       "   operator: 6\n",
       "   operands: 7\n",
       "4. and\n",
       "   core type: Literal\n",
       "   sub-expressions: \n",
       "5. (m in NaturalsPos , P(m))\n",
       "   core type: ExprTuple\n",
       "   sub-expressions: 8, 9\n",
       "6. +\n",
       "   core type: Literal\n",
       "   sub-expressions: \n",
       "7. (m , 1)\n",
       "   core type: ExprTuple\n",
       "   sub-expressions: 14, 10\n",
       "8. m in NaturalsPos\n",
       "   core type: Operation\n",
       "   operator: 11\n",
       "   operands: 12\n",
       "9. P(m)\n",
       "   core type: Operation\n",
       "   operator: 13\n",
       "   operand: 14\n",
       "10. 1\n",
       "    core type: Literal\n",
       "    sub-expressions: \n",
       "11. in\n",
       "    core type: Literal\n",
       "    sub-expressions: \n",
       "12. (m , NaturalsPos)\n",
       "    core type: ExprTuple\n",
       "    sub-expressions: 14, 15\n",
       "13. P\n",
       "    core type: Variable\n",
       "    sub-expressions: \n",
       "14. m\n",
       "    core type: Variable\n",
       "    sub-expressions: \n",
       "15. NaturalsPos\n",
       "    core type: Literal\n",
       "    sub-expressions: "
      ]
     },
     "execution_count": 5,
     "metadata": {},
     "output_type": "execute_result"
    }
   ],
   "source": [
    "# display the expression information\n",
    "expr.exprInfo()"
   ]
  },
  {
   "cell_type": "code",
   "execution_count": null,
   "metadata": {},
   "outputs": [],
   "source": []
  }
 ],
 "metadata": {
  "kernelspec": {
   "display_name": "Python 3",
   "language": "python",
   "name": "python3"
  },
  "language_info": {
   "codemirror_mode": {
    "name": "ipython",
    "version": 3
   },
   "file_extension": ".py",
   "mimetype": "text/x-python",
   "name": "python",
   "nbconvert_exporter": "python",
   "pygments_lexer": "ipython3",
   "version": "3.7.4"
  }
 },
 "nbformat": 4,
 "nbformat_minor": 1
}
