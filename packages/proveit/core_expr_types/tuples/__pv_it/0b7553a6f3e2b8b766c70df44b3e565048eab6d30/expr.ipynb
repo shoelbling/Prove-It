{
 "cells": [
  {
   "cell_type": "markdown",
   "metadata": {},
   "source": [
    "Expression of type <a class=\"ProveItLink\" href=\"../../../../../../doc/html/api/proveit.Conditional.html\">Conditional</a>\n",
    "=======================\n",
    "# from context <a class=\"ProveItLink\" href=\"../../_context_.ipynb\">proveit.core_expr_types.tuples</a>"
   ]
  },
  {
   "cell_type": "code",
   "execution_count": 1,
   "metadata": {},
   "outputs": [],
   "source": [
    "import proveit\n",
    "# Automation is not needed when building an expression:\n",
    "proveit.defaults.automation = False # This will speed things up.\n",
    "# import Expression classes needed to build the expression\n",
    "from proveit import Conditional, Variable\n",
    "from proveit.logic import InSet"
   ]
  },
  {
   "cell_type": "code",
   "execution_count": 2,
   "metadata": {},
   "outputs": [
    {
     "data": {
      "text/html": [
       "<strong id=\"expr\">expr:</strong> <a class=\"ProveItLink\" href=\"expr.ipynb\"><img src=\"data:image/png;base64,iVBORw0KGgoAAAANSUhEUgAAAJgAAAAVBAMAAABIwjoUAAAAMFBMVEX///8QEBBERERUVFTMzMyY\n",
       "mJjc3NxmZmYiIiJ2dnaqqqoyMjKIiIi6urru7u4AAAAvZeGPAAAAAXRSTlMAQObYZgAAAAlwSFlz\n",
       "AAAOxAAADsQBlSsOGwAAAc5JREFUOMtjYGDgu8tAPXB6HTGqWM/ilmPbAGNx/cOhW/+TsbUKmJkY\n",
       "wMCwy/8CTsO4P8BYnA04lDAqMDDYO4BY9wsYWBuSH+A0bD1hw/IPgI0BAj4GBmYDPEFQ/A2HYYc6\n",
       "OqAhEA90VfwBqDBzAZoBCHUMnJlfsBt2+xycaQ/EGxNwGIakjiGH5xeKYW8OP5m5ABQv+xBqhBgY\n",
       "HreAI2ujAYuhMNif2NQxFHB9hTHZQa4t4LFhBxnKnQBXwvLpzOGtECaHASzMsKhj4F3A8hMezsB4\n",
       "Z03g+cYcAFKEUMMDDNWFAWAmE8wwbOoY2BnYPkOZzr0gVzAwQULTsQMIFCAmCACD4AuqYdjUMRwq\n",
       "L/4ENYyvGpx++CHR9ghhIT9QO+sfVMOwqeMDivyAcZjAyu4n8IEM5UAo8gd6h/kvumGY6tiBuBE5\n",
       "Nh9dsGfgBAfUAbii88Aw9t+Aahg2dVeBeD+yYev9ChlugXm74Io2AuNJGpKFmBRAiAGrOjZg0DLo\n",
       "gyKX7zfEsOdnuEoXgOUe60KzoPV/Y+NNEDEWRaEnip9AbsFUx6f/+wHDov87Qex2jOx0UwOeTfAC\n",
       "7OpwZnRyAI8AFQ3jk6KiYQzpVtQyCQD3YI5S1sxo4QAAAABJRU5ErkJggg==\n",
       "\" style=\"display:inline;vertical-align:middle;\" /></a><br>"
      ],
      "text/plain": [
       "expr: {x in B if x in A."
      ]
     },
     "execution_count": 2,
     "metadata": {},
     "output_type": "execute_result"
    }
   ],
   "source": [
    "# build up the expression from sub-expressions\n",
    "subExpr1 = Variable(\"x\")\n",
    "expr = Conditional(InSet(subExpr1, Variable(\"B\")), InSet(subExpr1, Variable(\"A\")))"
   ]
  },
  {
   "cell_type": "code",
   "execution_count": 3,
   "metadata": {},
   "outputs": [
    {
     "name": "stdout",
     "output_type": "stream",
     "text": [
      "Passed sanity check: built 'expr' is the same as the stored Expression.\n"
     ]
    }
   ],
   "source": [
    "# check that the built expression is the same as the stored expression\n",
    "%check_expr"
   ]
  },
  {
   "cell_type": "code",
   "execution_count": 4,
   "metadata": {},
   "outputs": [
    {
     "name": "stdout",
     "output_type": "stream",
     "text": [
      "\\left\\{x \\in B \\textrm{ if } x \\in A\\right..\n"
     ]
    }
   ],
   "source": [
    "# Show the LaTeX representation of the expression for convenience if you need it.\n",
    "print(expr.latex())"
   ]
  },
  {
   "cell_type": "code",
   "execution_count": 5,
   "metadata": {},
   "outputs": [
    {
     "data": {
      "text/html": [
       "<table><tr><th>&nbsp;</th><th>core type</th><th>sub-expressions</th><th>expression</th></tr>\n",
       "<tr><td>0</td><td>Conditional</td><td>value:&nbsp;1<br>condition:&nbsp;2<br></td><td><a class=\"ProveItLink\" href=\"expr.ipynb\"><img src=\"data:image/png;base64,iVBORw0KGgoAAAANSUhEUgAAAJgAAAAVBAMAAABIwjoUAAAAMFBMVEX///8QEBBERERUVFTMzMyY\n",
       "mJjc3NxmZmYiIiJ2dnaqqqoyMjKIiIi6urru7u4AAAAvZeGPAAAAAXRSTlMAQObYZgAAAAlwSFlz\n",
       "AAAOxAAADsQBlSsOGwAAAc5JREFUOMtjYGDgu8tAPXB6HTGqWM/ilmPbAGNx/cOhW/+TsbUKmJkY\n",
       "wMCwy/8CTsO4P8BYnA04lDAqMDDYO4BY9wsYWBuSH+A0bD1hw/IPgI0BAj4GBmYDPEFQ/A2HYYc6\n",
       "OqAhEA90VfwBqDBzAZoBCHUMnJlfsBt2+xycaQ/EGxNwGIakjiGH5xeKYW8OP5m5ABQv+xBqhBgY\n",
       "HreAI2ujAYuhMNif2NQxFHB9hTHZQa4t4LFhBxnKnQBXwvLpzOGtECaHASzMsKhj4F3A8hMezsB4\n",
       "Z03g+cYcAFKEUMMDDNWFAWAmE8wwbOoY2BnYPkOZzr0gVzAwQULTsQMIFCAmCACD4AuqYdjUMRwq\n",
       "L/4ENYyvGpx++CHR9ghhIT9QO+sfVMOwqeMDivyAcZjAyu4n8IEM5UAo8gd6h/kvumGY6tiBuBE5\n",
       "Nh9dsGfgBAfUAbii88Aw9t+Aahg2dVeBeD+yYev9ChlugXm74Io2AuNJGpKFmBRAiAGrOjZg0DLo\n",
       "gyKX7zfEsOdnuEoXgOUe60KzoPV/Y+NNEDEWRaEnip9AbsFUx6f/+wHDov87Qex2jOx0UwOeTfAC\n",
       "7OpwZnRyAI8AFQ3jk6KiYQzpVtQyCQD3YI5S1sxo4QAAAABJRU5ErkJggg==\n",
       "\" style=\"display:inline;vertical-align:middle;\" /></a></td></tr>\n",
       "<tr><td>1</td><td>Operation</td><td>operator:&nbsp;4<br>operands:&nbsp;3<br></td><td><a class=\"ProveItLink\" href=\"../56f1d08ab504176f9811a9254dc1c019c70a714e0/expr.ipynb\"><img src=\"data:image/png;base64,iVBORw0KGgoAAAANSUhEUgAAADUAAAAPBAMAAAC2KZqIAAAAMFBMVEX///8QEBC6uroyMjJERETc\n",
       "3NyYmJgiIiJmZmaqqqp2dnbMzMxUVFSIiIju7u4AAAAoIwv1AAAAAXRSTlMAQObYZgAAAAlwSFlz\n",
       "AAAOxAAADsQBlSsOGwAAAN5JREFUGNNjYMAC2Py/nDnszYAdMDowMJzfgF0u/gIDg34DssiV8nID\n",
       "CCsfqCf/ApKU8j048zwQGwYwMLy983rVBCCb1Q6hTISB4U01kG7gPctRAKSZA+BS3F/u3jEDuTeA\n",
       "9ytPAkgOoY33KwPDRKAYNwMLxAEby4HAAcxkEWBg4PoNYvFDHPQEoY//ANC8vyCWfgDfAyDFjpDb\n",
       "DzSP5xNQucJ5Bi6wJQj/3Ac6az/Qpvn7Ghk0wSKWcDlDBgYmYaBZL+5ytk0Ai7xxegCROvz/zBmT\n",
       "CaihqOUOCzMIAAC7gDmN5+5VswAAAABJRU5ErkJggg==\n",
       "\" style=\"display:inline;vertical-align:middle;\" /></a></td></tr>\n",
       "<tr><td>2</td><td>Operation</td><td>operator:&nbsp;4<br>operands:&nbsp;5<br></td><td><a class=\"ProveItLink\" href=\"../cbd4fcba595f14ffba16b39e68e179f06d785f640/expr.ipynb\"><img src=\"data:image/png;base64,iVBORw0KGgoAAAANSUhEUgAAADUAAAAQBAMAAABEqSrGAAAAMFBMVEX///8QEBC6uroyMjJERETc\n",
       "3NyYmJgiIiJmZmaqqqp2dnbMzMxUVFSIiIju7u4AAAAoIwv1AAAAAXRSTlMAQObYZgAAAAlwSFlz\n",
       "AAAOxAAADsQBlSsOGwAAAM5JREFUGNNjYMABghlwA3vcUpz/cctxnA9A4fO6lxfD2EvXb0CWYrJ9\n",
       "AGezXrg/AUi9vfN61QSwyx4gGckwPwFINfCe5SgA8U2RzNBk2L+AgYEtgPcrD0gNgwGSXAND/AEG\n",
       "Bm4GFoggt3h5eXkJ1FUeHecdQAz+C2A+nwNC21ugKNge/QA+sCsKkI1kYBdgYHiicJ6BCyxwF+Eb\n",
       "oP3MHxgY5u9rBLoKBJgnwOQCgZjlKwPDi7ucbRBBviN6EKkn/+0YOP0/L0AJmCWIMAMBAES/MVd2\n",
       "kbCpAAAAAElFTkSuQmCC\n",
       "\" style=\"display:inline;vertical-align:middle;\" /></a></td></tr>\n",
       "<tr><td>3</td><td>ExprTuple</td><td>7, 6</td><td><a class=\"ProveItLink\" href=\"../ff218fe43a68f008659a9d24128b5840be3b7c550/expr.ipynb\"><img src=\"data:image/png;base64,iVBORw0KGgoAAAANSUhEUgAAADIAAAAVBAMAAAD2uKAMAAAAMFBMVEX////MzMxUVFREREQiIiK6\n",
       "uroQEBCYmJhmZmYyMjLu7u52dnaqqqqIiIjc3NwAAACFAiZ1AAAAAXRSTlMAQObYZgAAAAlwSFlz\n",
       "AAAOxAAADsQBlSsOGwAAAS1JREFUKM9jYGB4wIAJ+EAE7wEsMqwXgMRpFCF2+89KmoYMDHcYGLgm\n",
       "oKpmM2Bg0Bdg4FzAwFGAKvMeaE58AwN7AwMbmg31AkAMlM1iiEST0QfiaUDnTmfoBrLWXlq4G+bC\n",
       "ZAaGRY5AehNQjoGhgVeXwwEiwfj57iWQEEMlgw/QpQ94/zFBHcL7j4HhGIh9hCEVqI6BGe505gQG\n",
       "Bu6PQIY8SIaBgf8CTIZfAWjGXyAjjGEOiB//gGsBREYeaBLTV7BptgwMiwP0GbgZGMBy94EOlgeZ\n",
       "XQx0HcN5qTaGGAaunyCZacDQzASp6WUIYWBYcZenHegdF6CA5n8lpclgr/kxsAjALOdZgBxBDqCg\n",
       "gwJu5EACBbQdjLMWWeYxEC+GcVCiwwpkYgGW2GZ/wAAAIRlDqA8vs3wAAAAASUVORK5CYII=\n",
       "\" style=\"display:inline;vertical-align:middle;\" /></a></td></tr>\n",
       "<tr><td>4</td><td>Literal</td><td></td><td><a class=\"ProveItLink\" href=\"../../../../logic/set_theory/membership/__pv_it/7776fc89cb67d0b5b1ec2c0c8e08da5587921ccf0/expr.ipynb\"><img src=\"data:image/png;base64,iVBORw0KGgoAAAANSUhEUgAAAAwAAAAMBAMAAACkW0HUAAAAKlBMVEX///92dnZUVFSqqqoQEBDM\n",
       "zMzc3Nzu7u66uroyMjIiIiJERESIiIgAAACm0meuAAAAAXRSTlMAQObYZgAAAAlwSFlzAAAOxAAA\n",
       "DsQBlSsOGwAAADxJREFUCNdjYGA4vWrVBAaGzuMMQMA2HUQycCZAKDDJELIKCDYwVEN4XBCK5wCE\n",
       "ngyhinYUgOnGXasmAABvGQ6ucz2C1gAAAABJRU5ErkJggg==\n",
       "\" style=\"display:inline;vertical-align:middle;\" /></a></td></tr>\n",
       "<tr><td>5</td><td>ExprTuple</td><td>7, 8</td><td><a class=\"ProveItLink\" href=\"../cf9324949c10dd9cc41d897ace034cd25079965a0/expr.ipynb\"><img src=\"data:image/png;base64,iVBORw0KGgoAAAANSUhEUgAAADEAAAAVBAMAAAAdjxsPAAAAMFBMVEX////MzMxUVFREREQiIiK6\n",
       "uroQEBCYmJhmZmYyMjLu7u52dnaqqqqIiIjc3NwAAACFAiZ1AAAAAXRSTlMAQObYZgAAAAlwSFlz\n",
       "AAAOxAAADsQBlSsOGwAAASNJREFUKM9jYGB4wIAJwGK8B9BE+SYwMMSCGKfR1XN+gCjnmoAucx4o\n",
       "wzCLgYGjAF2m6R+QqGBgYEOX4H79EUiyLWCIRJd5y/sHZFkBQzeQWntp4W64Cxt4voN0KjBMB3F4\n",
       "dTkcoBKsBxh/Ayn2CQw+QPIB7z8mmEM4GPg+ASkeB4ZUBgZGBmaE0y93NH0GUowfQDIMDPwXYBJc\n",
       "QNYXkKEJDHNA/PgHXAtghjEwuEFMs2VgWBygz8DNwACWCwfi+SAXGDBsAgaHVBtDDAPXT1BoJgAJ\n",
       "e2BIc1xgCGFgWHGXpx3oHZcFDFz2PxcwHP4/m4GB5QEDiwDMcp4FSCHxBGhgAzzAkMOoHYjtYJy1\n",
       "yLFnACQWw3jI0cEMMpmvAEs6qGNgAABDf0LYn2orcQAAAABJRU5ErkJggg==\n",
       "\" style=\"display:inline;vertical-align:middle;\" /></a></td></tr>\n",
       "<tr><td>6</td><td>Variable</td><td></td><td><a class=\"ProveItLink\" href=\"../4d98b438710c5ada9ffa4646bb123a7d0e69ec000/expr.ipynb\"><img src=\"data:image/png;base64,iVBORw0KGgoAAAANSUhEUgAAABAAAAAOBAMAAADUAYG5AAAAMFBMVEX///92dnaqqqoiIiLu7u5m\n",
       "Zma6urqIiIjc3NwQEBDMzMwyMjJUVFRERESYmJgAAAAeMT9/AAAAAXRSTlMAQObYZgAAAAlwSFlz\n",
       "AAAOxAAADsQBlSsOGwAAAHJJREFUCNdjYGB4+//Omb0LGIBgLgMDzy8gzfGdgYHtK5DBB+TxATkM\n",
       "PB8YGLhnABmcFxhYDoMUr79efvoBSFN9AwPTPBDjJhDLg6T+APH7AgYGrn9AxvkEBgb2H0DObyCH\n",
       "ewIDQ+YWoHH7/5w5fYmBAQBdUiHY6HsJaQAAAABJRU5ErkJggg==\n",
       "\" style=\"display:inline;vertical-align:middle;\" /></a></td></tr>\n",
       "<tr><td>7</td><td>Variable</td><td></td><td><a class=\"ProveItLink\" href=\"../72df168d2bfb4e0140af90912ebf83b13772060b0/expr.ipynb\"><img src=\"data:image/png;base64,iVBORw0KGgoAAAANSUhEUgAAAAsAAAAJBAMAAAAWSsseAAAAMFBMVEX///8QEBC6uroyMjJERETc\n",
       "3NyYmJgiIiJmZmaqqqp2dnbMzMxUVFSIiIju7u4AAAAoIwv1AAAAAXRSTlMAQObYZgAAAAlwSFlz\n",
       "AAAOxAAADsQBlSsOGwAAAENJREFUCNdjYHh75/WqCQwMDbxnOQoY2AJ4v/IkMHAzsBgwgAD/BTCl\n",
       "H8D3gOGJwnkGLgaG+fsaGTQZGF7c5WybwAAAJGsQ2L2rVEcAAAAASUVORK5CYII=\n",
       "\" style=\"display:inline;vertical-align:middle;\" /></a></td></tr>\n",
       "<tr><td>8</td><td>Variable</td><td></td><td><a class=\"ProveItLink\" href=\"../d3792d0d8642fdf1cd2a3a9b32c673ee13653de00/expr.ipynb\"><img src=\"data:image/png;base64,iVBORw0KGgoAAAANSUhEUgAAAA8AAAAPBAMAAADJ+Ih5AAAAMFBMVEX///8QEBAiIiLu7u5ERES6\n",
       "urqYmJiIiIjMzMx2dnZUVFRmZmaqqqoyMjLc3NwAAABb1yYoAAAAAXRSTlMAQObYZgAAAAlwSFlz\n",
       "AAAOxAAADsQBlSsOGwAAAF9JREFUCNdjYACBtwxQcB9K8/yHMrjXP4Aw5s1vANN8BfUHIDIM5xPA\n",
       "jBiG/glgxgaG9wtANLv37vUOIIY5AwO/AkSGgUkASLMCdfB+ADIeAjHLPwYGk/+XGXj8/04AADnq\n",
       "Fzds8Dk2AAAAAElFTkSuQmCC\n",
       "\" style=\"display:inline;vertical-align:middle;\" /></a></td></tr>\n",
       "</table>\n"
      ],
      "text/plain": [
       "0. {x in B if x in A.\n",
       "   core type: Conditional\n",
       "   value: 1\n",
       "   condition: 2\n",
       "1. x in B\n",
       "   core type: Operation\n",
       "   operator: 4\n",
       "   operands: 3\n",
       "2. x in A\n",
       "   core type: Operation\n",
       "   operator: 4\n",
       "   operands: 5\n",
       "3. (x , B)\n",
       "   core type: ExprTuple\n",
       "   sub-expressions: 7, 6\n",
       "4. in\n",
       "   core type: Literal\n",
       "   sub-expressions: \n",
       "5. (x , A)\n",
       "   core type: ExprTuple\n",
       "   sub-expressions: 7, 8\n",
       "6. B\n",
       "   core type: Variable\n",
       "   sub-expressions: \n",
       "7. x\n",
       "   core type: Variable\n",
       "   sub-expressions: \n",
       "8. A\n",
       "   core type: Variable\n",
       "   sub-expressions: "
      ]
     },
     "execution_count": 5,
     "metadata": {},
     "output_type": "execute_result"
    }
   ],
   "source": [
    "# display the expression information\n",
    "expr.exprInfo()"
   ]
  },
  {
   "cell_type": "code",
   "execution_count": null,
   "metadata": {},
   "outputs": [],
   "source": []
  }
 ],
 "metadata": {
  "kernelspec": {
   "display_name": "Python 3",
   "language": "python",
   "name": "python3"
  },
  "language_info": {
   "codemirror_mode": {
    "name": "ipython",
    "version": 3
   },
   "file_extension": ".py",
   "mimetype": "text/x-python",
   "name": "python",
   "nbconvert_exporter": "python",
   "pygments_lexer": "ipython3",
   "version": "3.7.4"
  }
 },
 "nbformat": 4,
 "nbformat_minor": 1
}
