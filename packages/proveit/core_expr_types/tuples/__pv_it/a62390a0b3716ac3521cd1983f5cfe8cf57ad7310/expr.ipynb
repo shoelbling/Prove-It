{
 "cells": [
  {
   "cell_type": "markdown",
   "metadata": {},
   "source": [
    "Expression of type <a class=\"ProveItLink\" href=\"../../../../../../doc/html/api/proveit.logic.Set.html\">Set</a>\n",
    "=======================\n",
    "# from context <a class=\"ProveItLink\" href=\"../../_context_.ipynb\">proveit.core_expr_types.tuples</a>"
   ]
  },
  {
   "cell_type": "code",
   "execution_count": 1,
   "metadata": {},
   "outputs": [],
   "source": [
    "import proveit\n",
    "# Automation is not needed when building an expression:\n",
    "proveit.defaults.automation = False # This will speed things up.\n",
    "# import Expression classes needed to build the expression\n",
    "from proveit._common_ import m\n",
    "from proveit.logic import InSet, Set\n",
    "from proveit.number import NaturalsPos"
   ]
  },
  {
   "cell_type": "code",
   "execution_count": 2,
   "metadata": {},
   "outputs": [
    {
     "data": {
      "text/html": [
       "<strong id=\"expr\">expr:</strong> <a class=\"ProveItLink\" href=\"../40c08d16581cf762faa7fbde98c0d31fe703ebb00/expr.ipynb\"><img src=\"data:image/png;base64,iVBORw0KGgoAAAANSUhEUgAAAF0AAAAZBAMAAAChlj+KAAAAMFBMVEX///9mZma6urrc3NwiIiKI\n",
       "iIjMzMyYmJgQEBB2dnbu7u5EREQyMjJUVFSqqqoAAABfjFPjAAAAAXRSTlMAQObYZgAAAAlwSFlz\n",
       "AAAOxAAADsQBlSsOGwAAAYZJREFUOMtjYGDgu8dACDCCCL59EM7pBQTVc4PJtV4gkrOBgUj1DI4g\n",
       "gvcALlVLfu9ZwDDjhwJc/W6w+g04jd3HdIGB6xfC/NsE1F8xmM7A0MAgvXvH7t0FRKi/t4HHgMGB\n",
       "sPnRLi5gT10uZT5AhHqdKCjjMm9CJLL6O+CwAqnXvGwZG5AZrQASYD4F03iZYQO3Arr69SCfTNgd\n",
       "wPVdgQ8cFUA3w9Uncnk5wOKXgeE9UIbtKJDBptDNwPyTgf0DWD0DQj37g9dI0cnuxMBQAjKNi+sT\n",
       "A98vqFcyXIBgA0Q9wy1e5OhfE8DAdBSclj4wMB5g4AgAsVcjmc+wlssB1XyI+4GJgmUCg74BKOmx\n",
       "IKtnC0AKPpD7IeHDMYFhvQLDHeYHQDZrAEx+GxCHIam/Aw9/+wSGegaGk5xg4XMweT9Q0CAlR0R8\n",
       "qTAwBDIwPAyGpPNNkByR8gMoxYVVPSrQ3OKCNZETSm/UUX+AaPXg/MXaQLR6cP5lOEuscl5IwiWi\n",
       "/AEDputAAgDbuG7/d3OV1AAAAABJRU5ErkJggg==\n",
       "\" style=\"display:inline;vertical-align:middle;\" /></a><br>"
      ],
      "text/plain": [
       "expr: {m in NaturalsPos}"
      ]
     },
     "execution_count": 2,
     "metadata": {},
     "output_type": "execute_result"
    }
   ],
   "source": [
    "# build up the expression from sub-expressions\n",
    "expr = Set(InSet(m, NaturalsPos))"
   ]
  },
  {
   "cell_type": "code",
   "execution_count": 3,
   "metadata": {},
   "outputs": [
    {
     "name": "stdout",
     "output_type": "stream",
     "text": [
      "Passed sanity check: built 'expr' is the same as the stored Expression.\n"
     ]
    }
   ],
   "source": [
    "# check that the built expression is the same as the stored expression\n",
    "%check_expr"
   ]
  },
  {
   "cell_type": "code",
   "execution_count": 4,
   "metadata": {},
   "outputs": [
    {
     "name": "stdout",
     "output_type": "stream",
     "text": [
      "\\left\\{m \\in \\mathbb{N}^+\\right\\}\n"
     ]
    }
   ],
   "source": [
    "# Show the LaTeX representation of the expression for convenience if you need it.\n",
    "print(expr.latex())"
   ]
  },
  {
   "cell_type": "code",
   "execution_count": 5,
   "metadata": {},
   "outputs": [
    {
     "data": {
      "text/html": [
       "<table><tr><th>&nbsp;</th><th>core type</th><th>sub-expressions</th><th>expression</th></tr>\n",
       "<tr><td>0</td><td>Operation</td><td>operator:&nbsp;1<br>operand:&nbsp;2<br></td><td><a class=\"ProveItLink\" href=\"../40c08d16581cf762faa7fbde98c0d31fe703ebb00/expr.ipynb\"><img src=\"data:image/png;base64,iVBORw0KGgoAAAANSUhEUgAAAF0AAAAZBAMAAAChlj+KAAAAMFBMVEX///9mZma6urrc3NwiIiKI\n",
       "iIjMzMyYmJgQEBB2dnbu7u5EREQyMjJUVFSqqqoAAABfjFPjAAAAAXRSTlMAQObYZgAAAAlwSFlz\n",
       "AAAOxAAADsQBlSsOGwAAAYZJREFUOMtjYGDgu8dACDCCCL59EM7pBQTVc4PJtV4gkrOBgUj1DI4g\n",
       "gvcALlVLfu9ZwDDjhwJc/W6w+g04jd3HdIGB6xfC/NsE1F8xmM7A0MAgvXvH7t0FRKi/t4HHgMGB\n",
       "sPnRLi5gT10uZT5AhHqdKCjjMm9CJLL6O+CwAqnXvGwZG5AZrQASYD4F03iZYQO3Arr69SCfTNgd\n",
       "wPVdgQ8cFUA3w9Uncnk5wOKXgeE9UIbtKJDBptDNwPyTgf0DWD0DQj37g9dI0cnuxMBQAjKNi+sT\n",
       "A98vqFcyXIBgA0Q9wy1e5OhfE8DAdBSclj4wMB5g4AgAsVcjmc+wlssB1XyI+4GJgmUCg74BKOmx\n",
       "IKtnC0AKPpD7IeHDMYFhvQLDHeYHQDZrAEx+GxCHIam/Aw9/+wSGegaGk5xg4XMweT9Q0CAlR0R8\n",
       "qTAwBDIwPAyGpPNNkByR8gMoxYVVPSrQ3OKCNZETSm/UUX+AaPXg/MXaQLR6cP5lOEuscl5IwiWi\n",
       "/AEDputAAgDbuG7/d3OV1AAAAABJRU5ErkJggg==\n",
       "\" style=\"display:inline;vertical-align:middle;\" /></a></td></tr>\n",
       "<tr><td>1</td><td>Literal</td><td></td><td><a class=\"ProveItLink\" href=\"../../../../logic/set_theory/enumeration/__pv_it/031f443c811429025ee9cba8d75037dd468e2c850/expr.ipynb\"><img src=\"data:image/png;base64,iVBORw0KGgoAAAANSUhEUgAAABsAAAAOBAMAAAAs4XpOAAAAMFBMVEX////c3NxUVFSIiIi6uroQ\n",
       "EBBERESYmJh2dnYyMjLMzMwiIiKqqqpmZmbu7u4AAACWQl63AAAAAXRSTlMAQObYZgAAAAlwSFlz\n",
       "AAAOxAAADsQBlSsOGwAAAKJJREFUCNdj4Lt798AFBjh4vYDh9AQIkwOIexkY2KFcWSCeAcQJEK4t\n",
       "EKc+YGAoAPO4/gKJ8xEOQJLxsi3Dod9KBxiY//+fwsCwVIB5AsNekJrn2v8LQKw/EC5Q6gPXd5CZ\n",
       "IC7QGJYvPH/Ly6vAXJAlv7j+gFTtZWhg2AI09gNDEFANw1wgd+cBhpcFDEsdGBoZOoFcBd9LKkAF\n",
       "uh0CDEwaAgDHlzD7ernFywAAAABJRU5ErkJggg==\n",
       "\" style=\"display:inline;vertical-align:middle;\" /></a></td></tr>\n",
       "<tr><td>2</td><td>Operation</td><td>operator:&nbsp;3<br>operands:&nbsp;4<br></td><td><a class=\"ProveItLink\" href=\"../a161961d737d8b3142c513a50eeca001eab352ec0/expr.ipynb\"><img src=\"data:image/png;base64,iVBORw0KGgoAAAANSUhEUgAAAEYAAAATBAMAAADfQ2bzAAAAMFBMVEX///8iIiIyMjJmZmYQEBCq\n",
       "qqqYmJju7u5ERETMzMyIiIjc3NxUVFR2dna6uroAAACULOzSAAAAAXRSTlMAQObYZgAAAAlwSFlz\n",
       "AAAOxAAADsQBlSsOGwAAARJJREFUKM9jYCAADBgIgwZK1LDLd6gz8Pr74TWHI+ANA0N9AV41PNK8\n",
       "CQwsDMwdHR4dbbjURDBoMzBidw9Xo6AQWM22BZtwqOHTKoCas+Ek1wW4Gr47u2+d4rzVB5baVACz\n",
       "awMHQx9cDS9HF0N9HkMIWEob7p4NnAaFhbBwnsfSwLD/AkM+WEoBoYYhlbUFxiuof8AQX8BwAsTm\n",
       "dBQUFJSAquEpOAJ3ZzwDgxEDgxc4eBuQzGE/UAhXc4iBQZaB7zc7iC2ApIZhFgdcjS8D+z8GHoWt\n",
       "IPYqeFxMAIbVDBiP+ycD2wcGpgsXQBymAKgoI4hhBA82AQYuAwZWqw1gB514DhbklPcAkkXY44nv\n",
       "BiQuUAAA7zs7hIz3bAEAAAAASUVORK5CYII=\n",
       "\" style=\"display:inline;vertical-align:middle;\" /></a></td></tr>\n",
       "<tr><td>3</td><td>Literal</td><td></td><td><a class=\"ProveItLink\" href=\"../../../../logic/set_theory/membership/__pv_it/7776fc89cb67d0b5b1ec2c0c8e08da5587921ccf0/expr.ipynb\"><img src=\"data:image/png;base64,iVBORw0KGgoAAAANSUhEUgAAAAwAAAAMBAMAAACkW0HUAAAAKlBMVEX///92dnZUVFSqqqoQEBDM\n",
       "zMzc3Nzu7u66uroyMjIiIiJERESIiIgAAACm0meuAAAAAXRSTlMAQObYZgAAAAlwSFlzAAAOxAAA\n",
       "DsQBlSsOGwAAADxJREFUCNdjYGA4vWrVBAaGzuMMQMA2HUQycCZAKDDJELIKCDYwVEN4XBCK5wCE\n",
       "ngyhinYUgOnGXasmAABvGQ6ucz2C1gAAAABJRU5ErkJggg==\n",
       "\" style=\"display:inline;vertical-align:middle;\" /></a></td></tr>\n",
       "<tr><td>4</td><td>ExprTuple</td><td>5, 6</td><td><a class=\"ProveItLink\" href=\"../061fccfc91c2b2afb1ecc0b4adbbc1fd783de4430/expr.ipynb\"><img src=\"data:image/png;base64,iVBORw0KGgoAAAANSUhEUgAAAEYAAAAZBAMAAAB+2EWVAAAAMFBMVEX///9UVFQiIiKIiIjMzMx2\n",
       "dnYQEBDc3NyYmJhEREQyMjLu7u5mZma6urqqqqoAAACMi3WHAAAAAXRSTlMAQObYZgAAAAlwSFlz\n",
       "AAAOxAAADsQBlSsOGwAAAXxJREFUKM99k7tLw1AUxr/U2KS9aS0uwQrSzaEiqfhAcCiCgyCYSQSX\n",
       "rG5dHJys+AeYQcQ4lHRwj44udXULgnO7ihY6aFVKwXNL82hieyHf4eb+ck7O4wJoY8xSuOhcsk/j\n",
       "mBSXXS6PmMjIGslN5OTh99bBQdcdMigCkhH9vJbJgfU8PyjRj+lRZrZyCBh4tq4tqwo0HMy4UWbB\n",
       "TFdQ8P2kq9h3oox6IdkhRjGxEktHFcprIWbKQJ7Mq3pS0nY2h1FVmCk3YDI9WLyWlsZ+3KzhMXus\n",
       "WPDqDPETdVL3GNIX5I7HyK23oCJSH0sAY31kexBMj8G8EDB0WOct60CxkdR85p4VAj+DWBBsJHQ0\n",
       "K47HiJrpM+I35sgkdTRc5KUW4y+v6FkNGMprncxZGZfA3TQaNu2WeUq2z8gGmhTgBdgCPjaQoCZv\n",
       "d8kHCxglh+RIv97jU0T9Gu27Hmeo72J4fpgWZ875KIT28j8TuzhxnuHP8/h7MVinA21PZI6APwpi\n",
       "VFupzjAyAAAAAElFTkSuQmCC\n",
       "\" style=\"display:inline;vertical-align:middle;\" /></a></td></tr>\n",
       "<tr><td>5</td><td>Variable</td><td></td><td><a class=\"ProveItLink\" href=\"../../../../__pv_it/6e8a38e9a7e2b6af352562cd77e0eb4751f142620/expr.ipynb\"><img src=\"data:image/png;base64,iVBORw0KGgoAAAANSUhEUgAAABIAAAAJBAMAAADN8WE8AAAAMFBMVEX///8iIiIyMjJmZmYQEBCq\n",
       "qqqYmJju7u5ERETMzMyIiIjc3NxUVFR2dna6uroAAACULOzSAAAAAXRSTlMAQObYZgAAAAlwSFlz\n",
       "AAAOxAAADsQBlSsOGwAAAGNJREFUCNdj4Luz+9Ypzlt9DAy8HF0M9XkMIQwM81gaGPZfYMhnYCio\n",
       "f8AQX8BwgoGBIZ6BwYiBwQvIOsTAIMvA95udgcGXgf0fA4/CVgbunwxsHxiYLlxg4BNg4DJgYLXa\n",
       "AAB/WBcBafZ/twAAAABJRU5ErkJggg==\n",
       "\" style=\"display:inline;vertical-align:middle;\" /></a></td></tr>\n",
       "<tr><td>6</td><td>Literal</td><td></td><td><a class=\"ProveItLink\" href=\"../../../../number/sets/integer/__pv_it/f6a9f4b6dec6ab4d2dcb6ba1b0ba3cceefc643530/expr.ipynb\"><img src=\"data:image/png;base64,iVBORw0KGgoAAAANSUhEUgAAABsAAAASBAMAAABY9biuAAAAMFBMVEX///9mZmbMzMyIiIiYmJjc\n",
       "3NxUVFSqqqq6uroQEBB2dnYyMjJEREQiIiLu7u4AAAAPqInnAAAAAXRSTlMAQObYZgAAAAlwSFlz\n",
       "AAAOxAAADsQBlSsOGwAAAH9JREFUGNNjYIADRgYUwIOF+/bP6QcMK382wGSPcyQw8P2DK84NWMLA\n",
       "MIFB5szJM2ccGBjSD3AHMFyAy6Y6s25A5rIpWCFzGQ7wNCBzFfnuXYC7KpWBpaBmAtwxqQwMeWwo\n",
       "3Gd8F5C5TAYH4NxDQGyE4F4HGboBxtP9CZThg3EBugMlU91oyisAAAAASUVORK5CYII=\n",
       "\" style=\"display:inline;vertical-align:middle;\" /></a></td></tr>\n",
       "</table>\n"
      ],
      "text/plain": [
       "0. {m in NaturalsPos}\n",
       "   core type: Operation\n",
       "   operator: 1\n",
       "   operand: 2\n",
       "1. Set\n",
       "   core type: Literal\n",
       "   sub-expressions: \n",
       "2. m in NaturalsPos\n",
       "   core type: Operation\n",
       "   operator: 3\n",
       "   operands: 4\n",
       "3. in\n",
       "   core type: Literal\n",
       "   sub-expressions: \n",
       "4. (m , NaturalsPos)\n",
       "   core type: ExprTuple\n",
       "   sub-expressions: 5, 6\n",
       "5. m\n",
       "   core type: Variable\n",
       "   sub-expressions: \n",
       "6. NaturalsPos\n",
       "   core type: Literal\n",
       "   sub-expressions: "
      ]
     },
     "execution_count": 5,
     "metadata": {},
     "output_type": "execute_result"
    }
   ],
   "source": [
    "# display the expression information\n",
    "expr.exprInfo()"
   ]
  },
  {
   "cell_type": "code",
   "execution_count": null,
   "metadata": {},
   "outputs": [],
   "source": []
  }
 ],
 "metadata": {
  "kernelspec": {
   "display_name": "Python 3",
   "language": "python",
   "name": "python3"
  },
  "language_info": {
   "codemirror_mode": {
    "name": "ipython",
    "version": 3
   },
   "file_extension": ".py",
   "mimetype": "text/x-python",
   "name": "python",
   "nbconvert_exporter": "python",
   "pygments_lexer": "ipython3",
   "version": "3.7.4"
  }
 },
 "nbformat": 4,
 "nbformat_minor": 1
}
