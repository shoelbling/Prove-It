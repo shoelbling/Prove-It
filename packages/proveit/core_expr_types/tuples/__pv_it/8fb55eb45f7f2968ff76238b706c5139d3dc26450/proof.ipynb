{
 "cells": [
  {
   "cell_type": "markdown",
   "metadata": {},
   "source": [
    "Show the Proof\n",
    "========"
   ]
  },
  {
   "cell_type": "code",
   "execution_count": 1,
   "metadata": {},
   "outputs": [
    {
     "data": {
      "text/html": [
       "<table><tr><th>&nbsp;</th><th>step type</th><th>requirements</th><th>statement</th></tr>\n",
       "<tr><td><a name=\"proveit.core_expr_types.tuples.8fb55eb45f7f2968ff76238b706c5139d3dc26450_step0\">0</a></td><td>instantiation</td><td><a href=\"#proveit.core_expr_types.tuples.8fb55eb45f7f2968ff76238b706c5139d3dc26450_step1\">1</a>, <a href=\"#proveit.core_expr_types.tuples.8fb55eb45f7f2968ff76238b706c5139d3dc26450_step2\">2</a></td><td><span style=\"font-size:20px;\"> <a class=\"ProveItLink\" href=\"proof.ipynb\" style=\"text-decoration: none\">&#x22A2;&nbsp;</a><a class=\"ProveItLink\" href=\"../f7c86e8e9bad7864977803a2c5278ece75f0f71c0/expr.ipynb\"><img src=\"data:image/png;base64,iVBORw0KGgoAAAANSUhEUgAAAIsAAAAVBAMAAACEWwD/AAAAMFBMVEX////MzMxUVFREREQiIiK6\n",
       "uroQEBCYmJhmZmYyMjLu7u52dnaqqqqIiIjc3NwAAACFAiZ1AAAAAXRSTlMAQObYZgAAAAlwSFlz\n",
       "AAAOxAAADsQBlSsOGwAAAbBJREFUOMuVlD9Lw0AYxl9pm9ZUY7+A6EfoF1BUCoo6dHBxEAriZsFR\n",
       "FykoVBCxmyCCAScHaepaCh2cdMngINZCh4KDg27iH8Tn7k0k3qWlyXD35neXJ/c+994RUYcGfsKm\n",
       "WkxHm4PLrIWwJ6Z3g6uE/XLEkdSsRJChU41cMk1tRZHZ1kiZqRFFhQxbJQWmq5FkhtW1JypMD8VL\n",
       "o5Xp+3W6XfOCSWUk5TA9QddtprL9VKxl2uMoKTdkPyeeub/lgS6jWyLDNXd6y8QdKlK9JbZ3Rh1q\n",
       "Mt3Awj4Rjt/3ljmGsWk3gRUPvame50lSyBgyo5veMutifoZ+4GghTAb0jKjq9Jcxv9C8dmjTTyro\n",
       "jZfUFNEYbMpLGVPXEIXyjh9O2DQPM9WtiLkk6TW8KVE6I2Wq2AjzIxjI5oCoBpkiprpqKYgKAF1B\n",
       "V28/clLxRTQLIih5AeWEvY22jaS+wdWrIiGyBI37hSe9udVPsFf+bHFXG58lSZOloIyjF7Dfu6Lu\n",
       "y6GHVdBpfn05P4ITrjbtyg/qDzZZerHHOkwvAiyp79S/sxiz9WrIMrUiXDi7IexZ0F9eP2uyHAbV\n",
       "kAAAAABJRU5ErkJggg==\n",
       "\" style=\"display:inline;vertical-align:middle;\" /></a></span></td></tr>\n",
       "<tr><td>&nbsp;</td><td colspan=4 style=\"text-align:left\"><span style=\"font-size:20px;\"><a class=\"ProveItLink\" href=\"../../../__pv_it/abc2da5dd9ef09681410396323f16aeb9dd2e0ad0/expr.ipynb\"><img src=\"data:image/png;base64,iVBORw0KGgoAAAANSUhEUgAAACgAAAAVBAMAAADGNLEtAAAAMFBMVEX///8yMjLc3NyIiIiYmJgi\n",
       "IiJERES6urqqqqoQEBDMzMxUVFTu7u52dnZmZmYAAAD1zdHuAAAAAXRSTlMAQObYZgAAAAlwSFlz\n",
       "AAAOxAAADsQBlSsOGwAAAP1JREFUGNNjYIADJhQKCiwgFLsBmOK7ewBIclxAkby9sgFIHoTpYAQp\n",
       "YZhRBqKewARZHoAM+QNmT4AbPgeIeQPA5gvABUWAqndGg9TzgezRu6wMsgOI+cFuYHQAqp7EkA80\n",
       "3hHI1V8AEmQFuuCkA8NTILMViPvBBnEWMDC8P8AQC2SuB+KrcMFpDDzfgcxKIM6GOLmBgecvA8sH\n",
       "qPbJYEE2AwaeHwxsAk0MDG7AUPkFFuTdwMAgzOD6AOiyx8CA+AAJHKAXTtsu2gx0ShDQ1Rsg/oiC\n",
       "h2sAQzdjA4TtBxPkc2AIgwUZmwKUocbA4PwIyuZJgDJykKNDBRqcCgwAmIo1X55DCvQAAAAASUVO\n",
       "RK5CYII=\n",
       "\" style=\"display:inline;vertical-align:middle;\" /></a> : <a class=\"ProveItLink\" href=\"../../../__pv_it/180ecdc68f16bd3e9260cef5d2773f3cf1f4d5480/expr.ipynb\"><img src=\"data:image/png;base64,iVBORw0KGgoAAAANSUhEUgAAABIAAAAMBAMAAACdPPCPAAAALVBMVEX///9UVFS6urqYmJju7u4Q\n",
       "EBBERERmZmaqqqoiIiLc3NzMzMyIiIh2dnYAAAC/g6wNAAAAAXRSTlMAQObYZgAAAAlwSFlzAAAO\n",
       "xAAADsQBlSsOGwAAAF1JREFUCNdjYGC4c3YDAxisbGBPgLDmMrAeADPYnzBAAWsCjOV3AUiwFJ9d\n",
       "wMBnwMCg4LlhnwMDewED74Zyhq1AmbtnjjA8YjgIUcvyiiHZBcKM4n5kAGGpW5w1AAAeBhbL5icH\n",
       "EgAAAABJRU5ErkJggg==\n",
       "\" style=\"display:inline;vertical-align:middle;\" /></a>, <a class=\"ProveItLink\" href=\"../../../__pv_it/557ab5defdcd46aa58168b08767502985122cd490/expr.ipynb\"><img src=\"data:image/png;base64,iVBORw0KGgoAAAANSUhEUgAAAAcAAAAOBAMAAAARcxsoAAAALVBMVEX///9ERESYmJhUVFQyMjKq\n",
       "qqrc3NwQEBC6urru7u52dnYiIiJmZmaIiIgAAAD/UVazAAAAAXRSTlMAQObYZgAAAAlwSFlzAAAO\n",
       "xAAADsQBlSsOGwAAADlJREFUCNdjYGC4wwAEuxjQAeedCwwMXBwFDAypPA4MDBP4gFyGuAlAwhkk\n",
       "+5SLgYHjQRKQKavAAAAx5QmdfgFqMAAAAABJRU5ErkJggg==\n",
       "\" style=\"display:inline;vertical-align:middle;\" /></a> : <a class=\"ProveItLink\" href=\"../../../../number/numeral/__pv_it/f086f8c372bd40a2458306ddfdbb29f3dc6f63030/expr.ipynb\"><img src=\"data:image/png;base64,iVBORw0KGgoAAAANSUhEUgAAAAgAAAAOBAMAAADgeEClAAAAIVBMVEX///8QEBBERESIiIgyMjJm\n",
       "ZmZUVFTu7u4iIiLMzMwAAAAWRytzAAAAAXRSTlMAQObYZgAAAAlwSFlzAAAOxAAADsQBlSsOGwAA\n",
       "ABtJREFUCNdjYOBsZ2AoC1nOwMDATBbBprgiGQBsuwqCZsDj4wAAAABJRU5ErkJggg==\n",
       "\" style=\"display:inline;vertical-align:middle;\" /></a>, <a class=\"ProveItLink\" href=\"../../../__pv_it/6a5b5879f51878868f626bf09e4d76392d4779cd0/expr.ipynb\"><img src=\"data:image/png;base64,iVBORw0KGgoAAAANSUhEUgAAAAoAAAASBAMAAACQmVJ4AAAAMFBMVEX///9UVFS6urp2dnYiIiKq\n",
       "qqrc3NyYmJgQEBBmZmYyMjKIiIju7u5ERETMzMwAAAC4hZuzAAAAAXRSTlMAQObYZgAAAAlwSFlz\n",
       "AAAOxAAADsQBlSsOGwAAAEtJREFUCNdjYGBg4LsDJBi4FzBgA6f3gsgJHAUMDOwJ/AEgTvwBEDkF\n",
       "LO0MItg+gUj2DyCS8QKI5NgAZAXUAxW+D3AF8jl3KjAwAACAGg5QwkhbIAAAAABJRU5ErkJggg==\n",
       "\" style=\"display:inline;vertical-align:middle;\" /></a> : <a class=\"ProveItLink\" href=\"../../../../number/numeral/__pv_it/bcb6bc33e5975ec2290a3272bf7802d26ab8421d0/expr.ipynb\"><img src=\"data:image/png;base64,iVBORw0KGgoAAAANSUhEUgAAAAoAAAAOBAMAAADkjZCYAAAAMFBMVEX///8QEBDMzMy6urpUVFRE\n",
       "RESYmJgiIiLu7u6qqqoyMjLc3NxmZmaIiIh2dnYAAABjjC/7AAAAAXRSTlMAQObYZgAAAAlwSFlz\n",
       "AAAOxAAADsQBlSsOGwAAAFdJREFUCNdjYOB7e5qBgWElQ/sGBrYCBr4ABlYHBs4fDPwHGJh/MvQD\n",
       "yW8M+x8wMP0Fk/8Y+h8wMP8FyXL+ZGANYGD7wcAmwMCzgIGhkqFRgYGh764TAwAMEBgt0IBciQAA\n",
       "AABJRU5ErkJggg==\n",
       "\" style=\"display:inline;vertical-align:middle;\" /></a></span></td></tr><tr><td><a name=\"proveit.core_expr_types.tuples.8fb55eb45f7f2968ff76238b706c5139d3dc26450_step1\">1</a></td><td>axiom</td><td></td><td><span style=\"font-size:20px;\"> <a class=\"ProveItLink\" href=\"../../_axioms_.ipynb#empty_range_def\" style=\"text-decoration: none\">&#x22A2;&nbsp;</a><a class=\"ProveItLink\" href=\"../fa3f1bfecad0e408bd8baba7b9d72066a82dae090/expr.ipynb\"><img src=\"data:image/png;base64,iVBORw0KGgoAAAANSUhEUgAAAVMAAAAXBAMAAABE27GJAAAAMFBMVEX///+IiIgiIiIQEBB2dnbu\n",
       "7u5UVFTMzMzc3NwyMjK6urpmZmaYmJiqqqpEREQAAACk/Np2AAAAAXRSTlMAQObYZgAAAAlwSFlz\n",
       "AAAOxAAADsQBlSsOGwAAA7pJREFUSMfNVkFrE0EUfmmyTZrNpumll6iEoq0gShXFU2EpKngobEEP\n",
       "RbEp/QOBgkcblAqCaC6CBw+RCt5q7MVqpbQ3bUEXoT0Jtkg9lnoool6cN29mdiZTt8UI+uBb5tv3\n",
       "zeSbyZvZAfgrkRHQufFij74sqgJ2+neZP4uDAjqHbGHffVk8FrDTMrOO9GOLTj2fAOCeCwRPNAzz\n",
       "u0SkhfQmJELgsIeWmVfIH7ZodUQA4MJEKNptPnQEsb0iLSRqAA+AYA8tMtexHNZbtPpaAGBgJlBt\n",
       "yDViexlagBUBe2iRwZmnwhat9gtAdkdxjDNxnZq0kAwI9tAik1tkdlt0mq0R2KRLkvN4FNerSQsd\n",
       "iwRraJU51dNzukWrrk+A3HhvQ/Dh51iNMZ00LQwfQutlgjW0yrwA2FQZh86vCleJLVgVXEQCmtXa\n",
       "enQWJPenWeNt3AQjLTSS7JmrEQBmezB6VVpmbkMGp+LM48sUHYV9+MjTiMuSY1xlHaK9ItTQFhIA\n",
       "7lcEz4QvWeNDnFWlhVy1kz29EsEIPqzM5INUndH25UqTiqw68i/BRU53sQ5PrB9N1gkAnyR34Ctr\n",
       "TMZZVVpss42T3iZYQ6uMV+C7qtP6dJFVt65TnJt9WkZWBxX3cH9Px1kd1KzO4g7qJ9hWVaa2hB7G\n",
       "h/BdN1/IYhhZbZNcWVVHG6mxoEICwJeIl/cqgEgLcBj0AtBrVS8AGOKfiHe8+EZxxVyvFlm9I7my\n",
       "6jVgYYvFIqkxVSAAnFR8NPRpUMc2Sd0iLWR+4OZZJ5h/bUHP3OLVOI+PKb4Ml1ONyOqM5MpqVg43\n",
       "JRdNHTOZb4o/y7BtigfWaE08nO96Q9dCDkvULRDMw7esZ/KV6LTeUIePtLpGfGHrM1tHbjWtZr4h\n",
       "K6FEAG9b8fwB1jiKFXQEHzjZY7LRE5haaMch26oE8xNQsjNneZXuVKItRlZvSG4XgFCLwwzhliOO\n",
       "C8crb9W+LQVN2iQu2U0BM/qsjMM27CXwar7DSmwCjG1FXFlNyD+Jqc2bxlpHGHF0w/8d3/6kgqFt\n",
       "D98Hxp1HjxUrgws9ETpj1fQAQLdmNV8VHGnm4s8Cf0PTG5MtfMVwYkTjLO5xlX3BHmbQtJPhcXG9\n",
       "2+WKx4ZqyvD7Gp+nJ+uWrGZ9wfNSes3e0s46x9KcxkF8sHO2HBdb07pFPDzzAcEe2szk1yqihGC1\n",
       "42m/ZhXmBHel9vwuZ+RdAZ2z7+W+Ljui3xsBO21mUl1q/otuMdCtpq4Ujbnm6vDfRcY4sKN/5F/5\n",
       "+QV2owsee2DSKgAAAABJRU5ErkJggg==\n",
       "\" style=\"display:inline;vertical-align:middle;\" /></a></span></td></tr>\n",
       "<tr><td>&nbsp;</td><td colspan=4 style-\"text-align:left\"><a class=\"ProveItLink\" href=\"../../_axioms_.ipynb#empty_range_def\">proveit.core_expr_types.tuples.empty_range_def</a></td></tr><tr><td><a name=\"proveit.core_expr_types.tuples.8fb55eb45f7f2968ff76238b706c5139d3dc26450_step2\">2</a></td><td>theorem</td><td></td><td><span style=\"font-size:20px;\"> <a class=\"ProveItLink\" href=\"../../../../number/numeral/deci/_proofs_/add_0_1.ipynb\" style=\"text-decoration: none\">&#x22A2;&nbsp;</a><a class=\"ProveItLink\" href=\"../cbaa13d65a26ed919d66c2f687dcff816ed2750b0/expr.ipynb\"><img src=\"data:image/png;base64,iVBORw0KGgoAAAANSUhEUgAAAGAAAAAVBAMAAABLWfZ5AAAAMFBMVEX////MzMxUVFREREQiIiK6\n",
       "uroQEBCYmJhmZmYyMjLu7u52dnaqqqqIiIjc3NwAAACFAiZ1AAAAAXRSTlMAQObYZgAAAAlwSFlz\n",
       "AAAOxAAADsQBlSsOGwAAASRJREFUOMtjYGB4wIAd4BLnPYBDIhaH+GkGBu69fWiCjF5YTQIJc01g\n",
       "YJjDsATV/kWdv4DkLHT1YGGOAgZ2BwZuA4hQOMydIA0VmM4HCrMxMDArMPD8goicRdbAtgCbhkgG\n",
       "Bv4GBtY/WDRwFmDT0M3AsB6o4TsWDdwK2DRMZ2B4v4GB8S8WDewTQEwOFzBQgAn7QDT8xqKBxwGb\n",
       "DalAJ21gYAXZ0OLikubi4gTXwPgBhwagp3mweZo1AZuGOcBgNWBg/4XTSeh+sAV6LoGBYwI2Txtg\n",
       "s2ETA8jjywSwaOC4gE1DCJBefVeRAUUDk9kXXQYGFvQEDhZmEUAWOovMeYI1dbM3IPPCkTnt2POD\n",
       "HY58wsBngF18MS4NzAtwGFSAQ0MdVlEAp45Z8qelTaIAAAAASUVORK5CYII=\n",
       "\" style=\"display:inline;vertical-align:middle;\" /></a></span></td></tr>\n",
       "<tr><td>&nbsp;</td><td colspan=4 style-\"text-align:left\"><a class=\"ProveItLink\" href=\"../../../../number/numeral/deci/_proofs_/add_0_1.ipynb\">proveit.number.numeral.deci.add_0_1</a></td></tr></table>"
      ],
      "text/plain": [
       "<proveit._core_.proof._ShowProof at 0x2323e95ce88>"
      ]
     },
     "execution_count": 1,
     "metadata": {},
     "output_type": "execute_result"
    }
   ],
   "source": [
    "import proveit\n",
    "# Automation is not needed when only showing a stored proof:\n",
    "proveit.defaults.automation = False # This will speed things up.\n",
    "%show_proof"
   ]
  },
  {
   "cell_type": "code",
   "execution_count": null,
   "metadata": {},
   "outputs": [],
   "source": []
  }
 ],
 "metadata": {
  "kernelspec": {
   "display_name": "Python 3",
   "language": "python",
   "name": "python3"
  },
  "language_info": {
   "codemirror_mode": {
    "name": "ipython",
    "version": 3
   },
   "file_extension": ".py",
   "mimetype": "text/x-python",
   "name": "python",
   "nbconvert_exporter": "python",
   "pygments_lexer": "ipython3",
   "version": "3.7.4"
  }
 },
 "nbformat": 4,
 "nbformat_minor": 1
}
