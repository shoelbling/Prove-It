{
 "cells": [
  {
   "cell_type": "markdown",
   "metadata": {},
   "source": [
    "Expression of type <a class=\"ProveItLink\" href=\"../../../../../../doc/html/api/proveit.ExprTuple.html\">ExprTuple</a>\n",
    "=======================\n",
    "# from context <a class=\"ProveItLink\" href=\"../../_context_.ipynb\">proveit.core_expr_types.tuples</a>"
   ]
  },
  {
   "cell_type": "code",
   "execution_count": 1,
   "metadata": {},
   "outputs": [],
   "source": [
    "import proveit\n",
    "# Automation is not needed when building an expression:\n",
    "proveit.defaults.automation = False # This will speed things up.\n",
    "# import Expression classes needed to build the expression\n",
    "from proveit import ExprTuple\n",
    "from proveit._common_ import i, j, k\n",
    "from proveit.logic import Equals, InSet\n",
    "from proveit.number import Add, Naturals, Neg, one"
   ]
  },
  {
   "cell_type": "code",
   "execution_count": 2,
   "metadata": {},
   "outputs": [
    {
     "data": {
      "text/html": [
       "<strong id=\"expr\">expr:</strong> <a class=\"ProveItLink\" href=\"../699d00bbdde571d99c51941df5c35b95d48fe6000/expr.ipynb\"><img src=\"data:image/png;base64,iVBORw0KGgoAAAANSUhEUgAAANoAAAAVBAMAAADSje2JAAAAMFBMVEX////MzMxUVFREREQiIiK6\n",
       "uroQEBCYmJhmZmYyMjLu7u52dnaqqqqIiIjc3NwAAACFAiZ1AAAAAXRSTlMAQObYZgAAAAlwSFlz\n",
       "AAAOxAAADsQBlSsOGwAAAtlJREFUSMeVVs1rE1EQn+zmc/NhwJMHMSJ4EwJqDwUlai7V0hYpioIY\n",
       "sHrw4kovLYj2UJRQCjkIlaJlsb14CAn6DyzoTaUBDwZRWPCj9JaCPVgqOG/e2+3ue2+FPpjhvcn+\n",
       "5vdmdmY2AOABF80qwX5XDMLzfyq6XHQr1YuerfGTy5C/dzue7avefMN39p7L6pTySHFOAZvuZYCO\n",
       "I06JYRlS6BIsshIXRTjozGpxgWcKW7ILOSdqMsbyNqSD67RkyCsOC6+XzR3UyyjoLGsDCezqMpCR\n",
       "7mm8hRVIxifySWh/1b8TY5vhzthFmaR2tPC7AnGqPkJsG73N/7E1QvuPYba0Q86uoWaSb2jhS7xa\n",
       "XoiMGt7RYjeeLdWKY8vZ5GwBNZNcpdCPvqT2IqrXtN30fzE8E077bO1PMlu2K2AKW75CzpZEAB37\n",
       "wy87Au1eQTVL25XgvXmJubU1cZhLE2C+ztZ5EBEQTGHLtMjZKGom6z/dQ5EeL7lN1O9o39pjgweF\n",
       "IVFB3gG5TZOugClshRo5Y53K5PF93r9P6aZl3MFfPB+hjplC0wXBZjjHfefrUn9AekLAWMB3RMDE\n",
       "lhiQM59tZKEsdyp7itJiVUOxWRU/kzAPKhuHKbGlGuTsOWoUazu1JUFzlSCTtRAbHDb90yWQ35sr\n",
       "YHGZPIMaJTOwdotRto6LFTZN22/B5MIEFA8CUApL23JsZk/A1Cph6ZmmEkcxqtZWPgq9WcIK4+Wc\n",
       "c/fKAKAJ1h8qk4HMxuqcYApblo3kRZhEPcnGLfS/SBf9jGqM186x63zAjt/iw7DOgjOqSnfXBCzE\n",
       "Zgz9PoHX9MhZEnOTLMd+rsQbS73hkyuoIMaW7inPn9PMElo/uDM2d+XZGxoOtt6OSTfcR45in9FM\n",
       "5WBcM2dngYt2fY+xt7F53FHVbsb9CagKZ6tCtGs4xs4+U/0J1W5V9c+bjnDGSqgUk7CMt9//JRt6\n",
       "80Pu7B+qhcKUmJyUKAAAAABJRU5ErkJggg==\n",
       "\" style=\"display:inline;vertical-align:middle;\" /></a><br>"
      ],
      "text/plain": [
       "expr: ((k - i) in Naturals , j = (i + 1))"
      ]
     },
     "execution_count": 2,
     "metadata": {},
     "output_type": "execute_result"
    }
   ],
   "source": [
    "# build up the expression from sub-expressions\n",
    "expr = ExprTuple(InSet(Add(k, Neg(i)), Naturals), Equals(j, Add(i, one)))"
   ]
  },
  {
   "cell_type": "code",
   "execution_count": 3,
   "metadata": {},
   "outputs": [
    {
     "name": "stdout",
     "output_type": "stream",
     "text": [
      "Passed sanity check: built 'expr' is the same as the stored Expression.\n"
     ]
    }
   ],
   "source": [
    "# check that the built expression is the same as the stored expression\n",
    "%check_expr"
   ]
  },
  {
   "cell_type": "code",
   "execution_count": 4,
   "metadata": {},
   "outputs": [
    {
     "name": "stdout",
     "output_type": "stream",
     "text": [
      "\\left(\\left(k - i\\right) \\in \\mathbb{N} , j = \\left(i + 1\\right)\\right)\n"
     ]
    }
   ],
   "source": [
    "# Show the LaTeX representation of the expression for convenience if you need it.\n",
    "print(expr.latex())"
   ]
  },
  {
   "cell_type": "code",
   "execution_count": 5,
   "metadata": {},
   "outputs": [
    {
     "data": {
      "text/html": [
       "<table><tr><th>&nbsp;</th><th>core type</th><th>sub-expressions</th><th>expression</th></tr>\n",
       "<tr><td>0</td><td>ExprTuple</td><td>1, 2</td><td><a class=\"ProveItLink\" href=\"../699d00bbdde571d99c51941df5c35b95d48fe6000/expr.ipynb\"><img src=\"data:image/png;base64,iVBORw0KGgoAAAANSUhEUgAAANoAAAAVBAMAAADSje2JAAAAMFBMVEX////MzMxUVFREREQiIiK6\n",
       "uroQEBCYmJhmZmYyMjLu7u52dnaqqqqIiIjc3NwAAACFAiZ1AAAAAXRSTlMAQObYZgAAAAlwSFlz\n",
       "AAAOxAAADsQBlSsOGwAAAtlJREFUSMeVVs1rE1EQn+zmc/NhwJMHMSJ4EwJqDwUlai7V0hYpioIY\n",
       "sHrw4kovLYj2UJRQCjkIlaJlsb14CAn6DyzoTaUBDwZRWPCj9JaCPVgqOG/e2+3ue2+FPpjhvcn+\n",
       "5vdmdmY2AOABF80qwX5XDMLzfyq6XHQr1YuerfGTy5C/dzue7avefMN39p7L6pTySHFOAZvuZYCO\n",
       "I06JYRlS6BIsshIXRTjozGpxgWcKW7ILOSdqMsbyNqSD67RkyCsOC6+XzR3UyyjoLGsDCezqMpCR\n",
       "7mm8hRVIxifySWh/1b8TY5vhzthFmaR2tPC7AnGqPkJsG73N/7E1QvuPYba0Q86uoWaSb2jhS7xa\n",
       "XoiMGt7RYjeeLdWKY8vZ5GwBNZNcpdCPvqT2IqrXtN30fzE8E077bO1PMlu2K2AKW75CzpZEAB37\n",
       "wy87Au1eQTVL25XgvXmJubU1cZhLE2C+ztZ5EBEQTGHLtMjZKGom6z/dQ5EeL7lN1O9o39pjgweF\n",
       "IVFB3gG5TZOugClshRo5Y53K5PF93r9P6aZl3MFfPB+hjplC0wXBZjjHfefrUn9AekLAWMB3RMDE\n",
       "lhiQM59tZKEsdyp7itJiVUOxWRU/kzAPKhuHKbGlGuTsOWoUazu1JUFzlSCTtRAbHDb90yWQ35sr\n",
       "YHGZPIMaJTOwdotRto6LFTZN22/B5MIEFA8CUApL23JsZk/A1Cph6ZmmEkcxqtZWPgq9WcIK4+Wc\n",
       "c/fKAKAJ1h8qk4HMxuqcYApblo3kRZhEPcnGLfS/SBf9jGqM186x63zAjt/iw7DOgjOqSnfXBCzE\n",
       "Zgz9PoHX9MhZEnOTLMd+rsQbS73hkyuoIMaW7inPn9PMElo/uDM2d+XZGxoOtt6OSTfcR45in9FM\n",
       "5WBcM2dngYt2fY+xt7F53FHVbsb9CagKZ6tCtGs4xs4+U/0J1W5V9c+bjnDGSqgUk7CMt9//JRt6\n",
       "80Pu7B+qhcKUmJyUKAAAAABJRU5ErkJggg==\n",
       "\" style=\"display:inline;vertical-align:middle;\" /></a></td></tr>\n",
       "<tr><td>1</td><td>Operation</td><td>operator:&nbsp;3<br>operands:&nbsp;4<br></td><td><a class=\"ProveItLink\" href=\"../a7f9df4bbf3f8501015af9b4295d59e1f0137a5f0/expr.ipynb\"><img src=\"data:image/png;base64,iVBORw0KGgoAAAANSUhEUgAAAGMAAAAVBAMAAACgbk16AAAAMFBMVEX////MzMxUVFREREQiIiK6\n",
       "uroQEBCYmJhmZmYyMjLu7u52dnaqqqqIiIjc3NwAAACFAiZ1AAAAAXRSTlMAQObYZgAAAAlwSFlz\n",
       "AAAOxAAADsQBlSsOGwAAAZ1JREFUOMtjYGB4wIAV8DHgBLwHsIuzXkATWPLZcgHDtm8BDAynGRi4\n",
       "zBwwDGpguIMuZsOqwMD1C6h8ApDD2YAuzbKBgXMBmpjKg+0MDAkMDBwFQA4/Nsexo5ujY8D5gAHo\n",
       "HjYQJ34BNt9kQd1o4uIJZujV8k0AaYkEcbZhDYDpkGCYCzNPj0ngNkhLN4gzieFsF4rqtb1AYhOY\n",
       "+RLuAj0GA+YAB4hRXN95zqWjaNkQBiQqwcx5DAgtElxeQC0+QDbPvxjGeSjReKATSB4BsycgaWE/\n",
       "cBgYYqlANke6AFhspQsIOAKtZfgL5MqDxBhTgELOUC0MWkxQLSwzNqL5nAcYYwwgxzFwGSDZwrCI\n",
       "C+iwOUD2+oB4AVQtnApwhzkga2G8ADTBFsiuZ1h/ADVFrT+wgYGhGMy8Cxc0BOKLBpCQVGZYL7AB\n",
       "RUs8HzBR9EIshKcMUEhxAEMjBJTeGHh7UeOf+TqQ8AMzuZSjIGIi3wwgSZJFAFeu4IP6gnUzNMHg\n",
       "THxwAE6wWIEdLonHOHPlYlwSVji18OGwnx1HmcAAABOSVla9Gh+9AAAAAElFTkSuQmCC\n",
       "\" style=\"display:inline;vertical-align:middle;\" /></a></td></tr>\n",
       "<tr><td>2</td><td>Operation</td><td>operator:&nbsp;5<br>operands:&nbsp;6<br></td><td><a class=\"ProveItLink\" href=\"../6dba56e50eab593832bad071ae17afdb20934f3a0/expr.ipynb\"><img src=\"data:image/png;base64,iVBORw0KGgoAAAANSUhEUgAAAF8AAAAVBAMAAADSoS/MAAAAMFBMVEX///9UVFS6urp2dnYiIiKq\n",
       "qqrc3NyYmJgQEBBmZmYyMjKIiIju7u5ERETMzMwAAAC4hZuzAAAAAXRSTlMAQObYZgAAAAlwSFlz\n",
       "AAAOxAAADsQBlSsOGwAAASxJREFUOMtjYMAK2LALJzDgAluxC2tDKL476BKsBgwM3BNQxfh8gGIB\n",
       "YCb3AnQNp4CYxQBF6OCsP0ByDQ4XTUdiq0NpbpCGShwaGpDY0cgaOA5gVc+0AJcGrgIgcXovugZO\n",
       "oPNPz8amgVkASEzgAGljmOICAo4MUHMMNLBpYAfazZ7AH4BmA0sAA1vALGwaWB1AzHh0n3AoMPAw\n",
       "/IZa2wG1FqyB7wNYlAFTAwPrH2w2MIHDz5kB3Q9AN3IJ4HQS2yd0G3g3MDCcDzDA5ukLIOIDugZQ\n",
       "4OmzFWDRwAk0ioHxAkbEAS3m3Y7qJMYbX6SB4QdK4BwbMKLaD0tMg0EKUGdAPWb6qMSS+GCp8n2A\n",
       "K2Zi4sWRtdiArufcqYApwXMBuwbeA7iyaDp24TIGBgCYi0VJ3IxyGwAAAABJRU5ErkJggg==\n",
       "\" style=\"display:inline;vertical-align:middle;\" /></a></td></tr>\n",
       "<tr><td>3</td><td>Literal</td><td></td><td><a class=\"ProveItLink\" href=\"../../../../logic/set_theory/membership/__pv_it/7776fc89cb67d0b5b1ec2c0c8e08da5587921ccf0/expr.ipynb\"><img src=\"data:image/png;base64,iVBORw0KGgoAAAANSUhEUgAAAAwAAAAMBAMAAACkW0HUAAAAKlBMVEX///92dnZUVFSqqqoQEBDM\n",
       "zMzc3Nzu7u66uroyMjIiIiJERESIiIgAAACm0meuAAAAAXRSTlMAQObYZgAAAAlwSFlzAAAOxAAA\n",
       "DsQBlSsOGwAAADxJREFUCNdjYGA4vWrVBAaGzuMMQMA2HUQycCZAKDDJELIKCDYwVEN4XBCK5wCE\n",
       "ngyhinYUgOnGXasmAABvGQ6ucz2C1gAAAABJRU5ErkJggg==\n",
       "\" style=\"display:inline;vertical-align:middle;\" /></a></td></tr>\n",
       "<tr><td>4</td><td>ExprTuple</td><td>7, 8</td><td><a class=\"ProveItLink\" href=\"../d1d930945ee3db4c4a7a61813c0807c2aa122d1b0/expr.ipynb\"><img src=\"data:image/png;base64,iVBORw0KGgoAAAANSUhEUgAAAFAAAAAVBAMAAAAjqnRBAAAAMFBMVEX////MzMxUVFREREQiIiK6\n",
       "uroQEBCYmJhmZmYyMjLu7u52dnaqqqqIiIjc3NwAAACFAiZ1AAAAAXRSTlMAQObYZgAAAAlwSFlz\n",
       "AAAOxAAADsQBlSsOGwAAAXJJREFUKM9jYGB4wEAQ8IEI3gO4FXD5G89i4M5PZb0A5JxmYFicgqHk\n",
       "BoRiPhDEwLB+AcMdoKYJQP4MDIXeEIrJj7uAgY2BgXMBA0cBkP8Hl91MhxnmMbAwMLA3gJQzsP7C\n",
       "qfD5hZcghQxZDJFAkjsBp8IHirwbQAqnM3QDSU4FnhsLUHx74wJMITODKUjhJqBSoLcKzjwrQFbI\n",
       "zZoAU8jYsGQJkFHJ4AMkzz89IIkS7G84JsAUMtTwmAEZRxhSgWRbIcTCKS4gIMDAsIAfbjUD0wI1\n",
       "IEMerNCzWwDNE+cXwBVyKYCsDmOYAzTpK+tHNIWT4L5mYJBlBlttCwzND1x/eFHj+A83Axc4CoFW\n",
       "8QoDGcVAfzMwGXB95EZRyPrhOcN6kH9YQCmmE4h7GUJAMc9w4xaq1bYFDCxeDAyM/slAzkog9mNg\n",
       "EcAVK6eQE6QDKLpxgA1IbFDSscOVaC8gcR4D8WIcCtmROVYg6wsI5xn2BwwAal9UlUs3/xYAAAAA\n",
       "SUVORK5CYII=\n",
       "\" style=\"display:inline;vertical-align:middle;\" /></a></td></tr>\n",
       "<tr><td>5</td><td>Literal</td><td></td><td><a class=\"ProveItLink\" href=\"../../../../logic/equality/__pv_it/e16d2caa26a16688b658bdb9c422caf4b84579e10/expr.ipynb\"><img src=\"data:image/png;base64,iVBORw0KGgoAAAANSUhEUgAAAA4AAAAFBAMAAACHocAhAAAAD1BMVEX///9UVFQiIiJmZmYAAACP\n",
       "OqLZAAAAAXRSTlMAQObYZgAAAAlwSFlzAAAOxAAADsQBlSsOGwAAABJJREFUCNdjMFICAUUGXAAq\n",
       "DwAoFgH7Aeay4gAAAABJRU5ErkJggg==\n",
       "\" style=\"display:inline;vertical-align:middle;\" /></a></td></tr>\n",
       "<tr><td>6</td><td>ExprTuple</td><td>9, 10</td><td><a class=\"ProveItLink\" href=\"../717dde741d0f44526f2cccfef4924fa90481c9800/expr.ipynb\"><img src=\"data:image/png;base64,iVBORw0KGgoAAAANSUhEUgAAAEkAAAAVBAMAAAD4Ed5jAAAAMFBMVEX////MzMxUVFREREQiIiK6\n",
       "uroQEBCYmJhmZmYyMjLu7u52dnaqqqqIiIjc3NwAAACFAiZ1AAAAAXRSTlMAQObYZgAAAAlwSFlz\n",
       "AAAOxAAADsQBlSsOGwAAASpJREFUKM9jYGB4wIAfgOV5DxBQFQsiToMI4QUQkRtoKhi9IMZwTQDx\n",
       "bkJFvVEVLer8BSRnMTBwFGCxhBUmyAtSVcHAwIbNKTwXkFWxLWCIJKyKs4ChG0hx3TUAi3HduIBN\n",
       "FbcCw3QgxcGQDhbjZk3Apop9AoMPkKpj+AMWe8MxAZsqHgeGVLDoL7DYAn6QLIeLi1uKi4sCXBXj\n",
       "B4gqDgeI1vMLsJkFdMccEIdlA0RwEgMOG21BnPcBDFwgP/7hxup6A4ZNIE49A8N6oMNZPzzHporj\n",
       "AkMIiKMMtBQYrwy2BaiqmMy+6AKlHjCwCAB5uUB8ClvYg8EToKUNDDrsIHM3YIttMGgHYjvGPyyg\n",
       "FHQBVyrkA0XfYobeVpBHcKZVZlAg8hUQSNF1DAwA8wRNqina4kYAAAAASUVORK5CYII=\n",
       "\" style=\"display:inline;vertical-align:middle;\" /></a></td></tr>\n",
       "<tr><td>7</td><td>Operation</td><td>operator:&nbsp;12<br>operands:&nbsp;11<br></td><td><a class=\"ProveItLink\" href=\"../a108b580d5e0c68a98f1a8a6a34fca6e202184610/expr.ipynb\"><img src=\"data:image/png;base64,iVBORw0KGgoAAAANSUhEUgAAACsAAAAOBAMAAABEEvh2AAAAMFBMVEX////MzMzc3NyYmJiIiIhU\n",
       "VFR2dna6urqqqqpmZmYyMjIiIiIQEBBERETu7u4AAADM1VnsAAAAAXRSTlMAQObYZgAAAAlwSFlz\n",
       "AAAOxAAADsQBlSsOGwAAAIpJREFUGNNj4LuzgQEdeAIx1wQM4W1AzN/AgA3UP8AqnINVlGEpQ8s8\n",
       "FAE+Twcg8Zmj6TCKMBv7AQYGjk8VjItQhDU4FzAwcB4WAHNe7QaBjUDWA36gIdwrE9Ft6we67X1B\n",
       "vQCGIxgY7BneNziguuQHGwNDLMN7gQQUYfYPygwMNxhYpqD584oBAwCVESN14GL55QAAAABJRU5E\n",
       "rkJggg==\n",
       "\" style=\"display:inline;vertical-align:middle;\" /></a></td></tr>\n",
       "<tr><td>8</td><td>Literal</td><td></td><td><a class=\"ProveItLink\" href=\"../../../../number/sets/integer/__pv_it/b49c37b99b7e8d73a8d7971bcf454d693b90a2c60/expr.ipynb\"><img src=\"data:image/png;base64,iVBORw0KGgoAAAANSUhEUgAAAA8AAAAPBAMAAADJ+Ih5AAAAMFBMVEX///9mZmbMzMyIiIiYmJjc\n",
       "3NxUVFSqqqq6uroQEBB2dnYyMjJEREQiIiLu7u4AAAAPqInnAAAAAXRSTlMAQObYZgAAAAlwSFlz\n",
       "AAAOxAAADsQBlSsOGwAAAGpJREFUCNdjePvn9AOGlT8bGBiOcyQw8P1jYGDIDVjCwDAByEg/wB3A\n",
       "cAHISHVm3QBhsClYQRgMB3gaIAxFvnsQBktBzQQwgyGPDcp4xgeRYmAyOABkHAJiIxDjOhAzbmBg\n",
       "0P0J5PFtYAAA6AAhaNFZV/8AAAAASUVORK5CYII=\n",
       "\" style=\"display:inline;vertical-align:middle;\" /></a></td></tr>\n",
       "<tr><td>9</td><td>Variable</td><td></td><td><a class=\"ProveItLink\" href=\"../../../../__pv_it/6a5b5879f51878868f626bf09e4d76392d4779cd0/expr.ipynb\"><img src=\"data:image/png;base64,iVBORw0KGgoAAAANSUhEUgAAAAoAAAASBAMAAACQmVJ4AAAAMFBMVEX///9UVFS6urp2dnYiIiKq\n",
       "qqrc3NyYmJgQEBBmZmYyMjKIiIju7u5ERETMzMwAAAC4hZuzAAAAAXRSTlMAQObYZgAAAAlwSFlz\n",
       "AAAOxAAADsQBlSsOGwAAAEtJREFUCNdjYGBg4LsDJBi4FzBgA6f3gsgJHAUMDOwJ/AEgTvwBEDkF\n",
       "LO0MItg+gUj2DyCS8QKI5NgAZAXUAxW+D3AF8jl3KjAwAACAGg5QwkhbIAAAAABJRU5ErkJggg==\n",
       "\" style=\"display:inline;vertical-align:middle;\" /></a></td></tr>\n",
       "<tr><td>10</td><td>Operation</td><td>operator:&nbsp;12<br>operands:&nbsp;13<br></td><td><a class=\"ProveItLink\" href=\"../541422fc4307f8c8db82c5f97c6a19ea30a87cb50/expr.ipynb\"><img src=\"data:image/png;base64,iVBORw0KGgoAAAANSUhEUgAAACoAAAAQBAMAAACSDPCjAAAAMFBMVEX////MzMxERESYmJhUVFQy\n",
       "MjKqqqrc3NwQEBC6urru7u52dnYiIiJmZmaIiIgAAAB85A1lAAAAAXRSTlMAQObYZgAAAAlwSFlz\n",
       "AAAOxAAADsQBlSsOGwAAAGZJREFUGNNjYGB4y4AKGE+ByNOogkuu/kLicRpAGXzIomwPCIpyvX2A\n",
       "RZSbswGLaBlvABbRBfwgHu+ZMyd6zpxxgNuWvwCbG0KwuuEbNxZRzg/F2EzQM0AVZdH444fFbygA\n",
       "HjpAAABuMinvxsoLaQAAAABJRU5ErkJggg==\n",
       "\" style=\"display:inline;vertical-align:middle;\" /></a></td></tr>\n",
       "<tr><td>11</td><td>ExprTuple</td><td>14, 15</td><td><a class=\"ProveItLink\" href=\"../e8a1131908e5288aafbe8509a1e85b59f70e0c7d0/expr.ipynb\"><img src=\"data:image/png;base64,iVBORw0KGgoAAAANSUhEUgAAADcAAAAVBAMAAAAQkWtIAAAAMFBMVEX////MzMxUVFREREQiIiK6\n",
       "uroQEBCYmJhmZmYyMjLu7u52dnaqqqqIiIjc3NwAAACFAiZ1AAAAAXRSTlMAQObYZgAAAAlwSFlz\n",
       "AAAOxAAADsQBlSsOGwAAARNJREFUKM9jYGB4wIAVgIV5D2CXjAURpxkYFqdgSN0Aa+KaAGTOwJD0\n",
       "ZmCYxcDAUQBk/sFmbgUDAxuQYv2FTZJtAUMkkOJOwCbJWcDQDaIUeG4sQBbnunEBqEWBYTqQvb7g\n",
       "zLMCZEluVqBZ7BMYfIDs808PSKIExRsOoB94HBhSgey2QphxU1xAQGABP9BYxg9gSc9uATTHnAc6\n",
       "AWj0HKD6r6wf0SQnMYCNtQXa/IHrDy8DF7Jr/3ADhQ0YNjEwMBlwfeRmWD8BIcn64Tkw7C4whDAw\n",
       "MB9guHGLgcULSast0GcsDxhY4G45hWbvE6DJDTDOBjTJdiC2gzniAqocnwGQWAzlsKNpZAaFNl8B\n",
       "9mRSx8AAAEZJPWEa2sMJAAAAAElFTkSuQmCC\n",
       "\" style=\"display:inline;vertical-align:middle;\" /></a></td></tr>\n",
       "<tr><td>12</td><td>Literal</td><td></td><td><a class=\"ProveItLink\" href=\"../../../../number/addition/__pv_it/65ad7e8aee19b10110d590375ba95a879c4fb7ea0/expr.ipynb\"><img src=\"data:image/png;base64,iVBORw0KGgoAAAANSUhEUgAAAA4AAAAOBAMAAADtZjDiAAAAHlBMVEX///9UVFQQEBAiIiJmZmaI\n",
       "iIiqqqqYmJi6uroAAAAAFVhYAAAAAXRSTlMAQObYZgAAAAlwSFlzAAAOxAAADsQBlSsOGwAAAB9J\n",
       "REFUCNdjYGBgaGeAgFRiaGdjYyVjY0Oi1SPRIHsAgDEGyG9xCpgAAAAASUVORK5CYII=\n",
       "\" style=\"display:inline;vertical-align:middle;\" /></a></td></tr>\n",
       "<tr><td>13</td><td>ExprTuple</td><td>18, 16</td><td><a class=\"ProveItLink\" href=\"../d01d3da2acb90c1b71e1c0b23a83829a66acdcac0/expr.ipynb\"><img src=\"data:image/png;base64,iVBORw0KGgoAAAANSUhEUgAAACcAAAAVBAMAAAA3P+qgAAAAMFBMVEX////MzMxUVFREREQiIiK6\n",
       "uroQEBCYmJhmZmYyMjLu7u52dnaqqqqIiIjc3NwAAACFAiZ1AAAAAXRSTlMAQObYZgAAAAlwSFlz\n",
       "AAAOxAAADsQBlSsOGwAAANpJREFUGNNjYGB4wIACwFzeA6iCsSDiNBDfgAowekEUcU0AcrwhYos6\n",
       "fwHJWQwMHAVIWnlBghUMDGwM6IJsCxgiMQQ5Cxi6gcbeuIAsyK3AMB1IsiYgC7JPYPBhYHjDMQFZ\n",
       "kMeBIZWBYQE/inbGDyBBhvMLkAWBhs0BUpMY0LTbAm3/w83AhWSRAcMmoPoPzxnWT4ALclxgCAFS\n",
       "tgUMLMCgYGAy+6LLwMDygIFFAGLcKbi3ngBNaIAwN8AF24HYDszigjmVgc8ASCwGM9nhCplBjuYr\n",
       "QI2OOgYGABMwNI6uqL15AAAAAElFTkSuQmCC\n",
       "\" style=\"display:inline;vertical-align:middle;\" /></a></td></tr>\n",
       "<tr><td>14</td><td>Variable</td><td></td><td><a class=\"ProveItLink\" href=\"../../../../__pv_it/273f49450ca25e1b56abbd98a7aef618f8f6c1360/expr.ipynb\"><img src=\"data:image/png;base64,iVBORw0KGgoAAAANSUhEUgAAAAoAAAAOBAMAAADkjZCYAAAAMFBMVEX////MzMzc3NyYmJiIiIhU\n",
       "VFR2dna6urqqqqpmZmYyMjIiIiIQEBBERETu7u4AAADM1VnsAAAAAXRSTlMAQObYZgAAAAlwSFlz\n",
       "AAAOxAAADsQBlSsOGwAAAE9JREFUCNdj4LuzgQEIuCaASP4GEFn/AETmgAiGpQwt8xj4PnM0HWbg\n",
       "+FTBuIiB87AAUJh7ZSKQfF9QD+TYM7xvcGCIZXgvkMBwg4FlygMA76IUkutkA5UAAAAASUVORK5C\n",
       "YII=\n",
       "\" style=\"display:inline;vertical-align:middle;\" /></a></td></tr>\n",
       "<tr><td>15</td><td>Operation</td><td>operator:&nbsp;17<br>operand:&nbsp;18<br></td><td><a class=\"ProveItLink\" href=\"../02a73187f2c19537c6c340020e476a1965587e5c0/expr.ipynb\"><img src=\"data:image/png;base64,iVBORw0KGgoAAAANSUhEUgAAABYAAAAOBAMAAADZH/H+AAAAMFBMVEX///9ERESYmJhUVFSqqqrc\n",
       "3NwQEBC6urp2dnZmZmaIiIjMzMwiIiIyMjLu7u4AAAAZ5Kn/AAAAAXRSTlMAQObYZgAAAAlwSFlz\n",
       "AAAOxAAADsQBlSsOGwAAAEBJREFUCNdjYIABrglwJgNPAwMp4NUsBLuhDM5kdZjLwPD2DAic5mP4\n",
       "hVDD8g/B5jVAsN87IOytZ1WAsxkXMQAAD4QPdBPDwSoAAAAASUVORK5CYII=\n",
       "\" style=\"display:inline;vertical-align:middle;\" /></a></td></tr>\n",
       "<tr><td>16</td><td>Literal</td><td></td><td><a class=\"ProveItLink\" href=\"../../../../number/numeral/__pv_it/f086f8c372bd40a2458306ddfdbb29f3dc6f63030/expr.ipynb\"><img src=\"data:image/png;base64,iVBORw0KGgoAAAANSUhEUgAAAAgAAAAOBAMAAADgeEClAAAAIVBMVEX///8QEBBERESIiIgyMjJm\n",
       "ZmZUVFTu7u4iIiLMzMwAAAAWRytzAAAAAXRSTlMAQObYZgAAAAlwSFlzAAAOxAAADsQBlSsOGwAA\n",
       "ABtJREFUCNdjYOBsZ2AoC1nOwMDATBbBprgiGQBsuwqCZsDj4wAAAABJRU5ErkJggg==\n",
       "\" style=\"display:inline;vertical-align:middle;\" /></a></td></tr>\n",
       "<tr><td>17</td><td>Literal</td><td></td><td><a class=\"ProveItLink\" href=\"../../../../number/negation/__pv_it/2867787e35502987d81a45cac8e7f1c6996d6ff40/expr.ipynb\"><img src=\"data:image/png;base64,iVBORw0KGgoAAAANSUhEUgAAAA4AAAABBAMAAAAcMII3AAAAElBMVEX////MzMwiIiIyMjLu7u4A\n",
       "AADe/Ps1AAAAAXRSTlMAQObYZgAAAAlwSFlzAAAOxAAADsQBlSsOGwAAAA1JREFUCNdjcFYCAUUA\n",
       "BKYBD24TAeoAAAAASUVORK5CYII=\n",
       "\" style=\"display:inline;vertical-align:middle;\" /></a></td></tr>\n",
       "<tr><td>18</td><td>Variable</td><td></td><td><a class=\"ProveItLink\" href=\"../../../../__pv_it/557ab5defdcd46aa58168b08767502985122cd490/expr.ipynb\"><img src=\"data:image/png;base64,iVBORw0KGgoAAAANSUhEUgAAAAcAAAAOBAMAAAARcxsoAAAALVBMVEX///9ERESYmJhUVFQyMjKq\n",
       "qqrc3NwQEBC6urru7u52dnYiIiJmZmaIiIgAAAD/UVazAAAAAXRSTlMAQObYZgAAAAlwSFlzAAAO\n",
       "xAAADsQBlSsOGwAAADlJREFUCNdjYGC4wwAEuxjQAeedCwwMXBwFDAypPA4MDBP4gFyGuAlAwhkk\n",
       "+5SLgYHjQRKQKavAAAAx5QmdfgFqMAAAAABJRU5ErkJggg==\n",
       "\" style=\"display:inline;vertical-align:middle;\" /></a></td></tr>\n",
       "</table>\n"
      ],
      "text/plain": [
       "0. ((k - i) in Naturals , j = (i + 1))\n",
       "   core type: ExprTuple\n",
       "   sub-expressions: 1, 2\n",
       "1. (k - i) in Naturals\n",
       "   core type: Operation\n",
       "   operator: 3\n",
       "   operands: 4\n",
       "2. j = (i + 1)\n",
       "   core type: Operation\n",
       "   operator: 5\n",
       "   operands: 6\n",
       "3. in\n",
       "   core type: Literal\n",
       "   sub-expressions: \n",
       "4. (k - i , Naturals)\n",
       "   core type: ExprTuple\n",
       "   sub-expressions: 7, 8\n",
       "5. =\n",
       "   core type: Literal\n",
       "   sub-expressions: \n",
       "6. (j , i + 1)\n",
       "   core type: ExprTuple\n",
       "   sub-expressions: 9, 10\n",
       "7. k - i\n",
       "   core type: Operation\n",
       "   operator: 12\n",
       "   operands: 11\n",
       "8. Naturals\n",
       "   core type: Literal\n",
       "   sub-expressions: \n",
       "9. j\n",
       "   core type: Variable\n",
       "   sub-expressions: \n",
       "10. i + 1\n",
       "    core type: Operation\n",
       "    operator: 12\n",
       "    operands: 13\n",
       "11. (k , -i)\n",
       "    core type: ExprTuple\n",
       "    sub-expressions: 14, 15\n",
       "12. +\n",
       "    core type: Literal\n",
       "    sub-expressions: \n",
       "13. (i , 1)\n",
       "    core type: ExprTuple\n",
       "    sub-expressions: 18, 16\n",
       "14. k\n",
       "    core type: Variable\n",
       "    sub-expressions: \n",
       "15. -i\n",
       "    core type: Operation\n",
       "    operator: 17\n",
       "    operand: 18\n",
       "16. 1\n",
       "    core type: Literal\n",
       "    sub-expressions: \n",
       "17. -\n",
       "    core type: Literal\n",
       "    sub-expressions: \n",
       "18. i\n",
       "    core type: Variable\n",
       "    sub-expressions: "
      ]
     },
     "execution_count": 5,
     "metadata": {},
     "output_type": "execute_result"
    }
   ],
   "source": [
    "# display the expression information\n",
    "expr.exprInfo()"
   ]
  },
  {
   "cell_type": "code",
   "execution_count": null,
   "metadata": {},
   "outputs": [],
   "source": []
  }
 ],
 "metadata": {
  "kernelspec": {
   "display_name": "Python 3",
   "language": "python",
   "name": "python3"
  },
  "language_info": {
   "codemirror_mode": {
    "name": "ipython",
    "version": 3
   },
   "file_extension": ".py",
   "mimetype": "text/x-python",
   "name": "python",
   "nbconvert_exporter": "python",
   "pygments_lexer": "ipython3",
   "version": "3.7.4"
  }
 },
 "nbformat": 4,
 "nbformat_minor": 1
}
