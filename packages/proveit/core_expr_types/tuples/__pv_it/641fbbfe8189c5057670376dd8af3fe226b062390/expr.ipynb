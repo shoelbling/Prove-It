{
 "cells": [
  {
   "cell_type": "markdown",
   "metadata": {},
   "source": [
    "Expression of type <a class=\"ProveItLink\" href=\"../../../../../../doc/html/api/proveit.logic.And.html\">And</a>\n",
    "=======================\n",
    "# from context <a class=\"ProveItLink\" href=\"../../_context_.ipynb\">proveit.core_expr_types.tuples</a>"
   ]
  },
  {
   "cell_type": "code",
   "execution_count": 1,
   "metadata": {},
   "outputs": [],
   "source": [
    "import proveit\n",
    "# Automation is not needed when building an expression:\n",
    "proveit.defaults.automation = False # This will speed things up.\n",
    "# import Expression classes needed to build the expression\n",
    "from proveit import Variable\n",
    "from proveit.logic import And, Equals"
   ]
  },
  {
   "cell_type": "code",
   "execution_count": 2,
   "metadata": {},
   "outputs": [
    {
     "data": {
      "text/html": [
       "<strong id=\"expr\">expr:</strong> <a class=\"ProveItLink\" href=\"expr.ipynb\"><img src=\"data:image/png;base64,iVBORw0KGgoAAAANSUhEUgAAAJ8AAAAVBAMAAACqHiFtAAAAMFBMVEX////MzMxUVFREREQiIiK6\n",
       "uroQEBCYmJhmZmYyMjLu7u52dnaqqqqIiIjc3NwAAACFAiZ1AAAAAXRSTlMAQObYZgAAAAlwSFlz\n",
       "AAAOxAAADsQBlSsOGwAAAglJREFUOMt1lb9v00AUx78loU5cY6N2ZGgZGJHCgkQkqgwMCFWoA4rE\n",
       "UIWlQmKyxAIDkI2hVEQMUKEMluiegvoHeGDrkk4srWS1/QO6NmLoe/fL8d35Sd+z7/M9v9yd3zkA\n",
       "CpBieEJQj1OgJoRxK2fdnLq2pK7DT/hji5sjqRPXVvTE5eHDnjt84fuQfyocSbUze4Cm2lnK5/jQ\n",
       "M78kx0+glUoFzhBNtbM/KnniW/UgwztgEVJ4Y/uGKuffvZIPMk/CQ/IyvKQ7Fn7YvqHK6a2U/ND3\n",
       "SvZoK1Ls0B0Lf2zfUOlEB+3C8G+nX6zR8c7xf9rntXIK78X+PBGxhnkqHLSLSG4m8fAqmxTV0f2i\n",
       "MaP9HmGDOiz8tWdoqHSWgWeaRzMk1fIMX6NFLy3qYZt6LKzaCQ2Vzl3gVHN6dnJQLYkZmkQWLsuE\n",
       "fW/Cvna4+vY1pzIcVAtnsYPJJh2rVxhTb2yWPL8r48qSuaxbueJJiq9ZZTRN+BPEkh/ThYW39gwN\n",
       "FU6T3+RI8WST9qwSkxyPogJBp6yLXTuhocL5wM0DxW+kDetgtafB0yWa8xQvqMfCczuhocLpcnNH\n",
       "8XDXLsPw/u+zY1pHgeZtCMXO90NT22FeFxfl8ecjXw1NbScY1if8TFqXOnddRc89vCbiDjW/pLqu\n",
       "rWjXw2uiwR+hOGUFnv8JSV0nTusSfgSuAdSZkCmEevKtAAAAAElFTkSuQmCC\n",
       "\" style=\"display:inline;vertical-align:middle;\" /></a><br>"
      ],
      "text/plain": [
       "expr: (() = ()) and (b = d)"
      ]
     },
     "execution_count": 2,
     "metadata": {},
     "output_type": "execute_result"
    }
   ],
   "source": [
    "# build up the expression from sub-expressions\n",
    "subExpr1 = []\n",
    "expr = And(Equals(subExpr1, subExpr1), Equals(Variable(\"b\"), Variable(\"d\")))"
   ]
  },
  {
   "cell_type": "code",
   "execution_count": 3,
   "metadata": {},
   "outputs": [
    {
     "name": "stdout",
     "output_type": "stream",
     "text": [
      "Passed sanity check: built 'expr' is the same as the stored Expression.\n"
     ]
    }
   ],
   "source": [
    "# check that the built expression is the same as the stored expression\n",
    "%check_expr"
   ]
  },
  {
   "cell_type": "code",
   "execution_count": 4,
   "metadata": {},
   "outputs": [
    {
     "name": "stdout",
     "output_type": "stream",
     "text": [
      "\\left(() = ()\\right) \\land \\left(b = d\\right)\n"
     ]
    }
   ],
   "source": [
    "# Show the LaTeX representation of the expression for convenience if you need it.\n",
    "print(expr.latex())"
   ]
  },
  {
   "cell_type": "code",
   "execution_count": 5,
   "metadata": {},
   "outputs": [
    {
     "data": {
      "text/html": [
       "<table><tr><th>&nbsp;</th><th>core type</th><th>sub-expressions</th><th>expression</th></tr>\n",
       "<tr><td>0</td><td>Operation</td><td>operator:&nbsp;1<br>operands:&nbsp;2<br></td><td><a class=\"ProveItLink\" href=\"expr.ipynb\"><img src=\"data:image/png;base64,iVBORw0KGgoAAAANSUhEUgAAAJ8AAAAVBAMAAACqHiFtAAAAMFBMVEX////MzMxUVFREREQiIiK6\n",
       "uroQEBCYmJhmZmYyMjLu7u52dnaqqqqIiIjc3NwAAACFAiZ1AAAAAXRSTlMAQObYZgAAAAlwSFlz\n",
       "AAAOxAAADsQBlSsOGwAAAglJREFUOMt1lb9v00AUx78loU5cY6N2ZGgZGJHCgkQkqgwMCFWoA4rE\n",
       "UIWlQmKyxAIDkI2hVEQMUKEMluiegvoHeGDrkk4srWS1/QO6NmLoe/fL8d35Sd+z7/M9v9yd3zkA\n",
       "CpBieEJQj1OgJoRxK2fdnLq2pK7DT/hji5sjqRPXVvTE5eHDnjt84fuQfyocSbUze4Cm2lnK5/jQ\n",
       "M78kx0+glUoFzhBNtbM/KnniW/UgwztgEVJ4Y/uGKuffvZIPMk/CQ/IyvKQ7Fn7YvqHK6a2U/ND3\n",
       "SvZoK1Ls0B0Lf2zfUOlEB+3C8G+nX6zR8c7xf9rntXIK78X+PBGxhnkqHLSLSG4m8fAqmxTV0f2i\n",
       "MaP9HmGDOiz8tWdoqHSWgWeaRzMk1fIMX6NFLy3qYZt6LKzaCQ2Vzl3gVHN6dnJQLYkZmkQWLsuE\n",
       "fW/Cvna4+vY1pzIcVAtnsYPJJh2rVxhTb2yWPL8r48qSuaxbueJJiq9ZZTRN+BPEkh/ThYW39gwN\n",
       "FU6T3+RI8WST9qwSkxyPogJBp6yLXTuhocL5wM0DxW+kDetgtafB0yWa8xQvqMfCczuhocLpcnNH\n",
       "8XDXLsPw/u+zY1pHgeZtCMXO90NT22FeFxfl8ecjXw1NbScY1if8TFqXOnddRc89vCbiDjW/pLqu\n",
       "rWjXw2uiwR+hOGUFnv8JSV0nTusSfgSuAdSZkCmEevKtAAAAAElFTkSuQmCC\n",
       "\" style=\"display:inline;vertical-align:middle;\" /></a></td></tr>\n",
       "<tr><td>1</td><td>Literal</td><td></td><td><a class=\"ProveItLink\" href=\"../../../../logic/boolean/conjunction/__pv_it/f41cc6b553210927c09f19a8a39cdf860a5585930/expr.ipynb\"><img src=\"data:image/png;base64,iVBORw0KGgoAAAANSUhEUgAAAAwAAAANBAMAAABvB5JxAAAALVBMVEX///9mZmbc3NxERETMzMy6\n",
       "urpUVFSYmJiIiIgyMjIiIiLu7u6qqqp2dnYAAACMfHT6AAAAAXRSTlMAQObYZgAAAAlwSFlzAAAO\n",
       "xAAADsQBlSsOGwAAAEpJREFUCNdjYGDgPcAAArsmgKn2VDC1wBlE8lzgVABSnAo8AkDKjYFhNZBK\n",
       "YWDoYGDgBirfBdHMeICBCyjONIGhAqTJhMEaRPkCACemC8GDBfsjAAAAAElFTkSuQmCC\n",
       "\" style=\"display:inline;vertical-align:middle;\" /></a></td></tr>\n",
       "<tr><td>2</td><td>ExprTuple</td><td>3, 4</td><td><a class=\"ProveItLink\" href=\"../119ce3078de24df377e0230cbe83eaee479bf86a0/expr.ipynb\"><img src=\"data:image/png;base64,iVBORw0KGgoAAAANSUhEUgAAAIEAAAAVBAMAAACTeZA2AAAAMFBMVEX////MzMxUVFREREQiIiK6\n",
       "uroQEBCYmJhmZmYyMjLu7u52dnaqqqqIiIjc3NwAAACFAiZ1AAAAAXRSTlMAQObYZgAAAAlwSFlz\n",
       "AAAOxAAADsQBlSsOGwAAAa9JREFUOMt9VLFKA0EQfTGJl1zOO//A/ICQSlBQUqSwEEkhAQuJjQhW\n",
       "BzbaaDqLGAwWKpLiwFpOJR+Qws4m6RUO9QNsEyyc3cvFm73lBt7u7XvD7Mzu7AEIQLChMT3LPMSw\n",
       "MBDID5OynmW2J4a3EO9JOcaaK9Wknrlpie3NboiipzowttjSZOAMcA8U3BBGwoWx5Jy0pocTYB4h\n",
       "cKTqjG16mgh9cvKwS18CuFV1xvZ153hH1blo05cAXlSdsdcfl4pst0e/QKksN5Ebncraa9LKYCyd\n",
       "6tjzAy43guyEDqqLLVoI4FXNIc5aEzi8N8xDFOiyrCoOaCWAJTVCnCVn/4nf1AQ5YjI//xEa2giN\n",
       "WTs0+X3OV+DXgfw+erTqzfKNF9qLVeG4uPKYTCmdQ1axTpMAjtUcIlZ0glOnupn5A6xaAYyKvC55\n",
       "ZR01wpQ1xzTNuVmlZ4tDY7NEWQ2xQysBbKsRIrZGSZgdtR3M5efPEZALkFuEhJ14fBFreSnP+zt8\n",
       "OwLiHXGL2FLaD+KCsBHiK6lO2ceUAHaFhocQa0l5yropEbKiQtsVMALNBlqW2RnwB1jScyLaW1Qr\n",
       "AAAAAElFTkSuQmCC\n",
       "\" style=\"display:inline;vertical-align:middle;\" /></a></td></tr>\n",
       "<tr><td>3</td><td>Operation</td><td>operator:&nbsp;6<br>operands:&nbsp;5<br></td><td><a class=\"ProveItLink\" href=\"../15ecdb6055860c8602f669812e4fca8f86908e400/expr.ipynb\"><img src=\"data:image/png;base64,iVBORw0KGgoAAAANSUhEUgAAADgAAAAVBAMAAADhmjDFAAAAMFBMVEX////MzMxUVFREREQiIiK6\n",
       "uroQEBCYmJhmZmYyMjLu7u52dnaqqqqIiIjc3NwAAACFAiZ1AAAAAXRSTlMAQObYZgAAAAlwSFlz\n",
       "AAAOxAAADsQBlSsOGwAAALhJREFUKM9jYGB4wMeABUBEeQ+wXsCUg4qeZmC4gykJEeWawMDAuQBd\n",
       "DirKUcDAwN6ALgkVZQOxs9AloaKRIGo6uiRUtBtEbUKXhIqCNVWC7XEBAwW4UZUMPiDqCLpOqGgq\n",
       "iJJHl4SKgqkwrJJhDHPgxiLbCRW1BVHF6DqhomBf9KJLQkVDQJQfuiRUlEWAgYHPAV0SKgoKdFAw\n",
       "owKYqB0Dw2PM+ISKLmZgsMKUhIryFbA/wJQEiwIAAZot1Uhm2OgAAAAASUVORK5CYII=\n",
       "\" style=\"display:inline;vertical-align:middle;\" /></a></td></tr>\n",
       "<tr><td>4</td><td>Operation</td><td>operator:&nbsp;6<br>operands:&nbsp;7<br></td><td><a class=\"ProveItLink\" href=\"../4b27b5aa82c21e360f9752d735c10224b397e9740/expr.ipynb\"><img src=\"data:image/png;base64,iVBORw0KGgoAAAANSUhEUgAAADAAAAAOBAMAAACbXIJpAAAAMFBMVEX////MzMyYmJjc3NyIiIhU\n",
       "VFR2dna6urqqqqpmZmYyMjIiIiIQEBBERETu7u4AAACIO4EmAAAAAXRSTlMAQObYZgAAAAlwSFlz\n",
       "AAAOxAAADsQBlSsOGwAAAKFJREFUGNNj4LuzgQETSJ1kYOCagEWC4QcDA38DFnH2fwwM9Q+wSLAB\n",
       "zc/GZhLI/KUuM9CFLVPkGxj4fj14bwDkzN4NAlvBFhxmuP+AgeMfA78DqoY3CgyzGBg4FzC8T0CV\n",
       "mP+AYRvYmno0B59l4PsO9IYCSAWyHXzfGJg+ACUK+A6hauD7wcC7oJmBVYEXPUyWMGhPSGDgm4Lh\n",
       "jaduwiECAOafMhLCezHlAAAAAElFTkSuQmCC\n",
       "\" style=\"display:inline;vertical-align:middle;\" /></a></td></tr>\n",
       "<tr><td>5</td><td>ExprTuple</td><td>8, 8</td><td><a class=\"ProveItLink\" href=\"../cdfdce0cc4756bd53a0ed5e4851f4a6e26279c9b0/expr.ipynb\"><img src=\"data:image/png;base64,iVBORw0KGgoAAAANSUhEUgAAADUAAAAVBAMAAAAUZLt1AAAAMFBMVEX////MzMxUVFREREQiIiK6\n",
       "uroQEBCYmJhmZmYyMjLu7u52dnaqqqqIiIjc3NwAAACFAiZ1AAAAAXRSTlMAQObYZgAAAAlwSFlz\n",
       "AAAOxAAADsQBlSsOGwAAARtJREFUKM9N0r9Kw1AUBvBP0jR/qsE30EfoLCgVHEUcRHAQurg4BVx0\n",
       "EbcOInQrSIeCk4NQ+gQd3Fz6AB0CCq6ubv2+c25CCr+bQ77ck5tDAVSgAs2v8Dsqd5YSr5psjWuu\n",
       "gi+3rqPteXgcyMcum4XsnV5dWrrkKWQjunddONyGbKgbM3PFUjDxKGZ/ZKV5ZilYeJbOufT2zaTe\n",
       "8uCZtiAZm1OWgk/POkt9x8DcsBTsedY957L1Z5rsspXFQzNlOW31zFo9D1kK7gCNJtJgk75Z1Md/\n",
       "Qf4fjo90ZS5YCs6AE26MBzpsZTq7MIVeoabH9OM0Y9G8ewhzHgVH7puXD2VRhYJHEby5A140LuR9\n",
       "ROwtKEpJquY/8YtHrrQBb6VGBTB+6p4AAAAASUVORK5CYII=\n",
       "\" style=\"display:inline;vertical-align:middle;\" /></a></td></tr>\n",
       "<tr><td>6</td><td>Literal</td><td></td><td><a class=\"ProveItLink\" href=\"../../../../logic/equality/__pv_it/e16d2caa26a16688b658bdb9c422caf4b84579e10/expr.ipynb\"><img src=\"data:image/png;base64,iVBORw0KGgoAAAANSUhEUgAAAA4AAAAFBAMAAACHocAhAAAAD1BMVEX///9UVFQiIiJmZmYAAACP\n",
       "OqLZAAAAAXRSTlMAQObYZgAAAAlwSFlzAAAOxAAADsQBlSsOGwAAABJJREFUCNdjMFICAUUGXAAq\n",
       "DwAoFgH7Aeay4gAAAABJRU5ErkJggg==\n",
       "\" style=\"display:inline;vertical-align:middle;\" /></a></td></tr>\n",
       "<tr><td>7</td><td>ExprTuple</td><td>9, 10</td><td><a class=\"ProveItLink\" href=\"../5db2088d84d06e730fc3194c2e5ee50a77504a210/expr.ipynb\"><img src=\"data:image/png;base64,iVBORw0KGgoAAAANSUhEUgAAACkAAAAVBAMAAAAp9toTAAAAMFBMVEX////MzMxUVFREREQiIiK6\n",
       "uroQEBCYmJhmZmYyMjLu7u52dnaqqqqIiIjc3NwAAACFAiZ1AAAAAXRSTlMAQObYZgAAAAlwSFlz\n",
       "AAAOxAAADsQBlSsOGwAAARVJREFUGNNdkTFKxEAUhr81cRNnY9YjeAEhlWChbClisYUIFrI2Yjul\n",
       "laazWMXFQkUsAh4gq3iA1NpkDyAE8QC2BgvfZNwR90GGLx8zb/6XABX/q3lfLGbsvlleUas9p1rX\n",
       "qdmmRrCQ/u3sFtxBqBtyNcg4hrYlV8+iMvYsubqVhpqh0NXbuVXxcPINnWVu5MKvLLehdyuvhmDE\n",
       "NkQ13dJIdUQokaIehxjKx8aGNb5A69NYiTtosrUT8j7MH3AvcTWXTTY5cUrTYV1sXxoqYwvWooog\n",
       "4QnmtJeSm8nLYLMj7Ut25OoLietvCaw8vk8EK/yl36Fe3HgfEnn6vcbOnsmzYVGVUxknsjxYDtxW\n",
       "z6SM9cwfOoEfM0NBZRR/tNIAAAAASUVORK5CYII=\n",
       "\" style=\"display:inline;vertical-align:middle;\" /></a></td></tr>\n",
       "<tr><td>8</td><td>ExprTuple</td><td></td><td><a class=\"ProveItLink\" href=\"../932ad914fbc084fb83cd7cce8742c2c1338987a00/expr.ipynb\"><img src=\"data:image/png;base64,iVBORw0KGgoAAAANSUhEUgAAAAwAAAAVBAMAAACAghKHAAAAMFBMVEX////MzMxUVFREREQiIiK6\n",
       "uroQEBCYmJhmZmYyMjLu7u52dnaqqqqIiIjc3NwAAACFAiZ1AAAAAXRSTlMAQObYZgAAAAlwSFlz\n",
       "AAAOxAAADsQBlSsOGwAAAHRJREFUCNdjYGB4wMcABLwHWC8AqdMMDHcYGLgmMDBwLmDgKGBgYG9g\n",
       "YAPJZzFEgqjpDN0gahOQAQSVDD4g6ghDKoiSh1BhDHMggrYgqhioFgh6GUJAlB8DiwADA58DyFiw\n",
       "8XYMDI+B4osZGKyAFF8B+wMGAFwSFSv4L9l8AAAAAElFTkSuQmCC\n",
       "\" style=\"display:inline;vertical-align:middle;\" /></a></td></tr>\n",
       "<tr><td>9</td><td>Variable</td><td></td><td><a class=\"ProveItLink\" href=\"../53e304ff98ebc000dbe3ef224f4637dbafd46ba70/expr.ipynb\"><img src=\"data:image/png;base64,iVBORw0KGgoAAAANSUhEUgAAAAkAAAAOBAMAAAAPuiubAAAALVBMVEX///+YmJjc3NyIiIhUVFR2\n",
       "dna6urqqqqpmZmYyMjIiIiIQEBBERETu7u4AAAALjtrwAAAAAXRSTlMAQObYZgAAAAlwSFlzAAAO\n",
       "xAAADsQBlSsOGwAAAE5JREFUCNdj4D29gAEIOBtAJF8BiMy7ACKjQATDFON2BgbelxfuKTCwv2Xg\n",
       "M2DgmMBwLwCkPK+AgU+Aoe8CA18C70YGBhYBHqARvM1A5QCqGhDobJhHyAAAAABJRU5ErkJggg==\n",
       "\" style=\"display:inline;vertical-align:middle;\" /></a></td></tr>\n",
       "<tr><td>10</td><td>Variable</td><td></td><td><a class=\"ProveItLink\" href=\"../445e790c2b62732eb8597a2ddda4cbd1a8fb79140/expr.ipynb\"><img src=\"data:image/png;base64,iVBORw0KGgoAAAANSUhEUgAAAAsAAAAOBAMAAAALT/umAAAAMFBMVEX///9UVFSYmJhERESIiIjc\n",
       "3NwiIiJ2dnbu7u66urqqqqpmZmYQEBAyMjLMzMwAAAAJQA1gAAAAAXRSTlMAQObYZgAAAAlwSFlz\n",
       "AAAOxAAADsQBlSsOGwAAAFpJREFUCNdjYGBg4LuzgQEE+BeAqfkNYKoMTDLcBmLW7X6/gNScAOYf\n",
       "DAwchxi4LzAwcP9gYCtgYOAxYOifwMDQX8CgD1TRv4DBliuAgdeBKZsdqFKkLtCPAQBT/hIMxxSb\n",
       "NAAAAABJRU5ErkJggg==\n",
       "\" style=\"display:inline;vertical-align:middle;\" /></a></td></tr>\n",
       "</table>\n"
      ],
      "text/plain": [
       "0. (() = ()) and (b = d)\n",
       "   core type: Operation\n",
       "   operator: 1\n",
       "   operands: 2\n",
       "1. and\n",
       "   core type: Literal\n",
       "   sub-expressions: \n",
       "2. (() = () , b = d)\n",
       "   core type: ExprTuple\n",
       "   sub-expressions: 3, 4\n",
       "3. () = ()\n",
       "   core type: Operation\n",
       "   operator: 6\n",
       "   operands: 5\n",
       "4. b = d\n",
       "   core type: Operation\n",
       "   operator: 6\n",
       "   operands: 7\n",
       "5. (() , ())\n",
       "   core type: ExprTuple\n",
       "   sub-expressions: 8, 8\n",
       "6. =\n",
       "   core type: Literal\n",
       "   sub-expressions: \n",
       "7. (b , d)\n",
       "   core type: ExprTuple\n",
       "   sub-expressions: 9, 10\n",
       "8. ()\n",
       "   core type: ExprTuple\n",
       "   sub-expressions: \n",
       "9. b\n",
       "   core type: Variable\n",
       "   sub-expressions: \n",
       "10. d\n",
       "    core type: Variable\n",
       "    sub-expressions: "
      ]
     },
     "execution_count": 5,
     "metadata": {},
     "output_type": "execute_result"
    }
   ],
   "source": [
    "# display the expression information\n",
    "expr.exprInfo()"
   ]
  },
  {
   "cell_type": "code",
   "execution_count": null,
   "metadata": {},
   "outputs": [],
   "source": []
  }
 ],
 "metadata": {
  "kernelspec": {
   "display_name": "Python 3",
   "language": "python",
   "name": "python3"
  },
  "language_info": {
   "codemirror_mode": {
    "name": "ipython",
    "version": 3
   },
   "file_extension": ".py",
   "mimetype": "text/x-python",
   "name": "python",
   "nbconvert_exporter": "python",
   "pygments_lexer": "ipython3",
   "version": "3.7.4"
  }
 },
 "nbformat": 4,
 "nbformat_minor": 1
}
