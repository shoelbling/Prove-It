{
 "cells": [
  {
   "cell_type": "markdown",
   "metadata": {},
   "source": [
    "Expression of type <a class=\"ProveItLink\" href=\"../../../../../../doc/html/api/proveit.Conditional.html\">Conditional</a>\n",
    "=======================\n",
    "# from context <a class=\"ProveItLink\" href=\"../../_context_.ipynb\">proveit.core_expr_types.tuples</a>"
   ]
  },
  {
   "cell_type": "code",
   "execution_count": 1,
   "metadata": {},
   "outputs": [],
   "source": [
    "import proveit\n",
    "# Automation is not needed when building an expression:\n",
    "proveit.defaults.automation = False # This will speed things up.\n",
    "# import Expression classes needed to build the expression\n",
    "from proveit import Conditional, Function, Variable\n",
    "from proveit.logic import And, Equals"
   ]
  },
  {
   "cell_type": "code",
   "execution_count": 2,
   "metadata": {},
   "outputs": [
    {
     "data": {
      "text/html": [
       "<strong id=\"expr\">expr:</strong> <a class=\"ProveItLink\" href=\"expr.ipynb\"><img src=\"data:image/png;base64,iVBORw0KGgoAAAANSUhEUgAAAM4AAAAVBAMAAAD8yMwbAAAAMFBMVEX///8QEBBERERUVFTMzMyY\n",
       "mJjc3NxmZmYiIiJ2dnaqqqoyMjKIiIi6urru7u4AAAAvZeGPAAAAAXRSTlMAQObYZgAAAAlwSFlz\n",
       "AAAOxAAADsQBlSsOGwAAAt9JREFUSMeNlUtoU0EUhv/m3eTmNkXcFB/VgptWKy0iPqihXbmxWVUR\n",
       "xWzEqgsrElDqI6CgCEpABGtduBDETZuNCC7sxS4ELaRL8UFCK3ShaIilUtpaz8ydmdxHcs0hJzO5\n",
       "8935z5yZOQGgf4XVQqJNw9PSDVFW+zBh+/letF9sT0/M2l/SntaivCz6l32/Xe/oeVViP3OOmRDa\n",
       "CMSerfFn3ZXezuus98JJ/deas7xZAXxbqP2uBt6INv4HOBbq4/2WPLCNwtHzTqpBncAqLYUcGTVw\n",
       "VHZo3l7RHTSASfJwykU1pqMtki9TJ6EGmkpVaK9oC0lyymxTTaoBHV+ZnLTiKiGIpdw63cxJ63NN\n",
       "qgGdlnagyBJCweozfYcf08BuEzi/AQOtInEVioRl9wpR7wzMVyngx/S3McepEAy3cF4k/uxdEV4Y\n",
       "08ZlICiXdlPtD+1i6BGb6yUJRBM4ZaEwoh0Ms5jDd7gxfcFwu8AXXtg3dpK1EZplCIX0HjoWWUF0\n",
       "KB3t99hDfpEopHMUYI+FCqa1Jb8jiYJhNnBPJZ5vK02TRCcPvuzS8clHm+kUNhnYZKEC8OWdeyIY\n",
       "nsLRkrg+SgdY5fcm4dJpyVd1UCwFFi0UjRquzTcZM0aWyMCyPD4s+/El/KyZt0FZLF6Tj0JLWCia\n",
       "NK2X7PsjmOp509akqgF9p78MmjDY7tIpyCrXxR+zEDmlk8/NHkKzcz0mU9WJySzTMY0uLiTitKyw\n",
       "TMN2/mE2Jd9/QH4JxZSgflE+J49cxCenjslAXzF1/FMVMWk8C/2q8fw4O3qi5ve37urfyhaAA+td\n",
       "4v2P5PNPbqQFFbkPLMxEM66iajLAbVVHpd1SvWGPyx1Jsu9xRU3UJccd9dpdFzMeOsERut96m6Jy\n",
       "tTHBmHcvYRvyyX/IULtXtdqBiOHPSUo36iybM+ICtdlLkpze51mI5xCduaaoYL3/UM4IO7PfNnZa\n",
       "tEOe1TeUaoSq2j/KG8KS5KS6nQAAAABJRU5ErkJggg==\n",
       "\" style=\"display:inline;vertical-align:middle;\" /></a><br>"
      ],
      "text/plain": [
       "expr: {P(x) if P(y) ,  x = y."
      ]
     },
     "execution_count": 2,
     "metadata": {},
     "output_type": "execute_result"
    }
   ],
   "source": [
    "# build up the expression from sub-expressions\n",
    "subExpr1 = Variable(\"x\")\n",
    "subExpr2 = Variable(\"y\")\n",
    "expr = Conditional(Function(Variable(\"P\"), subExpr1), And(Function(Variable(\"P\"), subExpr2), Equals(subExpr1, subExpr2)))"
   ]
  },
  {
   "cell_type": "code",
   "execution_count": 3,
   "metadata": {},
   "outputs": [
    {
     "name": "stdout",
     "output_type": "stream",
     "text": [
      "Passed sanity check: built 'expr' is the same as the stored Expression.\n"
     ]
    }
   ],
   "source": [
    "# check that the built expression is the same as the stored expression\n",
    "%check_expr"
   ]
  },
  {
   "cell_type": "code",
   "execution_count": 4,
   "metadata": {},
   "outputs": [
    {
     "name": "stdout",
     "output_type": "stream",
     "text": [
      "\\left\\{P\\left(x\\right) \\textrm{ if } P\\left(y\\right) ,  x = y\\right..\n"
     ]
    }
   ],
   "source": [
    "# Show the LaTeX representation of the expression for convenience if you need it.\n",
    "print(expr.latex())"
   ]
  },
  {
   "cell_type": "code",
   "execution_count": 5,
   "metadata": {},
   "outputs": [
    {
     "data": {
      "text/html": [
       "<table><tr><th>&nbsp;</th><th>core type</th><th>sub-expressions</th><th>expression</th></tr>\n",
       "<tr><td>0</td><td>Conditional</td><td>value:&nbsp;1<br>condition:&nbsp;2<br></td><td><a class=\"ProveItLink\" href=\"expr.ipynb\"><img src=\"data:image/png;base64,iVBORw0KGgoAAAANSUhEUgAAAM4AAAAVBAMAAAD8yMwbAAAAMFBMVEX///8QEBBERERUVFTMzMyY\n",
       "mJjc3NxmZmYiIiJ2dnaqqqoyMjKIiIi6urru7u4AAAAvZeGPAAAAAXRSTlMAQObYZgAAAAlwSFlz\n",
       "AAAOxAAADsQBlSsOGwAAAt9JREFUSMeNlUtoU0EUhv/m3eTmNkXcFB/VgptWKy0iPqihXbmxWVUR\n",
       "xWzEqgsrElDqI6CgCEpABGtduBDETZuNCC7sxS4ELaRL8UFCK3ShaIilUtpaz8ydmdxHcs0hJzO5\n",
       "8935z5yZOQGgf4XVQqJNw9PSDVFW+zBh+/letF9sT0/M2l/SntaivCz6l32/Xe/oeVViP3OOmRDa\n",
       "CMSerfFn3ZXezuus98JJ/deas7xZAXxbqP2uBt6INv4HOBbq4/2WPLCNwtHzTqpBncAqLYUcGTVw\n",
       "VHZo3l7RHTSASfJwykU1pqMtki9TJ6EGmkpVaK9oC0lyymxTTaoBHV+ZnLTiKiGIpdw63cxJ63NN\n",
       "qgGdlnagyBJCweozfYcf08BuEzi/AQOtInEVioRl9wpR7wzMVyngx/S3McepEAy3cF4k/uxdEV4Y\n",
       "08ZlICiXdlPtD+1i6BGb6yUJRBM4ZaEwoh0Ms5jDd7gxfcFwu8AXXtg3dpK1EZplCIX0HjoWWUF0\n",
       "KB3t99hDfpEopHMUYI+FCqa1Jb8jiYJhNnBPJZ5vK02TRCcPvuzS8clHm+kUNhnYZKEC8OWdeyIY\n",
       "nsLRkrg+SgdY5fcm4dJpyVd1UCwFFi0UjRquzTcZM0aWyMCyPD4s+/El/KyZt0FZLF6Tj0JLWCia\n",
       "NK2X7PsjmOp509akqgF9p78MmjDY7tIpyCrXxR+zEDmlk8/NHkKzcz0mU9WJySzTMY0uLiTitKyw\n",
       "TMN2/mE2Jd9/QH4JxZSgflE+J49cxCenjslAXzF1/FMVMWk8C/2q8fw4O3qi5ve37urfyhaAA+td\n",
       "4v2P5PNPbqQFFbkPLMxEM66iajLAbVVHpd1SvWGPyx1Jsu9xRU3UJccd9dpdFzMeOsERut96m6Jy\n",
       "tTHBmHcvYRvyyX/IULtXtdqBiOHPSUo36iybM+ICtdlLkpze51mI5xCduaaoYL3/UM4IO7PfNnZa\n",
       "tEOe1TeUaoSq2j/KG8KS5KS6nQAAAABJRU5ErkJggg==\n",
       "\" style=\"display:inline;vertical-align:middle;\" /></a></td></tr>\n",
       "<tr><td>1</td><td>Operation</td><td>operator:&nbsp;7<br>operand:&nbsp;10<br></td><td><a class=\"ProveItLink\" href=\"../2548a99d921e002e203801a4828f7377ced085bf0/expr.ipynb\"><img src=\"data:image/png;base64,iVBORw0KGgoAAAANSUhEUgAAAC4AAAAVBAMAAADLKsFqAAAAMFBMVEX///+YmJgiIiLc3Ny6urp2\n",
       "dnaqqqrMzMwQEBDu7u5mZmYyMjJUVFRERESIiIgAAACzCz+6AAAAAXRSTlMAQObYZgAAAAlwSFlz\n",
       "AAAOxAAADsQBlSsOGwAAAQpJREFUGNNjYEAGBhCKmQEV8CVAaJYHIPLt/ztnd00AsVJhCp6Byd8M\n",
       "DLydQJpzA0ycG6SM/R8DAxsQM3AJwMQZF4BM/Q7EX4EMDoRNIO28H4AYKMfgjRDfCMT8FxgY/EEu\n",
       "WArE895MDwW6KgbIrH/AYKoGU7SA7xyXAgODNJD5/mioCFgzUJLRgO8zD9D6JCD3PszQFqDbGHjB\n",
       "jq2HOB8uDrQN7FcPoJKvMPFtIMLfgHMC2By+LzDxewwMcx3OM7ACmbJAP3+AiQMdl1+5gsENyFzH\n",
       "wLP/7wOouBMDw6x3bAtBgaqMHMxMBTAWswKyODi0wAARgmBwGcawRY2vuTDGTVRxZqh2RgMGAF7Q\n",
       "Oro1FvfJAAAAAElFTkSuQmCC\n",
       "\" style=\"display:inline;vertical-align:middle;\" /></a></td></tr>\n",
       "<tr><td>2</td><td>Operation</td><td>operator:&nbsp;3<br>operands:&nbsp;4<br></td><td><a class=\"ProveItLink\" href=\"../69379ab28f5b3c783e0334097facb79b439a25760/expr.ipynb\"><img src=\"data:image/png;base64,iVBORw0KGgoAAAANSUhEUgAAAIYAAAAVBAMAAABxpYtPAAAAMFBMVEX///+YmJgiIiLc3Ny6urp2\n",
       "dnaqqqrMzMwQEBDu7u5mZmYyMjJUVFRERESIiIgAAACzCz+6AAAAAXRSTlMAQObYZgAAAAlwSFlz\n",
       "AAAOxAAADsQBlSsOGwAAAfRJREFUOMt9VD1Iw1AQ/rRpNWmjguKgKEVBEUTi4Cg4uumik0NwEgdx\n",
       "6aa0q4uIkz8g6iqUuLpYwSIOgoMgomBdRMSfiopIsXov7yVNk2cOXu7efV8u975cAngsUuWCgMz8\n",
       "0D13SgFyQGac/Px7c3awQkFs/J9bXEBmnFwC9CXym046vsJ91OR+M6QEJ9eV6Um0sOOka7a5X7W4\n",
       "3wmrYZMbvmh9UpBx80vc3R1znwmrYZP1Ii2qo1huep+75CKXzQqtwciN58AYqauRcltZqDlgSkgZ\n",
       "N5hngPpympr03ewhpwsY6mHiNAHjM6ihttq5WkbMFoYBGp4Ku2yz28Wsn4Ue8mt+ooWlak1EzD0k\n",
       "qK1pu8YC0CcANOPVOPJNl4d8K3L1I1CxjHo6VtpOnAAvAsA8rv06eMmlSg0o30jPA6M2h6RcdQCg\n",
       "HBxRl1z36QwLtaxZeIA4C5swzRQAlHes+/SokBs+RA2d+tJzuKGww5aBndnigHqRKMI/8RVyvChS\n",
       "UXpPWk55ozDL9p3scsmB2NdGRjF9NVxy4vBHfKZKkjTIP75T2M32V+yS4oCaLcy2BkT1kB3rtbuh\n",
       "7iPJanLvfyMaJLcBe1hjSjZVU9vkFWRk3cAA8hQM+8UzpDVkZPUcc48jjhLVgMyk5EHxRwg8djDk\n",
       "92HgD1LIiaaxS+j2AAAAAElFTkSuQmCC\n",
       "\" style=\"display:inline;vertical-align:middle;\" /></a></td></tr>\n",
       "<tr><td>3</td><td>Literal</td><td></td><td><a class=\"ProveItLink\" href=\"../../../../logic/boolean/conjunction/__pv_it/f41cc6b553210927c09f19a8a39cdf860a5585930/expr.ipynb\"><img src=\"data:image/png;base64,iVBORw0KGgoAAAANSUhEUgAAAAwAAAANBAMAAABvB5JxAAAALVBMVEX///9mZmbc3NxERETMzMy6\n",
       "urpUVFSYmJiIiIgyMjIiIiLu7u6qqqp2dnYAAACMfHT6AAAAAXRSTlMAQObYZgAAAAlwSFlzAAAO\n",
       "xAAADsQBlSsOGwAAAEpJREFUCNdjYGDgPcAAArsmgKn2VDC1wBlE8lzgVABSnAo8AkDKjYFhNZBK\n",
       "YWDoYGDgBirfBdHMeICBCyjONIGhAqTJhMEaRPkCACemC8GDBfsjAAAAAElFTkSuQmCC\n",
       "\" style=\"display:inline;vertical-align:middle;\" /></a></td></tr>\n",
       "<tr><td>4</td><td>ExprTuple</td><td>5, 6</td><td><a class=\"ProveItLink\" href=\"../4ccee861c64f550cb04be4aa685a4f26d646b5a70/expr.ipynb\"><img src=\"data:image/png;base64,iVBORw0KGgoAAAANSUhEUgAAAHoAAAAVBAMAAAB71edYAAAAMFBMVEX////MzMxUVFREREQiIiK6\n",
       "uroQEBCYmJhmZmYyMjLu7u52dnaqqqqIiIjc3NwAAACFAiZ1AAAAAXRSTlMAQObYZgAAAAlwSFlz\n",
       "AAAOxAAADsQBlSsOGwAAAhFJREFUOMuNk01IG1EUhY9JJo6T0WbvQsGFYDYh0IWCtYrLWlyI0FWy\n",
       "cRNaEEqhBWlFlBIkmJ0uBAeFooIQuitVyKKIUAqDgmShONBFF+0iUkqpovXc+YmZkZg8eHPfz3fe\n",
       "m3vvuwAs1LQOn7m32Ux7qXbpxDGK2VhtM1/Zj/6nelYMDvSi/5R7GxmtIIN/QDhLu+XttBmN1WTU\n",
       "adqWK17LjvfeTutsYzWZqO37OfslB5nqVraJX8/imZhwhZ0nKIXqznIT6mUsinmQBNIMocqgaWUT\n",
       "68BHD9FO+zp3A7KdPLRuYew7ukz8fCJxYBBiegbvgDceqeLQnJfB/Ki0ERkW99FaEUZEOEt8fiU2\n",
       "wtz/UgvoAb546rc4s3oD76SUQygpzJRMh9zl6DhgRE284O94aBz9QX81AqTITLnprqqRNloYwMlb\n",
       "+OruM7tAV1yYVUn3pZd/ebU5tGdq/hzKNbYDftO5YwgzKOn+44JhebophBnPlzLng9MehiooBu4m\n",
       "kIIwkpm2irsaowxzSDP0efGPHunnmxmlFFCr3cpfCDMBhNZ+uyWlPOZnfW+JRftU5qMGtLx5MHMn\n",
       "bInyNYSJxGuXh+3vJyZFzoFet1ZiBZvxl8NriYj2HE7xIFZHm8OHksM88oXDQsQMMUjfnRdZRz2G\n",
       "BBxmw+dQEvrpAgcD9nS6jvpbedxlOnzID7d0rSbK28INONSApDCChF4AAAAASUVORK5CYII=\n",
       "\" style=\"display:inline;vertical-align:middle;\" /></a></td></tr>\n",
       "<tr><td>5</td><td>Operation</td><td>operator:&nbsp;7<br>operand:&nbsp;11<br></td><td><a class=\"ProveItLink\" href=\"../48906551f53658ac26c160560a233587087698750/expr.ipynb\"><img src=\"data:image/png;base64,iVBORw0KGgoAAAANSUhEUgAAAC0AAAAVBAMAAAAgHXppAAAAMFBMVEX///+YmJgiIiLc3Ny6urp2\n",
       "dnaqqqrMzMwQEBDu7u5mZmYyMjJUVFRERESIiIgAAACzCz+6AAAAAXRSTlMAQObYZgAAAAlwSFlz\n",
       "AAAOxAAADsQBlSsOGwAAAR5JREFUGNNjYEAGBigUHPAlQGg/MPn2/52zuyaAWKmo8r8ZGHg7gTTn\n",
       "BpjGnSCC/R8DAxsQM3AJwMSlwLq+A/FXIIMDbhEHyFjeD0AMlGPwhotzg3TyX2Bg8H8AZCwFWvHq\n",
       "AcMcBgbWA0Bu/QMGUzWQqo1AAbYGBnkGBkaQC94fDRUB6wZKmnFtYDgLdIYCkHsfZmoLA8MEjgcM\n",
       "fUAnfoA4Hy7O4D+BHegElgag3FeY+DYgXs3A1wAxh+8LTPweEN9h4AW6hRHoRO4PMPEYIF7D4A90\n",
       "O9cDBp79fx9AxZ2AeE7cemAoM6GENFMBiIwGYiOU4GdcwMC1gbMNyFqIGi+XGZge8AQwMDBfQBWf\n",
       "y8D2bgkoJCegijNDI0CYgQEA87ZAQz3FKu0AAAAASUVORK5CYII=\n",
       "\" style=\"display:inline;vertical-align:middle;\" /></a></td></tr>\n",
       "<tr><td>6</td><td>Operation</td><td>operator:&nbsp;8<br>operands:&nbsp;9<br></td><td><a class=\"ProveItLink\" href=\"../ae69c5423268187f3ecac0931bfa3f986d3c6b4b0/expr.ipynb\"><img src=\"data:image/png;base64,iVBORw0KGgoAAAANSUhEUgAAADMAAAANBAMAAAD2/0vEAAAAMFBMVEX///8QEBC6uroyMjJERETc\n",
       "3NyYmJgiIiJmZmaqqqp2dnbMzMxUVFSIiIju7u4AAAAoIwv1AAAAAXRSTlMAQObYZgAAAAlwSFlz\n",
       "AAAOxAAADsQBlSsOGwAAAJ1JREFUGNNjYHh75/WqCQwogO/GBYY3QLqB9yxHAZDmKAeDA0AmF6cA\n",
       "Qz4DA1sA71eeBFRdkRwGDEcYGLgZWAwY0MADxgsMsiAG/wV0KQb9B9y/wXQA3wNUuxiaGXgFGBie\n",
       "KJxn4ELX5cPAAlQyf18jgya6VA+DPtBlL+5ytk1Al3qztj+AARdYjEOcw4BPEocU+wWeBTikOO82\n",
       "AUkAd6ApmCXBelcAAAAASUVORK5CYII=\n",
       "\" style=\"display:inline;vertical-align:middle;\" /></a></td></tr>\n",
       "<tr><td>7</td><td>Variable</td><td></td><td><a class=\"ProveItLink\" href=\"../390c91a44e60b16c95d2255652741252e8ec8d980/expr.ipynb\"><img src=\"data:image/png;base64,iVBORw0KGgoAAAANSUhEUgAAABAAAAAOBAMAAADUAYG5AAAAMFBMVEX///+YmJgiIiLc3Ny6urp2\n",
       "dnaqqqrMzMwQEBDu7u5mZmYyMjJUVFRERESIiIgAAACzCz+6AAAAAXRSTlMAQObYZgAAAAlwSFlz\n",
       "AAAOxAAADsQBlSsOGwAAAF1JREFUCNdjYGB4+//O2V0TGIDgNwMDbyeQZv/HwMAGxAx834H4K5DB\n",
       "+wGIgRwG/gsMDP4PgIz6BwymaiBN74+GioBohvsMUPAbSrN/hTL4vkAZ3B8gNM/+vyAzGABqABnj\n",
       "X5k3PAAAAABJRU5ErkJggg==\n",
       "\" style=\"display:inline;vertical-align:middle;\" /></a></td></tr>\n",
       "<tr><td>8</td><td>Literal</td><td></td><td><a class=\"ProveItLink\" href=\"../../../../logic/equality/__pv_it/e16d2caa26a16688b658bdb9c422caf4b84579e10/expr.ipynb\"><img src=\"data:image/png;base64,iVBORw0KGgoAAAANSUhEUgAAAA4AAAAFBAMAAACHocAhAAAAD1BMVEX///9UVFQiIiJmZmYAAACP\n",
       "OqLZAAAAAXRSTlMAQObYZgAAAAlwSFlzAAAOxAAADsQBlSsOGwAAABJJREFUCNdjMFICAUUGXAAq\n",
       "DwAoFgH7Aeay4gAAAABJRU5ErkJggg==\n",
       "\" style=\"display:inline;vertical-align:middle;\" /></a></td></tr>\n",
       "<tr><td>9</td><td>ExprTuple</td><td>10, 11</td><td><a class=\"ProveItLink\" href=\"../d6c4b110a769a6fd35fecf1455b60c19f379d7e50/expr.ipynb\"><img src=\"data:image/png;base64,iVBORw0KGgoAAAANSUhEUgAAACwAAAAVBAMAAADP3xFXAAAAMFBMVEX////MzMxUVFREREQiIiK6\n",
       "uroQEBCYmJhmZmYyMjLu7u52dnaqqqqIiIjc3NwAAACFAiZ1AAAAAXRSTlMAQObYZgAAAAlwSFlz\n",
       "AAAOxAAADsQBlSsOGwAAARdJREFUGNNtkLFLAmEYxn9petendzq3eLtI0RgUDo4lDiEEQVNLEARO\n",
       "bU6GhODW0mAI0XIQri0O0RKRNIhDwUH/QFvYIL3v5S2eL3zPx/2+797veV4gYKFcFWe4iFMjkRdi\n",
       "9QGmG8drPezzOLaapFlSpxwuw9dcifrvt4//fvwOxoOBHEDTKdnlED88Y33DBXvyQuDMEuHL7rBN\n",
       "YhOeOIEVknOXhjPSEqagGHKjKOAvhTzUudGv48D0Qmx3GaNNdqBf2yADepD02JKtIV54W29xhJnq\n",
       "bS/1I1uHA7j/zF6K7YpcN8XJTHCV1XwULRu2z4gpt6xjmZe0p82d/Kfj242wL2ufouiXrH6ENefr\n",
       "pCa6rYFjA7cC/gA9wTtx/wv4QgAAAABJRU5ErkJggg==\n",
       "\" style=\"display:inline;vertical-align:middle;\" /></a></td></tr>\n",
       "<tr><td>10</td><td>Variable</td><td></td><td><a class=\"ProveItLink\" href=\"../72df168d2bfb4e0140af90912ebf83b13772060b0/expr.ipynb\"><img src=\"data:image/png;base64,iVBORw0KGgoAAAANSUhEUgAAAAsAAAAJBAMAAAAWSsseAAAAMFBMVEX///8QEBC6uroyMjJERETc\n",
       "3NyYmJgiIiJmZmaqqqp2dnbMzMxUVFSIiIju7u4AAAAoIwv1AAAAAXRSTlMAQObYZgAAAAlwSFlz\n",
       "AAAOxAAADsQBlSsOGwAAAENJREFUCNdjYHh75/WqCQwMDbxnOQoY2AJ4v/IkMHAzsBgwgAD/BTCl\n",
       "H8D3gOGJwnkGLgaG+fsaGTQZGF7c5WybwAAAJGsQ2L2rVEcAAAAASUVORK5CYII=\n",
       "\" style=\"display:inline;vertical-align:middle;\" /></a></td></tr>\n",
       "<tr><td>11</td><td>Variable</td><td></td><td><a class=\"ProveItLink\" href=\"../c6e291955561f22a0e6708fd793ea93f1c7dbb5d0/expr.ipynb\"><img src=\"data:image/png;base64,iVBORw0KGgoAAAANSUhEUgAAAAsAAAANBAMAAACN24kIAAAAMFBMVEX///8iIiLMzMy6urpEREQy\n",
       "MjLc3NyYmJgQEBCqqqp2dnZUVFRmZmaIiIju7u4AAACJ/BCYAAAAAXRSTlMAQObYZgAAAAlwSFlz\n",
       "AAAOxAAADsQBlSsOGwAAAFdJREFUCNdj4LtzgeE1AwMXZwNDPQNDJk8AwxYGhgccFxh6GRgY7B8w\n",
       "fQJSRxl4G4CUNwPLBiB1msG+AEi9Xns+gQEElgIxTwBfJ5BivMC9AEhx3j0MJAH6nBTYXSPRQAAA\n",
       "AABJRU5ErkJggg==\n",
       "\" style=\"display:inline;vertical-align:middle;\" /></a></td></tr>\n",
       "</table>\n"
      ],
      "text/plain": [
       "0. {P(x) if P(y) ,  x = y.\n",
       "   core type: Conditional\n",
       "   value: 1\n",
       "   condition: 2\n",
       "1. P(x)\n",
       "   core type: Operation\n",
       "   operator: 7\n",
       "   operand: 10\n",
       "2. P(y) and (x = y)\n",
       "   core type: Operation\n",
       "   operator: 3\n",
       "   operands: 4\n",
       "3. and\n",
       "   core type: Literal\n",
       "   sub-expressions: \n",
       "4. (P(y) , x = y)\n",
       "   core type: ExprTuple\n",
       "   sub-expressions: 5, 6\n",
       "5. P(y)\n",
       "   core type: Operation\n",
       "   operator: 7\n",
       "   operand: 11\n",
       "6. x = y\n",
       "   core type: Operation\n",
       "   operator: 8\n",
       "   operands: 9\n",
       "7. P\n",
       "   core type: Variable\n",
       "   sub-expressions: \n",
       "8. =\n",
       "   core type: Literal\n",
       "   sub-expressions: \n",
       "9. (x , y)\n",
       "   core type: ExprTuple\n",
       "   sub-expressions: 10, 11\n",
       "10. x\n",
       "    core type: Variable\n",
       "    sub-expressions: \n",
       "11. y\n",
       "    core type: Variable\n",
       "    sub-expressions: "
      ]
     },
     "execution_count": 5,
     "metadata": {},
     "output_type": "execute_result"
    }
   ],
   "source": [
    "# display the expression information\n",
    "expr.exprInfo()"
   ]
  },
  {
   "cell_type": "code",
   "execution_count": null,
   "metadata": {},
   "outputs": [],
   "source": []
  }
 ],
 "metadata": {
  "kernelspec": {
   "display_name": "Python 3",
   "language": "python",
   "name": "python3"
  },
  "language_info": {
   "codemirror_mode": {
    "name": "ipython",
    "version": 3
   },
   "file_extension": ".py",
   "mimetype": "text/x-python",
   "name": "python",
   "nbconvert_exporter": "python",
   "pygments_lexer": "ipython3",
   "version": "3.7.4"
  }
 },
 "nbformat": 4,
 "nbformat_minor": 1
}
