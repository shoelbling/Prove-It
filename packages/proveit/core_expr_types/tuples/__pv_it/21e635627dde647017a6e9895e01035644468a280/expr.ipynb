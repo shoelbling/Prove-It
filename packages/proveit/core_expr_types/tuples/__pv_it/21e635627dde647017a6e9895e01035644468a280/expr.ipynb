{
 "cells": [
  {
   "cell_type": "markdown",
   "metadata": {},
   "source": [
    "Expression of type <a class=\"ProveItLink\" href=\"../../../../../../doc/html/api/proveit.ExprTuple.html\">ExprTuple</a>\n",
    "=======================\n",
    "# from context <a class=\"ProveItLink\" href=\"../../_context_.ipynb\">proveit.core_expr_types.tuples</a>"
   ]
  },
  {
   "cell_type": "code",
   "execution_count": 1,
   "metadata": {},
   "outputs": [],
   "source": [
    "import proveit\n",
    "# Automation is not needed when building an expression:\n",
    "proveit.defaults.automation = False # This will speed things up.\n",
    "# import Expression classes needed to build the expression\n",
    "from proveit import ExprRange, ExprTuple, Function, Len, Variable\n",
    "from proveit.number import Naturals"
   ]
  },
  {
   "cell_type": "code",
   "execution_count": 2,
   "metadata": {},
   "outputs": [
    {
     "data": {
      "text/html": [
       "<strong id=\"expr\">expr:</strong> <a class=\"ProveItLink\" href=\"expr.ipynb\"><img src=\"data:image/png;base64,iVBORw0KGgoAAAANSUhEUgAAAMkAAAAVBAMAAAAeFNdiAAAAMFBMVEX////MzMxUVFREREQiIiK6\n",
       "uroQEBCYmJhmZmYyMjLu7u52dnaqqqqIiIjc3NwAAACFAiZ1AAAAAXRSTlMAQObYZgAAAAlwSFlz\n",
       "AAAOxAAADsQBlSsOGwAAAxRJREFUSMeNlU9oE0EUxr82m2yym64BRbw1oohIkdWbwZb45yBFSkAp\n",
       "9CDtwSKUCqG92ENrEUSkVHIrSA/BeumhNJSqoJeg9VIPpicVKyxU8GhFKBgqOO/N282mKWsnzOw3\n",
       "mffmtzPvzSwAT/2oOGgUZ+8fUaXh7mAfPx7uqOIF9zZDI6zjtQNB1AS+tfawC/zH898Xyni5U7hF\n",
       "nQ/QlHSF2uSbsuiO6SbufmXmtUwAHC6z9WaIgovxLKw6v4VVEsoij6wcrYo2KkiVIyH28VHoCYAv\n",
       "YGv28CknvVfAEPBUvXxRKI94ZPRGOdAwpyMpifc56AkCa/bwKV1uykMeuKdMIZQh3tw6Aq3KSCRl\n",
       "kJeaCPojUn3K2UmnRJREGQNCifPC7TwCrcpcJGWV24GgPyc1oLRnvhIlVcSMUJIUfPPU5WnRS7MU\n",
       "pSjI2O3TnAIUm2+uWK+EKXBjBUWxswwnSoq39xCnIulKvxITkWv5G6wgiTtiPdFEOWb1KopZwnWh\n",
       "GJz1PzPQ2qk+VmItCuL84gdNMIVdsV5ropjVdyrE6TyGhZLgoY86eQqw+E07oyjpbX4Ms66LdWcT\n",
       "BWfaFaVtew9l1adov/7I45JvUJJ5se5vpjyz1EB8CPN+XHjHzvMw6VT2fzsWy/JjHvoI77djaKu5\n",
       "vGPdQolx3O9qf6WXq8pxnHqtF4ClV6yvuW6OJ008LtUuaItzqm4oiuly6hHFzjYCSnrQUYlG2Wz9\n",
       "Uc1ySUTQ8zNFZ/t9amalKgpbUF4klUjWcNM/lflGQEnHPinRR72rajEGHaNrkMbobWQKT4ATEOs+\n",
       "TSGLIzuuvuUMD0ZGbphLRNZbzZqWxvFNt27ZOjUPtKYJeKfJmj0oLush6+/6fmOKutPe6hRgjeAi\n",
       "tFsDr0KWzs4Hl2SXWRdr9iBKJWRNd2+PUGIeriz66aM/f1vcLrVGX8XdyPmXXU/bLh/pLd+Doh/6\n",
       "ADp0+ywIxXIx+cSfxuVHjttiC8Wk+tmT3gJmH/rWOaGY4YynHVe5tMG9H6ER1qZ3oC+yo1+DrLVH\n",
       "R6ZpfAr4B3dKzLxje/GcAAAAAElFTkSuQmCC\n",
       "\" style=\"display:inline;vertical-align:middle;\" /></a><br>"
      ],
      "text/plain": [
       "expr: (|(f(i) ,  ...  , f(j))| , Naturals)"
      ]
     },
     "execution_count": 2,
     "metadata": {},
     "output_type": "execute_result"
    }
   ],
   "source": [
    "# build up the expression from sub-expressions\n",
    "subExpr1 = Variable(\"a\")\n",
    "expr = ExprTuple(Len([ExprRange(subExpr1, Function(Variable(\"f\"), subExpr1), Variable(\"i\"), Variable(\"j\"))]), Naturals)"
   ]
  },
  {
   "cell_type": "code",
   "execution_count": 3,
   "metadata": {},
   "outputs": [
    {
     "name": "stdout",
     "output_type": "stream",
     "text": [
      "Passed sanity check: built 'expr' is the same as the stored Expression.\n"
     ]
    }
   ],
   "source": [
    "# check that the built expression is the same as the stored expression\n",
    "%check_expr"
   ]
  },
  {
   "cell_type": "code",
   "execution_count": 4,
   "metadata": {},
   "outputs": [
    {
     "name": "stdout",
     "output_type": "stream",
     "text": [
      "\\left(|\\left(f\\left(i\\right) , \\ldots , f\\left(j\\right)\\right)| , \\mathbb{N}\\right)\n"
     ]
    }
   ],
   "source": [
    "# Show the LaTeX representation of the expression for convenience if you need it.\n",
    "print(expr.latex())"
   ]
  },
  {
   "cell_type": "code",
   "execution_count": 5,
   "metadata": {},
   "outputs": [
    {
     "data": {
      "text/html": [
       "<table><tr><th>&nbsp;</th><th>core type</th><th>sub-expressions</th><th>expression</th></tr>\n",
       "<tr><td>0</td><td>ExprTuple</td><td>1, 2</td><td><a class=\"ProveItLink\" href=\"expr.ipynb\"><img src=\"data:image/png;base64,iVBORw0KGgoAAAANSUhEUgAAAMkAAAAVBAMAAAAeFNdiAAAAMFBMVEX////MzMxUVFREREQiIiK6\n",
       "uroQEBCYmJhmZmYyMjLu7u52dnaqqqqIiIjc3NwAAACFAiZ1AAAAAXRSTlMAQObYZgAAAAlwSFlz\n",
       "AAAOxAAADsQBlSsOGwAAAxRJREFUSMeNlU9oE0EUxr82m2yym64BRbw1oohIkdWbwZb45yBFSkAp\n",
       "9CDtwSKUCqG92ENrEUSkVHIrSA/BeumhNJSqoJeg9VIPpicVKyxU8GhFKBgqOO/N282mKWsnzOw3\n",
       "mffmtzPvzSwAT/2oOGgUZ+8fUaXh7mAfPx7uqOIF9zZDI6zjtQNB1AS+tfawC/zH898Xyni5U7hF\n",
       "nQ/QlHSF2uSbsuiO6SbufmXmtUwAHC6z9WaIgovxLKw6v4VVEsoij6wcrYo2KkiVIyH28VHoCYAv\n",
       "YGv28CknvVfAEPBUvXxRKI94ZPRGOdAwpyMpifc56AkCa/bwKV1uykMeuKdMIZQh3tw6Aq3KSCRl\n",
       "kJeaCPojUn3K2UmnRJREGQNCifPC7TwCrcpcJGWV24GgPyc1oLRnvhIlVcSMUJIUfPPU5WnRS7MU\n",
       "pSjI2O3TnAIUm2+uWK+EKXBjBUWxswwnSoq39xCnIulKvxITkWv5G6wgiTtiPdFEOWb1KopZwnWh\n",
       "GJz1PzPQ2qk+VmItCuL84gdNMIVdsV5ropjVdyrE6TyGhZLgoY86eQqw+E07oyjpbX4Ms66LdWcT\n",
       "BWfaFaVtew9l1adov/7I45JvUJJ5se5vpjyz1EB8CPN+XHjHzvMw6VT2fzsWy/JjHvoI77djaKu5\n",
       "vGPdQolx3O9qf6WXq8pxnHqtF4ClV6yvuW6OJ008LtUuaItzqm4oiuly6hHFzjYCSnrQUYlG2Wz9\n",
       "Uc1ySUTQ8zNFZ/t9amalKgpbUF4klUjWcNM/lflGQEnHPinRR72rajEGHaNrkMbobWQKT4ATEOs+\n",
       "TSGLIzuuvuUMD0ZGbphLRNZbzZqWxvFNt27ZOjUPtKYJeKfJmj0oLush6+/6fmOKutPe6hRgjeAi\n",
       "tFsDr0KWzs4Hl2SXWRdr9iBKJWRNd2+PUGIeriz66aM/f1vcLrVGX8XdyPmXXU/bLh/pLd+Doh/6\n",
       "ADp0+ywIxXIx+cSfxuVHjttiC8Wk+tmT3gJmH/rWOaGY4YynHVe5tMG9H6ER1qZ3oC+yo1+DrLVH\n",
       "R6ZpfAr4B3dKzLxje/GcAAAAAElFTkSuQmCC\n",
       "\" style=\"display:inline;vertical-align:middle;\" /></a></td></tr>\n",
       "<tr><td>1</td><td>Operation</td><td>operator:&nbsp;3<br>operand:&nbsp;5<br></td><td><a class=\"ProveItLink\" href=\"../b774888747995fd36d727d2e1f458afa0dff9eea0/expr.ipynb\"><img src=\"data:image/png;base64,iVBORw0KGgoAAAANSUhEUgAAAKEAAAAVBAMAAADcJJPmAAAAMFBMVEX///9UVFREREQiIiIQEBCY\n",
       "mJhmZmYyMjLu7u6qqqrMzMyIiIi6urp2dnbc3NwAAABm9RoHAAAAAXRSTlMAQObYZgAAAAlwSFlz\n",
       "AAAOxAAADsQBlSsOGwAAAkpJREFUOMuNVT1oFEEUftze3u152fUIImh16Q4C4VSQaBEEERK0SFIk\n",
       "hRAvhaQ4lTQp0h02KVLkJI1FxEPsY6MSbQ49SJkLaVJEOAKptfOSNM775s3Omg2TDMybb26/9+28\n",
       "n9mjHvGIyI7o7A+uYd0jgw4AthIk4IFPlxIsNsmwtUfY1oqFLtvcr4bgYu2/d5w3Xu6zfcfmQwPs\n",
       "raTiCki7H5uCvS7lG07B8OaEssEi468ENjyM4nOwJn40Ykx+zamY3ahwVJNk2fAwig+QjD7FWI1x\n",
       "p+IOQsjG+3GZojiAw4dVirEaS07FPdjteL8kUxRzXBj/2q2a4NU6Z9UlOPXwOsrDufxeFvauVcwj\n",
       "HVdRfsbdjgKzzjOexifL0SNhz1pFD131u0UaR80FBdZdgtEJlntqztGxsNetYrbNj9/rIrYpwAk2\n",
       "XYqFP1ieAPeFvXlWcc8oak7H2Y5Vq5irCruTyCOiHgKJcb50UdSZEpZl0tchFXUGNXmsuQqvNRVp\n",
       "mnfpixPoSPS1H0b+OcJpmaIYlmyyGe9EquDcQcFfZdYWxdidVFF32DM2dZmmw6s22YwznxUY490d\n",
       "dUiP2xTmLoNRW0X6yWaQhD2WuIX3OcE6NcB8ZOS+kA77LZt5jb2WZIvZ8DCKM0RvdHmAKf4IhOmi\n",
       "qBQXSsvxB+KG3xc2PIxipke3V0wZ9Wf5EHY1XRlVE69iLv/IlWNcj0PjYRSDMj19ZVzKWCqwkylF\n",
       "n+eXnuxeU/2FYVdE8RueHCV8gP3epf4VIv1KZmuPYusfj/ugsk0qCxQAAAAASUVORK5CYII=\n",
       "\" style=\"display:inline;vertical-align:middle;\" /></a></td></tr>\n",
       "<tr><td>2</td><td>Literal</td><td></td><td><a class=\"ProveItLink\" href=\"../../../../number/sets/integer/__pv_it/b49c37b99b7e8d73a8d7971bcf454d693b90a2c60/expr.ipynb\"><img src=\"data:image/png;base64,iVBORw0KGgoAAAANSUhEUgAAAA8AAAAPBAMAAADJ+Ih5AAAAMFBMVEX///9mZmbMzMyIiIiYmJjc\n",
       "3NxUVFSqqqq6uroQEBB2dnYyMjJEREQiIiLu7u4AAAAPqInnAAAAAXRSTlMAQObYZgAAAAlwSFlz\n",
       "AAAOxAAADsQBlSsOGwAAAGpJREFUCNdjePvn9AOGlT8bGBiOcyQw8P1jYGDIDVjCwDAByEg/wB3A\n",
       "cAHISHVm3QBhsClYQRgMB3gaIAxFvnsQBktBzQQwgyGPDcp4xgeRYmAyOABkHAJiIxDjOhAzbmBg\n",
       "0P0J5PFtYAAA6AAhaNFZV/8AAAAASUVORK5CYII=\n",
       "\" style=\"display:inline;vertical-align:middle;\" /></a></td></tr>\n",
       "<tr><td>3</td><td>Literal</td><td></td><td><a class=\"ProveItLink\" href=\"../92831c6291223dfbd76a11e90e750ae52564aa9f0/expr.ipynb\"><img src=\"data:image/png;base64,iVBORw0KGgoAAAANSUhEUgAAADsAAAASBAMAAAAXqLt+AAAAMFBMVEX///+qqqq6urru7u4QEBBE\n",
       "RERUVFTc3NyIiIgyMjJmZmaYmJjMzMwiIiJ2dnYAAACPW0xlAAAAAXRSTlMAQObYZgAAAAlwSFlz\n",
       "AAAOxAAADsQBlSsOGwAAAUNJREFUKM91kD1Lw1AUhp8kNVX7ke4OBgQ3NaOTFURwkg7apUMLIjpm\n",
       "0FWD+NGxozgVHFQEiaNT+wtsNxeRjLbQUiwoYhDPjQ5C2wuXey7POe95z4FOyLBjbDSjN9Ebwp5g\n",
       "ohqFk5VBrEmJlYnClDeIVcmCE4WH9UGcCqDzG9bkLpUvmd85OBUh7frMny3mPS6mTlxB26A/80iw\n",
       "6Rkf0GIvx7S4+3TNkuA10fc5StqrxEO0PpbHjaiEmDlISkWx3LUN403NGMvRcHmJ3MWk1/gyvP8N\n",
       "I+mNDMdIpnKnTI+VHL4VNitYvlNzyaP3cLJ25N3yPaWlEQvEUVDD+CJd0VwZaD3hYM14PGBcKalW\n",
       "ws26Zh+ztKgGCtOy8jvp/1qGOdi/R99tN4kXfArQHbJPUlVGnuQWjfpobK4Y56Mp+m3b/v//AcRT\n",
       "WSEJp2bgAAAAAElFTkSuQmCC\n",
       "\" style=\"display:inline;vertical-align:middle;\" /></a></td></tr>\n",
       "<tr><td>4</td><td>ExprTuple</td><td>5</td><td><a class=\"ProveItLink\" href=\"../1536ff0d4e10ef06748a76d501f78b1c2f23d3b70/expr.ipynb\"><img src=\"data:image/png;base64,iVBORw0KGgoAAAANSUhEUgAAAJ8AAAAVBAMAAACqHiFtAAAAMFBMVEX////MzMxUVFREREQiIiK6\n",
       "uroQEBCYmJhmZmYyMjLu7u52dnaqqqqIiIjc3NwAAACFAiZ1AAAAAXRSTlMAQObYZgAAAAlwSFlz\n",
       "AAAOxAAADsQBlSsOGwAAAklJREFUOMuNVT1oFEEU/pLbu93srRcrW2MjlsHy4EL8KcRcETDNFcEU\n",
       "2kU4rNIYDxEsAnLYBCTFQqoUwRBSabMINlp4YHOFxRWBNIJnYaEo+P5m9+LKmIXvzXu733478968\n",
       "WQAjKNw1wl83PFejeCWXOZcp3KX+6tkEP+uwOgF8MABbr108PPWJf13Rm5RsckBmqplPihH3FUD9\n",
       "0jrMXwJe+gUPL/AX92RJfWUboq4CqL1rwvnAhl9w/Q7P8JkLNwrUoADupsh9GlOfXvWnDGuYYBs6\n",
       "FHbk5pHYjlFmuj7B+qLI9jHBNmxxNfjew3tXoH48HNArcx698PL1HqeHa7L/Cco2bFO4LazfYsmv\n",
       "V2kpYd83w9lBvoperatsQ5vutWWPfhMq+V8iepQs+gS/nmcbUKXD0WymbMN9esBAMhYq+Sl/f2rs\n",
       "E/yopVgWP1W2IRfUPIvPlOqaT/BoQvAplG3YoZCBilaB/Rf435Kvam2lnZZwasktClvyOckz+/Gv\n",
       "OuVmntumLKXb84HYCr/S+A5lGw65j4o8s18dn9CWYPIr7ssfMJNHroCytUJONrMNKxSuFHkWv0Ub\n",
       "IeCjKLhN5hbMBLz3bqZFAauclmleCrMNAU2MgScqGOhEcSz2fWnJCQtGtuuvuVQdFwh7gmRux5qg\n",
       "p6P2/UG56QhvZzJ3Jkxnj90p4bAgCJquMxb0KOaFIB6UBPcJN/YsqIwuZm1jO2BXEA7dob+rVKlm\n",
       "WK4yd9uj5xbE89Fw2dgOaHQV+W9C/M2z/QJOdNgs8AdIvZ5pe0UDSQAAAABJRU5ErkJggg==\n",
       "\" style=\"display:inline;vertical-align:middle;\" /></a></td></tr>\n",
       "<tr><td>5</td><td>ExprTuple</td><td>6</td><td><a class=\"ProveItLink\" href=\"../5910a78a7973c5226a5f485b62af157f80dbd44b0/expr.ipynb\"><img src=\"data:image/png;base64,iVBORw0KGgoAAAANSUhEUgAAAI8AAAAVBAMAAACNsKCFAAAAMFBMVEX////MzMxUVFREREQiIiK6\n",
       "uroQEBCYmJhmZmYyMjLu7u52dnaqqqqIiIjc3NwAAACFAiZ1AAAAAXRSTlMAQObYZgAAAAlwSFlz\n",
       "AAAOxAAADsQBlSsOGwAAAiRJREFUOMuNVD1Iw0AUftqkiWmsTq7qIo7iWFD8G8Q6CLo4iA66KRQn\n",
       "F7WI4CBIcRGkQ8DJQRTppEsQXHSw4NLBoYPgIlgHB0XB93PXVCKnge/lvdx3X+7ee3cAUIXoqdbN\n",
       "3086msIzWsNoTPy5/wk9yGtOz7jlcPdC+5Uf0r897mWA1j9D05RhNsEr0FiqexmUnwU4NAudd9Cf\n",
       "jnkLBWEj3Bx9SF5nQPsAa2ah5Wla0Y4O1wRJDuYDllNDycCkY3/wawEa2IhZDkpsZ9VQS84klBpi\n",
       "uQI0sBG75K8u9nLGMU2VMlK7DDpOz0ie0kC5PrkHYSMOePSLLfopG5fsFEwraivXV51P5oSNmOTe\n",
       "emUK+s8ufvaHTEIv7WQtrJxTbQuFjViir36NKegH9L+mmknoTlI8xX4gbMRSlD/2acheMAmVGoS2\n",
       "QdiIIsUJyS75+/DX1vqlVtz+WahvbYDlOX/ke58p3HsftXlcQtprhW2CpqTfQNiI8yh/5Nu1Jywt\n",
       "kU4x6947KFOPdGG4RRxKJrERM1H+2B/Aglp0LVgTaMZBGYt6ZyyICmPT9ptp6cRGWLSYLRGyZGHw\n",
       "yPYmtjWfhFzVrcM6JY8CJw9+V1E1bV7ech7P4ocDcdUS6rPaHG7q00sYBCujO3lQrj5aMHjlmNAJ\n",
       "YvRYBYlqZzip2DzjCJyKvlyPhMLVceJVo1OxvqcCr8+tTCk2z0g3HHXxN/531T7Ja0PwDXNriMf2\n",
       "aFtyAAAAAElFTkSuQmCC\n",
       "\" style=\"display:inline;vertical-align:middle;\" /></a></td></tr>\n",
       "<tr><td>6</td><td>ExprRange</td><td>lambda_map:&nbsp;7<br>start_index:&nbsp;8<br>end_index:&nbsp;9<br></td><td><a class=\"ProveItLink\" href=\"../14c0c9bb000b56f8d077902c994f2d4e9b8e9d030/expr.ipynb\"><img src=\"data:image/png;base64,iVBORw0KGgoAAAANSUhEUgAAAIAAAAAVBAMAAAB8u/sIAAAAMFBMVEX///8yMjLc3NyIiIiYmJgi\n",
       "IiJERES6urqqqqoQEBDMzMxUVFTu7u52dnZmZmYAAAD1zdHuAAAAAXRSTlMAQObYZgAAAAlwSFlz\n",
       "AAAOxAAADsQBlSsOGwAAAeNJREFUOMuNVDtIA0EQnTvv8pHkTGGRMoXYRtHCSqKCjaBBUERFgpam\n",
       "0ELBymvEQkVBxRQWqQQrU4laSESwNY2VCtEIFiIoNiIpnM/mIhysWbi3M3Nv52be7h6AN0wPGhgJ\n",
       "8LN7CIIdDa1vcuEP23ksIoZKGC9LGs14fyDcIjgqKvb9MeW7wscugVHUro9e5BAjMbI7QbFzyzS9\n",
       "CMMqaxOE17NUcwr+sINVtndU7FCbYJU/GfZ8YkfTrEdMhVq1Ce4YFz0f2db5FNXhoIbXFVJEt35o\n",
       "/5KVJB26MordwnthYFulFTT6tBV8eVU6sKfYyTzFbBdM9wmNNd1684enCXz64Vuxt0XeBYhw/hNd\n",
       "gtAHTwdsVxX7rpZAQivaY5CuJ3DSij3PMQMPk1H4r4VAgac4yKkT9q68QilvXYwNkuc/jhGpUw7/\n",
       "HEESaya20iWKuVdN3Araysgnwm1MQd1TgstWjxBUPF2C2FGgG41R8sawBJuOB8MMGdPgCQ5LBKcg\n",
       "bEfagkm1USxTyN/DJsGb2HZetY7sDUOuNgzLJPck6tcP5QkV4t4dOrOqwh6/qgksP5l2xmu/iCif\n",
       "na1dmNnmb9sV9sBzjZHhKcuY8iWw6OlNKO8GKq91thptzEs09Esz5QvI/gVZv2xbZL9soAAAAABJ\n",
       "RU5ErkJggg==\n",
       "\" style=\"display:inline;vertical-align:middle;\" /></a></td></tr>\n",
       "<tr><td>7</td><td>Lambda</td><td>parameter:&nbsp;12<br>body:&nbsp;10<br></td><td><a class=\"ProveItLink\" href=\"../f0043753ff2624d263f59c4c60930b136180b0460/expr.ipynb\"><img src=\"data:image/png;base64,iVBORw0KGgoAAAANSUhEUgAAAFQAAAAVCAMAAADvsTk6AAAANlBMVEX///8WFhYNDQ3MzMxUVFQy\n",
       "MjKqqqoiIiKYmJju7u5EREQQEBC6urqIiIh2dnZmZmbc3NwAAADRPqZpAAAAAXRSTlMAQObYZgAA\n",
       "AAlwSFlzAAAOxAAADsQBlSsOGwAAATxJREFUOMulVFtihCAMtOUdHoH7X7agZZcEdKvNj2JkMsOE\n",
       "bNt/I1+snkbUZBniQxxMyfV3na6L/DWSFL7vdGpKK/cE1OsAfSPaKW3x44nNBx/KQMWvii6okk96\n",
       "LpvMUEAtQNXOPmOK+eWaIX8YLk56I/FtWe+kASLJVs5XjfASRWE0cCIlclIMwlb6zrcMmhNuEegR\n",
       "5SIGHUcXUAhdn7gXMK9++/4yJEoJhHoZPTlSFELUP3wT6N47GdOgwqlPHZRCBF/fWwFbTqwRvJdB\n",
       "jkbv8hlEle9KS4DadF6BKt6ofrzcEA9QAmErb1UT1uDWD5WoDbxPiU9H93AIrCsnYxJZRrGcHfwr\n",
       "8WkLhywKYW6PP5T0bsxUsrmHqOWvNVfTYzFjLsPANOqAa81wU7uNyDEcx4BH45Qzo2ptq/oDHYoL\n",
       "1B9fEzQAAAAASUVORK5CYII=\n",
       "\" style=\"display:inline;vertical-align:middle;\" /></a></td></tr>\n",
       "<tr><td>8</td><td>Variable</td><td></td><td><a class=\"ProveItLink\" href=\"../557ab5defdcd46aa58168b08767502985122cd490/expr.ipynb\"><img src=\"data:image/png;base64,iVBORw0KGgoAAAANSUhEUgAAAAcAAAAOBAMAAAARcxsoAAAALVBMVEX///9ERESYmJhUVFQyMjKq\n",
       "qqrc3NwQEBC6urru7u52dnYiIiJmZmaIiIgAAAD/UVazAAAAAXRSTlMAQObYZgAAAAlwSFlzAAAO\n",
       "xAAADsQBlSsOGwAAADlJREFUCNdjYGC4wwAEuxjQAeedCwwMXBwFDAypPA4MDBP4gFyGuAlAwhkk\n",
       "+5SLgYHjQRKQKavAAAAx5QmdfgFqMAAAAABJRU5ErkJggg==\n",
       "\" style=\"display:inline;vertical-align:middle;\" /></a></td></tr>\n",
       "<tr><td>9</td><td>Variable</td><td></td><td><a class=\"ProveItLink\" href=\"../6a5b5879f51878868f626bf09e4d76392d4779cd0/expr.ipynb\"><img src=\"data:image/png;base64,iVBORw0KGgoAAAANSUhEUgAAAAoAAAASBAMAAACQmVJ4AAAAMFBMVEX///9UVFS6urp2dnYiIiKq\n",
       "qqrc3NyYmJgQEBBmZmYyMjKIiIju7u5ERETMzMwAAAC4hZuzAAAAAXRSTlMAQObYZgAAAAlwSFlz\n",
       "AAAOxAAADsQBlSsOGwAAAEtJREFUCNdjYGBg4LsDJBi4FzBgA6f3gsgJHAUMDOwJ/AEgTvwBEDkF\n",
       "LO0MItg+gUj2DyCS8QKI5NgAZAXUAxW+D3AF8jl3KjAwAACAGg5QwkhbIAAAAABJRU5ErkJggg==\n",
       "\" style=\"display:inline;vertical-align:middle;\" /></a></td></tr>\n",
       "<tr><td>10</td><td>Operation</td><td>operator:&nbsp;11<br>operand:&nbsp;12<br></td><td><a class=\"ProveItLink\" href=\"../e80bce2a0c2e8c976be76e7b3ce08f76e74ec5550/expr.ipynb\"><img src=\"data:image/png;base64,iVBORw0KGgoAAAANSUhEUgAAACgAAAAVBAMAAADGNLEtAAAAMFBMVEX///8yMjLc3NyIiIiYmJgi\n",
       "IiJERES6urqqqqoQEBDMzMxUVFTu7u52dnZmZmYAAAD1zdHuAAAAAXRSTlMAQObYZgAAAAlwSFlz\n",
       "AAAOxAAADsQBlSsOGwAAAP1JREFUGNNjYIADJhQKCiwgFLsBmOK7ewBIclxAkby9sgFIHoTpYAQp\n",
       "YZhRBqKewARZHoAM+QNmT4AbPgeIeQPA5gvABUWAqndGg9TzgezRu6wMsgOI+cFuYHQAqp7EkA80\n",
       "3hHI1V8AEmQFuuCkA8NTILMViPvBBnEWMDC8P8AQC2SuB+KrcMFpDDzfgcxKIM6GOLmBgecvA8sH\n",
       "qPbJYEE2AwaeHwxsAk0MDG7AUPkFFuTdwMAgzOD6AOiyx8CA+AAJHKAXTtsu2gx0ShDQ1Rsg/oiC\n",
       "h2sAQzdjA4TtBxPkc2AIgwUZmwKUocbA4PwIyuZJgDJykKNDBRqcCgwAmIo1X55DCvQAAAAASUVO\n",
       "RK5CYII=\n",
       "\" style=\"display:inline;vertical-align:middle;\" /></a></td></tr>\n",
       "<tr><td>11</td><td>Variable</td><td></td><td><a class=\"ProveItLink\" href=\"../d7bbb04e874e28c7cefb21d4eea40806ae52f1f70/expr.ipynb\"><img src=\"data:image/png;base64,iVBORw0KGgoAAAANSUhEUgAAAAsAAAASBAMAAAB/WzlGAAAAMFBMVEX///8yMjLc3NyIiIiYmJgi\n",
       "IiJERES6urqqqqoQEBDMzMxUVFTu7u52dnZmZmYAAAD1zdHuAAAAAXRSTlMAQObYZgAAAAlwSFlz\n",
       "AAAOxAAADsQBlSsOGwAAAFNJREFUCNdjYGBg4Lt7AEgy3F7ZAKJmlIF47H9AbAbeABDJsjP6AYjm\n",
       "NwAL6i8AU/1gkuEqhMqGUJPBJNMvMMXxAUzxbQCR3Yxg48MOgsWcH4FIAPrAEkCfAu8DAAAAAElF\n",
       "TkSuQmCC\n",
       "\" style=\"display:inline;vertical-align:middle;\" /></a></td></tr>\n",
       "<tr><td>12</td><td>Variable</td><td></td><td><a class=\"ProveItLink\" href=\"../a8d4b3a34d2189508f9082853fbac36935714f280/expr.ipynb\"><img src=\"data:image/png;base64,iVBORw0KGgoAAAANSUhEUgAAAAsAAAAJBAMAAAAWSsseAAAAMFBMVEX////MzMxUVFQyMjKqqqoi\n",
       "IiKYmJju7u5EREQQEBC6urqIiIh2dnZmZmbc3NwAAAD0tjQRAAAAAXRSTlMAQObYZgAAAAlwSFlz\n",
       "AAAOxAAADsQBlSsOGwAAAEdJREFUCNdjYOC7s28DAwPDygcc3xkY2Kcx8AYwMPB+Z2A9wMDA2cBQ\n",
       "v4CBof4AQz5QRb0DQzPLAwbmDWyxPECV2gcfbWQAABp5EMgcedARAAAAAElFTkSuQmCC\n",
       "\" style=\"display:inline;vertical-align:middle;\" /></a></td></tr>\n",
       "</table>\n"
      ],
      "text/plain": [
       "0. (|(f(i) ,  ...  , f(j))| , Naturals)\n",
       "   core type: ExprTuple\n",
       "   sub-expressions: 1, 2\n",
       "1. |(f(i) ,  ...  , f(j))|\n",
       "   core type: Operation\n",
       "   operator: 3\n",
       "   operand: 5\n",
       "2. Naturals\n",
       "   core type: Literal\n",
       "   sub-expressions: \n",
       "3. length\n",
       "   core type: Literal\n",
       "   sub-expressions: \n",
       "4. ((f(i) ,  ...  , f(j)))\n",
       "   core type: ExprTuple\n",
       "   sub-expressions: 5\n",
       "5. (f(i) ,  ...  , f(j))\n",
       "   core type: ExprTuple\n",
       "   sub-expressions: 6\n",
       "6. f(i),...,f(j)\n",
       "   core type: ExprRange\n",
       "   lambda_map: 7\n",
       "   start_index: 8\n",
       "   end_index: 9\n",
       "7. a -> f(a)\n",
       "   core type: Lambda\n",
       "   parameter: 12\n",
       "   body: 10\n",
       "8. i\n",
       "   core type: Variable\n",
       "   sub-expressions: \n",
       "9. j\n",
       "   core type: Variable\n",
       "   sub-expressions: \n",
       "10. f(a)\n",
       "    core type: Operation\n",
       "    operator: 11\n",
       "    operand: 12\n",
       "11. f\n",
       "    core type: Variable\n",
       "    sub-expressions: \n",
       "12. a\n",
       "    core type: Variable\n",
       "    sub-expressions: "
      ]
     },
     "execution_count": 5,
     "metadata": {},
     "output_type": "execute_result"
    }
   ],
   "source": [
    "# display the expression information\n",
    "expr.exprInfo()"
   ]
  },
  {
   "cell_type": "code",
   "execution_count": null,
   "metadata": {},
   "outputs": [],
   "source": []
  }
 ],
 "metadata": {
  "kernelspec": {
   "display_name": "Python 3",
   "language": "python",
   "name": "python3"
  },
  "language_info": {
   "codemirror_mode": {
    "name": "ipython",
    "version": 3
   },
   "file_extension": ".py",
   "mimetype": "text/x-python",
   "name": "python",
   "nbconvert_exporter": "python",
   "pygments_lexer": "ipython3",
   "version": "3.7.4"
  }
 },
 "nbformat": 4,
 "nbformat_minor": 1
}
