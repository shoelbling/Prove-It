{
 "cells": [
  {
   "cell_type": "markdown",
   "metadata": {},
   "source": [
    "Expression of type <a class=\"ProveItLink\" href=\"../../../../../../doc/html/api/proveit.logic.Equals.html\">Equals</a>\n",
    "=======================\n",
    "# from context <a class=\"ProveItLink\" href=\"../../_context_.ipynb\">proveit.core_expr_types.tuples</a>"
   ]
  },
  {
   "cell_type": "code",
   "execution_count": 1,
   "metadata": {},
   "outputs": [],
   "source": [
    "import proveit\n",
    "# Automation is not needed when building an expression:\n",
    "proveit.defaults.automation = False # This will speed things up.\n",
    "# import Expression classes needed to build the expression\n",
    "from proveit import ExprRange, IndexedVar, Variable\n",
    "from proveit.logic import Equals\n",
    "from proveit.number import one"
   ]
  },
  {
   "cell_type": "code",
   "execution_count": 2,
   "metadata": {},
   "outputs": [
    {
     "data": {
      "text/html": [
       "<strong id=\"expr\">expr:</strong> <a class=\"ProveItLink\" href=\"expr.ipynb\"><img src=\"data:image/png;base64,iVBORw0KGgoAAAANSUhEUgAAAKMAAAAVBAMAAADY0UPbAAAAMFBMVEX////MzMxUVFREREQiIiK6\n",
       "uroQEBCYmJhmZmYyMjLu7u52dnaqqqqIiIjc3NwAAACFAiZ1AAAAAXRSTlMAQObYZgAAAAlwSFlz\n",
       "AAAOxAAADsQBlSsOGwAAAbNJREFUOMuVlD9Lw0AYh9+SpIlpDf0Cil+gkNVBreJQ1MFBBAehIOIm\n",
       "HRx00QyFDkXsJohiUVCcero5CBmcFCSCm38IIiiI0EXQ6uBdktrmvaRwgbbH77n36XuXSwDABYEr\n",
       "arKBea8topyPyB4wvxYxRjWQJojrVSEl7HDJCeZaUUy5yiVlzJNiRkjWcFLAfE5Q2YNXpVQxr7BT\n",
       "UHlyuoveLj6CUWoAIY1gvk1/Zl2p2dWoLMNIsGDVa6o0zq6xVtthPkVv+hJoOdDX4pVHRSgBHDNb\n",
       "OoeYbGO+SFtvgkyg7y5euVWDSUg8Mluige/XNOZUmTShTvPLeOUC6J9Bg0ohQhnmuwB1AhvQTan/\n",
       "gNoISvyFd+6ljfkQVdowmHY9pc7r2OcXpOqNX6KaaILkYH5G/8dR8ym/yzrdYf0bD2APVizil2j4\n",
       "uLFTFeYztDR7+nzrK+UJ+pVnA6s1YMnBfX8245fI+PWm5DCXMy3m7eUVt/J24pW8cBNGMVetkJJw\n",
       "FSSsLMe/SP75cBC872/SPeAezHZinH85YJicUnIxP+zEKleAEqnGnwkTc0Pohbkekb2G+R8HloXS\n",
       "Y0OThwAAAABJRU5ErkJggg==\n",
       "\" style=\"display:inline;vertical-align:middle;\" /></a><br>"
      ],
      "text/plain": [
       "expr: (a_{1} ,  ...  , a_{1}) = (a_{1})"
      ]
     },
     "execution_count": 2,
     "metadata": {},
     "output_type": "execute_result"
    }
   ],
   "source": [
    "# build up the expression from sub-expressions\n",
    "subExpr1 = Variable(\"b\")\n",
    "subExpr2 = Variable(\"a\")\n",
    "expr = Equals([ExprRange(subExpr1, IndexedVar(subExpr2, subExpr1), one, one)], [IndexedVar(subExpr2, one)])"
   ]
  },
  {
   "cell_type": "code",
   "execution_count": 3,
   "metadata": {},
   "outputs": [
    {
     "name": "stdout",
     "output_type": "stream",
     "text": [
      "Passed sanity check: built 'expr' is the same as the stored Expression.\n"
     ]
    }
   ],
   "source": [
    "# check that the built expression is the same as the stored expression\n",
    "%check_expr"
   ]
  },
  {
   "cell_type": "code",
   "execution_count": 4,
   "metadata": {},
   "outputs": [
    {
     "name": "stdout",
     "output_type": "stream",
     "text": [
      "\\left(a_{1} , \\ldots , a_{1}\\right) = \\left(a_{1}\\right)\n"
     ]
    }
   ],
   "source": [
    "# Show the LaTeX representation of the expression for convenience if you need it.\n",
    "print(expr.latex())"
   ]
  },
  {
   "cell_type": "code",
   "execution_count": 5,
   "metadata": {},
   "outputs": [
    {
     "data": {
      "text/html": [
       "<table><tr><th>&nbsp;</th><th>core type</th><th>sub-expressions</th><th>expression</th></tr>\n",
       "<tr><td>0</td><td>Operation</td><td>operator:&nbsp;1<br>operands:&nbsp;2<br></td><td><a class=\"ProveItLink\" href=\"expr.ipynb\"><img src=\"data:image/png;base64,iVBORw0KGgoAAAANSUhEUgAAAKMAAAAVBAMAAADY0UPbAAAAMFBMVEX////MzMxUVFREREQiIiK6\n",
       "uroQEBCYmJhmZmYyMjLu7u52dnaqqqqIiIjc3NwAAACFAiZ1AAAAAXRSTlMAQObYZgAAAAlwSFlz\n",
       "AAAOxAAADsQBlSsOGwAAAbNJREFUOMuVlD9Lw0AYh9+SpIlpDf0Cil+gkNVBreJQ1MFBBAehIOIm\n",
       "HRx00QyFDkXsJohiUVCcero5CBmcFCSCm38IIiiI0EXQ6uBdktrmvaRwgbbH77n36XuXSwDABYEr\n",
       "arKBea8topyPyB4wvxYxRjWQJojrVSEl7HDJCeZaUUy5yiVlzJNiRkjWcFLAfE5Q2YNXpVQxr7BT\n",
       "UHlyuoveLj6CUWoAIY1gvk1/Zl2p2dWoLMNIsGDVa6o0zq6xVtthPkVv+hJoOdDX4pVHRSgBHDNb\n",
       "OoeYbGO+SFtvgkyg7y5euVWDSUg8Mluige/XNOZUmTShTvPLeOUC6J9Bg0ohQhnmuwB1AhvQTan/\n",
       "gNoISvyFd+6ljfkQVdowmHY9pc7r2OcXpOqNX6KaaILkYH5G/8dR8ym/yzrdYf0bD2APVizil2j4\n",
       "uLFTFeYztDR7+nzrK+UJ+pVnA6s1YMnBfX8245fI+PWm5DCXMy3m7eUVt/J24pW8cBNGMVetkJJw\n",
       "FSSsLMe/SP75cBC872/SPeAezHZinH85YJicUnIxP+zEKleAEqnGnwkTc0Pohbkekb2G+R8HloXS\n",
       "Y0OThwAAAABJRU5ErkJggg==\n",
       "\" style=\"display:inline;vertical-align:middle;\" /></a></td></tr>\n",
       "<tr><td>1</td><td>Literal</td><td></td><td><a class=\"ProveItLink\" href=\"../../../../logic/equality/__pv_it/e16d2caa26a16688b658bdb9c422caf4b84579e10/expr.ipynb\"><img src=\"data:image/png;base64,iVBORw0KGgoAAAANSUhEUgAAAA4AAAAFBAMAAACHocAhAAAAD1BMVEX///9UVFQiIiJmZmYAAACP\n",
       "OqLZAAAAAXRSTlMAQObYZgAAAAlwSFlzAAAOxAAADsQBlSsOGwAAABJJREFUCNdjMFICAUUGXAAq\n",
       "DwAoFgH7Aeay4gAAAABJRU5ErkJggg==\n",
       "\" style=\"display:inline;vertical-align:middle;\" /></a></td></tr>\n",
       "<tr><td>2</td><td>ExprTuple</td><td>3, 4</td><td><a class=\"ProveItLink\" href=\"../642d54ee669778f81aeaba8754b7bbd27b2e2ce20/expr.ipynb\"><img src=\"data:image/png;base64,iVBORw0KGgoAAAANSUhEUgAAAKQAAAAVBAMAAAA6DViiAAAAMFBMVEX////MzMxUVFREREQiIiK6\n",
       "uroQEBCYmJhmZmYyMjLu7u52dnaqqqqIiIjc3NwAAACFAiZ1AAAAAXRSTlMAQObYZgAAAAlwSFlz\n",
       "AAAOxAAADsQBlSsOGwAAAf9JREFUOMuVVb9LW1EYPSW/b9KH/0Ab/4GAawVthA5iS8hQAm4FKUIG\n",
       "CejQTDoIDiH4NpeKQaGlQ8lrtg6FDE4K5QluVQk6WCiFLoVWO/S7P3NfLgnJB+fju/ecey7vfe/e\n",
       "B6AHiXHDGzbw9PhhV2LsSITW4GKAEOSpwvhh2eSCQYLAfIkJItMy5QeHIKRrEJggUlum3HEIQpLK\n",
       "JCaLqqleuUQVy5SXJ7TcMw3xXWIPDcocXuMqHP3t9AUdPZfm3fn+5ScsoqOMgUovdjfS0hLUTT+o\n",
       "CYk1PG1ZRB0vKBPYKtJFsPpQR1twrCfj9D2/q2EbeO9r4hivKRPSd4gHeHQ+1NIW5PVksgzstvAc\n",
       "Dy6Lmshry+QM2mVrfydsQcW2XAH7Td98URMVvKVMaAfYxChLW2BUmS7YPVK/tKV88DnKhHYXT3I9\n",
       "Mddy3yMiAqxDyWIh2D/E/K/Kcl1A9h2ZMLWYFduwv9zAV8mM+gKgCUVkp4F9bGwFyrIp8JIygRU+\n",
       "XZ/JFc9o/zg/cyIt8mIpIkAJSpYgo8NvjwtTyrIkEJ+CgAy+Iuc++QlsgSeWC9mCuZKKiiCoo26t\n",
       "yLq9CSKW8pYRsjcRS30FzUOCx48Dehsf3faYoyoEN6IUspj6HXif/4SS4DhSMOHedKnocLYvYzOD\n",
       "BIdXkxj/urR/VLcDBOE//YWci/9QiNMAAAAASUVORK5CYII=\n",
       "\" style=\"display:inline;vertical-align:middle;\" /></a></td></tr>\n",
       "<tr><td>3</td><td>ExprTuple</td><td>5</td><td><a class=\"ProveItLink\" href=\"../dd69e8dce98d125b9a3c45a54d8cff78a5dcc2eb0/expr.ipynb\"><img src=\"data:image/png;base64,iVBORw0KGgoAAAANSUhEUgAAAGMAAAAVBAMAAACgbk16AAAAMFBMVEX////MzMxUVFREREQiIiK6\n",
       "uroQEBCYmJhmZmYyMjLu7u52dnaqqqqIiIjc3NwAAACFAiZ1AAAAAXRSTlMAQObYZgAAAAlwSFlz\n",
       "AAAOxAAADsQBlSsOGwAAAWBJREFUOMtjYGB4wEACACvmPUCKllgQcZoUHWALuCaQpIVhFgMDRwFp\n",
       "WioYGNhI08HAtoAhkkQtnAUM3UCKr/veBfwKX+x9C2VxKzBMB1JhD5h/4dXBmsdgvwDCZJ/A4AMM\n",
       "tHQGDgcGrkrcWpYVMLQwMCwHBS6PA0MqMNB+MbBsYJC9gltL/wIGbwbGuw5AJuMHkBY2A4b1AQwM\n",
       "R3BrSWbg+gq2AOjGBIY5DAzrNzDUM+DTwvWbgf0DVAuQsAVqOcBgyfMArIULUz3Q21x/GJgnnINo\n",
       "YTdg2AQM6gvsHtwQW9YDfcj1E5kBJuYylDRsgGjhuMAQAhTV3fjoIkQLixeQ8AAxGqAMBhegNYtu\n",
       "y+kKQLSwPGBgEYC5AOyXUxgO41kAZ4G0PAG6rQFFywYMLdwMKFragdgOKvB6fi/QjZgJZy2Mwbfz\n",
       "xwUGPgMgazGyPDtmiKFmDmaQM/lIyjB1DAwAXshTXIrkXSMAAAAASUVORK5CYII=\n",
       "\" style=\"display:inline;vertical-align:middle;\" /></a></td></tr>\n",
       "<tr><td>4</td><td>ExprTuple</td><td>6</td><td><a class=\"ProveItLink\" href=\"../3823f7f11c2ba93ea8e0a0f061020f729f0d96530/expr.ipynb\"><img src=\"data:image/png;base64,iVBORw0KGgoAAAANSUhEUgAAACEAAAAVBAMAAAA6IZrnAAAAMFBMVEX////MzMxUVFREREQiIiK6\n",
       "uroQEBCYmJhmZmYyMjLu7u52dnaqqqqIiIjc3NwAAACFAiZ1AAAAAXRSTlMAQObYZgAAAAlwSFlz\n",
       "AAAOxAAADsQBlSsOGwAAANRJREFUGNNjYGB4wIAAYDbvASSRWBBxGkkALM01AVmEYRYDA0cBikgF\n",
       "AwMbigAD2wKGSFQRzgKGbhD9Yu9bqAi3AsN0IMWax2C/ACLCPoHBB0gtK2BoYWBYDrKVx4EhFUj1\n",
       "L2DwZmC86wBkMn4AiyQzcH0FSwMNSGCYA3Tkbwb2D1ARIGELFPnDwDzhHESE3YBhE5Cay1DSsAEi\n",
       "wnGBIQRILbotpysAEWF5wMAiAHMuWOQJUGMDikg7ENtBBfh2/rjAwGcAZC1G9igzyDN8yAFUx8AA\n",
       "ACeWLXE0SuJqAAAAAElFTkSuQmCC\n",
       "\" style=\"display:inline;vertical-align:middle;\" /></a></td></tr>\n",
       "<tr><td>5</td><td>ExprRange</td><td>lambda_map:&nbsp;7<br>start_index:&nbsp;8<br>end_index:&nbsp;8<br></td><td><a class=\"ProveItLink\" href=\"../1dfd9a884266b568e21627a3faa5335a61e29ded0/expr.ipynb\"><img src=\"data:image/png;base64,iVBORw0KGgoAAAANSUhEUgAAAFUAAAANBAMAAAAqBj/zAAAAMFBMVEX////MzMxUVFQyMjKqqqoi\n",
       "IiKYmJju7u5EREQQEBC6urqIiIh2dnZmZmbc3NwAAAD0tjQRAAAAAXRSTlMAQObYZgAAAAlwSFlz\n",
       "AAAOxAAADsQBlSsOGwAAAOJJREFUKM9jYOC7s28DA17w9vRrKGvlA47veJVyzWPoLwCz2Kcx8AYw\n",
       "sCfjVluZwHCVgaHMgIGB9zsD6wEG6a241d4vYIhhYNwdwMDA2cBQv4CBwRW32hkM7L8YGFiAausP\n",
       "MOQz4FPL/oeB7QNUrQNDM8sDsFp2TIVAP7F/YeAw8AOrZd7AFssDMbce6Hz2z8gMMGHNkHrhAFgt\n",
       "u/bBRxshalnDgUQsiHEBymAIBRpctEdOWwCsFgrA7nXHcANLAZyFpvYAhloeBky1b+xvA52DGdfV\n",
       "MAbf4b8osmyY4ZCAzAEAIFQ3Zuuw8PIAAAAASUVORK5CYII=\n",
       "\" style=\"display:inline;vertical-align:middle;\" /></a></td></tr>\n",
       "<tr><td>6</td><td>IndexedVar</td><td>variable:&nbsp;10<br>index:&nbsp;8<br></td><td><a class=\"ProveItLink\" href=\"../9a40ff58b463a2666f899556365b4f1fbbf06d1e0/expr.ipynb\"><img src=\"data:image/png;base64,iVBORw0KGgoAAAANSUhEUgAAABIAAAAMBAMAAACdPPCPAAAAMFBMVEX////MzMxUVFQyMjKqqqoi\n",
       "IiKYmJju7u5EREQQEBC6urqIiIh2dnZmZmbc3NwAAAD0tjQRAAAAAXRSTlMAQObYZgAAAAlwSFlz\n",
       "AAAOxAAADsQBlSsOGwAAAFhJREFUCNdjYOC7s28DAxisfMDxHcxgn8bAG8DAnszAwPudgfUAg/RW\n",
       "BgbOBob6BQwMrgwM9QcY8hkgLAeGZpYHIBbzBrZYHrAYu/bBRxvBLCjAwnpjfxsAzcYV6xabhrcA\n",
       "AAAASUVORK5CYII=\n",
       "\" style=\"display:inline;vertical-align:middle;\" /></a></td></tr>\n",
       "<tr><td>7</td><td>Lambda</td><td>parameter:&nbsp;11<br>body:&nbsp;9<br></td><td><a class=\"ProveItLink\" href=\"../c2a58b1c714071e1c6f226ef2cd0aeab3fa85e090/expr.ipynb\"><img src=\"data:image/png;base64,iVBORw0KGgoAAAANSUhEUgAAADwAAAARCAMAAAC2ED+oAAAANlBMVEX////MzMwWFhYNDQ2YmJjc\n",
       "3NyIiIhUVFR2dna6urqqqqpmZmYyMjIiIiIQEBBERETu7u4AAADe7qe0AAAAAXRSTlMAQObYZgAA\n",
       "AAlwSFlzAAAOxAAADsQBlSsOGwAAAOVJREFUOMulU1sSwyAI1FbxAYre/7JF0yaappMZ64cTlWV3\n",
       "IShVOCe1vgj/ANe4jg21/HoCewf2k+UpUbw1RA4Ad+Vz8U6ltOjBwkhVqchmL8MjTwazRPHoMvZD\n",
       "hWsu4CO0ZCM7tghNW1akTu/fEc9Hmlat4QPGTpN6pPNHl8PerhNzoB2rMneafpH11mWzJ/0GaxpU\n",
       "d3Wm9vsK4OSpZdrcXIDJjpVt6phUtApSUSCSneD46GeYRE99JimqSahEALdPKVbBocunhXr6fxx4\n",
       "bR3IZRYOdKvjIH7z6kiIZcOrw6QRxPkLSMQIqTrNxM4AAAAASUVORK5CYII=\n",
       "\" style=\"display:inline;vertical-align:middle;\" /></a></td></tr>\n",
       "<tr><td>8</td><td>Literal</td><td></td><td><a class=\"ProveItLink\" href=\"../../../../number/numeral/__pv_it/f086f8c372bd40a2458306ddfdbb29f3dc6f63030/expr.ipynb\"><img src=\"data:image/png;base64,iVBORw0KGgoAAAANSUhEUgAAAAgAAAAOBAMAAADgeEClAAAAIVBMVEX///8QEBBERESIiIgyMjJm\n",
       "ZmZUVFTu7u4iIiLMzMwAAAAWRytzAAAAAXRSTlMAQObYZgAAAAlwSFlzAAAOxAAADsQBlSsOGwAA\n",
       "ABtJREFUCNdjYOBsZ2AoC1nOwMDATBbBprgiGQBsuwqCZsDj4wAAAABJRU5ErkJggg==\n",
       "\" style=\"display:inline;vertical-align:middle;\" /></a></td></tr>\n",
       "<tr><td>9</td><td>IndexedVar</td><td>variable:&nbsp;10<br>index:&nbsp;11<br></td><td><a class=\"ProveItLink\" href=\"../0cb2ee2c74b83e0aeb2dfcc689d03116b41089f70/expr.ipynb\"><img src=\"data:image/png;base64,iVBORw0KGgoAAAANSUhEUgAAABIAAAAMBAMAAACdPPCPAAAAMFBMVEX////MzMxUVFQyMjKqqqoi\n",
       "IiKYmJju7u5EREQQEBC6urqIiIh2dnZmZmbc3NwAAAD0tjQRAAAAAXRSTlMAQObYZgAAAAlwSFlz\n",
       "AAAOxAAADsQBlSsOGwAAAG5JREFUCNdjYOC7s28DAxisfMDxHcxgn8bAG8Ag3MDAwPudgfUAA9MB\n",
       "BgbOBob6BQycAgwM9QcY8hkY5HerM9Q7MDSzPNhasJeBeQNbLA9DN0MyA7v2wUcbGWYxXIKYyfCd\n",
       "YQqUFc7WAGXJ7mEAAK6nGrTbYfrbAAAAAElFTkSuQmCC\n",
       "\" style=\"display:inline;vertical-align:middle;\" /></a></td></tr>\n",
       "<tr><td>10</td><td>Variable</td><td></td><td><a class=\"ProveItLink\" href=\"../a8d4b3a34d2189508f9082853fbac36935714f280/expr.ipynb\"><img src=\"data:image/png;base64,iVBORw0KGgoAAAANSUhEUgAAAAsAAAAJBAMAAAAWSsseAAAAMFBMVEX////MzMxUVFQyMjKqqqoi\n",
       "IiKYmJju7u5EREQQEBC6urqIiIh2dnZmZmbc3NwAAAD0tjQRAAAAAXRSTlMAQObYZgAAAAlwSFlz\n",
       "AAAOxAAADsQBlSsOGwAAAEdJREFUCNdjYOC7s28DAwPDygcc3xkY2Kcx8AYwMPB+Z2A9wMDA2cBQ\n",
       "v4CBof4AQz5QRb0DQzPLAwbmDWyxPECV2gcfbWQAABp5EMgcedARAAAAAElFTkSuQmCC\n",
       "\" style=\"display:inline;vertical-align:middle;\" /></a></td></tr>\n",
       "<tr><td>11</td><td>Variable</td><td></td><td><a class=\"ProveItLink\" href=\"../53e304ff98ebc000dbe3ef224f4637dbafd46ba70/expr.ipynb\"><img src=\"data:image/png;base64,iVBORw0KGgoAAAANSUhEUgAAAAkAAAAOBAMAAAAPuiubAAAALVBMVEX///+YmJjc3NyIiIhUVFR2\n",
       "dna6urqqqqpmZmYyMjIiIiIQEBBERETu7u4AAAALjtrwAAAAAXRSTlMAQObYZgAAAAlwSFlzAAAO\n",
       "xAAADsQBlSsOGwAAAE5JREFUCNdj4D29gAEIOBtAJF8BiMy7ACKjQATDFON2BgbelxfuKTCwv2Xg\n",
       "M2DgmMBwLwCkPK+AgU+Aoe8CA18C70YGBhYBHqARvM1A5QCqGhDobJhHyAAAAABJRU5ErkJggg==\n",
       "\" style=\"display:inline;vertical-align:middle;\" /></a></td></tr>\n",
       "</table>\n"
      ],
      "text/plain": [
       "0. (a_{1} ,  ...  , a_{1}) = (a_{1})\n",
       "   core type: Operation\n",
       "   operator: 1\n",
       "   operands: 2\n",
       "1. =\n",
       "   core type: Literal\n",
       "   sub-expressions: \n",
       "2. ((a_{1} ,  ...  , a_{1}) , (a_{1}))\n",
       "   core type: ExprTuple\n",
       "   sub-expressions: 3, 4\n",
       "3. (a_{1} ,  ...  , a_{1})\n",
       "   core type: ExprTuple\n",
       "   sub-expressions: 5\n",
       "4. (a_{1})\n",
       "   core type: ExprTuple\n",
       "   sub-expressions: 6\n",
       "5. a_{1},...,a_{1}\n",
       "   core type: ExprRange\n",
       "   lambda_map: 7\n",
       "   start_index: 8\n",
       "   end_index: 8\n",
       "6. a_{1}\n",
       "   core type: IndexedVar\n",
       "variable: 10\n",
       "index: 8\n",
       "7. b -> a_{b}\n",
       "   core type: Lambda\n",
       "   parameter: 11\n",
       "   body: 9\n",
       "8. 1\n",
       "   core type: Literal\n",
       "   sub-expressions: \n",
       "9. a_{b}\n",
       "   core type: IndexedVar\n",
       "variable: 10\n",
       "index: 11\n",
       "10. a\n",
       "    core type: Variable\n",
       "    sub-expressions: \n",
       "11. b\n",
       "    core type: Variable\n",
       "    sub-expressions: "
      ]
     },
     "execution_count": 5,
     "metadata": {},
     "output_type": "execute_result"
    }
   ],
   "source": [
    "# display the expression information\n",
    "expr.exprInfo()"
   ]
  },
  {
   "cell_type": "code",
   "execution_count": null,
   "metadata": {},
   "outputs": [],
   "source": []
  }
 ],
 "metadata": {
  "kernelspec": {
   "display_name": "Python 3",
   "language": "python",
   "name": "python3"
  },
  "language_info": {
   "codemirror_mode": {
    "name": "ipython",
    "version": 3
   },
   "file_extension": ".py",
   "mimetype": "text/x-python",
   "name": "python",
   "nbconvert_exporter": "python",
   "pygments_lexer": "ipython3",
   "version": "3.7.4"
  }
 },
 "nbformat": 4,
 "nbformat_minor": 1
}
