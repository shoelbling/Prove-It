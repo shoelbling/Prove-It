{
 "cells": [
  {
   "cell_type": "markdown",
   "metadata": {},
   "source": [
    "Expression of type <a class=\"ProveItLink\" href=\"../../../../../../doc/html/api/proveit.ExprRange.html\">ExprRange</a>\n",
    "=======================\n",
    "# from context <a class=\"ProveItLink\" href=\"../../_context_.ipynb\">proveit.core_expr_types.tuples</a>"
   ]
  },
  {
   "cell_type": "code",
   "execution_count": 1,
   "metadata": {},
   "outputs": [],
   "source": [
    "import proveit\n",
    "# Automation is not needed when building an expression:\n",
    "proveit.defaults.automation = False # This will speed things up.\n",
    "# import Expression classes needed to build the expression\n",
    "from proveit import ExprRange, IndexedVar, Variable\n",
    "from proveit.logic import Equals\n",
    "from proveit.number import one"
   ]
  },
  {
   "cell_type": "code",
   "execution_count": 2,
   "metadata": {},
   "outputs": [
    {
     "data": {
      "text/html": [
       "<strong id=\"expr\">expr:</strong> <a class=\"ProveItLink\" href=\"expr.ipynb\"><img src=\"data:image/png;base64,iVBORw0KGgoAAAANSUhEUgAAAN8AAAAVBAMAAAA0pCbNAAAAMFBMVEX////MzMxUVFREREQiIiK6\n",
       "uroQEBCYmJhmZmYyMjLu7u52dnaqqqqIiIjc3NwAAACFAiZ1AAAAAXRSTlMAQObYZgAAAAlwSFlz\n",
       "AAAOxAAADsQBlSsOGwAAAo1JREFUSMeNls9rE0EUx79pNtlkk2xy8laMJ0+BPYkKSpAeShEpIoEe\n",
       "pFWUgqfVItSL5iCUkgaDF0sRDQjipSSKf0AOnuzBWAuKWFmqJz00FxHjD5y3Pybb7OZt3mHy5s3b\n",
       "z5s382YmACxEiR4xHk3wO+Y6kX6JLjs8BsGVi9RsjRzWjpVd7ROL2WJHn1w5ODWtMdo3XfWUJkPk\n",
       "CCTrPn0DSJmjXfPeWqlVBsgRSP749GUgybjOy8SuMV7JiALo+32bmGN8X0rtAeM1xwfMlP2bZKJG\n",
       "ZV/7HFqH93fXXO0FQ+QIFKP0YVDFmaI994oVl3mnpmwpUjX8arbcI3aLCThMILlrQ86Q2trQ/km7\n",
       "2sBZAV5EqgwtAM32ke865ldMQEkIlzdN/B0gy7gqkupDaWNyJ1B+DbTajvkwE1ASwmUV2m/ZifXI\n",
       "PWmgNRuShTiG8x3HXOEDuoQRxzAxOBiJBTwUq9zGHblsvj3Mm7jXdMzckkrC8vXd4vsjw3v4U+Sv\n",
       "rkxu524U7CU9Jdw7OJG1gtD8rNgbx7xETfC60aiRhJuLuIztYZ8feGqqFTNZzIkkVIMKPt1VpzMh\n",
       "WUyY8aprrttFSzXXcBXZkwR9syzotWHKURzHtx0x+5TY5VQXF8S3ped7b0MCavU1bzXPUTMlUlTo\n",
       "kpuG2ygzopGEiW5sgWr2oDyjY1jCISjiV7GgFLyREftEZt2u+WxwTV9TVI+QLOQMvVcIg1zCO+zH\n",
       "gK/+e5kJ6NzPmeBg23+z74scVSPseOg9keOS+H5FdE67xu+P62HxbPMXW90MFo19n3mE80hbeins\n",
       "JUsU8Qh7H6Eb9ECO8VKftNvgM6Q6T+y4Dz7iNBvdjPRT+T8tYxBcuQ38B19OtRhJJoa2AAAAAElF\n",
       "TkSuQmCC\n",
       "\" style=\"display:inline;vertical-align:middle;\" /></a><br>"
      ],
      "text/plain": [
       "expr: (a_{1} = b_{1}),...,(a_{m} = b_{m})"
      ]
     },
     "execution_count": 2,
     "metadata": {},
     "output_type": "execute_result"
    }
   ],
   "source": [
    "# build up the expression from sub-expressions\n",
    "expr = ExprRange(Variable(\"k\"), Equals(IndexedVar(Variable(\"a\"), Variable(\"k\")), IndexedVar(Variable(\"b\"), Variable(\"k\"))), one, Variable(\"m\"))"
   ]
  },
  {
   "cell_type": "code",
   "execution_count": 3,
   "metadata": {},
   "outputs": [
    {
     "name": "stdout",
     "output_type": "stream",
     "text": [
      "Passed sanity check: built 'expr' is the same as the stored Expression.\n"
     ]
    }
   ],
   "source": [
    "# check that the built expression is the same as the stored expression\n",
    "%check_expr"
   ]
  },
  {
   "cell_type": "code",
   "execution_count": 4,
   "metadata": {},
   "outputs": [
    {
     "name": "stdout",
     "output_type": "stream",
     "text": [
      "\\left(a_{1} = b_{1}\\right),\\ldots,\\left(a_{m} = b_{m}\\right)\n"
     ]
    }
   ],
   "source": [
    "# Show the LaTeX representation of the expression for convenience if you need it.\n",
    "print(expr.latex())"
   ]
  },
  {
   "cell_type": "code",
   "execution_count": 5,
   "metadata": {},
   "outputs": [
    {
     "data": {
      "text/html": [
       "<table><tr><th>&nbsp;</th><th>core type</th><th>sub-expressions</th><th>expression</th></tr>\n",
       "<tr><td>0</td><td>ExprRange</td><td>lambda_map:&nbsp;1<br>start_index:&nbsp;2<br>end_index:&nbsp;3<br></td><td><a class=\"ProveItLink\" href=\"expr.ipynb\"><img src=\"data:image/png;base64,iVBORw0KGgoAAAANSUhEUgAAAN8AAAAVBAMAAAA0pCbNAAAAMFBMVEX////MzMxUVFREREQiIiK6\n",
       "uroQEBCYmJhmZmYyMjLu7u52dnaqqqqIiIjc3NwAAACFAiZ1AAAAAXRSTlMAQObYZgAAAAlwSFlz\n",
       "AAAOxAAADsQBlSsOGwAAAo1JREFUSMeNls9rE0EUx79pNtlkk2xy8laMJ0+BPYkKSpAeShEpIoEe\n",
       "pFWUgqfVItSL5iCUkgaDF0sRDQjipSSKf0AOnuzBWAuKWFmqJz00FxHjD5y3Pybb7OZt3mHy5s3b\n",
       "z5s382YmACxEiR4xHk3wO+Y6kX6JLjs8BsGVi9RsjRzWjpVd7ROL2WJHn1w5ODWtMdo3XfWUJkPk\n",
       "CCTrPn0DSJmjXfPeWqlVBsgRSP749GUgybjOy8SuMV7JiALo+32bmGN8X0rtAeM1xwfMlP2bZKJG\n",
       "ZV/7HFqH93fXXO0FQ+QIFKP0YVDFmaI994oVl3mnpmwpUjX8arbcI3aLCThMILlrQ86Q2trQ/km7\n",
       "2sBZAV5EqgwtAM32ke865ldMQEkIlzdN/B0gy7gqkupDaWNyJ1B+DbTajvkwE1ASwmUV2m/ZifXI\n",
       "PWmgNRuShTiG8x3HXOEDuoQRxzAxOBiJBTwUq9zGHblsvj3Mm7jXdMzckkrC8vXd4vsjw3v4U+Sv\n",
       "rkxu524U7CU9Jdw7OJG1gtD8rNgbx7xETfC60aiRhJuLuIztYZ8feGqqFTNZzIkkVIMKPt1VpzMh\n",
       "WUyY8aprrttFSzXXcBXZkwR9syzotWHKURzHtx0x+5TY5VQXF8S3ped7b0MCavU1bzXPUTMlUlTo\n",
       "kpuG2ygzopGEiW5sgWr2oDyjY1jCISjiV7GgFLyREftEZt2u+WxwTV9TVI+QLOQMvVcIg1zCO+zH\n",
       "gK/+e5kJ6NzPmeBg23+z74scVSPseOg9keOS+H5FdE67xu+P62HxbPMXW90MFo19n3mE80hbeins\n",
       "JUsU8Qh7H6Eb9ECO8VKftNvgM6Q6T+y4Dz7iNBvdjPRT+T8tYxBcuQ38B19OtRhJJoa2AAAAAElF\n",
       "TkSuQmCC\n",
       "\" style=\"display:inline;vertical-align:middle;\" /></a></td></tr>\n",
       "<tr><td>1</td><td>Lambda</td><td>parameter:&nbsp;11<br>body:&nbsp;4<br></td><td><a class=\"ProveItLink\" href=\"../671e5e319fb3228530143c7f7608c2fe9c8cd5a00/expr.ipynb\"><img src=\"data:image/png;base64,iVBORw0KGgoAAAANSUhEUgAAAH0AAAAVCAMAAABc+REgAAAANlBMVEX///8WFhYNDQ3MzMzc3NyY\n",
       "mJiIiIhUVFR2dna6urqqqqpmZmYyMjIiIiIQEBBERETu7u4AAADpXcuUAAAAAXRSTlMAQObYZgAA\n",
       "AAlwSFlzAAAOxAAADsQBlSsOGwAAAa9JREFUSMetVtuWgyAMZBcIl3D9/5/dgLVrLLWUIy9WO86E\n",
       "SUIU4tulxC1rjQb8PeoO+qXkFOdf8nZBaSixbyPgPE9Y2+lIIpR+qfNmol5TH0noHpGr5X2WT8WR\n",
       "FpM8lEjtoeWUDOe5Y27ReDusrNCMDIZUAHdVDuR3uNecQgsK5tNuAPDFfEvCpWrhvUp6qOfzS7TN\n",
       "g0QZySM7MR6W2e2sVGGlnltck5O+KueFDGqoLiAfNOIWf+mhYkfq+NkC3+OscEJ7IsCk5RH6+xPZ\n",
       "qtX918n2EztbtMdnl50SugH2hJaVSAJa+TbTVGgH/OPdlDtbv1F1sttd6zqGdqmTuCrfqctwTG7w\n",
       "4rkLvRHpLBTgdd6r3g1jaHK+kRQKC8bqgZVKhk29BZGD8PSnAeVLup4ZzaWtVhiaQjG50UnxPL9Z\n",
       "Gh2+9EgLqdcP9neSJVZ57bwhSO5MDI0gctsHIIzPO+S8bjOmGLBSGZAtkYjy43TAR7dzdPx2ysaz\n",
       "ErlHIc3SMLSK3x6Z+jyrDAgZxezYZeiFiZVP22xVabScPXEPaJVXPhTETSuXle8xfY+4bib+Acjq\n",
       "EVevNmJfAAAAAElFTkSuQmCC\n",
       "\" style=\"display:inline;vertical-align:middle;\" /></a></td></tr>\n",
       "<tr><td>2</td><td>Literal</td><td></td><td><a class=\"ProveItLink\" href=\"../../../../number/numeral/__pv_it/f086f8c372bd40a2458306ddfdbb29f3dc6f63030/expr.ipynb\"><img src=\"data:image/png;base64,iVBORw0KGgoAAAANSUhEUgAAAAgAAAAOBAMAAADgeEClAAAAIVBMVEX///8QEBBERESIiIgyMjJm\n",
       "ZmZUVFTu7u4iIiLMzMwAAAAWRytzAAAAAXRSTlMAQObYZgAAAAlwSFlzAAAOxAAADsQBlSsOGwAA\n",
       "ABtJREFUCNdjYOBsZ2AoC1nOwMDATBbBprgiGQBsuwqCZsDj4wAAAABJRU5ErkJggg==\n",
       "\" style=\"display:inline;vertical-align:middle;\" /></a></td></tr>\n",
       "<tr><td>3</td><td>Variable</td><td></td><td><a class=\"ProveItLink\" href=\"../6e8a38e9a7e2b6af352562cd77e0eb4751f142620/expr.ipynb\"><img src=\"data:image/png;base64,iVBORw0KGgoAAAANSUhEUgAAABIAAAAJBAMAAADN8WE8AAAAMFBMVEX///8iIiIyMjJmZmYQEBCq\n",
       "qqqYmJju7u5ERETMzMyIiIjc3NxUVFR2dna6uroAAACULOzSAAAAAXRSTlMAQObYZgAAAAlwSFlz\n",
       "AAAOxAAADsQBlSsOGwAAAGNJREFUCNdj4Luz+9Ypzlt9DAy8HF0M9XkMIQwM81gaGPZfYMhnYCio\n",
       "f8AQX8BwgoGBIZ6BwYiBwQvIOsTAIMvA95udgcGXgf0fA4/CVgbunwxsHxiYLlxg4BNg4DJgYLXa\n",
       "AAB/WBcBafZ/twAAAABJRU5ErkJggg==\n",
       "\" style=\"display:inline;vertical-align:middle;\" /></a></td></tr>\n",
       "<tr><td>4</td><td>Operation</td><td>operator:&nbsp;5<br>operands:&nbsp;6<br></td><td><a class=\"ProveItLink\" href=\"../2c4646631775f7105bb8ab8fcc24bdc7dadfbbd60/expr.ipynb\"><img src=\"data:image/png;base64,iVBORw0KGgoAAAANSUhEUgAAAEMAAAARBAMAAAB0ogy8AAAAMFBMVEX////MzMxUVFQyMjKqqqoi\n",
       "IiKYmJju7u5EREQQEBC6urqIiIh2dnZmZmbc3NwAAAD0tjQRAAAAAXRSTlMAQObYZgAAAAlwSFlz\n",
       "AAAOxAAADsQBlSsOGwAAAOxJREFUKM9jYMAFKqYyEAS2hJV8IaiC6ztBJTwBcCbfnX0bsClh1t7r\n",
       "AGWufMCBMPJqKAgEgZj15uz/IILs0xh4AxjYojFM8S9g+M2QCrKA9zsD6wEGhlkYSi4zsP9h4FwA\n",
       "ZHE2MNQvYOD7gCVYuL4wvAdbeYAhn4GBreH1BTS3fANZkMG3F6jEgaGZ5QHTPvd5aKb8YqhMYNB+\n",
       "UvmAgXkDWywPA+cxBgE0JWoMvQwMcxIYgT7SPvhoI8P7u+gqGGqBwcL39yKcn8EV8ABL8LE1LOWD\n",
       "sbUZAw5gUcK0QZQHxrZjUBPAFgkPmBIZAEBCQA21wo3VAAAAAElFTkSuQmCC\n",
       "\" style=\"display:inline;vertical-align:middle;\" /></a></td></tr>\n",
       "<tr><td>5</td><td>Literal</td><td></td><td><a class=\"ProveItLink\" href=\"../../../../logic/equality/__pv_it/e16d2caa26a16688b658bdb9c422caf4b84579e10/expr.ipynb\"><img src=\"data:image/png;base64,iVBORw0KGgoAAAANSUhEUgAAAA4AAAAFBAMAAACHocAhAAAAD1BMVEX///9UVFQiIiJmZmYAAACP\n",
       "OqLZAAAAAXRSTlMAQObYZgAAAAlwSFlzAAAOxAAADsQBlSsOGwAAABJJREFUCNdjMFICAUUGXAAq\n",
       "DwAoFgH7Aeay4gAAAABJRU5ErkJggg==\n",
       "\" style=\"display:inline;vertical-align:middle;\" /></a></td></tr>\n",
       "<tr><td>6</td><td>ExprTuple</td><td>7, 8</td><td><a class=\"ProveItLink\" href=\"../b7fa098dce92413099995aee27bc0293f3da9a1a0/expr.ipynb\"><img src=\"data:image/png;base64,iVBORw0KGgoAAAANSUhEUgAAAD0AAAAVBAMAAAAHs/uBAAAAMFBMVEX////MzMxUVFREREQiIiK6\n",
       "uroQEBCYmJhmZmYyMjLu7u52dnaqqqqIiIjc3NwAAACFAiZ1AAAAAXRSTlMAQObYZgAAAAlwSFlz\n",
       "AAAOxAAADsQBlSsOGwAAAUdJREFUKM91Uj1Lw1AUPW3SJKYxyU9wcypkEhyUjCIKHURwkLqImwRc\n",
       "nLSbQhWDiyAiAX9AogiumesSf4AliKvY1Uzel/diE0PekHvOPbnvfj0AKZpOrszHjfou+7z+9+pL\n",
       "rkAsVPdrYXPDAt0CmlfTrb+Mx4BSTzsICqQE2Knrz7NMHkZkzNEkKenX7xcCdRdwQ2Y7lbJS/T9B\n",
       "KGai+tggxwE0F+qm0I0MVsKZ4WKfWsggR2AoP5qPMOKsNWVWcRD2YU5n7Q9izjp7uAP7+5RyOV98\n",
       "LpaHq4Azun+F9BjLRtqejA+hM71PBeWMYvBEFybqWhfKC2yENO22Jw05g5Zgi+rvPX684fucHPI6\n",
       "0UtqP2eQU8i2KOuo41LX4wr7pBTFsnotl5qMKuyM0Krw3GPRhp6UmekQeiivRq0sSmKLNL3G93UC\n",
       "/AKem1NpT2wK+gAAAABJRU5ErkJggg==\n",
       "\" style=\"display:inline;vertical-align:middle;\" /></a></td></tr>\n",
       "<tr><td>7</td><td>IndexedVar</td><td>variable:&nbsp;9<br>index:&nbsp;11<br></td><td><a class=\"ProveItLink\" href=\"../bdb36d98e06b2d7238514d5d837fadfa168b9f500/expr.ipynb\"><img src=\"data:image/png;base64,iVBORw0KGgoAAAANSUhEUgAAABQAAAAMBAMAAACQIoDIAAAAMFBMVEX////MzMxUVFQyMjKqqqoi\n",
       "IiKYmJju7u5EREQQEBC6urqIiIh2dnZmZmbc3NwAAAD0tjQRAAAAAXRSTlMAQObYZgAAAAlwSFlz\n",
       "AAAOxAAADsQBlSsOGwAAAHNJREFUCNdjYOC7s28DAwSsfMDxHcJin8bAG8DAFg1k8n5nYD3AwDAL\n",
       "yORsYKhfwMD3AcisP8CQz8DA1vD6AkO9A0MzywOmfe7zGJg3sMXyMHAeYxBgYNc++Ggjw/u7AlCz\n",
       "GTK4Ah5AmdqMAQegTDsGNQEA4bMctK/iHt8AAAAASUVORK5CYII=\n",
       "\" style=\"display:inline;vertical-align:middle;\" /></a></td></tr>\n",
       "<tr><td>8</td><td>IndexedVar</td><td>variable:&nbsp;10<br>index:&nbsp;11<br></td><td><a class=\"ProveItLink\" href=\"../7e5f0e5f20c99c4e14ed51ac0d2740136535f3340/expr.ipynb\"><img src=\"data:image/png;base64,iVBORw0KGgoAAAANSUhEUgAAABIAAAARBAMAAAAidOHKAAAAMFBMVEX////MzMyYmJjc3NyIiIhU\n",
       "VFR2dna6urqqqqpmZmYyMjIiIiIQEBBERETu7u4AAACIO4EmAAAAAXRSTlMAQObYZgAAAAlwSFlz\n",
       "AAAOxAAADsQBlSsOGwAAAHpJREFUCNdj4LuzgQEKuCbAWPwNMFb9AxgrG8ZgWOoyA8Lg+/XgvQGY\n",
       "xfGPgd+BaQuQxbmA4X0Cw3GIcfUNzB9AxikwzH/AdMFkAgN/Ad8hBlbnvsMMrAq8Exh4khgEGPim\n",
       "AI2znykANV2XfQPETIYQxg0JENZihiABADCWHXj2g+aOAAAAAElFTkSuQmCC\n",
       "\" style=\"display:inline;vertical-align:middle;\" /></a></td></tr>\n",
       "<tr><td>9</td><td>Variable</td><td></td><td><a class=\"ProveItLink\" href=\"../a8d4b3a34d2189508f9082853fbac36935714f280/expr.ipynb\"><img src=\"data:image/png;base64,iVBORw0KGgoAAAANSUhEUgAAAAsAAAAJBAMAAAAWSsseAAAAMFBMVEX////MzMxUVFQyMjKqqqoi\n",
       "IiKYmJju7u5EREQQEBC6urqIiIh2dnZmZmbc3NwAAAD0tjQRAAAAAXRSTlMAQObYZgAAAAlwSFlz\n",
       "AAAOxAAADsQBlSsOGwAAAEdJREFUCNdjYOC7s28DAwPDygcc3xkY2Kcx8AYwMPB+Z2A9wMDA2cBQ\n",
       "v4CBof4AQz5QRb0DQzPLAwbmDWyxPECV2gcfbWQAABp5EMgcedARAAAAAElFTkSuQmCC\n",
       "\" style=\"display:inline;vertical-align:middle;\" /></a></td></tr>\n",
       "<tr><td>10</td><td>Variable</td><td></td><td><a class=\"ProveItLink\" href=\"../53e304ff98ebc000dbe3ef224f4637dbafd46ba70/expr.ipynb\"><img src=\"data:image/png;base64,iVBORw0KGgoAAAANSUhEUgAAAAkAAAAOBAMAAAAPuiubAAAALVBMVEX///+YmJjc3NyIiIhUVFR2\n",
       "dna6urqqqqpmZmYyMjIiIiIQEBBERETu7u4AAAALjtrwAAAAAXRSTlMAQObYZgAAAAlwSFlzAAAO\n",
       "xAAADsQBlSsOGwAAAE5JREFUCNdj4D29gAEIOBtAJF8BiMy7ACKjQATDFON2BgbelxfuKTCwv2Xg\n",
       "M2DgmMBwLwCkPK+AgU+Aoe8CA18C70YGBhYBHqARvM1A5QCqGhDobJhHyAAAAABJRU5ErkJggg==\n",
       "\" style=\"display:inline;vertical-align:middle;\" /></a></td></tr>\n",
       "<tr><td>11</td><td>Variable</td><td></td><td><a class=\"ProveItLink\" href=\"../273f49450ca25e1b56abbd98a7aef618f8f6c1360/expr.ipynb\"><img src=\"data:image/png;base64,iVBORw0KGgoAAAANSUhEUgAAAAoAAAAOBAMAAADkjZCYAAAAMFBMVEX////MzMzc3NyYmJiIiIhU\n",
       "VFR2dna6urqqqqpmZmYyMjIiIiIQEBBERETu7u4AAADM1VnsAAAAAXRSTlMAQObYZgAAAAlwSFlz\n",
       "AAAOxAAADsQBlSsOGwAAAE9JREFUCNdj4LuzgQEIuCaASP4GEFn/AETmgAiGpQwt8xj4PnM0HWbg\n",
       "+FTBuIiB87AAUJh7ZSKQfF9QD+TYM7xvcGCIZXgvkMBwg4FlygMA76IUkutkA5UAAAAASUVORK5C\n",
       "YII=\n",
       "\" style=\"display:inline;vertical-align:middle;\" /></a></td></tr>\n",
       "</table>\n"
      ],
      "text/plain": [
       "0. (a_{1} = b_{1}),...,(a_{m} = b_{m})\n",
       "   core type: ExprRange\n",
       "   lambda_map: 1\n",
       "   start_index: 2\n",
       "   end_index: 3\n",
       "1. k -> (a_{k} = b_{k})\n",
       "   core type: Lambda\n",
       "   parameter: 11\n",
       "   body: 4\n",
       "2. 1\n",
       "   core type: Literal\n",
       "   sub-expressions: \n",
       "3. m\n",
       "   core type: Variable\n",
       "   sub-expressions: \n",
       "4. a_{k} = b_{k}\n",
       "   core type: Operation\n",
       "   operator: 5\n",
       "   operands: 6\n",
       "5. =\n",
       "   core type: Literal\n",
       "   sub-expressions: \n",
       "6. (a_{k} , b_{k})\n",
       "   core type: ExprTuple\n",
       "   sub-expressions: 7, 8\n",
       "7. a_{k}\n",
       "   core type: IndexedVar\n",
       "variable: 9\n",
       "index: 11\n",
       "8. b_{k}\n",
       "   core type: IndexedVar\n",
       "variable: 10\n",
       "index: 11\n",
       "9. a\n",
       "   core type: Variable\n",
       "   sub-expressions: \n",
       "10. b\n",
       "    core type: Variable\n",
       "    sub-expressions: \n",
       "11. k\n",
       "    core type: Variable\n",
       "    sub-expressions: "
      ]
     },
     "execution_count": 5,
     "metadata": {},
     "output_type": "execute_result"
    }
   ],
   "source": [
    "# display the expression information\n",
    "expr.exprInfo()"
   ]
  },
  {
   "cell_type": "code",
   "execution_count": null,
   "metadata": {},
   "outputs": [],
   "source": []
  }
 ],
 "metadata": {
  "kernelspec": {
   "display_name": "Python 3",
   "language": "python",
   "name": "python3"
  },
  "language_info": {
   "codemirror_mode": {
    "name": "ipython",
    "version": 3
   },
   "file_extension": ".py",
   "mimetype": "text/x-python",
   "name": "python",
   "nbconvert_exporter": "python",
   "pygments_lexer": "ipython3",
   "version": "3.7.4"
  }
 },
 "nbformat": 4,
 "nbformat_minor": 1
}
