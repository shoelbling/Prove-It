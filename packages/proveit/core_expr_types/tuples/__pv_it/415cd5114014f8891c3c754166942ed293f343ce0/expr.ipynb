{
 "cells": [
  {
   "cell_type": "markdown",
   "metadata": {},
   "source": [
    "Expression of type <a class=\"ProveItLink\" href=\"../../../../../../doc/html/api/proveit.logic.Equals.html\">Equals</a>\n",
    "=======================\n",
    "# from context <a class=\"ProveItLink\" href=\"../../_context_.ipynb\">proveit.core_expr_types.tuples</a>"
   ]
  },
  {
   "cell_type": "code",
   "execution_count": 1,
   "metadata": {},
   "outputs": [],
   "source": [
    "import proveit\n",
    "# Automation is not needed when building an expression:\n",
    "proveit.defaults.automation = False # This will speed things up.\n",
    "# import Expression classes needed to build the expression\n",
    "from proveit import ExprRange, IndexedVar, Variable\n",
    "from proveit.logic import Equals\n",
    "from proveit.number import Add, one"
   ]
  },
  {
   "cell_type": "code",
   "execution_count": 2,
   "metadata": {},
   "outputs": [
    {
     "data": {
      "text/html": [
       "<strong id=\"expr\">expr:</strong> <a class=\"ProveItLink\" href=\"expr.ipynb\"><img src=\"data:image/png;base64,iVBORw0KGgoAAAANSUhEUgAAAUAAAAAVBAMAAADFiippAAAAMFBMVEX////MzMxUVFREREQiIiK6\n",
       "uroQEBCYmJhmZmYyMjLu7u52dnaqqqqIiIjc3NwAAACFAiZ1AAAAAXRSTlMAQObYZgAAAAlwSFlz\n",
       "AAAOxAAADsQBlSsOGwAAAgNJREFUSMetlz1Lw0AYxx81Nn0N+QJi/QCFQAdRUDp0KCIiIoVuokjB\n",
       "SRHBTroXoZuLYMG5tPoJOnSySxTBRSXo6KCLg528y3vuLsFc7obS/vM8v/9zyXOXKwAYIG4oLNFI\n",
       "hisMBRY4q9NaAgMTNwaR44WWxslw2Y7QAjNdUklkgHDpQ6EFyuekksgA4VIgdhyQQiohriG4wEtS\n",
       "aCTEtfFqbr/p0cudCghNuSMFTgMXh2dcN2Ymkfl0QGhKy+y7qjmKzi3lMHBx62idNSFdgWwrNN0K\n",
       "iFbABozIZD4DD7eP5jsBaQBzT6H5VkCUgteuBZgnk3kM/DiUn9Kgv8mYu7cQrYAIRXNvXp1RYGwD\n",
       "P+4KoD+AM4jKtwJOj16LzwtsxSOOyB7kMfDjVtDlISzlDVPo0u0BTsBJE3bhkaX4icckIL5BEIe2\n",
       "hYwu13KmkP3F0R37i/vLDFB6FfjBmwat+IkXjH0npkEQt43iSrfvD5ZQRTOUcIvWwP6Q1pyAaX1q\n",
       "B69JSkmXy3vlRZu4QRYY24DASapDwkKefgT3bierBU35VlmKN2WF3C14DAI47+2OhRzdwO7y/0JT\n",
       "lLUBS/GI9NGAwyCIW7Uvf16j9unRPey+grYgYyilLkOxiCbggy4gtgGBu/FH00cj+R+KPWU8lulr\n",
       "sQ0InCLiQOg8Rpnx/4PDwIf7A6MH9RCigcZWAAAAAElFTkSuQmCC\n",
       "\" style=\"display:inline;vertical-align:middle;\" /></a><br>"
      ],
      "text/plain": [
       "expr: (a_{1} ,  ...  , a_{m} , a_{m + 1}) = (a_{1} ,  ...  , a_{m + 1})"
      ]
     },
     "execution_count": 2,
     "metadata": {},
     "output_type": "execute_result"
    }
   ],
   "source": [
    "# build up the expression from sub-expressions\n",
    "subExpr1 = Variable(\"b\")\n",
    "subExpr2 = Variable(\"a\")\n",
    "subExpr3 = IndexedVar(subExpr2, subExpr1)\n",
    "subExpr4 = Add(Variable(\"m\"), one)\n",
    "expr = Equals([ExprRange(subExpr1, subExpr3, one, Variable(\"m\")), IndexedVar(subExpr2, subExpr4)], [ExprRange(subExpr1, subExpr3, one, subExpr4)])"
   ]
  },
  {
   "cell_type": "code",
   "execution_count": 3,
   "metadata": {},
   "outputs": [
    {
     "name": "stdout",
     "output_type": "stream",
     "text": [
      "Passed sanity check: built 'expr' is the same as the stored Expression.\n"
     ]
    }
   ],
   "source": [
    "# check that the built expression is the same as the stored expression\n",
    "%check_expr"
   ]
  },
  {
   "cell_type": "code",
   "execution_count": 4,
   "metadata": {},
   "outputs": [
    {
     "name": "stdout",
     "output_type": "stream",
     "text": [
      "\\left(a_{1} , \\ldots , a_{m} , a_{m + 1}\\right) = \\left(a_{1} , \\ldots , a_{m + 1}\\right)\n"
     ]
    }
   ],
   "source": [
    "# Show the LaTeX representation of the expression for convenience if you need it.\n",
    "print(expr.latex())"
   ]
  },
  {
   "cell_type": "code",
   "execution_count": 5,
   "metadata": {},
   "outputs": [
    {
     "data": {
      "text/html": [
       "<table><tr><th>&nbsp;</th><th>core type</th><th>sub-expressions</th><th>expression</th></tr>\n",
       "<tr><td>0</td><td>Operation</td><td>operator:&nbsp;1<br>operands:&nbsp;2<br></td><td><a class=\"ProveItLink\" href=\"expr.ipynb\"><img src=\"data:image/png;base64,iVBORw0KGgoAAAANSUhEUgAAAUAAAAAVBAMAAADFiippAAAAMFBMVEX////MzMxUVFREREQiIiK6\n",
       "uroQEBCYmJhmZmYyMjLu7u52dnaqqqqIiIjc3NwAAACFAiZ1AAAAAXRSTlMAQObYZgAAAAlwSFlz\n",
       "AAAOxAAADsQBlSsOGwAAAgNJREFUSMetlz1Lw0AYxx81Nn0N+QJi/QCFQAdRUDp0KCIiIoVuokjB\n",
       "SRHBTroXoZuLYMG5tPoJOnSySxTBRSXo6KCLg528y3vuLsFc7obS/vM8v/9zyXOXKwAYIG4oLNFI\n",
       "hisMBRY4q9NaAgMTNwaR44WWxslw2Y7QAjNdUklkgHDpQ6EFyuekksgA4VIgdhyQQiohriG4wEtS\n",
       "aCTEtfFqbr/p0cudCghNuSMFTgMXh2dcN2Ymkfl0QGhKy+y7qjmKzi3lMHBx62idNSFdgWwrNN0K\n",
       "iFbABozIZD4DD7eP5jsBaQBzT6H5VkCUgteuBZgnk3kM/DiUn9Kgv8mYu7cQrYAIRXNvXp1RYGwD\n",
       "P+4KoD+AM4jKtwJOj16LzwtsxSOOyB7kMfDjVtDlISzlDVPo0u0BTsBJE3bhkaX4icckIL5BEIe2\n",
       "hYwu13KmkP3F0R37i/vLDFB6FfjBmwat+IkXjH0npkEQt43iSrfvD5ZQRTOUcIvWwP6Q1pyAaX1q\n",
       "B69JSkmXy3vlRZu4QRYY24DASapDwkKefgT3bierBU35VlmKN2WF3C14DAI47+2OhRzdwO7y/0JT\n",
       "lLUBS/GI9NGAwyCIW7Uvf16j9unRPey+grYgYyilLkOxiCbggy4gtgGBu/FH00cj+R+KPWU8lulr\n",
       "sQ0InCLiQOg8Rpnx/4PDwIf7A6MH9RCigcZWAAAAAElFTkSuQmCC\n",
       "\" style=\"display:inline;vertical-align:middle;\" /></a></td></tr>\n",
       "<tr><td>1</td><td>Literal</td><td></td><td><a class=\"ProveItLink\" href=\"../../../../logic/equality/__pv_it/e16d2caa26a16688b658bdb9c422caf4b84579e10/expr.ipynb\"><img src=\"data:image/png;base64,iVBORw0KGgoAAAANSUhEUgAAAA4AAAAFBAMAAACHocAhAAAAD1BMVEX///9UVFQiIiJmZmYAAACP\n",
       "OqLZAAAAAXRSTlMAQObYZgAAAAlwSFlzAAAOxAAADsQBlSsOGwAAABJJREFUCNdjMFICAUUGXAAq\n",
       "DwAoFgH7Aeay4gAAAABJRU5ErkJggg==\n",
       "\" style=\"display:inline;vertical-align:middle;\" /></a></td></tr>\n",
       "<tr><td>2</td><td>ExprTuple</td><td>3, 4</td><td><a class=\"ProveItLink\" href=\"../7fc204d05a5fdd667f25a7d8da8d06f28bf0645b0/expr.ipynb\"><img src=\"data:image/png;base64,iVBORw0KGgoAAAANSUhEUgAAAUEAAAAVBAMAAAAqSEFXAAAAMFBMVEX////MzMxUVFREREQiIiK6\n",
       "uroQEBCYmJhmZmYyMjLu7u52dnaqqqqIiIjc3NwAAACFAiZ1AAAAAXRSTlMAQObYZgAAAAlwSFlz\n",
       "AAAOxAAADsQBlSsOGwAAAw9JREFUSMetV89rE0EUfnGT7GaTrDl5q8Y/IBAIKApqBA9FRYJIoAeh\n",
       "WqTgQaJVaC8aUMihiLkVxB9BweKhZO3Ng5CDJwVZa0FQK6EKiiLNpaDVgzPvzc5u3B+xzT74wttv\n",
       "3rz37czszAQAukCIyozAh82Z1JXtECKzhOV6+LD1PKcF4KVAdOZSlTG3nsYeOr1JiNBSLek+HibP\n",
       "bYJWI0Roal26jWHyTBOSQIjSzktvfJg0yRZijLljESuckx/NUMsnVUPMMpfDmP1ohXf4+uzHQIZs\n",
       "0XY0MyTK2ZECSqfziDnxztWushG+iVyAQ60BjLAZ9ygERkkLKq02EceZy6BPglYGfSY4z6Ma3BjE\n",
       "AMzzeX1uP8U7dtR88HxT6X84LiRTRpxjLoO2AXETRpaDFd5qwbFQRmOIrfBau+Rar4go4v2NSjvG\n",
       "dwIUEushhMJkEdoV19t7bQL09VBGAfHeUHUrpKhMsEJRWloRxDQkxhF3mMvQNuEahCnUf4PaA7Ux\n",
       "spS9lPNlHIUyS6ojosIUUunpiyv5t7v7FIpZPsBchnYH9mW62OBd1jrHH1Car9RqLZnP5n0Yt8Ip\n",
       "EGkUS0Qhr3vV8SAqfWUSzsJSn0K1iFik3SFlqaNpbNB/gfhpN10O3IXLdfPbMmyvsD3Ey7gV3rQz\n",
       "8P0Co5DHTn1J0cHSxkIZ1nHbcxRqFuIUcxn0wpPV19RwhL/YKP8S67ZzlP08eL+zkIMC7OBfqJe5\n",
       "XtpTKtVI4QkQaRJlO4rz2MlJWhdBVHqbFRtnm4pWKk2U9pKQeBcRZ0sonrNHHaffO80vpHcG3sBa\n",
       "zI9xxtDANYdpDstLTrkvjaRlrWQuWzR6OfcYfibwY9456nlD2rtc5GZg9NiYTaX9GEchXUTS9uHv\n",
       "KPRexZxaa2wU1aLpVtgQOCjA7ft9toQWvF+KPJQSebgHq+98GFJoPP1pwSdswDSKuLwjr3vPNqfW\n",
       "SUh1jUJLKORCDOZwwEMBad6rmPofjBhDbvudNHoxvJPftc/uorQIYNQIQ5tmC3H/6fmy+Tz2krtK\n",
       "+AuHBgYa4rmGlwAAAABJRU5ErkJggg==\n",
       "\" style=\"display:inline;vertical-align:middle;\" /></a></td></tr>\n",
       "<tr><td>3</td><td>ExprTuple</td><td>5, 6</td><td><a class=\"ProveItLink\" href=\"../24df16a0acf253c95709ff1340fe280f381425b60/expr.ipynb\"><img src=\"data:image/png;base64,iVBORw0KGgoAAAANSUhEUgAAAKIAAAAVBAMAAAA3EyjlAAAAMFBMVEX////MzMxUVFREREQiIiK6\n",
       "uroQEBCYmJhmZmYyMjLu7u52dnaqqqqIiIjc3NwAAACFAiZ1AAAAAXRSTlMAQObYZgAAAAlwSFlz\n",
       "AAAOxAAADsQBlSsOGwAAAYtJREFUOMutlD9Lw0AYxh81Num/0C8g6gcoBDqIgtLBoYiIiAhuokjB\n",
       "SRHBTnYvhW4uggXn0tRP0KGTLlEEF5Wgo4MuDnby3tzlD1wSHO6FHJfnnvvx3r13B8CFujCpKQ4V\n",
       "Eqcd1txDZbwAuY5SYrYL41gpUW8iA7VxhF3FxEu0qOatNyf9UEiGxCm3jAnsuFPjVKJsSJzSwDor\n",
       "dx1GFblGIpAb0hUIwAiHgDGGZmPmKZHIDWlKk30cMEvEjIX+JtGTQhhSFIunR9uBK6Bv4wJpRG44\n",
       "P3mde56PV0LiCMtseIjFgusJXXkP4RvO6tjHY5wSJZ6yaiPr6LW8J+R+yd0RneDPM5i9Kn7osMlK\n",
       "lNjGNptZHrw/cGGVJanRNtcgGm3NN0w6E3t0NCTFqFQOKguCuAGt5K+PhIK87LugGqWiZX6X4pQw\n",
       "R7NKVztCzMtlCQ7JF8tJt+w4JSTSw7Mihj+v20BPrkxw2baQdc1yN0bhRA/wwTo30fny06b/QxE5\n",
       "UizRylU8kP7W6S7+ALoiinSRe/2pAAAAAElFTkSuQmCC\n",
       "\" style=\"display:inline;vertical-align:middle;\" /></a></td></tr>\n",
       "<tr><td>4</td><td>ExprTuple</td><td>7</td><td><a class=\"ProveItLink\" href=\"../b41210da9484e310370c32c26cbca691116b76d40/expr.ipynb\"><img src=\"data:image/png;base64,iVBORw0KGgoAAAANSUhEUgAAAH4AAAAVBAMAAAByPkciAAAAMFBMVEX////MzMxUVFREREQiIiK6\n",
       "uroQEBCYmJhmZmYyMjLu7u52dnaqqqqIiIjc3NwAAACFAiZ1AAAAAXRSTlMAQObYZgAAAAlwSFlz\n",
       "AAAOxAAADsQBlSsOGwAAAXJJREFUOMtjYGB4wEAu4AMRvAfI1s96AUicZiAf3GFg4JpAgX7OBQwc\n",
       "BRToZ29gYGOgBGQxRFKkfzpDNygeuu9dwB9RuBRsAprAwBD2gPkXXv04FVQy+ACjIJ2Bw4GBqxKn\n",
       "dogCNDGw8iMMqQwMHL8YWDYwyF7BqR+iAAEagBiiXB6kn82AYX0AyCxcAKoADgwgVoM8xjCHgWH9\n",
       "BoZ6Bnz6IQoqCu8qXFdE1X+EwRYofYDBkucBWGABpt8ZYApK0xmSGC6h6i8GxgAD5wV2D26wANdP\n",
       "kOoJUAacB1bAt9aB4Ss4upH09zKEANXpbnx0ESLgAnQACyh4PBigBIsXTAHTBcYEYHRxGBsnG5tD\n",
       "9fsxsAjAXAoS4MH0wCl4KArwGvB9EEC2n88BlAWQ9HNjBh484t4DXcBusAFZPyjz2UGlX8/vZWBY\n",
       "ixl+8IQbxMD5gE93AVQ/WPljIGMxsmrMzMyOJT4NYAwrkB9ILwBgXmZ/wAAANzJnHWetToYAAAAA\n",
       "SUVORK5CYII=\n",
       "\" style=\"display:inline;vertical-align:middle;\" /></a></td></tr>\n",
       "<tr><td>5</td><td>ExprRange</td><td>lambda_map:&nbsp;8<br>start_index:&nbsp;16<br>end_index:&nbsp;15<br></td><td><a class=\"ProveItLink\" href=\"../39dac9ba13281fbb9cfd78910b52920053cfca8a0/expr.ipynb\"><img src=\"data:image/png;base64,iVBORw0KGgoAAAANSUhEUgAAAFwAAAANBAMAAADWExQ5AAAAMFBMVEX////MzMxUVFQyMjKqqqoi\n",
       "IiKYmJju7u5EREQQEBC6urqIiIh2dnZmZmbc3NwAAAD0tjQRAAAAAXRSTlMAQObYZgAAAAlwSFlz\n",
       "AAAOxAAADsQBlSsOGwAAAP5JREFUKM9jYOC7s28DA17w9vRrBGflA47veFVzzWPoL4Bx2Kcx8AYw\n",
       "sCfjVl6ZwHAVzuH9zsB6gEF6K27l9wsYYuAczgaG+gUMDK64lc9gYP8F59QfYMhnwKec/Q8D2wcG\n",
       "tmvSm7iTBBjqHRiaWR6AlRdgKgXhLwwcBn5sKxM4FbgVGJg3sMXygE1n/8wAJeoNkBgM1gypFw48\n",
       "38rAv4D3AAO79sFHGyGOCQUZHwvErBdgjHAgUbRHTluAQZtBkoHVAWYtSDkLpmvc4ayJDDsY3jMi\n",
       "K+fB9OcBGIPvA9D8DJiKN/a3GRiqMb0KTx5cCgx2DI+2I0smYChnQxcAAGDkPesUv4V9AAAAAElF\n",
       "TkSuQmCC\n",
       "\" style=\"display:inline;vertical-align:middle;\" /></a></td></tr>\n",
       "<tr><td>6</td><td>IndexedVar</td><td>variable:&nbsp;13<br>index:&nbsp;9<br></td><td><a class=\"ProveItLink\" href=\"../d55e70cf204fbde4558a322e0707083b7a23bf570/expr.ipynb\"><img src=\"data:image/png;base64,iVBORw0KGgoAAAANSUhEUgAAAC4AAAAOBAMAAACiOzMyAAAAMFBMVEX////MzMxUVFQyMjKqqqoi\n",
       "IiKYmJju7u5EREQQEBC6urqIiIh2dnZmZmbc3NwAAAD0tjQRAAAAAXRSTlMAQObYZgAAAAlwSFlz\n",
       "AAAOxAAADsQBlSsOGwAAAKZJREFUGNNjYOC7s28DAxaw8gHHdyzC7NMYeAPQxZIZGHi/M7AeQBK7\n",
       "AMTSWxkYOBsY6hcgiTeACFcGhvoDDPkMDLmJuxW2KaKIOzA0szzImsYwiWETsjjzBrZYHr7qAIZf\n",
       "DHeQxdm1Dz7ayMC0gXECQwgDb0fHjI42sDgEcApwN/B9EEBSDwHvgTrYGg5giC9iYH7Ap10AFX9j\n",
       "fxvD/w0M2MEFCAUA0B0uH1DI7pMAAAAASUVORK5CYII=\n",
       "\" style=\"display:inline;vertical-align:middle;\" /></a></td></tr>\n",
       "<tr><td>7</td><td>ExprRange</td><td>lambda_map:&nbsp;8<br>start_index:&nbsp;16<br>end_index:&nbsp;9<br></td><td><a class=\"ProveItLink\" href=\"../3086597445b50285955a678212811577651ed9f40/expr.ipynb\"><img src=\"data:image/png;base64,iVBORw0KGgoAAAANSUhEUgAAAHAAAAAOBAMAAAAF5oXJAAAAMFBMVEX////MzMxUVFQyMjKqqqoi\n",
       "IiKYmJju7u5EREQQEBC6urqIiIh2dnZmZmbc3NwAAAD0tjQRAAAAAXRSTlMAQObYZgAAAAlwSFlz\n",
       "AAAOxAAADsQBlSsOGwAAAQBJREFUKM9jYOC7s28DAz6AS8HKBxzf8WrEoYB9GgNvAAN7Mk59EAVo\n",
       "YkDlvN8ZWA8wSG/FqRGiAAEuADFIOWcDQ/0CBgZXnBqhCuCgAUQAldcfYMhnwKcRoiA3cbfCNkUU\n",
       "jQ4MzSwPwBoLMP3HAFOQNY1hEsMmZI3MG9hiecAs9s8gZQZQBpwHVsBXHcDwi+EOskZ27YOPNkKc\n",
       "Ggq0khXk91gGKMEaDlPAtIFxAkMIA29Hx4yONmSfgVgsmG51hweRAHcD3wcBJBuRNPJghgw8Ht4D\n",
       "7WRrOICh8Y39bQaGaszAgae1RQzMD/i0C6AawcoRIAFDIxuW6GlgIBNcgFAAKZtOm+KeVs8AAAAA\n",
       "SUVORK5CYII=\n",
       "\" style=\"display:inline;vertical-align:middle;\" /></a></td></tr>\n",
       "<tr><td>8</td><td>Lambda</td><td>parameter:&nbsp;14<br>body:&nbsp;10<br></td><td><a class=\"ProveItLink\" href=\"../c2a58b1c714071e1c6f226ef2cd0aeab3fa85e090/expr.ipynb\"><img src=\"data:image/png;base64,iVBORw0KGgoAAAANSUhEUgAAADwAAAARCAMAAAC2ED+oAAAANlBMVEX////MzMwWFhYNDQ2YmJjc\n",
       "3NyIiIhUVFR2dna6urqqqqpmZmYyMjIiIiIQEBBERETu7u4AAADe7qe0AAAAAXRSTlMAQObYZgAA\n",
       "AAlwSFlzAAAOxAAADsQBlSsOGwAAAOVJREFUOMulU1sSwyAI1FbxAYre/7JF0yaappMZ64cTlWV3\n",
       "IShVOCe1vgj/ANe4jg21/HoCewf2k+UpUbw1RA4Ad+Vz8U6ltOjBwkhVqchmL8MjTwazRPHoMvZD\n",
       "hWsu4CO0ZCM7tghNW1akTu/fEc9Hmlat4QPGTpN6pPNHl8PerhNzoB2rMneafpH11mWzJ/0GaxpU\n",
       "d3Wm9vsK4OSpZdrcXIDJjpVt6phUtApSUSCSneD46GeYRE99JimqSahEALdPKVbBocunhXr6fxx4\n",
       "bR3IZRYOdKvjIH7z6kiIZcOrw6QRxPkLSMQIqTrNxM4AAAAASUVORK5CYII=\n",
       "\" style=\"display:inline;vertical-align:middle;\" /></a></td></tr>\n",
       "<tr><td>9</td><td>Operation</td><td>operator:&nbsp;11<br>operands:&nbsp;12<br></td><td><a class=\"ProveItLink\" href=\"../17d5fa5ddafd28c4bee2a37256e609f0d2406b990/expr.ipynb\"><img src=\"data:image/png;base64,iVBORw0KGgoAAAANSUhEUgAAADQAAAAQBAMAAACra0H4AAAAMFBMVEX///8iIiIyMjJmZmYQEBCq\n",
       "qqqYmJju7u5ERETMzMyIiIjc3NxUVFR2dna6uroAAACULOzSAAAAAXRSTlMAQObYZgAAAAlwSFlz\n",
       "AAAOxAAADsQBlSsOGwAAAJFJREFUGNNjYMAOOMVxSDDUGH3HEHsGpbkwpaKIk+K7s/vWKc5bfVik\n",
       "eDm6GOrzGEKwSM1jaWDYf4EhH4tUQf0DhvgChhMgvqGgoIugoAzcGfEMDEYMDF7YXHiIgUGWge83\n",
       "OxYpXwb2fww8Clsxpbh/MrB9YGC6cAGLvwQYuAwYWK02oEjxtHw8hSs0sIBnCCYAGT4sm372algA\n",
       "AAAASUVORK5CYII=\n",
       "\" style=\"display:inline;vertical-align:middle;\" /></a></td></tr>\n",
       "<tr><td>10</td><td>IndexedVar</td><td>variable:&nbsp;13<br>index:&nbsp;14<br></td><td><a class=\"ProveItLink\" href=\"../0cb2ee2c74b83e0aeb2dfcc689d03116b41089f70/expr.ipynb\"><img src=\"data:image/png;base64,iVBORw0KGgoAAAANSUhEUgAAABIAAAAMBAMAAACdPPCPAAAAMFBMVEX////MzMxUVFQyMjKqqqoi\n",
       "IiKYmJju7u5EREQQEBC6urqIiIh2dnZmZmbc3NwAAAD0tjQRAAAAAXRSTlMAQObYZgAAAAlwSFlz\n",
       "AAAOxAAADsQBlSsOGwAAAG5JREFUCNdjYOC7s28DAxisfMDxHcxgn8bAG8Ag3MDAwPudgfUAA9MB\n",
       "BgbOBob6BQycAgwM9QcY8hkY5HerM9Q7MDSzPNhasJeBeQNbLA9DN0MyA7v2wUcbGWYxXIKYyfCd\n",
       "YQqUFc7WAGXJ7mEAAK6nGrTbYfrbAAAAAElFTkSuQmCC\n",
       "\" style=\"display:inline;vertical-align:middle;\" /></a></td></tr>\n",
       "<tr><td>11</td><td>Literal</td><td></td><td><a class=\"ProveItLink\" href=\"../../../../number/addition/__pv_it/65ad7e8aee19b10110d590375ba95a879c4fb7ea0/expr.ipynb\"><img src=\"data:image/png;base64,iVBORw0KGgoAAAANSUhEUgAAAA4AAAAOBAMAAADtZjDiAAAAHlBMVEX///9UVFQQEBAiIiJmZmaI\n",
       "iIiqqqqYmJi6uroAAAAAFVhYAAAAAXRSTlMAQObYZgAAAAlwSFlzAAAOxAAADsQBlSsOGwAAAB9J\n",
       "REFUCNdjYGBgaGeAgFRiaGdjYyVjY0Oi1SPRIHsAgDEGyG9xCpgAAAAASUVORK5CYII=\n",
       "\" style=\"display:inline;vertical-align:middle;\" /></a></td></tr>\n",
       "<tr><td>12</td><td>ExprTuple</td><td>15, 16</td><td><a class=\"ProveItLink\" href=\"../7a702cba5addd226167644cd161e360e411c0d180/expr.ipynb\"><img src=\"data:image/png;base64,iVBORw0KGgoAAAANSUhEUgAAADEAAAAVBAMAAAAdjxsPAAAAMFBMVEX////MzMxUVFREREQiIiK6\n",
       "uroQEBCYmJhmZmYyMjLu7u52dnaqqqqIiIjc3NwAAACFAiZ1AAAAAXRSTlMAQObYZgAAAAlwSFlz\n",
       "AAAOxAAADsQBlSsOGwAAAQlJREFUKM9jYGB4wIAJwGK8B7DIxIKI0+iijF4Q5VwT0CQWdf4CkrMY\n",
       "GDgK0PXwgmQqGBjYGLDKsC1giMQuw1nA0M3AwLrp3V5dxr2myDLcCgzTgSSzLcP6UoZjyDLsExh8\n",
       "GBhE2QwY3m9gqEeW4XFgSGVgWLA+gOH8AgZlZBnGDyAZhvMMDJ0MDLnIMqwJDHOAlCYDgzcD6z8u\n",
       "VNNsgVQ2A9dXBqYJbxgWIFxgwLCJgYHvIwP7BwbODRu4fsJlOC4whADNdGDgbWDg6X3A4ALUxGT2\n",
       "RZeBgeUBA4sAkvd5FsBYT4AGNiDJcMNZ7UBshySzFsbgMwASi5Fk4DHCDDKWrwBLbNcxMAAASstA\n",
       "PQuwl6YAAAAASUVORK5CYII=\n",
       "\" style=\"display:inline;vertical-align:middle;\" /></a></td></tr>\n",
       "<tr><td>13</td><td>Variable</td><td></td><td><a class=\"ProveItLink\" href=\"../a8d4b3a34d2189508f9082853fbac36935714f280/expr.ipynb\"><img src=\"data:image/png;base64,iVBORw0KGgoAAAANSUhEUgAAAAsAAAAJBAMAAAAWSsseAAAAMFBMVEX////MzMxUVFQyMjKqqqoi\n",
       "IiKYmJju7u5EREQQEBC6urqIiIh2dnZmZmbc3NwAAAD0tjQRAAAAAXRSTlMAQObYZgAAAAlwSFlz\n",
       "AAAOxAAADsQBlSsOGwAAAEdJREFUCNdjYOC7s28DAwPDygcc3xkY2Kcx8AYwMPB+Z2A9wMDA2cBQ\n",
       "v4CBof4AQz5QRb0DQzPLAwbmDWyxPECV2gcfbWQAABp5EMgcedARAAAAAElFTkSuQmCC\n",
       "\" style=\"display:inline;vertical-align:middle;\" /></a></td></tr>\n",
       "<tr><td>14</td><td>Variable</td><td></td><td><a class=\"ProveItLink\" href=\"../53e304ff98ebc000dbe3ef224f4637dbafd46ba70/expr.ipynb\"><img src=\"data:image/png;base64,iVBORw0KGgoAAAANSUhEUgAAAAkAAAAOBAMAAAAPuiubAAAALVBMVEX///+YmJjc3NyIiIhUVFR2\n",
       "dna6urqqqqpmZmYyMjIiIiIQEBBERETu7u4AAAALjtrwAAAAAXRSTlMAQObYZgAAAAlwSFlzAAAO\n",
       "xAAADsQBlSsOGwAAAE5JREFUCNdj4D29gAEIOBtAJF8BiMy7ACKjQATDFON2BgbelxfuKTCwv2Xg\n",
       "M2DgmMBwLwCkPK+AgU+Aoe8CA18C70YGBhYBHqARvM1A5QCqGhDobJhHyAAAAABJRU5ErkJggg==\n",
       "\" style=\"display:inline;vertical-align:middle;\" /></a></td></tr>\n",
       "<tr><td>15</td><td>Variable</td><td></td><td><a class=\"ProveItLink\" href=\"../6e8a38e9a7e2b6af352562cd77e0eb4751f142620/expr.ipynb\"><img src=\"data:image/png;base64,iVBORw0KGgoAAAANSUhEUgAAABIAAAAJBAMAAADN8WE8AAAAMFBMVEX///8iIiIyMjJmZmYQEBCq\n",
       "qqqYmJju7u5ERETMzMyIiIjc3NxUVFR2dna6uroAAACULOzSAAAAAXRSTlMAQObYZgAAAAlwSFlz\n",
       "AAAOxAAADsQBlSsOGwAAAGNJREFUCNdj4Luz+9Ypzlt9DAy8HF0M9XkMIQwM81gaGPZfYMhnYCio\n",
       "f8AQX8BwgoGBIZ6BwYiBwQvIOsTAIMvA95udgcGXgf0fA4/CVgbunwxsHxiYLlxg4BNg4DJgYLXa\n",
       "AAB/WBcBafZ/twAAAABJRU5ErkJggg==\n",
       "\" style=\"display:inline;vertical-align:middle;\" /></a></td></tr>\n",
       "<tr><td>16</td><td>Literal</td><td></td><td><a class=\"ProveItLink\" href=\"../../../../number/numeral/__pv_it/f086f8c372bd40a2458306ddfdbb29f3dc6f63030/expr.ipynb\"><img src=\"data:image/png;base64,iVBORw0KGgoAAAANSUhEUgAAAAgAAAAOBAMAAADgeEClAAAAIVBMVEX///8QEBBERESIiIgyMjJm\n",
       "ZmZUVFTu7u4iIiLMzMwAAAAWRytzAAAAAXRSTlMAQObYZgAAAAlwSFlzAAAOxAAADsQBlSsOGwAA\n",
       "ABtJREFUCNdjYOBsZ2AoC1nOwMDATBbBprgiGQBsuwqCZsDj4wAAAABJRU5ErkJggg==\n",
       "\" style=\"display:inline;vertical-align:middle;\" /></a></td></tr>\n",
       "</table>\n"
      ],
      "text/plain": [
       "0. (a_{1} ,  ...  , a_{m} , a_{m + 1}) = (a_{1} ,  ...  , a_{m + 1})\n",
       "   core type: Operation\n",
       "   operator: 1\n",
       "   operands: 2\n",
       "1. =\n",
       "   core type: Literal\n",
       "   sub-expressions: \n",
       "2. ((a_{1} ,  ...  , a_{m} , a_{m + 1}) , (a_{1} ,  ...  , a_{m + 1}))\n",
       "   core type: ExprTuple\n",
       "   sub-expressions: 3, 4\n",
       "3. (a_{1} ,  ...  , a_{m} , a_{m + 1})\n",
       "   core type: ExprTuple\n",
       "   sub-expressions: 5, 6\n",
       "4. (a_{1} ,  ...  , a_{m + 1})\n",
       "   core type: ExprTuple\n",
       "   sub-expressions: 7\n",
       "5. a_{1},...,a_{m}\n",
       "   core type: ExprRange\n",
       "   lambda_map: 8\n",
       "   start_index: 16\n",
       "   end_index: 15\n",
       "6. a_{m + 1}\n",
       "   core type: IndexedVar\n",
       "variable: 13\n",
       "index: 9\n",
       "7. a_{1},...,a_{m + 1}\n",
       "   core type: ExprRange\n",
       "   lambda_map: 8\n",
       "   start_index: 16\n",
       "   end_index: 9\n",
       "8. b -> a_{b}\n",
       "   core type: Lambda\n",
       "   parameter: 14\n",
       "   body: 10\n",
       "9. m + 1\n",
       "   core type: Operation\n",
       "   operator: 11\n",
       "   operands: 12\n",
       "10. a_{b}\n",
       "    core type: IndexedVar\n",
       "variable: 13\n",
       "index: 14\n",
       "11. +\n",
       "    core type: Literal\n",
       "    sub-expressions: \n",
       "12. (m , 1)\n",
       "    core type: ExprTuple\n",
       "    sub-expressions: 15, 16\n",
       "13. a\n",
       "    core type: Variable\n",
       "    sub-expressions: \n",
       "14. b\n",
       "    core type: Variable\n",
       "    sub-expressions: \n",
       "15. m\n",
       "    core type: Variable\n",
       "    sub-expressions: \n",
       "16. 1\n",
       "    core type: Literal\n",
       "    sub-expressions: "
      ]
     },
     "execution_count": 5,
     "metadata": {},
     "output_type": "execute_result"
    }
   ],
   "source": [
    "# display the expression information\n",
    "expr.exprInfo()"
   ]
  },
  {
   "cell_type": "code",
   "execution_count": null,
   "metadata": {},
   "outputs": [],
   "source": []
  }
 ],
 "metadata": {
  "kernelspec": {
   "display_name": "Python 3",
   "language": "python",
   "name": "python3"
  },
  "language_info": {
   "codemirror_mode": {
    "name": "ipython",
    "version": 3
   },
   "file_extension": ".py",
   "mimetype": "text/x-python",
   "name": "python",
   "nbconvert_exporter": "python",
   "pygments_lexer": "ipython3",
   "version": "3.7.4"
  }
 },
 "nbformat": 4,
 "nbformat_minor": 1
}
