{
 "cells": [
  {
   "cell_type": "markdown",
   "metadata": {},
   "source": [
    "Expression of type <a class=\"ProveItLink\" href=\"../../../../../../doc/html/api/proveit.Conditional.html\">Conditional</a>\n",
    "=======================\n",
    "# from context <a class=\"ProveItLink\" href=\"../../_context_.ipynb\">proveit.core_expr_types.tuples</a>"
   ]
  },
  {
   "cell_type": "code",
   "execution_count": 1,
   "metadata": {},
   "outputs": [],
   "source": [
    "import proveit\n",
    "# Automation is not needed when building an expression:\n",
    "proveit.defaults.automation = False # This will speed things up.\n",
    "# import Expression classes needed to build the expression\n",
    "from proveit import Conditional, Variable\n",
    "from proveit.logic import And, Equals"
   ]
  },
  {
   "cell_type": "code",
   "execution_count": 2,
   "metadata": {},
   "outputs": [
    {
     "data": {
      "text/html": [
       "<strong id=\"expr\">expr:</strong> <a class=\"ProveItLink\" href=\"expr.ipynb\"><img src=\"data:image/png;base64,iVBORw0KGgoAAAANSUhEUgAAAJMAAAAVBAMAAACwIsHjAAAAMFBMVEX///8QEBBERERUVFTMzMyY\n",
       "mJjc3NxmZmYiIiJ2dnaqqqoyMjKIiIi6urru7u4AAAAvZeGPAAAAAXRSTlMAQObYZgAAAAlwSFlz\n",
       "AAAOxAAADsQBlSsOGwAAAdFJREFUOMutlM9LAkEUxx/mr0otiQy69OsURQoSQUEu+gfYsUOHbh06\n",
       "WHQJggy8eKnsECUdWqKzeezm3iP0HwjsXFBZ0cWyeTP73BlXPURf3Lcz8z583Zl5MwAQeID/0l3B\n",
       "NrRW+ZNT3w8LvnAtOrOPXfcwQP/1N0+5z/LzhFmEIhmB3gOMA0WAiSpr+L8AVt3LPHWhQU+RuCah\n",
       "SEGEVdIAuDGwxeioyDyNszBCnEVIUhFhVdbYkzOHFsTrFkOMOIUgqYiwCuOjKVaeD4yXNKgQploQ\n",
       "YVVjq1THxuYQJIJ8hin8eEjTZjYJSS2IB1fNWQf3uc77GVqrNO+X1gVmEbtZVMaOQGoFt/o9f2p6\n",
       "T5HVMRKBNyoGi7CkIolDjI7XZrpp1cDg+jSHJcKSigT2qmbRtFplMTwWpbKySUXAEcGiydmtYuDX\n",
       "YZvWwSKktVIRsYPlit0qqd8/u0Lsu0VZtTuWhMhWJSs9yX+40CHDs8Nm/8InUGp3fgkBQaHVUmOW\n",
       "svHgXHxM9BLTJxXQwHsECiHLRJi8W1Si7eXQfew/C90uFoHI1d6Bi1yxmOtqxRFzvoOdOU+DHbKA\n",
       "0c2KI1RYo505Z5CdDFfXm5MjpI3F/7nYfwG9V5GLJOAr4AAAAABJRU5ErkJggg==\n",
       "\" style=\"display:inline;vertical-align:middle;\" /></a><br>"
      ],
      "text/plain": [
       "expr: {P if Q ,  P = Q."
      ]
     },
     "execution_count": 2,
     "metadata": {},
     "output_type": "execute_result"
    }
   ],
   "source": [
    "# build up the expression from sub-expressions\n",
    "expr = Conditional(Variable(\"P\"), And(Variable(\"Q\"), Equals(Variable(\"P\"), Variable(\"Q\"))))"
   ]
  },
  {
   "cell_type": "code",
   "execution_count": 3,
   "metadata": {},
   "outputs": [
    {
     "name": "stdout",
     "output_type": "stream",
     "text": [
      "Passed sanity check: built 'expr' is the same as the stored Expression.\n"
     ]
    }
   ],
   "source": [
    "# check that the built expression is the same as the stored expression\n",
    "%check_expr"
   ]
  },
  {
   "cell_type": "code",
   "execution_count": 4,
   "metadata": {},
   "outputs": [
    {
     "name": "stdout",
     "output_type": "stream",
     "text": [
      "\\left\\{P \\textrm{ if } Q ,  P = Q\\right..\n"
     ]
    }
   ],
   "source": [
    "# Show the LaTeX representation of the expression for convenience if you need it.\n",
    "print(expr.latex())"
   ]
  },
  {
   "cell_type": "code",
   "execution_count": 5,
   "metadata": {},
   "outputs": [
    {
     "data": {
      "text/html": [
       "<table><tr><th>&nbsp;</th><th>core type</th><th>sub-expressions</th><th>expression</th></tr>\n",
       "<tr><td>0</td><td>Conditional</td><td>value:&nbsp;7<br>condition:&nbsp;1<br></td><td><a class=\"ProveItLink\" href=\"expr.ipynb\"><img src=\"data:image/png;base64,iVBORw0KGgoAAAANSUhEUgAAAJMAAAAVBAMAAACwIsHjAAAAMFBMVEX///8QEBBERERUVFTMzMyY\n",
       "mJjc3NxmZmYiIiJ2dnaqqqoyMjKIiIi6urru7u4AAAAvZeGPAAAAAXRSTlMAQObYZgAAAAlwSFlz\n",
       "AAAOxAAADsQBlSsOGwAAAdFJREFUOMutlM9LAkEUxx/mr0otiQy69OsURQoSQUEu+gfYsUOHbh06\n",
       "WHQJggy8eKnsECUdWqKzeezm3iP0HwjsXFBZ0cWyeTP73BlXPURf3Lcz8z583Zl5MwAQeID/0l3B\n",
       "NrRW+ZNT3w8LvnAtOrOPXfcwQP/1N0+5z/LzhFmEIhmB3gOMA0WAiSpr+L8AVt3LPHWhQU+RuCah\n",
       "SEGEVdIAuDGwxeioyDyNszBCnEVIUhFhVdbYkzOHFsTrFkOMOIUgqYiwCuOjKVaeD4yXNKgQploQ\n",
       "YVVjq1THxuYQJIJ8hin8eEjTZjYJSS2IB1fNWQf3uc77GVqrNO+X1gVmEbtZVMaOQGoFt/o9f2p6\n",
       "T5HVMRKBNyoGi7CkIolDjI7XZrpp1cDg+jSHJcKSigT2qmbRtFplMTwWpbKySUXAEcGiydmtYuDX\n",
       "YZvWwSKktVIRsYPlit0qqd8/u0Lsu0VZtTuWhMhWJSs9yX+40CHDs8Nm/8InUGp3fgkBQaHVUmOW\n",
       "svHgXHxM9BLTJxXQwHsECiHLRJi8W1Si7eXQfew/C90uFoHI1d6Bi1yxmOtqxRFzvoOdOU+DHbKA\n",
       "0c2KI1RYo505Z5CdDFfXm5MjpI3F/7nYfwG9V5GLJOAr4AAAAABJRU5ErkJggg==\n",
       "\" style=\"display:inline;vertical-align:middle;\" /></a></td></tr>\n",
       "<tr><td>1</td><td>Operation</td><td>operator:&nbsp;2<br>operands:&nbsp;3<br></td><td><a class=\"ProveItLink\" href=\"../09b1f899e6e083c3c21f53d71245776f2fefd8590/expr.ipynb\"><img src=\"data:image/png;base64,iVBORw0KGgoAAAANSUhEUgAAAHAAAAAVBAMAAABs93eRAAAAMFBMVEX///+IiIiqqqq6uroiIiIQ\n",
       "EBBERETu7u7MzMwyMjKYmJhUVFRmZmZ2dnbc3NwAAABtgPhfAAAAAXRSTlMAQObYZgAAAAlwSFlz\n",
       "AAAOxAAADsQBlSsOGwAAAgJJREFUOMt9VDFIHFEQfavr3rq3xkVRS68IVhEOiYiVIjY2RhSRQDhO\n",
       "GwuJJoWCVa6xsjgRERG5E0ICwSJXGSKIGkgV5YJgIZfDSxNIIZ6KcgrxMjMbRX/29sO+nT8z7//5\n",
       "M/M/4Dly8B2PShm0kD+x3BH6j+yGYmimr744tr7y6j/O8V5mFahh8TCG4Jyr3Xd/AZleAcaQyqta\n",
       "Aj4DlbTidJTmL1xCj2u1aU2Yp0DZqcILLBJUbMPaBhZYseUebS0s/wqZFOj7oxArOwmCeWAIdoEV\n",
       "RzFG3YyKuZ3BILNRUIhp9qsi7TJOxDcddnOSEPMeQzUZOhylDJdyknMgg7RkPimFS+CJ2JcZ4g6O\n",
       "u8SvW0aKxTOJ9wb4gGdMCVywwkxBl/yLf+Nm9q2aU/2G8U0f8BhFFq1rxmAMmsQ2wDDhUfjqPONH\n",
       "Snoc3SxOSuGmaevOO+KVB1Fnc+A5QSsVojyEr7nb8n9hYZ7jvqvEvTNSIVpgR8ChxkO1r62IePBy\n",
       "v1kY5jKee+xonmltzjve5T20iGN/k5RYfD6DC5Xh1OW9urvuJ3Y/sbADzL48CIPdDaab3wmeUlDJ\n",
       "S8dry/XsAEwSeqVHQtrDW6DHfK7UCBqoEySJRqrpoY1buOQYK4v+uwawi2pLjvsQ00WK55cb+KB6\n",
       "4ad8iDP9BKOl3pRV/6fDyuEv6nN4ZNx/AZ4AAAAASUVORK5CYII=\n",
       "\" style=\"display:inline;vertical-align:middle;\" /></a></td></tr>\n",
       "<tr><td>2</td><td>Literal</td><td></td><td><a class=\"ProveItLink\" href=\"../../../../logic/boolean/conjunction/__pv_it/f41cc6b553210927c09f19a8a39cdf860a5585930/expr.ipynb\"><img src=\"data:image/png;base64,iVBORw0KGgoAAAANSUhEUgAAAAwAAAANBAMAAABvB5JxAAAALVBMVEX///9mZmbc3NxERETMzMy6\n",
       "urpUVFSYmJiIiIgyMjIiIiLu7u6qqqp2dnYAAACMfHT6AAAAAXRSTlMAQObYZgAAAAlwSFlzAAAO\n",
       "xAAADsQBlSsOGwAAAEpJREFUCNdjYGDgPcAAArsmgKn2VDC1wBlE8lzgVABSnAo8AkDKjYFhNZBK\n",
       "YWDoYGDgBirfBdHMeICBCyjONIGhAqTJhMEaRPkCACemC8GDBfsjAAAAAElFTkSuQmCC\n",
       "\" style=\"display:inline;vertical-align:middle;\" /></a></td></tr>\n",
       "<tr><td>3</td><td>ExprTuple</td><td>8, 4</td><td><a class=\"ProveItLink\" href=\"../42c02b77a5d02195b36a8436deaf4e89186ad1f70/expr.ipynb\"><img src=\"data:image/png;base64,iVBORw0KGgoAAAANSUhEUgAAAGEAAAAVBAMAAACkm51HAAAAMFBMVEX////MzMxUVFREREQiIiK6\n",
       "uroQEBCYmJhmZmYyMjLu7u52dnaqqqqIiIjc3NwAAACFAiZ1AAAAAXRSTlMAQObYZgAAAAlwSFlz\n",
       "AAAOxAAADsQBlSsOGwAAAdBJREFUOMuVU00oRFEU/sbMmDcz3nhZ2BILsSELJb/JUpmFDVE2REmz\n",
       "khWSEIshSkmZUspCJPlpFqYsLbwNCxuzsJMMQgrjO3ce8UwTt+733jnfOeeee865AOL4+1K2euwf\n",
       "Hl0CJwLXszshS6k3PBRVz/yyDRxES1LhfXMU/fNA6SeXS01VxO5xaCCLxDKgMbZvgarsMYsrMIFT\n",
       "0+awUUHoA4ZpyD9vIyErYZGXBve2zWNRoJzmEbTzL2xIZncW2SDb+OmgKfLIgDeEWV7qQSkfLZaS\n",
       "+812xK0khXAQ/kIs0fZVRO97inS8IbCrKj7RLKtJ2SrFahyeObQALmW71W1V9z66H7RXqlVa53sC\n",
       "chrRw3KqO49aDXEm0nQuKeB5ZgYJ8XBJqXz939rxazULrJNxd2NF1bUT2uBnO74K++0e5XDHMBlX\n",
       "WdXxpFe9wxyiqBp9GUxzRkHsbNMjMT0V2OHn/AbTZUzsRRUk3QTqg6Y2LgE1E21S0OJoDxzMlrrS\n",
       "ZF06l7yavSDYVlccrlR3a3HBJCMZBt0Z00lfMbHUAFbmsKv+TE/DWXhMnOKuV3I4ybM2M3loSc5W\n",
       "QKZlTcn5A4RQJg9HLyfFKXkHQv94tSPABzuicK6Vzw53AAAAAElFTkSuQmCC\n",
       "\" style=\"display:inline;vertical-align:middle;\" /></a></td></tr>\n",
       "<tr><td>4</td><td>Operation</td><td>operator:&nbsp;5<br>operands:&nbsp;6<br></td><td><a class=\"ProveItLink\" href=\"../2d15bb5dca9257784e06d6b0ffa03305afdaea100/expr.ipynb\"><img src=\"data:image/png;base64,iVBORw0KGgoAAAANSUhEUgAAADsAAAASBAMAAAAXqLt+AAAAMFBMVEX///+YmJgiIiLc3Ny6urp2\n",
       "dnaqqqrMzMwQEBDu7u5mZmYyMjJUVFRERESIiIgAAACzCz+6AAAAAXRSTlMAQObYZgAAAAlwSFlz\n",
       "AAAOxAAADsQBlSsOGwAAAN1JREFUKM9jYGB4+//O2V0TGNAAc1ToQQjrNwMDbye6dHQBA88GEIP9\n",
       "HwMD2z802dkXgEQXiMX3HYi/oklvAhHnQQTvByD+jirLBebHFwAJfqA5/g9Qpe1BZjOsdwAS9Q8Y\n",
       "TNXAWpTA4ABIIgEksN8ASLw/GiqC7m59kATnDxDzPgMm+A8iGD9CvY0BlEDEDJC/2eF+QrL7PANL\n",
       "AsMKkA18X7Dork94Mo+xGcTi/oBFmq/5AdcaUDzw7P/7AIt8zdUIB4YCBtyAN4FvAj7pA7l4ZBm4\n",
       "/n/HJ83eAQxYAJGBPTruhASiAAAAAElFTkSuQmCC\n",
       "\" style=\"display:inline;vertical-align:middle;\" /></a></td></tr>\n",
       "<tr><td>5</td><td>Literal</td><td></td><td><a class=\"ProveItLink\" href=\"../../../../logic/equality/__pv_it/e16d2caa26a16688b658bdb9c422caf4b84579e10/expr.ipynb\"><img src=\"data:image/png;base64,iVBORw0KGgoAAAANSUhEUgAAAA4AAAAFBAMAAACHocAhAAAAD1BMVEX///9UVFQiIiJmZmYAAACP\n",
       "OqLZAAAAAXRSTlMAQObYZgAAAAlwSFlzAAAOxAAADsQBlSsOGwAAABJJREFUCNdjMFICAUUGXAAq\n",
       "DwAoFgH7Aeay4gAAAABJRU5ErkJggg==\n",
       "\" style=\"display:inline;vertical-align:middle;\" /></a></td></tr>\n",
       "<tr><td>6</td><td>ExprTuple</td><td>7, 8</td><td><a class=\"ProveItLink\" href=\"../09318b7fce5794e7189389212fc35b2174e090490/expr.ipynb\"><img src=\"data:image/png;base64,iVBORw0KGgoAAAANSUhEUgAAADMAAAAVBAMAAAAZessyAAAAMFBMVEX////MzMxUVFREREQiIiK6\n",
       "uroQEBCYmJhmZmYyMjLu7u52dnaqqqqIiIjc3NwAAACFAiZ1AAAAAXRSTlMAQObYZgAAAAlwSFlz\n",
       "AAAOxAAADsQBlSsOGwAAAVVJREFUKM9tUr9Lw2AQfW1ak6ZNDf4DLTg4OLS4ij+GjoIdXBxEF0Uc\n",
       "ShbBScRBB4d2EBQRWigIDl0cROlgwNElIM5mcHMwRVRKKfHuPvimBO7dfe8l77s7AiBEwiOk4ydJ\n",
       "GwwvFK/x3PRlR5HFh/6M+sBu8XkIGHtKenSRJu4KsDw6psZAYSzKbZVgFzgAJuS+AcVIpHOGCvEd\n",
       "rHNpRBQDrizBJxc5D2dcTpLLZsDVF/uhWUe+jAsuSwE+V8SvKaO0Q5gtCPM+299X/a3yrPYvdbWM\n",
       "bSaW9Kgxg/lHTUdKGmqpxnBDc2W3cM1jjbRUQdbHSSiGCzzWj9C8qZL/1jMbbFrFHaVcxIrNtk4j\n",
       "sI75HSvAGpBuf8tMNaam5u/rcIFMiIyr7ymo3Ru+Q8UHeR5pKa+SUX4mPKVY1FJPJSumPRZ5YV0t\n",
       "eSqldmhZBpsXvaQf4BD4B/6oUNawqQNyAAAAAElFTkSuQmCC\n",
       "\" style=\"display:inline;vertical-align:middle;\" /></a></td></tr>\n",
       "<tr><td>7</td><td>Variable</td><td></td><td><a class=\"ProveItLink\" href=\"../390c91a44e60b16c95d2255652741252e8ec8d980/expr.ipynb\"><img src=\"data:image/png;base64,iVBORw0KGgoAAAANSUhEUgAAABAAAAAOBAMAAADUAYG5AAAAMFBMVEX///+YmJgiIiLc3Ny6urp2\n",
       "dnaqqqrMzMwQEBDu7u5mZmYyMjJUVFRERESIiIgAAACzCz+6AAAAAXRSTlMAQObYZgAAAAlwSFlz\n",
       "AAAOxAAADsQBlSsOGwAAAF1JREFUCNdjYGB4+//O2V0TGIDgNwMDbyeQZv/HwMAGxAx834H4K5DB\n",
       "+wGIgRwG/gsMDP4PgIz6BwymaiBN74+GioBohvsMUPAbSrN/hTL4vkAZ3B8gNM/+vyAzGABqABnj\n",
       "X5k3PAAAAABJRU5ErkJggg==\n",
       "\" style=\"display:inline;vertical-align:middle;\" /></a></td></tr>\n",
       "<tr><td>8</td><td>Variable</td><td></td><td><a class=\"ProveItLink\" href=\"../dbe7145e53d9411a5ba89652cbfea9d54e4b581a0/expr.ipynb\"><img src=\"data:image/png;base64,iVBORw0KGgoAAAANSUhEUgAAAA8AAAASBAMAAAB2sJk8AAAAMFBMVEX///+IiIiqqqq6uroiIiIQ\n",
       "EBBERETu7u7MzMwyMjKYmJhUVFRmZmZ2dnbc3NwAAABtgPhfAAAAAXRSTlMAQObYZgAAAAlwSFlz\n",
       "AAAOxAAADsQBlSsOGwAAAIJJREFUCNdjYGDgu3N3FwMI3Gxg4J4ApCsTgEQMEE8Bie5nYOD5AWLc\n",
       "b2B4D5JhOG/AcF4BxJj/gMH/AZBm/8rA8B8kwPWLgcEFxCidANLIrMBwFCjfryBcyBUHFGWME+A5\n",
       "XQCS7869asDQALaVTYGxAMLYoAamGXj+/4AwOEKB1gAAAV0f3CdXaksAAAAASUVORK5CYII=\n",
       "\" style=\"display:inline;vertical-align:middle;\" /></a></td></tr>\n",
       "</table>\n"
      ],
      "text/plain": [
       "0. {P if Q ,  P = Q.\n",
       "   core type: Conditional\n",
       "   value: 7\n",
       "   condition: 1\n",
       "1. Q and (P = Q)\n",
       "   core type: Operation\n",
       "   operator: 2\n",
       "   operands: 3\n",
       "2. and\n",
       "   core type: Literal\n",
       "   sub-expressions: \n",
       "3. (Q , P = Q)\n",
       "   core type: ExprTuple\n",
       "   sub-expressions: 8, 4\n",
       "4. P = Q\n",
       "   core type: Operation\n",
       "   operator: 5\n",
       "   operands: 6\n",
       "5. =\n",
       "   core type: Literal\n",
       "   sub-expressions: \n",
       "6. (P , Q)\n",
       "   core type: ExprTuple\n",
       "   sub-expressions: 7, 8\n",
       "7. P\n",
       "   core type: Variable\n",
       "   sub-expressions: \n",
       "8. Q\n",
       "   core type: Variable\n",
       "   sub-expressions: "
      ]
     },
     "execution_count": 5,
     "metadata": {},
     "output_type": "execute_result"
    }
   ],
   "source": [
    "# display the expression information\n",
    "expr.exprInfo()"
   ]
  },
  {
   "cell_type": "code",
   "execution_count": null,
   "metadata": {},
   "outputs": [],
   "source": []
  }
 ],
 "metadata": {
  "kernelspec": {
   "display_name": "Python 3",
   "language": "python",
   "name": "python3"
  },
  "language_info": {
   "codemirror_mode": {
    "name": "ipython",
    "version": 3
   },
   "file_extension": ".py",
   "mimetype": "text/x-python",
   "name": "python",
   "nbconvert_exporter": "python",
   "pygments_lexer": "ipython3",
   "version": "3.7.4"
  }
 },
 "nbformat": 4,
 "nbformat_minor": 1
}
