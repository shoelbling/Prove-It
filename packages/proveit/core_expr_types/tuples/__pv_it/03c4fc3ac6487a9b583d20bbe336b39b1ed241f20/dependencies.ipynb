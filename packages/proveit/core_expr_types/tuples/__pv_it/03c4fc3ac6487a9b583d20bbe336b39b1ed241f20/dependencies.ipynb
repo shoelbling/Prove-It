{
 "cells": [
  {
   "cell_type": "markdown",
   "metadata": {},
   "source": [
    "Theorem Dependencies\n",
    "=======================\n",
    "\n",
    "## <a class=\"ProveItLink\" href=\"../../_context_.ipynb\">proveit.core_expr_types.tuples</a>.<a class=\"ProveItLink\" href=\"../../_theorems_.ipynb#tuple_eq_via_elem_eq\">tuple_eq_via_elem_eq</a> \n",
    "***see <a class=\"ProveItLink\" href=\"../../_proofs_/tuple_eq_via_elem_eq.ipynb\">proof</a>***"
   ]
  },
  {
   "cell_type": "code",
   "execution_count": 1,
   "metadata": {},
   "outputs": [],
   "source": [
    "import proveit\n",
    "# Automation is not needed when querying dependencies:\n",
    "proveit.defaults.automation = False # This will speed things up.\n",
    "from proveit.core_expr_types.tuples._theorems_ import tuple_eq_via_elem_eq"
   ]
  },
  {
   "cell_type": "code",
   "execution_count": 2,
   "metadata": {},
   "outputs": [
    {
     "data": {
      "text/html": [
       "<h3>Unproven theorems required (directly or indirectly) to prove tuple_eq_via_elem_eq</h3>"
      ],
      "text/plain": [
       "<IPython.core.display.HTML object>"
      ]
     },
     "metadata": {},
     "output_type": "display_data"
    },
    {
     "data": {
      "text/html": [
       "<dl>"
      ],
      "text/plain": [
       "<IPython.core.display.HTML object>"
      ]
     },
     "metadata": {},
     "output_type": "display_data"
    },
    {
     "data": {
      "text/html": [
       "<dt><a class=\"ProveItLink\" href=\"../../../conditionals/_proofs_/single_condition_reduction.ipynb\">proveit.core_expr_types.conditionals.single_condition_reduction</a></dt><dd><a class=\"ProveItLink\" href=\"../../../conditionals/__pv_it/6de096d7d36abfada35f5b06861566df4eb2d1a90/expr.ipynb\"><img src=\"data:image/png;base64,iVBORw0KGgoAAAANSUhEUgAAAM8AAAAyBAMAAAAJo5KrAAAAMFBMVEX///+IiIgiIiIQEBB2dnbu\n",
       "7u5UVFTMzMzc3NwyMjK6urpmZmaYmJiqqqpEREQAAACk/Np2AAAAAXRSTlMAQObYZgAAAAlwSFlz\n",
       "AAAOxAAADsQBlSsOGwAABK1JREFUWMO1mFuIG1UYgP9cJpPrJF5Qq4jLolu1PoS2rqXUmvZBRSwd\n",
       "qCi10Mla7YuKAWHxqRspLJSKjUilsLYM9E2EZKsolS5mWxREMPFGKwobXSqIoi64aNfd0v+cmTkz\n",
       "Z+bkzATjIZP8M3Pyf+fy32YAJC1lwhDafj20ywtMelqMvH49L6Q936ypx8M4qYojxU76RjVvgR9j\n",
       "FyzpdvqdLfGdvwoDnWfSgoeT3gaQubgiAhUqsH8j47GWq8o56b+ZuNNzOfsvDiH9nKt+F5P24jGD\n",
       "R8Y3//vkoHhFCALUctAzD+UeBjqHxxoe+Rav6Wu5OVwAMQjb8x5Q7FPTAZVxvstEuJ/vnmlJQZuj\n",
       "geJqz5ayDYDkCLn+Nt89+4+ME1vmQen3b6HWdGQcJjcddEHfwAlbyuFaZyZu6wI87NM1I90ij62c\n",
       "xeN0XbPQY/wenYDvbSnTBjCOKzj8z3y6FmSbNFVz7W8V93wb5OiywM8cSK1CXLcXsUtVLgU9xyhJ\n",
       "QAdc134Gtzu37JghD0rVIFayQAmTzF35Cwfp06WNSEDjrrgPg0iiB4YpAKHvKCMuaAayaOCnfbry\n",
       "EmtQVz0nqNuoQAcEIOKuc/Ye4dKtkqkHlk5Z7Q9KegeBVmd04ZdCPQgii3LEAmm4hCuwB03iC8ny\n",
       "+JtW5kGZUn5Dkp78Tj82KE+2WatRULJKAv6vKM3SaVxxFfwEQLwNfgiCEj0epEw8Mn0zkQ9tunzo\n",
       "oR8dkEYMV61YDouz20fcCO6mdze4CnYDfATUFwLNaEH/yMAnByY52SkdMLKOCZPkRk/gRqXBQZ87\n",
       "eaEt0EZCerIb1LHgvXZDNJBWt05eF61PHukZgY5OzXOypxsJpNgrcznQsYh2snF0dLNAxx11bw78\n",
       "QEzayWqGrfTnNcs960EQDuFD0QjQTsJrlwFaAjPINKRZnFZPsVsfDxUURzvU9KRbSz3LpJdgqCB0\n",
       "/0LJYwsP/I8gaMyTAD3/KFm6pZv0aEunvDPw0sEuTALKepWkz9hdMScg7K5L/7nuW18iuDXUGOAw\n",
       "2kKupZZp/M03HPOuyf5Y8BQUcBhd8eQUbrSy2C/BJapW7IWiGavS1MWqyo4UlPRqbKLbj0zrsrqq\n",
       "6Nww6ton2LOoJxzPXDAjgxRM6Nb4in0iCEmb9tTqU+/CE1hmsJQ11Y4MIs8D1oib/SyIhejsuS8f\n",
       "h5e76mwlMNlBQP2iPB+iAbxn8UYo6OiOV2kgfLOqHhina/fWdXPi/lzkhIJ34qmyv/OZUdLGrIyD\n",
       "w8hugT90u9S09ki5ohtir+DdP8+dLMtmdAx3EKuQM1Z54YDQ6IviUnG7pNxak3Am77Vix508COdp\n",
       "VISPWkvRCshgADqrk1EqKzwI3agpNHBZAQnvyfYIdWPpm/+TBxXbfUJkSlYSN0251SlroDUu8SAT\n",
       "HwWEgUFW5MdbIeb9Bpxv0R3ReuRDBt7W6J8Mv2t0ZKlAanYE9OSNr0yQgKgubn9q8SoZszI7Jx7j\n",
       "WNRHy9DIIG/yR0vpfAcDafIXDZmK5AG3PAioKc/W6haJIz04CCis8zrJvaMvRuekqpFfOv239l1o\n",
       "j9+Gwgl/jQbaUF4M7qWmcA104hdym7QJSwAAAABJRU5ErkJggg==\n",
       "\" style=\"display:inline;vertical-align:middle;\" /></a></dd>"
      ],
      "text/plain": [
       "<IPython.core.display.HTML object>"
      ]
     },
     "metadata": {},
     "output_type": "display_data"
    },
    {
     "data": {
      "text/html": [
       "<dt><a class=\"ProveItLink\" href=\"../../_proofs_/extension_range_len.ipynb\">proveit.core_expr_types.tuples.extension_range_len</a></dt><dd><a class=\"ProveItLink\" href=\"../0d81c2c3742136d5d477c9f00b8ac0bdf51724e90/expr.ipynb\"><img src=\"data:image/png;base64,iVBORw0KGgoAAAANSUhEUgAAApsAAAAZBAMAAACMW/itAAAAMFBMVEX///+IiIgiIiIQEBB2dnbu\n",
       "7u5UVFTMzMzc3NwyMjK6urpmZmaYmJiqqqpEREQAAACk/Np2AAAAAXRSTlMAQObYZgAAAAlwSFlz\n",
       "AAAOxAAADsQBlSsOGwAAB1pJREFUaN7tWV+IVFUYPzM7487MnTuOPqzEJg1j/oEozLQiWpqk9UEQ\n",
       "rmCCCDrigw+WDBm9pYNRIJjOi9XDSmsKJtS6G1b+2YfxRdSFbZJcwgJHYm1fWixYqgeh7/vOd869\n",
       "554710W2P2BnmbvfnO/7/c45v3vuOd89I4RV5pVXiP/LA5SF5VZEbfYfaLkOf1gygbpMuCKeoGN0\n",
       "vQMk4wPqEa4Y5Gz6gUa++e/ImWiJ9WQsDlSSnSvOlqBTdKLVAYPBDFgfcqUGY5Ex5bjCH5dytvHr\n",
       "jyE57cq5Ld/xiNwKXp1XPLYTw4bAUeVsPxMIsc8zoyWPcpnlDU/er8UxciKyN6bpMGn3UnULAI8G\n",
       "yHkBv34UktOunNOSbvCIttDXdXtbbCcrIuvFQlO7+phAiEeEGU082mU0uPtjTwZLQKSchHw8pu0Q\n",
       "6ebzM3A9qvBHSc638NFvh+S0K+e0OE0e0Sh97RvytC3yw7HQrpuTTGBHE49jrF+fKeMxTwZLQKSc\n",
       "TnN2vc+puATKOabwYyQn3q5UKySnXTmnpUuNaCV1b0ZoG8qaWOgZTxFY0ZKnywj/NignBa/pKGfX\n",
       "LHvvFoNydnmMBwPkxN0oG96K7Mo5Lad5RDl6MFMloW0oA7HQtZrAipY8p2PkHFCASDlPP5Cc2Sbj\n",
       "s1LLVeXyamtntyrntJzlETm4E+V3Lhtme+MIroBxyMurdiuC9IK2Ec08vsuWc50CRMoJyHRv58RC\n",
       "k5pypqqMBwPl/FqISUtOq3JOywCPiO6smE/dQ7tyAoyrsdBfNYEjXjSjJY/vsuW8qgAk5xdlLMu0\n",
       "nIBM5VZ2XvAVqSlnvsF4MFDO90SmaskpK9MySa1JNixw/12V7H4P/kT041BHELSakJBweZJHlKTl\n",
       "+Qjxg51pnQfjepyamd81wRVxz4yWPL7LlvO6AkTOTkC+7zQ6Nq1JTTndEuPBQDkLnkwTLjYDcsrK\n",
       "lAQux0uBTJjv1zg4P4h+S6ytozJkOd2AYc5hIfE7O5h4lmNe4BF1Ubp3S25PgyJNc29/7Lp1VxMI\n",
       "d8aMvhVy4fR7hqeflHO/AkTKCUhvfsxbBJE65fISWAmrWs7uu4wHA+V0i7TpzLtWC8jJlYGi5ExX\n",
       "OXgzVZwMN/raKRkCm0uF3CBnd8/0oFvtF19GyrlWySk7fCI27Sz5mjklM3ptyGXPzhMK0ElOcSsm\n",
       "61Wk5uyk5QHxYNBLZuMSrTx14yVTVkbI6Qxy8AUZHG7/DyFDZIYLbpDzItwp95IjKhxzTK2d9LDf\n",
       "kURgZ6v3e9gLVU2AOb8RfSfkut/DHl47EflBTNuKNP5hFxswsXd3bjDkxMpcD+1ova2gnEkVXCJ/\n",
       "ODudWN3CEAJtIHdbJLAV9+1Pi2qQt3lEBerY01IosLe3IGIcv9mTJC3ncFETiCOowbh2MY/vsuUc\n",
       "50/07ARk+l5KsQWL7I0iDW1FbbUVtaWc79AdHzePQLAytR15HLcRlPMgB2ca5HdDiyeyH2TQDwLd\n",
       "bbGNOlHrv6nkXMcjoiSDdxe0z2SgP5gspf+Ey/YGG/qb2m5ktvMNXka0i3l8ly3nCH+i5QRk7u4h\n",
       "yabb1oZPasrpFBkPBslZoC5eNOXEynfpwXg1NRyUc4iDc23y50Kvog4EDzFoiNxt+abn1pyEiv1E\n",
       "pfElf3dBu/AoGHTYWobRJ7HdJwRfkkv97YYIxB7B0dLFPL4rKOeel5YVZfCKjnIi8nZTsum2ySh7\n",
       "QVIl57yfftsBAXXGgxE4oBuIOKC7LYTODpWcExzsVsnfHZITgyf4/z5yt8XV6enplltLV1QWkqzx\n",
       "iDBncDhNW86pEC34rv2038DLVz4BPdwymlzMo13m7FTUEhApZ7IWaMjc0z0RIHWN3f+Awh8wzjuf\n",
       "s+VMz9T8TUrJuY+DQSj0hx/2rhrJSCD1sL8pZ6f4vBg4uKARjYH2WV59x/zjEeifvYBV8BYe0wSv\n",
       "52d0NC4iike7zCMQRS0BkXKq45SKnU/AxyfNGUclowo/GpQzPWPL6TYqaeDeK8JbEQWX0C8SRQjZ\n",
       "JNRF4HKLIQhaAMtLESAFvLmQpib068IUj6hQF09tUZu2TC0O03WjvRXBvUhOqvk91X2P3gEOK5fP\n",
       "o1x2Oazpo887p3RDoQK96UQqz90Aj4YvZ64UMTt31Lv7hOgx5MRRU/AU+uErhOytdz+Plz65AGFI\n",
       "j+wemG2R+RlXpg91Ri9wc6IRpdvi0jnVmvTKd1v7rCyPn966Jhi5oKPR5fMol10mNX20nNt0Q6GC\n",
       "velASlMF8Wj4cgYODo0E3lWrqpITk3MKPqmEcYPBY5y/D0h9tpGGm6anB8172hSLyDgUqCQ7P7vf\n",
       "azKy41HRmU7HlhjMgEXhH0RqsciYckXhrwR/KypM1KLlvJE9tdKQU5zjYId61h9cum+IX3bh/3ME\n",
       "Snnk/vtOof9zRcuZWiCi5Ww6vZ4pZ8rj4H65IgYezKZ4mRae1FYEXZPuh1FOI9eJ/J1d/nZaD7yx\n",
       "pP0XksjXCE+66w+NmguXNP8Cl08qQWMap6MAAAAASUVORK5CYII=\n",
       "\" style=\"display:inline;vertical-align:middle;\" /></a></dd>"
      ],
      "text/plain": [
       "<IPython.core.display.HTML object>"
      ]
     },
     "metadata": {},
     "output_type": "display_data"
    },
    {
     "data": {
      "text/html": [
       "<dt><a class=\"ProveItLink\" href=\"../../_proofs_/merge_extension.ipynb\">proveit.core_expr_types.tuples.merge_extension</a></dt><dd><a class=\"ProveItLink\" href=\"../056c2ce22716c79378e67d5c284f55ba625703b90/expr.ipynb\"><img src=\"data:image/png;base64,iVBORw0KGgoAAAANSUhEUgAAApcAAAAYBAMAAABdO8uGAAAAMFBMVEX///+IiIgiIiIQEBB2dnbu\n",
       "7u5UVFTMzMzc3NwyMjK6urpmZmaYmJiqqqpEREQAAACk/Np2AAAAAXRSTlMAQObYZgAAAAlwSFlz\n",
       "AAAOxAAADsQBlSsOGwAABrlJREFUWMPlWF1oVEcUPrvZm93s3buuL4GStoRUTUEsqdgqpYGtNL4U\n",
       "4QpWkIKu+OBDf1ia0rfqYmmhYOu+2JYSYf0BW2g1EW01phBfihrQS6nB2kKvlLR5adBC6A8IPefM\n",
       "z/3Nzd2HlYIXzp2Z+535zsyZmTNzB+ABPQ0p/nLgQ8JT8FWJh5a3F1ehkMjQpqEGPLAn4wjxlwGO\n",
       "pav8mEiOLQ1Fn2MpKnC+WGmnDUsbInHpw88dd+YPUgDOjahyX8C9cY/5oo1vq4qv/FxIm3kYgv12\n",
       "sFp+dXT05CMqeLyZ8aXd1J4hkkn6+GmnfWk0hQDk9g3LMqwCOJJcbcsouWMnT+VmUFvwMASPBGvt\n",
       "uLgIQjlKvzPEm61Cj53YhtSGUN6meOB22pnmtBCArttzoPIAM8nVhk9TR6dU0a8teKb82sVpFUMW\n",
       "pXKUfirKWxpPbENqQyg0Ljmn087skgJwxgadxzRxVhQXORmCGG3BMxRYwhV/H0k5Sj8Uw/tMYtNT\n",
       "G0IpoZd7Oh4yv5ACsFmX6emZTlxh/dz1JsRobw5C0T6ScoReVAjxjiU2PbUhkvUDAxs67sxzUuC7\n",
       "9a/KstGHTcrVEiqV9q6hFWhS7N/2OAS0BQ9Dxko3ro+kHKHnCj7ebRMUQZNant4QyTcAcx135pie\n",
       "APdUOVfEpVNqJtVaUdHzcbxrOqh9T0MmPB/XR1IWFc4O0LPGm9seb/UEZq4mNj21IZL3oeCNnyGO\n",
       "nnUeRVDvWxK9hXgm1qKF9fKANgiOCejrpEDhL1X+0ETjVn9SPw5zO7IY0UuNFU5AW/AQBFfgflwf\n",
       "STlCzxU83oJzETPfJx7WUxsiKdu5FrnxEjk/J9QG6VUG+S61BIwp4hFXvYI73TUyWDeFJ+ViePNc\n",
       "K/Os1HlOClh3Vdmm+ZG/m9SRX8S20+K8HdAWPAKyqEvmwMATGLFquo+kHKGXXCpv8Lw7kNSG9IZI\n",
       "rArvP93X6iEa7cwdEt7BH06Gzb12Cgwxt4tVhtGZ+d6FllUbgfNhZ4rYz3lyT3Fo2dgvO3IWAtqC\n",
       "R0Bmf9yEIeUIvajg8bJ7Tiy/CaYxxMaalzmORP4ttTMnJTwpttTwceNvtNIS2SMMozMv4chYl02o\n",
       "Sp2jUqBc0+WPYbll/pswyEtzVVBb8AgoW01e5v6Y6QR5e2rLLfP0htjYVjq+W3u3kpN7OXD2OQFn\n",
       "9ku4n/HwoXR2gwNZ2m+/RSqGXchQyLDe+byinHlHCnRVVNm4n8MIQiHBiHZBDNjTogVUpfAvSG0B\n",
       "CR6G4HArdl9wZYWAaypB3t0OtvB6UhvSG2Jj77Lvr/Oc3k0MptX0O7PQFDCmhFuhoEkcH1Cw/BHg\n",
       "JyDYhV1ssj5yWzlzizqBiNhP+eLdQ2iKmrWb/jX/kRmvpDYrPt+UKHSRtoAkjzj63Ig9/pGyGb7E\n",
       "4Ao+3jMFHPaJiGmvDW0YYmNlVr9Er/d4xr+cG/c7s+gKGFPCi6HRNlH5NNq2X+IUYRe+FM40M0r3\n",
       "uBQZ+zl/B/uRpeCSXY2vtZQZV68B29usirR8uomJtRmSPAzBG6E+dv/65x6hnA3HLq7g4y0/ipkn\n",
       "VRvY9NpAG9ow5DM2ppejOo0pZ1o1AVOKeD7kTFKelQz7GXbh6sLCgmPVjao6GGbrQuBrr0zPQX7f\n",
       "jO6hvELkkW1QrbaDGlI8g96q9U0YTX0wQjwY4qWJ2p/QhjYM+Yxt5Gi5WPc2I+VM9t5GdhPh4WXe\n",
       "VWcn8kaklvlbYmbCV8oqXSagWLWjwcsFcX9Qje6hFIx7HHW/0e3c0DcTBGmeGYDXS4vh+wdNPRUh\n",
       "ngnw6kuYpdrQjiHPmIGK28FqVg1kHYXwBkQwpohDpoKKqEUvUqYwSxtQHk8GK4FgF8+uwMfTjP4d\n",
       "mGfJzjV9ZXVdZUSvZ7ehPLVT7RqNA846rU2Q5ik38vezsdc0pBxzG1Zu+Hk5+SihDW0Y8hmjoDDq\n",
       "GHsa+WGA3qAz52XMmAfEqQmjTn4TjDbym0j5uGwWOW6esy4Ufqe4+Ik+vwNvSbug1NfwlUE4HUrR\n",
       "FtLQX76gBto1+1pamyDNY7gwMRl/pLFVheDFquvn5WQuoQ1tGPIZ43XHnrdU/NTOPCnhk9oNeogs\n",
       "sVjotI6xk1q3iz24fWGhFRy/aSH+Mv2gpXoOieTK0lD0uZKiAudLjXbasLQhz1h5tq4i7s2eU0NB\n",
       "Z5oNhjGlDyNKUYTtP/ZRegE+w9iQsxnu+FXz//zJrdRTfdrss4POhBGG2VH8o17yLYUXONjk7Inz\n",
       "/IdO8MPuzNjIqt/q98CI/1XQvwu2gBsPq8f+A1JiKLEivhQYAAAAAElFTkSuQmCC\n",
       "\" style=\"display:inline;vertical-align:middle;\" /></a></dd>"
      ],
      "text/plain": [
       "<IPython.core.display.HTML object>"
      ]
     },
     "metadata": {},
     "output_type": "display_data"
    },
    {
     "data": {
      "text/html": [
       "<dt><a class=\"ProveItLink\" href=\"../../_proofs_/simple_range_len.ipynb\">proveit.core_expr_types.tuples.simple_range_len</a></dt><dd><a class=\"ProveItLink\" href=\"../eecb5c43b7cb798181443b4ae94ce86d6d65dcea0/expr.ipynb\"><img src=\"data:image/png;base64,iVBORw0KGgoAAAANSUhEUgAAAZEAAAAWBAMAAADzzbywAAAAMFBMVEX///+IiIgiIiIQEBB2dnbu\n",
       "7u5UVFTMzMzc3NwyMjK6urpmZmaYmJiqqqpEREQAAACk/Np2AAAAAXRSTlMAQObYZgAAAAlwSFlz\n",
       "AAAOxAAADsQBlSsOGwAABHtJREFUWMPVV01oVFcUPi+ZZ96bmTeZbkoXhg4jxoJYYukPFErH0mRR\n",
       "CExBtFloprgU5BHFnTRYcCV2NtIuLE10o9CfpFjUJotkp0ZkKm0gpdAUSetqSAtBuus55/6+3xm7\n",
       "8w5n7nnnnfOd99177n33AcSbUw8hu3n4k4pt5DYLfTVP/XkJoGdC0+GzGQ9dmMsLH1H3RyJGbvP9\n",
       "MWHvYlVISj5hcDq9cHT4vOg26fK3CFCFumAlLTpoyESoYCu935T60N7eyY23s8B8RnKY/Iwy08wG\n",
       "kxDkTXmx+5Euv4gAlQjKT53dKZVoii8nTneEfuTODiqX85lobxhogI9PSZLBxG2De/KrHCYSgr0v\n",
       "c3eWam0zAjTUwu5SavyyyrzMl+9825S6Q0zW8pkYb2zlBSEZTEpUEi83c/F0+Bp3RKzQiQLR2E6m\n",
       "Bo+pzGNcqTvKKJgM5ma2vKm9ISWdySD0ZqLDMS92ZSTvx4AeYNdOfZi2TFTk24WaMgom/kpeXsub\n",
       "2hUp6Uxu9MNEhWNe6l6r11+PAQ3W63saqWu2oSafbpdPjC4onZkUWnm1YLw/XKRVIyWdyc0eTDQE\n",
       "eWNe6m4BbMWASiFUEOSjRDwNOicSoz9cVUbBpNzOG0Hj3biGyj0pgsn3dWqjmsmVHkw0BHljXuou\n",
       "gEdD6S6taCZouIDaIWGYuTnnvCk3jI5MNMAr67NQGQWToJbHRHt7nTuoPJKSPicH8pkYCPLGvNRV\n",
       "mhy6635ogLbgA3Ex9GJ3LmiNww/icnBOLUhO/7s2CiZD23lMtLcLf6PyiZR0Jm/nMzEQ5I15mVCV\n",
       "F/zwrAX0k1rwS0gvWC1BI5XJezEmxbE8JsY7IOdrUv4XEwNB3piXg9qrdOfEpAXkl7Gm51vgUMUF\n",
       "565XJRNfVZfP1fWnNvZTXcbbbyWqK75OvuzBRENY1QWT/Gp+aA9JYQMxxnfgONMPx3+VTCpVmajC\n",
       "q/egNsoVv8kTn2jigYz3dKchEj7MnJM/FJNmSmWBBcErflMEfcp755IN5OEK947V4GvBpOTIQwBt\n",
       "sxzD+633VBsFkxJxmsbCdP+1Ff6zvb/zcK5pG13MZDIhmRiACK6BIG/MK8Y3VG8ZA/SXGL173W63\n",
       "E4RuQy6bYk29GamOgm1t3PX4n49xX6K1NoBnSdhPyoJUoN6Meld2o/KKlHQmV1FOvTtaFbEROE6g\n",
       "Icgb81oobyVO9dNH4YyYE/imKm371P19NAUtbRTtPP//klyezaS3VxOSwWQgtGOjTSXQ4edtFHcn\n",
       "wWSjwO9HKOO5Wb2819R9VNb9jjbq8yW9tJLnFEh60xGRj4npTPh0qGLjb0UwEOy9bKMUawkmR14C\n",
       "j6rs6ucA6rBcUfOIyqtTxijGiL3cavJogRL3vqTO2xnfJ0+s2NiKVwlUOOU1KHoMosiHu91IIlfu\n",
       "EqSs3jZG8YxcCOXkINLYxb23pGQxOW7Fxg5wSlHhlFejVNb1d3Ah9zv+IjihVGwjt7v9ff2yd3lW\n",
       "CCg862uQDd5KLxwdjnmdPYpJ4QV43tt/V8ReBrfxFIcAAAAASUVORK5CYII=\n",
       "\" style=\"display:inline;vertical-align:middle;\" /></a></dd>"
      ],
      "text/plain": [
       "<IPython.core.display.HTML object>"
      ]
     },
     "metadata": {},
     "output_type": "display_data"
    },
    {
     "data": {
      "text/html": [
       "<dt><a class=\"ProveItLink\" href=\"../../_proofs_/simple_range_len_val.ipynb\">proveit.core_expr_types.tuples.simple_range_len_val</a></dt><dd><a class=\"ProveItLink\" href=\"../838514af6d4ef81cce6ea4e563e0fc5cd1a2489f0/expr.ipynb\"><img src=\"data:image/png;base64,iVBORw0KGgoAAAANSUhEUgAAATYAAAAWBAMAAAC4Sa0YAAAAMFBMVEX///+IiIgiIiIQEBB2dnbu\n",
       "7u5UVFTMzMzc3NwyMjK6urpmZmaYmJiqqqpEREQAAACk/Np2AAAAAXRSTlMAQObYZgAAAAlwSFlz\n",
       "AAAOxAAADsQBlSsOGwAAA79JREFUSMfNl01IVFEUgI/je6nPmXEycGM/MlQWIoQUgRANQS4GjAna\n",
       "tEiNFi0EmVq07WXUymw2RQst+9m4ykAS0sW0iVIIk1KQIF0IIiS2kGgRdM+55953593nw2VHzn33\n",
       "nnM877v/bwDCUpUtws5SK/5IfMPos2t34qti539DT2OrbXfG4hIfYH/VvNEbWfcyu0KT0c9Zo99H\n",
       "njys4ON7BZtlCiSV41xfqTl5XtVvFpA7XoLoZiKUlDab9Aq2d9h6UsFmmQK5zLncEoVePyPrbv8z\n",
       "wVZXiEXT0QCHAR6B1Ag29ubhFk75SgWbZQpkhnPVl7FVvbym6ocEV3Iils2IFjLHGr2G5ogNO+vM\n",
       "V7BZpkBOcK5qar2mgaI6ssGpWDYjGp8FqdFs6MlDUvSjrnIvWCYtXolzjVPzHJXjmm0kls2IFlJX\n",
       "lhrNhp48QEc2ezK0T8MmLfU5zjWJrQ8d/aDqxNYVhxZEu81iRzt9Ui027RVsUwBrITZpcv3I7lAu\n",
       "OUK/qBzRbJ9ix01HO55YGsmSVF6/WRJiVV7Bdh9q0eROlzWbNDnyvKppy8O+PulLzHOudjo1f5Ox\n",
       "XbMtxKEF0Q/qxZtTLVKtcdNewZYukHfPbFGzsUnIjYENWHQK9Xw6VI9xrk467LbI2KnZbsexBdGF\n",
       "BtHrmi2pFpv2CrZUhtZ9gx/MKZvEUE/hKZyZcCCKzWkJsb2MPd6C6B8iGGcO1d4LyivYoPQee3Wt\n",
       "27iz0OQ1AexHw9LyHcVWp+Z0FFtpOdOju5tTI/oxhOfUWG/ai2zddDx/Nu9TNDm9BZcO4CXnyiuV\n",
       "P8O5VmkU5YJc1WyUw74cXKiMdv+KviZXpNr7VHmR7S7RTptsaLq3AB5tjyWYOKh8fZyLTouHcoV2\n",
       "abY3mPqPKHpLXAQtI9rbGhIjlZFqsWkvsqWLYJ6bGEumVUg+3dz8KdguqZPYa+FcL2hhSCPWB84e\n",
       "FdmOYTMrKBN4e1HRhpUjoehV0eeEL9Veb8qb15bT4W8kd7tYk5Pj5n1Rzlb2JxD+LR8s6nuvllZ7\n",
       "yp7Ub2BHD7JG3wuDYLC522G2VCknD+VZgCbjDia/uNZTfaPSpq94eY079ptEF63oGdZothmTzWux\n",
       "xu2qD8Oik97xIqT1ZvPZvw6JtRIb1/k5TOVFey+I6Q5H43eO/NaJYiOPZgu+b8xY98LmRuVrVtjf\n",
       "A8lmdSL28FNefWXrTUnUUHS6IDWajTyKLb2ofyQ4sb8XhqCK3LUGAteT/q6+yWX0R1bgfJWCnsZO\n",
       "BbQX/j/5B5JjEsdcq9zyAAAAAElFTkSuQmCC\n",
       "\" style=\"display:inline;vertical-align:middle;\" /></a></dd>"
      ],
      "text/plain": [
       "<IPython.core.display.HTML object>"
      ]
     },
     "metadata": {},
     "output_type": "display_data"
    },
    {
     "data": {
      "text/html": [
       "<dt><a class=\"ProveItLink\" href=\"../../_proofs_/singular_range_reduction.ipynb\">proveit.core_expr_types.tuples.singular_range_reduction</a></dt><dd><a class=\"ProveItLink\" href=\"../90531ae7d02db7d2beb8a3d0de8cf07c5ed560310/expr.ipynb\"><img src=\"data:image/png;base64,iVBORw0KGgoAAAANSUhEUgAAARsAAAAWBAMAAAAC6iV4AAAAMFBMVEX///+IiIgiIiIQEBB2dnbu\n",
       "7u5UVFTMzMzc3NwyMjK6urpmZmaYmJiqqqpEREQAAACk/Np2AAAAAXRSTlMAQObYZgAAAAlwSFlz\n",
       "AAAOxAAADsQBlSsOGwAAA3RJREFUSMfFVj1oFFEQnlx2zf3t5eyEGDgO/0AiMSiCEDiDsQtsGjWF\n",
       "5iCFhc2BYOsRwSrqNYqFAU0qG5NA8C8pkkaiQjhEA4qQpDhJGYsgFoIz783bv9ls0jnwzb3Zm/l2\n",
       "3nvz3izALlJHpCO2VntL2qj0bsyCtZ7M3tZE1R2x4fn+0lFx2aJGLLNgNdigBz9E0BeEU6FR7qLL\n",
       "dleIKk60L8W1zaqkuiGWGWB+EEKsBu/o8ZNojN1ANaKGl2412T4C8Cg5HeWr4lIVyGBqhBhmsG70\n",
       "Q5iVcZu2eENMcwnVohr2v3TZRvmUnI7y5TjIz2rEMEP79xaEWRmUvyX2oJ1UryqBHc+mXzcpG+2r\n",
       "41DOMiQzzLhRVkYeM8wI4hdErpe1ZGySzFJSOtpXx6E8ZQhmgAGIshr0lctnBPE8LSVVcn7s2Ky2\n",
       "7S48JlY1IRv2pbjhOaokhmCG9303IcJq8Bqg5TlfDUxMr0RnkW0ri5uQbyStjvaluMo0Dj4wIFdW\n",
       "UgVvuX5BlNXgHqTJz16gt19g4h46HKqiHtbYvp9DZ6eUlI72xbh08y0OPjNC0qOuyN8QZTUouNYz\n",
       "/OvAx1og6DwVGD2GdWO7NPeO7aR0tC/G2Wr6dxghIWZwtgWrgVNUldxZh9h0Bjx7HWs/25uUzoBJ\n",
       "Bxw6Y9MMmY6u+RCrATSWKd+xIbqmTaVOUg2ozfrp2Y9hr83SvhSXqQY3K1g7xASFqmA1gCF11a6S\n",
       "Gtxh4k2KUYV52tj2XwuLjS5MWyairyPtS3GjzYqmXI16bqoFLApWA7irUl2gCrtmJk/nUx1qLjq0\n",
       "s9sTOE/iGcXqs/8AK88yvhQ3k8aDQYd9TvQRv+ZDrAZQqHkHsGA68BRdZyW/6MjexDekqMJSR1Gd\n",
       "BFYpumvKru9LcYXDODjBCMmUX/MhVgOWc6RGr7CVohSP07ZXfRtlXOmvYrMc1/dVcbRYJY2wKKZX\n",
       "IFjHPXbVaHfArsA3C/z2Rx1tTdez1wp1d6zI9gC+r+mz1CBzoqkgk1OdBMG66PdevcId/XD5kLG3\n",
       "aOvqcGokYJvWb8uPqmGE51vQa/6AEZEtSLUagtUgsBxOIOg6vXYDlt8EbLoyla98By2C52tr2hYE\n",
       "20+AOd9VF6wGPKG1Wrgk6GTARMSGlf19nKq4fF1DfEgvxbGuhNitgzzF/yz/ANPS+vTu40wJAAAA\n",
       "AElFTkSuQmCC\n",
       "\" style=\"display:inline;vertical-align:middle;\" /></a></dd>"
      ],
      "text/plain": [
       "<IPython.core.display.HTML object>"
      ]
     },
     "metadata": {},
     "output_type": "display_data"
    },
    {
     "data": {
      "text/html": [
       "<dt><a class=\"ProveItLink\" href=\"../../../../logic/boolean/conjunction/_proofs_/andIfBoth.ipynb\">proveit.logic.boolean.conjunction.andIfBoth</a></dt><dd><a class=\"ProveItLink\" href=\"../../../../logic/boolean/conjunction/__pv_it/0d65bd74d5c1a85d6944d07cd6350782d975041b0/expr.ipynb\"><img src=\"data:image/png;base64,iVBORw0KGgoAAAANSUhEUgAAAK0AAAAXBAMAAACL0NJjAAAAMFBMVEX///+IiIgiIiIQEBB2dnbu\n",
       "7u5UVFTMzMzc3NwyMjK6urpmZmaYmJiqqqpEREQAAACk/Np2AAAAAXRSTlMAQObYZgAAAAlwSFlz\n",
       "AAAOxAAADsQBlSsOGwAAArhJREFUOMutlUtoE1EUhv9JMnnMZOKIK0Fp6EZEF1FEXVjJIohQSscq\n",
       "gggSXFRKFwkU3DZYEAQh2US60URcdOOjYFF81diFCBU7C10pGBF1IaUVbNNYSzz3MWE6tdFUByb3\n",
       "ce757rn/PXMCbOgJt7TmsNFnu2gu/d56nd4q67xrE2skRVvyzL9qfO6/loViAw/ZeLRN7imJb8hx\n",
       "j2M4DARrQBE4z9Sqtsl9LBo9I5RUdzqyfwO0ZWAaiFhAwG6TmxDN0d4sb5XnZTERpVijxPZbiFaI\n",
       "3SZWK4jozA4RkC8kDxycJ9hBegm6t7NzX5tcXVybjvcV3nntXJC/CvUsnSGQBu4Dn/ik5fEel626\n",
       "hhsRuFsYFhuM4q0wDH/YPMBsUTrQRYTT3P0AN91eTk0K1ZzLPM6H2txE9xc547PlxnnuGUrDJ4Lq\n",
       "yME4xBIlDsSsAFc9sCKkj0NJrOL2CsoUsEXO+LmD8vVRhq8JUsaa3PCRLacwQqSzYYprG9sjpB9H\n",
       "dN7N1YaEzyAws4p7DNgUl9ms8g4W6Z2h5RqLrPCMz5lXhI+Nvoqbq0T4YdEFdbejry319yWcr+IJ\n",
       "F+Qn/WTKQgf0FLk7HnCf/Lbpc3BzTb0gUv7lvazkxtgJNJag/GRxp1IoS8SuMzGZ7wiPZ0yqNwV1\n",
       "0M3VskJu0v2kkyEsjTDCNlhiFrZLjO0ZoZU3WJR6cwoTqYwlZcyXXVw9dWRB6h7+4XwXFOGZRhHG\n",
       "XD3JLp5JQJ1gabF/YJYnTLNSKoTLChlxx51nJsI1qbtWc1bv+MOHc6HZu0mXa6tJhBeg7nLpwFRc\n",
       "wQna1UKfowOrK39Tl+i0+6E+vRrqwtbvqUnbxb2bxum6PWQrpVT3bNMv1vofYU19NNwDt9FT8NTW\n",
       "hTXmLQlv1uEa3oWXW3JfeCcq63Cj+I9P7l+cfwHI9aougK8NwAAAAABJRU5ErkJggg==\n",
       "\" style=\"display:inline;vertical-align:middle;\" /></a></dd>"
      ],
      "text/plain": [
       "<IPython.core.display.HTML object>"
      ]
     },
     "metadata": {},
     "output_type": "display_data"
    },
    {
     "data": {
      "text/html": [
       "<dt><a class=\"ProveItLink\" href=\"../../../../logic/boolean/conjunction/_proofs_/anyFromAnd.ipynb\">proveit.logic.boolean.conjunction.anyFromAnd</a></dt><dd><a class=\"ProveItLink\" href=\"../../../../logic/boolean/conjunction/__pv_it/db5822e7e62619c0689dfee9108b116a3856edbb0/expr.ipynb\"><img src=\"data:image/png;base64,iVBORw0KGgoAAAANSUhEUgAAAegAAAAZBAMAAAAIx6A3AAAAMFBMVEX///+IiIgiIiIQEBB2dnbu\n",
       "7u5UVFTMzMzc3NwyMjK6urpmZmaYmJiqqqpEREQAAACk/Np2AAAAAXRSTlMAQObYZgAAAAlwSFlz\n",
       "AAAOxAAADsQBlSsOGwAAA/hJREFUWMPtmF2I01gUx/+xTZs2Se0ojgoyDl3mSYRZ8WPQUSJ09kF2\n",
       "sKvzJizRhxHxwbiz+CDIDojzaEXw40UNCuqDHwM7i/i5VdBlddaN7Prgx0NF1CfLCI6rqLjnJu00\n",
       "6U11oulD2Q0k99zTk9P7y73n3A8g8LUhM4gmvoTM/M94aw+a/Br9H/o/A11kxcNg0ClWqIVmg739\n",
       "4Wn/YYNBX2DVg8GgZZOKRPOlsxVA7B8GvY0qUjEYdFynYnfTMUsvgORbBp3IAVErYEzvo6K36aAV\n",
       "6mXlBYNWKDQTQRPZaFPms9gYoXbZrV+QySwMCh3JZL7Smg46UoS4wU5kOAc8CQotG0jlmCz6m+Q+\n",
       "u2FyRQjdM/DTo5ZNBWeeHoKke3/8YcQUFtfXEDS9MWTLaw0/7+ISd+3M2+wVx6x1pKfHZ124Ods3\n",
       "wZKqCKF7BuYOQu12oFO5qFn9Id5aMlW9B7/U17BgfoJVtrzaNwVG33vyRzuETiYctZDq5IyTtBR+\n",
       "DA46dM+OvNoZ3mranccuklK9KkOrr2HQd5w8lhxI+zXtxNee/DEMZYytZhbRPcwZ/0V98YCDDt8z\n",
       "8IruP9PlNHyVvtmlra3CDQMCG/PqjpNphnjrt5Zhr2YCOqHYbRISul/T0vs9+cPCGuYkT30X5/pP\n",
       "Yn23g4MO3zPi7+ixxXSge2nWVY4VIrqg43t7gWn03GeIN7vR5dVMQEfv2bGSlv0mLgHn3dX8nFsb\n",
       "7S2p/zzS7qlWoMP3DOE1gb8pbzh20jfdNQ1TTVnDKQdRFmiNJn3XjnGPpgot2WktaVBISVzuP4Hp\n",
       "7uo1iJtZucz5/jXmkWE/6AZ4RoKi/ti+MnSKJcD1GMAUC7+XSiVLNUSNkcXSyU6vprrLembPL9lv\n",
       "xrG9o7ZpI9kt7pmF2pVnqZKFo8qZR1icWLXQDfAcO/Kqf9Nzz9ZyCdqQj+NHp19xmr0QMWTN8Ghq\n",
       "tpZpSLSy6+DGIPKGcnn0wt/OdLIcOMukfrqvc+YxGmdKTr38h+aGboBnfj8tjVFf3446Sw7FhKCL\n",
       "GvKYctqoajjoJCWR9/Z/9YHMyw8WEFOtZBuWqhrTSOMQ5zFhLTkxOHNxKTATahs6XdCN8MxDJ3Xa\n",
       "Xg7NgMSG7dEDQDG+HMchfOvScNA/61j3xmL/NWDFuzAwyB6WvBjir4fwTNwTM0FeZr/MXrGYIF5c\n",
       "OQOoNce6kRb6rhvjRRd0Izx/5OSkr1QqL1VUTlPn5KTDEzoVqV3VIkrVS1WoYy7c9C5OQvc8qeOi\n",
       "u5M8Ltq6zII6kV4qkqgLZmyWy8vdT5irvRx0uJ4nBV0IcEam+Eg1XgqTMvf2dKiev+xgcG8jz72l\n",
       "hm8whUz3v5vmdOG9y87dAAAAAElFTkSuQmCC\n",
       "\" style=\"display:inline;vertical-align:middle;\" /></a></dd>"
      ],
      "text/plain": [
       "<IPython.core.display.HTML object>"
      ]
     },
     "metadata": {},
     "output_type": "display_data"
    },
    {
     "data": {
      "text/html": [
       "<dt><a class=\"ProveItLink\" href=\"../../../../logic/boolean/conjunction/_proofs_/someFromAnd.ipynb\">proveit.logic.boolean.conjunction.someFromAnd</a></dt><dd><a class=\"ProveItLink\" href=\"../../../../logic/boolean/conjunction/__pv_it/89d22ea84780cbcf9a553fd6c0697a0fa4b815380/expr.ipynb\"><img src=\"data:image/png;base64,iVBORw0KGgoAAAANSUhEUgAAAuwAAAAZBAMAAACYzmZMAAAAMFBMVEX///+IiIgiIiIQEBB2dnbu\n",
       "7u5UVFTMzMzc3NwyMjK6urpmZmaYmJiqqqpEREQAAACk/Np2AAAAAXRSTlMAQObYZgAAAAlwSFlz\n",
       "AAAOxAAADsQBlSsOGwAABvRJREFUaN7tWm9sFEUUf9vr3m7vdo+raFVs8NKkMYAk1SigUHMkLUYJ\n",
       "cpaGhCBw8KGkkNhFjB9MkFOiCV/oRYLygT9HUZFE5BKrRP55GP9SlDOgjcCHI0YhJBwlERAQ8M3s\n",
       "/9lZ27IQc5GX7Hb21zfvzfxm5s2baQGCyqKGDNyR4YjQMD64kez/irLMLTFw6A7tw5uoxaAWtui0\n",
       "l8iPE4FoD2yicuQoPj/e+KNjkzbkKsq56x2dp9wDdwh2k/L6QLQHNlExItKl/RRA+JINzuDrVpsL\n",
       "I4TTsssepnWU9lfwLZcC0R7YRMVItEC6eh4gctUeijF83TYz+nbHAXbmLbyP0l6TcgzMzdEe2ETF\n",
       "SIhGDZzpynk7anyT4+rWLzEKh3GmH47bNlKEdgUHsCbYlhrYRMXIdvIKD2B3J1lYlcRf6InXjEIX\n",
       "PmvtDKimQDOZRxsaHguYyQQ1UTHSa8RqcZHm2GW525qarDGoxq1g9kOOmJ+mtO8C+D0g7UFNVIxs\n",
       "IK+VJ2s7Cza2Ho7zVGsyqh7Ppeu1dRucmU2W0v4WyOmAtFsmUvz9/3ZsbmaB79IPDij0dPlgBtQp\n",
       "FiSloYrnDPOMRj32/wVwxDFMaoLSHktV50Ds0rGXenPCBMaANO5ZGJn2RbKGCcLvRG5jZ5krMnKu\n",
       "d/op7+89cF1vayvnqLK0pd3qYMwcUr5LG/74ast+bXCXLuO+6JPk9Rs+MzV4Qc9UwhoIcU4LFgPU\n",
       "6i1twsDiyDelAUq7Gifb4a/4XVfOqelW+NRZe9mLZ+CX6lQ05YtkTRNo/RqXg5lWlvMlwEiOAgP3\n",
       "FGlbWabG6z120+7j0oaVBAhNg7p0G/dFKe0XSXYSl2oTFJqDY5zgZ/httDQi7Up8INKkXw5kD+ib\n",
       "xR6cFOqBKCSda3kXOYDG89X+SNY0AbDtER4FkeXWbFiKDeZouGH1cXzyHqUjOM7HPbTzXTrgcB6U\n",
       "gcFcMsZ90Y1ktv5NspMcDRbGYWkf/7AUpdNtJQaY8BVPkIEZ5Nw0FgQSf9QVH8YJ7X3f1qbrcZ3U\n",
       "E8X+Y68TkpW9yx5wIxbt1ARA/B3uPUaNFaGaQXyYo+GGu7G1kucYIJP5u8JDO9+lAw4Voa0wmEvG\n",
       "uC960ojV0mUwaSfv1V77VaR+1tgKYGXWYhSUkk77KmRFHID5dCi01mOE9oNTYALUgUhT0v7qee8R\n",
       "/a2FUMaFWLSvosQK8DmXgmgWVtOey+cPfca5zGDgRVwiw+6VbNDu45LAsp4+dNf3LR7UZTgxBJco\n",
       "00iKgkFi6zqTdoWs5BiaEnEkYEHWKABd/nT3WIvr/YmUySiugbhOO6mkZuEjnfaogMTKzyfgCgae\n",
       "CGWrH/Kj8cebd8GIlAuxaI/RLmwj4XINuzFFNIytsYwRZ2fnQWaTTR22ZLJODKMVyvNo57vU4dNG\n",
       "EBeXelUYl4ZxRivkiXQ9OBabL3Z0ngWT9hipIpGZOo7M8bxR0BPql/HpvNHRsaloMYo6GfviN5qE\n",
       "78vlclHVxCThMRyXmjBdUjaVy2eR5Ha6ZS6ErQxi0m4cJlq6UlIPy0G0ZdoF/VRN4qx8BV5tZGcV\n",
       "hS0hYVn1aIXItCqytPNdUhiazCDenfOoMC5146wW45JQprlj9DDEYBTgDbBpr3qfDg3OdthBnIU0\n",
       "oSQPaHQYkeTIT+TnROiV3IiLdgE7qHmT2DjIl2CNGWcjl8x81tE9Cved6NvxNPnswOdrj1aYJAQp\n",
       "dd8PSQftPi4pbFzONQPs9KowLnXjrBbjkiyS/E3TbjAKsNdB+wJBXy5KDoS0mIRuHB2llNTXykHM\n",
       "pKEd5AEY2+9AWNoxSo0okqZj/XbrRaLSNfgK8Au6U9CWp4S2O5QMeEsplDtKkFnYBs2jJWLydi+o\n",
       "o41JHHO7dBuksJIkX/IFEHHVu1rFuLSMs1qMSyKnb5p2k1E6G0zaw6NAJhtAz7sAJakZPsDDrbww\n",
       "BWuw/5ExGvZyeTGShrsLDoShPToBxC82kqZj/eUZaRJ5NcMnaZh7ubgb0ICwuWU6iYqN5EP//SQb\n",
       "jmlzYAmpK+6Zeo9XC+b21iK9i42Lp5jbpUtVh6M5Yuz+P1v2F8HdKsalbZzRYlwSmW9vys9cjQ+H\n",
       "dpNROrudf9RrL5eNK0zVzvqfK58xikUPwsZ2PVylnPXNUmPRESUbXSGzaKVcR6GpYNflayWEg64E\n",
       "0nTpVa2a52iIu1WMS/ubq2W6pGQXgt4vfAfg97fUn3k3ain/OxnnvcHIfc76ZmlqxjawbHLRYc0q\n",
       "zYZRsDBj1eBriWl1Bks7delVrb7Pdu9uFevS/OZrWS5vofBp5w2pAkOinalf8DGg+NotDEnLNdv9\n",
       "VQtcy8q/da0waIdvG+3Dkrf/k/+TkSv4+lhomPIPNVE+ImnyJ2QAAAAASUVORK5CYII=\n",
       "\" style=\"display:inline;vertical-align:middle;\" /></a></dd>"
      ],
      "text/plain": [
       "<IPython.core.display.HTML object>"
      ]
     },
     "metadata": {},
     "output_type": "display_data"
    },
    {
     "data": {
      "text/html": [
       "<dt><a class=\"ProveItLink\" href=\"../../../../logic/equality/_proofs_/lhsViaEquivalence.ipynb\">proveit.logic.equality.lhsViaEquivalence</a></dt><dd><a class=\"ProveItLink\" href=\"../../../../logic/equality/__pv_it/ef72f82868fbf651095898acb532fcd5b43b19cd0/expr.ipynb\"><img src=\"data:image/png;base64,iVBORw0KGgoAAAANSUhEUgAAAIwAAAAVBAMAAABmhxuGAAAAMFBMVEX///+IiIgiIiIQEBB2dnbu\n",
       "7u5UVFTMzMzc3NwyMjK6urpmZmaYmJiqqqpEREQAAACk/Np2AAAAAXRSTlMAQObYZgAAAAlwSFlz\n",
       "AAAOxAAADsQBlSsOGwAAActJREFUOMulVD1Iw0AYfdVqE2tqu7ipRXBSwYpOKoi4iRB3hw5aFKE4\n",
       "CU4WKp2EiiAIDnZxcFEHUXGqujl16ebQRRfFplB/C+qXSy93rQG1/eD63Xv37qV335cgB4pb1Byd\n",
       "X/fRXR0X5nyndhu8A75hrNBMydXu4ikAWgGqDrgztdu4XmkU0ZoG1DrO5DNokNVgd/dQHTZtdCFH\n",
       "fuAMuHNY9v7RZs2P9X7KCShhoCV/crpg0lOBc+vPlmUcH5amIjF7M2eBrrnJG6bX3SlKV8AEpYMY\n",
       "4jHJxsatQbiD3MVmgXyZ0vzshpfImAApvTlhI3DzMVwG32KzrG2s2Lw0f8eAXiC5TM81hI3AjRk0\n",
       "HJd3CBaeIreZ3jY78BkJUi3S1D0gbARO6soSvE8UjxIL1we3iYfNo4cCWUojNNSwsBH4OtCh8x2C\n",
       "hWrYDbRsHt1iQ2YJpSsWOCIVWbDNe59+ufyNaZYesI8+qeACj7Jmsg4l2OpIknnTOOIbM6tpycbC\n",
       "tKC8SWKhqn7B8tROnjEo0fZ5RbKxMC10lkTvSSrH0Gi0hGcruphhrVrJVY5h1kp56amwYThbreQq\n",
       "x2Dn3UpV2DD88yLKql9D+dfn4ht2wH4FssXjvAAAAABJRU5ErkJggg==\n",
       "\" style=\"display:inline;vertical-align:middle;\" /></a></dd>"
      ],
      "text/plain": [
       "<IPython.core.display.HTML object>"
      ]
     },
     "metadata": {},
     "output_type": "display_data"
    },
    {
     "data": {
      "text/html": [
       "<dt><a class=\"ProveItLink\" href=\"../../../../logic/equality/_proofs_/subLeftSideInto.ipynb\">proveit.logic.equality.subLeftSideInto</a></dt><dd><a class=\"ProveItLink\" href=\"../../../../logic/equality/__pv_it/6a823bb8e26491fc51ba7ff862f62e518fc8c9540/expr.ipynb\"><img src=\"data:image/png;base64,iVBORw0KGgoAAAANSUhEUgAAAMIAAAAXBAMAAACrPI2eAAAAMFBMVEX///+IiIgiIiIQEBB2dnbu\n",
       "7u5UVFTMzMzc3NwyMjK6urpmZmaYmJiqqqpEREQAAACk/Np2AAAAAXRSTlMAQObYZgAAAAlwSFlz\n",
       "AAAOxAAADsQBlSsOGwAAArdJREFUSMe1Vk1oE0EYfdskm22yiVsoIkjr0pMgQhV7EQNBqiAirBcV\n",
       "hZCCFKGiveg1C5YebS6CoGLUXjxoIhYV6SHqSQ9SxIKHgutBqVBMhBarBfWbv+2kYUEk/WD2+/bl\n",
       "7bzNm28mATYnfJEsbFYYcyKnHCBgxUJn5u3/8+XCDY9V7xXUBzxn+XqHXv0nkB2inCgrpNvDZeZW\n",
       "0BmB5HcgQwPpuoLsGhNBfK5D7v+gsUxFbB0bgk1y3R0yKdukQSq4v47dBPYODOzrkMIWcrtK3YMZ\n",
       "Gse3nhwmbw4DT4HPUY+kW+4+CCuiFUoOJnbLF0fNGEm7wGtgElaRGrcx8+Rc+9cW6eHa0VEfdkXc\n",
       "1SIVdpwdfsMLkrF9Y9WkFXhHs3hx9uhL4GCUgu0i7uKEBKcjFRqq2E99hSxv2RK1l8MXeoxeIUrB\n",
       "rMFoip0jWjx6O4QKtCpsRXCPRvkFq3LALjJ5+8QzurlTFHtdKsTm0FWDK3He25IIjYzkslK4xS5V\n",
       "P+Fxl3DsGtt0K5gkg7eZAfs0v5Ic1BSmPGsMVlniGbYQjJj+RrEUkmH8UgqfgELlIuJUvqVxpcis\n",
       "3tMzT6medcZJ7rRr6N/hVU+fh1Qg8VQQEvnxqcjobioFatGPlx7jAZWP2DSMahZlS/PnzLzpaAqj\n",
       "7JIpSjwZrBN1snn7tyOhu8CZnswss3OnosXkSVLiJ3tXJTauKRzgLgcS5y4xonRJkbXoCgHLVdUU\n",
       "TZzIW4NHkE/kiVHVesla5cmFwA1HEsPpqhubyg73THgGGg3qjGQucX6610vmkJn9qin0r/FfrEUI\n",
       "POtLonxWkfVYVMXVVjyj0iks6fsh3GkcL4REEYqsR0EVGw6keZVGUuV2hbQv8EMhUYQi62FJc2y/\n",
       "Fa+rtNCLdgWamuHseKrrsCL/V7T+VUho13+Pv2MStPKz6/c9AAAAAElFTkSuQmCC\n",
       "\" style=\"display:inline;vertical-align:middle;\" /></a></dd>"
      ],
      "text/plain": [
       "<IPython.core.display.HTML object>"
      ]
     },
     "metadata": {},
     "output_type": "display_data"
    },
    {
     "data": {
      "text/html": [
       "<dt><a class=\"ProveItLink\" href=\"../../../../logic/equality/_proofs_/subRightSideInto.ipynb\">proveit.logic.equality.subRightSideInto</a></dt><dd><a class=\"ProveItLink\" href=\"../../../../logic/equality/__pv_it/b5ca03018605210092001ad1260fa5301b9f7a040/expr.ipynb\"><img src=\"data:image/png;base64,iVBORw0KGgoAAAANSUhEUgAAAMEAAAAXBAMAAABACzadAAAAMFBMVEX///+IiIgiIiIQEBB2dnbu\n",
       "7u5UVFTMzMzc3NwyMjK6urpmZmaYmJiqqqpEREQAAACk/Np2AAAAAXRSTlMAQObYZgAAAAlwSFlz\n",
       "AAAOxAAADsQBlSsOGwAAArRJREFUSMe1Vk1oE1EQ/vK/SXY3GxARClZ6ERQhlYIgCGmxQlFhD5Jj\n",
       "qSCiKKVQ8JpgtTdxLwUPFrX00lN7qDUW0dSTKGgOCoKCCaLUi0kP2lt13t/mpWmK4HZgdiYz377v\n",
       "7cx7Q4C9kVKb2QMJVYV9RFpjzueA1m1sXf7xmHnvNaZV5twLaOsZD/jqAjFPRWaAG2SMWkAMRQf4\n",
       "QpquqMgbIEmU0WpADL0TpHkg4kciLkyiSwbV4AZTYlnwI0la/nhf30BQDFtAaoPsMrWix0GByjMG\n",
       "PAG+dX1lSf/xURyP7gSJDRhDrOL3aWkrh3eAST2fhkE8qcbyypXOd8QREEnz4Q6s7af19+lzHHQM\n",
       "uJP2MA5YhwDbjbLoS2CoG4NIFmRsviuD3ZTOScCNOOinz6KQ5fBGX6NT0JWBJ1dV89zdroNiwKKb\n",
       "2KTPz5HrrbHgKeAomWz5LM2S1H7YOgNP0veGem6V5dkWQF5DBUYxLxlmSZ8ilBNVwvkZdul+YZoK\n",
       "HCqNJ2mBaMad1Bh40qANHojXZmGxRnDg858kFR+MXtkp1Em/w6b+mmyFKXJg9mc/MIN6gsztORzU\n",
       "GHgyRX7Fdia4o4DQwXigynWGdAWLdBfSDusPXRHEx2Rykz8v4aLGwJMWe2QIm6hpQB189U9dRuZI\n",
       "C4MvqIxhf35H5CRJNA1mjuCExsCTfOEiTXxeJQ4UVfLBLQmzTWOE9KYfu8u4LmAq6kXJ4HCqqTHw\n",
       "JHXayI0gj5CjgFIUuCXmEtJejM4HnrUme5mek9XC68FhMvj01msxiCTWEbs+v8+FXVJAKQqsyTrC\n",
       "Tjy/w9SWM7YaK9kV/bS23bTRFpCLD9ZkFFaW3R97292xXGnizgI6GNKyacM+UIgP1sSQnK+2l08Z\n",
       "ay3fyQBRFjaezLZ9KfD//GWQ5dCe/y5/Ab0uv+5z/guOAAAAAElFTkSuQmCC\n",
       "\" style=\"display:inline;vertical-align:middle;\" /></a></dd>"
      ],
      "text/plain": [
       "<IPython.core.display.HTML object>"
      ]
     },
     "metadata": {},
     "output_type": "display_data"
    },
    {
     "data": {
      "text/html": [
       "<dt><a class=\"ProveItLink\" href=\"../../../../logic/equality/_proofs_/sub_in_right_operands.ipynb\">proveit.logic.equality.sub_in_right_operands</a></dt><dd><a class=\"ProveItLink\" href=\"../../../../logic/equality/__pv_it/4c507486cf1c688fad3950e2a469591c5bee181c0/expr.ipynb\"><img src=\"data:image/png;base64,iVBORw0KGgoAAAANSUhEUgAAAnAAAAAZBAMAAABDWQ4rAAAAMFBMVEX///+IiIgiIiIQEBB2dnbu\n",
       "7u5UVFTMzMzc3NwyMjK6urpmZmaYmJiqqqpEREQAAACk/Np2AAAAAXRSTlMAQObYZgAAAAlwSFlz\n",
       "AAAOxAAADsQBlSsOGwAABcNJREFUWMPtmVtoHFUYx/97nb3MbCY2FCE1LisitgipqC3awCpWSKUy\n",
       "QggiWrdSqqCEDQEffKirtgEfbBdBELSaXl760uxDaWtJdasvEqtuIG2qycP60FqLJhFaai2o3zln\n",
       "LmdnsjNZjS9rD8zMyXf+852zvzmX75wAfunFXAm3kjeFcvf5C8r/ExCllsVnb4FjHajWivqAAFdn\n",
       "j7mm4DLsoVXbEVfPX5eGPjRYbrp1zGdxiuU/aAouPUaPZHvOdDeAzIP0jLU4sN7n4F6je6LeFJxS\n",
       "oMfetuSm/EZjiS6kWxxQX3NwSeqs0VrzOY7h3dqeM9t1uq5SJtLiixGDgVMJd9JncTjbtmtEZpEu\n",
       "gocjLb6YrHIs9+dyD/iAi+Ryd+XbElwHTVDjOmWO0TTXrWPQTywLogUO7gRw0QdcuoiM0Zbg3tCx\n",
       "m8exHxELrRff+YllgSoG4igSBR9wVDi6ou2tyH9oQeu1Lh4XguYrKX9hmdI7dzw+yTNE7910GUN+\n",
       "b8kCLcvBZYzomLzWrNuCVQUpAL6ILXQ/evPJnSsTlIgVPLVw7PjLwGSQOi2+8djyP0eg1pIuWIaH\n",
       "ASOiYz2eaz6ZC4GJaJGD03RnbRgeuoLzUSNtSOCm+F3NIppdQXD4AngMsUKQOsXn18FAr4ft3OBy\n",
       "pTckcBg3lOtKp88vZAKrTb3mmnnG/rwn2C5Cr0TlLVdSZcMlXkFocSXBvUJjRYTXwdGmiNL9Vzp7\n",
       "Hj61TKly1TLsp+tThHr5GGyWuKBhqGIrtU2dGO4G1jDzzA9vNoCLfs8qitQQpj4e6t590jtrSMYD\n",
       "BXii6dRqsXNrANcHrEM42COPIbOBOicUzbrq8zTMlIb+sIp+pOsSMgUBzrsScgsTCEpQ6wLc2zRe\n",
       "1EPVSCnGPc9Enz8sg0s8xHL7jAT1Edwer+/3OJaN+WtKr2dF6jBG3OAS1zBawTvBHmeZuByo0yr4\n",
       "bJ5SlbSN9XkapolJLmkPoCfoOo7xKgcXYyP4hbI7wwWcEg1MXYDLFIE9t6HDSPGtxwwqPQ2nIz+x\n",
       "25eddzDw1YxexF7XR+FGkRLPZkP1hCu82XMQPW5w6vrOc7TkBHs8yrpsPVCXsvo5ZXh9LilvmCyN\n",
       "f/KnuWLjIJsZH/28JHpcjl5kg4sGhJlhFi7glMhYko6VtuMQ1I/n538lcANJ77HSTitqLEI56O7N\n",
       "HUU7G8/H9dfvdpXvIPcucHG+LJwP9riL9ZFCoE6xwDEt1eeRsoa5pFYKcyf9YvKC5hmrpqVfUALe\n",
       "ks/jNuCYouRFj0tNecFtsqJGlBB2uyajdvob/nZ4LFKEG9xabLDKLXCRqkUlwOOs9VP9dfZQZVqq\n",
       "zyNlDZudm3aGqpPUCtLlWJ8JLuoNftm6yQWMEjAhgUssYu2M2EFQaLXaAy7xO9t25BO9/cizNsXy\n",
       "GLBu3Kj1oJcZwsVxMHCOYAC4J7XIyyVw+3hQGIbt0fEnewQ6mYMsAmpGSHcWB1af2yVv2FSd7ecd\n",
       "qZUuI6zH8ya4pz3gmIULBCV+lmSBSxXQVcVe6rOpe4vOmmSD67lJP1Tpi716uMtgbVL6MFJSNrKb\n",
       "aXyJPjVZtYmfOThHMFLD7LdlXu6ACy3w1TBTsj1ipCb8bZQ9sh9FDi4joGby5FDg9blc8obFi7sg\n",
       "S620DVonRTGJ/pvE1HvGxCxcICjxHWjj0XnsqfkrfkfnmtnrDTvrGLOhSZZ/Br9wcJKgFitlqqJc\n",
       "Ckek8FZ4RG0pj2ylr9kxa/Oat0nxLa/P7ZI1LIw1Y7LUHk8tHch9BbT6P4dzYnJdddrKOsZYQdvK\n",
       "8ttTZQw/UpMEmhHXj5jlbnA46Xh0JmXZY9RgBelSUM2bnU1aidXncckaNojpmiz9F6k1cNWlstUG\n",
       "wVyX26xCO5P37hzMedeZwtUlPU6Kgs0BNcsb1M12fepSDQve964AuPf+g/+rlrxRuU8yy2MBsliT\n",
       "fID0Hx8e5zb9DUB82JgCufSnAAAAAElFTkSuQmCC\n",
       "\" style=\"display:inline;vertical-align:middle;\" /></a></dd>"
      ],
      "text/plain": [
       "<IPython.core.display.HTML object>"
      ]
     },
     "metadata": {},
     "output_type": "display_data"
    },
    {
     "data": {
      "text/html": [
       "<dt><a class=\"ProveItLink\" href=\"../../../../logic/set_theory/containment/_proofs_/relaxSubset.ipynb\">proveit.logic.set_theory.containment.relaxSubset</a></dt><dd><a class=\"ProveItLink\" href=\"../../../../logic/set_theory/containment/__pv_it/6f033096c779897f09ada50147d100cddac66af50/expr.ipynb\"><img src=\"data:image/png;base64,iVBORw0KGgoAAAANSUhEUgAAALkAAAAXBAMAAACllfPxAAAAMFBMVEX///+IiIgiIiIQEBB2dnbu\n",
       "7u5UVFTMzMzc3NwyMjK6urpmZmaYmJiqqqpEREQAAACk/Np2AAAAAXRSTlMAQObYZgAAAAlwSFlz\n",
       "AAAOxAAADsQBlSsOGwAAAtFJREFUSMetlU1IVFEUx/8v5828eTPzmmhTUCavhUEtLKJaZLgY3Ej0\n",
       "MBCizdDCMBcOBEKrrMRVMLPIiKA0CtxICYnRBza5Cox8m3Z9TEW1crRQJzOzc+99d+bOpEw9u/C8\n",
       "H2fu755z/vceAd/NqGLvwXradnFGZi37LfpybPDaBzzWxLvw7B+Wlyuf22+moLnAIza/5oN+QnTv\n",
       "JL3Wtu16MTwCBAtAP9DNosv5oD8R3dh30Z/bUhLkK2AuAZMUmQMEXB/0Bv430Fvgvb6rZInSUpRO\n",
       "qHEQzdIJPuCmUPOCtsz74GDJFKRkhQ/RR+h9tr3fBz0iRB2J/RTiKqaaHPRTKYorCTwAPvFFp2K7\n",
       "HOir0pljFIEbmuPTbsV0/v2mDmaNUnh9MJIccpCb7i4lxlNsYMkfH08VszEz2vLFG29whQvGAp/2\n",
       "KfQdPYgdZne2jihOgOcsIBIYrYPWUEY/RpxQcz5Pb28C2CzD55tqH4/9Eocp9I9sE7kUovzH4iJn\n",
       "Q3uFJCOIzqp082wcGBX+dwJTKl0n0zeRx2yJzqKZIovJvMw842vxq2KXi9asStfCyeKVbYS+R+bd\n",
       "9bTZKebXi/AQ07lrUGQGR/s5BA+5Lb1t8jRUejySQZt8Ji/GpAgWOYdh+gbEvO2MvBUava/QIksy\n",
       "e6SXuKhDXkYnoHeqdDNFMgxDatI24jHYdTNY6DNeLbzzwasEYVq9zTyOMAcs7s5oosvxUpseVOiR\n",
       "RPM83kBqYvyQctRBn1l08HblSvlVDQ4stHdMc6WLNVgjaEqkFvfUGxmHUUAvpCZmQe6or/rgLhZH\n",
       "FPtGV2+CMQ99t5IZkxRehiW8SDtolZlhNerv6hzFfwD60xuhRmydS4y7Cv1+EicXXZ2/IW0g0TJd\n",
       "3GuV/e+J2HapAnt3oLLyxpSxpRoCef6a1KZXK9tWRWnBq7Xoq7XLVezPKxey/0JfVzP+A+M3Ixin\n",
       "qsTeqp0AAAAASUVORK5CYII=\n",
       "\" style=\"display:inline;vertical-align:middle;\" /></a></dd>"
      ],
      "text/plain": [
       "<IPython.core.display.HTML object>"
      ]
     },
     "metadata": {},
     "output_type": "display_data"
    },
    {
     "data": {
      "text/html": [
       "<dt><a class=\"ProveItLink\" href=\"../../../../logic/set_theory/containment/_proofs_/unfoldSubsetEq.ipynb\">proveit.logic.set_theory.containment.unfoldSubsetEq</a></dt><dd><a class=\"ProveItLink\" href=\"../../../../logic/set_theory/containment/__pv_it/ed87e197b7e8877e7ebc4c9c1a78629a578ec9ac0/expr.ipynb\"><img src=\"data:image/png;base64,iVBORw0KGgoAAAANSUhEUgAAAPcAAAAXBAMAAAAl5sTiAAAAMFBMVEX///+IiIgiIiIQEBB2dnbu\n",
       "7u5UVFTMzMzc3NwyMjK6urpmZmaYmJiqqqpEREQAAACk/Np2AAAAAXRSTlMAQObYZgAAAAlwSFlz\n",
       "AAAOxAAADsQBlSsOGwAAA39JREFUSMe9lk9IFFEYwL/Jnd3Z2d1xpD8UWcp46FCHLcI6ZOxhCUq0\n",
       "RUkIIZYgQ5ScMLo6lHgK3YvRxT+RIEGUlWSF2OZJ0Go7dIgKtsKiBTeF/JdFffPezM7bsVlzoR7s\n",
       "zpv3fe/9vve+P/MA8mycouZWEHIJtb9YIEdz9a+hsCOX8DpdIan33+YDl/RHIO4gD4T+OPz816eG\n",
       "XhW4BIE/1oeu5QP36Xv3ag7ykw7jhwHciwDdBH5Rd08yH7gnio9OJ/moQyTMAYgrAJME7o3gI5GX\n",
       "z9F6qHKSB7PedipKjHT8uGs/GlAQ0Vfwo9O8+QXcFD5iDmIxS3Bzs9lzzyLuIP7iJGT3Kcr+/OAF\n",
       "ilIWchD7UMAXnblATkbozowXJIE/jTnmihL4CMA0GY/Yppsd3gnuU0GyTcro4s5whS3yPciOyrb3\n",
       "RY16gvhjBN4BQpTMO0Ckt1fCYyT7JVO/Vjc0nU5rIH4drvxswXFeh82kWrNwbMAwmoASrZnALYUS\n",
       "DQKH9EwsJXApQuuF6yeNiFLgglnw4wngU7Q7DrCRKTLTcMxUOn8uZegax4tiFb7Ql1YFG82oj7oS\n",
       "WuiZJSsEZGrY4F4aEUPgn2XhYqsMknFuTQAvGPjLTLz5RjK6Fhxgjr6csna+gL8XqCQGaY2MPSXD\n",
       "8lU6KwE1cRbOeaPQbvQrgN/DwL1+XIbb3v4Qii1dw+f6EYhLcIL4IMP2/MC/lv7MsUMViUUOHhFx\n",
       "V/HkWWDhsi8G78wKMfVAZeCu1xhvW93JHj5p6dImyegrzCuSDZyc+RwtoQHLuneTFH6ZWDtoeHMc\n",
       "+CYWLqoYArfAjIe6IQYulGMnLsmqGLd0DXEUAov1QZHGQE8mCVB+Q9+sT6ZwiWxmONwSMdza1c/A\n",
       "feEj81AHZjwI39mvGgn9QhX8ven0jKFr2FwK/F35zTP6VpeiKenuW2honCGe0JjvIodMlboV7rCp\n",
       "JoOwaOphPIiLqz6pbaB5Qpau0XZlpeDAByW7Fl5iV8CDLUzwIRDmgd/NHLt+oJiDw8SergjUDNng\n",
       "QvAoOnaa0aVtMneBHGXgvnLgn/R4KmDbt/BYgoHfj0L9Mm64GosM1xeunLFfJvjmgU0R6FQtXSPi\n",
       "tJzXnOTq60iA6Uvrucnw1emUrdDm/EzrZdkOf7UO+FpXsCu5hBMYZWU2eNwB7k6T2v7/mvDvEb8B\n",
       "3Mfq/AvUhV4AAAAASUVORK5CYII=\n",
       "\" style=\"display:inline;vertical-align:middle;\" /></a></dd>"
      ],
      "text/plain": [
       "<IPython.core.display.HTML object>"
      ]
     },
     "metadata": {},
     "output_type": "display_data"
    },
    {
     "data": {
      "text/html": [
       "<dt><a class=\"ProveItLink\" href=\"../../../../number/addition/_proofs_/addNatClosureBin.ipynb\">proveit.number.addition.addNatClosureBin</a></dt><dd><a class=\"ProveItLink\" href=\"../../../../number/addition/__pv_it/178625b5e55ad71b0706c601988e7ab47c595d020/expr.ipynb\"><img src=\"data:image/png;base64,iVBORw0KGgoAAAANSUhEUgAAAMsAAAAWBAMAAACcdXXxAAAAMFBMVEX///+IiIgiIiIQEBB2dnbu\n",
       "7u5UVFTMzMzc3NwyMjK6urpmZmaYmJiqqqpEREQAAACk/Np2AAAAAXRSTlMAQObYZgAAAAlwSFlz\n",
       "AAAOxAAADsQBlSsOGwAAAyVJREFUSMetVU1oE0EUfptks0n2p1utraCUsFBFilBUPIiFoFRFqixS\n",
       "ehGbKBRyUdYqghTpqtCj5OLPQWWtPVioNEq1oC0mB8HqwRTUQhFZFdEWugglBy/i/GXTzQ9swAff\n",
       "zsy3M/vNm/feLEBjZjLUe9cIX9+4AkVNe1AxPvF3WYeDaxbmbUx89ivzgaHS+O/xGvqrsRTwRcK/\n",
       "wOM7PlX4DEW1RbPocbOCPGP2AnQR/hIaRmyfMmKOomyTrG3CnryrmH7WjpoQJ3xUBwgVfMoEGcq2\n",
       "wNopHb/S6aBd04jL6Xwkg2UQL6HNRf2GZoKhWuYAOTnq6MQmRqbDRguWwfwuTdvjV2aaITK9WfXK\n",
       "3GqeQ6eSwt2IG6I02IoVp/wMwA+/MncZHppK0SPD/9GTJkjkqKJmWWaY70AymB+FSGrdl4amLW4v\n",
       "ai+ztBA6j8LG0oSdFPx+EOMeGbkITSrIhCyHIA1S4QvKNMwreshitNDqWHKqB56hfjiBHufPrcCn\n",
       "kC6y0MI+CrEIAfz6qabt1rRtOAUzkEyA8BtPuqAhs6kMDIaRDOZl1ZV/aaBhXgT8iSDqizO4dNVs\n",
       "CLwyQRuSlscbVDZTBYh14f7AOm+gn0eeED6TR4+T+SPA4USRrzxSscxI8yBsxXMXl666Mvco0Mbf\n",
       "ezOtKQevdHZogfUygmrTQ4NjKDP47UKRbkM2epawzAZ9C088XwydGi+t+0qRLMCybHpkLBQvkMgC\n",
       "Ti1N/4nQZjP+OgqwmBW6aEXLhsjZ5GvzMVIGi5BtL607RBFVpc6Qx5twTkG3jai6PrsZg6JGecXA\n",
       "u+FSMO84TkE2+ESGhOC5dN9xVpFMnxu8MQr+9OHRNm9CP5nDx0U97F+hKTO0ZtMrMFBK8aSpvNYv\n",
       "Um/gMRYvQreQoN7ESjUIAYOi+hYgdo2149+0TC0egubIJEpt1JMs4FJ8AjrQgZKyfQvQWpomZSmq\n",
       "r05is3Wq2uVjswu9EMEhG7uN/kFCNwy3ANxAG4/tMEBxF/xiqGn1LvpKvs9xWDnI9MSPOyveGQOe\n",
       "uqgwRW+MB/hYb8M5ipr2pkEeIAf/1/4BGKvYhsYzKfAAAAAASUVORK5CYII=\n",
       "\" style=\"display:inline;vertical-align:middle;\" /></a></dd>"
      ],
      "text/plain": [
       "<IPython.core.display.HTML object>"
      ]
     },
     "metadata": {},
     "output_type": "display_data"
    },
    {
     "data": {
      "text/html": [
       "<dt><a class=\"ProveItLink\" href=\"../../../../number/numeral/deci/_proofs_/add_0_1.ipynb\">proveit.number.numeral.deci.add_0_1</a></dt><dd><a class=\"ProveItLink\" href=\"../../../../number/numeral/deci/__pv_it/cbaa13d65a26ed919d66c2f687dcff816ed2750b0/expr.ipynb\"><img src=\"data:image/png;base64,iVBORw0KGgoAAAANSUhEUgAAAGAAAAAVBAMAAABLWfZ5AAAAMFBMVEX////MzMxUVFREREQiIiK6\n",
       "uroQEBCYmJhmZmYyMjLu7u52dnaqqqqIiIjc3NwAAACFAiZ1AAAAAXRSTlMAQObYZgAAAAlwSFlz\n",
       "AAAOxAAADsQBlSsOGwAAASRJREFUOMtjYGB4wIAd4BLnPYBDIhaH+GkGBu69fWiCjF5YTQIJc01g\n",
       "YJjDsATV/kWdv4DkLHT1YGGOAgZ2BwZuA4hQOMydIA0VmM4HCrMxMDArMPD8goicRdbAtgCbhkgG\n",
       "Bv4GBtY/WDRwFmDT0M3AsB6o4TsWDdwK2DRMZ2B4v4GB8S8WDewTQEwOFzBQgAn7QDT8xqKBxwGb\n",
       "DalAJ21gYAXZ0OLikubi4gTXwPgBhwagp3mweZo1AZuGOcBgNWBg/4XTSeh+sAV6LoGBYwI2Txtg\n",
       "s2ETA8jjywSwaOC4gE1DCJBefVeRAUUDk9kXXQYGFvQEDhZmEUAWOovMeYI1dbM3IPPCkTnt2POD\n",
       "HY58wsBngF18MS4NzAtwGFSAQ0MdVlEAp45Z8qelTaIAAAAASUVORK5CYII=\n",
       "\" style=\"display:inline;vertical-align:middle;\" /></a></dd>"
      ],
      "text/plain": [
       "<IPython.core.display.HTML object>"
      ]
     },
     "metadata": {},
     "output_type": "display_data"
    },
    {
     "data": {
      "text/html": [
       "<dt><a class=\"ProveItLink\" href=\"../../../../number/numeral/deci/_proofs_/count_to_0_len.ipynb\">proveit.number.numeral.deci.count_to_0_len</a></dt><dd><a class=\"ProveItLink\" href=\"../../../../number/numeral/deci/__pv_it/a36d875db4b8a7efa4f4fe1a3ed94814964f25350/expr.ipynb\"><img src=\"data:image/png;base64,iVBORw0KGgoAAAANSUhEUgAAAJkAAAAVBAMAAACnAFEqAAAAMFBMVEX///9UVFREREQiIiIQEBCY\n",
       "mJhmZmYyMjLu7u6qqqrMzMyIiIi6urp2dnbc3NwAAABm9RoHAAAAAXRSTlMAQObYZgAAAAlwSFlz\n",
       "AAAOxAAADsQBlSsOGwAAActJREFUOMud1DtLA0EQB/C/uTw2moT0NlEsBEECgqhFsBSxOFRipzYh\n",
       "hQhpBO1OGwsLD2xsJPkGno1gqoCChUUSWxWCYi8IaiO4c4/NxXMu4Bab2cndLzvZBzqQrZOxe/xq\n",
       "TiKDvk09+Cg/hsyUBSfsaU7iqr92Z/fphv3GmfPK31qyBQzO8NLTZUdOp6uJCpAwOO0Q2C9/sVjC\n",
       "FAVgt6vFdSC2yWkl+it4bQW4B4pdLUrhAqfNh2sjQNVA1FDaLWV3GC1VCdc+gKaJhK60bcq2GS3e\n",
       "CtUEaTrSWaXtUHrN1eJTdst6mv2rvJb5Bs4txCpKm6X0CTM3zeyvtZDMK22J0ueMFm2EVyq1poXB\n",
       "t17t5n8arULVRGpeaXv+SgP/W3ilGAU2DH+lE5RdZuYWsVxNBCXaZKtAWW7+nNLa9M0Wo9lrT9ox\n",
       "LRt14tMfaKZYlBVZSrumNwvc7pU1DIy9D0Ojk6/JA4hpL5iSkxMPFzU57ChNk8NMnjtZc97oNFBp\n",
       "0vCil+45pRNPJ/9vreiNWgEtraKS736bBJ7Z+y3iXsnCCmhHag/nfNoBMM5qIucMYsE11b0gYrha\n",
       "nWg9RhOo/37aSbz2v8nX7X6o9gPqXKN4tSyaggAAAABJRU5ErkJggg==\n",
       "\" style=\"display:inline;vertical-align:middle;\" /></a></dd>"
      ],
      "text/plain": [
       "<IPython.core.display.HTML object>"
      ]
     },
     "metadata": {},
     "output_type": "display_data"
    },
    {
     "data": {
      "text/html": [
       "<dt><a class=\"ProveItLink\" href=\"../../../../number/numeral/deci/_proofs_/nat1.ipynb\">proveit.number.numeral.deci.nat1</a></dt><dd><a class=\"ProveItLink\" href=\"../../../../number/numeral/deci/__pv_it/e5ffb3f9eef928e4881a1da7f0318cbe67ca61f70/expr.ipynb\"><img src=\"data:image/png;base64,iVBORw0KGgoAAAANSUhEUgAAADIAAAAQBAMAAACmdTG/AAAAMFBMVEX///+YmJh2dnaqqqrc3Ny6\n",
       "uroQEBBERESIiIgyMjJmZmZUVFTu7u4iIiLMzMwAAACK+5nvAAAAAXRSTlMAQObYZgAAAAlwSFlz\n",
       "AAAOxAAADsQBlSsOGwAAALRJREFUGNNjYEAHPPfL5zAw5acyMPDdQZNiN4hmYDh/gOH0yj9oMtxX\n",
       "mAQY2IAMDgwZc4YpDLzIMu13704Ayzg2eKLIRPbA9Djs41BAkmGZAzfNgZ2hFEmG0wEhw7fg7Fkk\n",
       "GYQLHBiEmcsQMs/uAkEBVIb7wDaEzHFkPTwbkEzjRZZheMGOkOFogIfOAyDvOZJ/JsNkeA2AxEqg\n",
       "3rK/O8ACp0sPgGm+++lA8iRyeAXVQkIHCgBOnzd6VWBQYAAAAABJRU5ErkJggg==\n",
       "\" style=\"display:inline;vertical-align:middle;\" /></a></dd>"
      ],
      "text/plain": [
       "<IPython.core.display.HTML object>"
      ]
     },
     "metadata": {},
     "output_type": "display_data"
    },
    {
     "data": {
      "text/html": [
       "<dt><a class=\"ProveItLink\" href=\"../../../../number/numeral/deci/_proofs_/tuple1_range_len.ipynb\">proveit.number.numeral.deci.tuple1_range_len</a></dt><dd><a class=\"ProveItLink\" href=\"../../../../number/numeral/deci/__pv_it/9ed6b3eecb5ab7207a72e9312abfae8bc9a64caf0/expr.ipynb\"><img src=\"data:image/png;base64,iVBORw0KGgoAAAANSUhEUgAAAN0AAAAVBAMAAAAwUfbwAAAAMFBMVEX///+IiIgiIiIQEBB2dnbu\n",
       "7u5UVFTMzMzc3NwyMjK6urpmZmaYmJiqqqpEREQAAACk/Np2AAAAAXRSTlMAQObYZgAAAAlwSFlz\n",
       "AAAOxAAADsQBlSsOGwAAAoZJREFUSMellr+LE0EUx182WfNjN+t2uUY4AscVhxDESixSeXIojI0g\n",
       "wm3uP0h1rcsJV1mkObBQiF51YJHiQE5S5ApBSHERzs5iRYSzE+EKO9+bmbeZvc2QFV9g8t2Z976f\n",
       "ncnsTgDyEeNHC+MrzqdR1GBppInxwuHSDLZYyHgj262rearjxnKeqq8MpUhIfzWHz9nqfH4DVl6z\n",
       "C1Bds7NoTNUjj8QH0i+NDHegrUioOLDzngA8Prm04tTYgeaR2KWlTYwUb6KtSKiY2nljmr+dp8am\n",
       "zENRFyhnRkaZrcrzLmHldYrwZD3xUPg4i7qZccRWR2lXfWLjNQZFeLKeeCRutdu3zYxj9iZRO14J\n",
       "MbVn43ndIjxZTzwS7wF+mBmv2JvEYRxggT/gPq8to8c8eedLebKeeCT2odYzM26yNwr3LniruOlX\n",
       "bfNzZkV4sp54JAJBah532BuFdwkOPWC/bLzysAhP1hOFRDPMbJcMr5xAhGmNzv/xZH2FjQan2Dw9\n",
       "va8zXrM3iqgLZ2CuZ+73+/f1hIf41LvrVS76xt4oohn8bMbgJ7b5BaH2dPMoMd8vCe8XEs/xbr1R\n",
       "taPT7rE3inrob1RwNLTx5E4nzwh3nvsHdJNeKZ6sJ54UQR/g+rDEm/Qte6Nwdzb3W7gLY+vzjgt0\n",
       "7fvvHXDonb0BunFG2LSFHlP1xHP4RIri4KNQ0ulrbxIq9uzvz3W++pJbz6bI1BNvL31Dxs/eaemP\n",
       "tBUJFWM7b8pX3RyvApl64o25pzH+/ID1BXtf6A51fCzmBXqF3DDHewSZeuRlzqE0ttl7W3cEws5z\n",
       "tYWf90mPM1WPvEAs4tUm0GIh45NsW1fzVMeL5f8nVH2pT+IvxMKydHTGwfsAAAAASUVORK5CYII=\n",
       "\" style=\"display:inline;vertical-align:middle;\" /></a></dd>"
      ],
      "text/plain": [
       "<IPython.core.display.HTML object>"
      ]
     },
     "metadata": {},
     "output_type": "display_data"
    },
    {
     "data": {
      "text/html": [
       "<dt><a class=\"ProveItLink\" href=\"../../../../number/sets/integer/_proofs_/natPosInduction.ipynb\">proveit.number.sets.integer.natPosInduction</a></dt><dd><a class=\"ProveItLink\" href=\"../../../../number/sets/integer/__pv_it/a93d5f8bb818f4a42037bbe4d9cbe4328b5d3ca50/expr.ipynb\"><img src=\"data:image/png;base64,iVBORw0KGgoAAAANSUhEUgAAAhEAAAAaBAMAAAD76BPLAAAAMFBMVEX///+IiIgiIiIQEBB2dnbu\n",
       "7u5UVFTMzMzc3NwyMjK6urpmZmaYmJiqqqpEREQAAACk/Np2AAAAAXRSTlMAQObYZgAAAAlwSFlz\n",
       "AAAOxAAADsQBlSsOGwAABpVJREFUWMPNWX2IVFUUP/O5bz6dVZKg3F1G+oCQttCKsHqJSpTCJP3T\n",
       "PzpGmCbJVNIfQe5AtiSE+6gsoQ0HjShIXUUtVEIzKlexSSrQApXYPkBmV3AzP9DOuV/vvnn3vXVs\n",
       "lQ7MffNx7++e87vnnHvuHQCTHFfNmPJMsQo3TiLFaQDxcYcNRMwNyGZsceDGymGAtpPjDRqI+LRq\n",
       "XOErb11nJqwxf0MmYL/RWyqtTFR1MWnk/oBup1XjTlRnj3Th+jIxJeQ3PjcxES0ZHLzWUpTVNUwc\n",
       "SojML371kt8tm44rv6/4gE37I75eKhlUdUwILQb/8OUlf+1kYWkH9VFzExORsomJPEPYFzKR1xxF\n",
       "PTJBiLvp83rPgIwtGzgPkJ+Bz4QDieUbECQlliNeV0wYEFqUCehYv5X8EalEm5uYSIyamMiQV6RC\n",
       "87dmjhDCRCYI8RVaf2/CmFCTTdsZZPkM8UJUd+KorMijCxzFhAGhRelBHz1BfrrXFxFyidXcxAT0\n",
       "m5hoI09ZG5oYPeYwIUwKrH5BSt2rWEk2kXP4OotvYlIbmMH73Pq8YsKA0KJ0YrLrJB/s9u1iBY0J\n",
       "Njdj4ku3R76k8sQ6fMwPDUOPOVxmcCYQMYv0pLwDJqomP4IvHA6fKm3EcnStUkwYEFqUYXohG2kn\n",
       "nIl+ycQk/waI5hweK4F7zeHSz5kgxHuLxeneActUMwGn2UrK7FDazOUa2jIgHRNCi3IZSTgjctNH\n",
       "S1dPLqzsqJmYmCuZ2KptHl8rJmLF4lQ7NB9p5qTnvvnoYo5JTBDi5wBD3gEN1WAAr56mApNpc5An\n",
       "mqosvBwTwlilmy98rVkUXin0LrtRSFyq5bpNTByUTPSw2mF7keTuAclEpqJixayFbk48fwoWVRkm\n",
       "MUGIvWBhqkkP79i1VAx4TzWdz84eZF9NU9ocZZ8xS96mmOAIBsk0PblxKrtLKyN/z57HfCBah7ba\n",
       "w2CdheyIiYmjkok+vXg4VhdMoBa9IVp4zXk1dhL6KgyTmCDEfIkVJV8BzBID7lLNsMR4UGnTwz4/\n",
       "B9CumBAI+u6/oxa5z9Uhzx9bLj6xpAqDPhXzwmyI4XaWuAC5UUhS9GfQ2zHyyp65GROL9PkS79RE\n",
       "ZTUEj4do4TWnhBjfc0waSoi5Akt3y3E2n0+c9zOxCcR+vEAxIRCkr09u1HLlObDTx0S2C+JdCdd9\n",
       "0rZbTkgmIDcCGQdiBZNPbFI+oVfWax6TNeYPbsI0aNFkzgmAFRyT+QQhOqzofki4gc5E21k59ENv\n",
       "dNCmmamratvRy/Y9iJnbnwE7vmf7nt06E8kBiIxktOVcJ8JXprkUQiYdiNqwtVoKi46eqpsniutV\n",
       "tZ3KFkK0aDIHt4RLCRUdDHE+KWSNQq88fK6QTeSCHHpKaXOEBTSNcBQThJDd++LkyDcViFDRknvt\n",
       "k4Lt84lYHaIDUber3Pw7JTl5NCRmk6cus+oGJo6Y9o4t7rkjfgy/P/Rt+4BRiyZzpqP7xRmm3Dvg\n",
       "dfLX7D3tP8l+k2STkgHM906mzTaQh8E/FBOEkN20L1bG8n0hM6Ay57ifib6StRzWuF3hF/79BpXl\n",
       "y8xNMXzfjZuiY5tk4oB2SHJcJizMCjA4Ex4wauE1xzoHcec7hklDGWKeQiSpZX/GDzbJDZelIhvJ\n",
       "Sx65HT/eSR/ZprlSMUEIb0zEAh0Lgs+4DpnISR8TB9qnlGgJZVexnMuunJKJo4vNdAtydLOXCXdu\n",
       "xsQuV9lkRTuL4uJYT3bBqFELrzk4l3W6zjBpqIsY085wlLh4oyQqU5TVFXQqXwwv0zZ4sNFo1HOV\n",
       "hO24O7lgYgk1P7tdYVXzhndHYI2p5m4+d1jNp/JkId1t1MJkDsMU5w4hfVXjWVQ/qPDf9gUxcT90\n",
       "QF8b95RcBTZrNggmZlKzyu0qo8OVQ4EnMDV38FlUrmMlY1dMWpjMYZjiLCqvCL7Q9sFu2bjyp3iu\n",
       "DbqpsUZwqY/EeZWXrXnuEDgT1j8i2cqusiTROoaeqdfK+4lsOYSJPohurpi0MJnDMHFoNqDfC6pR\n",
       "slA8h4KYSJdhPfTeBBYl0o3viysgnYmOi1VurOzq6qOKpNDD/ZC6s6qGMPExROYZtTCZwzDpzqp6\n",
       "1feYFnfTbHXM27unGo3mi7S87u92mN1vhRDB5w66x4x77zENWhjMYZiRqbXAe8zxvtvWmQA3DOOl\n",
       "a7vb/m/XQkZiAhFb+L/j7av4v8PDhGv/4LX83zHzGhkM/79j3BGv6u6+5Hvzv5B/AZywAyBs5dsb\n",
       "AAAAAElFTkSuQmCC\n",
       "\" style=\"display:inline;vertical-align:middle;\" /></a></dd>"
      ],
      "text/plain": [
       "<IPython.core.display.HTML object>"
      ]
     },
     "metadata": {},
     "output_type": "display_data"
    },
    {
     "data": {
      "text/html": [
       "<dt><a class=\"ProveItLink\" href=\"../../../../number/sets/integer/_proofs_/natsPosInNats.ipynb\">proveit.number.sets.integer.natsPosInNats</a></dt><dd><a class=\"ProveItLink\" href=\"../../../../number/sets/integer/__pv_it/63860c0e8f35eb48ced1e0cdf914ee5dd91129160/expr.ipynb\"><img src=\"data:image/png;base64,iVBORw0KGgoAAAANSUhEUgAAAEcAAAATBAMAAAAwgQ3NAAAAMFBMVEX///9mZmbMzMyIiIiYmJjc\n",
       "3NxUVFSqqqq6uroQEBB2dnYyMjJEREQiIiLu7u4AAAAPqInnAAAAAXRSTlMAQObYZgAAAAlwSFlz\n",
       "AAAOxAAADsQBlSsOGwAAAN5JREFUKM9jYIADRgYiAA+Fit7+Of2AYeXPBmyKEHLHORIY+P5hNwku\n",
       "lxuwhIFhAoPMmZNnzjigKYLKMTCkH+AOYLiA3SS4XKoz6wY0RT537969xIAsl8qmYIWqSHspjAWX\n",
       "S2U4wNOArIjvKtxIuFwqgyLfvQtIIc7WgKQIKpfKwFJQMwHJtdwMSIqgcqkMDHlsyIrUkBVB5YCM\n",
       "Z3wXkBSFoSiCyAEZTAYHkBTxoiiCyB0CYiNkRYyIcIfLXQeJb0AO5x1wFkxO9ydQJR+KojcZDyAM\n",
       "LHII0HUWGi1QAAC1P1RMMPF9GAAAAABJRU5ErkJggg==\n",
       "\" style=\"display:inline;vertical-align:middle;\" /></a></dd>"
      ],
      "text/plain": [
       "<IPython.core.display.HTML object>"
      ]
     },
     "metadata": {},
     "output_type": "display_data"
    },
    {
     "data": {
      "text/html": [
       "<dt><a class=\"ProveItLink\" href=\"../../../../number/sets/integer/_proofs_/zeroInNats.ipynb\">proveit.number.sets.integer.zeroInNats</a></dt><dd><a class=\"ProveItLink\" href=\"../../../../number/sets/integer/__pv_it/bfb8267e7b91cfc9b4e4984f668561608e1d609f0/expr.ipynb\"><img src=\"data:image/png;base64,iVBORw0KGgoAAAANSUhEUgAAADMAAAAQBAMAAABJt1qBAAAAMFBMVEX///8QEBDMzMy6urpUVFRE\n",
       "RESYmJgiIiLu7u6qqqoyMjLc3NxmZmaIiIh2dnYAAABjjC/7AAAAAXRSTlMAQObYZgAAAAlwSFlz\n",
       "AAAOxAAADsQBlSsOGwAAAPVJREFUGNNjYMAA7V+jGhgefjRgYOB7expNLpLZgYHjB5CxkqF9A6qU\n",
       "+4ZnDAwCDAxsBQx8AahSngFcGxgKGBhYHRg4f4BFeMPLq8AM71zuBSAp/gMMzD9BAsxrG6C6vFkU\n",
       "7oGk+oFS30ACu2AyDN4MAawGQKn9DxiY/oIEVjMgpHQ4KqBS/0ACC5Ck2CZMBbqw/wEDM0gXk3h5\n",
       "eXkpVIrBg0UA7AxOkDM4ApB0MbRwgBwfwMAGdnwBshTTBaBKNgEGHrA1d+FSQUB8CWRIJUOjAkiA\n",
       "awJMqhKIwcr77jqBBThcLSAy6h+BOjgWIAcd81NoQEEBADiYPSy71ckzAAAAAElFTkSuQmCC\n",
       "\" style=\"display:inline;vertical-align:middle;\" /></a></dd>"
      ],
      "text/plain": [
       "<IPython.core.display.HTML object>"
      ]
     },
     "metadata": {},
     "output_type": "display_data"
    },
    {
     "data": {
      "text/html": [
       "</dl>"
      ],
      "text/plain": [
       "<IPython.core.display.HTML object>"
      ]
     },
     "metadata": {},
     "output_type": "display_data"
    },
    {
     "data": {
      "text/html": [
       "<h3>Axioms required (directly or indirectly) to prove tuple_eq_via_elem_eq</h3>"
      ],
      "text/plain": [
       "<IPython.core.display.HTML object>"
      ]
     },
     "metadata": {},
     "output_type": "display_data"
    },
    {
     "data": {
      "text/html": [
       "<dl>"
      ],
      "text/plain": [
       "<IPython.core.display.HTML object>"
      ]
     },
     "metadata": {},
     "output_type": "display_data"
    },
    {
     "data": {
      "text/html": [
       "<dt><a class=\"ProveItLink\" href=\"../../_axioms_.ipynb#empty_range_def\">proveit.core_expr_types.tuples.empty_range_def</a></dt><dd><a class=\"ProveItLink\" href=\"../79be6e38e1cc0a36b7d119f8fa209e61c7d65ee10/expr.ipynb\"><img src=\"data:image/png;base64,iVBORw0KGgoAAAANSUhEUgAAAVMAAAAXBAMAAABE27GJAAAAMFBMVEX///+IiIgiIiIQEBB2dnbu\n",
       "7u5UVFTMzMzc3NwyMjK6urpmZmaYmJiqqqpEREQAAACk/Np2AAAAAXRSTlMAQObYZgAAAAlwSFlz\n",
       "AAAOxAAADsQBlSsOGwAAA7pJREFUSMfNVkFrE0EUfmmyTZrNpumll6iEoq0gShXFU2EpKngobEEP\n",
       "RbEp/QOBgkcblAqCaC6CBw+RCt5q7MVqpbQ3bUEXoT0Jtkg9lnoool6cN29mdiZTt8UI+uBb5tv3\n",
       "zeSbyZvZAfgrkRHQufFij74sqgJ2+neZP4uDAjqHbGHffVk8FrDTMrOO9GOLTj2fAOCeCwRPNAzz\n",
       "u0SkhfQmJELgsIeWmVfIH7ZodUQA4MJEKNptPnQEsb0iLSRqAA+AYA8tMtexHNZbtPpaAGBgJlBt\n",
       "yDViexlagBUBe2iRwZmnwhat9gtAdkdxjDNxnZq0kAwI9tAik1tkdlt0mq0R2KRLkvN4FNerSQsd\n",
       "iwRraJU51dNzukWrrk+A3HhvQ/Dh51iNMZ00LQwfQutlgjW0yrwA2FQZh86vCleJLVgVXEQCmtXa\n",
       "enQWJPenWeNt3AQjLTSS7JmrEQBmezB6VVpmbkMGp+LM48sUHYV9+MjTiMuSY1xlHaK9ItTQFhIA\n",
       "7lcEz4QvWeNDnFWlhVy1kz29EsEIPqzM5INUndH25UqTiqw68i/BRU53sQ5PrB9N1gkAnyR34Ctr\n",
       "TMZZVVpss42T3iZYQ6uMV+C7qtP6dJFVt65TnJt9WkZWBxX3cH9Px1kd1KzO4g7qJ9hWVaa2hB7G\n",
       "h/BdN1/IYhhZbZNcWVVHG6mxoEICwJeIl/cqgEgLcBj0AtBrVS8AGOKfiHe8+EZxxVyvFlm9I7my\n",
       "6jVgYYvFIqkxVSAAnFR8NPRpUMc2Sd0iLWR+4OZZJ5h/bUHP3OLVOI+PKb4Ml1ONyOqM5MpqVg43\n",
       "JRdNHTOZb4o/y7BtigfWaE08nO96Q9dCDkvULRDMw7esZ/KV6LTeUIePtLpGfGHrM1tHbjWtZr4h\n",
       "K6FEAG9b8fwB1jiKFXQEHzjZY7LRE5haaMch26oE8xNQsjNneZXuVKItRlZvSG4XgFCLwwzhliOO\n",
       "C8crb9W+LQVN2iQu2U0BM/qsjMM27CXwar7DSmwCjG1FXFlNyD+Jqc2bxlpHGHF0w/8d3/6kgqFt\n",
       "D98Hxp1HjxUrgws9ETpj1fQAQLdmNV8VHGnm4s8Cf0PTG5MtfMVwYkTjLO5xlX3BHmbQtJPhcXG9\n",
       "2+WKx4ZqyvD7Gp+nJ+uWrGZ9wfNSes3e0s46x9KcxkF8sHO2HBdb07pFPDzzAcEe2szk1yqihGC1\n",
       "42m/ZhXmBHel9vwuZ+RdAZ2z7+W+Ljui3xsBO21mUl1q/otuMdCtpq4Ujbnm6vDfRcY4sKN/5F/5\n",
       "+QV2owsee2DSKgAAAABJRU5ErkJggg==\n",
       "\" style=\"display:inline;vertical-align:middle;\" /></a></dd>"
      ],
      "text/plain": [
       "<IPython.core.display.HTML object>"
      ]
     },
     "metadata": {},
     "output_type": "display_data"
    },
    {
     "data": {
      "text/html": [
       "<dt><a class=\"ProveItLink\" href=\"../../_axioms_.ipynb#range_extension_def\">proveit.core_expr_types.tuples.range_extension_def</a></dt><dd><a class=\"ProveItLink\" href=\"../0ce027ecc541eaf315668d268bdea5bcecf6be190/expr.ipynb\"><img src=\"data:image/png;base64,iVBORw0KGgoAAAANSUhEUgAAAeYAAAAyBAMAAAB7ZWVxAAAAMFBMVEX///+IiIgiIiIQEBB2dnbu\n",
       "7u5UVFTMzMzc3NwyMjK6urpmZmaYmJiqqqpEREQAAACk/Np2AAAAAXRSTlMAQObYZgAAAAlwSFlz\n",
       "AAAOxAAADsQBlSsOGwAACEpJREFUaN7NWl2IW0UUPsnm5v/upi9FWWuXqK0glVbrLy5GcX2R0luo\n",
       "VRHdaME+WDVYEXywGxQFQdu8+INWjFbQQm2z9a8/ilsFsRXaKLpQFTZVtvZBl60Y/1ecOTN37syd\n",
       "ySQP7m0vyb2HOefMvd+dmTPnfAlAdEeyDqf5cKajvuNGraUalqu99VS1tKdtjo940UJOlsItsWZY\n",
       "frWnnmQ/5aDu2YLF0x2KFvPHWstXeH5nxJcHO6PhR2ALm0NDlrqAv4xFtg7eixRy+ndtddXoObFh\n",
       "2JfPB3jW2odkC2erqnX72sDcM7b5G5+IEnNcm9o5vH/fN9NCBvjc2odqy46d/oRvc/d8wza5L4sS\n",
       "8yc6Ajzv9gKZXK1BRrVlxxcyZnS3wnopSswrtZYdeL5eksnEtM491daAGd23WV9bNTrI+EihgERP\n",
       "n15yL5edQRJxE2VLH4EtOAtaJszofqPtOTKNCJezDoaNxylfTmSXk8VYs3UibCEH15gwo/shDBZF\n",
       "PLS7uu3oMI9VtKZlUjgn8jO5WpcNNLCFz2DOhBndv7SmYqeiw7xeb7oa3/usL3sDZG6nZm1Bd1by\n",
       "w/HaUyxeWiwuEZjRfcz6IN9Hh/nyDpgTQ0KeIkGXzu/O23NgC7kh0zij+3brgxyNLIil/tHbXqan\n",
       "/rKQn+uWHEq2wXbfYW53Ws8wGllWkvhDbzuOm23Bl525BAlCNBzre7QDqi3A1roxhlH3I/a8phwV\n",
       "5n7DnMU9ZWvFl7OzT5PhIbCcP4GfRmuSINuSKWrcn6k7jNufZAhwm/tu3jH3tfS21+hpKpCPk1kX\n",
       "p6utSAf6IjqBG75wQcgW7g9hTv7wy13c/UL7jJuF/fT6wrxjHjWkAvFKUOjE+Vb2GMZkfXJ/DSHb\n",
       "FeFxFu5pe72Y/wseplat+d+eDVUtKQbc8stCxuMDHArdlkQs2fa+fDtcYwj3nD1IpU5h5ZVozjvm\n",
       "KdMtTkJ8uiZkEG9/jR7DyCuTbFNzceMjo/uWLvzQ35AnbyUz/zHsaMXQeCfkB6tCxgCDs1ofqDz9\n",
       "Srbj+83xibp347x+A7ikWFw5/5gXmzKB9ERY/qw3+qHT7KXu+W45x78A73d/M//DsTpi8s1yXAXw\n",
       "JKSDXfpWtszx3PDPLn9z5OpUY+ZMmJhUgCy6gnBUj4/OHMxFugYSNKVxDtAJc520cbBgTs6HuZpc\n",
       "EwUd0e0fMJOlpMCjH+4ID75Tj4ks+4EzBjKcR4aogCEseTgcZXzMTpmpHTYdXg/3sfEN4KpsiX6o\n",
       "Y2rhTN0tj8C7ZyZmqB2k0oC29H3MuTpT51iGq9GKJJPmKko7PouOB8gLdA/moGSc2+mwnO7xcavQ\n",
       "0bpT5EprDmRuwypKkLrrV5Hzqzheaz5UMMe5mlyzC/XNfHJlk6qcQdK+Cj8tiNF14j76ZkFgXi0/\n",
       "06KwbOXhJX6J3dpk3ZEYp8aqA4lh8DgCxWJkBLObxjEF81NcTa6JUQ/c0IKmpQxR5VySMXyLnxbb\n",
       "bN3KyDcC82Jp5bjYmrvB43KsYefhIczlK9asH1SlwhvQgx57qYvClXw/Ps4BOgfuoKmq492kYN7F\n",
       "1eT6BClNs6FENddA1c0Jdt1FXXYyzLlYy5ST3Maqo01NLpNSOGMP6yEuX7HGfpgqppJpzr2veMxY\n",
       "cfhbJeT6CxI552Oe5E2TrHRNhTBTenWSXzfjpwWHZmZmmm7FKYmHmKqrSTHA8C5PyHYeXuPyFWvs\n",
       "x0zzw2KPGcsOzq9CvAKrn1v8qCRh3szV5Oq0K9rc7qugCoOgP7cfYuMMb4mFNCY9FJbS2XYgQxce\n",
       "XuPyJWvWj5nmR8xofJlSY/jo2+CU4FgC1pLW5VoMI2p6dWsliBWI4VrwT0CWOJpsIt8F+GmxvDdf\n",
       "h5jIdgaCN5WtBdxWtqbwvp2OMJe/LcyR7bBg3qY6uHPiQYYgNQzrzgKyOviT+pj7q6imV+euKrkQ\n",
       "w03V1JX0NMwqeGqykBVHJ6lL+kda2j8v0hPyVoKllqMhLL9+SYPLa8ahCw+vcfmBNe8Hfx5Yc64R\n",
       "841q97E/pFoWXJSa/u8nPmaaZlB1tuQXQG7w0tjPYlRFXqXToh/quHZmpq48dnK5EgDIwBd8uUR5\n",
       "ykPWcQ5z+ZI16wfHsdE3YcJ8SHVI+mxy/2SFcxGu9+ImNSeBvUxNrrifcUNOX/y8gV73Zt4goBIe\n",
       "/YCJgQhqfGClL+O2iJxu7oMuPLzG5UvWrJ9lWFANNE2Yv1QdBEuVWOCXrXkYfzeEOeGhGvHQVSrV\n",
       "txNwHb7nxO2DHmbdh8GMOTUX3LQecFtEdnAUrTy8xuVL1lOBCglymeZnmMdUh62FroleVeJePcG6\n",
       "aofHT16nNPDyEObrhYworDy8xuVvD4c3hnmPcT1vVx2i4/Th7WA94ww8IeRMudvc1rh8yfpEoKL/\n",
       "U+g+t++OrprZLWIaS3xWCHm0WeKpb89c/pFgwq0IVOm/jJiPqDR/hL/RxcUGjb8R87BE5d2U6hnX\n",
       "aHwblz8uVLwfVOVnjZjHFZo/H+FvscG96F7vhyXc98/xeXjK5Qsa38blXyhUvB9UJVshzPdfu6TA\n",
       "jAOa3/A7+PwdAdG4lIaiciALHr5XLp9Zo4r3g6q+gonmp8YSzR/lfyvgqABEspjJTFPIIMqHXrl8\n",
       "Zk2Dmd8PUSWb4g4KzU+NpRLkRJSUTEbU0iRTvfi2QAbBw/fK5W/xVUE/J2Gsucx43y0KzZ9tR4mZ\n",
       "JOg+kBYc3BvIIHj4Xrn8aV8V9HMn5AbrxvtOKzR/XzNKzNIf956WWlHO97bIOJdvsu5I81NjyeGe\n",
       "aPlG/T+u0R9uLeIb/nT6MUf9X2bor59uyA7+hfY/TNh0awFL8nkAAAAASUVORK5CYII=\n",
       "\" style=\"display:inline;vertical-align:middle;\" /></a></dd>"
      ],
      "text/plain": [
       "<IPython.core.display.HTML object>"
      ]
     },
     "metadata": {},
     "output_type": "display_data"
    },
    {
     "data": {
      "text/html": [
       "<dt><a class=\"ProveItLink\" href=\"../../_axioms_.ipynb#tuple_eq_def\">proveit.core_expr_types.tuples.tuple_eq_def</a></dt><dd><a class=\"ProveItLink\" href=\"../0715bf946c5d71d425b198842edeeaaa7fd7d01b0/expr.ipynb\"><img src=\"data:image/png;base64,iVBORw0KGgoAAAANSUhEUgAAAnMAAAAzBAMAAAAOWZN4AAAAMFBMVEX///+IiIgiIiIQEBB2dnbu\n",
       "7u5UVFTMzMzc3NwyMjK6urpmZmaYmJiqqqpEREQAAACk/Np2AAAAAXRSTlMAQObYZgAAAAlwSFlz\n",
       "AAAOxAAADsQBlSsOGwAACZFJREFUaN7tW2uIHFUWPumumn4/RifqoqvNaNQlClF0CdlVemQ3WcVH\n",
       "GxMfRNM9iAgi2jKyKIpTZtf8yZJtWbIsvrZj/CMK09GgqFF7FMF3OrPRGB+kowTjY7MKDhuzCfG+\n",
       "qu6tvqfrMUwoRvbC6em6dc65t76+r3O+GoD+xVy5sgL/LzOBJnbkSOtotT3QnJuYreaI5Y8c6XpC\n",
       "dxQf79Y5OtwSG8SXbFTQDZSRyqSQ0CUZsC6IHz+7qaihew2r/KWQ0CVdxJ3NxA/mSy2ZWrTQJf+L\n",
       "VObKXEIuPueiOIV3BHf/JtCPd1a00MWwB7tOSMjyMJFUBXMWthxmflI+p4p/VSKF7nWscquQ0A9M\n",
       "nqOFOQs7XaeZn6zPqSLVihS687DKRUJCPzAp52POQhajxP2c79PggSihmzeNdanBZQYPDPAI4ixs\n",
       "ocPpEcQXtkJEBl2shm1dZS6wbuR+n01mywlyG0yNntgBWIo4AxgZqns6Uu+vGxkXfpb69H53JULo\n",
       "xrEnSrW5pBfDf7xX6k1Wngzba/lFdYNJZtBbDK9hVmrCGazpZDyfj90XbkSr1E+vr95SLUYI3Y1o\n",
       "ax0uV7XhGYDr+88487eQIbN0xBkD38uDquoMToN40XyrfzfofdsNafUFceCd8ul9vhQhdL/GKuNN\n",
       "Lq9WyDMlBkv9D6XT6uHmBTB/IOMYcZahK+odx3j5kYW1yv2M+/Q+eyA66BKHvKC7EMyD5EjbH7p4\n",
       "F6pNZdFOk+PJJsxZFzzHUFx9eN4q87PJL2tyKDrojAPoBtdhQsZQ9jtP6Kpl2AawUSxDh9jomepd\n",
       "6zpMzxM6dl+4Ea3KCeux1vFJEw10efTQlS8yMQ9DvvERh07fLWhNtQNf5azfT/Org3SZgvcRZwVS\n",
       "32RA6H5MEPeFG9Eq8/O+X/8/jw66ONqqUePyILzWKjPozB8pUI3eL6lidqGRvKHEr26Fb8jnZsRZ\n",
       "pgVGnUKn+2Ef9P5dthveKvOz2a//Vwjo2GN82g+6PAul27MLXRUNddIlLlcP3TVa56NumIyHGFVe\n",
       "COILrTFHl609no0rerWKHuvgTMQZ/G5wPp9+up/YAnHfdsNbZX7O9Ov/tiaH7kV68Y9+0GWoVsqa\n",
       "5WMdntc5QwjPfNBnz2kzTdZUr1GukiXMmZNf0/3AB5gb5idZCtR/At0fqUW3H3QJuk6un+UJu7uD\n",
       "Vr8jREJn6LPa+bbLUK4ybcyZA53uB8qYG+Yn0w40awh0NMdidPqudTSffNksQ7cND4/yFhf281/8\n",
       "P/LTXqnpyJqrT1Cu1qPOaPnzPzdjfswi5ob58R8ohRqHLkvjn/7bxLvkb2OWoTsFXwDMLhdZ9N+/\n",
       "jV/tRZ15+MniTveivjToumKHPXd4+Lz+0MWHh08tzzJ0V/QJUf8iJHTJWrizmfjJ+i/s8YaA7nkG\n",
       "tGnh0GXqkJ9tMvbVOc7uxkoCurWQpCcqPvkTCy+BY2sKdOTeWl9fd3eDtPisvcTdDnMcukUCunzF\n",
       "EEffO277Gj40KpmKeiTeC5f4+hoINKX/Cj836HJFsUtknqeH42LLcEUT2wPsEvF6kBZP/tlNWGhM\n",
       "ktP3cQAn0eqdH9/vhi6VJVPZ3Dqkr4WrJv9gnxEHb6J/Rib1Zpy6VZMPOtuEy5elSMCC0sxWKGsr\n",
       "uL3WOWebgMvI2c2oVvh2vtO44QkXdMYuMkaW18e1kWKekbATXsdUTmTqY8hOM+ZoO9zrKeogndeR\n",
       "ErRgNHNwe2a9Mbj9xl71eM2G7k/k2wNTkGbHm53QOtkFXZKmWF4CgsB6N3qZVmKROPPtYUnpV+Ca\n",
       "Xh1WlxLa36FH4h2KBC4IzbwjnLWG1A4wv0BCsMTfWtoPW2jZ0OXr7Omzj+3f/28C3YqUO3PyJcvs\n",
       "HAeJx92wFJrz7K14CTxHPi8ATYfWOdrONrxbyciYDSnBi04zh7Fn1uK1GzuQovYpLC1R6DDVDb2J\n",
       "PifpZE7XE2U+6tLbtaSTeQC+XQkxd3+rVv6NynY2daYZRDSB2aND63KDQnu+fW9cOd3bUaN/5Og6\n",
       "u2oPGcaeWYsgd3lD2hewOTtRcQfXSvgvou1GmUcgbwMZYFq+bnHiYJvCYpZhBf9YAXFr/Gn4rEUv\n",
       "F2S75PMhEkdT6FbYarwu9wlw7XtdA95eNxQJUTSaOR7WOs5/yJNukfYT2M5/EVeNV3rSF3LUjVqw\n",
       "nkzc9K/qPEfnhu6p94YYdIkLYMxKLCYfY5301u2X0slO6u4Zop/r3p3PoBvrMI3EYlH3Ja1i2rZf\n",
       "ZXI9qUiIotHMT4a1TvFhWrpP2l+E6T4saU5XDO7KEpuX7/9aC8TUSwJLzrnig3t52q7LOTrgjHtW\n",
       "Z5aaShU7QSsJ9i2KuKhp9FjhKGg08xZ2EvKhrI3BZY61wRbqXFkkI6n93wdf1ho8/rDMX7uO9GES\n",
       "7IljX5YZQjs9ODDfrvvA0ZGZQ35ntNKTa8xOuweALZya9iiSu9ZoZmrvR1knzyY7Pg3WqXWWDf2U\n",
       "lWvZ/TB/rFQtt1feIFXNKjPlwrDQufMz2d66NpLQaaM5Hkgclt/PlsKpaQ/OWeGuNZ6L+vCjrGNl\n",
       "OIcF61N2LpUmehfY9rlpKBS1BhtcVWHokt/PCLrZKQqFvUQKp6a9OeeYiJY1mnmJP2UtA0BqzY+Z\n",
       "NwMMOvYNwT/2NkhV5ak0UgobnkWhE9S0J+dsc9ebEOj8KGs+0Wzr9CJxmltu25Nj3UQHa5CqpuX6\n",
       "PFCKELoJ6fhRKZya9uacbe5ao5kf9aes6QsWLFiXE5YeiDMdYV9os3GpeBU96pmwhShf14nJg90e\n",
       "KZya9uCcJXet08x7/ClrOESQI8E6t2aPHqNLV8O2b5K1zf1b8R5RVQWpbVG+JKZssUulMGoaHM5Z\n",
       "J54d7hqhmZf2UtYIb/0SwLIHpoR1ho6dSTvSpPYD7XxPkCJ6RFUzcgM5HSKETnkh9nEpnJp2OGfJ\n",
       "N7MvC1TuWqeZqQ8XZa2bgzEyWGFDnFrHLBAUzp3C3tzce6wTPaKqMSftFO0LsWLMszbqUnjx4ZwZ\n",
       "6azTzI69jzkJ1rn1mj72SFnjUs/XIoUuVVZDcfd74z6cMyOd9WDfsfcxp8E6s97ql1CQxf1q/US0\n",
       "L/+TINcu+xShxY9zZqQzQjPvC2bOgnVAXnjY1z8I6brURR4tsn90+oXzbbUiehgCeDyC0Myrg5tT\n",
       "a40hXd23r1RVqg/UIoZOcmjJtpTAO7SFjI12KOs3g9u/6VLfBYGge+Po/SvxtzA3i/inTnPlld7Q\n",
       "HcV/Jc435yZ018l/Jf4JgJUAxhOlVdEAAAAASUVORK5CYII=\n",
       "\" style=\"display:inline;vertical-align:middle;\" /></a></dd>"
      ],
      "text/plain": [
       "<IPython.core.display.HTML object>"
      ]
     },
     "metadata": {},
     "output_type": "display_data"
    },
    {
     "data": {
      "text/html": [
       "<dt><a class=\"ProveItLink\" href=\"../../../../logic/equality/_axioms_.ipynb#equalsReflexivity\">proveit.logic.equality.equalsReflexivity</a></dt><dd><a class=\"ProveItLink\" href=\"../../../../logic/equality/__pv_it/6cdce4c3653ab6b67ad52f0dcc73e1bb9f58f9990/expr.ipynb\"><img src=\"data:image/png;base64,iVBORw0KGgoAAAANSUhEUgAAAGIAAAAVBAMAAABPrCZEAAAAMFBMVEX///+IiIgiIiIQEBB2dnbu\n",
       "7u5UVFTMzMzc3NwyMjK6urpmZmaYmJiqqqpEREQAAACk/Np2AAAAAXRSTlMAQObYZgAAAAlwSFlz\n",
       "AAAOxAAADsQBlSsOGwAAAU9JREFUOMtjYMAEDQw4AQdWUcYLuHVwCTAwPAAx7iCLXmHAA2QZGHaB\n",
       "6BlIYqwT8OngDGAoA7nuAZIY9wF8Ong2gDQxsCC7nJkBLzBl4AEayYkstBK/jjkMDEZKSibIQluA\n",
       "OFAs3AU9xKBibgwM2xkYnqIZwrCBMZFbAeQnJTBIYECInWRgaGPgSEDWoQv0XgPjDza0AICJXWJg\n",
       "4AtgWYAsZcXAwM7AhxHEMLF6BgZeARSPg3QwMPALYPoZIrYYiCccBBKCO7yhyWkuiFjfwBqA5g+o\n",
       "GNBVDL5TgWmpIY8TGjgPGRjiFuQzsKDZABM7B8TNQCN4GB6yQ6WAwXe/dDPDWjQdMLGNQMxXABL5\n",
       "DpNaxMAQLci7Bz06YGIa8KD4AEv6TAX4opxDAcpoZpnAgkhreAA8nYadcnSFCb7Ap6MPm2AcPh1P\n",
       "sToVTwbhaWAAADs5S8OycnLnAAAAAElFTkSuQmCC\n",
       "\" style=\"display:inline;vertical-align:middle;\" /></a></dd>"
      ],
      "text/plain": [
       "<IPython.core.display.HTML object>"
      ]
     },
     "metadata": {},
     "output_type": "display_data"
    },
    {
     "data": {
      "text/html": [
       "</dl>"
      ],
      "text/plain": [
       "<IPython.core.display.HTML object>"
      ]
     },
     "metadata": {},
     "output_type": "display_data"
    },
    {
     "data": {
      "text/html": [
       "<h3>No theorems depend upon tuple_eq_via_elem_eq</h3>"
      ],
      "text/plain": [
       "<IPython.core.display.HTML object>"
      ]
     },
     "metadata": {},
     "output_type": "display_data"
    }
   ],
   "source": [
    "%dependencies tuple_eq_via_elem_eq"
   ]
  }
 ],
 "metadata": {
  "kernelspec": {
   "display_name": "Python 3",
   "language": "python",
   "name": "python3"
  },
  "language_info": {
   "codemirror_mode": {
    "name": "ipython",
    "version": 3
   },
   "file_extension": ".py",
   "mimetype": "text/x-python",
   "name": "python",
   "nbconvert_exporter": "python",
   "pygments_lexer": "ipython3",
   "version": "3.7.4"
  }
 },
 "nbformat": 4,
 "nbformat_minor": 1
}
