{
 "cells": [
  {
   "cell_type": "markdown",
   "metadata": {},
   "source": [
    "Show the Proof\n",
    "========"
   ]
  },
  {
   "cell_type": "code",
   "execution_count": 1,
   "metadata": {},
   "outputs": [
    {
     "data": {
      "text/html": [
       "<table><tr><th>&nbsp;</th><th>step type</th><th>requirements</th><th>statement</th></tr>\n",
       "<tr><td><a name=\"proveit.core_expr_types.tuples.c5258654a7b5c154389a03133d123cc4502ef0b30_step0\">0</a></td><td>instantiation</td><td><a href=\"#proveit.core_expr_types.tuples.c5258654a7b5c154389a03133d123cc4502ef0b30_step1\">1</a></td><td><span style=\"font-size:20px;\"> <a class=\"ProveItLink\" href=\"proof.ipynb\" style=\"text-decoration: none\">&#x22A2;&nbsp;</a><a class=\"ProveItLink\" href=\"../2b48f913d36508fe0895918a4aa1d58770e893870/expr.ipynb\"><img src=\"data:image/png;base64,iVBORw0KGgoAAAANSUhEUgAAARkAAAAVBAMAAACAi4frAAAAMFBMVEX///9UVFREREQiIiIQEBCY\n",
       "mJhmZmYyMjLu7u6qqqrMzMyIiIi6urp2dnbc3NwAAABm9RoHAAAAAXRSTlMAQObYZgAAAAlwSFlz\n",
       "AAAOxAAADsQBlSsOGwAAAthJREFUSMellj2IE0EUx99ls5vN17qNjWmW5dRCkEjgUKuoXCMWq0UE\n",
       "EQ1KuEICaZTYnOvhR3FFAjY2Ygq7a/Y8FM2BRDywsFkrQa7Y4xBs5AKinviB87GT7NeY0RvIZPbN\n",
       "/N/85u28mQUPSPH//rN4yT6oQRPVo4HrpJHv7ojmDanXo2ZqeC6qLw58xQPBaRdOJJrpYpJpsi5A\n",
       "7jDfJe6jekajtkSjcC3Z3ObT3AW4ObfNdUj72kEaxRKl+Z5srvFpGjh2fBraVwvSpEVhChy3aZtL\n",
       "UxWhIXpG81qUplhOtmcsHk2hJUJD9IymifOr+cKZSJMpPU3MvqLOo1FcERqiZzRX0W/NS3E0lyu4\n",
       "HMLNTlv9nTREbjEahQyu6IyGrHoiDdEzmiMorWZBib4G9WxU+tCGHxHTbewoW+bFRuqK0BA9ozmF\n",
       "1rQNkhsYVEe/pZWodA7UX+MnBR8Xq9hRbsijSQ9EaIg+QJM2oDMIDDJwdS9+3BQCOZ4CtqxCdWc0\n",
       "RM9orqMd4cJFlPfnVvUneyI0gX3zBcVQbiwt50/3QjTjNxXbN//+pg4gmi7sz3rnZ+EYLPNj8xNu\n",
       "WfKaldbzeohGNnixSTn+jGocxB7vYiNA8xatwZFnitpiGU3Y5NPshn3wcQV2DUjijmkUh0dDchfP\n",
       "2MG7HVfqt2CD0hA9o3mFukrvN/ow5eSqKMMU0zxu7k2guYOPmxI8wqlyyZw2TYvSSB739EPdU9Of\n",
       "SyDhm1PCyTHDGhXb76N6RiP12AnfyxvasMeNDSkn4TFs5UKx2eTfU0fZ0/2Yo6zNWpvBe0qu+9Yt\n",
       "FB3ZcP9Kow1RdM4UQzQNPk2NPbnxE3zUaoS+bw761peQ8bSS7dN8unEl6ebUYR42nvk02ruvDmgG\n",
       "nyblfxKq8XtncbRAI0SzEBtpCNyhqVHD5tOovic5rrfCekTTp3CxD5y6AI3CGhdI3Y/2U8OHyY6o\n",
       "Pt/7A0B77D6oJXjTAAAAAElFTkSuQmCC\n",
       "\" style=\"display:inline;vertical-align:middle;\" /></a></span></td></tr>\n",
       "<tr><td>&nbsp;</td><td colspan=4 style=\"text-align:left\"><span style=\"font-size:20px;\"><a class=\"ProveItLink\" href=\"../../../__pv_it/a8d4b3a34d2189508f9082853fbac36935714f280/expr.ipynb\"><img src=\"data:image/png;base64,iVBORw0KGgoAAAANSUhEUgAAAAsAAAAJBAMAAAAWSsseAAAAMFBMVEX////MzMxUVFQyMjKqqqoi\n",
       "IiKYmJju7u5EREQQEBC6urqIiIh2dnZmZmbc3NwAAAD0tjQRAAAAAXRSTlMAQObYZgAAAAlwSFlz\n",
       "AAAOxAAADsQBlSsOGwAAAEdJREFUCNdjYOC7s28DAwPDygcc3xkY2Kcx8AYwMPB+Z2A9wMDA2cBQ\n",
       "v4CBof4AQz5QRb0DQzPLAwbmDWyxPECV2gcfbWQAABp5EMgcedARAAAAAElFTkSuQmCC\n",
       "\" style=\"display:inline;vertical-align:middle;\" /></a> : <a class=\"ProveItLink\" href=\"../b4c61950a90141583e2776455437b51aa1bf13ff0/expr.ipynb\"><img src=\"data:image/png;base64,iVBORw0KGgoAAAANSUhEUgAAAHgAAAATBAMAAACpedR4AAAAMFBMVEX////MzMxUVFQyMjKqqqoi\n",
       "IiKYmJju7u5EREQQEBC6urqIiIh2dnZmZmbc3NwAAAD0tjQRAAAAAXRSTlMAQObYZgAAAAlwSFlz\n",
       "AAAOxAAADsQBlSsOGwAAAQtJREFUOMtjYCAKsHcGMJAPmC9QoJnfgQLN6wso0HwUuzDfnX0bCGs2\n",
       "2n0Fm/DKBxzfsWvgDQUDBVBofy6of4AlEqYx8KJHA3syuiqW7wz8GzAV8X5nYD2AJAaKEumtGI4w\n",
       "YKg/gKmIs4GhfgGSsgYQ4Yolmtc7YCoCGpjPwJCbuFthmyKaZiQ/8ycw3C/AVFTvwNDM8iBrGsMk\n",
       "hk24beZfAAwbTEXMG9hiefiqAxh+MdzBrZkpgeMCFkXs2gcfbWRg2sA4gSGEgbejY0ZHGxbN7LeB\n",
       "0YxLEacAdwPfBwGcNuNV9B5oLFvDAfyacSlaxMD8gE+7ACr+xv42Ns2EFTUQk01wKSIq00MVAQCs\n",
       "SmMubo9RjwAAAABJRU5ErkJggg==\n",
       "\" style=\"display:inline;vertical-align:middle;\" /></a></span></td></tr><tr><td><a name=\"proveit.core_expr_types.tuples.c5258654a7b5c154389a03133d123cc4502ef0b30_step1\">1</a></td><td>theorem</td><td></td><td><span style=\"font-size:20px;\"> <a class=\"ProveItLink\" href=\"../../../../number/numeral/deci/_proofs_/tuple1_range_len.ipynb\" style=\"text-decoration: none\">&#x22A2;&nbsp;</a><a class=\"ProveItLink\" href=\"../2d7b505e1f5c7f93b18e9e66cd642bdd1f92f0830/expr.ipynb\"><img src=\"data:image/png;base64,iVBORw0KGgoAAAANSUhEUgAAAN0AAAAVBAMAAAAwUfbwAAAAMFBMVEX///+IiIgiIiIQEBB2dnbu\n",
       "7u5UVFTMzMzc3NwyMjK6urpmZmaYmJiqqqpEREQAAACk/Np2AAAAAXRSTlMAQObYZgAAAAlwSFlz\n",
       "AAAOxAAADsQBlSsOGwAAAoZJREFUSMellr+LE0EUx182WfNjN+t2uUY4AscVhxDESixSeXIojI0g\n",
       "wm3uP0h1rcsJV1mkObBQiF51YJHiQE5S5ApBSHERzs5iRYSzE+EKO9+bmbeZvc2QFV9g8t2Z976f\n",
       "ncnsTgDyEeNHC+MrzqdR1GBppInxwuHSDLZYyHgj262rearjxnKeqq8MpUhIfzWHz9nqfH4DVl6z\n",
       "C1Bds7NoTNUjj8QH0i+NDHegrUioOLDzngA8Prm04tTYgeaR2KWlTYwUb6KtSKiY2nljmr+dp8am\n",
       "zENRFyhnRkaZrcrzLmHldYrwZD3xUPg4i7qZccRWR2lXfWLjNQZFeLKeeCRutdu3zYxj9iZRO14J\n",
       "MbVn43ndIjxZTzwS7wF+mBmv2JvEYRxggT/gPq8to8c8eedLebKeeCT2odYzM26yNwr3LniruOlX\n",
       "bfNzZkV4sp54JAJBah532BuFdwkOPWC/bLzysAhP1hOFRDPMbJcMr5xAhGmNzv/xZH2FjQan2Dw9\n",
       "va8zXrM3iqgLZ2CuZ+73+/f1hIf41LvrVS76xt4oohn8bMbgJ7b5BaH2dPMoMd8vCe8XEs/xbr1R\n",
       "taPT7rE3inrob1RwNLTx5E4nzwh3nvsHdJNeKZ6sJ54UQR/g+rDEm/Qte6Nwdzb3W7gLY+vzjgt0\n",
       "7fvvHXDonb0BunFG2LSFHlP1xHP4RIri4KNQ0ulrbxIq9uzvz3W++pJbz6bI1BNvL31Dxs/eaemP\n",
       "tBUJFWM7b8pX3RyvApl64o25pzH+/ID1BXtf6A51fCzmBXqF3DDHewSZeuRlzqE0ttl7W3cEws5z\n",
       "tYWf90mPM1WPvEAs4tUm0GIh45NsW1fzVMeL5f8nVH2pT+IvxMKydHTGwfsAAAAASUVORK5CYII=\n",
       "\" style=\"display:inline;vertical-align:middle;\" /></a></span></td></tr>\n",
       "<tr><td>&nbsp;</td><td colspan=4 style-\"text-align:left\"><a class=\"ProveItLink\" href=\"../../../../number/numeral/deci/_proofs_/tuple1_range_len.ipynb\">proveit.number.numeral.deci.tuple1_range_len</a></td></tr></table>"
      ],
      "text/plain": [
       "<proveit._core_.proof._ShowProof at 0x2323fe436c8>"
      ]
     },
     "execution_count": 1,
     "metadata": {},
     "output_type": "execute_result"
    }
   ],
   "source": [
    "import proveit\n",
    "# Automation is not needed when only showing a stored proof:\n",
    "proveit.defaults.automation = False # This will speed things up.\n",
    "%show_proof"
   ]
  },
  {
   "cell_type": "code",
   "execution_count": null,
   "metadata": {},
   "outputs": [],
   "source": []
  }
 ],
 "metadata": {
  "kernelspec": {
   "display_name": "Python 3",
   "language": "python",
   "name": "python3"
  },
  "language_info": {
   "codemirror_mode": {
    "name": "ipython",
    "version": 3
   },
   "file_extension": ".py",
   "mimetype": "text/x-python",
   "name": "python",
   "nbconvert_exporter": "python",
   "pygments_lexer": "ipython3",
   "version": "3.7.4"
  }
 },
 "nbformat": 4,
 "nbformat_minor": 1
}
