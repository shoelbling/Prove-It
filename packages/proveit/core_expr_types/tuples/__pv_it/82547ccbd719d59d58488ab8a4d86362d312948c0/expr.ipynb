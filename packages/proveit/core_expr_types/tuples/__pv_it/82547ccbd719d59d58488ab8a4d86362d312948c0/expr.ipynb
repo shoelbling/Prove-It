{
 "cells": [
  {
   "cell_type": "markdown",
   "metadata": {},
   "source": [
    "Expression of type <a class=\"ProveItLink\" href=\"../../../../../../doc/html/api/proveit.logic.Forall.html\">Forall</a>\n",
    "=======================\n",
    "# from context <a class=\"ProveItLink\" href=\"../../_context_.ipynb\">proveit.core_expr_types.tuples</a>"
   ]
  },
  {
   "cell_type": "code",
   "execution_count": 1,
   "metadata": {},
   "outputs": [],
   "source": [
    "import proveit\n",
    "# Automation is not needed when building an expression:\n",
    "proveit.defaults.automation = False # This will speed things up.\n",
    "# import Expression classes needed to build the expression\n",
    "from proveit import Variable\n",
    "from proveit.logic import And, Forall"
   ]
  },
  {
   "cell_type": "code",
   "execution_count": 2,
   "metadata": {},
   "outputs": [
    {
     "data": {
      "text/html": [
       "<strong id=\"expr\">expr:</strong> <a class=\"ProveItLink\" href=\"expr.ipynb\"><img src=\"data:image/png;base64,iVBORw0KGgoAAAANSUhEUgAAAK0AAAAXBAMAAACL0NJjAAAAMFBMVEX///+IiIgiIiIQEBB2dnbu\n",
       "7u5UVFTMzMzc3NwyMjK6urpmZmaYmJiqqqpEREQAAACk/Np2AAAAAXRSTlMAQObYZgAAAAlwSFlz\n",
       "AAAOxAAADsQBlSsOGwAAArhJREFUOMutlUtoE1EUhv9JMnnMZOKIK0Fp6EZEF1FEXVjJIohQSscq\n",
       "gggSXFRKFwkU3DZYEAQh2US60URcdOOjYFF81diFCBU7C10pGBF1IaUVbNNYSzz3MWE6tdFUByb3\n",
       "ce757rn/PXMCbOgJt7TmsNFnu2gu/d56nd4q67xrE2skRVvyzL9qfO6/loViAw/ZeLRN7imJb8hx\n",
       "j2M4DARrQBE4z9Sqtsl9LBo9I5RUdzqyfwO0ZWAaiFhAwG6TmxDN0d4sb5XnZTERpVijxPZbiFaI\n",
       "3SZWK4jozA4RkC8kDxycJ9hBegm6t7NzX5tcXVybjvcV3nntXJC/CvUsnSGQBu4Dn/ik5fEel626\n",
       "hhsRuFsYFhuM4q0wDH/YPMBsUTrQRYTT3P0AN91eTk0K1ZzLPM6H2txE9xc547PlxnnuGUrDJ4Lq\n",
       "yME4xBIlDsSsAFc9sCKkj0NJrOL2CsoUsEXO+LmD8vVRhq8JUsaa3PCRLacwQqSzYYprG9sjpB9H\n",
       "dN7N1YaEzyAws4p7DNgUl9ms8g4W6Z2h5RqLrPCMz5lXhI+Nvoqbq0T4YdEFdbejry319yWcr+IJ\n",
       "F+Qn/WTKQgf0FLk7HnCf/Lbpc3BzTb0gUv7lvazkxtgJNJag/GRxp1IoS8SuMzGZ7wiPZ0yqNwV1\n",
       "0M3VskJu0v2kkyEsjTDCNlhiFrZLjO0ZoZU3WJR6cwoTqYwlZcyXXVw9dWRB6h7+4XwXFOGZRhHG\n",
       "XD3JLp5JQJ1gabF/YJYnTLNSKoTLChlxx51nJsI1qbtWc1bv+MOHc6HZu0mXa6tJhBeg7nLpwFRc\n",
       "wQna1UKfowOrK39Tl+i0+6E+vRrqwtbvqUnbxb2bxum6PWQrpVT3bNMv1vofYU19NNwDt9FT8NTW\n",
       "hTXmLQlv1uEa3oWXW3JfeCcq63Cj+I9P7l+cfwHI9aougK8NwAAAAABJRU5ErkJggg==\n",
       "\" style=\"display:inline;vertical-align:middle;\" /></a><br>"
      ],
      "text/plain": [
       "expr: forall_{A, B | A , B} (A and B)"
      ]
     },
     "execution_count": 2,
     "metadata": {},
     "output_type": "execute_result"
    }
   ],
   "source": [
    "# build up the expression from sub-expressions\n",
    "subExpr1 = [Variable(\"A\"), Variable(\"B\")]\n",
    "expr = Forall(subExpr1, And(Variable(\"A\"), Variable(\"B\")), conditions = subExpr1)"
   ]
  },
  {
   "cell_type": "code",
   "execution_count": 3,
   "metadata": {},
   "outputs": [
    {
     "name": "stdout",
     "output_type": "stream",
     "text": [
      "Passed sanity check: built 'expr' is the same as the stored Expression.\n"
     ]
    }
   ],
   "source": [
    "# check that the built expression is the same as the stored expression\n",
    "%check_expr"
   ]
  },
  {
   "cell_type": "code",
   "execution_count": 4,
   "metadata": {},
   "outputs": [
    {
     "name": "stdout",
     "output_type": "stream",
     "text": [
      "\\forall_{A, B~|~A , B}~\\left(A \\land B\\right)\n"
     ]
    }
   ],
   "source": [
    "# Show the LaTeX representation of the expression for convenience if you need it.\n",
    "print(expr.latex())"
   ]
  },
  {
   "cell_type": "code",
   "execution_count": 5,
   "metadata": {},
   "outputs": [
    {
     "data": {
      "text/html": [
       "<table><tr><th>&nbsp;</th><th>core type</th><th>sub-expressions</th><th>expression</th></tr>\n",
       "<tr><td>0</td><td>Operation</td><td>operator:&nbsp;1<br>operand:&nbsp;2<br></td><td><a class=\"ProveItLink\" href=\"expr.ipynb\"><img src=\"data:image/png;base64,iVBORw0KGgoAAAANSUhEUgAAAK0AAAAXBAMAAACL0NJjAAAAMFBMVEX///+IiIgiIiIQEBB2dnbu\n",
       "7u5UVFTMzMzc3NwyMjK6urpmZmaYmJiqqqpEREQAAACk/Np2AAAAAXRSTlMAQObYZgAAAAlwSFlz\n",
       "AAAOxAAADsQBlSsOGwAAArhJREFUOMutlUtoE1EUhv9JMnnMZOKIK0Fp6EZEF1FEXVjJIohQSscq\n",
       "gggSXFRKFwkU3DZYEAQh2US60URcdOOjYFF81diFCBU7C10pGBF1IaUVbNNYSzz3MWE6tdFUByb3\n",
       "ce757rn/PXMCbOgJt7TmsNFnu2gu/d56nd4q67xrE2skRVvyzL9qfO6/loViAw/ZeLRN7imJb8hx\n",
       "j2M4DARrQBE4z9Sqtsl9LBo9I5RUdzqyfwO0ZWAaiFhAwG6TmxDN0d4sb5XnZTERpVijxPZbiFaI\n",
       "3SZWK4jozA4RkC8kDxycJ9hBegm6t7NzX5tcXVybjvcV3nntXJC/CvUsnSGQBu4Dn/ik5fEel626\n",
       "hhsRuFsYFhuM4q0wDH/YPMBsUTrQRYTT3P0AN91eTk0K1ZzLPM6H2txE9xc547PlxnnuGUrDJ4Lq\n",
       "yME4xBIlDsSsAFc9sCKkj0NJrOL2CsoUsEXO+LmD8vVRhq8JUsaa3PCRLacwQqSzYYprG9sjpB9H\n",
       "dN7N1YaEzyAws4p7DNgUl9ms8g4W6Z2h5RqLrPCMz5lXhI+Nvoqbq0T4YdEFdbejry319yWcr+IJ\n",
       "F+Qn/WTKQgf0FLk7HnCf/Lbpc3BzTb0gUv7lvazkxtgJNJag/GRxp1IoS8SuMzGZ7wiPZ0yqNwV1\n",
       "0M3VskJu0v2kkyEsjTDCNlhiFrZLjO0ZoZU3WJR6cwoTqYwlZcyXXVw9dWRB6h7+4XwXFOGZRhHG\n",
       "XD3JLp5JQJ1gabF/YJYnTLNSKoTLChlxx51nJsI1qbtWc1bv+MOHc6HZu0mXa6tJhBeg7nLpwFRc\n",
       "wQna1UKfowOrK39Tl+i0+6E+vRrqwtbvqUnbxb2bxum6PWQrpVT3bNMv1vofYU19NNwDt9FT8NTW\n",
       "hTXmLQlv1uEa3oWXW3JfeCcq63Cj+I9P7l+cfwHI9aougK8NwAAAAABJRU5ErkJggg==\n",
       "\" style=\"display:inline;vertical-align:middle;\" /></a></td></tr>\n",
       "<tr><td>1</td><td>Literal</td><td></td><td><a class=\"ProveItLink\" href=\"../../../../logic/boolean/quantification/universal/__pv_it/fd9c772d6675566ed52a6897806f45eb08a4ea910/expr.ipynb\"><img src=\"data:image/png;base64,iVBORw0KGgoAAAANSUhEUgAAAAwAAAAOBAMAAADpk+DfAAAAMFBMVEX///+IiIgiIiIQEBB2dnbu\n",
       "7u5UVFTMzMzc3NwyMjK6urpmZmaYmJiqqqpEREQAAACk/Np2AAAAAXRSTlMAQObYZgAAAAlwSFlz\n",
       "AAAOxAAADsQBlSsOGwAAAFNJREFUCNdjeMAABHcYdoGoGQxlQJLjAQNnAAMDywUGngMMDJxAESMl\n",
       "JRMgtZ2B4SmQamPgSABSfAEsC4AUrwBIBQPDhINgyncqmGpOAFN8BQwMAB49Dl+s5gmkAAAAAElF\n",
       "TkSuQmCC\n",
       "\" style=\"display:inline;vertical-align:middle;\" /></a></td></tr>\n",
       "<tr><td>2</td><td>Lambda</td><td>parameters:&nbsp;6<br>body:&nbsp;3<br></td><td><a class=\"ProveItLink\" href=\"../1573a7ded0342f2c85223a0f8d07c9183884fde90/expr.ipynb\"><img src=\"data:image/png;base64,iVBORw0KGgoAAAANSUhEUgAAAOcAAAAVCAMAAACKcAkAAAAANlBMVEX///8WFhYNDQ3MzMxUVFRE\n",
       "REQiIiK6uroQEBCYmJhmZmYyMjLu7u52dnaqqqqIiIjc3NwAAACgirQNAAAAAXRSTlMAQObYZgAA\n",
       "AAlwSFlzAAAOxAAADsQBlSsOGwAAAplJREFUWMPNWNlywyAMpEXcmOP/f7bYYJvDYOhMO9FDmtiw\n",
       "2hVCiCIUzKEFWxqsGUMfY9bkMtTLaGYXkJXRaAV8aMI2QVsBNFv+S/kWn3hPAEAR3IRljOx1+eAB\n",
       "fOQpaeEiTjbY10Lf2d6ppUpqT1Q4Of6AP6YqPalzo7XuCnwzY08xgbw8+FPkQL8A9jCCSVH8At9u\n",
       "QOdt4VH+UmcNrqkae0rDIm1oHcywvdQXzNxWRiGmQnomEgLvLKh1Q50NuBXAxp4ygza6c2xTVuQh\n",
       "dRZZ324/SNmheBSiRBXrM43kSGcLThEmY09DnZNs09LnVUjuKS86Ca+BpuBtkFEtiQ90NuB7AVRu\n",
       "6OkoqTy4w8B5nbmTbFG9NoiF4GC/1ROxJ9ZauEcK1VFmyuWRea604LvGMgUaT9EHPO7PWbYJxBQB\n",
       "Cru42e82bnbDz6mG9lbQEp0XBIEG4Pj4TvXI02HkWecs27TKLCMpZahgpJ5JUqm6Nj2+q/n3Fy3M\n",
       "X0ccBsqKCNTgEE9jO/I00DnNttapo0dP65lnzK4CxnhvPZm6tWmZHbQteDq3NR156uucZ5s2icnz\n",
       "YGfOm4QXZyFjL3mLyxaCAOqDnz2CNANPfZ3zbBPIqZqJopXSdcIHBHW1Vh2dVfW8620Fns/MWtTW\n",
       "U1fnAtvyjHBnYMgxUN/DFE/Jei2WvDOiiBnrnZ8VeGzKLxm47ykOIPcnWmcbX7ODiw7N7/HC7F/2\n",
       "Wk1TIQTlPRxt8Z1ftHM3k/hRZwu+E7xo4PTkydP+mnBOdPj0V+qtsd1fhwWguHPZ6Hbrjv6yv/1D\n",
       "M693i15XvnVnSPF5Orf3IeQxC3X3Ou3I9DWb/5dMPXH514+8+2tG9LR3bv5J51SGObEEufAPIifB\n",
       "oI+wHxA+IR9I8HhWAAAAAElFTkSuQmCC\n",
       "\" style=\"display:inline;vertical-align:middle;\" /></a></td></tr>\n",
       "<tr><td>3</td><td>Conditional</td><td>value:&nbsp;4<br>condition:&nbsp;4<br></td><td><a class=\"ProveItLink\" href=\"../b21ee772f5bb2ecc33d3a6b252ed000973a842d90/expr.ipynb\"><img src=\"data:image/png;base64,iVBORw0KGgoAAAANSUhEUgAAAI4AAAAVBAMAAABicsu7AAAAMFBMVEX///8QEBBERERUVFTMzMyY\n",
       "mJjc3NxmZmYiIiJ2dnaqqqoyMjKIiIi6urru7u4AAAAvZeGPAAAAAXRSTlMAQObYZgAAAAlwSFlz\n",
       "AAAOxAAADsQBlSsOGwAAAgdJREFUOMtjYGDgu8tAFXB6HYTOxq8s5gKUwbYBqzzXPyhjP5pE0H9l\n",
       "400OYJ2iDAzcS/5Cxbk/YKoAAs4GqHn/oQKzYMqEGBiYv4AYvN8ZGCLY7KDC6+HmIFQgmcNunwCm\n",
       "+bph7v8DMQEIHjAwGMM1F39jwFSBMGfafIgLeYKhAcEKtIn1D0yPOYzBmQlzAaoKqDlsB84vADM4\n",
       "WBQgEsxA93OLYZiTw/MLxkRRATWHnWF9AJixkmEbRIJRgYHPAuzGbGEGZ0GYxwq4vsLMQagAGQCJ\n",
       "xlsM/hPAjG0MyyES/jpnrCFGMzQjwod3ActPmDlIKhgY8iGsAoZ8AxDNYsDA8QAscj6BgUsUokYZ\n",
       "YQ47A9tnmFYkFQzOvZDQVS+3B4cLswMDzwGwkCIQQ8MeyZxD5cWfYOYgqWDgqwbb/oaBgR8cUK+B\n",
       "QpAQA1kbfwDNHD6gwA+YOUgqGBiYDCDeYuAQgKXCKrAHQcFpfwHNHHYgboTqRFYBjS/eAFh6b4Dl\n",
       "NB5gcmP5jR4+VyEZiA9dBdScRJDDQOmUFeRMJpCfuYHOu7gPokYJjECpDORm/QSG9xtQVPD9hpjz\n",
       "6P8+Bi7938CIZwKFFguQwbz/s7G1FsQYJ0E9J3kdkHr93w8YFv3fycDRh6qiHZEvSAPrMETIM2cC\n",
       "hgiPABnG8B3AFJIiwxxWLGLpVlQonAFBt4Z65LUqiwAAAABJRU5ErkJggg==\n",
       "\" style=\"display:inline;vertical-align:middle;\" /></a></td></tr>\n",
       "<tr><td>4</td><td>Operation</td><td>operator:&nbsp;5<br>operands:&nbsp;6<br></td><td><a class=\"ProveItLink\" href=\"../645b9b1f48664370ecac54d2d8d6e7135a3f0a1a0/expr.ipynb\"><img src=\"data:image/png;base64,iVBORw0KGgoAAAANSUhEUgAAADcAAAAPBAMAAACy3Eq1AAAAMFBMVEX///8QEBAiIiLu7u5ERES6\n",
       "urqYmJiIiIjMzMx2dnZUVFRmZmaqqqoyMjLc3NwAAABb1yYoAAAAAXRSTlMAQObYZgAAAAlwSFlz\n",
       "AAAOxAAADsQBlSsOGwAAAQZJREFUGNNjYACBtwx4wH00Ppv/l1VrPSBsnv9QwTkwWUYHBob1DWAm\n",
       "9/oHYJpZFyb5voCBIX4DmDlvPkQRe1YAVDIfKJBfAGLxFdQfAAsxcThAJdcD8UWwcdwM5xPAQicZ\n",
       "7kElRRgYrDTArBiG/glgxj2G0xA5ji/lVdcgzA0M7xeAhRYwMBlALP/HwHAQbBq79+71YLu4GhjY\n",
       "wY5gYBFgYOD8AWKZMzDwK4AYtkDPgBkM/ECT2L5DTGVgEoAFwR6wZD/QSK6vQAYrkMH7ASSkAA/l\n",
       "eqAv+i8AGQ9BdvwDBSjIPhZwcFwE6pEFus3k/2UGHv+/QL+wgFzKAfLU2v+rVl0BhgsAzw9AO6zb\n",
       "Ip4AAAAASUVORK5CYII=\n",
       "\" style=\"display:inline;vertical-align:middle;\" /></a></td></tr>\n",
       "<tr><td>5</td><td>Literal</td><td></td><td><a class=\"ProveItLink\" href=\"../../../../logic/boolean/conjunction/__pv_it/f41cc6b553210927c09f19a8a39cdf860a5585930/expr.ipynb\"><img src=\"data:image/png;base64,iVBORw0KGgoAAAANSUhEUgAAAAwAAAANBAMAAABvB5JxAAAALVBMVEX///9mZmbc3NxERETMzMy6\n",
       "urpUVFSYmJiIiIgyMjIiIiLu7u6qqqp2dnYAAACMfHT6AAAAAXRSTlMAQObYZgAAAAlwSFlzAAAO\n",
       "xAAADsQBlSsOGwAAAEpJREFUCNdjYGDgPcAAArsmgKn2VDC1wBlE8lzgVABSnAo8AkDKjYFhNZBK\n",
       "YWDoYGDgBirfBdHMeICBCyjONIGhAqTJhMEaRPkCACemC8GDBfsjAAAAAElFTkSuQmCC\n",
       "\" style=\"display:inline;vertical-align:middle;\" /></a></td></tr>\n",
       "<tr><td>6</td><td>ExprTuple</td><td>7, 8</td><td><a class=\"ProveItLink\" href=\"../7999cdc030dc214006d7286ab60a527860367ca80/expr.ipynb\"><img src=\"data:image/png;base64,iVBORw0KGgoAAAANSUhEUgAAADUAAAAVBAMAAAAUZLt1AAAAMFBMVEX////MzMxUVFREREQiIiK6\n",
       "uroQEBCYmJhmZmYyMjLu7u52dnaqqqqIiIjc3NwAAACFAiZ1AAAAAXRSTlMAQObYZgAAAAlwSFlz\n",
       "AAAOxAAADsQBlSsOGwAAAUlJREFUKM9tkjFLw1AUhY82bdI2TfMPUrJ1StxctBUcHV0ExYA4uL3R\n",
       "yWZTcCkIFYpgsHOh+ANsJxcHg7s0gwhOrRSHDjbe95I0QRp44Z3z3XceuTcAAqx6hFsZif3XP3bE\n",
       "Xy/R/j4x5cbMrG+II6W2cNRweaJgA5aOLqAwYSjW8tqJDxy7OKeqyHga6glr0a7lo+DhQGjNH48S\n",
       "ZtHqBCgyXEeReGUJOwEedoByDbdCH8IYxGht9v7GTbmNPWG4mNRiVlkAzxSiNnEq9OaVZccs51De\n",
       "N52fRqwPVJsxq1KA/AvkHdxFkZCcmBmUt/4jMrdI5kkWp4DH2ZiaYFCzZBuPJD/5NQuU5px1qPaM\n",
       "qhQf+0Av7EJtzAfYJasemuYN74MUQNLTuaheZkgfFOumspwd4CWt7VT2M0jj39tLNcuwHM/X2Mr/\n",
       "5QL4A652SjnTmh5GAAAAAElFTkSuQmCC\n",
       "\" style=\"display:inline;vertical-align:middle;\" /></a></td></tr>\n",
       "<tr><td>7</td><td>Variable</td><td></td><td><a class=\"ProveItLink\" href=\"../d3792d0d8642fdf1cd2a3a9b32c673ee13653de00/expr.ipynb\"><img src=\"data:image/png;base64,iVBORw0KGgoAAAANSUhEUgAAAA8AAAAPBAMAAADJ+Ih5AAAAMFBMVEX///8QEBAiIiLu7u5ERES6\n",
       "urqYmJiIiIjMzMx2dnZUVFRmZmaqqqoyMjLc3NwAAABb1yYoAAAAAXRSTlMAQObYZgAAAAlwSFlz\n",
       "AAAOxAAADsQBlSsOGwAAAF9JREFUCNdjYACBtwxQcB9K8/yHMrjXP4Aw5s1vANN8BfUHIDIM5xPA\n",
       "jBiG/glgxgaG9wtANLv37vUOIIY5AwO/AkSGgUkASLMCdfB+ADIeAjHLPwYGk/+XGXj8/04AADnq\n",
       "Fzds8Dk2AAAAAElFTkSuQmCC\n",
       "\" style=\"display:inline;vertical-align:middle;\" /></a></td></tr>\n",
       "<tr><td>8</td><td>Variable</td><td></td><td><a class=\"ProveItLink\" href=\"../4d98b438710c5ada9ffa4646bb123a7d0e69ec000/expr.ipynb\"><img src=\"data:image/png;base64,iVBORw0KGgoAAAANSUhEUgAAABAAAAAOBAMAAADUAYG5AAAAMFBMVEX///92dnaqqqoiIiLu7u5m\n",
       "Zma6urqIiIjc3NwQEBDMzMwyMjJUVFRERESYmJgAAAAeMT9/AAAAAXRSTlMAQObYZgAAAAlwSFlz\n",
       "AAAOxAAADsQBlSsOGwAAAHJJREFUCNdjYGB4+//Omb0LGIBgLgMDzy8gzfGdgYHtK5DBB+TxATkM\n",
       "PB8YGLhnABmcFxhYDoMUr79efvoBSFN9AwPTPBDjJhDLg6T+APH7AgYGrn9AxvkEBgb2H0DObyCH\n",
       "ewIDQ+YWoHH7/5w5fYmBAQBdUiHY6HsJaQAAAABJRU5ErkJggg==\n",
       "\" style=\"display:inline;vertical-align:middle;\" /></a></td></tr>\n",
       "</table>\n"
      ],
      "text/plain": [
       "0. forall_{A, B | A , B} (A and B)\n",
       "   core type: Operation\n",
       "   operator: 1\n",
       "   operand: 2\n",
       "1. forall\n",
       "   core type: Literal\n",
       "   sub-expressions: \n",
       "2. (A, B) -> {A and B if A ,  B.\n",
       "   core type: Lambda\n",
       "   parameters: 6\\n   body: 3\n",
       "3. {A and B if A ,  B.\n",
       "   core type: Conditional\n",
       "   value: 4\n",
       "   condition: 4\n",
       "4. A and B\n",
       "   core type: Operation\n",
       "   operator: 5\n",
       "   operands: 6\n",
       "5. and\n",
       "   core type: Literal\n",
       "   sub-expressions: \n",
       "6. (A , B)\n",
       "   core type: ExprTuple\n",
       "   sub-expressions: 7, 8\n",
       "7. A\n",
       "   core type: Variable\n",
       "   sub-expressions: \n",
       "8. B\n",
       "   core type: Variable\n",
       "   sub-expressions: "
      ]
     },
     "execution_count": 5,
     "metadata": {},
     "output_type": "execute_result"
    }
   ],
   "source": [
    "# display the expression information\n",
    "expr.exprInfo()"
   ]
  },
  {
   "cell_type": "code",
   "execution_count": null,
   "metadata": {},
   "outputs": [],
   "source": []
  }
 ],
 "metadata": {
  "kernelspec": {
   "display_name": "Python 3",
   "language": "python",
   "name": "python3"
  },
  "language_info": {
   "codemirror_mode": {
    "name": "ipython",
    "version": 3
   },
   "file_extension": ".py",
   "mimetype": "text/x-python",
   "name": "python",
   "nbconvert_exporter": "python",
   "pygments_lexer": "ipython3",
   "version": "3.7.4"
  }
 },
 "nbformat": 4,
 "nbformat_minor": 1
}
