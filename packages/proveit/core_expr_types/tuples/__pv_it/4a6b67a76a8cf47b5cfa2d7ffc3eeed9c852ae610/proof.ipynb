{
 "cells": [
  {
   "cell_type": "markdown",
   "metadata": {},
   "source": [
    "Show the Proof\n",
    "========"
   ]
  },
  {
   "cell_type": "code",
   "execution_count": 1,
   "metadata": {},
   "outputs": [
    {
     "data": {
      "text/html": [
       "<table><tr><th>&nbsp;</th><th>step type</th><th>requirements</th><th>statement</th></tr>\n",
       "<tr><td><a name=\"proveit.core_expr_types.tuples.4a6b67a76a8cf47b5cfa2d7ffc3eeed9c852ae610_step0\">0</a></td><td>instantiation</td><td><a href=\"#proveit.core_expr_types.tuples.4a6b67a76a8cf47b5cfa2d7ffc3eeed9c852ae610_step1\">1</a>, <a href=\"#proveit.core_expr_types.tuples.4a6b67a76a8cf47b5cfa2d7ffc3eeed9c852ae610_step2\">2</a></td><td><span style=\"font-size:20px;\"> <a class=\"ProveItLink\" href=\"proof.ipynb\" style=\"text-decoration: none\">&#x22A2;&nbsp;</a><a class=\"ProveItLink\" href=\"../1e14a67ceac7602d2aef472d532aad7c77eac7e00/expr.ipynb\"><img src=\"data:image/png;base64,iVBORw0KGgoAAAANSUhEUgAAAEcAAAAVBAMAAADm2O7QAAAAMFBMVEX///9mZmbMzMyIiIiYmJjc\n",
       "3NxUVFSqqqq6uroQEBB2dnYyMjJEREQiIiLu7u4AAAAPqInnAAAAAXRSTlMAQObYZgAAAAlwSFlz\n",
       "AAAOxAAADsQBlSsOGwAAAOZJREFUKM9jYIADRgYiAA+Fit7+Of2AYeXPBmyKEHLHORIY+P5hNwku\n",
       "lxuwhIFhAoPMmZNnzjhA5Gzu3r17iQEhx8CQfoA7gOECsknapjAWXC7VmXUDiiK+q3Dr4HKpbApW\n",
       "KIrYGhCKYHKpDAd4GpAVcSMcDpdLZVDku3cBKcTVkBVB5VIZWApqJiD5OwxZEVQulYEhjw1ZES+y\n",
       "IqgckPGM7wKSIkYHZEUQOSCDyeAAcjjvQFYEkTsExEYoip5lPICy4HLXQTZsQImyrrPQaIHJ6f4E\n",
       "quTbgDWF4JOjGmC8exeWVKAAADmsWOq+YzxOAAAAAElFTkSuQmCC\n",
       "\" style=\"display:inline;vertical-align:middle;\" /></a></span></td></tr>\n",
       "<tr><td>&nbsp;</td><td colspan=4 style=\"text-align:left\"><span style=\"font-size:20px;\"><a class=\"ProveItLink\" href=\"../../../../__pv_it/d3792d0d8642fdf1cd2a3a9b32c673ee13653de00/expr.ipynb\"><img src=\"data:image/png;base64,iVBORw0KGgoAAAANSUhEUgAAAA8AAAAPBAMAAADJ+Ih5AAAAMFBMVEX///8QEBAiIiLu7u5ERES6\n",
       "urqYmJiIiIjMzMx2dnZUVFRmZmaqqqoyMjLc3NwAAABb1yYoAAAAAXRSTlMAQObYZgAAAAlwSFlz\n",
       "AAAOxAAADsQBlSsOGwAAAF9JREFUCNdjYACBtwxQcB9K8/yHMrjXP4Aw5s1vANN8BfUHIDIM5xPA\n",
       "jBiG/glgxgaG9wtANLv37vUOIIY5AwO/AkSGgUkASLMCdfB+ADIeAjHLPwYGk/+XGXj8/04AADnq\n",
       "Fzds8Dk2AAAAAElFTkSuQmCC\n",
       "\" style=\"display:inline;vertical-align:middle;\" /></a> : <a class=\"ProveItLink\" href=\"../../../../number/sets/integer/__pv_it/f6a9f4b6dec6ab4d2dcb6ba1b0ba3cceefc643530/expr.ipynb\"><img src=\"data:image/png;base64,iVBORw0KGgoAAAANSUhEUgAAABsAAAASBAMAAABY9biuAAAAMFBMVEX///9mZmbMzMyIiIiYmJjc\n",
       "3NxUVFSqqqq6uroQEBB2dnYyMjJEREQiIiLu7u4AAAAPqInnAAAAAXRSTlMAQObYZgAAAAlwSFlz\n",
       "AAAOxAAADsQBlSsOGwAAAH9JREFUGNNjYIADRgYUwIOF+/bP6QcMK382wGSPcyQw8P2DK84NWMLA\n",
       "MIFB5szJM2ccGBjSD3AHMFyAy6Y6s25A5rIpWCFzGQ7wNCBzFfnuXYC7KpWBpaBmAtwxqQwMeWwo\n",
       "3Gd8F5C5TAYH4NxDQGyE4F4HGboBxtP9CZThg3EBugMlU91oyisAAAAASUVORK5CYII=\n",
       "\" style=\"display:inline;vertical-align:middle;\" /></a>, <a class=\"ProveItLink\" href=\"../../../../__pv_it/4d98b438710c5ada9ffa4646bb123a7d0e69ec000/expr.ipynb\"><img src=\"data:image/png;base64,iVBORw0KGgoAAAANSUhEUgAAABAAAAAOBAMAAADUAYG5AAAAMFBMVEX///92dnaqqqoiIiLu7u5m\n",
       "Zma6urqIiIjc3NwQEBDMzMwyMjJUVFRERESYmJgAAAAeMT9/AAAAAXRSTlMAQObYZgAAAAlwSFlz\n",
       "AAAOxAAADsQBlSsOGwAAAHJJREFUCNdjYGB4+//Omb0LGIBgLgMDzy8gzfGdgYHtK5DBB+TxATkM\n",
       "PB8YGLhnABmcFxhYDoMUr79efvoBSFN9AwPTPBDjJhDLg6T+APH7AgYGrn9AxvkEBgb2H0DObyCH\n",
       "ewIDQ+YWoHH7/5w5fYmBAQBdUiHY6HsJaQAAAABJRU5ErkJggg==\n",
       "\" style=\"display:inline;vertical-align:middle;\" /></a> : <a class=\"ProveItLink\" href=\"../../../../number/sets/integer/__pv_it/b49c37b99b7e8d73a8d7971bcf454d693b90a2c60/expr.ipynb\"><img src=\"data:image/png;base64,iVBORw0KGgoAAAANSUhEUgAAAA8AAAAPBAMAAADJ+Ih5AAAAMFBMVEX///9mZmbMzMyIiIiYmJjc\n",
       "3NxUVFSqqqq6uroQEBB2dnYyMjJEREQiIiLu7u4AAAAPqInnAAAAAXRSTlMAQObYZgAAAAlwSFlz\n",
       "AAAOxAAADsQBlSsOGwAAAGpJREFUCNdjePvn9AOGlT8bGBiOcyQw8P1jYGDIDVjCwDAByEg/wB3A\n",
       "cAHISHVm3QBhsClYQRgMB3gaIAxFvnsQBktBzQQwgyGPDcp4xgeRYmAyOABkHAJiIxDjOhAzbmBg\n",
       "0P0J5PFtYAAA6AAhaNFZV/8AAAAASUVORK5CYII=\n",
       "\" style=\"display:inline;vertical-align:middle;\" /></a></span></td></tr><tr><td><a name=\"proveit.core_expr_types.tuples.4a6b67a76a8cf47b5cfa2d7ffc3eeed9c852ae610_step1\">1</a></td><td>theorem</td><td></td><td><span style=\"font-size:20px;\"> <a class=\"ProveItLink\" href=\"../../../../logic/set_theory/containment/_proofs_/relaxSubset.ipynb\" style=\"text-decoration: none\">&#x22A2;&nbsp;</a><a class=\"ProveItLink\" href=\"../c754017dd9a2a407318c0bb98555bcc1de3593290/expr.ipynb\"><img src=\"data:image/png;base64,iVBORw0KGgoAAAANSUhEUgAAALkAAAAXBAMAAACllfPxAAAAMFBMVEX///+IiIgiIiIQEBB2dnbu\n",
       "7u5UVFTMzMzc3NwyMjK6urpmZmaYmJiqqqpEREQAAACk/Np2AAAAAXRSTlMAQObYZgAAAAlwSFlz\n",
       "AAAOxAAADsQBlSsOGwAAAtFJREFUSMetlU1IVFEUx/8v5828eTPzmmhTUCavhUEtLKJaZLgY3Ej0\n",
       "MBCizdDCMBcOBEKrrMRVMLPIiKA0CtxICYnRBza5Cox8m3Z9TEW1crRQJzOzc+99d+bOpEw9u/C8\n",
       "H2fu755z/vceAd/NqGLvwXradnFGZi37LfpybPDaBzzWxLvw7B+Wlyuf22+moLnAIza/5oN+QnTv\n",
       "JL3Wtu16MTwCBAtAP9DNosv5oD8R3dh30Z/bUhLkK2AuAZMUmQMEXB/0Bv430Fvgvb6rZInSUpRO\n",
       "qHEQzdIJPuCmUPOCtsz74GDJFKRkhQ/RR+h9tr3fBz0iRB2J/RTiKqaaHPRTKYorCTwAPvFFp2K7\n",
       "HOir0pljFIEbmuPTbsV0/v2mDmaNUnh9MJIccpCb7i4lxlNsYMkfH08VszEz2vLFG29whQvGAp/2\n",
       "KfQdPYgdZne2jihOgOcsIBIYrYPWUEY/RpxQcz5Pb28C2CzD55tqH4/9Eocp9I9sE7kUovzH4iJn\n",
       "Q3uFJCOIzqp082wcGBX+dwJTKl0n0zeRx2yJzqKZIovJvMw842vxq2KXi9asStfCyeKVbYS+R+bd\n",
       "9bTZKebXi/AQ07lrUGQGR/s5BA+5Lb1t8jRUejySQZt8Ji/GpAgWOYdh+gbEvO2MvBUava/QIksy\n",
       "e6SXuKhDXkYnoHeqdDNFMgxDatI24jHYdTNY6DNeLbzzwasEYVq9zTyOMAcs7s5oosvxUpseVOiR\n",
       "RPM83kBqYvyQctRBn1l08HblSvlVDQ4stHdMc6WLNVgjaEqkFvfUGxmHUUAvpCZmQe6or/rgLhZH\n",
       "FPtGV2+CMQ99t5IZkxRehiW8SDtolZlhNerv6hzFfwD60xuhRmydS4y7Cv1+EicXXZ2/IW0g0TJd\n",
       "3GuV/e+J2HapAnt3oLLyxpSxpRoCef6a1KZXK9tWRWnBq7Xoq7XLVezPKxey/0JfVzP+A+M3Ixin\n",
       "qsTeqp0AAAAASUVORK5CYII=\n",
       "\" style=\"display:inline;vertical-align:middle;\" /></a></span></td></tr>\n",
       "<tr><td>&nbsp;</td><td colspan=4 style-\"text-align:left\"><a class=\"ProveItLink\" href=\"../../../../logic/set_theory/containment/_proofs_/relaxSubset.ipynb\">proveit.logic.set_theory.containment.relaxSubset</a></td></tr><tr><td><a name=\"proveit.core_expr_types.tuples.4a6b67a76a8cf47b5cfa2d7ffc3eeed9c852ae610_step2\">2</a></td><td>theorem</td><td></td><td><span style=\"font-size:20px;\"> <a class=\"ProveItLink\" href=\"../../../../number/sets/integer/_proofs_/natsPosInNats.ipynb\" style=\"text-decoration: none\">&#x22A2;&nbsp;</a><a class=\"ProveItLink\" href=\"../805f314b72eb5720e59de1117f1600e267f9361b0/expr.ipynb\"><img src=\"data:image/png;base64,iVBORw0KGgoAAAANSUhEUgAAAEcAAAATBAMAAAAwgQ3NAAAAMFBMVEX///9mZmbMzMyIiIiYmJjc\n",
       "3NxUVFSqqqq6uroQEBB2dnYyMjJEREQiIiLu7u4AAAAPqInnAAAAAXRSTlMAQObYZgAAAAlwSFlz\n",
       "AAAOxAAADsQBlSsOGwAAAN5JREFUKM9jYIADRgYiAA+Fit7+Of2AYeXPBmyKEHLHORIY+P5hNwku\n",
       "lxuwhIFhAoPMmZNnzjigKYLKMTCkH+AOYLiA3SS4XKoz6wY0RT537969xIAsl8qmYIWqSHspjAWX\n",
       "S2U4wNOArIjvKtxIuFwqgyLfvQtIIc7WgKQIKpfKwFJQMwHJtdwMSIqgcqkMDHlsyIrUkBVB5YCM\n",
       "Z3wXkBSFoSiCyAEZTAYHkBTxoiiCyB0CYiNkRYyIcIfLXQeJb0AO5x1wFkxO9ydQJR+KojcZDyAM\n",
       "LHII0HUWGi1QAAC1P1RMMPF9GAAAAABJRU5ErkJggg==\n",
       "\" style=\"display:inline;vertical-align:middle;\" /></a></span></td></tr>\n",
       "<tr><td>&nbsp;</td><td colspan=4 style-\"text-align:left\"><a class=\"ProveItLink\" href=\"../../../../number/sets/integer/_proofs_/natsPosInNats.ipynb\">proveit.number.sets.integer.natsPosInNats</a></td></tr></table>"
      ],
      "text/plain": [
       "<proveit._core_.proof._ShowProof at 0x2323fed68c8>"
      ]
     },
     "execution_count": 1,
     "metadata": {},
     "output_type": "execute_result"
    }
   ],
   "source": [
    "import proveit\n",
    "# Automation is not needed when only showing a stored proof:\n",
    "proveit.defaults.automation = False # This will speed things up.\n",
    "%show_proof"
   ]
  },
  {
   "cell_type": "code",
   "execution_count": null,
   "metadata": {},
   "outputs": [],
   "source": []
  }
 ],
 "metadata": {
  "kernelspec": {
   "display_name": "Python 3",
   "language": "python",
   "name": "python3"
  },
  "language_info": {
   "codemirror_mode": {
    "name": "ipython",
    "version": 3
   },
   "file_extension": ".py",
   "mimetype": "text/x-python",
   "name": "python",
   "nbconvert_exporter": "python",
   "pygments_lexer": "ipython3",
   "version": "3.7.4"
  }
 },
 "nbformat": 4,
 "nbformat_minor": 1
}
