{
 "cells": [
  {
   "cell_type": "markdown",
   "metadata": {},
   "source": [
    "Expression of type <a class=\"ProveItLink\" href=\"../../../../../../doc/html/api/proveit.logic.And.html\">And</a>\n",
    "=======================\n",
    "# from context <a class=\"ProveItLink\" href=\"../../_context_.ipynb\">proveit.core_expr_types.tuples</a>"
   ]
  },
  {
   "cell_type": "code",
   "execution_count": 1,
   "metadata": {},
   "outputs": [],
   "source": [
    "import proveit\n",
    "# Automation is not needed when building an expression:\n",
    "proveit.defaults.automation = False # This will speed things up.\n",
    "# import Expression classes needed to build the expression\n",
    "from proveit.core_expr_types._common_ import B_1_to_m\n",
    "from proveit.logic import And"
   ]
  },
  {
   "cell_type": "code",
   "execution_count": 2,
   "metadata": {},
   "outputs": [
    {
     "data": {
      "text/html": [
       "<strong id=\"expr\">expr:</strong> <a class=\"ProveItLink\" href=\"expr.ipynb\"><img src=\"data:image/png;base64,iVBORw0KGgoAAAANSUhEUgAAAH4AAAARBAMAAADprwU0AAAAMFBMVEX///92dnaqqqoiIiLu7u5m\n",
       "Zma6urqIiIjc3NwQEBDMzMwyMjJUVFRERESYmJgAAAAeMT9/AAAAAXRSTlMAQObYZgAAAAlwSFlz\n",
       "AAAOxAAADsQBlSsOGwAAAXVJREFUOMtjYGB4+//Omb0LGIgGGOrnMjDw/EJwhbBrY1TAoZ7jOwMD\n",
       "21c4l8Uau37nDdjVM/ABzeL7Dueyv0nAqr/uGHb1DDwfGBi4Z8C5zFwXsOo3WItdPQPnBQaWw4jw\n",
       "UGTYgU07kwB3A1b1DOuvl59+gODuYFDFpp+7gSkAq3qG+gYGpnkMDH6Q8OE6wMDsgEX/GgYGExT1\n",
       "cHATiOUXcJUbQHy3gIG9AIv+UwwM5cjqETJ/gPh9AQMTRL83MAYNMLWzAF3njKIeBrj+AYnzCTD9\n",
       "oNQThD31sCogqeeLW17D/gboDPYfQLHfDDD9ILIbUz8zKOGAQwiqni/zAecB9gPAgJ3AwJC5Baaf\n",
       "D+QwXqCxLL8ZoIQ/SNtzkOQtcERA1LcUM/AnsAow8Oz/c+b0JQaYfl5Q2HMJAAlTBijBDIq3KyDe\n",
       "QlD4wtQfZ1jJwKyAlEAMGEgCsxhqGfq5yNbP8QHogreMCL701wJS9LMdAKbUnhIA+UxxhQUSLEIA\n",
       "AAAASUVORK5CYII=\n",
       "\" style=\"display:inline;vertical-align:middle;\" /></a><br>"
      ],
      "text/plain": [
       "expr: B_{1} and  ...  and B_{m}"
      ]
     },
     "execution_count": 2,
     "metadata": {},
     "output_type": "execute_result"
    }
   ],
   "source": [
    "# build up the expression from sub-expressions\n",
    "expr = And(B_1_to_m)"
   ]
  },
  {
   "cell_type": "code",
   "execution_count": 3,
   "metadata": {},
   "outputs": [
    {
     "name": "stdout",
     "output_type": "stream",
     "text": [
      "Passed sanity check: built 'expr' is the same as the stored Expression.\n"
     ]
    }
   ],
   "source": [
    "# check that the built expression is the same as the stored expression\n",
    "%check_expr"
   ]
  },
  {
   "cell_type": "code",
   "execution_count": 4,
   "metadata": {},
   "outputs": [
    {
     "name": "stdout",
     "output_type": "stream",
     "text": [
      "B_{1} \\land \\ldots \\land B_{m}\n"
     ]
    }
   ],
   "source": [
    "# Show the LaTeX representation of the expression for convenience if you need it.\n",
    "print(expr.latex())"
   ]
  },
  {
   "cell_type": "code",
   "execution_count": 5,
   "metadata": {},
   "outputs": [
    {
     "data": {
      "text/html": [
       "<table><tr><th>&nbsp;</th><th>core type</th><th>sub-expressions</th><th>expression</th></tr>\n",
       "<tr><td>0</td><td>Operation</td><td>operator:&nbsp;1<br>operands:&nbsp;2<br></td><td><a class=\"ProveItLink\" href=\"expr.ipynb\"><img src=\"data:image/png;base64,iVBORw0KGgoAAAANSUhEUgAAAH4AAAARBAMAAADprwU0AAAAMFBMVEX///92dnaqqqoiIiLu7u5m\n",
       "Zma6urqIiIjc3NwQEBDMzMwyMjJUVFRERESYmJgAAAAeMT9/AAAAAXRSTlMAQObYZgAAAAlwSFlz\n",
       "AAAOxAAADsQBlSsOGwAAAXVJREFUOMtjYGB4+//Omb0LGIgGGOrnMjDw/EJwhbBrY1TAoZ7jOwMD\n",
       "21c4l8Uau37nDdjVM/ABzeL7Dueyv0nAqr/uGHb1DDwfGBi4Z8C5zFwXsOo3WItdPQPnBQaWw4jw\n",
       "UGTYgU07kwB3A1b1DOuvl59+gODuYFDFpp+7gSkAq3qG+gYGpnkMDH6Q8OE6wMDsgEX/GgYGExT1\n",
       "cHATiOUXcJUbQHy3gIG9AIv+UwwM5cjqETJ/gPh9AQMTRL83MAYNMLWzAF3njKIeBrj+AYnzCTD9\n",
       "oNQThD31sCogqeeLW17D/gboDPYfQLHfDDD9ILIbUz8zKOGAQwiqni/zAecB9gPAgJ3AwJC5Baaf\n",
       "D+QwXqCxLL8ZoIQ/SNtzkOQtcERA1LcUM/AnsAow8Oz/c+b0JQaYfl5Q2HMJAAlTBijBDIq3KyDe\n",
       "QlD4wtQfZ1jJwKyAlEAMGEgCsxhqGfq5yNbP8QHogreMCL701wJS9LMdAKbUnhIA+UxxhQUSLEIA\n",
       "AAAASUVORK5CYII=\n",
       "\" style=\"display:inline;vertical-align:middle;\" /></a></td></tr>\n",
       "<tr><td>1</td><td>Literal</td><td></td><td><a class=\"ProveItLink\" href=\"../../../../logic/boolean/conjunction/__pv_it/f41cc6b553210927c09f19a8a39cdf860a5585930/expr.ipynb\"><img src=\"data:image/png;base64,iVBORw0KGgoAAAANSUhEUgAAAAwAAAANBAMAAABvB5JxAAAALVBMVEX///9mZmbc3NxERETMzMy6\n",
       "urpUVFSYmJiIiIgyMjIiIiLu7u6qqqp2dnYAAACMfHT6AAAAAXRSTlMAQObYZgAAAAlwSFlzAAAO\n",
       "xAAADsQBlSsOGwAAAEpJREFUCNdjYGDgPcAAArsmgKn2VDC1wBlE8lzgVABSnAo8AkDKjYFhNZBK\n",
       "YWDoYGDgBirfBdHMeICBCyjONIGhAqTJhMEaRPkCACemC8GDBfsjAAAAAElFTkSuQmCC\n",
       "\" style=\"display:inline;vertical-align:middle;\" /></a></td></tr>\n",
       "<tr><td>2</td><td>ExprTuple</td><td>3</td><td><a class=\"ProveItLink\" href=\"../0ec7cca1d6849c22b209272d9a3fdfa94254f5c00/expr.ipynb\"><img src=\"data:image/png;base64,iVBORw0KGgoAAAANSUhEUgAAAHMAAAAVBAMAAACHwMySAAAAMFBMVEX////MzMxUVFREREQiIiK6\n",
       "uroQEBCYmJhmZmYyMjLu7u52dnaqqqqIiIjc3NwAAACFAiZ1AAAAAXRSTlMAQObYZgAAAAlwSFlz\n",
       "AAAOxAAADsQBlSsOGwAAAZRJREFUOMtjYGB4wEAGAGviPUCO1lgQcRqIi/8bKU0WwK8YVQ3IQq4J\n",
       "IFYyAwPTRwIWoaqZxcDAUQCk+f4yMLD+wK8TTU0FAwMbiGYHmsb+F79WNDVsCxgiQTTTBwYGzjz8\n",
       "WtHUcBYwdIONMGDgUiEQTGhquBUYpoNoedu7mgUEQglNDfsEBh8Qff8BA086A8PyCXi0QtXAAI8D\n",
       "QyqINgPi/QKMdx3waIWogXMZP0C0fgLi+gsgk3ADqBoYYE1gmAMy4TuQ0A/AqxWqhr1d9hJvkQDY\n",
       "wbagVPUPKPUTzGXgwtS1gAGhhj2sgE2BVwEYTAYMm0BxlMDAEDYLonU9KKhABNdPZAZMzasrDPwB\n",
       "HBuAqfACQwgwsud/UtK0gYQaA4sXkMHSACQ8YAyXBUhqdBnEGFiAaZ/lAQOLAEqAMzCcwnAwzwIk\n",
       "TiLDZYb3jAwMT4BubkDTugFDKzdyJvgAtLcYKNIO5NghhHf+uMDAdQFD61okNqsCwzyGR7cY+AyA\n",
       "nMVoGQQzhLElUWaQJ/gKyClg6hgYAFUuZr/HnmoHAAAAAElFTkSuQmCC\n",
       "\" style=\"display:inline;vertical-align:middle;\" /></a></td></tr>\n",
       "<tr><td>3</td><td>ExprRange</td><td>lambda_map:&nbsp;4<br>start_index:&nbsp;5<br>end_index:&nbsp;6<br></td><td><a class=\"ProveItLink\" href=\"../../../__pv_it/bd79dabdf140cf43dfbe2c669f9a0bb7b0439b280/expr.ipynb\"><img src=\"data:image/png;base64,iVBORw0KGgoAAAANSUhEUgAAAGYAAAASBAMAAABbQraGAAAAMFBMVEX///92dnaqqqoiIiLu7u5m\n",
       "Zma6urqIiIjc3NwQEBDMzMwyMjJUVFRERESYmJgAAAAeMT9/AAAAAXRSTlMAQObYZgAAAAlwSFlz\n",
       "AAAOxAAADsQBlSsOGwAAAR5JREFUKM9jYGB4+//Omb0LGPACDDVzGRh4fuHXg66G4zsDA9tX/FrQ\n",
       "1fAB9fN9x68HXQ3PBwYG7hn49aCr4bzAwHKYQBigq1l/vfz0AwJBgK6mvoGBaR4Dg98GPHqgauDg\n",
       "JhDLL+AqN8CjB6IGwf8DxO8LGJjw6YGqgQGuf0DifAJePVA1fHHLa9jfAK1j/wEU+80A1sOCqdwB\n",
       "REDV8GU+4DzAfgAY7BMYGDK3QPT4g8IBRLD8RmbA1LQUM/AnsAow8Oz/c+b0JQaIHmYTIIM5AEiY\n",
       "whjGQIvgao4zrGRgVkA4AuwfFQy3MTkgcWYx1DL0c6HpEcDQw4icUj8AbXqLEOGQ/lrAwFKAoccd\n",
       "ic12gGEHQ08JWvLFDDcsqQoA4sZhGr9k2B0AAAAASUVORK5CYII=\n",
       "\" style=\"display:inline;vertical-align:middle;\" /></a></td></tr>\n",
       "<tr><td>4</td><td>Lambda</td><td>parameter:&nbsp;9<br>body:&nbsp;7<br></td><td><a class=\"ProveItLink\" href=\"../../../__pv_it/496bd09132066e85e054e1bb8fb7aca63557f4ac0/expr.ipynb\"><img src=\"data:image/png;base64,iVBORw0KGgoAAAANSUhEUgAAAEQAAAARCAMAAABTjvrEAAAANlBMVEX///8WFhYNDQ3MzMxUVFQy\n",
       "MjKqqqoiIiKYmJju7u5EREQQEBC6urqIiIh2dnZmZmbc3NwAAADRPqZpAAAAAXRSTlMAQObYZgAA\n",
       "AAlwSFlzAAAOxAAADsQBlSsOGwAAAP1JREFUOMulU+2OxCAI9FZQ/EDl/V/21HZ3pWmTu8gfIuow\n",
       "zKgx/wuKIhEAMFqzESnOBLKB0oRnzlL/fIfbdZ6TAZ1gDxHWhbv2AzkyJg3fauH2xfVq099KEsBr\n",
       "SfLAjBLur7mollYiMwPShX0aheqfenNc52OZU7ikUerk4Mun8PrxKkTy93RMRy7a4TlkWA5emGRc\n",
       "MIyAuTEnSJm1JyktBiUJvU0a0KESlzZA3GCJxrVbEFROnpJ0MBwY3SI71cDOi3w1H1GyGka/E0yn\n",
       "oZNf7Zs2HZZzsQ34/ivUtQwoAvP3uUOg3o/BbEUYs0UKYQulv1Irmfao5EqOC5lf4o8JXEddBe0A\n",
       "AAAASUVORK5CYII=\n",
       "\" style=\"display:inline;vertical-align:middle;\" /></a></td></tr>\n",
       "<tr><td>5</td><td>Literal</td><td></td><td><a class=\"ProveItLink\" href=\"../../../../number/numeral/__pv_it/f086f8c372bd40a2458306ddfdbb29f3dc6f63030/expr.ipynb\"><img src=\"data:image/png;base64,iVBORw0KGgoAAAANSUhEUgAAAAgAAAAOBAMAAADgeEClAAAAIVBMVEX///8QEBBERESIiIgyMjJm\n",
       "ZmZUVFTu7u4iIiLMzMwAAAAWRytzAAAAAXRSTlMAQObYZgAAAAlwSFlzAAAOxAAADsQBlSsOGwAA\n",
       "ABtJREFUCNdjYOBsZ2AoC1nOwMDATBbBprgiGQBsuwqCZsDj4wAAAABJRU5ErkJggg==\n",
       "\" style=\"display:inline;vertical-align:middle;\" /></a></td></tr>\n",
       "<tr><td>6</td><td>Variable</td><td></td><td><a class=\"ProveItLink\" href=\"../../../../__pv_it/6e8a38e9a7e2b6af352562cd77e0eb4751f142620/expr.ipynb\"><img src=\"data:image/png;base64,iVBORw0KGgoAAAANSUhEUgAAABIAAAAJBAMAAADN8WE8AAAAMFBMVEX///8iIiIyMjJmZmYQEBCq\n",
       "qqqYmJju7u5ERETMzMyIiIjc3NxUVFR2dna6uroAAACULOzSAAAAAXRSTlMAQObYZgAAAAlwSFlz\n",
       "AAAOxAAADsQBlSsOGwAAAGNJREFUCNdj4Luz+9Ypzlt9DAy8HF0M9XkMIQwM81gaGPZfYMhnYCio\n",
       "f8AQX8BwgoGBIZ6BwYiBwQvIOsTAIMvA95udgcGXgf0fA4/CVgbunwxsHxiYLlxg4BNg4DJgYLXa\n",
       "AAB/WBcBafZ/twAAAABJRU5ErkJggg==\n",
       "\" style=\"display:inline;vertical-align:middle;\" /></a></td></tr>\n",
       "<tr><td>7</td><td>IndexedVar</td><td>variable:&nbsp;8<br>index:&nbsp;9<br></td><td><a class=\"ProveItLink\" href=\"../../../__pv_it/644d4b9c7ff915204828b1e0220502ee76e5ffcf0/expr.ipynb\"><img src=\"data:image/png;base64,iVBORw0KGgoAAAANSUhEUgAAABkAAAARBAMAAADalBo9AAAAMFBMVEX///92dnaqqqoiIiLu7u5m\n",
       "Zma6urqIiIjc3NwQEBDMzMwyMjJUVFRERESYmJgAAAAeMT9/AAAAAXRSTlMAQObYZgAAAAlwSFlz\n",
       "AAAOxAAADsQBlSsOGwAAAJlJREFUCNdjYGB4+//Omb0LGGBgLgMDzy8Yh+M7AwPbVxiPDyjO9x3G\n",
       "4/nAwMA9A8bjvMDAchhuyvrr5acfwI2sb2Bgmgfn3QRiebjKP0D8vgDK4foHJM4nMLg+lwAy2H8A\n",
       "RX4zsFhxfQHyuCcwMGRuYWAN4AIyePb/OXP6EgMDfwL7AbjBDP4NvE8c4DzOhvV5CDm2OHU5BgCF\n",
       "ByrMpyBAYAAAAABJRU5ErkJggg==\n",
       "\" style=\"display:inline;vertical-align:middle;\" /></a></td></tr>\n",
       "<tr><td>8</td><td>Variable</td><td></td><td><a class=\"ProveItLink\" href=\"../../../../__pv_it/4d98b438710c5ada9ffa4646bb123a7d0e69ec000/expr.ipynb\"><img src=\"data:image/png;base64,iVBORw0KGgoAAAANSUhEUgAAABAAAAAOBAMAAADUAYG5AAAAMFBMVEX///92dnaqqqoiIiLu7u5m\n",
       "Zma6urqIiIjc3NwQEBDMzMwyMjJUVFRERESYmJgAAAAeMT9/AAAAAXRSTlMAQObYZgAAAAlwSFlz\n",
       "AAAOxAAADsQBlSsOGwAAAHJJREFUCNdjYGB4+//Omb0LGIBgLgMDzy8gzfGdgYHtK5DBB+TxATkM\n",
       "PB8YGLhnABmcFxhYDoMUr79efvoBSFN9AwPTPBDjJhDLg6T+APH7AgYGrn9AxvkEBgb2H0DObyCH\n",
       "ewIDQ+YWoHH7/5w5fYmBAQBdUiHY6HsJaQAAAABJRU5ErkJggg==\n",
       "\" style=\"display:inline;vertical-align:middle;\" /></a></td></tr>\n",
       "<tr><td>9</td><td>Variable</td><td></td><td><a class=\"ProveItLink\" href=\"../../../__pv_it/a8d4b3a34d2189508f9082853fbac36935714f280/expr.ipynb\"><img src=\"data:image/png;base64,iVBORw0KGgoAAAANSUhEUgAAAAsAAAAJBAMAAAAWSsseAAAAMFBMVEX////MzMxUVFQyMjKqqqoi\n",
       "IiKYmJju7u5EREQQEBC6urqIiIh2dnZmZmbc3NwAAAD0tjQRAAAAAXRSTlMAQObYZgAAAAlwSFlz\n",
       "AAAOxAAADsQBlSsOGwAAAEdJREFUCNdjYOC7s28DAwPDygcc3xkY2Kcx8AYwMPB+Z2A9wMDA2cBQ\n",
       "v4CBof4AQz5QRb0DQzPLAwbmDWyxPECV2gcfbWQAABp5EMgcedARAAAAAElFTkSuQmCC\n",
       "\" style=\"display:inline;vertical-align:middle;\" /></a></td></tr>\n",
       "</table>\n"
      ],
      "text/plain": [
       "0. B_{1} and  ...  and B_{m}\n",
       "   core type: Operation\n",
       "   operator: 1\n",
       "   operands: 2\n",
       "1. and\n",
       "   core type: Literal\n",
       "   sub-expressions: \n",
       "2. (B_{1} ,  ...  , B_{m})\n",
       "   core type: ExprTuple\n",
       "   sub-expressions: 3\n",
       "3. B_{1},...,B_{m}\n",
       "   core type: ExprRange\n",
       "   lambda_map: 4\n",
       "   start_index: 5\n",
       "   end_index: 6\n",
       "4. a -> B_{a}\n",
       "   core type: Lambda\n",
       "   parameter: 9\n",
       "   body: 7\n",
       "5. 1\n",
       "   core type: Literal\n",
       "   sub-expressions: \n",
       "6. m\n",
       "   core type: Variable\n",
       "   sub-expressions: \n",
       "7. B_{a}\n",
       "   core type: IndexedVar\n",
       "variable: 8\n",
       "index: 9\n",
       "8. B\n",
       "   core type: Variable\n",
       "   sub-expressions: \n",
       "9. a\n",
       "   core type: Variable\n",
       "   sub-expressions: "
      ]
     },
     "execution_count": 5,
     "metadata": {},
     "output_type": "execute_result"
    }
   ],
   "source": [
    "# display the expression information\n",
    "expr.exprInfo()"
   ]
  },
  {
   "cell_type": "code",
   "execution_count": null,
   "metadata": {},
   "outputs": [],
   "source": []
  }
 ],
 "metadata": {
  "kernelspec": {
   "display_name": "Python 3",
   "language": "python",
   "name": "python3"
  },
  "language_info": {
   "codemirror_mode": {
    "name": "ipython",
    "version": 3
   },
   "file_extension": ".py",
   "mimetype": "text/x-python",
   "name": "python",
   "nbconvert_exporter": "python",
   "pygments_lexer": "ipython3",
   "version": "3.7.4"
  }
 },
 "nbformat": 4,
 "nbformat_minor": 1
}
