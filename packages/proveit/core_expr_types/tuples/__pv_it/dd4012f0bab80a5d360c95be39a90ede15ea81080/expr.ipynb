{
 "cells": [
  {
   "cell_type": "markdown",
   "metadata": {},
   "source": [
    "Expression of type <a class=\"ProveItLink\" href=\"../../../../../../doc/html/api/proveit.ExprTuple.html\">ExprTuple</a>\n",
    "=======================\n",
    "# from context <a class=\"ProveItLink\" href=\"../../_context_.ipynb\">proveit.core_expr_types.tuples</a>"
   ]
  },
  {
   "cell_type": "code",
   "execution_count": 1,
   "metadata": {},
   "outputs": [],
   "source": [
    "import proveit\n",
    "# Automation is not needed when building an expression:\n",
    "proveit.defaults.automation = False # This will speed things up.\n",
    "# import Expression classes needed to build the expression\n",
    "from proveit import ExprRange, ExprTuple, IndexedVar, Variable\n",
    "from proveit.number import one"
   ]
  },
  {
   "cell_type": "code",
   "execution_count": 2,
   "metadata": {},
   "outputs": [
    {
     "data": {
      "text/html": [
       "<strong id=\"expr\">expr:</strong> <a class=\"ProveItLink\" href=\"expr.ipynb\"><img src=\"data:image/png;base64,iVBORw0KGgoAAAANSUhEUgAAAMMAAAAVBAMAAAAJNkerAAAAMFBMVEX////MzMxUVFREREQiIiK6\n",
       "uroQEBCYmJhmZmYyMjLu7u52dnaqqqqIiIjc3NwAAACFAiZ1AAAAAXRSTlMAQObYZgAAAAlwSFlz\n",
       "AAAOxAAADsQBlSsOGwAAAiRJREFUSMe1lb9rFEEUx7/J/djL3HmXfyAhndXBVaKF5ooEDrVIIQcW\n",
       "EiVKOtnCQhvdQghyCS5pEoIhi0JII7uRtIETrCKYE1IEgmERixARrgniGcU3sz+yl2XmzEK2mP3O\n",
       "zOft2/dm3gwAF+f4iI9faJ6nizu8+Xh2O3apqgbe3A8UD4CZCf5twOgBLIZqCcjpCVyUeiX3OFSP\n",
       "gWySDE9a6vlMJ5RZC7eTuNjoMZ8/WasBHQ16FRv7LbXNweaPaHf+y6x6rcq7QSrzI1igV91NddSB\n",
       "P8RoJDfsl2Urq8leYn99qZm4SRbTyFXBnshNVnU8j3QLHZRaKn7bwp+AreIBbaoO0g6GduQmLy3c\n",
       "iHRzJmxHxb8A++3LvjZ3ka3AngA+yE2mwI66y2KyqeIXkQm2beYuXlHmHDyDygX9ktaGNjO065eF\n",
       "zuNSuPhJmfFxStRVctHElYIrTFgcp2Vmx0iZn7S6nnUFUZqg5ZPwYuSIVs/DoVXwjuJuabW8Z2Kb\n",
       "fL9EhWiW8chwDndQssREv54yZDwXuIjL8HDkWrhFU+X1r589k/R1ampcGL7AGHGv94bLgyij7hFs\n",
       "bhYyXoys8bIQONIu0oNBiCK3W7HIC2FB3EOjL0JI+K1u/BvlyugyceKHQSCKbYy/jxAS3unGZ0he\n",
       "84e+r8xRCuIHyduwxEewp58QEj4c8fBihV8fUUCL76hTh70GNX9qJMXTXExyYfz38xT4B7b7oZSJ\n",
       "TH5/AAAAAElFTkSuQmCC\n",
       "\" style=\"display:inline;vertical-align:middle;\" /></a><br>"
      ],
      "text/plain": [
       "expr: (a_{1} ,  ...  , a_{n} , b_{1} ,  ...  , b_{n})"
      ]
     },
     "execution_count": 2,
     "metadata": {},
     "output_type": "execute_result"
    }
   ],
   "source": [
    "# build up the expression from sub-expressions\n",
    "subExpr1 = Variable(\"b\")\n",
    "subExpr2 = Variable(\"a\")\n",
    "expr = ExprTuple(ExprRange(subExpr1, IndexedVar(subExpr2, subExpr1), one, Variable(\"n\")), ExprRange(subExpr2, IndexedVar(subExpr1, subExpr2), one, Variable(\"n\")))"
   ]
  },
  {
   "cell_type": "code",
   "execution_count": 3,
   "metadata": {},
   "outputs": [
    {
     "name": "stdout",
     "output_type": "stream",
     "text": [
      "Passed sanity check: built 'expr' is the same as the stored Expression.\n"
     ]
    }
   ],
   "source": [
    "# check that the built expression is the same as the stored expression\n",
    "%check_expr"
   ]
  },
  {
   "cell_type": "code",
   "execution_count": 4,
   "metadata": {},
   "outputs": [
    {
     "name": "stdout",
     "output_type": "stream",
     "text": [
      "\\left(a_{1} , \\ldots , a_{n} , b_{1} , \\ldots , b_{n}\\right)\n"
     ]
    }
   ],
   "source": [
    "# Show the LaTeX representation of the expression for convenience if you need it.\n",
    "print(expr.latex())"
   ]
  },
  {
   "cell_type": "code",
   "execution_count": 5,
   "metadata": {},
   "outputs": [
    {
     "data": {
      "text/html": [
       "<table><tr><th>&nbsp;</th><th>core type</th><th>sub-expressions</th><th>expression</th></tr>\n",
       "<tr><td>0</td><td>ExprTuple</td><td>1, 2</td><td><a class=\"ProveItLink\" href=\"expr.ipynb\"><img src=\"data:image/png;base64,iVBORw0KGgoAAAANSUhEUgAAAMMAAAAVBAMAAAAJNkerAAAAMFBMVEX////MzMxUVFREREQiIiK6\n",
       "uroQEBCYmJhmZmYyMjLu7u52dnaqqqqIiIjc3NwAAACFAiZ1AAAAAXRSTlMAQObYZgAAAAlwSFlz\n",
       "AAAOxAAADsQBlSsOGwAAAiRJREFUSMe1lb9rFEEUx7/J/djL3HmXfyAhndXBVaKF5ooEDrVIIQcW\n",
       "EiVKOtnCQhvdQghyCS5pEoIhi0JII7uRtIETrCKYE1IEgmERixARrgniGcU3sz+yl2XmzEK2mP3O\n",
       "zOft2/dm3gwAF+f4iI9faJ6nizu8+Xh2O3apqgbe3A8UD4CZCf5twOgBLIZqCcjpCVyUeiX3OFSP\n",
       "gWySDE9a6vlMJ5RZC7eTuNjoMZ8/WasBHQ16FRv7LbXNweaPaHf+y6x6rcq7QSrzI1igV91NddSB\n",
       "P8RoJDfsl2Urq8leYn99qZm4SRbTyFXBnshNVnU8j3QLHZRaKn7bwp+AreIBbaoO0g6GduQmLy3c\n",
       "iHRzJmxHxb8A++3LvjZ3ka3AngA+yE2mwI66y2KyqeIXkQm2beYuXlHmHDyDygX9ktaGNjO065eF\n",
       "zuNSuPhJmfFxStRVctHElYIrTFgcp2Vmx0iZn7S6nnUFUZqg5ZPwYuSIVs/DoVXwjuJuabW8Z2Kb\n",
       "fL9EhWiW8chwDndQssREv54yZDwXuIjL8HDkWrhFU+X1r589k/R1ampcGL7AGHGv94bLgyij7hFs\n",
       "bhYyXoys8bIQONIu0oNBiCK3W7HIC2FB3EOjL0JI+K1u/BvlyugyceKHQSCKbYy/jxAS3unGZ0he\n",
       "84e+r8xRCuIHyduwxEewp58QEj4c8fBihV8fUUCL76hTh70GNX9qJMXTXExyYfz38xT4B7b7oZSJ\n",
       "TH5/AAAAAElFTkSuQmCC\n",
       "\" style=\"display:inline;vertical-align:middle;\" /></a></td></tr>\n",
       "<tr><td>1</td><td>ExprRange</td><td>lambda_map:&nbsp;3<br>start_index:&nbsp;5<br>end_index:&nbsp;6<br></td><td><a class=\"ProveItLink\" href=\"../07a9c447cf956280a269472604852c6938ad5bd90/expr.ipynb\"><img src=\"data:image/png;base64,iVBORw0KGgoAAAANSUhEUgAAAFgAAAANBAMAAADf+LRDAAAAMFBMVEX////MzMxUVFQyMjKqqqoi\n",
       "IiKYmJju7u5EREQQEBC6urqIiIh2dnZmZmbc3NwAAAD0tjQRAAAAAXRSTlMAQObYZgAAAAlwSFlz\n",
       "AAAOxAAADsQBlSsOGwAAAPFJREFUKM9jYOC7s28DA17w9vRrGHPlA47veNVyzWPoL4Aw2acx8AYw\n",
       "sCfjVlyZwHAVyuT9zsB6gEF6K27F9wsYYqBMzgaG+gUMDK64Fc9gYP8FZdYfYMhnwKeY/Q8D2wcG\n",
       "tmvSe4GKHRiaWR6AFbNjqgR6jP0LA4eBH9vKBM4HDMwb2GJ5ICbXGwClPiMzwIQ1Q+qFA8+3MvAX\n",
       "MLBrH3y0EaKYNRxIxIIYF6AMhlCg0UV75LQFGLQZVsLtA7vZHcMZLAUw1kSGO4woig9gKOaBMfg+\n",
       "MEQ5Qtlv7G8DXYgZ7dXwaFRg2JOALMOGGRoo8gwAsUs70t2oc5MAAAAASUVORK5CYII=\n",
       "\" style=\"display:inline;vertical-align:middle;\" /></a></td></tr>\n",
       "<tr><td>2</td><td>ExprRange</td><td>lambda_map:&nbsp;4<br>start_index:&nbsp;5<br>end_index:&nbsp;6<br></td><td><a class=\"ProveItLink\" href=\"../c8afa972a25939e0e414435c35c0e607b65f02f40/expr.ipynb\"><img src=\"data:image/png;base64,iVBORw0KGgoAAAANSUhEUgAAAFQAAAASBAMAAAA3ROSDAAAAMFBMVEX////MzMyYmJjc3NyIiIhU\n",
       "VFR2dna6urqqqqpmZmYyMjIiIiIQEBBERETu7u4AAACIO4EmAAAAAXRSTlMAQObYZgAAAAlwSFlz\n",
       "AAAOxAAADsQBlSsOGwAAAQRJREFUKM9j4LuzgQEveHsazuSagF8pw0o4i7+BgNIfcFb9A/wq2f/B\n",
       "mdkEDGVD+GWpywy8SrlCPKFO5Pv14L0BPqXv1/F9hrA4/jHwO/Bp4Vba/4DhC4TFuYDhfYKIN26l\n",
       "sxj4vsGDtb6BoRtfsLJDg4tfgWH+A3xKPzFw/mOaJOIJVFrAd4gBrJQPUxkoyL8zvFFgqlHgMWBg\n",
       "VeCdAFH6fgEoPJAZYCKI4SaDnTcD/wMGvimgYAUp5d4HJHaCGBOgDIbdQGNfgoI1hKEGZhPYrX0Y\n",
       "DuCARfpBhmmMyEoTMCMVSjN/YNjeCGGarZ8CdJkDhtInsCQTwOCmgCTOhBkCyNIMAHWXRUWq/bh1\n",
       "AAAAAElFTkSuQmCC\n",
       "\" style=\"display:inline;vertical-align:middle;\" /></a></td></tr>\n",
       "<tr><td>3</td><td>Lambda</td><td>parameter:&nbsp;9<br>body:&nbsp;7<br></td><td><a class=\"ProveItLink\" href=\"../c2a58b1c714071e1c6f226ef2cd0aeab3fa85e090/expr.ipynb\"><img src=\"data:image/png;base64,iVBORw0KGgoAAAANSUhEUgAAADwAAAARCAMAAAC2ED+oAAAANlBMVEX////MzMwWFhYNDQ2YmJjc\n",
       "3NyIiIhUVFR2dna6urqqqqpmZmYyMjIiIiIQEBBERETu7u4AAADe7qe0AAAAAXRSTlMAQObYZgAA\n",
       "AAlwSFlzAAAOxAAADsQBlSsOGwAAAOVJREFUOMulU1sSwyAI1FbxAYre/7JF0yaappMZ64cTlWV3\n",
       "IShVOCe1vgj/ANe4jg21/HoCewf2k+UpUbw1RA4Ad+Vz8U6ltOjBwkhVqchmL8MjTwazRPHoMvZD\n",
       "hWsu4CO0ZCM7tghNW1akTu/fEc9Hmlat4QPGTpN6pPNHl8PerhNzoB2rMneafpH11mWzJ/0GaxpU\n",
       "d3Wm9vsK4OSpZdrcXIDJjpVt6phUtApSUSCSneD46GeYRE99JimqSahEALdPKVbBocunhXr6fxx4\n",
       "bR3IZRYOdKvjIH7z6kiIZcOrw6QRxPkLSMQIqTrNxM4AAAAASUVORK5CYII=\n",
       "\" style=\"display:inline;vertical-align:middle;\" /></a></td></tr>\n",
       "<tr><td>4</td><td>Lambda</td><td>parameter:&nbsp;10<br>body:&nbsp;8<br></td><td><a class=\"ProveItLink\" href=\"../82d0ea3f98ed9257b91eab5ff5174ca110af05370/expr.ipynb\"><img src=\"data:image/png;base64,iVBORw0KGgoAAAANSUhEUgAAAD0AAAARCAMAAABZ0lSWAAAANlBMVEX///8WFhYNDQ3MzMxUVFQy\n",
       "MjKqqqoiIiKYmJju7u5EREQQEBC6urqIiIh2dnZmZmbc3NwAAADRPqZpAAAAAXRSTlMAQObYZgAA\n",
       "AAlwSFlzAAAOxAAADsQBlSsOGwAAAOBJREFUOMulUu2OAyEI9OoXKIi8/8ueeretJNs0u+UHCQgy\n",
       "w+DcBcNSs/vConzTrelKNXcTkuIncnuQLNJ2QrtL485HZAtsFAOzWPBUB7zyxGTrU9lhacThdjZY\n",
       "YXjJ59MclxeVtEYob8+yUrkd8eMnG1OlZ2lcANrWXctK0ZvZFMmqTbtqf1+BvtmTj5sGCgdWFODW\n",
       "Z/f8qkSX+umW9xVNgGtNmL3zi3EcS4As7mBDBrfRO4zGMjMynK8LeuDme2B/djpisij/ak8QHG5e\n",
       "+5K8AOK99nFfXgluDieBxA3cL916CF7y9Zg4AAAAAElFTkSuQmCC\n",
       "\" style=\"display:inline;vertical-align:middle;\" /></a></td></tr>\n",
       "<tr><td>5</td><td>Literal</td><td></td><td><a class=\"ProveItLink\" href=\"../../../../number/numeral/__pv_it/f086f8c372bd40a2458306ddfdbb29f3dc6f63030/expr.ipynb\"><img src=\"data:image/png;base64,iVBORw0KGgoAAAANSUhEUgAAAAgAAAAOBAMAAADgeEClAAAAIVBMVEX///8QEBBERESIiIgyMjJm\n",
       "ZmZUVFTu7u4iIiLMzMwAAAAWRytzAAAAAXRSTlMAQObYZgAAAAlwSFlzAAAOxAAADsQBlSsOGwAA\n",
       "ABtJREFUCNdjYOBsZ2AoC1nOwMDATBbBprgiGQBsuwqCZsDj4wAAAABJRU5ErkJggg==\n",
       "\" style=\"display:inline;vertical-align:middle;\" /></a></td></tr>\n",
       "<tr><td>6</td><td>Variable</td><td></td><td><a class=\"ProveItLink\" href=\"../0c1c4cb515e0f4344b1ac06650f349123e526deb0/expr.ipynb\"><img src=\"data:image/png;base64,iVBORw0KGgoAAAANSUhEUgAAAAwAAAAJBAMAAAD0ltBnAAAALVBMVEX///8iIiIyMjKqqqqYmJgQ\n",
       "EBDMzMzu7u5ERESIiIjc3NxUVFR2dna6uroAAABc6vguAAAAAXRSTlMAQObYZgAAAAlwSFlzAAAO\n",
       "xAAADsQBlSsOGwAAAEdJREFUCNdj4D296uROBgYejk6GugUMuawNDOsSGArqLjD4MTAw2DEw7ABS\n",
       "mxgYnrAzMMQwMD/gYeB6xsCj4MXAK8DA1WIAACOEDusgYYkuAAAAAElFTkSuQmCC\n",
       "\" style=\"display:inline;vertical-align:middle;\" /></a></td></tr>\n",
       "<tr><td>7</td><td>IndexedVar</td><td>variable:&nbsp;10<br>index:&nbsp;9<br></td><td><a class=\"ProveItLink\" href=\"../0cb2ee2c74b83e0aeb2dfcc689d03116b41089f70/expr.ipynb\"><img src=\"data:image/png;base64,iVBORw0KGgoAAAANSUhEUgAAABIAAAAMBAMAAACdPPCPAAAAMFBMVEX////MzMxUVFQyMjKqqqoi\n",
       "IiKYmJju7u5EREQQEBC6urqIiIh2dnZmZmbc3NwAAAD0tjQRAAAAAXRSTlMAQObYZgAAAAlwSFlz\n",
       "AAAOxAAADsQBlSsOGwAAAG5JREFUCNdjYOC7s28DAxisfMDxHcxgn8bAG8Ag3MDAwPudgfUAA9MB\n",
       "BgbOBob6BQycAgwM9QcY8hkY5HerM9Q7MDSzPNhasJeBeQNbLA9DN0MyA7v2wUcbGWYxXIKYyfCd\n",
       "YQqUFc7WAGXJ7mEAAK6nGrTbYfrbAAAAAElFTkSuQmCC\n",
       "\" style=\"display:inline;vertical-align:middle;\" /></a></td></tr>\n",
       "<tr><td>8</td><td>IndexedVar</td><td>variable:&nbsp;9<br>index:&nbsp;10<br></td><td><a class=\"ProveItLink\" href=\"../f753f8362b362955627c11616e72bcb2b9d636cf0/expr.ipynb\"><img src=\"data:image/png;base64,iVBORw0KGgoAAAANSUhEUgAAABIAAAARBAMAAAAidOHKAAAAMFBMVEX////MzMyYmJjc3NyIiIhU\n",
       "VFR2dna6urqqqqpmZmYyMjIiIiIQEBBERETu7u4AAACIO4EmAAAAAXRSTlMAQObYZgAAAAlwSFlz\n",
       "AAAOxAAADsQBlSsOGwAAAHNJREFUCNdj4LuzgQEKuCbAWPwNMFb9AxgrG8ZgWOoyA8Lg+/XgvQGY\n",
       "xfGPgd8BzOJcwPA+AWZcPcQcfgWG+Q/4JrkZMPAX8B1ieC0g/4CBVYF3AsNMBhmgKVOAxn1ncIWa\n",
       "+Znh0jsI8zDjdwUIq1LDTQEAoGAdmQp96AQAAAAASUVORK5CYII=\n",
       "\" style=\"display:inline;vertical-align:middle;\" /></a></td></tr>\n",
       "<tr><td>9</td><td>Variable</td><td></td><td><a class=\"ProveItLink\" href=\"../53e304ff98ebc000dbe3ef224f4637dbafd46ba70/expr.ipynb\"><img src=\"data:image/png;base64,iVBORw0KGgoAAAANSUhEUgAAAAkAAAAOBAMAAAAPuiubAAAALVBMVEX///+YmJjc3NyIiIhUVFR2\n",
       "dna6urqqqqpmZmYyMjIiIiIQEBBERETu7u4AAAALjtrwAAAAAXRSTlMAQObYZgAAAAlwSFlzAAAO\n",
       "xAAADsQBlSsOGwAAAE5JREFUCNdj4D29gAEIOBtAJF8BiMy7ACKjQATDFON2BgbelxfuKTCwv2Xg\n",
       "M2DgmMBwLwCkPK+AgU+Aoe8CA18C70YGBhYBHqARvM1A5QCqGhDobJhHyAAAAABJRU5ErkJggg==\n",
       "\" style=\"display:inline;vertical-align:middle;\" /></a></td></tr>\n",
       "<tr><td>10</td><td>Variable</td><td></td><td><a class=\"ProveItLink\" href=\"../a8d4b3a34d2189508f9082853fbac36935714f280/expr.ipynb\"><img src=\"data:image/png;base64,iVBORw0KGgoAAAANSUhEUgAAAAsAAAAJBAMAAAAWSsseAAAAMFBMVEX////MzMxUVFQyMjKqqqoi\n",
       "IiKYmJju7u5EREQQEBC6urqIiIh2dnZmZmbc3NwAAAD0tjQRAAAAAXRSTlMAQObYZgAAAAlwSFlz\n",
       "AAAOxAAADsQBlSsOGwAAAEdJREFUCNdjYOC7s28DAwPDygcc3xkY2Kcx8AYwMPB+Z2A9wMDA2cBQ\n",
       "v4CBof4AQz5QRb0DQzPLAwbmDWyxPECV2gcfbWQAABp5EMgcedARAAAAAElFTkSuQmCC\n",
       "\" style=\"display:inline;vertical-align:middle;\" /></a></td></tr>\n",
       "</table>\n"
      ],
      "text/plain": [
       "0. (a_{1} ,  ...  , a_{n} , b_{1} ,  ...  , b_{n})\n",
       "   core type: ExprTuple\n",
       "   sub-expressions: 1, 2\n",
       "1. a_{1},...,a_{n}\n",
       "   core type: ExprRange\n",
       "   lambda_map: 3\n",
       "   start_index: 5\n",
       "   end_index: 6\n",
       "2. b_{1},...,b_{n}\n",
       "   core type: ExprRange\n",
       "   lambda_map: 4\n",
       "   start_index: 5\n",
       "   end_index: 6\n",
       "3. b -> a_{b}\n",
       "   core type: Lambda\n",
       "   parameter: 9\n",
       "   body: 7\n",
       "4. a -> b_{a}\n",
       "   core type: Lambda\n",
       "   parameter: 10\n",
       "   body: 8\n",
       "5. 1\n",
       "   core type: Literal\n",
       "   sub-expressions: \n",
       "6. n\n",
       "   core type: Variable\n",
       "   sub-expressions: \n",
       "7. a_{b}\n",
       "   core type: IndexedVar\n",
       "variable: 10\n",
       "index: 9\n",
       "8. b_{a}\n",
       "   core type: IndexedVar\n",
       "variable: 9\n",
       "index: 10\n",
       "9. b\n",
       "   core type: Variable\n",
       "   sub-expressions: \n",
       "10. a\n",
       "    core type: Variable\n",
       "    sub-expressions: "
      ]
     },
     "execution_count": 5,
     "metadata": {},
     "output_type": "execute_result"
    }
   ],
   "source": [
    "# display the expression information\n",
    "expr.exprInfo()"
   ]
  },
  {
   "cell_type": "code",
   "execution_count": null,
   "metadata": {},
   "outputs": [],
   "source": []
  }
 ],
 "metadata": {
  "kernelspec": {
   "display_name": "Python 3",
   "language": "python",
   "name": "python3"
  },
  "language_info": {
   "codemirror_mode": {
    "name": "ipython",
    "version": 3
   },
   "file_extension": ".py",
   "mimetype": "text/x-python",
   "name": "python",
   "nbconvert_exporter": "python",
   "pygments_lexer": "ipython3",
   "version": "3.7.4"
  }
 },
 "nbformat": 4,
 "nbformat_minor": 1
}
