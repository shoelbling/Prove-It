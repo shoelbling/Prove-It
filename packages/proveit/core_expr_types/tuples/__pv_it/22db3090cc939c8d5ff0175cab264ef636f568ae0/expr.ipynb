{
 "cells": [
  {
   "cell_type": "markdown",
   "metadata": {},
   "source": [
    "Expression of type <a class=\"ProveItLink\" href=\"../../../../../../doc/html/api/proveit.Function.html\">Function</a>\n",
    "=======================\n",
    "# from context <a class=\"ProveItLink\" href=\"../../_context_.ipynb\">proveit.core_expr_types.tuples</a>"
   ]
  },
  {
   "cell_type": "code",
   "execution_count": 1,
   "metadata": {},
   "outputs": [],
   "source": [
    "import proveit\n",
    "# Automation is not needed when building an expression:\n",
    "proveit.defaults.automation = False # This will speed things up.\n",
    "# import Expression classes needed to build the expression\n",
    "from proveit import Function, Variable\n",
    "from proveit.number import one"
   ]
  },
  {
   "cell_type": "code",
   "execution_count": 2,
   "metadata": {},
   "outputs": [
    {
     "data": {
      "text/html": [
       "<strong id=\"expr\">expr:</strong> <a class=\"ProveItLink\" href=\"expr.ipynb\"><img src=\"data:image/png;base64,iVBORw0KGgoAAAANSUhEUgAAACsAAAAVBAMAAAAtAwouAAAAMFBMVEX///+YmJgiIiLc3Ny6urp2\n",
       "dnaqqqrMzMwQEBDu7u5mZmYyMjJUVFRERESIiIgAAACzCz+6AAAAAXRSTlMAQObYZgAAAAlwSFlz\n",
       "AAAOxAAADsQBlSsOGwAAAPBJREFUGNNjYEACzBDKgAEVPINQfmDy7f87Z3dNADLYAhgY2DUZGPgS\n",
       "wOK/GRh4O4H0bAaGOat/Ahk7QaLs/4AKgZhhIRDzgYSlQMJ834H4K5DRABPmABnJ+wGIgVIsG2DC\n",
       "3AJAgv8CA4P/AwYGrgCYMOsBIFH/gMFUDaYGLMwI0vf+aKgIyA6mBJgwmwKQuA/1DIcDTJj9A8TZ\n",
       "aMIsQDexf4UKc6MYwvcFKsz7AG4l0G3cH6DCYGeBhbkeMPDs//sAIswC1Mpz49M5oJtQglYdxjBC\n",
       "CW4pGGMhijAvVC/zBRRhTiiXdwJqpBlCKGEGBgAe/j0V/OkisgAAAABJRU5ErkJggg==\n",
       "\" style=\"display:inline;vertical-align:middle;\" /></a><br>"
      ],
      "text/plain": [
       "expr: P(1)"
      ]
     },
     "execution_count": 2,
     "metadata": {},
     "output_type": "execute_result"
    }
   ],
   "source": [
    "# build up the expression from sub-expressions\n",
    "expr = Function(Variable(\"P\"), one)"
   ]
  },
  {
   "cell_type": "code",
   "execution_count": 3,
   "metadata": {},
   "outputs": [
    {
     "name": "stdout",
     "output_type": "stream",
     "text": [
      "Passed sanity check: built 'expr' is the same as the stored Expression.\n"
     ]
    }
   ],
   "source": [
    "# check that the built expression is the same as the stored expression\n",
    "%check_expr"
   ]
  },
  {
   "cell_type": "code",
   "execution_count": 4,
   "metadata": {},
   "outputs": [
    {
     "name": "stdout",
     "output_type": "stream",
     "text": [
      "P\\left(1\\right)\n"
     ]
    }
   ],
   "source": [
    "# Show the LaTeX representation of the expression for convenience if you need it.\n",
    "print(expr.latex())"
   ]
  },
  {
   "cell_type": "code",
   "execution_count": 5,
   "metadata": {},
   "outputs": [
    {
     "data": {
      "text/html": [
       "<table><tr><th>&nbsp;</th><th>core type</th><th>sub-expressions</th><th>expression</th></tr>\n",
       "<tr><td>0</td><td>Operation</td><td>operator:&nbsp;1<br>operand:&nbsp;2<br></td><td><a class=\"ProveItLink\" href=\"expr.ipynb\"><img src=\"data:image/png;base64,iVBORw0KGgoAAAANSUhEUgAAACsAAAAVBAMAAAAtAwouAAAAMFBMVEX///+YmJgiIiLc3Ny6urp2\n",
       "dnaqqqrMzMwQEBDu7u5mZmYyMjJUVFRERESIiIgAAACzCz+6AAAAAXRSTlMAQObYZgAAAAlwSFlz\n",
       "AAAOxAAADsQBlSsOGwAAAPBJREFUGNNjYEACzBDKgAEVPINQfmDy7f87Z3dNADLYAhgY2DUZGPgS\n",
       "wOK/GRh4O4H0bAaGOat/Ahk7QaLs/4AKgZhhIRDzgYSlQMJ834H4K5DRABPmABnJ+wGIgVIsG2DC\n",
       "3AJAgv8CA4P/AwYGrgCYMOsBIFH/gMFUDaYGLMwI0vf+aKgIyA6mBJgwmwKQuA/1DIcDTJj9A8TZ\n",
       "aMIsQDexf4UKc6MYwvcFKsz7AG4l0G3cH6DCYGeBhbkeMPDs//sAIswC1Mpz49M5oJtQglYdxjBC\n",
       "CW4pGGMhijAvVC/zBRRhTiiXdwJqpBlCKGEGBgAe/j0V/OkisgAAAABJRU5ErkJggg==\n",
       "\" style=\"display:inline;vertical-align:middle;\" /></a></td></tr>\n",
       "<tr><td>1</td><td>Variable</td><td></td><td><a class=\"ProveItLink\" href=\"../390c91a44e60b16c95d2255652741252e8ec8d980/expr.ipynb\"><img src=\"data:image/png;base64,iVBORw0KGgoAAAANSUhEUgAAABAAAAAOBAMAAADUAYG5AAAAMFBMVEX///+YmJgiIiLc3Ny6urp2\n",
       "dnaqqqrMzMwQEBDu7u5mZmYyMjJUVFRERESIiIgAAACzCz+6AAAAAXRSTlMAQObYZgAAAAlwSFlz\n",
       "AAAOxAAADsQBlSsOGwAAAF1JREFUCNdjYGB4+//O2V0TGIDgNwMDbyeQZv/HwMAGxAx834H4K5DB\n",
       "+wGIgRwG/gsMDP4PgIz6BwymaiBN74+GioBohvsMUPAbSrN/hTL4vkAZ3B8gNM/+vyAzGABqABnj\n",
       "X5k3PAAAAABJRU5ErkJggg==\n",
       "\" style=\"display:inline;vertical-align:middle;\" /></a></td></tr>\n",
       "<tr><td>2</td><td>Literal</td><td></td><td><a class=\"ProveItLink\" href=\"../../../../number/numeral/__pv_it/f086f8c372bd40a2458306ddfdbb29f3dc6f63030/expr.ipynb\"><img src=\"data:image/png;base64,iVBORw0KGgoAAAANSUhEUgAAAAgAAAAOBAMAAADgeEClAAAAIVBMVEX///8QEBBERESIiIgyMjJm\n",
       "ZmZUVFTu7u4iIiLMzMwAAAAWRytzAAAAAXRSTlMAQObYZgAAAAlwSFlzAAAOxAAADsQBlSsOGwAA\n",
       "ABtJREFUCNdjYOBsZ2AoC1nOwMDATBbBprgiGQBsuwqCZsDj4wAAAABJRU5ErkJggg==\n",
       "\" style=\"display:inline;vertical-align:middle;\" /></a></td></tr>\n",
       "</table>\n"
      ],
      "text/plain": [
       "0. P(1)\n",
       "   core type: Operation\n",
       "   operator: 1\n",
       "   operand: 2\n",
       "1. P\n",
       "   core type: Variable\n",
       "   sub-expressions: \n",
       "2. 1\n",
       "   core type: Literal\n",
       "   sub-expressions: "
      ]
     },
     "execution_count": 5,
     "metadata": {},
     "output_type": "execute_result"
    }
   ],
   "source": [
    "# display the expression information\n",
    "expr.exprInfo()"
   ]
  },
  {
   "cell_type": "code",
   "execution_count": null,
   "metadata": {},
   "outputs": [],
   "source": []
  }
 ],
 "metadata": {
  "kernelspec": {
   "display_name": "Python 3",
   "language": "python",
   "name": "python3"
  },
  "language_info": {
   "codemirror_mode": {
    "name": "ipython",
    "version": 3
   },
   "file_extension": ".py",
   "mimetype": "text/x-python",
   "name": "python",
   "nbconvert_exporter": "python",
   "pygments_lexer": "ipython3",
   "version": "3.7.4"
  }
 },
 "nbformat": 4,
 "nbformat_minor": 1
}
