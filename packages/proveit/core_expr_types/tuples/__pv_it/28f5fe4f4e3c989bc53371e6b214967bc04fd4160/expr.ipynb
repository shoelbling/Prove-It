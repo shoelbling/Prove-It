{
 "cells": [
  {
   "cell_type": "markdown",
   "metadata": {},
   "source": [
    "Expression of type <a class=\"ProveItLink\" href=\"../../../../../../doc/html/api/proveit.ExprTuple.html\">ExprTuple</a>\n",
    "=======================\n",
    "# from context <a class=\"ProveItLink\" href=\"../../_context_.ipynb\">proveit.core_expr_types.tuples</a>"
   ]
  },
  {
   "cell_type": "code",
   "execution_count": 1,
   "metadata": {},
   "outputs": [],
   "source": [
    "import proveit\n",
    "# Automation is not needed when building an expression:\n",
    "proveit.defaults.automation = False # This will speed things up.\n",
    "# import Expression classes needed to build the expression\n",
    "from proveit import ExprRange, ExprTuple, Variable\n",
    "from proveit.number import Add, one"
   ]
  },
  {
   "cell_type": "code",
   "execution_count": 2,
   "metadata": {},
   "outputs": [
    {
     "data": {
      "text/html": [
       "<strong id=\"expr\">expr:</strong> <a class=\"ProveItLink\" href=\"expr.ipynb\"><img src=\"data:image/png;base64,iVBORw0KGgoAAAANSUhEUgAAAIsAAAAVBAMAAACEWwD/AAAAMFBMVEX////MzMxUVFREREQiIiK6\n",
       "uroQEBCYmJhmZmYyMjLu7u52dnaqqqqIiIjc3NwAAACFAiZ1AAAAAXRSTlMAQObYZgAAAAlwSFlz\n",
       "AAAOxAAADsQBlSsOGwAAAYRJREFUOMulk79Lw0AUx19rm8YkDR3cXAouOigFwa0iEkSkQwaXImJB\n",
       "O5vRSbuJdMlW0IJB59LSv6Cj4BJ0cdIObg52UMS6+O7dtSq5pj988Hl8c7l8cndwANAGzkTV/zjZ\n",
       "4kxWuwK4Fcx44yoiWz+L0FxCm78cV3N11sV+zlEdDjyNqok7IiSZ5oijAGd0jeH/1igekceY/4dm\n",
       "2iHKGMtDNDtLL3f+7L0t0+hpooKxMkTTWPa1D9soyDQJl8hhzIVrIvY+mF+Q6Mg0xhpRxFgM12ja\n",
       "OxhdiGYwq5a1cWBZ6b4m0iFG0IDRAdUFxZetJl4gqhirQzRRF2IN2Gt7gzeVxZjtaSQmNqQ0oG7D\n",
       "gtmSHXGGaGJsCo32yU6CtborGj29puAE4EKXbUr1iW2MjLnDdR8s9u9NJFbqNTaE7x8Abh7/aqIr\n",
       "b4s4qU3EUkDwGcFdBYf6q6F65iRKHCo9eDb64KtJdSpYFbCqBTW18AtmZjhwLWDlBOc54ZopjwOm\n",
       "w5msjjnf7c6CStwTSOQAAAAASUVORK5CYII=\n",
       "\" style=\"display:inline;vertical-align:middle;\" /></a><br>"
      ],
      "text/plain": [
       "expr: ((1 ,  ...  , m + 1))"
      ]
     },
     "execution_count": 2,
     "metadata": {},
     "output_type": "execute_result"
    }
   ],
   "source": [
    "# build up the expression from sub-expressions\n",
    "expr = ExprTuple([ExprRange(Variable(\"k\"), Variable(\"k\"), one, Add(Variable(\"m\"), one))])"
   ]
  },
  {
   "cell_type": "code",
   "execution_count": 3,
   "metadata": {},
   "outputs": [
    {
     "name": "stdout",
     "output_type": "stream",
     "text": [
      "Passed sanity check: built 'expr' is the same as the stored Expression.\n"
     ]
    }
   ],
   "source": [
    "# check that the built expression is the same as the stored expression\n",
    "%check_expr"
   ]
  },
  {
   "cell_type": "code",
   "execution_count": 4,
   "metadata": {},
   "outputs": [
    {
     "name": "stdout",
     "output_type": "stream",
     "text": [
      "\\left(\\left(1 , \\ldots , m + 1\\right)\\right)\n"
     ]
    }
   ],
   "source": [
    "# Show the LaTeX representation of the expression for convenience if you need it.\n",
    "print(expr.latex())"
   ]
  },
  {
   "cell_type": "code",
   "execution_count": 5,
   "metadata": {},
   "outputs": [
    {
     "data": {
      "text/html": [
       "<table><tr><th>&nbsp;</th><th>core type</th><th>sub-expressions</th><th>expression</th></tr>\n",
       "<tr><td>0</td><td>ExprTuple</td><td>1</td><td><a class=\"ProveItLink\" href=\"expr.ipynb\"><img src=\"data:image/png;base64,iVBORw0KGgoAAAANSUhEUgAAAIsAAAAVBAMAAACEWwD/AAAAMFBMVEX////MzMxUVFREREQiIiK6\n",
       "uroQEBCYmJhmZmYyMjLu7u52dnaqqqqIiIjc3NwAAACFAiZ1AAAAAXRSTlMAQObYZgAAAAlwSFlz\n",
       "AAAOxAAADsQBlSsOGwAAAYRJREFUOMulk79Lw0AUx19rm8YkDR3cXAouOigFwa0iEkSkQwaXImJB\n",
       "O5vRSbuJdMlW0IJB59LSv6Cj4BJ0cdIObg52UMS6+O7dtSq5pj988Hl8c7l8cndwANAGzkTV/zjZ\n",
       "4kxWuwK4Fcx44yoiWz+L0FxCm78cV3N11sV+zlEdDjyNqok7IiSZ5oijAGd0jeH/1igekceY/4dm\n",
       "2iHKGMtDNDtLL3f+7L0t0+hpooKxMkTTWPa1D9soyDQJl8hhzIVrIvY+mF+Q6Mg0xhpRxFgM12ja\n",
       "OxhdiGYwq5a1cWBZ6b4m0iFG0IDRAdUFxZetJl4gqhirQzRRF2IN2Gt7gzeVxZjtaSQmNqQ0oG7D\n",
       "gtmSHXGGaGJsCo32yU6CtborGj29puAE4EKXbUr1iW2MjLnDdR8s9u9NJFbqNTaE7x8Abh7/aqIr\n",
       "b4s4qU3EUkDwGcFdBYf6q6F65iRKHCo9eDb64KtJdSpYFbCqBTW18AtmZjhwLWDlBOc54ZopjwOm\n",
       "w5msjjnf7c6CStwTSOQAAAAASUVORK5CYII=\n",
       "\" style=\"display:inline;vertical-align:middle;\" /></a></td></tr>\n",
       "<tr><td>1</td><td>ExprTuple</td><td>2</td><td><a class=\"ProveItLink\" href=\"../f175761e1ca7c0364bd286bcd341166849cec0180/expr.ipynb\"><img src=\"data:image/png;base64,iVBORw0KGgoAAAANSUhEUgAAAHsAAAAVBAMAAACUF4xmAAAAMFBMVEX////MzMxUVFREREQiIiK6\n",
       "uroQEBCYmJhmZmYyMjLu7u52dnaqqqqIiIjc3NwAAACFAiZ1AAAAAXRSTlMAQObYZgAAAAlwSFlz\n",
       "AAAOxAAADsQBlSsOGwAAAVtJREFUOMtjYGB4wEAmAGvkPUCu9lgQcRqIRRaQqpXRC2Ix1wQGLo35\n",
       "pGpf1PkLSM5iYOAoANL3idXOWgBl8IK0VzAwsDGQop3nArJ2tgUMkRRo5yxg6CagPVrv9aUL0pcD\n",
       "sGnnVmCYTkD7BuMLXN8DeBKwaWefwOCDXztjQDID328G9g/YtPM4MKTi187F9ZWB5xcDkwGQzeHi\n",
       "4pbi4qIA1874gZB2Bp4PDBwTGNguYLOdNYFhDgHtTBMYWDYwxD9YgN3xtjDtWEwACbFtYFgfwKDJ\n",
       "dwBb0BkwbIJq5/oJ8imIWD8BSoB57wUY6hkYZnNjczzHBYYQIKWc73SBwQVklwcQszTACJAQUP4G\n",
       "A8OJe6jamcy+6AIVPWBgEYCFEabrMYXgtoPBE6D7G6Bsbky/c+POMmDQDsR2UPZaTO1r8WcAPlBi\n",
       "WAzlFGDKF+DXzgzyG18BuYVVHQMDADcubKjDVOEuAAAAAElFTkSuQmCC\n",
       "\" style=\"display:inline;vertical-align:middle;\" /></a></td></tr>\n",
       "<tr><td>2</td><td>ExprRange</td><td>lambda_map:&nbsp;3<br>start_index:&nbsp;9<br>end_index:&nbsp;4<br></td><td><a class=\"ProveItLink\" href=\"../23b8aadea99b126cc99dc6af096f4e2bf2e5e5c80/expr.ipynb\"><img src=\"data:image/png;base64,iVBORw0KGgoAAAANSUhEUgAAAHwAAAAVBAMAAAB2y5cfAAAAMFBMVEX///+6urrc3NyYmJh2dnaq\n",
       "qqoQEBBERESIiIgyMjJmZmZUVFTu7u4iIiLMzMwAAADZRvEaAAAAAXRSTlMAQObYZgAAAAlwSFlz\n",
       "AAAOxAAADsQBlSsOGwAAAVdJREFUOMtjYMAPFPDIMTEQAhwBeCQZG4AE3x08KkJwyrw9wMDQysBw\n",
       "euUf3Lp5JuCS2DUfqJ0TiDnwaOcyQBcRhjH6gVqZF+DXzoYhEoGsnSEHv3ZJAton49e+BBi83koe\n",
       "O/g8CrFq98avHWg6C3sFw3lDhjCs2i3xa7/KwPCQrYBB34HBHqv2WPzaExkYDpwXYIg/wLAdxF17\n",
       "927a3bu3EdrfE9TOEM/AsJKBIQOr7WL4tU8F4p0MDFcYGD/x4HE8D5Z0BSIqgDiFgecjA/cEVWza\n",
       "zSHaz4MSJ4jg+cmAxANFDNM/BuYPDJwODti0r2DgLvu7g4EXlG14gUmQ4RaMARaSBcb7BQaOBQys\n",
       "KxRQtW/Pvw3Mb5egvBhM14OEeB/gTHXgDH8BynDA1A4SAuUJHFkGOUfxNGAGHVioCG9hog6lmTGl\n",
       "IELH8WqvIVRYMRngkWRWYAAAy0hiWW7OnLoAAAAASUVORK5CYII=\n",
       "\" style=\"display:inline;vertical-align:middle;\" /></a></td></tr>\n",
       "<tr><td>3</td><td>Lambda</td><td>parameter:&nbsp;5<br>body:&nbsp;5<br></td><td><a class=\"ProveItLink\" href=\"../3f65dd765ebc1f78cc5012238a4d9c3aeb80e9230/expr.ipynb\"><img src=\"data:image/png;base64,iVBORw0KGgoAAAANSUhEUgAAADYAAAAOCAMAAABTsh8vAAAANlBMVEX///8WFhYNDQ3MzMzc3NyY\n",
       "mJiIiIhUVFR2dna6urqqqqpmZmYyMjIiIiIQEBBERETu7u4AAADpXcuUAAAAAXRSTlMAQObYZgAA\n",
       "AAlwSFlzAAAOxAAADsQBlSsOGwAAAKVJREFUKM+NkkkOwzAIRWk9JMZ44P6XbbKo/YlsKaxAPNBn\n",
       "IOqtFnpphpVMrw1Y5fdlk03at1T0Ngb2rFY/BvzQD6wcVzrmP27389jWZLsGYvY1LEFuRslkWX1i\n",
       "cuLX/WMD1cDmGhxy308xpppGDtgi+XT7aZIkyA22X82Sul2Zk46jDTboHTLFdZng4YA92u06Oocq\n",
       "I9HcDdh2f0vMcf0p2Wxrsj83mAflxQIppAAAAABJRU5ErkJggg==\n",
       "\" style=\"display:inline;vertical-align:middle;\" /></a></td></tr>\n",
       "<tr><td>4</td><td>Operation</td><td>operator:&nbsp;6<br>operands:&nbsp;7<br></td><td><a class=\"ProveItLink\" href=\"../17d5fa5ddafd28c4bee2a37256e609f0d2406b990/expr.ipynb\"><img src=\"data:image/png;base64,iVBORw0KGgoAAAANSUhEUgAAADQAAAAQBAMAAACra0H4AAAAMFBMVEX///8iIiIyMjJmZmYQEBCq\n",
       "qqqYmJju7u5ERETMzMyIiIjc3NxUVFR2dna6uroAAACULOzSAAAAAXRSTlMAQObYZgAAAAlwSFlz\n",
       "AAAOxAAADsQBlSsOGwAAAJFJREFUGNNjYMAOOMVxSDDUGH3HEHsGpbkwpaKIk+K7s/vWKc5bfVik\n",
       "eDm6GOrzGEKwSM1jaWDYf4EhH4tUQf0DhvgChhMgvqGgoIugoAzcGfEMDEYMDF7YXHiIgUGWge83\n",
       "OxYpXwb2fww8Clsxpbh/MrB9YGC6cAGLvwQYuAwYWK02oEjxtHw8hSs0sIBnCCYAGT4sm372algA\n",
       "AAAASUVORK5CYII=\n",
       "\" style=\"display:inline;vertical-align:middle;\" /></a></td></tr>\n",
       "<tr><td>5</td><td>Variable</td><td></td><td><a class=\"ProveItLink\" href=\"../273f49450ca25e1b56abbd98a7aef618f8f6c1360/expr.ipynb\"><img src=\"data:image/png;base64,iVBORw0KGgoAAAANSUhEUgAAAAoAAAAOBAMAAADkjZCYAAAAMFBMVEX////MzMzc3NyYmJiIiIhU\n",
       "VFR2dna6urqqqqpmZmYyMjIiIiIQEBBERETu7u4AAADM1VnsAAAAAXRSTlMAQObYZgAAAAlwSFlz\n",
       "AAAOxAAADsQBlSsOGwAAAE9JREFUCNdj4LuzgQEIuCaASP4GEFn/AETmgAiGpQwt8xj4PnM0HWbg\n",
       "+FTBuIiB87AAUJh7ZSKQfF9QD+TYM7xvcGCIZXgvkMBwg4FlygMA76IUkutkA5UAAAAASUVORK5C\n",
       "YII=\n",
       "\" style=\"display:inline;vertical-align:middle;\" /></a></td></tr>\n",
       "<tr><td>6</td><td>Literal</td><td></td><td><a class=\"ProveItLink\" href=\"../../../../number/addition/__pv_it/65ad7e8aee19b10110d590375ba95a879c4fb7ea0/expr.ipynb\"><img src=\"data:image/png;base64,iVBORw0KGgoAAAANSUhEUgAAAA4AAAAOBAMAAADtZjDiAAAAHlBMVEX///9UVFQQEBAiIiJmZmaI\n",
       "iIiqqqqYmJi6uroAAAAAFVhYAAAAAXRSTlMAQObYZgAAAAlwSFlzAAAOxAAADsQBlSsOGwAAAB9J\n",
       "REFUCNdjYGBgaGeAgFRiaGdjYyVjY0Oi1SPRIHsAgDEGyG9xCpgAAAAASUVORK5CYII=\n",
       "\" style=\"display:inline;vertical-align:middle;\" /></a></td></tr>\n",
       "<tr><td>7</td><td>ExprTuple</td><td>8, 9</td><td><a class=\"ProveItLink\" href=\"../7a702cba5addd226167644cd161e360e411c0d180/expr.ipynb\"><img src=\"data:image/png;base64,iVBORw0KGgoAAAANSUhEUgAAADEAAAAVBAMAAAAdjxsPAAAAMFBMVEX////MzMxUVFREREQiIiK6\n",
       "uroQEBCYmJhmZmYyMjLu7u52dnaqqqqIiIjc3NwAAACFAiZ1AAAAAXRSTlMAQObYZgAAAAlwSFlz\n",
       "AAAOxAAADsQBlSsOGwAAAQlJREFUKM9jYGB4wIAJwGK8B7DIxIKI0+iijF4Q5VwT0CQWdf4CkrMY\n",
       "GDgK0PXwgmQqGBjYGLDKsC1giMQuw1nA0M3AwLrp3V5dxr2myDLcCgzTgSSzLcP6UoZjyDLsExh8\n",
       "GBhE2QwY3m9gqEeW4XFgSGVgWLA+gOH8AgZlZBnGDyAZhvMMDJ0MDLnIMqwJDHOAlCYDgzcD6z8u\n",
       "VNNsgVQ2A9dXBqYJbxgWIFxgwLCJgYHvIwP7BwbODRu4fsJlOC4whADNdGDgbWDg6X3A4ALUxGT2\n",
       "RZeBgeUBA4sAkvd5FsBYT4AGNiDJcMNZ7UBshySzFsbgMwASi5Fk4DHCDDKWrwBLbNcxMAAASstA\n",
       "PQuwl6YAAAAASUVORK5CYII=\n",
       "\" style=\"display:inline;vertical-align:middle;\" /></a></td></tr>\n",
       "<tr><td>8</td><td>Variable</td><td></td><td><a class=\"ProveItLink\" href=\"../6e8a38e9a7e2b6af352562cd77e0eb4751f142620/expr.ipynb\"><img src=\"data:image/png;base64,iVBORw0KGgoAAAANSUhEUgAAABIAAAAJBAMAAADN8WE8AAAAMFBMVEX///8iIiIyMjJmZmYQEBCq\n",
       "qqqYmJju7u5ERETMzMyIiIjc3NxUVFR2dna6uroAAACULOzSAAAAAXRSTlMAQObYZgAAAAlwSFlz\n",
       "AAAOxAAADsQBlSsOGwAAAGNJREFUCNdj4Luz+9Ypzlt9DAy8HF0M9XkMIQwM81gaGPZfYMhnYCio\n",
       "f8AQX8BwgoGBIZ6BwYiBwQvIOsTAIMvA95udgcGXgf0fA4/CVgbunwxsHxiYLlxg4BNg4DJgYLXa\n",
       "AAB/WBcBafZ/twAAAABJRU5ErkJggg==\n",
       "\" style=\"display:inline;vertical-align:middle;\" /></a></td></tr>\n",
       "<tr><td>9</td><td>Literal</td><td></td><td><a class=\"ProveItLink\" href=\"../../../../number/numeral/__pv_it/f086f8c372bd40a2458306ddfdbb29f3dc6f63030/expr.ipynb\"><img src=\"data:image/png;base64,iVBORw0KGgoAAAANSUhEUgAAAAgAAAAOBAMAAADgeEClAAAAIVBMVEX///8QEBBERESIiIgyMjJm\n",
       "ZmZUVFTu7u4iIiLMzMwAAAAWRytzAAAAAXRSTlMAQObYZgAAAAlwSFlzAAAOxAAADsQBlSsOGwAA\n",
       "ABtJREFUCNdjYOBsZ2AoC1nOwMDATBbBprgiGQBsuwqCZsDj4wAAAABJRU5ErkJggg==\n",
       "\" style=\"display:inline;vertical-align:middle;\" /></a></td></tr>\n",
       "</table>\n"
      ],
      "text/plain": [
       "0. ((1 ,  ...  , m + 1))\n",
       "   core type: ExprTuple\n",
       "   sub-expressions: 1\n",
       "1. (1 ,  ...  , m + 1)\n",
       "   core type: ExprTuple\n",
       "   sub-expressions: 2\n",
       "2. 1,...,(m + 1)\n",
       "   core type: ExprRange\n",
       "   lambda_map: 3\n",
       "   start_index: 9\n",
       "   end_index: 4\n",
       "3. k -> k\n",
       "   core type: Lambda\n",
       "   parameter: 5\n",
       "   body: 5\n",
       "4. m + 1\n",
       "   core type: Operation\n",
       "   operator: 6\n",
       "   operands: 7\n",
       "5. k\n",
       "   core type: Variable\n",
       "   sub-expressions: \n",
       "6. +\n",
       "   core type: Literal\n",
       "   sub-expressions: \n",
       "7. (m , 1)\n",
       "   core type: ExprTuple\n",
       "   sub-expressions: 8, 9\n",
       "8. m\n",
       "   core type: Variable\n",
       "   sub-expressions: \n",
       "9. 1\n",
       "   core type: Literal\n",
       "   sub-expressions: "
      ]
     },
     "execution_count": 5,
     "metadata": {},
     "output_type": "execute_result"
    }
   ],
   "source": [
    "# display the expression information\n",
    "expr.exprInfo()"
   ]
  },
  {
   "cell_type": "code",
   "execution_count": null,
   "metadata": {},
   "outputs": [],
   "source": []
  }
 ],
 "metadata": {
  "kernelspec": {
   "display_name": "Python 3",
   "language": "python",
   "name": "python3"
  },
  "language_info": {
   "codemirror_mode": {
    "name": "ipython",
    "version": 3
   },
   "file_extension": ".py",
   "mimetype": "text/x-python",
   "name": "python",
   "nbconvert_exporter": "python",
   "pygments_lexer": "ipython3",
   "version": "3.7.4"
  }
 },
 "nbformat": 4,
 "nbformat_minor": 1
}
