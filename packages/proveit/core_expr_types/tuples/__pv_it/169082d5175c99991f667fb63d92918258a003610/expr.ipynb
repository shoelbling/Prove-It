{
 "cells": [
  {
   "cell_type": "markdown",
   "metadata": {},
   "source": [
    "Expression of type <a class=\"ProveItLink\" href=\"../../../../../../doc/html/api/proveit.ExprTuple.html\">ExprTuple</a>\n",
    "=======================\n",
    "# from context <a class=\"ProveItLink\" href=\"../../_context_.ipynb\">proveit.core_expr_types.tuples</a>"
   ]
  },
  {
   "cell_type": "code",
   "execution_count": 1,
   "metadata": {},
   "outputs": [],
   "source": [
    "import proveit\n",
    "# Automation is not needed when building an expression:\n",
    "proveit.defaults.automation = False # This will speed things up.\n",
    "# import Expression classes needed to build the expression\n",
    "from proveit import ExprRange, ExprTuple, IndexedVar, Len, Variable\n",
    "from proveit.number import one"
   ]
  },
  {
   "cell_type": "code",
   "execution_count": 2,
   "metadata": {},
   "outputs": [
    {
     "data": {
      "text/html": [
       "<strong id=\"expr\">expr:</strong> <a class=\"ProveItLink\" href=\"expr.ipynb\"><img src=\"data:image/png;base64,iVBORw0KGgoAAAANSUhEUgAAAKcAAAAVBAMAAADROuOhAAAAMFBMVEX////MzMxUVFREREQiIiK6\n",
       "uroQEBCYmJhmZmYyMjLu7u52dnaqqqqIiIjc3NwAAACFAiZ1AAAAAXRSTlMAQObYZgAAAAlwSFlz\n",
       "AAAOxAAADsQBlSsOGwAAAkBJREFUOMuVlD2IE0EUx//JbrKbyd6QXpCztIgsWFmoESwOtQgigogY\n",
       "POQ6WUHhKk0hWFzhdoIfsCgoFsetQgoLIaUoyOYsFPSORQQFkUtzqNHCmdmX/bjdHOwEhp1f3vzm\n",
       "471dAKH4ycZRsoWpfgedG2KgRp/LSi+oflBE3xK3/LJSsZ0CqaTMJf4Mpdu9IqmkpkP8dnnpcqFU\n",
       "0PqU98pL616RVNBzxGtueWnDKZIKukLclHn6/urn7hq+shkko+Z8Ij1/4Md6sOd9V9G7xOWqtSs4\n",
       "6u0qPRtqk2RkuInUPxiwX12rp+gp4rqohCcObgFPZ18EW4LZSYZWJ5ZWuovgf2GMFb1MvC42fsfD\n",
       "SVQ2OjOl5gR6qpwr41jK2DasCaq2omnpIsRf0foz0m1jrZsMa73k+NYYpot6oOiD6Z0OweLtz2pr\n",
       "Pm6KQry6Mf9hX/b4qLryEBdDT9LDxLUA7B80910Ums8Xk9IhDlnh9SVcwrpMlB1NlsF1Xx5iPx9K\n",
       "+oKksjwe4lrfV1L2Ryrc1IPqGoGx0OSrHWyrUjQDNVnFbLXkIe43FT0zLX6hevRpb7sV7fS4WF3v\n",
       "i4cF0IN+QizRfv5lhGpQ6amq0cNosgwWno/A601F9RZdy7FMoVj587+J09Was/lYzPtK7342WFCj\n",
       "T9LljLSZz1JcS1tir4bt0zdosDNY0iMk1egTzl/+Fle1mk9U/H6eRiPkbQ/cJmkmWNHHJGV2+i8n\n",
       "JzVyRPNI6uQodzBSo29lP1I3VD/K0/+hVa1WnuJlMAAAAABJRU5ErkJggg==\n",
       "\" style=\"display:inline;vertical-align:middle;\" /></a><br>"
      ],
      "text/plain": [
       "expr: (|(a_{1} ,  ...  , a_{m})| , m)"
      ]
     },
     "execution_count": 2,
     "metadata": {},
     "output_type": "execute_result"
    }
   ],
   "source": [
    "# build up the expression from sub-expressions\n",
    "subExpr1 = Variable(\"b\")\n",
    "expr = ExprTuple(Len([ExprRange(subExpr1, IndexedVar(Variable(\"a\"), subExpr1), one, Variable(\"m\"))]), Variable(\"m\"))"
   ]
  },
  {
   "cell_type": "code",
   "execution_count": 3,
   "metadata": {},
   "outputs": [
    {
     "name": "stdout",
     "output_type": "stream",
     "text": [
      "Passed sanity check: built 'expr' is the same as the stored Expression.\n"
     ]
    }
   ],
   "source": [
    "# check that the built expression is the same as the stored expression\n",
    "%check_expr"
   ]
  },
  {
   "cell_type": "code",
   "execution_count": 4,
   "metadata": {},
   "outputs": [
    {
     "name": "stdout",
     "output_type": "stream",
     "text": [
      "\\left(|\\left(a_{1} , \\ldots , a_{m}\\right)| , m\\right)\n"
     ]
    }
   ],
   "source": [
    "# Show the LaTeX representation of the expression for convenience if you need it.\n",
    "print(expr.latex())"
   ]
  },
  {
   "cell_type": "code",
   "execution_count": 5,
   "metadata": {},
   "outputs": [
    {
     "data": {
      "text/html": [
       "<table><tr><th>&nbsp;</th><th>core type</th><th>sub-expressions</th><th>expression</th></tr>\n",
       "<tr><td>0</td><td>ExprTuple</td><td>1, 8</td><td><a class=\"ProveItLink\" href=\"expr.ipynb\"><img src=\"data:image/png;base64,iVBORw0KGgoAAAANSUhEUgAAAKcAAAAVBAMAAADROuOhAAAAMFBMVEX////MzMxUVFREREQiIiK6\n",
       "uroQEBCYmJhmZmYyMjLu7u52dnaqqqqIiIjc3NwAAACFAiZ1AAAAAXRSTlMAQObYZgAAAAlwSFlz\n",
       "AAAOxAAADsQBlSsOGwAAAkBJREFUOMuVlD2IE0EUx//JbrKbyd6QXpCztIgsWFmoESwOtQgigogY\n",
       "POQ6WUHhKk0hWFzhdoIfsCgoFsetQgoLIaUoyOYsFPSORQQFkUtzqNHCmdmX/bjdHOwEhp1f3vzm\n",
       "471dAKH4ycZRsoWpfgedG2KgRp/LSi+oflBE3xK3/LJSsZ0CqaTMJf4Mpdu9IqmkpkP8dnnpcqFU\n",
       "0PqU98pL616RVNBzxGtueWnDKZIKukLclHn6/urn7hq+shkko+Z8Ij1/4Md6sOd9V9G7xOWqtSs4\n",
       "6u0qPRtqk2RkuInUPxiwX12rp+gp4rqohCcObgFPZ18EW4LZSYZWJ5ZWuovgf2GMFb1MvC42fsfD\n",
       "SVQ2OjOl5gR6qpwr41jK2DasCaq2omnpIsRf0foz0m1jrZsMa73k+NYYpot6oOiD6Z0OweLtz2pr\n",
       "Pm6KQry6Mf9hX/b4qLryEBdDT9LDxLUA7B80910Ums8Xk9IhDlnh9SVcwrpMlB1NlsF1Xx5iPx9K\n",
       "+oKksjwe4lrfV1L2Ryrc1IPqGoGx0OSrHWyrUjQDNVnFbLXkIe43FT0zLX6hevRpb7sV7fS4WF3v\n",
       "i4cF0IN+QizRfv5lhGpQ6amq0cNosgwWno/A601F9RZdy7FMoVj587+J09Was/lYzPtK7342WFCj\n",
       "T9LljLSZz1JcS1tir4bt0zdosDNY0iMk1egTzl/+Fle1mk9U/H6eRiPkbQ/cJmkmWNHHJGV2+i8n\n",
       "JzVyRPNI6uQodzBSo29lP1I3VD/K0/+hVa1WnuJlMAAAAABJRU5ErkJggg==\n",
       "\" style=\"display:inline;vertical-align:middle;\" /></a></td></tr>\n",
       "<tr><td>1</td><td>Operation</td><td>operator:&nbsp;2<br>operand:&nbsp;4<br></td><td><a class=\"ProveItLink\" href=\"../b0710b83cfdd0e84522cc739ebb3dfbb967161490/expr.ipynb\"><img src=\"data:image/png;base64,iVBORw0KGgoAAAANSUhEUgAAAHwAAAAVBAMAAAB2y5cfAAAAMFBMVEX///9UVFREREQiIiIQEBCY\n",
       "mJhmZmYyMjLu7u6qqqrMzMyIiIi6urp2dnbc3NwAAABm9RoHAAAAAXRSTlMAQObYZgAAAAlwSFlz\n",
       "AAAOxAAADsQBlSsOGwAAAZZJREFUOMuV0zFLw0AUB/C/adNcaxs62yWbbgaEooJShYKTBIUKIlgQ\n",
       "Jyl2cXKJoDh0SMHFSfoJNA4OtigV/ABxErRDFHRxsJNWqOAlTXtXQivJkLsX8uPevXsHG84jI9jj\n",
       "/W+j4Y7XAXncdIdGh0etgNxbz+PHQTUknePbgbmY53gmMMcS4/FicL7HeMSp3Pvzxz+HVbg1WfTA\n",
       "uKTRDJYxqQ/l97bQYtEa46EycKhhCzgavA2SRURl4Qnj4Tqwq2MOsZo6kEdaCHHtcdHPF0HatH8G\n",
       "87ACo85thdt7GeQXYnMoNyxsArn1WvJqrD95wQT5gVA8cznxU6emRhnjUXsjiwVc0nCF8UQS2Mdq\n",
       "3nK54ZTPeZFvfiKZYjohl1S0UaDhDtc2FB3cnKcqLg9NO4fhNGW6O5miy5PU00sVI2Ysgxn6aZ5r\n",
       "2tlulu7eT33JR3sdEa6MKnKzAlnleK6P+29vojf7pOuLioWIxnHB9vry8YtW0fTxUm92B8mWUzpe\n",
       "+ftOFP4u+iuv+b5MeLzqjm9Br3sn3eofb7p4dqTfxbUAAAAASUVORK5CYII=\n",
       "\" style=\"display:inline;vertical-align:middle;\" /></a></td></tr>\n",
       "<tr><td>2</td><td>Literal</td><td></td><td><a class=\"ProveItLink\" href=\"../92831c6291223dfbd76a11e90e750ae52564aa9f0/expr.ipynb\"><img src=\"data:image/png;base64,iVBORw0KGgoAAAANSUhEUgAAADsAAAASBAMAAAAXqLt+AAAAMFBMVEX///+qqqq6urru7u4QEBBE\n",
       "RERUVFTc3NyIiIgyMjJmZmaYmJjMzMwiIiJ2dnYAAACPW0xlAAAAAXRSTlMAQObYZgAAAAlwSFlz\n",
       "AAAOxAAADsQBlSsOGwAAAUNJREFUKM91kD1Lw1AUhp8kNVX7ke4OBgQ3NaOTFURwkg7apUMLIjpm\n",
       "0FWD+NGxozgVHFQEiaNT+wtsNxeRjLbQUiwoYhDPjQ5C2wuXey7POe95z4FOyLBjbDSjN9Ebwp5g\n",
       "ohqFk5VBrEmJlYnClDeIVcmCE4WH9UGcCqDzG9bkLpUvmd85OBUh7frMny3mPS6mTlxB26A/80iw\n",
       "6Rkf0GIvx7S4+3TNkuA10fc5StqrxEO0PpbHjaiEmDlISkWx3LUN403NGMvRcHmJ3MWk1/gyvP8N\n",
       "I+mNDMdIpnKnTI+VHL4VNitYvlNzyaP3cLJ25N3yPaWlEQvEUVDD+CJd0VwZaD3hYM14PGBcKalW\n",
       "ws26Zh+ztKgGCtOy8jvp/1qGOdi/R99tN4kXfArQHbJPUlVGnuQWjfpobK4Y56Mp+m3b/v//AcRT\n",
       "WSEJp2bgAAAAAElFTkSuQmCC\n",
       "\" style=\"display:inline;vertical-align:middle;\" /></a></td></tr>\n",
       "<tr><td>3</td><td>ExprTuple</td><td>4</td><td><a class=\"ProveItLink\" href=\"../27a6d41b98b40212335f7dee63afce863406edaf0/expr.ipynb\"><img src=\"data:image/png;base64,iVBORw0KGgoAAAANSUhEUgAAAHkAAAAVBAMAAACQ4lxbAAAAMFBMVEX////MzMxUVFREREQiIiK6\n",
       "uroQEBCYmJhmZmYyMjLu7u52dnaqqqqIiIjc3NwAAACFAiZ1AAAAAXRSTlMAQObYZgAAAAlwSFlz\n",
       "AAAOxAAADsQBlSsOGwAAAZZJREFUOMuV071Lw0AYBvCnNE3StI2d3Cr9BwpdHdQODkUdOkihg6CI\n",
       "uElQB120g9ChiNkE8SMouEmju9DBSUGqdlKQUBxEEbs4WB18c5cmQmghL/zCe7k83OVIAFjggpSb\n",
       "SdS5QDXjwI0jUHWXVHQuYO1xssYFrDVOBBewRIMpUVsKno5qTJVam1p9bvQPvF5+eINYmtml1la0\n",
       "wp2+4cgSxgx3JOnMFLVEWYScg7LeO32qYcsbxXPMArVE7kAwkWr2Tu8YmPRGoTbjpMUsagXgqnd6\n",
       "HsrXv/eYZfapJTUTm+iXVn4gtSFVUveJ5aS78xGaIbU6huMWSxv+pO0XYf1WKmpiOkHnLWWZC5oh\n",
       "0YaUj7G1lW84l5r+r8EBVsvmWxMDBdmkc2ow0zRBlMx5647vfNxePE+EcreZoMvx01AmiQwGIdDv\n",
       "IViMQC9h42Wn4/6tX7vdHB7wGQJewEhlzkvH/Edmdhu1Tauv0BMVcKMOu96PtoEz/6m533AkjUO0\n",
       "HqHSodlw4nDL/7tKvjthg4OqcYFqg/sDJvFvWpK3BnEAAAAASUVORK5CYII=\n",
       "\" style=\"display:inline;vertical-align:middle;\" /></a></td></tr>\n",
       "<tr><td>4</td><td>ExprTuple</td><td>5</td><td><a class=\"ProveItLink\" href=\"../1ac3f8003beb3e3079257ce441f0aabd091efdbf0/expr.ipynb\"><img src=\"data:image/png;base64,iVBORw0KGgoAAAANSUhEUgAAAGkAAAAVBAMAAAC3TN2zAAAAMFBMVEX////MzMxUVFREREQiIiK6\n",
       "uroQEBCYmJhmZmYyMjLu7u52dnaqqqqIiIjc3NwAAACFAiZ1AAAAAXRSTlMAQObYZgAAAAlwSFlz\n",
       "AAAOxAAADsQBlSsOGwAAAXpJREFUOMuVk79Lw0AUx7+laVKTNHZyq+QfKGR1UDs4FHXoIAUHQRFx\n",
       "k6AOumgGoUMRswnij6DgJonuQgcnBanaSUFCcRBFzOJgdfAl9kcgtHCBu3vfu/fhvXy5A+CC7Qvy\n",
       "UxVGasafbhihoIxoslLYA5I6M7UG8MwQeAvT7FSfjjItSvm52jvx9fKjIyQVu7QU3XijJ5RYwqjV\n",
       "VoKJSbJxEckcxPXu1KmOrY6Sc1ggGxvgHGRq3akdCxMdFfN8itdgF4Cr7tQ8xK9Qv7PYB2wHm+hF\n",
       "iT8QPAilzH1qOR10OExUBUOyG1BWlPDHL+LmrVDUeTWlkhsaLsj/qpCXglriN5qTbYYCHGDVcN5q\n",
       "6C8kHfKhiik6zZ7X7/47HPOL5WlwRisYp+n4aTCbRhYD4Ojqci64dKsXn5KjLV63ozk84DMGvFCT\n",
       "RpiSolY4rUDxqNoKZZRIjDQ334+2gbOoG+27llBxiPojFI3ESTgn+myEyE7c/wuF9YFtAH8nhlm4\n",
       "GY9lfwAAAABJRU5ErkJggg==\n",
       "\" style=\"display:inline;vertical-align:middle;\" /></a></td></tr>\n",
       "<tr><td>5</td><td>ExprRange</td><td>lambda_map:&nbsp;6<br>start_index:&nbsp;7<br>end_index:&nbsp;8<br></td><td><a class=\"ProveItLink\" href=\"../39dac9ba13281fbb9cfd78910b52920053cfca8a0/expr.ipynb\"><img src=\"data:image/png;base64,iVBORw0KGgoAAAANSUhEUgAAAFwAAAANBAMAAADWExQ5AAAAMFBMVEX////MzMxUVFQyMjKqqqoi\n",
       "IiKYmJju7u5EREQQEBC6urqIiIh2dnZmZmbc3NwAAAD0tjQRAAAAAXRSTlMAQObYZgAAAAlwSFlz\n",
       "AAAOxAAADsQBlSsOGwAAAP5JREFUKM9jYOC7s28DA17w9vRrBGflA47veFVzzWPoL4Bx2Kcx8AYw\n",
       "sCfjVl6ZwHAVzuH9zsB6gEF6K27l9wsYYuAczgaG+gUMDK64lc9gYP8F59QfYMhnwKec/Q8D2wcG\n",
       "tmvSm7iTBBjqHRiaWR6AlRdgKgXhLwwcBn5sKxM4FbgVGJg3sMXygE1n/8wAJeoNkBgM1gypFw48\n",
       "38rAv4D3AAO79sFHGyGOCQUZHwvErBdgjHAgUbRHTluAQZtBkoHVAWYtSDkLpmvc4ayJDDsY3jMi\n",
       "K+fB9OcBGIPvA9D8DJiKN/a3GRiqMb0KTx5cCgx2DI+2I0smYChnQxcAAGDkPesUv4V9AAAAAElF\n",
       "TkSuQmCC\n",
       "\" style=\"display:inline;vertical-align:middle;\" /></a></td></tr>\n",
       "<tr><td>6</td><td>Lambda</td><td>parameter:&nbsp;11<br>body:&nbsp;9<br></td><td><a class=\"ProveItLink\" href=\"../c2a58b1c714071e1c6f226ef2cd0aeab3fa85e090/expr.ipynb\"><img src=\"data:image/png;base64,iVBORw0KGgoAAAANSUhEUgAAADwAAAARCAMAAAC2ED+oAAAANlBMVEX////MzMwWFhYNDQ2YmJjc\n",
       "3NyIiIhUVFR2dna6urqqqqpmZmYyMjIiIiIQEBBERETu7u4AAADe7qe0AAAAAXRSTlMAQObYZgAA\n",
       "AAlwSFlzAAAOxAAADsQBlSsOGwAAAOVJREFUOMulU1sSwyAI1FbxAYre/7JF0yaappMZ64cTlWV3\n",
       "IShVOCe1vgj/ANe4jg21/HoCewf2k+UpUbw1RA4Ad+Vz8U6ltOjBwkhVqchmL8MjTwazRPHoMvZD\n",
       "hWsu4CO0ZCM7tghNW1akTu/fEc9Hmlat4QPGTpN6pPNHl8PerhNzoB2rMneafpH11mWzJ/0GaxpU\n",
       "d3Wm9vsK4OSpZdrcXIDJjpVt6phUtApSUSCSneD46GeYRE99JimqSahEALdPKVbBocunhXr6fxx4\n",
       "bR3IZRYOdKvjIH7z6kiIZcOrw6QRxPkLSMQIqTrNxM4AAAAASUVORK5CYII=\n",
       "\" style=\"display:inline;vertical-align:middle;\" /></a></td></tr>\n",
       "<tr><td>7</td><td>Literal</td><td></td><td><a class=\"ProveItLink\" href=\"../../../../number/numeral/__pv_it/f086f8c372bd40a2458306ddfdbb29f3dc6f63030/expr.ipynb\"><img src=\"data:image/png;base64,iVBORw0KGgoAAAANSUhEUgAAAAgAAAAOBAMAAADgeEClAAAAIVBMVEX///8QEBBERESIiIgyMjJm\n",
       "ZmZUVFTu7u4iIiLMzMwAAAAWRytzAAAAAXRSTlMAQObYZgAAAAlwSFlzAAAOxAAADsQBlSsOGwAA\n",
       "ABtJREFUCNdjYOBsZ2AoC1nOwMDATBbBprgiGQBsuwqCZsDj4wAAAABJRU5ErkJggg==\n",
       "\" style=\"display:inline;vertical-align:middle;\" /></a></td></tr>\n",
       "<tr><td>8</td><td>Variable</td><td></td><td><a class=\"ProveItLink\" href=\"../6e8a38e9a7e2b6af352562cd77e0eb4751f142620/expr.ipynb\"><img src=\"data:image/png;base64,iVBORw0KGgoAAAANSUhEUgAAABIAAAAJBAMAAADN8WE8AAAAMFBMVEX///8iIiIyMjJmZmYQEBCq\n",
       "qqqYmJju7u5ERETMzMyIiIjc3NxUVFR2dna6uroAAACULOzSAAAAAXRSTlMAQObYZgAAAAlwSFlz\n",
       "AAAOxAAADsQBlSsOGwAAAGNJREFUCNdj4Luz+9Ypzlt9DAy8HF0M9XkMIQwM81gaGPZfYMhnYCio\n",
       "f8AQX8BwgoGBIZ6BwYiBwQvIOsTAIMvA95udgcGXgf0fA4/CVgbunwxsHxiYLlxg4BNg4DJgYLXa\n",
       "AAB/WBcBafZ/twAAAABJRU5ErkJggg==\n",
       "\" style=\"display:inline;vertical-align:middle;\" /></a></td></tr>\n",
       "<tr><td>9</td><td>IndexedVar</td><td>variable:&nbsp;10<br>index:&nbsp;11<br></td><td><a class=\"ProveItLink\" href=\"../0cb2ee2c74b83e0aeb2dfcc689d03116b41089f70/expr.ipynb\"><img src=\"data:image/png;base64,iVBORw0KGgoAAAANSUhEUgAAABIAAAAMBAMAAACdPPCPAAAAMFBMVEX////MzMxUVFQyMjKqqqoi\n",
       "IiKYmJju7u5EREQQEBC6urqIiIh2dnZmZmbc3NwAAAD0tjQRAAAAAXRSTlMAQObYZgAAAAlwSFlz\n",
       "AAAOxAAADsQBlSsOGwAAAG5JREFUCNdjYOC7s28DAxisfMDxHcxgn8bAG8Ag3MDAwPudgfUAA9MB\n",
       "BgbOBob6BQycAgwM9QcY8hkY5HerM9Q7MDSzPNhasJeBeQNbLA9DN0MyA7v2wUcbGWYxXIKYyfCd\n",
       "YQqUFc7WAGXJ7mEAAK6nGrTbYfrbAAAAAElFTkSuQmCC\n",
       "\" style=\"display:inline;vertical-align:middle;\" /></a></td></tr>\n",
       "<tr><td>10</td><td>Variable</td><td></td><td><a class=\"ProveItLink\" href=\"../a8d4b3a34d2189508f9082853fbac36935714f280/expr.ipynb\"><img src=\"data:image/png;base64,iVBORw0KGgoAAAANSUhEUgAAAAsAAAAJBAMAAAAWSsseAAAAMFBMVEX////MzMxUVFQyMjKqqqoi\n",
       "IiKYmJju7u5EREQQEBC6urqIiIh2dnZmZmbc3NwAAAD0tjQRAAAAAXRSTlMAQObYZgAAAAlwSFlz\n",
       "AAAOxAAADsQBlSsOGwAAAEdJREFUCNdjYOC7s28DAwPDygcc3xkY2Kcx8AYwMPB+Z2A9wMDA2cBQ\n",
       "v4CBof4AQz5QRb0DQzPLAwbmDWyxPECV2gcfbWQAABp5EMgcedARAAAAAElFTkSuQmCC\n",
       "\" style=\"display:inline;vertical-align:middle;\" /></a></td></tr>\n",
       "<tr><td>11</td><td>Variable</td><td></td><td><a class=\"ProveItLink\" href=\"../53e304ff98ebc000dbe3ef224f4637dbafd46ba70/expr.ipynb\"><img src=\"data:image/png;base64,iVBORw0KGgoAAAANSUhEUgAAAAkAAAAOBAMAAAAPuiubAAAALVBMVEX///+YmJjc3NyIiIhUVFR2\n",
       "dna6urqqqqpmZmYyMjIiIiIQEBBERETu7u4AAAALjtrwAAAAAXRSTlMAQObYZgAAAAlwSFlzAAAO\n",
       "xAAADsQBlSsOGwAAAE5JREFUCNdj4D29gAEIOBtAJF8BiMy7ACKjQATDFON2BgbelxfuKTCwv2Xg\n",
       "M2DgmMBwLwCkPK+AgU+Aoe8CA18C70YGBhYBHqARvM1A5QCqGhDobJhHyAAAAABJRU5ErkJggg==\n",
       "\" style=\"display:inline;vertical-align:middle;\" /></a></td></tr>\n",
       "</table>\n"
      ],
      "text/plain": [
       "0. (|(a_{1} ,  ...  , a_{m})| , m)\n",
       "   core type: ExprTuple\n",
       "   sub-expressions: 1, 8\n",
       "1. |(a_{1} ,  ...  , a_{m})|\n",
       "   core type: Operation\n",
       "   operator: 2\n",
       "   operand: 4\n",
       "2. length\n",
       "   core type: Literal\n",
       "   sub-expressions: \n",
       "3. ((a_{1} ,  ...  , a_{m}))\n",
       "   core type: ExprTuple\n",
       "   sub-expressions: 4\n",
       "4. (a_{1} ,  ...  , a_{m})\n",
       "   core type: ExprTuple\n",
       "   sub-expressions: 5\n",
       "5. a_{1},...,a_{m}\n",
       "   core type: ExprRange\n",
       "   lambda_map: 6\n",
       "   start_index: 7\n",
       "   end_index: 8\n",
       "6. b -> a_{b}\n",
       "   core type: Lambda\n",
       "   parameter: 11\n",
       "   body: 9\n",
       "7. 1\n",
       "   core type: Literal\n",
       "   sub-expressions: \n",
       "8. m\n",
       "   core type: Variable\n",
       "   sub-expressions: \n",
       "9. a_{b}\n",
       "   core type: IndexedVar\n",
       "variable: 10\n",
       "index: 11\n",
       "10. a\n",
       "    core type: Variable\n",
       "    sub-expressions: \n",
       "11. b\n",
       "    core type: Variable\n",
       "    sub-expressions: "
      ]
     },
     "execution_count": 5,
     "metadata": {},
     "output_type": "execute_result"
    }
   ],
   "source": [
    "# display the expression information\n",
    "expr.exprInfo()"
   ]
  },
  {
   "cell_type": "code",
   "execution_count": null,
   "metadata": {},
   "outputs": [],
   "source": []
  }
 ],
 "metadata": {
  "kernelspec": {
   "display_name": "Python 3",
   "language": "python",
   "name": "python3"
  },
  "language_info": {
   "codemirror_mode": {
    "name": "ipython",
    "version": 3
   },
   "file_extension": ".py",
   "mimetype": "text/x-python",
   "name": "python",
   "nbconvert_exporter": "python",
   "pygments_lexer": "ipython3",
   "version": "3.7.4"
  }
 },
 "nbformat": 4,
 "nbformat_minor": 1
}
