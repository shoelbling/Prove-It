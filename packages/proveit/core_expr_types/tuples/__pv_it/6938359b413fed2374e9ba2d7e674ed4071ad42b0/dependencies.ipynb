{
 "cells": [
  {
   "cell_type": "markdown",
   "metadata": {},
   "source": [
    "Theorem Dependencies\n",
    "=======================\n",
    "\n",
    "## <a class=\"ProveItLink\" href=\"../../_context_.ipynb\">proveit.core_expr_types.tuples</a>.<a class=\"ProveItLink\" href=\"../../_theorems_.ipynb#simple_range_len_val\">simple_range_len_val</a> \n",
    "***see <a class=\"ProveItLink\" href=\"../../_proofs_/simple_range_len_val.ipynb\">proof</a>***"
   ]
  },
  {
   "cell_type": "code",
   "execution_count": 1,
   "metadata": {},
   "outputs": [],
   "source": [
    "import proveit\n",
    "# Automation is not needed when querying dependencies:\n",
    "proveit.defaults.automation = False # This will speed things up.\n",
    "from proveit.core_expr_types.tuples._theorems_ import simple_range_len_val"
   ]
  },
  {
   "cell_type": "code",
   "execution_count": 2,
   "metadata": {},
   "outputs": [
    {
     "data": {
      "text/html": [
       "<h3>This theorem has not been proven yet.</h3>"
      ],
      "text/plain": [
       "<IPython.core.display.HTML object>"
      ]
     },
     "metadata": {},
     "output_type": "display_data"
    },
    {
     "data": {
      "text/html": [
       "<h3>Theorems that depend directly on simple_range_len_val</h3>"
      ],
      "text/plain": [
       "<IPython.core.display.HTML object>"
      ]
     },
     "metadata": {},
     "output_type": "display_data"
    },
    {
     "data": {
      "text/html": [
       "<dl>"
      ],
      "text/plain": [
       "<IPython.core.display.HTML object>"
      ]
     },
     "metadata": {},
     "output_type": "display_data"
    },
    {
     "data": {
      "text/html": [
       "<dt><a class=\"ProveItLink\" href=\"../../_proofs_/tuple_eq_via_elem_eq.ipynb\">proveit.core_expr_types.tuples.tuple_eq_via_elem_eq</a></dt><dd><a class=\"ProveItLink\" href=\"../2b5afc1b1a2bfd46059e0217344ced869c4144d60/expr.ipynb\"><img src=\"data:image/png;base64,iVBORw0KGgoAAAANSUhEUgAAAkoAAAAZBAMAAAA8iBzaAAAAMFBMVEX///+IiIgiIiIQEBB2dnbu\n",
       "7u5UVFTMzMzc3NwyMjK6urpmZmaYmJiqqqpEREQAAACk/Np2AAAAAXRSTlMAQObYZgAAAAlwSFlz\n",
       "AAAOxAAADsQBlSsOGwAABU9JREFUWMPlWV1oXEUUPpu9t3f37u7txsa8VGVZTYMEIRTRoFbWN61W\n",
       "rrUK0mp2Rd9EtgTEn4dsK/bFUlYhIATKVnzTh7UPFk3ErSBUs5VdQeNfMT6EQK2xBQM1GnDO/Nw7\n",
       "92fn3tZCtjhw7s7MOd/JnO/OnJm5AYgqzxZr8L8uieId0Ub1PhpwikvcUuvhIz6aemhfXyzdzCVu\n",
       "OdHDR3z0CcbSEv78rGTJwp9ca/NJypWYxF8snTAfz+xUo4Qe0dRDGz7B9jtKljIN8pPug+z0FJf4\n",
       "ZSbUx2wEalZCz1CWXsKluqRkySiTn2N9sODmucQvC6E+NiJQGxJ6gbKUtgG0jjovIZ97+oClcS7x\n",
       "S9IO8WGuqUGOHtEobciSfJOOyN7t/kjiZp3JFZR0K8SHVlCDHD2iUUj8O4vFOyNYShaLt5Y2n6VM\n",
       "iQm8+cAhtaVjoJVDfKQr2ztKaoUe0SiEpVMAyxEsZapg2ZvPkni15gT8oRyOa5ClU+9kEcsO4WNy\n",
       "Rr+sgjt6RGfZWjoCKUKX7t3CSh6WiMGR/zoPrgFLAx0mj7fgpNKQGWBIuUKIj19suKSCU71AoxCW\n",
       "LFsjO72WpwbG2G7YRkhrek+Vy7A7KgTjuLLPCsO8shTl1WORbDD5zIbbAA70zlDMAEMyLvrTOcF/\n",
       "DPqfKjjVCzQKYSmXF8n74Ivn4TvNztgBlroxkvdzyr5QlrZEJjuPhWDpftDXwRjsnYOpAVt74yEs\n",
       "zYK5oYKj3kGj0N3rNF8Up/AUnm9qEGApnc1HsnS3si+UpWQ1cieXLdIdKuRFZy+GLCancAN60i74\n",
       "8xLx8Q9k1hRwphdovuJgDzkOmcMAN6Fi8cdDGjw8NzbXkFnSfiDzS58fCp6/959+kK+uS8OBjCr1\n",
       "MZZ8LqYHnw+G6DHxWFh5KvoGWPXv6fD1YIg4UGqAIUHWv6bRxzomrt5wqnfQKMjS67jfTdo6dbio\n",
       "Pf1ecC6l7iKPvdXpAA/6qMGPYImRRDNwjXL7GEvCRWaVlAtwg709MExuEmYhNua34PNmiYY5SQan\n",
       "/wWs4raoAQmJuPGvAcS/AL+BCo56B42CLFlkVr/xDZj0ALYIzVuCLMEKkTmYIhcVL1GZpjHOTKx8\n",
       "tp5a9r84so/WJZZ8Ln6FL/0OmUlatnAaZoHJk0MvV6o0zIER0j2GW1dTPIo2NyAhkS7/7Ef8fjwO\n",
       "KeCod9AobXc42eOrq78TlvalQ1gCOhGHwXjXG9TWRqIs0mKm/OqIP1Vmyp655HNxD3zkd0hN3EIs\n",
       "pNYoFzflfBu880vvAOBwQD8aEy7Qh6XvS/pa1SixuWR2A+clZnIZLjwBA96gJmvWF3YXp/VWO9kB\n",
       "H0vY1827LDku+Hpag11+h9QkNyhZkAb4bp9umMFNUgM3pLC78UI8uIOel1jK1UvsBP4VeN6lPJcm\n",
       "jPUWBrUP9JJ4JGvTH8C5JqkN2F8DsuTqWN+5pjSXhAteRkhqJC0XQh5okvtJsnAbYNWYOGHqwa33\n",
       "MZBCCvnYIfARcIGmHpy5VKnBMcKeeXvVv2k7LL1/doiGONUxJmCqho+OOd99BBMb6fuwRFkydnFd\n",
       "jfVZVYkl4YKX14YAWy6E1KjJimyx4k60JSb0w+xDf+chG9yknOsthhRyr+L4KLhAUw/yF1390dXz\n",
       "kV90MUT3qshqe01RwxWX82pR6T0vedcYtlwIq+mFhjQsqXGUS9xyJqTv6BWhz1zNd29j26dSfuS1\n",
       "LTfy2sF7O1JGZH1E6WUJXXgdSkmU1yoykZVNv2hfzX8HssqaO+U989lS/YlWSK2fSgyW3r4m/49L\n",
       "wXVbEsX7/gWanbMG55HFIgAAAABJRU5ErkJggg==\n",
       "\" style=\"display:inline;vertical-align:middle;\" /></a></dd>"
      ],
      "text/plain": [
       "<IPython.core.display.HTML object>"
      ]
     },
     "metadata": {},
     "output_type": "display_data"
    },
    {
     "data": {
      "text/html": [
       "</dl>"
      ],
      "text/plain": [
       "<IPython.core.display.HTML object>"
      ]
     },
     "metadata": {},
     "output_type": "display_data"
    }
   ],
   "source": [
    "%dependencies simple_range_len_val"
   ]
  }
 ],
 "metadata": {
  "kernelspec": {
   "display_name": "Python 3",
   "language": "python",
   "name": "python3"
  },
  "language_info": {
   "codemirror_mode": {
    "name": "ipython",
    "version": 3
   },
   "file_extension": ".py",
   "mimetype": "text/x-python",
   "name": "python",
   "nbconvert_exporter": "python",
   "pygments_lexer": "ipython3",
   "version": "3.7.4"
  }
 },
 "nbformat": 4,
 "nbformat_minor": 1
}
