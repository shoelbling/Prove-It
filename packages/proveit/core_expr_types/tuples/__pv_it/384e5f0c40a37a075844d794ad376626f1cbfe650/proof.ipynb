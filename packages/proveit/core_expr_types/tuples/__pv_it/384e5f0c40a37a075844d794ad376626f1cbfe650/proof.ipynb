{
 "cells": [
  {
   "cell_type": "markdown",
   "metadata": {},
   "source": [
    "Show the Proof\n",
    "========"
   ]
  },
  {
   "cell_type": "code",
   "execution_count": 1,
   "metadata": {},
   "outputs": [
    {
     "data": {
      "text/html": [
       "<table><tr><th>&nbsp;</th><th>step type</th><th>requirements</th><th>statement</th></tr>\n",
       "<tr><td><a name=\"proveit.core_expr_types.tuples.384e5f0c40a37a075844d794ad376626f1cbfe650_step0\">0</a></td><td>assumption</td><td></td><td><span style=\"font-size:20px;\"><a class=\"ProveItLink\" href=\"../aeb53a7d21682a8c749d7f9cd797b13eca9dca730/expr.ipynb\"><img src=\"data:image/png;base64,iVBORw0KGgoAAAANSUhEUgAAAFUAAAAVBAMAAADFg78FAAAAMFBMVEX///8QEBBERERUVFTMzMyY\n",
       "mJjc3NxmZmYiIiJ2dnaqqqoyMjKIiIi6urru7u4AAAAvZeGPAAAAAXRSTlMAQObYZgAAAAlwSFlz\n",
       "AAAOxAAADsQBlSsOGwAAARtJREFUKM9jYGDgu8tAELAtg9Cn1xFWy+CsByK5/uFWwafYAGMqgwjO\n",
       "BjzGcRfAWDMIquVfQLza+w+IVzuDAVMtW+WxA9jUbj5ThayWfQOQuJjABA8O9g4wMACFw+8H7xMg\n",
       "ogdBRH4AUEyUgb2BgS8a3VhgePIfgAjnA33p3Asy6h8DxwQGnxPoaoF2vp8AEWbTXsDAVw30KqMC\n",
       "w/sLDAwrsATv/QUQYc69QIIJ6LD3ExjiGWBqkdzLH8BQ/wAivD4BGg7vFzBocyVgmst/AegTiPBE\n",
       "WJhxH2Bt58TiBuYApgKoMDx8+WymJB/BopavpooBXS0UrMAeeeSp5RGAiWXur8GmFCJcDXaTFBHZ\n",
       "AhSzIJBuRVgpy2RgFAMAVYBU9gY3dkEAAAAASUVORK5CYII=\n",
       "\" style=\"display:inline;vertical-align:middle;\" /></a> <a class=\"ProveItLink\" href=\"proof.ipynb\" style=\"text-decoration: none\">&#x22A2;&nbsp;</a><a class=\"ProveItLink\" href=\"../42f265cb18e2981b17c13304c9403860c66794040/expr.ipynb\"><img src=\"data:image/png;base64,iVBORw0KGgoAAAANSUhEUgAAAEAAAAARBAMAAACflbe/AAAAMFBMVEX////MzMxUVFQyMjKqqqoi\n",
       "IiKYmJju7u5EREQQEBC6urqIiIh2dnZmZmbc3NwAAAD0tjQRAAAAAXRSTlMAQObYZgAAAAlwSFlz\n",
       "AAAOxAAADsQBlSsOGwAAALhJREFUKM9jYMAB2DsDGPAD5gsEFPA7EFCwvoCAgqMwBt+dfRuwKTDa\n",
       "fQXCWPmA4ztMkDcUDBRAvvhcUP8A7J1pDLwBDOzJ6AawfGfg3wAS5v3OwHqAQXorugJeA4b6AyBh\n",
       "zgaG+gUMDK5YgmG9A0i4/gBDPgNMAZIb+BMY7heAFTgwNLM8wDSBfwHQdSBh5g1ssTxYrGBK4LgA\n",
       "FmbXPvhoIxYF7LevMCALu2IPTuIVvLG/jU0eKAwAQUgyxtN9cbAAAAAASUVORK5CYII=\n",
       "\" style=\"display:inline;vertical-align:middle;\" /></a></span></td></tr>\n",
       "</table>"
      ],
      "text/plain": [
       "<proveit._core_.proof._ShowProof at 0x2323e9f0648>"
      ]
     },
     "execution_count": 1,
     "metadata": {},
     "output_type": "execute_result"
    }
   ],
   "source": [
    "import proveit\n",
    "# Automation is not needed when only showing a stored proof:\n",
    "proveit.defaults.automation = False # This will speed things up.\n",
    "%show_proof"
   ]
  },
  {
   "cell_type": "code",
   "execution_count": null,
   "metadata": {},
   "outputs": [],
   "source": []
  }
 ],
 "metadata": {
  "kernelspec": {
   "display_name": "Python 3",
   "language": "python",
   "name": "python3"
  },
  "language_info": {
   "codemirror_mode": {
    "name": "ipython",
    "version": 3
   },
   "file_extension": ".py",
   "mimetype": "text/x-python",
   "name": "python",
   "nbconvert_exporter": "python",
   "pygments_lexer": "ipython3",
   "version": "3.7.4"
  }
 },
 "nbformat": 4,
 "nbformat_minor": 1
}
