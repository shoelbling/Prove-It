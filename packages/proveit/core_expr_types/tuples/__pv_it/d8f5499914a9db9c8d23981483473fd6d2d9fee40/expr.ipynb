{
 "cells": [
  {
   "cell_type": "markdown",
   "metadata": {},
   "source": [
    "Expression of type <a class=\"ProveItLink\" href=\"../../../../../../doc/html/api/proveit.Len.html\">Len</a>\n",
    "=======================\n",
    "# from context <a class=\"ProveItLink\" href=\"../../_context_.ipynb\">proveit.core_expr_types.tuples</a>"
   ]
  },
  {
   "cell_type": "code",
   "execution_count": 1,
   "metadata": {},
   "outputs": [],
   "source": [
    "import proveit\n",
    "# Automation is not needed when building an expression:\n",
    "proveit.defaults.automation = False # This will speed things up.\n",
    "# import Expression classes needed to build the expression\n",
    "from proveit import ExprRange, Len, Variable\n",
    "from proveit.number import one"
   ]
  },
  {
   "cell_type": "code",
   "execution_count": 2,
   "metadata": {},
   "outputs": [
    {
     "data": {
      "text/html": [
       "<strong id=\"expr\">expr:</strong> <a class=\"ProveItLink\" href=\"expr.ipynb\"><img src=\"data:image/png;base64,iVBORw0KGgoAAAANSUhEUgAAAF4AAAAVBAMAAAA9Y0TyAAAAMFBMVEX///9UVFREREQiIiIQEBCY\n",
       "mJhmZmYyMjLu7u6qqqrMzMyIiIi6urp2dnbc3NwAAABm9RoHAAAAAXRSTlMAQObYZgAAAAlwSFlz\n",
       "AAAOxAAADsQBlSsOGwAAARpJREFUKM9jeMAAAnwMBABUwQOGO2B6JyH1PBvA1B2Ies4LDAxcFrhV\n",
       "cydATYSqb2dgaEz/gVs98wUG9gYk9akgM37gdRBrApJ6B8LqGTwQ6nkKiFBfilDPdgG/+u5sIHER\n",
       "oZ49AL/6C0eARDhCPfMEvOr5JqQDyckI9SwH8KrnYPgNJNcTrZ6BEyR1BMn9+N3DwC6A6h6mDVD1\n",
       "HJhqQdHaPwEYgEEI9bwCUPX9wIjg+M4AJeC883zAAMxGii8DBgZGlc/SDMygNGfGACWYQUnAGGgB\n",
       "01Ygww4pPVjBbJ+B6dcGaKAaIKkPg8cMhnpeKM0WgKSe6QE0pDdgpgUo/Qg5/XMoQBMtZvgEQGkN\n",
       "qPpdYPopofzICnHBLgAlRF0APio7WAAAAABJRU5ErkJggg==\n",
       "\" style=\"display:inline;vertical-align:middle;\" /></a><br>"
      ],
      "text/plain": [
       "expr: |(1 ,  ...  , i)|"
      ]
     },
     "execution_count": 2,
     "metadata": {},
     "output_type": "execute_result"
    }
   ],
   "source": [
    "# build up the expression from sub-expressions\n",
    "expr = Len([ExprRange(Variable(\"k\"), Variable(\"k\"), one, Variable(\"i\"))])"
   ]
  },
  {
   "cell_type": "code",
   "execution_count": 3,
   "metadata": {},
   "outputs": [
    {
     "name": "stdout",
     "output_type": "stream",
     "text": [
      "Passed sanity check: built 'expr' is the same as the stored Expression.\n"
     ]
    }
   ],
   "source": [
    "# check that the built expression is the same as the stored expression\n",
    "%check_expr"
   ]
  },
  {
   "cell_type": "code",
   "execution_count": 4,
   "metadata": {},
   "outputs": [
    {
     "name": "stdout",
     "output_type": "stream",
     "text": [
      "|\\left(1 , \\ldots , i\\right)|\n"
     ]
    }
   ],
   "source": [
    "# Show the LaTeX representation of the expression for convenience if you need it.\n",
    "print(expr.latex())"
   ]
  },
  {
   "cell_type": "code",
   "execution_count": 5,
   "metadata": {},
   "outputs": [
    {
     "data": {
      "text/html": [
       "<table><tr><th>&nbsp;</th><th>core type</th><th>sub-expressions</th><th>expression</th></tr>\n",
       "<tr><td>0</td><td>Operation</td><td>operator:&nbsp;1<br>operand:&nbsp;3<br></td><td><a class=\"ProveItLink\" href=\"expr.ipynb\"><img src=\"data:image/png;base64,iVBORw0KGgoAAAANSUhEUgAAAF4AAAAVBAMAAAA9Y0TyAAAAMFBMVEX///9UVFREREQiIiIQEBCY\n",
       "mJhmZmYyMjLu7u6qqqrMzMyIiIi6urp2dnbc3NwAAABm9RoHAAAAAXRSTlMAQObYZgAAAAlwSFlz\n",
       "AAAOxAAADsQBlSsOGwAAARpJREFUKM9jeMAAAnwMBABUwQOGO2B6JyH1PBvA1B2Ies4LDAxcFrhV\n",
       "cydATYSqb2dgaEz/gVs98wUG9gYk9akgM37gdRBrApJ6B8LqGTwQ6nkKiFBfilDPdgG/+u5sIHER\n",
       "oZ49AL/6C0eARDhCPfMEvOr5JqQDyckI9SwH8KrnYPgNJNcTrZ6BEyR1BMn9+N3DwC6A6h6mDVD1\n",
       "HJhqQdHaPwEYgEEI9bwCUPX9wIjg+M4AJeC883zAAMxGii8DBgZGlc/SDMygNGfGACWYQUnAGGgB\n",
       "01Ygww4pPVjBbJ+B6dcGaKAaIKkPg8cMhnpeKM0WgKSe6QE0pDdgpgUo/Qg5/XMoQBMtZvgEQGkN\n",
       "qPpdYPopofzICnHBLgAlRF0APio7WAAAAABJRU5ErkJggg==\n",
       "\" style=\"display:inline;vertical-align:middle;\" /></a></td></tr>\n",
       "<tr><td>1</td><td>Literal</td><td></td><td><a class=\"ProveItLink\" href=\"../92831c6291223dfbd76a11e90e750ae52564aa9f0/expr.ipynb\"><img src=\"data:image/png;base64,iVBORw0KGgoAAAANSUhEUgAAADsAAAASBAMAAAAXqLt+AAAAMFBMVEX///+qqqq6urru7u4QEBBE\n",
       "RERUVFTc3NyIiIgyMjJmZmaYmJjMzMwiIiJ2dnYAAACPW0xlAAAAAXRSTlMAQObYZgAAAAlwSFlz\n",
       "AAAOxAAADsQBlSsOGwAAAUNJREFUKM91kD1Lw1AUhp8kNVX7ke4OBgQ3NaOTFURwkg7apUMLIjpm\n",
       "0FWD+NGxozgVHFQEiaNT+wtsNxeRjLbQUiwoYhDPjQ5C2wuXey7POe95z4FOyLBjbDSjN9Ebwp5g\n",
       "ohqFk5VBrEmJlYnClDeIVcmCE4WH9UGcCqDzG9bkLpUvmd85OBUh7frMny3mPS6mTlxB26A/80iw\n",
       "6Rkf0GIvx7S4+3TNkuA10fc5StqrxEO0PpbHjaiEmDlISkWx3LUN403NGMvRcHmJ3MWk1/gyvP8N\n",
       "I+mNDMdIpnKnTI+VHL4VNitYvlNzyaP3cLJ25N3yPaWlEQvEUVDD+CJd0VwZaD3hYM14PGBcKalW\n",
       "ws26Zh+ztKgGCtOy8jvp/1qGOdi/R99tN4kXfArQHbJPUlVGnuQWjfpobK4Y56Mp+m3b/v//AcRT\n",
       "WSEJp2bgAAAAAElFTkSuQmCC\n",
       "\" style=\"display:inline;vertical-align:middle;\" /></a></td></tr>\n",
       "<tr><td>2</td><td>ExprTuple</td><td>3</td><td><a class=\"ProveItLink\" href=\"../d815e5154cb05fee41104252fb2ee01be88e03240/expr.ipynb\"><img src=\"data:image/png;base64,iVBORw0KGgoAAAANSUhEUgAAAFwAAAAVBAMAAAA5lpTPAAAAMFBMVEX////MzMxUVFREREQiIiK6\n",
       "uroQEBCYmJhmZmYyMjLu7u52dnaqqqqIiIjc3NwAAACFAiZ1AAAAAXRSTlMAQObYZgAAAAlwSFlz\n",
       "AAAOxAAADsQBlSsOGwAAAU1JREFUKM+Nkr1LA0EQxZ94l49LjBb2CjaW1kIkiIVosBIhhWCTxsYD\n",
       "G20knUUQgo0gAQ+sRfEvsLDSwitTCAYUbCzSCha+t7umOdxk4Pdmjnt7N7s7APqweEOGioqpB4s/\n",
       "dkmYUp4ds8n/5p794CsQdQzR4pXHvglcMhUTFGIY8JZ4uzki+RZyTGKUPafX+2hQG2PYi+rgAm1q\n",
       "22+PejyS0jyrey6AwWMvhXvsm0eCY9Spdb/9q0BrucbqEU1q029PptnMxIDV3Dh2vPCVGsIOutTu\n",
       "CPs5hs1UqdU/e3ZFJH5K3OoSq0OeDQyyR9/Mtx0nw6dw8Mmb13ydYZsqFg5WU6zx80ELTtZVbOjv\n",
       "vKJAI7yFYAYGE+VsN08uf2jgaxobg72Q7DbvXD6FHcUVWBQ32a2mNle003dy7VDEGXve5Um1uax1\n",
       "scUfJ1raxy8RfVgMZtcURAAAAABJRU5ErkJggg==\n",
       "\" style=\"display:inline;vertical-align:middle;\" /></a></td></tr>\n",
       "<tr><td>3</td><td>ExprTuple</td><td>4</td><td><a class=\"ProveItLink\" href=\"../d55f25b050f8c10fdcce1c17dc0714693a2cdde00/expr.ipynb\"><img src=\"data:image/png;base64,iVBORw0KGgoAAAANSUhEUgAAAEsAAAAVBAMAAAD85A5eAAAAMFBMVEX////MzMxUVFREREQiIiK6\n",
       "uroQEBCYmJhmZmYyMjLu7u52dnaqqqqIiIjc3NwAAACFAiZ1AAAAAXRSTlMAQObYZgAAAAlwSFlz\n",
       "AAAOxAAADsQBlSsOGwAAAPxJREFUKM9jYGB4wEAAgBXwHiCkLBZEnAZikQW4Fd0AG8Q1gYFLYz4e\n",
       "Zd4MDLMYGDgKgMz7C/DaWsHAwMZAWBnbAoZIIpRxFjB041fGdeMCAwO3AsN0/Mq4WRMYGNgnMPjg\n",
       "V/aGYwIDA48DQyp+ZQv4gZYyfiCkjOE8UApo8RwCyiYxgC21hSnDVMkFwn+4gV4wYNgEVcb1E0iv\n",
       "nwAl4DzWD8+BMXWBIQTIV853usDgAjSOpYEBSniAGF5AwhYYmSwPGFgEoFbwYNp6Cko/AdrbAAtI\n",
       "TOdvgNLtQGwHZa/F9MIFCM1nACQWQwULMJSxQ2lmkHP4Cggl8joGBgBjpELihv7L7wAAAABJRU5E\n",
       "rkJggg==\n",
       "\" style=\"display:inline;vertical-align:middle;\" /></a></td></tr>\n",
       "<tr><td>4</td><td>ExprRange</td><td>lambda_map:&nbsp;5<br>start_index:&nbsp;6<br>end_index:&nbsp;7<br></td><td><a class=\"ProveItLink\" href=\"../34ded47880a5d2de2c839da31bee7ae9bb58d6dd0/expr.ipynb\"><img src=\"data:image/png;base64,iVBORw0KGgoAAAANSUhEUgAAAD4AAAASBAMAAADxgXA6AAAAMFBMVEX////c3Ny6urqYmJh2dnaq\n",
       "qqoQEBBERESIiIgyMjJmZmZUVFTu7u4iIiLMzMwAAAACGKt9AAAAAXRSTlMAQObYZgAAAAlwSFlz\n",
       "AAAOxAAADsQBlSsOGwAAAIRJREFUKM9jYOC7w4ATcCxgOL3yD255XgegGjzyYDNoJ39iBX55BzW8\n",
       "8owBK/HK8zD8wG8+6x/88pwboPI8mHIHgPh8ADT8zk8AqvnJACXgPH1GAwbusr87GHhBcXSLAUrw\n",
       "LgASd4EGsDfDTIvBdNsBlJDAkGdB8WkDZtgic5gx3W8AoQBJ+if1fWAVvwAAAABJRU5ErkJggg==\n",
       "\" style=\"display:inline;vertical-align:middle;\" /></a></td></tr>\n",
       "<tr><td>5</td><td>Lambda</td><td>parameter:&nbsp;8<br>body:&nbsp;8<br></td><td><a class=\"ProveItLink\" href=\"../3f65dd765ebc1f78cc5012238a4d9c3aeb80e9230/expr.ipynb\"><img src=\"data:image/png;base64,iVBORw0KGgoAAAANSUhEUgAAADYAAAAOCAMAAABTsh8vAAAANlBMVEX///8WFhYNDQ3MzMzc3NyY\n",
       "mJiIiIhUVFR2dna6urqqqqpmZmYyMjIiIiIQEBBERETu7u4AAADpXcuUAAAAAXRSTlMAQObYZgAA\n",
       "AAlwSFlzAAAOxAAADsQBlSsOGwAAAKVJREFUKM+NkkkOwzAIRWk9JMZ44P6XbbKo/YlsKaxAPNBn\n",
       "IOqtFnpphpVMrw1Y5fdlk03at1T0Ngb2rFY/BvzQD6wcVzrmP27389jWZLsGYvY1LEFuRslkWX1i\n",
       "cuLX/WMD1cDmGhxy308xpppGDtgi+XT7aZIkyA22X82Sul2Zk46jDTboHTLFdZng4YA92u06Oocq\n",
       "I9HcDdh2f0vMcf0p2Wxrsj83mAflxQIppAAAAABJRU5ErkJggg==\n",
       "\" style=\"display:inline;vertical-align:middle;\" /></a></td></tr>\n",
       "<tr><td>6</td><td>Literal</td><td></td><td><a class=\"ProveItLink\" href=\"../../../../number/numeral/__pv_it/f086f8c372bd40a2458306ddfdbb29f3dc6f63030/expr.ipynb\"><img src=\"data:image/png;base64,iVBORw0KGgoAAAANSUhEUgAAAAgAAAAOBAMAAADgeEClAAAAIVBMVEX///8QEBBERESIiIgyMjJm\n",
       "ZmZUVFTu7u4iIiLMzMwAAAAWRytzAAAAAXRSTlMAQObYZgAAAAlwSFlzAAAOxAAADsQBlSsOGwAA\n",
       "ABtJREFUCNdjYOBsZ2AoC1nOwMDATBbBprgiGQBsuwqCZsDj4wAAAABJRU5ErkJggg==\n",
       "\" style=\"display:inline;vertical-align:middle;\" /></a></td></tr>\n",
       "<tr><td>7</td><td>Variable</td><td></td><td><a class=\"ProveItLink\" href=\"../557ab5defdcd46aa58168b08767502985122cd490/expr.ipynb\"><img src=\"data:image/png;base64,iVBORw0KGgoAAAANSUhEUgAAAAcAAAAOBAMAAAARcxsoAAAALVBMVEX///9ERESYmJhUVFQyMjKq\n",
       "qqrc3NwQEBC6urru7u52dnYiIiJmZmaIiIgAAAD/UVazAAAAAXRSTlMAQObYZgAAAAlwSFlzAAAO\n",
       "xAAADsQBlSsOGwAAADlJREFUCNdjYGC4wwAEuxjQAeedCwwMXBwFDAypPA4MDBP4gFyGuAlAwhkk\n",
       "+5SLgYHjQRKQKavAAAAx5QmdfgFqMAAAAABJRU5ErkJggg==\n",
       "\" style=\"display:inline;vertical-align:middle;\" /></a></td></tr>\n",
       "<tr><td>8</td><td>Variable</td><td></td><td><a class=\"ProveItLink\" href=\"../273f49450ca25e1b56abbd98a7aef618f8f6c1360/expr.ipynb\"><img src=\"data:image/png;base64,iVBORw0KGgoAAAANSUhEUgAAAAoAAAAOBAMAAADkjZCYAAAAMFBMVEX////MzMzc3NyYmJiIiIhU\n",
       "VFR2dna6urqqqqpmZmYyMjIiIiIQEBBERETu7u4AAADM1VnsAAAAAXRSTlMAQObYZgAAAAlwSFlz\n",
       "AAAOxAAADsQBlSsOGwAAAE9JREFUCNdj4LuzgQEIuCaASP4GEFn/AETmgAiGpQwt8xj4PnM0HWbg\n",
       "+FTBuIiB87AAUJh7ZSKQfF9QD+TYM7xvcGCIZXgvkMBwg4FlygMA76IUkutkA5UAAAAASUVORK5C\n",
       "YII=\n",
       "\" style=\"display:inline;vertical-align:middle;\" /></a></td></tr>\n",
       "</table>\n"
      ],
      "text/plain": [
       "0. |(1 ,  ...  , i)|\n",
       "   core type: Operation\n",
       "   operator: 1\n",
       "   operand: 3\n",
       "1. length\n",
       "   core type: Literal\n",
       "   sub-expressions: \n",
       "2. ((1 ,  ...  , i))\n",
       "   core type: ExprTuple\n",
       "   sub-expressions: 3\n",
       "3. (1 ,  ...  , i)\n",
       "   core type: ExprTuple\n",
       "   sub-expressions: 4\n",
       "4. 1,...,i\n",
       "   core type: ExprRange\n",
       "   lambda_map: 5\n",
       "   start_index: 6\n",
       "   end_index: 7\n",
       "5. k -> k\n",
       "   core type: Lambda\n",
       "   parameter: 8\n",
       "   body: 8\n",
       "6. 1\n",
       "   core type: Literal\n",
       "   sub-expressions: \n",
       "7. i\n",
       "   core type: Variable\n",
       "   sub-expressions: \n",
       "8. k\n",
       "   core type: Variable\n",
       "   sub-expressions: "
      ]
     },
     "execution_count": 5,
     "metadata": {},
     "output_type": "execute_result"
    }
   ],
   "source": [
    "# display the expression information\n",
    "expr.exprInfo()"
   ]
  },
  {
   "cell_type": "code",
   "execution_count": null,
   "metadata": {},
   "outputs": [],
   "source": []
  }
 ],
 "metadata": {
  "kernelspec": {
   "display_name": "Python 3",
   "language": "python",
   "name": "python3"
  },
  "language_info": {
   "codemirror_mode": {
    "name": "ipython",
    "version": 3
   },
   "file_extension": ".py",
   "mimetype": "text/x-python",
   "name": "python",
   "nbconvert_exporter": "python",
   "pygments_lexer": "ipython3",
   "version": "3.7.4"
  }
 },
 "nbformat": 4,
 "nbformat_minor": 1
}
