{
 "cells": [
  {
   "cell_type": "markdown",
   "metadata": {},
   "source": [
    "Expression of type <a class=\"ProveItLink\" href=\"../../../../../../doc/html/api/proveit.ExprTuple.html\">ExprTuple</a>\n",
    "=======================\n",
    "# from context <a class=\"ProveItLink\" href=\"../../_context_.ipynb\">proveit.core_expr_types.tuples</a>"
   ]
  },
  {
   "cell_type": "code",
   "execution_count": 1,
   "metadata": {},
   "outputs": [],
   "source": [
    "import proveit\n",
    "# Automation is not needed when building an expression:\n",
    "proveit.defaults.automation = False # This will speed things up.\n",
    "# import Expression classes needed to build the expression\n",
    "from proveit import ExprTuple, Variable\n",
    "from proveit.core_expr_types._common_ import A_1_to_m, C_1_to_n"
   ]
  },
  {
   "cell_type": "code",
   "execution_count": 2,
   "metadata": {},
   "outputs": [
    {
     "data": {
      "text/html": [
       "<strong id=\"expr\">expr:</strong> <a class=\"ProveItLink\" href=\"expr.ipynb\"><img src=\"data:image/png;base64,iVBORw0KGgoAAAANSUhEUgAAAPYAAAAVBAMAAACH7A7XAAAAMFBMVEX////MzMxUVFREREQiIiK6\n",
       "uroQEBCYmJhmZmYyMjLu7u52dnaqqqqIiIjc3NwAAACFAiZ1AAAAAXRSTlMAQObYZgAAAAlwSFlz\n",
       "AAAOxAAADsQBlSsOGwAAAv5JREFUSMfFVk1oE0EU/hJjku4m2z16a81Fe5DE4kEETQRREbFSpCIU\n",
       "LIqIBW1EBD01VISCiAWhBRVc9aCXYhBB7MFWFA/20KUFBbE0IAhSpNW2aP1pfG9m12w27awHxYFM\n",
       "3nuZ972Zb957EwAl/I9h8JQcEfKHP1je9xdjr7ZpGpXyzeDldbM+Qyw7l2ra6GraRGqdUVRDDDan\n",
       "8tNSfEse8jCJcnDsMX9sRDNA2nSUV2+QeJhXIiRPWhjd5ZzEQlyujqeDr71nyW+ZIeIOF6R8Zw9N\n",
       "V5Qo2iaLIjkosQKiUnoybAaF1qc/+U3d5NRtS7mfcNGmvrROvugOR+vEIZlG9tRIUOyPyR9+U5pj\n",
       "yqPq4sc1SoRhjhFyeMIALknKMZYPil1IfPGbjgK3tzv053i+payTeUG8S/ADis6jHQ3FoKIYCX33\n",
       "mUJzk+MD7pnswHzRf1ap57FXngkzjcBdVQHHYXz2py2lzQuHrxbnOAqMSHW+PMcxAbK5N51BaDKn\n",
       "iD3R2zPnM62itNEdwC5ONVgqjOg3wbmrNsjYg0A9+SQUsTXidN5nqyeuYg6RLaJLmCqMiOgPT121\n",
       "DTck5Yh0qGPH6bMTOHd6svH1WnfnxHd4QcqisnUlhqzsImMUBOdbOY3ysmGyn1Z7YjEflH337HEc\n",
       "wTiRy7YpitfQJxVuMxhaCUMsMZgi3WKMUySdoUwH3vPdLUm/+4SlLcInwOCOkC0ZgzksUF2KH9BP\n",
       "2z5hSYULcNSqYCwDxHWcGAJj8M1fxgHqhuVrSGQXi8Ivwq1xN99OwRXIomUXLTwrX0fYDnVwbeyg\n",
       "ME3lVOoqtwtWcK95/X6gglHxL7hLtAupi/QVtkVv24eIp5eKu3pZw5fXEjWTGWOWUsryGL3KChje\n",
       "JVEzXjRh5LilV/vV9hivZYZ2HcsUOas8TQOBGHoVRqTdFI/YtkrPe/zVFrVUW12/RyvqSsYGi6vS\n",
       "8yojCKNqfSuSj4B3/Pb5/g/UuMWWq5f8isryHrWvxRbeaeAj8k9GrIRfN5nUQahg6QsAAAAASUVO\n",
       "RK5CYII=\n",
       "\" style=\"display:inline;vertical-align:middle;\" /></a><br>"
      ],
      "text/plain": [
       "expr: (A_{1} ,  ...  , A_{m} , B , C_{1} ,  ...  , C_{n})"
      ]
     },
     "execution_count": 2,
     "metadata": {},
     "output_type": "execute_result"
    }
   ],
   "source": [
    "# build up the expression from sub-expressions\n",
    "expr = ExprTuple(A_1_to_m, Variable(\"B\"), C_1_to_n)"
   ]
  },
  {
   "cell_type": "code",
   "execution_count": 3,
   "metadata": {},
   "outputs": [
    {
     "name": "stdout",
     "output_type": "stream",
     "text": [
      "Passed sanity check: built 'expr' is the same as the stored Expression.\n"
     ]
    }
   ],
   "source": [
    "# check that the built expression is the same as the stored expression\n",
    "%check_expr"
   ]
  },
  {
   "cell_type": "code",
   "execution_count": 4,
   "metadata": {},
   "outputs": [
    {
     "name": "stdout",
     "output_type": "stream",
     "text": [
      "\\left(A_{1} , \\ldots , A_{m} , B , C_{1} , \\ldots , C_{n}\\right)\n"
     ]
    }
   ],
   "source": [
    "# Show the LaTeX representation of the expression for convenience if you need it.\n",
    "print(expr.latex())"
   ]
  },
  {
   "cell_type": "code",
   "execution_count": 5,
   "metadata": {},
   "outputs": [
    {
     "data": {
      "text/html": [
       "<table><tr><th>&nbsp;</th><th>core type</th><th>sub-expressions</th><th>expression</th></tr>\n",
       "<tr><td>0</td><td>ExprTuple</td><td>1, 2, 3</td><td><a class=\"ProveItLink\" href=\"expr.ipynb\"><img src=\"data:image/png;base64,iVBORw0KGgoAAAANSUhEUgAAAPYAAAAVBAMAAACH7A7XAAAAMFBMVEX////MzMxUVFREREQiIiK6\n",
       "uroQEBCYmJhmZmYyMjLu7u52dnaqqqqIiIjc3NwAAACFAiZ1AAAAAXRSTlMAQObYZgAAAAlwSFlz\n",
       "AAAOxAAADsQBlSsOGwAAAv5JREFUSMfFVk1oE0EU/hJjku4m2z16a81Fe5DE4kEETQRREbFSpCIU\n",
       "LIqIBW1EBD01VISCiAWhBRVc9aCXYhBB7MFWFA/20KUFBbE0IAhSpNW2aP1pfG9m12w27awHxYFM\n",
       "3nuZ972Zb957EwAl/I9h8JQcEfKHP1je9xdjr7ZpGpXyzeDldbM+Qyw7l2ra6GraRGqdUVRDDDan\n",
       "8tNSfEse8jCJcnDsMX9sRDNA2nSUV2+QeJhXIiRPWhjd5ZzEQlyujqeDr71nyW+ZIeIOF6R8Zw9N\n",
       "V5Qo2iaLIjkosQKiUnoybAaF1qc/+U3d5NRtS7mfcNGmvrROvugOR+vEIZlG9tRIUOyPyR9+U5pj\n",
       "yqPq4sc1SoRhjhFyeMIALknKMZYPil1IfPGbjgK3tzv053i+payTeUG8S/ADis6jHQ3FoKIYCX33\n",
       "mUJzk+MD7pnswHzRf1ap57FXngkzjcBdVQHHYXz2py2lzQuHrxbnOAqMSHW+PMcxAbK5N51BaDKn\n",
       "iD3R2zPnM62itNEdwC5ONVgqjOg3wbmrNsjYg0A9+SQUsTXidN5nqyeuYg6RLaJLmCqMiOgPT121\n",
       "DTck5Yh0qGPH6bMTOHd6svH1WnfnxHd4QcqisnUlhqzsImMUBOdbOY3ysmGyn1Z7YjEflH337HEc\n",
       "wTiRy7YpitfQJxVuMxhaCUMsMZgi3WKMUySdoUwH3vPdLUm/+4SlLcInwOCOkC0ZgzksUF2KH9BP\n",
       "2z5hSYULcNSqYCwDxHWcGAJj8M1fxgHqhuVrSGQXi8Ivwq1xN99OwRXIomUXLTwrX0fYDnVwbeyg\n",
       "ME3lVOoqtwtWcK95/X6gglHxL7hLtAupi/QVtkVv24eIp5eKu3pZw5fXEjWTGWOWUsryGL3KChje\n",
       "JVEzXjRh5LilV/vV9hivZYZ2HcsUOas8TQOBGHoVRqTdFI/YtkrPe/zVFrVUW12/RyvqSsYGi6vS\n",
       "8yojCKNqfSuSj4B3/Pb5/g/UuMWWq5f8isryHrWvxRbeaeAj8k9GrIRfN5nUQahg6QsAAAAASUVO\n",
       "RK5CYII=\n",
       "\" style=\"display:inline;vertical-align:middle;\" /></a></td></tr>\n",
       "<tr><td>1</td><td>ExprRange</td><td>lambda_map:&nbsp;4<br>start_index:&nbsp;7<br>end_index:&nbsp;5<br></td><td><a class=\"ProveItLink\" href=\"../../../__pv_it/2eeecb9e8aa879f029f841b392d63dbb5c4c981e0/expr.ipynb\"><img src=\"data:image/png;base64,iVBORw0KGgoAAAANSUhEUgAAAGUAAAATBAMAAAB7Kd4gAAAAMFBMVEX///8QEBAiIiLu7u5ERES6\n",
       "urqYmJiIiIjMzMx2dnZUVFRmZmaqqqoyMjLc3NwAAABb1yYoAAAAAXRSTlMAQObYZgAAAAlwSFlz\n",
       "AAAOxAAADsQBlSsOGwAAATVJREFUKM9jYACBtwwEAd8FNIH7hPXwfkDl8/wnrOc8mh7u9Q8I6tn1\n",
       "D5U/b34DIS2cL3+geq+g/gAhPc/Z/6A6jeF8AiE9G3i+ofBjGPonENDCeoDjJ6oZDO8XMDCYXcCj\n",
       "h5uB7xcyn91793oHBo5yBTx6Snbv+oLMN2dg4Aeq58Gjh7mAgeETqtMYmATw6+EGYkUGhuyM8gVl\n",
       "K0DeS4AkDJAeA0wbwGQYJH2lijFIMVQB2Q+BmOUfWA/zX5AqEGF/AYnBwAd0BoP/Az5zBYavDDsZ\n",
       "GEz+X2bg8f87AWyPEsgibSBm2gBjKAM1+/81YDjy/yYDVwGHAIMOckIFhQOm4w4jsRkb2B34PjSg\n",
       "6uHE9D5ybL8H2sTmgBDhm/u7ABTsWEIZDqIYeB/wLUdzC2ayY8MS8gA6vEvz34oTJQAAAABJRU5E\n",
       "rkJggg==\n",
       "\" style=\"display:inline;vertical-align:middle;\" /></a></td></tr>\n",
       "<tr><td>2</td><td>Variable</td><td></td><td><a class=\"ProveItLink\" href=\"../4d98b438710c5ada9ffa4646bb123a7d0e69ec000/expr.ipynb\"><img src=\"data:image/png;base64,iVBORw0KGgoAAAANSUhEUgAAABAAAAAOBAMAAADUAYG5AAAAMFBMVEX///92dnaqqqoiIiLu7u5m\n",
       "Zma6urqIiIjc3NwQEBDMzMwyMjJUVFRERESYmJgAAAAeMT9/AAAAAXRSTlMAQObYZgAAAAlwSFlz\n",
       "AAAOxAAADsQBlSsOGwAAAHJJREFUCNdjYGB4+//Omb0LGIBgLgMDzy8gzfGdgYHtK5DBB+TxATkM\n",
       "PB8YGLhnABmcFxhYDoMUr79efvoBSFN9AwPTPBDjJhDLg6T+APH7AgYGrn9AxvkEBgb2H0DObyCH\n",
       "ewIDQ+YWoHH7/5w5fYmBAQBdUiHY6HsJaQAAAABJRU5ErkJggg==\n",
       "\" style=\"display:inline;vertical-align:middle;\" /></a></td></tr>\n",
       "<tr><td>3</td><td>ExprRange</td><td>lambda_map:&nbsp;6<br>start_index:&nbsp;7<br>end_index:&nbsp;8<br></td><td><a class=\"ProveItLink\" href=\"../../../__pv_it/81bed46b4f7edc41cfaf61ad6081642d589d59fe0/expr.ipynb\"><img src=\"data:image/png;base64,iVBORw0KGgoAAAANSUhEUgAAAF4AAAASBAMAAAAgZnRKAAAAMFBMVEX////MzMy6uroyMjJmZmYi\n",
       "IiKqqqoQEBB2dnbc3NyYmJhUVFRERESIiIju7u4AAACU7+9TAAAAAXRSTlMAQObYZgAAAAlwSFlz\n",
       "AAAOxAAADsQBlSsOGwAAAP5JREFUKM9jYGDgu7N7F2cDAz6AouT6PQa21gV41SMreRMHJPwn4FOO\n",
       "osT8AZBQx2s8shKObyBSBJ9yFCXzA0DkQ3zqUZT0X2AgBFCUxAtA6FcGONXDlIBBPcgvDA8Y7wbg\n",
       "VA9VAtUMItgEGNhwq4cpAQNwsHIw4FMPVcLlJXsF6HmQZ/og6vkw1YJcAVXCpb6AfQID2y8GhowH\n",
       "EPXvgX7m+8yAxAATUCXzrjLwAxU+Ob1FgQGinhUU7yFAzOoAZTCEgiyAKtmLnAzA7s/DcA/bAwS7\n",
       "kMGDEVU9ZqrmQDA5PzAEJcI5zV8uMPBhxvVbBJNpA8MN1GTPhRk+6PkCANjaTv9LIP7mAAAAAElF\n",
       "TkSuQmCC\n",
       "\" style=\"display:inline;vertical-align:middle;\" /></a></td></tr>\n",
       "<tr><td>4</td><td>Lambda</td><td>parameter:&nbsp;13<br>body:&nbsp;9<br></td><td><a class=\"ProveItLink\" href=\"../../../__pv_it/44f94b188dc4920a8ed8a081c0051cde39b329aa0/expr.ipynb\"><img src=\"data:image/png;base64,iVBORw0KGgoAAAANSUhEUgAAAEUAAAASCAMAAAA62ONUAAAANlBMVEX///8WFhYNDQ3MzMxUVFQy\n",
       "MjKqqqoiIiKYmJju7u5EREQQEBC6urqIiIh2dnZmZmbc3NwAAADRPqZpAAAAAXRSTlMAQObYZgAA\n",
       "AAlwSFlzAAAOxAAADsQBlSsOGwAAAPNJREFUOMutU1l2BCEIdOKKisj9LxtxJkljOy8v6eZLWYqi\n",
       "RGP+Zd2bG8zzDSCB70Ahx/0v+bjLbr2x/aUQFHfaSIsGOZy81HBEviyqYNzMI8KkxVnLYJ0Z9nUh\n",
       "ryB10LDclgGKwFJ81x0znKiYzm5xThbxB/vjEZUxV41KNN5ooVjkDofMhUv1CgSeArLOgjlh4nd6\n",
       "Wg+neSSpPKspYeuCIm+WvQl9i+L1wtR0/AIQ7RBa2vhBMUUy38KoAarel15ehzyXl0bUThc4bLY7\n",
       "3C8jHd2QmeeAQQ6jraiJ7uJ3AiGUE8A1mLGvlmu6SKZSCtiS+QR8xwkGAeaOLgAAAABJRU5ErkJg\n",
       "gg==\n",
       "\" style=\"display:inline;vertical-align:middle;\" /></a></td></tr>\n",
       "<tr><td>5</td><td>Variable</td><td></td><td><a class=\"ProveItLink\" href=\"../../../../__pv_it/6e8a38e9a7e2b6af352562cd77e0eb4751f142620/expr.ipynb\"><img src=\"data:image/png;base64,iVBORw0KGgoAAAANSUhEUgAAABIAAAAJBAMAAADN8WE8AAAAMFBMVEX///8iIiIyMjJmZmYQEBCq\n",
       "qqqYmJju7u5ERETMzMyIiIjc3NxUVFR2dna6uroAAACULOzSAAAAAXRSTlMAQObYZgAAAAlwSFlz\n",
       "AAAOxAAADsQBlSsOGwAAAGNJREFUCNdj4Luz+9Ypzlt9DAy8HF0M9XkMIQwM81gaGPZfYMhnYCio\n",
       "f8AQX8BwgoGBIZ6BwYiBwQvIOsTAIMvA95udgcGXgf0fA4/CVgbunwxsHxiYLlxg4BNg4DJgYLXa\n",
       "AAB/WBcBafZ/twAAAABJRU5ErkJggg==\n",
       "\" style=\"display:inline;vertical-align:middle;\" /></a></td></tr>\n",
       "<tr><td>6</td><td>Lambda</td><td>parameter:&nbsp;13<br>body:&nbsp;10<br></td><td><a class=\"ProveItLink\" href=\"../../../__pv_it/d3b46724ef684a1cbed24264b84370d7985d87d90/expr.ipynb\"><img src=\"data:image/png;base64,iVBORw0KGgoAAAANSUhEUgAAAEMAAAARCAMAAACxUuG9AAAANlBMVEX///8WFhYNDQ3MzMxUVFQy\n",
       "MjKqqqoiIiKYmJju7u5EREQQEBC6urqIiIh2dnZmZmbc3NwAAADRPqZpAAAAAXRSTlMAQObYZgAA\n",
       "AAlwSFlzAAAOxAAADsQBlSsOGwAAAPpJREFUOMulU+2SwyAI5M5PVETe/2WrtjaasZ27hD8R11mW\n",
       "hQD8N5CC1tpDyXA1KBLWj83OX2TA4PB5Yil/rXp6aOKLAlL8VmpOLC9YFjuOakUKZyo0MrdgS1bk\n",
       "SFHNSIpVcBDcctiwyKAP2mMzmN1eB1A4mnOi9hzcFbj3tH9/3BIiaUBRcG9bbGrxeHjSkUyadBw9\n",
       "zopQmgIvexdBGZwlv0fdZSN7yqVxtHEFA7bsOExZ5jI8zY0ZnQLV2zP13juGYUhaOlm3wEpfcNsp\n",
       "gCuo+qqhpqyKpq3lfLpFrj8cv8o0D0nDncDmTvCId0jqbipJ/paQxN5S9vAAonEI6SXB8vIAAAAA\n",
       "SUVORK5CYII=\n",
       "\" style=\"display:inline;vertical-align:middle;\" /></a></td></tr>\n",
       "<tr><td>7</td><td>Literal</td><td></td><td><a class=\"ProveItLink\" href=\"../../../../number/numeral/__pv_it/f086f8c372bd40a2458306ddfdbb29f3dc6f63030/expr.ipynb\"><img src=\"data:image/png;base64,iVBORw0KGgoAAAANSUhEUgAAAAgAAAAOBAMAAADgeEClAAAAIVBMVEX///8QEBBERESIiIgyMjJm\n",
       "ZmZUVFTu7u4iIiLMzMwAAAAWRytzAAAAAXRSTlMAQObYZgAAAAlwSFlzAAAOxAAADsQBlSsOGwAA\n",
       "ABtJREFUCNdjYOBsZ2AoC1nOwMDATBbBprgiGQBsuwqCZsDj4wAAAABJRU5ErkJggg==\n",
       "\" style=\"display:inline;vertical-align:middle;\" /></a></td></tr>\n",
       "<tr><td>8</td><td>Variable</td><td></td><td><a class=\"ProveItLink\" href=\"../../../../__pv_it/0c1c4cb515e0f4344b1ac06650f349123e526deb0/expr.ipynb\"><img src=\"data:image/png;base64,iVBORw0KGgoAAAANSUhEUgAAAAwAAAAJBAMAAAD0ltBnAAAALVBMVEX///8iIiIyMjKqqqqYmJgQ\n",
       "EBDMzMzu7u5ERESIiIjc3NxUVFR2dna6uroAAABc6vguAAAAAXRSTlMAQObYZgAAAAlwSFlzAAAO\n",
       "xAAADsQBlSsOGwAAAEdJREFUCNdj4D296uROBgYejk6GugUMuawNDOsSGArqLjD4MTAw2DEw7ABS\n",
       "mxgYnrAzMMQwMD/gYeB6xsCj4MXAK8DA1WIAACOEDusgYYkuAAAAAElFTkSuQmCC\n",
       "\" style=\"display:inline;vertical-align:middle;\" /></a></td></tr>\n",
       "<tr><td>9</td><td>IndexedVar</td><td>variable:&nbsp;11<br>index:&nbsp;13<br></td><td><a class=\"ProveItLink\" href=\"../../../__pv_it/ff8051d8edb8529faeebdf3de665d35c8808c0150/expr.ipynb\"><img src=\"data:image/png;base64,iVBORw0KGgoAAAANSUhEUgAAABkAAAASBAMAAABcAGiTAAAAMFBMVEX///8QEBAiIiLu7u5ERES6\n",
       "urqYmJiIiIjMzMx2dnZUVFRmZmaqqqoyMjLc3NwAAABb1yYoAAAAAXRSTlMAQObYZgAAAAlwSFlz\n",
       "AAAOxAAADsQBlSsOGwAAAIdJREFUCNdjYACBtwzI4D4yh+c/Mo97/QMk3rz5DQgOX0H9ASSFDOcT\n",
       "ELwYhv4JCN4GhvcL4Bx2793rHeA8cwYGfgUkhQxMAgwM1unzgBxWoHm8HxiYNTg+A3kPgZjlHwP3\n",
       "Bg6gApP/lxl4/P9O4A9gRxjMYP+AJdkAzmN80B+GkGPddnwaAwCw3SEKz8u5qQAAAABJRU5ErkJg\n",
       "gg==\n",
       "\" style=\"display:inline;vertical-align:middle;\" /></a></td></tr>\n",
       "<tr><td>10</td><td>IndexedVar</td><td>variable:&nbsp;12<br>index:&nbsp;13<br></td><td><a class=\"ProveItLink\" href=\"../../../__pv_it/960a8220327fede097fcb69f28f2c29692a606700/expr.ipynb\"><img src=\"data:image/png;base64,iVBORw0KGgoAAAANSUhEUgAAABcAAAARBAMAAADEXSqOAAAAMFBMVEX////MzMy6uroyMjJmZmYi\n",
       "IiKqqqoQEBB2dnbc3NyYmJhUVFRERESIiIju7u4AAACU7+9TAAAAAXRSTlMAQObYZgAAAAlwSFlz\n",
       "AAAOxAAADsQBlSsOGwAAAItJREFUCNdjYGDgu7N7F2cDAwRcv8fA1roAwn4TByT8J0A45g+AhDqE\n",
       "zfENRIpAOPMDQORDCKf/AgMCxAsgcepB+hkeQGVABBtUGmwDBwPDk7WdQNNABvQx8AUy/gOq+MXA\n",
       "kPGAgcWBsQAo+uT0FgUGBn4F3g1wQ99P4Fn3AMZhnyCvBZdh8srtYgAAzUcimPi51gcAAAAASUVO\n",
       "RK5CYII=\n",
       "\" style=\"display:inline;vertical-align:middle;\" /></a></td></tr>\n",
       "<tr><td>11</td><td>Variable</td><td></td><td><a class=\"ProveItLink\" href=\"../../../../__pv_it/d3792d0d8642fdf1cd2a3a9b32c673ee13653de00/expr.ipynb\"><img src=\"data:image/png;base64,iVBORw0KGgoAAAANSUhEUgAAAA8AAAAPBAMAAADJ+Ih5AAAAMFBMVEX///8QEBAiIiLu7u5ERES6\n",
       "urqYmJiIiIjMzMx2dnZUVFRmZmaqqqoyMjLc3NwAAABb1yYoAAAAAXRSTlMAQObYZgAAAAlwSFlz\n",
       "AAAOxAAADsQBlSsOGwAAAF9JREFUCNdjYACBtwxQcB9K8/yHMrjXP4Aw5s1vANN8BfUHIDIM5xPA\n",
       "jBiG/glgxgaG9wtANLv37vUOIIY5AwO/AkSGgUkASLMCdfB+ADIeAjHLPwYGk/+XGXj8/04AADnq\n",
       "Fzds8Dk2AAAAAElFTkSuQmCC\n",
       "\" style=\"display:inline;vertical-align:middle;\" /></a></td></tr>\n",
       "<tr><td>12</td><td>Variable</td><td></td><td><a class=\"ProveItLink\" href=\"../../../../__pv_it/dcb5a3e430485237dfe486162b026a4affb149300/expr.ipynb\"><img src=\"data:image/png;base64,iVBORw0KGgoAAAANSUhEUgAAAA8AAAAOBAMAAAACpFvcAAAAMFBMVEX////MzMy6uroyMjJmZmYi\n",
       "IiKqqqoQEBB2dnbc3NyYmJhUVFRERESIiIju7u4AAACU7+9TAAAAAXRSTlMAQObYZgAAAAlwSFlz\n",
       "AAAOxAAADsQBlSsOGwAAAGRJREFUCNdjYGDgu7N7F2cDAwPD9XsMbK0LGBjexAE5/hMYGMwfABnq\n",
       "DAwc34A0gwgDw/wAEOMhA0P/BQYIiBeAMupBahmARDyIZhOAmMDAAcTzQYr7QKK/GBgywOqenN6i\n",
       "AKQAXj8YQ01800YAAAAASUVORK5CYII=\n",
       "\" style=\"display:inline;vertical-align:middle;\" /></a></td></tr>\n",
       "<tr><td>13</td><td>Variable</td><td></td><td><a class=\"ProveItLink\" href=\"../../../__pv_it/a8d4b3a34d2189508f9082853fbac36935714f280/expr.ipynb\"><img src=\"data:image/png;base64,iVBORw0KGgoAAAANSUhEUgAAAAsAAAAJBAMAAAAWSsseAAAAMFBMVEX////MzMxUVFQyMjKqqqoi\n",
       "IiKYmJju7u5EREQQEBC6urqIiIh2dnZmZmbc3NwAAAD0tjQRAAAAAXRSTlMAQObYZgAAAAlwSFlz\n",
       "AAAOxAAADsQBlSsOGwAAAEdJREFUCNdjYOC7s28DAwPDygcc3xkY2Kcx8AYwMPB+Z2A9wMDA2cBQ\n",
       "v4CBof4AQz5QRb0DQzPLAwbmDWyxPECV2gcfbWQAABp5EMgcedARAAAAAElFTkSuQmCC\n",
       "\" style=\"display:inline;vertical-align:middle;\" /></a></td></tr>\n",
       "</table>\n"
      ],
      "text/plain": [
       "0. (A_{1} ,  ...  , A_{m} , B , C_{1} ,  ...  , C_{n})\n",
       "   core type: ExprTuple\n",
       "   sub-expressions: 1, 2, 3\n",
       "1. A_{1},...,A_{m}\n",
       "   core type: ExprRange\n",
       "   lambda_map: 4\n",
       "   start_index: 7\n",
       "   end_index: 5\n",
       "2. B\n",
       "   core type: Variable\n",
       "   sub-expressions: \n",
       "3. C_{1},...,C_{n}\n",
       "   core type: ExprRange\n",
       "   lambda_map: 6\n",
       "   start_index: 7\n",
       "   end_index: 8\n",
       "4. a -> A_{a}\n",
       "   core type: Lambda\n",
       "   parameter: 13\n",
       "   body: 9\n",
       "5. m\n",
       "   core type: Variable\n",
       "   sub-expressions: \n",
       "6. a -> C_{a}\n",
       "   core type: Lambda\n",
       "   parameter: 13\n",
       "   body: 10\n",
       "7. 1\n",
       "   core type: Literal\n",
       "   sub-expressions: \n",
       "8. n\n",
       "   core type: Variable\n",
       "   sub-expressions: \n",
       "9. A_{a}\n",
       "   core type: IndexedVar\n",
       "variable: 11\n",
       "index: 13\n",
       "10. C_{a}\n",
       "    core type: IndexedVar\n",
       "variable: 12\n",
       "index: 13\n",
       "11. A\n",
       "    core type: Variable\n",
       "    sub-expressions: \n",
       "12. C\n",
       "    core type: Variable\n",
       "    sub-expressions: \n",
       "13. a\n",
       "    core type: Variable\n",
       "    sub-expressions: "
      ]
     },
     "execution_count": 5,
     "metadata": {},
     "output_type": "execute_result"
    }
   ],
   "source": [
    "# display the expression information\n",
    "expr.exprInfo()"
   ]
  },
  {
   "cell_type": "code",
   "execution_count": null,
   "metadata": {},
   "outputs": [],
   "source": []
  }
 ],
 "metadata": {
  "kernelspec": {
   "display_name": "Python 3",
   "language": "python",
   "name": "python3"
  },
  "language_info": {
   "codemirror_mode": {
    "name": "ipython",
    "version": 3
   },
   "file_extension": ".py",
   "mimetype": "text/x-python",
   "name": "python",
   "nbconvert_exporter": "python",
   "pygments_lexer": "ipython3",
   "version": "3.7.4"
  }
 },
 "nbformat": 4,
 "nbformat_minor": 1
}
