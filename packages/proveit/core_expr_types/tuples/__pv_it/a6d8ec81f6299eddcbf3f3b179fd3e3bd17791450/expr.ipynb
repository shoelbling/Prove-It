{
 "cells": [
  {
   "cell_type": "markdown",
   "metadata": {},
   "source": [
    "Expression of type <a class=\"ProveItLink\" href=\"../../../../../../doc/html/api/proveit.logic.Forall.html\">Forall</a>\n",
    "=======================\n",
    "# from context <a class=\"ProveItLink\" href=\"../../_context_.ipynb\">proveit.core_expr_types.tuples</a>"
   ]
  },
  {
   "cell_type": "code",
   "execution_count": 1,
   "metadata": {},
   "outputs": [],
   "source": [
    "import proveit\n",
    "# Automation is not needed when building an expression:\n",
    "proveit.defaults.automation = False # This will speed things up.\n",
    "# import Expression classes needed to build the expression\n",
    "from proveit import IndexedVar, Variable\n",
    "from proveit.logic import Equals, Forall\n",
    "from proveit.number import one"
   ]
  },
  {
   "cell_type": "code",
   "execution_count": 2,
   "metadata": {},
   "outputs": [
    {
     "data": {
      "text/html": [
       "<strong id=\"expr\">expr:</strong> <a class=\"ProveItLink\" href=\"../06910dc32994cbe6bf919441e7955d70b9f9c9920/expr.ipynb\"><img src=\"data:image/png;base64,iVBORw0KGgoAAAANSUhEUgAAAO0AAAAXBAMAAAAVatXDAAAAMFBMVEX///+IiIgiIiIQEBB2dnbu\n",
       "7u5UVFTMzMzc3NwyMjK6urpmZmaYmJiqqqpEREQAAACk/Np2AAAAAXRSTlMAQObYZgAAAAlwSFlz\n",
       "AAAOxAAADsQBlSsOGwAAApJJREFUSMe1lktoE1EUhk8ewyQzkzSCuBEhBGO2oQgVhBJ3CgoDiiAV\n",
       "m4JLFxVBxI2jghu7SBcFoSBx7yJ2I0rQVBCEgow7F4LZZCVoCy1INeA9c+/c19xYmOiBP9zJ9+f8\n",
       "yX3MBGDaKjDFFUzwSDiAf1DHmOJ6NsEjYdQQL76kjy21qHhlQpPn2qyEUa/x4kn63CtMotaMnnUZ\n",
       "E93G6R+mz+0zidoyesYyJir6APkwfW6TSVTON3icPRkTeQOSnT7W6VBJVRwYPPmqjFGztdrJ9Llu\n",
       "iwoen7nP3sq3DZ7i0tFQYNRLgNGkrr0Dc+Nv75yCH2x+vejnb9SwTsSexTXrp8CoR1BQvqD9VIxN\n",
       "+03mANmQ6uIANgCuYmSpqn0C+VcfdgRGlf18V7Fd/3uuzMkO6VK99eE42Icw0t7WPoD8FVi7AqNK\n",
       "FW1bzR2QO2fKnQdrn/1Up2nIXQdnLHBk6WySl4XNs/E87hzx1VzBdE7WLoxk7YK3zXLpPMvrSzy/\n",
       "wd0TOBpcIHcPq2HHByxTz/SUXM7efCc1kDlZpUokawzlzmfaz9NnCT37uAM4jiwPybZye3YTCiPq\n",
       "8jqFkZQrMZ2LU7EK73ot2titaLnIb8A3EDiylJcBZrqZNtyt09Vw23TEciWmc7JSVarLh+8sLdPG\n",
       "Wf0xh3wBjy/H3LIYlN/7EHWb8XMhyLmc0XmWOakGE33wYOMHiZ3Y0DG35IJ7zwG7XYKs/xGUXM7Y\n",
       "aZS4uM1LjfuJ3C0dc4vT/3Q+6nYrtF+01FzO2H6WOK5SQBX9rTj3q2J6uDHOsW7BbiEfqee3nnDS\n",
       "soZUIiTxOFI4Ys1y83QIJT8eqbnxO8mrFaa4PhhuNSsqNlg85WqK/wNTVfDfOv8B85XJuVp+QK8A\n",
       "AAAASUVORK5CYII=\n",
       "\" style=\"display:inline;vertical-align:middle;\" /></a><br>"
      ],
      "text/plain": [
       "expr: forall_{a_{1}, b_{1} | a_{1} = b_{1}} ((a_{1}) = (b_{1}))"
      ]
     },
     "execution_count": 2,
     "metadata": {},
     "output_type": "execute_result"
    }
   ],
   "source": [
    "# build up the expression from sub-expressions\n",
    "subExpr1 = IndexedVar(Variable(\"a\"), one)\n",
    "subExpr2 = IndexedVar(Variable(\"b\"), one)\n",
    "expr = Forall([subExpr1, subExpr2], Equals([subExpr1], [subExpr2]), condition = Equals(subExpr1, subExpr2))"
   ]
  },
  {
   "cell_type": "code",
   "execution_count": 3,
   "metadata": {},
   "outputs": [
    {
     "name": "stdout",
     "output_type": "stream",
     "text": [
      "Passed sanity check: built 'expr' is the same as the stored Expression.\n"
     ]
    }
   ],
   "source": [
    "# check that the built expression is the same as the stored expression\n",
    "%check_expr"
   ]
  },
  {
   "cell_type": "code",
   "execution_count": 4,
   "metadata": {},
   "outputs": [
    {
     "name": "stdout",
     "output_type": "stream",
     "text": [
      "\\forall_{a_{1}, b_{1}~|~a_{1} = b_{1}}~\\left(\\left(a_{1}\\right) = \\left(b_{1}\\right)\\right)\n"
     ]
    }
   ],
   "source": [
    "# Show the LaTeX representation of the expression for convenience if you need it.\n",
    "print(expr.latex())"
   ]
  },
  {
   "cell_type": "code",
   "execution_count": 5,
   "metadata": {},
   "outputs": [
    {
     "data": {
      "text/html": [
       "<table><tr><th>&nbsp;</th><th>core type</th><th>sub-expressions</th><th>expression</th></tr>\n",
       "<tr><td>0</td><td>Operation</td><td>operator:&nbsp;1<br>operand:&nbsp;2<br></td><td><a class=\"ProveItLink\" href=\"../06910dc32994cbe6bf919441e7955d70b9f9c9920/expr.ipynb\"><img src=\"data:image/png;base64,iVBORw0KGgoAAAANSUhEUgAAAO0AAAAXBAMAAAAVatXDAAAAMFBMVEX///+IiIgiIiIQEBB2dnbu\n",
       "7u5UVFTMzMzc3NwyMjK6urpmZmaYmJiqqqpEREQAAACk/Np2AAAAAXRSTlMAQObYZgAAAAlwSFlz\n",
       "AAAOxAAADsQBlSsOGwAAApJJREFUSMe1lktoE1EUhk8ewyQzkzSCuBEhBGO2oQgVhBJ3CgoDiiAV\n",
       "m4JLFxVBxI2jghu7SBcFoSBx7yJ2I0rQVBCEgow7F4LZZCVoCy1INeA9c+/c19xYmOiBP9zJ9+f8\n",
       "yX3MBGDaKjDFFUzwSDiAf1DHmOJ6NsEjYdQQL76kjy21qHhlQpPn2qyEUa/x4kn63CtMotaMnnUZ\n",
       "E93G6R+mz+0zidoyesYyJir6APkwfW6TSVTON3icPRkTeQOSnT7W6VBJVRwYPPmqjFGztdrJ9Llu\n",
       "iwoen7nP3sq3DZ7i0tFQYNRLgNGkrr0Dc+Nv75yCH2x+vejnb9SwTsSexTXrp8CoR1BQvqD9VIxN\n",
       "+03mANmQ6uIANgCuYmSpqn0C+VcfdgRGlf18V7Fd/3uuzMkO6VK99eE42Icw0t7WPoD8FVi7AqNK\n",
       "FW1bzR2QO2fKnQdrn/1Up2nIXQdnLHBk6WySl4XNs/E87hzx1VzBdE7WLoxk7YK3zXLpPMvrSzy/\n",
       "wd0TOBpcIHcPq2HHByxTz/SUXM7efCc1kDlZpUokawzlzmfaz9NnCT37uAM4jiwPybZye3YTCiPq\n",
       "8jqFkZQrMZ2LU7EK73ot2titaLnIb8A3EDiylJcBZrqZNtyt09Vw23TEciWmc7JSVarLh+8sLdPG\n",
       "Wf0xh3wBjy/H3LIYlN/7EHWb8XMhyLmc0XmWOakGE33wYOMHiZ3Y0DG35IJ7zwG7XYKs/xGUXM7Y\n",
       "aZS4uM1LjfuJ3C0dc4vT/3Q+6nYrtF+01FzO2H6WOK5SQBX9rTj3q2J6uDHOsW7BbiEfqee3nnDS\n",
       "soZUIiTxOFI4Ys1y83QIJT8eqbnxO8mrFaa4PhhuNSsqNlg85WqK/wNTVfDfOv8B85XJuVp+QK8A\n",
       "AAAASUVORK5CYII=\n",
       "\" style=\"display:inline;vertical-align:middle;\" /></a></td></tr>\n",
       "<tr><td>1</td><td>Literal</td><td></td><td><a class=\"ProveItLink\" href=\"../../../../logic/boolean/quantification/universal/__pv_it/fd9c772d6675566ed52a6897806f45eb08a4ea910/expr.ipynb\"><img src=\"data:image/png;base64,iVBORw0KGgoAAAANSUhEUgAAAAwAAAAOBAMAAADpk+DfAAAAMFBMVEX///+IiIgiIiIQEBB2dnbu\n",
       "7u5UVFTMzMzc3NwyMjK6urpmZmaYmJiqqqpEREQAAACk/Np2AAAAAXRSTlMAQObYZgAAAAlwSFlz\n",
       "AAAOxAAADsQBlSsOGwAAAFNJREFUCNdjeMAABHcYdoGoGQxlQJLjAQNnAAMDywUGngMMDJxAESMl\n",
       "JRMgtZ2B4SmQamPgSABSfAEsC4AUrwBIBQPDhINgyncqmGpOAFN8BQwMAB49Dl+s5gmkAAAAAElF\n",
       "TkSuQmCC\n",
       "\" style=\"display:inline;vertical-align:middle;\" /></a></td></tr>\n",
       "<tr><td>2</td><td>Lambda</td><td>parameters:&nbsp;8<br>body:&nbsp;3<br></td><td><a class=\"ProveItLink\" href=\"../f0876669b018ef7fb9c2bb364ebb5743f796a64a0/expr.ipynb\"><img src=\"data:image/png;base64,iVBORw0KGgoAAAANSUhEUgAAATQAAAAVCAMAAAD/2OKKAAAANlBMVEX///8WFhYNDQ3MzMxUVFRE\n",
       "REQiIiK6uroQEBCYmJhmZmYyMjLu7u52dnaqqqqIiIjc3NwAAACgirQNAAAAAXRSTlMAQObYZgAA\n",
       "AAlwSFlzAAAOxAAADsQBlSsOGwAAAvJJREFUWMO9Wdm2qyAM9RzmQYb//9ljUSoggWh7Lw/tWoVk\n",
       "b3ZCiHZZthGWu+OehRVibBc+wr1P/wvDu9smwt/xb5wdI2Hd9e1H1sqLf6KZW6eZwiR/LrSLdoqE\n",
       "c5fsUWSCVOnbOBIfqtbBKSYNwoPRl18sFn3lCCSMu2yPICNiWqP4Eqh9mk1XnPfQCmEfL7FU+rZo\n",
       "IySMu2yPIbMrReknRzDC6S8xJSxewyWBCPoAiTZEkvOEkLfJUP2BZj2cPGXuJEuZvKoJay48GjAe\n",
       "I5lpwmf7CZmvibbCJU3n4hz06gNwDxnqvW6SdT1Tv/bOAfAx0jo9Sdl+QiYhGLn9QKiU5QEd7RC5\n",
       "6SZGQm7HivUz0sat0tpYnztlAJkcazZrMEiFO82LQVumMzIHJXqpaeAO+3hdnOx919KmO1qn7duW\n",
       "wt40RF9NOQ7llmclsRAVBsnxWeQP+xmZfbCLaMMdgp1Sg5NL6N7G6LSEv04A8Z53csXGtZoi8T3/\n",
       "+8OrEc/eiFAuUEiFO+geECgykGjDHfaqQQ+npiJZWiK6cUsNi0g38DklJJRpwhT9pNW5iRojCYkU\n",
       "bUYGEm24Q6hLa3HynFsORbfKEPvJng7YHqlzCjyepGk1GcUgFe6gmuZQZADRBjvs43Vxsne/u3wx\n",
       "YmZxoViUN/8Kz14SCnvFANFM6N+eI6TKHTB2+ykZULQ+Ltza9nDqy9r410OHXtZi0XZ/HO3OZsp0\n",
       "EyJ9Xt7V052A+rQBUu0O6psoiswhGjs/lxEuOLo4hyriEIj6lQTqSbmIc3vUpXfDctpz4I2MJlBz\n",
       "O0CC3RXR4GgyhEnJ7PYZ2VtNABd+0u3hJKxNSU6ut21e5Cw4FeawbWc9QsK4u9g/IINucMarO4/K\n",
       "70UrPIV6zq9FGyFh3F3sH5D5kmgLaw5GWE3ca4RtK8U5FRga0ss5Es5dbf+ITGP5eLUFIQfxY/i3\n",
       "VFa6KRLOHWTPHr8yez6Cum2i7ryXD5q6MRLWXd9e/e8/Cf4AEBIn6ZLjfCoAAAAASUVORK5CYII=\n",
       "\" style=\"display:inline;vertical-align:middle;\" /></a></td></tr>\n",
       "<tr><td>3</td><td>Conditional</td><td>value:&nbsp;4<br>condition:&nbsp;5<br></td><td><a class=\"ProveItLink\" href=\"../5553036c944ce95f0c789b8fc765510c7ff8f8090/expr.ipynb\"><img src=\"data:image/png;base64,iVBORw0KGgoAAAANSUhEUgAAANUAAAAVBAMAAAAjhrYEAAAAMFBMVEX///8QEBBERERUVFTMzMyY\n",
       "mJjc3NxmZmYiIiJ2dnaqqqoyMjKIiIi6urru7u4AAAAvZeGPAAAAAXRSTlMAQObYZgAAAAlwSFlz\n",
       "AAAOxAAADsQBlSsOGwAAAjZJREFUSMeVlb9rk0Ecxh9fkjdt0/elUSriYtHBRWqhSKEUkRScO5kO\n",
       "Di6lQgW7FAodFNrBDoXsOmSQjjVbFinZxOrgH6DwqoiDg120GEzofd+797373r090ofkSL6fe+65\n",
       "934kAOIvAEJoPYKr0I+H1YcD0RwZhc8FnY7Owg8/nSNqbEBN06iMt9xOTXy7YuNwEqi+7nvGzj1K\n",
       "o89F84uVDh0T8Y6NoxNgObzre5BOQdYGKzUcD/GegxNg1r9ovYKsCVa6kNgewaNBEZ7zRmmPzora\n",
       "rFRdsj1tNScH+7O0R3+v0NFYffUkK81YHuLVhXctjtcuYbEmF1F7+aRzjxqnLWcaXcZttTjl9DE3\n",
       "X5C2syf5fRj/NbHQdrZfhpf5tEfqqRhnRKR/XcIm8IPGGbMePeVvEvy38I0sy/AyaU+qxT3abXEh\n",
       "nyXYRekjjVM6tjzEtxD/s3CeZXiZtCdVvJXIsS4i7qs5RxMFWR1EPQvnWYbXul6ZRyoQO11tiQmg\n",
       "fKz6S2rul1jDP6gMTGxkmV7m0x59DoMu4h6C9r4E5SlrfoKjT7vCcZ5leJm0R2fRKX6L5fWmBJWu\n",
       "fU8Ev4ObsPD19AXmZdIecSbVHY3E+/v7+wv3JBix/zaI/6SrwnC9Nl2/dos+GV4m7RGudXW3d/If\n",
       "dPr22LmUO35sQG85zWowsOH0b/jxsFnjdIIDtSzhy5Muwimnv+JnYQ395fgqNaY/cH7mGS/AQ2t1\n",
       "XjQrRuFBQacVPx5Kp8A5wz2jLxUEAAAAAElFTkSuQmCC\n",
       "\" style=\"display:inline;vertical-align:middle;\" /></a></td></tr>\n",
       "<tr><td>4</td><td>Operation</td><td>operator:&nbsp;7<br>operands:&nbsp;6<br></td><td><a class=\"ProveItLink\" href=\"../7da1f3a19bf2121633c2080d6245aa0bb4b5bcda0/expr.ipynb\"><img src=\"data:image/png;base64,iVBORw0KGgoAAAANSUhEUgAAAF8AAAAVBAMAAADSoS/MAAAAMFBMVEX////MzMxUVFREREQiIiK6\n",
       "uroQEBCYmJhmZmYyMjLu7u52dnaqqqqIiIjc3NwAAACFAiZ1AAAAAXRSTlMAQObYZgAAAAlwSFlz\n",
       "AAAOxAAADsQBlSsOGwAAAW9JREFUOMtjYGB4wIAAyGwY4EOT5j2AJBmLRcMdNOnTyJIouiGAZwPD\n",
       "4hQkaa4JKNKzMDSsBOIZSNIcBSjSFRga2oH4D5I0G6o02wJ0DQkMDKy/kKQjUaU5C9DUswKdzO2A\n",
       "JN0Nol/sfQsV4VZA08CxAahM98YBuPR0kCl5DPZQp7CDw6DFBQScYFaun8X1Dy7tA6SWFTC0MDAs\n",
       "B6nlcUCzgQVo9vkFDH/h0qlAqn8BgzcD412QWsYPaBrYAhgYOhm4fsOlQRqSGbi+Qg1nTcCiYQYD\n",
       "6x+49Bxg3P1mYP8A1QBxErIfgE76zsDxCy5tC9Twh4F5wjmICLsBmg3MFxgYvoJ8CZPeBKTmMpQ0\n",
       "bICIcFxA0wAKZ3UGCwa4dAiQWnRbTlcAIsKCnsBZgaIrQNEAk2YRgCdLkMgTjLTkiCbN3oCioR1D\n",
       "QwW6tB0sY+38cYGBzwBDA/MDNOnFKLIYiZWBywBNmg85fdZhyaLPUaQBDvFjtBIN1qAAAAAASUVO\n",
       "RK5CYII=\n",
       "\" style=\"display:inline;vertical-align:middle;\" /></a></td></tr>\n",
       "<tr><td>5</td><td>Operation</td><td>operator:&nbsp;7<br>operands:&nbsp;8<br></td><td><a class=\"ProveItLink\" href=\"../84b7496912bf52913855adafee4ab14f07b8b05a0/expr.ipynb\"><img src=\"data:image/png;base64,iVBORw0KGgoAAAANSUhEUgAAAEAAAAARBAMAAACflbe/AAAAMFBMVEX////MzMxUVFQyMjKqqqoi\n",
       "IiKYmJju7u5EREQQEBC6urqIiIh2dnZmZmbc3NwAAAD0tjQRAAAAAXRSTlMAQObYZgAAAAlwSFlz\n",
       "AAAOxAAADsQBlSsOGwAAALhJREFUKM9jYMAB2DsDGPAD5gsEFPA7EFCwvoCAgqMwBt+dfRuwKTDa\n",
       "fQXCWPmA4ztMkDcUDBRAvvhcUP8A7J1pDLwBDOzJ6AawfGfg3wAS5v3OwHqAQXorugJeA4b6AyBh\n",
       "zgaG+gUMDK5YgmG9A0i4/gBDPgNMAZIb+BMY7heAFTgwNLM8wDSBfwHQdSBh5g1ssTxYrGBK4LgA\n",
       "FmbXPvhoIxYF7LevMCALu2IPTuIVvLG/jU0eKAwAQUgyxtN9cbAAAAAASUVORK5CYII=\n",
       "\" style=\"display:inline;vertical-align:middle;\" /></a></td></tr>\n",
       "<tr><td>6</td><td>ExprTuple</td><td>9, 10</td><td><a class=\"ProveItLink\" href=\"../a339038f25ef7ae3ea13e4fc8731b0effd4ce9130/expr.ipynb\"><img src=\"data:image/png;base64,iVBORw0KGgoAAAANSUhEUgAAAF8AAAAVBAMAAADSoS/MAAAAMFBMVEX////MzMxUVFREREQiIiK6\n",
       "uroQEBCYmJhmZmYyMjLu7u52dnaqqqqIiIjc3NwAAACFAiZ1AAAAAXRSTlMAQObYZgAAAAlwSFlz\n",
       "AAAOxAAADsQBlSsOGwAAAb9JREFUOMttkztLA0EQxyfkdbnEwy8g2lkFUqqgRLCwEEkhgRRCCkWw\n",
       "Cthoo3ZBgpAuIQgGBB+FXExnl8LOwggWFipBBQsbG1FjFOexu3dCBn7Lf4+Z2Zm5XQDogKDMAei7\n",
       "MW4DLUFbuO0LuPPkogIuFf2cEg04WFJaJ7bLgmexupEnSFVvaoJVEDyLbhtZRHp6sy5EQPDZqlF5\n",
       "bKmrN5E6k0OZ+x9QMf1jqfG0KbXAlFASTulBj6epXawGuiRv1QjjI0xFpcx2gvrwDX9Ot2b/qt7K\n",
       "zBxKxF4BKw02+17ogBDmvqrDDxzRGBNpZhklYnUh1IChG/IbNm1mAHbA/g7cUyOBN0YFRFLgZlTy\n",
       "rD+gCuEeJ4dwntlDibgN2NLVmJJiWNIHHc4BqqRJlIjbgvFER3zXaKHfHcS5vcNhQQKiKaYpc4y1\n",
       "o7NxlXwXsb/UIEdhTJKD1WYWUCJ28uzxWgXM0zKDR4TR75h+AweEOkxoEBgxCnD43yaopml9a+nT\n",
       "s0BXzbtuFCBXMa7vmwkoKqYUZK/7WP8Ty1NagvISnfPPNjjYMwEHCmMTvPIxdsr7HKwL4BQE8xx8\n",
       "7xtePLkp/AGI4Xp8JQoxmQAAAABJRU5ErkJggg==\n",
       "\" style=\"display:inline;vertical-align:middle;\" /></a></td></tr>\n",
       "<tr><td>7</td><td>Literal</td><td></td><td><a class=\"ProveItLink\" href=\"../../../../logic/equality/__pv_it/e16d2caa26a16688b658bdb9c422caf4b84579e10/expr.ipynb\"><img src=\"data:image/png;base64,iVBORw0KGgoAAAANSUhEUgAAAA4AAAAFBAMAAACHocAhAAAAD1BMVEX///9UVFQiIiJmZmYAAACP\n",
       "OqLZAAAAAXRSTlMAQObYZgAAAAlwSFlzAAAOxAAADsQBlSsOGwAAABJJREFUCNdjMFICAUUGXAAq\n",
       "DwAoFgH7Aeay4gAAAABJRU5ErkJggg==\n",
       "\" style=\"display:inline;vertical-align:middle;\" /></a></td></tr>\n",
       "<tr><td>8</td><td>ExprTuple</td><td>11, 12</td><td><a class=\"ProveItLink\" href=\"../8c1ff783e42df733a28fd6fede9af28f5489ccb50/expr.ipynb\"><img src=\"data:image/png;base64,iVBORw0KGgoAAAANSUhEUgAAADwAAAAVBAMAAADocZC/AAAAMFBMVEX////MzMxUVFREREQiIiK6\n",
       "uroQEBCYmJhmZmYyMjLu7u52dnaqqqqIiIjc3NwAAACFAiZ1AAAAAXRSTlMAQObYZgAAAAlwSFlz\n",
       "AAAOxAAADsQBlSsOGwAAATRJREFUKM9jYGB4wIAD8IEI3gO4pFkvAInT6KKLU2CsOwwMXBMwdM2A\n",
       "MTgXMHAUYEj/gTHYGxjYMK38BWdmMURiSHM7wJnTGbpBPui+dwEhzal7A+aZTUAFDAxhD5gRBjKs\n",
       "n8X1D8qsZPABOj6dgcOBgasSKnZ+AcNfhuVgDx1hSGVg4PjFwLKBQfYKVLqTges3412wA+RB0mwG\n",
       "DOsDQEph3mb9w8ADlg5jmAO0bANDPQNC+jvIOIj0EQZboPQBBkueB2DpBUD8lWFZAVS6GOh2Bs4L\n",
       "7B7cYN1cP4Fi6gwWDFDpXoYQoKDuxkcXIYa7ALWvAHkbIu3HwCIA8y9ImmcBlAOW5nMABTuSNDcD\n",
       "sjQouuygAq/n9zIwrIUllJ0/gMH8GBT7yNGBGrtWIIUFuBIT+wMGAAQaTf3wTINGAAAAAElFTkSu\n",
       "QmCC\n",
       "\" style=\"display:inline;vertical-align:middle;\" /></a></td></tr>\n",
       "<tr><td>9</td><td>ExprTuple</td><td>11</td><td><a class=\"ProveItLink\" href=\"../3823f7f11c2ba93ea8e0a0f061020f729f0d96530/expr.ipynb\"><img src=\"data:image/png;base64,iVBORw0KGgoAAAANSUhEUgAAACEAAAAVBAMAAAA6IZrnAAAAMFBMVEX////MzMxUVFREREQiIiK6\n",
       "uroQEBCYmJhmZmYyMjLu7u52dnaqqqqIiIjc3NwAAACFAiZ1AAAAAXRSTlMAQObYZgAAAAlwSFlz\n",
       "AAAOxAAADsQBlSsOGwAAANRJREFUGNNjYGB4wIAAYDbvASSRWBBxGkkALM01AVmEYRYDA0cBikgF\n",
       "AwMbigAD2wKGSFQRzgKGbhD9Yu9bqAi3AsN0IMWax2C/ACLCPoHBB0gtK2BoYWBYDrKVx4EhFUj1\n",
       "L2DwZmC86wBkMn4AiyQzcH0FSwMNSGCYA3Tkbwb2D1ARIGELFPnDwDzhHESE3YBhE5Cay1DSsAEi\n",
       "wnGBIQRILbotpysAEWF5wMAiAHMuWOQJUGMDikg7ENtBBfh2/rjAwGcAZC1G9igzyDN8yAFUx8AA\n",
       "ACeWLXE0SuJqAAAAAElFTkSuQmCC\n",
       "\" style=\"display:inline;vertical-align:middle;\" /></a></td></tr>\n",
       "<tr><td>10</td><td>ExprTuple</td><td>12</td><td><a class=\"ProveItLink\" href=\"../892f439b4d9a1803163400c5744c98281238c2860/expr.ipynb\"><img src=\"data:image/png;base64,iVBORw0KGgoAAAANSUhEUgAAAB4AAAAVBAMAAACj2UNSAAAAMFBMVEX////MzMxUVFREREQiIiK6\n",
       "uroQEBCYmJhmZmYyMjLu7u52dnaqqqqIiIjc3NwAAACFAiZ1AAAAAXRSTlMAQObYZgAAAAlwSFlz\n",
       "AAAOxAAADsQBlSsOGwAAANFJREFUGNNFjzsKwkAQhj98Z/F1AfEWFoLiAUQsRLCyEsEqYGWX3gTF\n",
       "xkYw4AEU8QAp7GwsLBUES0+glbNkE6f4d75ZZv4Z4EkURS2FIOb0VeSCqrVM4Q5qCZZj2PLJ2VCK\n",
       "WrIOGXmGfjRhwkD0FE9cMxddPVzDR6mgPv7eLDGjDfkvpauaaT4zgtyS/aFy01zVLPbDQL4k+mzE\n",
       "3mbhh3ymIdxVY0KeigMJO+kY9uiJn+diuEOqbFbRXGzpE/6sj2uG+N568JJkxz/quseOMfvkB48x\n",
       "MOToPy6XAAAAAElFTkSuQmCC\n",
       "\" style=\"display:inline;vertical-align:middle;\" /></a></td></tr>\n",
       "<tr><td>11</td><td>IndexedVar</td><td>variable:&nbsp;13<br>index:&nbsp;15<br></td><td><a class=\"ProveItLink\" href=\"../9a40ff58b463a2666f899556365b4f1fbbf06d1e0/expr.ipynb\"><img src=\"data:image/png;base64,iVBORw0KGgoAAAANSUhEUgAAABIAAAAMBAMAAACdPPCPAAAAMFBMVEX////MzMxUVFQyMjKqqqoi\n",
       "IiKYmJju7u5EREQQEBC6urqIiIh2dnZmZmbc3NwAAAD0tjQRAAAAAXRSTlMAQObYZgAAAAlwSFlz\n",
       "AAAOxAAADsQBlSsOGwAAAFhJREFUCNdjYOC7s28DAxisfMDxHcxgn8bAG8DAnszAwPudgfUAg/RW\n",
       "BgbOBob6BQwMrgwM9QcY8hkgLAeGZpYHIBbzBrZYHrAYu/bBRxvBLCjAwnpjfxsAzcYV6xabhrcA\n",
       "AAAASUVORK5CYII=\n",
       "\" style=\"display:inline;vertical-align:middle;\" /></a></td></tr>\n",
       "<tr><td>12</td><td>IndexedVar</td><td>variable:&nbsp;14<br>index:&nbsp;15<br></td><td><a class=\"ProveItLink\" href=\"../dc1e9f01f9f6fd903e7d1dfadb4f758b51a6e7830/expr.ipynb\"><img src=\"data:image/png;base64,iVBORw0KGgoAAAANSUhEUgAAABAAAAARBAMAAAAmgTH3AAAAMFBMVEX////MzMyYmJjc3NyIiIhU\n",
       "VFR2dna6urqqqqpmZmYyMjIiIiIQEBBERETu7u4AAACIO4EmAAAAAXRSTlMAQObYZgAAAAlwSFlz\n",
       "AAAOxAAADsQBlSsOGwAAAGBJREFUCNdj4LuzgQECuCZAGfwNUEb9AygjG0ozLHWZAab5fj14bwBi\n",
       "cPxj4Hfg02Jg4FzA8D5BxBtsTH0DQzfQGAWG+Q/AjAK+QwwgBqsC7wQwg28KyJhumKkYDLP1UwBT\n",
       "UBjSwULeiAAAAABJRU5ErkJggg==\n",
       "\" style=\"display:inline;vertical-align:middle;\" /></a></td></tr>\n",
       "<tr><td>13</td><td>Variable</td><td></td><td><a class=\"ProveItLink\" href=\"../../../__pv_it/a8d4b3a34d2189508f9082853fbac36935714f280/expr.ipynb\"><img src=\"data:image/png;base64,iVBORw0KGgoAAAANSUhEUgAAAAsAAAAJBAMAAAAWSsseAAAAMFBMVEX////MzMxUVFQyMjKqqqoi\n",
       "IiKYmJju7u5EREQQEBC6urqIiIh2dnZmZmbc3NwAAAD0tjQRAAAAAXRSTlMAQObYZgAAAAlwSFlz\n",
       "AAAOxAAADsQBlSsOGwAAAEdJREFUCNdjYOC7s28DAwPDygcc3xkY2Kcx8AYwMPB+Z2A9wMDA2cBQ\n",
       "v4CBof4AQz5QRb0DQzPLAwbmDWyxPECV2gcfbWQAABp5EMgcedARAAAAAElFTkSuQmCC\n",
       "\" style=\"display:inline;vertical-align:middle;\" /></a></td></tr>\n",
       "<tr><td>14</td><td>Variable</td><td></td><td><a class=\"ProveItLink\" href=\"../../../__pv_it/53e304ff98ebc000dbe3ef224f4637dbafd46ba70/expr.ipynb\"><img src=\"data:image/png;base64,iVBORw0KGgoAAAANSUhEUgAAAAkAAAAOBAMAAAAPuiubAAAALVBMVEX///+YmJjc3NyIiIhUVFR2\n",
       "dna6urqqqqpmZmYyMjIiIiIQEBBERETu7u4AAAALjtrwAAAAAXRSTlMAQObYZgAAAAlwSFlzAAAO\n",
       "xAAADsQBlSsOGwAAAE5JREFUCNdj4D29gAEIOBtAJF8BiMy7ACKjQATDFON2BgbelxfuKTCwv2Xg\n",
       "M2DgmMBwLwCkPK+AgU+Aoe8CA18C70YGBhYBHqARvM1A5QCqGhDobJhHyAAAAABJRU5ErkJggg==\n",
       "\" style=\"display:inline;vertical-align:middle;\" /></a></td></tr>\n",
       "<tr><td>15</td><td>Literal</td><td></td><td><a class=\"ProveItLink\" href=\"../../../../number/numeral/__pv_it/f086f8c372bd40a2458306ddfdbb29f3dc6f63030/expr.ipynb\"><img src=\"data:image/png;base64,iVBORw0KGgoAAAANSUhEUgAAAAgAAAAOBAMAAADgeEClAAAAIVBMVEX///8QEBBERESIiIgyMjJm\n",
       "ZmZUVFTu7u4iIiLMzMwAAAAWRytzAAAAAXRSTlMAQObYZgAAAAlwSFlzAAAOxAAADsQBlSsOGwAA\n",
       "ABtJREFUCNdjYOBsZ2AoC1nOwMDATBbBprgiGQBsuwqCZsDj4wAAAABJRU5ErkJggg==\n",
       "\" style=\"display:inline;vertical-align:middle;\" /></a></td></tr>\n",
       "</table>\n"
      ],
      "text/plain": [
       "0. forall_{a_{1}, b_{1} | a_{1} = b_{1}} ((a_{1}) = (b_{1}))\n",
       "   core type: Operation\n",
       "   operator: 1\n",
       "   operand: 2\n",
       "1. forall\n",
       "   core type: Literal\n",
       "   sub-expressions: \n",
       "2. (a_{1}, b_{1}) -> {(a_{1}) = (b_{1}) if a_{1} = b_{1}.\n",
       "   core type: Lambda\n",
       "   parameters: 8\\n   body: 3\n",
       "3. {(a_{1}) = (b_{1}) if a_{1} = b_{1}.\n",
       "   core type: Conditional\n",
       "   value: 4\n",
       "   condition: 5\n",
       "4. (a_{1}) = (b_{1})\n",
       "   core type: Operation\n",
       "   operator: 7\n",
       "   operands: 6\n",
       "5. a_{1} = b_{1}\n",
       "   core type: Operation\n",
       "   operator: 7\n",
       "   operands: 8\n",
       "6. ((a_{1}) , (b_{1}))\n",
       "   core type: ExprTuple\n",
       "   sub-expressions: 9, 10\n",
       "7. =\n",
       "   core type: Literal\n",
       "   sub-expressions: \n",
       "8. (a_{1} , b_{1})\n",
       "   core type: ExprTuple\n",
       "   sub-expressions: 11, 12\n",
       "9. (a_{1})\n",
       "   core type: ExprTuple\n",
       "   sub-expressions: 11\n",
       "10. (b_{1})\n",
       "    core type: ExprTuple\n",
       "    sub-expressions: 12\n",
       "11. a_{1}\n",
       "    core type: IndexedVar\n",
       "variable: 13\n",
       "index: 15\n",
       "12. b_{1}\n",
       "    core type: IndexedVar\n",
       "variable: 14\n",
       "index: 15\n",
       "13. a\n",
       "    core type: Variable\n",
       "    sub-expressions: \n",
       "14. b\n",
       "    core type: Variable\n",
       "    sub-expressions: \n",
       "15. 1\n",
       "    core type: Literal\n",
       "    sub-expressions: "
      ]
     },
     "execution_count": 5,
     "metadata": {},
     "output_type": "execute_result"
    }
   ],
   "source": [
    "# display the expression information\n",
    "expr.exprInfo()"
   ]
  },
  {
   "cell_type": "code",
   "execution_count": null,
   "metadata": {},
   "outputs": [],
   "source": []
  }
 ],
 "metadata": {
  "kernelspec": {
   "display_name": "Python 3",
   "language": "python",
   "name": "python3"
  },
  "language_info": {
   "codemirror_mode": {
    "name": "ipython",
    "version": 3
   },
   "file_extension": ".py",
   "mimetype": "text/x-python",
   "name": "python",
   "nbconvert_exporter": "python",
   "pygments_lexer": "ipython3",
   "version": "3.7.4"
  }
 },
 "nbformat": 4,
 "nbformat_minor": 1
}
