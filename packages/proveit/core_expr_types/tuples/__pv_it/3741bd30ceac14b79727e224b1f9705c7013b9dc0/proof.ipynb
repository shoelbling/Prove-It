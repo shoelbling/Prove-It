{
 "cells": [
  {
   "cell_type": "markdown",
   "metadata": {},
   "source": [
    "Show the Proof\n",
    "========"
   ]
  },
  {
   "cell_type": "code",
   "execution_count": 1,
   "metadata": {},
   "outputs": [
    {
     "data": {
      "text/html": [
       "<table><tr><th>&nbsp;</th><th>step type</th><th>requirements</th><th>statement</th></tr>\n",
       "<tr><td><a name=\"proveit.core_expr_types.tuples.3741bd30ceac14b79727e224b1f9705c7013b9dc0_step0\">0</a></td><td>instantiation</td><td><a href=\"#proveit.core_expr_types.tuples.3741bd30ceac14b79727e224b1f9705c7013b9dc0_step1\">1</a></td><td><span style=\"font-size:20px;\"> <a class=\"ProveItLink\" href=\"proof.ipynb\" style=\"text-decoration: none\">&#x22A2;&nbsp;</a><a class=\"ProveItLink\" href=\"../eb5d69f6c14aeb3dc36090b371f14b539897aedf0/expr.ipynb\"><img src=\"data:image/png;base64,iVBORw0KGgoAAAANSUhEUgAAAKMAAAAVBAMAAADY0UPbAAAAMFBMVEX////MzMxUVFREREQiIiK6\n",
       "uroQEBCYmJhmZmYyMjLu7u52dnaqqqqIiIjc3NwAAACFAiZ1AAAAAXRSTlMAQObYZgAAAAlwSFlz\n",
       "AAAOxAAADsQBlSsOGwAAAbNJREFUOMuVlD9Lw0AYh9+SpIlpDf0Cil+gkNVBreJQ1MFBBAehIOIm\n",
       "HRx00QyFDkXsJohiUVCcero5CBmcFCSCm38IIiiI0EXQ6uBdktrmvaRwgbbH77n36XuXSwDABYEr\n",
       "arKBea8topyPyB4wvxYxRjWQJojrVSEl7HDJCeZaUUy5yiVlzJNiRkjWcFLAfE5Q2YNXpVQxr7BT\n",
       "UHlyuoveLj6CUWoAIY1gvk1/Zl2p2dWoLMNIsGDVa6o0zq6xVtthPkVv+hJoOdDX4pVHRSgBHDNb\n",
       "OoeYbGO+SFtvgkyg7y5euVWDSUg8Mluige/XNOZUmTShTvPLeOUC6J9Bg0ohQhnmuwB1AhvQTan/\n",
       "gNoISvyFd+6ljfkQVdowmHY9pc7r2OcXpOqNX6KaaILkYH5G/8dR8ym/yzrdYf0bD2APVizil2j4\n",
       "uLFTFeYztDR7+nzrK+UJ+pVnA6s1YMnBfX8245fI+PWm5DCXMy3m7eUVt/J24pW8cBNGMVetkJJw\n",
       "FSSsLMe/SP75cBC872/SPeAezHZinH85YJicUnIxP+zEKleAEqnGnwkTc0Pohbkekb2G+R8HloXS\n",
       "Y0OThwAAAABJRU5ErkJggg==\n",
       "\" style=\"display:inline;vertical-align:middle;\" /></a></span></td></tr>\n",
       "<tr><td>&nbsp;</td><td colspan=4 style=\"text-align:left\"><span style=\"font-size:20px;\"><a class=\"ProveItLink\" href=\"../10b9a187bdb95cd58ccdf17358404b95482446260/expr.ipynb\"><img src=\"data:image/png;base64,iVBORw0KGgoAAAANSUhEUgAAACYAAAAVBAMAAADY/YGeAAAAMFBMVEX///8yMjLc3NyIiIiYmJgi\n",
       "IiJERES6urqqqqoQEBDMzMxUVFTu7u52dnZmZmYAAAD1zdHuAAAAAXRSTlMAQObYZgAAAAlwSFlz\n",
       "AAAOxAAADsQBlSsOGwAAAQFJREFUGNNjYIADJiQSBizAJLsBmOK7ewBIclxgODYVLnV7ZQOQPAjE\n",
       "ckDMCFLAMKMMRD0B4h9AzPIAZMIfsOoJMNYcIOYNAJstAGOJANXujAap5rsANGqzHdDk20AeP9h2\n",
       "RgcGhvMyPJ8YGByBPP0FIDFWoIr+AwyfGRhagbx+sBWcBQwMDxl4/jIwrAfyrsLF5BjYga6pBPKy\n",
       "wWKMQL1fGPj+QPROBouxAW36znASaJMbMCB+gcV4NzAwbGHIA7IeA/3+ARIeQPeeAzmPIQjo2A2Q\n",
       "oIqCBWMAQzfIcBDwg4rxOTCEHYSy2RQgtBoDg/MjqBhPAoTOQQ57FTDJosAAAMlzN2OqXzCEAAAA\n",
       "AElFTkSuQmCC\n",
       "\" style=\"display:inline;vertical-align:middle;\" /></a> : <a class=\"ProveItLink\" href=\"../../../__pv_it/0cb2ee2c74b83e0aeb2dfcc689d03116b41089f70/expr.ipynb\"><img src=\"data:image/png;base64,iVBORw0KGgoAAAANSUhEUgAAABIAAAAMBAMAAACdPPCPAAAAMFBMVEX////MzMxUVFQyMjKqqqoi\n",
       "IiKYmJju7u5EREQQEBC6urqIiIh2dnZmZmbc3NwAAAD0tjQRAAAAAXRSTlMAQObYZgAAAAlwSFlz\n",
       "AAAOxAAADsQBlSsOGwAAAG5JREFUCNdjYOC7s28DAxisfMDxHcxgn8bAG8Ag3MDAwPudgfUAA9MB\n",
       "BgbOBob6BQycAgwM9QcY8hkY5HerM9Q7MDSzPNhasJeBeQNbLA9DN0MyA7v2wUcbGWYxXIKYyfCd\n",
       "YQqUFc7WAGXJ7mEAAK6nGrTbYfrbAAAAAElFTkSuQmCC\n",
       "\" style=\"display:inline;vertical-align:middle;\" /></a>, <a class=\"ProveItLink\" href=\"../../../__pv_it/557ab5defdcd46aa58168b08767502985122cd490/expr.ipynb\"><img src=\"data:image/png;base64,iVBORw0KGgoAAAANSUhEUgAAAAcAAAAOBAMAAAARcxsoAAAALVBMVEX///9ERESYmJhUVFQyMjKq\n",
       "qqrc3NwQEBC6urru7u52dnYiIiJmZmaIiIgAAAD/UVazAAAAAXRSTlMAQObYZgAAAAlwSFlzAAAO\n",
       "xAAADsQBlSsOGwAAADlJREFUCNdjYGC4wwAEuxjQAeedCwwMXBwFDAypPA4MDBP4gFyGuAlAwhkk\n",
       "+5SLgYHjQRKQKavAAAAx5QmdfgFqMAAAAABJRU5ErkJggg==\n",
       "\" style=\"display:inline;vertical-align:middle;\" /></a> : <a class=\"ProveItLink\" href=\"../../../../number/numeral/__pv_it/f086f8c372bd40a2458306ddfdbb29f3dc6f63030/expr.ipynb\"><img src=\"data:image/png;base64,iVBORw0KGgoAAAANSUhEUgAAAAgAAAAOBAMAAADgeEClAAAAIVBMVEX///8QEBBERESIiIgyMjJm\n",
       "ZmZUVFTu7u4iIiLMzMwAAAAWRytzAAAAAXRSTlMAQObYZgAAAAlwSFlzAAAOxAAADsQBlSsOGwAA\n",
       "ABtJREFUCNdjYOBsZ2AoC1nOwMDATBbBprgiGQBsuwqCZsDj4wAAAABJRU5ErkJggg==\n",
       "\" style=\"display:inline;vertical-align:middle;\" /></a></span></td></tr><tr><td><a name=\"proveit.core_expr_types.tuples.3741bd30ceac14b79727e224b1f9705c7013b9dc0_step1\">1</a></td><td>theorem</td><td></td><td><span style=\"font-size:20px;\"> <a class=\"ProveItLink\" href=\"../../_proofs_/singular_range_reduction.ipynb\" style=\"text-decoration: none\">&#x22A2;&nbsp;</a><a class=\"ProveItLink\" href=\"../2ab4fe5b7195cf9ffe9cdfd662fae464e7cfc2d50/expr.ipynb\"><img src=\"data:image/png;base64,iVBORw0KGgoAAAANSUhEUgAAARsAAAAWBAMAAAAC6iV4AAAAMFBMVEX///+IiIgiIiIQEBB2dnbu\n",
       "7u5UVFTMzMzc3NwyMjK6urpmZmaYmJiqqqpEREQAAACk/Np2AAAAAXRSTlMAQObYZgAAAAlwSFlz\n",
       "AAAOxAAADsQBlSsOGwAAA3RJREFUSMfFVj1oFFEQnlx2zf3t5eyEGDgO/0AiMSiCEDiDsQtsGjWF\n",
       "5iCFhc2BYOsRwSrqNYqFAU0qG5NA8C8pkkaiQjhEA4qQpDhJGYsgFoIz783bv9ls0jnwzb3Zm/l2\n",
       "3nvz3izALlJHpCO2VntL2qj0bsyCtZ7M3tZE1R2x4fn+0lFx2aJGLLNgNdigBz9E0BeEU6FR7qLL\n",
       "dleIKk60L8W1zaqkuiGWGWB+EEKsBu/o8ZNojN1ANaKGl2412T4C8Cg5HeWr4lIVyGBqhBhmsG70\n",
       "Q5iVcZu2eENMcwnVohr2v3TZRvmUnI7y5TjIz2rEMEP79xaEWRmUvyX2oJ1UryqBHc+mXzcpG+2r\n",
       "41DOMiQzzLhRVkYeM8wI4hdErpe1ZGySzFJSOtpXx6E8ZQhmgAGIshr0lctnBPE8LSVVcn7s2Ky2\n",
       "7S48JlY1IRv2pbjhOaokhmCG9303IcJq8Bqg5TlfDUxMr0RnkW0ri5uQbyStjvaluMo0Dj4wIFdW\n",
       "UgVvuX5BlNXgHqTJz16gt19g4h46HKqiHtbYvp9DZ6eUlI72xbh08y0OPjNC0qOuyN8QZTUouNYz\n",
       "/OvAx1og6DwVGD2GdWO7NPeO7aR0tC/G2Wr6dxghIWZwtgWrgVNUldxZh9h0Bjx7HWs/25uUzoBJ\n",
       "Bxw6Y9MMmY6u+RCrATSWKd+xIbqmTaVOUg2ozfrp2Y9hr83SvhSXqQY3K1g7xASFqmA1gCF11a6S\n",
       "Gtxh4k2KUYV52tj2XwuLjS5MWyairyPtS3GjzYqmXI16bqoFLApWA7irUl2gCrtmJk/nUx1qLjq0\n",
       "s9sTOE/iGcXqs/8AK88yvhQ3k8aDQYd9TvQRv+ZDrAZQqHkHsGA68BRdZyW/6MjexDekqMJSR1Gd\n",
       "BFYpumvKru9LcYXDODjBCMmUX/MhVgOWc6RGr7CVohSP07ZXfRtlXOmvYrMc1/dVcbRYJY2wKKZX\n",
       "IFjHPXbVaHfArsA3C/z2Rx1tTdez1wp1d6zI9gC+r+mz1CBzoqkgk1OdBMG66PdevcId/XD5kLG3\n",
       "aOvqcGokYJvWb8uPqmGE51vQa/6AEZEtSLUagtUgsBxOIOg6vXYDlt8EbLoyla98By2C52tr2hYE\n",
       "20+AOd9VF6wGPKG1Wrgk6GTARMSGlf19nKq4fF1DfEgvxbGuhNitgzzF/yz/ANPS+vTu40wJAAAA\n",
       "AElFTkSuQmCC\n",
       "\" style=\"display:inline;vertical-align:middle;\" /></a></span></td></tr>\n",
       "<tr><td>&nbsp;</td><td colspan=4 style-\"text-align:left\"><a class=\"ProveItLink\" href=\"../../_proofs_/singular_range_reduction.ipynb\">proveit.core_expr_types.tuples.singular_range_reduction</a></td></tr></table>"
      ],
      "text/plain": [
       "<proveit._core_.proof._ShowProof at 0x2323ffdc508>"
      ]
     },
     "execution_count": 1,
     "metadata": {},
     "output_type": "execute_result"
    }
   ],
   "source": [
    "import proveit\n",
    "# Automation is not needed when only showing a stored proof:\n",
    "proveit.defaults.automation = False # This will speed things up.\n",
    "%show_proof"
   ]
  },
  {
   "cell_type": "code",
   "execution_count": null,
   "metadata": {},
   "outputs": [],
   "source": []
  }
 ],
 "metadata": {
  "kernelspec": {
   "display_name": "Python 3",
   "language": "python",
   "name": "python3"
  },
  "language_info": {
   "codemirror_mode": {
    "name": "ipython",
    "version": 3
   },
   "file_extension": ".py",
   "mimetype": "text/x-python",
   "name": "python",
   "nbconvert_exporter": "python",
   "pygments_lexer": "ipython3",
   "version": "3.7.4"
  }
 },
 "nbformat": 4,
 "nbformat_minor": 1
}
