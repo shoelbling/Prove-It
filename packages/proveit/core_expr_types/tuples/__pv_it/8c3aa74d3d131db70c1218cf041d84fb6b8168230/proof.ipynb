{
 "cells": [
  {
   "cell_type": "markdown",
   "metadata": {},
   "source": [
    "Show the Proof\n",
    "========"
   ]
  },
  {
   "cell_type": "code",
   "execution_count": 1,
   "metadata": {},
   "outputs": [
    {
     "data": {
      "text/html": [
       "<table><tr><th>&nbsp;</th><th>step type</th><th>requirements</th><th>statement</th></tr>\n",
       "<tr><td><a name=\"proveit.core_expr_types.tuples.8c3aa74d3d131db70c1218cf041d84fb6b8168230_step0\">0</a></td><td>instantiation</td><td><a href=\"#proveit.core_expr_types.tuples.8c3aa74d3d131db70c1218cf041d84fb6b8168230_step1\">1</a></td><td><span style=\"font-size:20px;\"> <a class=\"ProveItLink\" href=\"proof.ipynb\" style=\"text-decoration: none\">&#x22A2;&nbsp;</a><a class=\"ProveItLink\" href=\"../00902a6c0c732c41a95feb4882e7e96e09c3e7480/expr.ipynb\"><img src=\"data:image/png;base64,iVBORw0KGgoAAAANSUhEUgAAAS0AAAAVBAMAAADhk6WpAAAAMFBMVEX////MzMxUVFREREQiIiK6\n",
       "uroQEBCYmJhmZmYyMjLu7u52dnaqqqqIiIjc3NwAAACFAiZ1AAAAAXRSTlMAQObYZgAAAAlwSFlz\n",
       "AAAOxAAADsQBlSsOGwAAAnNJREFUSMe1VjFrFEEUfnF3bzdz513+gGJndXCVaBE9JUVQixQiWEgC\n",
       "KnayhUVszBYBkSS4pFGCIYsBNUXYVWwshC2sFPQEC0EjhwgKIqQJ6uUUZ2b39o55s8djIVPsPr43\n",
       "37w37715MwDQhj0buqWrRNr+eO/8uqjBPhFpr3PV7EizmDvrl1NBs+dKRKMxP3/9Ua9gnO71hBWk\n",
       "2iDSHDd/Xq1oirs9YRapbhFppSHzpoNiblmdnlRCK8wQaReGrP+sYLjKWV2OqtmwfCJtQRzdhc8t\n",
       "3cTlrcXhDnx/8VNbl/UPaQWUDykqJyLS7vLf+baRhRDmJ8Q4Jc7jnyAc2tysa3AiwDwIV9i/BLR9\n",
       "RSUCSKKd5favgtMEdgMd6Q7UWhjuj4cuzAM8Qql5G8DfBK6oncaMibQrPLYdMCM48F6d5/gQRhju\n",
       "jzsBnIGRLdTlbgPbTeCRbUVVmiLSuF+lBoR8+ktN+5qOMdwfl4DtaGLC+5DVTWBrRuMXiXaf5zWC\n",
       "Ocj86ie85oqt5fvFdsHezgwMFMovkQIJJ7rB+oqJtHHuVwzHKm3sQG2KV56EGXaKFy7rguG/0Wx8\n",
       "R5SQhO2GojJaRNpTvoeWPVnW5HGfa3gJHPridA4K8rMK171IY+AwHE3j4aj9RzQOEu0ct1F/8uWd\n",
       "xi+2tJim1zzNP5NC8FIBJnjAHnw8WB/TGHgs+pCETbXPWE0izRzrwTmFJOFX+F2QdaCK/tUh4a8I\n",
       "Pkmk2R7FL/w4KQPFAL6lZ6m04ynwY21JN0/CDF9Tm9n78/lv3SUm4WoD4UabSFsnXMQ2hlzKBW7g\n",
       "BwlrEGlVkoVi46YG+0ai/Qf8WOT0ZudUkgAAAABJRU5ErkJggg==\n",
       "\" style=\"display:inline;vertical-align:middle;\" /></a></span></td></tr>\n",
       "<tr><td>&nbsp;</td><td colspan=4 style=\"text-align:left\"><span style=\"font-size:20px;\"><a class=\"ProveItLink\" href=\"../ebf9417aa601af1c193fba78e519ea751286ccf40/expr.ipynb\"><img src=\"data:image/png;base64,iVBORw0KGgoAAAANSUhEUgAAACgAAAAVBAMAAADGNLEtAAAAMFBMVEX///8yMjLc3NyIiIiYmJgi\n",
       "IiJERES6urqqqqoQEBDMzMxUVFTu7u52dnZmZmYAAAD1zdHuAAAAAXRSTlMAQObYZgAAAAlwSFlz\n",
       "AAAOxAAADsQBlSsOGwAAAQpJREFUGNNjYIADJhQKCiwgFLsBmOK7ewBIclxg4MkMgEveXtkAJA8C\n",
       "MeMDEAFSwjCjDEQ9AWJ+kCwLSIb9D1j9BCCuByuaA8S8AWDzBYDETbC0CFD1zmiQer4LQEKaofkN\n",
       "0A6QQWA3MDowMPB84WiawsDgCOTqLwAJsgLt4PhUwSXEwNAK5PaDDeIsABoxBSy/HoivwgVZ5W6B\n",
       "mJVAnA0WZARqP19QD1IK0j4ZLMgGtM6f4XwDkHIDhsovsCDvBgaGbQznFwBd9hho5QdI4AC9kMHA\n",
       "/BjopyCglRsgQRYFD9cAhm6QDSDgBxPkc2AIOwhlsylAGWoMDM6PoGyeBCgjBzk6VCAUiwIDAAiC\n",
       "OTPp3iZnAAAAAElFTkSuQmCC\n",
       "\" style=\"display:inline;vertical-align:middle;\" /></a> : <a class=\"ProveItLink\" href=\"../90460a7edc04f5bb6048f5f6bfc86aaba7efa25a0/expr.ipynb\"><img src=\"data:image/png;base64,iVBORw0KGgoAAAANSUhEUgAAAEMAAAARBAMAAAB0ogy8AAAAMFBMVEX////MzMxUVFQyMjKqqqoi\n",
       "IiKYmJju7u5EREQQEBC6urqIiIh2dnZmZmbc3NwAAAD0tjQRAAAAAXRSTlMAQObYZgAAAAlwSFlz\n",
       "AAAOxAAADsQBlSsOGwAAAOxJREFUKM9jYMAFKqYyEAS2hJV8IaiC6ztBJTwBcCbfnX0bsClh1t7r\n",
       "AGWufMCBMPJqKAgEgZj15uz/IILs0xh4AxjYojFM8S9g+M2QCrKA9zsD6wEGhlkYSi4zsP9h4FwA\n",
       "ZHE2MNQvYOD7gCVYuL4wvAdbeYAhn4GBreH1BTS3fANZkMG3F6jEgaGZ5QHTPvd5aKb8YqhMYNB+\n",
       "UvmAgXkDWywPA+cxBgE0JWoMvQwMcxIYgT7SPvhoI8P7u+gqGGqBwcL39yKcn8EV8ABL8LE1LOWD\n",
       "sbUZAw5gUcK0QZQHxrZjUBPAFgkPmBIZAEBCQA21wo3VAAAAAElFTkSuQmCC\n",
       "\" style=\"display:inline;vertical-align:middle;\" /></a>, <a class=\"ProveItLink\" href=\"../../../__pv_it/557ab5defdcd46aa58168b08767502985122cd490/expr.ipynb\"><img src=\"data:image/png;base64,iVBORw0KGgoAAAANSUhEUgAAAAcAAAAOBAMAAAARcxsoAAAALVBMVEX///9ERESYmJhUVFQyMjKq\n",
       "qqrc3NwQEBC6urru7u52dnYiIiJmZmaIiIgAAAD/UVazAAAAAXRSTlMAQObYZgAAAAlwSFlzAAAO\n",
       "xAAADsQBlSsOGwAAADlJREFUCNdjYGC4wwAEuxjQAeedCwwMXBwFDAypPA4MDBP4gFyGuAlAwhkk\n",
       "+5SLgYHjQRKQKavAAAAx5QmdfgFqMAAAAABJRU5ErkJggg==\n",
       "\" style=\"display:inline;vertical-align:middle;\" /></a> : <a class=\"ProveItLink\" href=\"../../../../number/numeral/__pv_it/f086f8c372bd40a2458306ddfdbb29f3dc6f63030/expr.ipynb\"><img src=\"data:image/png;base64,iVBORw0KGgoAAAANSUhEUgAAAAgAAAAOBAMAAADgeEClAAAAIVBMVEX///8QEBBERESIiIgyMjJm\n",
       "ZmZUVFTu7u4iIiLMzMwAAAAWRytzAAAAAXRSTlMAQObYZgAAAAlwSFlzAAAOxAAADsQBlSsOGwAA\n",
       "ABtJREFUCNdjYOBsZ2AoC1nOwMDATBbBprgiGQBsuwqCZsDj4wAAAABJRU5ErkJggg==\n",
       "\" style=\"display:inline;vertical-align:middle;\" /></a></span></td></tr><tr><td><a name=\"proveit.core_expr_types.tuples.8c3aa74d3d131db70c1218cf041d84fb6b8168230_step1\">1</a></td><td>theorem</td><td></td><td><span style=\"font-size:20px;\"> <a class=\"ProveItLink\" href=\"../../_proofs_/singular_range_reduction.ipynb\" style=\"text-decoration: none\">&#x22A2;&nbsp;</a><a class=\"ProveItLink\" href=\"../2ab4fe5b7195cf9ffe9cdfd662fae464e7cfc2d50/expr.ipynb\"><img src=\"data:image/png;base64,iVBORw0KGgoAAAANSUhEUgAAARsAAAAWBAMAAAAC6iV4AAAAMFBMVEX///+IiIgiIiIQEBB2dnbu\n",
       "7u5UVFTMzMzc3NwyMjK6urpmZmaYmJiqqqpEREQAAACk/Np2AAAAAXRSTlMAQObYZgAAAAlwSFlz\n",
       "AAAOxAAADsQBlSsOGwAAA3RJREFUSMfFVj1oFFEQnlx2zf3t5eyEGDgO/0AiMSiCEDiDsQtsGjWF\n",
       "5iCFhc2BYOsRwSrqNYqFAU0qG5NA8C8pkkaiQjhEA4qQpDhJGYsgFoIz783bv9ls0jnwzb3Zm/l2\n",
       "3nvz3izALlJHpCO2VntL2qj0bsyCtZ7M3tZE1R2x4fn+0lFx2aJGLLNgNdigBz9E0BeEU6FR7qLL\n",
       "dleIKk60L8W1zaqkuiGWGWB+EEKsBu/o8ZNojN1ANaKGl2412T4C8Cg5HeWr4lIVyGBqhBhmsG70\n",
       "Q5iVcZu2eENMcwnVohr2v3TZRvmUnI7y5TjIz2rEMEP79xaEWRmUvyX2oJ1UryqBHc+mXzcpG+2r\n",
       "41DOMiQzzLhRVkYeM8wI4hdErpe1ZGySzFJSOtpXx6E8ZQhmgAGIshr0lctnBPE8LSVVcn7s2Ky2\n",
       "7S48JlY1IRv2pbjhOaokhmCG9303IcJq8Bqg5TlfDUxMr0RnkW0ri5uQbyStjvaluMo0Dj4wIFdW\n",
       "UgVvuX5BlNXgHqTJz16gt19g4h46HKqiHtbYvp9DZ6eUlI72xbh08y0OPjNC0qOuyN8QZTUouNYz\n",
       "/OvAx1og6DwVGD2GdWO7NPeO7aR0tC/G2Wr6dxghIWZwtgWrgVNUldxZh9h0Bjx7HWs/25uUzoBJ\n",
       "Bxw6Y9MMmY6u+RCrATSWKd+xIbqmTaVOUg2ozfrp2Y9hr83SvhSXqQY3K1g7xASFqmA1gCF11a6S\n",
       "Gtxh4k2KUYV52tj2XwuLjS5MWyairyPtS3GjzYqmXI16bqoFLApWA7irUl2gCrtmJk/nUx1qLjq0\n",
       "s9sTOE/iGcXqs/8AK88yvhQ3k8aDQYd9TvQRv+ZDrAZQqHkHsGA68BRdZyW/6MjexDekqMJSR1Gd\n",
       "BFYpumvKru9LcYXDODjBCMmUX/MhVgOWc6RGr7CVohSP07ZXfRtlXOmvYrMc1/dVcbRYJY2wKKZX\n",
       "IFjHPXbVaHfArsA3C/z2Rx1tTdez1wp1d6zI9gC+r+mz1CBzoqkgk1OdBMG66PdevcId/XD5kLG3\n",
       "aOvqcGokYJvWb8uPqmGE51vQa/6AEZEtSLUagtUgsBxOIOg6vXYDlt8EbLoyla98By2C52tr2hYE\n",
       "20+AOd9VF6wGPKG1Wrgk6GTARMSGlf19nKq4fF1DfEgvxbGuhNitgzzF/yz/ANPS+vTu40wJAAAA\n",
       "AElFTkSuQmCC\n",
       "\" style=\"display:inline;vertical-align:middle;\" /></a></span></td></tr>\n",
       "<tr><td>&nbsp;</td><td colspan=4 style-\"text-align:left\"><a class=\"ProveItLink\" href=\"../../_proofs_/singular_range_reduction.ipynb\">proveit.core_expr_types.tuples.singular_range_reduction</a></td></tr></table>"
      ],
      "text/plain": [
       "<proveit._core_.proof._ShowProof at 0x2323ead3ac8>"
      ]
     },
     "execution_count": 1,
     "metadata": {},
     "output_type": "execute_result"
    }
   ],
   "source": [
    "import proveit\n",
    "# Automation is not needed when only showing a stored proof:\n",
    "proveit.defaults.automation = False # This will speed things up.\n",
    "%show_proof"
   ]
  },
  {
   "cell_type": "code",
   "execution_count": null,
   "metadata": {},
   "outputs": [],
   "source": []
  }
 ],
 "metadata": {
  "kernelspec": {
   "display_name": "Python 3",
   "language": "python",
   "name": "python3"
  },
  "language_info": {
   "codemirror_mode": {
    "name": "ipython",
    "version": 3
   },
   "file_extension": ".py",
   "mimetype": "text/x-python",
   "name": "python",
   "nbconvert_exporter": "python",
   "pygments_lexer": "ipython3",
   "version": "3.7.4"
  }
 },
 "nbformat": 4,
 "nbformat_minor": 1
}
