{
 "cells": [
  {
   "cell_type": "markdown",
   "metadata": {},
   "source": [
    "Expression of type <a class=\"ProveItLink\" href=\"../../../../../../doc/html/api/proveit.logic.Forall.html\">Forall</a>\n",
    "=======================\n",
    "# from context <a class=\"ProveItLink\" href=\"../../_context_.ipynb\">proveit.core_expr_types.tuples</a>"
   ]
  },
  {
   "cell_type": "code",
   "execution_count": 1,
   "metadata": {},
   "outputs": [],
   "source": [
    "import proveit\n",
    "# Automation is not needed when building an expression:\n",
    "proveit.defaults.automation = False # This will speed things up.\n",
    "# import Expression classes needed to build the expression\n",
    "from proveit import Variable\n",
    "from proveit.logic import Equals, Forall"
   ]
  },
  {
   "cell_type": "code",
   "execution_count": 2,
   "metadata": {},
   "outputs": [
    {
     "data": {
      "text/html": [
       "<strong id=\"expr\">expr:</strong> <a class=\"ProveItLink\" href=\"expr.ipynb\"><img src=\"data:image/png;base64,iVBORw0KGgoAAAANSUhEUgAAAIwAAAAVBAMAAABmhxuGAAAAMFBMVEX///+IiIgiIiIQEBB2dnbu\n",
       "7u5UVFTMzMzc3NwyMjK6urpmZmaYmJiqqqpEREQAAACk/Np2AAAAAXRSTlMAQObYZgAAAAlwSFlz\n",
       "AAAOxAAADsQBlSsOGwAAActJREFUOMulVD1Iw0AYfdVqE2tqu7ipRXBSwYpOKoi4iRB3hw5aFKE4\n",
       "CU4WKp2EiiAIDnZxcFEHUXGqujl16ebQRRfFplB/C+qXSy93rQG1/eD63Xv37qV335cgB4pb1Byd\n",
       "X/fRXR0X5nyndhu8A75hrNBMydXu4ikAWgGqDrgztdu4XmkU0ZoG1DrO5DNokNVgd/dQHTZtdCFH\n",
       "fuAMuHNY9v7RZs2P9X7KCShhoCV/crpg0lOBc+vPlmUcH5amIjF7M2eBrrnJG6bX3SlKV8AEpYMY\n",
       "4jHJxsatQbiD3MVmgXyZ0vzshpfImAApvTlhI3DzMVwG32KzrG2s2Lw0f8eAXiC5TM81hI3AjRk0\n",
       "HJd3CBaeIreZ3jY78BkJUi3S1D0gbARO6soSvE8UjxIL1we3iYfNo4cCWUojNNSwsBH4OtCh8x2C\n",
       "hWrYDbRsHt1iQ2YJpSsWOCIVWbDNe59+ufyNaZYesI8+qeACj7Jmsg4l2OpIknnTOOIbM6tpycbC\n",
       "tKC8SWKhqn7B8tROnjEo0fZ5RbKxMC10lkTvSSrH0Gi0hGcruphhrVrJVY5h1kp56amwYThbreQq\n",
       "x2Dn3UpV2DD88yLKql9D+dfn4ht2wH4FssXjvAAAAABJRU5ErkJggg==\n",
       "\" style=\"display:inline;vertical-align:middle;\" /></a><br>"
      ],
      "text/plain": [
       "expr: forall_{P, Q | Q , P = Q} P"
      ]
     },
     "execution_count": 2,
     "metadata": {},
     "output_type": "execute_result"
    }
   ],
   "source": [
    "# build up the expression from sub-expressions\n",
    "expr = Forall([Variable(\"P\"), Variable(\"Q\")], Variable(\"P\"), conditions = [Variable(\"Q\"), Equals(Variable(\"P\"), Variable(\"Q\"))])"
   ]
  },
  {
   "cell_type": "code",
   "execution_count": 3,
   "metadata": {},
   "outputs": [
    {
     "name": "stdout",
     "output_type": "stream",
     "text": [
      "Passed sanity check: built 'expr' is the same as the stored Expression.\n"
     ]
    }
   ],
   "source": [
    "# check that the built expression is the same as the stored expression\n",
    "%check_expr"
   ]
  },
  {
   "cell_type": "code",
   "execution_count": 4,
   "metadata": {},
   "outputs": [
    {
     "name": "stdout",
     "output_type": "stream",
     "text": [
      "\\forall_{P, Q~|~Q , P = Q}~P\n"
     ]
    }
   ],
   "source": [
    "# Show the LaTeX representation of the expression for convenience if you need it.\n",
    "print(expr.latex())"
   ]
  },
  {
   "cell_type": "code",
   "execution_count": 5,
   "metadata": {},
   "outputs": [
    {
     "data": {
      "text/html": [
       "<table><tr><th>&nbsp;</th><th>core type</th><th>sub-expressions</th><th>expression</th></tr>\n",
       "<tr><td>0</td><td>Operation</td><td>operator:&nbsp;1<br>operand:&nbsp;2<br></td><td><a class=\"ProveItLink\" href=\"expr.ipynb\"><img src=\"data:image/png;base64,iVBORw0KGgoAAAANSUhEUgAAAIwAAAAVBAMAAABmhxuGAAAAMFBMVEX///+IiIgiIiIQEBB2dnbu\n",
       "7u5UVFTMzMzc3NwyMjK6urpmZmaYmJiqqqpEREQAAACk/Np2AAAAAXRSTlMAQObYZgAAAAlwSFlz\n",
       "AAAOxAAADsQBlSsOGwAAActJREFUOMulVD1Iw0AYfdVqE2tqu7ipRXBSwYpOKoi4iRB3hw5aFKE4\n",
       "CU4WKp2EiiAIDnZxcFEHUXGqujl16ebQRRfFplB/C+qXSy93rQG1/eD63Xv37qV335cgB4pb1Byd\n",
       "X/fRXR0X5nyndhu8A75hrNBMydXu4ikAWgGqDrgztdu4XmkU0ZoG1DrO5DNokNVgd/dQHTZtdCFH\n",
       "fuAMuHNY9v7RZs2P9X7KCShhoCV/crpg0lOBc+vPlmUcH5amIjF7M2eBrrnJG6bX3SlKV8AEpYMY\n",
       "4jHJxsatQbiD3MVmgXyZ0vzshpfImAApvTlhI3DzMVwG32KzrG2s2Lw0f8eAXiC5TM81hI3AjRk0\n",
       "HJd3CBaeIreZ3jY78BkJUi3S1D0gbARO6soSvE8UjxIL1we3iYfNo4cCWUojNNSwsBH4OtCh8x2C\n",
       "hWrYDbRsHt1iQ2YJpSsWOCIVWbDNe59+ufyNaZYesI8+qeACj7Jmsg4l2OpIknnTOOIbM6tpycbC\n",
       "tKC8SWKhqn7B8tROnjEo0fZ5RbKxMC10lkTvSSrH0Gi0hGcruphhrVrJVY5h1kp56amwYThbreQq\n",
       "x2Dn3UpV2DD88yLKql9D+dfn4ht2wH4FssXjvAAAAABJRU5ErkJggg==\n",
       "\" style=\"display:inline;vertical-align:middle;\" /></a></td></tr>\n",
       "<tr><td>1</td><td>Literal</td><td></td><td><a class=\"ProveItLink\" href=\"../../../../logic/boolean/quantification/universal/__pv_it/fd9c772d6675566ed52a6897806f45eb08a4ea910/expr.ipynb\"><img src=\"data:image/png;base64,iVBORw0KGgoAAAANSUhEUgAAAAwAAAAOBAMAAADpk+DfAAAAMFBMVEX///+IiIgiIiIQEBB2dnbu\n",
       "7u5UVFTMzMzc3NwyMjK6urpmZmaYmJiqqqpEREQAAACk/Np2AAAAAXRSTlMAQObYZgAAAAlwSFlz\n",
       "AAAOxAAADsQBlSsOGwAAAFNJREFUCNdjeMAABHcYdoGoGQxlQJLjAQNnAAMDywUGngMMDJxAESMl\n",
       "JRMgtZ2B4SmQamPgSABSfAEsC4AUrwBIBQPDhINgyncqmGpOAFN8BQwMAB49Dl+s5gmkAAAAAElF\n",
       "TkSuQmCC\n",
       "\" style=\"display:inline;vertical-align:middle;\" /></a></td></tr>\n",
       "<tr><td>2</td><td>Lambda</td><td>parameters:&nbsp;9<br>body:&nbsp;3<br></td><td><a class=\"ProveItLink\" href=\"../e2fb4d33a8b319de704fd571f1c1cb88c925e05d0/expr.ipynb\"><img src=\"data:image/png;base64,iVBORw0KGgoAAAANSUhEUgAAAOoAAAAVCAMAAAB/joKwAAAANlBMVEX///8WFhYNDQ3MzMxUVFRE\n",
       "REQiIiK6uroQEBCYmJhmZmYyMjLu7u52dnaqqqqIiIjc3NwAAACgirQNAAAAAXRSTlMAQObYZgAA\n",
       "AAlwSFlzAAAOxAAADsQBlSsOGwAAArJJREFUWMPNmOmSpCAMgNmV++b9X3ZtRQKY2GrVbE1+tI7S\n",
       "X25ID2OrZHZX7q/8iFeK/S5J8fZSlZ5wXfTfV5n0/+IRQ7VMlCI4F85OBuZgQ+DmaVhiOTgYOesd\n",
       "6OJSFKFsiBtlHV59KMW7dlv2W6EHWnDL58L3l87fdTVIdkFWxW45lSxzTykbBLcOV41TbPN9Kamm\n",
       "I/WREPVO77bZF65i5N1gzsewj8p6Qa3DtwiKoqFGylKvAV67ZjAv+3oiqCnTrqLkHToYc1LW80nG\n",
       "LBRFQZJFOa4L5Bzuw37rzJSYozUt7SpGRlw9K+uEZkxCUizEqIjaRVAhuYgOsW0fAUpODiok7eqZ\n",
       "nJ1eOQvXGkoYUda36tk6fEciKW5q1Rxk7CMEf7iylahxhHNRTNF1V2Qm+dyriLK5VQeGlZ3w7xT4\n",
       "aio8hGCGaEpY68ve1VFSeUzCD9E1V2QmTq4iyvpWRRiY0BSt5mYYqgaemWr6Ao/+/pGDFKiXhUvF\n",
       "rsiIq4gyds3AhKaAqwU5y2RLnNf1tdJUVpXrYu4tnMAYGcvqWdnpVP0uNMXF1gzIJr7t1uqzxOpa\n",
       "F2QBL9N0IfgVGXEVUda16pmB9ypNEak1Q5+TpiGypHxipn3NCMJVl4kdOBV1y9WTMt+36t1JGTH5\n",
       "MIi33arztJVL0nmNhbUwvFnY7AftijxXHdpmQsAnrsx3RevutipmcmWp3SDu1mk6dQXf8spFCFtD\n",
       "19NYEj/k7IK7OpEPrNBa+PVzeDcpa1bgDDKvs8kba82ERIeP8eeXWEs/7U+yfDPuP5FOWfTsrXQU\n",
       "2JHR+T3MfXUMCNb8uKugLLD3rvLTTLM+RCrSp2msLHWazOJBz7wzEpT59N5VoPRuIdZPqVu0rmeS\n",
       "uF9SXsdXRoIy897TjjIMyPeR5sk/l7Llkf0e+QcyZiHaY/J55AAAAABJRU5ErkJggg==\n",
       "\" style=\"display:inline;vertical-align:middle;\" /></a></td></tr>\n",
       "<tr><td>3</td><td>Conditional</td><td>value:&nbsp;10<br>condition:&nbsp;4<br></td><td><a class=\"ProveItLink\" href=\"../2ca621ac8b55641c4681a13b39d34fe605054c3d0/expr.ipynb\"><img src=\"data:image/png;base64,iVBORw0KGgoAAAANSUhEUgAAAJMAAAAVBAMAAACwIsHjAAAAMFBMVEX///8QEBBERERUVFTMzMyY\n",
       "mJjc3NxmZmYiIiJ2dnaqqqoyMjKIiIi6urru7u4AAAAvZeGPAAAAAXRSTlMAQObYZgAAAAlwSFlz\n",
       "AAAOxAAADsQBlSsOGwAAAdFJREFUOMutlM9LAkEUxx/mr0otiQy69OsURQoSQUEu+gfYsUOHbh06\n",
       "WHQJggy8eKnsECUdWqKzeezm3iP0HwjsXFBZ0cWyeTP73BlXPURf3Lcz8z583Zl5MwAQeID/0l3B\n",
       "NrRW+ZNT3w8LvnAtOrOPXfcwQP/1N0+5z/LzhFmEIhmB3gOMA0WAiSpr+L8AVt3LPHWhQU+RuCah\n",
       "SEGEVdIAuDGwxeioyDyNszBCnEVIUhFhVdbYkzOHFsTrFkOMOIUgqYiwCuOjKVaeD4yXNKgQploQ\n",
       "YVVjq1THxuYQJIJ8hin8eEjTZjYJSS2IB1fNWQf3uc77GVqrNO+X1gVmEbtZVMaOQGoFt/o9f2p6\n",
       "T5HVMRKBNyoGi7CkIolDjI7XZrpp1cDg+jSHJcKSigT2qmbRtFplMTwWpbKySUXAEcGiydmtYuDX\n",
       "YZvWwSKktVIRsYPlit0qqd8/u0Lsu0VZtTuWhMhWJSs9yX+40CHDs8Nm/8InUGp3fgkBQaHVUmOW\n",
       "svHgXHxM9BLTJxXQwHsECiHLRJi8W1Si7eXQfew/C90uFoHI1d6Bi1yxmOtqxRFzvoOdOU+DHbKA\n",
       "0c2KI1RYo505Z5CdDFfXm5MjpI3F/7nYfwG9V5GLJOAr4AAAAABJRU5ErkJggg==\n",
       "\" style=\"display:inline;vertical-align:middle;\" /></a></td></tr>\n",
       "<tr><td>4</td><td>Operation</td><td>operator:&nbsp;5<br>operands:&nbsp;6<br></td><td><a class=\"ProveItLink\" href=\"../09b1f899e6e083c3c21f53d71245776f2fefd8590/expr.ipynb\"><img src=\"data:image/png;base64,iVBORw0KGgoAAAANSUhEUgAAAHAAAAAVBAMAAABs93eRAAAAMFBMVEX///+IiIiqqqq6uroiIiIQ\n",
       "EBBERETu7u7MzMwyMjKYmJhUVFRmZmZ2dnbc3NwAAABtgPhfAAAAAXRSTlMAQObYZgAAAAlwSFlz\n",
       "AAAOxAAADsQBlSsOGwAAAgJJREFUOMt9VDFIHFEQfavr3rq3xkVRS68IVhEOiYiVIjY2RhSRQDhO\n",
       "GwuJJoWCVa6xsjgRERG5E0ICwSJXGSKIGkgV5YJgIZfDSxNIIZ6KcgrxMjMbRX/29sO+nT8z7//5\n",
       "M/M/4Dly8B2PShm0kD+x3BH6j+yGYmimr744tr7y6j/O8V5mFahh8TCG4Jyr3Xd/AZleAcaQyqta\n",
       "Aj4DlbTidJTmL1xCj2u1aU2Yp0DZqcILLBJUbMPaBhZYseUebS0s/wqZFOj7oxArOwmCeWAIdoEV\n",
       "RzFG3YyKuZ3BILNRUIhp9qsi7TJOxDcddnOSEPMeQzUZOhylDJdyknMgg7RkPimFS+CJ2JcZ4g6O\n",
       "u8SvW0aKxTOJ9wb4gGdMCVywwkxBl/yLf+Nm9q2aU/2G8U0f8BhFFq1rxmAMmsQ2wDDhUfjqPONH\n",
       "Snoc3SxOSuGmaevOO+KVB1Fnc+A5QSsVojyEr7nb8n9hYZ7jvqvEvTNSIVpgR8ChxkO1r62IePBy\n",
       "v1kY5jKee+xonmltzjve5T20iGN/k5RYfD6DC5Xh1OW9urvuJ3Y/sbADzL48CIPdDaab3wmeUlDJ\n",
       "S8dry/XsAEwSeqVHQtrDW6DHfK7UCBqoEySJRqrpoY1buOQYK4v+uwawi2pLjvsQ00WK55cb+KB6\n",
       "4ad8iDP9BKOl3pRV/6fDyuEv6nN4ZNx/AZ4AAAAASUVORK5CYII=\n",
       "\" style=\"display:inline;vertical-align:middle;\" /></a></td></tr>\n",
       "<tr><td>5</td><td>Literal</td><td></td><td><a class=\"ProveItLink\" href=\"../../../../logic/boolean/conjunction/__pv_it/f41cc6b553210927c09f19a8a39cdf860a5585930/expr.ipynb\"><img src=\"data:image/png;base64,iVBORw0KGgoAAAANSUhEUgAAAAwAAAANBAMAAABvB5JxAAAALVBMVEX///9mZmbc3NxERETMzMy6\n",
       "urpUVFSYmJiIiIgyMjIiIiLu7u6qqqp2dnYAAACMfHT6AAAAAXRSTlMAQObYZgAAAAlwSFlzAAAO\n",
       "xAAADsQBlSsOGwAAAEpJREFUCNdjYGDgPcAAArsmgKn2VDC1wBlE8lzgVABSnAo8AkDKjYFhNZBK\n",
       "YWDoYGDgBirfBdHMeICBCyjONIGhAqTJhMEaRPkCACemC8GDBfsjAAAAAElFTkSuQmCC\n",
       "\" style=\"display:inline;vertical-align:middle;\" /></a></td></tr>\n",
       "<tr><td>6</td><td>ExprTuple</td><td>11, 7</td><td><a class=\"ProveItLink\" href=\"../42c02b77a5d02195b36a8436deaf4e89186ad1f70/expr.ipynb\"><img src=\"data:image/png;base64,iVBORw0KGgoAAAANSUhEUgAAAGEAAAAVBAMAAACkm51HAAAAMFBMVEX////MzMxUVFREREQiIiK6\n",
       "uroQEBCYmJhmZmYyMjLu7u52dnaqqqqIiIjc3NwAAACFAiZ1AAAAAXRSTlMAQObYZgAAAAlwSFlz\n",
       "AAAOxAAADsQBlSsOGwAAAdBJREFUOMuVU00oRFEU/sbMmDcz3nhZ2BILsSELJb/JUpmFDVE2REmz\n",
       "khWSEIshSkmZUspCJPlpFqYsLbwNCxuzsJMMQgrjO3ce8UwTt+733jnfOeeee865AOL4+1K2euwf\n",
       "Hl0CJwLXszshS6k3PBRVz/yyDRxES1LhfXMU/fNA6SeXS01VxO5xaCCLxDKgMbZvgarsMYsrMIFT\n",
       "0+awUUHoA4ZpyD9vIyErYZGXBve2zWNRoJzmEbTzL2xIZncW2SDb+OmgKfLIgDeEWV7qQSkfLZaS\n",
       "+812xK0khXAQ/kIs0fZVRO97inS8IbCrKj7RLKtJ2SrFahyeObQALmW71W1V9z66H7RXqlVa53sC\n",
       "chrRw3KqO49aDXEm0nQuKeB5ZgYJ8XBJqXz939rxazULrJNxd2NF1bUT2uBnO74K++0e5XDHMBlX\n",
       "WdXxpFe9wxyiqBp9GUxzRkHsbNMjMT0V2OHn/AbTZUzsRRUk3QTqg6Y2LgE1E21S0OJoDxzMlrrS\n",
       "ZF06l7yavSDYVlccrlR3a3HBJCMZBt0Z00lfMbHUAFbmsKv+TE/DWXhMnOKuV3I4ybM2M3loSc5W\n",
       "QKZlTcn5A4RQJg9HLyfFKXkHQv94tSPABzuicK6Vzw53AAAAAElFTkSuQmCC\n",
       "\" style=\"display:inline;vertical-align:middle;\" /></a></td></tr>\n",
       "<tr><td>7</td><td>Operation</td><td>operator:&nbsp;8<br>operands:&nbsp;9<br></td><td><a class=\"ProveItLink\" href=\"../2d15bb5dca9257784e06d6b0ffa03305afdaea100/expr.ipynb\"><img src=\"data:image/png;base64,iVBORw0KGgoAAAANSUhEUgAAADsAAAASBAMAAAAXqLt+AAAAMFBMVEX///+YmJgiIiLc3Ny6urp2\n",
       "dnaqqqrMzMwQEBDu7u5mZmYyMjJUVFRERESIiIgAAACzCz+6AAAAAXRSTlMAQObYZgAAAAlwSFlz\n",
       "AAAOxAAADsQBlSsOGwAAAN1JREFUKM9jYGB4+//O2V0TGNAAc1ToQQjrNwMDbye6dHQBA88GEIP9\n",
       "HwMD2z802dkXgEQXiMX3HYi/oklvAhHnQQTvByD+jirLBebHFwAJfqA5/g9Qpe1BZjOsdwAS9Q8Y\n",
       "TNXAWpTA4ABIIgEksN8ASLw/GiqC7m59kATnDxDzPgMm+A8iGD9CvY0BlEDEDJC/2eF+QrL7PANL\n",
       "AsMKkA18X7Dork94Mo+xGcTi/oBFmq/5AdcaUDzw7P/7AIt8zdUIB4YCBtyAN4FvAj7pA7l4ZBm4\n",
       "/n/HJ83eAQxYAJGBPTruhASiAAAAAElFTkSuQmCC\n",
       "\" style=\"display:inline;vertical-align:middle;\" /></a></td></tr>\n",
       "<tr><td>8</td><td>Literal</td><td></td><td><a class=\"ProveItLink\" href=\"../../../../logic/equality/__pv_it/e16d2caa26a16688b658bdb9c422caf4b84579e10/expr.ipynb\"><img src=\"data:image/png;base64,iVBORw0KGgoAAAANSUhEUgAAAA4AAAAFBAMAAACHocAhAAAAD1BMVEX///9UVFQiIiJmZmYAAACP\n",
       "OqLZAAAAAXRSTlMAQObYZgAAAAlwSFlzAAAOxAAADsQBlSsOGwAAABJJREFUCNdjMFICAUUGXAAq\n",
       "DwAoFgH7Aeay4gAAAABJRU5ErkJggg==\n",
       "\" style=\"display:inline;vertical-align:middle;\" /></a></td></tr>\n",
       "<tr><td>9</td><td>ExprTuple</td><td>10, 11</td><td><a class=\"ProveItLink\" href=\"../09318b7fce5794e7189389212fc35b2174e090490/expr.ipynb\"><img src=\"data:image/png;base64,iVBORw0KGgoAAAANSUhEUgAAADMAAAAVBAMAAAAZessyAAAAMFBMVEX////MzMxUVFREREQiIiK6\n",
       "uroQEBCYmJhmZmYyMjLu7u52dnaqqqqIiIjc3NwAAACFAiZ1AAAAAXRSTlMAQObYZgAAAAlwSFlz\n",
       "AAAOxAAADsQBlSsOGwAAAVVJREFUKM9tUr9Lw2AQfW1ak6ZNDf4DLTg4OLS4ij+GjoIdXBxEF0Uc\n",
       "ShbBScRBB4d2EBQRWigIDl0cROlgwNElIM5mcHMwRVRKKfHuPvimBO7dfe8l77s7AiBEwiOk4ydJ\n",
       "GwwvFK/x3PRlR5HFh/6M+sBu8XkIGHtKenSRJu4KsDw6psZAYSzKbZVgFzgAJuS+AcVIpHOGCvEd\n",
       "rHNpRBQDrizBJxc5D2dcTpLLZsDVF/uhWUe+jAsuSwE+V8SvKaO0Q5gtCPM+299X/a3yrPYvdbWM\n",
       "bSaW9Kgxg/lHTUdKGmqpxnBDc2W3cM1jjbRUQdbHSSiGCzzWj9C8qZL/1jMbbFrFHaVcxIrNtk4j\n",
       "sI75HSvAGpBuf8tMNaam5u/rcIFMiIyr7ymo3Ru+Q8UHeR5pKa+SUX4mPKVY1FJPJSumPRZ5YV0t\n",
       "eSqldmhZBpsXvaQf4BD4B/6oUNawqQNyAAAAAElFTkSuQmCC\n",
       "\" style=\"display:inline;vertical-align:middle;\" /></a></td></tr>\n",
       "<tr><td>10</td><td>Variable</td><td></td><td><a class=\"ProveItLink\" href=\"../390c91a44e60b16c95d2255652741252e8ec8d980/expr.ipynb\"><img src=\"data:image/png;base64,iVBORw0KGgoAAAANSUhEUgAAABAAAAAOBAMAAADUAYG5AAAAMFBMVEX///+YmJgiIiLc3Ny6urp2\n",
       "dnaqqqrMzMwQEBDu7u5mZmYyMjJUVFRERESIiIgAAACzCz+6AAAAAXRSTlMAQObYZgAAAAlwSFlz\n",
       "AAAOxAAADsQBlSsOGwAAAF1JREFUCNdjYGB4+//O2V0TGIDgNwMDbyeQZv/HwMAGxAx834H4K5DB\n",
       "+wGIgRwG/gsMDP4PgIz6BwymaiBN74+GioBohvsMUPAbSrN/hTL4vkAZ3B8gNM/+vyAzGABqABnj\n",
       "X5k3PAAAAABJRU5ErkJggg==\n",
       "\" style=\"display:inline;vertical-align:middle;\" /></a></td></tr>\n",
       "<tr><td>11</td><td>Variable</td><td></td><td><a class=\"ProveItLink\" href=\"../dbe7145e53d9411a5ba89652cbfea9d54e4b581a0/expr.ipynb\"><img src=\"data:image/png;base64,iVBORw0KGgoAAAANSUhEUgAAAA8AAAASBAMAAAB2sJk8AAAAMFBMVEX///+IiIiqqqq6uroiIiIQ\n",
       "EBBERETu7u7MzMwyMjKYmJhUVFRmZmZ2dnbc3NwAAABtgPhfAAAAAXRSTlMAQObYZgAAAAlwSFlz\n",
       "AAAOxAAADsQBlSsOGwAAAIJJREFUCNdjYGDgu3N3FwMI3Gxg4J4ApCsTgEQMEE8Bie5nYOD5AWLc\n",
       "b2B4D5JhOG/AcF4BxJj/gMH/AZBm/8rA8B8kwPWLgcEFxCidANLIrMBwFCjfryBcyBUHFGWME+A5\n",
       "XQCS7869asDQALaVTYGxAMLYoAamGXj+/4AwOEKB1gAAAV0f3CdXaksAAAAASUVORK5CYII=\n",
       "\" style=\"display:inline;vertical-align:middle;\" /></a></td></tr>\n",
       "</table>\n"
      ],
      "text/plain": [
       "0. forall_{P, Q | Q , P = Q} P\n",
       "   core type: Operation\n",
       "   operator: 1\n",
       "   operand: 2\n",
       "1. forall\n",
       "   core type: Literal\n",
       "   sub-expressions: \n",
       "2. (P, Q) -> {P if Q ,  P = Q.\n",
       "   core type: Lambda\n",
       "   parameters: 9\\n   body: 3\n",
       "3. {P if Q ,  P = Q.\n",
       "   core type: Conditional\n",
       "   value: 10\n",
       "   condition: 4\n",
       "4. Q and (P = Q)\n",
       "   core type: Operation\n",
       "   operator: 5\n",
       "   operands: 6\n",
       "5. and\n",
       "   core type: Literal\n",
       "   sub-expressions: \n",
       "6. (Q , P = Q)\n",
       "   core type: ExprTuple\n",
       "   sub-expressions: 11, 7\n",
       "7. P = Q\n",
       "   core type: Operation\n",
       "   operator: 8\n",
       "   operands: 9\n",
       "8. =\n",
       "   core type: Literal\n",
       "   sub-expressions: \n",
       "9. (P , Q)\n",
       "   core type: ExprTuple\n",
       "   sub-expressions: 10, 11\n",
       "10. P\n",
       "    core type: Variable\n",
       "    sub-expressions: \n",
       "11. Q\n",
       "    core type: Variable\n",
       "    sub-expressions: "
      ]
     },
     "execution_count": 5,
     "metadata": {},
     "output_type": "execute_result"
    }
   ],
   "source": [
    "# display the expression information\n",
    "expr.exprInfo()"
   ]
  },
  {
   "cell_type": "code",
   "execution_count": null,
   "metadata": {},
   "outputs": [],
   "source": []
  }
 ],
 "metadata": {
  "kernelspec": {
   "display_name": "Python 3",
   "language": "python",
   "name": "python3"
  },
  "language_info": {
   "codemirror_mode": {
    "name": "ipython",
    "version": 3
   },
   "file_extension": ".py",
   "mimetype": "text/x-python",
   "name": "python",
   "nbconvert_exporter": "python",
   "pygments_lexer": "ipython3",
   "version": "3.7.4"
  }
 },
 "nbformat": 4,
 "nbformat_minor": 1
}
