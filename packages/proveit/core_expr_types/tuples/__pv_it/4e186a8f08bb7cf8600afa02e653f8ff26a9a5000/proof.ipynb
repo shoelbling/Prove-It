{
 "cells": [
  {
   "cell_type": "markdown",
   "metadata": {},
   "source": [
    "Show the Proof\n",
    "========"
   ]
  },
  {
   "cell_type": "code",
   "execution_count": 1,
   "metadata": {},
   "outputs": [
    {
     "data": {
      "text/html": [
       "<table><tr><th>&nbsp;</th><th>step type</th><th>requirements</th><th>statement</th></tr>\n",
       "<tr><td><a name=\"proveit.core_expr_types.tuples.4e186a8f08bb7cf8600afa02e653f8ff26a9a5000_step0\">0</a></td><td>instantiation</td><td><a href=\"#proveit.core_expr_types.tuples.4e186a8f08bb7cf8600afa02e653f8ff26a9a5000_step1\">1</a></td><td><span style=\"font-size:20px;\"> <a class=\"ProveItLink\" href=\"proof.ipynb\" style=\"text-decoration: none\">&#x22A2;&nbsp;</a><a class=\"ProveItLink\" href=\"../f3c0e0d5e4e9fc346bcd05b2e18cf79a609493840/expr.ipynb\"><img src=\"data:image/png;base64,iVBORw0KGgoAAAANSUhEUgAAAfkAAAAVBAMAAAC3aYqaAAAAMFBMVEX///8QEBBERERUVFTMzMyY\n",
       "mJjc3NxmZmYiIiJ2dnaqqqoyMjKIiIi6urru7u4AAAAvZeGPAAAAAXRSTlMAQObYZgAAAAlwSFlz\n",
       "AAAOxAAADsQBlSsOGwAAA5RJREFUWMOtWE9IFFEY/5p2Zzd3d9CiiKCSOnQJEySCkBCFrkmBK9RB\n",
       "AjEwyIsgGSQoUUSw0CUqwUP051J7SS8he6usg90NpiI6eNBLSUtK7828nXnf997M2xn90Gl8v/d+\n",
       "f14z894MADhfAcCGsIZALTsehg8z+MQGYw1FIkkdNSEWWZ9es8OS1LCi6bQUBV9Z9v6ZDRpmaf+o\n",
       "WtkxR6WaxlFz1bLFDxWppTindqrA94MUtvcDFJ5t6tIjPlwqz7YdBTMhOzKoi9ozxQ6rqGlRGcTx\n",
       "BQqXNgAG7XNh5sfB2WqMgYVombSOCq7qyKQuaY2jprIyhuN1BWaaXdL/uHM/SD8eo1+PlknrKDum\n",
       "OjKpS1qtqGmXS8cwvLSlg89I6YuXlhvpW6Pl9TzbcwRHVEcm9VCrVEVNhX46pio8KbCcPp9pF2eE\n",
       "T82ml0ntCN42m14aE/yd44+YkafXG02dZAzHC93v5zA8ug/62rrC9K9gXpwRPhxE4dE5TOYIHiqO\n",
       "jOqCp+pPbekAnBLXV9ab+Im7vKYbU7+26PyRYVbT+L6fhxfijPAhLg0P7pDCEVymjszqft1gPHk2\n",
       "H9/6YQLgJ5dpIZeHh79x4R+Bj6P0mU7Iu+IewHyoNDykkjuCl9SRWd2rvgf8ocIeV7dduAeZz1wm\n",
       "s07GcHwSnL8Exul390Cx5qcnfKg0PLhSOIIL1JFZ3d9VTro+115wNsUkl1o1WgtQqhMYp2crsDMV\n",
       "ppf4yIKr8JB9bnJH8IU6Mqv7ZbEHSmGOTQlk10V/H5XvMnad/Ybclgwr6fle56a47zEf4tLwkPs+\n",
       "uSPlym9CPXzCWjVw6mBVn/tAtp3MGMNhk99LGMbpOTTqpyd8qDQ8mmd+MkdwkaY3q4dafEF5B4Nj\n",
       "FR/I1agfhp+GE0DgY96PSJ/lrVaPl57woaI8a1Vd+mSO4BZ1ZFb3lb29Bfv98fF8d48P5OkbJcd/\n",
       "8YUSwb1tHb1HTzbSW3yByVT83Q7mQ0V58mPa3U4iR3CHOjKr+8re7mcmeHXif11TLsaZeFh5x8N8\n",
       "mte4KJ5gP5bIkR2xdsapS1plBKjvKOV4WElfbkZ/PC59Ike5/rTpi3wxscSVZT/ZqIGtPo0EHgUr\n",
       "6RGf5rtMJE8qR3BVTxSn3lheD/GDTG+p714ybrnm9E67+bOK5UZ92ErqCDrSf9kaOcsOw1LDgKbT\n",
       "cDwMj4Lveodp/6ga2DFH2aGU0f8DYifMSTsI54MAAAAASUVORK5CYII=\n",
       "\" style=\"display:inline;vertical-align:middle;\" /></a></span></td></tr>\n",
       "<tr><td>&nbsp;</td><td colspan=4 style=\"text-align:left\"><span style=\"font-size:20px;\"><a class=\"ProveItLink\" href=\"../../../__pv_it/a8d4b3a34d2189508f9082853fbac36935714f280/expr.ipynb\"><img src=\"data:image/png;base64,iVBORw0KGgoAAAANSUhEUgAAAAsAAAAJBAMAAAAWSsseAAAAMFBMVEX////MzMxUVFQyMjKqqqoi\n",
       "IiKYmJju7u5EREQQEBC6urqIiIh2dnZmZmbc3NwAAAD0tjQRAAAAAXRSTlMAQObYZgAAAAlwSFlz\n",
       "AAAOxAAADsQBlSsOGwAAAEdJREFUCNdjYOC7s28DAwPDygcc3xkY2Kcx8AYwMPB+Z2A9wMDA2cBQ\n",
       "v4CBof4AQz5QRb0DQzPLAwbmDWyxPECV2gcfbWQAABp5EMgcedARAAAAAElFTkSuQmCC\n",
       "\" style=\"display:inline;vertical-align:middle;\" /></a> : <a class=\"ProveItLink\" href=\"../274de11a51c3619e930c859a025171ba37ee76d00/expr.ipynb\"><img src=\"data:image/png;base64,iVBORw0KGgoAAAANSUhEUgAAAF8AAAAVBAMAAADSoS/MAAAAMFBMVEX////MzMxUVFREREQiIiK6\n",
       "uroQEBCYmJhmZmYyMjLu7u52dnaqqqqIiIjc3NwAAACFAiZ1AAAAAXRSTlMAQObYZgAAAAlwSFlz\n",
       "AAAOxAAADsQBlSsOGwAAAW9JREFUOMtjYGB4wIAAyGwY4EOT5j2AJBmLRcMdNOnTyJIouiGAZwPD\n",
       "4hQkaa4JKNKzMDSsBOIZSNIcBSjSFRga2oH4D5I0G6o02wJ0DQkMDKy/kKQjUaU5C9DUswKdzO2A\n",
       "JN0Nol/sfQsV4VZA08CxAahM98YBuPR0kCl5DPZQp7CDw6DFBQScYFaun8X1Dy7tA6SWFTC0MDAs\n",
       "B6nlcUCzgQVo9vkFDH/h0qlAqn8BgzcD412QWsYPaBrYAhgYOhm4fsOlQRqSGbi+Qg1nTcCiYQYD\n",
       "6x+49Bxg3P1mYP8A1QBxErIfgE76zsDxCy5tC9Twh4F5wjmICLsBmg3MFxgYvoJ8CZPeBKTmMpQ0\n",
       "bICIcFxA0wAKZ3UGCwa4dAiQWnRbTlcAIsKCnsBZgaIrQNEAk2YRgCdLkMgTjLTkiCbN3oCioR1D\n",
       "QwW6tB0sY+38cYGBzwBDA/MDNOnFKLIYiZWBywBNmg85fdZhyaLPUaQBDvFjtBIN1qAAAAAASUVO\n",
       "RK5CYII=\n",
       "\" style=\"display:inline;vertical-align:middle;\" /></a>, <a class=\"ProveItLink\" href=\"../../../__pv_it/53e304ff98ebc000dbe3ef224f4637dbafd46ba70/expr.ipynb\"><img src=\"data:image/png;base64,iVBORw0KGgoAAAANSUhEUgAAAAkAAAAOBAMAAAAPuiubAAAALVBMVEX///+YmJjc3NyIiIhUVFR2\n",
       "dna6urqqqqpmZmYyMjIiIiIQEBBERETu7u4AAAALjtrwAAAAAXRSTlMAQObYZgAAAAlwSFlzAAAO\n",
       "xAAADsQBlSsOGwAAAE5JREFUCNdj4D29gAEIOBtAJF8BiMy7ACKjQATDFON2BgbelxfuKTCwv2Xg\n",
       "M2DgmMBwLwCkPK+AgU+Aoe8CA18C70YGBhYBHqARvM1A5QCqGhDobJhHyAAAAABJRU5ErkJggg==\n",
       "\" style=\"display:inline;vertical-align:middle;\" /></a> : <a class=\"ProveItLink\" href=\"../42f265cb18e2981b17c13304c9403860c66794040/expr.ipynb\"><img src=\"data:image/png;base64,iVBORw0KGgoAAAANSUhEUgAAAEAAAAARBAMAAACflbe/AAAAMFBMVEX////MzMxUVFQyMjKqqqoi\n",
       "IiKYmJju7u5EREQQEBC6urqIiIh2dnZmZmbc3NwAAAD0tjQRAAAAAXRSTlMAQObYZgAAAAlwSFlz\n",
       "AAAOxAAADsQBlSsOGwAAALhJREFUKM9jYMAB2DsDGPAD5gsEFPA7EFCwvoCAgqMwBt+dfRuwKTDa\n",
       "fQXCWPmA4ztMkDcUDBRAvvhcUP8A7J1pDLwBDOzJ6AawfGfg3wAS5v3OwHqAQXorugJeA4b6AyBh\n",
       "zgaG+gUMDK5YgmG9A0i4/gBDPgNMAZIb+BMY7heAFTgwNLM8wDSBfwHQdSBh5g1ssTxYrGBK4LgA\n",
       "FmbXPvhoIxYF7LevMCALu2IPTuIVvLG/jU0eKAwAQUgyxtN9cbAAAAAASUVORK5CYII=\n",
       "\" style=\"display:inline;vertical-align:middle;\" /></a></span></td></tr><tr><td><a name=\"proveit.core_expr_types.tuples.4e186a8f08bb7cf8600afa02e653f8ff26a9a5000_step1\">1</a></td><td>theorem</td><td></td><td><span style=\"font-size:20px;\"> <a class=\"ProveItLink\" href=\"../../../conditionals/_proofs_/single_condition_reduction.ipynb\" style=\"text-decoration: none\">&#x22A2;&nbsp;</a><a class=\"ProveItLink\" href=\"../f9304a3820955e8c69647099dcb04a5ceec051ab0/expr.ipynb\"><img src=\"data:image/png;base64,iVBORw0KGgoAAAANSUhEUgAAAM8AAAAyBAMAAAAJo5KrAAAAMFBMVEX///+IiIgiIiIQEBB2dnbu\n",
       "7u5UVFTMzMzc3NwyMjK6urpmZmaYmJiqqqpEREQAAACk/Np2AAAAAXRSTlMAQObYZgAAAAlwSFlz\n",
       "AAAOxAAADsQBlSsOGwAABK1JREFUWMO1mFuIG1UYgP9cJpPrJF5Qq4jLolu1PoS2rqXUmvZBRSwd\n",
       "qCi10Mla7YuKAWHxqRspLJSKjUilsLYM9E2EZKsolS5mWxREMPFGKwobXSqIoi64aNfd0v+cmTkz\n",
       "Z+bkzATjIZP8M3Pyf+fy32YAJC1lwhDafj20ywtMelqMvH49L6Q936ypx8M4qYojxU76RjVvgR9j\n",
       "FyzpdvqdLfGdvwoDnWfSgoeT3gaQubgiAhUqsH8j47GWq8o56b+ZuNNzOfsvDiH9nKt+F5P24jGD\n",
       "R8Y3//vkoHhFCALUctAzD+UeBjqHxxoe+Rav6Wu5OVwAMQjb8x5Q7FPTAZVxvstEuJ/vnmlJQZuj\n",
       "geJqz5ayDYDkCLn+Nt89+4+ME1vmQen3b6HWdGQcJjcddEHfwAlbyuFaZyZu6wI87NM1I90ij62c\n",
       "xeN0XbPQY/wenYDvbSnTBjCOKzj8z3y6FmSbNFVz7W8V93wb5OiywM8cSK1CXLcXsUtVLgU9xyhJ\n",
       "QAdc134Gtzu37JghD0rVIFayQAmTzF35Cwfp06WNSEDjrrgPg0iiB4YpAKHvKCMuaAayaOCnfbry\n",
       "EmtQVz0nqNuoQAcEIOKuc/Ye4dKtkqkHlk5Z7Q9KegeBVmd04ZdCPQgii3LEAmm4hCuwB03iC8ny\n",
       "+JtW5kGZUn5Dkp78Tj82KE+2WatRULJKAv6vKM3SaVxxFfwEQLwNfgiCEj0epEw8Mn0zkQ9tunzo\n",
       "oR8dkEYMV61YDouz20fcCO6mdze4CnYDfATUFwLNaEH/yMAnByY52SkdMLKOCZPkRk/gRqXBQZ87\n",
       "eaEt0EZCerIb1LHgvXZDNJBWt05eF61PHukZgY5OzXOypxsJpNgrcznQsYh2snF0dLNAxx11bw78\n",
       "QEzayWqGrfTnNcs960EQDuFD0QjQTsJrlwFaAjPINKRZnFZPsVsfDxUURzvU9KRbSz3LpJdgqCB0\n",
       "/0LJYwsP/I8gaMyTAD3/KFm6pZv0aEunvDPw0sEuTALKepWkz9hdMScg7K5L/7nuW18iuDXUGOAw\n",
       "2kKupZZp/M03HPOuyf5Y8BQUcBhd8eQUbrSy2C/BJapW7IWiGavS1MWqyo4UlPRqbKLbj0zrsrqq\n",
       "6Nww6ton2LOoJxzPXDAjgxRM6Nb4in0iCEmb9tTqU+/CE1hmsJQ11Y4MIs8D1oib/SyIhejsuS8f\n",
       "h5e76mwlMNlBQP2iPB+iAbxn8UYo6OiOV2kgfLOqHhina/fWdXPi/lzkhIJ34qmyv/OZUdLGrIyD\n",
       "w8hugT90u9S09ki5ohtir+DdP8+dLMtmdAx3EKuQM1Z54YDQ6IviUnG7pNxak3Am77Vix508COdp\n",
       "VISPWkvRCshgADqrk1EqKzwI3agpNHBZAQnvyfYIdWPpm/+TBxXbfUJkSlYSN0251SlroDUu8SAT\n",
       "HwWEgUFW5MdbIeb9Bpxv0R3ReuRDBt7W6J8Mv2t0ZKlAanYE9OSNr0yQgKgubn9q8SoZszI7Jx7j\n",
       "WNRHy9DIIG/yR0vpfAcDafIXDZmK5AG3PAioKc/W6haJIz04CCis8zrJvaMvRuekqpFfOv239l1o\n",
       "j9+Gwgl/jQbaUF4M7qWmcA104hdym7QJSwAAAABJRU5ErkJggg==\n",
       "\" style=\"display:inline;vertical-align:middle;\" /></a></span></td></tr>\n",
       "<tr><td>&nbsp;</td><td colspan=4 style-\"text-align:left\"><a class=\"ProveItLink\" href=\"../../../conditionals/_proofs_/single_condition_reduction.ipynb\">proveit.core_expr_types.conditionals.single_condition_reduction</a></td></tr></table>"
      ],
      "text/plain": [
       "<proveit._core_.proof._ShowProof at 0x2323eb388c8>"
      ]
     },
     "execution_count": 1,
     "metadata": {},
     "output_type": "execute_result"
    }
   ],
   "source": [
    "import proveit\n",
    "# Automation is not needed when only showing a stored proof:\n",
    "proveit.defaults.automation = False # This will speed things up.\n",
    "%show_proof"
   ]
  },
  {
   "cell_type": "code",
   "execution_count": null,
   "metadata": {},
   "outputs": [],
   "source": []
  }
 ],
 "metadata": {
  "kernelspec": {
   "display_name": "Python 3",
   "language": "python",
   "name": "python3"
  },
  "language_info": {
   "codemirror_mode": {
    "name": "ipython",
    "version": 3
   },
   "file_extension": ".py",
   "mimetype": "text/x-python",
   "name": "python",
   "nbconvert_exporter": "python",
   "pygments_lexer": "ipython3",
   "version": "3.7.4"
  }
 },
 "nbformat": 4,
 "nbformat_minor": 1
}
