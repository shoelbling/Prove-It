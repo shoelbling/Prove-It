{
 "cells": [
  {
   "cell_type": "markdown",
   "metadata": {},
   "source": [
    "Expression of type <a class=\"ProveItLink\" href=\"../../../../../../doc/html/api/proveit.ExprTuple.html\">ExprTuple</a>\n",
    "=======================\n",
    "# from context <a class=\"ProveItLink\" href=\"../../_context_.ipynb\">proveit.core_expr_types.tuples</a>"
   ]
  },
  {
   "cell_type": "code",
   "execution_count": 1,
   "metadata": {},
   "outputs": [],
   "source": [
    "import proveit\n",
    "# Automation is not needed when building an expression:\n",
    "proveit.defaults.automation = False # This will speed things up.\n",
    "# import Expression classes needed to build the expression\n",
    "from proveit import ExprRange, ExprTuple, Function\n",
    "from proveit._common_ import a, f, fa, i, j\n",
    "from proveit.number import Add, one"
   ]
  },
  {
   "cell_type": "code",
   "execution_count": 2,
   "metadata": {},
   "outputs": [
    {
     "data": {
      "text/html": [
       "<strong id=\"expr\">expr:</strong> <a class=\"ProveItLink\" href=\"../4d776d46968581c12058b0333619228efa1f3a1d0/expr.ipynb\"><img src=\"data:image/png;base64,iVBORw0KGgoAAAANSUhEUgAAAPkAAAAVBAMAAAB251VaAAAAMFBMVEX////MzMxUVFREREQiIiK6\n",
       "uroQEBCYmJhmZmYyMjLu7u52dnaqqqqIiIjc3NwAAACFAiZ1AAAAAXRSTlMAQObYZgAAAAlwSFlz\n",
       "AAAOxAAADsQBlSsOGwAAAvlJREFUSMeNVj1oU1EUPonv5aVJTJ1cjYu4CMHBoZDSahCxGQp2yRDM\n",
       "0G4VgpOLMYhQpFCCS0E6POzUoVhKJl2C4KKDAZcMDhkKXQQj6GCw4Pm5P+/1ps9e+O49N993z7k/\n",
       "590bABiBQJcRnPohoRQjQ6ZTbhlFABf7Al3Ebpwv+jdpGmdTbmlEAJ8VADbf6f4wNp9pJfs+xLpw\n",
       "gFVq7pSa/WgqXlL37XIJua4AIH91HZS9BPA6OfrhZQq4x5vVjavFj6Gi5c3LCYhYIdsSAGQ+0kzF\n",
       "BniSHH39Aa19Q3ejavGzEVX7LX2sEyVWyIAA4GEIxsY2TAruT7hpwhS1+GlG5YVBNDqJFerYrTPT\n",
       "47qudDOtpOj5BZ6D2diouhen3OgkVtikNCHi8ep1EDs3RHG+lBA8uHa7Q6dEmbX/FWJq8WMpNzqJ\n",
       "Fbaxu83MCddo533ctqCbtPbZgVlxJ9OKq0/ilBudxAo17Nb4dvjJPNrfs0gVFpKi/7hEtYd5H4xm\n",
       "+zG1+LGUG53ECmvYXWPFmHm0Q1pZapwU/Yvk2jLbYUwtfiwF2Wr17mq1WjLRSaxgoksisU2D/GZS\n",
       "9F4k+guIqcWPpdy1k1hhB7sEuCCJQ/Yr+N/O35RM541diqvFj6USd76C3QrPVhRo5/7m8dDKdPG5\n",
       "ceXDfiSBaEjxNyi1UOLHUlOyrmxwSNemTSSy/fExnhYNeEvX8B9l2J7OUP7OAjpnUgul/FjKjU5i\n",
       "hRXsrthEYruCH4pHD6CHjwLcI6Ojq2poM9Sn/U7TslnNlPJjqWj09K1fN0Ss4OFUCfBcBJ5sARxx\n",
       "/cnZ+QKnsbpcFvVOHxlK+1m0hxlZu3GtEHQYhdKOusY60sorceDesYgPM339uKT7z8xzQ5TxY6jY\n",
       "K2Nca8wzvDl9W83LncGblhs40fcRd/Z0fo+u9GtGTZTxo6kpf3rKFrDLCIb639GuDOZpB+5YWsXT\n",
       "LdXJlbPDZaMmyvjRlFtIrAHFlsBMje32+f5ZHUvTPptyS9viH90l82PsROF3AAAAAElFTkSuQmCC\n",
       "\" style=\"display:inline;vertical-align:middle;\" /></a><br>"
      ],
      "text/plain": [
       "expr: ((f(i) ,  ...  , f(j) , f(j + 1)))"
      ]
     },
     "execution_count": 2,
     "metadata": {},
     "output_type": "execute_result"
    }
   ],
   "source": [
    "# build up the expression from sub-expressions\n",
    "expr = ExprTuple([ExprRange(a, fa, i, j), Function(f, Add(j, one))])"
   ]
  },
  {
   "cell_type": "code",
   "execution_count": 3,
   "metadata": {},
   "outputs": [
    {
     "name": "stdout",
     "output_type": "stream",
     "text": [
      "Passed sanity check: built 'expr' is the same as the stored Expression.\n"
     ]
    }
   ],
   "source": [
    "# check that the built expression is the same as the stored expression\n",
    "%check_expr"
   ]
  },
  {
   "cell_type": "code",
   "execution_count": 4,
   "metadata": {},
   "outputs": [
    {
     "name": "stdout",
     "output_type": "stream",
     "text": [
      "\\left(\\left(f\\left(i\\right) , \\ldots , f\\left(j\\right) , f\\left(j + 1\\right)\\right)\\right)\n"
     ]
    }
   ],
   "source": [
    "# Show the LaTeX representation of the expression for convenience if you need it.\n",
    "print(expr.latex())"
   ]
  },
  {
   "cell_type": "code",
   "execution_count": 5,
   "metadata": {},
   "outputs": [
    {
     "data": {
      "text/html": [
       "<table><tr><th>&nbsp;</th><th>core type</th><th>sub-expressions</th><th>expression</th></tr>\n",
       "<tr><td>0</td><td>ExprTuple</td><td>1</td><td><a class=\"ProveItLink\" href=\"../4d776d46968581c12058b0333619228efa1f3a1d0/expr.ipynb\"><img src=\"data:image/png;base64,iVBORw0KGgoAAAANSUhEUgAAAPkAAAAVBAMAAAB251VaAAAAMFBMVEX////MzMxUVFREREQiIiK6\n",
       "uroQEBCYmJhmZmYyMjLu7u52dnaqqqqIiIjc3NwAAACFAiZ1AAAAAXRSTlMAQObYZgAAAAlwSFlz\n",
       "AAAOxAAADsQBlSsOGwAAAvlJREFUSMeNVj1oU1EUPonv5aVJTJ1cjYu4CMHBoZDSahCxGQp2yRDM\n",
       "0G4VgpOLMYhQpFCCS0E6POzUoVhKJl2C4KKDAZcMDhkKXQQj6GCw4Pm5P+/1ps9e+O49N993z7k/\n",
       "590bABiBQJcRnPohoRQjQ6ZTbhlFABf7Al3Ebpwv+jdpGmdTbmlEAJ8VADbf6f4wNp9pJfs+xLpw\n",
       "gFVq7pSa/WgqXlL37XIJua4AIH91HZS9BPA6OfrhZQq4x5vVjavFj6Gi5c3LCYhYIdsSAGQ+0kzF\n",
       "BniSHH39Aa19Q3ejavGzEVX7LX2sEyVWyIAA4GEIxsY2TAruT7hpwhS1+GlG5YVBNDqJFerYrTPT\n",
       "47qudDOtpOj5BZ6D2diouhen3OgkVtikNCHi8ep1EDs3RHG+lBA8uHa7Q6dEmbX/FWJq8WMpNzqJ\n",
       "Fbaxu83MCddo533ctqCbtPbZgVlxJ9OKq0/ilBudxAo17Nb4dvjJPNrfs0gVFpKi/7hEtYd5H4xm\n",
       "+zG1+LGUG53ECmvYXWPFmHm0Q1pZapwU/Yvk2jLbYUwtfiwF2Wr17mq1WjLRSaxgoksisU2D/GZS\n",
       "9F4k+guIqcWPpdy1k1hhB7sEuCCJQ/Yr+N/O35RM541diqvFj6USd76C3QrPVhRo5/7m8dDKdPG5\n",
       "ceXDfiSBaEjxNyi1UOLHUlOyrmxwSNemTSSy/fExnhYNeEvX8B9l2J7OUP7OAjpnUgul/FjKjU5i\n",
       "hRXsrthEYruCH4pHD6CHjwLcI6Ojq2poM9Sn/U7TslnNlPJjqWj09K1fN0Ss4OFUCfBcBJ5sARxx\n",
       "/cnZ+QKnsbpcFvVOHxlK+1m0hxlZu3GtEHQYhdKOusY60sorceDesYgPM339uKT7z8xzQ5TxY6jY\n",
       "K2Nca8wzvDl9W83LncGblhs40fcRd/Z0fo+u9GtGTZTxo6kpf3rKFrDLCIb639GuDOZpB+5YWsXT\n",
       "LdXJlbPDZaMmyvjRlFtIrAHFlsBMje32+f5ZHUvTPptyS9viH90l82PsROF3AAAAAElFTkSuQmCC\n",
       "\" style=\"display:inline;vertical-align:middle;\" /></a></td></tr>\n",
       "<tr><td>1</td><td>ExprTuple</td><td>2, 3</td><td><a class=\"ProveItLink\" href=\"../../../__pv_it/e49a33d25999cda7905ebf1646970d34512ff9600/expr.ipynb\"><img src=\"data:image/png;base64,iVBORw0KGgoAAAANSUhEUgAAAOkAAAAVBAMAAABRSdSyAAAAMFBMVEX////MzMxUVFREREQiIiK6\n",
       "uroQEBCYmJhmZmYyMjLu7u52dnaqqqqIiIjc3NwAAACFAiZ1AAAAAXRSTlMAQObYZgAAAAlwSFlz\n",
       "AAAOxAAADsQBlSsOGwAAAttJREFUSMeNVj1oU1EUvonv5aVJTJ1cjYu4CMHBodDS2oeI7VDQpUMw\n",
       "Q7tVCE4uxiBCkUIJLoJ0eLRTh2IpmXQJgosOBlwyOGQodBGMoIPBgufn/nqT11449513vu+e7/6c\n",
       "dxMhxECYNtDd2a1sDRkP+W2gBlzsmiD7tfOpfuNHbTLkt5oa8Jlet94pv+/MY1zLv0+gLx1Cl5n5\n",
       "j015FOS2zD1eFlqhjZHi1Q0h/SUh3qSrHl1GoX3anLbL5jwastvuy5FgMli+gaHcR5wZ+0I8SVfd\n",
       "uI9r3VSvNpvzbNrssKGObyTJYDmKPExojBqbpImGI3rUxRg256nb9FLPVkUy2CpFOtSvSnyqkaZa\n",
       "nCdtvYE2u+NCviqSwbYw8HjtOpUCHG0fSMVKimh07XYLTwMr5uCrcNicx0C+KpLBXlPklHrwiyFs\n",
       "T9ROW+t0T6+wlWu47FMX8lWRDLZMX/VPioP/PQ/h0nya6o9L2AdQx9FguuuwOY+BfFUkg60TMqQ4\n",
       "+AmuJDNMU/3CNbRCfuKwOY+BRD6O76zFcUWrIhls3RQI+UgO62mqHUv1hXDYnMdA/lqRDLaDgQtc\n",
       "EOi/Emft8E2uXNrAJZfNeQw0cYdnaXaMgF/4W4RDqeJF5evxh/mIBXBI+beQbIY4j4HGVFOV7MgU\n",
       "CPrh8AROA4lvoawKf6Rj3lTl0fcS4TkimyGZx0C+KpLBHpgCIX8WCj7AH6MALmtxF52W6uLEVF6I\n",
       "+5rFZRKbIJnHQLZq9tavG0wGC3B6zxkIeMnimPpP3g6XqCzlpbCgdvRYQyrPgjk0a606NVjUEqXK\n",
       "jrx2Wvzk2/vQvwvBPkx11aWf7T7TPwMI6Twacm5/nRptTgQz6naZ42+dNqfQ81QPwBb3Vb0OrnSX\n",
       "NRshnUdBY/5kVOWAPRH11b+QPR5E04z8MTjrp9vypVDN91c0GyGdR0F+QzINKFs7wH7zfP9gTvjR\n",
       "nAz5rcn2D8PH3cHAMGhLAAAAAElFTkSuQmCC\n",
       "\" style=\"display:inline;vertical-align:middle;\" /></a></td></tr>\n",
       "<tr><td>2</td><td>ExprRange</td><td>lambda_map:&nbsp;4<br>start_index:&nbsp;5<br>end_index:&nbsp;12<br></td><td><a class=\"ProveItLink\" href=\"../../../__pv_it/7f96e6de282d54f64e1aae45a405d6bb8b75f88f0/expr.ipynb\"><img src=\"data:image/png;base64,iVBORw0KGgoAAAANSUhEUgAAAIAAAAAVBAMAAAB8u/sIAAAAMFBMVEX///8yMjLc3NyIiIiYmJgi\n",
       "IiJERES6urqqqqoQEBDMzMxUVFTu7u52dnZmZmYAAAD1zdHuAAAAAXRSTlMAQObYZgAAAAlwSFlz\n",
       "AAAOxAAADsQBlSsOGwAAAeNJREFUOMuNVDtIA0EQnTvv8pHkTGGRMoXYRtHCSqKCjaBBUERFgpam\n",
       "0ELBymvEQkVBxRQWqQQrU4laSESwNY2VCtEIFiIoNiIpnM/mIhysWbi3M3Nv52be7h6AN0wPGhgJ\n",
       "8LN7CIIdDa1vcuEP23ksIoZKGC9LGs14fyDcIjgqKvb9MeW7wscugVHUro9e5BAjMbI7QbFzyzS9\n",
       "CMMqaxOE17NUcwr+sINVtndU7FCbYJU/GfZ8YkfTrEdMhVq1Ce4YFz0f2db5FNXhoIbXFVJEt35o\n",
       "/5KVJB26MordwnthYFulFTT6tBV8eVU6sKfYyTzFbBdM9wmNNd1684enCXz64Vuxt0XeBYhw/hNd\n",
       "gtAHTwdsVxX7rpZAQivaY5CuJ3DSij3PMQMPk1H4r4VAgac4yKkT9q68QilvXYwNkuc/jhGpUw7/\n",
       "HEESaya20iWKuVdN3Araysgnwm1MQd1TgstWjxBUPF2C2FGgG41R8sawBJuOB8MMGdPgCQ5LBKcg\n",
       "bEfagkm1USxTyN/DJsGb2HZetY7sDUOuNgzLJPck6tcP5QkV4t4dOrOqwh6/qgksP5l2xmu/iCif\n",
       "na1dmNnmb9sV9sBzjZHhKcuY8iWw6OlNKO8GKq91thptzEs09Esz5QvI/gVZv2xbZL9soAAAAABJ\n",
       "RU5ErkJggg==\n",
       "\" style=\"display:inline;vertical-align:middle;\" /></a></td></tr>\n",
       "<tr><td>3</td><td>Operation</td><td>operator:&nbsp;10<br>operand:&nbsp;6<br></td><td><a class=\"ProveItLink\" href=\"../../../__pv_it/81fc576f6352a0316f21a0075d237f446861b8220/expr.ipynb\"><img src=\"data:image/png;base64,iVBORw0KGgoAAAANSUhEUgAAAEoAAAAVBAMAAAATJmVgAAAAMFBMVEX///8yMjLc3NyIiIiYmJgi\n",
       "IiJERES6urqqqqoQEBDMzMxUVFTu7u52dnZmZmYAAAD1zdHuAAAAAXRSTlMAQObYZgAAAAlwSFlz\n",
       "AAAOxAAADsQBlSsOGwAAAS1JREFUKM9jYIADJgbsAFXcAocqdgMwxXf3AJDkuAAkuHLQlCw9ANN+\n",
       "e2UDkDwIYjILoKjh2ScPVMUIMoRhRhmIeoIsXQJj2AOlWB6A7P0D5k9AVtWMrIphDhDzBoDdKIBb\n",
       "lQjQvJ3RIBP5QI4/bIZV1W0g5gf7lNEBSDzgdMCmyhGI9ReAuKxAf7Io8DdgU9UKxP1gLmcBiOwH\n",
       "CT4NDZ0ZGhqNULUeiK8iqXqK1V2VQJwN5jKC7YplwGXjZDCXDeQHpu9YVbkBZX6BubwbgATLB6yq\n",
       "HgNjGSLDDgpb7gQ0VdvmRwPtCAIG5waIQBTICwboZoETWABDNyM0iPwYuBv8D6DHNjhlOTCEHYSy\n",
       "2RTWN0RgTYZqDAzOj2BpKYHPrgCrKpSUqYIjRbMoMAAARmhKODPJ6OMAAAAASUVORK5CYII=\n",
       "\" style=\"display:inline;vertical-align:middle;\" /></a></td></tr>\n",
       "<tr><td>4</td><td>Lambda</td><td>parameter:&nbsp;11<br>body:&nbsp;7<br></td><td><a class=\"ProveItLink\" href=\"../../../__pv_it/2f41bfa613e300bb7e01a730e156eccf7e200ec90/expr.ipynb\"><img src=\"data:image/png;base64,iVBORw0KGgoAAAANSUhEUgAAAFQAAAAVCAMAAADvsTk6AAAANlBMVEX///8WFhYNDQ3MzMxUVFQy\n",
       "MjKqqqoiIiKYmJju7u5EREQQEBC6urqIiIh2dnZmZmbc3NwAAADRPqZpAAAAAXRSTlMAQObYZgAA\n",
       "AAlwSFlzAAAOxAAADsQBlSsOGwAAATxJREFUOMulVFtihCAMtOUdHoH7X7agZZcEdKvNj2JkMsOE\n",
       "bNt/I1+snkbUZBniQxxMyfV3na6L/DWSFL7vdGpKK/cE1OsAfSPaKW3x44nNBx/KQMWvii6okk96\n",
       "LpvMUEAtQNXOPmOK+eWaIX8YLk56I/FtWe+kASLJVs5XjfASRWE0cCIlclIMwlb6zrcMmhNuEegR\n",
       "5SIGHUcXUAhdn7gXMK9++/4yJEoJhHoZPTlSFELUP3wT6N47GdOgwqlPHZRCBF/fWwFbTqwRvJdB\n",
       "jkbv8hlEle9KS4DadF6BKt6ofrzcEA9QAmErb1UT1uDWD5WoDbxPiU9H93AIrCsnYxJZRrGcHfwr\n",
       "8WkLhywKYW6PP5T0bsxUsrmHqOWvNVfTYzFjLsPANOqAa81wU7uNyDEcx4BH45Qzo2ptq/oDHYoL\n",
       "1B9fEzQAAAAASUVORK5CYII=\n",
       "\" style=\"display:inline;vertical-align:middle;\" /></a></td></tr>\n",
       "<tr><td>5</td><td>Variable</td><td></td><td><a class=\"ProveItLink\" href=\"../../../../__pv_it/557ab5defdcd46aa58168b08767502985122cd490/expr.ipynb\"><img src=\"data:image/png;base64,iVBORw0KGgoAAAANSUhEUgAAAAcAAAAOBAMAAAARcxsoAAAALVBMVEX///9ERESYmJhUVFQyMjKq\n",
       "qqrc3NwQEBC6urru7u52dnYiIiJmZmaIiIgAAAD/UVazAAAAAXRSTlMAQObYZgAAAAlwSFlzAAAO\n",
       "xAAADsQBlSsOGwAAADlJREFUCNdjYGC4wwAEuxjQAeedCwwMXBwFDAypPA4MDBP4gFyGuAlAwhkk\n",
       "+5SLgYHjQRKQKavAAAAx5QmdfgFqMAAAAABJRU5ErkJggg==\n",
       "\" style=\"display:inline;vertical-align:middle;\" /></a></td></tr>\n",
       "<tr><td>6</td><td>Operation</td><td>operator:&nbsp;8<br>operands:&nbsp;9<br></td><td><a class=\"ProveItLink\" href=\"../../../__pv_it/bbc7850a360ade4a2f534c2fd9bf57dd1adef2950/expr.ipynb\"><img src=\"data:image/png;base64,iVBORw0KGgoAAAANSUhEUgAAAC0AAAASBAMAAAA9GErRAAAAMFBMVEX///9UVFS6urp2dnYiIiKq\n",
       "qqrc3NyYmJgQEBBmZmYyMjKIiIju7u5ERETMzMwAAAC4hZuzAAAAAXRSTlMAQObYZgAAAAlwSFlz\n",
       "AAAOxAAADsQBlSsOGwAAAHVJREFUGNNjYGBg4LvDgAqeHABT3AtQRHkk1x9AEVCHMfajikcTJ356\n",
       "L3bxCRwF2MTZE/gDsJsfD6KmuLh0uLg4IotPweEeZ+zibJ+wi7N/wC7OeAFNXLbfcQOQ4tiArh6s\n",
       "OqD+AHq4gcD7AFcGbIBzpwI2YQCKjyo+Pcl8rwAAAABJRU5ErkJggg==\n",
       "\" style=\"display:inline;vertical-align:middle;\" /></a></td></tr>\n",
       "<tr><td>7</td><td>Operation</td><td>operator:&nbsp;10<br>operand:&nbsp;11<br></td><td><a class=\"ProveItLink\" href=\"../../../../__pv_it/e80bce2a0c2e8c976be76e7b3ce08f76e74ec5550/expr.ipynb\"><img src=\"data:image/png;base64,iVBORw0KGgoAAAANSUhEUgAAACgAAAAVBAMAAADGNLEtAAAAMFBMVEX///8yMjLc3NyIiIiYmJgi\n",
       "IiJERES6urqqqqoQEBDMzMxUVFTu7u52dnZmZmYAAAD1zdHuAAAAAXRSTlMAQObYZgAAAAlwSFlz\n",
       "AAAOxAAADsQBlSsOGwAAAP1JREFUGNNjYIADJhQKCiwgFLsBmOK7ewBIclxAkby9sgFIHoTpYAQp\n",
       "YZhRBqKewARZHoAM+QNmT4AbPgeIeQPA5gvABUWAqndGg9TzgezRu6wMsgOI+cFuYHQAqp7EkA80\n",
       "3hHI1V8AEmQFuuCkA8NTILMViPvBBnEWMDC8P8AQC2SuB+KrcMFpDDzfgcxKIM6GOLmBgecvA8sH\n",
       "qPbJYEE2AwaeHwxsAk0MDG7AUPkFFuTdwMAgzOD6AOiyx8CA+AAJHKAXTtsu2gx0ShDQ1Rsg/oiC\n",
       "h2sAQzdjA4TtBxPkc2AIgwUZmwKUocbA4PwIyuZJgDJykKNDBRqcCgwAmIo1X55DCvQAAAAASUVO\n",
       "RK5CYII=\n",
       "\" style=\"display:inline;vertical-align:middle;\" /></a></td></tr>\n",
       "<tr><td>8</td><td>Literal</td><td></td><td><a class=\"ProveItLink\" href=\"../../../../number/addition/__pv_it/65ad7e8aee19b10110d590375ba95a879c4fb7ea0/expr.ipynb\"><img src=\"data:image/png;base64,iVBORw0KGgoAAAANSUhEUgAAAA4AAAAOBAMAAADtZjDiAAAAHlBMVEX///9UVFQQEBAiIiJmZmaI\n",
       "iIiqqqqYmJi6uroAAAAAFVhYAAAAAXRSTlMAQObYZgAAAAlwSFlzAAAOxAAADsQBlSsOGwAAAB9J\n",
       "REFUCNdjYGBgaGeAgFRiaGdjYyVjY0Oi1SPRIHsAgDEGyG9xCpgAAAAASUVORK5CYII=\n",
       "\" style=\"display:inline;vertical-align:middle;\" /></a></td></tr>\n",
       "<tr><td>9</td><td>ExprTuple</td><td>12, 13</td><td><a class=\"ProveItLink\" href=\"../../../__pv_it/b4a6bbb22f42f319253f3b5726fd567faa26da490/expr.ipynb\"><img src=\"data:image/png;base64,iVBORw0KGgoAAAANSUhEUgAAACcAAAAVBAMAAAA3P+qgAAAAMFBMVEX////MzMxUVFREREQiIiK6\n",
       "uroQEBCYmJhmZmYyMjLu7u52dnaqqqqIiIjc3NwAAACFAiZ1AAAAAXRSTlMAQObYZgAAAAlwSFlz\n",
       "AAAOxAAADsQBlSsOGwAAAOJJREFUGNNjYGB4wIACwFzeA6iCsSDiNIgQXgAWYPSCKOKaAOLdBIst\n",
       "6vwFJGcxMHAUIGnlBQlWMDCwMaALsi1giMQQ5Cxg6AZSXHcNkAS5FRimAykOhnQkQfYJDD5Aqo7h\n",
       "D5IgjwNDKojD8wtJkPEDRJDDAUmQNYFhDojDsgFVuy2I8z6AYQHCIgOGTSBOPQPXT7ggxwWGEBBH\n",
       "mYHBBaiUyeyLLtCsBwwsAkDBXKBJC2DeegI0oYFBhx2oixvu13YgtmP8wwIMwrUwMT6Qlxcz9LYC\n",
       "KXgIMoPM4StAjY46BgYAHZ018KSlKDcAAAAASUVORK5CYII=\n",
       "\" style=\"display:inline;vertical-align:middle;\" /></a></td></tr>\n",
       "<tr><td>10</td><td>Variable</td><td></td><td><a class=\"ProveItLink\" href=\"../../../../__pv_it/d7bbb04e874e28c7cefb21d4eea40806ae52f1f70/expr.ipynb\"><img src=\"data:image/png;base64,iVBORw0KGgoAAAANSUhEUgAAAAsAAAASBAMAAAB/WzlGAAAAMFBMVEX///8yMjLc3NyIiIiYmJgi\n",
       "IiJERES6urqqqqoQEBDMzMxUVFTu7u52dnZmZmYAAAD1zdHuAAAAAXRSTlMAQObYZgAAAAlwSFlz\n",
       "AAAOxAAADsQBlSsOGwAAAFNJREFUCNdjYGBg4Lt7AEgy3F7ZAKJmlIF47H9AbAbeABDJsjP6AYjm\n",
       "NwAL6i8AU/1gkuEqhMqGUJPBJNMvMMXxAUzxbQCR3Yxg48MOgsWcH4FIAPrAEkCfAu8DAAAAAElF\n",
       "TkSuQmCC\n",
       "\" style=\"display:inline;vertical-align:middle;\" /></a></td></tr>\n",
       "<tr><td>11</td><td>Variable</td><td></td><td><a class=\"ProveItLink\" href=\"../../../../__pv_it/a8d4b3a34d2189508f9082853fbac36935714f280/expr.ipynb\"><img src=\"data:image/png;base64,iVBORw0KGgoAAAANSUhEUgAAAAsAAAAJBAMAAAAWSsseAAAAMFBMVEX////MzMxUVFQyMjKqqqoi\n",
       "IiKYmJju7u5EREQQEBC6urqIiIh2dnZmZmbc3NwAAAD0tjQRAAAAAXRSTlMAQObYZgAAAAlwSFlz\n",
       "AAAOxAAADsQBlSsOGwAAAEdJREFUCNdjYOC7s28DAwPDygcc3xkY2Kcx8AYwMPB+Z2A9wMDA2cBQ\n",
       "v4CBof4AQz5QRb0DQzPLAwbmDWyxPECV2gcfbWQAABp5EMgcedARAAAAAElFTkSuQmCC\n",
       "\" style=\"display:inline;vertical-align:middle;\" /></a></td></tr>\n",
       "<tr><td>12</td><td>Variable</td><td></td><td><a class=\"ProveItLink\" href=\"../../../../__pv_it/6a5b5879f51878868f626bf09e4d76392d4779cd0/expr.ipynb\"><img src=\"data:image/png;base64,iVBORw0KGgoAAAANSUhEUgAAAAoAAAASBAMAAACQmVJ4AAAAMFBMVEX///9UVFS6urp2dnYiIiKq\n",
       "qqrc3NyYmJgQEBBmZmYyMjKIiIju7u5ERETMzMwAAAC4hZuzAAAAAXRSTlMAQObYZgAAAAlwSFlz\n",
       "AAAOxAAADsQBlSsOGwAAAEtJREFUCNdjYGBg4LsDJBi4FzBgA6f3gsgJHAUMDOwJ/AEgTvwBEDkF\n",
       "LO0MItg+gUj2DyCS8QKI5NgAZAXUAxW+D3AF8jl3KjAwAACAGg5QwkhbIAAAAABJRU5ErkJggg==\n",
       "\" style=\"display:inline;vertical-align:middle;\" /></a></td></tr>\n",
       "<tr><td>13</td><td>Literal</td><td></td><td><a class=\"ProveItLink\" href=\"../../../../number/numeral/__pv_it/f086f8c372bd40a2458306ddfdbb29f3dc6f63030/expr.ipynb\"><img src=\"data:image/png;base64,iVBORw0KGgoAAAANSUhEUgAAAAgAAAAOBAMAAADgeEClAAAAIVBMVEX///8QEBBERESIiIgyMjJm\n",
       "ZmZUVFTu7u4iIiLMzMwAAAAWRytzAAAAAXRSTlMAQObYZgAAAAlwSFlzAAAOxAAADsQBlSsOGwAA\n",
       "ABtJREFUCNdjYOBsZ2AoC1nOwMDATBbBprgiGQBsuwqCZsDj4wAAAABJRU5ErkJggg==\n",
       "\" style=\"display:inline;vertical-align:middle;\" /></a></td></tr>\n",
       "</table>\n"
      ],
      "text/plain": [
       "0. ((f(i) ,  ...  , f(j) , f(j + 1)))\n",
       "   core type: ExprTuple\n",
       "   sub-expressions: 1\n",
       "1. (f(i) ,  ...  , f(j) , f(j + 1))\n",
       "   core type: ExprTuple\n",
       "   sub-expressions: 2, 3\n",
       "2. f(i),...,f(j)\n",
       "   core type: ExprRange\n",
       "   lambda_map: 4\n",
       "   start_index: 5\n",
       "   end_index: 12\n",
       "3. f(j + 1)\n",
       "   core type: Operation\n",
       "   operator: 10\n",
       "   operand: 6\n",
       "4. a -> f(a)\n",
       "   core type: Lambda\n",
       "   parameter: 11\n",
       "   body: 7\n",
       "5. i\n",
       "   core type: Variable\n",
       "   sub-expressions: \n",
       "6. j + 1\n",
       "   core type: Operation\n",
       "   operator: 8\n",
       "   operands: 9\n",
       "7. f(a)\n",
       "   core type: Operation\n",
       "   operator: 10\n",
       "   operand: 11\n",
       "8. +\n",
       "   core type: Literal\n",
       "   sub-expressions: \n",
       "9. (j , 1)\n",
       "   core type: ExprTuple\n",
       "   sub-expressions: 12, 13\n",
       "10. f\n",
       "    core type: Variable\n",
       "    sub-expressions: \n",
       "11. a\n",
       "    core type: Variable\n",
       "    sub-expressions: \n",
       "12. j\n",
       "    core type: Variable\n",
       "    sub-expressions: \n",
       "13. 1\n",
       "    core type: Literal\n",
       "    sub-expressions: "
      ]
     },
     "execution_count": 5,
     "metadata": {},
     "output_type": "execute_result"
    }
   ],
   "source": [
    "# display the expression information\n",
    "expr.exprInfo()"
   ]
  },
  {
   "cell_type": "code",
   "execution_count": null,
   "metadata": {},
   "outputs": [],
   "source": []
  }
 ],
 "metadata": {
  "kernelspec": {
   "display_name": "Python 3",
   "language": "python",
   "name": "python3"
  },
  "language_info": {
   "codemirror_mode": {
    "name": "ipython",
    "version": 3
   },
   "file_extension": ".py",
   "mimetype": "text/x-python",
   "name": "python",
   "nbconvert_exporter": "python",
   "pygments_lexer": "ipython3",
   "version": "3.7.4"
  }
 },
 "nbformat": 4,
 "nbformat_minor": 1
}
