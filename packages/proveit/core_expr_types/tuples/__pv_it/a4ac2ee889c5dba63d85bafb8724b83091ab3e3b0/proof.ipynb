{
 "cells": [
  {
   "cell_type": "markdown",
   "metadata": {},
   "source": [
    "Show the Proof\n",
    "========"
   ]
  },
  {
   "cell_type": "code",
   "execution_count": 1,
   "metadata": {},
   "outputs": [
    {
     "data": {
      "text/html": [
       "<table><tr><th>&nbsp;</th><th>step type</th><th>requirements</th><th>statement</th></tr>\n",
       "<tr><td><a name=\"proveit.core_expr_types.tuples.a4ac2ee889c5dba63d85bafb8724b83091ab3e3b0_step0\">0</a></td><td>assumption</td><td></td><td><span style=\"font-size:20px;\"><a class=\"ProveItLink\" href=\"../144b840d56f2647fc790755ddc5ed5c3dbcc8abf0/expr.ipynb\"><img src=\"data:image/png;base64,iVBORw0KGgoAAAANSUhEUgAAAPsAAAAVBAMAAAByEoVnAAAAMFBMVEX///8QEBBERERUVFTMzMyY\n",
       "mJjc3NxmZmYiIiJ2dnaqqqoyMjKIiIi6urru7u4AAAAvZeGPAAAAAXRSTlMAQObYZgAAAAlwSFlz\n",
       "AAAOxAAADsQBlSsOGwAAAgZJREFUSMdjYGDgu8swEIBtGYQ+vW5ArGdw1gORXP9wq3gkQQ17cJmi\n",
       "DCI4G/Do3E4Vf+IwZQZB639RxfpfZFrP+48atuMyhaD1eEOGaIDLFIT16XNysCngtjm+AK/JOPQR\n",
       "ZwrYevYNwOARY9B/ABOt6ACBZhDz/T6+b3iDFVkfKiDClIMgIj+AgeFhAEMFA8PTDegK1j9g+INF\n",
       "GA4g+lABDlOwKMoHholzL5BR/4Chk4HlDEYcVTPw/cQiDAdgfQjADsQ4TMGmiE17AQNfNTD0hBj4\n",
       "/gILoAbMDMv7C4swHED0wQETuBjDbgoWRZx7QVwDkONYP8A1IsXaVwb2f3ish+hjLfU5zBPsgGY9\n",
       "minYFK1PgKR8vl8MTBuWYbHnLyh2QcJ8mHYDAw2ij/ViAKMBjwFu34NMwaZoIizj7WGIKJiARaMp\n",
       "gzpE6XtgUuH7zQAl4DywvrwTDPwX2Cfgth5kCjZF8Hz/+KSbjQMWjc9BGRYkzNEH5LUzQAmOAiDR\n",
       "8QCmz4bBkYFjAUORkqKSUgAuU7AoQiv1cEQyWBizUuaCZ3gRhkMM+Sy4fY9LEQnWT8AsSuHthg9A\n",
       "rwVx4rcemyKw9TwCMBWzvx/AphEkzIcp8wZe9BkwbGNIPgc1GYcp2BRVg3OPFBG1BiumUACmEBMx\n",
       "FRBcEZ8opNqwolbziZ0URSyTgQkSAHgnw04CZWxuAAAAAElFTkSuQmCC\n",
       "\" style=\"display:inline;vertical-align:middle;\" /></a> <a class=\"ProveItLink\" href=\"proof.ipynb\" style=\"text-decoration: none\">&#x22A2;&nbsp;</a><a class=\"ProveItLink\" href=\"../6d05f7451d836c0075bcbaa6659a68b9285493f40/expr.ipynb\"><img src=\"data:image/png;base64,iVBORw0KGgoAAAANSUhEUgAAAR4AAAAVBAMAAABiV5ySAAAAMFBMVEX////MzMxUVFREREQiIiK6\n",
       "uroQEBCYmJhmZmYyMjLu7u52dnaqqqqIiIjc3NwAAACFAiZ1AAAAAXRSTlMAQObYZgAAAAlwSFlz\n",
       "AAAOxAAADsQBlSsOGwAAArJJREFUSMellj2IU0EQgCc/5iW55OWhpcjlCsuDJwHlDpRXWJwiRxAJ\n",
       "XHWiyMFV0UMwhZj+LhhsrpHzgddYSOJxpUWKVwjXRBGuMfLQSiy0sTCVO7v7NnnJbLLgQHaX2Zlv\n",
       "ZjczmwBACPPEBlMJ4X+Exyn25tqd6RsCDVhz45xot/OXPbn6Ygg8MbQbkePC4uTberdcM1r4Yl7Q\n",
       "nP+9DNM2vQlFnlD7kK3rvUpReEu6H9IB8zfEPIulIceFxcnM8Nr0o9W2mE4v0mXzqMrnjHGljMhx\n",
       "2YaNGV7HarUvJu8caZdOuHzeMM7nWKPfh13ss92vZAe9GOzJ1REfC91cSJfxAZ9nsXTkuBzxk9fC\n",
       "1DDSZK9zKWNZ/PU7Mn5DlFtYIOvwAD6oWxxnxYUmx6UBt9juFmQ9yDcmNwtDKPWFOuCKswA3CUii\n",
       "DGleD4o1Ue40mTIK4AFLfAjpLlz4PHWgNnS6Qr3IFUsAAyKfpANFTleskeB9asiU0SIyMi50qtEd\n",
       "xB+JzZ5Q16Ln5ZDI5w3b8mQ+kqXEHd3uFJkwqsFLwFSfKa+xb7lUh+e+UAfRa5jt0a8hL0/FevJw\n",
       "UD5dmshnkkwZBXCVMXqwUginT1GqsmoQ6h3e1tg+xIuId/MDF4r1eAvuwSf9/XAyZbSDnZzrW2sL\n",
       "hFeynmpKdQuHpzhcYp9OG1sE5GBh7aQc8Spwlv3Wgz+8+zX5IJk0asEdRl1+9+0j4ZVv7UV26zis\n",
       "4nAeLwoLcA3kkMLeSmB5Klayn7jLui1bqdyvXNGRKaN1SDuRUUA/G6i2PaNXV7EyTtG1fzva+9EZ\n",
       "sThW0yAfwx9KxfrFDm+53dn5EEYY55rc/vmqRXlx9XfDn6WIdZs95fayL0NpyIQRxnltEGfVMJ9p\n",
       "lmvi5o7Hsed/F5bp3+JpVtPErTmK8w/HCd2eFb82EAAAAABJRU5ErkJggg==\n",
       "\" style=\"display:inline;vertical-align:middle;\" /></a></span></td></tr>\n",
       "</table>"
      ],
      "text/plain": [
       "<proveit._core_.proof._ShowProof at 0x23240380e48>"
      ]
     },
     "execution_count": 1,
     "metadata": {},
     "output_type": "execute_result"
    }
   ],
   "source": [
    "import proveit\n",
    "# Automation is not needed when only showing a stored proof:\n",
    "proveit.defaults.automation = False # This will speed things up.\n",
    "%show_proof"
   ]
  },
  {
   "cell_type": "code",
   "execution_count": null,
   "metadata": {},
   "outputs": [],
   "source": []
  }
 ],
 "metadata": {
  "kernelspec": {
   "display_name": "Python 3",
   "language": "python",
   "name": "python3"
  },
  "language_info": {
   "codemirror_mode": {
    "name": "ipython",
    "version": 3
   },
   "file_extension": ".py",
   "mimetype": "text/x-python",
   "name": "python",
   "nbconvert_exporter": "python",
   "pygments_lexer": "ipython3",
   "version": "3.7.4"
  }
 },
 "nbformat": 4,
 "nbformat_minor": 1
}
