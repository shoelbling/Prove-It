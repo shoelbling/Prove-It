{
 "cells": [
  {
   "cell_type": "markdown",
   "metadata": {},
   "source": [
    "Expression of type <a class=\"ProveItLink\" href=\"../../../../../../doc/html/api/proveit.logic.Forall.html\">Forall</a>\n",
    "=======================\n",
    "# from context <a class=\"ProveItLink\" href=\"../../_context_.ipynb\">proveit.core_expr_types.tuples</a>"
   ]
  },
  {
   "cell_type": "code",
   "execution_count": 1,
   "metadata": {},
   "outputs": [],
   "source": [
    "import proveit\n",
    "# Automation is not needed when building an expression:\n",
    "proveit.defaults.automation = False # This will speed things up.\n",
    "# import Expression classes needed to build the expression\n",
    "from proveit import Variable\n",
    "from proveit.logic import Equals, Forall"
   ]
  },
  {
   "cell_type": "code",
   "execution_count": 2,
   "metadata": {},
   "outputs": [
    {
     "data": {
      "text/html": [
       "<strong id=\"expr\">expr:</strong> <a class=\"ProveItLink\" href=\"expr.ipynb\"><img src=\"data:image/png;base64,iVBORw0KGgoAAAANSUhEUgAAAGIAAAAVBAMAAABPrCZEAAAAMFBMVEX///+IiIgiIiIQEBB2dnbu\n",
       "7u5UVFTMzMzc3NwyMjK6urpmZmaYmJiqqqpEREQAAACk/Np2AAAAAXRSTlMAQObYZgAAAAlwSFlz\n",
       "AAAOxAAADsQBlSsOGwAAAU9JREFUOMtjYMAEDQw4AQdWUcYLuHVwCTAwPAAx7iCLXmHAA2QZGHaB\n",
       "6BlIYqwT8OngDGAoA7nuAZIY9wF8Ong2gDQxsCC7nJkBLzBl4AEayYkstBK/jjkMDEZKSibIQluA\n",
       "OFAs3AU9xKBibgwM2xkYnqIZwrCBMZFbAeQnJTBIYECInWRgaGPgSEDWoQv0XgPjDza0AICJXWJg\n",
       "4AtgWYAsZcXAwM7AhxHEMLF6BgZeARSPg3QwMPALYPoZIrYYiCccBBKCO7yhyWkuiFjfwBqA5g+o\n",
       "GNBVDL5TgWmpIY8TGjgPGRjiFuQzsKDZABM7B8TNQCN4GB6yQ6WAwXe/dDPDWjQdMLGNQMxXABL5\n",
       "DpNaxMAQLci7Bz06YGIa8KD4AEv6TAX4opxDAcpoZpnAgkhreAA8nYadcnSFCb7Ap6MPm2AcPh1P\n",
       "sToVTwbhaWAAADs5S8OycnLnAAAAAElFTkSuQmCC\n",
       "\" style=\"display:inline;vertical-align:middle;\" /></a><br>"
      ],
      "text/plain": [
       "expr: forall_{x} (x = x)"
      ]
     },
     "execution_count": 2,
     "metadata": {},
     "output_type": "execute_result"
    }
   ],
   "source": [
    "# build up the expression from sub-expressions\n",
    "subExpr1 = Variable(\"x\")\n",
    "expr = Forall([subExpr1], Equals(subExpr1, subExpr1))"
   ]
  },
  {
   "cell_type": "code",
   "execution_count": 3,
   "metadata": {},
   "outputs": [
    {
     "name": "stdout",
     "output_type": "stream",
     "text": [
      "Passed sanity check: built 'expr' is the same as the stored Expression.\n"
     ]
    }
   ],
   "source": [
    "# check that the built expression is the same as the stored expression\n",
    "%check_expr"
   ]
  },
  {
   "cell_type": "code",
   "execution_count": 4,
   "metadata": {},
   "outputs": [
    {
     "name": "stdout",
     "output_type": "stream",
     "text": [
      "\\forall_{x}~\\left(x = x\\right)\n"
     ]
    }
   ],
   "source": [
    "# Show the LaTeX representation of the expression for convenience if you need it.\n",
    "print(expr.latex())"
   ]
  },
  {
   "cell_type": "code",
   "execution_count": 5,
   "metadata": {},
   "outputs": [
    {
     "data": {
      "text/html": [
       "<table><tr><th>&nbsp;</th><th>core type</th><th>sub-expressions</th><th>expression</th></tr>\n",
       "<tr><td>0</td><td>Operation</td><td>operator:&nbsp;1<br>operand:&nbsp;2<br></td><td><a class=\"ProveItLink\" href=\"expr.ipynb\"><img src=\"data:image/png;base64,iVBORw0KGgoAAAANSUhEUgAAAGIAAAAVBAMAAABPrCZEAAAAMFBMVEX///+IiIgiIiIQEBB2dnbu\n",
       "7u5UVFTMzMzc3NwyMjK6urpmZmaYmJiqqqpEREQAAACk/Np2AAAAAXRSTlMAQObYZgAAAAlwSFlz\n",
       "AAAOxAAADsQBlSsOGwAAAU9JREFUOMtjYMAEDQw4AQdWUcYLuHVwCTAwPAAx7iCLXmHAA2QZGHaB\n",
       "6BlIYqwT8OngDGAoA7nuAZIY9wF8Ong2gDQxsCC7nJkBLzBl4AEayYkstBK/jjkMDEZKSibIQluA\n",
       "OFAs3AU9xKBibgwM2xkYnqIZwrCBMZFbAeQnJTBIYECInWRgaGPgSEDWoQv0XgPjDza0AICJXWJg\n",
       "4AtgWYAsZcXAwM7AhxHEMLF6BgZeARSPg3QwMPALYPoZIrYYiCccBBKCO7yhyWkuiFjfwBqA5g+o\n",
       "GNBVDL5TgWmpIY8TGjgPGRjiFuQzsKDZABM7B8TNQCN4GB6yQ6WAwXe/dDPDWjQdMLGNQMxXABL5\n",
       "DpNaxMAQLci7Bz06YGIa8KD4AEv6TAX4opxDAcpoZpnAgkhreAA8nYadcnSFCb7Ap6MPm2AcPh1P\n",
       "sToVTwbhaWAAADs5S8OycnLnAAAAAElFTkSuQmCC\n",
       "\" style=\"display:inline;vertical-align:middle;\" /></a></td></tr>\n",
       "<tr><td>1</td><td>Literal</td><td></td><td><a class=\"ProveItLink\" href=\"../../../../logic/boolean/quantification/universal/__pv_it/fd9c772d6675566ed52a6897806f45eb08a4ea910/expr.ipynb\"><img src=\"data:image/png;base64,iVBORw0KGgoAAAANSUhEUgAAAAwAAAAOBAMAAADpk+DfAAAAMFBMVEX///+IiIgiIiIQEBB2dnbu\n",
       "7u5UVFTMzMzc3NwyMjK6urpmZmaYmJiqqqpEREQAAACk/Np2AAAAAXRSTlMAQObYZgAAAAlwSFlz\n",
       "AAAOxAAADsQBlSsOGwAAAFNJREFUCNdjeMAABHcYdoGoGQxlQJLjAQNnAAMDywUGngMMDJxAESMl\n",
       "JRMgtZ2B4SmQamPgSABSfAEsC4AUrwBIBQPDhINgyncqmGpOAFN8BQwMAB49Dl+s5gmkAAAAAElF\n",
       "TkSuQmCC\n",
       "\" style=\"display:inline;vertical-align:middle;\" /></a></td></tr>\n",
       "<tr><td>2</td><td>Lambda</td><td>parameter:&nbsp;6<br>body:&nbsp;3<br></td><td><a class=\"ProveItLink\" href=\"../26672e2bd73fb309dc3355ba1f6c7dd3060d11010/expr.ipynb\"><img src=\"data:image/png;base64,iVBORw0KGgoAAAANSUhEUgAAAG4AAAAVCAMAAACQYCvLAAAANlBMVEX///8WFhYNDQ0QEBC6uroy\n",
       "MjJERETc3NyYmJgiIiJmZmaqqqp2dnbMzMxUVFSIiIju7u4AAAANq5mNAAAAAXRSTlMAQObYZgAA\n",
       "AAlwSFlzAAAOxAAADsQBlSsOGwAAAS5JREFUSMe9Vdt2xCAIpF013sH//9mSpG2C0e4J25YXTc6M\n",
       "XAYR4LYtoDIlDZOOZ1DDShng/+IkC2qzdJsSvd6dj88r0Cn8gBfsMUpP/EsyImNfcWfX0hBipZLz\n",
       "l5JBQORX/GyUnjOVWuByXY/gklWEGIYOkrvEN+Dw7mT1CE/gPNfGszrYFqh+6A7Qnaob9jAvnFlz\n",
       "SFziowuv7izJ+1sQ1po5xN63F87EOlxp+9pwqhZ3h4He3YXzg51wZu9rw/kC0dBdEZfTfveG5My0\n",
       "kzguJjkDdU0yj7Oz4uK5LdQrZ9KXHc47SK1Q5CTNEbcopbx3WysPOJP52uEiAkVEvsx+woxFCrml\n",
       "/oRzZNfhwu1HKBT9UFnCX4zZXx3vblEn5xQkclp3jlRBKl+8daDBB2qlDRFYHLXIAAAAAElFTkSu\n",
       "QmCC\n",
       "\" style=\"display:inline;vertical-align:middle;\" /></a></td></tr>\n",
       "<tr><td>3</td><td>Operation</td><td>operator:&nbsp;4<br>operands:&nbsp;5<br></td><td><a class=\"ProveItLink\" href=\"../d6ec3d08f9f498c3fa5eb80ca13354a07b172dd70/expr.ipynb\"><img src=\"data:image/png;base64,iVBORw0KGgoAAAANSUhEUgAAADMAAAAJBAMAAABtbgnSAAAAMFBMVEX///8QEBC6uroyMjJERETc\n",
       "3NyYmJgiIiJmZmaqqqp2dnbMzMxUVFSIiIju7u4AAAAoIwv1AAAAAXRSTlMAQObYZgAAAAlwSFlz\n",
       "AAAOxAAADsQBlSsOGwAAAF9JREFUCNdjYHh75/WqCQyoACrWwHuWowDI5SgHgwMgKYgYWwDvV54E\n",
       "VE1QMW4GFgM04xBi/BcYMABUTD+A7wGaXRCxJwrnGbjQ9EDF5u9rZNBEk4KKvbjL2YbuLYgYAJcp\n",
       "KNMRaFOnAAAAAElFTkSuQmCC\n",
       "\" style=\"display:inline;vertical-align:middle;\" /></a></td></tr>\n",
       "<tr><td>4</td><td>Literal</td><td></td><td><a class=\"ProveItLink\" href=\"../../../../logic/equality/__pv_it/e16d2caa26a16688b658bdb9c422caf4b84579e10/expr.ipynb\"><img src=\"data:image/png;base64,iVBORw0KGgoAAAANSUhEUgAAAA4AAAAFBAMAAACHocAhAAAAD1BMVEX///9UVFQiIiJmZmYAAACP\n",
       "OqLZAAAAAXRSTlMAQObYZgAAAAlwSFlzAAAOxAAADsQBlSsOGwAAABJJREFUCNdjMFICAUUGXAAq\n",
       "DwAoFgH7Aeay4gAAAABJRU5ErkJggg==\n",
       "\" style=\"display:inline;vertical-align:middle;\" /></a></td></tr>\n",
       "<tr><td>5</td><td>ExprTuple</td><td>6, 6</td><td><a class=\"ProveItLink\" href=\"../72b278877f19a3aa678fd9725fbad8f0b84e12480/expr.ipynb\"><img src=\"data:image/png;base64,iVBORw0KGgoAAAANSUhEUgAAAC0AAAAVBAMAAAAgHXppAAAAMFBMVEX////MzMxUVFREREQiIiK6\n",
       "uroQEBCYmJhmZmYyMjLu7u52dnaqqqqIiIjc3NwAAACFAiZ1AAAAAXRSTlMAQObYZgAAAAlwSFlz\n",
       "AAAOxAAADsQBlSsOGwAAARFJREFUGNNjYGB4wIAOwCK8BzDEY0HEaQxhsFKuCZjiDLMYGDgKsIhX\n",
       "MDCwYRFmYFvAEIlNnLOAoRtIrb20cDfEVVx3taT3MDBwKzBMB/IaeHU5HMDiHAyXLrQwMLBPYPAB\n",
       "kg94/zFBrK9juP9AnYGBx4EhlYGBkYEZ5lgBBksQxfgBJM7AwH8BbuVfEMGawDAHRMc/4FoAEWb9\n",
       "x7AKbI4tA8PiAH0GbgYGoAyXKdMHhg1AGw0YNjEwnJdqY4hh4PoJVPdxRQIr0MUcFxhCGBhW3OVp\n",
       "B3JcFjBw9V44UQM0jeUBA4sAzEaeBXDLnwCNaoBxuBHh0A7EdjDOWrgwnwGQWAzjIQKcGWQiH2YE\n",
       "1DEwAABvODruKUQwjAAAAABJRU5ErkJggg==\n",
       "\" style=\"display:inline;vertical-align:middle;\" /></a></td></tr>\n",
       "<tr><td>6</td><td>Variable</td><td></td><td><a class=\"ProveItLink\" href=\"../72df168d2bfb4e0140af90912ebf83b13772060b0/expr.ipynb\"><img src=\"data:image/png;base64,iVBORw0KGgoAAAANSUhEUgAAAAsAAAAJBAMAAAAWSsseAAAAMFBMVEX///8QEBC6uroyMjJERETc\n",
       "3NyYmJgiIiJmZmaqqqp2dnbMzMxUVFSIiIju7u4AAAAoIwv1AAAAAXRSTlMAQObYZgAAAAlwSFlz\n",
       "AAAOxAAADsQBlSsOGwAAAENJREFUCNdjYHh75/WqCQwMDbxnOQoY2AJ4v/IkMHAzsBgwgAD/BTCl\n",
       "H8D3gOGJwnkGLgaG+fsaGTQZGF7c5WybwAAAJGsQ2L2rVEcAAAAASUVORK5CYII=\n",
       "\" style=\"display:inline;vertical-align:middle;\" /></a></td></tr>\n",
       "</table>\n"
      ],
      "text/plain": [
       "0. forall_{x} (x = x)\n",
       "   core type: Operation\n",
       "   operator: 1\n",
       "   operand: 2\n",
       "1. forall\n",
       "   core type: Literal\n",
       "   sub-expressions: \n",
       "2. x -> (x = x)\n",
       "   core type: Lambda\n",
       "   parameter: 6\n",
       "   body: 3\n",
       "3. x = x\n",
       "   core type: Operation\n",
       "   operator: 4\n",
       "   operands: 5\n",
       "4. =\n",
       "   core type: Literal\n",
       "   sub-expressions: \n",
       "5. (x , x)\n",
       "   core type: ExprTuple\n",
       "   sub-expressions: 6, 6\n",
       "6. x\n",
       "   core type: Variable\n",
       "   sub-expressions: "
      ]
     },
     "execution_count": 5,
     "metadata": {},
     "output_type": "execute_result"
    }
   ],
   "source": [
    "# display the expression information\n",
    "expr.exprInfo()"
   ]
  },
  {
   "cell_type": "code",
   "execution_count": null,
   "metadata": {},
   "outputs": [],
   "source": []
  }
 ],
 "metadata": {
  "kernelspec": {
   "display_name": "Python 3",
   "language": "python",
   "name": "python3"
  },
  "language_info": {
   "codemirror_mode": {
    "name": "ipython",
    "version": 3
   },
   "file_extension": ".py",
   "mimetype": "text/x-python",
   "name": "python",
   "nbconvert_exporter": "python",
   "pygments_lexer": "ipython3",
   "version": "3.7.4"
  }
 },
 "nbformat": 4,
 "nbformat_minor": 1
}
