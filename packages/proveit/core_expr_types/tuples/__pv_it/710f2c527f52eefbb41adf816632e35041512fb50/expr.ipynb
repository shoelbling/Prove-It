{
 "cells": [
  {
   "cell_type": "markdown",
   "metadata": {},
   "source": [
    "Expression of type <a class=\"ProveItLink\" href=\"../../../../../../doc/html/api/proveit.Lambda.html\">Lambda</a>\n",
    "=======================\n",
    "# from context <a class=\"ProveItLink\" href=\"../../_context_.ipynb\">proveit.core_expr_types.tuples</a>"
   ]
  },
  {
   "cell_type": "code",
   "execution_count": 1,
   "metadata": {},
   "outputs": [],
   "source": [
    "import proveit\n",
    "# Automation is not needed when building an expression:\n",
    "proveit.defaults.automation = False # This will speed things up.\n",
    "# import Expression classes needed to build the expression\n",
    "from proveit import Conditional, Lambda, Variable\n",
    "from proveit.logic import And, Equals"
   ]
  },
  {
   "cell_type": "code",
   "execution_count": 2,
   "metadata": {},
   "outputs": [
    {
     "data": {
      "text/html": [
       "<strong id=\"expr\">expr:</strong> <a class=\"ProveItLink\" href=\"expr.ipynb\"><img src=\"data:image/png;base64,iVBORw0KGgoAAAANSUhEUgAAAO8AAAAyCAMAAACDDnx6AAAANlBMVEX///8WFhYNDQ3MzMxUVFRE\n",
       "REQiIiK6uroQEBCYmJhmZmYyMjLu7u52dnaqqqqIiIjc3NwAAACgirQNAAAAAXRSTlMAQObYZgAA\n",
       "AAlwSFlzAAAOxAAADsQBlSsOGwAABG1JREFUaN7NWtuWqyAMdYb7RS7//7OnCioIKNhmTnnodDmr\n",
       "kp1skp3oNEEtzKZvWZpo8D2wKLdlQy6wlKLLK67xvVxIQQPGc2m/Mje7Cps6ZK54J71mTfIPZi/v\n",
       "bCgsXFHe3/gWWscDF5RBnnXjNfPKVE4r6MslMSRc51FpatPFzMvoI4d1Ddtsymtahb9Kxgs3lKUC\n",
       "EC+dpwG8U7AU40YsNVUlXhnt95svhLxmNIc7woJPQ3jjkZcNvFbsuf7Ayzdu7DBuACkJhpfPH8VL\n",
       "J0TO15gq7qquGcu8A4Jrq5npsMzJ2bojnzrFX0xGmPOc0Ru2JTEpd8Iro0sVtlYGSs83KQkswLS6\n",
       "sdwOIeMv40nqk/CD1vldsBp5whuDqf0rTekQOaGuzWoXiPcWqiTnJWVHuum1+siU3eQKL1ovU33i\n",
       "uEkweNtTY7W3MFKjkq0QpjsTVxOzDH6JF6/eszbHy9lBGu3n4OcbwwiM6OA1Omu51UdOVhNZJ95Y\n",
       "ZzWt4l3PJAs1ifG7sgGSsZCv58kAKgZD+KkT76Y1QlI6zm+4vO4VGHOvGfVm2R3sIbfMDS/G/KzX\n",
       "YBA1GdeFl+5ZPMNLAr8XmugoRwXpZN6N9LwV46c4Nmi11SNlF+kop+QAE3J8nvCKfWuCUryx+Cxd\n",
       "GIm5W9okkqp9gM3cbBs7xXjuRHKNV2M7I4ftnsQR4Zzo16cntsB7dK5ozvRGZIvcqu+LCQmvqKxT\n",
       "LxHelyW6v3/UXl7j7T8Yl/3RuTee3P39xUJ/eSHDesV4lq7sn+AtLJKizzZ+JTlvxbh1hYppcN/y\n",
       "j+KdSL6zI33cYxd0rovxDLmRBWdQYzNuPopX5wC7RlQe78L7rOLbYjznJS2ahVb1chIPIZ4r8yue\n",
       "+MClBBZdNdOTPXClim+J8RyhOVcRDz8LfC791Ca8Kyq+JcZPEbU5k+Q346V0F96lim+J8d8fmi2f\n",
       "aWHspy/Gyze8FRXfEuOn+DKV/ejb8QbhXVPxLTGe4z2Pst/j8+BI/gGfg4bLVPxmcEOM53iV62sX\n",
       "+iZBgyP5B/kqFppExe9iuyHGsw2ZLOoRemzO0Ej+UPdDrfkmvBMVT+PwpCXGM/qiXr3RVXHbSq8y\n",
       "kh8fwC13oaV9Jakc7Y8RA8BbHcl7M5odlixVaQXKBlF2P41ojTfexBtPmKyr+6FehpypqosOp0eM\n",
       "p5z5E7zDDVfsZfQZTBmgkefFVH0Ab89IPlH3vek/1A53x0AxUmLwfd8nU3mGT4KuLubLkXyq7ntN\n",
       "g9BC4rHgGBvJp+r+zVHTWwsNp834u8GRfKrue/0J8oCBP3yUPjiST9V9L/NAnhBK/vT8Do3kU3Xf\n",
       "eXxhnqewx4pjaCSfqvvOSgnzvKwx/B2oR10j+VTdT80R+0cSKdSNh0byqbrv8jIFe0WHz+/hBTpm\n",
       "UO8zPA4wKF4C+AaWehbg4ZH8UHgB54iIP+LO8Eh+5IwZQO5M9lnTMDqSH6i9oO8TVt8X/Z/LKOgd\n",
       "iPgiuPDvA78Af9H73gfcf1ptMRhFG3+cAAAAAElFTkSuQmCC\n",
       "\" style=\"display:inline;vertical-align:middle;\" /></a><br>"
      ],
      "text/plain": [
       "expr: (a, b) -> ({a if [and](b). \\\\  = {a if b.)"
      ]
     },
     "execution_count": 2,
     "metadata": {},
     "output_type": "execute_result"
    }
   ],
   "source": [
    "# build up the expression from sub-expressions\n",
    "subExpr1 = Variable(\"a\")\n",
    "subExpr2 = Variable(\"b\")\n",
    "expr = Lambda([subExpr1, subExpr2], Equals(Conditional(subExpr1, And(subExpr2)), Conditional(subExpr1, subExpr2)).withWrappingAt(1))"
   ]
  },
  {
   "cell_type": "code",
   "execution_count": 3,
   "metadata": {},
   "outputs": [
    {
     "name": "stdout",
     "output_type": "stream",
     "text": [
      "Passed sanity check: built 'expr' is the same as the stored Expression.\n"
     ]
    }
   ],
   "source": [
    "# check that the built expression is the same as the stored expression\n",
    "%check_expr"
   ]
  },
  {
   "cell_type": "code",
   "execution_count": 4,
   "metadata": {},
   "outputs": [
    {
     "name": "stdout",
     "output_type": "stream",
     "text": [
      "\\left(a, b\\right) \\mapsto \\left(\\begin{array}{c} \\left\\{a \\textrm{ if } \\left[\\land\\right]\\left(b\\right)\\right.. \\\\  = \\left\\{a \\textrm{ if } b\\right.. \\end{array}\\right)\n"
     ]
    }
   ],
   "source": [
    "# Show the LaTeX representation of the expression for convenience if you need it.\n",
    "print(expr.latex())"
   ]
  },
  {
   "cell_type": "code",
   "execution_count": 5,
   "metadata": {},
   "outputs": [
    {
     "data": {
      "text/html": [
       "<table><tr><th>&nbsp;</th><th>core type</th><th>sub-expressions</th><th>expression</th></tr>\n",
       "<tr><td>0</td><td>Lambda</td><td>parameters:&nbsp;1<br>body:&nbsp;2<br></td><td><a class=\"ProveItLink\" href=\"expr.ipynb\"><img src=\"data:image/png;base64,iVBORw0KGgoAAAANSUhEUgAAAO8AAAAyCAMAAACDDnx6AAAANlBMVEX///8WFhYNDQ3MzMxUVFRE\n",
       "REQiIiK6uroQEBCYmJhmZmYyMjLu7u52dnaqqqqIiIjc3NwAAACgirQNAAAAAXRSTlMAQObYZgAA\n",
       "AAlwSFlzAAAOxAAADsQBlSsOGwAABG1JREFUaN7NWtuWqyAMdYb7RS7//7OnCioIKNhmTnnodDmr\n",
       "kp1skp3oNEEtzKZvWZpo8D2wKLdlQy6wlKLLK67xvVxIQQPGc2m/Mje7Cps6ZK54J71mTfIPZi/v\n",
       "bCgsXFHe3/gWWscDF5RBnnXjNfPKVE4r6MslMSRc51FpatPFzMvoI4d1Ddtsymtahb9Kxgs3lKUC\n",
       "EC+dpwG8U7AU40YsNVUlXhnt95svhLxmNIc7woJPQ3jjkZcNvFbsuf7Ayzdu7DBuACkJhpfPH8VL\n",
       "J0TO15gq7qquGcu8A4Jrq5npsMzJ2bojnzrFX0xGmPOc0Ru2JTEpd8Iro0sVtlYGSs83KQkswLS6\n",
       "sdwOIeMv40nqk/CD1vldsBp5whuDqf0rTekQOaGuzWoXiPcWqiTnJWVHuum1+siU3eQKL1ovU33i\n",
       "uEkweNtTY7W3MFKjkq0QpjsTVxOzDH6JF6/eszbHy9lBGu3n4OcbwwiM6OA1Omu51UdOVhNZJ95Y\n",
       "ZzWt4l3PJAs1ifG7sgGSsZCv58kAKgZD+KkT76Y1QlI6zm+4vO4VGHOvGfVm2R3sIbfMDS/G/KzX\n",
       "YBA1GdeFl+5ZPMNLAr8XmugoRwXpZN6N9LwV46c4Nmi11SNlF+kop+QAE3J8nvCKfWuCUryx+Cxd\n",
       "GIm5W9okkqp9gM3cbBs7xXjuRHKNV2M7I4ftnsQR4Zzo16cntsB7dK5ozvRGZIvcqu+LCQmvqKxT\n",
       "LxHelyW6v3/UXl7j7T8Yl/3RuTee3P39xUJ/eSHDesV4lq7sn+AtLJKizzZ+JTlvxbh1hYppcN/y\n",
       "j+KdSL6zI33cYxd0rovxDLmRBWdQYzNuPopX5wC7RlQe78L7rOLbYjznJS2ahVb1chIPIZ4r8yue\n",
       "+MClBBZdNdOTPXClim+J8RyhOVcRDz8LfC791Ca8Kyq+JcZPEbU5k+Q346V0F96lim+J8d8fmi2f\n",
       "aWHspy/Gyze8FRXfEuOn+DKV/ejb8QbhXVPxLTGe4z2Pst/j8+BI/gGfg4bLVPxmcEOM53iV62sX\n",
       "+iZBgyP5B/kqFppExe9iuyHGsw2ZLOoRemzO0Ej+UPdDrfkmvBMVT+PwpCXGM/qiXr3RVXHbSq8y\n",
       "kh8fwC13oaV9Jakc7Y8RA8BbHcl7M5odlixVaQXKBlF2P41ojTfexBtPmKyr+6FehpypqosOp0eM\n",
       "p5z5E7zDDVfsZfQZTBmgkefFVH0Ab89IPlH3vek/1A53x0AxUmLwfd8nU3mGT4KuLubLkXyq7ntN\n",
       "g9BC4rHgGBvJp+r+zVHTWwsNp834u8GRfKrue/0J8oCBP3yUPjiST9V9L/NAnhBK/vT8Do3kU3Xf\n",
       "eXxhnqewx4pjaCSfqvvOSgnzvKwx/B2oR10j+VTdT80R+0cSKdSNh0byqbrv8jIFe0WHz+/hBTpm\n",
       "UO8zPA4wKF4C+AaWehbg4ZH8UHgB54iIP+LO8Eh+5IwZQO5M9lnTMDqSH6i9oO8TVt8X/Z/LKOgd\n",
       "iPgiuPDvA78Af9H73gfcf1ptMRhFG3+cAAAAAElFTkSuQmCC\n",
       "\" style=\"display:inline;vertical-align:middle;\" /></a></td></tr>\n",
       "<tr><td>1</td><td>ExprTuple</td><td>8, 10</td><td><a class=\"ProveItLink\" href=\"../a4c691cef8b745e7bb8b7b885f462bedd8b31be30/expr.ipynb\"><img src=\"data:image/png;base64,iVBORw0KGgoAAAANSUhEUgAAACkAAAAVBAMAAAAp9toTAAAAMFBMVEX////MzMxUVFREREQiIiK6\n",
       "uroQEBCYmJhmZmYyMjLu7u52dnaqqqqIiIjc3NwAAACFAiZ1AAAAAXRSTlMAQObYZgAAAAlwSFlz\n",
       "AAAOxAAADsQBlSsOGwAAARFJREFUGNNdkbFOhEAQhj8FATnk7hF8ARMqEwsNpTEWVxiTK8xdY2wp\n",
       "rfQ6i9NIbEyMBYkPABofgFobfAANMT6ArVTOApvAkeww8+3w7z8LUNJ/6nojX6InKrx3gLsdNm1u\n",
       "3O1bn0t4ACfq0qGSOwerpzlNJFgJkx59rWUiFvLyF19FQ+8+r2Gwyb3kx6VRNR7+krTEjjmU/Awn\n",
       "rKlXMSzwQk7FRoWZ1dSJSTNWfhW1AtKxtjvNWZvxiNq+bO1G3CZKYVdozo5XuoqO5QzsgBf5rrD3\n",
       "B6Qy+mpkyMhOwZF42Hr+/sA8kOxG7GKWmCM915tOfkRkrotMJ1ey9vTdtkPjBxKe2sLWrYa6Nz9a\n",
       "+kMX8A+nBjzFoJaLpgAAAABJRU5ErkJggg==\n",
       "\" style=\"display:inline;vertical-align:middle;\" /></a></td></tr>\n",
       "<tr><td>2</td><td>Operation</td><td>operator:&nbsp;3<br>operands:&nbsp;4<br></td><td><a class=\"ProveItLink\" href=\"../af01e38a58ba684f6b5896325db168dfc032b3af0/expr.ipynb\"><img src=\"data:image/png;base64,iVBORw0KGgoAAAANSUhEUgAAAHEAAAAuBAMAAADtiOvBAAAAMFBMVEX///8QEBBERERUVFTMzMyY\n",
       "mJjc3NxmZmYiIiJ2dnaqqqoyMjKIiIi6urru7u4AAAAvZeGPAAAAAXRSTlMAQObYZgAAAAlwSFlz\n",
       "AAAOxAAADsQBlSsOGwAAAtBJREFUSMftlU1oE0EUx1/S7G6STbZfVEQQExU9WGpERZEokoDgyZy0\n",
       "h4IrPVRQcEEE2whGPLQKSkAPPXjYgwhedEWkEKRE8AOxQrwJKk2r0F4kRahiaoNvZnY2u3aTbHP2\n",
       "sR9vhvnN/GfevBkAUL6Am0Umjjod1fZl9u6RExHe01+oxCuYF9Fp4XO9Ybhmo85kAAonSm7kQ1Di\n",
       "OasDWp+zkbMaCLnhstU+pHNPMQBkDZ1pd1IB6EjYRlo0uCehmk7Szyl3Eq1Ds5GvDnPPRxQRMb6y\n",
       "JzKX4t4nfCdJvZxxkCP3zhNffJII7OlNWGQ4L6smOYrv05kxLCU4KeFUohtgNxURTDjmKathzSSf\n",
       "4SKslCsqCAYnL+Docxm4TAt+J5kGuG2SN2n8OosQ5rNL38LP1TLccCP3AcyY5GaqrpKHwBKPQxZl\n",
       "9oCy6kKSGC7WSQznrA7RLq4WGyu/QVhyIck+kHRGFjCcGSLOUkvWVqmC33iwlgyS5TYY2Y9kSenD\n",
       "bR2zR+U5DGp5SsbIw8kh8t/OyDsY6YwfV1oqktqKwcivb48lSSoF4j3f4j+KnBwg/+OM/IhLcmWM\n",
       "BI7mWVBbu4ecGWJ5QTNb4WzDfduAFMxNCZfqud/liYQdrCDG6om1yRs5bwaxXG8ycsidtM6ha5QU\n",
       "WY6chP8G8L3UJhgplJ0VQ157emwDRcwO+T5J3vmNrclJmx/9BTAoHiHu1PpIwPH3Mq+6ThLtABu9\n",
       "1i7ZKKf+JcXR1zTBz/VCupvKlZNvdJfG0gQ1dgRl8f2g+pm663yelWnlZ4shxWVMvT6QmLptnMRY\n",
       "/WkOBg5i3KUaBPNOMksO1+a2gHerLwaVkpOcgmi11TyxMd4Cp8FJLhMhrde2osOusOogV8m91ZqU\n",
       "i8J4iBa20gdtP+ykx9ZKc1JJ3h1+SfxU90BqSz+dvhnO8XXsIe/WPvmibXJOb5cUL3pB/wIiZdJa\n",
       "6QHxtQAAAABJRU5ErkJggg==\n",
       "\" style=\"display:inline;vertical-align:middle;\" /></a></td></tr>\n",
       "<tr><td>3</td><td>Literal</td><td></td><td><a class=\"ProveItLink\" href=\"../../../../logic/equality/__pv_it/e16d2caa26a16688b658bdb9c422caf4b84579e10/expr.ipynb\"><img src=\"data:image/png;base64,iVBORw0KGgoAAAANSUhEUgAAAA4AAAAFBAMAAACHocAhAAAAD1BMVEX///9UVFQiIiJmZmYAAACP\n",
       "OqLZAAAAAXRSTlMAQObYZgAAAAlwSFlzAAAOxAAADsQBlSsOGwAAABJJREFUCNdjMFICAUUGXAAq\n",
       "DwAoFgH7Aeay4gAAAABJRU5ErkJggg==\n",
       "\" style=\"display:inline;vertical-align:middle;\" /></a></td></tr>\n",
       "<tr><td>4</td><td>ExprTuple</td><td>5, 6</td><td><a class=\"ProveItLink\" href=\"../b9456e3bee155655e771e35235699e84d8b711df0/expr.ipynb\"><img src=\"data:image/png;base64,iVBORw0KGgoAAAANSUhEUgAAAKUAAAAVBAMAAADVzzOcAAAAMFBMVEX////MzMxUVFREREQiIiK6\n",
       "uroQEBCYmJhmZmYyMjLu7u52dnaqqqqIiIjc3NwAAACFAiZ1AAAAAXRSTlMAQObYZgAAAAlwSFlz\n",
       "AAAOxAAADsQBlSsOGwAAAnZJREFUOMuNlU9oE0EUh3+bTbrJ5i/2rqEHEaEQFAIK1Sg9KHrIQQQP\n",
       "Emlpe9NFevBizUHw0IjBg4LUsioIHiRR9KYQb0JAIuhJlFBE7EEoSEGjB9+bnZnNNpuYYcm+zHz5\n",
       "dubNyyyALsJaejbnBR+Oefdu3+eIJoB0K9h5tSxuybLqeIk+7Hy4yfqoIgG0/ZHMEpB4sx3qbMMu\n",
       "lgZnQO2bA6ztIVwDdt0fjf0CljP7fecr7WQsUaXg3oCzUoVV2nDhA3Gnb5gGpmTITvukdjKW5Tle\n",
       "GXDaQCQvIgVM7CD29TnTl8vKyViF5zLhhqQzUvVmLIFzI5xRo6CcjL3gIOEMdypglfdm9UuHv27O\n",
       "YdfilO9sY105Gbv9uUb9eSX6/vqH2Ng7eWPvnOhVwF2Kz3bNnsCOB/O5jrfKSZj92210Yak9jV3E\n",
       "UZGHaF7mUwOnKV5CvCS4AwGnkUfUlU7CUj1kO0iVJPDYwXURmMqpgQXa0x6izRBnJId0RzoZq6PR\n",
       "hLElgVsuTgWdGiB4ooBGOcT5hJZQ8p1UfZUWYhckMA97O+jUwBpYfg0hTq74mnQSlnV4bmrt9h9Y\n",
       "W0GnBmbI2cKhVHfQyb/elE7CsmVKPKyC99+w/8Ksvws6FfCc5tyxTiSF6KC4pNPi+jJznpOwiGNS\n",
       "GcY7vMHUcx/LVbELZoEv9AFnCJl+tvGeOycXD09emlFOkyvFaHpOxm7WuHJ4QbM09PDT7mk+Do3i\n",
       "/IPiT36+BqK58NNrx7mksa+iatzhBygBVnUsp8ZuiMERhzIDR8ZyKiwjMvd0uFIAj8ZzSkwkGc5w\n",
       "pwAy4UBSv48WvOd72Mr/3kcE/ANU/7MqW/TW4wAAAABJRU5ErkJggg==\n",
       "\" style=\"display:inline;vertical-align:middle;\" /></a></td></tr>\n",
       "<tr><td>5</td><td>Conditional</td><td>value:&nbsp;8<br>condition:&nbsp;7<br></td><td><a class=\"ProveItLink\" href=\"../3b0029bb4106165642568dc3e5c718004f2330a80/expr.ipynb\"><img src=\"data:image/png;base64,iVBORw0KGgoAAAANSUhEUgAAAHEAAAAVBAMAAACDNRyvAAAAMFBMVEX///8QEBBERERUVFTMzMyY\n",
       "mJjc3NxmZmYiIiJ2dnaqqqoyMjKIiIi6urru7u4AAAAvZeGPAAAAAXRSTlMAQObYZgAAAAlwSFlz\n",
       "AAAOxAAADsQBlSsOGwAAAd5JREFUOMuNlDtIw0AYx78+0nfTUtFBEFoQJ9EITqIgFgQnM6mDQ8Wh\n",
       "DoJZBK2CdVNBKbg4OHQSXCQiLkWki4NYoaOg0vgYurW4qSh+d5fLg0bokdx9d7lf8r/vEQAQn8Gp\n",
       "RXbG7UbG0rN2d2ZHhHs6BKt8gVmRIp08mRtDvxZqQQYoTVedyFMQU3njBXQ9byFrCgj5Rc3YHyxy\n",
       "S1QBwgoa186kCOCRLF+qq9zyo5oYec+sM4nNo1jImzFuuYgiIsaltUXmJ7j1iPcRWQ/LNjJ7vExs\n",
       "37nkHeqQDDJUCGd0ch3vi0oOZxIn/XiUaBcMUhEByXbOcCak6OQlOuFba2RAUDm5gl9/kWGNTtx2\n",
       "Mg1woJN7NH6xMoT46dL72G1psOtEDgNUdLKHqmsUwNvkcdhAmQkQfxxIEsO6SWI4a0WIxrla3Cx+\n",
       "gtB0IEke+IuMLGE4ZSLOUEt8K36BWz1pJQPE3Soj+5Gsip2Y1klrVK5gTilQMkkuTs6TsZeRhxhp\n",
       "2Y2e9pfJakNl5Nvt5CgpJW8q8Z76KHNygIxTjHxAl2zmSOBonQWU1hyyV4hhBfRqhaV/8/YfUtCT\n",
       "ElbN2o+3RUIfm/iSZmF1t0e+6kHUzC3ZEWfS+A9tU9LHamSGP/8DxKiHp1h4UrgAAAAASUVORK5C\n",
       "YII=\n",
       "\" style=\"display:inline;vertical-align:middle;\" /></a></td></tr>\n",
       "<tr><td>6</td><td>Conditional</td><td>value:&nbsp;8<br>condition:&nbsp;10<br></td><td><a class=\"ProveItLink\" href=\"../9e80399ec7eb03778dfbd5543e4ca765ae3eab710/expr.ipynb\"><img src=\"data:image/png;base64,iVBORw0KGgoAAAANSUhEUgAAAEEAAAAVBAMAAADrxp6XAAAAMFBMVEX///8QEBBERERUVFTMzMyY\n",
       "mJjc3NxmZmYiIiJ2dnaqqqoyMjKIiIi6urru7u4AAAAvZeGPAAAAAXRSTlMAQObYZgAAAAlwSFlz\n",
       "AAAOxAAADsQBlSsOGwAAAQpJREFUKM9jYGDgu8tAAJxeh8pnPYumgOsfEicxgIFhl/8FoMGKDXBB\n",
       "zgYkFfcLGFgbkh8AWdwF2FXwMTAwG4BZ/AuwqwACZojm+w8IqZjBgKoifU4OiM220YDFUBhszeYz\n",
       "VTAV7BsYGHjFGPTBpnIYQN3B9/vB+wSoinygBx8GMFSAOUwwFcAw4D8AUeDcCyTqHzB0oqoAmvx+\n",
       "AtR/1UDjhRj4/qKqAAbHfZh/gYJ8PxlYP6Cq4A8AGQz3C98vBqYNy1BVXOATRfbtHoaIArCtTAog\n",
       "BAqVACZwuLzfAFHx+KSbjQOQz6Io9ETxE8gPfDWQ4OAowAxTTEBYBY8AIRV8UoRUMKRb4ZUGAPuF\n",
       "QlHmcAYWAAAAAElFTkSuQmCC\n",
       "\" style=\"display:inline;vertical-align:middle;\" /></a></td></tr>\n",
       "<tr><td>7</td><td>Operation</td><td>operator:&nbsp;9<br>operand:&nbsp;10<br></td><td><a class=\"ProveItLink\" href=\"../ebd74c747dbe5a8d3e5ed54ed06201a5bc3293e30/expr.ipynb\"><img src=\"data:image/png;base64,iVBORw0KGgoAAAANSUhEUgAAADIAAAAVBAMAAAD2uKAMAAAAMFBMVEX///8QEBBmZmbc3NxERERU\n",
       "VFSYmJgyMjLu7u6qqqq6urp2dnbMzMwiIiKIiIgAAAD/pI0GAAAAAXRSTlMAQObYZgAAAAlwSFlz\n",
       "AAAOxAAADsQBlSsOGwAAAR9JREFUKM9jeHuHAQKgDGY4uYsBBiCsl2CS6wGGDOcGhhZZiAIwfydc\n",
       "ph2Ii4CYvQHM57gOl1ED4p9AzKYA5vOlLoDJCADt+AFiSID5vDwOUBmuAgYG7gsgmTIwfzZDMVSG\n",
       "aQPQirhHExgYtoL5xQyToDLsCQwM/RUcnxkY0kF8ngAG3gaIDC9Q9fwGhn8MDHNBfNYDDHxQnzEC\n",
       "naLOwPGbgeE8iA/0A8cFhEwRAxfQ3QtBfJA/NaH2AE37xsD0A2oayJXmEBkWoKm/GBqB7kgB8tke\n",
       "gIQOgGW4AxgYwhicgCw9IJ8F6C4Gng0QnwL1N4G8w3AZPaxhscV8AV0mCcphSkCXYTGAcEwwYo7D\n",
       "AcLxYGDYC08HUmDKDEyyGTAAAAr9VyDr9RZMAAAAAElFTkSuQmCC\n",
       "\" style=\"display:inline;vertical-align:middle;\" /></a></td></tr>\n",
       "<tr><td>8</td><td>Variable</td><td></td><td><a class=\"ProveItLink\" href=\"../a8d4b3a34d2189508f9082853fbac36935714f280/expr.ipynb\"><img src=\"data:image/png;base64,iVBORw0KGgoAAAANSUhEUgAAAAsAAAAJBAMAAAAWSsseAAAAMFBMVEX////MzMxUVFQyMjKqqqoi\n",
       "IiKYmJju7u5EREQQEBC6urqIiIh2dnZmZmbc3NwAAAD0tjQRAAAAAXRSTlMAQObYZgAAAAlwSFlz\n",
       "AAAOxAAADsQBlSsOGwAAAEdJREFUCNdjYOC7s28DAwPDygcc3xkY2Kcx8AYwMPB+Z2A9wMDA2cBQ\n",
       "v4CBof4AQz5QRb0DQzPLAwbmDWyxPECV2gcfbWQAABp5EMgcedARAAAAAElFTkSuQmCC\n",
       "\" style=\"display:inline;vertical-align:middle;\" /></a></td></tr>\n",
       "<tr><td>9</td><td>Literal</td><td></td><td><a class=\"ProveItLink\" href=\"../../../../logic/boolean/conjunction/__pv_it/f41cc6b553210927c09f19a8a39cdf860a5585930/expr.ipynb\"><img src=\"data:image/png;base64,iVBORw0KGgoAAAANSUhEUgAAAAwAAAANBAMAAABvB5JxAAAALVBMVEX///9mZmbc3NxERETMzMy6\n",
       "urpUVFSYmJiIiIgyMjIiIiLu7u6qqqp2dnYAAACMfHT6AAAAAXRSTlMAQObYZgAAAAlwSFlzAAAO\n",
       "xAAADsQBlSsOGwAAAEpJREFUCNdjYGDgPcAAArsmgKn2VDC1wBlE8lzgVABSnAo8AkDKjYFhNZBK\n",
       "YWDoYGDgBirfBdHMeICBCyjONIGhAqTJhMEaRPkCACemC8GDBfsjAAAAAElFTkSuQmCC\n",
       "\" style=\"display:inline;vertical-align:middle;\" /></a></td></tr>\n",
       "<tr><td>10</td><td>Variable</td><td></td><td><a class=\"ProveItLink\" href=\"../53e304ff98ebc000dbe3ef224f4637dbafd46ba70/expr.ipynb\"><img src=\"data:image/png;base64,iVBORw0KGgoAAAANSUhEUgAAAAkAAAAOBAMAAAAPuiubAAAALVBMVEX///+YmJjc3NyIiIhUVFR2\n",
       "dna6urqqqqpmZmYyMjIiIiIQEBBERETu7u4AAAALjtrwAAAAAXRSTlMAQObYZgAAAAlwSFlzAAAO\n",
       "xAAADsQBlSsOGwAAAE5JREFUCNdj4D29gAEIOBtAJF8BiMy7ACKjQATDFON2BgbelxfuKTCwv2Xg\n",
       "M2DgmMBwLwCkPK+AgU+Aoe8CA18C70YGBhYBHqARvM1A5QCqGhDobJhHyAAAAABJRU5ErkJggg==\n",
       "\" style=\"display:inline;vertical-align:middle;\" /></a></td></tr>\n",
       "</table>\n"
      ],
      "text/plain": [
       "0. (a, b) -> ({a if [and](b). \\\\  = {a if b.)\n",
       "   core type: Lambda\n",
       "   parameters: 1\\n   body: 2\n",
       "1. (a , b)\n",
       "   core type: ExprTuple\n",
       "   sub-expressions: 8, 10\n",
       "2. {a if [and](b). \\\\  = {a if b.\n",
       "   core type: Operation\n",
       "   operator: 3\n",
       "   operands: 4\n",
       "3. =\n",
       "   core type: Literal\n",
       "   sub-expressions: \n",
       "4. (a if [and](b) , a if b)\n",
       "   core type: ExprTuple\n",
       "   sub-expressions: 5, 6\n",
       "5. {a if [and](b).\n",
       "   core type: Conditional\n",
       "   value: 8\n",
       "   condition: 7\n",
       "6. {a if b.\n",
       "   core type: Conditional\n",
       "   value: 8\n",
       "   condition: 10\n",
       "7. [and](b)\n",
       "   core type: Operation\n",
       "   operator: 9\n",
       "   operand: 10\n",
       "8. a\n",
       "   core type: Variable\n",
       "   sub-expressions: \n",
       "9. and\n",
       "   core type: Literal\n",
       "   sub-expressions: \n",
       "10. b\n",
       "    core type: Variable\n",
       "    sub-expressions: "
      ]
     },
     "execution_count": 5,
     "metadata": {},
     "output_type": "execute_result"
    }
   ],
   "source": [
    "# display the expression information\n",
    "expr.exprInfo()"
   ]
  },
  {
   "cell_type": "code",
   "execution_count": null,
   "metadata": {},
   "outputs": [],
   "source": []
  }
 ],
 "metadata": {
  "kernelspec": {
   "display_name": "Python 3",
   "language": "python",
   "name": "python3"
  },
  "language_info": {
   "codemirror_mode": {
    "name": "ipython",
    "version": 3
   },
   "file_extension": ".py",
   "mimetype": "text/x-python",
   "name": "python",
   "nbconvert_exporter": "python",
   "pygments_lexer": "ipython3",
   "version": "3.7.4"
  }
 },
 "nbformat": 4,
 "nbformat_minor": 1
}
