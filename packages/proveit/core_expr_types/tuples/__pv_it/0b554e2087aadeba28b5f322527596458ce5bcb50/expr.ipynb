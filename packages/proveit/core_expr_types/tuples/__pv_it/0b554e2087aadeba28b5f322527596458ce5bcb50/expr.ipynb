{
 "cells": [
  {
   "cell_type": "markdown",
   "metadata": {},
   "source": [
    "Expression of type <a class=\"ProveItLink\" href=\"../../../../../../doc/html/api/proveit.ExprTuple.html\">ExprTuple</a>\n",
    "=======================\n",
    "# from context <a class=\"ProveItLink\" href=\"../../_context_.ipynb\">proveit.core_expr_types.tuples</a>"
   ]
  },
  {
   "cell_type": "code",
   "execution_count": 1,
   "metadata": {},
   "outputs": [],
   "source": [
    "import proveit\n",
    "# Automation is not needed when building an expression:\n",
    "proveit.defaults.automation = False # This will speed things up.\n",
    "# import Expression classes needed to build the expression\n",
    "from proveit import ExprRange, ExprTuple, Len, Variable\n",
    "from proveit.number import one"
   ]
  },
  {
   "cell_type": "code",
   "execution_count": 2,
   "metadata": {},
   "outputs": [
    {
     "data": {
      "text/html": [
       "<strong id=\"expr\">expr:</strong> <a class=\"ProveItLink\" href=\"expr.ipynb\"><img src=\"data:image/png;base64,iVBORw0KGgoAAAANSUhEUgAAAKgAAAAVBAMAAAAgMbgsAAAAMFBMVEX////MzMxUVFREREQiIiK6\n",
       "uroQEBCYmJhmZmYyMjLu7u52dnaqqqqIiIjc3NwAAACFAiZ1AAAAAXRSTlMAQObYZgAAAAlwSFlz\n",
       "AAAOxAAADsQBlSsOGwAAAhlJREFUOMudlT1IHFEUhQ/snz51sbB2BZs0AWvBX1JIImIhC3ZCsLFI\n",
       "BjZFtrMIpJDF7bZRsigIKYLLgqVgsZVCmNQuGEiRNAEbixCL3HvfvaM7E3X0LcycN/ecj5k3b+4C\n",
       "+E4/HkXcOulES3a6ZxTNKGLoBEcy7/rLuZCPA8t+5kvkeWj4GPlFnGlysKXlbhJKHow07yZyrWt+\n",
       "Eq6uyc/m6G/GoeRxzz7dCfU1ibGfRF+gyY/mKWzGoezBxT13yjWJsZ9E3pJrkWUjDs0jBVRi4t/A\n",
       "qqpcPbI04tDVVNCG+RvYUtXH7+nX8W86tuPQrVTQtvnbwmfVT+uWe4MZKlfj0EYqaNX8VSyqytJW\n",
       "PAjwgWQnDl1MBe2Yv4N1VXmibDfximQpDl1PBS2Zv9QDfQ13RbL8NGjZ/GXs2JqewP1F4fJ/j7/z\n",
       "2MefUpUJ4a6RqX8FKh7qIuiUBZNcdwOtmL8iG4HVwBiwi3ebtLNqHnpYN2hbg+4PnfmyiGim0JpB\n",
       "a1ixzT8L7J2PPh8Gljw0+9Kg7Bl/Ox/iBYWz/DkuQA9ikprExL+E7LAm56LOOKtrempQ9sgYTD7/\n",
       "aU+M/SS4D0jyvVWlfTC0ZVDfK/hq8h21emLsZzGtyYx19x/aT10Y9dNpLX1JvqgQt2PsZ7FvTXNC\n",
       "q5MKLdw06X0tBQloIVKTBmVRDPBN5j/VJnc8pMvoS8Xgwb8THyM/iX+AWL7wwoHKrQAAAABJRU5E\n",
       "rkJggg==\n",
       "\" style=\"display:inline;vertical-align:middle;\" /></a><br>"
      ],
      "text/plain": [
       "expr: (|(a)| , |(1 ,  ...  , 1)|)"
      ]
     },
     "execution_count": 2,
     "metadata": {},
     "output_type": "execute_result"
    }
   ],
   "source": [
    "# build up the expression from sub-expressions\n",
    "expr = ExprTuple(Len([Variable(\"a\")]), Len([ExprRange(Variable(\"k\"), Variable(\"k\"), one, one)]))"
   ]
  },
  {
   "cell_type": "code",
   "execution_count": 3,
   "metadata": {},
   "outputs": [
    {
     "name": "stdout",
     "output_type": "stream",
     "text": [
      "Passed sanity check: built 'expr' is the same as the stored Expression.\n"
     ]
    }
   ],
   "source": [
    "# check that the built expression is the same as the stored expression\n",
    "%check_expr"
   ]
  },
  {
   "cell_type": "code",
   "execution_count": 4,
   "metadata": {},
   "outputs": [
    {
     "name": "stdout",
     "output_type": "stream",
     "text": [
      "\\left(|\\left(a\\right)| , |\\left(1 , \\ldots , 1\\right)|\\right)\n"
     ]
    }
   ],
   "source": [
    "# Show the LaTeX representation of the expression for convenience if you need it.\n",
    "print(expr.latex())"
   ]
  },
  {
   "cell_type": "code",
   "execution_count": 5,
   "metadata": {},
   "outputs": [
    {
     "data": {
      "text/html": [
       "<table><tr><th>&nbsp;</th><th>core type</th><th>sub-expressions</th><th>expression</th></tr>\n",
       "<tr><td>0</td><td>ExprTuple</td><td>1, 2</td><td><a class=\"ProveItLink\" href=\"expr.ipynb\"><img src=\"data:image/png;base64,iVBORw0KGgoAAAANSUhEUgAAAKgAAAAVBAMAAAAgMbgsAAAAMFBMVEX////MzMxUVFREREQiIiK6\n",
       "uroQEBCYmJhmZmYyMjLu7u52dnaqqqqIiIjc3NwAAACFAiZ1AAAAAXRSTlMAQObYZgAAAAlwSFlz\n",
       "AAAOxAAADsQBlSsOGwAAAhlJREFUOMudlT1IHFEUhQ/snz51sbB2BZs0AWvBX1JIImIhC3ZCsLFI\n",
       "BjZFtrMIpJDF7bZRsigIKYLLgqVgsZVCmNQuGEiRNAEbixCL3HvfvaM7E3X0LcycN/ecj5k3b+4C\n",
       "+E4/HkXcOulES3a6ZxTNKGLoBEcy7/rLuZCPA8t+5kvkeWj4GPlFnGlysKXlbhJKHow07yZyrWt+\n",
       "Eq6uyc/m6G/GoeRxzz7dCfU1ibGfRF+gyY/mKWzGoezBxT13yjWJsZ9E3pJrkWUjDs0jBVRi4t/A\n",
       "qqpcPbI04tDVVNCG+RvYUtXH7+nX8W86tuPQrVTQtvnbwmfVT+uWe4MZKlfj0EYqaNX8VSyqytJW\n",
       "PAjwgWQnDl1MBe2Yv4N1VXmibDfximQpDl1PBS2Zv9QDfQ13RbL8NGjZ/GXs2JqewP1F4fJ/j7/z\n",
       "2MefUpUJ4a6RqX8FKh7qIuiUBZNcdwOtmL8iG4HVwBiwi3ebtLNqHnpYN2hbg+4PnfmyiGim0JpB\n",
       "a1ixzT8L7J2PPh8Gljw0+9Kg7Bl/Ox/iBYWz/DkuQA9ikprExL+E7LAm56LOOKtrempQ9sgYTD7/\n",
       "aU+M/SS4D0jyvVWlfTC0ZVDfK/hq8h21emLsZzGtyYx19x/aT10Y9dNpLX1JvqgQt2PsZ7FvTXNC\n",
       "q5MKLdw06X0tBQloIVKTBmVRDPBN5j/VJnc8pMvoS8Xgwb8THyM/iX+AWL7wwoHKrQAAAABJRU5E\n",
       "rkJggg==\n",
       "\" style=\"display:inline;vertical-align:middle;\" /></a></td></tr>\n",
       "<tr><td>1</td><td>Operation</td><td>operator:&nbsp;4<br>operand:&nbsp;6<br></td><td><a class=\"ProveItLink\" href=\"../a328052a56446b242c31e4f8e396eafe14d60bdf0/expr.ipynb\"><img src=\"data:image/png;base64,iVBORw0KGgoAAAANSUhEUgAAACoAAAAVBAMAAADCwWEQAAAAMFBMVEX///9UVFREREQiIiIQEBCY\n",
       "mJhmZmYyMjLu7u6qqqrMzMyIiIi6urp2dnbc3NwAAABm9RoHAAAAAXRSTlMAQObYZgAAAAlwSFlz\n",
       "AAAOxAAADsQBlSsOGwAAANZJREFUGNNjeMAAAnwMyNQDhjtgeieEy7MBTN2BiHJegIhCZaGi7VBB\n",
       "BvYGJNFUmChrApKoA0yUwQMhylMAFy1FiLKBLHt2+zWQvIgQZQ8Aqvdj0AdaFY4QZZ7AwNASwJAM\n",
       "ZE5GiLIcYGDIb2CwBTLXo4o6MXD8ATKPIJk7gYHjLwPrB1QTmDYwcPxkYCqYx8AQhBDlFWBgqGYI\n",
       "TgA6MBvJFwYMDI1710kvYGCwQ/KxFcxrfAZIomEwUbYAJFGmB1DRR8jhy6EAFdWAiu4C00+hwQvR\n",
       "swsAQ1FJBzjGrLMAAAAASUVORK5CYII=\n",
       "\" style=\"display:inline;vertical-align:middle;\" /></a></td></tr>\n",
       "<tr><td>2</td><td>Operation</td><td>operator:&nbsp;4<br>operand:&nbsp;7<br></td><td><a class=\"ProveItLink\" href=\"../0c88644df2ed4518e2f7c86465ef19daac753e110/expr.ipynb\"><img src=\"data:image/png;base64,iVBORw0KGgoAAAANSUhEUgAAAGIAAAAVBAMAAABPrCZEAAAAMFBMVEX///9UVFREREQiIiIQEBCY\n",
       "mJhmZmYyMjLu7u6qqqrMzMyIiIi6urp2dnbc3NwAAABm9RoHAAAAAXRSTlMAQObYZgAAAAlwSFlz\n",
       "AAAOxAAADsQBlSsOGwAAAP1JREFUOMtjeMAAAnwMBAFUyQOGO2B6J2EdPBvA1B2IDs4LDAxcFniU\n",
       "L26AmQrV0c7A0Jj+A6d6DrF6oA72BiQdqUDM/QOPHfuBqlkTkHQ4EKODwQOhg6eAKB2lCB1sF4jS\n",
       "cRGhgz2AKB3hCB3ME4jSMRmhg+UAUTrWk6zjCJI/SHYV0waoDg4s8Y3QEYTQwSsA1dEPihgQwfGd\n",
       "AYkH1ZGNFIMGDAyMKp+lGZhBqZEZlBrMYAywkJC/IdAZdkipxArmhhmYzoIL8Rkg6QiDiV7A1AEX\n",
       "YgtA0sH0AOrNDZg+hws9Qs4fHAoQQVZMKxBCGlAdu8D0U8K5lhXijl0ArCpjbdWqF7EAAAAASUVO\n",
       "RK5CYII=\n",
       "\" style=\"display:inline;vertical-align:middle;\" /></a></td></tr>\n",
       "<tr><td>3</td><td>ExprTuple</td><td>6</td><td><a class=\"ProveItLink\" href=\"../7c1a61d7cd9d404c36cd4d2228c615a840d0c97b0/expr.ipynb\"><img src=\"data:image/png;base64,iVBORw0KGgoAAAANSUhEUgAAACcAAAAVBAMAAAA3P+qgAAAAMFBMVEX////MzMxUVFREREQiIiK6\n",
       "uroQEBCYmJhmZmYyMjLu7u52dnaqqqqIiIjc3NwAAACFAiZ1AAAAAXRSTlMAQObYZgAAAAlwSFlz\n",
       "AAAOxAAADsQBlSsOGwAAANFJREFUGNNNzLEOwWAUxfEjqq2i8QheQNLVQIwGg0EkBolFrB1N2AwW\n",
       "m0QMEg9QPIHdUi8gjXgAs8n97vki/skvuTn5WgAZCH9n5UqmkYWb9f8g2BDbkR8Tm5ELYu5BDeUc\n",
       "/sZirNZyGuH6kQKlmtrKYAyy/AfwNqorgwim8NtAmSYyCv8D5wTk3sqOboSkBxTGai+jSE5Y4Pd5\n",
       "U06RXNEoZ/AiGBcZRTH1OiX5dar6Moqgfn7eASdTThWKvchbEltZLcsURoSjZcofCGFMpjl9AbpK\n",
       "O6Mzz/v6AAAAAElFTkSuQmCC\n",
       "\" style=\"display:inline;vertical-align:middle;\" /></a></td></tr>\n",
       "<tr><td>4</td><td>Literal</td><td></td><td><a class=\"ProveItLink\" href=\"../92831c6291223dfbd76a11e90e750ae52564aa9f0/expr.ipynb\"><img src=\"data:image/png;base64,iVBORw0KGgoAAAANSUhEUgAAADsAAAASBAMAAAAXqLt+AAAAMFBMVEX///+qqqq6urru7u4QEBBE\n",
       "RERUVFTc3NyIiIgyMjJmZmaYmJjMzMwiIiJ2dnYAAACPW0xlAAAAAXRSTlMAQObYZgAAAAlwSFlz\n",
       "AAAOxAAADsQBlSsOGwAAAUNJREFUKM91kD1Lw1AUhp8kNVX7ke4OBgQ3NaOTFURwkg7apUMLIjpm\n",
       "0FWD+NGxozgVHFQEiaNT+wtsNxeRjLbQUiwoYhDPjQ5C2wuXey7POe95z4FOyLBjbDSjN9Ebwp5g\n",
       "ohqFk5VBrEmJlYnClDeIVcmCE4WH9UGcCqDzG9bkLpUvmd85OBUh7frMny3mPS6mTlxB26A/80iw\n",
       "6Rkf0GIvx7S4+3TNkuA10fc5StqrxEO0PpbHjaiEmDlISkWx3LUN403NGMvRcHmJ3MWk1/gyvP8N\n",
       "I+mNDMdIpnKnTI+VHL4VNitYvlNzyaP3cLJ25N3yPaWlEQvEUVDD+CJd0VwZaD3hYM14PGBcKalW\n",
       "ws26Zh+ztKgGCtOy8jvp/1qGOdi/R99tN4kXfArQHbJPUlVGnuQWjfpobK4Y56Mp+m3b/v//AcRT\n",
       "WSEJp2bgAAAAAElFTkSuQmCC\n",
       "\" style=\"display:inline;vertical-align:middle;\" /></a></td></tr>\n",
       "<tr><td>5</td><td>ExprTuple</td><td>7</td><td><a class=\"ProveItLink\" href=\"../05ce82a19894bb9a40348c5fcb6f5ec5dcbd5a390/expr.ipynb\"><img src=\"data:image/png;base64,iVBORw0KGgoAAAANSUhEUgAAAF8AAAAVBAMAAADSoS/MAAAAMFBMVEX////MzMxUVFREREQiIiK6\n",
       "uroQEBCYmJhmZmYyMjLu7u52dnaqqqqIiIjc3NwAAACFAiZ1AAAAAXRSTlMAQObYZgAAAAlwSFlz\n",
       "AAAOxAAADsQBlSsOGwAAAQhJREFUOMuVz70OwWAUBuDjt9RPDC5AYrFITDYiYhAxWgwSi1lHk9hE\n",
       "LN0kItEwi8QV2C3ugMEFGCxMznfOp5UU/Zzkad+e9O0PAJyBeYx9W2LPvKYjwUFKW99v9jWcB+sm\n",
       "0XPL74XV5IHHOYsYDE4/3pAQhQELA/MuhC3SxthWKkQNMsU4VSrEMmSGcaZU0EzSxNhUKsQrpIex\n",
       "p1TwXYl6IdQlC4yLfz6phLH0KnzoWM5PF8gO404W9Due6bA14e2KC5EjaWEUsv3qEWrieXUUHMlA\n",
       "K3/xlsfdmQRTQGji7m9yVhemjRhNzP0PzmoslSUxG3fBXiULDNaSGMNdsFcBi0HSYF4zZE/jEVuo\n",
       "x3EtNAAAAABJRU5ErkJggg==\n",
       "\" style=\"display:inline;vertical-align:middle;\" /></a></td></tr>\n",
       "<tr><td>6</td><td>ExprTuple</td><td>8</td><td><a class=\"ProveItLink\" href=\"../68e51884dae55a9c544ebe02dc78b572e602a87c0/expr.ipynb\"><img src=\"data:image/png;base64,iVBORw0KGgoAAAANSUhEUgAAABcAAAAVBAMAAABfzGiYAAAAMFBMVEX////MzMxUVFREREQiIiK6\n",
       "uroQEBCYmJhmZmYyMjLu7u52dnaqqqqIiIjc3NwAAACFAiZ1AAAAAXRSTlMAQObYZgAAAAlwSFlz\n",
       "AAAOxAAADsQBlSsOGwAAAMBJREFUGNNjYGB4wAAGYIr3AIQTCyJOQ9hgQa4JUA7DLAYGjgIYp4KB\n",
       "gQ3GZmBbwBAJ53AWMHQDKb7uexcYGLgVGKYDOWEPmH8xMLBPYPABGpjOwOHAwMDjwJAKNPAXA8sG\n",
       "BgbGDyAOmwHD+gAGBtYEhjkMDOs3MNQzgJXZAjkHGCx5HjCwGzBsAlpwgd2DG6j1AkMI0DTdjY8u\n",
       "MjCwPGBgEYC54AnQqgYYpx2I7aBsPgMgsRjKYV4AEoF6qI6BAQDn8iYB5tI9eQAAAABJRU5ErkJg\n",
       "gg==\n",
       "\" style=\"display:inline;vertical-align:middle;\" /></a></td></tr>\n",
       "<tr><td>7</td><td>ExprTuple</td><td>9</td><td><a class=\"ProveItLink\" href=\"../a2d9625a925ff1ce0cd981cefed3ebcad0bce46d0/expr.ipynb\"><img src=\"data:image/png;base64,iVBORw0KGgoAAAANSUhEUgAAAE8AAAAVBAMAAAD1D64kAAAAMFBMVEX////MzMxUVFREREQiIiK6\n",
       "uroQEBCYmJhmZmYyMjLu7u52dnaqqqqIiIjc3NwAAACFAiZ1AAAAAXRSTlMAQObYZgAAAAlwSFlz\n",
       "AAAOxAAADsQBlSsOGwAAAN5JREFUKM9jYGB4wEAQgJXwHiCsMBZEnAZikQW4FTF6QQzjmsDApTEf\n",
       "t8JFnb+A5CwGBo4CIH0fj4m8IIUVDAxsDMQoZFvAEEmUQs4Chm6iFHIrMEwnSiH7BAYfohTyODCk\n",
       "EqWQ8QORClkTGOYQa7UtTCEWtQsQnjFg2ARVyPUTSIOJ9RMYkHgQhRwXGEKAlHK+0wUGF5B+DyBm\n",
       "aYAywEJMZl90gWIPGFgEoPbwYNqNEHoCtL0ByubGdCNCqB2I7aDstZgK4UJ8BkBiMZRTgKkQLsQM\n",
       "cgNfAeGsUMfAAACP8UYGocT1GQAAAABJRU5ErkJggg==\n",
       "\" style=\"display:inline;vertical-align:middle;\" /></a></td></tr>\n",
       "<tr><td>8</td><td>Variable</td><td></td><td><a class=\"ProveItLink\" href=\"../a8d4b3a34d2189508f9082853fbac36935714f280/expr.ipynb\"><img src=\"data:image/png;base64,iVBORw0KGgoAAAANSUhEUgAAAAsAAAAJBAMAAAAWSsseAAAAMFBMVEX////MzMxUVFQyMjKqqqoi\n",
       "IiKYmJju7u5EREQQEBC6urqIiIh2dnZmZmbc3NwAAAD0tjQRAAAAAXRSTlMAQObYZgAAAAlwSFlz\n",
       "AAAOxAAADsQBlSsOGwAAAEdJREFUCNdjYOC7s28DAwPDygcc3xkY2Kcx8AYwMPB+Z2A9wMDA2cBQ\n",
       "v4CBof4AQz5QRb0DQzPLAwbmDWyxPECV2gcfbWQAABp5EMgcedARAAAAAElFTkSuQmCC\n",
       "\" style=\"display:inline;vertical-align:middle;\" /></a></td></tr>\n",
       "<tr><td>9</td><td>ExprRange</td><td>lambda_map:&nbsp;10<br>start_index:&nbsp;11<br>end_index:&nbsp;11<br></td><td><a class=\"ProveItLink\" href=\"../e54a49066db942d60cd54ec74c7362cf5c4cf9200/expr.ipynb\"><img src=\"data:image/png;base64,iVBORw0KGgoAAAANSUhEUgAAAEEAAAASBAMAAAD2w64vAAAAKlBMVEX///+YmJh2dnaqqqoQEBBE\n",
       "RESIiIgyMjJmZmZUVFTu7u4iIiLMzMwAAABHcQpRAAAAAXRSTlMAQObYZgAAAAlwSFlzAAAOxAAA\n",
       "DsQBlSsOGwAAAGdJREFUKM9jYODZxYAbnF7AwLCy/RZOea4ZtUAVDGy38JiRO6oCuwouLOGJqmJt\n",
       "AQOE4LrOgMSDqOAMuT2NgRsUe9wNQGIHjAEWmuq7MwFqphWmNWhCCpgqUIW4EjBdiirEiGkEXAgA\n",
       "ghcpPuD96QcAAAAASUVORK5CYII=\n",
       "\" style=\"display:inline;vertical-align:middle;\" /></a></td></tr>\n",
       "<tr><td>10</td><td>Lambda</td><td>parameter:&nbsp;12<br>body:&nbsp;12<br></td><td><a class=\"ProveItLink\" href=\"../3f65dd765ebc1f78cc5012238a4d9c3aeb80e9230/expr.ipynb\"><img src=\"data:image/png;base64,iVBORw0KGgoAAAANSUhEUgAAADYAAAAOCAMAAABTsh8vAAAANlBMVEX///8WFhYNDQ3MzMzc3NyY\n",
       "mJiIiIhUVFR2dna6urqqqqpmZmYyMjIiIiIQEBBERETu7u4AAADpXcuUAAAAAXRSTlMAQObYZgAA\n",
       "AAlwSFlzAAAOxAAADsQBlSsOGwAAAKVJREFUKM+NkkkOwzAIRWk9JMZ44P6XbbKo/YlsKaxAPNBn\n",
       "IOqtFnpphpVMrw1Y5fdlk03at1T0Ngb2rFY/BvzQD6wcVzrmP27389jWZLsGYvY1LEFuRslkWX1i\n",
       "cuLX/WMD1cDmGhxy308xpppGDtgi+XT7aZIkyA22X82Sul2Zk46jDTboHTLFdZng4YA92u06Oocq\n",
       "I9HcDdh2f0vMcf0p2Wxrsj83mAflxQIppAAAAABJRU5ErkJggg==\n",
       "\" style=\"display:inline;vertical-align:middle;\" /></a></td></tr>\n",
       "<tr><td>11</td><td>Literal</td><td></td><td><a class=\"ProveItLink\" href=\"../../../../number/numeral/__pv_it/f086f8c372bd40a2458306ddfdbb29f3dc6f63030/expr.ipynb\"><img src=\"data:image/png;base64,iVBORw0KGgoAAAANSUhEUgAAAAgAAAAOBAMAAADgeEClAAAAIVBMVEX///8QEBBERESIiIgyMjJm\n",
       "ZmZUVFTu7u4iIiLMzMwAAAAWRytzAAAAAXRSTlMAQObYZgAAAAlwSFlzAAAOxAAADsQBlSsOGwAA\n",
       "ABtJREFUCNdjYOBsZ2AoC1nOwMDATBbBprgiGQBsuwqCZsDj4wAAAABJRU5ErkJggg==\n",
       "\" style=\"display:inline;vertical-align:middle;\" /></a></td></tr>\n",
       "<tr><td>12</td><td>Variable</td><td></td><td><a class=\"ProveItLink\" href=\"../273f49450ca25e1b56abbd98a7aef618f8f6c1360/expr.ipynb\"><img src=\"data:image/png;base64,iVBORw0KGgoAAAANSUhEUgAAAAoAAAAOBAMAAADkjZCYAAAAMFBMVEX////MzMzc3NyYmJiIiIhU\n",
       "VFR2dna6urqqqqpmZmYyMjIiIiIQEBBERETu7u4AAADM1VnsAAAAAXRSTlMAQObYZgAAAAlwSFlz\n",
       "AAAOxAAADsQBlSsOGwAAAE9JREFUCNdj4LuzgQEIuCaASP4GEFn/AETmgAiGpQwt8xj4PnM0HWbg\n",
       "+FTBuIiB87AAUJh7ZSKQfF9QD+TYM7xvcGCIZXgvkMBwg4FlygMA76IUkutkA5UAAAAASUVORK5C\n",
       "YII=\n",
       "\" style=\"display:inline;vertical-align:middle;\" /></a></td></tr>\n",
       "</table>\n"
      ],
      "text/plain": [
       "0. (|(a)| , |(1 ,  ...  , 1)|)\n",
       "   core type: ExprTuple\n",
       "   sub-expressions: 1, 2\n",
       "1. |(a)|\n",
       "   core type: Operation\n",
       "   operator: 4\n",
       "   operand: 6\n",
       "2. |(1 ,  ...  , 1)|\n",
       "   core type: Operation\n",
       "   operator: 4\n",
       "   operand: 7\n",
       "3. ((a))\n",
       "   core type: ExprTuple\n",
       "   sub-expressions: 6\n",
       "4. length\n",
       "   core type: Literal\n",
       "   sub-expressions: \n",
       "5. ((1 ,  ...  , 1))\n",
       "   core type: ExprTuple\n",
       "   sub-expressions: 7\n",
       "6. (a)\n",
       "   core type: ExprTuple\n",
       "   sub-expressions: 8\n",
       "7. (1 ,  ...  , 1)\n",
       "   core type: ExprTuple\n",
       "   sub-expressions: 9\n",
       "8. a\n",
       "   core type: Variable\n",
       "   sub-expressions: \n",
       "9. 1,...,1\n",
       "   core type: ExprRange\n",
       "   lambda_map: 10\n",
       "   start_index: 11\n",
       "   end_index: 11\n",
       "10. k -> k\n",
       "    core type: Lambda\n",
       "    parameter: 12\n",
       "    body: 12\n",
       "11. 1\n",
       "    core type: Literal\n",
       "    sub-expressions: \n",
       "12. k\n",
       "    core type: Variable\n",
       "    sub-expressions: "
      ]
     },
     "execution_count": 5,
     "metadata": {},
     "output_type": "execute_result"
    }
   ],
   "source": [
    "# display the expression information\n",
    "expr.exprInfo()"
   ]
  },
  {
   "cell_type": "code",
   "execution_count": null,
   "metadata": {},
   "outputs": [],
   "source": []
  }
 ],
 "metadata": {
  "kernelspec": {
   "display_name": "Python 3",
   "language": "python",
   "name": "python3"
  },
  "language_info": {
   "codemirror_mode": {
    "name": "ipython",
    "version": 3
   },
   "file_extension": ".py",
   "mimetype": "text/x-python",
   "name": "python",
   "nbconvert_exporter": "python",
   "pygments_lexer": "ipython3",
   "version": "3.7.4"
  }
 },
 "nbformat": 4,
 "nbformat_minor": 1
}
