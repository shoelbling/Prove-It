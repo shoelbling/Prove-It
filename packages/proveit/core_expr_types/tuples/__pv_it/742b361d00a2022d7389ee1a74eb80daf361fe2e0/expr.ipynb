{
 "cells": [
  {
   "cell_type": "markdown",
   "metadata": {},
   "source": [
    "Expression of type <a class=\"ProveItLink\" href=\"../../../../../../doc/html/api/proveit.ExprTuple.html\">ExprTuple</a>\n",
    "=======================\n",
    "# from context <a class=\"ProveItLink\" href=\"../../_context_.ipynb\">proveit.core_expr_types.tuples</a>"
   ]
  },
  {
   "cell_type": "code",
   "execution_count": 1,
   "metadata": {},
   "outputs": [],
   "source": [
    "import proveit\n",
    "# Automation is not needed when building an expression:\n",
    "proveit.defaults.automation = False # This will speed things up.\n",
    "# import Expression classes needed to build the expression\n",
    "from proveit import ExprRange, ExprTuple\n",
    "from proveit._common_ import a, b, fa, i\n",
    "from proveit.number import one"
   ]
  },
  {
   "cell_type": "code",
   "execution_count": 2,
   "metadata": {},
   "outputs": [
    {
     "data": {
      "text/html": [
       "<strong id=\"expr\">expr:</strong> <a class=\"ProveItLink\" href=\"../fceea7f8b94fcf5a42b50d9f3cd5e5f78be38cc70/expr.ipynb\"><img src=\"data:image/png;base64,iVBORw0KGgoAAAANSUhEUgAAALUAAAAVBAMAAADyYbJ0AAAAMFBMVEX////MzMxUVFREREQiIiK6\n",
       "uroQEBCYmJhmZmYyMjLu7u52dnaqqqqIiIjc3NwAAACFAiZ1AAAAAXRSTlMAQObYZgAAAAlwSFlz\n",
       "AAAOxAAADsQBlSsOGwAAAlpJREFUOMuNVT1oU1EYPZqXpn0vJh3crbh07OQQSAniUDSIgwgZSh0M\n",
       "ggg+dNGlBBeHthi6BCTgg86SEpycMuiiQzNmUHxgwUUwjoqC3/2+e+/7g2senJvvnO/k5HJ/XgDE\n",
       "EJhH6hoWe2Lkvo5U4rmJwDy6Lk8Xihb3dlbcNtJHDWDvreHnI+DTf1IT9yw1N/9yK5mu3xcAwcUH\n",
       "4Npff0XZK5Ez2rqB68BLq6/0IJSwHAqApfcN6PoL5VZ6zuyUm54nVq9PNCUsQQDs8ES5Vtm478xO\n",
       "udVnlNEVJXSo7LD6hseOzR44s1NutRJhRleUsKe2RfFHd9dhas4eu6ITtz+jExWsmcbh532hhIGd\n",
       "4V8eBzb7qXPe1h2U79Dm9M05+RWNYqaENgltviw/udm22e9c0Yn7+zIFVVtar/5GfcqU0CWhy+qc\n",
       "m12bfcGVnbgjysKZudbph0bHTAk2O2jlsm87j3fiPiGzWhdzvHcmTAlDEhRQku0YLrYmKfchUmtS\n",
       "D/EiMmvSJKHJR1ReIE2b/VhVxcvpI+v2/wS0cRu6U7/p3xNKGJvT9mOV3WObfcDbTsOor4eEpdzl\n",
       "+Tda5qnunA1LPaGEWyQq4ESmpepLD69Q84aiV+lXPHX7edhSxbWcu0kXxYt1xz/Yh1CCRxNQwDNx\n",
       "e6vmlPESVouL8gFF92nSMfRUXkmE6tpQZPuKktdQUNzGYxTdz00noQqbDK9hbtam/vzK4+viXtJy\n",
       "5d21DdOxlKUjRmVm/peO9GeDx7CQXVHIuUuR6VjKUi0U2NssdSVe6D9N3LtZcVfwD7ORuPxhrXfc\n",
       "AAAAAElFTkSuQmCC\n",
       "\" style=\"display:inline;vertical-align:middle;\" /></a><br>"
      ],
      "text/plain": [
       "expr: ((f(1) ,  ...  , f(i) , b))"
      ]
     },
     "execution_count": 2,
     "metadata": {},
     "output_type": "execute_result"
    }
   ],
   "source": [
    "# build up the expression from sub-expressions\n",
    "expr = ExprTuple([ExprRange(a, fa, one, i), b])"
   ]
  },
  {
   "cell_type": "code",
   "execution_count": 3,
   "metadata": {},
   "outputs": [
    {
     "name": "stdout",
     "output_type": "stream",
     "text": [
      "Passed sanity check: built 'expr' is the same as the stored Expression.\n"
     ]
    }
   ],
   "source": [
    "# check that the built expression is the same as the stored expression\n",
    "%check_expr"
   ]
  },
  {
   "cell_type": "code",
   "execution_count": 4,
   "metadata": {},
   "outputs": [
    {
     "name": "stdout",
     "output_type": "stream",
     "text": [
      "\\left(\\left(f\\left(1\\right) , \\ldots , f\\left(i\\right) , b\\right)\\right)\n"
     ]
    }
   ],
   "source": [
    "# Show the LaTeX representation of the expression for convenience if you need it.\n",
    "print(expr.latex())"
   ]
  },
  {
   "cell_type": "code",
   "execution_count": 5,
   "metadata": {},
   "outputs": [
    {
     "data": {
      "text/html": [
       "<table><tr><th>&nbsp;</th><th>core type</th><th>sub-expressions</th><th>expression</th></tr>\n",
       "<tr><td>0</td><td>ExprTuple</td><td>1</td><td><a class=\"ProveItLink\" href=\"../fceea7f8b94fcf5a42b50d9f3cd5e5f78be38cc70/expr.ipynb\"><img src=\"data:image/png;base64,iVBORw0KGgoAAAANSUhEUgAAALUAAAAVBAMAAADyYbJ0AAAAMFBMVEX////MzMxUVFREREQiIiK6\n",
       "uroQEBCYmJhmZmYyMjLu7u52dnaqqqqIiIjc3NwAAACFAiZ1AAAAAXRSTlMAQObYZgAAAAlwSFlz\n",
       "AAAOxAAADsQBlSsOGwAAAlpJREFUOMuNVT1oU1EYPZqXpn0vJh3crbh07OQQSAniUDSIgwgZSh0M\n",
       "ggg+dNGlBBeHthi6BCTgg86SEpycMuiiQzNmUHxgwUUwjoqC3/2+e+/7g2senJvvnO/k5HJ/XgDE\n",
       "EJhH6hoWe2Lkvo5U4rmJwDy6Lk8Xihb3dlbcNtJHDWDvreHnI+DTf1IT9yw1N/9yK5mu3xcAwcUH\n",
       "4Npff0XZK5Ez2rqB68BLq6/0IJSwHAqApfcN6PoL5VZ6zuyUm54nVq9PNCUsQQDs8ES5Vtm478xO\n",
       "udVnlNEVJXSo7LD6hseOzR44s1NutRJhRleUsKe2RfFHd9dhas4eu6ITtz+jExWsmcbh532hhIGd\n",
       "4V8eBzb7qXPe1h2U79Dm9M05+RWNYqaENgltviw/udm22e9c0Yn7+zIFVVtar/5GfcqU0CWhy+qc\n",
       "m12bfcGVnbgjysKZudbph0bHTAk2O2jlsm87j3fiPiGzWhdzvHcmTAlDEhRQku0YLrYmKfchUmtS\n",
       "D/EiMmvSJKHJR1ReIE2b/VhVxcvpI+v2/wS0cRu6U7/p3xNKGJvT9mOV3WObfcDbTsOor4eEpdzl\n",
       "+Tda5qnunA1LPaGEWyQq4ESmpepLD69Q84aiV+lXPHX7edhSxbWcu0kXxYt1xz/Yh1CCRxNQwDNx\n",
       "e6vmlPESVouL8gFF92nSMfRUXkmE6tpQZPuKktdQUNzGYxTdz00noQqbDK9hbtam/vzK4+viXtJy\n",
       "5d21DdOxlKUjRmVm/peO9GeDx7CQXVHIuUuR6VjKUi0U2NssdSVe6D9N3LtZcVfwD7ORuPxhrXfc\n",
       "AAAAAElFTkSuQmCC\n",
       "\" style=\"display:inline;vertical-align:middle;\" /></a></td></tr>\n",
       "<tr><td>1</td><td>ExprTuple</td><td>2, 3</td><td><a class=\"ProveItLink\" href=\"../c1dbed6c9ee741defe3aceeb9ef7db1b61e12e890/expr.ipynb\"><img src=\"data:image/png;base64,iVBORw0KGgoAAAANSUhEUgAAAKUAAAAVBAMAAADVzzOcAAAAMFBMVEX////MzMxUVFREREQiIiK6\n",
       "uroQEBCYmJhmZmYyMjLu7u52dnaqqqqIiIjc3NwAAACFAiZ1AAAAAXRSTlMAQObYZgAAAAlwSFlz\n",
       "AAAOxAAADsQBlSsOGwAAAitJREFUOMuNVT1IW1EUPjUvP74XE4fuWrpkdOoQiITiIFVKBxEyFDsY\n",
       "CkXoo13qIqGLQxIasggS6ANniUgnpwy66GDGDC19YKFLoelYUeg55/69lwe3uZBzz3fO9777d+4N\n",
       "AIRgmvALMF0LzSfx2NzABKSfHk4lKdgv40GGV+w2z5T/MAD4+h81wx5F5uQ+qYqB3A5B79EOsO+W\n",
       "PqPmbGCV1GyANYBDHZ9tAMOcTyhzUQbpf0e9bMOqGWFj+6DjxYGAGUZbPDH2SRPeWDUjbOqDWBxh\n",
       "jdEXtjWteWDVjLBpxX4sjrBJ/bvtEm+91jy1SRq2O8IK8RZVovutxVDM6J7tgdbctc5Ts730K9z8\n",
       "jjr3v0E/JLjORf6Hg+ta89wmadi/cqiXr8p4/haKQ4J1RmMO1rXmgk3TsAPUgAdjGccB+icEWcer\n",
       "TmhuWsvTsK+RTOtX5bk1INgjlBLb3Jtu7RF2FyJrL/rwKSBY4RITF7yiNd+Tl7xMLsTZ7p2HZ7Qk\n",
       "M8UX7muGXDW/55l1qjXbfIxo+h1pDIqw0+OfuI1DmZnxUw2GG5S+FtMg//Hbp8h5TnAF1R26pWxW\n",
       "yXk2wa5gvTuhzLjtFjB0aNCPguXMq2rhLconF38JSfYPk5EQn4v8Yk9A/XSI58FLHs8JJNn7KmPg\n",
       "MjhldROWZX/D9jh5Rrgtk+zCksoYeATZkXr/j2RfZusnNLP0m2CnApUxsBD5VPrZcKr/DsHeiwcR\n",
       "/gNjL6NaCB8mlwAAAABJRU5ErkJggg==\n",
       "\" style=\"display:inline;vertical-align:middle;\" /></a></td></tr>\n",
       "<tr><td>2</td><td>ExprRange</td><td>lambda_map:&nbsp;4<br>start_index:&nbsp;5<br>end_index:&nbsp;6<br></td><td><a class=\"ProveItLink\" href=\"../../../__pv_it/9046f00a5d0b611dea2199f4a2d7c05367f25e150/expr.ipynb\"><img src=\"data:image/png;base64,iVBORw0KGgoAAAANSUhEUgAAAIAAAAAVBAMAAAB8u/sIAAAAMFBMVEX///8yMjLc3NyIiIiYmJgi\n",
       "IiJERES6urqqqqoQEBDMzMxUVFTu7u52dnZmZmYAAAD1zdHuAAAAAXRSTlMAQObYZgAAAAlwSFlz\n",
       "AAAOxAAADsQBlSsOGwAAAbVJREFUOMuNVLFKA0EQnbtckku8nCksLVKorSksLKOCpQRBCxVJK1oI\n",
       "gmDlNVYKBmwsLGytDKSyS0hpkWusREjUD1DERlI4M7t7e9zBcgOzO7f75u3szM4BRGKLqQaZxI65\n",
       "SFkW00k2AkYX62z7bz0c3RCgvAeQC8yeGp0byUNfH8inD/A8nqAxayaI0JAPwSIyuD2l6RM1RwQb\n",
       "ZgKNRnFGdJEJ221FUOqZ/GNokjvUSpM3qorAapgIYmiSGYziaZfi8ENFUOkY/GPowQdlBHWaa8Hn\n",
       "MoFTNUWg0eEZGiuoi/e0lA8Ugds0EURoOxijcYF6zRulY0VQ/jIRRGgPftB4RH1JEBTbJgKNdglM\n",
       "1zjkJSvjFTTa6sgr3PBSoR4lsYWDl3YVz0OjhwGWYh076k/Ut6MIfKIaYim8b2norzj63MZSYCld\n",
       "kbMiBj518NvFDFND57GtYJ+MkRq2uIk0urCExiYeKN/Njgp1nser1BVcIkig7SZcWrJ9ox4SfRKm\n",
       "HzFqEu03YLsv9wvyV2RTDsGrpwgGqEn0AsDau1zyWnKLs+2kq0BvPYk+igPmxLSa7ZfGaKcG/5H9\n",
       "cODAWQVXAAAAAElFTkSuQmCC\n",
       "\" style=\"display:inline;vertical-align:middle;\" /></a></td></tr>\n",
       "<tr><td>3</td><td>Variable</td><td></td><td><a class=\"ProveItLink\" href=\"../../../../__pv_it/53e304ff98ebc000dbe3ef224f4637dbafd46ba70/expr.ipynb\"><img src=\"data:image/png;base64,iVBORw0KGgoAAAANSUhEUgAAAAkAAAAOBAMAAAAPuiubAAAALVBMVEX///+YmJjc3NyIiIhUVFR2\n",
       "dna6urqqqqpmZmYyMjIiIiIQEBBERETu7u4AAAALjtrwAAAAAXRSTlMAQObYZgAAAAlwSFlzAAAO\n",
       "xAAADsQBlSsOGwAAAE5JREFUCNdj4D29gAEIOBtAJF8BiMy7ACKjQATDFON2BgbelxfuKTCwv2Xg\n",
       "M2DgmMBwLwCkPK+AgU+Aoe8CA18C70YGBhYBHqARvM1A5QCqGhDobJhHyAAAAABJRU5ErkJggg==\n",
       "\" style=\"display:inline;vertical-align:middle;\" /></a></td></tr>\n",
       "<tr><td>4</td><td>Lambda</td><td>parameter:&nbsp;9<br>body:&nbsp;7<br></td><td><a class=\"ProveItLink\" href=\"../../../__pv_it/2f41bfa613e300bb7e01a730e156eccf7e200ec90/expr.ipynb\"><img src=\"data:image/png;base64,iVBORw0KGgoAAAANSUhEUgAAAFQAAAAVCAMAAADvsTk6AAAANlBMVEX///8WFhYNDQ3MzMxUVFQy\n",
       "MjKqqqoiIiKYmJju7u5EREQQEBC6urqIiIh2dnZmZmbc3NwAAADRPqZpAAAAAXRSTlMAQObYZgAA\n",
       "AAlwSFlzAAAOxAAADsQBlSsOGwAAATxJREFUOMulVFtihCAMtOUdHoH7X7agZZcEdKvNj2JkMsOE\n",
       "bNt/I1+snkbUZBniQxxMyfV3na6L/DWSFL7vdGpKK/cE1OsAfSPaKW3x44nNBx/KQMWvii6okk96\n",
       "LpvMUEAtQNXOPmOK+eWaIX8YLk56I/FtWe+kASLJVs5XjfASRWE0cCIlclIMwlb6zrcMmhNuEegR\n",
       "5SIGHUcXUAhdn7gXMK9++/4yJEoJhHoZPTlSFELUP3wT6N47GdOgwqlPHZRCBF/fWwFbTqwRvJdB\n",
       "jkbv8hlEle9KS4DadF6BKt6ofrzcEA9QAmErb1UT1uDWD5WoDbxPiU9H93AIrCsnYxJZRrGcHfwr\n",
       "8WkLhywKYW6PP5T0bsxUsrmHqOWvNVfTYzFjLsPANOqAa81wU7uNyDEcx4BH45Qzo2ptq/oDHYoL\n",
       "1B9fEzQAAAAASUVORK5CYII=\n",
       "\" style=\"display:inline;vertical-align:middle;\" /></a></td></tr>\n",
       "<tr><td>5</td><td>Literal</td><td></td><td><a class=\"ProveItLink\" href=\"../../../../number/numeral/__pv_it/f086f8c372bd40a2458306ddfdbb29f3dc6f63030/expr.ipynb\"><img src=\"data:image/png;base64,iVBORw0KGgoAAAANSUhEUgAAAAgAAAAOBAMAAADgeEClAAAAIVBMVEX///8QEBBERESIiIgyMjJm\n",
       "ZmZUVFTu7u4iIiLMzMwAAAAWRytzAAAAAXRSTlMAQObYZgAAAAlwSFlzAAAOxAAADsQBlSsOGwAA\n",
       "ABtJREFUCNdjYOBsZ2AoC1nOwMDATBbBprgiGQBsuwqCZsDj4wAAAABJRU5ErkJggg==\n",
       "\" style=\"display:inline;vertical-align:middle;\" /></a></td></tr>\n",
       "<tr><td>6</td><td>Variable</td><td></td><td><a class=\"ProveItLink\" href=\"../../../../__pv_it/557ab5defdcd46aa58168b08767502985122cd490/expr.ipynb\"><img src=\"data:image/png;base64,iVBORw0KGgoAAAANSUhEUgAAAAcAAAAOBAMAAAARcxsoAAAALVBMVEX///9ERESYmJhUVFQyMjKq\n",
       "qqrc3NwQEBC6urru7u52dnYiIiJmZmaIiIgAAAD/UVazAAAAAXRSTlMAQObYZgAAAAlwSFlzAAAO\n",
       "xAAADsQBlSsOGwAAADlJREFUCNdjYGC4wwAEuxjQAeedCwwMXBwFDAypPA4MDBP4gFyGuAlAwhkk\n",
       "+5SLgYHjQRKQKavAAAAx5QmdfgFqMAAAAABJRU5ErkJggg==\n",
       "\" style=\"display:inline;vertical-align:middle;\" /></a></td></tr>\n",
       "<tr><td>7</td><td>Operation</td><td>operator:&nbsp;8<br>operand:&nbsp;9<br></td><td><a class=\"ProveItLink\" href=\"../../../../__pv_it/e80bce2a0c2e8c976be76e7b3ce08f76e74ec5550/expr.ipynb\"><img src=\"data:image/png;base64,iVBORw0KGgoAAAANSUhEUgAAACgAAAAVBAMAAADGNLEtAAAAMFBMVEX///8yMjLc3NyIiIiYmJgi\n",
       "IiJERES6urqqqqoQEBDMzMxUVFTu7u52dnZmZmYAAAD1zdHuAAAAAXRSTlMAQObYZgAAAAlwSFlz\n",
       "AAAOxAAADsQBlSsOGwAAAP1JREFUGNNjYIADJhQKCiwgFLsBmOK7ewBIclxAkby9sgFIHoTpYAQp\n",
       "YZhRBqKewARZHoAM+QNmT4AbPgeIeQPA5gvABUWAqndGg9TzgezRu6wMsgOI+cFuYHQAqp7EkA80\n",
       "3hHI1V8AEmQFuuCkA8NTILMViPvBBnEWMDC8P8AQC2SuB+KrcMFpDDzfgcxKIM6GOLmBgecvA8sH\n",
       "qPbJYEE2AwaeHwxsAk0MDG7AUPkFFuTdwMAgzOD6AOiyx8CA+AAJHKAXTtsu2gx0ShDQ1Rsg/oiC\n",
       "h2sAQzdjA4TtBxPkc2AIgwUZmwKUocbA4PwIyuZJgDJykKNDBRqcCgwAmIo1X55DCvQAAAAASUVO\n",
       "RK5CYII=\n",
       "\" style=\"display:inline;vertical-align:middle;\" /></a></td></tr>\n",
       "<tr><td>8</td><td>Variable</td><td></td><td><a class=\"ProveItLink\" href=\"../../../../__pv_it/d7bbb04e874e28c7cefb21d4eea40806ae52f1f70/expr.ipynb\"><img src=\"data:image/png;base64,iVBORw0KGgoAAAANSUhEUgAAAAsAAAASBAMAAAB/WzlGAAAAMFBMVEX///8yMjLc3NyIiIiYmJgi\n",
       "IiJERES6urqqqqoQEBDMzMxUVFTu7u52dnZmZmYAAAD1zdHuAAAAAXRSTlMAQObYZgAAAAlwSFlz\n",
       "AAAOxAAADsQBlSsOGwAAAFNJREFUCNdjYGBg4Lt7AEgy3F7ZAKJmlIF47H9AbAbeABDJsjP6AYjm\n",
       "NwAL6i8AU/1gkuEqhMqGUJPBJNMvMMXxAUzxbQCR3Yxg48MOgsWcH4FIAPrAEkCfAu8DAAAAAElF\n",
       "TkSuQmCC\n",
       "\" style=\"display:inline;vertical-align:middle;\" /></a></td></tr>\n",
       "<tr><td>9</td><td>Variable</td><td></td><td><a class=\"ProveItLink\" href=\"../../../../__pv_it/a8d4b3a34d2189508f9082853fbac36935714f280/expr.ipynb\"><img src=\"data:image/png;base64,iVBORw0KGgoAAAANSUhEUgAAAAsAAAAJBAMAAAAWSsseAAAAMFBMVEX////MzMxUVFQyMjKqqqoi\n",
       "IiKYmJju7u5EREQQEBC6urqIiIh2dnZmZmbc3NwAAAD0tjQRAAAAAXRSTlMAQObYZgAAAAlwSFlz\n",
       "AAAOxAAADsQBlSsOGwAAAEdJREFUCNdjYOC7s28DAwPDygcc3xkY2Kcx8AYwMPB+Z2A9wMDA2cBQ\n",
       "v4CBof4AQz5QRb0DQzPLAwbmDWyxPECV2gcfbWQAABp5EMgcedARAAAAAElFTkSuQmCC\n",
       "\" style=\"display:inline;vertical-align:middle;\" /></a></td></tr>\n",
       "</table>\n"
      ],
      "text/plain": [
       "0. ((f(1) ,  ...  , f(i) , b))\n",
       "   core type: ExprTuple\n",
       "   sub-expressions: 1\n",
       "1. (f(1) ,  ...  , f(i) , b)\n",
       "   core type: ExprTuple\n",
       "   sub-expressions: 2, 3\n",
       "2. f(1),...,f(i)\n",
       "   core type: ExprRange\n",
       "   lambda_map: 4\n",
       "   start_index: 5\n",
       "   end_index: 6\n",
       "3. b\n",
       "   core type: Variable\n",
       "   sub-expressions: \n",
       "4. a -> f(a)\n",
       "   core type: Lambda\n",
       "   parameter: 9\n",
       "   body: 7\n",
       "5. 1\n",
       "   core type: Literal\n",
       "   sub-expressions: \n",
       "6. i\n",
       "   core type: Variable\n",
       "   sub-expressions: \n",
       "7. f(a)\n",
       "   core type: Operation\n",
       "   operator: 8\n",
       "   operand: 9\n",
       "8. f\n",
       "   core type: Variable\n",
       "   sub-expressions: \n",
       "9. a\n",
       "   core type: Variable\n",
       "   sub-expressions: "
      ]
     },
     "execution_count": 5,
     "metadata": {},
     "output_type": "execute_result"
    }
   ],
   "source": [
    "# display the expression information\n",
    "expr.exprInfo()"
   ]
  },
  {
   "cell_type": "code",
   "execution_count": null,
   "metadata": {},
   "outputs": [],
   "source": []
  }
 ],
 "metadata": {
  "kernelspec": {
   "display_name": "Python 3",
   "language": "python",
   "name": "python3"
  },
  "language_info": {
   "codemirror_mode": {
    "name": "ipython",
    "version": 3
   },
   "file_extension": ".py",
   "mimetype": "text/x-python",
   "name": "python",
   "nbconvert_exporter": "python",
   "pygments_lexer": "ipython3",
   "version": "3.7.4"
  }
 },
 "nbformat": 4,
 "nbformat_minor": 1
}
