{
 "cells": [
  {
   "cell_type": "markdown",
   "metadata": {},
   "source": [
    "Expression of type <a class=\"ProveItLink\" href=\"../../../../../../doc/html/api/proveit.logic.And.html\">And</a>\n",
    "=======================\n",
    "# from context <a class=\"ProveItLink\" href=\"../../_context_.ipynb\">proveit.core_expr_types.tuples</a>"
   ]
  },
  {
   "cell_type": "code",
   "execution_count": 1,
   "metadata": {},
   "outputs": [],
   "source": [
    "import proveit\n",
    "# Automation is not needed when building an expression:\n",
    "proveit.defaults.automation = False # This will speed things up.\n",
    "# import Expression classes needed to build the expression\n",
    "from proveit import ExprRange, IndexedVar, Variable\n",
    "from proveit.logic import And, Equals\n",
    "from proveit.number import one"
   ]
  },
  {
   "cell_type": "code",
   "execution_count": 2,
   "metadata": {},
   "outputs": [
    {
     "data": {
      "text/html": [
       "<strong id=\"expr\">expr:</strong> <a class=\"ProveItLink\" href=\"expr.ipynb\"><img src=\"data:image/png;base64,iVBORw0KGgoAAAANSUhEUgAAAPQAAAAVBAMAAACDGd7qAAAAMFBMVEX////MzMxUVFREREQiIiK6\n",
       "uroQEBCYmJhmZmYyMjLu7u52dnaqqqqIiIjc3NwAAACFAiZ1AAAAAXRSTlMAQObYZgAAAAlwSFlz\n",
       "AAAOxAAADsQBlSsOGwAAAtRJREFUSMeNlk1oE0EUgF9+mt1sks2i4EVKtwfxFIgX0YKyiIcqIkEk\n",
       "0FNVlEJPa4tgDmIOgpQ0GLxUROpCiuhBEotHDznkIPRgrIWKGFnqST20FxHjD503s7vZbiebeYf5\n",
       "efPyvX0z780EAGwYJiqIii1qSJGZ1lC7kY4gUIDlR64NXFaOG87osyBwLXS1ft03IUilNtg2WXYH\n",
       "FutTA6J643xrLfzLHvnZFsjmYNOs60lyvmGFz1bOsT6MhfLXNybIRIjptOWOZlm3eYR/xHMF2ieG\n",
       "nG/PP5uFqRDb195oiXXGQa5dPJKn/VS465Thny1BBTO98oWbww+7i85olbbpZtLmZ9cy7cNYeLy5\n",
       "j75cWaXxFO2YtxfyWSo6HuFvq+G4KrHf2ukyj7kMb7298bNQ7lHcGRw2Hiv/+wsluEBczIBsgFIK\n",
       "EtM9yHaYuk0VBwDOczxHdIjTrPBYfHlnwb/+rA03SKA9iDdhdCNoKteg0WTqMaoYB+hykFENMnST\n",
       "PRZfFkD505+NoXkiD42CG9nesp5uMXXRLdsVDvIFWTIc1w5rQFmP+MqrCE/IGTThrrepvrPOmvDA\n",
       "Yuq2e6HILf6FQvPRY92+2dU3x4Nn/YvsiXR/dD0zp1HkKWLegpNpe3/U2QI5OaaepzWECcy5VDDi\n",
       "bzjwWLdm4BqsB+1+wjNTKpoJPaNTJCmbZEeaTHE2PGrGyo66is0dbI5hqtYw/cFpJDznmMZKkLLU\n",
       "lwbxUwnyjsIJ+L5BIpKbFHmZAHKvtt5zXCvVRXevL2Izgc1hDB9LbBKcJobZHUGax4p2Ilcw3/fK\n",
       "cyzrHByCeIsi41o/27mCatUQerg8VkLL5NUdjWdzFT7AdoQipbKA62HvQuCVgW0St5TnFZm6Q+Ke\n",
       "TzHkaUf542mVh6Pqr4Lvtcu6RC4+NWfxnhCd3H1bnxiyLoCcEHRdB2FBpDp8MyXRv1yqKeqZIHcB\n",
       "073Ew3ou6loAAAAASUVORK5CYII=\n",
       "\" style=\"display:inline;vertical-align:middle;\" /></a><br>"
      ],
      "text/plain": [
       "expr: (a_{1} = b_{1}) and  ...  and (a_{m} = b_{m})"
      ]
     },
     "execution_count": 2,
     "metadata": {},
     "output_type": "execute_result"
    }
   ],
   "source": [
    "# build up the expression from sub-expressions\n",
    "subExpr1 = Variable(\"d\")\n",
    "expr = And(ExprRange(subExpr1, Equals(IndexedVar(Variable(\"a\"), subExpr1), IndexedVar(Variable(\"b\"), subExpr1)), one, Variable(\"m\")))"
   ]
  },
  {
   "cell_type": "code",
   "execution_count": 3,
   "metadata": {},
   "outputs": [
    {
     "name": "stdout",
     "output_type": "stream",
     "text": [
      "Passed sanity check: built 'expr' is the same as the stored Expression.\n"
     ]
    }
   ],
   "source": [
    "# check that the built expression is the same as the stored expression\n",
    "%check_expr"
   ]
  },
  {
   "cell_type": "code",
   "execution_count": 4,
   "metadata": {},
   "outputs": [
    {
     "name": "stdout",
     "output_type": "stream",
     "text": [
      "\\left(a_{1} = b_{1}\\right) \\land \\ldots \\land \\left(a_{m} = b_{m}\\right)\n"
     ]
    }
   ],
   "source": [
    "# Show the LaTeX representation of the expression for convenience if you need it.\n",
    "print(expr.latex())"
   ]
  },
  {
   "cell_type": "code",
   "execution_count": 5,
   "metadata": {},
   "outputs": [
    {
     "data": {
      "text/html": [
       "<table><tr><th>&nbsp;</th><th>core type</th><th>sub-expressions</th><th>expression</th></tr>\n",
       "<tr><td>0</td><td>Operation</td><td>operator:&nbsp;1<br>operands:&nbsp;2<br></td><td><a class=\"ProveItLink\" href=\"expr.ipynb\"><img src=\"data:image/png;base64,iVBORw0KGgoAAAANSUhEUgAAAPQAAAAVBAMAAACDGd7qAAAAMFBMVEX////MzMxUVFREREQiIiK6\n",
       "uroQEBCYmJhmZmYyMjLu7u52dnaqqqqIiIjc3NwAAACFAiZ1AAAAAXRSTlMAQObYZgAAAAlwSFlz\n",
       "AAAOxAAADsQBlSsOGwAAAtRJREFUSMeNlk1oE0EUgF9+mt1sks2i4EVKtwfxFIgX0YKyiIcqIkEk\n",
       "0FNVlEJPa4tgDmIOgpQ0GLxUROpCiuhBEotHDznkIPRgrIWKGFnqST20FxHjD503s7vZbiebeYf5\n",
       "efPyvX0z780EAGwYJiqIii1qSJGZ1lC7kY4gUIDlR64NXFaOG87osyBwLXS1ft03IUilNtg2WXYH\n",
       "FutTA6J643xrLfzLHvnZFsjmYNOs60lyvmGFz1bOsT6MhfLXNybIRIjptOWOZlm3eYR/xHMF2ieG\n",
       "nG/PP5uFqRDb195oiXXGQa5dPJKn/VS465Thny1BBTO98oWbww+7i85olbbpZtLmZ9cy7cNYeLy5\n",
       "j75cWaXxFO2YtxfyWSo6HuFvq+G4KrHf2ukyj7kMb7298bNQ7lHcGRw2Hiv/+wsluEBczIBsgFIK\n",
       "EtM9yHaYuk0VBwDOczxHdIjTrPBYfHlnwb/+rA03SKA9iDdhdCNoKteg0WTqMaoYB+hykFENMnST\n",
       "PRZfFkD505+NoXkiD42CG9nesp5uMXXRLdsVDvIFWTIc1w5rQFmP+MqrCE/IGTThrrepvrPOmvDA\n",
       "Yuq2e6HILf6FQvPRY92+2dU3x4Nn/YvsiXR/dD0zp1HkKWLegpNpe3/U2QI5OaaepzWECcy5VDDi\n",
       "bzjwWLdm4BqsB+1+wjNTKpoJPaNTJCmbZEeaTHE2PGrGyo66is0dbI5hqtYw/cFpJDznmMZKkLLU\n",
       "lwbxUwnyjsIJ+L5BIpKbFHmZAHKvtt5zXCvVRXevL2Izgc1hDB9LbBKcJobZHUGax4p2Ilcw3/fK\n",
       "cyzrHByCeIsi41o/27mCatUQerg8VkLL5NUdjWdzFT7AdoQipbKA62HvQuCVgW0St5TnFZm6Q+Ke\n",
       "TzHkaUf542mVh6Pqr4Lvtcu6RC4+NWfxnhCd3H1bnxiyLoCcEHRdB2FBpDp8MyXRv1yqKeqZIHcB\n",
       "073Ew3ou6loAAAAASUVORK5CYII=\n",
       "\" style=\"display:inline;vertical-align:middle;\" /></a></td></tr>\n",
       "<tr><td>1</td><td>Literal</td><td></td><td><a class=\"ProveItLink\" href=\"../../../../logic/boolean/conjunction/__pv_it/f41cc6b553210927c09f19a8a39cdf860a5585930/expr.ipynb\"><img src=\"data:image/png;base64,iVBORw0KGgoAAAANSUhEUgAAAAwAAAANBAMAAABvB5JxAAAALVBMVEX///9mZmbc3NxERETMzMy6\n",
       "urpUVFSYmJiIiIgyMjIiIiLu7u6qqqp2dnYAAACMfHT6AAAAAXRSTlMAQObYZgAAAAlwSFlzAAAO\n",
       "xAAADsQBlSsOGwAAAEpJREFUCNdjYGDgPcAAArsmgKn2VDC1wBlE8lzgVABSnAo8AkDKjYFhNZBK\n",
       "YWDoYGDgBirfBdHMeICBCyjONIGhAqTJhMEaRPkCACemC8GDBfsjAAAAAElFTkSuQmCC\n",
       "\" style=\"display:inline;vertical-align:middle;\" /></a></td></tr>\n",
       "<tr><td>2</td><td>ExprTuple</td><td>3</td><td><a class=\"ProveItLink\" href=\"../54e2f680575aa8fe4a8f15bfb8530361d94e1a120/expr.ipynb\"><img src=\"data:image/png;base64,iVBORw0KGgoAAAANSUhEUgAAAMsAAAAVBAMAAAAa4QdfAAAAMFBMVEX////MzMxUVFREREQiIiK6\n",
       "uroQEBCYmJhmZmYyMjLu7u52dnaqqqqIiIjc3NwAAACFAiZ1AAAAAXRSTlMAQObYZgAAAAlwSFlz\n",
       "AAAOxAAADsQBlSsOGwAAAkFJREFUSMdjYGB4wEBjALaA9wCtrYkFEadxSnOZOZBt9OIUBBvkEa4J\n",
       "uNVyNpDvhRlI7FkMDBwFuJXyUxCef5DYFQwMbHiUxi8g2xbWX0gctgUMkXjUbiHfM9zI0cpZwNAN\n",
       "pPi6713ApnbS3R68ZuHSBzJZ9wYixLkVGKYDqbAHzHA/criAgQIopf1csB5vpkLWBwItYK1OIOb6\n",
       "WVz/4OLsExh8gMalM3A4MHBVopvC84uB/wKmMCLBg/VhB+cXMPxFGOTAkAr0wC8Glg0MslfQlXJM\n",
       "YFi/AVMYIQ/Whx10MnD9hnMYP4CsYTNgWB/AwHAES7aJP4ApjEhAEH04sg0rIkmzJjDMAYbjBoZ6\n",
       "Bpg1SHHDX8DQvwCPNRB9FYV3Fa4rosfNd6Bf2dtlL/EWCYADzRao/ACDJc8DTPP4A4ChDxbGzD9c\n",
       "DDB9pekMSQyX0OW/MiwrYA8rYFPgBTqY3YBhEzBwLrB7cGMJNKYC5gawMNdPkKEToAScB9bHt9YB\n",
       "aGY3ul51BguGV1eALuUAxh7HBYYQoD7djY8uYrGGq7cHGpYuQO+wgAo4MOEBYnjB9DFdYEwApVdU\n",
       "sAKUbXQZxBhYgDTLAwYWAZgMjkgACfNghtopeEIQ4DXg+yCATWsiw2WG94wMDE+A4dZAhDXcmMLw\n",
       "lPwe6B92A2wJm+8D0D/FQL3tQI4dVPD1/F5stoCF12ImAXgpE8TA+YBPF1shy6rAMI/h0S0GPgNQ\n",
       "BUREQYhZWbCTUIwyg9zAV0DrSrqOgQEArlagZhH+svQAAAAASUVORK5CYII=\n",
       "\" style=\"display:inline;vertical-align:middle;\" /></a></td></tr>\n",
       "<tr><td>3</td><td>ExprRange</td><td>lambda_map:&nbsp;4<br>start_index:&nbsp;5<br>end_index:&nbsp;6<br></td><td><a class=\"ProveItLink\" href=\"../32acb18c7ee9a86dbe3eec174debb91728f157020/expr.ipynb\"><img src=\"data:image/png;base64,iVBORw0KGgoAAAANSUhEUgAAAN8AAAAVBAMAAAA0pCbNAAAAMFBMVEX////MzMxUVFREREQiIiK6\n",
       "uroQEBCYmJhmZmYyMjLu7u52dnaqqqqIiIjc3NwAAACFAiZ1AAAAAXRSTlMAQObYZgAAAAlwSFlz\n",
       "AAAOxAAADsQBlSsOGwAAAo1JREFUSMeNls9rE0EUx79pNtlkk2xy8laMJ0+BPYkKSpAeShEpIoEe\n",
       "pFWUgqfVItSL5iCUkgaDF0sRDQjipSSKf0AOnuzBWAuKWFmqJz00FxHjD5y3Pybb7OZt3mHy5s3b\n",
       "z5s382YmACxEiR4xHk3wO+Y6kX6JLjs8BsGVi9RsjRzWjpVd7ROL2WJHn1w5ODWtMdo3XfWUJkPk\n",
       "CCTrPn0DSJmjXfPeWqlVBsgRSP749GUgybjOy8SuMV7JiALo+32bmGN8X0rtAeM1xwfMlP2bZKJG\n",
       "ZV/7HFqH93fXXO0FQ+QIFKP0YVDFmaI994oVl3mnpmwpUjX8arbcI3aLCThMILlrQ86Q2trQ/km7\n",
       "2sBZAV5EqgwtAM32ke865ldMQEkIlzdN/B0gy7gqkupDaWNyJ1B+DbTajvkwE1ASwmUV2m/ZifXI\n",
       "PWmgNRuShTiG8x3HXOEDuoQRxzAxOBiJBTwUq9zGHblsvj3Mm7jXdMzckkrC8vXd4vsjw3v4U+Sv\n",
       "rkxu524U7CU9Jdw7OJG1gtD8rNgbx7xETfC60aiRhJuLuIztYZ8feGqqFTNZzIkkVIMKPt1VpzMh\n",
       "WUyY8aprrttFSzXXcBXZkwR9syzotWHKURzHtx0x+5TY5VQXF8S3ped7b0MCavU1bzXPUTMlUlTo\n",
       "kpuG2ygzopGEiW5sgWr2oDyjY1jCISjiV7GgFLyREftEZt2u+WxwTV9TVI+QLOQMvVcIg1zCO+zH\n",
       "gK/+e5kJ6NzPmeBg23+z74scVSPseOg9keOS+H5FdE67xu+P62HxbPMXW90MFo19n3mE80hbeins\n",
       "JUsU8Qh7H6Eb9ECO8VKftNvgM6Q6T+y4Dz7iNBvdjPRT+T8tYxBcuQ38B19OtRhJJoa2AAAAAElF\n",
       "TkSuQmCC\n",
       "\" style=\"display:inline;vertical-align:middle;\" /></a></td></tr>\n",
       "<tr><td>4</td><td>Lambda</td><td>parameter:&nbsp;14<br>body:&nbsp;7<br></td><td><a class=\"ProveItLink\" href=\"../97b2bec7d1be19d66bb52e63dc1599f03b1d376c0/expr.ipynb\"><img src=\"data:image/png;base64,iVBORw0KGgoAAAANSUhEUgAAAHwAAAAVCAMAAACzO3oeAAAANlBMVEX///8WFhYNDQ1UVFSYmJhE\n",
       "RESIiIjc3NwiIiJ2dnbu7u66urqqqqpmZmYQEBAyMjLMzMwAAAAsyJ8YAAAAAXRSTlMAQObYZgAA\n",
       "AAlwSFlzAAAOxAAADsQBlSsOGwAAAZdJREFUSMetVVmWhCAMZEYIGAjL/S87uA5B2kae/HSrVSRV\n",
       "SUCIp0uLN9bYLuBeCW6heIjBUw/JzQORUHlzLyL1SMIwJjRclQUsfEjYsQnJseANZbLIZzbNCleN\n",
       "4Qcr3FLm8WoMgzlulx10vaksrC5qmiGexnAcf6Kj3RaKhv6STwBUOz9PixyfvVWnMTycU9dkL5Qi\n",
       "O1Os6WzTlLsLU1VCmW1Ev+xIoa1VgCpCmC37nXIiycf7+VzTTMDRLvNp/WLO+f39MWylZP97ZPtb\n",
       "U3T6MiNhlT9zdMy/Xq1f7AflNlhRB68poDqm3B5ddaCt3xOS6UOLxfIsEMGJU8NOQZIQ4L7mSR52\n",
       "lehsO64JqSCcbgUPrEsUbMH/KWhi9i9+OWLs3icMLbMDSyLSkDgqaJnpdJ0ORiHaine7phxXLTsx\n",
       "NOVdcII56gma2RN/azdbCsoi6lvJs9n7lDO0eXqtmirFdXgVIHaxGVqbp+ekrG+nfNrkIvZeNyV6\n",
       "4I5SlVeWpIO5d58CrdXzKwKVeGcpHCBp+UpsuTj4B3xDEVg0jTSnAAAAAElFTkSuQmCC\n",
       "\" style=\"display:inline;vertical-align:middle;\" /></a></td></tr>\n",
       "<tr><td>5</td><td>Literal</td><td></td><td><a class=\"ProveItLink\" href=\"../../../../number/numeral/__pv_it/f086f8c372bd40a2458306ddfdbb29f3dc6f63030/expr.ipynb\"><img src=\"data:image/png;base64,iVBORw0KGgoAAAANSUhEUgAAAAgAAAAOBAMAAADgeEClAAAAIVBMVEX///8QEBBERESIiIgyMjJm\n",
       "ZmZUVFTu7u4iIiLMzMwAAAAWRytzAAAAAXRSTlMAQObYZgAAAAlwSFlzAAAOxAAADsQBlSsOGwAA\n",
       "ABtJREFUCNdjYOBsZ2AoC1nOwMDATBbBprgiGQBsuwqCZsDj4wAAAABJRU5ErkJggg==\n",
       "\" style=\"display:inline;vertical-align:middle;\" /></a></td></tr>\n",
       "<tr><td>6</td><td>Variable</td><td></td><td><a class=\"ProveItLink\" href=\"../6e8a38e9a7e2b6af352562cd77e0eb4751f142620/expr.ipynb\"><img src=\"data:image/png;base64,iVBORw0KGgoAAAANSUhEUgAAABIAAAAJBAMAAADN8WE8AAAAMFBMVEX///8iIiIyMjJmZmYQEBCq\n",
       "qqqYmJju7u5ERETMzMyIiIjc3NxUVFR2dna6uroAAACULOzSAAAAAXRSTlMAQObYZgAAAAlwSFlz\n",
       "AAAOxAAADsQBlSsOGwAAAGNJREFUCNdj4Luz+9Ypzlt9DAy8HF0M9XkMIQwM81gaGPZfYMhnYCio\n",
       "f8AQX8BwgoGBIZ6BwYiBwQvIOsTAIMvA95udgcGXgf0fA4/CVgbunwxsHxiYLlxg4BNg4DJgYLXa\n",
       "AAB/WBcBafZ/twAAAABJRU5ErkJggg==\n",
       "\" style=\"display:inline;vertical-align:middle;\" /></a></td></tr>\n",
       "<tr><td>7</td><td>Operation</td><td>operator:&nbsp;8<br>operands:&nbsp;9<br></td><td><a class=\"ProveItLink\" href=\"../0f68c2a190b9f64706415fdb7ede8b777648244c0/expr.ipynb\"><img src=\"data:image/png;base64,iVBORw0KGgoAAAANSUhEUgAAAEMAAAARBAMAAAB0ogy8AAAAMFBMVEX////MzMxUVFQyMjKqqqoi\n",
       "IiKYmJju7u5EREQQEBC6urqIiIh2dnZmZmbc3NwAAAD0tjQRAAAAAXRSTlMAQObYZgAAAAlwSFlz\n",
       "AAAOxAAADsQBlSsOGwAAAOtJREFUKM9jYMAFKqYyEAS2hJV8IaiC6ztBJTwBcCbfnX0bsClh1t7r\n",
       "AGWufMCBMPJqKAgEgZj15uz/IILs0xh4QUbyTkQzxb+A4TeQuinAwPudgfUAyL4PaEouM7D/AVLv\n",
       "GRg4GxjqFwCZ3A0YwcIF8vYOoJUHGPKB1l3bvAHNLd9AFtRmWwOVODA0szwoFZAXQDPlF0NlAnsg\n",
       "40eg3zawxfIw3GWQR/e0GkMvA+8FRqAT2bUPPtoI1LIDXUktMFj4F8CdCAyB7nIswVf/gGN7AZQ9\n",
       "j/FjAhYlnA/kxWDstSl7sCnhuuZ9jAEA9W5DPYObkfgAAAAASUVORK5CYII=\n",
       "\" style=\"display:inline;vertical-align:middle;\" /></a></td></tr>\n",
       "<tr><td>8</td><td>Literal</td><td></td><td><a class=\"ProveItLink\" href=\"../../../../logic/equality/__pv_it/e16d2caa26a16688b658bdb9c422caf4b84579e10/expr.ipynb\"><img src=\"data:image/png;base64,iVBORw0KGgoAAAANSUhEUgAAAA4AAAAFBAMAAACHocAhAAAAD1BMVEX///9UVFQiIiJmZmYAAACP\n",
       "OqLZAAAAAXRSTlMAQObYZgAAAAlwSFlzAAAOxAAADsQBlSsOGwAAABJJREFUCNdjMFICAUUGXAAq\n",
       "DwAoFgH7Aeay4gAAAABJRU5ErkJggg==\n",
       "\" style=\"display:inline;vertical-align:middle;\" /></a></td></tr>\n",
       "<tr><td>9</td><td>ExprTuple</td><td>10, 11</td><td><a class=\"ProveItLink\" href=\"../b3d9a238aa12329db5d42717fe313ea09d09d97d0/expr.ipynb\"><img src=\"data:image/png;base64,iVBORw0KGgoAAAANSUhEUgAAAD0AAAAVBAMAAAAHs/uBAAAAMFBMVEX////MzMxUVFREREQiIiK6\n",
       "uroQEBCYmJhmZmYyMjLu7u52dnaqqqqIiIjc3NwAAACFAiZ1AAAAAXRSTlMAQObYZgAAAAlwSFlz\n",
       "AAAOxAAADsQBlSsOGwAAAU1JREFUKM9jYGB4wIALgGV4D+CUjwURp9FFucwcoCyQVq4JGNo4G2Cs\n",
       "WQwMHAUY8vxwGysYGNgwrY1fAGOxLWCIxJTfgrCpgKEbSPF137uAJD/pbg+Uxa3AMB1IhT1g/oXk\n",
       "/p8L1kPDhH0Cgw9QIJ2BA+QljkSwIM8vBv4LEB6PA0MqkPWLgWUDyJoPYHmOCQzrN0B4jB9A8mwG\n",
       "DOsDQMFhAPN+/AEIjzWBYQ4DSHU90Jb2mxBH8hcw9C+A8IDm2wLlDzBY8jxYIiAvwMAFkg8AOgjM\n",
       "Y2A3YNgENPACuwc3QweDPFApMLSZCpgbIDwGjgsMIUCTdTc+usjwleEyAwOLF5DbC/Q+mMfA8oCB\n",
       "RQDq638MtqsYGE6h8J4ArYBFVh7jR2BUbUDhtQNZdlCRiJrbBQxcF5B5fCAPL0aOGnaUiGIGRSRf\n",
       "Ac70VcfAAAB5GlbhwBlxkwAAAABJRU5ErkJggg==\n",
       "\" style=\"display:inline;vertical-align:middle;\" /></a></td></tr>\n",
       "<tr><td>10</td><td>IndexedVar</td><td>variable:&nbsp;12<br>index:&nbsp;14<br></td><td><a class=\"ProveItLink\" href=\"../0a80785889ec57e0777508d42475f92db9920ba10/expr.ipynb\"><img src=\"data:image/png;base64,iVBORw0KGgoAAAANSUhEUgAAABQAAAAMBAMAAACQIoDIAAAAMFBMVEX////MzMxUVFQyMjKqqqoi\n",
       "IiKYmJju7u5EREQQEBC6urqIiIh2dnZmZmbc3NwAAAD0tjQRAAAAAXRSTlMAQObYZgAAAAlwSFlz\n",
       "AAAOxAAADsQBlSsOGwAAAHBJREFUCNdjYOC7s28DAwSsfMDxHcJin8bAGwCkeScy8H5nYD0AZPJ9\n",
       "YOBsYKhfAGRyA+kDDPlAZdc2b2Cod2BoZnlQKiAvwMC8gS2Wh+EugzxQSvvgo40Mvxh2QM1m/8fQ\n",
       "XQ5lz2P8mABlrk3ZkwAA2jsetYI8wIsAAAAASUVORK5CYII=\n",
       "\" style=\"display:inline;vertical-align:middle;\" /></a></td></tr>\n",
       "<tr><td>11</td><td>IndexedVar</td><td>variable:&nbsp;13<br>index:&nbsp;14<br></td><td><a class=\"ProveItLink\" href=\"../2ef45cf38be408b1ca3387d513b2d1881a3586290/expr.ipynb\"><img src=\"data:image/png;base64,iVBORw0KGgoAAAANSUhEUgAAABIAAAARBAMAAAAidOHKAAAAMFBMVEX////MzMyYmJjc3NyIiIhU\n",
       "VFR2dna6urqqqqpmZmYyMjIiIiIQEBBERETu7u4AAACIO4EmAAAAAXRSTlMAQObYZgAAAAlwSFlz\n",
       "AAAOxAAADsQBlSsOGwAAAH1JREFUCNdj4LuzgQEKuCbAWPwNMFb9AxgrG8ZgWOoyA8Lg+/XgvQGY\n",
       "xfGPgd+BgYHzIAPnAob3CQwMzB9AxtUDzWG5wMCvwDD/Ad8kLwcG/gK+QwyvBeQFGFgVeCcwzGSQ\n",
       "B5oyBWjcdwZfqJmfGa68gzAPM35UgLAqNdwUAEy2H3XFaUTyAAAAAElFTkSuQmCC\n",
       "\" style=\"display:inline;vertical-align:middle;\" /></a></td></tr>\n",
       "<tr><td>12</td><td>Variable</td><td></td><td><a class=\"ProveItLink\" href=\"../a8d4b3a34d2189508f9082853fbac36935714f280/expr.ipynb\"><img src=\"data:image/png;base64,iVBORw0KGgoAAAANSUhEUgAAAAsAAAAJBAMAAAAWSsseAAAAMFBMVEX////MzMxUVFQyMjKqqqoi\n",
       "IiKYmJju7u5EREQQEBC6urqIiIh2dnZmZmbc3NwAAAD0tjQRAAAAAXRSTlMAQObYZgAAAAlwSFlz\n",
       "AAAOxAAADsQBlSsOGwAAAEdJREFUCNdjYOC7s28DAwPDygcc3xkY2Kcx8AYwMPB+Z2A9wMDA2cBQ\n",
       "v4CBof4AQz5QRb0DQzPLAwbmDWyxPECV2gcfbWQAABp5EMgcedARAAAAAElFTkSuQmCC\n",
       "\" style=\"display:inline;vertical-align:middle;\" /></a></td></tr>\n",
       "<tr><td>13</td><td>Variable</td><td></td><td><a class=\"ProveItLink\" href=\"../53e304ff98ebc000dbe3ef224f4637dbafd46ba70/expr.ipynb\"><img src=\"data:image/png;base64,iVBORw0KGgoAAAANSUhEUgAAAAkAAAAOBAMAAAAPuiubAAAALVBMVEX///+YmJjc3NyIiIhUVFR2\n",
       "dna6urqqqqpmZmYyMjIiIiIQEBBERETu7u4AAAALjtrwAAAAAXRSTlMAQObYZgAAAAlwSFlzAAAO\n",
       "xAAADsQBlSsOGwAAAE5JREFUCNdj4D29gAEIOBtAJF8BiMy7ACKjQATDFON2BgbelxfuKTCwv2Xg\n",
       "M2DgmMBwLwCkPK+AgU+Aoe8CA18C70YGBhYBHqARvM1A5QCqGhDobJhHyAAAAABJRU5ErkJggg==\n",
       "\" style=\"display:inline;vertical-align:middle;\" /></a></td></tr>\n",
       "<tr><td>14</td><td>Variable</td><td></td><td><a class=\"ProveItLink\" href=\"../445e790c2b62732eb8597a2ddda4cbd1a8fb79140/expr.ipynb\"><img src=\"data:image/png;base64,iVBORw0KGgoAAAANSUhEUgAAAAsAAAAOBAMAAAALT/umAAAAMFBMVEX///9UVFSYmJhERESIiIjc\n",
       "3NwiIiJ2dnbu7u66urqqqqpmZmYQEBAyMjLMzMwAAAAJQA1gAAAAAXRSTlMAQObYZgAAAAlwSFlz\n",
       "AAAOxAAADsQBlSsOGwAAAFpJREFUCNdjYGBg4LuzgQEE+BeAqfkNYKoMTDLcBmLW7X6/gNScAOYf\n",
       "DAwchxi4LzAwcP9gYCtgYOAxYOifwMDQX8CgD1TRv4DBliuAgdeBKZsdqFKkLtCPAQBT/hIMxxSb\n",
       "NAAAAABJRU5ErkJggg==\n",
       "\" style=\"display:inline;vertical-align:middle;\" /></a></td></tr>\n",
       "</table>\n"
      ],
      "text/plain": [
       "0. (a_{1} = b_{1}) and  ...  and (a_{m} = b_{m})\n",
       "   core type: Operation\n",
       "   operator: 1\n",
       "   operands: 2\n",
       "1. and\n",
       "   core type: Literal\n",
       "   sub-expressions: \n",
       "2. (a_{1} = b_{1} ,  ...  , a_{m} = b_{m})\n",
       "   core type: ExprTuple\n",
       "   sub-expressions: 3\n",
       "3. (a_{1} = b_{1}),...,(a_{m} = b_{m})\n",
       "   core type: ExprRange\n",
       "   lambda_map: 4\n",
       "   start_index: 5\n",
       "   end_index: 6\n",
       "4. d -> (a_{d} = b_{d})\n",
       "   core type: Lambda\n",
       "   parameter: 14\n",
       "   body: 7\n",
       "5. 1\n",
       "   core type: Literal\n",
       "   sub-expressions: \n",
       "6. m\n",
       "   core type: Variable\n",
       "   sub-expressions: \n",
       "7. a_{d} = b_{d}\n",
       "   core type: Operation\n",
       "   operator: 8\n",
       "   operands: 9\n",
       "8. =\n",
       "   core type: Literal\n",
       "   sub-expressions: \n",
       "9. (a_{d} , b_{d})\n",
       "   core type: ExprTuple\n",
       "   sub-expressions: 10, 11\n",
       "10. a_{d}\n",
       "    core type: IndexedVar\n",
       "variable: 12\n",
       "index: 14\n",
       "11. b_{d}\n",
       "    core type: IndexedVar\n",
       "variable: 13\n",
       "index: 14\n",
       "12. a\n",
       "    core type: Variable\n",
       "    sub-expressions: \n",
       "13. b\n",
       "    core type: Variable\n",
       "    sub-expressions: \n",
       "14. d\n",
       "    core type: Variable\n",
       "    sub-expressions: "
      ]
     },
     "execution_count": 5,
     "metadata": {},
     "output_type": "execute_result"
    }
   ],
   "source": [
    "# display the expression information\n",
    "expr.exprInfo()"
   ]
  },
  {
   "cell_type": "code",
   "execution_count": null,
   "metadata": {},
   "outputs": [],
   "source": []
  }
 ],
 "metadata": {
  "kernelspec": {
   "display_name": "Python 3",
   "language": "python",
   "name": "python3"
  },
  "language_info": {
   "codemirror_mode": {
    "name": "ipython",
    "version": 3
   },
   "file_extension": ".py",
   "mimetype": "text/x-python",
   "name": "python",
   "nbconvert_exporter": "python",
   "pygments_lexer": "ipython3",
   "version": "3.7.4"
  }
 },
 "nbformat": 4,
 "nbformat_minor": 1
}
