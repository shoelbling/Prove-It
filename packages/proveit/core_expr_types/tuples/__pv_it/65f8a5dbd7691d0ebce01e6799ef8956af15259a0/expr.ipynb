{
 "cells": [
  {
   "cell_type": "markdown",
   "metadata": {},
   "source": [
    "Expression of type <a class=\"ProveItLink\" href=\"../../../../../../doc/html/api/proveit.logic.InSet.html\">InSet</a>\n",
    "=======================\n",
    "# from context <a class=\"ProveItLink\" href=\"../../_context_.ipynb\">proveit.core_expr_types.tuples</a>"
   ]
  },
  {
   "cell_type": "code",
   "execution_count": 1,
   "metadata": {},
   "outputs": [],
   "source": [
    "import proveit\n",
    "# Automation is not needed when building an expression:\n",
    "proveit.defaults.automation = False # This will speed things up.\n",
    "# import Expression classes needed to build the expression\n",
    "from proveit import Variable\n",
    "from proveit.logic import InSet\n",
    "from proveit.number import Add, Naturals"
   ]
  },
  {
   "cell_type": "code",
   "execution_count": 2,
   "metadata": {},
   "outputs": [
    {
     "data": {
      "text/html": [
       "<strong id=\"expr\">expr:</strong> <a class=\"ProveItLink\" href=\"expr.ipynb\"><img src=\"data:image/png;base64,iVBORw0KGgoAAAANSUhEUgAAAGQAAAAVBAMAAABCslYDAAAAMFBMVEX////MzMxUVFREREQiIiK6\n",
       "uroQEBCYmJhmZmYyMjLu7u52dnaqqqqIiIjc3NwAAACFAiZ1AAAAAXRSTlMAQObYZgAAAAlwSFlz\n",
       "AAAOxAAADsQBlSsOGwAAAbFJREFUOMt1kz1LxEAQht9L4iWX5D5AsBO0sRMO/AALRSSFhXiHiCIi\n",
       "CqKWprQQvUIQOUWxEeSQoDZWd4o/IGApQsROUIIIYmfrVc4mUbNHdord2Zl5dmZ3ZwH4SBaRHci6\n",
       "AsdCy1ov9Z3CWF8B7hOi9cHRhL1kdwqoO9CPkjJkKjScthilScNGGtDsuHU2mvMsw0YrcoczKGBU\n",
       "TB6iedGhIe2EiyfLCkqRPrxPhswlIrdBdWEBc8+/WfzubIOQKum56qvHI8cv+4DRxdTc35EkX8YA\n",
       "ISekz/hyk0P0b6fuQw3Kyfj/SKpyeQlMUMAatFEOMZvIezADY+b/+D42zUGAXkZrQmmQaceyVi1r\n",
       "jDTtCPUGUl8ssMMiKUaI5PQESLqIepnLQs+y6KJtiekX8Sx6FxVWA9twm7+xvI1DJypMiSPolIFh\n",
       "QlwMmT6HlOl8UINyst5fwxRo1Q7cUBmeOm5wWSRbpo7RwuDaL6KwltgDpunGeq/fHvlLPthnIWHm\n",
       "84GwC1KlZRqvyF5Iev1A3qN5vt/ieletJLVlILuiLzYicuSKIs+FyCE7ws1sgWNLYP8B4UNnQGts\n",
       "1CUAAAAASUVORK5CYII=\n",
       "\" style=\"display:inline;vertical-align:middle;\" /></a><br>"
      ],
      "text/plain": [
       "expr: (a + b) in Naturals"
      ]
     },
     "execution_count": 2,
     "metadata": {},
     "output_type": "execute_result"
    }
   ],
   "source": [
    "# build up the expression from sub-expressions\n",
    "expr = InSet(Add(Variable(\"a\"), Variable(\"b\")), Naturals)"
   ]
  },
  {
   "cell_type": "code",
   "execution_count": 3,
   "metadata": {},
   "outputs": [
    {
     "name": "stdout",
     "output_type": "stream",
     "text": [
      "Passed sanity check: built 'expr' is the same as the stored Expression.\n"
     ]
    }
   ],
   "source": [
    "# check that the built expression is the same as the stored expression\n",
    "%check_expr"
   ]
  },
  {
   "cell_type": "code",
   "execution_count": 4,
   "metadata": {},
   "outputs": [
    {
     "name": "stdout",
     "output_type": "stream",
     "text": [
      "\\left(a + b\\right) \\in \\mathbb{N}\n"
     ]
    }
   ],
   "source": [
    "# Show the LaTeX representation of the expression for convenience if you need it.\n",
    "print(expr.latex())"
   ]
  },
  {
   "cell_type": "code",
   "execution_count": 5,
   "metadata": {},
   "outputs": [
    {
     "data": {
      "text/html": [
       "<table><tr><th>&nbsp;</th><th>core type</th><th>sub-expressions</th><th>expression</th></tr>\n",
       "<tr><td>0</td><td>Operation</td><td>operator:&nbsp;1<br>operands:&nbsp;2<br></td><td><a class=\"ProveItLink\" href=\"expr.ipynb\"><img src=\"data:image/png;base64,iVBORw0KGgoAAAANSUhEUgAAAGQAAAAVBAMAAABCslYDAAAAMFBMVEX////MzMxUVFREREQiIiK6\n",
       "uroQEBCYmJhmZmYyMjLu7u52dnaqqqqIiIjc3NwAAACFAiZ1AAAAAXRSTlMAQObYZgAAAAlwSFlz\n",
       "AAAOxAAADsQBlSsOGwAAAbFJREFUOMt1kz1LxEAQht9L4iWX5D5AsBO0sRMO/AALRSSFhXiHiCIi\n",
       "CqKWprQQvUIQOUWxEeSQoDZWd4o/IGApQsROUIIIYmfrVc4mUbNHdord2Zl5dmZ3ZwH4SBaRHci6\n",
       "AsdCy1ov9Z3CWF8B7hOi9cHRhL1kdwqoO9CPkjJkKjScthilScNGGtDsuHU2mvMsw0YrcoczKGBU\n",
       "TB6iedGhIe2EiyfLCkqRPrxPhswlIrdBdWEBc8+/WfzubIOQKum56qvHI8cv+4DRxdTc35EkX8YA\n",
       "ISekz/hyk0P0b6fuQw3Kyfj/SKpyeQlMUMAatFEOMZvIezADY+b/+D42zUGAXkZrQmmQaceyVi1r\n",
       "jDTtCPUGUl8ssMMiKUaI5PQESLqIepnLQs+y6KJtiekX8Sx6FxVWA9twm7+xvI1DJypMiSPolIFh\n",
       "QlwMmT6HlOl8UINyst5fwxRo1Q7cUBmeOm5wWSRbpo7RwuDaL6KwltgDpunGeq/fHvlLPthnIWHm\n",
       "84GwC1KlZRqvyF5Iev1A3qN5vt/ieletJLVlILuiLzYicuSKIs+FyCE7ws1sgWNLYP8B4UNnQGts\n",
       "1CUAAAAASUVORK5CYII=\n",
       "\" style=\"display:inline;vertical-align:middle;\" /></a></td></tr>\n",
       "<tr><td>1</td><td>Literal</td><td></td><td><a class=\"ProveItLink\" href=\"../../../../logic/set_theory/membership/__pv_it/7776fc89cb67d0b5b1ec2c0c8e08da5587921ccf0/expr.ipynb\"><img src=\"data:image/png;base64,iVBORw0KGgoAAAANSUhEUgAAAAwAAAAMBAMAAACkW0HUAAAAKlBMVEX///92dnZUVFSqqqoQEBDM\n",
       "zMzc3Nzu7u66uroyMjIiIiJERESIiIgAAACm0meuAAAAAXRSTlMAQObYZgAAAAlwSFlzAAAOxAAA\n",
       "DsQBlSsOGwAAADxJREFUCNdjYGA4vWrVBAaGzuMMQMA2HUQycCZAKDDJELIKCDYwVEN4XBCK5wCE\n",
       "ngyhinYUgOnGXasmAABvGQ6ucz2C1gAAAABJRU5ErkJggg==\n",
       "\" style=\"display:inline;vertical-align:middle;\" /></a></td></tr>\n",
       "<tr><td>2</td><td>ExprTuple</td><td>3, 4</td><td><a class=\"ProveItLink\" href=\"../ee9183d307c8d655f11e3c52886621738c65096b0/expr.ipynb\"><img src=\"data:image/png;base64,iVBORw0KGgoAAAANSUhEUgAAAFEAAAAVBAMAAADMaB9/AAAAMFBMVEX////MzMxUVFREREQiIiK6\n",
       "uroQEBCYmJhmZmYyMjLu7u52dnaqqqqIiIjc3NwAAACFAiZ1AAAAAXRSTlMAQObYZgAAAAlwSFlz\n",
       "AAAOxAAADsQBlSsOGwAAAYdJREFUKM+Nk79Lw0AUx79t0iZNY9rBwbGDk2iJi1BQ6RBESocMIjhI\n",
       "OyiuGV3Ubg5VDC6COAR1bxXRNeCmSzqLEsQ/QBAKZvJdmkAOUvXgyPc9Pnm/7g6Aj79XyEy4vxDX\n",
       "XzUH90NzkxnPKYCyUI/UYq4CJQjDKXZarEInEtP+A9AGzgHZShK5yCrFJc3qBR+UYBfIc7FUb/Rt\n",
       "OZGjuqfZjMw72Egl72JHNVt+YWTBQpdMrfvm8eTp61FEQhdMIosVnJG57gsBRyrfTs+PyCmlQaRk\n",
       "o0n+Hch1jlQDlLyIlNxH6l2tY5vaDyD2ySsbxsqWYVRI2ej1IxIzWSIzn4zM6+iZXEwaZ8uNyUuF\n",
       "EubauAD7/YDvvWThxInJjKeH2ZeIdFFTfY40qXaFqXnaAyIlHbeUy5NWi1zMrCV00GPn3ERYNWQP\n",
       "a9T73M37gJ/SMY1TbACTQ310NUQfYjntjML1lNAfVEAn7YaEq5/Qh7SXx91iJRFfoyJwNY6UElpg\n",
       "M9Osf7yjfeAHghtgKlD1Ic0AAAAASUVORK5CYII=\n",
       "\" style=\"display:inline;vertical-align:middle;\" /></a></td></tr>\n",
       "<tr><td>3</td><td>Operation</td><td>operator:&nbsp;5<br>operands:&nbsp;6<br></td><td><a class=\"ProveItLink\" href=\"../c89a8a6606d4a234ab0f2543dfaf472940e738130/expr.ipynb\"><img src=\"data:image/png;base64,iVBORw0KGgoAAAANSUhEUgAAAC0AAAAQBAMAAABw0OvaAAAAMFBMVEX////MzMxUVFQyMjKqqqoi\n",
       "IiKYmJju7u5EREQQEBC6urqIiIh2dnZmZmbc3NwAAAD0tjQRAAAAAXRSTlMAQObYZgAAAAlwSFlz\n",
       "AAAOxAAADsQBlSsOGwAAAKVJREFUGNNjYMAA7J0BDFgB8wVUPlcChOZ3QBVn2QCh1xdgFz8KJvnu\n",
       "7NuAKm60+wqQXPmA4zuKOPvngvoHDOzTGHgDUMRZvjPwb2Dg/c7AegDI4w0NjZwaGqoAZBkw1B9g\n",
       "4GxgqF+Aoh7o/PUOIKl8VPfwJzDcL2Cod2BoZnmAIr4AaCcD8wa2WB4U9UwJHMCAYNc++Ggjqjtv\n",
       "X8HuX3QACzcQAABaMS8plv1LDAAAAABJRU5ErkJggg==\n",
       "\" style=\"display:inline;vertical-align:middle;\" /></a></td></tr>\n",
       "<tr><td>4</td><td>Literal</td><td></td><td><a class=\"ProveItLink\" href=\"../../../../number/sets/integer/__pv_it/b49c37b99b7e8d73a8d7971bcf454d693b90a2c60/expr.ipynb\"><img src=\"data:image/png;base64,iVBORw0KGgoAAAANSUhEUgAAAA8AAAAPBAMAAADJ+Ih5AAAAMFBMVEX///9mZmbMzMyIiIiYmJjc\n",
       "3NxUVFSqqqq6uroQEBB2dnYyMjJEREQiIiLu7u4AAAAPqInnAAAAAXRSTlMAQObYZgAAAAlwSFlz\n",
       "AAAOxAAADsQBlSsOGwAAAGpJREFUCNdjePvn9AOGlT8bGBiOcyQw8P1jYGDIDVjCwDAByEg/wB3A\n",
       "cAHISHVm3QBhsClYQRgMB3gaIAxFvnsQBktBzQQwgyGPDcp4xgeRYmAyOABkHAJiIxDjOhAzbmBg\n",
       "0P0J5PFtYAAA6AAhaNFZV/8AAAAASUVORK5CYII=\n",
       "\" style=\"display:inline;vertical-align:middle;\" /></a></td></tr>\n",
       "<tr><td>5</td><td>Literal</td><td></td><td><a class=\"ProveItLink\" href=\"../../../../number/addition/__pv_it/65ad7e8aee19b10110d590375ba95a879c4fb7ea0/expr.ipynb\"><img src=\"data:image/png;base64,iVBORw0KGgoAAAANSUhEUgAAAA4AAAAOBAMAAADtZjDiAAAAHlBMVEX///9UVFQQEBAiIiJmZmaI\n",
       "iIiqqqqYmJi6uroAAAAAFVhYAAAAAXRSTlMAQObYZgAAAAlwSFlzAAAOxAAADsQBlSsOGwAAAB9J\n",
       "REFUCNdjYGBgaGeAgFRiaGdjYyVjY0Oi1SPRIHsAgDEGyG9xCpgAAAAASUVORK5CYII=\n",
       "\" style=\"display:inline;vertical-align:middle;\" /></a></td></tr>\n",
       "<tr><td>6</td><td>ExprTuple</td><td>7, 8</td><td><a class=\"ProveItLink\" href=\"../a4c691cef8b745e7bb8b7b885f462bedd8b31be30/expr.ipynb\"><img src=\"data:image/png;base64,iVBORw0KGgoAAAANSUhEUgAAACkAAAAVBAMAAAAp9toTAAAAMFBMVEX////MzMxUVFREREQiIiK6\n",
       "uroQEBCYmJhmZmYyMjLu7u52dnaqqqqIiIjc3NwAAACFAiZ1AAAAAXRSTlMAQObYZgAAAAlwSFlz\n",
       "AAAOxAAADsQBlSsOGwAAARFJREFUGNNdkbFOhEAQhj8FATnk7hF8ARMqEwsNpTEWVxiTK8xdY2wp\n",
       "rfQ6i9NIbEyMBYkPABofgFobfAANMT6ArVTOApvAkeww8+3w7z8LUNJ/6nojX6InKrx3gLsdNm1u\n",
       "3O1bn0t4ACfq0qGSOwerpzlNJFgJkx59rWUiFvLyF19FQ+8+r2Gwyb3kx6VRNR7+krTEjjmU/Awn\n",
       "rKlXMSzwQk7FRoWZ1dSJSTNWfhW1AtKxtjvNWZvxiNq+bO1G3CZKYVdozo5XuoqO5QzsgBf5rrD3\n",
       "B6Qy+mpkyMhOwZF42Hr+/sA8kOxG7GKWmCM915tOfkRkrotMJ1ey9vTdtkPjBxKe2sLWrYa6Nz9a\n",
       "+kMX8A+nBjzFoJaLpgAAAABJRU5ErkJggg==\n",
       "\" style=\"display:inline;vertical-align:middle;\" /></a></td></tr>\n",
       "<tr><td>7</td><td>Variable</td><td></td><td><a class=\"ProveItLink\" href=\"../a8d4b3a34d2189508f9082853fbac36935714f280/expr.ipynb\"><img src=\"data:image/png;base64,iVBORw0KGgoAAAANSUhEUgAAAAsAAAAJBAMAAAAWSsseAAAAMFBMVEX////MzMxUVFQyMjKqqqoi\n",
       "IiKYmJju7u5EREQQEBC6urqIiIh2dnZmZmbc3NwAAAD0tjQRAAAAAXRSTlMAQObYZgAAAAlwSFlz\n",
       "AAAOxAAADsQBlSsOGwAAAEdJREFUCNdjYOC7s28DAwPDygcc3xkY2Kcx8AYwMPB+Z2A9wMDA2cBQ\n",
       "v4CBof4AQz5QRb0DQzPLAwbmDWyxPECV2gcfbWQAABp5EMgcedARAAAAAElFTkSuQmCC\n",
       "\" style=\"display:inline;vertical-align:middle;\" /></a></td></tr>\n",
       "<tr><td>8</td><td>Variable</td><td></td><td><a class=\"ProveItLink\" href=\"../53e304ff98ebc000dbe3ef224f4637dbafd46ba70/expr.ipynb\"><img src=\"data:image/png;base64,iVBORw0KGgoAAAANSUhEUgAAAAkAAAAOBAMAAAAPuiubAAAALVBMVEX///+YmJjc3NyIiIhUVFR2\n",
       "dna6urqqqqpmZmYyMjIiIiIQEBBERETu7u4AAAALjtrwAAAAAXRSTlMAQObYZgAAAAlwSFlzAAAO\n",
       "xAAADsQBlSsOGwAAAE5JREFUCNdj4D29gAEIOBtAJF8BiMy7ACKjQATDFON2BgbelxfuKTCwv2Xg\n",
       "M2DgmMBwLwCkPK+AgU+Aoe8CA18C70YGBhYBHqARvM1A5QCqGhDobJhHyAAAAABJRU5ErkJggg==\n",
       "\" style=\"display:inline;vertical-align:middle;\" /></a></td></tr>\n",
       "</table>\n"
      ],
      "text/plain": [
       "0. (a + b) in Naturals\n",
       "   core type: Operation\n",
       "   operator: 1\n",
       "   operands: 2\n",
       "1. in\n",
       "   core type: Literal\n",
       "   sub-expressions: \n",
       "2. (a + b , Naturals)\n",
       "   core type: ExprTuple\n",
       "   sub-expressions: 3, 4\n",
       "3. a + b\n",
       "   core type: Operation\n",
       "   operator: 5\n",
       "   operands: 6\n",
       "4. Naturals\n",
       "   core type: Literal\n",
       "   sub-expressions: \n",
       "5. +\n",
       "   core type: Literal\n",
       "   sub-expressions: \n",
       "6. (a , b)\n",
       "   core type: ExprTuple\n",
       "   sub-expressions: 7, 8\n",
       "7. a\n",
       "   core type: Variable\n",
       "   sub-expressions: \n",
       "8. b\n",
       "   core type: Variable\n",
       "   sub-expressions: "
      ]
     },
     "execution_count": 5,
     "metadata": {},
     "output_type": "execute_result"
    }
   ],
   "source": [
    "# display the expression information\n",
    "expr.exprInfo()"
   ]
  },
  {
   "cell_type": "code",
   "execution_count": null,
   "metadata": {},
   "outputs": [],
   "source": []
  }
 ],
 "metadata": {
  "kernelspec": {
   "display_name": "Python 3",
   "language": "python",
   "name": "python3"
  },
  "language_info": {
   "codemirror_mode": {
    "name": "ipython",
    "version": 3
   },
   "file_extension": ".py",
   "mimetype": "text/x-python",
   "name": "python",
   "nbconvert_exporter": "python",
   "pygments_lexer": "ipython3",
   "version": "3.7.4"
  }
 },
 "nbformat": 4,
 "nbformat_minor": 1
}
