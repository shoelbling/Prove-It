{
 "cells": [
  {
   "cell_type": "markdown",
   "metadata": {},
   "source": [
    "Expression of type <a class=\"ProveItLink\" href=\"../../../../../../doc/html/api/proveit.Lambda.html\">Lambda</a>\n",
    "=======================\n",
    "# from context <a class=\"ProveItLink\" href=\"../../_context_.ipynb\">proveit.core_expr_types.tuples</a>"
   ]
  },
  {
   "cell_type": "code",
   "execution_count": 1,
   "metadata": {},
   "outputs": [],
   "source": [
    "import proveit\n",
    "# Automation is not needed when building an expression:\n",
    "proveit.defaults.automation = False # This will speed things up.\n",
    "# import Expression classes needed to build the expression\n",
    "from proveit import ExprRange, Function, Lambda\n",
    "from proveit._common_ import a, f, fa, i\n",
    "from proveit.logic import Equals"
   ]
  },
  {
   "cell_type": "code",
   "execution_count": 2,
   "metadata": {},
   "outputs": [
    {
     "data": {
      "text/html": [
       "<strong id=\"expr\">expr:</strong> <a class=\"ProveItLink\" href=\"../a2e1635e1b1b6b4c991378dd57c2101eefc3e60d0/expr.ipynb\"><img src=\"data:image/png;base64,iVBORw0KGgoAAAANSUhEUgAAATsAAAAVCAMAAAAO07kHAAAANlBMVEX///8WFhYNDQ3MzMxUVFRE\n",
       "REQiIiK6uroQEBCYmJhmZmYyMjLu7u52dnaqqqqIiIjc3NwAAACgirQNAAAAAXRSTlMAQObYZgAA\n",
       "AAlwSFlzAAAOxAAADsQBlSsOGwAAArpJREFUWMOtmeG6myAMhtkqiIio93+z65kCCYbypVv+pE/A\n",
       "NxEwAWrMWw7zUQbNcudjCFNhccfjEOAX7CNLy54+o+cdf4PM6jGJXYPFHRMw6kARa6vTVruHbYv8\n",
       "+QAMbpXM6jGzXYmVZQjGHKhi5Tqu9dFtennuz/0FrBF7m8zqMYtdh5UFACMOlLEyHZb6rE+zldwt\n",
       "AVwJC9ctk9oVWFkAMOJAGSvTniS2szdPvtOw8zTrG90yPYhFBAIDDvyXyLee6ZJ1PQdrnQQWTWIT\n",
       "m1k9JrW3WP0ni4DHDtSxEh1Kplwm7yY2FnEPe04ENQPyfMiTN9ct87aLWKWA4LEDdaxE05k5m6K+\n",
       "mfleucvaGbtkB7NNmbddxKoFAhMHwRGZxKWvQr61q3X1OF98a5hMuDsm1xk7s5Piklk95mWXseqt\n",
       "MAQeO1DHSrSf6xo6m+pdZ+JVm37/ckzOsxAyq8e87DJWKxh47EAdK9Hk2WepSLnwzL637uZ1Nh/G\n",
       "jjGzXcL+S6nog8cO1LESvdY1ax+Jdc2W7jf7otvPzOoxS7uA1QoGJg56+S59iXxrW/Oj35tdSDyT\n",
       "ucrNYjtjt9INXmYJTGqXsNBGj3bCwIsdzsH+JfKtaxXPqTKea9krmuMqN6FiZ/bFBn5KancGvPzc\n",
       "dgFbfD5/SCYYHIbXAepYiZ7dI1U6F8vg3xXcda5pAqvMmSUwmV3AFp8uz0b5QUwuKsFueA+ljpVq\n",
       "l18/lBlI7Rd0gHkpswQmtz+xCflqaycMjMStjJXp63CbJpI1t0/n5Y+7fXZgZkzpbE6xG1Rc7yFE\n",
       "wUjcyli5tj+L0Nl6FxPbJHFYA4o9iKbMpv2Bjcg9Ze6EgrG4VbE2Ov6oZQ+l62OyLHzdEa2RmU37\n",
       "Awst7NwJBWNxq2Jt9TEIfFH8s5BZPSaxL//1DwsBjDpQxMr0HzG5KuAmS1N8AAAAAElFTkSuQmCC\n",
       "\" style=\"display:inline;vertical-align:middle;\" /></a><br>"
      ],
      "text/plain": [
       "expr: (f, i) -> ((f(i) ,  ...  , f(i)) = (f(i)))"
      ]
     },
     "execution_count": 2,
     "metadata": {},
     "output_type": "execute_result"
    }
   ],
   "source": [
    "# build up the expression from sub-expressions\n",
    "expr = Lambda([f, i], Equals([ExprRange(a, fa, i, i)], [Function(f, i)]))"
   ]
  },
  {
   "cell_type": "code",
   "execution_count": 3,
   "metadata": {},
   "outputs": [
    {
     "name": "stdout",
     "output_type": "stream",
     "text": [
      "Passed sanity check: built 'expr' is the same as the stored Expression.\n"
     ]
    }
   ],
   "source": [
    "# check that the built expression is the same as the stored expression\n",
    "%check_expr"
   ]
  },
  {
   "cell_type": "code",
   "execution_count": 4,
   "metadata": {},
   "outputs": [
    {
     "name": "stdout",
     "output_type": "stream",
     "text": [
      "\\left(f, i\\right) \\mapsto \\left(\\left(f\\left(i\\right) , \\ldots , f\\left(i\\right)\\right) = \\left(f\\left(i\\right)\\right)\\right)\n"
     ]
    }
   ],
   "source": [
    "# Show the LaTeX representation of the expression for convenience if you need it.\n",
    "print(expr.latex())"
   ]
  },
  {
   "cell_type": "code",
   "execution_count": 5,
   "metadata": {},
   "outputs": [
    {
     "data": {
      "text/html": [
       "<table><tr><th>&nbsp;</th><th>core type</th><th>sub-expressions</th><th>expression</th></tr>\n",
       "<tr><td>0</td><td>Lambda</td><td>parameters:&nbsp;1<br>body:&nbsp;2<br></td><td><a class=\"ProveItLink\" href=\"../a2e1635e1b1b6b4c991378dd57c2101eefc3e60d0/expr.ipynb\"><img src=\"data:image/png;base64,iVBORw0KGgoAAAANSUhEUgAAATsAAAAVCAMAAAAO07kHAAAANlBMVEX///8WFhYNDQ3MzMxUVFRE\n",
       "REQiIiK6uroQEBCYmJhmZmYyMjLu7u52dnaqqqqIiIjc3NwAAACgirQNAAAAAXRSTlMAQObYZgAA\n",
       "AAlwSFlzAAAOxAAADsQBlSsOGwAAArpJREFUWMOtmeG6myAMhtkqiIio93+z65kCCYbypVv+pE/A\n",
       "NxEwAWrMWw7zUQbNcudjCFNhccfjEOAX7CNLy54+o+cdf4PM6jGJXYPFHRMw6kARa6vTVruHbYv8\n",
       "+QAMbpXM6jGzXYmVZQjGHKhi5Tqu9dFtennuz/0FrBF7m8zqMYtdh5UFACMOlLEyHZb6rE+zldwt\n",
       "AVwJC9ctk9oVWFkAMOJAGSvTniS2szdPvtOw8zTrG90yPYhFBAIDDvyXyLee6ZJ1PQdrnQQWTWIT\n",
       "m1k9JrW3WP0ni4DHDtSxEh1Kplwm7yY2FnEPe04ENQPyfMiTN9ct87aLWKWA4LEDdaxE05k5m6K+\n",
       "mfleucvaGbtkB7NNmbddxKoFAhMHwRGZxKWvQr61q3X1OF98a5hMuDsm1xk7s5Piklk95mWXseqt\n",
       "MAQeO1DHSrSf6xo6m+pdZ+JVm37/ckzOsxAyq8e87DJWKxh47EAdK9Hk2WepSLnwzL637uZ1Nh/G\n",
       "jjGzXcL+S6nog8cO1LESvdY1ax+Jdc2W7jf7otvPzOoxS7uA1QoGJg56+S59iXxrW/Oj35tdSDyT\n",
       "ucrNYjtjt9INXmYJTGqXsNBGj3bCwIsdzsH+JfKtaxXPqTKea9krmuMqN6FiZ/bFBn5KancGvPzc\n",
       "dgFbfD5/SCYYHIbXAepYiZ7dI1U6F8vg3xXcda5pAqvMmSUwmV3AFp8uz0b5QUwuKsFueA+ljpVq\n",
       "l18/lBlI7Rd0gHkpswQmtz+xCflqaycMjMStjJXp63CbJpI1t0/n5Y+7fXZgZkzpbE6xG1Rc7yFE\n",
       "wUjcyli5tj+L0Nl6FxPbJHFYA4o9iKbMpv2Bjcg9Ze6EgrG4VbE2Ov6oZQ+l62OyLHzdEa2RmU37\n",
       "Awst7NwJBWNxq2Jt9TEIfFH8s5BZPSaxL//1DwsBjDpQxMr0HzG5KuAmS1N8AAAAAElFTkSuQmCC\n",
       "\" style=\"display:inline;vertical-align:middle;\" /></a></td></tr>\n",
       "<tr><td>1</td><td>ExprTuple</td><td>12, 10</td><td><a class=\"ProveItLink\" href=\"../3cb2f95d6ca291514aa4adb9d2e7faeb5e9d44890/expr.ipynb\"><img src=\"data:image/png;base64,iVBORw0KGgoAAAANSUhEUgAAACcAAAAVBAMAAAA3P+qgAAAAMFBMVEX////MzMxUVFREREQiIiK6\n",
       "uroQEBCYmJhmZmYyMjLu7u52dnaqqqqIiIjc3NwAAACFAiZ1AAAAAXRSTlMAQObYZgAAAAlwSFlz\n",
       "AAAOxAAADsQBlSsOGwAAAQdJREFUGNNjYGB4wIACwFzeA6iCsSDiNJjZvQsidAOsiGsCiM2tmAMR\n",
       "9GZgmMXAwFEAYrMdtYLrrwBywYz4BQhD2RYwRIIZW5Bs4ixg6AbRRSkaYD7XjQtA8xUYpoN5fyGK\n",
       "uFkTGBjYJzD4gDh8HyGCbziAbuFxYEgFcXg+QAQX8AO1M36ACHI7QC05D3QF0Ig5IDazAlRwEgNY\n",
       "uy3YaUBdXCDb/3ADLTJg2AQSfC/AwLAeaAfrh+dAP15gCAEbBcQsXkDCFuhplgcMLEBFDE0gmVNQ\n",
       "c58ATWhg4FEA27YBKtgOxHYMLFag4OO6ABHjMwASixnYb4CigB2qkBkUYHwFqNFRx8AAAPOPNOyl\n",
       "IYC+AAAAAElFTkSuQmCC\n",
       "\" style=\"display:inline;vertical-align:middle;\" /></a></td></tr>\n",
       "<tr><td>2</td><td>Operation</td><td>operator:&nbsp;3<br>operands:&nbsp;4<br></td><td><a class=\"ProveItLink\" href=\"../6510105bc264d12bb7907fe169138f2bc879f3fc0/expr.ipynb\"><img src=\"data:image/png;base64,iVBORw0KGgoAAAANSUhEUgAAAN8AAAAVBAMAAAA0pCbNAAAAMFBMVEX////MzMxUVFREREQiIiK6\n",
       "uroQEBCYmJhmZmYyMjLu7u52dnaqqqqIiIjc3NwAAACFAiZ1AAAAAXRSTlMAQObYZgAAAAlwSFlz\n",
       "AAAOxAAADsQBlSsOGwAAAppJREFUSMeNVjFoFEEU/XK7d3t362ll69mIZbA8SDg1hUQRQQmkkKQw\n",
       "jUQI2mihHDYiIeGwEUKKg1QpQo6QSptFtNEi6bwixYGBNIJnqSj4/p+Z25ubnU0+vH9vdvbe/zvz\n",
       "988SUZ9S6w/dyVYzrpY1m6kq5GySzij+4HQBD9mFBwrjlq0qyl/l4sp7w3vWzVkWfejAx11ItSTs\n",
       "oXtPtiqj0uZr1UtLpPktovX8gLsXOKMtIOhSGcEZtvlUgWiZp4qfG2Q40bP8gEv3OMBrNSi1FMYW\n",
       "waMKFGUwLzkW9e3FTl688I/8LOjhIw3LfKrAnAz2xM/pqfJyXsBqU8K29fCdhmU+VWCF+ZOHV2SP\n",
       "seA9lFy1nhOvdPk6r2CEmtle5R3VsMynCqjk/plkqyGWqtTOe8JzBybf7izIcw2KpsXqNHxkVxW4\n",
       "La/vL5kC/xHhctzMC/jzPPsgoVryBuSThmU+VWCRr8UDmQLvcP5nBnkB91UJ3KWKPMJFDct8qsBi\n",
       "WgfC91FL4UJewD0TkGKu11kNN2CGKrDB1wqqSpi/pZOW9KqqObz85froko7uoU8VmJR0VTcEr/yt\n",
       "YmsnuEG4odTr+Vh8AX/ZSVCqT0nBMp8qsJvWAfNwcIxc+c4d7HPltybpyJQCF/l8DaXKr8aq0/08\n",
       "qsD9tA6ET0Ij4GMkmIG7yaRl3HQnLYUQC1T4BnJHwzKfKhBwGq/UVKBSoiPxX5wljTlgpLvCNX0q\n",
       "NhVs86keSeON6xtpI6ZhX+66TQ34WE6sDs+tOXJaoU+VMUVBw3SWKZX0hJww7rG6DdzY0oOCOtO/\n",
       "a4xZtqoob1KpZ74HNpWUVGPJVeEHebFmjjxJixoaY5atKsq1kfVQ/OXpPjGOJa2+gvPBk6kK/AdI\n",
       "gM7OpSaxZgAAAABJRU5ErkJggg==\n",
       "\" style=\"display:inline;vertical-align:middle;\" /></a></td></tr>\n",
       "<tr><td>3</td><td>Literal</td><td></td><td><a class=\"ProveItLink\" href=\"../../../../logic/equality/__pv_it/e16d2caa26a16688b658bdb9c422caf4b84579e10/expr.ipynb\"><img src=\"data:image/png;base64,iVBORw0KGgoAAAANSUhEUgAAAA4AAAAFBAMAAACHocAhAAAAD1BMVEX///9UVFQiIiJmZmYAAACP\n",
       "OqLZAAAAAXRSTlMAQObYZgAAAAlwSFlzAAAOxAAADsQBlSsOGwAAABJJREFUCNdjMFICAUUGXAAq\n",
       "DwAoFgH7Aeay4gAAAABJRU5ErkJggg==\n",
       "\" style=\"display:inline;vertical-align:middle;\" /></a></td></tr>\n",
       "<tr><td>4</td><td>ExprTuple</td><td>5, 6</td><td><a class=\"ProveItLink\" href=\"../f08f4eadf0555b2666ae8874d3c4a40423333ac20/expr.ipynb\"><img src=\"data:image/png;base64,iVBORw0KGgoAAAANSUhEUgAAAOAAAAAVBAMAAACtXP94AAAAMFBMVEX////MzMxUVFREREQiIiK6\n",
       "uroQEBCYmJhmZmYyMjLu7u52dnaqqqqIiIjc3NwAAACFAiZ1AAAAAXRSTlMAQObYZgAAAAlwSFlz\n",
       "AAAOxAAADsQBlSsOGwAAAmpJREFUSMeNVjFoE2EUftJLLrmLp5Nr4yKO4hhICeogVrpYChmkHXQp\n",
       "FYJd7KAEF4dSCS6B0uGgk0OxhE66hNIuOrRjhg6BCi6CcVQUfO/9/7vk8u4/+8P38vK/77733/+/\n",
       "e3cAMAQDGUOYmsgZCTdSs1kMZl3uG8gw/uML5RtzC6fTs1kMZn2xANj8CNYfpC7KGqVPcZp7No45\n",
       "1M4Mgo4BQHh9Daw/D7Cdn7B3rZ/mlmMJudSIgSi1gAFQPK6B+AAv8hOuPYrTXL+d3LxDjRiIIgV5\n",
       "cpnXWLSXFeO8fIXfirsqMafaKqOJtsmTB2ybllJu5SUMG4rblZhTrcvYpPOluedPboLxgwEWU1jN\n",
       "yeffuNOe5vYk6FTrMbrJ4v6yRT8srKBmJ+8Or5wq7obEnGobjIdoCRD9ZAr630sYrjTyEv64qrhH\n",
       "EnOqHTGeoiVAZcQU9GNa/6VRXsITzZ2VmFNtlpEkNHXA/gnWFG2Eexxo7lIqYZbaEmMHLQFmTJWQ\n",
       "/w7+t6W3NTfZUqea2dI62jo/KqYboh/8CfGYb+Ef/SwG5ueZ5q5L1Km2zuhJRZs6IL8w+oY9Aq8I\n",
       "foE1HzoTTlISk1zYkqhLjRlbsIh2cVwH7NfxMfXolXKPbvE+wmuL82CiJFLcBYk61RYYHi6FAK8N\n",
       "xTNLg68srPf0M7fLquJGDYm61IiBsC21Ut2xTcQ24Tdca7pc9hGH5b7imja9D241eU3MAcGrSWeZ\n",
       "YxvRKcOeLho6jLvvNfc8ibrUzi12Gf5Avgt22c7wZuoG7pN5+VZza0nUpVaziFoGMoz/6kKfGGOu\n",
       "P5yezWIg/gFmPuO2rZUlTAAAAABJRU5ErkJggg==\n",
       "\" style=\"display:inline;vertical-align:middle;\" /></a></td></tr>\n",
       "<tr><td>5</td><td>ExprTuple</td><td>7</td><td><a class=\"ProveItLink\" href=\"../e8ab9d3b7e88c814a3ded30f750d9a2e8d3c0ce20/expr.ipynb\"><img src=\"data:image/png;base64,iVBORw0KGgoAAAANSUhEUgAAAIwAAAAVBAMAAABmhxuGAAAAMFBMVEX////MzMxUVFREREQiIiK6\n",
       "uroQEBCYmJhmZmYyMjLu7u52dnaqqqqIiIjc3NwAAACFAiZ1AAAAAXRSTlMAQObYZgAAAAlwSFlz\n",
       "AAAOxAAADsQBlSsOGwAAAbVJREFUOMuNlDFLA0EQhZ94ySV38fQfGDtL60BCCgtRsRIhhWihjVgE\n",
       "bbSRYGMRhGAjSIoDa1HEysoiNlokZQqLgIKNYCwFBWdm73KR22yysHtvZz7mdmdnF0AHUev0huGt\n",
       "x3osJh4ij9LrI0WJ2ESLhmcxVu8R6Pa/wLoWY18Ap8Y2d2YXgV4CLoxR4mzaR6rMruRjjkalgQNj\n",
       "mDhrV5CUyYYvQAj6pjAadgclmdzJWApc6bIpjIY9R5X13tas5I623Ka0u1lDFB17S4G4/cpI2k1s\n",
       "0l5rptVo2EMss837EhfpjxSZM0VDFB3bwDbbMl1xkfYnaaFjXUMYHTutwrjF0IUmZZ4XO7hsNOwa\n",
       "6mwbVzllfYYhm9KxDeTl8FviIu38uJS2OZrEa8fBIHafzora55S4SCe671ShRDrfCIbrWp/QsjjF\n",
       "Ktua6nes81ROFl//eV7OAnWrEorFQewKLA5+rFyW+hHe5ETiu3qCnvWKfK0y2boy2RX1PZETiWf3\n",
       "BnqWr2kBVi6s2oIqMM4aruIppjRo2Vfql7Db4bN5qY5UthO/njZ3HcsPh9fHK3000iMasXYHf28e\n",
       "g8MlbPWZAAAAAElFTkSuQmCC\n",
       "\" style=\"display:inline;vertical-align:middle;\" /></a></td></tr>\n",
       "<tr><td>6</td><td>ExprTuple</td><td>8</td><td><a class=\"ProveItLink\" href=\"../1a8c4711eea072cde0b1dd652ff57070d8700e1b0/expr.ipynb\"><img src=\"data:image/png;base64,iVBORw0KGgoAAAANSUhEUgAAADMAAAAVBAMAAAAZessyAAAAMFBMVEX////MzMxUVFREREQiIiK6\n",
       "uroQEBCYmJhmZmYyMjLu7u52dnaqqqqIiIjc3NwAAACFAiZ1AAAAAXRSTlMAQObYZgAAAAlwSFlz\n",
       "AAAOxAAADsQBlSsOGwAAAR5JREFUKM9Fki9Pw1AUxQ9Z1461FD5CccjpJVvmQWImCAhwiAaFIgSD\n",
       "mGkwJGSiyb4BQaEwKMQqKytIMCQUDwn3nvsefcnv5rxz3v88AA261vhCsfXSJaaPHHijuXj2uuYA\n",
       "ZVioF++ew+l94AFkkGsUvo7hNXBphOwclxzgtgxLMmfniXXuos2cLFRfnO7xLLJdXcnOGbnnuF9W\n",
       "0XH/BIgKcqBe+s1I9OdA7GRGztRLWkaiy21ZcKMljOKZj7CW0+miwlK9XsZI9R3+F5zwIhUj0cOf\n",
       "WI4wIo/qfe0wEt1vP+RVKnKo3tquqnoi1w0aEuiEG4sCm4x3I7pGki3NEs1265giGBfu8aas6cjA\n",
       "ClHt/8CKtVcaSPPuA5i+Mv4ArNRGnJLAR3YAAAAASUVORK5CYII=\n",
       "\" style=\"display:inline;vertical-align:middle;\" /></a></td></tr>\n",
       "<tr><td>7</td><td>ExprRange</td><td>lambda_map:&nbsp;9<br>start_index:&nbsp;10<br>end_index:&nbsp;10<br></td><td><a class=\"ProveItLink\" href=\"../../../__pv_it/a9042221b136ba8a7e9706af40551daa9b0cae1f0/expr.ipynb\"><img src=\"data:image/png;base64,iVBORw0KGgoAAAANSUhEUgAAAHwAAAAVBAMAAAB2y5cfAAAAMFBMVEX///8yMjLc3NyIiIiYmJgi\n",
       "IiJERES6urqqqqoQEBDMzMxUVFTu7u52dnZmZmYAAAD1zdHuAAAAAXRSTlMAQObYZgAAAAlwSFlz\n",
       "AAAOxAAADsQBlSsOGwAAAV9JREFUOMtjYIADJjhBGGBRawEi2A2I0o6slu/uASDJcYGBgfkBRAI3\n",
       "wKL29soGIHkQiFkvMDAewKsdi9oZZSDqCUSe5QFe7Zhq2f+A2ROgCubg041FLW8AWEIAKiSCTzum\n",
       "Wpad0SA38AFD4/BjkO/w6Mamlh8c/owODAwXKoEMR3y2Y1GrvwAkxNrAwNTwEMhoxacdi9p+sARn\n",
       "AQMPw2cgYz0+7VjUXoUJMXCAwrUSn3YsarPBQozA5MC4gZDjsaidDBZiAwbK+QZgkLoBOTyYGiGJ\n",
       "EVMt0y9IjAJNq2cCBikoQs4LQAmej8gMbGo5PkDSEzBBsJkAGUGgoI0BEaAojoMxQsFZBVMt3waI\n",
       "66KgORmcrnowHM8B0o6pthsUDiDgB82RDiDyAmZyBWIsasMOQuXZFMCUGojgwSw0DgMxFrXOj6BC\n",
       "PAlgKgectjFDHuQorGphQAWsUYGowgqmFgDX4GyouHJK+gAAAABJRU5ErkJggg==\n",
       "\" style=\"display:inline;vertical-align:middle;\" /></a></td></tr>\n",
       "<tr><td>8</td><td>Operation</td><td>operator:&nbsp;12<br>operand:&nbsp;10<br></td><td><a class=\"ProveItLink\" href=\"../../../__pv_it/ac406608e4c1a110d279c13e6aa03c833d5f65d00/expr.ipynb\"><img src=\"data:image/png;base64,iVBORw0KGgoAAAANSUhEUgAAACQAAAAVBAMAAADcCFGjAAAAMFBMVEX///8yMjLc3NyIiIiYmJgi\n",
       "IiJERES6urqqqqoQEBDMzMxUVFTu7u52dnZmZmYAAAD1zdHuAAAAAXRSTlMAQObYZgAAAAlwSFlz\n",
       "AAAOxAAADsQBlSsOGwAAAPFJREFUGNNjYIADJjgBBxYggt0AzOa7ewBIclxgYGB+AJFguL2yAUge\n",
       "BGLWCwyMIGmGGWUg6glEO8sDkPY/YPYEqJFzgJg3AGyuAFRIBKhyZzRILR/Q9MOPQSYDMT/YXkYH\n",
       "BoYLlUCGIxDrLwAJsTYwMDU8BDJagbgfbARnAQMPw2cgYz0QX4UJMXCA7AZpzgYLMQKdy7gBqnEy\n",
       "WIgNaMn5BqC1bkC//wIL8QJV1DMBrQU6hOMDWIgd6GA2EyAjCOjGDRBXR0FDLYChG2QuCPhBKD4H\n",
       "hrCDUL+xKYApNQYG50dQIZ4EMJWDHNAq4OBSYAAAorAwGv6j7CQAAAAASUVORK5CYII=\n",
       "\" style=\"display:inline;vertical-align:middle;\" /></a></td></tr>\n",
       "<tr><td>9</td><td>Lambda</td><td>parameter:&nbsp;13<br>body:&nbsp;11<br></td><td><a class=\"ProveItLink\" href=\"../../../__pv_it/2f41bfa613e300bb7e01a730e156eccf7e200ec90/expr.ipynb\"><img src=\"data:image/png;base64,iVBORw0KGgoAAAANSUhEUgAAAFQAAAAVCAMAAADvsTk6AAAANlBMVEX///8WFhYNDQ3MzMxUVFQy\n",
       "MjKqqqoiIiKYmJju7u5EREQQEBC6urqIiIh2dnZmZmbc3NwAAADRPqZpAAAAAXRSTlMAQObYZgAA\n",
       "AAlwSFlzAAAOxAAADsQBlSsOGwAAATxJREFUOMulVFtihCAMtOUdHoH7X7agZZcEdKvNj2JkMsOE\n",
       "bNt/I1+snkbUZBniQxxMyfV3na6L/DWSFL7vdGpKK/cE1OsAfSPaKW3x44nNBx/KQMWvii6okk96\n",
       "LpvMUEAtQNXOPmOK+eWaIX8YLk56I/FtWe+kASLJVs5XjfASRWE0cCIlclIMwlb6zrcMmhNuEegR\n",
       "5SIGHUcXUAhdn7gXMK9++/4yJEoJhHoZPTlSFELUP3wT6N47GdOgwqlPHZRCBF/fWwFbTqwRvJdB\n",
       "jkbv8hlEle9KS4DadF6BKt6ofrzcEA9QAmErb1UT1uDWD5WoDbxPiU9H93AIrCsnYxJZRrGcHfwr\n",
       "8WkLhywKYW6PP5T0bsxUsrmHqOWvNVfTYzFjLsPANOqAa81wU7uNyDEcx4BH45Qzo2ptq/oDHYoL\n",
       "1B9fEzQAAAAASUVORK5CYII=\n",
       "\" style=\"display:inline;vertical-align:middle;\" /></a></td></tr>\n",
       "<tr><td>10</td><td>Variable</td><td></td><td><a class=\"ProveItLink\" href=\"../../../../__pv_it/557ab5defdcd46aa58168b08767502985122cd490/expr.ipynb\"><img src=\"data:image/png;base64,iVBORw0KGgoAAAANSUhEUgAAAAcAAAAOBAMAAAARcxsoAAAALVBMVEX///9ERESYmJhUVFQyMjKq\n",
       "qqrc3NwQEBC6urru7u52dnYiIiJmZmaIiIgAAAD/UVazAAAAAXRSTlMAQObYZgAAAAlwSFlzAAAO\n",
       "xAAADsQBlSsOGwAAADlJREFUCNdjYGC4wwAEuxjQAeedCwwMXBwFDAypPA4MDBP4gFyGuAlAwhkk\n",
       "+5SLgYHjQRKQKavAAAAx5QmdfgFqMAAAAABJRU5ErkJggg==\n",
       "\" style=\"display:inline;vertical-align:middle;\" /></a></td></tr>\n",
       "<tr><td>11</td><td>Operation</td><td>operator:&nbsp;12<br>operand:&nbsp;13<br></td><td><a class=\"ProveItLink\" href=\"../../../../__pv_it/e80bce2a0c2e8c976be76e7b3ce08f76e74ec5550/expr.ipynb\"><img src=\"data:image/png;base64,iVBORw0KGgoAAAANSUhEUgAAACgAAAAVBAMAAADGNLEtAAAAMFBMVEX///8yMjLc3NyIiIiYmJgi\n",
       "IiJERES6urqqqqoQEBDMzMxUVFTu7u52dnZmZmYAAAD1zdHuAAAAAXRSTlMAQObYZgAAAAlwSFlz\n",
       "AAAOxAAADsQBlSsOGwAAAP1JREFUGNNjYIADJhQKCiwgFLsBmOK7ewBIclxAkby9sgFIHoTpYAQp\n",
       "YZhRBqKewARZHoAM+QNmT4AbPgeIeQPA5gvABUWAqndGg9TzgezRu6wMsgOI+cFuYHQAqp7EkA80\n",
       "3hHI1V8AEmQFuuCkA8NTILMViPvBBnEWMDC8P8AQC2SuB+KrcMFpDDzfgcxKIM6GOLmBgecvA8sH\n",
       "qPbJYEE2AwaeHwxsAk0MDG7AUPkFFuTdwMAgzOD6AOiyx8CA+AAJHKAXTtsu2gx0ShDQ1Rsg/oiC\n",
       "h2sAQzdjA4TtBxPkc2AIgwUZmwKUocbA4PwIyuZJgDJykKNDBRqcCgwAmIo1X55DCvQAAAAASUVO\n",
       "RK5CYII=\n",
       "\" style=\"display:inline;vertical-align:middle;\" /></a></td></tr>\n",
       "<tr><td>12</td><td>Variable</td><td></td><td><a class=\"ProveItLink\" href=\"../../../../__pv_it/d7bbb04e874e28c7cefb21d4eea40806ae52f1f70/expr.ipynb\"><img src=\"data:image/png;base64,iVBORw0KGgoAAAANSUhEUgAAAAsAAAASBAMAAAB/WzlGAAAAMFBMVEX///8yMjLc3NyIiIiYmJgi\n",
       "IiJERES6urqqqqoQEBDMzMxUVFTu7u52dnZmZmYAAAD1zdHuAAAAAXRSTlMAQObYZgAAAAlwSFlz\n",
       "AAAOxAAADsQBlSsOGwAAAFNJREFUCNdjYGBg4Lt7AEgy3F7ZAKJmlIF47H9AbAbeABDJsjP6AYjm\n",
       "NwAL6i8AU/1gkuEqhMqGUJPBJNMvMMXxAUzxbQCR3Yxg48MOgsWcH4FIAPrAEkCfAu8DAAAAAElF\n",
       "TkSuQmCC\n",
       "\" style=\"display:inline;vertical-align:middle;\" /></a></td></tr>\n",
       "<tr><td>13</td><td>Variable</td><td></td><td><a class=\"ProveItLink\" href=\"../../../../__pv_it/a8d4b3a34d2189508f9082853fbac36935714f280/expr.ipynb\"><img src=\"data:image/png;base64,iVBORw0KGgoAAAANSUhEUgAAAAsAAAAJBAMAAAAWSsseAAAAMFBMVEX////MzMxUVFQyMjKqqqoi\n",
       "IiKYmJju7u5EREQQEBC6urqIiIh2dnZmZmbc3NwAAAD0tjQRAAAAAXRSTlMAQObYZgAAAAlwSFlz\n",
       "AAAOxAAADsQBlSsOGwAAAEdJREFUCNdjYOC7s28DAwPDygcc3xkY2Kcx8AYwMPB+Z2A9wMDA2cBQ\n",
       "v4CBof4AQz5QRb0DQzPLAwbmDWyxPECV2gcfbWQAABp5EMgcedARAAAAAElFTkSuQmCC\n",
       "\" style=\"display:inline;vertical-align:middle;\" /></a></td></tr>\n",
       "</table>\n"
      ],
      "text/plain": [
       "0. (f, i) -> ((f(i) ,  ...  , f(i)) = (f(i)))\n",
       "   core type: Lambda\n",
       "   parameters: 1\\n   body: 2\n",
       "1. (f , i)\n",
       "   core type: ExprTuple\n",
       "   sub-expressions: 12, 10\n",
       "2. (f(i) ,  ...  , f(i)) = (f(i))\n",
       "   core type: Operation\n",
       "   operator: 3\n",
       "   operands: 4\n",
       "3. =\n",
       "   core type: Literal\n",
       "   sub-expressions: \n",
       "4. ((f(i) ,  ...  , f(i)) , (f(i)))\n",
       "   core type: ExprTuple\n",
       "   sub-expressions: 5, 6\n",
       "5. (f(i) ,  ...  , f(i))\n",
       "   core type: ExprTuple\n",
       "   sub-expressions: 7\n",
       "6. (f(i))\n",
       "   core type: ExprTuple\n",
       "   sub-expressions: 8\n",
       "7. f(i),...,f(i)\n",
       "   core type: ExprRange\n",
       "   lambda_map: 9\n",
       "   start_index: 10\n",
       "   end_index: 10\n",
       "8. f(i)\n",
       "   core type: Operation\n",
       "   operator: 12\n",
       "   operand: 10\n",
       "9. a -> f(a)\n",
       "   core type: Lambda\n",
       "   parameter: 13\n",
       "   body: 11\n",
       "10. i\n",
       "    core type: Variable\n",
       "    sub-expressions: \n",
       "11. f(a)\n",
       "    core type: Operation\n",
       "    operator: 12\n",
       "    operand: 13\n",
       "12. f\n",
       "    core type: Variable\n",
       "    sub-expressions: \n",
       "13. a\n",
       "    core type: Variable\n",
       "    sub-expressions: "
      ]
     },
     "execution_count": 5,
     "metadata": {},
     "output_type": "execute_result"
    }
   ],
   "source": [
    "# display the expression information\n",
    "expr.exprInfo()"
   ]
  },
  {
   "cell_type": "code",
   "execution_count": null,
   "metadata": {},
   "outputs": [],
   "source": []
  }
 ],
 "metadata": {
  "kernelspec": {
   "display_name": "Python 3",
   "language": "python",
   "name": "python3"
  },
  "language_info": {
   "codemirror_mode": {
    "name": "ipython",
    "version": 3
   },
   "file_extension": ".py",
   "mimetype": "text/x-python",
   "name": "python",
   "nbconvert_exporter": "python",
   "pygments_lexer": "ipython3",
   "version": "3.7.4"
  }
 },
 "nbformat": 4,
 "nbformat_minor": 1
}
