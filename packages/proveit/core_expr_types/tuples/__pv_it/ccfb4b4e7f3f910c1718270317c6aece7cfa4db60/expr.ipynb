{
 "cells": [
  {
   "cell_type": "markdown",
   "metadata": {},
   "source": [
    "Expression of type <a class=\"ProveItLink\" href=\"../../../../../../doc/html/api/proveit.ExprRange.html\">ExprRange</a>\n",
    "=======================\n",
    "# from context <a class=\"ProveItLink\" href=\"../../_context_.ipynb\">proveit.core_expr_types.tuples</a>"
   ]
  },
  {
   "cell_type": "code",
   "execution_count": 1,
   "metadata": {},
   "outputs": [],
   "source": [
    "import proveit\n",
    "# Automation is not needed when building an expression:\n",
    "proveit.defaults.automation = False # This will speed things up.\n",
    "# import Expression classes needed to build the expression\n",
    "from proveit import ExprRange, IndexedVar, Variable\n",
    "from proveit.logic import Equals\n",
    "from proveit.number import one"
   ]
  },
  {
   "cell_type": "code",
   "execution_count": 2,
   "metadata": {},
   "outputs": [
    {
     "data": {
      "text/html": [
       "<strong id=\"expr\">expr:</strong> <a class=\"ProveItLink\" href=\"expr.ipynb\"><img src=\"data:image/png;base64,iVBORw0KGgoAAAANSUhEUgAAAN8AAAAVBAMAAAA0pCbNAAAAMFBMVEX////MzMxUVFREREQiIiK6\n",
       "uroQEBCYmJhmZmYyMjLu7u52dnaqqqqIiIjc3NwAAACFAiZ1AAAAAXRSTlMAQObYZgAAAAlwSFlz\n",
       "AAAOxAAADsQBlSsOGwAAAo1JREFUSMeNls9rE0EUx79pNtlkk2xy8laMJ0+BPYkKSpAeShEpIoEe\n",
       "pFWUgqfVItSL5iCUkgaDF0sRDQjipSSKf0AOnuzBWAuKWFmqJz00FxHjD5y3Pybb7OZt3mHy5s3b\n",
       "z5s382YmACxEiR4xHk3wO+Y6kX6JLjs8BsGVi9RsjRzWjpVd7ROL2WJHn1w5ODWtMdo3XfWUJkPk\n",
       "CCTrPn0DSJmjXfPeWqlVBsgRSP749GUgybjOy8SuMV7JiALo+32bmGN8X0rtAeM1xwfMlP2bZKJG\n",
       "ZV/7HFqH93fXXO0FQ+QIFKP0YVDFmaI994oVl3mnpmwpUjX8arbcI3aLCThMILlrQ86Q2trQ/km7\n",
       "2sBZAV5EqgwtAM32ke865ldMQEkIlzdN/B0gy7gqkupDaWNyJ1B+DbTajvkwE1ASwmUV2m/ZifXI\n",
       "PWmgNRuShTiG8x3HXOEDuoQRxzAxOBiJBTwUq9zGHblsvj3Mm7jXdMzckkrC8vXd4vsjw3v4U+Sv\n",
       "rkxu524U7CU9Jdw7OJG1gtD8rNgbx7xETfC60aiRhJuLuIztYZ8feGqqFTNZzIkkVIMKPt1VpzMh\n",
       "WUyY8aprrttFSzXXcBXZkwR9syzotWHKURzHtx0x+5TY5VQXF8S3ped7b0MCavU1bzXPUTMlUlTo\n",
       "kpuG2ygzopGEiW5sgWr2oDyjY1jCISjiV7GgFLyREftEZt2u+WxwTV9TVI+QLOQMvVcIg1zCO+zH\n",
       "gK/+e5kJ6NzPmeBg23+z74scVSPseOg9keOS+H5FdE67xu+P62HxbPMXW90MFo19n3mE80hbeins\n",
       "JUsU8Qh7H6Eb9ECO8VKftNvgM6Q6T+y4Dz7iNBvdjPRT+T8tYxBcuQ38B19OtRhJJoa2AAAAAElF\n",
       "TkSuQmCC\n",
       "\" style=\"display:inline;vertical-align:middle;\" /></a><br>"
      ],
      "text/plain": [
       "expr: (a_{1} = b_{1}),...,(a_{m} = b_{m})"
      ]
     },
     "execution_count": 2,
     "metadata": {},
     "output_type": "execute_result"
    }
   ],
   "source": [
    "# build up the expression from sub-expressions\n",
    "subExpr1 = Variable(\"c\")\n",
    "expr = ExprRange(subExpr1, Equals(IndexedVar(Variable(\"a\"), subExpr1), IndexedVar(Variable(\"b\"), subExpr1)), one, Variable(\"m\"))"
   ]
  },
  {
   "cell_type": "code",
   "execution_count": 3,
   "metadata": {},
   "outputs": [
    {
     "name": "stdout",
     "output_type": "stream",
     "text": [
      "Passed sanity check: built 'expr' is the same as the stored Expression.\n"
     ]
    }
   ],
   "source": [
    "# check that the built expression is the same as the stored expression\n",
    "%check_expr"
   ]
  },
  {
   "cell_type": "code",
   "execution_count": 4,
   "metadata": {},
   "outputs": [
    {
     "name": "stdout",
     "output_type": "stream",
     "text": [
      "\\left(a_{1} = b_{1}\\right),\\ldots,\\left(a_{m} = b_{m}\\right)\n"
     ]
    }
   ],
   "source": [
    "# Show the LaTeX representation of the expression for convenience if you need it.\n",
    "print(expr.latex())"
   ]
  },
  {
   "cell_type": "code",
   "execution_count": 5,
   "metadata": {},
   "outputs": [
    {
     "data": {
      "text/html": [
       "<table><tr><th>&nbsp;</th><th>core type</th><th>sub-expressions</th><th>expression</th></tr>\n",
       "<tr><td>0</td><td>ExprRange</td><td>lambda_map:&nbsp;1<br>start_index:&nbsp;2<br>end_index:&nbsp;3<br></td><td><a class=\"ProveItLink\" href=\"expr.ipynb\"><img src=\"data:image/png;base64,iVBORw0KGgoAAAANSUhEUgAAAN8AAAAVBAMAAAA0pCbNAAAAMFBMVEX////MzMxUVFREREQiIiK6\n",
       "uroQEBCYmJhmZmYyMjLu7u52dnaqqqqIiIjc3NwAAACFAiZ1AAAAAXRSTlMAQObYZgAAAAlwSFlz\n",
       "AAAOxAAADsQBlSsOGwAAAo1JREFUSMeNls9rE0EUx79pNtlkk2xy8laMJ0+BPYkKSpAeShEpIoEe\n",
       "pFWUgqfVItSL5iCUkgaDF0sRDQjipSSKf0AOnuzBWAuKWFmqJz00FxHjD5y3Pybb7OZt3mHy5s3b\n",
       "z5s382YmACxEiR4xHk3wO+Y6kX6JLjs8BsGVi9RsjRzWjpVd7ROL2WJHn1w5ODWtMdo3XfWUJkPk\n",
       "CCTrPn0DSJmjXfPeWqlVBsgRSP749GUgybjOy8SuMV7JiALo+32bmGN8X0rtAeM1xwfMlP2bZKJG\n",
       "ZV/7HFqH93fXXO0FQ+QIFKP0YVDFmaI994oVl3mnpmwpUjX8arbcI3aLCThMILlrQ86Q2trQ/km7\n",
       "2sBZAV5EqgwtAM32ke865ldMQEkIlzdN/B0gy7gqkupDaWNyJ1B+DbTajvkwE1ASwmUV2m/ZifXI\n",
       "PWmgNRuShTiG8x3HXOEDuoQRxzAxOBiJBTwUq9zGHblsvj3Mm7jXdMzckkrC8vXd4vsjw3v4U+Sv\n",
       "rkxu524U7CU9Jdw7OJG1gtD8rNgbx7xETfC60aiRhJuLuIztYZ8feGqqFTNZzIkkVIMKPt1VpzMh\n",
       "WUyY8aprrttFSzXXcBXZkwR9syzotWHKURzHtx0x+5TY5VQXF8S3ped7b0MCavU1bzXPUTMlUlTo\n",
       "kpuG2ygzopGEiW5sgWr2oDyjY1jCISjiV7GgFLyREftEZt2u+WxwTV9TVI+QLOQMvVcIg1zCO+zH\n",
       "gK/+e5kJ6NzPmeBg23+z74scVSPseOg9keOS+H5FdE67xu+P62HxbPMXW90MFo19n3mE80hbeins\n",
       "JUsU8Qh7H6Eb9ECO8VKftNvgM6Q6T+y4Dz7iNBvdjPRT+T8tYxBcuQ38B19OtRhJJoa2AAAAAElF\n",
       "TkSuQmCC\n",
       "\" style=\"display:inline;vertical-align:middle;\" /></a></td></tr>\n",
       "<tr><td>1</td><td>Lambda</td><td>parameter:&nbsp;11<br>body:&nbsp;4<br></td><td><a class=\"ProveItLink\" href=\"../9d6d641b9cb5fe7771fee3e3dea188d673fa6c570/expr.ipynb\"><img src=\"data:image/png;base64,iVBORw0KGgoAAAANSUhEUgAAAHgAAAAVCAMAAAC60NpkAAAANlBMVEX///9UVFQyMjIWFhYNDQ26\n",
       "urqYmJju7u4QEBBERERmZmaqqqoiIiLc3NzMzMyIiIh2dnYAAAApzm0AAAAAAXRSTlMAQObYZgAA\n",
       "AAlwSFlzAAAOxAAADsQBlSsOGwAAAYFJREFUSMetVVuCwyAINO76Qgx6/8uuxm4iMW01rV8tAQYG\n",
       "RoWYO0F8fu7kIP8FYEXTIT7Owxhn8dPyjbzVoYTOYuYygL4FnLoGNbwbKd8De2+kqe/P9iZm8awy\n",
       "dY/piBfsV+4iUVwfJu7F/sH/agWIFIZXUy5EcGI7LiUNZiu4S2Dv+jKFsnkCricQsDnLTmHKq2QS\n",
       "H5ou5GFpxNIlsCB35MdatrF6QxmV4FZh4gT5HA289N8fZCcltW9E/VUDcFTSILe2ufuacjr3fKpl\n",
       "oZQ4AW8B5qhnRMXqJCllu1o48NpKXXqxF6/TY0tI0+sZJ72zdDgXqlNdGXUJLNudcFSBC76Twudv\n",
       "qMT6Rt2FmroWjbPOrMGm1V1OjEEFnQZyMRlfI4hYtWDW18BLxnQlT+sMpYeYZUzXlyewpKqyYZas\n",
       "+rBQ/mYHbnsDDxW3zjj3NOK5uTQT3zgHnLv8urt9W/lRXTXO06+NO3UYQGsafeIO5+DmH3XxjePM\n",
       "dEjQX8DVhbc/+DcOaykoUx0AAAAASUVORK5CYII=\n",
       "\" style=\"display:inline;vertical-align:middle;\" /></a></td></tr>\n",
       "<tr><td>2</td><td>Literal</td><td></td><td><a class=\"ProveItLink\" href=\"../../../../number/numeral/__pv_it/f086f8c372bd40a2458306ddfdbb29f3dc6f63030/expr.ipynb\"><img src=\"data:image/png;base64,iVBORw0KGgoAAAANSUhEUgAAAAgAAAAOBAMAAADgeEClAAAAIVBMVEX///8QEBBERESIiIgyMjJm\n",
       "ZmZUVFTu7u4iIiLMzMwAAAAWRytzAAAAAXRSTlMAQObYZgAAAAlwSFlzAAAOxAAADsQBlSsOGwAA\n",
       "ABtJREFUCNdjYOBsZ2AoC1nOwMDATBbBprgiGQBsuwqCZsDj4wAAAABJRU5ErkJggg==\n",
       "\" style=\"display:inline;vertical-align:middle;\" /></a></td></tr>\n",
       "<tr><td>3</td><td>Variable</td><td></td><td><a class=\"ProveItLink\" href=\"../6e8a38e9a7e2b6af352562cd77e0eb4751f142620/expr.ipynb\"><img src=\"data:image/png;base64,iVBORw0KGgoAAAANSUhEUgAAABIAAAAJBAMAAADN8WE8AAAAMFBMVEX///8iIiIyMjJmZmYQEBCq\n",
       "qqqYmJju7u5ERETMzMyIiIjc3NxUVFR2dna6uroAAACULOzSAAAAAXRSTlMAQObYZgAAAAlwSFlz\n",
       "AAAOxAAADsQBlSsOGwAAAGNJREFUCNdj4Luz+9Ypzlt9DAy8HF0M9XkMIQwM81gaGPZfYMhnYCio\n",
       "f8AQX8BwgoGBIZ6BwYiBwQvIOsTAIMvA95udgcGXgf0fA4/CVgbunwxsHxiYLlxg4BNg4DJgYLXa\n",
       "AAB/WBcBafZ/twAAAABJRU5ErkJggg==\n",
       "\" style=\"display:inline;vertical-align:middle;\" /></a></td></tr>\n",
       "<tr><td>4</td><td>Operation</td><td>operator:&nbsp;5<br>operands:&nbsp;6<br></td><td><a class=\"ProveItLink\" href=\"../ddbc250bf47f4d76626b82a66f99c4b0a74b32be0/expr.ipynb\"><img src=\"data:image/png;base64,iVBORw0KGgoAAAANSUhEUgAAAEEAAAARBAMAAABwV9yBAAAAMFBMVEX////MzMxUVFQyMjKqqqoi\n",
       "IiKYmJju7u5EREQQEBC6urqIiIh2dnZmZmbc3NwAAAD0tjQRAAAAAXRSTlMAQObYZgAAAAlwSFlz\n",
       "AAAOxAAADsQBlSsOGwAAALtJREFUKM9jYMAB2DsDGAgA5guEVPA7EFKxvoCQiqNwFt+dfRuwqTDa\n",
       "fQXKWvmA4ztMlDcUDBRAfvlcUP8A4qtpDLzY/MXynYEfYjbvdwbWA1hU8Bow1EPEORsY6hdgD471\n",
       "EP8CFeYDqdPZaO7gT2C4XwAWrndgaGZ5wLpAEj3AFgBdCBZm3sAWy8Nwg6EQTQVTAscFiDC79sFH\n",
       "GxmmYMbcbWBwIAn/wx6uSMJWDDzYVCAJv03bjk0FSBgAtTU2vjk8mBQAAAAASUVORK5CYII=\n",
       "\" style=\"display:inline;vertical-align:middle;\" /></a></td></tr>\n",
       "<tr><td>5</td><td>Literal</td><td></td><td><a class=\"ProveItLink\" href=\"../../../../logic/equality/__pv_it/e16d2caa26a16688b658bdb9c422caf4b84579e10/expr.ipynb\"><img src=\"data:image/png;base64,iVBORw0KGgoAAAANSUhEUgAAAA4AAAAFBAMAAACHocAhAAAAD1BMVEX///9UVFQiIiJmZmYAAACP\n",
       "OqLZAAAAAXRSTlMAQObYZgAAAAlwSFlzAAAOxAAADsQBlSsOGwAAABJJREFUCNdjMFICAUUGXAAq\n",
       "DwAoFgH7Aeay4gAAAABJRU5ErkJggg==\n",
       "\" style=\"display:inline;vertical-align:middle;\" /></a></td></tr>\n",
       "<tr><td>6</td><td>ExprTuple</td><td>7, 8</td><td><a class=\"ProveItLink\" href=\"../72e4042585403dd0b5e497fa869f87b6deeee7fc0/expr.ipynb\"><img src=\"data:image/png;base64,iVBORw0KGgoAAAANSUhEUgAAADoAAAAVBAMAAADlb+D4AAAAMFBMVEX////MzMxUVFREREQiIiK6\n",
       "uroQEBCYmJhmZmYyMjLu7u52dnaqqqqIiIjc3NwAAACFAiZ1AAAAAXRSTlMAQObYZgAAAAlwSFlz\n",
       "AAAOxAAADsQBlSsOGwAAATFJREFUKM9jYGB4wIAd8IEI3gM4ZFkvAInTaIJcZg5Q1h0gZwK6Hs4G\n",
       "GGMBA0cBuiw/zCr2BgY2DPviF8BYWQyRGLJb4KzpDN0gt3ffu4CQnXS3B8raBJRnYAh7wPwL4eaf\n",
       "C9ZDg6CSwQfIT2fgcIDL8vxi4IeadIQhlYGB4xcDywa4LMcEhvVQnjxIls2AYX0AsnfjoX4KY5jD\n",
       "AFJaD2TvrYV4t4ChfwGEc4TBFih7gMGS5wFLgBgDF0g2AOgOEIeBoRjoagbOC+we3AzNDAsZ1gOD\n",
       "lamAuQHMYWDoZQgBull346OLDDlALosXkNcL9G4O2BI/BhYBqGv+gYhTyBw+B1BQQ8BUBm4Ghg3I\n",
       "HFAE2UEFXpTfYuC6gMRheAxkLEaKAHaU6LACmV6AI+WwP2AAAPqQSmM8MRH8AAAAAElFTkSuQmCC\n",
       "\" style=\"display:inline;vertical-align:middle;\" /></a></td></tr>\n",
       "<tr><td>7</td><td>IndexedVar</td><td>variable:&nbsp;9<br>index:&nbsp;11<br></td><td><a class=\"ProveItLink\" href=\"../04ab329960ed2aed21405936b4778ec83e6e084a0/expr.ipynb\"><img src=\"data:image/png;base64,iVBORw0KGgoAAAANSUhEUgAAABMAAAAMBAMAAABy/puxAAAAMFBMVEX////MzMxUVFQyMjKqqqoi\n",
       "IiKYmJju7u5EREQQEBC6urqIiIh2dnZmZmbc3NwAAAD0tjQRAAAAAXRSTlMAQObYZgAAAAlwSFlz\n",
       "AAAOxAAADsQBlSsOGwAAAGBJREFUCNdjYOC7s28DAwSsfMDxHcJin8bAGwBh8n5nYD0AYXI2MNQv\n",
       "gDDrDzDkA6nT2UCmA0MzywPWBZIMDMwb2GJ5GG4wFAJN0D74aCPDFAY4+IdgWjHwwJhv07YzAACN\n",
       "kBfngFFj9wAAAABJRU5ErkJggg==\n",
       "\" style=\"display:inline;vertical-align:middle;\" /></a></td></tr>\n",
       "<tr><td>8</td><td>IndexedVar</td><td>variable:&nbsp;10<br>index:&nbsp;11<br></td><td><a class=\"ProveItLink\" href=\"../88819d6392db95f1d59bc8abf90216d7f6c9e0440/expr.ipynb\"><img src=\"data:image/png;base64,iVBORw0KGgoAAAANSUhEUgAAABEAAAARBAMAAADJQ1rJAAAAMFBMVEX////MzMyYmJjc3NyIiIhU\n",
       "VFR2dna6urqqqqpmZmYyMjIiIiIQEBBERETu7u4AAACIO4EmAAAAAXRSTlMAQObYZgAAAAlwSFlz\n",
       "AAAOxAAADsQBlSsOGwAAAGtJREFUCNdj4LuzgQEKuCbAWPwNMFb9AxgrG8ZgWOoyA8Lg+/XgvQGY\n",
       "xfGPgd8BzOJcwPA+AWZcPcQcfgWG+Q8YUlSArAK+QwzcBTIMDKwKvBMY5jI8BJoyBWjcCbjpn+Gs\n",
       "5QxsUJalkh8DABEXGKNxdSKBAAAAAElFTkSuQmCC\n",
       "\" style=\"display:inline;vertical-align:middle;\" /></a></td></tr>\n",
       "<tr><td>9</td><td>Variable</td><td></td><td><a class=\"ProveItLink\" href=\"../a8d4b3a34d2189508f9082853fbac36935714f280/expr.ipynb\"><img src=\"data:image/png;base64,iVBORw0KGgoAAAANSUhEUgAAAAsAAAAJBAMAAAAWSsseAAAAMFBMVEX////MzMxUVFQyMjKqqqoi\n",
       "IiKYmJju7u5EREQQEBC6urqIiIh2dnZmZmbc3NwAAAD0tjQRAAAAAXRSTlMAQObYZgAAAAlwSFlz\n",
       "AAAOxAAADsQBlSsOGwAAAEdJREFUCNdjYOC7s28DAwPDygcc3xkY2Kcx8AYwMPB+Z2A9wMDA2cBQ\n",
       "v4CBof4AQz5QRb0DQzPLAwbmDWyxPECV2gcfbWQAABp5EMgcedARAAAAAElFTkSuQmCC\n",
       "\" style=\"display:inline;vertical-align:middle;\" /></a></td></tr>\n",
       "<tr><td>10</td><td>Variable</td><td></td><td><a class=\"ProveItLink\" href=\"../53e304ff98ebc000dbe3ef224f4637dbafd46ba70/expr.ipynb\"><img src=\"data:image/png;base64,iVBORw0KGgoAAAANSUhEUgAAAAkAAAAOBAMAAAAPuiubAAAALVBMVEX///+YmJjc3NyIiIhUVFR2\n",
       "dna6urqqqqpmZmYyMjIiIiIQEBBERETu7u4AAAALjtrwAAAAAXRSTlMAQObYZgAAAAlwSFlzAAAO\n",
       "xAAADsQBlSsOGwAAAE5JREFUCNdj4D29gAEIOBtAJF8BiMy7ACKjQATDFON2BgbelxfuKTCwv2Xg\n",
       "M2DgmMBwLwCkPK+AgU+Aoe8CA18C70YGBhYBHqARvM1A5QCqGhDobJhHyAAAAABJRU5ErkJggg==\n",
       "\" style=\"display:inline;vertical-align:middle;\" /></a></td></tr>\n",
       "<tr><td>11</td><td>Variable</td><td></td><td><a class=\"ProveItLink\" href=\"../b2b446b221a34ee579eb9a1fbdd4ac4e2891d8c70/expr.ipynb\"><img src=\"data:image/png;base64,iVBORw0KGgoAAAANSUhEUgAAAAkAAAAJBAMAAAASvxsjAAAAKlBMVEX///+6urqYmJju7u4QEBBE\n",
       "RERmZmaqqqoiIiLc3NzMzMyIiIh2dnYAAACSkFDuAAAAAXRSTlMAQObYZgAAAAlwSFlzAAAOxAAA\n",
       "DsQBlSsOGwAAADhJREFUCNdjYGA4vWcBA8OMArYABoYeBpYNDGyXGYCAJQBE2h4AkbwKDAwCDGwJ\n",
       "DDxAlWd2b2YAACirCnk+94p2AAAAAElFTkSuQmCC\n",
       "\" style=\"display:inline;vertical-align:middle;\" /></a></td></tr>\n",
       "</table>\n"
      ],
      "text/plain": [
       "0. (a_{1} = b_{1}),...,(a_{m} = b_{m})\n",
       "   core type: ExprRange\n",
       "   lambda_map: 1\n",
       "   start_index: 2\n",
       "   end_index: 3\n",
       "1. c -> (a_{c} = b_{c})\n",
       "   core type: Lambda\n",
       "   parameter: 11\n",
       "   body: 4\n",
       "2. 1\n",
       "   core type: Literal\n",
       "   sub-expressions: \n",
       "3. m\n",
       "   core type: Variable\n",
       "   sub-expressions: \n",
       "4. a_{c} = b_{c}\n",
       "   core type: Operation\n",
       "   operator: 5\n",
       "   operands: 6\n",
       "5. =\n",
       "   core type: Literal\n",
       "   sub-expressions: \n",
       "6. (a_{c} , b_{c})\n",
       "   core type: ExprTuple\n",
       "   sub-expressions: 7, 8\n",
       "7. a_{c}\n",
       "   core type: IndexedVar\n",
       "variable: 9\n",
       "index: 11\n",
       "8. b_{c}\n",
       "   core type: IndexedVar\n",
       "variable: 10\n",
       "index: 11\n",
       "9. a\n",
       "   core type: Variable\n",
       "   sub-expressions: \n",
       "10. b\n",
       "    core type: Variable\n",
       "    sub-expressions: \n",
       "11. c\n",
       "    core type: Variable\n",
       "    sub-expressions: "
      ]
     },
     "execution_count": 5,
     "metadata": {},
     "output_type": "execute_result"
    }
   ],
   "source": [
    "# display the expression information\n",
    "expr.exprInfo()"
   ]
  },
  {
   "cell_type": "code",
   "execution_count": null,
   "metadata": {},
   "outputs": [],
   "source": []
  }
 ],
 "metadata": {
  "kernelspec": {
   "display_name": "Python 3",
   "language": "python",
   "name": "python3"
  },
  "language_info": {
   "codemirror_mode": {
    "name": "ipython",
    "version": 3
   },
   "file_extension": ".py",
   "mimetype": "text/x-python",
   "name": "python",
   "nbconvert_exporter": "python",
   "pygments_lexer": "ipython3",
   "version": "3.7.4"
  }
 },
 "nbformat": 4,
 "nbformat_minor": 1
}
