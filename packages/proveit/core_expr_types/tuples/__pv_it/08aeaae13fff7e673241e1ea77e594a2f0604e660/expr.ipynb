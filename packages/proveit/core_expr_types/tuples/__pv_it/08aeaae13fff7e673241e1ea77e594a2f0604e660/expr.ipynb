{
 "cells": [
  {
   "cell_type": "markdown",
   "metadata": {},
   "source": [
    "Expression of type <a class=\"ProveItLink\" href=\"../../../../../../doc/html/api/proveit.logic.And.html\">And</a>\n",
    "=======================\n",
    "# from context <a class=\"ProveItLink\" href=\"../../_context_.ipynb\">proveit.core_expr_types.tuples</a>"
   ]
  },
  {
   "cell_type": "code",
   "execution_count": 1,
   "metadata": {},
   "outputs": [],
   "source": [
    "import proveit\n",
    "# Automation is not needed when building an expression:\n",
    "proveit.defaults.automation = False # This will speed things up.\n",
    "# import Expression classes needed to build the expression\n",
    "from proveit._common_ import l, m, n\n",
    "from proveit.logic import And, InSet\n",
    "from proveit.number import Naturals"
   ]
  },
  {
   "cell_type": "code",
   "execution_count": 2,
   "metadata": {},
   "outputs": [
    {
     "data": {
      "text/html": [
       "<strong id=\"expr\">expr:</strong> <a class=\"ProveItLink\" href=\"../448b4fc2db69cd34c66545968667e4986578963e0/expr.ipynb\"><img src=\"data:image/png;base64,iVBORw0KGgoAAAANSUhEUgAAAPkAAAAVBAMAAAB251VaAAAAMFBMVEX////MzMxUVFREREQiIiK6\n",
       "uroQEBCYmJhmZmYyMjLu7u52dnaqqqqIiIjc3NwAAACFAiZ1AAAAAXRSTlMAQObYZgAAAAlwSFlz\n",
       "AAAOxAAADsQBlSsOGwAAApRJREFUSMellU9oE0EUxr/N7mabTbLmoOIxEC+KhhVaRLAlYC7+OeTg\n",
       "pRWhBz2JEATBi21vRaqQmyC1LI0XTw1V9GIhIIjQQyPeFGEPXgpiW8QKHopvZjZ0d7PTzNaFzex7\n",
       "3+/Lm8zOvADwIbl8hcx/GLhW7MbTL35d8PBmt3EzLgyihzFE6HXg9U5Uv2iWYf8d9K7LfkY6Q4i2\n",
       "W4C1HZVP+m+BaeBZEL8TA0OTr3SGED3SpDtGnXFzPmrAg+BLLouRoclXOkOIzlJo9ET6c73O51F9\n",
       "6LSYnPXE27vX4GN24LWO1kUdJUMSPUnhVolnJ78EXDVT+srknJi7oblCjxU3n3spDIn0AoWzPOn0\n",
       "3xqqcPUGyflysHeW+Eioufpz7ay2NsbjTU/RIKefUljhyZy/L5+wr5Bsif2whI98JDSvj2PlPj4E\n",
       "eUWDL6WvUXhXVA/JVvc9bcpCjUVaGQafN6HHsi62OsFitVQNJSl9m+g9njxep8sVMk5nSNb4ScyU\n",
       "UOTbklBvpYENTyyWdov4SxhumJXTRBSnebIdmhyWbfoZJhde0hGqBV+GDeBRsFi2q2ioyOlFQC/z\n",
       "dTLCstZz+wvJWsdj9kAoTgFXYe7ZLK4pGv7I6XHgSJOvU7HXl8/R/Ylky+3bNtkDobgD+zcyrR8s\n",
       "/gYlQ2E7L6VXqfqUqLvYl9lOZP1vhOUt9qGzjUOos8Pacq7T4du0q2TIt2ak9HXCF0R2eUwcyaO7\n",
       "rujRBjsqOktqrByhZg3FORSe8DNkV6agYHDOd6W0UdpvRzdG65GO/z3a28KoaF+vgt6pZEiirTn5\n",
       "//98NDwIPYyB0RNS1XFjiYkhxdMZON2WyroXS7SHVE9n4LQj/deeGZht8+Dq6QxE/wOYW+9lrDFU\n",
       "WAAAAABJRU5ErkJggg==\n",
       "\" style=\"display:inline;vertical-align:middle;\" /></a><br>"
      ],
      "text/plain": [
       "expr: (l in Naturals) and (m in Naturals) and (n in Naturals)"
      ]
     },
     "execution_count": 2,
     "metadata": {},
     "output_type": "execute_result"
    }
   ],
   "source": [
    "# build up the expression from sub-expressions\n",
    "expr = And(InSet(l, Naturals), InSet(m, Naturals), InSet(n, Naturals))"
   ]
  },
  {
   "cell_type": "code",
   "execution_count": 3,
   "metadata": {},
   "outputs": [
    {
     "name": "stdout",
     "output_type": "stream",
     "text": [
      "Passed sanity check: built 'expr' is the same as the stored Expression.\n"
     ]
    }
   ],
   "source": [
    "# check that the built expression is the same as the stored expression\n",
    "%check_expr"
   ]
  },
  {
   "cell_type": "code",
   "execution_count": 4,
   "metadata": {},
   "outputs": [
    {
     "name": "stdout",
     "output_type": "stream",
     "text": [
      "\\left(l \\in \\mathbb{N}\\right) \\land \\left(m \\in \\mathbb{N}\\right) \\land \\left(n \\in \\mathbb{N}\\right)\n"
     ]
    }
   ],
   "source": [
    "# Show the LaTeX representation of the expression for convenience if you need it.\n",
    "print(expr.latex())"
   ]
  },
  {
   "cell_type": "code",
   "execution_count": 5,
   "metadata": {},
   "outputs": [
    {
     "data": {
      "text/html": [
       "<table><tr><th>&nbsp;</th><th>core type</th><th>sub-expressions</th><th>expression</th></tr>\n",
       "<tr><td>0</td><td>Operation</td><td>operator:&nbsp;1<br>operands:&nbsp;2<br></td><td><a class=\"ProveItLink\" href=\"../448b4fc2db69cd34c66545968667e4986578963e0/expr.ipynb\"><img src=\"data:image/png;base64,iVBORw0KGgoAAAANSUhEUgAAAPkAAAAVBAMAAAB251VaAAAAMFBMVEX////MzMxUVFREREQiIiK6\n",
       "uroQEBCYmJhmZmYyMjLu7u52dnaqqqqIiIjc3NwAAACFAiZ1AAAAAXRSTlMAQObYZgAAAAlwSFlz\n",
       "AAAOxAAADsQBlSsOGwAAApRJREFUSMellU9oE0EUxr/N7mabTbLmoOIxEC+KhhVaRLAlYC7+OeTg\n",
       "pRWhBz2JEATBi21vRaqQmyC1LI0XTw1V9GIhIIjQQyPeFGEPXgpiW8QKHopvZjZ0d7PTzNaFzex7\n",
       "3+/Lm8zOvADwIbl8hcx/GLhW7MbTL35d8PBmt3EzLgyihzFE6HXg9U5Uv2iWYf8d9K7LfkY6Q4i2\n",
       "W4C1HZVP+m+BaeBZEL8TA0OTr3SGED3SpDtGnXFzPmrAg+BLLouRoclXOkOIzlJo9ET6c73O51F9\n",
       "6LSYnPXE27vX4GN24LWO1kUdJUMSPUnhVolnJ78EXDVT+srknJi7oblCjxU3n3spDIn0AoWzPOn0\n",
       "3xqqcPUGyflysHeW+Eioufpz7ay2NsbjTU/RIKefUljhyZy/L5+wr5Bsif2whI98JDSvj2PlPj4E\n",
       "eUWDL6WvUXhXVA/JVvc9bcpCjUVaGQafN6HHsi62OsFitVQNJSl9m+g9njxep8sVMk5nSNb4ScyU\n",
       "UOTbklBvpYENTyyWdov4SxhumJXTRBSnebIdmhyWbfoZJhde0hGqBV+GDeBRsFi2q2ioyOlFQC/z\n",
       "dTLCstZz+wvJWsdj9kAoTgFXYe7ZLK4pGv7I6XHgSJOvU7HXl8/R/Ylky+3bNtkDobgD+zcyrR8s\n",
       "/gYlQ2E7L6VXqfqUqLvYl9lOZP1vhOUt9qGzjUOos8Pacq7T4du0q2TIt2ak9HXCF0R2eUwcyaO7\n",
       "rujRBjsqOktqrByhZg3FORSe8DNkV6agYHDOd6W0UdpvRzdG65GO/z3a28KoaF+vgt6pZEiirTn5\n",
       "//98NDwIPYyB0RNS1XFjiYkhxdMZON2WyroXS7SHVE9n4LQj/deeGZht8+Dq6QxE/wOYW+9lrDFU\n",
       "WAAAAABJRU5ErkJggg==\n",
       "\" style=\"display:inline;vertical-align:middle;\" /></a></td></tr>\n",
       "<tr><td>1</td><td>Literal</td><td></td><td><a class=\"ProveItLink\" href=\"../../../../logic/boolean/conjunction/__pv_it/f41cc6b553210927c09f19a8a39cdf860a5585930/expr.ipynb\"><img src=\"data:image/png;base64,iVBORw0KGgoAAAANSUhEUgAAAAwAAAANBAMAAABvB5JxAAAALVBMVEX///9mZmbc3NxERETMzMy6\n",
       "urpUVFSYmJiIiIgyMjIiIiLu7u6qqqp2dnYAAACMfHT6AAAAAXRSTlMAQObYZgAAAAlwSFlzAAAO\n",
       "xAAADsQBlSsOGwAAAEpJREFUCNdjYGDgPcAAArsmgKn2VDC1wBlE8lzgVABSnAo8AkDKjYFhNZBK\n",
       "YWDoYGDgBirfBdHMeICBCyjONIGhAqTJhMEaRPkCACemC8GDBfsjAAAAAElFTkSuQmCC\n",
       "\" style=\"display:inline;vertical-align:middle;\" /></a></td></tr>\n",
       "<tr><td>2</td><td>ExprTuple</td><td>3, 4, 5</td><td><a class=\"ProveItLink\" href=\"../e4451c08fd5af40c817ed3a2e44afbcf12e6e4be0/expr.ipynb\"><img src=\"data:image/png;base64,iVBORw0KGgoAAAANSUhEUgAAAL0AAAAVBAMAAADhtvKAAAAAMFBMVEX////MzMxUVFREREQiIiK6\n",
       "uroQEBCYmJhmZmYyMjLu7u52dnaqqqqIiIjc3NwAAACFAiZ1AAAAAXRSTlMAQObYZgAAAAlwSFlz\n",
       "AAAOxAAADsQBlSsOGwAAAjNJREFUOMu1lT9o1FAcx7+5Sy69d5d4g4rjwbkoekRoEcHKgVmsDje4\n",
       "tCJ00EmEWwQXbTeRImQTSpVQ3e+oolPhQHDQoRE3RcjgIoi9IlZwKP7yXkIv1/fypgYe5Pf7fn7f\n",
       "917enwCIcVgPd3aGk+mXvy+EeLPbVRdqiEy+mQQfgdc7ef2i1QT7VzQyDZHKydBZANijvHwyfgss\n",
       "FvlriExeBaZ61IK8fMarxugU+WuITL4PVCg0I5H+7Pu8p/YDN5BWO9P+FRQQkwaVEPMUbje4Ov8l\n",
       "xdqlxleZv/UsLCQOGFR7WKFwiSfd1Yxrwyt3RbW18WvzrLE5w4MfoYpQGNSaeEphiyer8b58gs2J\n",
       "6lp5Fv17eM+D51ARsdzADnCNwrvCf6zaHr4Tu+NYxcP2IJ1hoCQacoN6B7cBY48nj/v0eELG6ZKo\n",
       "DvtdbIVihsYtAi5DQiwpDIxR4u8I8MVY91hn6eptAY/TGTJPRbQUBtYi1oByk6+bOS4bUWp2CrgK\n",
       "a48l7x0V8ZfJDej7zAJHenz/O1Emn6P2yQMvugP2B6XgZ/L+DXKiPqpJDWB72CD/BSGsZXKy5nSm\n",
       "+7Se7k5ye1QHA76AQzlRCx5KDTAV4Tr1siKy6zNifx/d9fi9ZM7RF+zAWUb9Cd96rLUAGeGeH0oN\n",
       "YMYwG/vn78a0n7uJPhw4wK/S+0FBTBp8p8Evq2+xgfYPoiEeUbukVFmks9cQrpfbtZOPrR2+hign\n",
       "y+H2Du3/S7vqP33HtHalkuuIAAAAAElFTkSuQmCC\n",
       "\" style=\"display:inline;vertical-align:middle;\" /></a></td></tr>\n",
       "<tr><td>3</td><td>Operation</td><td>operator:&nbsp;8<br>operands:&nbsp;6<br></td><td><a class=\"ProveItLink\" href=\"../eae3fd692a5d41f711ffadac465dffd29abaca910/expr.ipynb\"><img src=\"data:image/png;base64,iVBORw0KGgoAAAANSUhEUgAAAC8AAAAQBAMAAAB0JTvnAAAAMFBMVEX///+qqqq6urru7u4QEBBE\n",
       "RERUVFTc3NyIiIgyMjJmZmaYmJjMzMwiIiJ2dnYAAACPW0xlAAAAAXRSTlMAQObYZgAAAAlwSFlz\n",
       "AAAOxAAADsQBlSsOGwAAANBJREFUGNNjYEADtl8jDRiefFFgYHj7B1UmkCmBgfkzkMH9AVUit+A1\n",
       "A4MDkME1AVUiMYCzgOECkMHbABFovXsXrCR9B/sEsET9AbC4ZjNURzrbgT6wxH4wl30yzKh0hgBW\n",
       "BZBEKpgLNBcucYr5MkjCAyLBgJDgFhAFuornO5h75C4QBEAkGJLZgBIcDmAJUyQdDGbMQKNYEwxA\n",
       "XF5kCZ4GoF7+DWB/cDTAJGKAuAckoQwRmgiTuAgNDe51EL5ZENhIhrNfgKqZkYNJL/YuMhcAw+w1\n",
       "Phc+d4kAAAAASUVORK5CYII=\n",
       "\" style=\"display:inline;vertical-align:middle;\" /></a></td></tr>\n",
       "<tr><td>4</td><td>Operation</td><td>operator:&nbsp;8<br>operands:&nbsp;7<br></td><td><a class=\"ProveItLink\" href=\"../8bd68d2a816f3e8e379b277728c71749d95e1c4d0/expr.ipynb\"><img src=\"data:image/png;base64,iVBORw0KGgoAAAANSUhEUgAAADsAAAAQBAMAAABaYBp1AAAAMFBMVEX///8iIiIyMjJmZmYQEBCq\n",
       "qqqYmJju7u5ERETMzMyIiIjc3NxUVFR2dna6uroAAACULOzSAAAAAXRSTlMAQObYZgAAAAlwSFlz\n",
       "AAAOxAAADsQBlSsOGwAAAQNJREFUGNNjYMAKCn80FTBc+fKAAQdo5TvAwP4dlyzDwQ3XGBgccEof\n",
       "bWDawCCALsrVKCgEZpzO4lbAkObTKoCyTvNMWAuS5ruz+9Ypzlt9YMFNMFmG0wwNHA+A0rwcXQz1\n",
       "eQwhYEFtBoT0ZHZxoPQ8lgaG/RcY8sGCCkjSbAERQJcX1D9giC9gOAES43QUFBSUgEozHOcBeSye\n",
       "gcGIgcELJMbegKSboYYd5PJDDAyyDHy/2UGCAsjSnAtAqn0Z2P8x8ChsBQmugkt3AvFKoDT3Twa2\n",
       "DwxMFy6ABJkCYNKiQMwMdCmfAAOXAQOr1Qaw5SeeQ2QnfgHqZFdAD1S+G9BAhQIAOvY877r4sX8A\n",
       "AAAASUVORK5CYII=\n",
       "\" style=\"display:inline;vertical-align:middle;\" /></a></td></tr>\n",
       "<tr><td>5</td><td>Operation</td><td>operator:&nbsp;8<br>operands:&nbsp;9<br></td><td><a class=\"ProveItLink\" href=\"../ea7a7b216aa76d36941eba05f4c0acd13c4034bc0/expr.ipynb\"><img src=\"data:image/png;base64,iVBORw0KGgoAAAANSUhEUgAAADUAAAAQBAMAAABEqSrGAAAAMFBMVEX///9mZmYiIiIyMjKqqqqY\n",
       "mJgQEBDMzMzu7u5ERESIiIjc3NxUVFR2dna6uroAAABonEzTAAAAAXRSTlMAQObYZgAAAAlwSFlz\n",
       "AAAOxAAADsQBlSsOGwAAAOdJREFUGNNjYMAETT8nNzBc+/aAARuYwneAgeMHVimGQxuuMjAkYJc7\n",
       "MoF5A4MCqthKJSUDEH06itsATe7xCijjNE/BWpAc353dt06BRbgtYIpOM0zgfACU4+WcxdC/ASTC\n",
       "vAEhV8ihAZSrY5vAsL8ALMeAkGN18AS6s6H/AUM8WKRMCQgmQOQYTvCA/ODPwHASLNeJpI+hhwPk\n",
       "zsMMDF85QCJMyHLsC0Am5DKwfOAFiXAtgMlNB+LlQDnu7wy8BtFgIROYnAoQMwJDgU+BgXuqA1io\n",
       "Z14DmC76BtTDYYAaZm8nKSGLAADF1zpFf81hBQAAAABJRU5ErkJggg==\n",
       "\" style=\"display:inline;vertical-align:middle;\" /></a></td></tr>\n",
       "<tr><td>6</td><td>ExprTuple</td><td>10, 13</td><td><a class=\"ProveItLink\" href=\"../6aa8591d9960f2b14f24449eb667f18607d1a4b10/expr.ipynb\"><img src=\"data:image/png;base64,iVBORw0KGgoAAAANSUhEUgAAACsAAAAVBAMAAAAtAwouAAAAMFBMVEX////MzMxUVFREREQiIiK6\n",
       "uroQEBCYmJhmZmYyMjLu7u52dnaqqqqIiIjc3NwAAACFAiZ1AAAAAXRSTlMAQObYZgAAAAlwSFlz\n",
       "AAAOxAAADsQBlSsOGwAAASFJREFUGNNd0T9Iw0AUx/FvmrRpTxs7ODgGdBIpcRRUOheHDi4KQhZH\n",
       "IaOLfzYHl2yCOBR1V0TsWnDT5ZxdMrhbETo4iO+SmIYGDt7vk+Py3gVImHpSaA7/4+33Wp+ncW/P\n",
       "hFd4/Mp8veqjftKNKgZ3lPFSMoAQLqEeyYozXgkaCR04hJpER2fcPvJiw7U+OxI/WzlXWu+GGxHn\n",
       "Ek/yVtoEdk94xudC4mLBC6or7MZsSTwo2B0+SyezHfbB+i2Y5YqwNTLcDCd8reSQasgV2H6/YEsH\n",
       "6SEbMBdplOFVWW/CbsCD8K7mzgxqPm8mrmu25aX07nRhfhxkd+QkOPmEL6UL/5Ctp1l5X+IzWZtp\n",
       "pfREPTmLm7R0S5tt068XTf/LY/gDFJs8GdmzTekAAAAASUVORK5CYII=\n",
       "\" style=\"display:inline;vertical-align:middle;\" /></a></td></tr>\n",
       "<tr><td>7</td><td>ExprTuple</td><td>11, 13</td><td><a class=\"ProveItLink\" href=\"../deff4dcd953934bb2cb37c9e17e03644e94339f20/expr.ipynb\"><img src=\"data:image/png;base64,iVBORw0KGgoAAAANSUhEUgAAADcAAAAVBAMAAAAQkWtIAAAAMFBMVEX////MzMxUVFREREQiIiK6\n",
       "uroQEBCYmJhmZmYyMjLu7u52dnaqqqqIiIjc3NwAAACFAiZ1AAAAAXRSTlMAQObYZgAAAAlwSFlz\n",
       "AAAOxAAADsQBlSsOGwAAAUhJREFUKM9tkj1IA0EQRl9+LpdckiOFgmVAG0XlLCwEIyms1CKFjYWQ\n",
       "xkqENIKNmk5EhOsEsTjUVhJSaBUICDYWibXNFZaiETGghTgb8VwTF2bZbx7z7TC7gM+/q5tON/4m\n",
       "z19nPC47hVUlbntLZo0s1ke3yHJ74Yh/BUU4hnipF447CZ88bEGsr5PJbdtVMOax0g/DmXsFEyUO\n",
       "wKg91SdC9ekfiBMpCExmOZI9kqOyyU0Ah6wFgabLEgzGHJ6r7AbQbFxLt6k8a+BVCjQ9hgPIWFhg\n",
       "qK0gTdiHjV94aomtUeRE5CgsYnxaAQy1nK5tTuQ61hth9xFPwSmJO4GmQw3sF8w2iWrVeldQWiQu\n",
       "Q423WBbzPOkyqUOfeSkd6DjfE4/6RDPacFKeJh7EuazppD7GPYk5TV9oZ1vcOdMS+vNF1BV26f8/\n",
       "tANfibhITILw4esAAAAASUVORK5CYII=\n",
       "\" style=\"display:inline;vertical-align:middle;\" /></a></td></tr>\n",
       "<tr><td>8</td><td>Literal</td><td></td><td><a class=\"ProveItLink\" href=\"../../../../logic/set_theory/membership/__pv_it/7776fc89cb67d0b5b1ec2c0c8e08da5587921ccf0/expr.ipynb\"><img src=\"data:image/png;base64,iVBORw0KGgoAAAANSUhEUgAAAAwAAAAMBAMAAACkW0HUAAAAKlBMVEX///92dnZUVFSqqqoQEBDM\n",
       "zMzc3Nzu7u66uroyMjIiIiJERESIiIgAAACm0meuAAAAAXRSTlMAQObYZgAAAAlwSFlzAAAOxAAA\n",
       "DsQBlSsOGwAAADxJREFUCNdjYGA4vWrVBAaGzuMMQMA2HUQycCZAKDDJELIKCDYwVEN4XBCK5wCE\n",
       "ngyhinYUgOnGXasmAABvGQ6ucz2C1gAAAABJRU5ErkJggg==\n",
       "\" style=\"display:inline;vertical-align:middle;\" /></a></td></tr>\n",
       "<tr><td>9</td><td>ExprTuple</td><td>12, 13</td><td><a class=\"ProveItLink\" href=\"../8523ac9024e017b0054bafb17df64301faa224970/expr.ipynb\"><img src=\"data:image/png;base64,iVBORw0KGgoAAAANSUhEUgAAADEAAAAVBAMAAAAdjxsPAAAAMFBMVEX////MzMxUVFREREQiIiK6\n",
       "uroQEBCYmJhmZmYyMjLu7u52dnaqqqqIiIjc3NwAAACFAiZ1AAAAAXRSTlMAQObYZgAAAAlwSFlz\n",
       "AAAOxAAADsQBlSsOGwAAATFJREFUKM9tki9IBEEUh7/7v7d7LhsUjAdaFJUxieDJBpMYLlgMwhWT\n",
       "5aLF02awbBPEsKhVDi6cSVgwGjyzZYNZT4QTTb45mXNXHXgDv/fN/ObNmwFi/o5hbixKZC7flkO6\n",
       "g/q2FnepxSuFKvbncLkdpMh0fA0NOAWrmSJzqhzjwx4U00cv7LuBJsWQrV8k6z1qUm5yDIXO8828\n",
       "IahcXYhT5UTmXI12bMikvS6kFLABE0XFi2dIKbqV2io+OxC26xyM3JjNCsn0NeEepn7IuS1uhQZn\n",
       "Imfg3R6RTE8N3Woid6n0HUJNFiUehJQUHXBfcYKW/aGJFIQlDbN6bIqnj7sUsSabxgfqu5X5mLxn\n",
       "rl8JE714EsNDI5xkl44kVo24SgBXTLkwKvkcOe3sNv/5By34Ak9LP+Ss6hVEAAAAAElFTkSuQmCC\n",
       "\" style=\"display:inline;vertical-align:middle;\" /></a></td></tr>\n",
       "<tr><td>10</td><td>Variable</td><td></td><td><a class=\"ProveItLink\" href=\"../../../../__pv_it/146a2ac733407ae00030c58af25a3e0f465a566a0/expr.ipynb\"><img src=\"data:image/png;base64,iVBORw0KGgoAAAANSUhEUgAAAAYAAAAOBAMAAAD+sXAWAAAALVBMVEX///+6urru7u4QEBBERERU\n",
       "VFTc3NyIiIgyMjJmZmaYmJjMzMwiIiJ2dnYAAADXf7CVAAAAAXRSTlMAQObYZgAAAAlwSFlzAAAO\n",
       "xAAADsQBlSsOGwAAAD9JREFUCNdjYLjzmoGB6wEDA2cDAwNPAQND3gYGhnUMDAwhQGzOwMD9jIGB\n",
       "3YCBgSVAgYFvQQEDn1ABA9dcBgA2gAn/wFd3XQAAAABJRU5ErkJggg==\n",
       "\" style=\"display:inline;vertical-align:middle;\" /></a></td></tr>\n",
       "<tr><td>11</td><td>Variable</td><td></td><td><a class=\"ProveItLink\" href=\"../../../../__pv_it/6e8a38e9a7e2b6af352562cd77e0eb4751f142620/expr.ipynb\"><img src=\"data:image/png;base64,iVBORw0KGgoAAAANSUhEUgAAABIAAAAJBAMAAADN8WE8AAAAMFBMVEX///8iIiIyMjJmZmYQEBCq\n",
       "qqqYmJju7u5ERETMzMyIiIjc3NxUVFR2dna6uroAAACULOzSAAAAAXRSTlMAQObYZgAAAAlwSFlz\n",
       "AAAOxAAADsQBlSsOGwAAAGNJREFUCNdj4Luz+9Ypzlt9DAy8HF0M9XkMIQwM81gaGPZfYMhnYCio\n",
       "f8AQX8BwgoGBIZ6BwYiBwQvIOsTAIMvA95udgcGXgf0fA4/CVgbunwxsHxiYLlxg4BNg4DJgYLXa\n",
       "AAB/WBcBafZ/twAAAABJRU5ErkJggg==\n",
       "\" style=\"display:inline;vertical-align:middle;\" /></a></td></tr>\n",
       "<tr><td>12</td><td>Variable</td><td></td><td><a class=\"ProveItLink\" href=\"../../../../__pv_it/0c1c4cb515e0f4344b1ac06650f349123e526deb0/expr.ipynb\"><img src=\"data:image/png;base64,iVBORw0KGgoAAAANSUhEUgAAAAwAAAAJBAMAAAD0ltBnAAAALVBMVEX///8iIiIyMjKqqqqYmJgQ\n",
       "EBDMzMzu7u5ERESIiIjc3NxUVFR2dna6uroAAABc6vguAAAAAXRSTlMAQObYZgAAAAlwSFlzAAAO\n",
       "xAAADsQBlSsOGwAAAEdJREFUCNdj4D296uROBgYejk6GugUMuawNDOsSGArqLjD4MTAw2DEw7ABS\n",
       "mxgYnrAzMMQwMD/gYeB6xsCj4MXAK8DA1WIAACOEDusgYYkuAAAAAElFTkSuQmCC\n",
       "\" style=\"display:inline;vertical-align:middle;\" /></a></td></tr>\n",
       "<tr><td>13</td><td>Literal</td><td></td><td><a class=\"ProveItLink\" href=\"../../../../number/sets/integer/__pv_it/b49c37b99b7e8d73a8d7971bcf454d693b90a2c60/expr.ipynb\"><img src=\"data:image/png;base64,iVBORw0KGgoAAAANSUhEUgAAAA8AAAAPBAMAAADJ+Ih5AAAAMFBMVEX///9mZmbMzMyIiIiYmJjc\n",
       "3NxUVFSqqqq6uroQEBB2dnYyMjJEREQiIiLu7u4AAAAPqInnAAAAAXRSTlMAQObYZgAAAAlwSFlz\n",
       "AAAOxAAADsQBlSsOGwAAAGpJREFUCNdjePvn9AOGlT8bGBiOcyQw8P1jYGDIDVjCwDAByEg/wB3A\n",
       "cAHISHVm3QBhsClYQRgMB3gaIAxFvnsQBktBzQQwgyGPDcp4xgeRYmAyOABkHAJiIxDjOhAzbmBg\n",
       "0P0J5PFtYAAA6AAhaNFZV/8AAAAASUVORK5CYII=\n",
       "\" style=\"display:inline;vertical-align:middle;\" /></a></td></tr>\n",
       "</table>\n"
      ],
      "text/plain": [
       "0. (l in Naturals) and (m in Naturals) and (n in Naturals)\n",
       "   core type: Operation\n",
       "   operator: 1\n",
       "   operands: 2\n",
       "1. and\n",
       "   core type: Literal\n",
       "   sub-expressions: \n",
       "2. (l in Naturals , m in Naturals , n in Naturals)\n",
       "   core type: ExprTuple\n",
       "   sub-expressions: 3, 4, 5\n",
       "3. l in Naturals\n",
       "   core type: Operation\n",
       "   operator: 8\n",
       "   operands: 6\n",
       "4. m in Naturals\n",
       "   core type: Operation\n",
       "   operator: 8\n",
       "   operands: 7\n",
       "5. n in Naturals\n",
       "   core type: Operation\n",
       "   operator: 8\n",
       "   operands: 9\n",
       "6. (l , Naturals)\n",
       "   core type: ExprTuple\n",
       "   sub-expressions: 10, 13\n",
       "7. (m , Naturals)\n",
       "   core type: ExprTuple\n",
       "   sub-expressions: 11, 13\n",
       "8. in\n",
       "   core type: Literal\n",
       "   sub-expressions: \n",
       "9. (n , Naturals)\n",
       "   core type: ExprTuple\n",
       "   sub-expressions: 12, 13\n",
       "10. l\n",
       "    core type: Variable\n",
       "    sub-expressions: \n",
       "11. m\n",
       "    core type: Variable\n",
       "    sub-expressions: \n",
       "12. n\n",
       "    core type: Variable\n",
       "    sub-expressions: \n",
       "13. Naturals\n",
       "    core type: Literal\n",
       "    sub-expressions: "
      ]
     },
     "execution_count": 5,
     "metadata": {},
     "output_type": "execute_result"
    }
   ],
   "source": [
    "# display the expression information\n",
    "expr.exprInfo()"
   ]
  },
  {
   "cell_type": "code",
   "execution_count": null,
   "metadata": {},
   "outputs": [],
   "source": []
  }
 ],
 "metadata": {
  "kernelspec": {
   "display_name": "Python 3",
   "language": "python",
   "name": "python3"
  },
  "language_info": {
   "codemirror_mode": {
    "name": "ipython",
    "version": 3
   },
   "file_extension": ".py",
   "mimetype": "text/x-python",
   "name": "python",
   "nbconvert_exporter": "python",
   "pygments_lexer": "ipython3",
   "version": "3.7.4"
  }
 },
 "nbformat": 4,
 "nbformat_minor": 1
}
