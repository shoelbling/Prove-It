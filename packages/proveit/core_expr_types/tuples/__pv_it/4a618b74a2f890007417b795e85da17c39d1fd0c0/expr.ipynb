{
 "cells": [
  {
   "cell_type": "markdown",
   "metadata": {},
   "source": [
    "Expression of type <a class=\"ProveItLink\" href=\"../../../../../../doc/html/api/proveit.logic.Equals.html\">Equals</a>\n",
    "=======================\n",
    "# from context <a class=\"ProveItLink\" href=\"../../_context_.ipynb\">proveit.core_expr_types.tuples</a>"
   ]
  },
  {
   "cell_type": "code",
   "execution_count": 1,
   "metadata": {},
   "outputs": [],
   "source": [
    "import proveit\n",
    "# Automation is not needed when building an expression:\n",
    "proveit.defaults.automation = False # This will speed things up.\n",
    "# import Expression classes needed to build the expression\n",
    "from proveit import ExprRange, IndexedVar, Variable\n",
    "from proveit._common_ import m\n",
    "from proveit.logic import Equals\n",
    "from proveit.number import Add, one"
   ]
  },
  {
   "cell_type": "code",
   "execution_count": 2,
   "metadata": {},
   "outputs": [
    {
     "data": {
      "text/html": [
       "<strong id=\"expr\">expr:</strong> <a class=\"ProveItLink\" href=\"../afb68fe00e4df8cae621837a2b531a93d23ab8db0/expr.ipynb\"><img src=\"data:image/png;base64,iVBORw0KGgoAAAANSUhEUgAAATYAAAAVBAMAAAA+3d+2AAAAMFBMVEX////MzMxUVFREREQiIiK6\n",
       "uroQEBCYmJhmZmYyMjLu7u52dnaqqqqIiIjc3NwAAACFAiZ1AAAAAXRSTlMAQObYZgAAAAlwSFlz\n",
       "AAAOxAAADsQBlSsOGwAAAjtJREFUSMetlr9LAzEUx5+22vbUs/+AWP8AoVBQEJQKHURERERwqigi\n",
       "OJ2IoJubg4rFxUXwwMlBWsQ/4AYnXYoILgoFBwcHXRx0MknT+5F3yZmrGa6X77vvJ8n15V0AoAH/\n",
       "1Mw/an+H9Tn/NbeuOtae24LdgzFSVD6G4jIDnkhvTZ/uwYwKQGZPvQYUlxgytqhcQgy6C0tbAP0R\n",
       "fyuKSwwpNMo+xKC7sG7yU7bVbhSXGTZEYTkO3YUtketNRF7eRAq8nYoJXYlDd2EH5Hrycqh0o7jM\n",
       "cC3007U4dBdGlmp821VVkUNxqWGXTajEWo7msxWD7sFmyEb/gf66sSt1s7hSICMw+63gTDox6B5s\n",
       "jSy0AtXawKPUzeIKge7Opn1QcHbPadP9sDVWYMoOWnOgAJUdhZB3X9liyNw06X7YGSkwFhzbCjeL\n",
       "72y+5J6GQgUPdyvmm6NN98PGSXTOWG/2caUxgMe312EFHkIEP25LcCfqmvQgjGz7Tiuxx/rGN5Gq\n",
       "FX7j9mjcvCrCFy04SPDjjoSxe3JSOr2Jgi2QZ48Oeb9Elpak2TgF/JKc5vHOescy3dSikC4UVguj\n",
       "HDcr1t6ilM5uImDJLOfQfi9+7XettM725c3PbIjgLdVEJ4pJ0KQHYO73mfZ7cKq2tvcHWVsqXwsR\n",
       "PBw9NwTbDmjSg7CJZvT9nCTLFc7WVlmch0zDHLax0MQx+yuyJxp6dAF24XvWwieVSIEvlbYxPHhe\n",
       "jy7ATKvds3grK1Ihn8W3NmC/0AYDFtGDM3sAAAAASUVORK5CYII=\n",
       "\" style=\"display:inline;vertical-align:middle;\" /></a><br>"
      ],
      "text/plain": [
       "expr: (b_{1} ,  ...  , b_{m} , b_{m + 1}) = (b_{1} ,  ...  , b_{m + 1})"
      ]
     },
     "execution_count": 2,
     "metadata": {},
     "output_type": "execute_result"
    }
   ],
   "source": [
    "# build up the expression from sub-expressions\n",
    "subExpr1 = Variable(\"a\")\n",
    "subExpr2 = IndexedVar(Variable(\"b\"), subExpr1)\n",
    "subExpr3 = Add(m, one)\n",
    "expr = Equals([ExprRange(subExpr1, subExpr2, one, m), IndexedVar(Variable(\"b\"), subExpr3)], [ExprRange(subExpr1, subExpr2, one, subExpr3)])"
   ]
  },
  {
   "cell_type": "code",
   "execution_count": 3,
   "metadata": {},
   "outputs": [
    {
     "name": "stdout",
     "output_type": "stream",
     "text": [
      "Passed sanity check: built 'expr' is the same as the stored Expression.\n"
     ]
    }
   ],
   "source": [
    "# check that the built expression is the same as the stored expression\n",
    "%check_expr"
   ]
  },
  {
   "cell_type": "code",
   "execution_count": 4,
   "metadata": {},
   "outputs": [
    {
     "name": "stdout",
     "output_type": "stream",
     "text": [
      "\\left(b_{1} , \\ldots , b_{m} , b_{m + 1}\\right) = \\left(b_{1} , \\ldots , b_{m + 1}\\right)\n"
     ]
    }
   ],
   "source": [
    "# Show the LaTeX representation of the expression for convenience if you need it.\n",
    "print(expr.latex())"
   ]
  },
  {
   "cell_type": "code",
   "execution_count": 5,
   "metadata": {},
   "outputs": [
    {
     "data": {
      "text/html": [
       "<table><tr><th>&nbsp;</th><th>core type</th><th>sub-expressions</th><th>expression</th></tr>\n",
       "<tr><td>0</td><td>Operation</td><td>operator:&nbsp;1<br>operands:&nbsp;2<br></td><td><a class=\"ProveItLink\" href=\"../afb68fe00e4df8cae621837a2b531a93d23ab8db0/expr.ipynb\"><img src=\"data:image/png;base64,iVBORw0KGgoAAAANSUhEUgAAATYAAAAVBAMAAAA+3d+2AAAAMFBMVEX////MzMxUVFREREQiIiK6\n",
       "uroQEBCYmJhmZmYyMjLu7u52dnaqqqqIiIjc3NwAAACFAiZ1AAAAAXRSTlMAQObYZgAAAAlwSFlz\n",
       "AAAOxAAADsQBlSsOGwAAAjtJREFUSMetlr9LAzEUx5+22vbUs/+AWP8AoVBQEJQKHURERERwqigi\n",
       "OJ2IoJubg4rFxUXwwMlBWsQ/4AYnXYoILgoFBwcHXRx0MknT+5F3yZmrGa6X77vvJ8n15V0AoAH/\n",
       "1Mw/an+H9Tn/NbeuOtae24LdgzFSVD6G4jIDnkhvTZ/uwYwKQGZPvQYUlxgytqhcQgy6C0tbAP0R\n",
       "fyuKSwwpNMo+xKC7sG7yU7bVbhSXGTZEYTkO3YUtketNRF7eRAq8nYoJXYlDd2EH5Hrycqh0o7jM\n",
       "cC3007U4dBdGlmp821VVkUNxqWGXTajEWo7msxWD7sFmyEb/gf66sSt1s7hSICMw+63gTDox6B5s\n",
       "jSy0AtXawKPUzeIKge7Opn1QcHbPadP9sDVWYMoOWnOgAJUdhZB3X9liyNw06X7YGSkwFhzbCjeL\n",
       "72y+5J6GQgUPdyvmm6NN98PGSXTOWG/2caUxgMe312EFHkIEP25LcCfqmvQgjGz7Tiuxx/rGN5Gq\n",
       "FX7j9mjcvCrCFy04SPDjjoSxe3JSOr2Jgi2QZ48Oeb9Elpak2TgF/JKc5vHOescy3dSikC4UVguj\n",
       "HDcr1t6ilM5uImDJLOfQfi9+7XettM725c3PbIjgLdVEJ4pJ0KQHYO73mfZ7cKq2tvcHWVsqXwsR\n",
       "PBw9NwTbDmjSg7CJZvT9nCTLFc7WVlmch0zDHLax0MQx+yuyJxp6dAF24XvWwieVSIEvlbYxPHhe\n",
       "jy7ATKvds3grK1Ihn8W3NmC/0AYDFtGDM3sAAAAASUVORK5CYII=\n",
       "\" style=\"display:inline;vertical-align:middle;\" /></a></td></tr>\n",
       "<tr><td>1</td><td>Literal</td><td></td><td><a class=\"ProveItLink\" href=\"../../../../logic/equality/__pv_it/e16d2caa26a16688b658bdb9c422caf4b84579e10/expr.ipynb\"><img src=\"data:image/png;base64,iVBORw0KGgoAAAANSUhEUgAAAA4AAAAFBAMAAACHocAhAAAAD1BMVEX///9UVFQiIiJmZmYAAACP\n",
       "OqLZAAAAAXRSTlMAQObYZgAAAAlwSFlzAAAOxAAADsQBlSsOGwAAABJJREFUCNdjMFICAUUGXAAq\n",
       "DwAoFgH7Aeay4gAAAABJRU5ErkJggg==\n",
       "\" style=\"display:inline;vertical-align:middle;\" /></a></td></tr>\n",
       "<tr><td>2</td><td>ExprTuple</td><td>3, 4</td><td><a class=\"ProveItLink\" href=\"../ceba0374a31969d79da375cbfa22e91940bda4ee0/expr.ipynb\"><img src=\"data:image/png;base64,iVBORw0KGgoAAAANSUhEUgAAATcAAAAVBAMAAADRH7SIAAAAMFBMVEX////MzMxUVFREREQiIiK6\n",
       "uroQEBCYmJhmZmYyMjLu7u52dnaqqqqIiIjc3NwAAACFAiZ1AAAAAXRSTlMAQObYZgAAAAlwSFlz\n",
       "AAAOxAAADsQBlSsOGwAAAtZJREFUSMetlk1oE0EUx19M0mw2m40nb8XcPBUKgSKCsoIHEZEepOBB\n",
       "WkERPC32Yi8S8FDEFoOXShFdKPhxkITixVsOnvTgoj2IWCgqCHqwF9HGKr55b/YDZ2cn1j74h5d/\n",
       "3v4yb2d2ZgFgA1i7Eq72y79EPKR6n7U7UQ5TX97tlHJWCl6Q7Akvv37lvMlQBuT0dEUmSHTD7A6r\n",
       "2jZ0c9toUFSDOH2kLTJBYJll+ayGaWa3jQZFJWlyXltkgsAV1giwpgPDYhqYDBmX4mxGX2SCjASk\n",
       "M5gKPTG0WPNMhoyl+I87+iITpOqTbmAqdGt9IRdTHXvTzzdkrEaJ1dMXmSC1JmmJm7W3gm7uZtdd\n",
       "tn/nGzLm0t3rikyQSod0ElOUM4BGaM/pMS8D+JVvADxAJDyLvpX6sojsIakS4nikC5iirA50e6Nr\n",
       "+sFdB/tnjmGhCutiBe2PF/UkF7E9DDWBFDZJcnC4zU33k66zNqTydo5RBNkvTKUHR0WONyQ1gZRn\n",
       "SHcwRTV8uBnkDe47WIPK/Oir+uW9WUbCjRnVPhflDU4HkdN6GFNUY9K+yGBbIZDzDe77lSl/pFlv\n",
       "qkaaOysysWkWQy4iW6VSjQ5SGSet8tO/xy+2eXBdcZ5t/Z3AATgIn9ewCdwhFCPNXQR5mdgORBHZ\n",
       "dImK1kGskHQaU5S9uCCnpHQCP46LpB0lwnkoNqQx2CceQsW41ppotfgWwSnxD8fwtpQ9WSRsuiQh\n",
       "tmWNDlLaIJVwsktyGfF6ea5MQOycg9fwtZBhJE27tMAcMWdHo7cTL5PqBFoIfGSJgzo+rGlwPQUT\n",
       "Oe4mdjlbyzASrniJwCmNTu/471RqTQ+hdwahI1IYX+7hgrFD5YGInHIT7sL7t6rBXPfpjxA+0A+P\n",
       "aWfgI4dslco12RAXnwchWJGKTw71LDEasmkRh+iTbp89nnuJr4cUAxa4Puv/wooGkT6gP+0QAldZ\n",
       "fwA49BC6dDL4bgAAAABJRU5ErkJggg==\n",
       "\" style=\"display:inline;vertical-align:middle;\" /></a></td></tr>\n",
       "<tr><td>3</td><td>ExprTuple</td><td>5, 6</td><td><a class=\"ProveItLink\" href=\"../f131d696dd5997c1c97b35e29dfd804bdff8a7560/expr.ipynb\"><img src=\"data:image/png;base64,iVBORw0KGgoAAAANSUhEUgAAAJwAAAAVBAMAAABBKZpuAAAAMFBMVEX////MzMxUVFREREQiIiK6\n",
       "uroQEBCYmJhmZmYyMjLu7u52dnaqqqqIiIjc3NwAAACFAiZ1AAAAAXRSTlMAQObYZgAAAAlwSFlz\n",
       "AAAOxAAADsQBlSsOGwAAAadJREFUOMutVD1LA0EUHGPMx5lc8gdE/QFCIKAgKCksRERERLCKKBKw\n",
       "OhHBdOlNMNjYCB6kDgmSH5AilTZBBBsDAUsLbSxi5du7jRd8t3uF2eLdvZnM3H5MFkAfYxqmKMn2\n",
       "uOymulQeYSzmtD9jvErwSlQViJf0n2W8QhC3EbOAVMB6Ga8QREuI0CNv6+0YrxKcYJ9qK2CPW4GA\n",
       "HDe4pHrdK2vtGK8S3JMhjIHd0IWP8UpBEZtA4huprlFU2jm8FqAvOPIOjoFYFY3mzLPSzuE1gEiN\n",
       "K58VdpSifJucNbHLtzVAxp0YjT3cUoosXNkaO4e/OO3Nvcz7Ap5dByvEbhsFt+dxMiD58wIO8eQD\n",
       "jNqd0dkiZE2WnN4YENSoypffTvBmPYcvkSoGjNpVsEu6Sln2azS9sNjZdcgS3pB8qDtxIGLwF4hl\n",
       "s0fZJWm3hXBaLkv0Cb7aB/mMpJMZ8zPtA3izM3Pib+vZTfNzGAbig6YTzTR9AM9OXCerLvt+VwHq\n",
       "/CiGcd1BvG8u2Bxw7Rz5G73URsQWv3MCATk7MZbFgq3/XurD7Yr28QO3+pHQc+ms9AAAAABJRU5E\n",
       "rkJggg==\n",
       "\" style=\"display:inline;vertical-align:middle;\" /></a></td></tr>\n",
       "<tr><td>4</td><td>ExprTuple</td><td>7</td><td><a class=\"ProveItLink\" href=\"../dad58677b15ab9ecd64febffff1f9c73b30c6b240/expr.ipynb\"><img src=\"data:image/png;base64,iVBORw0KGgoAAAANSUhEUgAAAHoAAAAVBAMAAAB71edYAAAAMFBMVEX////MzMxUVFREREQiIiK6\n",
       "uroQEBCYmJhmZmYyMjLu7u52dnaqqqqIiIjc3NwAAACFAiZ1AAAAAXRSTlMAQObYZgAAAAlwSFlz\n",
       "AAAOxAAADsQBlSsOGwAAAYRJREFUOMtjYGB4wEAe4AMRvAfI1M16AUicZuAyc8CrDJf8HaDUBAYG\n",
       "zgb8tuCQ51zAwFHAwMBPwPE45NkbGNiAVPwC/LpxyWcxRALJLQTCB5f8dIZuIDnpbg9e3bjkNwH1\n",
       "M3D9XLAeX6TjlK9k8GFg4PnFwH+BqxKnbrA8moFg1UcYUhkYOCYwrN8gewWnbrA8gguKPohqeZBu\n",
       "YHTGHwAahCe645HizABiLRCEMcwBRmcBQ/8CPLrB8hWFdxWuK6LqPsJgC5QN4EqH8DHjlYsBKl+a\n",
       "zpDEcAlVdzEw1BmYCpgbwHyun0Ch9ROgDDgPJM+31oHhKzh6kXT3MoQAlfX2QPkuQMtZQKHiwQAl\n",
       "WLyg8kwXGBOAEcRhbJxsbA7V7cfAIgB1I4jPg+n0U1CaTYDXgO+DALLdfA6gpI7QzY0ZZLCoeg+0\n",
       "nd1gA7JuUAazg8i+nt/LwLAWM9RgySSIgfMBn+4CqG6w6sdAxmIktQWYuRDTNQYwhhXI9QUklkgw\n",
       "r7I/YAAACNFsBft6+ckAAAAASUVORK5CYII=\n",
       "\" style=\"display:inline;vertical-align:middle;\" /></a></td></tr>\n",
       "<tr><td>5</td><td>ExprRange</td><td>lambda_map:&nbsp;8<br>start_index:&nbsp;16<br>end_index:&nbsp;15<br></td><td><a class=\"ProveItLink\" href=\"../27a3715018427638f69c793625087ffe3d5d8ae70/expr.ipynb\"><img src=\"data:image/png;base64,iVBORw0KGgoAAAANSUhEUgAAAFgAAAASBAMAAAAteAQNAAAAMFBMVEX////MzMyYmJjc3NyIiIhU\n",
       "VFR2dna6urqqqqpmZmYyMjIiIiIQEBBERETu7u4AAACIO4EmAAAAAXRSTlMAQObYZgAAAAlwSFlz\n",
       "AAAOxAAADsQBlSsOGwAAARFJREFUKM9j4LuzgQEveHsaicM1Ab9ihpVIbP4GAop/ILHrH+BXy/4P\n",
       "iZNNwGA2ZD8tdZmBVzFXiCfcoXy/Hrw3wKf4/Tq+zzA2xz8Gfgc+LdyK+x8wfIGxORcwvE8Q8cat\n",
       "eBYD3zekYK5vYOjGF8zs8MDjV2CY/wCf4k8MnP+YJom4sqgKMPAX8B1iACvGDG8+EPGd4Y0CU40C\n",
       "TwBLAAOrAu8EsGK+XwxQ4v0CJAZDEMNNBjtvoKGcCQx8U0DBDDJ5N8jonUDMPQHG2AckXoKCOYRB\n",
       "hoEbFtwgxRyY7uiDMQ4y+DLYMyIpZsP0XAKUZv4ANFsXqsBs/RQGhieYHnSAJaYAhsUMpn5IUgoY\n",
       "ipnQ+ADqlEYXnE+99gAAAABJRU5ErkJggg==\n",
       "\" style=\"display:inline;vertical-align:middle;\" /></a></td></tr>\n",
       "<tr><td>6</td><td>IndexedVar</td><td>variable:&nbsp;13<br>index:&nbsp;9<br></td><td><a class=\"ProveItLink\" href=\"../50d3b4d4b14274cfbb945c2664fd6b6a5753b1930/expr.ipynb\"><img src=\"data:image/png;base64,iVBORw0KGgoAAAANSUhEUgAAACwAAAATBAMAAAAZhvJKAAAAMFBMVEX////MzMyYmJjc3NyIiIhU\n",
       "VFR2dna6urqqqqpmZmYyMjIiIiIQEBBERETu7u4AAACIO4EmAAAAAXRSTlMAQObYZgAAAAlwSFlz\n",
       "AAAOxAAADsQBlSsOGwAAALFJREFUGNNj4LuzgQEb4JqAVZi/Aatw/QOswtlYRRmWuszAIsr368F7\n",
       "A0xhjn8M/A5oKrUYGDgXMLxPQAiBXCviDXZ2PZITL4CIbqCzFRjmP9BUdAlwCkQRLuA7xKB+iOEo\n",
       "gyuyMKsC7wTmJxsYvjNMQxbmmwJ0NqsD4wGGHQycd++evXsJLAwGPAIsF5g/CCCpBgN7oHqmCwno\n",
       "wqUMXAbMIQ+gwmbrp6B7+gL2gIPGCQAd1jKGCGWCrAAAAABJRU5ErkJggg==\n",
       "\" style=\"display:inline;vertical-align:middle;\" /></a></td></tr>\n",
       "<tr><td>7</td><td>ExprRange</td><td>lambda_map:&nbsp;8<br>start_index:&nbsp;16<br>end_index:&nbsp;9<br></td><td><a class=\"ProveItLink\" href=\"../6c5e155e07604e5e7f9f4d871c568f56037ac2020/expr.ipynb\"><img src=\"data:image/png;base64,iVBORw0KGgoAAAANSUhEUgAAAGwAAAATBAMAAACHPPXqAAAAMFBMVEX////MzMyYmJjc3NyIiIhU\n",
       "VFR2dna6urqqqqpmZmYyMjIiIiIQEBBERETu7u4AAACIO4EmAAAAAXRSTlMAQObYZgAAAAlwSFlz\n",
       "AAAOxAAADsQBlSsOGwAAARpJREFUOMtj4LuzgQEfwCXPNQGvNlzy/A34teGQr3+AXxsO+Wz8unDJ\n",
       "L3WZgVcbdnm+Xw/eG+ALSezyHP8Y+B34tHBqA8ujmQRUzbmA4X2CiDdObWB5BBcUGyDVwGipb2Do\n",
       "xhdt9UhRcAFEAFXzKzDMf4BHG1heU9ElwCkQRVsB3yEwgwEzfvgYoPLqhxiOMrgia2NV4J0AZvD9\n",
       "Agq8XwBlwHkgeeYnGxi+M0xD1sY3ZQaEwbAbaB03yMs7GaAE9z6oPKsD4wGGHQycd++evXuJAeEl\n",
       "EIMD05V9UJpHgOUC8wcBJNsQ2tgwwwMW8vZA+5guJKBrM1s/hYHhCWaQwOK5lIHLgDnkAVQbWDUc\n",
       "KGBoY8K0/wIDWQCaZwF4rFoc2V3bKAAAAABJRU5ErkJggg==\n",
       "\" style=\"display:inline;vertical-align:middle;\" /></a></td></tr>\n",
       "<tr><td>8</td><td>Lambda</td><td>parameter:&nbsp;14<br>body:&nbsp;10<br></td><td><a class=\"ProveItLink\" href=\"../../../__pv_it/82d0ea3f98ed9257b91eab5ff5174ca110af05370/expr.ipynb\"><img src=\"data:image/png;base64,iVBORw0KGgoAAAANSUhEUgAAAD0AAAARCAMAAABZ0lSWAAAANlBMVEX///8WFhYNDQ3MzMxUVFQy\n",
       "MjKqqqoiIiKYmJju7u5EREQQEBC6urqIiIh2dnZmZmbc3NwAAADRPqZpAAAAAXRSTlMAQObYZgAA\n",
       "AAlwSFlzAAAOxAAADsQBlSsOGwAAAOBJREFUOMulUu2OAyEI9OoXKIi8/8ueeretJNs0u+UHCQgy\n",
       "w+DcBcNSs/vConzTrelKNXcTkuIncnuQLNJ2QrtL485HZAtsFAOzWPBUB7zyxGTrU9lhacThdjZY\n",
       "YXjJ59MclxeVtEYob8+yUrkd8eMnG1OlZ2lcANrWXctK0ZvZFMmqTbtqf1+BvtmTj5sGCgdWFODW\n",
       "Z/f8qkSX+umW9xVNgGtNmL3zi3EcS4As7mBDBrfRO4zGMjMynK8LeuDme2B/djpisij/ak8QHG5e\n",
       "+5K8AOK99nFfXgluDieBxA3cL916CF7y9Zg4AAAAAElFTkSuQmCC\n",
       "\" style=\"display:inline;vertical-align:middle;\" /></a></td></tr>\n",
       "<tr><td>9</td><td>Operation</td><td>operator:&nbsp;11<br>operands:&nbsp;12<br></td><td><a class=\"ProveItLink\" href=\"../../../../number/__pv_it/356771654788cee5a269979a43898c26cf80322c0/expr.ipynb\"><img src=\"data:image/png;base64,iVBORw0KGgoAAAANSUhEUgAAADQAAAAQBAMAAACra0H4AAAAMFBMVEX///8iIiIyMjJmZmYQEBCq\n",
       "qqqYmJju7u5ERETMzMyIiIjc3NxUVFR2dna6uroAAACULOzSAAAAAXRSTlMAQObYZgAAAAlwSFlz\n",
       "AAAOxAAADsQBlSsOGwAAAJFJREFUGNNjYMAOOMVxSDDUGH3HEHsGpbkwpaKIk+K7s/vWKc5bfVik\n",
       "eDm6GOrzGEKwSM1jaWDYf4EhH4tUQf0DhvgChhMgvqGgoIugoAzcGfEMDEYMDF7YXHiIgUGWge83\n",
       "OxYpXwb2fww8Clsxpbh/MrB9YGC6cAGLvwQYuAwYWK02oEjxtHw8hSs0sIBnCCYAGT4sm372algA\n",
       "AAAASUVORK5CYII=\n",
       "\" style=\"display:inline;vertical-align:middle;\" /></a></td></tr>\n",
       "<tr><td>10</td><td>IndexedVar</td><td>variable:&nbsp;13<br>index:&nbsp;14<br></td><td><a class=\"ProveItLink\" href=\"../../../__pv_it/f753f8362b362955627c11616e72bcb2b9d636cf0/expr.ipynb\"><img src=\"data:image/png;base64,iVBORw0KGgoAAAANSUhEUgAAABIAAAARBAMAAAAidOHKAAAAMFBMVEX////MzMyYmJjc3NyIiIhU\n",
       "VFR2dna6urqqqqpmZmYyMjIiIiIQEBBERETu7u4AAACIO4EmAAAAAXRSTlMAQObYZgAAAAlwSFlz\n",
       "AAAOxAAADsQBlSsOGwAAAHNJREFUCNdj4LuzgQEKuCbAWPwNMFb9AxgrG8ZgWOoyA8Lg+/XgvQGY\n",
       "xfGPgd8BzOJcwPA+AWZcPcQcfgWG+Q/4JrkZMPAX8B1ieC0g/4CBVYF3AsNMBhmgKVOAxn1ncIWa\n",
       "+Znh0jsI8zDjdwUIq1LDTQEAoGAdmQp96AQAAAAASUVORK5CYII=\n",
       "\" style=\"display:inline;vertical-align:middle;\" /></a></td></tr>\n",
       "<tr><td>11</td><td>Literal</td><td></td><td><a class=\"ProveItLink\" href=\"../../../../number/addition/__pv_it/65ad7e8aee19b10110d590375ba95a879c4fb7ea0/expr.ipynb\"><img src=\"data:image/png;base64,iVBORw0KGgoAAAANSUhEUgAAAA4AAAAOBAMAAADtZjDiAAAAHlBMVEX///9UVFQQEBAiIiJmZmaI\n",
       "iIiqqqqYmJi6uroAAAAAFVhYAAAAAXRSTlMAQObYZgAAAAlwSFlzAAAOxAAADsQBlSsOGwAAAB9J\n",
       "REFUCNdjYGBgaGeAgFRiaGdjYyVjY0Oi1SPRIHsAgDEGyG9xCpgAAAAASUVORK5CYII=\n",
       "\" style=\"display:inline;vertical-align:middle;\" /></a></td></tr>\n",
       "<tr><td>12</td><td>ExprTuple</td><td>15, 16</td><td><a class=\"ProveItLink\" href=\"../../../../number/__pv_it/6a917c3333d49111d5d97eae9a34a1809b1ad54a0/expr.ipynb\"><img src=\"data:image/png;base64,iVBORw0KGgoAAAANSUhEUgAAADEAAAAVBAMAAAAdjxsPAAAAMFBMVEX////MzMxUVFREREQiIiK6\n",
       "uroQEBCYmJhmZmYyMjLu7u52dnaqqqqIiIjc3NwAAACFAiZ1AAAAAXRSTlMAQObYZgAAAAlwSFlz\n",
       "AAAOxAAADsQBlSsOGwAAAQlJREFUKM9jYGB4wIAJwGK8B7DIxIKI0+iijF4Q5VwT0CQWdf4CkrMY\n",
       "GDgK0PXwgmQqGBjYGLDKsC1giMQuw1nA0M3AwLrp3V5dxr2myDLcCgzTgSSzLcP6UoZjyDLsExh8\n",
       "GBhE2QwY3m9gqEeW4XFgSGVgWLA+gOH8AgZlZBnGDyAZhvMMDJ0MDLnIMqwJDHOAlCYDgzcD6z8u\n",
       "VNNsgVQ2A9dXBqYJbxgWIFxgwLCJgYHvIwP7BwbODRu4fsJlOC4whADNdGDgbWDg6X3A4ALUxGT2\n",
       "RZeBgeUBA4sAkvd5FsBYT4AGNiDJcMNZ7UBshySzFsbgMwASi5Fk4DHCDDKWrwBLbNcxMAAASstA\n",
       "PQuwl6YAAAAASUVORK5CYII=\n",
       "\" style=\"display:inline;vertical-align:middle;\" /></a></td></tr>\n",
       "<tr><td>13</td><td>Variable</td><td></td><td><a class=\"ProveItLink\" href=\"../../../__pv_it/53e304ff98ebc000dbe3ef224f4637dbafd46ba70/expr.ipynb\"><img src=\"data:image/png;base64,iVBORw0KGgoAAAANSUhEUgAAAAkAAAAOBAMAAAAPuiubAAAALVBMVEX///+YmJjc3NyIiIhUVFR2\n",
       "dna6urqqqqpmZmYyMjIiIiIQEBBERETu7u4AAAALjtrwAAAAAXRSTlMAQObYZgAAAAlwSFlzAAAO\n",
       "xAAADsQBlSsOGwAAAE5JREFUCNdj4D29gAEIOBtAJF8BiMy7ACKjQATDFON2BgbelxfuKTCwv2Xg\n",
       "M2DgmMBwLwCkPK+AgU+Aoe8CA18C70YGBhYBHqARvM1A5QCqGhDobJhHyAAAAABJRU5ErkJggg==\n",
       "\" style=\"display:inline;vertical-align:middle;\" /></a></td></tr>\n",
       "<tr><td>14</td><td>Variable</td><td></td><td><a class=\"ProveItLink\" href=\"../../../__pv_it/a8d4b3a34d2189508f9082853fbac36935714f280/expr.ipynb\"><img src=\"data:image/png;base64,iVBORw0KGgoAAAANSUhEUgAAAAsAAAAJBAMAAAAWSsseAAAAMFBMVEX////MzMxUVFQyMjKqqqoi\n",
       "IiKYmJju7u5EREQQEBC6urqIiIh2dnZmZmbc3NwAAAD0tjQRAAAAAXRSTlMAQObYZgAAAAlwSFlz\n",
       "AAAOxAAADsQBlSsOGwAAAEdJREFUCNdjYOC7s28DAwPDygcc3xkY2Kcx8AYwMPB+Z2A9wMDA2cBQ\n",
       "v4CBof4AQz5QRb0DQzPLAwbmDWyxPECV2gcfbWQAABp5EMgcedARAAAAAElFTkSuQmCC\n",
       "\" style=\"display:inline;vertical-align:middle;\" /></a></td></tr>\n",
       "<tr><td>15</td><td>Variable</td><td></td><td><a class=\"ProveItLink\" href=\"../../../../__pv_it/6e8a38e9a7e2b6af352562cd77e0eb4751f142620/expr.ipynb\"><img src=\"data:image/png;base64,iVBORw0KGgoAAAANSUhEUgAAABIAAAAJBAMAAADN8WE8AAAAMFBMVEX///8iIiIyMjJmZmYQEBCq\n",
       "qqqYmJju7u5ERETMzMyIiIjc3NxUVFR2dna6uroAAACULOzSAAAAAXRSTlMAQObYZgAAAAlwSFlz\n",
       "AAAOxAAADsQBlSsOGwAAAGNJREFUCNdj4Luz+9Ypzlt9DAy8HF0M9XkMIQwM81gaGPZfYMhnYCio\n",
       "f8AQX8BwgoGBIZ6BwYiBwQvIOsTAIMvA95udgcGXgf0fA4/CVgbunwxsHxiYLlxg4BNg4DJgYLXa\n",
       "AAB/WBcBafZ/twAAAABJRU5ErkJggg==\n",
       "\" style=\"display:inline;vertical-align:middle;\" /></a></td></tr>\n",
       "<tr><td>16</td><td>Literal</td><td></td><td><a class=\"ProveItLink\" href=\"../../../../number/numeral/__pv_it/f086f8c372bd40a2458306ddfdbb29f3dc6f63030/expr.ipynb\"><img src=\"data:image/png;base64,iVBORw0KGgoAAAANSUhEUgAAAAgAAAAOBAMAAADgeEClAAAAIVBMVEX///8QEBBERESIiIgyMjJm\n",
       "ZmZUVFTu7u4iIiLMzMwAAAAWRytzAAAAAXRSTlMAQObYZgAAAAlwSFlzAAAOxAAADsQBlSsOGwAA\n",
       "ABtJREFUCNdjYOBsZ2AoC1nOwMDATBbBprgiGQBsuwqCZsDj4wAAAABJRU5ErkJggg==\n",
       "\" style=\"display:inline;vertical-align:middle;\" /></a></td></tr>\n",
       "</table>\n"
      ],
      "text/plain": [
       "0. (b_{1} ,  ...  , b_{m} , b_{m + 1}) = (b_{1} ,  ...  , b_{m + 1})\n",
       "   core type: Operation\n",
       "   operator: 1\n",
       "   operands: 2\n",
       "1. =\n",
       "   core type: Literal\n",
       "   sub-expressions: \n",
       "2. ((b_{1} ,  ...  , b_{m} , b_{m + 1}) , (b_{1} ,  ...  , b_{m + 1}))\n",
       "   core type: ExprTuple\n",
       "   sub-expressions: 3, 4\n",
       "3. (b_{1} ,  ...  , b_{m} , b_{m + 1})\n",
       "   core type: ExprTuple\n",
       "   sub-expressions: 5, 6\n",
       "4. (b_{1} ,  ...  , b_{m + 1})\n",
       "   core type: ExprTuple\n",
       "   sub-expressions: 7\n",
       "5. b_{1},...,b_{m}\n",
       "   core type: ExprRange\n",
       "   lambda_map: 8\n",
       "   start_index: 16\n",
       "   end_index: 15\n",
       "6. b_{m + 1}\n",
       "   core type: IndexedVar\n",
       "variable: 13\n",
       "index: 9\n",
       "7. b_{1},...,b_{m + 1}\n",
       "   core type: ExprRange\n",
       "   lambda_map: 8\n",
       "   start_index: 16\n",
       "   end_index: 9\n",
       "8. a -> b_{a}\n",
       "   core type: Lambda\n",
       "   parameter: 14\n",
       "   body: 10\n",
       "9. m + 1\n",
       "   core type: Operation\n",
       "   operator: 11\n",
       "   operands: 12\n",
       "10. b_{a}\n",
       "    core type: IndexedVar\n",
       "variable: 13\n",
       "index: 14\n",
       "11. +\n",
       "    core type: Literal\n",
       "    sub-expressions: \n",
       "12. (m , 1)\n",
       "    core type: ExprTuple\n",
       "    sub-expressions: 15, 16\n",
       "13. b\n",
       "    core type: Variable\n",
       "    sub-expressions: \n",
       "14. a\n",
       "    core type: Variable\n",
       "    sub-expressions: \n",
       "15. m\n",
       "    core type: Variable\n",
       "    sub-expressions: \n",
       "16. 1\n",
       "    core type: Literal\n",
       "    sub-expressions: "
      ]
     },
     "execution_count": 5,
     "metadata": {},
     "output_type": "execute_result"
    }
   ],
   "source": [
    "# display the expression information\n",
    "expr.exprInfo()"
   ]
  },
  {
   "cell_type": "code",
   "execution_count": null,
   "metadata": {},
   "outputs": [],
   "source": []
  }
 ],
 "metadata": {
  "kernelspec": {
   "display_name": "Python 3",
   "language": "python",
   "name": "python3"
  },
  "language_info": {
   "codemirror_mode": {
    "name": "ipython",
    "version": 3
   },
   "file_extension": ".py",
   "mimetype": "text/x-python",
   "name": "python",
   "nbconvert_exporter": "python",
   "pygments_lexer": "ipython3",
   "version": "3.7.4"
  }
 },
 "nbformat": 4,
 "nbformat_minor": 1
}
