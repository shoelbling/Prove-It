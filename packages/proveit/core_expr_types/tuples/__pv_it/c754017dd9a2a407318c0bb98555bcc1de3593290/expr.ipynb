{
 "cells": [
  {
   "cell_type": "markdown",
   "metadata": {},
   "source": [
    "Expression of type <a class=\"ProveItLink\" href=\"../../../../../../doc/html/api/proveit.logic.Forall.html\">Forall</a>\n",
    "=======================\n",
    "# from context <a class=\"ProveItLink\" href=\"../../_context_.ipynb\">proveit.core_expr_types.tuples</a>"
   ]
  },
  {
   "cell_type": "code",
   "execution_count": 1,
   "metadata": {},
   "outputs": [],
   "source": [
    "import proveit\n",
    "# Automation is not needed when building an expression:\n",
    "proveit.defaults.automation = False # This will speed things up.\n",
    "# import Expression classes needed to build the expression\n",
    "from proveit._common_ import A, B\n",
    "from proveit.logic import Forall, Subset, SubsetEq"
   ]
  },
  {
   "cell_type": "code",
   "execution_count": 2,
   "metadata": {},
   "outputs": [
    {
     "data": {
      "text/html": [
       "<strong id=\"expr\">expr:</strong> <a class=\"ProveItLink\" href=\"../7dd6a2e940cdb1adcd45d1637e3f6aa8f88a92470/expr.ipynb\"><img src=\"data:image/png;base64,iVBORw0KGgoAAAANSUhEUgAAALkAAAAXBAMAAACllfPxAAAAMFBMVEX///+IiIgiIiIQEBB2dnbu\n",
       "7u5UVFTMzMzc3NwyMjK6urpmZmaYmJiqqqpEREQAAACk/Np2AAAAAXRSTlMAQObYZgAAAAlwSFlz\n",
       "AAAOxAAADsQBlSsOGwAAAtFJREFUSMetlU1IVFEUx/8v5828eTPzmmhTUCavhUEtLKJaZLgY3Ej0\n",
       "MBCizdDCMBcOBEKrrMRVMLPIiKA0CtxICYnRBza5Cox8m3Z9TEW1crRQJzOzc+99d+bOpEw9u/C8\n",
       "H2fu755z/vceAd/NqGLvwXradnFGZi37LfpybPDaBzzWxLvw7B+Wlyuf22+moLnAIza/5oN+QnTv\n",
       "JL3Wtu16MTwCBAtAP9DNosv5oD8R3dh30Z/bUhLkK2AuAZMUmQMEXB/0Bv430Fvgvb6rZInSUpRO\n",
       "qHEQzdIJPuCmUPOCtsz74GDJFKRkhQ/RR+h9tr3fBz0iRB2J/RTiKqaaHPRTKYorCTwAPvFFp2K7\n",
       "HOir0pljFIEbmuPTbsV0/v2mDmaNUnh9MJIccpCb7i4lxlNsYMkfH08VszEz2vLFG29whQvGAp/2\n",
       "KfQdPYgdZne2jihOgOcsIBIYrYPWUEY/RpxQcz5Pb28C2CzD55tqH4/9Eocp9I9sE7kUovzH4iJn\n",
       "Q3uFJCOIzqp082wcGBX+dwJTKl0n0zeRx2yJzqKZIovJvMw842vxq2KXi9asStfCyeKVbYS+R+bd\n",
       "9bTZKebXi/AQ07lrUGQGR/s5BA+5Lb1t8jRUejySQZt8Ji/GpAgWOYdh+gbEvO2MvBUava/QIksy\n",
       "e6SXuKhDXkYnoHeqdDNFMgxDatI24jHYdTNY6DNeLbzzwasEYVq9zTyOMAcs7s5oosvxUpseVOiR\n",
       "RPM83kBqYvyQctRBn1l08HblSvlVDQ4stHdMc6WLNVgjaEqkFvfUGxmHUUAvpCZmQe6or/rgLhZH\n",
       "FPtGV2+CMQ99t5IZkxRehiW8SDtolZlhNerv6hzFfwD60xuhRmydS4y7Cv1+EicXXZ2/IW0g0TJd\n",
       "3GuV/e+J2HapAnt3oLLyxpSxpRoCef6a1KZXK9tWRWnBq7Xoq7XLVezPKxey/0JfVzP+A+M3Ixin\n",
       "qsTeqp0AAAAASUVORK5CYII=\n",
       "\" style=\"display:inline;vertical-align:middle;\" /></a><br>"
      ],
      "text/plain": [
       "expr: forall_{A, B | A subset B} (A subseteq B)"
      ]
     },
     "execution_count": 2,
     "metadata": {},
     "output_type": "execute_result"
    }
   ],
   "source": [
    "# build up the expression from sub-expressions\n",
    "expr = Forall([A, B], SubsetEq(A, B), condition = Subset(A, B))"
   ]
  },
  {
   "cell_type": "code",
   "execution_count": 3,
   "metadata": {},
   "outputs": [
    {
     "name": "stdout",
     "output_type": "stream",
     "text": [
      "Passed sanity check: built 'expr' is the same as the stored Expression.\n"
     ]
    }
   ],
   "source": [
    "# check that the built expression is the same as the stored expression\n",
    "%check_expr"
   ]
  },
  {
   "cell_type": "code",
   "execution_count": 4,
   "metadata": {},
   "outputs": [
    {
     "name": "stdout",
     "output_type": "stream",
     "text": [
      "\\forall_{A, B~|~A \\subset B}~\\left(A \\subseteq B\\right)\n"
     ]
    }
   ],
   "source": [
    "# Show the LaTeX representation of the expression for convenience if you need it.\n",
    "print(expr.latex())"
   ]
  },
  {
   "cell_type": "code",
   "execution_count": 5,
   "metadata": {},
   "outputs": [
    {
     "data": {
      "text/html": [
       "<table><tr><th>&nbsp;</th><th>core type</th><th>sub-expressions</th><th>expression</th></tr>\n",
       "<tr><td>0</td><td>Operation</td><td>operator:&nbsp;1<br>operand:&nbsp;2<br></td><td><a class=\"ProveItLink\" href=\"../7dd6a2e940cdb1adcd45d1637e3f6aa8f88a92470/expr.ipynb\"><img src=\"data:image/png;base64,iVBORw0KGgoAAAANSUhEUgAAALkAAAAXBAMAAACllfPxAAAAMFBMVEX///+IiIgiIiIQEBB2dnbu\n",
       "7u5UVFTMzMzc3NwyMjK6urpmZmaYmJiqqqpEREQAAACk/Np2AAAAAXRSTlMAQObYZgAAAAlwSFlz\n",
       "AAAOxAAADsQBlSsOGwAAAtFJREFUSMetlU1IVFEUx/8v5828eTPzmmhTUCavhUEtLKJaZLgY3Ej0\n",
       "MBCizdDCMBcOBEKrrMRVMLPIiKA0CtxICYnRBza5Cox8m3Z9TEW1crRQJzOzc+99d+bOpEw9u/C8\n",
       "H2fu755z/vceAd/NqGLvwXradnFGZi37LfpybPDaBzzWxLvw7B+Wlyuf22+moLnAIza/5oN+QnTv\n",
       "JL3Wtu16MTwCBAtAP9DNosv5oD8R3dh30Z/bUhLkK2AuAZMUmQMEXB/0Bv430Fvgvb6rZInSUpRO\n",
       "qHEQzdIJPuCmUPOCtsz74GDJFKRkhQ/RR+h9tr3fBz0iRB2J/RTiKqaaHPRTKYorCTwAPvFFp2K7\n",
       "HOir0pljFIEbmuPTbsV0/v2mDmaNUnh9MJIccpCb7i4lxlNsYMkfH08VszEz2vLFG29whQvGAp/2\n",
       "KfQdPYgdZne2jihOgOcsIBIYrYPWUEY/RpxQcz5Pb28C2CzD55tqH4/9Eocp9I9sE7kUovzH4iJn\n",
       "Q3uFJCOIzqp082wcGBX+dwJTKl0n0zeRx2yJzqKZIovJvMw842vxq2KXi9asStfCyeKVbYS+R+bd\n",
       "9bTZKebXi/AQ07lrUGQGR/s5BA+5Lb1t8jRUejySQZt8Ji/GpAgWOYdh+gbEvO2MvBUava/QIksy\n",
       "e6SXuKhDXkYnoHeqdDNFMgxDatI24jHYdTNY6DNeLbzzwasEYVq9zTyOMAcs7s5oosvxUpseVOiR\n",
       "RPM83kBqYvyQctRBn1l08HblSvlVDQ4stHdMc6WLNVgjaEqkFvfUGxmHUUAvpCZmQe6or/rgLhZH\n",
       "FPtGV2+CMQ99t5IZkxRehiW8SDtolZlhNerv6hzFfwD60xuhRmydS4y7Cv1+EicXXZ2/IW0g0TJd\n",
       "3GuV/e+J2HapAnt3oLLyxpSxpRoCef6a1KZXK9tWRWnBq7Xoq7XLVezPKxey/0JfVzP+A+M3Ixin\n",
       "qsTeqp0AAAAASUVORK5CYII=\n",
       "\" style=\"display:inline;vertical-align:middle;\" /></a></td></tr>\n",
       "<tr><td>1</td><td>Literal</td><td></td><td><a class=\"ProveItLink\" href=\"../../../../logic/boolean/quantification/universal/__pv_it/fd9c772d6675566ed52a6897806f45eb08a4ea910/expr.ipynb\"><img src=\"data:image/png;base64,iVBORw0KGgoAAAANSUhEUgAAAAwAAAAOBAMAAADpk+DfAAAAMFBMVEX///+IiIgiIiIQEBB2dnbu\n",
       "7u5UVFTMzMzc3NwyMjK6urpmZmaYmJiqqqpEREQAAACk/Np2AAAAAXRSTlMAQObYZgAAAAlwSFlz\n",
       "AAAOxAAADsQBlSsOGwAAAFNJREFUCNdjeMAABHcYdoGoGQxlQJLjAQNnAAMDywUGngMMDJxAESMl\n",
       "JRMgtZ2B4SmQamPgSABSfAEsC4AUrwBIBQPDhINgyncqmGpOAFN8BQwMAB49Dl+s5gmkAAAAAElF\n",
       "TkSuQmCC\n",
       "\" style=\"display:inline;vertical-align:middle;\" /></a></td></tr>\n",
       "<tr><td>2</td><td>Lambda</td><td>parameters:&nbsp;8<br>body:&nbsp;3<br></td><td><a class=\"ProveItLink\" href=\"../96ae69a8d393fe87444ccd28b7e130cc4b7e0a490/expr.ipynb\"><img src=\"data:image/png;base64,iVBORw0KGgoAAAANSUhEUgAAAP4AAAAVCAMAAABRy6MiAAAANlBMVEX///8WFhYNDQ3MzMxUVFRE\n",
       "REQiIiK6uroQEBCYmJhmZmYyMjLu7u52dnaqqqqIiIjc3NwAAACgirQNAAAAAXRSTlMAQObYZgAA\n",
       "AAlwSFlzAAAOxAAADsQBlSsOGwAAAsJJREFUWMPVWNm22yAMpGVfbOD/f7Z4CyAkYuee06Z6yE1u\n",
       "8EgjjQSEsWKJ3bcnaxkLWrNvt7i29Px8sY5PkP0aHmDfMBuHfP4QdV3aTz6PLmXOUgjhJYfJeoOc\n",
       "A3uDzd54uygaeyCsPEP+n6Pu+vR9xBiYkfsfkbdnfbhLf1Fsih2lOozT3k7NZbeTUCyJwNj7iN9w\n",
       "qOZs90nksbtTjk0Q1n1IH2BzH9FB0nu7inTELsblaMQ3UbesdAGnBWRnT/r5P3tAGKL8A5uePsAO\n",
       "iogaeGtNjJkfI7aopghU3Wo/RRbz2NvilJc3e8TegqJcMnQz+hBbUHsC8DanP0TM/ZIeoLp28Lmt\n",
       "lSzRNkGc+VyqBHt1qxl9iO3nTfrydgx3U3xyYQyUP0QlNYWgglIyXdLI8wKf5FnGGMVrpfUE4VWC\n",
       "2DyNzQXBHno7HQm094eIKU3hqAV37VJZRsQQVzxmy3puPmxVVL2j7Lb5tiwQO1H0obfDJE5/iNg/\n",
       "Qi2i0E3wzpU5KuGj8pyO14zhdaf5/Ut1luuuzIXSbIKtiEChtxn9AZXUFI7a0g/HSMxDXFd2r6Gp\n",
       "DcVB+4ZxcPWEgGA7iwcKvU3oj6ikpnDU7RzVCmljZIa2sdfw1HPxc3AikmKG7TXepMDbhD6CqqjW\n",
       "R1EL7pUNbbszZIBtUyD8tbES3nwiJj/APmsnhA5Uk1ZvNH0MldAUgVp3sXSlUO4rQ13nzSn5q7au\n",
       "6qdLpab2fYBdH1jkcEAZvJ1PyvrKZqi4plDUjaPeQwzlRrB/s25vto1EqfOc6XMW+13h1SXU1uo4\n",
       "Sn/Epg3xthdNGiNDec0vsVKoQY6aIlCZKvVSnLiuUTebpD488/8lwzQ1uQoSNxiyTNTI/hb6D02i\n",
       "Wg7UzxpJ3v+1w0y+dM1xgf9D+gHlQ5ZYhvvIZv0Pyp/sg8X20Q+DTnx3Av4AH/EhqKZldegAAAAA\n",
       "SUVORK5CYII=\n",
       "\" style=\"display:inline;vertical-align:middle;\" /></a></td></tr>\n",
       "<tr><td>3</td><td>Conditional</td><td>value:&nbsp;4<br>condition:&nbsp;5<br></td><td><a class=\"ProveItLink\" href=\"../71968daef2cb45942a0a4961feb344ef94659f560/expr.ipynb\"><img src=\"data:image/png;base64,iVBORw0KGgoAAAANSUhEUgAAAKUAAAAVBAMAAADVzzOcAAAAMFBMVEX///8QEBBERERUVFTMzMyY\n",
       "mJjc3NxmZmYiIiJ2dnaqqqoyMjKIiIi6urru7u4AAAAvZeGPAAAAAXRSTlMAQObYZgAAAAlwSFlz\n",
       "AAAOxAAADsQBlSsOGwAAAd9JREFUOMutkzlLA0EUx59ms5pksxhFCxuPNCJiAlsoBg/iB1CsLATT\n",
       "iSgoiCjYRGy2sfELKGKtwS4gKrYKxsJSSWmneN86O8fOm9UQjzyy+97M/PKf+c/OAIB5BiWPw02a\n",
       "9EwxcCTHi6Jo8J3l0NWXoaGPqLXdR1VqCbDxBj9AnQikWd7ioNFi2zYfrQbw3TpF+AFgWO8BFcXh\n",
       "olhz5p4mbSflcvorUyORB7Dcfo7iQKjUDIyzWS6kJPhJl/9VtDrcf3AU/NKSinLNSeOZ5m40uY94\n",
       "DNV90RSolk0VQLnmdPCOZvxJyxrB7KTrmKiB/ogwL1BsSaJOVFCV8Jr2ROeOI82BtqPEICuX5H4K\n",
       "VLGEUBJTtKwA/YbuNdY8TkGwlpVRqSlQxRJCAfqXaTqYm7mmRRqBTeRZ7fNqClSxhFByMxfyznsf\n",
       "4JG2ZxHoLGd036PpooolhJIoj1M/AIvsjuRcTnM+RW/OoylRZAmj4rufkmePLcM6FyMGOdrai3c/\n",
       "JYosYZRr6lWkiLGjEV4RBzlEek92GdVMf6CgyBJCLzNU04y95GH9I6teN9/ejZVoZXUy0p5saHNs\n",
       "INSMnn+DVk7L+/6HkJY88Q/NgmFUKc152y4w+S/CrC/9OmGsq8SCn9kmkbsVtHslAAAAAElFTkSu\n",
       "QmCC\n",
       "\" style=\"display:inline;vertical-align:middle;\" /></a></td></tr>\n",
       "<tr><td>4</td><td>Operation</td><td>operator:&nbsp;6<br>operands:&nbsp;8<br></td><td><a class=\"ProveItLink\" href=\"../15fe20848a24933869bd433ed9685e73e9c7939b0/expr.ipynb\"><img src=\"data:image/png;base64,iVBORw0KGgoAAAANSUhEUgAAADsAAAASBAMAAAAXqLt+AAAAMFBMVEX///8QEBAiIiLu7u5ERES6\n",
       "urqYmJiIiIjMzMx2dnZUVFRmZmaqqqoyMjLc3NwAAABb1yYoAAAAAXRSTlMAQObYZgAAAAlwSFlz\n",
       "AAAOxAAADsQBlSsOGwAAAP5JREFUKM9jYACBtwx4wX0METb/L6vWekDYPP+hgiVKSkoaECajAwPD\n",
       "+gYwk3v9AzDdW4fQ/r6AgSF+A5g5bz5YGbMekun5QKH8AhCLr6D+AIjmCkCSXg/EF8GGcjOcTwDR\n",
       "vMhuE2FgsII4I4ahfwKI7kKS5fhSXnUNwtzA8H4BiH6FJM3+j4HhINhMdu/d6x1ADCYkaRYBBgbO\n",
       "HyCWOQMDvwLYDQkIaX6geWzfIWYzMAmAxa4ipPuBSrm+AhmsQAbvB7CY1VIDmHQ90E/9F4CMhyCb\n",
       "/kEEI51ggXoRqE8WqNjk/2UGHv+/E1BjZO3/VauuHGCgIuBWUkJEKAQAAJ+RPPxReTo6AAAAAElF\n",
       "TkSuQmCC\n",
       "\" style=\"display:inline;vertical-align:middle;\" /></a></td></tr>\n",
       "<tr><td>5</td><td>Operation</td><td>operator:&nbsp;7<br>operands:&nbsp;8<br></td><td><a class=\"ProveItLink\" href=\"../35844fff998acc838f77ea9ded5b5102ad654b9e0/expr.ipynb\"><img src=\"data:image/png;base64,iVBORw0KGgoAAAANSUhEUgAAADsAAAAQBAMAAABaYBp1AAAAMFBMVEX///8QEBAiIiLu7u5ERES6\n",
       "urqYmJiIiIjMzMx2dnZUVFRmZmaqqqoyMjLc3NwAAABb1yYoAAAAAXRSTlMAQObYZgAAAAlwSFlz\n",
       "AAAOxAAADsQBlSsOGwAAAPlJREFUGNNjYACBtwx4wX0METb/L6vWekDYPP8xdTA6MDCsbwAzudc/\n",
       "wJB+X8DAEL8BzJw3H6KMIUVJSUkDwswHCuUXgFh8BfUHwEK98xC61wPxRbCh3AznE0A0sx6S4SIM\n",
       "DFYQg2IY+ieAaK4AhCzHl/KqaxDmBob3C0A0L5Jm9n8MDAfBZrJ7717vAGJ0IUmzCDAwcP4AscwZ\n",
       "GPgVQIxXSNL8QPPYvkPMZmASADGYkKT7gQZzfQUyWIEM3g9gHyQgpOuBfuq/AGQ8BNn0Dyx2FSF9\n",
       "EahP1oCBweT/ZQYe/79gn5ksNYDKrv2/atWVA+gBHekED1QIAABFojwpLGhYygAAAABJRU5ErkJg\n",
       "gg==\n",
       "\" style=\"display:inline;vertical-align:middle;\" /></a></td></tr>\n",
       "<tr><td>6</td><td>Literal</td><td></td><td><a class=\"ProveItLink\" href=\"../../../../logic/set_theory/containment/__pv_it/c558887626398d7b5eef819a684fa050f52734680/expr.ipynb\"><img src=\"data:image/png;base64,iVBORw0KGgoAAAANSUhEUgAAAA4AAAAQBAMAAADUulMJAAAAKlBMVEX///92dnaYmJhmZma6urpU\n",
       "VFTu7u7c3NwyMjLMzMwiIiJERESIiIgAAADHdXEMAAAAAXRSTlMAQObYZgAAAAlwSFlzAAAOxAAA\n",
       "DsQBlSsOGwAAAEFJREFUCNdjYGA4vWrVqpUMDDOOM4AA23IwxcDqAKE5IBTDVChdCqW5oDSzApTR\n",
       "AqVTQxIgDMddYHNxAOZVILASANcCD5alumPsAAAAAElFTkSuQmCC\n",
       "\" style=\"display:inline;vertical-align:middle;\" /></a></td></tr>\n",
       "<tr><td>7</td><td>Literal</td><td></td><td><a class=\"ProveItLink\" href=\"../../../../logic/set_theory/containment/__pv_it/a67d72a7a60e61f644ab180585ede9b9bc60f66f0/expr.ipynb\"><img src=\"data:image/png;base64,iVBORw0KGgoAAAANSUhEUgAAAA4AAAAMBAMAAACgrpHpAAAAJ1BMVEX///9mZma6urpUVFTu7u7c\n",
       "3Nx2dnYyMjLMzMwiIiJERESYmJgAAADcsZpDAAAAAXRSTlMAQObYZgAAAAlwSFlzAAAOxAAADsQB\n",
       "lSsOGwAAADpJREFUCNdjYGDYNXPmzBkMDO2pDCDAMhVMMTArQGh2CMXQDKWDoTQnlGbcAGUUQWkv\n",
       "IwcIQ20l0FwAAL0KJIHyTTEAAAAASUVORK5CYII=\n",
       "\" style=\"display:inline;vertical-align:middle;\" /></a></td></tr>\n",
       "<tr><td>8</td><td>ExprTuple</td><td>9, 10</td><td><a class=\"ProveItLink\" href=\"../7999cdc030dc214006d7286ab60a527860367ca80/expr.ipynb\"><img src=\"data:image/png;base64,iVBORw0KGgoAAAANSUhEUgAAADUAAAAVBAMAAAAUZLt1AAAAMFBMVEX////MzMxUVFREREQiIiK6\n",
       "uroQEBCYmJhmZmYyMjLu7u52dnaqqqqIiIjc3NwAAACFAiZ1AAAAAXRSTlMAQObYZgAAAAlwSFlz\n",
       "AAAOxAAADsQBlSsOGwAAAUlJREFUKM9tkjFLw1AUhY82bdI2TfMPUrJ1StxctBUcHV0ExYA4uL3R\n",
       "yWZTcCkIFYpgsHOh+ANsJxcHg7s0gwhOrRSHDjbe95I0QRp44Z3z3XceuTcAAqx6hFsZif3XP3bE\n",
       "Xy/R/j4x5cbMrG+II6W2cNRweaJgA5aOLqAwYSjW8tqJDxy7OKeqyHga6glr0a7lo+DhQGjNH48S\n",
       "ZtHqBCgyXEeReGUJOwEedoByDbdCH8IYxGht9v7GTbmNPWG4mNRiVlkAzxSiNnEq9OaVZccs51De\n",
       "N52fRqwPVJsxq1KA/AvkHdxFkZCcmBmUt/4jMrdI5kkWp4DH2ZiaYFCzZBuPJD/5NQuU5px1qPaM\n",
       "qhQf+0Av7EJtzAfYJasemuYN74MUQNLTuaheZkgfFOumspwd4CWt7VT2M0jj39tLNcuwHM/X2Mr/\n",
       "5QL4A652SjnTmh5GAAAAAElFTkSuQmCC\n",
       "\" style=\"display:inline;vertical-align:middle;\" /></a></td></tr>\n",
       "<tr><td>9</td><td>Variable</td><td></td><td><a class=\"ProveItLink\" href=\"../../../../__pv_it/d3792d0d8642fdf1cd2a3a9b32c673ee13653de00/expr.ipynb\"><img src=\"data:image/png;base64,iVBORw0KGgoAAAANSUhEUgAAAA8AAAAPBAMAAADJ+Ih5AAAAMFBMVEX///8QEBAiIiLu7u5ERES6\n",
       "urqYmJiIiIjMzMx2dnZUVFRmZmaqqqoyMjLc3NwAAABb1yYoAAAAAXRSTlMAQObYZgAAAAlwSFlz\n",
       "AAAOxAAADsQBlSsOGwAAAF9JREFUCNdjYACBtwxQcB9K8/yHMrjXP4Aw5s1vANN8BfUHIDIM5xPA\n",
       "jBiG/glgxgaG9wtANLv37vUOIIY5AwO/AkSGgUkASLMCdfB+ADIeAjHLPwYGk/+XGXj8/04AADnq\n",
       "Fzds8Dk2AAAAAElFTkSuQmCC\n",
       "\" style=\"display:inline;vertical-align:middle;\" /></a></td></tr>\n",
       "<tr><td>10</td><td>Variable</td><td></td><td><a class=\"ProveItLink\" href=\"../../../../__pv_it/4d98b438710c5ada9ffa4646bb123a7d0e69ec000/expr.ipynb\"><img src=\"data:image/png;base64,iVBORw0KGgoAAAANSUhEUgAAABAAAAAOBAMAAADUAYG5AAAAMFBMVEX///92dnaqqqoiIiLu7u5m\n",
       "Zma6urqIiIjc3NwQEBDMzMwyMjJUVFRERESYmJgAAAAeMT9/AAAAAXRSTlMAQObYZgAAAAlwSFlz\n",
       "AAAOxAAADsQBlSsOGwAAAHJJREFUCNdjYGB4+//Omb0LGIBgLgMDzy8gzfGdgYHtK5DBB+TxATkM\n",
       "PB8YGLhnABmcFxhYDoMUr79efvoBSFN9AwPTPBDjJhDLg6T+APH7AgYGrn9AxvkEBgb2H0DObyCH\n",
       "ewIDQ+YWoHH7/5w5fYmBAQBdUiHY6HsJaQAAAABJRU5ErkJggg==\n",
       "\" style=\"display:inline;vertical-align:middle;\" /></a></td></tr>\n",
       "</table>\n"
      ],
      "text/plain": [
       "0. forall_{A, B | A subset B} (A subseteq B)\n",
       "   core type: Operation\n",
       "   operator: 1\n",
       "   operand: 2\n",
       "1. forall\n",
       "   core type: Literal\n",
       "   sub-expressions: \n",
       "2. (A, B) -> {A subseteq B if A subset B.\n",
       "   core type: Lambda\n",
       "   parameters: 8\\n   body: 3\n",
       "3. {A subseteq B if A subset B.\n",
       "   core type: Conditional\n",
       "   value: 4\n",
       "   condition: 5\n",
       "4. A subseteq B\n",
       "   core type: Operation\n",
       "   operator: 6\n",
       "   operands: 8\n",
       "5. A subset B\n",
       "   core type: Operation\n",
       "   operator: 7\n",
       "   operands: 8\n",
       "6. subseteq\n",
       "   core type: Literal\n",
       "   sub-expressions: \n",
       "7. subset\n",
       "   core type: Literal\n",
       "   sub-expressions: \n",
       "8. (A , B)\n",
       "   core type: ExprTuple\n",
       "   sub-expressions: 9, 10\n",
       "9. A\n",
       "   core type: Variable\n",
       "   sub-expressions: \n",
       "10. B\n",
       "    core type: Variable\n",
       "    sub-expressions: "
      ]
     },
     "execution_count": 5,
     "metadata": {},
     "output_type": "execute_result"
    }
   ],
   "source": [
    "# display the expression information\n",
    "expr.exprInfo()"
   ]
  },
  {
   "cell_type": "code",
   "execution_count": null,
   "metadata": {},
   "outputs": [],
   "source": []
  }
 ],
 "metadata": {
  "kernelspec": {
   "display_name": "Python 3",
   "language": "python",
   "name": "python3"
  },
  "language_info": {
   "codemirror_mode": {
    "name": "ipython",
    "version": 3
   },
   "file_extension": ".py",
   "mimetype": "text/x-python",
   "name": "python",
   "nbconvert_exporter": "python",
   "pygments_lexer": "ipython3",
   "version": "3.7.4"
  }
 },
 "nbformat": 4,
 "nbformat_minor": 1
}
