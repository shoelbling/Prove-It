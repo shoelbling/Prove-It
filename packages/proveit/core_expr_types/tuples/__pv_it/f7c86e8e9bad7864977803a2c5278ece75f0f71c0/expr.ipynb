{
 "cells": [
  {
   "cell_type": "markdown",
   "metadata": {},
   "source": [
    "Expression of type <a class=\"ProveItLink\" href=\"../../../../../../doc/html/api/proveit.logic.Equals.html\">Equals</a>\n",
    "=======================\n",
    "# from context <a class=\"ProveItLink\" href=\"../../_context_.ipynb\">proveit.core_expr_types.tuples</a>"
   ]
  },
  {
   "cell_type": "code",
   "execution_count": 1,
   "metadata": {},
   "outputs": [],
   "source": [
    "import proveit\n",
    "# Automation is not needed when building an expression:\n",
    "proveit.defaults.automation = False # This will speed things up.\n",
    "# import Expression classes needed to build the expression\n",
    "from proveit import ExprRange, IndexedVar, Variable\n",
    "from proveit.logic import Equals\n",
    "from proveit.number import one, zero"
   ]
  },
  {
   "cell_type": "code",
   "execution_count": 2,
   "metadata": {},
   "outputs": [
    {
     "data": {
      "text/html": [
       "<strong id=\"expr\">expr:</strong> <a class=\"ProveItLink\" href=\"../5f6ccb0485a3152df7dd33d07abecb21c72aad050/expr.ipynb\"><img src=\"data:image/png;base64,iVBORw0KGgoAAAANSUhEUgAAAIsAAAAVBAMAAACEWwD/AAAAMFBMVEX////MzMxUVFREREQiIiK6\n",
       "uroQEBCYmJhmZmYyMjLu7u52dnaqqqqIiIjc3NwAAACFAiZ1AAAAAXRSTlMAQObYZgAAAAlwSFlz\n",
       "AAAOxAAADsQBlSsOGwAAAbBJREFUOMuVlD9Lw0AYxl9pm9ZUY7+A6EfoF1BUCoo6dHBxEAriZsFR\n",
       "FykoVBCxmyCCAScHaepaCh2cdMngINZCh4KDg27iH8Tn7k0k3qWlyXD35neXJ/c+994RUYcGfsKm\n",
       "WkxHm4PLrIWwJ6Z3g6uE/XLEkdSsRJChU41cMk1tRZHZ1kiZqRFFhQxbJQWmq5FkhtW1JypMD8VL\n",
       "o5Xp+3W6XfOCSWUk5TA9QddtprL9VKxl2uMoKTdkPyeeub/lgS6jWyLDNXd6y8QdKlK9JbZ3Rh1q\n",
       "Mt3Awj4Rjt/3ljmGsWk3gRUPvame50lSyBgyo5veMutifoZ+4GghTAb0jKjq9Jcxv9C8dmjTTyro\n",
       "jZfUFNEYbMpLGVPXEIXyjh9O2DQPM9WtiLkk6TW8KVE6I2Wq2AjzIxjI5oCoBpkiprpqKYgKAF1B\n",
       "V28/clLxRTQLIih5AeWEvY22jaS+wdWrIiGyBI37hSe9udVPsFf+bHFXG58lSZOloIyjF7Dfu6Lu\n",
       "y6GHVdBpfn05P4ITrjbtyg/qDzZZerHHOkwvAiyp79S/sxiz9WrIMrUiXDi7IexZ0F9eP2uyHAbV\n",
       "kAAAAABJRU5ErkJggg==\n",
       "\" style=\"display:inline;vertical-align:middle;\" /></a><br>"
      ],
      "text/plain": [
       "expr: (c_{1} ,  ...  , c_{0}) = ()"
      ]
     },
     "execution_count": 2,
     "metadata": {},
     "output_type": "execute_result"
    }
   ],
   "source": [
    "# build up the expression from sub-expressions\n",
    "subExpr1 = Variable(\"a\")\n",
    "expr = Equals([ExprRange(subExpr1, IndexedVar(Variable(\"c\"), subExpr1), one, zero)], [])"
   ]
  },
  {
   "cell_type": "code",
   "execution_count": 3,
   "metadata": {},
   "outputs": [
    {
     "name": "stdout",
     "output_type": "stream",
     "text": [
      "Passed sanity check: built 'expr' is the same as the stored Expression.\n"
     ]
    }
   ],
   "source": [
    "# check that the built expression is the same as the stored expression\n",
    "%check_expr"
   ]
  },
  {
   "cell_type": "code",
   "execution_count": 4,
   "metadata": {},
   "outputs": [
    {
     "name": "stdout",
     "output_type": "stream",
     "text": [
      "\\left(c_{1} , \\ldots , c_{0}\\right) = ()\n"
     ]
    }
   ],
   "source": [
    "# Show the LaTeX representation of the expression for convenience if you need it.\n",
    "print(expr.latex())"
   ]
  },
  {
   "cell_type": "code",
   "execution_count": 5,
   "metadata": {},
   "outputs": [
    {
     "data": {
      "text/html": [
       "<table><tr><th>&nbsp;</th><th>core type</th><th>sub-expressions</th><th>expression</th></tr>\n",
       "<tr><td>0</td><td>Operation</td><td>operator:&nbsp;1<br>operands:&nbsp;2<br></td><td><a class=\"ProveItLink\" href=\"../5f6ccb0485a3152df7dd33d07abecb21c72aad050/expr.ipynb\"><img src=\"data:image/png;base64,iVBORw0KGgoAAAANSUhEUgAAAIsAAAAVBAMAAACEWwD/AAAAMFBMVEX////MzMxUVFREREQiIiK6\n",
       "uroQEBCYmJhmZmYyMjLu7u52dnaqqqqIiIjc3NwAAACFAiZ1AAAAAXRSTlMAQObYZgAAAAlwSFlz\n",
       "AAAOxAAADsQBlSsOGwAAAbBJREFUOMuVlD9Lw0AYxl9pm9ZUY7+A6EfoF1BUCoo6dHBxEAriZsFR\n",
       "FykoVBCxmyCCAScHaepaCh2cdMngINZCh4KDg27iH8Tn7k0k3qWlyXD35neXJ/c+994RUYcGfsKm\n",
       "WkxHm4PLrIWwJ6Z3g6uE/XLEkdSsRJChU41cMk1tRZHZ1kiZqRFFhQxbJQWmq5FkhtW1JypMD8VL\n",
       "o5Xp+3W6XfOCSWUk5TA9QddtprL9VKxl2uMoKTdkPyeeub/lgS6jWyLDNXd6y8QdKlK9JbZ3Rh1q\n",
       "Mt3Awj4Rjt/3ljmGsWk3gRUPvame50lSyBgyo5veMutifoZ+4GghTAb0jKjq9Jcxv9C8dmjTTyro\n",
       "jZfUFNEYbMpLGVPXEIXyjh9O2DQPM9WtiLkk6TW8KVE6I2Wq2AjzIxjI5oCoBpkiprpqKYgKAF1B\n",
       "V28/clLxRTQLIih5AeWEvY22jaS+wdWrIiGyBI37hSe9udVPsFf+bHFXG58lSZOloIyjF7Dfu6Lu\n",
       "y6GHVdBpfn05P4ITrjbtyg/qDzZZerHHOkwvAiyp79S/sxiz9WrIMrUiXDi7IexZ0F9eP2uyHAbV\n",
       "kAAAAABJRU5ErkJggg==\n",
       "\" style=\"display:inline;vertical-align:middle;\" /></a></td></tr>\n",
       "<tr><td>1</td><td>Literal</td><td></td><td><a class=\"ProveItLink\" href=\"../../../../logic/equality/__pv_it/e16d2caa26a16688b658bdb9c422caf4b84579e10/expr.ipynb\"><img src=\"data:image/png;base64,iVBORw0KGgoAAAANSUhEUgAAAA4AAAAFBAMAAACHocAhAAAAD1BMVEX///9UVFQiIiJmZmYAAACP\n",
       "OqLZAAAAAXRSTlMAQObYZgAAAAlwSFlzAAAOxAAADsQBlSsOGwAAABJJREFUCNdjMFICAUUGXAAq\n",
       "DwAoFgH7Aeay4gAAAABJRU5ErkJggg==\n",
       "\" style=\"display:inline;vertical-align:middle;\" /></a></td></tr>\n",
       "<tr><td>2</td><td>ExprTuple</td><td>3, 4</td><td><a class=\"ProveItLink\" href=\"../a93f5b25f7aed1b00b240ca98f22df647b4ed24d0/expr.ipynb\"><img src=\"data:image/png;base64,iVBORw0KGgoAAAANSUhEUgAAAIsAAAAVBAMAAACEWwD/AAAAMFBMVEX////MzMxUVFREREQiIiK6\n",
       "uroQEBCYmJhmZmYyMjLu7u52dnaqqqqIiIjc3NwAAACFAiZ1AAAAAXRSTlMAQObYZgAAAAlwSFlz\n",
       "AAAOxAAADsQBlSsOGwAAAbtJREFUOMuVlD1Lw1AUho80TdOktvUHCP6E/gFFwUHUQdGlg1AH9451\n",
       "kW4FRcgmiGDByUEMrhLI4KRLBic/oEPBwcXVDuJ77j1Jr4SWeOBJ3veem3M/WyIakCZnmF2r449n\n",
       "I03e2DP0m3Kq5UnIG8aQlSCdhOtr8sd5qq7FAaetyR+dVPXEAZs0+cPuJ6olDjQhm/8qU07mXvTF\n",
       "gRNIhsLX+tSv07y3IC1OIA6cQTLDyGlMqzLOl3xzWuzAJiSzQXbsHk4uw3kv5PEry9JkReLAASRw\n",
       "RnjPP0+sovIh7eA585Xs9ZY4IGVsNeOHycfD+X2q4eIXW2YZduACEtwG08twvvpDdmQsqmwsahES\n",
       "1LBdW6pMP1PCJZ3fHpGFV6khvQoxaQfuIIHTJa/OZdxvHtuXR+o4PzfCNkPG0q5O3tEtu5DM/fuL\n",
       "XtQqBrK6JI81Fus6j0XVsA5rIL2KvDp2wMKlspKLx2Uq2VU9yltv8ZCSXiukHSh1NWkZL7u/QXKR\n",
       "1c+mR0mvjjhmSUB8Xp4S3WS3OBbhhcc4L3U1VK/CQDnVciUkkf3TKP1xhX7ay20op1qqbU3eODL0\n",
       "h3LgF9DsgT9C5zRpAAAAAElFTkSuQmCC\n",
       "\" style=\"display:inline;vertical-align:middle;\" /></a></td></tr>\n",
       "<tr><td>3</td><td>ExprTuple</td><td>5</td><td><a class=\"ProveItLink\" href=\"../c967ce8d978d7062dab26c1c247bd473105aa3df0/expr.ipynb\"><img src=\"data:image/png;base64,iVBORw0KGgoAAAANSUhEUgAAAF8AAAAVBAMAAADSoS/MAAAAMFBMVEX////MzMxUVFREREQiIiK6\n",
       "uroQEBCYmJhmZmYyMjLu7u52dnaqqqqIiIjc3NwAAACFAiZ1AAAAAXRSTlMAQObYZgAAAAlwSFlz\n",
       "AAAOxAAADsQBlSsOGwAAAVVJREFUOMuVkz9Lw1AUxY+YpDWtMV9A9CP0CygOgqIdHFwcBEHcLHTU\n",
       "RQIOCiJ2E0Qw4CxNXUOhQyddMjiIJZChm4Nu4h/E814SiISEJMO9h/fu73Huuy8AAhT+ZOn0oDiw\n",
       "LcJj8Xp5uN4pAeAKqLbLAAeAVqYemo2tUsBUG2ci90dmbl3N70ViHpdM40G1kVdvNHEcqkoHTaZ1\n",
       "aJ5+mA0oDlpwR1T1Jezxor4oZ5+ygQubZjyVLibeBaBJP8NsYFfcj4lfQN3BNdB18gH9m+EtwL60\n",
       "tADMcHYbEtDT1XSDDx49Z2OFTTdwzx4s1EwJdPlO9M+kkOEU6BFosdTDJhdc/yW0pKwxrAphRQLL\n",
       "ouG+b9PSD9cDKPHIZA8PKUt1O3oUsukxXVlJwEkPOc6eSpsnVIvhwuvNOR17KeAuFu6zDUMM4Dax\n",
       "W0nf0r/XPyn8GSV+iCPgD/dyUKFOM8FyAAAAAElFTkSuQmCC\n",
       "\" style=\"display:inline;vertical-align:middle;\" /></a></td></tr>\n",
       "<tr><td>4</td><td>ExprTuple</td><td></td><td><a class=\"ProveItLink\" href=\"../932ad914fbc084fb83cd7cce8742c2c1338987a00/expr.ipynb\"><img src=\"data:image/png;base64,iVBORw0KGgoAAAANSUhEUgAAAAwAAAAVBAMAAACAghKHAAAAMFBMVEX////MzMxUVFREREQiIiK6\n",
       "uroQEBCYmJhmZmYyMjLu7u52dnaqqqqIiIjc3NwAAACFAiZ1AAAAAXRSTlMAQObYZgAAAAlwSFlz\n",
       "AAAOxAAADsQBlSsOGwAAAHRJREFUCNdjYGB4wMcABLwHWC8AqdMMDHcYGLgmMDBwLmDgKGBgYG9g\n",
       "YAPJZzFEgqjpDN0gahOQAQSVDD4g6ghDKoiSh1BhDHMggrYgqhioFgh6GUJAlB8DiwADA58DyFiw\n",
       "8XYMDI+B4osZGKyAFF8B+wMGAFwSFSv4L9l8AAAAAElFTkSuQmCC\n",
       "\" style=\"display:inline;vertical-align:middle;\" /></a></td></tr>\n",
       "<tr><td>5</td><td>ExprRange</td><td>lambda_map:&nbsp;6<br>start_index:&nbsp;7<br>end_index:&nbsp;8<br></td><td><a class=\"ProveItLink\" href=\"../b7ce6b3a490f2417af3c20ca60dcfce16ac3bb970/expr.ipynb\"><img src=\"data:image/png;base64,iVBORw0KGgoAAAANSUhEUgAAAFIAAAANBAMAAADI2iSKAAAALVBMVEX///8yMjK6urqYmJju7u4Q\n",
       "EBBERERmZmaqqqoiIiLc3NzMzMyIiIh2dnYAAAC/TFFMAAAAAXRSTlMAQObYZgAAAAlwSFlzAAAO\n",
       "xAAADsQBlSsOGwAAANpJREFUKM9jYGC4c3YDAz7Ae+Y2hLGygT0Bn0KuGQxlENZcBtYDLIa4VXJe\n",
       "YIhhuHuWgYH9CZC35yRulXUOQAccYEpgYAVb3YlbZRgQs25geMXgdwG/Spa3QGLdAoYIBj4DBgYF\n",
       "sEoWTGVAixkeMzAw7XNgmMzAXsDAuwGs0k8AqPohMgNMlDMw3AaqjGFguHvmCMR2zilAYjqIUQBl\n",
       "MMwE+ebOGQeg7S+g1oDd2YJhO4cDhAb7CEnlBczogdEHmAQgrLVyNUBXHcBQ6QNj3D3ugCTMjOl3\n",
       "AyQ2AMGyNgS8BRF9AAAAAElFTkSuQmCC\n",
       "\" style=\"display:inline;vertical-align:middle;\" /></a></td></tr>\n",
       "<tr><td>6</td><td>Lambda</td><td>parameter:&nbsp;11<br>body:&nbsp;9<br></td><td><a class=\"ProveItLink\" href=\"../../../__pv_it/b7d044f706ce9dfee4503d406978f3241b57101d0/expr.ipynb\"><img src=\"data:image/png;base64,iVBORw0KGgoAAAANSUhEUgAAAD0AAAAOCAMAAACrUuTYAAAANlBMVEX///8WFhYNDQ3MzMxUVFQy\n",
       "MjKqqqoiIiKYmJju7u5EREQQEBC6urqIiIh2dnZmZmbc3NwAAADRPqZpAAAAAXRSTlMAQObYZgAA\n",
       "AAlwSFlzAAAOxAAADsQBlSsOGwAAAMxJREFUKM+dUtEOwyAIZLMqqIj+/88ObZpJ021Z78EInh4e\n",
       "AHwFN/gPtAZBfvKbVG58RNGcxRO3Mle3JkrW8lKnS35IRicGAFlTlFFXiR/UOC1fiVWXzMuxTNWZ\n",
       "n3g+okHvxVIN8iiE3pSTdvHFUq3Ffahi/+CT83Si7ltBrm2k1AhIHkK7uu3XhnfcywGKDtz8hlcT\n",
       "MAoc7xZTt+m3zEg7NjYuzyI27WDb2F2Ngths1XazSg6XeIN7oD4mBInuXdf5cr3gTfEiGLgivAAI\n",
       "3AdgjYgidAAAAABJRU5ErkJggg==\n",
       "\" style=\"display:inline;vertical-align:middle;\" /></a></td></tr>\n",
       "<tr><td>7</td><td>Literal</td><td></td><td><a class=\"ProveItLink\" href=\"../../../../number/numeral/__pv_it/f086f8c372bd40a2458306ddfdbb29f3dc6f63030/expr.ipynb\"><img src=\"data:image/png;base64,iVBORw0KGgoAAAANSUhEUgAAAAgAAAAOBAMAAADgeEClAAAAIVBMVEX///8QEBBERESIiIgyMjJm\n",
       "ZmZUVFTu7u4iIiLMzMwAAAAWRytzAAAAAXRSTlMAQObYZgAAAAlwSFlzAAAOxAAADsQBlSsOGwAA\n",
       "ABtJREFUCNdjYOBsZ2AoC1nOwMDATBbBprgiGQBsuwqCZsDj4wAAAABJRU5ErkJggg==\n",
       "\" style=\"display:inline;vertical-align:middle;\" /></a></td></tr>\n",
       "<tr><td>8</td><td>Literal</td><td></td><td><a class=\"ProveItLink\" href=\"../../../../number/numeral/__pv_it/bcb6bc33e5975ec2290a3272bf7802d26ab8421d0/expr.ipynb\"><img src=\"data:image/png;base64,iVBORw0KGgoAAAANSUhEUgAAAAoAAAAOBAMAAADkjZCYAAAAMFBMVEX///8QEBDMzMy6urpUVFRE\n",
       "RESYmJgiIiLu7u6qqqoyMjLc3NxmZmaIiIh2dnYAAABjjC/7AAAAAXRSTlMAQObYZgAAAAlwSFlz\n",
       "AAAOxAAADsQBlSsOGwAAAFdJREFUCNdjYOB7e5qBgWElQ/sGBrYCBr4ABlYHBs4fDPwHGJh/MvQD\n",
       "yW8M+x8wMP0Fk/8Y+h8wMP8FyXL+ZGANYGD7wcAmwMCzgIGhkqFRgYGh764TAwAMEBgt0IBciQAA\n",
       "AABJRU5ErkJggg==\n",
       "\" style=\"display:inline;vertical-align:middle;\" /></a></td></tr>\n",
       "<tr><td>9</td><td>IndexedVar</td><td>variable:&nbsp;10<br>index:&nbsp;11<br></td><td><a class=\"ProveItLink\" href=\"../../../__pv_it/180ecdc68f16bd3e9260cef5d2773f3cf1f4d5480/expr.ipynb\"><img src=\"data:image/png;base64,iVBORw0KGgoAAAANSUhEUgAAABIAAAAMBAMAAACdPPCPAAAALVBMVEX///9UVFS6urqYmJju7u4Q\n",
       "EBBERERmZmaqqqoiIiLc3NzMzMyIiIh2dnYAAAC/g6wNAAAAAXRSTlMAQObYZgAAAAlwSFlzAAAO\n",
       "xAAADsQBlSsOGwAAAF1JREFUCNdjYGC4c3YDAxisbGBPgLDmMrAeADPYnzBAAWsCjOV3AUiwFJ9d\n",
       "wMBnwMCg4LlhnwMDewED74Zyhq1AmbtnjjA8YjgIUcvyiiHZBcKM4n5kAGGpW5w1AAAeBhbL5icH\n",
       "EgAAAABJRU5ErkJggg==\n",
       "\" style=\"display:inline;vertical-align:middle;\" /></a></td></tr>\n",
       "<tr><td>10</td><td>Variable</td><td></td><td><a class=\"ProveItLink\" href=\"../../../__pv_it/b2b446b221a34ee579eb9a1fbdd4ac4e2891d8c70/expr.ipynb\"><img src=\"data:image/png;base64,iVBORw0KGgoAAAANSUhEUgAAAAkAAAAJBAMAAAASvxsjAAAAKlBMVEX///+6urqYmJju7u4QEBBE\n",
       "RERmZmaqqqoiIiLc3NzMzMyIiIh2dnYAAACSkFDuAAAAAXRSTlMAQObYZgAAAAlwSFlzAAAOxAAA\n",
       "DsQBlSsOGwAAADhJREFUCNdjYGA4vWcBA8OMArYABoYeBpYNDGyXGYCAJQBE2h4AkbwKDAwCDGwJ\n",
       "DDxAlWd2b2YAACirCnk+94p2AAAAAElFTkSuQmCC\n",
       "\" style=\"display:inline;vertical-align:middle;\" /></a></td></tr>\n",
       "<tr><td>11</td><td>Variable</td><td></td><td><a class=\"ProveItLink\" href=\"../../../__pv_it/a8d4b3a34d2189508f9082853fbac36935714f280/expr.ipynb\"><img src=\"data:image/png;base64,iVBORw0KGgoAAAANSUhEUgAAAAsAAAAJBAMAAAAWSsseAAAAMFBMVEX////MzMxUVFQyMjKqqqoi\n",
       "IiKYmJju7u5EREQQEBC6urqIiIh2dnZmZmbc3NwAAAD0tjQRAAAAAXRSTlMAQObYZgAAAAlwSFlz\n",
       "AAAOxAAADsQBlSsOGwAAAEdJREFUCNdjYOC7s28DAwPDygcc3xkY2Kcx8AYwMPB+Z2A9wMDA2cBQ\n",
       "v4CBof4AQz5QRb0DQzPLAwbmDWyxPECV2gcfbWQAABp5EMgcedARAAAAAElFTkSuQmCC\n",
       "\" style=\"display:inline;vertical-align:middle;\" /></a></td></tr>\n",
       "</table>\n"
      ],
      "text/plain": [
       "0. (c_{1} ,  ...  , c_{0}) = ()\n",
       "   core type: Operation\n",
       "   operator: 1\n",
       "   operands: 2\n",
       "1. =\n",
       "   core type: Literal\n",
       "   sub-expressions: \n",
       "2. ((c_{1} ,  ...  , c_{0}) , ())\n",
       "   core type: ExprTuple\n",
       "   sub-expressions: 3, 4\n",
       "3. (c_{1} ,  ...  , c_{0})\n",
       "   core type: ExprTuple\n",
       "   sub-expressions: 5\n",
       "4. ()\n",
       "   core type: ExprTuple\n",
       "   sub-expressions: \n",
       "5. c_{1},...,c_{0}\n",
       "   core type: ExprRange\n",
       "   lambda_map: 6\n",
       "   start_index: 7\n",
       "   end_index: 8\n",
       "6. a -> c_{a}\n",
       "   core type: Lambda\n",
       "   parameter: 11\n",
       "   body: 9\n",
       "7. 1\n",
       "   core type: Literal\n",
       "   sub-expressions: \n",
       "8. 0\n",
       "   core type: Literal\n",
       "   sub-expressions: \n",
       "9. c_{a}\n",
       "   core type: IndexedVar\n",
       "variable: 10\n",
       "index: 11\n",
       "10. c\n",
       "    core type: Variable\n",
       "    sub-expressions: \n",
       "11. a\n",
       "    core type: Variable\n",
       "    sub-expressions: "
      ]
     },
     "execution_count": 5,
     "metadata": {},
     "output_type": "execute_result"
    }
   ],
   "source": [
    "# display the expression information\n",
    "expr.exprInfo()"
   ]
  },
  {
   "cell_type": "code",
   "execution_count": null,
   "metadata": {},
   "outputs": [],
   "source": []
  }
 ],
 "metadata": {
  "kernelspec": {
   "display_name": "Python 3",
   "language": "python",
   "name": "python3"
  },
  "language_info": {
   "codemirror_mode": {
    "name": "ipython",
    "version": 3
   },
   "file_extension": ".py",
   "mimetype": "text/x-python",
   "name": "python",
   "nbconvert_exporter": "python",
   "pygments_lexer": "ipython3",
   "version": "3.7.4"
  }
 },
 "nbformat": 4,
 "nbformat_minor": 1
}
