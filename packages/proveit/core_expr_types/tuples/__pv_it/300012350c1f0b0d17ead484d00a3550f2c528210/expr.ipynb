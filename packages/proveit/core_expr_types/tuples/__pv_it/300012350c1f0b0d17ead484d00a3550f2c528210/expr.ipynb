{
 "cells": [
  {
   "cell_type": "markdown",
   "metadata": {},
   "source": [
    "Expression of type <a class=\"ProveItLink\" href=\"../../../../../../doc/html/api/proveit.ExprTuple.html\">ExprTuple</a>\n",
    "=======================\n",
    "# from context <a class=\"ProveItLink\" href=\"../../_context_.ipynb\">proveit.core_expr_types.tuples</a>"
   ]
  },
  {
   "cell_type": "code",
   "execution_count": 1,
   "metadata": {},
   "outputs": [],
   "source": [
    "import proveit\n",
    "# Automation is not needed when building an expression:\n",
    "proveit.defaults.automation = False # This will speed things up.\n",
    "# import Expression classes needed to build the expression\n",
    "from proveit import ExprTuple, Function, Variable\n",
    "from proveit.logic import InSet\n",
    "from proveit.number import NaturalsPos"
   ]
  },
  {
   "cell_type": "code",
   "execution_count": 2,
   "metadata": {},
   "outputs": [
    {
     "data": {
      "text/html": [
       "<strong id=\"expr\">expr:</strong> <a class=\"ProveItLink\" href=\"expr.ipynb\"><img src=\"data:image/png;base64,iVBORw0KGgoAAAANSUhEUgAAAJYAAAAZBAMAAAAhycrcAAAAMFBMVEX///9UVFQiIiKIiIjMzMx2\n",
       "dnYQEBDc3NyYmJhEREQyMjLu7u5mZma6urqqqqoAAACMi3WHAAAAAXRSTlMAQObYZgAAAAlwSFlz\n",
       "AAAOxAAADsQBlSsOGwAAArZJREFUOMudVU1oE1EQ/pJss5vdJC2KhFaQEJAeKrIVfwiKBkFBUJpQ\n",
       "FMFLQDxIEXIp4sVGPCkUVytqlGo8CIKiqbd6SaF40FMQ6sFLiqAgKg00aW1D0JndbLK7JmRx4M2b\n",
       "WeZ9b+bNzwL4hR4UhAtKMgsv9DILuME6wewt/g8r05JEZpJK7EEXhDcbDws4s1bqguVbbokhhsEI\n",
       "gaa7ufM4NAClbvcr/uf24MsCS18tloeZjdLDJrthbcmcBdJ4n7uXy2XNj5sEPUG7krdYyoxeLKC/\n",
       "1A1rhyZnELX7JaxSslY5t1mLpcTpk7MYKzgx4rGYfmnkuph3YvmqtGok+G1H2NOghj1OqM8Hm0LE\n",
       "k9jnxApUaFXZynbmOV+TxhBtS5HJUfVYXI9WfGEaRKAFSg6sfg0oc9reUfpSl8e3CuOzpKU4m3Xk\n",
       "uGZzqvK7FNYzKmfaWCeVkai97sdUTO5uetIXmEFxGt9Iu8lPWcVT4qWLEGuQKjoW2ljS8ndHxRzZ\n",
       "dnpaFwjwlF/DVBK3SPvCATWwi/KrNBCuw6Ox0fEYkWZgYbvHgfXEFC4BhWIJKwUMsrtcJQ32C+EK\n",
       "gnn49fKdt/iFOSVqx9q0YGEF+ACcJ+kT+6XHCE8e3iTKGS4PrxVLUDUblFAzpVe0KG07EVpXjBiF\n",
       "dd1FfxLk75DILeZTTfO7tPa2sBS9vBqmOkPrAsflyV8Fbhh53E/bVIJf8Flf60bzeTn0JhVZkium\n",
       "mtKDonTJSWrCRS7+NMoU2EfgEPDzgG41N2t0wtE1zdp2XpoDntcbptd0JBSFbwHhRSqiYb52AP5/\n",
       "+nHpTizfoT1/2DRvwqKIUaMfu8+JTkPY3s6tIZ415oSQdgelqHb9vkW+wuwajxZ3WJJDn7fIj5gN\n",
       "u5r3HUlsDzApY8773v8hV6TH2fv/6IrOAX8BxU+gbIPlMbIAAAAASUVORK5CYII=\n",
       "\" style=\"display:inline;vertical-align:middle;\" /></a><br>"
      ],
      "text/plain": [
       "expr: (m in NaturalsPos , P(m))"
      ]
     },
     "execution_count": 2,
     "metadata": {},
     "output_type": "execute_result"
    }
   ],
   "source": [
    "# build up the expression from sub-expressions\n",
    "expr = ExprTuple(InSet(Variable(\"m\"), NaturalsPos), Function(Variable(\"P\"), Variable(\"m\")))"
   ]
  },
  {
   "cell_type": "code",
   "execution_count": 3,
   "metadata": {},
   "outputs": [
    {
     "name": "stdout",
     "output_type": "stream",
     "text": [
      "Passed sanity check: built 'expr' is the same as the stored Expression.\n"
     ]
    }
   ],
   "source": [
    "# check that the built expression is the same as the stored expression\n",
    "%check_expr"
   ]
  },
  {
   "cell_type": "code",
   "execution_count": 4,
   "metadata": {},
   "outputs": [
    {
     "name": "stdout",
     "output_type": "stream",
     "text": [
      "\\left(m \\in \\mathbb{N}^+ , P\\left(m\\right)\\right)\n"
     ]
    }
   ],
   "source": [
    "# Show the LaTeX representation of the expression for convenience if you need it.\n",
    "print(expr.latex())"
   ]
  },
  {
   "cell_type": "code",
   "execution_count": 5,
   "metadata": {},
   "outputs": [
    {
     "data": {
      "text/html": [
       "<table><tr><th>&nbsp;</th><th>core type</th><th>sub-expressions</th><th>expression</th></tr>\n",
       "<tr><td>0</td><td>ExprTuple</td><td>1, 2</td><td><a class=\"ProveItLink\" href=\"expr.ipynb\"><img src=\"data:image/png;base64,iVBORw0KGgoAAAANSUhEUgAAAJYAAAAZBAMAAAAhycrcAAAAMFBMVEX///9UVFQiIiKIiIjMzMx2\n",
       "dnYQEBDc3NyYmJhEREQyMjLu7u5mZma6urqqqqoAAACMi3WHAAAAAXRSTlMAQObYZgAAAAlwSFlz\n",
       "AAAOxAAADsQBlSsOGwAAArZJREFUOMudVU1oE1EQ/pJss5vdJC2KhFaQEJAeKrIVfwiKBkFBUJpQ\n",
       "FMFLQDxIEXIp4sVGPCkUVytqlGo8CIKiqbd6SaF40FMQ6sFLiqAgKg00aW1D0JndbLK7JmRx4M2b\n",
       "WeZ9b+bNzwL4hR4UhAtKMgsv9DILuME6wewt/g8r05JEZpJK7EEXhDcbDws4s1bqguVbbokhhsEI\n",
       "gaa7ufM4NAClbvcr/uf24MsCS18tloeZjdLDJrthbcmcBdJ4n7uXy2XNj5sEPUG7krdYyoxeLKC/\n",
       "1A1rhyZnELX7JaxSslY5t1mLpcTpk7MYKzgx4rGYfmnkuph3YvmqtGok+G1H2NOghj1OqM8Hm0LE\n",
       "k9jnxApUaFXZynbmOV+TxhBtS5HJUfVYXI9WfGEaRKAFSg6sfg0oc9reUfpSl8e3CuOzpKU4m3Xk\n",
       "uGZzqvK7FNYzKmfaWCeVkai97sdUTO5uetIXmEFxGt9Iu8lPWcVT4qWLEGuQKjoW2ljS8ndHxRzZ\n",
       "dnpaFwjwlF/DVBK3SPvCATWwi/KrNBCuw6Ox0fEYkWZgYbvHgfXEFC4BhWIJKwUMsrtcJQ32C+EK\n",
       "gnn49fKdt/iFOSVqx9q0YGEF+ACcJ+kT+6XHCE8e3iTKGS4PrxVLUDUblFAzpVe0KG07EVpXjBiF\n",
       "dd1FfxLk75DILeZTTfO7tPa2sBS9vBqmOkPrAsflyV8Fbhh53E/bVIJf8Flf60bzeTn0JhVZkium\n",
       "mtKDonTJSWrCRS7+NMoU2EfgEPDzgG41N2t0wtE1zdp2XpoDntcbptd0JBSFbwHhRSqiYb52AP5/\n",
       "+nHpTizfoT1/2DRvwqKIUaMfu8+JTkPY3s6tIZ415oSQdgelqHb9vkW+wuwajxZ3WJJDn7fIj5gN\n",
       "u5r3HUlsDzApY8773v8hV6TH2fv/6IrOAX8BxU+gbIPlMbIAAAAASUVORK5CYII=\n",
       "\" style=\"display:inline;vertical-align:middle;\" /></a></td></tr>\n",
       "<tr><td>1</td><td>Operation</td><td>operator:&nbsp;3<br>operands:&nbsp;4<br></td><td><a class=\"ProveItLink\" href=\"../a161961d737d8b3142c513a50eeca001eab352ec0/expr.ipynb\"><img src=\"data:image/png;base64,iVBORw0KGgoAAAANSUhEUgAAAEYAAAATBAMAAADfQ2bzAAAAMFBMVEX///8iIiIyMjJmZmYQEBCq\n",
       "qqqYmJju7u5ERETMzMyIiIjc3NxUVFR2dna6uroAAACULOzSAAAAAXRSTlMAQObYZgAAAAlwSFlz\n",
       "AAAOxAAADsQBlSsOGwAAARJJREFUKM9jYCAADBgIgwZK1LDLd6gz8Pr74TWHI+ANA0N9AV41PNK8\n",
       "CQwsDMwdHR4dbbjURDBoMzBidw9Xo6AQWM22BZtwqOHTKoCas+Ek1wW4Gr47u2+d4rzVB5baVACz\n",
       "awMHQx9cDS9HF0N9HkMIWEob7p4NnAaFhbBwnsfSwLD/AkM+WEoBoYYhlbUFxiuof8AQX8BwAsTm\n",
       "dBQUFJSAquEpOAJ3ZzwDgxEDgxc4eBuQzGE/UAhXc4iBQZaB7zc7iC2ApIZhFgdcjS8D+z8GHoWt\n",
       "IPYqeFxMAIbVDBiP+ycD2wcGpgsXQBymAKgoI4hhBA82AQYuAwZWqw1gB514DhbklPcAkkXY44nv\n",
       "BiQuUAAA7zs7hIz3bAEAAAAASUVORK5CYII=\n",
       "\" style=\"display:inline;vertical-align:middle;\" /></a></td></tr>\n",
       "<tr><td>2</td><td>Operation</td><td>operator:&nbsp;5<br>operand:&nbsp;6<br></td><td><a class=\"ProveItLink\" href=\"../bedb7bd8894c723af4e2070bfcfd076b999e19470/expr.ipynb\"><img src=\"data:image/png;base64,iVBORw0KGgoAAAANSUhEUgAAADMAAAAVBAMAAAAZessyAAAAMFBMVEX///+YmJgiIiLc3Ny6urp2\n",
       "dnaqqqrMzMwQEBDu7u5mZmYyMjJUVFRERESIiIgAAACzCz+6AAAAAXRSTlMAQObYZgAAAAlwSFlz\n",
       "AAAOxAAADsQBlSsOGwAAAS9JREFUKM9lkj1LxEAQht9ccvm4S05BKxuttD2Fq10EWy+NfWorG2tt\n",
       "LYT0FuI/SGOhjYJYiXA/QHFBsBAPI1wQET/ezSVkFxdmdjbP7juzswG0YTdhH+Z4bsKt0o9/7+8u\n",
       "UgZu3KBeUk5fQHTI+VhXOFfO++EBGk51tFCe/aAVDA505KsUUU4jdjIddWfpZkbAUAIdVrF5PXiV\n",
       "e2MBtK+I9iUGy9W++EEG78KltKU03m6255VEK4EnjmAXsJjCXeKnxzqxQBBM4H4iZAovn16rRnBz\n",
       "dDL4zOxQ1CvqmtiAMEMrxrCfloK9SYUi7vVjnAjc2gksinbzCqly13exCJy1eRWJ8PJbTpFDiQ3g\n",
       "Bdh5Yr3Gs6zoizX862g9jF4j0jTskYECbRml5g+w2oRzwB+/HkXlxpULYAAAAABJRU5ErkJggg==\n",
       "\" style=\"display:inline;vertical-align:middle;\" /></a></td></tr>\n",
       "<tr><td>3</td><td>Literal</td><td></td><td><a class=\"ProveItLink\" href=\"../../../../logic/set_theory/membership/__pv_it/7776fc89cb67d0b5b1ec2c0c8e08da5587921ccf0/expr.ipynb\"><img src=\"data:image/png;base64,iVBORw0KGgoAAAANSUhEUgAAAAwAAAAMBAMAAACkW0HUAAAAKlBMVEX///92dnZUVFSqqqoQEBDM\n",
       "zMzc3Nzu7u66uroyMjIiIiJERESIiIgAAACm0meuAAAAAXRSTlMAQObYZgAAAAlwSFlzAAAOxAAA\n",
       "DsQBlSsOGwAAADxJREFUCNdjYGA4vWrVBAaGzuMMQMA2HUQycCZAKDDJELIKCDYwVEN4XBCK5wCE\n",
       "ngyhinYUgOnGXasmAABvGQ6ucz2C1gAAAABJRU5ErkJggg==\n",
       "\" style=\"display:inline;vertical-align:middle;\" /></a></td></tr>\n",
       "<tr><td>4</td><td>ExprTuple</td><td>6, 7</td><td><a class=\"ProveItLink\" href=\"../061fccfc91c2b2afb1ecc0b4adbbc1fd783de4430/expr.ipynb\"><img src=\"data:image/png;base64,iVBORw0KGgoAAAANSUhEUgAAAEYAAAAZBAMAAAB+2EWVAAAAMFBMVEX///9UVFQiIiKIiIjMzMx2\n",
       "dnYQEBDc3NyYmJhEREQyMjLu7u5mZma6urqqqqoAAACMi3WHAAAAAXRSTlMAQObYZgAAAAlwSFlz\n",
       "AAAOxAAADsQBlSsOGwAAAXxJREFUKM99k7tLw1AUxr/U2KS9aS0uwQrSzaEiqfhAcCiCgyCYSQSX\n",
       "rG5dHJys+AeYQcQ4lHRwj44udXULgnO7ihY6aFVKwXNL82hieyHf4eb+ck7O4wJoY8xSuOhcsk/j\n",
       "mBSXXS6PmMjIGslN5OTh99bBQdcdMigCkhH9vJbJgfU8PyjRj+lRZrZyCBh4tq4tqwo0HMy4UWbB\n",
       "TFdQ8P2kq9h3oox6IdkhRjGxEktHFcprIWbKQJ7Mq3pS0nY2h1FVmCk3YDI9WLyWlsZ+3KzhMXus\n",
       "WPDqDPETdVL3GNIX5I7HyK23oCJSH0sAY31kexBMj8G8EDB0WOct60CxkdR85p4VAj+DWBBsJHQ0\n",
       "K47HiJrpM+I35sgkdTRc5KUW4y+v6FkNGMprncxZGZfA3TQaNu2WeUq2z8gGmhTgBdgCPjaQoCZv\n",
       "d8kHCxglh+RIv97jU0T9Gu27Hmeo72J4fpgWZ875KIT28j8TuzhxnuHP8/h7MVinA21PZI6APwpi\n",
       "VFupzjAyAAAAAElFTkSuQmCC\n",
       "\" style=\"display:inline;vertical-align:middle;\" /></a></td></tr>\n",
       "<tr><td>5</td><td>Variable</td><td></td><td><a class=\"ProveItLink\" href=\"../390c91a44e60b16c95d2255652741252e8ec8d980/expr.ipynb\"><img src=\"data:image/png;base64,iVBORw0KGgoAAAANSUhEUgAAABAAAAAOBAMAAADUAYG5AAAAMFBMVEX///+YmJgiIiLc3Ny6urp2\n",
       "dnaqqqrMzMwQEBDu7u5mZmYyMjJUVFRERESIiIgAAACzCz+6AAAAAXRSTlMAQObYZgAAAAlwSFlz\n",
       "AAAOxAAADsQBlSsOGwAAAF1JREFUCNdjYGB4+//O2V0TGIDgNwMDbyeQZv/HwMAGxAx834H4K5DB\n",
       "+wGIgRwG/gsMDP4PgIz6BwymaiBN74+GioBohvsMUPAbSrN/hTL4vkAZ3B8gNM/+vyAzGABqABnj\n",
       "X5k3PAAAAABJRU5ErkJggg==\n",
       "\" style=\"display:inline;vertical-align:middle;\" /></a></td></tr>\n",
       "<tr><td>6</td><td>Variable</td><td></td><td><a class=\"ProveItLink\" href=\"../6e8a38e9a7e2b6af352562cd77e0eb4751f142620/expr.ipynb\"><img src=\"data:image/png;base64,iVBORw0KGgoAAAANSUhEUgAAABIAAAAJBAMAAADN8WE8AAAAMFBMVEX///8iIiIyMjJmZmYQEBCq\n",
       "qqqYmJju7u5ERETMzMyIiIjc3NxUVFR2dna6uroAAACULOzSAAAAAXRSTlMAQObYZgAAAAlwSFlz\n",
       "AAAOxAAADsQBlSsOGwAAAGNJREFUCNdj4Luz+9Ypzlt9DAy8HF0M9XkMIQwM81gaGPZfYMhnYCio\n",
       "f8AQX8BwgoGBIZ6BwYiBwQvIOsTAIMvA95udgcGXgf0fA4/CVgbunwxsHxiYLlxg4BNg4DJgYLXa\n",
       "AAB/WBcBafZ/twAAAABJRU5ErkJggg==\n",
       "\" style=\"display:inline;vertical-align:middle;\" /></a></td></tr>\n",
       "<tr><td>7</td><td>Literal</td><td></td><td><a class=\"ProveItLink\" href=\"../../../../number/sets/integer/__pv_it/f6a9f4b6dec6ab4d2dcb6ba1b0ba3cceefc643530/expr.ipynb\"><img src=\"data:image/png;base64,iVBORw0KGgoAAAANSUhEUgAAABsAAAASBAMAAABY9biuAAAAMFBMVEX///9mZmbMzMyIiIiYmJjc\n",
       "3NxUVFSqqqq6uroQEBB2dnYyMjJEREQiIiLu7u4AAAAPqInnAAAAAXRSTlMAQObYZgAAAAlwSFlz\n",
       "AAAOxAAADsQBlSsOGwAAAH9JREFUGNNjYIADRgYUwIOF+/bP6QcMK382wGSPcyQw8P2DK84NWMLA\n",
       "MIFB5szJM2ccGBjSD3AHMFyAy6Y6s25A5rIpWCFzGQ7wNCBzFfnuXYC7KpWBpaBmAtwxqQwMeWwo\n",
       "3Gd8F5C5TAYH4NxDQGyE4F4HGboBxtP9CZThg3EBugMlU91oyisAAAAASUVORK5CYII=\n",
       "\" style=\"display:inline;vertical-align:middle;\" /></a></td></tr>\n",
       "</table>\n"
      ],
      "text/plain": [
       "0. (m in NaturalsPos , P(m))\n",
       "   core type: ExprTuple\n",
       "   sub-expressions: 1, 2\n",
       "1. m in NaturalsPos\n",
       "   core type: Operation\n",
       "   operator: 3\n",
       "   operands: 4\n",
       "2. P(m)\n",
       "   core type: Operation\n",
       "   operator: 5\n",
       "   operand: 6\n",
       "3. in\n",
       "   core type: Literal\n",
       "   sub-expressions: \n",
       "4. (m , NaturalsPos)\n",
       "   core type: ExprTuple\n",
       "   sub-expressions: 6, 7\n",
       "5. P\n",
       "   core type: Variable\n",
       "   sub-expressions: \n",
       "6. m\n",
       "   core type: Variable\n",
       "   sub-expressions: \n",
       "7. NaturalsPos\n",
       "   core type: Literal\n",
       "   sub-expressions: "
      ]
     },
     "execution_count": 5,
     "metadata": {},
     "output_type": "execute_result"
    }
   ],
   "source": [
    "# display the expression information\n",
    "expr.exprInfo()"
   ]
  },
  {
   "cell_type": "code",
   "execution_count": null,
   "metadata": {},
   "outputs": [],
   "source": []
  }
 ],
 "metadata": {
  "kernelspec": {
   "display_name": "Python 3",
   "language": "python",
   "name": "python3"
  },
  "language_info": {
   "codemirror_mode": {
    "name": "ipython",
    "version": 3
   },
   "file_extension": ".py",
   "mimetype": "text/x-python",
   "name": "python",
   "nbconvert_exporter": "python",
   "pygments_lexer": "ipython3",
   "version": "3.7.4"
  }
 },
 "nbformat": 4,
 "nbformat_minor": 1
}
