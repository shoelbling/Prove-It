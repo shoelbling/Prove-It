{
 "cells": [
  {
   "cell_type": "markdown",
   "metadata": {},
   "source": [
    "Expression of type <a class=\"ProveItLink\" href=\"../../../../../../doc/html/api/proveit.ExprTuple.html\">ExprTuple</a>\n",
    "=======================\n",
    "# from context <a class=\"ProveItLink\" href=\"../../_context_.ipynb\">proveit.core_expr_types.tuples</a>"
   ]
  },
  {
   "cell_type": "code",
   "execution_count": 1,
   "metadata": {},
   "outputs": [],
   "source": [
    "import proveit\n",
    "# Automation is not needed when building an expression:\n",
    "proveit.defaults.automation = False # This will speed things up.\n",
    "# import Expression classes needed to build the expression\n",
    "from proveit import ExprTuple, IndexedVar, Variable\n",
    "from proveit.number import one"
   ]
  },
  {
   "cell_type": "code",
   "execution_count": 2,
   "metadata": {},
   "outputs": [
    {
     "data": {
      "text/html": [
       "<strong id=\"expr\">expr:</strong> <a class=\"ProveItLink\" href=\"expr.ipynb\"><img src=\"data:image/png;base64,iVBORw0KGgoAAAANSUhEUgAAAF8AAAAVBAMAAADSoS/MAAAAMFBMVEX////MzMxUVFREREQiIiK6\n",
       "uroQEBCYmJhmZmYyMjLu7u52dnaqqqqIiIjc3NwAAACFAiZ1AAAAAXRSTlMAQObYZgAAAAlwSFlz\n",
       "AAAOxAAADsQBlSsOGwAAAb9JREFUOMttkztLA0EQxyfkdbnEwy8g2lkFUqqgRLCwEEkhgRRCCkWw\n",
       "Cthoo3ZBgpAuIQgGBB+FXExnl8LOwggWFipBBQsbG1FjFOexu3dCBn7Lf4+Z2Zm5XQDogKDMAei7\n",
       "MW4DLUFbuO0LuPPkogIuFf2cEg04WFJaJ7bLgmexupEnSFVvaoJVEDyLbhtZRHp6sy5EQPDZqlF5\n",
       "bKmrN5E6k0OZ+x9QMf1jqfG0KbXAlFASTulBj6epXawGuiRv1QjjI0xFpcx2gvrwDX9Ot2b/qt7K\n",
       "zBxKxF4BKw02+17ogBDmvqrDDxzRGBNpZhklYnUh1IChG/IbNm1mAHbA/g7cUyOBN0YFRFLgZlTy\n",
       "rD+gCuEeJ4dwntlDibgN2NLVmJJiWNIHHc4BqqRJlIjbgvFER3zXaKHfHcS5vcNhQQKiKaYpc4y1\n",
       "o7NxlXwXsb/UIEdhTJKD1WYWUCJ28uzxWgXM0zKDR4TR75h+AweEOkxoEBgxCnD43yaopml9a+nT\n",
       "s0BXzbtuFCBXMa7vmwkoKqYUZK/7WP8Ty1NagvISnfPPNjjYMwEHCmMTvPIxdsr7HKwL4BQE8xx8\n",
       "7xtePLkp/AGI4Xp8JQoxmQAAAABJRU5ErkJggg==\n",
       "\" style=\"display:inline;vertical-align:middle;\" /></a><br>"
      ],
      "text/plain": [
       "expr: ((a_{1}) , (b_{1}))"
      ]
     },
     "execution_count": 2,
     "metadata": {},
     "output_type": "execute_result"
    }
   ],
   "source": [
    "# build up the expression from sub-expressions\n",
    "expr = ExprTuple([IndexedVar(Variable(\"a\"), one)], [IndexedVar(Variable(\"b\"), one)])"
   ]
  },
  {
   "cell_type": "code",
   "execution_count": 3,
   "metadata": {},
   "outputs": [
    {
     "name": "stdout",
     "output_type": "stream",
     "text": [
      "Passed sanity check: built 'expr' is the same as the stored Expression.\n"
     ]
    }
   ],
   "source": [
    "# check that the built expression is the same as the stored expression\n",
    "%check_expr"
   ]
  },
  {
   "cell_type": "code",
   "execution_count": 4,
   "metadata": {},
   "outputs": [
    {
     "name": "stdout",
     "output_type": "stream",
     "text": [
      "\\left(\\left(a_{1}\\right) , \\left(b_{1}\\right)\\right)\n"
     ]
    }
   ],
   "source": [
    "# Show the LaTeX representation of the expression for convenience if you need it.\n",
    "print(expr.latex())"
   ]
  },
  {
   "cell_type": "code",
   "execution_count": 5,
   "metadata": {},
   "outputs": [
    {
     "data": {
      "text/html": [
       "<table><tr><th>&nbsp;</th><th>core type</th><th>sub-expressions</th><th>expression</th></tr>\n",
       "<tr><td>0</td><td>ExprTuple</td><td>1, 2</td><td><a class=\"ProveItLink\" href=\"expr.ipynb\"><img src=\"data:image/png;base64,iVBORw0KGgoAAAANSUhEUgAAAF8AAAAVBAMAAADSoS/MAAAAMFBMVEX////MzMxUVFREREQiIiK6\n",
       "uroQEBCYmJhmZmYyMjLu7u52dnaqqqqIiIjc3NwAAACFAiZ1AAAAAXRSTlMAQObYZgAAAAlwSFlz\n",
       "AAAOxAAADsQBlSsOGwAAAb9JREFUOMttkztLA0EQxyfkdbnEwy8g2lkFUqqgRLCwEEkhgRRCCkWw\n",
       "Cthoo3ZBgpAuIQgGBB+FXExnl8LOwggWFipBBQsbG1FjFOexu3dCBn7Lf4+Z2Zm5XQDogKDMAei7\n",
       "MW4DLUFbuO0LuPPkogIuFf2cEg04WFJaJ7bLgmexupEnSFVvaoJVEDyLbhtZRHp6sy5EQPDZqlF5\n",
       "bKmrN5E6k0OZ+x9QMf1jqfG0KbXAlFASTulBj6epXawGuiRv1QjjI0xFpcx2gvrwDX9Ot2b/qt7K\n",
       "zBxKxF4BKw02+17ogBDmvqrDDxzRGBNpZhklYnUh1IChG/IbNm1mAHbA/g7cUyOBN0YFRFLgZlTy\n",
       "rD+gCuEeJ4dwntlDibgN2NLVmJJiWNIHHc4BqqRJlIjbgvFER3zXaKHfHcS5vcNhQQKiKaYpc4y1\n",
       "o7NxlXwXsb/UIEdhTJKD1WYWUCJ28uzxWgXM0zKDR4TR75h+AweEOkxoEBgxCnD43yaopml9a+nT\n",
       "s0BXzbtuFCBXMa7vmwkoKqYUZK/7WP8Ty1NagvISnfPPNjjYMwEHCmMTvPIxdsr7HKwL4BQE8xx8\n",
       "7xtePLkp/AGI4Xp8JQoxmQAAAABJRU5ErkJggg==\n",
       "\" style=\"display:inline;vertical-align:middle;\" /></a></td></tr>\n",
       "<tr><td>1</td><td>ExprTuple</td><td>3</td><td><a class=\"ProveItLink\" href=\"../3823f7f11c2ba93ea8e0a0f061020f729f0d96530/expr.ipynb\"><img src=\"data:image/png;base64,iVBORw0KGgoAAAANSUhEUgAAACEAAAAVBAMAAAA6IZrnAAAAMFBMVEX////MzMxUVFREREQiIiK6\n",
       "uroQEBCYmJhmZmYyMjLu7u52dnaqqqqIiIjc3NwAAACFAiZ1AAAAAXRSTlMAQObYZgAAAAlwSFlz\n",
       "AAAOxAAADsQBlSsOGwAAANRJREFUGNNjYGB4wIAAYDbvASSRWBBxGkkALM01AVmEYRYDA0cBikgF\n",
       "AwMbigAD2wKGSFQRzgKGbhD9Yu9bqAi3AsN0IMWax2C/ACLCPoHBB0gtK2BoYWBYDrKVx4EhFUj1\n",
       "L2DwZmC86wBkMn4AiyQzcH0FSwMNSGCYA3Tkbwb2D1ARIGELFPnDwDzhHESE3YBhE5Cay1DSsAEi\n",
       "wnGBIQRILbotpysAEWF5wMAiAHMuWOQJUGMDikg7ENtBBfh2/rjAwGcAZC1G9igzyDN8yAFUx8AA\n",
       "ACeWLXE0SuJqAAAAAElFTkSuQmCC\n",
       "\" style=\"display:inline;vertical-align:middle;\" /></a></td></tr>\n",
       "<tr><td>2</td><td>ExprTuple</td><td>4</td><td><a class=\"ProveItLink\" href=\"../892f439b4d9a1803163400c5744c98281238c2860/expr.ipynb\"><img src=\"data:image/png;base64,iVBORw0KGgoAAAANSUhEUgAAAB4AAAAVBAMAAACj2UNSAAAAMFBMVEX////MzMxUVFREREQiIiK6\n",
       "uroQEBCYmJhmZmYyMjLu7u52dnaqqqqIiIjc3NwAAACFAiZ1AAAAAXRSTlMAQObYZgAAAAlwSFlz\n",
       "AAAOxAAADsQBlSsOGwAAANFJREFUGNNFjzsKwkAQhj98Z/F1AfEWFoLiAUQsRLCyEsEqYGWX3gTF\n",
       "xkYw4AEU8QAp7GwsLBUES0+glbNkE6f4d75ZZv4Z4EkURS2FIOb0VeSCqrVM4Q5qCZZj2PLJ2VCK\n",
       "WrIOGXmGfjRhwkD0FE9cMxddPVzDR6mgPv7eLDGjDfkvpauaaT4zgtyS/aFy01zVLPbDQL4k+mzE\n",
       "3mbhh3ymIdxVY0KeigMJO+kY9uiJn+diuEOqbFbRXGzpE/6sj2uG+N568JJkxz/quseOMfvkB48x\n",
       "MOToPy6XAAAAAElFTkSuQmCC\n",
       "\" style=\"display:inline;vertical-align:middle;\" /></a></td></tr>\n",
       "<tr><td>3</td><td>IndexedVar</td><td>variable:&nbsp;5<br>index:&nbsp;7<br></td><td><a class=\"ProveItLink\" href=\"../9a40ff58b463a2666f899556365b4f1fbbf06d1e0/expr.ipynb\"><img src=\"data:image/png;base64,iVBORw0KGgoAAAANSUhEUgAAABIAAAAMBAMAAACdPPCPAAAAMFBMVEX////MzMxUVFQyMjKqqqoi\n",
       "IiKYmJju7u5EREQQEBC6urqIiIh2dnZmZmbc3NwAAAD0tjQRAAAAAXRSTlMAQObYZgAAAAlwSFlz\n",
       "AAAOxAAADsQBlSsOGwAAAFhJREFUCNdjYOC7s28DAxisfMDxHcxgn8bAG8DAnszAwPudgfUAg/RW\n",
       "BgbOBob6BQwMrgwM9QcY8hkgLAeGZpYHIBbzBrZYHrAYu/bBRxvBLCjAwnpjfxsAzcYV6xabhrcA\n",
       "AAAASUVORK5CYII=\n",
       "\" style=\"display:inline;vertical-align:middle;\" /></a></td></tr>\n",
       "<tr><td>4</td><td>IndexedVar</td><td>variable:&nbsp;6<br>index:&nbsp;7<br></td><td><a class=\"ProveItLink\" href=\"../dc1e9f01f9f6fd903e7d1dfadb4f758b51a6e7830/expr.ipynb\"><img src=\"data:image/png;base64,iVBORw0KGgoAAAANSUhEUgAAABAAAAARBAMAAAAmgTH3AAAAMFBMVEX////MzMyYmJjc3NyIiIhU\n",
       "VFR2dna6urqqqqpmZmYyMjIiIiIQEBBERETu7u4AAACIO4EmAAAAAXRSTlMAQObYZgAAAAlwSFlz\n",
       "AAAOxAAADsQBlSsOGwAAAGBJREFUCNdj4LuzgQECuCZAGfwNUEb9AygjG0ozLHWZAab5fj14bwBi\n",
       "cPxj4Hfg02Jg4FzA8D5BxBtsTH0DQzfQGAWG+Q/AjAK+QwwgBqsC7wQwg28KyJhumKkYDLP1UwBT\n",
       "UBjSwULeiAAAAABJRU5ErkJggg==\n",
       "\" style=\"display:inline;vertical-align:middle;\" /></a></td></tr>\n",
       "<tr><td>5</td><td>Variable</td><td></td><td><a class=\"ProveItLink\" href=\"../a8d4b3a34d2189508f9082853fbac36935714f280/expr.ipynb\"><img src=\"data:image/png;base64,iVBORw0KGgoAAAANSUhEUgAAAAsAAAAJBAMAAAAWSsseAAAAMFBMVEX////MzMxUVFQyMjKqqqoi\n",
       "IiKYmJju7u5EREQQEBC6urqIiIh2dnZmZmbc3NwAAAD0tjQRAAAAAXRSTlMAQObYZgAAAAlwSFlz\n",
       "AAAOxAAADsQBlSsOGwAAAEdJREFUCNdjYOC7s28DAwPDygcc3xkY2Kcx8AYwMPB+Z2A9wMDA2cBQ\n",
       "v4CBof4AQz5QRb0DQzPLAwbmDWyxPECV2gcfbWQAABp5EMgcedARAAAAAElFTkSuQmCC\n",
       "\" style=\"display:inline;vertical-align:middle;\" /></a></td></tr>\n",
       "<tr><td>6</td><td>Variable</td><td></td><td><a class=\"ProveItLink\" href=\"../53e304ff98ebc000dbe3ef224f4637dbafd46ba70/expr.ipynb\"><img src=\"data:image/png;base64,iVBORw0KGgoAAAANSUhEUgAAAAkAAAAOBAMAAAAPuiubAAAALVBMVEX///+YmJjc3NyIiIhUVFR2\n",
       "dna6urqqqqpmZmYyMjIiIiIQEBBERETu7u4AAAALjtrwAAAAAXRSTlMAQObYZgAAAAlwSFlzAAAO\n",
       "xAAADsQBlSsOGwAAAE5JREFUCNdj4D29gAEIOBtAJF8BiMy7ACKjQATDFON2BgbelxfuKTCwv2Xg\n",
       "M2DgmMBwLwCkPK+AgU+Aoe8CA18C70YGBhYBHqARvM1A5QCqGhDobJhHyAAAAABJRU5ErkJggg==\n",
       "\" style=\"display:inline;vertical-align:middle;\" /></a></td></tr>\n",
       "<tr><td>7</td><td>Literal</td><td></td><td><a class=\"ProveItLink\" href=\"../../../../number/numeral/__pv_it/f086f8c372bd40a2458306ddfdbb29f3dc6f63030/expr.ipynb\"><img src=\"data:image/png;base64,iVBORw0KGgoAAAANSUhEUgAAAAgAAAAOBAMAAADgeEClAAAAIVBMVEX///8QEBBERESIiIgyMjJm\n",
       "ZmZUVFTu7u4iIiLMzMwAAAAWRytzAAAAAXRSTlMAQObYZgAAAAlwSFlzAAAOxAAADsQBlSsOGwAA\n",
       "ABtJREFUCNdjYOBsZ2AoC1nOwMDATBbBprgiGQBsuwqCZsDj4wAAAABJRU5ErkJggg==\n",
       "\" style=\"display:inline;vertical-align:middle;\" /></a></td></tr>\n",
       "</table>\n"
      ],
      "text/plain": [
       "0. ((a_{1}) , (b_{1}))\n",
       "   core type: ExprTuple\n",
       "   sub-expressions: 1, 2\n",
       "1. (a_{1})\n",
       "   core type: ExprTuple\n",
       "   sub-expressions: 3\n",
       "2. (b_{1})\n",
       "   core type: ExprTuple\n",
       "   sub-expressions: 4\n",
       "3. a_{1}\n",
       "   core type: IndexedVar\n",
       "variable: 5\n",
       "index: 7\n",
       "4. b_{1}\n",
       "   core type: IndexedVar\n",
       "variable: 6\n",
       "index: 7\n",
       "5. a\n",
       "   core type: Variable\n",
       "   sub-expressions: \n",
       "6. b\n",
       "   core type: Variable\n",
       "   sub-expressions: \n",
       "7. 1\n",
       "   core type: Literal\n",
       "   sub-expressions: "
      ]
     },
     "execution_count": 5,
     "metadata": {},
     "output_type": "execute_result"
    }
   ],
   "source": [
    "# display the expression information\n",
    "expr.exprInfo()"
   ]
  },
  {
   "cell_type": "code",
   "execution_count": null,
   "metadata": {},
   "outputs": [],
   "source": []
  }
 ],
 "metadata": {
  "kernelspec": {
   "display_name": "Python 3",
   "language": "python",
   "name": "python3"
  },
  "language_info": {
   "codemirror_mode": {
    "name": "ipython",
    "version": 3
   },
   "file_extension": ".py",
   "mimetype": "text/x-python",
   "name": "python",
   "nbconvert_exporter": "python",
   "pygments_lexer": "ipython3",
   "version": "3.7.4"
  }
 },
 "nbformat": 4,
 "nbformat_minor": 1
}
