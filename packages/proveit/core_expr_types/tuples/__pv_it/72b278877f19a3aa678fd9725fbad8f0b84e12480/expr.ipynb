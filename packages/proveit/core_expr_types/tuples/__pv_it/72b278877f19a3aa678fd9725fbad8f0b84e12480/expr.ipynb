{
 "cells": [
  {
   "cell_type": "markdown",
   "metadata": {},
   "source": [
    "Expression of type <a class=\"ProveItLink\" href=\"../../../../../../doc/html/api/proveit.ExprTuple.html\">ExprTuple</a>\n",
    "=======================\n",
    "# from context <a class=\"ProveItLink\" href=\"../../_context_.ipynb\">proveit.core_expr_types.tuples</a>"
   ]
  },
  {
   "cell_type": "code",
   "execution_count": 1,
   "metadata": {},
   "outputs": [],
   "source": [
    "import proveit\n",
    "# Automation is not needed when building an expression:\n",
    "proveit.defaults.automation = False # This will speed things up.\n",
    "# import Expression classes needed to build the expression\n",
    "from proveit import ExprTuple, Variable"
   ]
  },
  {
   "cell_type": "code",
   "execution_count": 2,
   "metadata": {},
   "outputs": [
    {
     "data": {
      "text/html": [
       "<strong id=\"expr\">expr:</strong> <a class=\"ProveItLink\" href=\"expr.ipynb\"><img src=\"data:image/png;base64,iVBORw0KGgoAAAANSUhEUgAAAC0AAAAVBAMAAAAgHXppAAAAMFBMVEX////MzMxUVFREREQiIiK6\n",
       "uroQEBCYmJhmZmYyMjLu7u52dnaqqqqIiIjc3NwAAACFAiZ1AAAAAXRSTlMAQObYZgAAAAlwSFlz\n",
       "AAAOxAAADsQBlSsOGwAAARFJREFUGNNjYGB4wIAOwCK8BzDEY0HEaQxhsFKuCZjiDLMYGDgKsIhX\n",
       "MDCwYRFmYFvAEIlNnLOAoRtIrb20cDfEVVx3taT3MDBwKzBMB/IaeHU5HMDiHAyXLrQwMLBPYPAB\n",
       "kg94/zFBrK9juP9AnYGBx4EhlYGBkYEZ5lgBBksQxfgBJM7AwH8BbuVfEMGawDAHRMc/4FoAEWb9\n",
       "x7AKbI4tA8PiAH0GbgYGoAyXKdMHhg1AGw0YNjEwnJdqY4hh4PoJVPdxRQIr0MUcFxhCGBhW3OVp\n",
       "B3JcFjBw9V44UQM0jeUBA4sAzEaeBXDLnwCNaoBxuBHh0A7EdjDOWrgwnwGQWAzjIQKcGWQiH2YE\n",
       "1DEwAABvODruKUQwjAAAAABJRU5ErkJggg==\n",
       "\" style=\"display:inline;vertical-align:middle;\" /></a><br>"
      ],
      "text/plain": [
       "expr: (x , x)"
      ]
     },
     "execution_count": 2,
     "metadata": {},
     "output_type": "execute_result"
    }
   ],
   "source": [
    "# build up the expression from sub-expressions\n",
    "subExpr1 = Variable(\"x\")\n",
    "expr = ExprTuple(subExpr1, subExpr1)"
   ]
  },
  {
   "cell_type": "code",
   "execution_count": 3,
   "metadata": {},
   "outputs": [
    {
     "name": "stdout",
     "output_type": "stream",
     "text": [
      "Passed sanity check: built 'expr' is the same as the stored Expression.\n"
     ]
    }
   ],
   "source": [
    "# check that the built expression is the same as the stored expression\n",
    "%check_expr"
   ]
  },
  {
   "cell_type": "code",
   "execution_count": 4,
   "metadata": {},
   "outputs": [
    {
     "name": "stdout",
     "output_type": "stream",
     "text": [
      "\\left(x , x\\right)\n"
     ]
    }
   ],
   "source": [
    "# Show the LaTeX representation of the expression for convenience if you need it.\n",
    "print(expr.latex())"
   ]
  },
  {
   "cell_type": "code",
   "execution_count": 5,
   "metadata": {},
   "outputs": [
    {
     "data": {
      "text/html": [
       "<table><tr><th>&nbsp;</th><th>core type</th><th>sub-expressions</th><th>expression</th></tr>\n",
       "<tr><td>0</td><td>ExprTuple</td><td>1, 1</td><td><a class=\"ProveItLink\" href=\"expr.ipynb\"><img src=\"data:image/png;base64,iVBORw0KGgoAAAANSUhEUgAAAC0AAAAVBAMAAAAgHXppAAAAMFBMVEX////MzMxUVFREREQiIiK6\n",
       "uroQEBCYmJhmZmYyMjLu7u52dnaqqqqIiIjc3NwAAACFAiZ1AAAAAXRSTlMAQObYZgAAAAlwSFlz\n",
       "AAAOxAAADsQBlSsOGwAAARFJREFUGNNjYGB4wIAOwCK8BzDEY0HEaQxhsFKuCZjiDLMYGDgKsIhX\n",
       "MDCwYRFmYFvAEIlNnLOAoRtIrb20cDfEVVx3taT3MDBwKzBMB/IaeHU5HMDiHAyXLrQwMLBPYPAB\n",
       "kg94/zFBrK9juP9AnYGBx4EhlYGBkYEZ5lgBBksQxfgBJM7AwH8BbuVfEMGawDAHRMc/4FoAEWb9\n",
       "x7AKbI4tA8PiAH0GbgYGoAyXKdMHhg1AGw0YNjEwnJdqY4hh4PoJVPdxRQIr0MUcFxhCGBhW3OVp\n",
       "B3JcFjBw9V44UQM0jeUBA4sAzEaeBXDLnwCNaoBxuBHh0A7EdjDOWrgwnwGQWAzjIQKcGWQiH2YE\n",
       "1DEwAABvODruKUQwjAAAAABJRU5ErkJggg==\n",
       "\" style=\"display:inline;vertical-align:middle;\" /></a></td></tr>\n",
       "<tr><td>1</td><td>Variable</td><td></td><td><a class=\"ProveItLink\" href=\"../72df168d2bfb4e0140af90912ebf83b13772060b0/expr.ipynb\"><img src=\"data:image/png;base64,iVBORw0KGgoAAAANSUhEUgAAAAsAAAAJBAMAAAAWSsseAAAAMFBMVEX///8QEBC6uroyMjJERETc\n",
       "3NyYmJgiIiJmZmaqqqp2dnbMzMxUVFSIiIju7u4AAAAoIwv1AAAAAXRSTlMAQObYZgAAAAlwSFlz\n",
       "AAAOxAAADsQBlSsOGwAAAENJREFUCNdjYHh75/WqCQwMDbxnOQoY2AJ4v/IkMHAzsBgwgAD/BTCl\n",
       "H8D3gOGJwnkGLgaG+fsaGTQZGF7c5WybwAAAJGsQ2L2rVEcAAAAASUVORK5CYII=\n",
       "\" style=\"display:inline;vertical-align:middle;\" /></a></td></tr>\n",
       "</table>\n"
      ],
      "text/plain": [
       "0. (x , x)\n",
       "   core type: ExprTuple\n",
       "   sub-expressions: 1, 1\n",
       "1. x\n",
       "   core type: Variable\n",
       "   sub-expressions: "
      ]
     },
     "execution_count": 5,
     "metadata": {},
     "output_type": "execute_result"
    }
   ],
   "source": [
    "# display the expression information\n",
    "expr.exprInfo()"
   ]
  },
  {
   "cell_type": "code",
   "execution_count": null,
   "metadata": {},
   "outputs": [],
   "source": []
  }
 ],
 "metadata": {
  "kernelspec": {
   "display_name": "Python 3",
   "language": "python",
   "name": "python3"
  },
  "language_info": {
   "codemirror_mode": {
    "name": "ipython",
    "version": 3
   },
   "file_extension": ".py",
   "mimetype": "text/x-python",
   "name": "python",
   "nbconvert_exporter": "python",
   "pygments_lexer": "ipython3",
   "version": "3.7.4"
  }
 },
 "nbformat": 4,
 "nbformat_minor": 1
}
