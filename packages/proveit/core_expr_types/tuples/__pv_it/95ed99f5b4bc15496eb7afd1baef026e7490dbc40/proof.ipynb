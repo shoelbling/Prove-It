{
 "cells": [
  {
   "cell_type": "markdown",
   "metadata": {},
   "source": [
    "Show the Proof\n",
    "========"
   ]
  },
  {
   "cell_type": "code",
   "execution_count": 1,
   "metadata": {},
   "outputs": [
    {
     "data": {
      "text/html": [
       "<table><tr><th>&nbsp;</th><th>step type</th><th>requirements</th><th>statement</th></tr>\n",
       "<tr><td><a name=\"proveit.core_expr_types.tuples.95ed99f5b4bc15496eb7afd1baef026e7490dbc40_step0\">0</a></td><td>assumption</td><td></td><td><span style=\"font-size:20px;\"><a class=\"ProveItLink\" href=\"../e0c2d80de682faec7865253472842b6c5718394d0/expr.ipynb\"><img src=\"data:image/png;base64,iVBORw0KGgoAAAANSUhEUgAAAkEAAAAZBAMAAADEaOctAAAAMFBMVEX///9mZma6urrc3NwiIiKI\n",
       "iIjMzMyYmJgQEBB2dnbu7u5EREQyMjJUVFSqqqoAAABfjFPjAAAAAXRSTlMAQObYZgAAAAlwSFlz\n",
       "AAAOxAAADsQBlSsOGwAABUhJREFUWMPtWV1oHFUU/vYnO7szu9u1GEMfGldosQ9qRlBUSjHRUDAP\n",
       "stpGDUVZlUIelGy0VdCgsRGKimVBrS8qIxj8a9gF0RYrdkGKUFEXIQoqsmCkJC/G+GQo4v3bmTv3\n",
       "zu7sQMBFvPBN7j33nLMz3z333DMTAPlf8H8LbPnP+d+vnL69xYRAVBut2ZFc2G2LpQl6zcz37yI+\n",
       "IBClxUu6bKAVycVuAWCMXnINoE47F/svyqsc0WlV2irMM6NdjXzzlFBO6lnGEKFnO+180XcMnRKI\n",
       "1rJa1jBJEGQLIVby/AUB/NRm6FG6f+t9x9CQQLRmaFzEKsC2kI3mm58V8BiitGdafcfQvEDE9qIq\n",
       "SBOMhJxHvvm0w+ExZBCSs31HULzBEbV9qQquIXg1xMg3n61weAzh+fHxF/qOoViVA9e/dmPICb/j\n",
       "gHSCvalO7yD4enK4qwvffKbJgZ/pyKIMXQF82ncMtVcyvoBz3ffIHtva9EZzjN5x1poiqMxLTq1b\n",
       "UeSfNxocnKEajaZ9SDS3aOG3jqFki+O9Ci7vflQfR0w6rFfU+TtJ0bCJbaVuhYVvPj/Kgd8Ja6nz\n",
       "LJCcTLGXm36kHiazejUL10oXOa50cAfwbueMFNtEUiqbZtT5Y0SlgVrVnOvsgs67o9Q6B4zbgCMs\n",
       "tvKl3hJ1rhoms3o1C9dqM/QSzA2kJjuXfOk6atIC7wlgiJQ7I63DB7uVQyPeYR6f5yDlWAlxFkNo\n",
       "HO2JoXQ5TGb1ahaulW0xmH/BWBdRH9zI6j8LZZfJeegbUu5UaCiudC6H2Ly2y2gM8TyEt2gJ+fbR\n",
       "V3Rbn3Bm8kdNwS/jDJlDUza6mykqAVpWicH8G1bjV3bHpn579LFqLXyWt2efmGze+z0ZPq3qfEwY\n",
       "KJJkxRjScz71yuZdD0adg+UhfpbhZkK2uT+1qZv7hAeduzQNv4wz9E55ht1J7CxppwPN2iqdtdpn\n",
       "7nkcKVQZQzWai+jFvCR3siVjLIPHjuNl3E+Gg+pPkeM/V7EKjCFm4DenHTbveoiVOPhZxuohWCTC\n",
       "Y4XUPBLKqc+E0mrMYa+jrtCcxtBlmIakGGTGVLo4IplglGNp6uHlMmMoSb9GJAvipZt1xolbc/nk\n",
       "vnsSi6PYYKXP7SpDu4jK4LDYf9TAM2edCT7veUjaHFLFyPdicaCJhyaUDUqFUs7bmdrlqHlwp8bQ\n",
       "BlkKSTHIbIOtVmdHpO0XcHMD1vRj2nWbK5G1JAd7QktYybKUofL6NltTPOAGAZWhmm095UBhiAln\n",
       "L85ed5KONnECSeUniMwYfnL7atljyPwTpz+gimL/BJgxFWHnaUmO5BdIlyH9TMxIiX6gnlgvs/fU\n",
       "Du+yKz4Dt1UVD94rs8JQ2p65GpSh92FW2xcm3F1PF1fpeILkL/qorgaXxQ/hmPiQw2NoIbVRkTgR\n",
       "Zp5XcqEqkh3X8gssm8NlyNSLvkW3dyuJAaNexV6dgo8khhb1VFtSPNDPHPxTh8JQfOi31xlD063U\n",
       "AqZtemkxoVU+he+QOoEHp8Ae3NUQsk/MRq4oMXTVM1MyQ8KMKHOvNukxFc9OaPkEZp2DvXq98UcJ\n",
       "hv7wXsBci6ydWHaCXp8+5H9u+XZQNnBDTPVgOWBoM6TUqnSXebUT7yWxivkK8nzgyBpcNpqvpg21\n",
       "HvLvKzrKw28m2SFIcJNApM9DAa9fiUokF48LiG+MA/4vMIefa0nJTPSWcDeWbZ7RUvcNy+mOyczm\n",
       "QDF3QGGIKfpHa0pylOwQLPiX2xh/7+8cdkpYVwLk6upY3X6w0tGsP1vuAo+TLf1/WQL/nRb/gVz+\n",
       "ATOFpH1sfYBWAAAAAElFTkSuQmCC\n",
       "\" style=\"display:inline;vertical-align:middle;\" /></a> <a class=\"ProveItLink\" href=\"proof.ipynb\" style=\"text-decoration: none\">&#x22A2;&nbsp;</a><a class=\"ProveItLink\" href=\"../6165c86d0f1595098249489d4f69108865c914680/expr.ipynb\"><img src=\"data:image/png;base64,iVBORw0KGgoAAAANSUhEUgAAAisAAAAXBAMAAAA4pxLkAAAAMFBMVEX///+IiIgiIiIQEBB2dnbu\n",
       "7u5UVFTMzMzc3NwyMjK6urpmZmaYmJiqqqpEREQAAACk/Np2AAAAAXRSTlMAQObYZgAAAAlwSFlz\n",
       "AAAOxAAADsQBlSsOGwAABMZJREFUWMPdWFuIG1UY/jfJZCbJZJqtixZvhMWlQhEWUVlqK6MPVkFh\n",
       "6qVQFJN9EMGnlAXx8rDjhb4oNT4oPiimLQiisrtSKtRdnApi1/Uyll3woQ8jIioU3QcDNiJ4bpk5\n",
       "l7lkoEjogW9yzn/+78+c78x/zpkBGNNiMOTlKMXNFcLNzfh/yw0MeUq1odom/FwhjjMEuHFh7FSp\n",
       "2xT5tZTKJmg/N1NJQj9WEeMMbrw9drIcZshXKo4y5i6yLmew+P43KZ7BORmMnSyrDPmKqQhQ8wB2\n",
       "ZOSR0L9BgQUu+WMnyyxDznK7bCgiLDnpJKG/6BCYSM7K2KlS7VLkLe/Ihg8Q7skgCf0Vj+LW6enb\n",
       "xk6Wmk0Br979YsamfGoXt//cK3efQnhrci01hNBfalN8CvDLZRrL5ZNlOGfVOfgzPQVOulY/aq2T\n",
       "+5gmpc0eH+2S00o7ioj9ZpfiKBjtUe70uSDLZo1Ky/Yq+BQPe/AJwOPJ6aTtgxq3v56X+29B+3wf\n",
       "djS09eSzAO6PWk0Kyyn1Rrnzsp1ls0alZXsVexSfO3AT6JPJB49aHwocd1Hu34tcutCyj+xMDoH7\n",
       "w5a+TVFvjLbiFjtZNmtUWrbXUJa7QBvQ2UsiBtDiZvVkjCzoWLLkq88Rf2xZirbi6iwFdM+iy2Nn\n",
       "71MJgnFx8knFQbRRWbTVKRfSaZJLjFfFJ9D+AnM7VRY0z9+jg8ZXk+3rnxomEb+2vIuOJR5+6JJl\n",
       "If1hhGESwYPoUKft1vvq3QvGnc51iodoo7I81Fkki2TtD1QuxtKGLsleVoNA+xes7o/kNjV1PDhG\n",
       "y4ff6+7X++AOuBo1v5N9fkLD7qEFiMiiLt44KukPI5gBBbyMZK0t67NgSDsSMXJ/sA7HHPlP1xVZ\n",
       "PoMF4BzjaMQlJVC0Tb4BXyzbRJYWXnbxRbvEVyoNc0/JONiEAdmLV+Rxox277FnLRBZCEOm4gvuj\n",
       "CLUGBVgdrNhEG56fkZ4ubOSy9LR+wpEz97QiywCJzjnG0QZkXpIDoexuUhyaena+Q2Qp4Jsr4MP9\n",
       "nmFlGoXV5g8cvQbKDTSBaNOBm2VZTiCXlTWWXpgQ0UllhvWHEQouBU1R1/rSAUkWYty4sPHxAdzq\n",
       "w34oSONDNnPtmzObnUgW7W+4+Ch2ZOkRQyMujBd5cYFQ2c0Qbpqwpe6sTrRiTwTGdgcMZREqdLit\n",
       "u65m0ZYUAV4CCmp1Fz8CLMsjoNnDCzEeD4q9TdyeQRmHxxd6UFv1RtjLvgDQp2VOH3icEIwWRUUX\n",
       "7MLxqJdoYG9snCzqRl8Ka6+j2TYDm7wYJrw8nhcIYbGlCOI7anX1hweILAu+PgcLLr74xGh1DsPT\n",
       "oO+HF6aAjDb0YLZftW65x8ny4bdTvCyMhpxpVBfViEvEY16CwXIpyPn+/n/Q6qt+YjoY1t6HimvM\n",
       "O3BMHfdv9OeV91Z4QvjgNqQI+GOC/EEBJ1G0g9NaATZh1oM6bTi8B7U163bRlM8tYtrgVh1EGseD\n",
       "GIMWUETTro5YeTTi3mKeSCUoUS2HgitH7vS59GO1Q3AtzLs0B/Wr1vgEJTatPdEr75JkIY5ia0tK\n",
       "Z44HcYbXGHJ9bol59TG8XCHOMSTKZybMjJkovpX2f17KnF3ZxbhyhvIfB5N5uaMOu8kAAAAASUVO\n",
       "RK5CYII=\n",
       "\" style=\"display:inline;vertical-align:middle;\" /></a></span></td></tr>\n",
       "</table>"
      ],
      "text/plain": [
       "<proveit._core_.proof._ShowProof at 0x2323fe4f308>"
      ]
     },
     "execution_count": 1,
     "metadata": {},
     "output_type": "execute_result"
    }
   ],
   "source": [
    "import proveit\n",
    "# Automation is not needed when only showing a stored proof:\n",
    "proveit.defaults.automation = False # This will speed things up.\n",
    "%show_proof"
   ]
  },
  {
   "cell_type": "code",
   "execution_count": null,
   "metadata": {},
   "outputs": [],
   "source": []
  }
 ],
 "metadata": {
  "kernelspec": {
   "display_name": "Python 3",
   "language": "python",
   "name": "python3"
  },
  "language_info": {
   "codemirror_mode": {
    "name": "ipython",
    "version": 3
   },
   "file_extension": ".py",
   "mimetype": "text/x-python",
   "name": "python",
   "nbconvert_exporter": "python",
   "pygments_lexer": "ipython3",
   "version": "3.7.4"
  }
 },
 "nbformat": 4,
 "nbformat_minor": 1
}
