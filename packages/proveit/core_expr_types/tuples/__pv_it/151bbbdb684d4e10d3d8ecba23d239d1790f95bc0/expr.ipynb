{
 "cells": [
  {
   "cell_type": "markdown",
   "metadata": {},
   "source": [
    "Expression of type <a class=\"ProveItLink\" href=\"../../../../../../doc/html/api/proveit.logic.And.html\">And</a>\n",
    "=======================\n",
    "# from context <a class=\"ProveItLink\" href=\"../../_context_.ipynb\">proveit.core_expr_types.tuples</a>"
   ]
  },
  {
   "cell_type": "code",
   "execution_count": 1,
   "metadata": {},
   "outputs": [],
   "source": [
    "import proveit\n",
    "# Automation is not needed when building an expression:\n",
    "proveit.defaults.automation = False # This will speed things up.\n",
    "# import Expression classes needed to build the expression\n",
    "from proveit import ExprRange, IndexedVar, Variable\n",
    "from proveit.logic import And, Equals\n",
    "from proveit.number import one"
   ]
  },
  {
   "cell_type": "code",
   "execution_count": 2,
   "metadata": {},
   "outputs": [
    {
     "data": {
      "text/html": [
       "<strong id=\"expr\">expr:</strong> <a class=\"ProveItLink\" href=\"expr.ipynb\"><img src=\"data:image/png;base64,iVBORw0KGgoAAAANSUhEUgAAAOsAAAAVBAMAAABVvASPAAAAMFBMVEX////MzMxUVFREREQiIiK6\n",
       "uroQEBCYmJhmZmYyMjLu7u52dnaqqqqIiIjc3NwAAACFAiZ1AAAAAXRSTlMAQObYZgAAAAlwSFlz\n",
       "AAAOxAAADsQBlSsOGwAAAt1JREFUSMeVVk1oE0EU/tJNsptNmgQ9SjUexFMgXkQL6ioK9QfpQQoe\n",
       "pBUVwYME9dAe1BwKRdJi8KIUrYstoqdE8agQIQehoBEKFmolqOAfQi9FrFWcNz/bmE626xxmHl/e\n",
       "vm/evO/NBEADa40kgo5Anpyws7qmX6QelPZtEKcTNE23/dne7vxPNDYSlfa/TZ5WFiVql9p7xgrK\n",
       "cMUab3MyT+X60G9PtzxrHLDy7R1TisWU/FP6PdoHpTHiR7vsWYNA1Mex31XWObG82aL167zQK4wB\n",
       "P4EseWbUxXEfzyeedVMsznqtXziUE5F9Coa4s1K8PIok++I7rVZvzI9K67FUTEzbbdOY4KtFivr8\n",
       "7LteKNlZVbN4hufR1zC8E7D285Ghkv10y5JmSHzZSBR0ESfwQmWByHns8WqDYR5sH5nlcfuPkkoJ\n",
       "R1j4s7Ac2EOr2mEJqbqAaxxYBxzSsIYyCHOmMEvnfh7D2mxfufitAjs4wxJcQriCrplWR6uEckXA\n",
       "mziwGZjXBOxIo5MXKcqUdd3FYS3tNdi/1D4XiDaaQ7lXZfRv2/ZXBdzH+4QpZkoTkHWr7SjaU7AX\n",
       "27RtRLVQZAC32alXcNU7yKbapvK095p3yHRZWFX9ZcG1F6tSRuYCzJGu2dba/mCnKnF2yLsYbRU7\n",
       "E43V2aZ6WdUFfJGXjkSv6RHK9AsZRh32MozSS7MvH23V/CIru8TNHLVGrG72xDWH3JE3ChIeo+ky\n",
       "Tdu4xEmZJWmYVFcjLRoDd3CpUPk6g5TbEm0rdkDiVh3H2MfZR+9fa2jtsVF1vkdp6qZpA009lHtB\n",
       "GgYRhKhlIyzve3Mbs2lkhRqaxwNqW4GHGwinFV7T3y4EJ51gL9BeZZxEMaRzEPjHlVvel9bvvWge\n",
       "g+q1X8CB57p/AQKnF2O3hL7dHdNF4vCHgO+tIXUUyWBOt1OBJ+kGnwwQrjsgrZ0LtDkSQ3LtAzQb\n",
       "AWnxKYjTFeAv1n6/oe6lqBEAAAAASUVORK5CYII=\n",
       "\" style=\"display:inline;vertical-align:middle;\" /></a><br>"
      ],
      "text/plain": [
       "expr: (a_{1} = b_{1}) and  ...  and (a_{n} = b_{n})"
      ]
     },
     "execution_count": 2,
     "metadata": {},
     "output_type": "execute_result"
    }
   ],
   "source": [
    "# build up the expression from sub-expressions\n",
    "expr = And(ExprRange(Variable(\"k\"), Equals(IndexedVar(Variable(\"a\"), Variable(\"k\")), IndexedVar(Variable(\"b\"), Variable(\"k\"))), one, Variable(\"n\")))"
   ]
  },
  {
   "cell_type": "code",
   "execution_count": 3,
   "metadata": {},
   "outputs": [
    {
     "name": "stdout",
     "output_type": "stream",
     "text": [
      "Passed sanity check: built 'expr' is the same as the stored Expression.\n"
     ]
    }
   ],
   "source": [
    "# check that the built expression is the same as the stored expression\n",
    "%check_expr"
   ]
  },
  {
   "cell_type": "code",
   "execution_count": 4,
   "metadata": {},
   "outputs": [
    {
     "name": "stdout",
     "output_type": "stream",
     "text": [
      "\\left(a_{1} = b_{1}\\right) \\land \\ldots \\land \\left(a_{n} = b_{n}\\right)\n"
     ]
    }
   ],
   "source": [
    "# Show the LaTeX representation of the expression for convenience if you need it.\n",
    "print(expr.latex())"
   ]
  },
  {
   "cell_type": "code",
   "execution_count": 5,
   "metadata": {},
   "outputs": [
    {
     "data": {
      "text/html": [
       "<table><tr><th>&nbsp;</th><th>core type</th><th>sub-expressions</th><th>expression</th></tr>\n",
       "<tr><td>0</td><td>Operation</td><td>operator:&nbsp;1<br>operands:&nbsp;2<br></td><td><a class=\"ProveItLink\" href=\"expr.ipynb\"><img src=\"data:image/png;base64,iVBORw0KGgoAAAANSUhEUgAAAOsAAAAVBAMAAABVvASPAAAAMFBMVEX////MzMxUVFREREQiIiK6\n",
       "uroQEBCYmJhmZmYyMjLu7u52dnaqqqqIiIjc3NwAAACFAiZ1AAAAAXRSTlMAQObYZgAAAAlwSFlz\n",
       "AAAOxAAADsQBlSsOGwAAAt1JREFUSMeVVk1oE0EU/tJNsptNmgQ9SjUexFMgXkQL6ioK9QfpQQoe\n",
       "pBUVwYME9dAe1BwKRdJi8KIUrYstoqdE8agQIQehoBEKFmolqOAfQi9FrFWcNz/bmE626xxmHl/e\n",
       "vm/evO/NBEADa40kgo5Anpyws7qmX6QelPZtEKcTNE23/dne7vxPNDYSlfa/TZ5WFiVql9p7xgrK\n",
       "cMUab3MyT+X60G9PtzxrHLDy7R1TisWU/FP6PdoHpTHiR7vsWYNA1Mex31XWObG82aL167zQK4wB\n",
       "P4EseWbUxXEfzyeedVMsznqtXziUE5F9Coa4s1K8PIok++I7rVZvzI9K67FUTEzbbdOY4KtFivr8\n",
       "7LteKNlZVbN4hufR1zC8E7D285Ghkv10y5JmSHzZSBR0ESfwQmWByHns8WqDYR5sH5nlcfuPkkoJ\n",
       "R1j4s7Ac2EOr2mEJqbqAaxxYBxzSsIYyCHOmMEvnfh7D2mxfufitAjs4wxJcQriCrplWR6uEckXA\n",
       "mziwGZjXBOxIo5MXKcqUdd3FYS3tNdi/1D4XiDaaQ7lXZfRv2/ZXBdzH+4QpZkoTkHWr7SjaU7AX\n",
       "27RtRLVQZAC32alXcNU7yKbapvK095p3yHRZWFX9ZcG1F6tSRuYCzJGu2dba/mCnKnF2yLsYbRU7\n",
       "E43V2aZ6WdUFfJGXjkSv6RHK9AsZRh32MozSS7MvH23V/CIru8TNHLVGrG72xDWH3JE3ChIeo+ky\n",
       "Tdu4xEmZJWmYVFcjLRoDd3CpUPk6g5TbEm0rdkDiVh3H2MfZR+9fa2jtsVF1vkdp6qZpA009lHtB\n",
       "GgYRhKhlIyzve3Mbs2lkhRqaxwNqW4GHGwinFV7T3y4EJ51gL9BeZZxEMaRzEPjHlVvel9bvvWge\n",
       "g+q1X8CB57p/AQKnF2O3hL7dHdNF4vCHgO+tIXUUyWBOt1OBJ+kGnwwQrjsgrZ0LtDkSQ3LtAzQb\n",
       "AWnxKYjTFeAv1n6/oe6lqBEAAAAASUVORK5CYII=\n",
       "\" style=\"display:inline;vertical-align:middle;\" /></a></td></tr>\n",
       "<tr><td>1</td><td>Literal</td><td></td><td><a class=\"ProveItLink\" href=\"../../../../logic/boolean/conjunction/__pv_it/f41cc6b553210927c09f19a8a39cdf860a5585930/expr.ipynb\"><img src=\"data:image/png;base64,iVBORw0KGgoAAAANSUhEUgAAAAwAAAANBAMAAABvB5JxAAAALVBMVEX///9mZmbc3NxERETMzMy6\n",
       "urpUVFSYmJiIiIgyMjIiIiLu7u6qqqp2dnYAAACMfHT6AAAAAXRSTlMAQObYZgAAAAlwSFlzAAAO\n",
       "xAAADsQBlSsOGwAAAEpJREFUCNdjYGDgPcAAArsmgKn2VDC1wBlE8lzgVABSnAo8AkDKjYFhNZBK\n",
       "YWDoYGDgBirfBdHMeICBCyjONIGhAqTJhMEaRPkCACemC8GDBfsjAAAAAElFTkSuQmCC\n",
       "\" style=\"display:inline;vertical-align:middle;\" /></a></td></tr>\n",
       "<tr><td>2</td><td>ExprTuple</td><td>3</td><td><a class=\"ProveItLink\" href=\"../63abc56de12aa9c95c2aa6f8d0462ac0c3624e2a0/expr.ipynb\"><img src=\"data:image/png;base64,iVBORw0KGgoAAAANSUhEUgAAAMMAAAAVBAMAAAAJNkerAAAAMFBMVEX////MzMxUVFREREQiIiK6\n",
       "uroQEBCYmJhmZmYyMjLu7u52dnaqqqqIiIjc3NwAAACFAiZ1AAAAAXRSTlMAQObYZgAAAAlwSFlz\n",
       "AAAOxAAADsQBlSsOGwAAAh9JREFUSMdjYGB4wEBDADac9wAtrYgFEadxSnOZOZBp8OIUGAvkAa4J\n",
       "uFVyNpDr+Blw1iwGBo4C3Ar5yQ7DP3BWBQMDGx6F8QvItIH1F5zJtoAhEo/KLeR6ghsRiZwFDN1A\n",
       "iq/73gVsKifd7cFv1Iu9b7FHou4NWBhzKzBMB1JhD5gRPmtxAQEnUIr6uWA93kzDmsdgvwCLRob1\n",
       "s7j+QUXZJzD4AI1KZ+BwYOCqRDeB5xcD/wVMYQRYVsDQglXi/AKGvzBDHBhSgYnqFwPLBgbZK+gK\n",
       "OSYwrN+AKYwA/QsYvLFKdDJw/YYyGT+ArGAzYFgfwMBwBEu2iD+AKYwAyQxcX3FkC1ZYsmVNYJgD\n",
       "DLkNDPUMcCsQQcpfAHInbiuALmX/wMDeLnsDPS6+A0MGKg4MKFugFQcYLHkeYJrFHwCMJbAwF6b5\n",
       "wGjm+sPAPOEce1gBG3qi+AqMJqg4uwHDJmCAXGD34MYSUEwFzA0Q4fUTQOkLmQEm5jKUNGx4dYWB\n",
       "Hz2LqjNYMEDFOS4whACV6258dBGLFVy9PdDwY/ECEh4gRgOUweAC1L7otpyuAIMuQxi6zhWgbAER\n",
       "Z3nAwCIAE8cR6GDhUxjCPHCXJzJ0M2LTCBF/AgyrBmKs2IBZRsAYfB8YXA9i0QcVbwcy7aBCr+f3\n",
       "YrMBLMyFWb6shWdxBYbb2EpriDifAaj6IKJYY8cUKiCuQGQGhSdfAQMNQR0DAwB3cZnN3dhW5wAA\n",
       "AABJRU5ErkJggg==\n",
       "\" style=\"display:inline;vertical-align:middle;\" /></a></td></tr>\n",
       "<tr><td>3</td><td>ExprRange</td><td>lambda_map:&nbsp;4<br>start_index:&nbsp;5<br>end_index:&nbsp;6<br></td><td><a class=\"ProveItLink\" href=\"../10de930428b44975e0eba583ceb4a91e4e7aabd50/expr.ipynb\"><img src=\"data:image/png;base64,iVBORw0KGgoAAAANSUhEUgAAANYAAAAVBAMAAADIsQ0HAAAAMFBMVEX////MzMxUVFREREQiIiK6\n",
       "uroQEBCYmJhmZmYyMjLu7u52dnaqqqqIiIjc3NwAAACFAiZ1AAAAAXRSTlMAQObYZgAAAAlwSFlz\n",
       "AAAOxAAADsQBlSsOGwAAAghJREFUSMeNlj1LA0EQhoeYz8vnH5D4BwQrQUFJkSKIhCASEITYSMBC\n",
       "IkHQyuuTYLCxEQxYh0QRbFOk0iaCpZGgpYV1rnJnd29zentzWbhjeHfyvHtzs3sBgAn4jZTPvD9B\n",
       "MpID37zQiJyegyAZL57TxmpORu8kxpvgQCDDaHtnxkw76BBWFGGGQEa05p2YtosTMQkcRZghkBEm\n",
       "EivqcY6ILIrgQDDGHpH4qKJrIosiOBCM0cB+bHxoO+1q3JTRA4GjCA4EY+CKy5MFS1U/z8cSvvRp\n",
       "pye3zjnh9Z/ggWCMbSZUIZoDw8VLWJAeCXlIeCmCZnCEjIdwyNZhQbAPi2+uBmtDry/kLOGlCLoe\n",
       "RYSMs5gZXoFeSbN2tjcqAyGXaS9J0G6vit31ZbgBdL5QdXIUO12Dy46QqRoqwtnJ2NQhpD6EDZY5\n",
       "gLXExM1Ll9h7EHId37Pbhm8eRTitwrEOIfU6dnNsFCnENWsP1BZMKbfY1WvLmzF1BoqQ6ubA0iBs\n",
       "vQW77CfL95+vGi+j1bTLV2RXcAtvWI2CHeTxwRQhMAod6BBSL0IwA6ontQPlFG/oZ3dLo5cihDPR\n",
       "fkZ3iHGdMWbHKuEljld3V8f/HMw/ENzXeQkdGZtS+b5t6ay4/MXr4T6FuvxuE3Yg+aRDCB0Zd3N8\n",
       "VNf5+t26+JrMQxCMVM03LUL/oZiDwBm/3yaqv7d5jHUAAAAASUVORK5CYII=\n",
       "\" style=\"display:inline;vertical-align:middle;\" /></a></td></tr>\n",
       "<tr><td>4</td><td>Lambda</td><td>parameter:&nbsp;14<br>body:&nbsp;7<br></td><td><a class=\"ProveItLink\" href=\"../671e5e319fb3228530143c7f7608c2fe9c8cd5a00/expr.ipynb\"><img src=\"data:image/png;base64,iVBORw0KGgoAAAANSUhEUgAAAH0AAAAVCAMAAABc+REgAAAANlBMVEX///8WFhYNDQ3MzMzc3NyY\n",
       "mJiIiIhUVFR2dna6urqqqqpmZmYyMjIiIiIQEBBERETu7u4AAADpXcuUAAAAAXRSTlMAQObYZgAA\n",
       "AAlwSFlzAAAOxAAADsQBlSsOGwAAAa9JREFUSMetVtuWgyAMZBcIl3D9/5/dgLVrLLWUIy9WO86E\n",
       "SUIU4tulxC1rjQb8PeoO+qXkFOdf8nZBaSixbyPgPE9Y2+lIIpR+qfNmol5TH0noHpGr5X2WT8WR\n",
       "FpM8lEjtoeWUDOe5Y27ReDusrNCMDIZUAHdVDuR3uNecQgsK5tNuAPDFfEvCpWrhvUp6qOfzS7TN\n",
       "g0QZySM7MR6W2e2sVGGlnltck5O+KueFDGqoLiAfNOIWf+mhYkfq+NkC3+OscEJ7IsCk5RH6+xPZ\n",
       "qtX918n2EztbtMdnl50SugH2hJaVSAJa+TbTVGgH/OPdlDtbv1F1sttd6zqGdqmTuCrfqctwTG7w\n",
       "4rkLvRHpLBTgdd6r3g1jaHK+kRQKC8bqgZVKhk29BZGD8PSnAeVLup4ZzaWtVhiaQjG50UnxPL9Z\n",
       "Gh2+9EgLqdcP9neSJVZ57bwhSO5MDI0gctsHIIzPO+S8bjOmGLBSGZAtkYjy43TAR7dzdPx2ysaz\n",
       "ErlHIc3SMLSK3x6Z+jyrDAgZxezYZeiFiZVP22xVabScPXEPaJVXPhTETSuXle8xfY+4bib+Acjq\n",
       "EVevNmJfAAAAAElFTkSuQmCC\n",
       "\" style=\"display:inline;vertical-align:middle;\" /></a></td></tr>\n",
       "<tr><td>5</td><td>Literal</td><td></td><td><a class=\"ProveItLink\" href=\"../../../../number/numeral/__pv_it/f086f8c372bd40a2458306ddfdbb29f3dc6f63030/expr.ipynb\"><img src=\"data:image/png;base64,iVBORw0KGgoAAAANSUhEUgAAAAgAAAAOBAMAAADgeEClAAAAIVBMVEX///8QEBBERESIiIgyMjJm\n",
       "ZmZUVFTu7u4iIiLMzMwAAAAWRytzAAAAAXRSTlMAQObYZgAAAAlwSFlzAAAOxAAADsQBlSsOGwAA\n",
       "ABtJREFUCNdjYOBsZ2AoC1nOwMDATBbBprgiGQBsuwqCZsDj4wAAAABJRU5ErkJggg==\n",
       "\" style=\"display:inline;vertical-align:middle;\" /></a></td></tr>\n",
       "<tr><td>6</td><td>Variable</td><td></td><td><a class=\"ProveItLink\" href=\"../0c1c4cb515e0f4344b1ac06650f349123e526deb0/expr.ipynb\"><img src=\"data:image/png;base64,iVBORw0KGgoAAAANSUhEUgAAAAwAAAAJBAMAAAD0ltBnAAAALVBMVEX///8iIiIyMjKqqqqYmJgQ\n",
       "EBDMzMzu7u5ERESIiIjc3NxUVFR2dna6uroAAABc6vguAAAAAXRSTlMAQObYZgAAAAlwSFlzAAAO\n",
       "xAAADsQBlSsOGwAAAEdJREFUCNdj4D296uROBgYejk6GugUMuawNDOsSGArqLjD4MTAw2DEw7ABS\n",
       "mxgYnrAzMMQwMD/gYeB6xsCj4MXAK8DA1WIAACOEDusgYYkuAAAAAElFTkSuQmCC\n",
       "\" style=\"display:inline;vertical-align:middle;\" /></a></td></tr>\n",
       "<tr><td>7</td><td>Operation</td><td>operator:&nbsp;8<br>operands:&nbsp;9<br></td><td><a class=\"ProveItLink\" href=\"../2c4646631775f7105bb8ab8fcc24bdc7dadfbbd60/expr.ipynb\"><img src=\"data:image/png;base64,iVBORw0KGgoAAAANSUhEUgAAAEMAAAARBAMAAAB0ogy8AAAAMFBMVEX////MzMxUVFQyMjKqqqoi\n",
       "IiKYmJju7u5EREQQEBC6urqIiIh2dnZmZmbc3NwAAAD0tjQRAAAAAXRSTlMAQObYZgAAAAlwSFlz\n",
       "AAAOxAAADsQBlSsOGwAAAOxJREFUKM9jYMAFKqYyEAS2hJV8IaiC6ztBJTwBcCbfnX0bsClh1t7r\n",
       "AGWufMCBMPJqKAgEgZj15uz/IILs0xh4AxjYojFM8S9g+M2QCrKA9zsD6wEGhlkYSi4zsP9h4FwA\n",
       "ZHE2MNQvYOD7gCVYuL4wvAdbeYAhn4GBreH1BTS3fANZkMG3F6jEgaGZ5QHTPvd5aKb8YqhMYNB+\n",
       "UvmAgXkDWywPA+cxBgE0JWoMvQwMcxIYgT7SPvhoI8P7u+gqGGqBwcL39yKcn8EV8ABL8LE1LOWD\n",
       "sbUZAw5gUcK0QZQHxrZjUBPAFgkPmBIZAEBCQA21wo3VAAAAAElFTkSuQmCC\n",
       "\" style=\"display:inline;vertical-align:middle;\" /></a></td></tr>\n",
       "<tr><td>8</td><td>Literal</td><td></td><td><a class=\"ProveItLink\" href=\"../../../../logic/equality/__pv_it/e16d2caa26a16688b658bdb9c422caf4b84579e10/expr.ipynb\"><img src=\"data:image/png;base64,iVBORw0KGgoAAAANSUhEUgAAAA4AAAAFBAMAAACHocAhAAAAD1BMVEX///9UVFQiIiJmZmYAAACP\n",
       "OqLZAAAAAXRSTlMAQObYZgAAAAlwSFlzAAAOxAAADsQBlSsOGwAAABJJREFUCNdjMFICAUUGXAAq\n",
       "DwAoFgH7Aeay4gAAAABJRU5ErkJggg==\n",
       "\" style=\"display:inline;vertical-align:middle;\" /></a></td></tr>\n",
       "<tr><td>9</td><td>ExprTuple</td><td>10, 11</td><td><a class=\"ProveItLink\" href=\"../b7fa098dce92413099995aee27bc0293f3da9a1a0/expr.ipynb\"><img src=\"data:image/png;base64,iVBORw0KGgoAAAANSUhEUgAAAD0AAAAVBAMAAAAHs/uBAAAAMFBMVEX////MzMxUVFREREQiIiK6\n",
       "uroQEBCYmJhmZmYyMjLu7u52dnaqqqqIiIjc3NwAAACFAiZ1AAAAAXRSTlMAQObYZgAAAAlwSFlz\n",
       "AAAOxAAADsQBlSsOGwAAAUdJREFUKM91Uj1Lw1AUPW3SJKYxyU9wcypkEhyUjCIKHURwkLqImwRc\n",
       "nLSbQhWDiyAiAX9AogiumesSf4AliKvY1Uzel/diE0PekHvOPbnvfj0AKZpOrszHjfou+7z+9+pL\n",
       "rkAsVPdrYXPDAt0CmlfTrb+Mx4BSTzsICqQE2Knrz7NMHkZkzNEkKenX7xcCdRdwQ2Y7lbJS/T9B\n",
       "KGai+tggxwE0F+qm0I0MVsKZ4WKfWsggR2AoP5qPMOKsNWVWcRD2YU5n7Q9izjp7uAP7+5RyOV98\n",
       "LpaHq4Azun+F9BjLRtqejA+hM71PBeWMYvBEFybqWhfKC2yENO22Jw05g5Zgi+rvPX684fucHPI6\n",
       "0UtqP2eQU8i2KOuo41LX4wr7pBTFsnotl5qMKuyM0Krw3GPRhp6UmekQeiivRq0sSmKLNL3G93UC\n",
       "/AKem1NpT2wK+gAAAABJRU5ErkJggg==\n",
       "\" style=\"display:inline;vertical-align:middle;\" /></a></td></tr>\n",
       "<tr><td>10</td><td>IndexedVar</td><td>variable:&nbsp;12<br>index:&nbsp;14<br></td><td><a class=\"ProveItLink\" href=\"../bdb36d98e06b2d7238514d5d837fadfa168b9f500/expr.ipynb\"><img src=\"data:image/png;base64,iVBORw0KGgoAAAANSUhEUgAAABQAAAAMBAMAAACQIoDIAAAAMFBMVEX////MzMxUVFQyMjKqqqoi\n",
       "IiKYmJju7u5EREQQEBC6urqIiIh2dnZmZmbc3NwAAAD0tjQRAAAAAXRSTlMAQObYZgAAAAlwSFlz\n",
       "AAAOxAAADsQBlSsOGwAAAHNJREFUCNdjYOC7s28DAwSsfMDxHcJin8bAG8DAFg1k8n5nYD3AwDAL\n",
       "yORsYKhfwMD3AcisP8CQz8DA1vD6AkO9A0MzywOmfe7zGJg3sMXyMHAeYxBgYNc++Ggjw/u7AlCz\n",
       "GTK4Ah5AmdqMAQegTDsGNQEA4bMctK/iHt8AAAAASUVORK5CYII=\n",
       "\" style=\"display:inline;vertical-align:middle;\" /></a></td></tr>\n",
       "<tr><td>11</td><td>IndexedVar</td><td>variable:&nbsp;13<br>index:&nbsp;14<br></td><td><a class=\"ProveItLink\" href=\"../7e5f0e5f20c99c4e14ed51ac0d2740136535f3340/expr.ipynb\"><img src=\"data:image/png;base64,iVBORw0KGgoAAAANSUhEUgAAABIAAAARBAMAAAAidOHKAAAAMFBMVEX////MzMyYmJjc3NyIiIhU\n",
       "VFR2dna6urqqqqpmZmYyMjIiIiIQEBBERETu7u4AAACIO4EmAAAAAXRSTlMAQObYZgAAAAlwSFlz\n",
       "AAAOxAAADsQBlSsOGwAAAHpJREFUCNdj4LuzgQEKuCbAWPwNMFb9AxgrG8ZgWOoyA8Lg+/XgvQGY\n",
       "xfGPgd+BaQuQxbmA4X0Cw3GIcfUNzB9AxikwzH/AdMFkAgN/Ad8hBlbnvsMMrAq8Exh4khgEGPim\n",
       "AI2znykANV2XfQPETIYQxg0JENZihiABADCWHXj2g+aOAAAAAElFTkSuQmCC\n",
       "\" style=\"display:inline;vertical-align:middle;\" /></a></td></tr>\n",
       "<tr><td>12</td><td>Variable</td><td></td><td><a class=\"ProveItLink\" href=\"../a8d4b3a34d2189508f9082853fbac36935714f280/expr.ipynb\"><img src=\"data:image/png;base64,iVBORw0KGgoAAAANSUhEUgAAAAsAAAAJBAMAAAAWSsseAAAAMFBMVEX////MzMxUVFQyMjKqqqoi\n",
       "IiKYmJju7u5EREQQEBC6urqIiIh2dnZmZmbc3NwAAAD0tjQRAAAAAXRSTlMAQObYZgAAAAlwSFlz\n",
       "AAAOxAAADsQBlSsOGwAAAEdJREFUCNdjYOC7s28DAwPDygcc3xkY2Kcx8AYwMPB+Z2A9wMDA2cBQ\n",
       "v4CBof4AQz5QRb0DQzPLAwbmDWyxPECV2gcfbWQAABp5EMgcedARAAAAAElFTkSuQmCC\n",
       "\" style=\"display:inline;vertical-align:middle;\" /></a></td></tr>\n",
       "<tr><td>13</td><td>Variable</td><td></td><td><a class=\"ProveItLink\" href=\"../53e304ff98ebc000dbe3ef224f4637dbafd46ba70/expr.ipynb\"><img src=\"data:image/png;base64,iVBORw0KGgoAAAANSUhEUgAAAAkAAAAOBAMAAAAPuiubAAAALVBMVEX///+YmJjc3NyIiIhUVFR2\n",
       "dna6urqqqqpmZmYyMjIiIiIQEBBERETu7u4AAAALjtrwAAAAAXRSTlMAQObYZgAAAAlwSFlzAAAO\n",
       "xAAADsQBlSsOGwAAAE5JREFUCNdj4D29gAEIOBtAJF8BiMy7ACKjQATDFON2BgbelxfuKTCwv2Xg\n",
       "M2DgmMBwLwCkPK+AgU+Aoe8CA18C70YGBhYBHqARvM1A5QCqGhDobJhHyAAAAABJRU5ErkJggg==\n",
       "\" style=\"display:inline;vertical-align:middle;\" /></a></td></tr>\n",
       "<tr><td>14</td><td>Variable</td><td></td><td><a class=\"ProveItLink\" href=\"../273f49450ca25e1b56abbd98a7aef618f8f6c1360/expr.ipynb\"><img src=\"data:image/png;base64,iVBORw0KGgoAAAANSUhEUgAAAAoAAAAOBAMAAADkjZCYAAAAMFBMVEX////MzMzc3NyYmJiIiIhU\n",
       "VFR2dna6urqqqqpmZmYyMjIiIiIQEBBERETu7u4AAADM1VnsAAAAAXRSTlMAQObYZgAAAAlwSFlz\n",
       "AAAOxAAADsQBlSsOGwAAAE9JREFUCNdj4LuzgQEIuCaASP4GEFn/AETmgAiGpQwt8xj4PnM0HWbg\n",
       "+FTBuIiB87AAUJh7ZSKQfF9QD+TYM7xvcGCIZXgvkMBwg4FlygMA76IUkutkA5UAAAAASUVORK5C\n",
       "YII=\n",
       "\" style=\"display:inline;vertical-align:middle;\" /></a></td></tr>\n",
       "</table>\n"
      ],
      "text/plain": [
       "0. (a_{1} = b_{1}) and  ...  and (a_{n} = b_{n})\n",
       "   core type: Operation\n",
       "   operator: 1\n",
       "   operands: 2\n",
       "1. and\n",
       "   core type: Literal\n",
       "   sub-expressions: \n",
       "2. (a_{1} = b_{1} ,  ...  , a_{n} = b_{n})\n",
       "   core type: ExprTuple\n",
       "   sub-expressions: 3\n",
       "3. (a_{1} = b_{1}),...,(a_{n} = b_{n})\n",
       "   core type: ExprRange\n",
       "   lambda_map: 4\n",
       "   start_index: 5\n",
       "   end_index: 6\n",
       "4. k -> (a_{k} = b_{k})\n",
       "   core type: Lambda\n",
       "   parameter: 14\n",
       "   body: 7\n",
       "5. 1\n",
       "   core type: Literal\n",
       "   sub-expressions: \n",
       "6. n\n",
       "   core type: Variable\n",
       "   sub-expressions: \n",
       "7. a_{k} = b_{k}\n",
       "   core type: Operation\n",
       "   operator: 8\n",
       "   operands: 9\n",
       "8. =\n",
       "   core type: Literal\n",
       "   sub-expressions: \n",
       "9. (a_{k} , b_{k})\n",
       "   core type: ExprTuple\n",
       "   sub-expressions: 10, 11\n",
       "10. a_{k}\n",
       "    core type: IndexedVar\n",
       "variable: 12\n",
       "index: 14\n",
       "11. b_{k}\n",
       "    core type: IndexedVar\n",
       "variable: 13\n",
       "index: 14\n",
       "12. a\n",
       "    core type: Variable\n",
       "    sub-expressions: \n",
       "13. b\n",
       "    core type: Variable\n",
       "    sub-expressions: \n",
       "14. k\n",
       "    core type: Variable\n",
       "    sub-expressions: "
      ]
     },
     "execution_count": 5,
     "metadata": {},
     "output_type": "execute_result"
    }
   ],
   "source": [
    "# display the expression information\n",
    "expr.exprInfo()"
   ]
  },
  {
   "cell_type": "code",
   "execution_count": null,
   "metadata": {},
   "outputs": [],
   "source": []
  }
 ],
 "metadata": {
  "kernelspec": {
   "display_name": "Python 3",
   "language": "python",
   "name": "python3"
  },
  "language_info": {
   "codemirror_mode": {
    "name": "ipython",
    "version": 3
   },
   "file_extension": ".py",
   "mimetype": "text/x-python",
   "name": "python",
   "nbconvert_exporter": "python",
   "pygments_lexer": "ipython3",
   "version": "3.7.4"
  }
 },
 "nbformat": 4,
 "nbformat_minor": 1
}
