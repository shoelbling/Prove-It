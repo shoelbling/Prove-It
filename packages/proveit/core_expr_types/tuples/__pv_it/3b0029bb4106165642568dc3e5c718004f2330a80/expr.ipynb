{
 "cells": [
  {
   "cell_type": "markdown",
   "metadata": {},
   "source": [
    "Expression of type <a class=\"ProveItLink\" href=\"../../../../../../doc/html/api/proveit.Conditional.html\">Conditional</a>\n",
    "=======================\n",
    "# from context <a class=\"ProveItLink\" href=\"../../_context_.ipynb\">proveit.core_expr_types.tuples</a>"
   ]
  },
  {
   "cell_type": "code",
   "execution_count": 1,
   "metadata": {},
   "outputs": [],
   "source": [
    "import proveit\n",
    "# Automation is not needed when building an expression:\n",
    "proveit.defaults.automation = False # This will speed things up.\n",
    "# import Expression classes needed to build the expression\n",
    "from proveit import Conditional, Variable\n",
    "from proveit.logic import And"
   ]
  },
  {
   "cell_type": "code",
   "execution_count": 2,
   "metadata": {},
   "outputs": [
    {
     "data": {
      "text/html": [
       "<strong id=\"expr\">expr:</strong> <a class=\"ProveItLink\" href=\"expr.ipynb\"><img src=\"data:image/png;base64,iVBORw0KGgoAAAANSUhEUgAAAHEAAAAVBAMAAACDNRyvAAAAMFBMVEX///8QEBBERERUVFTMzMyY\n",
       "mJjc3NxmZmYiIiJ2dnaqqqoyMjKIiIi6urru7u4AAAAvZeGPAAAAAXRSTlMAQObYZgAAAAlwSFlz\n",
       "AAAOxAAADsQBlSsOGwAAAd5JREFUOMuNlDtIw0AYx78+0nfTUtFBEFoQJ9EITqIgFgQnM6mDQ8Wh\n",
       "DoJZBK2CdVNBKbg4OHQSXCQiLkWki4NYoaOg0vgYurW4qSh+d5fLg0bokdx9d7lf8r/vEQAQn8Gp\n",
       "RXbG7UbG0rN2d2ZHhHs6BKt8gVmRIp08mRtDvxZqQQYoTVedyFMQU3njBXQ9byFrCgj5Rc3YHyxy\n",
       "S1QBwgoa186kCOCRLF+qq9zyo5oYec+sM4nNo1jImzFuuYgiIsaltUXmJ7j1iPcRWQ/LNjJ7vExs\n",
       "37nkHeqQDDJUCGd0ch3vi0oOZxIn/XiUaBcMUhEByXbOcCak6OQlOuFba2RAUDm5gl9/kWGNTtx2\n",
       "Mg1woJN7NH6xMoT46dL72G1psOtEDgNUdLKHqmsUwNvkcdhAmQkQfxxIEsO6SWI4a0WIxrla3Cx+\n",
       "gtB0IEke+IuMLGE4ZSLOUEt8K36BWz1pJQPE3Soj+5Gsip2Y1klrVK5gTilQMkkuTs6TsZeRhxhp\n",
       "2Y2e9pfJakNl5Nvt5CgpJW8q8Z76KHNygIxTjHxAl2zmSOBonQWU1hyyV4hhBfRqhaV/8/YfUtCT\n",
       "ElbN2o+3RUIfm/iSZmF1t0e+6kHUzC3ZEWfS+A9tU9LHamSGP/8DxKiHp1h4UrgAAAAASUVORK5C\n",
       "YII=\n",
       "\" style=\"display:inline;vertical-align:middle;\" /></a><br>"
      ],
      "text/plain": [
       "expr: {a if [and](b)."
      ]
     },
     "execution_count": 2,
     "metadata": {},
     "output_type": "execute_result"
    }
   ],
   "source": [
    "# build up the expression from sub-expressions\n",
    "expr = Conditional(Variable(\"a\"), And(Variable(\"b\")))"
   ]
  },
  {
   "cell_type": "code",
   "execution_count": 3,
   "metadata": {},
   "outputs": [
    {
     "name": "stdout",
     "output_type": "stream",
     "text": [
      "Passed sanity check: built 'expr' is the same as the stored Expression.\n"
     ]
    }
   ],
   "source": [
    "# check that the built expression is the same as the stored expression\n",
    "%check_expr"
   ]
  },
  {
   "cell_type": "code",
   "execution_count": 4,
   "metadata": {},
   "outputs": [
    {
     "name": "stdout",
     "output_type": "stream",
     "text": [
      "\\left\\{a \\textrm{ if } \\left[\\land\\right]\\left(b\\right)\\right..\n"
     ]
    }
   ],
   "source": [
    "# Show the LaTeX representation of the expression for convenience if you need it.\n",
    "print(expr.latex())"
   ]
  },
  {
   "cell_type": "code",
   "execution_count": 5,
   "metadata": {},
   "outputs": [
    {
     "data": {
      "text/html": [
       "<table><tr><th>&nbsp;</th><th>core type</th><th>sub-expressions</th><th>expression</th></tr>\n",
       "<tr><td>0</td><td>Conditional</td><td>value:&nbsp;1<br>condition:&nbsp;2<br></td><td><a class=\"ProveItLink\" href=\"expr.ipynb\"><img src=\"data:image/png;base64,iVBORw0KGgoAAAANSUhEUgAAAHEAAAAVBAMAAACDNRyvAAAAMFBMVEX///8QEBBERERUVFTMzMyY\n",
       "mJjc3NxmZmYiIiJ2dnaqqqoyMjKIiIi6urru7u4AAAAvZeGPAAAAAXRSTlMAQObYZgAAAAlwSFlz\n",
       "AAAOxAAADsQBlSsOGwAAAd5JREFUOMuNlDtIw0AYx78+0nfTUtFBEFoQJ9EITqIgFgQnM6mDQ8Wh\n",
       "DoJZBK2CdVNBKbg4OHQSXCQiLkWki4NYoaOg0vgYurW4qSh+d5fLg0bokdx9d7lf8r/vEQAQn8Gp\n",
       "RXbG7UbG0rN2d2ZHhHs6BKt8gVmRIp08mRtDvxZqQQYoTVedyFMQU3njBXQ9byFrCgj5Rc3YHyxy\n",
       "S1QBwgoa186kCOCRLF+qq9zyo5oYec+sM4nNo1jImzFuuYgiIsaltUXmJ7j1iPcRWQ/LNjJ7vExs\n",
       "37nkHeqQDDJUCGd0ch3vi0oOZxIn/XiUaBcMUhEByXbOcCak6OQlOuFba2RAUDm5gl9/kWGNTtx2\n",
       "Mg1woJN7NH6xMoT46dL72G1psOtEDgNUdLKHqmsUwNvkcdhAmQkQfxxIEsO6SWI4a0WIxrla3Cx+\n",
       "gtB0IEke+IuMLGE4ZSLOUEt8K36BWz1pJQPE3Soj+5Gsip2Y1klrVK5gTilQMkkuTs6TsZeRhxhp\n",
       "2Y2e9pfJakNl5Nvt5CgpJW8q8Z76KHNygIxTjHxAl2zmSOBonQWU1hyyV4hhBfRqhaV/8/YfUtCT\n",
       "ElbN2o+3RUIfm/iSZmF1t0e+6kHUzC3ZEWfS+A9tU9LHamSGP/8DxKiHp1h4UrgAAAAASUVORK5C\n",
       "YII=\n",
       "\" style=\"display:inline;vertical-align:middle;\" /></a></td></tr>\n",
       "<tr><td>1</td><td>Variable</td><td></td><td><a class=\"ProveItLink\" href=\"../a8d4b3a34d2189508f9082853fbac36935714f280/expr.ipynb\"><img src=\"data:image/png;base64,iVBORw0KGgoAAAANSUhEUgAAAAsAAAAJBAMAAAAWSsseAAAAMFBMVEX////MzMxUVFQyMjKqqqoi\n",
       "IiKYmJju7u5EREQQEBC6urqIiIh2dnZmZmbc3NwAAAD0tjQRAAAAAXRSTlMAQObYZgAAAAlwSFlz\n",
       "AAAOxAAADsQBlSsOGwAAAEdJREFUCNdjYOC7s28DAwPDygcc3xkY2Kcx8AYwMPB+Z2A9wMDA2cBQ\n",
       "v4CBof4AQz5QRb0DQzPLAwbmDWyxPECV2gcfbWQAABp5EMgcedARAAAAAElFTkSuQmCC\n",
       "\" style=\"display:inline;vertical-align:middle;\" /></a></td></tr>\n",
       "<tr><td>2</td><td>Operation</td><td>operator:&nbsp;3<br>operand:&nbsp;4<br></td><td><a class=\"ProveItLink\" href=\"../ebd74c747dbe5a8d3e5ed54ed06201a5bc3293e30/expr.ipynb\"><img src=\"data:image/png;base64,iVBORw0KGgoAAAANSUhEUgAAADIAAAAVBAMAAAD2uKAMAAAAMFBMVEX///8QEBBmZmbc3NxERERU\n",
       "VFSYmJgyMjLu7u6qqqq6urp2dnbMzMwiIiKIiIgAAAD/pI0GAAAAAXRSTlMAQObYZgAAAAlwSFlz\n",
       "AAAOxAAADsQBlSsOGwAAAR9JREFUKM9jeHuHAQKgDGY4uYsBBiCsl2CS6wGGDOcGhhZZiAIwfydc\n",
       "ph2Ii4CYvQHM57gOl1ED4p9AzKYA5vOlLoDJCADt+AFiSID5vDwOUBmuAgYG7gsgmTIwfzZDMVSG\n",
       "aQPQirhHExgYtoL5xQyToDLsCQwM/RUcnxkY0kF8ngAG3gaIDC9Q9fwGhn8MDHNBfNYDDHxQnzEC\n",
       "naLOwPGbgeE8iA/0A8cFhEwRAxfQ3QtBfJA/NaH2AE37xsD0A2oayJXmEBkWoKm/GBqB7kgB8tke\n",
       "gIQOgGW4AxgYwhicgCw9IJ8F6C4Gng0QnwL1N4G8w3AZPaxhscV8AV0mCcphSkCXYTGAcEwwYo7D\n",
       "AcLxYGDYC08HUmDKDEyyGTAAAAr9VyDr9RZMAAAAAElFTkSuQmCC\n",
       "\" style=\"display:inline;vertical-align:middle;\" /></a></td></tr>\n",
       "<tr><td>3</td><td>Literal</td><td></td><td><a class=\"ProveItLink\" href=\"../../../../logic/boolean/conjunction/__pv_it/f41cc6b553210927c09f19a8a39cdf860a5585930/expr.ipynb\"><img src=\"data:image/png;base64,iVBORw0KGgoAAAANSUhEUgAAAAwAAAANBAMAAABvB5JxAAAALVBMVEX///9mZmbc3NxERETMzMy6\n",
       "urpUVFSYmJiIiIgyMjIiIiLu7u6qqqp2dnYAAACMfHT6AAAAAXRSTlMAQObYZgAAAAlwSFlzAAAO\n",
       "xAAADsQBlSsOGwAAAEpJREFUCNdjYGDgPcAAArsmgKn2VDC1wBlE8lzgVABSnAo8AkDKjYFhNZBK\n",
       "YWDoYGDgBirfBdHMeICBCyjONIGhAqTJhMEaRPkCACemC8GDBfsjAAAAAElFTkSuQmCC\n",
       "\" style=\"display:inline;vertical-align:middle;\" /></a></td></tr>\n",
       "<tr><td>4</td><td>Variable</td><td></td><td><a class=\"ProveItLink\" href=\"../53e304ff98ebc000dbe3ef224f4637dbafd46ba70/expr.ipynb\"><img src=\"data:image/png;base64,iVBORw0KGgoAAAANSUhEUgAAAAkAAAAOBAMAAAAPuiubAAAALVBMVEX///+YmJjc3NyIiIhUVFR2\n",
       "dna6urqqqqpmZmYyMjIiIiIQEBBERETu7u4AAAALjtrwAAAAAXRSTlMAQObYZgAAAAlwSFlzAAAO\n",
       "xAAADsQBlSsOGwAAAE5JREFUCNdj4D29gAEIOBtAJF8BiMy7ACKjQATDFON2BgbelxfuKTCwv2Xg\n",
       "M2DgmMBwLwCkPK+AgU+Aoe8CA18C70YGBhYBHqARvM1A5QCqGhDobJhHyAAAAABJRU5ErkJggg==\n",
       "\" style=\"display:inline;vertical-align:middle;\" /></a></td></tr>\n",
       "</table>\n"
      ],
      "text/plain": [
       "0. {a if [and](b).\n",
       "   core type: Conditional\n",
       "   value: 1\n",
       "   condition: 2\n",
       "1. a\n",
       "   core type: Variable\n",
       "   sub-expressions: \n",
       "2. [and](b)\n",
       "   core type: Operation\n",
       "   operator: 3\n",
       "   operand: 4\n",
       "3. and\n",
       "   core type: Literal\n",
       "   sub-expressions: \n",
       "4. b\n",
       "   core type: Variable\n",
       "   sub-expressions: "
      ]
     },
     "execution_count": 5,
     "metadata": {},
     "output_type": "execute_result"
    }
   ],
   "source": [
    "# display the expression information\n",
    "expr.exprInfo()"
   ]
  },
  {
   "cell_type": "code",
   "execution_count": null,
   "metadata": {},
   "outputs": [],
   "source": []
  }
 ],
 "metadata": {
  "kernelspec": {
   "display_name": "Python 3",
   "language": "python",
   "name": "python3"
  },
  "language_info": {
   "codemirror_mode": {
    "name": "ipython",
    "version": 3
   },
   "file_extension": ".py",
   "mimetype": "text/x-python",
   "name": "python",
   "nbconvert_exporter": "python",
   "pygments_lexer": "ipython3",
   "version": "3.7.4"
  }
 },
 "nbformat": 4,
 "nbformat_minor": 1
}
