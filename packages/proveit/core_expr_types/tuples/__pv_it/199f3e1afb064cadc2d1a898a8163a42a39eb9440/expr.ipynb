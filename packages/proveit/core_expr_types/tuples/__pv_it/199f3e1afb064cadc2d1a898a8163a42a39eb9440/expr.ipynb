{
 "cells": [
  {
   "cell_type": "markdown",
   "metadata": {},
   "source": [
    "Expression of type <a class=\"ProveItLink\" href=\"../../../../../../doc/html/api/proveit.logic.And.html\">And</a>\n",
    "=======================\n",
    "# from context <a class=\"ProveItLink\" href=\"../../_context_.ipynb\">proveit.core_expr_types.tuples</a>"
   ]
  },
  {
   "cell_type": "code",
   "execution_count": 1,
   "metadata": {},
   "outputs": [],
   "source": [
    "import proveit\n",
    "# Automation is not needed when building an expression:\n",
    "proveit.defaults.automation = False # This will speed things up.\n",
    "# import Expression classes needed to build the expression\n",
    "from proveit import IndexedVar, Variable\n",
    "from proveit.logic import And, Equals\n",
    "from proveit.number import one"
   ]
  },
  {
   "cell_type": "code",
   "execution_count": 2,
   "metadata": {},
   "outputs": [
    {
     "data": {
      "text/html": [
       "<strong id=\"expr\">expr:</strong> <a class=\"ProveItLink\" href=\"../9a8d9e5d02bcf5ed122388b708c42a5538a9bc200/expr.ipynb\"><img src=\"data:image/png;base64,iVBORw0KGgoAAAANSUhEUgAAALEAAAAVBAMAAAD7ihIOAAAAMFBMVEX////MzMxUVFREREQiIiK6\n",
       "uroQEBCYmJhmZmYyMjLu7u52dnaqqqqIiIjc3NwAAACFAiZ1AAAAAXRSTlMAQObYZgAAAAlwSFlz\n",
       "AAAOxAAADsQBlSsOGwAAAj9JREFUOMuNVT1oVEEQ/sLd8/3ceQQtAxoLsQqcnQTUp1ipiIUELISA\n",
       "2ljIgRZJoVwREBHxdUo44dAQk8qQzkK4wk7Q6xQ08EBBGyFNUOIp7uzs7l3m7eV88O0s3zczNze7\n",
       "bx6AHAo1eB7NFhWvr4ikZW+HEHSLMrNF5fPozFdoecvwuBtWKtW1oQmfX3NFAUnGiNvSzbJWqXTY\n",
       "ru5S6xO7WQSiBiNsSi/LWmUpY3tvl8w9u5kD9oCBG9LLsUb5cJjt7PDEwbYLbuOyMgQ8lm6ONUq6\n",
       "n6Oz4Zkrqd3FDTxQhoB16ebYdXNwsb5LER3g99c/fJnjqY/mMCqT/aLmddgZ/UxikJ3nqLzaNNUg\n",
       "uImT7sQXdMhp2r5cTP4yGWY4rwwBb2QBjmVlH3CWbFlVtdzAAvCi0Jf3bfxhupriujIEHJRujmXl\n",
       "ELChz+Yi8KiNcxjbSGXIfSS/mR7b7Gee8WaesQrd7iWb+SqSLV1X4ToHPaaDWbSUabluDPa5taMb\n",
       "9J5EdDxxRxWGcNNlHujzT0TbTKvluDIE3JIFOFYrZRpF1MFSF0kPpeydp+YtOgFNh/X+tXoo3Ryr\n",
       "lTu0HOX7hKe43VzzZD6CY+avRF1cUoaAC9LNsVqZpmWCOqgCn306MDXuybxC11nT5RzlcWjUCm6W\n",
       "lcopN/RS74uo6a/9mUPzZ+djWanM/U9mGlsnGF+KLoaVSik3n5ZXvzyfC6ZrdZrWjGnPHGdWKkl9\n",
       "9DelRO9+rUEIc8+va7aofBud+S7wD7jhnUjizlKbAAAAAElFTkSuQmCC\n",
       "\" style=\"display:inline;vertical-align:middle;\" /></a><br>"
      ],
      "text/plain": [
       "expr: (() = ()) and (a_{1} = b_{1})"
      ]
     },
     "execution_count": 2,
     "metadata": {},
     "output_type": "execute_result"
    }
   ],
   "source": [
    "# build up the expression from sub-expressions\n",
    "subExpr1 = []\n",
    "expr = And(Equals(subExpr1, subExpr1), Equals(IndexedVar(Variable(\"a\"), one), IndexedVar(Variable(\"b\"), one)))"
   ]
  },
  {
   "cell_type": "code",
   "execution_count": 3,
   "metadata": {},
   "outputs": [
    {
     "name": "stdout",
     "output_type": "stream",
     "text": [
      "Passed sanity check: built 'expr' is the same as the stored Expression.\n"
     ]
    }
   ],
   "source": [
    "# check that the built expression is the same as the stored expression\n",
    "%check_expr"
   ]
  },
  {
   "cell_type": "code",
   "execution_count": 4,
   "metadata": {},
   "outputs": [
    {
     "name": "stdout",
     "output_type": "stream",
     "text": [
      "\\left(() = ()\\right) \\land \\left(a_{1} = b_{1}\\right)\n"
     ]
    }
   ],
   "source": [
    "# Show the LaTeX representation of the expression for convenience if you need it.\n",
    "print(expr.latex())"
   ]
  },
  {
   "cell_type": "code",
   "execution_count": 5,
   "metadata": {},
   "outputs": [
    {
     "data": {
      "text/html": [
       "<table><tr><th>&nbsp;</th><th>core type</th><th>sub-expressions</th><th>expression</th></tr>\n",
       "<tr><td>0</td><td>Operation</td><td>operator:&nbsp;1<br>operands:&nbsp;2<br></td><td><a class=\"ProveItLink\" href=\"../9a8d9e5d02bcf5ed122388b708c42a5538a9bc200/expr.ipynb\"><img src=\"data:image/png;base64,iVBORw0KGgoAAAANSUhEUgAAALEAAAAVBAMAAAD7ihIOAAAAMFBMVEX////MzMxUVFREREQiIiK6\n",
       "uroQEBCYmJhmZmYyMjLu7u52dnaqqqqIiIjc3NwAAACFAiZ1AAAAAXRSTlMAQObYZgAAAAlwSFlz\n",
       "AAAOxAAADsQBlSsOGwAAAj9JREFUOMuNVT1oVEEQ/sLd8/3ceQQtAxoLsQqcnQTUp1ipiIUELISA\n",
       "2ljIgRZJoVwREBHxdUo44dAQk8qQzkK4wk7Q6xQ08EBBGyFNUOIp7uzs7l3m7eV88O0s3zczNze7\n",
       "bx6AHAo1eB7NFhWvr4ikZW+HEHSLMrNF5fPozFdoecvwuBtWKtW1oQmfX3NFAUnGiNvSzbJWqXTY\n",
       "ru5S6xO7WQSiBiNsSi/LWmUpY3tvl8w9u5kD9oCBG9LLsUb5cJjt7PDEwbYLbuOyMgQ8lm6ONUq6\n",
       "n6Oz4Zkrqd3FDTxQhoB16ebYdXNwsb5LER3g99c/fJnjqY/mMCqT/aLmddgZ/UxikJ3nqLzaNNUg\n",
       "uImT7sQXdMhp2r5cTP4yGWY4rwwBb2QBjmVlH3CWbFlVtdzAAvCi0Jf3bfxhupriujIEHJRujmXl\n",
       "ELChz+Yi8KiNcxjbSGXIfSS/mR7b7Gee8WaesQrd7iWb+SqSLV1X4ToHPaaDWbSUabluDPa5taMb\n",
       "9J5EdDxxRxWGcNNlHujzT0TbTKvluDIE3JIFOFYrZRpF1MFSF0kPpeydp+YtOgFNh/X+tXoo3Ryr\n",
       "lTu0HOX7hKe43VzzZD6CY+avRF1cUoaAC9LNsVqZpmWCOqgCn306MDXuybxC11nT5RzlcWjUCm6W\n",
       "lcopN/RS74uo6a/9mUPzZ+djWanM/U9mGlsnGF+KLoaVSik3n5ZXvzyfC6ZrdZrWjGnPHGdWKkl9\n",
       "9DelRO9+rUEIc8+va7aofBud+S7wD7jhnUjizlKbAAAAAElFTkSuQmCC\n",
       "\" style=\"display:inline;vertical-align:middle;\" /></a></td></tr>\n",
       "<tr><td>1</td><td>Literal</td><td></td><td><a class=\"ProveItLink\" href=\"../../../../logic/boolean/conjunction/__pv_it/f41cc6b553210927c09f19a8a39cdf860a5585930/expr.ipynb\"><img src=\"data:image/png;base64,iVBORw0KGgoAAAANSUhEUgAAAAwAAAANBAMAAABvB5JxAAAALVBMVEX///9mZmbc3NxERETMzMy6\n",
       "urpUVFSYmJiIiIgyMjIiIiLu7u6qqqp2dnYAAACMfHT6AAAAAXRSTlMAQObYZgAAAAlwSFlzAAAO\n",
       "xAAADsQBlSsOGwAAAEpJREFUCNdjYGDgPcAAArsmgKn2VDC1wBlE8lzgVABSnAo8AkDKjYFhNZBK\n",
       "YWDoYGDgBirfBdHMeICBCyjONIGhAqTJhMEaRPkCACemC8GDBfsjAAAAAElFTkSuQmCC\n",
       "\" style=\"display:inline;vertical-align:middle;\" /></a></td></tr>\n",
       "<tr><td>2</td><td>ExprTuple</td><td>3, 4</td><td><a class=\"ProveItLink\" href=\"../1b624750ad57eb85f08c6ab4b0ff81b5a71053890/expr.ipynb\"><img src=\"data:image/png;base64,iVBORw0KGgoAAAANSUhEUgAAAJMAAAAVBAMAAACwIsHjAAAAMFBMVEX////MzMxUVFREREQiIiK6\n",
       "uroQEBCYmJhmZmYyMjLu7u52dnaqqqqIiIjc3NwAAACFAiZ1AAAAAXRSTlMAQObYZgAAAAlwSFlz\n",
       "AAAOxAAADsQBlSsOGwAAAcZJREFUOMuNlL9Lw0AUx7/SxrSxBv8CdXMqdBRBLdJNcRLBQRDUxUEC\n",
       "OugiDoKIiN2UUiEoqIsobg5CBzdBHQUVCjq4CF3EX1W8d5ekyeUNffDNu3zy5b3L5XIAqhCywQRP\n",
       "2aAiaK+QjLv4Y57yMUmXa6XH+GOeRuJgJmgLWEWltKvbeKrFrj8oASlHyVzVXTzVou4PloBWKGFO\n",
       "d/E0GsZ34HYxIRIJO7qNp9Foy/ujtINNkUg4120R+nr5xpVKZ+8rXtFu2Va2XpbrU5DRjQgVLzKP\n",
       "weALrEnPEA1PS9afgmYRIyKRcKV3DNNDB2vAUVH33Lr4VTiTx6xIJHTptjDddjGMlqe87tmA9aNw\n",
       "S61Rapwt5dFpWO+yc2xbGXWFjSmURSoHrxJeqwYVrWHWglKhtfpA6lthcekXiYQFvaNPxXJbdSSK\n",
       "N8ys3mkVJTZz8mvLL76l2zxqfYm0h8XVM6ZUD3q9yabuMCYSCaO6zacFMa39h85sB1PqmLaVxMkq\n",
       "kh2QsmM2n2aCDRUv1cAv6ocl0c8bDZ+2oZlS60IDSs9xi0dP/Hv74pM7CiW2c3R6KfUx55qiTjOn\n",
       "aIJWwXZIZpVpx1I+VoB/QvJ/Bm058FEAAAAASUVORK5CYII=\n",
       "\" style=\"display:inline;vertical-align:middle;\" /></a></td></tr>\n",
       "<tr><td>3</td><td>Operation</td><td>operator:&nbsp;6<br>operands:&nbsp;5<br></td><td><a class=\"ProveItLink\" href=\"../15ecdb6055860c8602f669812e4fca8f86908e400/expr.ipynb\"><img src=\"data:image/png;base64,iVBORw0KGgoAAAANSUhEUgAAADgAAAAVBAMAAADhmjDFAAAAMFBMVEX////MzMxUVFREREQiIiK6\n",
       "uroQEBCYmJhmZmYyMjLu7u52dnaqqqqIiIjc3NwAAACFAiZ1AAAAAXRSTlMAQObYZgAAAAlwSFlz\n",
       "AAAOxAAADsQBlSsOGwAAALhJREFUKM9jYGB4wMeABUBEeQ+wXsCUg4qeZmC4gykJEeWawMDAuQBd\n",
       "DirKUcDAwN6ALgkVZQOxs9AloaKRIGo6uiRUtBtEbUKXhIqCNVWC7XEBAwW4UZUMPiDqCLpOqGgq\n",
       "iJJHl4SKgqkwrJJhDHPgxiLbCRW1BVHF6DqhomBf9KJLQkVDQJQfuiRUlEWAgYHPAV0SKgoKdFAw\n",
       "owKYqB0Dw2PM+ISKLmZgsMKUhIryFbA/wJQEiwIAAZot1Uhm2OgAAAAASUVORK5CYII=\n",
       "\" style=\"display:inline;vertical-align:middle;\" /></a></td></tr>\n",
       "<tr><td>4</td><td>Operation</td><td>operator:&nbsp;6<br>operands:&nbsp;7<br></td><td><a class=\"ProveItLink\" href=\"../84b7496912bf52913855adafee4ab14f07b8b05a0/expr.ipynb\"><img src=\"data:image/png;base64,iVBORw0KGgoAAAANSUhEUgAAAEAAAAARBAMAAACflbe/AAAAMFBMVEX////MzMxUVFQyMjKqqqoi\n",
       "IiKYmJju7u5EREQQEBC6urqIiIh2dnZmZmbc3NwAAAD0tjQRAAAAAXRSTlMAQObYZgAAAAlwSFlz\n",
       "AAAOxAAADsQBlSsOGwAAALhJREFUKM9jYMAB2DsDGPAD5gsEFPA7EFCwvoCAgqMwBt+dfRuwKTDa\n",
       "fQXCWPmA4ztMkDcUDBRAvvhcUP8A7J1pDLwBDOzJ6AawfGfg3wAS5v3OwHqAQXorugJeA4b6AyBh\n",
       "zgaG+gUMDK5YgmG9A0i4/gBDPgNMAZIb+BMY7heAFTgwNLM8wDSBfwHQdSBh5g1ssTxYrGBK4LgA\n",
       "FmbXPvhoIxYF7LevMCALu2IPTuIVvLG/jU0eKAwAQUgyxtN9cbAAAAAASUVORK5CYII=\n",
       "\" style=\"display:inline;vertical-align:middle;\" /></a></td></tr>\n",
       "<tr><td>5</td><td>ExprTuple</td><td>8, 8</td><td><a class=\"ProveItLink\" href=\"../cdfdce0cc4756bd53a0ed5e4851f4a6e26279c9b0/expr.ipynb\"><img src=\"data:image/png;base64,iVBORw0KGgoAAAANSUhEUgAAADUAAAAVBAMAAAAUZLt1AAAAMFBMVEX////MzMxUVFREREQiIiK6\n",
       "uroQEBCYmJhmZmYyMjLu7u52dnaqqqqIiIjc3NwAAACFAiZ1AAAAAXRSTlMAQObYZgAAAAlwSFlz\n",
       "AAAOxAAADsQBlSsOGwAAARtJREFUKM9N0r9Kw1AUBvBP0jR/qsE30EfoLCgVHEUcRHAQurg4BVx0\n",
       "EbcOInQrSIeCk4NQ+gQd3Fz6AB0CCq6ubv2+c25CCr+bQ77ck5tDAVSgAs2v8Dsqd5YSr5psjWuu\n",
       "gi+3rqPteXgcyMcum4XsnV5dWrrkKWQjunddONyGbKgbM3PFUjDxKGZ/ZKV5ZilYeJbOufT2zaTe\n",
       "8uCZtiAZm1OWgk/POkt9x8DcsBTsedY957L1Z5rsspXFQzNlOW31zFo9D1kK7gCNJtJgk75Z1Md/\n",
       "Qf4fjo90ZS5YCs6AE26MBzpsZTq7MIVeoabH9OM0Y9G8ewhzHgVH7puXD2VRhYJHEby5A140LuR9\n",
       "ROwtKEpJquY/8YtHrrQBb6VGBTB+6p4AAAAASUVORK5CYII=\n",
       "\" style=\"display:inline;vertical-align:middle;\" /></a></td></tr>\n",
       "<tr><td>6</td><td>Literal</td><td></td><td><a class=\"ProveItLink\" href=\"../../../../logic/equality/__pv_it/e16d2caa26a16688b658bdb9c422caf4b84579e10/expr.ipynb\"><img src=\"data:image/png;base64,iVBORw0KGgoAAAANSUhEUgAAAA4AAAAFBAMAAACHocAhAAAAD1BMVEX///9UVFQiIiJmZmYAAACP\n",
       "OqLZAAAAAXRSTlMAQObYZgAAAAlwSFlzAAAOxAAADsQBlSsOGwAAABJJREFUCNdjMFICAUUGXAAq\n",
       "DwAoFgH7Aeay4gAAAABJRU5ErkJggg==\n",
       "\" style=\"display:inline;vertical-align:middle;\" /></a></td></tr>\n",
       "<tr><td>7</td><td>ExprTuple</td><td>9, 10</td><td><a class=\"ProveItLink\" href=\"../8c1ff783e42df733a28fd6fede9af28f5489ccb50/expr.ipynb\"><img src=\"data:image/png;base64,iVBORw0KGgoAAAANSUhEUgAAADwAAAAVBAMAAADocZC/AAAAMFBMVEX////MzMxUVFREREQiIiK6\n",
       "uroQEBCYmJhmZmYyMjLu7u52dnaqqqqIiIjc3NwAAACFAiZ1AAAAAXRSTlMAQObYZgAAAAlwSFlz\n",
       "AAAOxAAADsQBlSsOGwAAATRJREFUKM9jYGB4wIAD8IEI3gO4pFkvAInT6KKLU2CsOwwMXBMwdM2A\n",
       "MTgXMHAUYEj/gTHYGxjYMK38BWdmMURiSHM7wJnTGbpBPui+dwEhzal7A+aZTUAFDAxhD5gRBjKs\n",
       "n8X1D8qsZPABOj6dgcOBgasSKnZ+AcNfhuVgDx1hSGVg4PjFwLKBQfYKVLqTges3412wA+RB0mwG\n",
       "DOsDQEph3mb9w8ADlg5jmAO0bANDPQNC+jvIOIj0EQZboPQBBkueB2DpBUD8lWFZAVS6GOh2Bs4L\n",
       "7B7cYN1cP4Fi6gwWDFDpXoYQoKDuxkcXIYa7ALWvAHkbIu3HwCIA8y9ImmcBlAOW5nMABTuSNDcD\n",
       "sjQouuygAq/n9zIwrIUllJ0/gMH8GBT7yNGBGrtWIIUFuBIT+wMGAAQaTf3wTINGAAAAAElFTkSu\n",
       "QmCC\n",
       "\" style=\"display:inline;vertical-align:middle;\" /></a></td></tr>\n",
       "<tr><td>8</td><td>ExprTuple</td><td></td><td><a class=\"ProveItLink\" href=\"../932ad914fbc084fb83cd7cce8742c2c1338987a00/expr.ipynb\"><img src=\"data:image/png;base64,iVBORw0KGgoAAAANSUhEUgAAAAwAAAAVBAMAAACAghKHAAAAMFBMVEX////MzMxUVFREREQiIiK6\n",
       "uroQEBCYmJhmZmYyMjLu7u52dnaqqqqIiIjc3NwAAACFAiZ1AAAAAXRSTlMAQObYZgAAAAlwSFlz\n",
       "AAAOxAAADsQBlSsOGwAAAHRJREFUCNdjYGB4wMcABLwHWC8AqdMMDHcYGLgmMDBwLmDgKGBgYG9g\n",
       "YAPJZzFEgqjpDN0gahOQAQSVDD4g6ghDKoiSh1BhDHMggrYgqhioFgh6GUJAlB8DiwADA58DyFiw\n",
       "8XYMDI+B4osZGKyAFF8B+wMGAFwSFSv4L9l8AAAAAElFTkSuQmCC\n",
       "\" style=\"display:inline;vertical-align:middle;\" /></a></td></tr>\n",
       "<tr><td>9</td><td>IndexedVar</td><td>variable:&nbsp;11<br>index:&nbsp;13<br></td><td><a class=\"ProveItLink\" href=\"../9a40ff58b463a2666f899556365b4f1fbbf06d1e0/expr.ipynb\"><img src=\"data:image/png;base64,iVBORw0KGgoAAAANSUhEUgAAABIAAAAMBAMAAACdPPCPAAAAMFBMVEX////MzMxUVFQyMjKqqqoi\n",
       "IiKYmJju7u5EREQQEBC6urqIiIh2dnZmZmbc3NwAAAD0tjQRAAAAAXRSTlMAQObYZgAAAAlwSFlz\n",
       "AAAOxAAADsQBlSsOGwAAAFhJREFUCNdjYOC7s28DAxisfMDxHcxgn8bAG8DAnszAwPudgfUAg/RW\n",
       "BgbOBob6BQwMrgwM9QcY8hkgLAeGZpYHIBbzBrZYHrAYu/bBRxvBLCjAwnpjfxsAzcYV6xabhrcA\n",
       "AAAASUVORK5CYII=\n",
       "\" style=\"display:inline;vertical-align:middle;\" /></a></td></tr>\n",
       "<tr><td>10</td><td>IndexedVar</td><td>variable:&nbsp;12<br>index:&nbsp;13<br></td><td><a class=\"ProveItLink\" href=\"../dc1e9f01f9f6fd903e7d1dfadb4f758b51a6e7830/expr.ipynb\"><img src=\"data:image/png;base64,iVBORw0KGgoAAAANSUhEUgAAABAAAAARBAMAAAAmgTH3AAAAMFBMVEX////MzMyYmJjc3NyIiIhU\n",
       "VFR2dna6urqqqqpmZmYyMjIiIiIQEBBERETu7u4AAACIO4EmAAAAAXRSTlMAQObYZgAAAAlwSFlz\n",
       "AAAOxAAADsQBlSsOGwAAAGBJREFUCNdj4LuzgQECuCZAGfwNUEb9AygjG0ozLHWZAab5fj14bwBi\n",
       "cPxj4Hfg02Jg4FzA8D5BxBtsTH0DQzfQGAWG+Q/AjAK+QwwgBqsC7wQwg28KyJhumKkYDLP1UwBT\n",
       "UBjSwULeiAAAAABJRU5ErkJggg==\n",
       "\" style=\"display:inline;vertical-align:middle;\" /></a></td></tr>\n",
       "<tr><td>11</td><td>Variable</td><td></td><td><a class=\"ProveItLink\" href=\"../../../__pv_it/a8d4b3a34d2189508f9082853fbac36935714f280/expr.ipynb\"><img src=\"data:image/png;base64,iVBORw0KGgoAAAANSUhEUgAAAAsAAAAJBAMAAAAWSsseAAAAMFBMVEX////MzMxUVFQyMjKqqqoi\n",
       "IiKYmJju7u5EREQQEBC6urqIiIh2dnZmZmbc3NwAAAD0tjQRAAAAAXRSTlMAQObYZgAAAAlwSFlz\n",
       "AAAOxAAADsQBlSsOGwAAAEdJREFUCNdjYOC7s28DAwPDygcc3xkY2Kcx8AYwMPB+Z2A9wMDA2cBQ\n",
       "v4CBof4AQz5QRb0DQzPLAwbmDWyxPECV2gcfbWQAABp5EMgcedARAAAAAElFTkSuQmCC\n",
       "\" style=\"display:inline;vertical-align:middle;\" /></a></td></tr>\n",
       "<tr><td>12</td><td>Variable</td><td></td><td><a class=\"ProveItLink\" href=\"../../../__pv_it/53e304ff98ebc000dbe3ef224f4637dbafd46ba70/expr.ipynb\"><img src=\"data:image/png;base64,iVBORw0KGgoAAAANSUhEUgAAAAkAAAAOBAMAAAAPuiubAAAALVBMVEX///+YmJjc3NyIiIhUVFR2\n",
       "dna6urqqqqpmZmYyMjIiIiIQEBBERETu7u4AAAALjtrwAAAAAXRSTlMAQObYZgAAAAlwSFlzAAAO\n",
       "xAAADsQBlSsOGwAAAE5JREFUCNdj4D29gAEIOBtAJF8BiMy7ACKjQATDFON2BgbelxfuKTCwv2Xg\n",
       "M2DgmMBwLwCkPK+AgU+Aoe8CA18C70YGBhYBHqARvM1A5QCqGhDobJhHyAAAAABJRU5ErkJggg==\n",
       "\" style=\"display:inline;vertical-align:middle;\" /></a></td></tr>\n",
       "<tr><td>13</td><td>Literal</td><td></td><td><a class=\"ProveItLink\" href=\"../../../../number/numeral/__pv_it/f086f8c372bd40a2458306ddfdbb29f3dc6f63030/expr.ipynb\"><img src=\"data:image/png;base64,iVBORw0KGgoAAAANSUhEUgAAAAgAAAAOBAMAAADgeEClAAAAIVBMVEX///8QEBBERESIiIgyMjJm\n",
       "ZmZUVFTu7u4iIiLMzMwAAAAWRytzAAAAAXRSTlMAQObYZgAAAAlwSFlzAAAOxAAADsQBlSsOGwAA\n",
       "ABtJREFUCNdjYOBsZ2AoC1nOwMDATBbBprgiGQBsuwqCZsDj4wAAAABJRU5ErkJggg==\n",
       "\" style=\"display:inline;vertical-align:middle;\" /></a></td></tr>\n",
       "</table>\n"
      ],
      "text/plain": [
       "0. (() = ()) and (a_{1} = b_{1})\n",
       "   core type: Operation\n",
       "   operator: 1\n",
       "   operands: 2\n",
       "1. and\n",
       "   core type: Literal\n",
       "   sub-expressions: \n",
       "2. (() = () , a_{1} = b_{1})\n",
       "   core type: ExprTuple\n",
       "   sub-expressions: 3, 4\n",
       "3. () = ()\n",
       "   core type: Operation\n",
       "   operator: 6\n",
       "   operands: 5\n",
       "4. a_{1} = b_{1}\n",
       "   core type: Operation\n",
       "   operator: 6\n",
       "   operands: 7\n",
       "5. (() , ())\n",
       "   core type: ExprTuple\n",
       "   sub-expressions: 8, 8\n",
       "6. =\n",
       "   core type: Literal\n",
       "   sub-expressions: \n",
       "7. (a_{1} , b_{1})\n",
       "   core type: ExprTuple\n",
       "   sub-expressions: 9, 10\n",
       "8. ()\n",
       "   core type: ExprTuple\n",
       "   sub-expressions: \n",
       "9. a_{1}\n",
       "   core type: IndexedVar\n",
       "variable: 11\n",
       "index: 13\n",
       "10. b_{1}\n",
       "    core type: IndexedVar\n",
       "variable: 12\n",
       "index: 13\n",
       "11. a\n",
       "    core type: Variable\n",
       "    sub-expressions: \n",
       "12. b\n",
       "    core type: Variable\n",
       "    sub-expressions: \n",
       "13. 1\n",
       "    core type: Literal\n",
       "    sub-expressions: "
      ]
     },
     "execution_count": 5,
     "metadata": {},
     "output_type": "execute_result"
    }
   ],
   "source": [
    "# display the expression information\n",
    "expr.exprInfo()"
   ]
  },
  {
   "cell_type": "code",
   "execution_count": null,
   "metadata": {},
   "outputs": [],
   "source": []
  }
 ],
 "metadata": {
  "kernelspec": {
   "display_name": "Python 3",
   "language": "python",
   "name": "python3"
  },
  "language_info": {
   "codemirror_mode": {
    "name": "ipython",
    "version": 3
   },
   "file_extension": ".py",
   "mimetype": "text/x-python",
   "name": "python",
   "nbconvert_exporter": "python",
   "pygments_lexer": "ipython3",
   "version": "3.7.4"
  }
 },
 "nbformat": 4,
 "nbformat_minor": 1
}
