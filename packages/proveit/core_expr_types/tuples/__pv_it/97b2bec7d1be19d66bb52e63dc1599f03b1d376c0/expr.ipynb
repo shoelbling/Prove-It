{
 "cells": [
  {
   "cell_type": "markdown",
   "metadata": {},
   "source": [
    "Expression of type <a class=\"ProveItLink\" href=\"../../../../../../doc/html/api/proveit.Lambda.html\">Lambda</a>\n",
    "=======================\n",
    "# from context <a class=\"ProveItLink\" href=\"../../_context_.ipynb\">proveit.core_expr_types.tuples</a>"
   ]
  },
  {
   "cell_type": "code",
   "execution_count": 1,
   "metadata": {},
   "outputs": [],
   "source": [
    "import proveit\n",
    "# Automation is not needed when building an expression:\n",
    "proveit.defaults.automation = False # This will speed things up.\n",
    "# import Expression classes needed to build the expression\n",
    "from proveit import IndexedVar, Lambda, Variable\n",
    "from proveit.logic import Equals"
   ]
  },
  {
   "cell_type": "code",
   "execution_count": 2,
   "metadata": {},
   "outputs": [
    {
     "data": {
      "text/html": [
       "<strong id=\"expr\">expr:</strong> <a class=\"ProveItLink\" href=\"expr.ipynb\"><img src=\"data:image/png;base64,iVBORw0KGgoAAAANSUhEUgAAAHwAAAAVCAMAAACzO3oeAAAANlBMVEX///8WFhYNDQ1UVFSYmJhE\n",
       "RESIiIjc3NwiIiJ2dnbu7u66urqqqqpmZmYQEBAyMjLMzMwAAAAsyJ8YAAAAAXRSTlMAQObYZgAA\n",
       "AAlwSFlzAAAOxAAADsQBlSsOGwAAAZdJREFUSMetVVmWhCAMZEYIGAjL/S87uA5B2kae/HSrVSRV\n",
       "SUCIp0uLN9bYLuBeCW6heIjBUw/JzQORUHlzLyL1SMIwJjRclQUsfEjYsQnJseANZbLIZzbNCleN\n",
       "4Qcr3FLm8WoMgzlulx10vaksrC5qmiGexnAcf6Kj3RaKhv6STwBUOz9PixyfvVWnMTycU9dkL5Qi\n",
       "O1Os6WzTlLsLU1VCmW1Ev+xIoa1VgCpCmC37nXIiycf7+VzTTMDRLvNp/WLO+f39MWylZP97ZPtb\n",
       "U3T6MiNhlT9zdMy/Xq1f7AflNlhRB68poDqm3B5ddaCt3xOS6UOLxfIsEMGJU8NOQZIQ4L7mSR52\n",
       "lehsO64JqSCcbgUPrEsUbMH/KWhi9i9+OWLs3icMLbMDSyLSkDgqaJnpdJ0ORiHaine7phxXLTsx\n",
       "NOVdcII56gma2RN/azdbCsoi6lvJs9n7lDO0eXqtmirFdXgVIHaxGVqbp+ekrG+nfNrkIvZeNyV6\n",
       "4I5SlVeWpIO5d58CrdXzKwKVeGcpHCBp+UpsuTj4B3xDEVg0jTSnAAAAAElFTkSuQmCC\n",
       "\" style=\"display:inline;vertical-align:middle;\" /></a><br>"
      ],
      "text/plain": [
       "expr: d -> (a_{d} = b_{d})"
      ]
     },
     "execution_count": 2,
     "metadata": {},
     "output_type": "execute_result"
    }
   ],
   "source": [
    "# build up the expression from sub-expressions\n",
    "subExpr1 = Variable(\"d\")\n",
    "expr = Lambda(subExpr1, Equals(IndexedVar(Variable(\"a\"), subExpr1), IndexedVar(Variable(\"b\"), subExpr1)))"
   ]
  },
  {
   "cell_type": "code",
   "execution_count": 3,
   "metadata": {},
   "outputs": [
    {
     "name": "stdout",
     "output_type": "stream",
     "text": [
      "Passed sanity check: built 'expr' is the same as the stored Expression.\n"
     ]
    }
   ],
   "source": [
    "# check that the built expression is the same as the stored expression\n",
    "%check_expr"
   ]
  },
  {
   "cell_type": "code",
   "execution_count": 4,
   "metadata": {},
   "outputs": [
    {
     "name": "stdout",
     "output_type": "stream",
     "text": [
      "d \\mapsto \\left(a_{d} = b_{d}\\right)\n"
     ]
    }
   ],
   "source": [
    "# Show the LaTeX representation of the expression for convenience if you need it.\n",
    "print(expr.latex())"
   ]
  },
  {
   "cell_type": "code",
   "execution_count": 5,
   "metadata": {},
   "outputs": [
    {
     "data": {
      "text/html": [
       "<table><tr><th>&nbsp;</th><th>core type</th><th>sub-expressions</th><th>expression</th></tr>\n",
       "<tr><td>0</td><td>Lambda</td><td>parameter:&nbsp;8<br>body:&nbsp;1<br></td><td><a class=\"ProveItLink\" href=\"expr.ipynb\"><img src=\"data:image/png;base64,iVBORw0KGgoAAAANSUhEUgAAAHwAAAAVCAMAAACzO3oeAAAANlBMVEX///8WFhYNDQ1UVFSYmJhE\n",
       "RESIiIjc3NwiIiJ2dnbu7u66urqqqqpmZmYQEBAyMjLMzMwAAAAsyJ8YAAAAAXRSTlMAQObYZgAA\n",
       "AAlwSFlzAAAOxAAADsQBlSsOGwAAAZdJREFUSMetVVmWhCAMZEYIGAjL/S87uA5B2kae/HSrVSRV\n",
       "SUCIp0uLN9bYLuBeCW6heIjBUw/JzQORUHlzLyL1SMIwJjRclQUsfEjYsQnJseANZbLIZzbNCleN\n",
       "4Qcr3FLm8WoMgzlulx10vaksrC5qmiGexnAcf6Kj3RaKhv6STwBUOz9PixyfvVWnMTycU9dkL5Qi\n",
       "O1Os6WzTlLsLU1VCmW1Ev+xIoa1VgCpCmC37nXIiycf7+VzTTMDRLvNp/WLO+f39MWylZP97ZPtb\n",
       "U3T6MiNhlT9zdMy/Xq1f7AflNlhRB68poDqm3B5ddaCt3xOS6UOLxfIsEMGJU8NOQZIQ4L7mSR52\n",
       "lehsO64JqSCcbgUPrEsUbMH/KWhi9i9+OWLs3icMLbMDSyLSkDgqaJnpdJ0ORiHaine7phxXLTsx\n",
       "NOVdcII56gma2RN/azdbCsoi6lvJs9n7lDO0eXqtmirFdXgVIHaxGVqbp+ekrG+nfNrkIvZeNyV6\n",
       "4I5SlVeWpIO5d58CrdXzKwKVeGcpHCBp+UpsuTj4B3xDEVg0jTSnAAAAAElFTkSuQmCC\n",
       "\" style=\"display:inline;vertical-align:middle;\" /></a></td></tr>\n",
       "<tr><td>1</td><td>Operation</td><td>operator:&nbsp;2<br>operands:&nbsp;3<br></td><td><a class=\"ProveItLink\" href=\"../0f68c2a190b9f64706415fdb7ede8b777648244c0/expr.ipynb\"><img src=\"data:image/png;base64,iVBORw0KGgoAAAANSUhEUgAAAEMAAAARBAMAAAB0ogy8AAAAMFBMVEX////MzMxUVFQyMjKqqqoi\n",
       "IiKYmJju7u5EREQQEBC6urqIiIh2dnZmZmbc3NwAAAD0tjQRAAAAAXRSTlMAQObYZgAAAAlwSFlz\n",
       "AAAOxAAADsQBlSsOGwAAAOtJREFUKM9jYMAFKqYyEAS2hJV8IaiC6ztBJTwBcCbfnX0bsClh1t7r\n",
       "AGWufMCBMPJqKAgEgZj15uz/IILs0xh4QUbyTkQzxb+A4TeQuinAwPudgfUAyL4PaEouM7D/AVLv\n",
       "GRg4GxjqFwCZ3A0YwcIF8vYOoJUHGPKB1l3bvAHNLd9AFtRmWwOVODA0szwoFZAXQDPlF0NlAnsg\n",
       "40eg3zawxfIw3GWQR/e0GkMvA+8FRqAT2bUPPtoI1LIDXUktMFj4F8CdCAyB7nIswVf/gGN7AZQ9\n",
       "j/FjAhYlnA/kxWDstSl7sCnhuuZ9jAEA9W5DPYObkfgAAAAASUVORK5CYII=\n",
       "\" style=\"display:inline;vertical-align:middle;\" /></a></td></tr>\n",
       "<tr><td>2</td><td>Literal</td><td></td><td><a class=\"ProveItLink\" href=\"../../../../logic/equality/__pv_it/e16d2caa26a16688b658bdb9c422caf4b84579e10/expr.ipynb\"><img src=\"data:image/png;base64,iVBORw0KGgoAAAANSUhEUgAAAA4AAAAFBAMAAACHocAhAAAAD1BMVEX///9UVFQiIiJmZmYAAACP\n",
       "OqLZAAAAAXRSTlMAQObYZgAAAAlwSFlzAAAOxAAADsQBlSsOGwAAABJJREFUCNdjMFICAUUGXAAq\n",
       "DwAoFgH7Aeay4gAAAABJRU5ErkJggg==\n",
       "\" style=\"display:inline;vertical-align:middle;\" /></a></td></tr>\n",
       "<tr><td>3</td><td>ExprTuple</td><td>4, 5</td><td><a class=\"ProveItLink\" href=\"../b3d9a238aa12329db5d42717fe313ea09d09d97d0/expr.ipynb\"><img src=\"data:image/png;base64,iVBORw0KGgoAAAANSUhEUgAAAD0AAAAVBAMAAAAHs/uBAAAAMFBMVEX////MzMxUVFREREQiIiK6\n",
       "uroQEBCYmJhmZmYyMjLu7u52dnaqqqqIiIjc3NwAAACFAiZ1AAAAAXRSTlMAQObYZgAAAAlwSFlz\n",
       "AAAOxAAADsQBlSsOGwAAAU1JREFUKM9jYGB4wIALgGV4D+CUjwURp9FFucwcoCyQVq4JGNo4G2Cs\n",
       "WQwMHAUY8vxwGysYGNgwrY1fAGOxLWCIxJTfgrCpgKEbSPF137uAJD/pbg+Uxa3AMB1IhT1g/oXk\n",
       "/p8L1kPDhH0Cgw9QIJ2BA+QljkSwIM8vBv4LEB6PA0MqkPWLgWUDyJoPYHmOCQzrN0B4jB9A8mwG\n",
       "DOsDQMFhAPN+/AEIjzWBYQ4DSHU90Jb2mxBH8hcw9C+A8IDm2wLlDzBY8jxYIiAvwMAFkg8AOgjM\n",
       "Y2A3YNgENPACuwc3QweDPFApMLSZCpgbIDwGjgsMIUCTdTc+usjwleEyAwOLF5DbC/Q+mMfA8oCB\n",
       "RQDq638MtqsYGE6h8J4ArYBFVh7jR2BUbUDhtQNZdlCRiJrbBQxcF5B5fCAPL0aOGnaUiGIGRSRf\n",
       "Ac70VcfAAAB5GlbhwBlxkwAAAABJRU5ErkJggg==\n",
       "\" style=\"display:inline;vertical-align:middle;\" /></a></td></tr>\n",
       "<tr><td>4</td><td>IndexedVar</td><td>variable:&nbsp;6<br>index:&nbsp;8<br></td><td><a class=\"ProveItLink\" href=\"../0a80785889ec57e0777508d42475f92db9920ba10/expr.ipynb\"><img src=\"data:image/png;base64,iVBORw0KGgoAAAANSUhEUgAAABQAAAAMBAMAAACQIoDIAAAAMFBMVEX////MzMxUVFQyMjKqqqoi\n",
       "IiKYmJju7u5EREQQEBC6urqIiIh2dnZmZmbc3NwAAAD0tjQRAAAAAXRSTlMAQObYZgAAAAlwSFlz\n",
       "AAAOxAAADsQBlSsOGwAAAHBJREFUCNdjYOC7s28DAwSsfMDxHcJin8bAGwCkeScy8H5nYD0AZPJ9\n",
       "YOBsYKhfAGRyA+kDDPlAZdc2b2Cod2BoZnlQKiAvwMC8gS2Wh+EugzxQSvvgo40Mvxh2QM1m/8fQ\n",
       "XQ5lz2P8mABlrk3ZkwAA2jsetYI8wIsAAAAASUVORK5CYII=\n",
       "\" style=\"display:inline;vertical-align:middle;\" /></a></td></tr>\n",
       "<tr><td>5</td><td>IndexedVar</td><td>variable:&nbsp;7<br>index:&nbsp;8<br></td><td><a class=\"ProveItLink\" href=\"../2ef45cf38be408b1ca3387d513b2d1881a3586290/expr.ipynb\"><img src=\"data:image/png;base64,iVBORw0KGgoAAAANSUhEUgAAABIAAAARBAMAAAAidOHKAAAAMFBMVEX////MzMyYmJjc3NyIiIhU\n",
       "VFR2dna6urqqqqpmZmYyMjIiIiIQEBBERETu7u4AAACIO4EmAAAAAXRSTlMAQObYZgAAAAlwSFlz\n",
       "AAAOxAAADsQBlSsOGwAAAH1JREFUCNdj4LuzgQEKuCbAWPwNMFb9AxgrG8ZgWOoyA8Lg+/XgvQGY\n",
       "xfGPgd+BgYHzIAPnAob3CQwMzB9AxtUDzWG5wMCvwDD/Ad8kLwcG/gK+QwyvBeQFGFgVeCcwzGSQ\n",
       "B5oyBWjcdwZfqJmfGa68gzAPM35UgLAqNdwUAEy2H3XFaUTyAAAAAElFTkSuQmCC\n",
       "\" style=\"display:inline;vertical-align:middle;\" /></a></td></tr>\n",
       "<tr><td>6</td><td>Variable</td><td></td><td><a class=\"ProveItLink\" href=\"../a8d4b3a34d2189508f9082853fbac36935714f280/expr.ipynb\"><img src=\"data:image/png;base64,iVBORw0KGgoAAAANSUhEUgAAAAsAAAAJBAMAAAAWSsseAAAAMFBMVEX////MzMxUVFQyMjKqqqoi\n",
       "IiKYmJju7u5EREQQEBC6urqIiIh2dnZmZmbc3NwAAAD0tjQRAAAAAXRSTlMAQObYZgAAAAlwSFlz\n",
       "AAAOxAAADsQBlSsOGwAAAEdJREFUCNdjYOC7s28DAwPDygcc3xkY2Kcx8AYwMPB+Z2A9wMDA2cBQ\n",
       "v4CBof4AQz5QRb0DQzPLAwbmDWyxPECV2gcfbWQAABp5EMgcedARAAAAAElFTkSuQmCC\n",
       "\" style=\"display:inline;vertical-align:middle;\" /></a></td></tr>\n",
       "<tr><td>7</td><td>Variable</td><td></td><td><a class=\"ProveItLink\" href=\"../53e304ff98ebc000dbe3ef224f4637dbafd46ba70/expr.ipynb\"><img src=\"data:image/png;base64,iVBORw0KGgoAAAANSUhEUgAAAAkAAAAOBAMAAAAPuiubAAAALVBMVEX///+YmJjc3NyIiIhUVFR2\n",
       "dna6urqqqqpmZmYyMjIiIiIQEBBERETu7u4AAAALjtrwAAAAAXRSTlMAQObYZgAAAAlwSFlzAAAO\n",
       "xAAADsQBlSsOGwAAAE5JREFUCNdj4D29gAEIOBtAJF8BiMy7ACKjQATDFON2BgbelxfuKTCwv2Xg\n",
       "M2DgmMBwLwCkPK+AgU+Aoe8CA18C70YGBhYBHqARvM1A5QCqGhDobJhHyAAAAABJRU5ErkJggg==\n",
       "\" style=\"display:inline;vertical-align:middle;\" /></a></td></tr>\n",
       "<tr><td>8</td><td>Variable</td><td></td><td><a class=\"ProveItLink\" href=\"../445e790c2b62732eb8597a2ddda4cbd1a8fb79140/expr.ipynb\"><img src=\"data:image/png;base64,iVBORw0KGgoAAAANSUhEUgAAAAsAAAAOBAMAAAALT/umAAAAMFBMVEX///9UVFSYmJhERESIiIjc\n",
       "3NwiIiJ2dnbu7u66urqqqqpmZmYQEBAyMjLMzMwAAAAJQA1gAAAAAXRSTlMAQObYZgAAAAlwSFlz\n",
       "AAAOxAAADsQBlSsOGwAAAFpJREFUCNdjYGBg4LuzgQEE+BeAqfkNYKoMTDLcBmLW7X6/gNScAOYf\n",
       "DAwchxi4LzAwcP9gYCtgYOAxYOifwMDQX8CgD1TRv4DBliuAgdeBKZsdqFKkLtCPAQBT/hIMxxSb\n",
       "NAAAAABJRU5ErkJggg==\n",
       "\" style=\"display:inline;vertical-align:middle;\" /></a></td></tr>\n",
       "</table>\n"
      ],
      "text/plain": [
       "0. d -> (a_{d} = b_{d})\n",
       "   core type: Lambda\n",
       "   parameter: 8\n",
       "   body: 1\n",
       "1. a_{d} = b_{d}\n",
       "   core type: Operation\n",
       "   operator: 2\n",
       "   operands: 3\n",
       "2. =\n",
       "   core type: Literal\n",
       "   sub-expressions: \n",
       "3. (a_{d} , b_{d})\n",
       "   core type: ExprTuple\n",
       "   sub-expressions: 4, 5\n",
       "4. a_{d}\n",
       "   core type: IndexedVar\n",
       "variable: 6\n",
       "index: 8\n",
       "5. b_{d}\n",
       "   core type: IndexedVar\n",
       "variable: 7\n",
       "index: 8\n",
       "6. a\n",
       "   core type: Variable\n",
       "   sub-expressions: \n",
       "7. b\n",
       "   core type: Variable\n",
       "   sub-expressions: \n",
       "8. d\n",
       "   core type: Variable\n",
       "   sub-expressions: "
      ]
     },
     "execution_count": 5,
     "metadata": {},
     "output_type": "execute_result"
    }
   ],
   "source": [
    "# display the expression information\n",
    "expr.exprInfo()"
   ]
  },
  {
   "cell_type": "code",
   "execution_count": null,
   "metadata": {},
   "outputs": [],
   "source": []
  }
 ],
 "metadata": {
  "kernelspec": {
   "display_name": "Python 3",
   "language": "python",
   "name": "python3"
  },
  "language_info": {
   "codemirror_mode": {
    "name": "ipython",
    "version": 3
   },
   "file_extension": ".py",
   "mimetype": "text/x-python",
   "name": "python",
   "nbconvert_exporter": "python",
   "pygments_lexer": "ipython3",
   "version": "3.7.4"
  }
 },
 "nbformat": 4,
 "nbformat_minor": 1
}
