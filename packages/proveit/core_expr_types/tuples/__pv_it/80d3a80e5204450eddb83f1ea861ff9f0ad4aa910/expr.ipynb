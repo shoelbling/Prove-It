{
 "cells": [
  {
   "cell_type": "markdown",
   "metadata": {},
   "source": [
    "Expression of type <a class=\"ProveItLink\" href=\"../../../../../../doc/html/api/proveit.ExprTuple.html\">ExprTuple</a>\n",
    "=======================\n",
    "# from context <a class=\"ProveItLink\" href=\"../../_context_.ipynb\">proveit.core_expr_types.tuples</a>"
   ]
  },
  {
   "cell_type": "code",
   "execution_count": 1,
   "metadata": {},
   "outputs": [],
   "source": [
    "import proveit\n",
    "# Automation is not needed when building an expression:\n",
    "proveit.defaults.automation = False # This will speed things up.\n",
    "# import Expression classes needed to build the expression\n",
    "from proveit import ExprRange, ExprTuple, Variable\n",
    "from proveit.number import one, zero"
   ]
  },
  {
   "cell_type": "code",
   "execution_count": 2,
   "metadata": {},
   "outputs": [
    {
     "data": {
      "text/html": [
       "<strong id=\"expr\">expr:</strong> <a class=\"ProveItLink\" href=\"expr.ipynb\"><img src=\"data:image/png;base64,iVBORw0KGgoAAAANSUhEUgAAAF8AAAAVBAMAAADSoS/MAAAAMFBMVEX////MzMxUVFREREQiIiK6\n",
       "uroQEBCYmJhmZmYyMjLu7u52dnaqqqqIiIjc3NwAAACFAiZ1AAAAAXRSTlMAQObYZgAAAAlwSFlz\n",
       "AAAOxAAADsQBlSsOGwAAAUBJREFUOMuNkrFLw0AUh39ibe21hg7uCi6OReeKiINDcXLpUKpDZzOI\n",
       "OGk3kS7dClIw4CxKHUW4vUODk1sz+Ac4Ki6+d++aCjG5PvjC5cf77t6FAIggOCpuW9GCq5oWjCyr\n",
       "QXrzy3sUb6x6BrV5ly4UtToEbmFY9gVM0oUz4Bm4gCEPIUvYAsYB8tRANChoOIQvoKVRpDmILgXd\n",
       "bEGx4KO0DqZPST9b8H6AtRAF+jxEnZL6HMITyrtg2pS0HSOR0Aqx8AlmDoEvPdZYOgYzoGDgELaB\n",
       "q2A6Uo2C2lT4x+HoHLihC1cNQwqGVlDfPDE/Hnv485bT6oT+h9BwRAGzcboXYp/3O+CWjl2YSL2+\n",
       "VSiLDDleVuz55eRMs+hDKHQEU6XkHWbRtWXHwvWQFOLIqwq4t3D5SSGOFgMBni+46lL4BeC2ZIq+\n",
       "8kq0AAAAAElFTkSuQmCC\n",
       "\" style=\"display:inline;vertical-align:middle;\" /></a><br>"
      ],
      "text/plain": [
       "expr: ((1 ,  ...  , 0))"
      ]
     },
     "execution_count": 2,
     "metadata": {},
     "output_type": "execute_result"
    }
   ],
   "source": [
    "# build up the expression from sub-expressions\n",
    "expr = ExprTuple([ExprRange(Variable(\"k\"), Variable(\"k\"), one, zero)])"
   ]
  },
  {
   "cell_type": "code",
   "execution_count": 3,
   "metadata": {},
   "outputs": [
    {
     "name": "stdout",
     "output_type": "stream",
     "text": [
      "Passed sanity check: built 'expr' is the same as the stored Expression.\n"
     ]
    }
   ],
   "source": [
    "# check that the built expression is the same as the stored expression\n",
    "%check_expr"
   ]
  },
  {
   "cell_type": "code",
   "execution_count": 4,
   "metadata": {},
   "outputs": [
    {
     "name": "stdout",
     "output_type": "stream",
     "text": [
      "\\left(\\left(1 , \\ldots , 0\\right)\\right)\n"
     ]
    }
   ],
   "source": [
    "# Show the LaTeX representation of the expression for convenience if you need it.\n",
    "print(expr.latex())"
   ]
  },
  {
   "cell_type": "code",
   "execution_count": 5,
   "metadata": {},
   "outputs": [
    {
     "data": {
      "text/html": [
       "<table><tr><th>&nbsp;</th><th>core type</th><th>sub-expressions</th><th>expression</th></tr>\n",
       "<tr><td>0</td><td>ExprTuple</td><td>1</td><td><a class=\"ProveItLink\" href=\"expr.ipynb\"><img src=\"data:image/png;base64,iVBORw0KGgoAAAANSUhEUgAAAF8AAAAVBAMAAADSoS/MAAAAMFBMVEX////MzMxUVFREREQiIiK6\n",
       "uroQEBCYmJhmZmYyMjLu7u52dnaqqqqIiIjc3NwAAACFAiZ1AAAAAXRSTlMAQObYZgAAAAlwSFlz\n",
       "AAAOxAAADsQBlSsOGwAAAUBJREFUOMuNkrFLw0AUh39ibe21hg7uCi6OReeKiINDcXLpUKpDZzOI\n",
       "OGk3kS7dClIw4CxKHUW4vUODk1sz+Ac4Ki6+d++aCjG5PvjC5cf77t6FAIggOCpuW9GCq5oWjCyr\n",
       "QXrzy3sUb6x6BrV5ly4UtToEbmFY9gVM0oUz4Bm4gCEPIUvYAsYB8tRANChoOIQvoKVRpDmILgXd\n",
       "bEGx4KO0DqZPST9b8H6AtRAF+jxEnZL6HMITyrtg2pS0HSOR0Aqx8AlmDoEvPdZYOgYzoGDgELaB\n",
       "q2A6Uo2C2lT4x+HoHLihC1cNQwqGVlDfPDE/Hnv485bT6oT+h9BwRAGzcboXYp/3O+CWjl2YSL2+\n",
       "VSiLDDleVuz55eRMs+hDKHQEU6XkHWbRtWXHwvWQFOLIqwq4t3D5SSGOFgMBni+46lL4BeC2ZIq+\n",
       "8kq0AAAAAElFTkSuQmCC\n",
       "\" style=\"display:inline;vertical-align:middle;\" /></a></td></tr>\n",
       "<tr><td>1</td><td>ExprTuple</td><td>2</td><td><a class=\"ProveItLink\" href=\"../bd98505e76f93aa58ff52cd26fc7dfc1419cc0030/expr.ipynb\"><img src=\"data:image/png;base64,iVBORw0KGgoAAAANSUhEUgAAAE8AAAAVBAMAAAD1D64kAAAAMFBMVEX////MzMxUVFREREQiIiK6\n",
       "uroQEBCYmJhmZmYyMjLu7u52dnaqqqqIiIjc3NwAAACFAiZ1AAAAAXRSTlMAQObYZgAAAAlwSFlz\n",
       "AAAOxAAADsQBlSsOGwAAARZJREFUKM+Nk7FLAzEUhz+xtjatRwd3hS6ORWdFxMFBnLo4SHVwbgYR\n",
       "J+0m4nKbIIIHzqLoKEJ2hx6dunmDf4Cj4mLeEVvhvIuBPN775Ut+L4QACd6RIjPGD+5IeLFzNsqH\n",
       "noZJepgKUQvX+WDVqC24hGltq9d88AAe4QjKFIOL0I8oR2x7wA/oGKqa82JQCaipzXNRDAZfMBdT\n",
       "Cdn8B3hPfZV9j7UFOzET7z5QLtM3TO1y5QGX4CQS6+Uf8A9WpEM4g0qLBweqT+lIwl3Ir6pk1J59\n",
       "v5i2LZrdtZh12b8hSz2XpJJ6HjSsllBqOJ961nssvVn3nstr2R7H0qmdKy6/zYIjKWjZcOMKnQVH\n",
       "0qT0EGj/VziGbwr5TujLHNTfAAAAAElFTkSuQmCC\n",
       "\" style=\"display:inline;vertical-align:middle;\" /></a></td></tr>\n",
       "<tr><td>2</td><td>ExprRange</td><td>lambda_map:&nbsp;3<br>start_index:&nbsp;4<br>end_index:&nbsp;5<br></td><td><a class=\"ProveItLink\" href=\"../11fcd289ee1a9fc004d2dec220d8a5caaf662f530/expr.ipynb\"><img src=\"data:image/png;base64,iVBORw0KGgoAAAANSUhEUgAAAEIAAAASBAMAAAAd9BUsAAAAMFBMVEX///+6urrc3NyYmJh2dnaq\n",
       "qqoQEBBERESIiIgyMjJmZmZUVFTu7u4iIiLMzMwAAADZRvEaAAAAAXRSTlMAQObYZgAAAAlwSFlz\n",
       "AAAOxAAADsQBlSsOGwAAAKRJREFUKM9jYOC7w4ATsHgsYmA4vfIPbhVTGc4qMDBw4FbBfIGBpQCv\n",
       "CvYNDKx/8KrgX8DA+BWvivNAFZ/xqtB3YOD7QVDFF/y2ODAw/iDkUlb8LmUvYGCG+pYHUxYkxJzA\n",
       "wDUBouL8BAYIwfOTAYnHcJXh2AMG7rK/Oxh4QbHHuwBI3IIxwEJHOvbBzIzBtAZNyAFTBaoQTwOm\n",
       "S1GFmLHEPIwBAFbpNLhX+QW7AAAAAElFTkSuQmCC\n",
       "\" style=\"display:inline;vertical-align:middle;\" /></a></td></tr>\n",
       "<tr><td>3</td><td>Lambda</td><td>parameter:&nbsp;6<br>body:&nbsp;6<br></td><td><a class=\"ProveItLink\" href=\"../3f65dd765ebc1f78cc5012238a4d9c3aeb80e9230/expr.ipynb\"><img src=\"data:image/png;base64,iVBORw0KGgoAAAANSUhEUgAAADYAAAAOCAMAAABTsh8vAAAANlBMVEX///8WFhYNDQ3MzMzc3NyY\n",
       "mJiIiIhUVFR2dna6urqqqqpmZmYyMjIiIiIQEBBERETu7u4AAADpXcuUAAAAAXRSTlMAQObYZgAA\n",
       "AAlwSFlzAAAOxAAADsQBlSsOGwAAAKVJREFUKM+NkkkOwzAIRWk9JMZ44P6XbbKo/YlsKaxAPNBn\n",
       "IOqtFnpphpVMrw1Y5fdlk03at1T0Ngb2rFY/BvzQD6wcVzrmP27389jWZLsGYvY1LEFuRslkWX1i\n",
       "cuLX/WMD1cDmGhxy308xpppGDtgi+XT7aZIkyA22X82Sul2Zk46jDTboHTLFdZng4YA92u06Oocq\n",
       "I9HcDdh2f0vMcf0p2Wxrsj83mAflxQIppAAAAABJRU5ErkJggg==\n",
       "\" style=\"display:inline;vertical-align:middle;\" /></a></td></tr>\n",
       "<tr><td>4</td><td>Literal</td><td></td><td><a class=\"ProveItLink\" href=\"../../../../number/numeral/__pv_it/f086f8c372bd40a2458306ddfdbb29f3dc6f63030/expr.ipynb\"><img src=\"data:image/png;base64,iVBORw0KGgoAAAANSUhEUgAAAAgAAAAOBAMAAADgeEClAAAAIVBMVEX///8QEBBERESIiIgyMjJm\n",
       "ZmZUVFTu7u4iIiLMzMwAAAAWRytzAAAAAXRSTlMAQObYZgAAAAlwSFlzAAAOxAAADsQBlSsOGwAA\n",
       "ABtJREFUCNdjYOBsZ2AoC1nOwMDATBbBprgiGQBsuwqCZsDj4wAAAABJRU5ErkJggg==\n",
       "\" style=\"display:inline;vertical-align:middle;\" /></a></td></tr>\n",
       "<tr><td>5</td><td>Literal</td><td></td><td><a class=\"ProveItLink\" href=\"../../../../number/numeral/__pv_it/bcb6bc33e5975ec2290a3272bf7802d26ab8421d0/expr.ipynb\"><img src=\"data:image/png;base64,iVBORw0KGgoAAAANSUhEUgAAAAoAAAAOBAMAAADkjZCYAAAAMFBMVEX///8QEBDMzMy6urpUVFRE\n",
       "RESYmJgiIiLu7u6qqqoyMjLc3NxmZmaIiIh2dnYAAABjjC/7AAAAAXRSTlMAQObYZgAAAAlwSFlz\n",
       "AAAOxAAADsQBlSsOGwAAAFdJREFUCNdjYOB7e5qBgWElQ/sGBrYCBr4ABlYHBs4fDPwHGJh/MvQD\n",
       "yW8M+x8wMP0Fk/8Y+h8wMP8FyXL+ZGANYGD7wcAmwMCzgIGhkqFRgYGh764TAwAMEBgt0IBciQAA\n",
       "AABJRU5ErkJggg==\n",
       "\" style=\"display:inline;vertical-align:middle;\" /></a></td></tr>\n",
       "<tr><td>6</td><td>Variable</td><td></td><td><a class=\"ProveItLink\" href=\"../273f49450ca25e1b56abbd98a7aef618f8f6c1360/expr.ipynb\"><img src=\"data:image/png;base64,iVBORw0KGgoAAAANSUhEUgAAAAoAAAAOBAMAAADkjZCYAAAAMFBMVEX////MzMzc3NyYmJiIiIhU\n",
       "VFR2dna6urqqqqpmZmYyMjIiIiIQEBBERETu7u4AAADM1VnsAAAAAXRSTlMAQObYZgAAAAlwSFlz\n",
       "AAAOxAAADsQBlSsOGwAAAE9JREFUCNdj4LuzgQEIuCaASP4GEFn/AETmgAiGpQwt8xj4PnM0HWbg\n",
       "+FTBuIiB87AAUJh7ZSKQfF9QD+TYM7xvcGCIZXgvkMBwg4FlygMA76IUkutkA5UAAAAASUVORK5C\n",
       "YII=\n",
       "\" style=\"display:inline;vertical-align:middle;\" /></a></td></tr>\n",
       "</table>\n"
      ],
      "text/plain": [
       "0. ((1 ,  ...  , 0))\n",
       "   core type: ExprTuple\n",
       "   sub-expressions: 1\n",
       "1. (1 ,  ...  , 0)\n",
       "   core type: ExprTuple\n",
       "   sub-expressions: 2\n",
       "2. 1,...,0\n",
       "   core type: ExprRange\n",
       "   lambda_map: 3\n",
       "   start_index: 4\n",
       "   end_index: 5\n",
       "3. k -> k\n",
       "   core type: Lambda\n",
       "   parameter: 6\n",
       "   body: 6\n",
       "4. 1\n",
       "   core type: Literal\n",
       "   sub-expressions: \n",
       "5. 0\n",
       "   core type: Literal\n",
       "   sub-expressions: \n",
       "6. k\n",
       "   core type: Variable\n",
       "   sub-expressions: "
      ]
     },
     "execution_count": 5,
     "metadata": {},
     "output_type": "execute_result"
    }
   ],
   "source": [
    "# display the expression information\n",
    "expr.exprInfo()"
   ]
  },
  {
   "cell_type": "code",
   "execution_count": null,
   "metadata": {},
   "outputs": [],
   "source": []
  }
 ],
 "metadata": {
  "kernelspec": {
   "display_name": "Python 3",
   "language": "python",
   "name": "python3"
  },
  "language_info": {
   "codemirror_mode": {
    "name": "ipython",
    "version": 3
   },
   "file_extension": ".py",
   "mimetype": "text/x-python",
   "name": "python",
   "nbconvert_exporter": "python",
   "pygments_lexer": "ipython3",
   "version": "3.7.4"
  }
 },
 "nbformat": 4,
 "nbformat_minor": 1
}
