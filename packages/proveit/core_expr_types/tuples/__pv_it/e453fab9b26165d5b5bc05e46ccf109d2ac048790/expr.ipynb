{
 "cells": [
  {
   "cell_type": "markdown",
   "metadata": {},
   "source": [
    "Expression of type <a class=\"ProveItLink\" href=\"../../../../../../doc/html/api/proveit.logic.InSet.html\">InSet</a>\n",
    "=======================\n",
    "# from context <a class=\"ProveItLink\" href=\"../../_context_.ipynb\">proveit.core_expr_types.tuples</a>"
   ]
  },
  {
   "cell_type": "code",
   "execution_count": 1,
   "metadata": {},
   "outputs": [],
   "source": [
    "import proveit\n",
    "# Automation is not needed when building an expression:\n",
    "proveit.defaults.automation = False # This will speed things up.\n",
    "# import Expression classes needed to build the expression\n",
    "from proveit._common_ import i, j\n",
    "from proveit.logic import InSet\n",
    "from proveit.number import Add, Naturals, Neg"
   ]
  },
  {
   "cell_type": "code",
   "execution_count": 2,
   "metadata": {},
   "outputs": [
    {
     "data": {
      "text/html": [
       "<strong id=\"expr\">expr:</strong> <a class=\"ProveItLink\" href=\"../c18e7278ffd2f384761f22653e24b5d4f1beab0d0/expr.ipynb\"><img src=\"data:image/png;base64,iVBORw0KGgoAAAANSUhEUgAAAGEAAAAVBAMAAACkm51HAAAAMFBMVEX////MzMxUVFREREQiIiK6\n",
       "uroQEBCYmJhmZmYyMjLu7u52dnaqqqqIiIjc3NwAAACFAiZ1AAAAAXRSTlMAQObYZgAAAAlwSFlz\n",
       "AAAOxAAADsQBlSsOGwAAAZFJREFUOMtjYGB4wIAV4BAGAt4D2MVj0fhLPlsuYNj2LYCB4TSIK7wA\n",
       "Tf4Gpkk2rAoMXL8YGLgmgHg30W3wZmCYhSak8mA7A0MCAwNHAS7nVqDxdQw4HzA4MDCw4fQgG8Sl\n",
       "vCYunmCGXi3fBJCOSJw6OMG2s86FeVGPSeA2SEc3kM111wBVMdeNCwwM3Aog5kt4mOgxGDAHAHVM\n",
       "B7I5GNJRdXCzAn3IDg6TeQwIHRJcXkAdPkB2HcMfVB1vOICqeRxAzAlIOtgPHAaalAri8PwCkStd\n",
       "QMARyFrAD3QV4wcgizEFKOQM1cGgxQTTweGA5uvzQNeDXMbAZYBkB8MiLqDCOSAOywY0HZMYYK5y\n",
       "QNbBeAFogC2I8z4ALaz+cAN9Djb+LlzQEIgvAsU2gTj1aFawfngOdOoFcKzAkxcojEAhEgLiKKPH\n",
       "ni0w9ljA6Z1LOQoiJPLNAJIKWQSAvFxscf4Eat9maCqBAfYGBh32X9h0tONKPnaMf1iwZSo+A1w6\n",
       "FjP0tmITZ16ASwcfjgxSh0M9AGP2UexbxYNQAAAAAElFTkSuQmCC\n",
       "\" style=\"display:inline;vertical-align:middle;\" /></a><br>"
      ],
      "text/plain": [
       "expr: (j - i) in Naturals"
      ]
     },
     "execution_count": 2,
     "metadata": {},
     "output_type": "execute_result"
    }
   ],
   "source": [
    "# build up the expression from sub-expressions\n",
    "expr = InSet(Add(j, Neg(i)), Naturals)"
   ]
  },
  {
   "cell_type": "code",
   "execution_count": 3,
   "metadata": {},
   "outputs": [
    {
     "name": "stdout",
     "output_type": "stream",
     "text": [
      "Passed sanity check: built 'expr' is the same as the stored Expression.\n"
     ]
    }
   ],
   "source": [
    "# check that the built expression is the same as the stored expression\n",
    "%check_expr"
   ]
  },
  {
   "cell_type": "code",
   "execution_count": 4,
   "metadata": {},
   "outputs": [
    {
     "name": "stdout",
     "output_type": "stream",
     "text": [
      "\\left(j - i\\right) \\in \\mathbb{N}\n"
     ]
    }
   ],
   "source": [
    "# Show the LaTeX representation of the expression for convenience if you need it.\n",
    "print(expr.latex())"
   ]
  },
  {
   "cell_type": "code",
   "execution_count": 5,
   "metadata": {},
   "outputs": [
    {
     "data": {
      "text/html": [
       "<table><tr><th>&nbsp;</th><th>core type</th><th>sub-expressions</th><th>expression</th></tr>\n",
       "<tr><td>0</td><td>Operation</td><td>operator:&nbsp;1<br>operands:&nbsp;2<br></td><td><a class=\"ProveItLink\" href=\"../c18e7278ffd2f384761f22653e24b5d4f1beab0d0/expr.ipynb\"><img src=\"data:image/png;base64,iVBORw0KGgoAAAANSUhEUgAAAGEAAAAVBAMAAACkm51HAAAAMFBMVEX////MzMxUVFREREQiIiK6\n",
       "uroQEBCYmJhmZmYyMjLu7u52dnaqqqqIiIjc3NwAAACFAiZ1AAAAAXRSTlMAQObYZgAAAAlwSFlz\n",
       "AAAOxAAADsQBlSsOGwAAAZFJREFUOMtjYGB4wIAV4BAGAt4D2MVj0fhLPlsuYNj2LYCB4TSIK7wA\n",
       "Tf4Gpkk2rAoMXL8YGLgmgHg30W3wZmCYhSak8mA7A0MCAwNHAS7nVqDxdQw4HzA4MDCw4fQgG8Sl\n",
       "vCYunmCGXi3fBJCOSJw6OMG2s86FeVGPSeA2SEc3kM111wBVMdeNCwwM3Aog5kt4mOgxGDAHAHVM\n",
       "B7I5GNJRdXCzAn3IDg6TeQwIHRJcXkAdPkB2HcMfVB1vOICqeRxAzAlIOtgPHAaalAri8PwCkStd\n",
       "QMARyFrAD3QV4wcgizEFKOQM1cGgxQTTweGA5uvzQNeDXMbAZYBkB8MiLqDCOSAOywY0HZMYYK5y\n",
       "QNbBeAFogC2I8z4ALaz+cAN9Djb+LlzQEIgvAsU2gTj1aFawfngOdOoFcKzAkxcojEAhEgLiKKPH\n",
       "ni0w9ljA6Z1LOQoiJPLNAJIKWQSAvFxscf4Eat9maCqBAfYGBh32X9h0tONKPnaMf1iwZSo+A1w6\n",
       "FjP0tmITZ16ASwcfjgxSh0M9AGP2UexbxYNQAAAAAElFTkSuQmCC\n",
       "\" style=\"display:inline;vertical-align:middle;\" /></a></td></tr>\n",
       "<tr><td>1</td><td>Literal</td><td></td><td><a class=\"ProveItLink\" href=\"../../../../logic/set_theory/membership/__pv_it/7776fc89cb67d0b5b1ec2c0c8e08da5587921ccf0/expr.ipynb\"><img src=\"data:image/png;base64,iVBORw0KGgoAAAANSUhEUgAAAAwAAAAMBAMAAACkW0HUAAAAKlBMVEX///92dnZUVFSqqqoQEBDM\n",
       "zMzc3Nzu7u66uroyMjIiIiJERESIiIgAAACm0meuAAAAAXRSTlMAQObYZgAAAAlwSFlzAAAOxAAA\n",
       "DsQBlSsOGwAAADxJREFUCNdjYGA4vWrVBAaGzuMMQMA2HUQycCZAKDDJELIKCDYwVEN4XBCK5wCE\n",
       "ngyhinYUgOnGXasmAABvGQ6ucz2C1gAAAABJRU5ErkJggg==\n",
       "\" style=\"display:inline;vertical-align:middle;\" /></a></td></tr>\n",
       "<tr><td>2</td><td>ExprTuple</td><td>3, 4</td><td><a class=\"ProveItLink\" href=\"../24dde368af6b889f5d8ca62862f312807714173e0/expr.ipynb\"><img src=\"data:image/png;base64,iVBORw0KGgoAAAANSUhEUgAAAE8AAAAVBAMAAAD1D64kAAAAMFBMVEX////MzMxUVFREREQiIiK6\n",
       "uroQEBCYmJhmZmYyMjLu7u52dnaqqqqIiIjc3NwAAACFAiZ1AAAAAXRSTlMAQObYZgAAAAlwSFlz\n",
       "AAAOxAAADsQBlSsOGwAAAWhJREFUKM9jYGB4wEAQgJXwHsCtYMlnywUM274FxII4p0GE8AI0JTcg\n",
       "lA2rAgPXL7BhXBNAAjfRzfKGUCoPtjMwJDAwzGJg4CjA5zgdA84HDA4MDBUMDGx4faFXyzcBpJBt\n",
       "AUMkfoVMArdBCjkLGLqBXK67BqjyXDcuQBUyGDAHABVyKzBMB3I5GNJRFXKzJsAUSnB5ARWyT2Dw\n",
       "AXLrGP6gKnzDMQGmkP3AYaAmHgeGVBCf5xeIXOkCAo5A1gJ+uNUMWkxAhYwfIAo5HNA8cX4BXOEi\n",
       "LqAk0ClzQHyWDWgKJzHAFTJeMABbbQvivw9A8/UfbgYuEMMQiC8CFbIbMGwC8evRDGT98JxhPcg/\n",
       "IK+CPMZxgSEEJKGMHtC2BQwsXgwMIt8MIKmB5QEDiwBQPBdbrJxCYj8B2t7AoMP+C5tCZA+2A7Ed\n",
       "4x8WbGmX6wKCzQeK4sUMva3YDGRHYjODgpWvgHCeqWNgAACgV0u39NjwXwAAAABJRU5ErkJggg==\n",
       "\" style=\"display:inline;vertical-align:middle;\" /></a></td></tr>\n",
       "<tr><td>3</td><td>Operation</td><td>operator:&nbsp;5<br>operands:&nbsp;6<br></td><td><a class=\"ProveItLink\" href=\"../bbd8b889694ec07144e12c058f3cc295baba42f70/expr.ipynb\"><img src=\"data:image/png;base64,iVBORw0KGgoAAAANSUhEUgAAACsAAAASBAMAAAAwBjqWAAAAMFBMVEX///9UVFS6urp2dnYiIiKq\n",
       "qqrc3NyYmJgQEBBmZmYyMjKIiIju7u5ERETMzMwAAAC4hZuzAAAAAXRSTlMAQObYZgAAAAlwSFlz\n",
       "AAAOxAAADsQBlSsOGwAAAIFJREFUGNNjYGBg4LvDgAp2gknuBWjCzgzUAqf3ovJ5dm4AURM4ClCE\n",
       "mZkagCR7An8AinAqJ8Rl8QeAxCkXEPADsg7wgw1hmIJmGVgZpusXgkm2T2gu+coMotg/oAozfUgH\n",
       "UYwX0Ay5DXYwxwYsfmQMqD+ARfh9gCu2EOHcqYBFFADiCBunPJ0sJQAAAABJRU5ErkJggg==\n",
       "\" style=\"display:inline;vertical-align:middle;\" /></a></td></tr>\n",
       "<tr><td>4</td><td>Literal</td><td></td><td><a class=\"ProveItLink\" href=\"../../../../number/sets/integer/__pv_it/b49c37b99b7e8d73a8d7971bcf454d693b90a2c60/expr.ipynb\"><img src=\"data:image/png;base64,iVBORw0KGgoAAAANSUhEUgAAAA8AAAAPBAMAAADJ+Ih5AAAAMFBMVEX///9mZmbMzMyIiIiYmJjc\n",
       "3NxUVFSqqqq6uroQEBB2dnYyMjJEREQiIiLu7u4AAAAPqInnAAAAAXRSTlMAQObYZgAAAAlwSFlz\n",
       "AAAOxAAADsQBlSsOGwAAAGpJREFUCNdjePvn9AOGlT8bGBiOcyQw8P1jYGDIDVjCwDAByEg/wB3A\n",
       "cAHISHVm3QBhsClYQRgMB3gaIAxFvnsQBktBzQQwgyGPDcp4xgeRYmAyOABkHAJiIxDjOhAzbmBg\n",
       "0P0J5PFtYAAA6AAhaNFZV/8AAAAASUVORK5CYII=\n",
       "\" style=\"display:inline;vertical-align:middle;\" /></a></td></tr>\n",
       "<tr><td>5</td><td>Literal</td><td></td><td><a class=\"ProveItLink\" href=\"../../../../number/addition/__pv_it/65ad7e8aee19b10110d590375ba95a879c4fb7ea0/expr.ipynb\"><img src=\"data:image/png;base64,iVBORw0KGgoAAAANSUhEUgAAAA4AAAAOBAMAAADtZjDiAAAAHlBMVEX///9UVFQQEBAiIiJmZmaI\n",
       "iIiqqqqYmJi6uroAAAAAFVhYAAAAAXRSTlMAQObYZgAAAAlwSFlzAAAOxAAADsQBlSsOGwAAAB9J\n",
       "REFUCNdjYGBgaGeAgFRiaGdjYyVjY0Oi1SPRIHsAgDEGyG9xCpgAAAAASUVORK5CYII=\n",
       "\" style=\"display:inline;vertical-align:middle;\" /></a></td></tr>\n",
       "<tr><td>6</td><td>ExprTuple</td><td>7, 8</td><td><a class=\"ProveItLink\" href=\"../92e5cf41c59912c746c8243986225f56067e048b0/expr.ipynb\"><img src=\"data:image/png;base64,iVBORw0KGgoAAAANSUhEUgAAADUAAAAVBAMAAAAUZLt1AAAAMFBMVEX////MzMxUVFREREQiIiK6\n",
       "uroQEBCYmJhmZmYyMjLu7u52dnaqqqqIiIjc3NwAAACFAiZ1AAAAAXRSTlMAQObYZgAAAAlwSFlz\n",
       "AAAOxAAADsQBlSsOGwAAAQZJREFUKM9jYGB4wIANgEV5D2CViwURp0GE8AJUmRtgLVwTQOybaLq8\n",
       "GRhmMTBwFDBgBxUMDGw4pBjYFjBE4pLjLGDoBlJcdw1QhLluXGBg4FZgmA5kczCko8hxsyYwMLBP\n",
       "YPABsusY/qDIveEAOp7HgSEVxOH5BTFrigsICCzgB5rJ+AEix+GA6o7zwKAAmjsHxGbZgCo3iQFs\n",
       "pi2I/T6AgQvZnX+4gW4xYNgE4tQzMKyfgJBj/fAcaM8FhhAQRxlorBeSRltgQLI8YGARALJzgfgU\n",
       "Wrg8ARrbwKDDDvICmnMY2oHYjvEPCyiuLqBK8YGCcTFDbyuQYkfTxgyKbT7sEVjHwAAAC7E0Vntd\n",
       "/X0AAAAASUVORK5CYII=\n",
       "\" style=\"display:inline;vertical-align:middle;\" /></a></td></tr>\n",
       "<tr><td>7</td><td>Variable</td><td></td><td><a class=\"ProveItLink\" href=\"../../../../__pv_it/6a5b5879f51878868f626bf09e4d76392d4779cd0/expr.ipynb\"><img src=\"data:image/png;base64,iVBORw0KGgoAAAANSUhEUgAAAAoAAAASBAMAAACQmVJ4AAAAMFBMVEX///9UVFS6urp2dnYiIiKq\n",
       "qqrc3NyYmJgQEBBmZmYyMjKIiIju7u5ERETMzMwAAAC4hZuzAAAAAXRSTlMAQObYZgAAAAlwSFlz\n",
       "AAAOxAAADsQBlSsOGwAAAEtJREFUCNdjYGBg4LsDJBi4FzBgA6f3gsgJHAUMDOwJ/AEgTvwBEDkF\n",
       "LO0MItg+gUj2DyCS8QKI5NgAZAXUAxW+D3AF8jl3KjAwAACAGg5QwkhbIAAAAABJRU5ErkJggg==\n",
       "\" style=\"display:inline;vertical-align:middle;\" /></a></td></tr>\n",
       "<tr><td>8</td><td>Operation</td><td>operator:&nbsp;9<br>operand:&nbsp;10<br></td><td><a class=\"ProveItLink\" href=\"../02a73187f2c19537c6c340020e476a1965587e5c0/expr.ipynb\"><img src=\"data:image/png;base64,iVBORw0KGgoAAAANSUhEUgAAABYAAAAOBAMAAADZH/H+AAAAMFBMVEX///9ERESYmJhUVFSqqqrc\n",
       "3NwQEBC6urp2dnZmZmaIiIjMzMwiIiIyMjLu7u4AAAAZ5Kn/AAAAAXRSTlMAQObYZgAAAAlwSFlz\n",
       "AAAOxAAADsQBlSsOGwAAAEBJREFUCNdjYIABrglwJgNPAwMp4NUsBLuhDM5kdZjLwPD2DAic5mP4\n",
       "hVDD8g/B5jVAsN87IOytZ1WAsxkXMQAAD4QPdBPDwSoAAAAASUVORK5CYII=\n",
       "\" style=\"display:inline;vertical-align:middle;\" /></a></td></tr>\n",
       "<tr><td>9</td><td>Literal</td><td></td><td><a class=\"ProveItLink\" href=\"../../../../number/negation/__pv_it/2867787e35502987d81a45cac8e7f1c6996d6ff40/expr.ipynb\"><img src=\"data:image/png;base64,iVBORw0KGgoAAAANSUhEUgAAAA4AAAABBAMAAAAcMII3AAAAElBMVEX////MzMwiIiIyMjLu7u4A\n",
       "AADe/Ps1AAAAAXRSTlMAQObYZgAAAAlwSFlzAAAOxAAADsQBlSsOGwAAAA1JREFUCNdjcFYCAUUA\n",
       "BKYBD24TAeoAAAAASUVORK5CYII=\n",
       "\" style=\"display:inline;vertical-align:middle;\" /></a></td></tr>\n",
       "<tr><td>10</td><td>Variable</td><td></td><td><a class=\"ProveItLink\" href=\"../../../../__pv_it/557ab5defdcd46aa58168b08767502985122cd490/expr.ipynb\"><img src=\"data:image/png;base64,iVBORw0KGgoAAAANSUhEUgAAAAcAAAAOBAMAAAARcxsoAAAALVBMVEX///9ERESYmJhUVFQyMjKq\n",
       "qqrc3NwQEBC6urru7u52dnYiIiJmZmaIiIgAAAD/UVazAAAAAXRSTlMAQObYZgAAAAlwSFlzAAAO\n",
       "xAAADsQBlSsOGwAAADlJREFUCNdjYGC4wwAEuxjQAeedCwwMXBwFDAypPA4MDBP4gFyGuAlAwhkk\n",
       "+5SLgYHjQRKQKavAAAAx5QmdfgFqMAAAAABJRU5ErkJggg==\n",
       "\" style=\"display:inline;vertical-align:middle;\" /></a></td></tr>\n",
       "</table>\n"
      ],
      "text/plain": [
       "0. (j - i) in Naturals\n",
       "   core type: Operation\n",
       "   operator: 1\n",
       "   operands: 2\n",
       "1. in\n",
       "   core type: Literal\n",
       "   sub-expressions: \n",
       "2. (j - i , Naturals)\n",
       "   core type: ExprTuple\n",
       "   sub-expressions: 3, 4\n",
       "3. j - i\n",
       "   core type: Operation\n",
       "   operator: 5\n",
       "   operands: 6\n",
       "4. Naturals\n",
       "   core type: Literal\n",
       "   sub-expressions: \n",
       "5. +\n",
       "   core type: Literal\n",
       "   sub-expressions: \n",
       "6. (j , -i)\n",
       "   core type: ExprTuple\n",
       "   sub-expressions: 7, 8\n",
       "7. j\n",
       "   core type: Variable\n",
       "   sub-expressions: \n",
       "8. -i\n",
       "   core type: Operation\n",
       "   operator: 9\n",
       "   operand: 10\n",
       "9. -\n",
       "   core type: Literal\n",
       "   sub-expressions: \n",
       "10. i\n",
       "    core type: Variable\n",
       "    sub-expressions: "
      ]
     },
     "execution_count": 5,
     "metadata": {},
     "output_type": "execute_result"
    }
   ],
   "source": [
    "# display the expression information\n",
    "expr.exprInfo()"
   ]
  },
  {
   "cell_type": "code",
   "execution_count": null,
   "metadata": {},
   "outputs": [],
   "source": []
  }
 ],
 "metadata": {
  "kernelspec": {
   "display_name": "Python 3",
   "language": "python",
   "name": "python3"
  },
  "language_info": {
   "codemirror_mode": {
    "name": "ipython",
    "version": 3
   },
   "file_extension": ".py",
   "mimetype": "text/x-python",
   "name": "python",
   "nbconvert_exporter": "python",
   "pygments_lexer": "ipython3",
   "version": "3.7.4"
  }
 },
 "nbformat": 4,
 "nbformat_minor": 1
}
