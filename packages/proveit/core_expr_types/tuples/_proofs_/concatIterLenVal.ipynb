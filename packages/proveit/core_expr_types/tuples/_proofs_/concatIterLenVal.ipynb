{
 "cells": [
  {
   "cell_type": "markdown",
   "metadata": {},
   "source": [
    "Proof of <a class=\"ProveItLink\" href=\"../../../_context_.ipynb\">proveit</a>.<a class=\"ProveItLink\" href=\"../../_context_.ipynb\">core_expr_types</a>.<a class=\"ProveItLink\" href=\"../_context_.ipynb\">tuples</a>.<a class=\"ProveItLink\" href=\"../_theorems_.ipynb#concatIterLenVal\">concatIterLenVal</a> theorem\n",
    "========"
   ]
  },
  {
   "cell_type": "code",
   "execution_count": 1,
   "metadata": {},
   "outputs": [],
   "source": [
    "import proveit\n",
    "context = proveit.Context('..') # the theorem's context is in the parent directory"
   ]
  },
  {
   "cell_type": "code",
   "execution_count": 2,
   "metadata": {},
   "outputs": [
    {
     "name": "stdout",
     "output_type": "stream",
     "text": [
      "Beginning proof of concatIterLenVal\n",
      "Recorded 'presuming' information\n",
      "Presuming previous theorems (applied transitively).\n"
     ]
    },
    {
     "data": {
      "text/html": [
       "<strong id=\"concatIterLenVal\">concatIterLenVal:</strong> <a class=\"ProveItLink\" href=\"../__pv_it/187614eadeb84ee4ab5799d7848cb76bc7ef2e6b0/expr.ipynb\"><img src=\"data:image/png;base64,iVBORw0KGgoAAAANSUhEUgAAAnQAAAAzBAMAAADshYgBAAAAMFBMVEX///+IiIgiIiIQEBB2dnbu\n",
       "7u5UVFTMzMzc3NwyMjK6urpmZmaYmJiqqqpEREQAAACk/Np2AAAAAXRSTlMAQObYZgAAAAlwSFlz\n",
       "AAAOxAAADsQBlSsOGwAACVxJREFUaN7tm3+MHFUdwL+7O7OzOzuz3Qu1Sg5hPWwqorE0RU9szaqp\n",
       "P/g5SI+kEdk9SfQPoS7UGDGxN4Vo4i/u/KNKRMwKJEIQbg8KFVt0WyMIjdyW2BarpotN1RDYXg1n\n",
       "zzuu9f2aN/PmV/ctuXRIfMl78+N9583MZ977vu/3+3YBYtLIyAj8P/WF5gOnF87Og2UbSUWmHqPb\n",
       "46dPxcq992w94M3J7W63W2znhUSiy1bYjk3KXP8tyTVgu5vIC81yotHtdXYuJ+U7+24o1SYbvSQj\n",
       "DT9nGUAJURxPJhld7qSAzqz00caODbj8Ey62WmeEz6VvXMMQUoxh6NKtBKNLVwR0m/poQvnSeqzT\n",
       "J/D+uQB5q1fpe/DxdpZD0ZmXJhjd70BAt7uPJjKH8UxYYB0EjGav0ov4eB/Loego3YSiWyuiW91H\n",
       "E5Okm2X48aU9SuuzZM+iORzdpJ1YdKlZAZ0+0UcbHyflQ/z4pz1KK+Q75Vs0h6PLNxOLLl0T0BWw\n",
       "5vvex7bFXyQKPLPmy0T7Yw020EHlJ+Ou9Ujna+agBQp6ApzD0ZmziUU3VhfQ4c+vD8PxWE1PBVTb\n",
       "OT7B+1oB1qHyudg7utLV1t/ubIGBOjrOFF1hiCT+QdUTiUV3Ewjo0shMuK4FjwHcED10qYBSEs2b\n",
       "96P8B6L5X+zBGMLSR77bvt0mZi8xfUN7Hfw9seg+KKLLoMf/rQXvBm2gHHkNEfCMqRmyuYyPr7G4\n",
       "G3qkH38W72kzNEegm7YTik57I4juo6DOe3ygYKICrqFWdtEV8P79sWadK33RDqwt9NU0R6CrthKK\n",
       "TpkT0eXboL4OxkwcOiqgr3COi1Qx3csN7NgB60qr8/pJ5qe6A9av6yBTSyi64moRXbEE6iIUJ14i\n",
       "b6MGL0DzBxVQqharz1Cl9zIuxhvOewYnGr+0MaMuptCmQ3NEryuWE4ou0xHRYSvhh7C3WSHoqmiq\n",
       "UP8LrOBHROBbL9IzCBedpIlJMo2LqcAVRNAvne2oJxXUz0o0R6BTZig68qB/jUQXV700qdoU0ekI\n",
       "2PXLvz5aJ+jSK9Gpi4EVaSw7ZDkCL7N6OEIvvw8Xm3HxHmCC5Ap+qV+62IbBt6HTNs0R6Ix5iu7X\n",
       "eHN3JLq46iUy60oiOlglhMoOBCdIZyCqs3VWzwJDadydLsHmR1kQdFNAmqQ7WI5Ap52g6L6GW+5E\n",
       "oourXpp0pO1Dt09AF4xAKbx+okLqzdq93Ou/xZjlcQAleDOfNEu7naBDODp1gaLD8RilHYkurnpp\n",
       "0nTdh67IfITcZxbQjBGMWl7LX2nUJvXpY47t/C9tEVvUcJco6EIQpR0TueN0l3B08B+KzsCubvQ0\n",
       "EVe9NOkC24dO9XZ6I3hBC3z1xqDTxI0wRTTOsaBgqDSbQS2aI9GdYjPsmqGhtTEzbEz10qRrPBrp\n",
       "7aT8ft9t5Sgtw5aRRr4bzQCpeqjghxm6neSjqHYEup3ON+slee9UYApIbFjzRpeifKqkpyGG7tuQ\n",
       "q3HPWbv4cjin5kVHq8+U1F0tZzI03sW6Pd08D7DXo5/4NIZ9eUcv37ajkeKe61cSTw4uZOiKljOi\n",
       "b938ChxUrILlRedWx6Xs826Hu8yLTq1RLxR8/ZH48g/gnRXdhlnbAE+8BdGZJTYNFHZi67fUVIQB\n",
       "y6tj0zJ3WOZmvOgKCNu435FxLA08fe9CzM09BdfoeAsNWJjYA8RzPg+fOHR4m4iOVMPn9nw6OEh3\n",
       "L3eAmTddhU8MYkPA6GxruujS+Ca5QW5IPO1Fh6yeFB7o5jcfLHF019jy7/KmF7nlkjNNwFXb0UtU\n",
       "LWoDHFI+/4CIDlerq7TZQAOfrY/xDkJ84YKJLaTsOw4Mu+i+g/LoD65zHrD5Zy86s0kNArO+4TBH\n",
       "d0Fd/l36X+Rma9V9RBTxK9+J1BHynHWi6A9B83wRHa4uNLXgutQu2OLZR2lEwd0tcyWdaCm6R1Fe\n",
       "23LmVdW6wotO78AvKbpCqhNmEveY8CJ3SlwvVI+GRKi2+nSBttJd8pdJCw66Yp1EXIyfdbuvIXQb\n",
       "8yI6XL2skapBzmekzMMKbi7TFSeyijS+q+7RdQfRaFpASnRrFyUbC/6me7TbbRF0WgeeQ6fbZl2t\n",
       "8OD5kYb0q2wC77o3TfmQpddzxcPrn8JDabv07dTXvUEn5DlrFdrr9P3BoFPVLv7e+sZKsYE5eJX/\n",
       "xuxD7mTxgl62XXRbsfK7z9VFc74B+1Xa6+ARbsCMtaTfxbPIrTtXL4vuTVyGLFvuk76d4/67nvMx\n",
       "ZoatCKLL2GNoZK0EtQIbeTGszbfMAUAHiDw+gQYwKke1ckWYJrKl2/jMQ8Y9R5cqUYfHaECKG4/L\n",
       "mtLv4lEmpvMJJqMnai5D0GWkZ3RzUeh1yHO+Cw00/aK6Y8t60em791+J0WnrYYutDeNiPTz8x+Ut\n",
       "8y8IWBvH1NAJBB2Vd8PNHl2HfPe8nX2WOxA1VkN8eVSZ+yeOlP2YBQYJbOkla+8iN8fyCegRXV66\n",
       "l6fm/FFi9eruK7FRYjRgTff+dIPfvE3iNSbReKZovYEuqiDynPzb4Ol1Y7crKres9A8l8CL3tVM+\n",
       "LD+C/U/4VNRAJwydUpO9X3bGjy7chxXRHRCDhKCWG2BaxYM4xpj/xWqvAAP0K28LP9ni8W4BNoTG\n",
       "YGdlXwV/j8r9Ihb1DfOldX4nZl0YOkO6l9MlABl0t36k7YnbsL1RCwxQBvCJwqDlDewwdIpXlUwJ\n",
       "HcEIj8Euyr5Kug259lMiFnPuEc0X3KaL2QF0MUuUEWm8JN3r+rPwo7WwGmNwSvWCBmoKz3qFoaEL\n",
       "19Blv8I6aiJtIguBNEZPFrM9MhSdNiMdjLWXGF3f6fE+0Dm/oeE9Kn3Pp4I6sRzW63Rp3foFSCq6\n",
       "SVmbON/GP1ESsVQbkwGvxLGa3+yATe7PddKyhl0Roai2KwKWaXTGv4wx3gidJjqStzOS+yMx6SkW\n",
       "mxeTLDruYNkM1XrFr6NC7bpCSfbT1hKLDmTXQvAid/E8EctrkJryT1CbfeiyR/89ytaqpRSKnVx0\n",
       "07Ku0aoQTyEkXRIqc4fs4/0DkosuX5G8YF+Iax9It3BFIMrI/kBen00wOm1Ydp7oYcyxxeyg+Sk7\n",
       "S2TaCUbnj6udOYDWy+vTxewgdlnt8EVIMrqs7Ijtf5GbrVVLRJwmekL3vrP1V+JXIbGJ/alzZOT8\n",
       "WLGz9lfiYiOp5FQWjz9++tT/ALsYhv1MFcwqAAAAAElFTkSuQmCC\n",
       "\" style=\"display:inline;vertical-align:middle;\" /></a><br>(see <a class=\"ProveItLink\" href=\"../__pv_it/187614eadeb84ee4ab5799d7848cb76bc7ef2e6b0/dependencies.ipynb\">dependencies</a>)<br>"
      ],
      "text/plain": [
       "concatIterLenVal: forall_{i in Naturals} [forall_{a_{1},...,a_{i}, f, j, k | (k - j + 1) in Naturals} (|(a_{1} ,  ...  , a_{i} , f(j) ,  ...  , f(k))| =  \\\\ (i + k - j + 1))]"
      ]
     },
     "execution_count": 2,
     "metadata": {},
     "output_type": "execute_result"
    }
   ],
   "source": [
    "%proving concatIterLenVal presuming []"
   ]
  },
  {
   "cell_type": "code",
   "execution_count": null,
   "metadata": {},
   "outputs": [],
   "source": []
  }
 ],
 "metadata": {
  "kernelspec": {
   "display_name": "Python 3",
   "language": "python",
   "name": "python3"
  }
 },
 "nbformat": 4,
 "nbformat_minor": 0
}
