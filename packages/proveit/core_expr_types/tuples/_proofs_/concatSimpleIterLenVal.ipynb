{
 "cells": [
  {
   "cell_type": "markdown",
   "metadata": {},
   "source": [
    "Proof of <a class=\"ProveItLink\" href=\"../../../_context_.ipynb\">proveit</a>.<a class=\"ProveItLink\" href=\"../../_context_.ipynb\">core_expr_types</a>.<a class=\"ProveItLink\" href=\"../_context_.ipynb\">tuples</a>.<a class=\"ProveItLink\" href=\"../_theorems_.ipynb#concatSimpleIterLenVal\">concatSimpleIterLenVal</a> theorem\n",
    "========"
   ]
  },
  {
   "cell_type": "code",
   "execution_count": 1,
   "metadata": {},
   "outputs": [],
   "source": [
    "import proveit\n",
    "context = proveit.Context('..') # the theorem's context is in the parent directory"
   ]
  },
  {
   "cell_type": "code",
   "execution_count": 2,
   "metadata": {},
   "outputs": [
    {
     "name": "stdout",
     "output_type": "stream",
     "text": [
      "Beginning proof of concatSimpleIterLenVal\n",
      "Recorded 'presuming' information\n",
      "Presuming previous theorems (applied transitively).\n"
     ]
    },
    {
     "data": {
      "text/html": [
       "<strong id=\"concatSimpleIterLenVal\">concatSimpleIterLenVal:</strong> <a class=\"ProveItLink\" href=\"../__pv_it/687a2cc3fc78c03c8db8dc7add54e442075c43a60/expr.ipynb\"><img src=\"data:image/png;base64,iVBORw0KGgoAAAANSUhEUgAAAhQAAAAzBAMAAAA9YoxxAAAAMFBMVEX///+IiIgiIiIQEBB2dnbu\n",
       "7u5UVFTMzMzc3NwyMjK6urpmZmaYmJiqqqpEREQAAACk/Np2AAAAAXRSTlMAQObYZgAAAAlwSFlz\n",
       "AAAOxAAADsQBlSsOGwAAB7FJREFUaN7dm22ME0UYx59ru22v3faKEsTwYlM9EBCtKIoKphpBo6KL\n",
       "4VBi8HpiNNFIjlxioh+8FZVPBPpBEqOHFvCL0UiPoIicSfmg4SVyC1EIaMIpOVSicBgr5+GB87rd\n",
       "ty7d3WZz+iTX3Zv9z+zsb2eeeWamBXBibW1t8P80x09206UL7u70/FhFIAzS49lLF51lnOnyhuEy\n",
       "PUbpQXZdc2cFaNSyNkFrL0vs5KA/KJ5hx1ARfzYprlFMoYfNjtWbNffXWSLtKwoxrUPxrZsydizE\n",
       "9c4BRFovDzN+n8TUEBkkaprDAgV85iuKDZ1aFELBRRGh5xagz+UAy3ZV0MlGe/WiLoWqEYMCVW+s\n",
       "hSJQ9hPFdaBFES+7KCJ4HPu3PvxsGMUBe/WCTySmJnaA57BCkZjrIwoxq0MRdFPGNuLdshxFULIT\n",
       "xyrA1ZSjxHJYoYB3fUQRzOlQfOimjHvJIxY4imbblhVKq2piWE1yWKLYJvuH4hpJh2IHHtV2TEzZ\n",
       "j4N6wddzXsBdK8dRhPJ2rXDltBJXL5nK1CSHJYrmkn8opoEORQ/62yonK7Z5qOAJ9f9z/O1SFKKt\n",
       "621JqepSsEzVJAf1VRliKsxExTcUkfN6FLPRIDIf4mkQ9tUOAokA7lEbCSkjoHAUajRgM2JhtSi3\n",
       "KFRNcli2CuGcbyjCWT2KO9GLqUAgB6uvqB0YEIHGzQ8Rp1PkKCJDdnc8AaoaTkhUTXJYooCffEMR\n",
       "zJtQBAegHZ0erp2HCgyOsIoilr2sj2UotjM1yWGNol/2C0V3WY9iE0B7DvrBDgUVbFYhJslZc50d\n",
       "5BSoahLT6DuI0VdAe9kvFI/KehQ/opsr8GtCJijMAYIAXLCwwq8HiSNMplS3OcCEBqPqm0FVR0eY\n",
       "muSwbhW02fqB4iToUSxCLywlzgqRViH8DeyjvaA5IYLoijRN4Y6QDIgERTzFhPpsVE19LFWLQ0xN\n",
       "clijSKYpCgwLfqgfhSM9sbsNKLagKnfcv/Yq2kEy+EXOwg6/xE9auQC/V3KdOcIYqnP45B8dSCMz\n",
       "oSZbiZdGfSxRQxjXF6tJDmsUoSGK4gt8eLt+FI70pL1fMKAI8MkZQZEw95Dv1E78OL/Opo/T+ZU1\n",
       "emF1pMHqeL6qJj1rDc9hjUIcoShewi1qoH4UjvQkrDhnQCGWtChC5hzqKHosRK8n8puq8ypifXph\n",
       "9Qbo70izwtVhpZ/Py/pqo6A1PAjNSBtS6kfhSE9e1KgBBfzC/nvj/V4UGZubkRpxL5tIrwcGWXCZ\n",
       "ZB6YvgvBHLtj9Y3LuQ+Qu5XZTE1zWKOg7fYgiHiq4sBtOtKT5nfeiOIp7WXzvEoE43VxEkMgsOaY\n",
       "lMxCVb3nc/6IA/FJRaamOaxRwF9sBJmTydzqZARxoidrJ8Oac+Imom4WLKito4e9jtV7Nfc32UWG\n",
       "YifAICJoXDmN1EJB9Q7Wnyow1u0OhmItRPEclva7yKwH4UrigJmfryZwFFR/2XFjd7k6nRjrlmEo\n",
       "khLvQatXnYYjISmuDm+mhJmg1dvOwfbzthgeGvMormUoEinmBeM7cfCUKqnDmymBoFD1ttaidrj/\n",
       "EAoo7EGR2QSAyTjh6PHXyJMv+dKQUA28sR6e3POAuVP0jecAEisXQ0M7SNRRsssOAos3IlfRLtGB\n",
       "6mhoxQf4WDoG+oQqCqwXpkfMT/hYZ7falaqTm9BwI2o7pcaCbqqRbhNeR17wzcMQI37uKJTwaqAg\n",
       "PaRP0KDA+ngpkoWoYSTZDV1qzLG7OoCeb0Bl8e5OU8mY+qpUC5Ezu42jSHaSmbP43pkzv6MnX0of\n",
       "pseYoKLA+pZiUx5eadWXOAIT1PMeyxDLteEAMmCKs6+mwa9nu6Btx0KlM5KjjSB2iKQMgyFBN0lv\n",
       "l5NfSaBHIQzDb22JcfSf26svdKQBle3TnH+sC01L3gsX/tSiSBRyNHDaD+jVLkXxRBY0CSYUQbkb\n",
       "1QihWApCjnygw7zISDnxPU5DaKux2j8NQKFdvzukuzLXe+F8OsbAdMiwHjX82IxOSEKXAqj9axJM\n",
       "KGJ9hx4mKLqUyDzokiPzIgvgo2/Gl+FnnEbXCrTNz5vFCjVR9DTAEY0aV7GER86cZqcK2UTQJFiv\n",
       "YrUSKS+QFpIu4jRtu53hvbJ4d2dJrwGFMG6Arol5NTpLsl7QS0jvdNWxoLf6LkWz8sLWUToklJY8\n",
       "opn3rPReWfxiclsNKOIwH33u8156eKg2ChF6P61zbVO0mG2LEBqnkfR7d/IBBaLKLgOKvTAKdqvm\n",
       "dVtwoDYK20m6Y+tWvFe2CALdK9yeydySydCtR7LD1+0dxYaUXyiC+Uag4FubGreJtxJhq3cU/m0J\n",
       "xbPefQVqWM15IwoSczWggzwNfqGIeY+x8C5Au5IzoNhQdP4EVubf9jHZpfBmeHdnG18HVFHgvUbo\n",
       "9Vy46N+XChowhOCILTnZ2EFW4Y/rvQ9Pef9QBHOeqzvdKtrEW6PRtOey/fwCkuh98eaAeTr2IinW\n",
       "1df99HYK/EMBb3n3m7JpDjVKvoOz3vv8puInii7Z8zx6wJTUS3ZvBz2jCCp+omgqeK7wuhp9zzNk\n",
       "eBb8RKF+3X0MWqLgDsUNLn8akyyPWRTsRxBtbVOd5XP905jTY5WEwL44f/bSxX8BcBYnwljv05QA\n",
       "AAAASUVORK5CYII=\n",
       "\" style=\"display:inline;vertical-align:middle;\" /></a><br>(see <a class=\"ProveItLink\" href=\"../__pv_it/687a2cc3fc78c03c8db8dc7add54e442075c43a60/dependencies.ipynb\">dependencies</a>)<br>"
      ],
      "text/plain": [
       "concatSimpleIterLenVal: forall_{i in Naturals , j in Naturals} [forall_{a_{1},...,a_{i}, f} (|(a_{1} ,  ...  , a_{i} , f(1) ,  ...  , f(j))| =  \\\\ (i + j))]"
      ]
     },
     "execution_count": 2,
     "metadata": {},
     "output_type": "execute_result"
    }
   ],
   "source": [
    "%proving concatSimpleIterLenVal presuming []"
   ]
  },
  {
   "cell_type": "code",
   "execution_count": null,
   "metadata": {},
   "outputs": [],
   "source": []
  }
 ],
 "metadata": {
  "kernelspec": {
   "display_name": "Python 3",
   "language": "python",
   "name": "python3"
  }
 },
 "nbformat": 4,
 "nbformat_minor": 0
}
