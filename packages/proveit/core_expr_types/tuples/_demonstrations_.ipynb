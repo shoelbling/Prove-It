{
 "cells": [
  {
   "cell_type": "markdown",
   "metadata": {},
   "source": [
    "Demonstrations for context <a href=\"_context_.ipynb\" class=\"ProveItLink\">proveit.core_expr_types.tuples</a>\n",
    "========"
   ]
  },
  {
   "cell_type": "code",
   "execution_count": 1,
   "metadata": {},
   "outputs": [],
   "source": [
    "import proveit\n",
    "from proveit import Lambda, ExprTuple\n",
    "from proveit._common_ import a, b, f, i, j, k, l, n, x, y, xx, yy\n",
    "from proveit.logic import InSet\n",
    "#from proveit.logic.equality._theorems_ import multiVarSubstitution\n",
    "from proveit.number import Add, Mult, Neg, subtract, Naturals, one\n",
    "from proveit.iteration._common_ import aIter_i_j, xIter1n, yIter1n\n",
    "from proveit.iteration._common_ import fIter_i_jp1, fIter_i_j\n",
    "from proveit.iteration import Len\n",
    "%begin demonstrations"
   ]
  },
  {
   "cell_type": "code",
   "execution_count": 2,
   "metadata": {},
   "outputs": [
    {
     "data": {
      "text/html": [
       "<a class=\"ProveItLink\" href=\"__pv_it/0ad457e02f098e6bf0eab97b7245127abb7d1db30/expr.ipynb\"><img src=\"data:image/png;base64,iVBORw0KGgoAAAANSUhEUgAAAKIAAAAVBAMAAAA3EyjlAAAAMFBMVEX///8yMjLc3NyIiIiYmJgi\n",
       "IiJERES6urqqqqoQEBDMzMxUVFTu7u52dnZmZmYAAAD1zdHuAAAAAXRSTlMAQObYZgAAAAlwSFlz\n",
       "AAAOxAAADsQBlSsOGwAAAhpJREFUOMuNVT1I5EAUfhuzblbX7BZXXGcKsTWFiJV6CJanCBH/ES21\n",
       "0ELB6tJYeYfCIVoIZ2NhpdWBzRFZsHUbKxHWv1JQLASx8P1MwrpJ5jYwL/My3/ftm3lv3gJEj0PG\n",
       "gIYeo5HvTT7ZnNuQYm/Kd0W3rwO0v0i1mopVj2CtCpqWpbq1wyD8qasjDK9Qwlm2AplAq8hYOONN\n",
       "lT6tFP61I1Xoe2v4sgdkwaxqFRkL9592qpjQHyh67p3cfAjY1wkKFrZrv1lujSLT20bIXQkBX3SK\n",
       "gs2V0hWRbp5OUaSPOMp3dFIaQYW1KTHlnkRFohfdMLTKOppvuhgFm6GTq+YHkhSJ3nVA7jiWp3+D\n",
       "kw2domCzmG/TKfpJikTfYncX8w8vODnWKQo2v8xzErA9b2LH804iRaJfhopgUSbXdYqXNYoPiedI\n",
       "9EV2v9L5nPxv14LN8H5nIG3Xv9ldwHHhYxKHqP7jWnKVBNtMGsZroiLSjTe5Xjh+GJg+qqALLLjC\n",
       "MygTeSG2jfZiPiUqIt2SlVX67W40o5TMaTSzoEyWatDjDiHYHNV561yd4t8/Uy7Tbc4TZA9Uh+Nb\n",
       "8TO2a4szK1iYpPS49TEq+qYcc9QhpGNU4vcPR4iF79DqDwf1nULRx87UfF5endyZ4n23jCPCNjvH\n",
       "/nhiMSB98FbNz+XFbdSMQymQCFuYs/uWExVru7DBwZtOQ/8KHWmtxIEPtp2C2cZ0lToAAAAASUVO\n",
       "RK5CYII=\n",
       "\" style=\"display:inline;vertical-align:middle;\" /></a>"
      ],
      "text/plain": [
       "f(i),...,f(j + 1)"
      ]
     },
     "execution_count": 2,
     "metadata": {},
     "output_type": "execute_result"
    }
   ],
   "source": [
    "fIter_i_jp1"
   ]
  },
  {
   "cell_type": "code",
   "execution_count": null,
   "metadata": {},
   "outputs": [],
   "source": []
  },
  {
   "cell_type": "code",
   "execution_count": 6,
   "metadata": {},
   "outputs": [
    {
     "data": {
      "text/html": [
       "<span style=\"font-size:20px;\"> <a class=\"ProveItLink\" href=\"_axioms_.ipynb#iterExtensionDef\" style=\"text-decoration: none\">&#x22A2;&nbsp;</a><a class=\"ProveItLink\" href=\"__pv_it/f40fe26d8c2a7379f087c98a18bb1879ef45182f0/expr.ipynb\"><img src=\"data:image/png;base64,iVBORw0KGgoAAAANSUhEUgAAAeYAAAAyBAMAAAB7ZWVxAAAAMFBMVEX///+IiIgiIiIQEBB2dnbu\n",
       "7u5UVFTMzMzc3NwyMjK6urpmZmaYmJiqqqpEREQAAACk/Np2AAAAAXRSTlMAQObYZgAAAAlwSFlz\n",
       "AAAOxAAADsQBlSsOGwAACEpJREFUaN7NWl2IW0UUPsnm5v/upi9FWWuXqK0glVbrLy5GcX2R0luo\n",
       "VRHdaME+WDVYEXywGxQFQdu8+INWjFbQQm2z9a8/ilsFsRXaKLpQFTZVtvZBl60Y/1ecOTN37syd\n",
       "ySQP7m0vyb2HOefMvd+dmTPnfAlAdEeyDqf5cKajvuNGraUalqu99VS1tKdtjo940UJOlsItsWZY\n",
       "frWnnmQ/5aDu2YLF0x2KFvPHWstXeH5nxJcHO6PhR2ALm0NDlrqAv4xFtg7eixRy+ndtddXoObFh\n",
       "2JfPB3jW2odkC2erqnX72sDcM7b5G5+IEnNcm9o5vH/fN9NCBvjc2odqy46d/oRvc/d8wza5L4sS\n",
       "8yc6Ajzv9gKZXK1BRrVlxxcyZnS3wnopSswrtZYdeL5eksnEtM491daAGd23WV9bNTrI+EihgERP\n",
       "n15yL5edQRJxE2VLH4EtOAtaJszofqPtOTKNCJezDoaNxylfTmSXk8VYs3UibCEH15gwo/shDBZF\n",
       "PLS7uu3oMI9VtKZlUjgn8jO5WpcNNLCFz2DOhBndv7SmYqeiw7xeb7oa3/usL3sDZG6nZm1Bd1by\n",
       "w/HaUyxeWiwuEZjRfcz6IN9Hh/nyDpgTQ0KeIkGXzu/O23NgC7kh0zij+3brgxyNLIil/tHbXqan\n",
       "/rKQn+uWHEq2wXbfYW53Ws8wGllWkvhDbzuOm23Bl525BAlCNBzre7QDqi3A1roxhlH3I/a8phwV\n",
       "5n7DnMU9ZWvFl7OzT5PhIbCcP4GfRmuSINuSKWrcn6k7jNufZAhwm/tu3jH3tfS21+hpKpCPk1kX\n",
       "p6utSAf6IjqBG75wQcgW7g9hTv7wy13c/UL7jJuF/fT6wrxjHjWkAvFKUOjE+Vb2GMZkfXJ/DSHb\n",
       "FeFxFu5pe72Y/wseplat+d+eDVUtKQbc8stCxuMDHArdlkQs2fa+fDtcYwj3nD1IpU5h5ZVozjvm\n",
       "KdMtTkJ8uiZkEG9/jR7DyCuTbFNzceMjo/uWLvzQ35AnbyUz/zHsaMXQeCfkB6tCxgCDs1ofqDz9\n",
       "Srbj+83xibp347x+A7ikWFw5/5gXmzKB9ERY/qw3+qHT7KXu+W45x78A73d/M//DsTpi8s1yXAXw\n",
       "JKSDXfpWtszx3PDPLn9z5OpUY+ZMmJhUgCy6gnBUj4/OHMxFugYSNKVxDtAJc520cbBgTs6HuZpc\n",
       "EwUd0e0fMJOlpMCjH+4ID75Tj4ks+4EzBjKcR4aogCEseTgcZXzMTpmpHTYdXg/3sfEN4KpsiX6o\n",
       "Y2rhTN0tj8C7ZyZmqB2k0oC29H3MuTpT51iGq9GKJJPmKko7PouOB8gLdA/moGSc2+mwnO7xcavQ\n",
       "0bpT5EprDmRuwypKkLrrV5Hzqzheaz5UMMe5mlyzC/XNfHJlk6qcQdK+Cj8tiNF14j76ZkFgXi0/\n",
       "06KwbOXhJX6J3dpk3ZEYp8aqA4lh8DgCxWJkBLObxjEF81NcTa6JUQ/c0IKmpQxR5VySMXyLnxbb\n",
       "bN3KyDcC82Jp5bjYmrvB43KsYefhIczlK9asH1SlwhvQgx57qYvClXw/Ps4BOgfuoKmq492kYN7F\n",
       "1eT6BClNs6FENddA1c0Jdt1FXXYyzLlYy5ST3Maqo01NLpNSOGMP6yEuX7HGfpgqppJpzr2veMxY\n",
       "cfhbJeT6CxI552Oe5E2TrHRNhTBTenWSXzfjpwWHZmZmmm7FKYmHmKqrSTHA8C5PyHYeXuPyFWvs\n",
       "x0zzw2KPGcsOzq9CvAKrn1v8qCRh3szV5Oq0K9rc7qugCoOgP7cfYuMMb4mFNCY9FJbS2XYgQxce\n",
       "XuPyJWvWj5nmR8xofJlSY/jo2+CU4FgC1pLW5VoMI2p6dWsliBWI4VrwT0CWOJpsIt8F+GmxvDdf\n",
       "h5jIdgaCN5WtBdxWtqbwvp2OMJe/LcyR7bBg3qY6uHPiQYYgNQzrzgKyOviT+pj7q6imV+euKrkQ\n",
       "w03V1JX0NMwqeGqykBVHJ6lL+kda2j8v0hPyVoKllqMhLL9+SYPLa8ahCw+vcfmBNe8Hfx5Yc64R\n",
       "841q97E/pFoWXJSa/u8nPmaaZlB1tuQXQG7w0tjPYlRFXqXToh/quHZmpq48dnK5EgDIwBd8uUR5\n",
       "ykPWcQ5z+ZI16wfHsdE3YcJ8SHVI+mxy/2SFcxGu9+ImNSeBvUxNrrifcUNOX/y8gV73Zt4goBIe\n",
       "/YCJgQhqfGClL+O2iJxu7oMuPLzG5UvWrJ9lWFANNE2Yv1QdBEuVWOCXrXkYfzeEOeGhGvHQVSrV\n",
       "txNwHb7nxO2DHmbdh8GMOTUX3LQecFtEdnAUrTy8xuVL1lOBCglymeZnmMdUh62FroleVeJePcG6\n",
       "aofHT16nNPDyEObrhYworDy8xuVvD4c3hnmPcT1vVx2i4/Th7WA94ww8IeRMudvc1rh8yfpEoKL/\n",
       "U+g+t++OrprZLWIaS3xWCHm0WeKpb89c/pFgwq0IVOm/jJiPqDR/hL/RxcUGjb8R87BE5d2U6hnX\n",
       "aHwblz8uVLwfVOVnjZjHFZo/H+FvscG96F7vhyXc98/xeXjK5Qsa38blXyhUvB9UJVshzPdfu6TA\n",
       "jAOa3/A7+PwdAdG4lIaiciALHr5XLp9Zo4r3g6q+gonmp8YSzR/lfyvgqABEspjJTFPIIMqHXrl8\n",
       "Zk2Dmd8PUSWb4g4KzU+NpRLkRJSUTEbU0iRTvfi2QAbBw/fK5W/xVUE/J2Gsucx43y0KzZ9tR4mZ\n",
       "JOg+kBYc3BvIIHj4Xrn8aV8V9HMn5AbrxvtOKzR/XzNKzNIf956WWlHO97bIOJdvsu5I81NjyeGe\n",
       "aPlG/T+u0R9uLeIb/nT6MUf9X2bor59uyA7+hfY/TNh0awFL8nkAAAAASUVORK5CYII=\n",
       "\" style=\"display:inline;vertical-align:middle;\" /></a></span>"
      ],
      "text/plain": [
       "|- forall_{f, i, j | |(f(i) ,  ...  , f(j))| in Naturals} ((f(i) ,  ...  , f(j + 1)) =  \\\\ (f(i) ,  ...  , f(j) , f(j + 1)))"
      ]
     },
     "execution_count": 6,
     "metadata": {},
     "output_type": "execute_result"
    }
   ],
   "source": [
    "from proveit.iteration._axioms_ import iterExtensionDef\n",
    "iterExtensionDef"
   ]
  },
  {
   "cell_type": "code",
   "execution_count": 5,
   "metadata": {},
   "outputs": [
    {
     "data": {
      "text/html": [
       "<a class=\"ProveItLink\" href=\"__pv_it/f7bd4ad02f71e0216c3a25de7f10fa0a461e7a2a0/expr.ipynb\"><img src=\"data:image/png;base64,iVBORw0KGgoAAAANSUhEUgAAAFYAAAAVCAMAAADrROkHAAAANlBMVEX///8WFhYNDQ0QEBC6uroy\n",
       "MjJERETc3NyYmJgiIiJmZmaqqqp2dnbMzMxUVFSIiIju7u4AAAANq5mNAAAAAXRSTlMAQObYZgAA\n",
       "AAlwSFlzAAAOxAAADsQBlSsOGwAAAT1JREFUOMullNuWgyAMRWmByDWB///ZwVqXJGBbHZ4EdOec\n",
       "JEapf6/l4/buosj3hu6SQkplf47pW5xfV8Ks90+LHe9tuYXV0cD+ZXDjvQvfMzdWwNROjZ7Gncll\n",
       "Z3GMnHwXws6wdrVQiLDklPZ0efaKlw5RewxH8d5SGCPhetWsIqngp6AIUksloWtguObBtexRXRS6\n",
       "uT4Cnqml5s7LJk8wYkOsL0GfoufDs1WrYfJrX5ztSjByHX1Jtcaa04rtWMEw+t0yzUQpU2yWzQ3Y\n",
       "1zwebXcwWhIKGIWr6DRXa2Xj6t4ZvDaS4aClKpfQRJsjLkuB7FtWsa2VBkYgVQJRa3p3Mh9CFges\n",
       "Ysq8rEmGvz4cA/K/JU8GsL/IjNgV6XSszMbPx+VhGIQwGF7gagYcBUkpAwTujVspTlhef2T1BwRx\n",
       "C/eJUdJFAAAAAElFTkSuQmCC\n",
       "\" style=\"display:inline;vertical-align:middle;\" /></a>"
      ],
      "text/plain": [
       "x -> f(x)"
      ]
     },
     "execution_count": 5,
     "metadata": {},
     "output_type": "execute_result"
    }
   ],
   "source": [
    "fIter_i_jp1.lambda_map"
   ]
  },
  {
   "cell_type": "code",
   "execution_count": 3,
   "metadata": {},
   "outputs": [
    {
     "data": {
      "text/html": [
       "<strong id=\"assumptions\">assumptions:</strong> <a class=\"ProveItLink\" href=\"__pv_it/66d078365f7e26fd83a7d2dc152783728949b1da0/expr.ipynb\"><img src=\"data:image/png;base64,iVBORw0KGgoAAAANSUhEUgAAAQcAAAAVBAMAAAC57DawAAAAMFBMVEX////MzMxUVFREREQiIiK6\n",
       "uroQEBCYmJhmZmYyMjLu7u52dnaqqqqIiIjc3NwAAACFAiZ1AAAAAXRSTlMAQObYZgAAAAlwSFlz\n",
       "AAAOxAAADsQBlSsOGwAAAxhJREFUSMetVk1o1EAU/jb7k91suy0o4kVaqYiIlIitYLGy1lyspS1S\n",
       "lCpCwZ+Dly54UfCnh4KICMGLUGoNbS8eSouCXhfqSZFGein+YEChCB4KYkHx4Pwkm9nJZBvBgQfv\n",
       "JfN9+ea9NzMB4IFbklHCfx/s081VbolG1pUezP844uDF5rBqsjF0aArF8ctqqgB5gQZvfEOqR5q2\n",
       "JsXbHeCjzHU02w7jtxqRrp4GFh0/kvl9JE2AYXMj6bAl/lP169r3hNAVHGnSHu8lMKZEQBssVpAL\n",
       "Ipk/QE4B+Qq3+HE2cD4TAfqE9PaAWfBQViO1ZcwgE8cbIK+DCc017IO3oghc9ZfVZZ1kTuetki2L\n",
       "WLUstmpt3f0WERFB5hyMknD0H0Q84g36OChLp9b6QRIx+j7IhLe7eUkSEUUWKrhPQmpYWJV6e81V\n",
       "iXjG3G+11uiEmR4ui4jSVK0cXhrdgQifP4ostrOVsdVN5Oo7o5gdU4m4wdwZhFQ7jf6yiCh4oYjU\n",
       "xPy8H/j8UaRuY4CE1HSvpf6w+J63VSJeMdcWqPTq8piIKISN6eFm02HuB/xRZFMZ9Cjhx8kK/cZT\n",
       "i47jxHNaaHInLeuKZfWFItrYlr9EJp3wqbBf4yI4Ajsog+mL0Jy9wUcZvwKZ2hBETEoNueKoMnGG\n",
       "Vd8U1oNZoywi5sRMGO1BOTi/AkmKOE3CadVJg4eIL0dZpEq5pojIiCKwK11/9kWRpBy9JOxlTf1T\n",
       "2h1/iioR15j7qTbtILF3JowQ0Vy7X9KtJNpG6iTwR5DQTbbl2LbTN6QNvbGuEvGAuYVaE9OmJg25\n",
       "aIeI6eBdhs66B+OXwB9BIu9ihLgjLHemVI7eSr2IjvE+ssZBnqaOc/6ltmmyuyfTHyJmu3k3pYYu\n",
       "0lYHLCfkjyCR8ZAhKaOGnLvVicmS6tc0+9w/fIPxWvDPd1l1l1WTI/BHkF/5jURMq95xtrrA6Ii9\n",
       "65YaHPykVRrw3yV2jFlbdSDRX82XmOeG2wC0gAb8JdPf1nPIrw0nEtET81xvBKJ/C7H8aZqhUoVb\n",
       "oqEn/RlNPm4DfwEtHe9hfOSn1wAAAABJRU5ErkJggg==\n",
       "\" style=\"display:inline;vertical-align:middle;\" /></a><br>"
      ],
      "text/plain": [
       "assumptions: ((j - i + 1) in Naturals , i in Naturals , j in Naturals)"
      ]
     },
     "execution_count": 3,
     "metadata": {},
     "output_type": "execute_result"
    }
   ],
   "source": [
    "assumptions = [InSet(Add(j, Neg(i), one), Naturals), \n",
    "               InSet(i, Naturals), InSet(j, Naturals)]"
   ]
  },
  {
   "cell_type": "code",
   "execution_count": 4,
   "metadata": {},
   "outputs": [
    {
     "ename": "LambdaApplicationError",
     "evalue": "Failure to apply x -> (x = x) to (f(i),...,f(j),) assuming ((j - i + 1) in Naturals, i in Naturals, j in Naturals): Singular parameters must correspond with singular operands: x vs (f(i),...,f(j),).",
     "output_type": "error",
     "traceback": [
      "\u001b[1;31m---------------------------------------------------------------------------\u001b[0m",
      "\u001b[1;31mProofFailure\u001b[0m                              Traceback (most recent call last)",
      "\u001b[1;32mc:\\users\\wwitzel\\prove-it\\packages\\proveit\\_core_\\expression\\expr.py\u001b[0m in \u001b[0;36mprove\u001b[1;34m(self, assumptions, automation)\u001b[0m\n\u001b[0;32m    465\u001b[0m                     \u001b[1;31m# first attempt to prove via implication\u001b[0m\u001b[1;33m\u001b[0m\u001b[1;33m\u001b[0m\u001b[1;33m\u001b[0m\u001b[0m\n\u001b[1;32m--> 466\u001b[1;33m                     \u001b[0mconcludedTruth\u001b[0m \u001b[1;33m=\u001b[0m \u001b[0mself\u001b[0m\u001b[1;33m.\u001b[0m\u001b[0mconcludeViaImplication\u001b[0m\u001b[1;33m(\u001b[0m\u001b[0massumptions\u001b[0m\u001b[1;33m)\u001b[0m\u001b[1;33m\u001b[0m\u001b[1;33m\u001b[0m\u001b[0m\n\u001b[0m\u001b[0;32m    467\u001b[0m                 \u001b[1;32mexcept\u001b[0m \u001b[0mProofFailure\u001b[0m\u001b[1;33m:\u001b[0m\u001b[1;33m\u001b[0m\u001b[1;33m\u001b[0m\u001b[0m\n",
      "\u001b[1;32mc:\\users\\wwitzel\\prove-it\\packages\\proveit\\_core_\\expression\\expr.py\u001b[0m in \u001b[0;36mconcludeViaImplication\u001b[1;34m(self, assumptions)\u001b[0m\n\u001b[0;32m    525\u001b[0m         \u001b[1;32mfrom\u001b[0m \u001b[0mproveit\u001b[0m\u001b[1;33m.\u001b[0m\u001b[0mlogic\u001b[0m \u001b[1;32mimport\u001b[0m \u001b[0mconcludeViaImplication\u001b[0m\u001b[1;33m\u001b[0m\u001b[1;33m\u001b[0m\u001b[0m\n\u001b[1;32m--> 526\u001b[1;33m         \u001b[1;32mreturn\u001b[0m \u001b[0mconcludeViaImplication\u001b[0m\u001b[1;33m(\u001b[0m\u001b[0mself\u001b[0m\u001b[1;33m,\u001b[0m \u001b[0massumptions\u001b[0m\u001b[1;33m)\u001b[0m\u001b[1;33m\u001b[0m\u001b[1;33m\u001b[0m\u001b[0m\n\u001b[0m\u001b[0;32m    527\u001b[0m \u001b[1;33m\u001b[0m\u001b[0m\n",
      "\u001b[1;32mc:\\users\\wwitzel\\prove-it\\packages\\proveit\\logic\\boolean\\implication\\implies.py\u001b[0m in \u001b[0;36mconcludeViaImplication\u001b[1;34m(consequent, assumptions)\u001b[0m\n\u001b[0;32m    309\u001b[0m                         \u001b[0mqueue\u001b[0m\u001b[1;33m.\u001b[0m\u001b[0mappend\u001b[0m\u001b[1;33m(\u001b[0m\u001b[0mlocal_antecedent\u001b[0m\u001b[1;33m)\u001b[0m\u001b[1;33m\u001b[0m\u001b[1;33m\u001b[0m\u001b[0m\n\u001b[1;32m--> 310\u001b[1;33m     \u001b[1;32mraise\u001b[0m \u001b[0mProofFailure\u001b[0m\u001b[1;33m(\u001b[0m\u001b[0mconsequent\u001b[0m\u001b[1;33m,\u001b[0m \u001b[0massumptions\u001b[0m\u001b[1;33m,\u001b[0m \u001b[1;34m'Unable to conclude via implications'\u001b[0m\u001b[1;33m)\u001b[0m\u001b[1;33m\u001b[0m\u001b[1;33m\u001b[0m\u001b[0m\n\u001b[0m\u001b[0;32m    311\u001b[0m \u001b[1;33m\u001b[0m\u001b[0m\n",
      "\u001b[1;31mProofFailure\u001b[0m: Unable to prove |(f(i) ,  ...  , f(j))| in Naturals assuming {(j - i + 1) in Naturals, i in Naturals, j in Naturals}: Unable to conclude via implications",
      "\nDuring handling of the above exception, another exception occurred:\n",
      "\u001b[1;31mProofFailure\u001b[0m                              Traceback (most recent call last)",
      "\u001b[1;32mc:\\users\\wwitzel\\prove-it\\packages\\proveit\\_core_\\expression\\expr.py\u001b[0m in \u001b[0;36mprove\u001b[1;34m(self, assumptions, automation)\u001b[0m\n\u001b[0;32m    465\u001b[0m                     \u001b[1;31m# first attempt to prove via implication\u001b[0m\u001b[1;33m\u001b[0m\u001b[1;33m\u001b[0m\u001b[1;33m\u001b[0m\u001b[0m\n\u001b[1;32m--> 466\u001b[1;33m                     \u001b[0mconcludedTruth\u001b[0m \u001b[1;33m=\u001b[0m \u001b[0mself\u001b[0m\u001b[1;33m.\u001b[0m\u001b[0mconcludeViaImplication\u001b[0m\u001b[1;33m(\u001b[0m\u001b[0massumptions\u001b[0m\u001b[1;33m)\u001b[0m\u001b[1;33m\u001b[0m\u001b[1;33m\u001b[0m\u001b[0m\n\u001b[0m\u001b[0;32m    467\u001b[0m                 \u001b[1;32mexcept\u001b[0m \u001b[0mProofFailure\u001b[0m\u001b[1;33m:\u001b[0m\u001b[1;33m\u001b[0m\u001b[1;33m\u001b[0m\u001b[0m\n",
      "\u001b[1;32mc:\\users\\wwitzel\\prove-it\\packages\\proveit\\_core_\\expression\\expr.py\u001b[0m in \u001b[0;36mconcludeViaImplication\u001b[1;34m(self, assumptions)\u001b[0m\n\u001b[0;32m    525\u001b[0m         \u001b[1;32mfrom\u001b[0m \u001b[0mproveit\u001b[0m\u001b[1;33m.\u001b[0m\u001b[0mlogic\u001b[0m \u001b[1;32mimport\u001b[0m \u001b[0mconcludeViaImplication\u001b[0m\u001b[1;33m\u001b[0m\u001b[1;33m\u001b[0m\u001b[0m\n\u001b[1;32m--> 526\u001b[1;33m         \u001b[1;32mreturn\u001b[0m \u001b[0mconcludeViaImplication\u001b[0m\u001b[1;33m(\u001b[0m\u001b[0mself\u001b[0m\u001b[1;33m,\u001b[0m \u001b[0massumptions\u001b[0m\u001b[1;33m)\u001b[0m\u001b[1;33m\u001b[0m\u001b[1;33m\u001b[0m\u001b[0m\n\u001b[0m\u001b[0;32m    527\u001b[0m \u001b[1;33m\u001b[0m\u001b[0m\n",
      "\u001b[1;32mc:\\users\\wwitzel\\prove-it\\packages\\proveit\\logic\\boolean\\implication\\implies.py\u001b[0m in \u001b[0;36mconcludeViaImplication\u001b[1;34m(consequent, assumptions)\u001b[0m\n\u001b[0;32m    309\u001b[0m                         \u001b[0mqueue\u001b[0m\u001b[1;33m.\u001b[0m\u001b[0mappend\u001b[0m\u001b[1;33m(\u001b[0m\u001b[0mlocal_antecedent\u001b[0m\u001b[1;33m)\u001b[0m\u001b[1;33m\u001b[0m\u001b[1;33m\u001b[0m\u001b[0m\n\u001b[1;32m--> 310\u001b[1;33m     \u001b[1;32mraise\u001b[0m \u001b[0mProofFailure\u001b[0m\u001b[1;33m(\u001b[0m\u001b[0mconsequent\u001b[0m\u001b[1;33m,\u001b[0m \u001b[0massumptions\u001b[0m\u001b[1;33m,\u001b[0m \u001b[1;34m'Unable to conclude via implications'\u001b[0m\u001b[1;33m)\u001b[0m\u001b[1;33m\u001b[0m\u001b[1;33m\u001b[0m\u001b[0m\n\u001b[0m\u001b[0;32m    311\u001b[0m \u001b[1;33m\u001b[0m\u001b[0m\n",
      "\u001b[1;31mProofFailure\u001b[0m: Unable to prove f(i) =  ...  = f(j) = f(i) =  ...  = f(j) assuming {(j - i + 1) in Naturals, i in Naturals, j in Naturals}: Unable to conclude via implications",
      "\nDuring handling of the above exception, another exception occurred:\n",
      "\u001b[1;31mLambdaApplicationError\u001b[0m                    Traceback (most recent call last)",
      "\u001b[1;32m<ipython-input-4-90c4ba73ff37>\u001b[0m in \u001b[0;36m<module>\u001b[1;34m\u001b[0m\n\u001b[1;32m----> 1\u001b[1;33m \u001b[0meq\u001b[0m \u001b[1;33m=\u001b[0m \u001b[0mfIter_i_jp1\u001b[0m\u001b[1;33m.\u001b[0m\u001b[0mpartition\u001b[0m\u001b[1;33m(\u001b[0m\u001b[0mj\u001b[0m\u001b[1;33m,\u001b[0m \u001b[0massumptions\u001b[0m\u001b[1;33m)\u001b[0m\u001b[1;33m\u001b[0m\u001b[1;33m\u001b[0m\u001b[0m\n\u001b[0m\u001b[0;32m      2\u001b[0m \u001b[0mproveit\u001b[0m\u001b[1;33m.\u001b[0m\u001b[0mmagics\u001b[0m\u001b[1;33m.\u001b[0m\u001b[0mAssignments\u001b[0m\u001b[1;33m(\u001b[0m\u001b[1;33m[\u001b[0m\u001b[1;34m'eq'\u001b[0m\u001b[1;33m]\u001b[0m\u001b[1;33m,\u001b[0m \u001b[1;33m[\u001b[0m\u001b[0meq\u001b[0m\u001b[1;33m]\u001b[0m\u001b[1;33m)\u001b[0m\u001b[1;33m\u001b[0m\u001b[1;33m\u001b[0m\u001b[0m\n",
      "\u001b[1;32mc:\\users\\wwitzel\\prove-it\\packages\\proveit\\_core_\\expression\\composite\\iteration.py\u001b[0m in \u001b[0;36mpartition\u001b[1;34m(self, before_split_idx, assumptions)\u001b[0m\n\u001b[0;32m    474\u001b[0m             return iterExtensionDef.specialize(\n\u001b[0;32m    475\u001b[0m                     \u001b[1;33m{\u001b[0m\u001b[0mf\u001b[0m\u001b[1;33m:\u001b[0m\u001b[0mlambda_map\u001b[0m\u001b[1;33m,\u001b[0m \u001b[0mi\u001b[0m\u001b[1;33m:\u001b[0m\u001b[0mstart_index\u001b[0m\u001b[1;33m,\u001b[0m \u001b[0mj\u001b[0m\u001b[1;33m:\u001b[0m\u001b[0mbefore_split_idx\u001b[0m\u001b[1;33m}\u001b[0m\u001b[1;33m,\u001b[0m\u001b[1;33m\u001b[0m\u001b[1;33m\u001b[0m\u001b[0m\n\u001b[1;32m--> 476\u001b[1;33m                     assumptions=assumptions)\n\u001b[0m\u001b[0;32m    477\u001b[0m         \u001b[1;32melif\u001b[0m \u001b[0mbefore_split_idx\u001b[0m \u001b[1;33m==\u001b[0m \u001b[0mself\u001b[0m\u001b[1;33m.\u001b[0m\u001b[0mstart_index\u001b[0m\u001b[1;33m:\u001b[0m\u001b[1;33m\u001b[0m\u001b[1;33m\u001b[0m\u001b[0m\n\u001b[0;32m    478\u001b[0m             \u001b[1;31m# special case when pealing off the front\u001b[0m\u001b[1;33m\u001b[0m\u001b[1;33m\u001b[0m\u001b[1;33m\u001b[0m\u001b[0m\n",
      "\u001b[1;32mc:\\users\\wwitzel\\prove-it\\packages\\proveit\\_core_\\known_truth.py\u001b[0m in \u001b[0;36mspecialize\u001b[1;34m(self, repl_map, relabel_map, assumptions)\u001b[0m\n\u001b[0;32m    710\u001b[0m         \u001b[1;32mif\u001b[0m \u001b[0mrelabel_map\u001b[0m \u001b[1;32mis\u001b[0m \u001b[1;32mnot\u001b[0m \u001b[1;32mNone\u001b[0m\u001b[1;33m:\u001b[0m\u001b[1;33m\u001b[0m\u001b[1;33m\u001b[0m\u001b[0m\n\u001b[0;32m    711\u001b[0m             \u001b[0mrepl_map\u001b[0m\u001b[1;33m.\u001b[0m\u001b[0mupdate\u001b[0m\u001b[1;33m(\u001b[0m\u001b[0mrelabel_map\u001b[0m\u001b[1;33m)\u001b[0m\u001b[1;33m\u001b[0m\u001b[1;33m\u001b[0m\u001b[0m\n\u001b[1;32m--> 712\u001b[1;33m         \u001b[1;32mreturn\u001b[0m \u001b[0mself\u001b[0m\u001b[1;33m.\u001b[0m\u001b[0minstantiate\u001b[0m\u001b[1;33m(\u001b[0m\u001b[0mrepl_map\u001b[0m\u001b[1;33m,\u001b[0m \u001b[0massumptions\u001b[0m\u001b[1;33m)\u001b[0m\u001b[1;33m\u001b[0m\u001b[1;33m\u001b[0m\u001b[0m\n\u001b[0m\u001b[0;32m    713\u001b[0m \u001b[1;33m\u001b[0m\u001b[0m\n\u001b[0;32m    714\u001b[0m \u001b[1;33m\u001b[0m\u001b[0m\n",
      "\u001b[1;32mc:\\users\\wwitzel\\prove-it\\packages\\proveit\\_core_\\known_truth.py\u001b[0m in \u001b[0;36minstantiate\u001b[1;34m(self, repl_map, assumptions)\u001b[0m\n\u001b[0;32m    836\u001b[0m         return self._checkedTruth(\n\u001b[0;32m    837\u001b[0m                 Instantiation(self, num_forall_eliminations=num_forall_eliminations, \n\u001b[1;32m--> 838\u001b[1;33m                               repl_map=processed_repl_map, assumptions=assumptions))\n\u001b[0m\u001b[0;32m    839\u001b[0m \u001b[1;33m\u001b[0m\u001b[0m\n\u001b[0;32m    840\u001b[0m     \u001b[1;32mdef\u001b[0m \u001b[0mgeneralize\u001b[0m\u001b[1;33m(\u001b[0m\u001b[0mself\u001b[0m\u001b[1;33m,\u001b[0m \u001b[0mforallVarLists\u001b[0m\u001b[1;33m,\u001b[0m \u001b[0mdomainLists\u001b[0m\u001b[1;33m=\u001b[0m\u001b[1;32mNone\u001b[0m\u001b[1;33m,\u001b[0m \u001b[0mdomain\u001b[0m\u001b[1;33m=\u001b[0m\u001b[1;32mNone\u001b[0m\u001b[1;33m,\u001b[0m \u001b[0mconditions\u001b[0m\u001b[1;33m=\u001b[0m\u001b[0mtuple\u001b[0m\u001b[1;33m(\u001b[0m\u001b[1;33m)\u001b[0m\u001b[1;33m)\u001b[0m\u001b[1;33m:\u001b[0m\u001b[1;33m\u001b[0m\u001b[1;33m\u001b[0m\u001b[0m\n",
      "\u001b[1;32mc:\\users\\wwitzel\\prove-it\\packages\\proveit\\_core_\\proof.py\u001b[0m in \u001b[0;36m__init__\u001b[1;34m(self, orig_known_truth, num_forall_eliminations, repl_map, assumptions)\u001b[0m\n\u001b[0;32m    841\u001b[0m                 Instantiation._instantiated_expr(\n\u001b[0;32m    842\u001b[0m                         \u001b[0morig_known_truth\u001b[0m\u001b[1;33m,\u001b[0m \u001b[0mnum_forall_eliminations\u001b[0m\u001b[1;33m,\u001b[0m \u001b[0mrepl_map\u001b[0m\u001b[1;33m,\u001b[0m\u001b[1;33m\u001b[0m\u001b[1;33m\u001b[0m\u001b[0m\n\u001b[1;32m--> 843\u001b[1;33m                         assumptions, requirements)\n\u001b[0m\u001b[0;32m    844\u001b[0m \u001b[1;33m\u001b[0m\u001b[0m\n\u001b[0;32m    845\u001b[0m             \u001b[1;31m# Remove duplicates in the requirements.\u001b[0m\u001b[1;33m\u001b[0m\u001b[1;33m\u001b[0m\u001b[1;33m\u001b[0m\u001b[0m\n",
      "\u001b[1;32mc:\\users\\wwitzel\\prove-it\\packages\\proveit\\_core_\\proof.py\u001b[0m in \u001b[0;36m_instantiated_expr\u001b[1;34m(original_known_truth, num_forall_eliminations, repl_map, assumptions, requirements)\u001b[0m\n\u001b[0;32m   1017\u001b[0m                             \u001b[0msubbed_cond\u001b[0m \u001b[1;33m=\u001b[0m \u001b[0mAnd\u001b[0m\u001b[1;33m(\u001b[0m\u001b[0msubbed_cond\u001b[0m\u001b[1;33m)\u001b[0m\u001b[1;33m\u001b[0m\u001b[1;33m\u001b[0m\u001b[0m\n\u001b[0;32m   1018\u001b[0m                         \u001b[1;32mtry\u001b[0m\u001b[1;33m:\u001b[0m\u001b[1;33m\u001b[0m\u001b[1;33m\u001b[0m\u001b[0m\n\u001b[1;32m-> 1019\u001b[1;33m                             \u001b[0mrequirements\u001b[0m\u001b[1;33m.\u001b[0m\u001b[0mappend\u001b[0m\u001b[1;33m(\u001b[0m\u001b[0msubbed_cond\u001b[0m\u001b[1;33m.\u001b[0m\u001b[0mprove\u001b[0m\u001b[1;33m(\u001b[0m\u001b[0massumptions\u001b[0m\u001b[1;33m)\u001b[0m\u001b[1;33m)\u001b[0m\u001b[1;33m\u001b[0m\u001b[1;33m\u001b[0m\u001b[0m\n\u001b[0m\u001b[0;32m   1020\u001b[0m                         \u001b[1;32mexcept\u001b[0m \u001b[0mProofFailure\u001b[0m\u001b[1;33m:\u001b[0m\u001b[1;33m\u001b[0m\u001b[1;33m\u001b[0m\u001b[0m\n\u001b[0;32m   1021\u001b[0m                             raiseFailure('Unmet specialization requirement: %s'\n",
      "\u001b[1;32mc:\\users\\wwitzel\\prove-it\\packages\\proveit\\_core_\\expression\\expr.py\u001b[0m in \u001b[0;36mprove\u001b[1;34m(self, assumptions, automation)\u001b[0m\n\u001b[0;32m    467\u001b[0m                 \u001b[1;32mexcept\u001b[0m \u001b[0mProofFailure\u001b[0m\u001b[1;33m:\u001b[0m\u001b[1;33m\u001b[0m\u001b[1;33m\u001b[0m\u001b[0m\n\u001b[0;32m    468\u001b[0m                     \u001b[1;31m# try the 'conclude' method of the specific Expression class\u001b[0m\u001b[1;33m\u001b[0m\u001b[1;33m\u001b[0m\u001b[1;33m\u001b[0m\u001b[0m\n\u001b[1;32m--> 469\u001b[1;33m                     \u001b[0mconcludedTruth\u001b[0m \u001b[1;33m=\u001b[0m \u001b[0mself\u001b[0m\u001b[1;33m.\u001b[0m\u001b[0mconclude\u001b[0m\u001b[1;33m(\u001b[0m\u001b[0massumptions\u001b[0m\u001b[1;33m)\u001b[0m\u001b[1;33m\u001b[0m\u001b[1;33m\u001b[0m\u001b[0m\n\u001b[0m\u001b[0;32m    470\u001b[0m             \u001b[1;32mif\u001b[0m \u001b[0mconcludedTruth\u001b[0m \u001b[1;32mis\u001b[0m \u001b[1;32mNone\u001b[0m\u001b[1;33m:\u001b[0m\u001b[1;33m\u001b[0m\u001b[1;33m\u001b[0m\u001b[0m\n\u001b[0;32m    471\u001b[0m                 \u001b[1;32mraise\u001b[0m \u001b[0mProofFailure\u001b[0m\u001b[1;33m(\u001b[0m\u001b[0mself\u001b[0m\u001b[1;33m,\u001b[0m \u001b[0massumptions\u001b[0m\u001b[1;33m,\u001b[0m \u001b[1;34m\"Failure to automatically 'conclude'\"\u001b[0m\u001b[1;33m)\u001b[0m\u001b[1;33m\u001b[0m\u001b[1;33m\u001b[0m\u001b[0m\n",
      "\u001b[1;32mc:\\users\\wwitzel\\prove-it\\packages\\proveit\\logic\\set_theory\\membership\\in_set.py\u001b[0m in \u001b[0;36mconclude\u001b[1;34m(self, assumptions)\u001b[0m\n\u001b[0;32m    126\u001b[0m             \u001b[1;31m# Since the membershipObject approach failed, let's try\u001b[0m\u001b[1;33m\u001b[0m\u001b[1;33m\u001b[0m\u001b[1;33m\u001b[0m\u001b[0m\n\u001b[0;32m    127\u001b[0m             \u001b[1;31m# harder to simplify the element.\u001b[0m\u001b[1;33m\u001b[0m\u001b[1;33m\u001b[0m\u001b[1;33m\u001b[0m\u001b[0m\n\u001b[1;32m--> 128\u001b[1;33m             \u001b[0melem_simplification\u001b[0m \u001b[1;33m=\u001b[0m \u001b[0mself\u001b[0m\u001b[1;33m.\u001b[0m\u001b[0melement\u001b[0m\u001b[1;33m.\u001b[0m\u001b[0msimplification\u001b[0m\u001b[1;33m(\u001b[0m\u001b[0massumptions\u001b[0m\u001b[1;33m)\u001b[0m\u001b[1;33m\u001b[0m\u001b[1;33m\u001b[0m\u001b[0m\n\u001b[0m\u001b[0;32m    129\u001b[0m             \u001b[1;32mif\u001b[0m \u001b[0melem_simplification\u001b[0m\u001b[1;33m.\u001b[0m\u001b[0mlhs\u001b[0m \u001b[1;33m==\u001b[0m \u001b[0melem_simplification\u001b[0m\u001b[1;33m.\u001b[0m\u001b[0mrhs\u001b[0m\u001b[1;33m:\u001b[0m\u001b[1;33m\u001b[0m\u001b[1;33m\u001b[0m\u001b[0m\n\u001b[0;32m    130\u001b[0m                 \u001b[0melem_simplification\u001b[0m \u001b[1;33m=\u001b[0m \u001b[1;32mNone\u001b[0m \u001b[1;31m# reflection doesn't count\u001b[0m\u001b[1;33m\u001b[0m\u001b[1;33m\u001b[0m\u001b[0m\n",
      "\u001b[1;32mc:\\users\\wwitzel\\prove-it\\packages\\proveit\\_core_\\expression\\expr.py\u001b[0m in \u001b[0;36msimplification\u001b[1;34m(self, assumptions, automation)\u001b[0m\n\u001b[0;32m    745\u001b[0m             simplification = defaultSimplification(self.innerExpr(), \n\u001b[0;32m    746\u001b[0m                                                    \u001b[0massumptions\u001b[0m\u001b[1;33m=\u001b[0m\u001b[0massumptions\u001b[0m\u001b[1;33m,\u001b[0m\u001b[1;33m\u001b[0m\u001b[1;33m\u001b[0m\u001b[0m\n\u001b[1;32m--> 747\u001b[1;33m                                                    automation=automation)\n\u001b[0m\u001b[0;32m    748\u001b[0m             \u001b[0mmethod_called\u001b[0m \u001b[1;33m=\u001b[0m \u001b[0mdefaultSimplification\u001b[0m\u001b[1;33m\u001b[0m\u001b[1;33m\u001b[0m\u001b[0m\n\u001b[0;32m    749\u001b[0m         \u001b[1;32mexcept\u001b[0m \u001b[0mSimplificationError\u001b[0m\u001b[1;33m:\u001b[0m\u001b[1;33m\u001b[0m\u001b[1;33m\u001b[0m\u001b[0m\n",
      "\u001b[1;32mc:\\users\\wwitzel\\prove-it\\packages\\proveit\\logic\\equality\\equals.py\u001b[0m in \u001b[0;36mdefaultSimplification\u001b[1;34m(innerExpr, inPlace, mustEvaluate, operandsOnly, assumptions, automation)\u001b[0m\n\u001b[0;32m    696\u001b[0m             \u001b[1;32mreturn\u001b[0m \u001b[0minnerSimplification\u001b[0m\u001b[1;33m(\u001b[0m\u001b[0mEquals\u001b[0m\u001b[1;33m(\u001b[0m\u001b[0minner\u001b[0m\u001b[1;33m,\u001b[0m \u001b[0minner\u001b[0m\u001b[1;33m)\u001b[0m\u001b[1;33m.\u001b[0m\u001b[0mprove\u001b[0m\u001b[1;33m(\u001b[0m\u001b[1;33m)\u001b[0m\u001b[1;33m)\u001b[0m\u001b[1;33m\u001b[0m\u001b[1;33m\u001b[0m\u001b[0m\n\u001b[0;32m    697\u001b[0m     reducedInnerExpr = reduceOperands(innerExpr, inPlace, mustEvaluate, \n\u001b[1;32m--> 698\u001b[1;33m                                       assumptions)\n\u001b[0m\u001b[0;32m    699\u001b[0m     \u001b[1;32mif\u001b[0m \u001b[0mreducedInnerExpr\u001b[0m \u001b[1;33m==\u001b[0m \u001b[0minnerExpr\u001b[0m\u001b[1;33m:\u001b[0m\u001b[1;33m\u001b[0m\u001b[1;33m\u001b[0m\u001b[0m\n\u001b[0;32m    700\u001b[0m         \u001b[1;32mif\u001b[0m \u001b[0mmustEvaluate\u001b[0m\u001b[1;33m:\u001b[0m\u001b[1;33m\u001b[0m\u001b[1;33m\u001b[0m\u001b[0m\n",
      "\u001b[1;32mc:\\users\\wwitzel\\prove-it\\packages\\proveit\\logic\\equality\\equals.py\u001b[0m in \u001b[0;36mreduceOperands\u001b[1;34m(innerExpr, inPlace, mustEvaluate, assumptions)\u001b[0m\n\u001b[0;32m    502\u001b[0m                     \u001b[0moperandEval\u001b[0m \u001b[1;33m=\u001b[0m \u001b[0moperand\u001b[0m\u001b[1;33m.\u001b[0m\u001b[0mevaluation\u001b[0m\u001b[1;33m(\u001b[0m\u001b[0massumptions\u001b[0m\u001b[1;33m=\u001b[0m\u001b[0massumptions\u001b[0m\u001b[1;33m)\u001b[0m\u001b[1;33m\u001b[0m\u001b[1;33m\u001b[0m\u001b[0m\n\u001b[0;32m    503\u001b[0m                 \u001b[1;32melse\u001b[0m\u001b[1;33m:\u001b[0m\u001b[1;33m\u001b[0m\u001b[1;33m\u001b[0m\u001b[0m\n\u001b[1;32m--> 504\u001b[1;33m                     \u001b[0moperandEval\u001b[0m \u001b[1;33m=\u001b[0m \u001b[0moperand\u001b[0m\u001b[1;33m.\u001b[0m\u001b[0msimplification\u001b[0m\u001b[1;33m(\u001b[0m\u001b[0massumptions\u001b[0m\u001b[1;33m=\u001b[0m\u001b[0massumptions\u001b[0m\u001b[1;33m)\u001b[0m\u001b[1;33m\u001b[0m\u001b[1;33m\u001b[0m\u001b[0m\n\u001b[0m\u001b[0;32m    505\u001b[0m                 \u001b[1;32mif\u001b[0m \u001b[0mmustEvaluate\u001b[0m \u001b[1;32mand\u001b[0m \u001b[1;32mnot\u001b[0m \u001b[0misIrreducibleValue\u001b[0m\u001b[1;33m(\u001b[0m\u001b[0moperandEval\u001b[0m\u001b[1;33m.\u001b[0m\u001b[0mrhs\u001b[0m\u001b[1;33m)\u001b[0m\u001b[1;33m:\u001b[0m\u001b[1;33m\u001b[0m\u001b[1;33m\u001b[0m\u001b[0m\n\u001b[0;32m    506\u001b[0m                     \u001b[0mmsg\u001b[0m \u001b[1;33m=\u001b[0m \u001b[1;34m'Evaluations expected to be irreducible values'\u001b[0m\u001b[1;33m\u001b[0m\u001b[1;33m\u001b[0m\u001b[0m\n",
      "\u001b[1;32mc:\\users\\wwitzel\\prove-it\\packages\\proveit\\_core_\\expression\\expr.py\u001b[0m in \u001b[0;36msimplification\u001b[1;34m(self, assumptions, automation)\u001b[0m\n\u001b[0;32m    745\u001b[0m             simplification = defaultSimplification(self.innerExpr(), \n\u001b[0;32m    746\u001b[0m                                                    \u001b[0massumptions\u001b[0m\u001b[1;33m=\u001b[0m\u001b[0massumptions\u001b[0m\u001b[1;33m,\u001b[0m\u001b[1;33m\u001b[0m\u001b[1;33m\u001b[0m\u001b[0m\n\u001b[1;32m--> 747\u001b[1;33m                                                    automation=automation)\n\u001b[0m\u001b[0;32m    748\u001b[0m             \u001b[0mmethod_called\u001b[0m \u001b[1;33m=\u001b[0m \u001b[0mdefaultSimplification\u001b[0m\u001b[1;33m\u001b[0m\u001b[1;33m\u001b[0m\u001b[0m\n\u001b[0;32m    749\u001b[0m         \u001b[1;32mexcept\u001b[0m \u001b[0mSimplificationError\u001b[0m\u001b[1;33m:\u001b[0m\u001b[1;33m\u001b[0m\u001b[1;33m\u001b[0m\u001b[0m\n",
      "\u001b[1;32mc:\\users\\wwitzel\\prove-it\\packages\\proveit\\logic\\equality\\equals.py\u001b[0m in \u001b[0;36mdefaultSimplification\u001b[1;34m(innerExpr, inPlace, mustEvaluate, operandsOnly, assumptions, automation)\u001b[0m\n\u001b[0;32m    694\u001b[0m         \u001b[1;32melse\u001b[0m\u001b[1;33m:\u001b[0m\u001b[1;33m\u001b[0m\u001b[1;33m\u001b[0m\u001b[0m\n\u001b[0;32m    695\u001b[0m             \u001b[1;31m# don't know how to simplify, so keep it the same\u001b[0m\u001b[1;33m\u001b[0m\u001b[1;33m\u001b[0m\u001b[1;33m\u001b[0m\u001b[0m\n\u001b[1;32m--> 696\u001b[1;33m             \u001b[1;32mreturn\u001b[0m \u001b[0minnerSimplification\u001b[0m\u001b[1;33m(\u001b[0m\u001b[0mEquals\u001b[0m\u001b[1;33m(\u001b[0m\u001b[0minner\u001b[0m\u001b[1;33m,\u001b[0m \u001b[0minner\u001b[0m\u001b[1;33m)\u001b[0m\u001b[1;33m.\u001b[0m\u001b[0mprove\u001b[0m\u001b[1;33m(\u001b[0m\u001b[1;33m)\u001b[0m\u001b[1;33m)\u001b[0m\u001b[1;33m\u001b[0m\u001b[1;33m\u001b[0m\u001b[0m\n\u001b[0m\u001b[0;32m    697\u001b[0m     reducedInnerExpr = reduceOperands(innerExpr, inPlace, mustEvaluate, \n\u001b[0;32m    698\u001b[0m                                       assumptions)\n",
      "\u001b[1;32mc:\\users\\wwitzel\\prove-it\\packages\\proveit\\_core_\\expression\\expr.py\u001b[0m in \u001b[0;36mprove\u001b[1;34m(self, assumptions, automation)\u001b[0m\n\u001b[0;32m    467\u001b[0m                 \u001b[1;32mexcept\u001b[0m \u001b[0mProofFailure\u001b[0m\u001b[1;33m:\u001b[0m\u001b[1;33m\u001b[0m\u001b[1;33m\u001b[0m\u001b[0m\n\u001b[0;32m    468\u001b[0m                     \u001b[1;31m# try the 'conclude' method of the specific Expression class\u001b[0m\u001b[1;33m\u001b[0m\u001b[1;33m\u001b[0m\u001b[1;33m\u001b[0m\u001b[0m\n\u001b[1;32m--> 469\u001b[1;33m                     \u001b[0mconcludedTruth\u001b[0m \u001b[1;33m=\u001b[0m \u001b[0mself\u001b[0m\u001b[1;33m.\u001b[0m\u001b[0mconclude\u001b[0m\u001b[1;33m(\u001b[0m\u001b[0massumptions\u001b[0m\u001b[1;33m)\u001b[0m\u001b[1;33m\u001b[0m\u001b[1;33m\u001b[0m\u001b[0m\n\u001b[0m\u001b[0;32m    470\u001b[0m             \u001b[1;32mif\u001b[0m \u001b[0mconcludedTruth\u001b[0m \u001b[1;32mis\u001b[0m \u001b[1;32mNone\u001b[0m\u001b[1;33m:\u001b[0m\u001b[1;33m\u001b[0m\u001b[1;33m\u001b[0m\u001b[0m\n\u001b[0;32m    471\u001b[0m                 \u001b[1;32mraise\u001b[0m \u001b[0mProofFailure\u001b[0m\u001b[1;33m(\u001b[0m\u001b[0mself\u001b[0m\u001b[1;33m,\u001b[0m \u001b[0massumptions\u001b[0m\u001b[1;33m,\u001b[0m \u001b[1;34m\"Failure to automatically 'conclude'\"\u001b[0m\u001b[1;33m)\u001b[0m\u001b[1;33m\u001b[0m\u001b[1;33m\u001b[0m\u001b[0m\n",
      "\u001b[1;32mc:\\users\\wwitzel\\prove-it\\packages\\proveit\\logic\\equality\\equals.py\u001b[0m in \u001b[0;36mconclude\u001b[1;34m(self, assumptions)\u001b[0m\n\u001b[0;32m    101\u001b[0m         \u001b[1;32mif\u001b[0m \u001b[0mself\u001b[0m\u001b[1;33m.\u001b[0m\u001b[0mlhs\u001b[0m\u001b[1;33m==\u001b[0m\u001b[0mself\u001b[0m\u001b[1;33m.\u001b[0m\u001b[0mrhs\u001b[0m\u001b[1;33m:\u001b[0m\u001b[1;33m\u001b[0m\u001b[1;33m\u001b[0m\u001b[0m\n\u001b[0;32m    102\u001b[0m             \u001b[1;31m# Trivial x=x\u001b[0m\u001b[1;33m\u001b[0m\u001b[1;33m\u001b[0m\u001b[1;33m\u001b[0m\u001b[0m\n\u001b[1;32m--> 103\u001b[1;33m             \u001b[1;32mreturn\u001b[0m \u001b[0mself\u001b[0m\u001b[1;33m.\u001b[0m\u001b[0mconcludeViaReflexivity\u001b[0m\u001b[1;33m(\u001b[0m\u001b[1;33m)\u001b[0m\u001b[1;33m\u001b[0m\u001b[1;33m\u001b[0m\u001b[0m\n\u001b[0m\u001b[0;32m    104\u001b[0m         \u001b[1;32mif\u001b[0m \u001b[0mself\u001b[0m\u001b[1;33m.\u001b[0m\u001b[0mlhs\u001b[0m \u001b[1;32mor\u001b[0m \u001b[0mself\u001b[0m\u001b[1;33m.\u001b[0m\u001b[0mrhs\u001b[0m \u001b[1;32min\u001b[0m \u001b[1;33m(\u001b[0m\u001b[0mTRUE\u001b[0m\u001b[1;33m,\u001b[0m \u001b[0mFALSE\u001b[0m\u001b[1;33m)\u001b[0m\u001b[1;33m:\u001b[0m\u001b[1;33m\u001b[0m\u001b[1;33m\u001b[0m\u001b[0m\n\u001b[0;32m    105\u001b[0m             \u001b[1;32mtry\u001b[0m\u001b[1;33m:\u001b[0m\u001b[1;33m\u001b[0m\u001b[1;33m\u001b[0m\u001b[0m\n",
      "\u001b[1;32mc:\\users\\wwitzel\\prove-it\\packages\\proveit\\logic\\equality\\equals.py\u001b[0m in \u001b[0;36mconcludeViaReflexivity\u001b[1;34m(self, assumptions)\u001b[0m\n\u001b[0;32m    182\u001b[0m         \u001b[1;32mfrom\u001b[0m \u001b[1;33m.\u001b[0m\u001b[0m_axioms_\u001b[0m \u001b[1;32mimport\u001b[0m \u001b[0mequalsReflexivity\u001b[0m\u001b[1;33m\u001b[0m\u001b[1;33m\u001b[0m\u001b[0m\n\u001b[0;32m    183\u001b[0m         \u001b[1;32massert\u001b[0m \u001b[0mself\u001b[0m\u001b[1;33m.\u001b[0m\u001b[0mlhs\u001b[0m \u001b[1;33m==\u001b[0m \u001b[0mself\u001b[0m\u001b[1;33m.\u001b[0m\u001b[0mrhs\u001b[0m\u001b[1;33m\u001b[0m\u001b[1;33m\u001b[0m\u001b[0m\n\u001b[1;32m--> 184\u001b[1;33m         \u001b[1;32mreturn\u001b[0m \u001b[0mequalsReflexivity\u001b[0m\u001b[1;33m.\u001b[0m\u001b[0mspecialize\u001b[0m\u001b[1;33m(\u001b[0m\u001b[1;33m{\u001b[0m\u001b[0mx\u001b[0m\u001b[1;33m:\u001b[0m\u001b[0mself\u001b[0m\u001b[1;33m.\u001b[0m\u001b[0mlhs\u001b[0m\u001b[1;33m}\u001b[0m\u001b[1;33m)\u001b[0m\u001b[1;33m\u001b[0m\u001b[1;33m\u001b[0m\u001b[0m\n\u001b[0m\u001b[0;32m    185\u001b[0m \u001b[1;33m\u001b[0m\u001b[0m\n\u001b[0;32m    186\u001b[0m     \u001b[1;32mdef\u001b[0m \u001b[0mderiveReversed\u001b[0m\u001b[1;33m(\u001b[0m\u001b[0mself\u001b[0m\u001b[1;33m,\u001b[0m \u001b[0massumptions\u001b[0m\u001b[1;33m=\u001b[0m\u001b[0mUSE_DEFAULTS\u001b[0m\u001b[1;33m)\u001b[0m\u001b[1;33m:\u001b[0m\u001b[1;33m\u001b[0m\u001b[1;33m\u001b[0m\u001b[0m\n",
      "\u001b[1;32mc:\\users\\wwitzel\\prove-it\\packages\\proveit\\_core_\\known_truth.py\u001b[0m in \u001b[0;36mspecialize\u001b[1;34m(self, repl_map, relabel_map, assumptions)\u001b[0m\n\u001b[0;32m    710\u001b[0m         \u001b[1;32mif\u001b[0m \u001b[0mrelabel_map\u001b[0m \u001b[1;32mis\u001b[0m \u001b[1;32mnot\u001b[0m \u001b[1;32mNone\u001b[0m\u001b[1;33m:\u001b[0m\u001b[1;33m\u001b[0m\u001b[1;33m\u001b[0m\u001b[0m\n\u001b[0;32m    711\u001b[0m             \u001b[0mrepl_map\u001b[0m\u001b[1;33m.\u001b[0m\u001b[0mupdate\u001b[0m\u001b[1;33m(\u001b[0m\u001b[0mrelabel_map\u001b[0m\u001b[1;33m)\u001b[0m\u001b[1;33m\u001b[0m\u001b[1;33m\u001b[0m\u001b[0m\n\u001b[1;32m--> 712\u001b[1;33m         \u001b[1;32mreturn\u001b[0m \u001b[0mself\u001b[0m\u001b[1;33m.\u001b[0m\u001b[0minstantiate\u001b[0m\u001b[1;33m(\u001b[0m\u001b[0mrepl_map\u001b[0m\u001b[1;33m,\u001b[0m \u001b[0massumptions\u001b[0m\u001b[1;33m)\u001b[0m\u001b[1;33m\u001b[0m\u001b[1;33m\u001b[0m\u001b[0m\n\u001b[0m\u001b[0;32m    713\u001b[0m \u001b[1;33m\u001b[0m\u001b[0m\n\u001b[0;32m    714\u001b[0m \u001b[1;33m\u001b[0m\u001b[0m\n",
      "\u001b[1;32mc:\\users\\wwitzel\\prove-it\\packages\\proveit\\_core_\\known_truth.py\u001b[0m in \u001b[0;36minstantiate\u001b[1;34m(self, repl_map, assumptions)\u001b[0m\n\u001b[0;32m    836\u001b[0m         return self._checkedTruth(\n\u001b[0;32m    837\u001b[0m                 Instantiation(self, num_forall_eliminations=num_forall_eliminations, \n\u001b[1;32m--> 838\u001b[1;33m                               repl_map=processed_repl_map, assumptions=assumptions))\n\u001b[0m\u001b[0;32m    839\u001b[0m \u001b[1;33m\u001b[0m\u001b[0m\n\u001b[0;32m    840\u001b[0m     \u001b[1;32mdef\u001b[0m \u001b[0mgeneralize\u001b[0m\u001b[1;33m(\u001b[0m\u001b[0mself\u001b[0m\u001b[1;33m,\u001b[0m \u001b[0mforallVarLists\u001b[0m\u001b[1;33m,\u001b[0m \u001b[0mdomainLists\u001b[0m\u001b[1;33m=\u001b[0m\u001b[1;32mNone\u001b[0m\u001b[1;33m,\u001b[0m \u001b[0mdomain\u001b[0m\u001b[1;33m=\u001b[0m\u001b[1;32mNone\u001b[0m\u001b[1;33m,\u001b[0m \u001b[0mconditions\u001b[0m\u001b[1;33m=\u001b[0m\u001b[0mtuple\u001b[0m\u001b[1;33m(\u001b[0m\u001b[1;33m)\u001b[0m\u001b[1;33m)\u001b[0m\u001b[1;33m:\u001b[0m\u001b[1;33m\u001b[0m\u001b[1;33m\u001b[0m\u001b[0m\n",
      "\u001b[1;32mc:\\users\\wwitzel\\prove-it\\packages\\proveit\\_core_\\proof.py\u001b[0m in \u001b[0;36m__init__\u001b[1;34m(self, orig_known_truth, num_forall_eliminations, repl_map, assumptions)\u001b[0m\n\u001b[0;32m    841\u001b[0m                 Instantiation._instantiated_expr(\n\u001b[0;32m    842\u001b[0m                         \u001b[0morig_known_truth\u001b[0m\u001b[1;33m,\u001b[0m \u001b[0mnum_forall_eliminations\u001b[0m\u001b[1;33m,\u001b[0m \u001b[0mrepl_map\u001b[0m\u001b[1;33m,\u001b[0m\u001b[1;33m\u001b[0m\u001b[1;33m\u001b[0m\u001b[0m\n\u001b[1;32m--> 843\u001b[1;33m                         assumptions, requirements)\n\u001b[0m\u001b[0;32m    844\u001b[0m \u001b[1;33m\u001b[0m\u001b[0m\n\u001b[0;32m    845\u001b[0m             \u001b[1;31m# Remove duplicates in the requirements.\u001b[0m\u001b[1;33m\u001b[0m\u001b[1;33m\u001b[0m\u001b[1;33m\u001b[0m\u001b[0m\n",
      "\u001b[1;32mc:\\users\\wwitzel\\prove-it\\packages\\proveit\\_core_\\proof.py\u001b[0m in \u001b[0;36m_instantiated_expr\u001b[1;34m(original_known_truth, num_forall_eliminations, repl_map, assumptions, requirements)\u001b[0m\n\u001b[0;32m   1027\u001b[0m         subbed_expr = Lambda._apply(parameters, expr, repl_map, *operands,\n\u001b[0;32m   1028\u001b[0m                                     \u001b[0massumptions\u001b[0m\u001b[1;33m=\u001b[0m\u001b[0massumptions\u001b[0m\u001b[1;33m,\u001b[0m\u001b[1;33m\u001b[0m\u001b[1;33m\u001b[0m\u001b[0m\n\u001b[1;32m-> 1029\u001b[1;33m                                     requirements=requirements)\n\u001b[0m\u001b[0;32m   1030\u001b[0m \u001b[1;33m\u001b[0m\u001b[0m\n\u001b[0;32m   1031\u001b[0m         \u001b[1;31m# Return the subbed expression.\u001b[0m\u001b[1;33m\u001b[0m\u001b[1;33m\u001b[0m\u001b[1;33m\u001b[0m\u001b[0m\n",
      "\u001b[1;32mc:\\users\\wwitzel\\prove-it\\packages\\proveit\\_core_\\expression\\lambda_expr\\lambda_expr.py\u001b[0m in \u001b[0;36m_apply\u001b[1;34m(parameters, body, repl_map, assumptions, requirements, *operands)\u001b[0m\n\u001b[0;32m    346\u001b[0m                                                      \u001b[1;34m\"correspond with singular \"\u001b[0m\u001b[1;33m\u001b[0m\u001b[1;33m\u001b[0m\u001b[0m\n\u001b[0;32m    347\u001b[0m                                                      \u001b[1;34m\"operands: %s vs %s.\"\u001b[0m\u001b[1;33m\u001b[0m\u001b[1;33m\u001b[0m\u001b[0m\n\u001b[1;32m--> 348\u001b[1;33m                                                      %(parameter, operands))\n\u001b[0m\u001b[0;32m    349\u001b[0m                     \u001b[0mrepl_map\u001b[0m\u001b[1;33m[\u001b[0m\u001b[0mparameter\u001b[0m\u001b[1;33m]\u001b[0m \u001b[1;33m=\u001b[0m \u001b[0moperand\u001b[0m\u001b[1;33m\u001b[0m\u001b[1;33m\u001b[0m\u001b[0m\n\u001b[0;32m    350\u001b[0m         \u001b[1;32mexcept\u001b[0m \u001b[0mStopIteration\u001b[0m\u001b[1;33m:\u001b[0m\u001b[1;33m\u001b[0m\u001b[1;33m\u001b[0m\u001b[0m\n",
      "\u001b[1;31mLambdaApplicationError\u001b[0m: Failure to apply x -> (x = x) to (f(i),...,f(j),) assuming ((j - i + 1) in Naturals, i in Naturals, j in Naturals): Singular parameters must correspond with singular operands: x vs (f(i),...,f(j),)."
     ]
    }
   ],
   "source": [
    "eq = fIter_i_jp1.partition(j, assumptions)"
   ]
  },
  {
   "cell_type": "code",
   "execution_count": null,
   "metadata": {},
   "outputs": [],
   "source": [
    "eq.rhs.merger([InSet(subtract(Add(j, one), i), Naturals)])"
   ]
  },
  {
   "cell_type": "code",
   "execution_count": null,
   "metadata": {},
   "outputs": [],
   "source": [
    "eq = fIter_i_jp1.partition(k, [InSet(subtract(Add(k, one), i), Naturals),\n",
    "                              InSet(subtract(Add(j, one), k), Naturals)])"
   ]
  },
  {
   "cell_type": "code",
   "execution_count": null,
   "metadata": {},
   "outputs": [],
   "source": [
    "eq.rhs.merger([InSet(subtract(Add(k, one), i), Naturals),\n",
    "                              InSet(subtract(Add(j, one), k), Naturals)])"
   ]
  },
  {
   "cell_type": "code",
   "execution_count": null,
   "metadata": {},
   "outputs": [],
   "source": [
    "eq = fIter_i_jp1.partition(i, [InSet(subtract(Add(j, one), i), Naturals)])"
   ]
  },
  {
   "cell_type": "code",
   "execution_count": null,
   "metadata": {},
   "outputs": [],
   "source": [
    "eq.rhs.merger([InSet(subtract(Add(j, one), i), Naturals)])"
   ]
  },
  {
   "cell_type": "code",
   "execution_count": null,
   "metadata": {},
   "outputs": [],
   "source": [
    "eq = fIter_i_j.partition(subtract(j, one), [InSet(subtract(j, i), Naturals)])"
   ]
  },
  {
   "cell_type": "code",
   "execution_count": null,
   "metadata": {},
   "outputs": [],
   "source": [
    "Add(subtract(j, one), one).simplification([InSet(j, Naturals)])"
   ]
  },
  {
   "cell_type": "code",
   "execution_count": null,
   "metadata": {},
   "outputs": [],
   "source": [
    "eq.rhs.merger([InSet(subtract(j, i), Naturals), InSet(j, Naturals)])"
   ]
  },
  {
   "cell_type": "code",
   "execution_count": null,
   "metadata": {},
   "outputs": [],
   "source": []
  },
  {
   "cell_type": "code",
   "execution_count": null,
   "metadata": {},
   "outputs": [],
   "source": [
    "# TODO: Make automation work for various forms of \"x in Naturals\"\n",
    "#eq = fIter_i_jp1.partition(j, [InSet(Add(j, Neg(i), one), Naturals),\n",
    "#                              InSet(subtract(k, j), Naturals)])"
   ]
  },
  {
   "cell_type": "code",
   "execution_count": null,
   "metadata": {},
   "outputs": [],
   "source": []
  },
  {
   "cell_type": "code",
   "execution_count": null,
   "metadata": {},
   "outputs": [],
   "source": []
  },
  {
   "cell_type": "code",
   "execution_count": null,
   "metadata": {},
   "outputs": [],
   "source": [
    "multiVarSubstitution"
   ]
  },
  {
   "cell_type": "code",
   "execution_count": null,
   "metadata": {},
   "outputs": [],
   "source": [
    "f_map = Lambda(xIter1n, Add(a, xIter1n, Mult(b, xIter1n)))"
   ]
  },
  {
   "cell_type": "code",
   "execution_count": null,
   "metadata": {},
   "outputs": [],
   "source": [
    "from proveit._common_ import g\n",
    "eq = eq.relabel({f:g})"
   ]
  },
  {
   "cell_type": "code",
   "execution_count": null,
   "metadata": {},
   "outputs": [],
   "source": [
    "length = Add(j, Neg(i), one)"
   ]
  },
  {
   "cell_type": "markdown",
   "metadata": {},
   "source": [
    "length_minus_one = Add(j, Neg(i))"
   ]
  },
  {
   "cell_type": "markdown",
   "metadata": {},
   "source": [
    "eq.rhs.length([InSet(i, Naturals), InSet(j, Naturals), InSet(length, Naturals),\n",
    "              InSet(length_minus_one, Naturals)])"
   ]
  },
  {
   "cell_type": "markdown",
   "metadata": {},
   "source": [
    "length.commutation(2, 0, assumptions=[InSet(i, Naturals), \n",
    "                                      InSet(j, Naturals)])"
   ]
  },
  {
   "cell_type": "code",
   "execution_count": null,
   "metadata": {},
   "outputs": [],
   "source": [
    "f_map_spec = f_map.substituted({n:length})"
   ]
  },
  {
   "cell_type": "code",
   "execution_count": null,
   "metadata": {},
   "outputs": [],
   "source": [
    "multiVarSubstitution"
   ]
  },
  {
   "cell_type": "code",
   "execution_count": null,
   "metadata": {},
   "outputs": [],
   "source": [
    "assumptions = (eq.assumptions + tuple(multiVarSubstitution.allConditions()) \n",
    "                                            + (InSet(length, Naturals), InSet(i, Naturals),\n",
    "                                               InSet(j, Naturals)))"
   ]
  },
  {
   "cell_type": "markdown",
   "metadata": {},
   "source": [
    "yIter1n.substituted({yy:eq.lhs, n:length}, assumptions=assumptions)"
   ]
  },
  {
   "cell_type": "markdown",
   "metadata": {},
   "source": [
    "yIter1n.substituted({yy:eq.rhs, n:length}, assumptions=assumptions)"
   ]
  },
  {
   "cell_type": "code",
   "execution_count": null,
   "metadata": {},
   "outputs": [],
   "source": [
    "eq.lhs.length(assumptions)"
   ]
  },
  {
   "cell_type": "code",
   "execution_count": null,
   "metadata": {},
   "outputs": [],
   "source": [
    "kt = multiVarSubstitution.specialize({f:f_map_spec, xx:eq.lhs, yy:eq.rhs, n:length}, \n",
    "                                assumptions=assumptions)"
   ]
  },
  {
   "cell_type": "code",
   "execution_count": null,
   "metadata": {},
   "outputs": [],
   "source": [
    "kt.withWrapAfterOperator()"
   ]
  },
  {
   "cell_type": "code",
   "execution_count": null,
   "metadata": {},
   "outputs": [],
   "source": [
    "kt"
   ]
  },
  {
   "cell_type": "code",
   "execution_count": null,
   "metadata": {},
   "outputs": [],
   "source": [
    "%end demonstrations"
   ]
  },
  {
   "cell_type": "code",
   "execution_count": null,
   "metadata": {},
   "outputs": [],
   "source": []
  }
 ],
 "metadata": {
  "kernelspec": {
   "display_name": "Python 3",
   "language": "python",
   "name": "python3"
  },
  "language_info": {
   "codemirror_mode": {
    "name": "ipython",
    "version": 3
   },
   "file_extension": ".py",
   "mimetype": "text/x-python",
   "name": "python",
   "nbconvert_exporter": "python",
   "pygments_lexer": "ipython3",
   "version": "3.7.4"
  }
 },
 "nbformat": 4,
 "nbformat_minor": 1
}
