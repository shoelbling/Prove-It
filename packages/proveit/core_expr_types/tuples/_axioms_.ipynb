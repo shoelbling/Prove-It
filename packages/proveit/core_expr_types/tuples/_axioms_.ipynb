{
 "cells": [
  {
   "cell_type": "markdown",
   "metadata": {},
   "source": [
    "Axioms for context <a href=\"_context_.ipynb\" class=\"ProveItLink\">proveit.core_expr_types.tuples</a>\n",
    "========"
   ]
  },
  {
   "cell_type": "code",
   "execution_count": 1,
   "metadata": {},
   "outputs": [],
   "source": [
    "import proveit\n",
    "# Automation is not needed when building axiom expressions:\n",
    "proveit.defaults.automation = False # This will speed things up.\n",
    "# the context is in the current directory:\n",
    "context = proveit.Context('.') # adds context root to sys.path if necessary\n",
    "from proveit import ExprTuple, ExprRange, Len\n",
    "from proveit._common_ import a, b, c, d, f, i, j\n",
    "from proveit.logic import Forall, Equals, And, InSet\n",
    "from proveit.core_expr_types._common_ import \\\n",
    "    (a_1_to_i, a_1_to_ip1, b_1_to_i, b_1_to_ip1, c_1_to_i, a_ip1, b_ip1,\n",
    "     x_1_to_n, y_1_to_n, tuple_len_incr_equiv, fi, fj, f_jp1, \n",
    "     f_i_to_j, f_i_to_jp1, f__x_1_to_n, f__y_1_to_n, iter_ext_equiv)\n",
    "from proveit.number import zero, one\n",
    "from proveit.number import Naturals, NaturalsPos, Add, subtract"
   ]
  },
  {
   "cell_type": "code",
   "execution_count": 2,
   "metadata": {},
   "outputs": [
    {
     "name": "stdout",
     "output_type": "stream",
     "text": [
      "Defining axioms for context 'proveit.core_expr_types.tuples'\n",
      "Subsequent end-of-cell assignments will define axioms\n",
      "%end_axioms will finalize the definitions\n"
     ]
    }
   ],
   "source": [
    "%begin axioms"
   ]
  },
  {
   "cell_type": "markdown",
   "metadata": {},
   "source": [
    "### Define the length of an ExprTuple:"
   ]
  },
  {
   "cell_type": "code",
   "execution_count": 3,
   "metadata": {},
   "outputs": [
    {
     "data": {
      "text/html": [
       "<strong id=\"tuple_len_0\">tuple_len_0:</strong> <a class=\"ProveItLink\" href=\"__pv_it/4798b6ea35e8611160512705431543e9c7df1b1f0/expr.ipynb\"><img src=\"data:image/png;base64,iVBORw0KGgoAAAANSUhEUgAAAD8AAAAVBAMAAAADRiu8AAAAMFBMVEX///9UVFREREQiIiIQEBCY\n",
       "mJhmZmYyMjLu7u6qqqrMzMyIiIi6urp2dnbc3NwAAABm9RoHAAAAAXRSTlMAQObYZgAAAAlwSFlz\n",
       "AAAOxAAADsQBlSsOGwAAAPVJREFUKM9jeMAABA/4wCQDNnAHiLkn8GyAMrErmMvAsBObgrvbHoBF\n",
       "OQoYGNgbMBWwT+CwA4uyBTAwsCZgKghmYLgEFmUB8TwwFSgyMMxvAIkeB/FKMRV8Y2A4PwEkmgvi\n",
       "XcRQwAFSEAASLQVxw6EKko1BwBDI4vvLwLB+A0jUEiQxGcMEsIILIFEfEHc9phVABec3wBUcwerI\n",
       "+WBHViJbgXADgxIDQzzYm9ogXhCmCSEMDOlg0YsgXjamAuYJHF5g0cMgnh2mAo7bGxeARZmBFJ8B\n",
       "nugGRRQownCnBz0Ghkd4E0wTA4MGTgW7QIEawPoAysQAAFSFU7mW6tUXAAAAAElFTkSuQmCC\n",
       "\" style=\"display:inline;vertical-align:middle;\" /></a><br>"
      ],
      "text/plain": [
       "tuple_len_0: |()| = 0"
      ]
     },
     "execution_count": 3,
     "metadata": {},
     "output_type": "execute_result"
    }
   ],
   "source": [
    "tuple_len_0 = Equals(Len([]), zero)"
   ]
  },
  {
   "cell_type": "code",
   "execution_count": 4,
   "metadata": {},
   "outputs": [
    {
     "data": {
      "text/html": [
       "<strong id=\"tuple_len_incr\">tuple_len_incr:</strong> <a class=\"ProveItLink\" href=\"__pv_it/a4e3cff8fe7dc78d2731f79982b738e94f24513b0/expr.ipynb\"><img src=\"data:image/png;base64,iVBORw0KGgoAAAANSUhEUgAAAYgAAAAWBAMAAAAodhaSAAAAMFBMVEX///+IiIgiIiIQEBB2dnbu\n",
       "7u5UVFTMzMzc3NwyMjK6urpmZmaYmJiqqqpEREQAAACk/Np2AAAAAXRSTlMAQObYZgAAAAlwSFlz\n",
       "AAAOxAAADsQBlSsOGwAABHRJREFUWMPNV11oHFUUPtmdYWb/pmssScFWl0CaShBKtViqxVUwyqIy\n",
       "1dYqpdkEfFPKxoAPvmRF7ZOEfSkIxjYaX4qCGymUah62Dz5EadyE1lAVjA/B/mig4IIGBc+Ze+/s\n",
       "zc65W+fNs5zhzJxzds53z8+9A2Ck3iGIS1X8SSE+uSZX12zv3inOUuwweprSCYX4lM4bXrvLbB/4\n",
       "lGCN7n/iQZh1PF1RIVyJC2B0XxhsBESuiKtS73j4ui/sdwUeX9Kj93kQZh1Ldk2GQEJM+gA55bMg\n",
       "XkZOFLe+6dWzvrAnLsEbVFlrPAizjqVMQ4ZAQkz6BzlbZ0EsaPJnSrjPF/bEpQCK1eRBmHUsJVUI\n",
       "yfj90KLrfhbEXk1e1kEE9vvJI4urljI0tlnH0jkVwrnYIKwCXWc4EOmaEcSMYPTYNzDwkGk6GXUs\n",
       "nVchkOCe35HvPlF1g9T4PZjxEQ5EBtvh8DwLYkQwelwAWMdWqXIghO6/0owKgYS5qtfqai0MXhI3\n",
       "5dP2nwCLIYgvBoh2B/iwHIpzLIhFwehxCtwxzKdYFWe4BHePhSCErjs5Z5T0gAoBBftRyBTAXjSP\n",
       "ssAAHhd3P/twG2CFy0SiCW7zIgtiRTB6eL41KxQTJ2/C95af8UMQbV0XekUJB1UIKGRaNBYnes2j\n",
       "rKXPzYtg/wEwxYFIzoJNCIP0PCjTI0BMCUaPXF72buYCbW35utUup1DXjR7mQCTXoDwr15YfZcIg\n",
       "3CbSOGTnDCAg12IzMSeYPGqXcAT0Aewk5eoPb2kgAh0cv/R0tBoWtssucm73ydR9qEJAoVyE76Ab\n",
       "CGHwkazWvykzWjnpPYEdnxq7QznBs6exJcq+Hexqq9aJTzQQpLOHnGiLPl+ZkqH3DKozwS8qBBTK\n",
       "TbiRqwav8aMrAMrgyZbQb8IL2L9LXCa8PBkXORBLgsnjbYT57gqkg212Fer3aiBIl6k7e8HtmFJf\n",
       "waTcQ7x8Vk7yERUCCql8dtgK1sn+i0KuSSG8CwzcEwXx5DW4hdd5DoSFIXzuNjgQ84LJw6sEi5c9\n",
       "s7HxO4I4ktJAkG7bbM8YvDm49a83oS+s2YxM9scqBBTs8adO9YuED+D7EpSsYZCXxKAyoGUm/XHa\n",
       "JmAPu9nhDPN2dpTTycd254X9nraH3ao4RZGJ9HLHUbxc9b72YSsInOq/Hc3dReI2PylPJomKdCJB\n",
       "EIHIRevpatgZxzS9W2CPHUPcjq3siZVHrlYU29o3EC6x0iWrU3juGgS7CEfCywFns5H7EfAm4S9J\n",
       "Q3EYC09yCoQV7epwtl6zNL04N0ZAfMsdAJV9eOiklR2vwjSuX/r+CngdINILy88QCOcQTFadA3Q5\n",
       "BJ9e3t6AXwEmm858GNJ15XRdPnjnLJbs4Whjh+eNF3do+mn+e8IzfSZOS9Y97Oc2bpq/7LCccu3v\n",
       "FOFQwBGuH3JHldOo7hk9l2eB1a/zIGzTx8C65G6foE/oxTjxSLNdyUoa97cWPM6QfiXEp6xY8f6I\n",
       "4j2zPXHvwThvaTBSFv4H9C8GUC3eXXISRAAAAABJRU5ErkJggg==\n",
       "\" style=\"display:inline;vertical-align:middle;\" /></a><br>"
      ],
      "text/plain": [
       "tuple_len_incr: forall_{i in Naturals} [forall_{a_{1},...,a_{i}, b} (|(a_{1} ,  ...  , a_{i} , b)| = (i + 1))]"
      ]
     },
     "execution_count": 4,
     "metadata": {},
     "output_type": "execute_result"
    }
   ],
   "source": [
    "tuple_len_incr = Forall(i, Forall((a_1_to_i, b), \n",
    "                                  Equals(Len([a_1_to_i, b]), \n",
    "                                         Add(i, one))),\n",
    "                        domain = Naturals)"
   ]
  },
  {
   "cell_type": "markdown",
   "metadata": {},
   "source": [
    "### Range length"
   ]
  },
  {
   "cell_type": "markdown",
   "metadata": {},
   "source": [
    "### Defining tuple equality"
   ]
  },
  {
   "cell_type": "code",
   "execution_count": 5,
   "metadata": {},
   "outputs": [
    {
     "data": {
      "text/html": [
       "<strong id=\"tuple_eq_def\">tuple_eq_def:</strong> <a class=\"ProveItLink\" href=\"__pv_it/eab61db0dbae800ee8eb015d4f3ec267def4989c0/expr.ipynb\"><img src=\"data:image/png;base64,iVBORw0KGgoAAAANSUhEUgAAAnMAAAAzBAMAAAAOWZN4AAAAMFBMVEX///+IiIgiIiIQEBB2dnbu\n",
       "7u5UVFTMzMzc3NwyMjK6urpmZmaYmJiqqqpEREQAAACk/Np2AAAAAXRSTlMAQObYZgAAAAlwSFlz\n",
       "AAAOxAAADsQBlSsOGwAACZFJREFUaN7tW2uIHFUWPumumn4/RifqoqvNaNQlClF0CdlVemQ3WcVH\n",
       "GxMfRNM9iAgi2jKyKIpTZtf8yZJtWbIsvrZj/CMK09GgqFF7FMF3OrPRGB+kowTjY7MKDhuzCfG+\n",
       "qu6tvqfrMUwoRvbC6em6dc65t76+r3O+GoD+xVy5sgL/LzOBJnbkSOtotT3QnJuYreaI5Y8c6XpC\n",
       "dxQf79Y5OtwSG8SXbFTQDZSRyqSQ0CUZsC6IHz+7qaihew2r/KWQ0CVdxJ3NxA/mSy2ZWrTQJf+L\n",
       "VObKXEIuPueiOIV3BHf/JtCPd1a00MWwB7tOSMjyMJFUBXMWthxmflI+p4p/VSKF7nWscquQ0A9M\n",
       "nqOFOQs7XaeZn6zPqSLVihS687DKRUJCPzAp52POQhajxP2c79PggSihmzeNdanBZQYPDPAI4ixs\n",
       "ocPpEcQXtkJEBl2shm1dZS6wbuR+n01mywlyG0yNntgBWIo4AxgZqns6Uu+vGxkXfpb69H53JULo\n",
       "xrEnSrW5pBfDf7xX6k1Wngzba/lFdYNJZtBbDK9hVmrCGazpZDyfj90XbkSr1E+vr95SLUYI3Y1o\n",
       "ax0uV7XhGYDr+88487eQIbN0xBkD38uDquoMToN40XyrfzfofdsNafUFceCd8ul9vhQhdL/GKuNN\n",
       "Lq9WyDMlBkv9D6XT6uHmBTB/IOMYcZahK+odx3j5kYW1yv2M+/Q+eyA66BKHvKC7EMyD5EjbH7p4\n",
       "F6pNZdFOk+PJJsxZFzzHUFx9eN4q87PJL2tyKDrojAPoBtdhQsZQ9jtP6Kpl2AawUSxDh9jomepd\n",
       "6zpMzxM6dl+4Ea3KCeux1vFJEw10efTQlS8yMQ9DvvERh07fLWhNtQNf5azfT/Org3SZgvcRZwVS\n",
       "32RA6H5MEPeFG9Eq8/O+X/8/jw66ONqqUePyILzWKjPozB8pUI3eL6lidqGRvKHEr26Fb8jnZsRZ\n",
       "pgVGnUKn+2Ef9P5dthveKvOz2a//Vwjo2GN82g+6PAul27MLXRUNddIlLlcP3TVa56NumIyHGFVe\n",
       "COILrTFHl609no0rerWKHuvgTMQZ/G5wPp9+up/YAnHfdsNbZX7O9Ov/tiaH7kV68Y9+0GWoVsqa\n",
       "5WMdntc5QwjPfNBnz2kzTdZUr1GukiXMmZNf0/3AB5gb5idZCtR/At0fqUW3H3QJuk6un+UJu7uD\n",
       "Vr8jREJn6LPa+bbLUK4ybcyZA53uB8qYG+Yn0w40awh0NMdidPqudTSffNksQ7cND4/yFhf281/8\n",
       "P/LTXqnpyJqrT1Cu1qPOaPnzPzdjfswi5ob58R8ohRqHLkvjn/7bxLvkb2OWoTsFXwDMLhdZ9N+/\n",
       "jV/tRZ15+MniTveivjToumKHPXd4+Lz+0MWHh08tzzJ0V/QJUf8iJHTJWrizmfjJ+i/s8YaA7nkG\n",
       "tGnh0GXqkJ9tMvbVOc7uxkoCurWQpCcqPvkTCy+BY2sKdOTeWl9fd3eDtPisvcTdDnMcukUCunzF\n",
       "EEffO277Gj40KpmKeiTeC5f4+hoINKX/Cj836HJFsUtknqeH42LLcEUT2wPsEvF6kBZP/tlNWGhM\n",
       "ktP3cQAn0eqdH9/vhi6VJVPZ3Dqkr4WrJv9gnxEHb6J/Rib1Zpy6VZMPOtuEy5elSMCC0sxWKGsr\n",
       "uL3WOWebgMvI2c2oVvh2vtO44QkXdMYuMkaW18e1kWKekbATXsdUTmTqY8hOM+ZoO9zrKeogndeR\n",
       "ErRgNHNwe2a9Mbj9xl71eM2G7k/k2wNTkGbHm53QOtkFXZKmWF4CgsB6N3qZVmKROPPtYUnpV+Ca\n",
       "Xh1WlxLa36FH4h2KBC4IzbwjnLWG1A4wv0BCsMTfWtoPW2jZ0OXr7Omzj+3f/28C3YqUO3PyJcvs\n",
       "HAeJx92wFJrz7K14CTxHPi8ATYfWOdrONrxbyciYDSnBi04zh7Fn1uK1GzuQovYpLC1R6DDVDb2J\n",
       "PifpZE7XE2U+6tLbtaSTeQC+XQkxd3+rVv6NynY2daYZRDSB2aND63KDQnu+fW9cOd3bUaN/5Og6\n",
       "u2oPGcaeWYsgd3lD2hewOTtRcQfXSvgvou1GmUcgbwMZYFq+bnHiYJvCYpZhBf9YAXFr/Gn4rEUv\n",
       "F2S75PMhEkdT6FbYarwu9wlw7XtdA95eNxQJUTSaOR7WOs5/yJNukfYT2M5/EVeNV3rSF3LUjVqw\n",
       "nkzc9K/qPEfnhu6p94YYdIkLYMxKLCYfY5301u2X0slO6u4Zop/r3p3PoBvrMI3EYlH3Ja1i2rZf\n",
       "ZXI9qUiIotHMT4a1TvFhWrpP2l+E6T4saU5XDO7KEpuX7/9aC8TUSwJLzrnig3t52q7LOTrgjHtW\n",
       "Z5aaShU7QSsJ9i2KuKhp9FjhKGg08xZ2EvKhrI3BZY61wRbqXFkkI6n93wdf1ho8/rDMX7uO9GES\n",
       "7IljX5YZQjs9ODDfrvvA0ZGZQ35ntNKTa8xOuweALZya9iiSu9ZoZmrvR1knzyY7Pg3WqXWWDf2U\n",
       "lWvZ/TB/rFQtt1feIFXNKjPlwrDQufMz2d66NpLQaaM5Hkgclt/PlsKpaQ/OWeGuNZ6L+vCjrGNl\n",
       "OIcF61N2LpUmehfY9rlpKBS1BhtcVWHokt/PCLrZKQqFvUQKp6a9OeeYiJY1mnmJP2UtA0BqzY+Z\n",
       "NwMMOvYNwT/2NkhV5ak0UgobnkWhE9S0J+dsc9ebEOj8KGs+0Wzr9CJxmltu25Nj3UQHa5CqpuX6\n",
       "PFCKELoJ6fhRKZya9uacbe5ao5kf9aes6QsWLFiXE5YeiDMdYV9os3GpeBU96pmwhShf14nJg90e\n",
       "KZya9uCcJXet08x7/ClrOESQI8E6t2aPHqNLV8O2b5K1zf1b8R5RVQWpbVG+JKZssUulMGoaHM5Z\n",
       "J54d7hqhmZf2UtYIb/0SwLIHpoR1ho6dSTvSpPYD7XxPkCJ6RFUzcgM5HSKETnkh9nEpnJp2OGfJ\n",
       "N7MvC1TuWqeZqQ8XZa2bgzEyWGFDnFrHLBAUzp3C3tzce6wTPaKqMSftFO0LsWLMszbqUnjx4ZwZ\n",
       "6azTzI69jzkJ1rn1mj72SFnjUs/XIoUuVVZDcfd74z6cMyOd9WDfsfcxp8E6s97ql1CQxf1q/US0\n",
       "L/+TINcu+xShxY9zZqQzQjPvC2bOgnVAXnjY1z8I6brURR4tsn90+oXzbbUiehgCeDyC0Myrg5tT\n",
       "a40hXd23r1RVqg/UIoZOcmjJtpTAO7SFjI12KOs3g9u/6VLfBYGge+Po/SvxtzA3i/inTnPlld7Q\n",
       "HcV/Jc435yZ018l/Jf4JgJUAxhOlVdEAAAAASUVORK5CYII=\n",
       "\" style=\"display:inline;vertical-align:middle;\" /></a><br>"
      ],
      "text/plain": [
       "tuple_eq_def: forall_{i in Naturals} [forall_{a_{1},...,a_{i}, b, c_{1},...,c_{i}, d} (((a_{1} ,  ...  , a_{i} , b) = (c_{1} ,  ...  , c_{i} , d)) =  \\\\ (((a_{1} ,  ...  , a_{i}) = (c_{1} ,  ...  , c_{i})) and (b = d)))]"
      ]
     },
     "execution_count": 5,
     "metadata": {},
     "output_type": "execute_result"
    }
   ],
   "source": [
    "tuple_eq_def = Forall(i, Forall((a_1_to_i, b, c_1_to_i, d),\n",
    "                                Equals(Equals([a_1_to_i, b], [c_1_to_i, d]),\n",
    "                                       And(Equals([a_1_to_i], [c_1_to_i]), \n",
    "                                           Equals(b, d))) \\\n",
    "                                .withWrapAfterOperator()),\n",
    "                      domain = Naturals)"
   ]
  },
  {
   "cell_type": "markdown",
   "metadata": {},
   "source": [
    "### Collapsing and extending ranges"
   ]
  },
  {
   "cell_type": "code",
   "execution_count": 6,
   "metadata": {},
   "outputs": [
    {
     "data": {
      "text/html": [
       "<strong id=\"empty_range_def\">empty_range_def:</strong> <a class=\"ProveItLink\" href=\"__pv_it/f4b46ecefa03ccc6a51066d86ac0a5a63672e95d0/expr.ipynb\"><img src=\"data:image/png;base64,iVBORw0KGgoAAAANSUhEUgAAAVMAAAAXBAMAAABE27GJAAAAMFBMVEX///+IiIgiIiIQEBB2dnbu\n",
       "7u5UVFTMzMzc3NwyMjK6urpmZmaYmJiqqqpEREQAAACk/Np2AAAAAXRSTlMAQObYZgAAAAlwSFlz\n",
       "AAAOxAAADsQBlSsOGwAAA7pJREFUSMfNVkFrE0EUfmmyTZrNpumll6iEoq0gShXFU2EpKngobEEP\n",
       "RbEp/QOBgkcblAqCaC6CBw+RCt5q7MVqpbQ3bUEXoT0Jtkg9lnoool6cN29mdiZTt8UI+uBb5tv3\n",
       "zeSbyZvZAfgrkRHQufFij74sqgJ2+neZP4uDAjqHbGHffVk8FrDTMrOO9GOLTj2fAOCeCwRPNAzz\n",
       "u0SkhfQmJELgsIeWmVfIH7ZodUQA4MJEKNptPnQEsb0iLSRqAA+AYA8tMtexHNZbtPpaAGBgJlBt\n",
       "yDViexlagBUBe2iRwZmnwhat9gtAdkdxjDNxnZq0kAwI9tAik1tkdlt0mq0R2KRLkvN4FNerSQsd\n",
       "iwRraJU51dNzukWrrk+A3HhvQ/Dh51iNMZ00LQwfQutlgjW0yrwA2FQZh86vCleJLVgVXEQCmtXa\n",
       "enQWJPenWeNt3AQjLTSS7JmrEQBmezB6VVpmbkMGp+LM48sUHYV9+MjTiMuSY1xlHaK9ItTQFhIA\n",
       "7lcEz4QvWeNDnFWlhVy1kz29EsEIPqzM5INUndH25UqTiqw68i/BRU53sQ5PrB9N1gkAnyR34Ctr\n",
       "TMZZVVpss42T3iZYQ6uMV+C7qtP6dJFVt65TnJt9WkZWBxX3cH9Px1kd1KzO4g7qJ9hWVaa2hB7G\n",
       "h/BdN1/IYhhZbZNcWVVHG6mxoEICwJeIl/cqgEgLcBj0AtBrVS8AGOKfiHe8+EZxxVyvFlm9I7my\n",
       "6jVgYYvFIqkxVSAAnFR8NPRpUMc2Sd0iLWR+4OZZJ5h/bUHP3OLVOI+PKb4Ml1ONyOqM5MpqVg43\n",
       "JRdNHTOZb4o/y7BtigfWaE08nO96Q9dCDkvULRDMw7esZ/KV6LTeUIePtLpGfGHrM1tHbjWtZr4h\n",
       "K6FEAG9b8fwB1jiKFXQEHzjZY7LRE5haaMch26oE8xNQsjNneZXuVKItRlZvSG4XgFCLwwzhliOO\n",
       "C8crb9W+LQVN2iQu2U0BM/qsjMM27CXwar7DSmwCjG1FXFlNyD+Jqc2bxlpHGHF0w/8d3/6kgqFt\n",
       "D98Hxp1HjxUrgws9ETpj1fQAQLdmNV8VHGnm4s8Cf0PTG5MtfMVwYkTjLO5xlX3BHmbQtJPhcXG9\n",
       "2+WKx4ZqyvD7Gp+nJ+uWrGZ9wfNSes3e0s46x9KcxkF8sHO2HBdb07pFPDzzAcEe2szk1yqihGC1\n",
       "42m/ZhXmBHel9vwuZ+RdAZ2z7+W+Ljui3xsBO21mUl1q/otuMdCtpq4Ujbnm6vDfRcY4sKN/5F/5\n",
       "+QV2owsee2DSKgAAAABJRU5ErkJggg==\n",
       "\" style=\"display:inline;vertical-align:middle;\" /></a><br>"
      ],
      "text/plain": [
       "empty_range_def: forall_{f, i, j | (j + 1) = i} ((f(i) ,  ...  , f(j)) = ())"
      ]
     },
     "execution_count": 6,
     "metadata": {},
     "output_type": "execute_result"
    }
   ],
   "source": [
    "empty_range_def = Forall((f, i, j), Equals(ExprTuple(f_i_to_j), \n",
    "                                           ExprTuple()),\n",
    "                         conditions=[Equals(Add(j, one), i)])"
   ]
  },
  {
   "cell_type": "code",
   "execution_count": 7,
   "metadata": {},
   "outputs": [
    {
     "data": {
      "text/html": [
       "<strong id=\"range_extension_def\">range_extension_def:</strong> <a class=\"ProveItLink\" href=\"__pv_it/20dbfaeb58cd55c324285bad9836b61cf8e995cf0/expr.ipynb\"><img src=\"data:image/png;base64,iVBORw0KGgoAAAANSUhEUgAAAeYAAAAyBAMAAAB7ZWVxAAAAMFBMVEX///+IiIgiIiIQEBB2dnbu\n",
       "7u5UVFTMzMzc3NwyMjK6urpmZmaYmJiqqqpEREQAAACk/Np2AAAAAXRSTlMAQObYZgAAAAlwSFlz\n",
       "AAAOxAAADsQBlSsOGwAACEpJREFUaN7NWl2IW0UUPsnm5v/upi9FWWuXqK0glVbrLy5GcX2R0luo\n",
       "VRHdaME+WDVYEXywGxQFQdu8+INWjFbQQm2z9a8/ilsFsRXaKLpQFTZVtvZBl60Y/1ecOTN37syd\n",
       "ySQP7m0vyb2HOefMvd+dmTPnfAlAdEeyDqf5cKajvuNGraUalqu99VS1tKdtjo940UJOlsItsWZY\n",
       "frWnnmQ/5aDu2YLF0x2KFvPHWstXeH5nxJcHO6PhR2ALm0NDlrqAv4xFtg7eixRy+ndtddXoObFh\n",
       "2JfPB3jW2odkC2erqnX72sDcM7b5G5+IEnNcm9o5vH/fN9NCBvjc2odqy46d/oRvc/d8wza5L4sS\n",
       "8yc6Ajzv9gKZXK1BRrVlxxcyZnS3wnopSswrtZYdeL5eksnEtM491daAGd23WV9bNTrI+EihgERP\n",
       "n15yL5edQRJxE2VLH4EtOAtaJszofqPtOTKNCJezDoaNxylfTmSXk8VYs3UibCEH15gwo/shDBZF\n",
       "PLS7uu3oMI9VtKZlUjgn8jO5WpcNNLCFz2DOhBndv7SmYqeiw7xeb7oa3/usL3sDZG6nZm1Bd1by\n",
       "w/HaUyxeWiwuEZjRfcz6IN9Hh/nyDpgTQ0KeIkGXzu/O23NgC7kh0zij+3brgxyNLIil/tHbXqan\n",
       "/rKQn+uWHEq2wXbfYW53Ws8wGllWkvhDbzuOm23Bl525BAlCNBzre7QDqi3A1roxhlH3I/a8phwV\n",
       "5n7DnMU9ZWvFl7OzT5PhIbCcP4GfRmuSINuSKWrcn6k7jNufZAhwm/tu3jH3tfS21+hpKpCPk1kX\n",
       "p6utSAf6IjqBG75wQcgW7g9hTv7wy13c/UL7jJuF/fT6wrxjHjWkAvFKUOjE+Vb2GMZkfXJ/DSHb\n",
       "FeFxFu5pe72Y/wseplat+d+eDVUtKQbc8stCxuMDHArdlkQs2fa+fDtcYwj3nD1IpU5h5ZVozjvm\n",
       "KdMtTkJ8uiZkEG9/jR7DyCuTbFNzceMjo/uWLvzQ35AnbyUz/zHsaMXQeCfkB6tCxgCDs1ofqDz9\n",
       "Srbj+83xibp347x+A7ikWFw5/5gXmzKB9ERY/qw3+qHT7KXu+W45x78A73d/M//DsTpi8s1yXAXw\n",
       "JKSDXfpWtszx3PDPLn9z5OpUY+ZMmJhUgCy6gnBUj4/OHMxFugYSNKVxDtAJc520cbBgTs6HuZpc\n",
       "EwUd0e0fMJOlpMCjH+4ID75Tj4ks+4EzBjKcR4aogCEseTgcZXzMTpmpHTYdXg/3sfEN4KpsiX6o\n",
       "Y2rhTN0tj8C7ZyZmqB2k0oC29H3MuTpT51iGq9GKJJPmKko7PouOB8gLdA/moGSc2+mwnO7xcavQ\n",
       "0bpT5EprDmRuwypKkLrrV5Hzqzheaz5UMMe5mlyzC/XNfHJlk6qcQdK+Cj8tiNF14j76ZkFgXi0/\n",
       "06KwbOXhJX6J3dpk3ZEYp8aqA4lh8DgCxWJkBLObxjEF81NcTa6JUQ/c0IKmpQxR5VySMXyLnxbb\n",
       "bN3KyDcC82Jp5bjYmrvB43KsYefhIczlK9asH1SlwhvQgx57qYvClXw/Ps4BOgfuoKmq492kYN7F\n",
       "1eT6BClNs6FENddA1c0Jdt1FXXYyzLlYy5ST3Maqo01NLpNSOGMP6yEuX7HGfpgqppJpzr2veMxY\n",
       "cfhbJeT6CxI552Oe5E2TrHRNhTBTenWSXzfjpwWHZmZmmm7FKYmHmKqrSTHA8C5PyHYeXuPyFWvs\n",
       "x0zzw2KPGcsOzq9CvAKrn1v8qCRh3szV5Oq0K9rc7qugCoOgP7cfYuMMb4mFNCY9FJbS2XYgQxce\n",
       "XuPyJWvWj5nmR8xofJlSY/jo2+CU4FgC1pLW5VoMI2p6dWsliBWI4VrwT0CWOJpsIt8F+GmxvDdf\n",
       "h5jIdgaCN5WtBdxWtqbwvp2OMJe/LcyR7bBg3qY6uHPiQYYgNQzrzgKyOviT+pj7q6imV+euKrkQ\n",
       "w03V1JX0NMwqeGqykBVHJ6lL+kda2j8v0hPyVoKllqMhLL9+SYPLa8ahCw+vcfmBNe8Hfx5Yc64R\n",
       "841q97E/pFoWXJSa/u8nPmaaZlB1tuQXQG7w0tjPYlRFXqXToh/quHZmpq48dnK5EgDIwBd8uUR5\n",
       "ykPWcQ5z+ZI16wfHsdE3YcJ8SHVI+mxy/2SFcxGu9+ImNSeBvUxNrrifcUNOX/y8gV73Zt4goBIe\n",
       "/YCJgQhqfGClL+O2iJxu7oMuPLzG5UvWrJ9lWFANNE2Yv1QdBEuVWOCXrXkYfzeEOeGhGvHQVSrV\n",
       "txNwHb7nxO2DHmbdh8GMOTUX3LQecFtEdnAUrTy8xuVL1lOBCglymeZnmMdUh62FroleVeJePcG6\n",
       "aofHT16nNPDyEObrhYworDy8xuVvD4c3hnmPcT1vVx2i4/Th7WA94ww8IeRMudvc1rh8yfpEoKL/\n",
       "U+g+t++OrprZLWIaS3xWCHm0WeKpb89c/pFgwq0IVOm/jJiPqDR/hL/RxcUGjb8R87BE5d2U6hnX\n",
       "aHwblz8uVLwfVOVnjZjHFZo/H+FvscG96F7vhyXc98/xeXjK5Qsa38blXyhUvB9UJVshzPdfu6TA\n",
       "jAOa3/A7+PwdAdG4lIaiciALHr5XLp9Zo4r3g6q+gonmp8YSzR/lfyvgqABEspjJTFPIIMqHXrl8\n",
       "Zk2Dmd8PUSWb4g4KzU+NpRLkRJSUTEbU0iRTvfi2QAbBw/fK5W/xVUE/J2Gsucx43y0KzZ9tR4mZ\n",
       "JOg+kBYc3BvIIHj4Xrn8aV8V9HMn5AbrxvtOKzR/XzNKzNIf956WWlHO97bIOJdvsu5I81NjyeGe\n",
       "aPlG/T+u0R9uLeIb/nT6MUf9X2bor59uyA7+hfY/TNh0awFL8nkAAAAASUVORK5CYII=\n",
       "\" style=\"display:inline;vertical-align:middle;\" /></a><br>"
      ],
      "text/plain": [
       "range_extension_def: forall_{f, i, j | |(f(i) ,  ...  , f(j))| in Naturals} ((f(i) ,  ...  , f(j + 1)) =  \\\\ (f(i) ,  ...  , f(j) , f(j + 1)))"
      ]
     },
     "execution_count": 7,
     "metadata": {},
     "output_type": "execute_result"
    }
   ],
   "source": [
    "range_extension_def = Forall((f, i, j), iter_ext_equiv,\n",
    "                             conditions=[InSet(Len([f_i_to_j]), \n",
    "                                               Naturals)])"
   ]
  },
  {
   "cell_type": "code",
   "execution_count": 8,
   "metadata": {},
   "outputs": [
    {
     "name": "stdout",
     "output_type": "stream",
     "text": [
      "Axioms may be imported from autogenerated _axioms_.py\n"
     ]
    }
   ],
   "source": [
    "%end axioms"
   ]
  },
  {
   "cell_type": "code",
   "execution_count": null,
   "metadata": {},
   "outputs": [],
   "source": []
  }
 ],
 "metadata": {
  "kernelspec": {
   "display_name": "Python 3",
   "language": "python",
   "name": "python3"
  },
  "language_info": {
   "codemirror_mode": {
    "name": "ipython",
    "version": 3
   },
   "file_extension": ".py",
   "mimetype": "text/x-python",
   "name": "python",
   "nbconvert_exporter": "python",
   "pygments_lexer": "ipython3",
   "version": "3.7.4"
  }
 },
 "nbformat": 4,
 "nbformat_minor": 1
}
