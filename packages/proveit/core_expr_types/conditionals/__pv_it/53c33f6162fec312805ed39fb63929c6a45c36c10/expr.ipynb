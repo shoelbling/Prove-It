{
 "cells": [
  {
   "cell_type": "markdown",
   "metadata": {},
   "source": [
    "Expression of type <a class=\"ProveItLink\" href=\"../../../../../../doc/html/api/proveit.Lambda.html\">Lambda</a>\n",
    "=======================\n",
    "# from context <a class=\"ProveItLink\" href=\"../../_context_.ipynb\">proveit.core_expr_types.conditionals</a>"
   ]
  },
  {
   "cell_type": "code",
   "execution_count": 1,
   "metadata": {},
   "outputs": [],
   "source": [
    "import proveit\n",
    "# Automation is not needed when building an expression:\n",
    "proveit.defaults.automation = False # This will speed things up.\n",
    "# import Expression classes needed to build the expression\n",
    "from proveit import Conditional, Lambda, Variable\n",
    "from proveit.logic import Equals, TRUE"
   ]
  },
  {
   "cell_type": "code",
   "execution_count": 2,
   "metadata": {},
   "outputs": [
    {
     "data": {
      "text/html": [
       "<strong id=\"expr\">expr:</strong> <a class=\"ProveItLink\" href=\"expr.ipynb\"><img src=\"data:image/png;base64,iVBORw0KGgoAAAANSUhEUgAAAKsAAAAVCAMAAAAO9u4uAAAANlBMVEX///8WFhYNDQ3MzMxUVFQy\n",
       "MjKqqqoiIiKYmJju7u5EREQQEBC6urqIiIh2dnZmZmbc3NwAAADRPqZpAAAAAXRSTlMAQObYZgAA\n",
       "AAlwSFlzAAAOxAAADsQBlSsOGwAAAbZJREFUSMfFltuWgyAMRZnhGi4C//+zgxbUgNZiWQ4Porbn\n",
       "sEkwQEhvC7kHa8ljLdxSOZF7LuD9P5UbNxnrbojElPt4RhqMWnouaMywXu4a+ypEHQ14vpnkaQii\n",
       "X6IqSWBoPsJ9E1kOvQqvLlnJy5Q18fuOVfnr2ONVbcg166sxP5aVGDiNSxkADWn5/7HyJaXBTy5s\n",
       "RpgCPfmpZa3UgZuUfcqMqVfBDda99zTbWZPyrLfvGrMK3cxtoS4RrtVJz7rX60mhQN4qjQhLjfHy\n",
       "JK7E6Y1DlsoRYqZu1MmcDfq2sLdIvV+45Zpd8vsjUYtxrenmdUeZLK8a9UBW7E1jGn9OMmw8dVwt\n",
       "337KrAR8KXeNeiAr9rYm3c/cKp58TYTuizAXGOhAfYv1cL1W3mkNQJzH15yIcMjK9wVWu6oOtOpx\n",
       "ca28VYoyd/OG6Mm65NCJw6IyObG6ZjXq5K636ztWiPyioiJvn56AuYkG5uhxdtBrK2vWRk21MRrS\n",
       "NeqKzarKW15sm9hb9p4LJf103xp+gu0ecD1BPM7qVbdE50w483BYdb8GdNlTxKOsGu5MUJVjBXuQ\n",
       "Vs3p/AMSlhLWzUvevQAAAABJRU5ErkJggg==\n",
       "\" style=\"display:inline;vertical-align:middle;\" /></a><br>"
      ],
      "text/plain": [
       "expr: a -> ({a if TRUE. = a)"
      ]
     },
     "execution_count": 2,
     "metadata": {},
     "output_type": "execute_result"
    }
   ],
   "source": [
    "# build up the expression from sub-expressions\n",
    "subExpr1 = Variable(\"a\")\n",
    "expr = Lambda(subExpr1, Equals(Conditional(subExpr1, TRUE), subExpr1))"
   ]
  },
  {
   "cell_type": "code",
   "execution_count": 3,
   "metadata": {},
   "outputs": [
    {
     "name": "stdout",
     "output_type": "stream",
     "text": [
      "Passed sanity check: built 'expr' is the same as the stored Expression.\n"
     ]
    }
   ],
   "source": [
    "# check that the built expression is the same as the stored expression\n",
    "%check_expr"
   ]
  },
  {
   "cell_type": "code",
   "execution_count": 4,
   "metadata": {},
   "outputs": [
    {
     "name": "stdout",
     "output_type": "stream",
     "text": [
      "a \\mapsto \\left(\\left\\{a \\textrm{ if } \\top\\right.. = a\\right)\n"
     ]
    }
   ],
   "source": [
    "# Show the LaTeX representation of the expression for convenience if you need it.\n",
    "print(expr.latex())"
   ]
  },
  {
   "cell_type": "code",
   "execution_count": 5,
   "metadata": {},
   "outputs": [
    {
     "data": {
      "text/html": [
       "<table><tr><th>&nbsp;</th><th>core type</th><th>sub-expressions</th><th>expression</th></tr>\n",
       "<tr><td>0</td><td>Lambda</td><td>parameter:&nbsp;5<br>body:&nbsp;1<br></td><td><a class=\"ProveItLink\" href=\"expr.ipynb\"><img src=\"data:image/png;base64,iVBORw0KGgoAAAANSUhEUgAAAKsAAAAVCAMAAAAO9u4uAAAANlBMVEX///8WFhYNDQ3MzMxUVFQy\n",
       "MjKqqqoiIiKYmJju7u5EREQQEBC6urqIiIh2dnZmZmbc3NwAAADRPqZpAAAAAXRSTlMAQObYZgAA\n",
       "AAlwSFlzAAAOxAAADsQBlSsOGwAAAbZJREFUSMfFltuWgyAMRZnhGi4C//+zgxbUgNZiWQ4Porbn\n",
       "sEkwQEhvC7kHa8ljLdxSOZF7LuD9P5UbNxnrbojElPt4RhqMWnouaMywXu4a+ypEHQ14vpnkaQii\n",
       "X6IqSWBoPsJ9E1kOvQqvLlnJy5Q18fuOVfnr2ONVbcg166sxP5aVGDiNSxkADWn5/7HyJaXBTy5s\n",
       "RpgCPfmpZa3UgZuUfcqMqVfBDda99zTbWZPyrLfvGrMK3cxtoS4RrtVJz7rX60mhQN4qjQhLjfHy\n",
       "JK7E6Y1DlsoRYqZu1MmcDfq2sLdIvV+45Zpd8vsjUYtxrenmdUeZLK8a9UBW7E1jGn9OMmw8dVwt\n",
       "337KrAR8KXeNeiAr9rYm3c/cKp58TYTuizAXGOhAfYv1cL1W3mkNQJzH15yIcMjK9wVWu6oOtOpx\n",
       "ca28VYoyd/OG6Mm65NCJw6IyObG6ZjXq5K636ztWiPyioiJvn56AuYkG5uhxdtBrK2vWRk21MRrS\n",
       "NeqKzarKW15sm9hb9p4LJf103xp+gu0ecD1BPM7qVbdE50w483BYdb8GdNlTxKOsGu5MUJVjBXuQ\n",
       "Vs3p/AMSlhLWzUvevQAAAABJRU5ErkJggg==\n",
       "\" style=\"display:inline;vertical-align:middle;\" /></a></td></tr>\n",
       "<tr><td>1</td><td>Operation</td><td>operator:&nbsp;2<br>operands:&nbsp;3<br></td><td><a class=\"ProveItLink\" href=\"../96f96f22566300e3aadfc8cffad9332263fcf6230/expr.ipynb\"><img src=\"data:image/png;base64,iVBORw0KGgoAAAANSUhEUgAAAHEAAAAVBAMAAACDNRyvAAAAMFBMVEX///8QEBBERERUVFTMzMyY\n",
       "mJjc3NxmZmYiIiJ2dnaqqqoyMjKIiIi6urru7u4AAAAvZeGPAAAAAXRSTlMAQObYZgAAAAlwSFlz\n",
       "AAAOxAAADsQBlSsOGwAAARlJREFUOMtjYGDgu8tAJji9DpXPepZIjVz/kDiJAQwMu/wvMDCwd4CB\n",
       "AT6dnA1InPsFDKwNyQ8gRh4gYCeKTj4GBmaYPaTpBALmAjrpTJ+TA2KzbTRgMRQ2IKSTrfIYSI59\n",
       "AwMDrxiDPjhYOAxw+RM5sC8mMIEiJB8YEQ8DGCrA8kwGRIQQnygDO9Chzr1Adv0Dhk7idbL/Y+CY\n",
       "ADSgGuhMIQa+v8TrZFRgeH8BopjvJwPrBwI6kfz5fgJDPDRs+X4xMG1YRrSd7xcwaHMlQGJlD0NE\n",
       "wQSwTgUQQtXJ9xtNJ/cB1nZOaHw+Pulm4wBksygKPVH8BNXBGwBV2Y4etjZTko9gSUPEA/J18giQ\n",
       "q5NPilydDOlWZGkDAIHRUackAoh1AAAAAElFTkSuQmCC\n",
       "\" style=\"display:inline;vertical-align:middle;\" /></a></td></tr>\n",
       "<tr><td>2</td><td>Literal</td><td></td><td><a class=\"ProveItLink\" href=\"../../../../logic/equality/__pv_it/e16d2caa26a16688b658bdb9c422caf4b84579e10/expr.ipynb\"><img src=\"data:image/png;base64,iVBORw0KGgoAAAANSUhEUgAAAA4AAAAFBAMAAACHocAhAAAAD1BMVEX///9UVFQiIiJmZmYAAACP\n",
       "OqLZAAAAAXRSTlMAQObYZgAAAAlwSFlzAAAOxAAADsQBlSsOGwAAABJJREFUCNdjMFICAUUGXAAq\n",
       "DwAoFgH7Aeay4gAAAABJRU5ErkJggg==\n",
       "\" style=\"display:inline;vertical-align:middle;\" /></a></td></tr>\n",
       "<tr><td>3</td><td>ExprTuple</td><td>4, 5</td><td><a class=\"ProveItLink\" href=\"../8c752e55e6fffeb66481e412c379b219c5ee6a540/expr.ipynb\"><img src=\"data:image/png;base64,iVBORw0KGgoAAAANSUhEUgAAAFUAAAAVBAMAAADFg78FAAAAMFBMVEX////MzMxUVFREREQiIiK6\n",
       "uroQEBCYmJhmZmYyMjLu7u52dnaqqqqIiIjc3NwAAACFAiZ1AAAAAXRSTlMAQObYZgAAAAlwSFlz\n",
       "AAAOxAAADsQBlSsOGwAAATZJREFUKM9jYGB4wEAMAKviPYAqWBuAVW0siDiN4POlMzBwHvwKZLW4\n",
       "gIATklqQkVwTEHzWHwwMJXxaEM5ZNINnMTBwFCDxFzAwKMHY6GorGBjY0IQ0cKllW8AQSaxazgKG\n",
       "bpCfuu9dAHFfJjEIpSlhqIVIcyswTAdywh4w/wKLOmF1L0SafQKDDzAo0hk4HMCiRtjUQqV5HBhS\n",
       "gUHxi4FlA261UGnGDyC1bAYM6wNwq4VKsyYwzGFgWL+BoZ4Bt1qoNNANtkDOAQZLngdY1XIxwKXZ\n",
       "DRg2AUPuArsHN1jeGIyQ1K6fAJfmuMAQAtSsu/HRRZCMcJqVcL4tVG04iGDxgkuzPGBgEcCbbE/B\n",
       "WU+AQdyAV+0GOKsdiO3wKeW6AI9oAyCxGJ9adjiLeQFIQwFR+a2OgQEA9zNR3/SoBYwAAAAASUVO\n",
       "RK5CYII=\n",
       "\" style=\"display:inline;vertical-align:middle;\" /></a></td></tr>\n",
       "<tr><td>4</td><td>Conditional</td><td>value:&nbsp;5<br>condition:&nbsp;6<br></td><td><a class=\"ProveItLink\" href=\"../efd3436ff3dd62c99925c764ae5f61ca8851782c0/expr.ipynb\"><img src=\"data:image/png;base64,iVBORw0KGgoAAAANSUhEUgAAAEkAAAAVBAMAAAD4Ed5jAAAAMFBMVEX///8QEBBERERUVFTMzMyY\n",
       "mJjc3NxmZmYiIiJ2dnaqqqoyMjKIiIi6urru7u4AAAAvZeGPAAAAAXRSTlMAQObYZgAAAAlwSFlz\n",
       "AAAOxAAADsQBlSsOGwAAANtJREFUKM9jYGDgu8tABDi9DpXPehaLIq5/SJzEAAaGXf4XGBjYO8DA\n",
       "ACbB2YCk6n4BA2tD8gOI9gNIEiiq+BgYmGH6casCAuYCClWxVR4DibFtNGAxFDbAoop9A5C4mMAE\n",
       "9iqHAQ535QM9zyfKwA62mAmHKudekHn/GDgm4FPFVw0MHUYFhvcX8KkCSTC8n8AQz4BXFciP7xcw\n",
       "aHMlEFLFfYC1nRNslgIIoal6vwGiis9mSvIRIJ9FUeiJ4ieoLG8AVBVHAWbYYwfEqeIRIEYVnxQx\n",
       "qhjSrQgqAQD2fjsz7Xb76wAAAABJRU5ErkJggg==\n",
       "\" style=\"display:inline;vertical-align:middle;\" /></a></td></tr>\n",
       "<tr><td>5</td><td>Variable</td><td></td><td><a class=\"ProveItLink\" href=\"../a8d4b3a34d2189508f9082853fbac36935714f280/expr.ipynb\"><img src=\"data:image/png;base64,iVBORw0KGgoAAAANSUhEUgAAAAsAAAAJBAMAAAAWSsseAAAAMFBMVEX////MzMxUVFQyMjKqqqoi\n",
       "IiKYmJju7u5EREQQEBC6urqIiIh2dnZmZmbc3NwAAAD0tjQRAAAAAXRSTlMAQObYZgAAAAlwSFlz\n",
       "AAAOxAAADsQBlSsOGwAAAEdJREFUCNdjYOC7s28DAwPDygcc3xkY2Kcx8AYwMPB+Z2A9wMDA2cBQ\n",
       "v4CBof4AQz5QRb0DQzPLAwbmDWyxPECV2gcfbWQAABp5EMgcedARAAAAAElFTkSuQmCC\n",
       "\" style=\"display:inline;vertical-align:middle;\" /></a></td></tr>\n",
       "<tr><td>6</td><td>Literal</td><td></td><td><a class=\"ProveItLink\" href=\"../../../../logic/boolean/__pv_it/b5b8ce0f03ab68a7c7bb937dfeb4112a686e3cbb0/expr.ipynb\"><img src=\"data:image/png;base64,iVBORw0KGgoAAAANSUhEUgAAAA4AAAAOBAMAAADtZjDiAAAAG1BMVEX///+YmJi6urqIiIiqqqpU\n",
       "VFQiIiJmZmYAAAD2GhH1AAAAAXRSTlMAQObYZgAAAAlwSFlzAAAOxAAADsQBlSsOGwAAABhJREFU\n",
       "CNdjKEsDgVQGIHBmgABa0YpADADkogYfXGfJdgAAAABJRU5ErkJggg==\n",
       "\" style=\"display:inline;vertical-align:middle;\" /></a></td></tr>\n",
       "</table>\n"
      ],
      "text/plain": [
       "0. a -> ({a if TRUE. = a)\n",
       "   core type: Lambda\n",
       "   parameter: 5\n",
       "   body: 1\n",
       "1. {a if TRUE. = a\n",
       "   core type: Operation\n",
       "   operator: 2\n",
       "   operands: 3\n",
       "2. =\n",
       "   core type: Literal\n",
       "   sub-expressions: \n",
       "3. (a if TRUE , a)\n",
       "   core type: ExprTuple\n",
       "   sub-expressions: 4, 5\n",
       "4. {a if TRUE.\n",
       "   core type: Conditional\n",
       "   value: 5\n",
       "   condition: 6\n",
       "5. a\n",
       "   core type: Variable\n",
       "   sub-expressions: \n",
       "6. TRUE\n",
       "   core type: Literal\n",
       "   sub-expressions: "
      ]
     },
     "execution_count": 5,
     "metadata": {},
     "output_type": "execute_result"
    }
   ],
   "source": [
    "# display the expression information\n",
    "expr.exprInfo()"
   ]
  },
  {
   "cell_type": "code",
   "execution_count": null,
   "metadata": {},
   "outputs": [],
   "source": []
  }
 ],
 "metadata": {
  "kernelspec": {
   "display_name": "Python 3",
   "language": "python",
   "name": "python3"
  },
  "language_info": {
   "codemirror_mode": {
    "name": "ipython",
    "version": 3
   },
   "file_extension": ".py",
   "mimetype": "text/x-python",
   "name": "python",
   "nbconvert_exporter": "python",
   "pygments_lexer": "ipython3",
   "version": "3.7.4"
  }
 },
 "nbformat": 4,
 "nbformat_minor": 1
}
