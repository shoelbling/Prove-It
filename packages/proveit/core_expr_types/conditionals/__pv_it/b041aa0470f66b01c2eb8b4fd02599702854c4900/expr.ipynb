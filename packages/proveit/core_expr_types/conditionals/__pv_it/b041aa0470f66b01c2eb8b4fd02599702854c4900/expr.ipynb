{
 "cells": [
  {
   "cell_type": "markdown",
   "metadata": {},
   "source": [
    "Expression of type <a class=\"ProveItLink\" href=\"../../../../../../doc/html/api/proveit.ExprTuple.html\">ExprTuple</a>\n",
    "=======================\n",
    "# from context <a class=\"ProveItLink\" href=\"../../_context_.ipynb\">proveit.core_expr_types.conditionals</a>"
   ]
  },
  {
   "cell_type": "code",
   "execution_count": 1,
   "metadata": {},
   "outputs": [],
   "source": [
    "import proveit\n",
    "# Automation is not needed when building an expression:\n",
    "proveit.defaults.automation = False # This will speed things up.\n",
    "# import Expression classes needed to build the expression\n",
    "from proveit import Conditional, ExprTuple, Variable\n",
    "from proveit.logic import And"
   ]
  },
  {
   "cell_type": "code",
   "execution_count": 2,
   "metadata": {},
   "outputs": [
    {
     "data": {
      "text/html": [
       "<strong id=\"expr\">expr:</strong> <a class=\"ProveItLink\" href=\"expr.ipynb\"><img src=\"data:image/png;base64,iVBORw0KGgoAAAANSUhEUgAAAHkAAAAVBAMAAACQ4lxbAAAAMFBMVEX////MzMxUVFREREQiIiK6\n",
       "uroQEBCYmJhmZmYyMjLu7u52dnaqqqqIiIjc3NwAAACFAiZ1AAAAAXRSTlMAQObYZgAAAAlwSFlz\n",
       "AAAOxAAADsQBlSsOGwAAAdpJREFUOMuNlL9LAlEcwL/XnXd66nHkPyBOEQRSU4Fh0VDR4BBBQyCB\n",
       "OibR4NKPrcGGtiBChKYmr6CtwbbIxaAxQiIIt5YgnPp+v/d8eucRis93n+99P/fefd97AkAHgj7x\n",
       "Fdu9eF3izhrJY443vcHDHHfRXD9wz79vsOOzmVsDtkoAkcefIDvmjAxDbJ4POPQLcGBND+wHad9g\n",
       "u/QNjhwuD3EdICUuyTbXpH2KreKzkXVfaGrIju/n+nYem173piJv/2NrSlrYIXq/SNmbilylalXf\n",
       "24TdXZgspgZ2C2rCDjsUSsrysoB8gbDVUXscXfa+dw2ehM3DGrLAroC8gcUpQTjL0VmPrSRBq7u2\n",
       "RqsVy4p7QkAu4LR6oDkB9oQN8bZr61Q+5VvcEwIy2noaGrkAG9fYzA7ZoXy/2K6AfAXQcOAYAmza\n",
       "K2fivT0zFwJyBqEJ87HOqE3JXddWaU0MWj8TpIB8hw9uG6tRVub4K2yDDNVmmxcrTIHGuRSQN/Fx\n",
       "M7cfL2QkiguJvUzfVmlrKY67W2geGs1PW5cCsmYHHm//GaND/sn4LFOQjZOx7Io4KQCOTCFeHMtW\n",
       "O2Cleae05XYlvh7LNtPAdQBDZjBb5WBb/q8VuPuCI18G8h92sYAlbITsNAAAAABJRU5ErkJggg==\n",
       "\" style=\"display:inline;vertical-align:middle;\" /></a><br>"
      ],
      "text/plain": [
       "expr: (a if [and]() , a)"
      ]
     },
     "execution_count": 2,
     "metadata": {},
     "output_type": "execute_result"
    }
   ],
   "source": [
    "# build up the expression from sub-expressions\n",
    "subExpr1 = Variable(\"a\")\n",
    "expr = ExprTuple(Conditional(subExpr1, And()), subExpr1)"
   ]
  },
  {
   "cell_type": "code",
   "execution_count": 3,
   "metadata": {},
   "outputs": [
    {
     "name": "stdout",
     "output_type": "stream",
     "text": [
      "Passed sanity check: built 'expr' is the same as the stored Expression.\n"
     ]
    }
   ],
   "source": [
    "# check that the built expression is the same as the stored expression\n",
    "%check_expr"
   ]
  },
  {
   "cell_type": "code",
   "execution_count": 4,
   "metadata": {},
   "outputs": [
    {
     "name": "stdout",
     "output_type": "stream",
     "text": [
      "\\left(a \\textrm{ if } \\left[\\land\\right]\\left(\\right) , a\\right)\n"
     ]
    }
   ],
   "source": [
    "# Show the LaTeX representation of the expression for convenience if you need it.\n",
    "print(expr.latex())"
   ]
  },
  {
   "cell_type": "code",
   "execution_count": 5,
   "metadata": {},
   "outputs": [
    {
     "data": {
      "text/html": [
       "<table><tr><th>&nbsp;</th><th>core type</th><th>sub-expressions</th><th>expression</th></tr>\n",
       "<tr><td>0</td><td>ExprTuple</td><td>1, 2</td><td><a class=\"ProveItLink\" href=\"expr.ipynb\"><img src=\"data:image/png;base64,iVBORw0KGgoAAAANSUhEUgAAAHkAAAAVBAMAAACQ4lxbAAAAMFBMVEX////MzMxUVFREREQiIiK6\n",
       "uroQEBCYmJhmZmYyMjLu7u52dnaqqqqIiIjc3NwAAACFAiZ1AAAAAXRSTlMAQObYZgAAAAlwSFlz\n",
       "AAAOxAAADsQBlSsOGwAAAdpJREFUOMuNlL9LAlEcwL/XnXd66nHkPyBOEQRSU4Fh0VDR4BBBQyCB\n",
       "OibR4NKPrcGGtiBChKYmr6CtwbbIxaAxQiIIt5YgnPp+v/d8eucRis93n+99P/fefd97AkAHgj7x\n",
       "Fdu9eF3izhrJY443vcHDHHfRXD9wz79vsOOzmVsDtkoAkcefIDvmjAxDbJ4POPQLcGBND+wHad9g\n",
       "u/QNjhwuD3EdICUuyTbXpH2KreKzkXVfaGrIju/n+nYem173piJv/2NrSlrYIXq/SNmbilylalXf\n",
       "24TdXZgspgZ2C2rCDjsUSsrysoB8gbDVUXscXfa+dw2ehM3DGrLAroC8gcUpQTjL0VmPrSRBq7u2\n",
       "RqsVy4p7QkAu4LR6oDkB9oQN8bZr61Q+5VvcEwIy2noaGrkAG9fYzA7ZoXy/2K6AfAXQcOAYAmza\n",
       "K2fivT0zFwJyBqEJ87HOqE3JXddWaU0MWj8TpIB8hw9uG6tRVub4K2yDDNVmmxcrTIHGuRSQN/Fx\n",
       "M7cfL2QkiguJvUzfVmlrKY67W2geGs1PW5cCsmYHHm//GaND/sn4LFOQjZOx7Io4KQCOTCFeHMtW\n",
       "O2Cleae05XYlvh7LNtPAdQBDZjBb5WBb/q8VuPuCI18G8h92sYAlbITsNAAAAABJRU5ErkJggg==\n",
       "\" style=\"display:inline;vertical-align:middle;\" /></a></td></tr>\n",
       "<tr><td>1</td><td>Conditional</td><td>value:&nbsp;2<br>condition:&nbsp;3<br></td><td><a class=\"ProveItLink\" href=\"../70b634b5a730e32f5910be164ebd1ba7c3e7678a0/expr.ipynb\"><img src=\"data:image/png;base64,iVBORw0KGgoAAAANSUhEUgAAAGkAAAAVBAMAAAC3TN2zAAAAMFBMVEX///8QEBBERERUVFTMzMyY\n",
       "mJjc3NxmZmYiIiJ2dnaqqqoyMjKIiIi6urru7u4AAAAvZeGPAAAAAXRSTlMAQObYZgAAAAlwSFlz\n",
       "AAAOxAAADsQBlSsOGwAAAZ1JREFUOMtjYGDgu8uAFZxoQWWwMSQgyZ5eh6qa9SyEngsXgbBOMdxB\n",
       "KOL6h6QjMYCBYZf/BWy6uCYw8CyAC3E2IOm6X8DA2pD8AKF2Fpz1Goj3YdfFx8DAbIBkA183XFcp\n",
       "EIdj1wUEzAVIuniCL8B0CQAx4wOidHGwKEBZvBuABHcAiq70OTngwN1owGIobIDQtZJhG5TFPgGk\n",
       "FuZ6BnagIbxiDPpgyzkMUP21jWE5lAW2hnUDTFc+kPswgKECzGFC1cViwMDxAOpWUKhzwXzj3Ask\n",
       "6h8wdGLTxezAwHMAoosRFCwsH2BhXQ00TIiB7y82XcA44mtA0sUrAHMhUCHfTwbWD9h0geK4Cuov\n",
       "FBeCwpDvFwPThmVYdIEUZUN0MR0AhYYCcsjvYYgomADWpQBCMF2sIJVMDmBd4EBnBwkwvN8A0fX4\n",
       "pJuNA8i3ikJPFD8dgOliAsUGywRILIPs5QDnFY4CzLSBlj/gLFAmy8CZDnHpCoemYAjgESBOF1MC\n",
       "A5sCInNIEaeLTwHiTyhIt8Kuawa83JAFU6kMYTApAHnDbWLsshS/AAAAAElFTkSuQmCC\n",
       "\" style=\"display:inline;vertical-align:middle;\" /></a></td></tr>\n",
       "<tr><td>2</td><td>Variable</td><td></td><td><a class=\"ProveItLink\" href=\"../a8d4b3a34d2189508f9082853fbac36935714f280/expr.ipynb\"><img src=\"data:image/png;base64,iVBORw0KGgoAAAANSUhEUgAAAAsAAAAJBAMAAAAWSsseAAAAMFBMVEX////MzMxUVFQyMjKqqqoi\n",
       "IiKYmJju7u5EREQQEBC6urqIiIh2dnZmZmbc3NwAAAD0tjQRAAAAAXRSTlMAQObYZgAAAAlwSFlz\n",
       "AAAOxAAADsQBlSsOGwAAAEdJREFUCNdjYOC7s28DAwPDygcc3xkY2Kcx8AYwMPB+Z2A9wMDA2cBQ\n",
       "v4CBof4AQz5QRb0DQzPLAwbmDWyxPECV2gcfbWQAABp5EMgcedARAAAAAElFTkSuQmCC\n",
       "\" style=\"display:inline;vertical-align:middle;\" /></a></td></tr>\n",
       "<tr><td>3</td><td>Operation</td><td>operator:&nbsp;4<br>operands:&nbsp;5<br></td><td><a class=\"ProveItLink\" href=\"../7c60b5b6b06b168bfd5d65c6a54a2863b7fd72780/expr.ipynb\"><img src=\"data:image/png;base64,iVBORw0KGgoAAAANSUhEUgAAACkAAAAVBAMAAAAp9toTAAAAMFBMVEX///8QEBBmZmbc3NxERERU\n",
       "VFSYmJgyMjLu7u6qqqq6urp2dnbMzMwiIiKIiIgAAAD/pI0GAAAAAXRSTlMAQObYZgAAAAlwSFlz\n",
       "AAAOxAAADsQBlSsOGwAAAOBJREFUGNNjeHuHAQKgDGYGAyC5iwEGIKyXDOswRTk3MPBNgLJ3wkXb\n",
       "gbgCwua4DhdVA+IkCJsvdQFMVACIGRvAbF4eB6goVwGQYE8As2czFENFmTYACe4AMLuYYRJUFKiM\n",
       "gYGtAMTmCWDgbYCI8k4Aue4CiM16gIHvAUSUEWQtzwcQG+hGjgtIolwCIDbID5pQcxEmANUxmENE\n",
       "WR6AbHMAstlALJYDYFGgo4DOewBkszSAbNgA8QVIH68BepiBAtkWIySTICGEJspiwMDsgCHK4QC2\n",
       "Zy883qTAlBlDMgMDAErOQ/EmKcqzAAAAAElFTkSuQmCC\n",
       "\" style=\"display:inline;vertical-align:middle;\" /></a></td></tr>\n",
       "<tr><td>4</td><td>Literal</td><td></td><td><a class=\"ProveItLink\" href=\"../../../../logic/boolean/conjunction/__pv_it/f41cc6b553210927c09f19a8a39cdf860a5585930/expr.ipynb\"><img src=\"data:image/png;base64,iVBORw0KGgoAAAANSUhEUgAAAAwAAAANBAMAAABvB5JxAAAALVBMVEX///9mZmbc3NxERETMzMy6\n",
       "urpUVFSYmJiIiIgyMjIiIiLu7u6qqqp2dnYAAACMfHT6AAAAAXRSTlMAQObYZgAAAAlwSFlzAAAO\n",
       "xAAADsQBlSsOGwAAAEpJREFUCNdjYGDgPcAAArsmgKn2VDC1wBlE8lzgVABSnAo8AkDKjYFhNZBK\n",
       "YWDoYGDgBirfBdHMeICBCyjONIGhAqTJhMEaRPkCACemC8GDBfsjAAAAAElFTkSuQmCC\n",
       "\" style=\"display:inline;vertical-align:middle;\" /></a></td></tr>\n",
       "<tr><td>5</td><td>ExprTuple</td><td></td><td><a class=\"ProveItLink\" href=\"../932ad914fbc084fb83cd7cce8742c2c1338987a00/expr.ipynb\"><img src=\"data:image/png;base64,iVBORw0KGgoAAAANSUhEUgAAAAwAAAAVBAMAAACAghKHAAAAMFBMVEX////MzMxUVFREREQiIiK6\n",
       "uroQEBCYmJhmZmYyMjLu7u52dnaqqqqIiIjc3NwAAACFAiZ1AAAAAXRSTlMAQObYZgAAAAlwSFlz\n",
       "AAAOxAAADsQBlSsOGwAAAHRJREFUCNdjYGB4wMcABLwHWC8AqdMMDHcYGLgmMDBwLmDgKGBgYG9g\n",
       "YAPJZzFEgqjpDN0gahOQAQSVDD4g6ghDKoiSh1BhDHMggrYgqhioFgh6GUJAlB8DiwADA58DyFiw\n",
       "8XYMDI+B4osZGKyAFF8B+wMGAFwSFSv4L9l8AAAAAElFTkSuQmCC\n",
       "\" style=\"display:inline;vertical-align:middle;\" /></a></td></tr>\n",
       "</table>\n"
      ],
      "text/plain": [
       "0. (a if [and]() , a)\n",
       "   core type: ExprTuple\n",
       "   sub-expressions: 1, 2\n",
       "1. {a if [and]().\n",
       "   core type: Conditional\n",
       "   value: 2\n",
       "   condition: 3\n",
       "2. a\n",
       "   core type: Variable\n",
       "   sub-expressions: \n",
       "3. [and]()\n",
       "   core type: Operation\n",
       "   operator: 4\n",
       "   operands: 5\n",
       "4. and\n",
       "   core type: Literal\n",
       "   sub-expressions: \n",
       "5. ()\n",
       "   core type: ExprTuple\n",
       "   sub-expressions: "
      ]
     },
     "execution_count": 5,
     "metadata": {},
     "output_type": "execute_result"
    }
   ],
   "source": [
    "# display the expression information\n",
    "expr.exprInfo()"
   ]
  },
  {
   "cell_type": "code",
   "execution_count": null,
   "metadata": {},
   "outputs": [],
   "source": []
  }
 ],
 "metadata": {
  "kernelspec": {
   "display_name": "Python 3",
   "language": "python",
   "name": "python3"
  },
  "language_info": {
   "codemirror_mode": {
    "name": "ipython",
    "version": 3
   },
   "file_extension": ".py",
   "mimetype": "text/x-python",
   "name": "python",
   "nbconvert_exporter": "python",
   "pygments_lexer": "ipython3",
   "version": "3.7.4"
  }
 },
 "nbformat": 4,
 "nbformat_minor": 1
}
