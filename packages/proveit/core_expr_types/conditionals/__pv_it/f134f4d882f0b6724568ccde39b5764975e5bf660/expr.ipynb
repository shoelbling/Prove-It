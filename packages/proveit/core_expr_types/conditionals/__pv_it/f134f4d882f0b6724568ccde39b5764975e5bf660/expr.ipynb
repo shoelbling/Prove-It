{
 "cells": [
  {
   "cell_type": "markdown",
   "metadata": {},
   "source": [
    "Expression of type <a class=\"ProveItLink\" href=\"../../../../../../doc/html/api/proveit.ExprTuple.html\">ExprTuple</a>\n",
    "=======================\n",
    "# from context <a class=\"ProveItLink\" href=\"../../_context_.ipynb\">proveit.core_expr_types.conditionals</a>"
   ]
  },
  {
   "cell_type": "code",
   "execution_count": 1,
   "metadata": {},
   "outputs": [],
   "source": [
    "import proveit\n",
    "# Automation is not needed when building an expression:\n",
    "proveit.defaults.automation = False # This will speed things up.\n",
    "# import Expression classes needed to build the expression\n",
    "from proveit import Conditional, ExprTuple, Variable\n",
    "from proveit.logic import And"
   ]
  },
  {
   "cell_type": "code",
   "execution_count": 2,
   "metadata": {},
   "outputs": [
    {
     "data": {
      "text/html": [
       "<strong id=\"expr\">expr:</strong> <a class=\"ProveItLink\" href=\"../b9456e3bee155655e771e35235699e84d8b711df0/expr.ipynb\"><img src=\"data:image/png;base64,iVBORw0KGgoAAAANSUhEUgAAAKUAAAAVBAMAAADVzzOcAAAAMFBMVEX////MzMxUVFREREQiIiK6\n",
       "uroQEBCYmJhmZmYyMjLu7u52dnaqqqqIiIjc3NwAAACFAiZ1AAAAAXRSTlMAQObYZgAAAAlwSFlz\n",
       "AAAOxAAADsQBlSsOGwAAAnZJREFUOMuNlU9oE0EUh3+bTbrJ5i/2rqEHEaEQFAIK1Sg9KHrIQQQP\n",
       "Emlpe9NFevBizUHw0IjBg4LUsioIHiRR9KYQb0JAIuhJlFBE7EEoSEGjB9+bnZnNNpuYYcm+zHz5\n",
       "dubNyyyALsJaejbnBR+Oefdu3+eIJoB0K9h5tSxuybLqeIk+7Hy4yfqoIgG0/ZHMEpB4sx3qbMMu\n",
       "lgZnQO2bA6ztIVwDdt0fjf0CljP7fecr7WQsUaXg3oCzUoVV2nDhA3Gnb5gGpmTITvukdjKW5Tle\n",
       "GXDaQCQvIgVM7CD29TnTl8vKyViF5zLhhqQzUvVmLIFzI5xRo6CcjL3gIOEMdypglfdm9UuHv27O\n",
       "YdfilO9sY105Gbv9uUb9eSX6/vqH2Ng7eWPvnOhVwF2Kz3bNnsCOB/O5jrfKSZj92210Yak9jV3E\n",
       "UZGHaF7mUwOnKV5CvCS4AwGnkUfUlU7CUj1kO0iVJPDYwXURmMqpgQXa0x6izRBnJId0RzoZq6PR\n",
       "hLElgVsuTgWdGiB4ooBGOcT5hJZQ8p1UfZUWYhckMA97O+jUwBpYfg0hTq74mnQSlnV4bmrt9h9Y\n",
       "W0GnBmbI2cKhVHfQyb/elE7CsmVKPKyC99+w/8Ksvws6FfCc5tyxTiSF6KC4pNPi+jJznpOwiGNS\n",
       "GcY7vMHUcx/LVbELZoEv9AFnCJl+tvGeOycXD09emlFOkyvFaHpOxm7WuHJ4QbM09PDT7mk+Do3i\n",
       "/IPiT36+BqK58NNrx7mksa+iatzhBygBVnUsp8ZuiMERhzIDR8ZyKiwjMvd0uFIAj8ZzSkwkGc5w\n",
       "pwAy4UBSv48WvOd72Mr/3kcE/ANU/7MqW/TW4wAAAABJRU5ErkJggg==\n",
       "\" style=\"display:inline;vertical-align:middle;\" /></a><br>"
      ],
      "text/plain": [
       "expr: (a if [and](b) , a if b)"
      ]
     },
     "execution_count": 2,
     "metadata": {},
     "output_type": "execute_result"
    }
   ],
   "source": [
    "# build up the expression from sub-expressions\n",
    "subExpr1 = Variable(\"a\")\n",
    "subExpr2 = Variable(\"b\")\n",
    "expr = ExprTuple(Conditional(subExpr1, And(subExpr2)), Conditional(subExpr1, subExpr2))"
   ]
  },
  {
   "cell_type": "code",
   "execution_count": 3,
   "metadata": {},
   "outputs": [
    {
     "name": "stdout",
     "output_type": "stream",
     "text": [
      "Passed sanity check: built 'expr' is the same as the stored Expression.\n"
     ]
    }
   ],
   "source": [
    "# check that the built expression is the same as the stored expression\n",
    "%check_expr"
   ]
  },
  {
   "cell_type": "code",
   "execution_count": 4,
   "metadata": {},
   "outputs": [
    {
     "name": "stdout",
     "output_type": "stream",
     "text": [
      "\\left(a \\textrm{ if } \\left[\\land\\right]\\left(b\\right) , a \\textrm{ if } b\\right)\n"
     ]
    }
   ],
   "source": [
    "# Show the LaTeX representation of the expression for convenience if you need it.\n",
    "print(expr.latex())"
   ]
  },
  {
   "cell_type": "code",
   "execution_count": 5,
   "metadata": {},
   "outputs": [
    {
     "data": {
      "text/html": [
       "<table><tr><th>&nbsp;</th><th>core type</th><th>sub-expressions</th><th>expression</th></tr>\n",
       "<tr><td>0</td><td>ExprTuple</td><td>1, 2</td><td><a class=\"ProveItLink\" href=\"../b9456e3bee155655e771e35235699e84d8b711df0/expr.ipynb\"><img src=\"data:image/png;base64,iVBORw0KGgoAAAANSUhEUgAAAKUAAAAVBAMAAADVzzOcAAAAMFBMVEX////MzMxUVFREREQiIiK6\n",
       "uroQEBCYmJhmZmYyMjLu7u52dnaqqqqIiIjc3NwAAACFAiZ1AAAAAXRSTlMAQObYZgAAAAlwSFlz\n",
       "AAAOxAAADsQBlSsOGwAAAnZJREFUOMuNlU9oE0EUh3+bTbrJ5i/2rqEHEaEQFAIK1Sg9KHrIQQQP\n",
       "Emlpe9NFevBizUHw0IjBg4LUsioIHiRR9KYQb0JAIuhJlFBE7EEoSEGjB9+bnZnNNpuYYcm+zHz5\n",
       "dubNyyyALsJaejbnBR+Oefdu3+eIJoB0K9h5tSxuybLqeIk+7Hy4yfqoIgG0/ZHMEpB4sx3qbMMu\n",
       "lgZnQO2bA6ztIVwDdt0fjf0CljP7fecr7WQsUaXg3oCzUoVV2nDhA3Gnb5gGpmTITvukdjKW5Tle\n",
       "GXDaQCQvIgVM7CD29TnTl8vKyViF5zLhhqQzUvVmLIFzI5xRo6CcjL3gIOEMdypglfdm9UuHv27O\n",
       "YdfilO9sY105Gbv9uUb9eSX6/vqH2Ng7eWPvnOhVwF2Kz3bNnsCOB/O5jrfKSZj92210Yak9jV3E\n",
       "UZGHaF7mUwOnKV5CvCS4AwGnkUfUlU7CUj1kO0iVJPDYwXURmMqpgQXa0x6izRBnJId0RzoZq6PR\n",
       "hLElgVsuTgWdGiB4ooBGOcT5hJZQ8p1UfZUWYhckMA97O+jUwBpYfg0hTq74mnQSlnV4bmrt9h9Y\n",
       "W0GnBmbI2cKhVHfQyb/elE7CsmVKPKyC99+w/8Ksvws6FfCc5tyxTiSF6KC4pNPi+jJznpOwiGNS\n",
       "GcY7vMHUcx/LVbELZoEv9AFnCJl+tvGeOycXD09emlFOkyvFaHpOxm7WuHJ4QbM09PDT7mk+Do3i\n",
       "/IPiT36+BqK58NNrx7mksa+iatzhBygBVnUsp8ZuiMERhzIDR8ZyKiwjMvd0uFIAj8ZzSkwkGc5w\n",
       "pwAy4UBSv48WvOd72Mr/3kcE/ANU/7MqW/TW4wAAAABJRU5ErkJggg==\n",
       "\" style=\"display:inline;vertical-align:middle;\" /></a></td></tr>\n",
       "<tr><td>1</td><td>Conditional</td><td>value:&nbsp;4<br>condition:&nbsp;3<br></td><td><a class=\"ProveItLink\" href=\"../3b0029bb4106165642568dc3e5c718004f2330a80/expr.ipynb\"><img src=\"data:image/png;base64,iVBORw0KGgoAAAANSUhEUgAAAHEAAAAVBAMAAACDNRyvAAAAMFBMVEX///8QEBBERERUVFTMzMyY\n",
       "mJjc3NxmZmYiIiJ2dnaqqqoyMjKIiIi6urru7u4AAAAvZeGPAAAAAXRSTlMAQObYZgAAAAlwSFlz\n",
       "AAAOxAAADsQBlSsOGwAAAd5JREFUOMuNlDtIw0AYx78+0nfTUtFBEFoQJ9EITqIgFgQnM6mDQ8Wh\n",
       "DoJZBK2CdVNBKbg4OHQSXCQiLkWki4NYoaOg0vgYurW4qSh+d5fLg0bokdx9d7lf8r/vEQAQn8Gp\n",
       "RXbG7UbG0rN2d2ZHhHs6BKt8gVmRIp08mRtDvxZqQQYoTVedyFMQU3njBXQ9byFrCgj5Rc3YHyxy\n",
       "S1QBwgoa186kCOCRLF+qq9zyo5oYec+sM4nNo1jImzFuuYgiIsaltUXmJ7j1iPcRWQ/LNjJ7vExs\n",
       "37nkHeqQDDJUCGd0ch3vi0oOZxIn/XiUaBcMUhEByXbOcCak6OQlOuFba2RAUDm5gl9/kWGNTtx2\n",
       "Mg1woJN7NH6xMoT46dL72G1psOtEDgNUdLKHqmsUwNvkcdhAmQkQfxxIEsO6SWI4a0WIxrla3Cx+\n",
       "gtB0IEke+IuMLGE4ZSLOUEt8K36BWz1pJQPE3Soj+5Gsip2Y1klrVK5gTilQMkkuTs6TsZeRhxhp\n",
       "2Y2e9pfJakNl5Nvt5CgpJW8q8Z76KHNygIxTjHxAl2zmSOBonQWU1hyyV4hhBfRqhaV/8/YfUtCT\n",
       "ElbN2o+3RUIfm/iSZmF1t0e+6kHUzC3ZEWfS+A9tU9LHamSGP/8DxKiHp1h4UrgAAAAASUVORK5C\n",
       "YII=\n",
       "\" style=\"display:inline;vertical-align:middle;\" /></a></td></tr>\n",
       "<tr><td>2</td><td>Conditional</td><td>value:&nbsp;4<br>condition:&nbsp;6<br></td><td><a class=\"ProveItLink\" href=\"../9e80399ec7eb03778dfbd5543e4ca765ae3eab710/expr.ipynb\"><img src=\"data:image/png;base64,iVBORw0KGgoAAAANSUhEUgAAAEEAAAAVBAMAAADrxp6XAAAAMFBMVEX///8QEBBERERUVFTMzMyY\n",
       "mJjc3NxmZmYiIiJ2dnaqqqoyMjKIiIi6urru7u4AAAAvZeGPAAAAAXRSTlMAQObYZgAAAAlwSFlz\n",
       "AAAOxAAADsQBlSsOGwAAAQpJREFUKM9jYGDgu8tAAJxeh8pnPYumgOsfEicxgIFhl/8FoMGKDXBB\n",
       "zgYkFfcLGFgbkh8AWdwF2FXwMTAwG4BZ/AuwqwACZojm+w8IqZjBgKoifU4OiM220YDFUBhszeYz\n",
       "VTAV7BsYGHjFGPTBpnIYQN3B9/vB+wSoinygBx8GMFSAOUwwFcAw4D8AUeDcCyTqHzB0oqoAmvx+\n",
       "AtR/1UDjhRj4/qKqAAbHfZh/gYJ8PxlYP6Cq4A8AGQz3C98vBqYNy1BVXOATRfbtHoaIArCtTAog\n",
       "BAqVACZwuLzfAFHx+KSbjQOQz6Io9ETxE8gPfDWQ4OAowAxTTEBYBY8AIRV8UoRUMKRb4ZUGAPuF\n",
       "QlHmcAYWAAAAAElFTkSuQmCC\n",
       "\" style=\"display:inline;vertical-align:middle;\" /></a></td></tr>\n",
       "<tr><td>3</td><td>Operation</td><td>operator:&nbsp;5<br>operand:&nbsp;6<br></td><td><a class=\"ProveItLink\" href=\"../ebd74c747dbe5a8d3e5ed54ed06201a5bc3293e30/expr.ipynb\"><img src=\"data:image/png;base64,iVBORw0KGgoAAAANSUhEUgAAADIAAAAVBAMAAAD2uKAMAAAAMFBMVEX///8QEBBmZmbc3NxERERU\n",
       "VFSYmJgyMjLu7u6qqqq6urp2dnbMzMwiIiKIiIgAAAD/pI0GAAAAAXRSTlMAQObYZgAAAAlwSFlz\n",
       "AAAOxAAADsQBlSsOGwAAAR9JREFUKM9jeHuHAQKgDGY4uYsBBiCsl2CS6wGGDOcGhhZZiAIwfydc\n",
       "ph2Ii4CYvQHM57gOl1ED4p9AzKYA5vOlLoDJCADt+AFiSID5vDwOUBmuAgYG7gsgmTIwfzZDMVSG\n",
       "aQPQirhHExgYtoL5xQyToDLsCQwM/RUcnxkY0kF8ngAG3gaIDC9Q9fwGhn8MDHNBfNYDDHxQnzEC\n",
       "naLOwPGbgeE8iA/0A8cFhEwRAxfQ3QtBfJA/NaH2AE37xsD0A2oayJXmEBkWoKm/GBqB7kgB8tke\n",
       "gIQOgGW4AxgYwhicgCw9IJ8F6C4Gng0QnwL1N4G8w3AZPaxhscV8AV0mCcphSkCXYTGAcEwwYo7D\n",
       "AcLxYGDYC08HUmDKDEyyGTAAAAr9VyDr9RZMAAAAAElFTkSuQmCC\n",
       "\" style=\"display:inline;vertical-align:middle;\" /></a></td></tr>\n",
       "<tr><td>4</td><td>Variable</td><td></td><td><a class=\"ProveItLink\" href=\"../../../__pv_it/a8d4b3a34d2189508f9082853fbac36935714f280/expr.ipynb\"><img src=\"data:image/png;base64,iVBORw0KGgoAAAANSUhEUgAAAAsAAAAJBAMAAAAWSsseAAAAMFBMVEX////MzMxUVFQyMjKqqqoi\n",
       "IiKYmJju7u5EREQQEBC6urqIiIh2dnZmZmbc3NwAAAD0tjQRAAAAAXRSTlMAQObYZgAAAAlwSFlz\n",
       "AAAOxAAADsQBlSsOGwAAAEdJREFUCNdjYOC7s28DAwPDygcc3xkY2Kcx8AYwMPB+Z2A9wMDA2cBQ\n",
       "v4CBof4AQz5QRb0DQzPLAwbmDWyxPECV2gcfbWQAABp5EMgcedARAAAAAElFTkSuQmCC\n",
       "\" style=\"display:inline;vertical-align:middle;\" /></a></td></tr>\n",
       "<tr><td>5</td><td>Literal</td><td></td><td><a class=\"ProveItLink\" href=\"../../../../logic/boolean/conjunction/__pv_it/f41cc6b553210927c09f19a8a39cdf860a5585930/expr.ipynb\"><img src=\"data:image/png;base64,iVBORw0KGgoAAAANSUhEUgAAAAwAAAANBAMAAABvB5JxAAAALVBMVEX///9mZmbc3NxERETMzMy6\n",
       "urpUVFSYmJiIiIgyMjIiIiLu7u6qqqp2dnYAAACMfHT6AAAAAXRSTlMAQObYZgAAAAlwSFlzAAAO\n",
       "xAAADsQBlSsOGwAAAEpJREFUCNdjYGDgPcAAArsmgKn2VDC1wBlE8lzgVABSnAo8AkDKjYFhNZBK\n",
       "YWDoYGDgBirfBdHMeICBCyjONIGhAqTJhMEaRPkCACemC8GDBfsjAAAAAElFTkSuQmCC\n",
       "\" style=\"display:inline;vertical-align:middle;\" /></a></td></tr>\n",
       "<tr><td>6</td><td>Variable</td><td></td><td><a class=\"ProveItLink\" href=\"../../../__pv_it/53e304ff98ebc000dbe3ef224f4637dbafd46ba70/expr.ipynb\"><img src=\"data:image/png;base64,iVBORw0KGgoAAAANSUhEUgAAAAkAAAAOBAMAAAAPuiubAAAALVBMVEX///+YmJjc3NyIiIhUVFR2\n",
       "dna6urqqqqpmZmYyMjIiIiIQEBBERETu7u4AAAALjtrwAAAAAXRSTlMAQObYZgAAAAlwSFlzAAAO\n",
       "xAAADsQBlSsOGwAAAE5JREFUCNdj4D29gAEIOBtAJF8BiMy7ACKjQATDFON2BgbelxfuKTCwv2Xg\n",
       "M2DgmMBwLwCkPK+AgU+Aoe8CA18C70YGBhYBHqARvM1A5QCqGhDobJhHyAAAAABJRU5ErkJggg==\n",
       "\" style=\"display:inline;vertical-align:middle;\" /></a></td></tr>\n",
       "</table>\n"
      ],
      "text/plain": [
       "0. (a if [and](b) , a if b)\n",
       "   core type: ExprTuple\n",
       "   sub-expressions: 1, 2\n",
       "1. {a if [and](b).\n",
       "   core type: Conditional\n",
       "   value: 4\n",
       "   condition: 3\n",
       "2. {a if b.\n",
       "   core type: Conditional\n",
       "   value: 4\n",
       "   condition: 6\n",
       "3. [and](b)\n",
       "   core type: Operation\n",
       "   operator: 5\n",
       "   operand: 6\n",
       "4. a\n",
       "   core type: Variable\n",
       "   sub-expressions: \n",
       "5. and\n",
       "   core type: Literal\n",
       "   sub-expressions: \n",
       "6. b\n",
       "   core type: Variable\n",
       "   sub-expressions: "
      ]
     },
     "execution_count": 5,
     "metadata": {},
     "output_type": "execute_result"
    }
   ],
   "source": [
    "# display the expression information\n",
    "expr.exprInfo()"
   ]
  },
  {
   "cell_type": "code",
   "execution_count": null,
   "metadata": {},
   "outputs": [],
   "source": []
  }
 ],
 "metadata": {
  "kernelspec": {
   "display_name": "Python 3",
   "language": "python",
   "name": "python3"
  },
  "language_info": {
   "codemirror_mode": {
    "name": "ipython",
    "version": 3
   },
   "file_extension": ".py",
   "mimetype": "text/x-python",
   "name": "python",
   "nbconvert_exporter": "python",
   "pygments_lexer": "ipython3",
   "version": "3.7.4"
  }
 },
 "nbformat": 4,
 "nbformat_minor": 1
}
