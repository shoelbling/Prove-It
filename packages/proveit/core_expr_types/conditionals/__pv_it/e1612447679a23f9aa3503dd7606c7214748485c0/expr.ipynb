{
 "cells": [
  {
   "cell_type": "markdown",
   "metadata": {},
   "source": [
    "Expression of type <a class=\"ProveItLink\" href=\"../../../../../../doc/html/api/proveit.logic.Equals.html\">Equals</a>\n",
    "=======================\n",
    "# from context <a class=\"ProveItLink\" href=\"../../_context_.ipynb\">proveit.core_expr_types.conditionals</a>"
   ]
  },
  {
   "cell_type": "code",
   "execution_count": 1,
   "metadata": {},
   "outputs": [],
   "source": [
    "import proveit\n",
    "# Automation is not needed when building an expression:\n",
    "proveit.defaults.automation = False # This will speed things up.\n",
    "# import Expression classes needed to build the expression\n",
    "from proveit import Conditional, Variable\n",
    "from proveit.logic import Equals"
   ]
  },
  {
   "cell_type": "code",
   "execution_count": 2,
   "metadata": {},
   "outputs": [
    {
     "data": {
      "text/html": [
       "<strong id=\"expr\">expr:</strong> <a class=\"ProveItLink\" href=\"expr.ipynb\"><img src=\"data:image/png;base64,iVBORw0KGgoAAAANSUhEUgAAAF0AAAAuBAMAAAC46QifAAAAMFBMVEX///8QEBBERERUVFTMzMyY\n",
       "mJjc3NxmZmYiIiJ2dnaqqqoyMjKIiIi6urru7u4AAAAvZeGPAAAAAXRSTlMAQObYZgAAAAlwSFlz\n",
       "AAAOxAAADsQBlSsOGwAAAdtJREFUSMfllD1IQlEUgE/+PfPnJgYSRaA0BC1Z0FISRtCabW0VDRII\n",
       "uWU4KLTUEARNQUNTY1kEQkTYFBFFc1DZDzQqUkKPtN49r/Kp9/puNHZ4PO6570PPPefyAahBbuBX\n",
       "cb5TnZsvGuK2siaZCQEcjl/hem5xPcTgm5Oa5C4K5uRsFvcPAIb0eAJg9KurfeXVFNXhlTCqjJ1u\n",
       "G/PCfCJIv71w+PBmhK4te35TXystyFKguVSq56UUgNMDvXhIq/+rfknGoor1/LzStPsQxDAxfPNW\n",
       "JHOuOnx0lRabhZVqvgVPOlU/ABJXCnEDKdX8Pj0V6WD0X0HIG5jz1bzSyWuQPOx5ERkMqe0q3iQ7\n",
       "bjMT05z5HsFkdA15L31onERgYVglcqla/vFsLEDnY/K5n3yFDP5B/0YnmJCwRhvNtxI9cAn696ES\n",
       "XTYvY9fh4vGJjyBjl7Tz+BH2l/Ag/MP4o7V0pIXWemgTlpZ6K9LC0lJ5WVhayDvLwtJCXnNT9aSF\n",
       "rD1wutVIWrFlGks/1sodk6KgtNBau1l4F5OWaq04FYuQtFRrpcEpN5KWtn6FgVeQyoLSwv6UqHfF\n",
       "pIX8AHSDoLSQf8b2C0mLbyG2tPg8W1p8a7GlxbcWR1oC1voEGVae/QuDCY0AAAAASUVORK5CYII=\n",
       "\" style=\"display:inline;vertical-align:middle;\" /></a><br>"
      ],
      "text/plain": [
       "expr: {a if Q. \\\\  = {b if Q."
      ]
     },
     "execution_count": 2,
     "metadata": {},
     "output_type": "execute_result"
    }
   ],
   "source": [
    "# build up the expression from sub-expressions\n",
    "expr = Equals(Conditional(Variable(\"a\"), Variable(\"Q\")), Conditional(Variable(\"b\"), Variable(\"Q\"))).withWrappingAt(1)"
   ]
  },
  {
   "cell_type": "code",
   "execution_count": 3,
   "metadata": {},
   "outputs": [
    {
     "name": "stdout",
     "output_type": "stream",
     "text": [
      "Passed sanity check: built 'expr' is the same as the stored Expression.\n"
     ]
    }
   ],
   "source": [
    "# check that the built expression is the same as the stored expression\n",
    "%check_expr"
   ]
  },
  {
   "cell_type": "code",
   "execution_count": 4,
   "metadata": {},
   "outputs": [
    {
     "name": "stdout",
     "output_type": "stream",
     "text": [
      "\\begin{array}{c} \\left\\{a \\textrm{ if } Q\\right.. \\\\  = \\left\\{b \\textrm{ if } Q\\right.. \\end{array}\n"
     ]
    }
   ],
   "source": [
    "# Show the LaTeX representation of the expression for convenience if you need it.\n",
    "print(expr.latex())"
   ]
  },
  {
   "cell_type": "code",
   "execution_count": 5,
   "metadata": {},
   "outputs": [
    {
     "data": {
      "text/html": [
       "<table><tr><th>&nbsp;</th><th>core type</th><th>sub-expressions</th><th>expression</th></tr>\n",
       "<tr><td>0</td><td>Operation</td><td>operator:&nbsp;1<br>operands:&nbsp;2<br></td><td><a class=\"ProveItLink\" href=\"expr.ipynb\"><img src=\"data:image/png;base64,iVBORw0KGgoAAAANSUhEUgAAAF0AAAAuBAMAAAC46QifAAAAMFBMVEX///8QEBBERERUVFTMzMyY\n",
       "mJjc3NxmZmYiIiJ2dnaqqqoyMjKIiIi6urru7u4AAAAvZeGPAAAAAXRSTlMAQObYZgAAAAlwSFlz\n",
       "AAAOxAAADsQBlSsOGwAAAdtJREFUSMfllD1IQlEUgE/+PfPnJgYSRaA0BC1Z0FISRtCabW0VDRII\n",
       "uWU4KLTUEARNQUNTY1kEQkTYFBFFc1DZDzQqUkKPtN49r/Kp9/puNHZ4PO6570PPPefyAahBbuBX\n",
       "cb5TnZsvGuK2siaZCQEcjl/hem5xPcTgm5Oa5C4K5uRsFvcPAIb0eAJg9KurfeXVFNXhlTCqjJ1u\n",
       "G/PCfCJIv71w+PBmhK4te35TXystyFKguVSq56UUgNMDvXhIq/+rfknGoor1/LzStPsQxDAxfPNW\n",
       "JHOuOnx0lRabhZVqvgVPOlU/ABJXCnEDKdX8Pj0V6WD0X0HIG5jz1bzSyWuQPOx5ERkMqe0q3iQ7\n",
       "bjMT05z5HsFkdA15L31onERgYVglcqla/vFsLEDnY/K5n3yFDP5B/0YnmJCwRhvNtxI9cAn696ES\n",
       "XTYvY9fh4vGJjyBjl7Tz+BH2l/Ag/MP4o7V0pIXWemgTlpZ6K9LC0lJ5WVhayDvLwtJCXnNT9aSF\n",
       "rD1wutVIWrFlGks/1sodk6KgtNBau1l4F5OWaq04FYuQtFRrpcEpN5KWtn6FgVeQyoLSwv6UqHfF\n",
       "pIX8AHSDoLSQf8b2C0mLbyG2tPg8W1p8a7GlxbcWR1oC1voEGVae/QuDCY0AAAAASUVORK5CYII=\n",
       "\" style=\"display:inline;vertical-align:middle;\" /></a></td></tr>\n",
       "<tr><td>1</td><td>Literal</td><td></td><td><a class=\"ProveItLink\" href=\"../../../../logic/equality/__pv_it/e16d2caa26a16688b658bdb9c422caf4b84579e10/expr.ipynb\"><img src=\"data:image/png;base64,iVBORw0KGgoAAAANSUhEUgAAAA4AAAAFBAMAAACHocAhAAAAD1BMVEX///9UVFQiIiJmZmYAAACP\n",
       "OqLZAAAAAXRSTlMAQObYZgAAAAlwSFlzAAAOxAAADsQBlSsOGwAAABJJREFUCNdjMFICAUUGXAAq\n",
       "DwAoFgH7Aeay4gAAAABJRU5ErkJggg==\n",
       "\" style=\"display:inline;vertical-align:middle;\" /></a></td></tr>\n",
       "<tr><td>2</td><td>ExprTuple</td><td>3, 4</td><td><a class=\"ProveItLink\" href=\"../22761a31ec87ab27013de7084154299f840bb3b40/expr.ipynb\"><img src=\"data:image/png;base64,iVBORw0KGgoAAAANSUhEUgAAAH0AAAAVBAMAAACZCfwhAAAAMFBMVEX////MzMxUVFREREQiIiK6\n",
       "uroQEBCYmJhmZmYyMjLu7u52dnaqqqqIiIjc3NwAAACFAiZ1AAAAAXRSTlMAQObYZgAAAAlwSFlz\n",
       "AAAOxAAADsQBlSsOGwAAAd1JREFUOMtjYGB4wEAuAOvkPYAqWBuATwuKbCyIOI3g86UzMHAe/Aph\n",
       "79itDhHlMnPAIQuymmsCQj/rDwaGEj4tMHunAAMTVIqzAZfsLAYGjgIkBy1gYFCCsFYaAIkMCJv/\n",
       "AC7ZCgYGNjQPakCoKSBCH8KOX4BLlm0BQyRW/RwfQeR+ATBnC05ZzgKGblBodN+7ABJ5mcQglAZ2\n",
       "4nuQAxn6IYE96W4PDlluBYbpQFbYA+ZfYJVOMB/2g708HxzBXD8XrH+AXZZ9AoMPUEE6Awckioxg\n",
       "KvxBGri+gdk8vxj4L2CX5XFgSAV65xcDywZU/f9BBPt3iG8nMKzfgF2W8QNIP5sBw/oAVP0uIGLZ\n",
       "BFj0xx/ALsuawDCHAWR6PQOqfn0G1gMMbZCcwV/A0L8AuyzQ/bZA/QcYLHkeoKiQP3B1LXse0JMg\n",
       "/QHAAMIqy8BuwLAJ6MAL7B7cYAljMAJlqrwLHE1AS9cDHclUwNyAXZaB4wJDCNAS3Y2PLoLEhdOs\n",
       "hPNtwUqErLcFMAgwsHgBpXvB0Y9FloHlAQOLAI6cynyAF2jFKbyyT4BeaMClQuEwkNyAV7YdiO1w\n",
       "qOD4D0zlXBfwyfKB0vFiHCoY04CRzs6AT5YZFIZ8BWSXf3UMDADZ45NDffPTugAAAABJRU5ErkJg\n",
       "gg==\n",
       "\" style=\"display:inline;vertical-align:middle;\" /></a></td></tr>\n",
       "<tr><td>3</td><td>Conditional</td><td>value:&nbsp;5<br>condition:&nbsp;7<br></td><td><a class=\"ProveItLink\" href=\"../dfeaf34c95668869a95d63b867c4acd0b342dbcb0/expr.ipynb\"><img src=\"data:image/png;base64,iVBORw0KGgoAAAANSUhEUgAAAEkAAAAVBAMAAAD4Ed5jAAAAMFBMVEX///8QEBBERERUVFTMzMyY\n",
       "mJjc3NxmZmYiIiJ2dnaqqqoyMjKIiIi6urru7u4AAAAvZeGPAAAAAXRSTlMAQObYZgAAAAlwSFlz\n",
       "AAAOxAAADsQBlSsOGwAAATlJREFUKM9jYGDgu8tABDi9DpXPehaLIq5/SJzEAAaGXf4XwOzMyskB\n",
       "cAnOBiRV9wsYWBuSH4DFtzAwWGNXxcfAwGwAYW0CEowFWFUBATNEhhskzPyBgKp6B5DcFxRV6XNy\n",
       "QGy2jQYshsIgK9k+gfjsf2Gq2DcwMPCKMeiDncxhAHUX+y+wtd9gqvKB3n0YwFAB5jDBVHGA5d8L\n",
       "QBU594Ic8YChE1UVP9jd8bAA46sGWiXEwPcXzSyQa/mk4X4CSvD9ZGD9gKoKGAa3GNjFkEOV7xcD\n",
       "04ZlKKpYfvHcOxCYgBL2exgiCiaAVSmAEAgczGEot4OoeL8BourxSTcbUCiyKAo9Ufx0AGyY0UxZ\n",
       "BhawKo4CzLBHAC2Gcwy4YggBlLkU4GweAVyq6v87IBKLFC5Vjsgy6VYEEz0A721JVffRzbYAAAAA\n",
       "SUVORK5CYII=\n",
       "\" style=\"display:inline;vertical-align:middle;\" /></a></td></tr>\n",
       "<tr><td>4</td><td>Conditional</td><td>value:&nbsp;6<br>condition:&nbsp;7<br></td><td><a class=\"ProveItLink\" href=\"../15caa9f01177093c093a9b7c9efa93ead937393c0/expr.ipynb\"><img src=\"data:image/png;base64,iVBORw0KGgoAAAANSUhEUgAAAEcAAAAVBAMAAADm2O7QAAAAMFBMVEX///8QEBBERERUVFTMzMyY\n",
       "mJjc3NxmZmYiIiJ2dnaqqqoyMjKIiIi6urru7u4AAAAvZeGPAAAAAXRSTlMAQObYZgAAAAlwSFlz\n",
       "AAAOxAAADsQBlSsOGwAAAUJJREFUKM9jYGDgu8tAGJxeh8JlPYtFDdc/BoZHEhB2YgADwy7/C2B2\n",
       "ZuXkALgizgYgsR3Cvl/AwNqQ/AAsvIWBwRpV0S8Im4+BgdkAwtoEJBgLkBXx/oPrYYZIcIO0Mn9A\n",
       "VgQ2DUVRvQNI6guyIm6b4wuATLaNBiyGwiD72D6BpNj/whSxb2BgeL+P7xuIzWEAdRM72JHc32CK\n",
       "8oEeXf+A4Q+IzQRTxAGWfi8AVePcCySqGfh+oijiBzs5HhZQfNUPQMHE+wvVJJBP+KTh3gFKMHxl\n",
       "YP+Hogjo+VsM7GIogfmX4WEAiiKWXzz3DgQmoCgyZVCHmKoAQiBwMIeh3A6i4P0GiKLn4GBiYFEU\n",
       "eqL46QCYaTRTloEFrIijACW0UYEWwznUCMYGlLkU4GweARyK6v87wNl8UjgUOSJLpFsRSuAAQIVO\n",
       "Y1LajFAAAAAASUVORK5CYII=\n",
       "\" style=\"display:inline;vertical-align:middle;\" /></a></td></tr>\n",
       "<tr><td>5</td><td>Variable</td><td></td><td><a class=\"ProveItLink\" href=\"../a8d4b3a34d2189508f9082853fbac36935714f280/expr.ipynb\"><img src=\"data:image/png;base64,iVBORw0KGgoAAAANSUhEUgAAAAsAAAAJBAMAAAAWSsseAAAAMFBMVEX////MzMxUVFQyMjKqqqoi\n",
       "IiKYmJju7u5EREQQEBC6urqIiIh2dnZmZmbc3NwAAAD0tjQRAAAAAXRSTlMAQObYZgAAAAlwSFlz\n",
       "AAAOxAAADsQBlSsOGwAAAEdJREFUCNdjYOC7s28DAwPDygcc3xkY2Kcx8AYwMPB+Z2A9wMDA2cBQ\n",
       "v4CBof4AQz5QRb0DQzPLAwbmDWyxPECV2gcfbWQAABp5EMgcedARAAAAAElFTkSuQmCC\n",
       "\" style=\"display:inline;vertical-align:middle;\" /></a></td></tr>\n",
       "<tr><td>6</td><td>Variable</td><td></td><td><a class=\"ProveItLink\" href=\"../53e304ff98ebc000dbe3ef224f4637dbafd46ba70/expr.ipynb\"><img src=\"data:image/png;base64,iVBORw0KGgoAAAANSUhEUgAAAAkAAAAOBAMAAAAPuiubAAAALVBMVEX///+YmJjc3NyIiIhUVFR2\n",
       "dna6urqqqqpmZmYyMjIiIiIQEBBERETu7u4AAAALjtrwAAAAAXRSTlMAQObYZgAAAAlwSFlzAAAO\n",
       "xAAADsQBlSsOGwAAAE5JREFUCNdj4D29gAEIOBtAJF8BiMy7ACKjQATDFON2BgbelxfuKTCwv2Xg\n",
       "M2DgmMBwLwCkPK+AgU+Aoe8CA18C70YGBhYBHqARvM1A5QCqGhDobJhHyAAAAABJRU5ErkJggg==\n",
       "\" style=\"display:inline;vertical-align:middle;\" /></a></td></tr>\n",
       "<tr><td>7</td><td>Variable</td><td></td><td><a class=\"ProveItLink\" href=\"../dbe7145e53d9411a5ba89652cbfea9d54e4b581a0/expr.ipynb\"><img src=\"data:image/png;base64,iVBORw0KGgoAAAANSUhEUgAAAA8AAAASBAMAAAB2sJk8AAAAMFBMVEX///+IiIiqqqq6uroiIiIQ\n",
       "EBBERETu7u7MzMwyMjKYmJhUVFRmZmZ2dnbc3NwAAABtgPhfAAAAAXRSTlMAQObYZgAAAAlwSFlz\n",
       "AAAOxAAADsQBlSsOGwAAAIJJREFUCNdjYGDgu3N3FwMI3Gxg4J4ApCsTgEQMEE8Bie5nYOD5AWLc\n",
       "b2B4D5JhOG/AcF4BxJj/gMH/AZBm/8rA8B8kwPWLgcEFxCidANLIrMBwFCjfryBcyBUHFGWME+A5\n",
       "XQCS7869asDQALaVTYGxAMLYoAamGXj+/4AwOEKB1gAAAV0f3CdXaksAAAAASUVORK5CYII=\n",
       "\" style=\"display:inline;vertical-align:middle;\" /></a></td></tr>\n",
       "</table>\n"
      ],
      "text/plain": [
       "0. {a if Q. \\\\  = {b if Q.\n",
       "   core type: Operation\n",
       "   operator: 1\n",
       "   operands: 2\n",
       "1. =\n",
       "   core type: Literal\n",
       "   sub-expressions: \n",
       "2. (a if Q , b if Q)\n",
       "   core type: ExprTuple\n",
       "   sub-expressions: 3, 4\n",
       "3. {a if Q.\n",
       "   core type: Conditional\n",
       "   value: 5\n",
       "   condition: 7\n",
       "4. {b if Q.\n",
       "   core type: Conditional\n",
       "   value: 6\n",
       "   condition: 7\n",
       "5. a\n",
       "   core type: Variable\n",
       "   sub-expressions: \n",
       "6. b\n",
       "   core type: Variable\n",
       "   sub-expressions: \n",
       "7. Q\n",
       "   core type: Variable\n",
       "   sub-expressions: "
      ]
     },
     "execution_count": 5,
     "metadata": {},
     "output_type": "execute_result"
    }
   ],
   "source": [
    "# display the expression information\n",
    "expr.exprInfo()"
   ]
  },
  {
   "cell_type": "code",
   "execution_count": null,
   "metadata": {},
   "outputs": [],
   "source": []
  }
 ],
 "metadata": {
  "kernelspec": {
   "display_name": "Python 3",
   "language": "python",
   "name": "python3"
  },
  "language_info": {
   "codemirror_mode": {
    "name": "ipython",
    "version": 3
   },
   "file_extension": ".py",
   "mimetype": "text/x-python",
   "name": "python",
   "nbconvert_exporter": "python",
   "pygments_lexer": "ipython3",
   "version": "3.7.4"
  }
 },
 "nbformat": 4,
 "nbformat_minor": 1
}
