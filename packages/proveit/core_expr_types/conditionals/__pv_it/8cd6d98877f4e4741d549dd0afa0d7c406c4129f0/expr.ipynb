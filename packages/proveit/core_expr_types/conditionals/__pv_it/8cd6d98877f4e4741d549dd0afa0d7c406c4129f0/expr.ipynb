{
 "cells": [
  {
   "cell_type": "markdown",
   "metadata": {},
   "source": [
    "Expression of type <a class=\"ProveItLink\" href=\"../../../../../../doc/html/api/proveit.Conditional.html\">Conditional</a>\n",
    "=======================\n",
    "# from context <a class=\"ProveItLink\" href=\"../../_context_.ipynb\">proveit.core_expr_types.conditionals</a>"
   ]
  },
  {
   "cell_type": "code",
   "execution_count": 1,
   "metadata": {},
   "outputs": [],
   "source": [
    "import proveit\n",
    "# Automation is not needed when building an expression:\n",
    "proveit.defaults.automation = False # This will speed things up.\n",
    "# import Expression classes needed to build the expression\n",
    "from proveit import Conditional, Variable\n",
    "from proveit.logic import Equals, Implies"
   ]
  },
  {
   "cell_type": "code",
   "execution_count": 2,
   "metadata": {},
   "outputs": [
    {
     "data": {
      "text/html": [
       "<strong id=\"expr\">expr:</strong> <a class=\"ProveItLink\" href=\"expr.ipynb\"><img src=\"data:image/png;base64,iVBORw0KGgoAAAANSUhEUgAAARYAAAAyBAMAAABrKenoAAAAMFBMVEX///+qqqoyMjIiIiIQEBDM\n",
       "zMxUVFRmZma6urqYmJh2dnbu7u6IiIhERETc3NwAAABX2VgGAAAAAXRSTlMAQObYZgAAAAlwSFlz\n",
       "AAAOxAAADsQBlSsOGwAAA6RJREFUWMPNmU9IFFEcx3+uf2bX0dmB6BJESlCYh0xBb3VQSgnMkzdR\n",
       "iApJcC3xYIJLeXepa5FkGXRxMaEOyW5g1CFKIgrSYujQTSpR/LOVvffm7c6b8b35s+6MPtz3Z2Zn\n",
       "5+N7v/f7zncXAJXlBdgvpeJv0nzgeXzPWKYTFrZqC9vdwNjC65YDRxgUpQ0gdHBD7z9+0uszS+Uv\n",
       "y4FJC+gd5SrpP+iAsip/WaILNiyA5uiy3pvB7zvnL0uqx44FlSt6cxRX/T6zxFyxSGskzjuCZ1GG\n",
       "36Vx//tZ6Gwhi/STLOVoPFiWa+g1plVmyKAxGy+jKq5PaoGyKJsAchtIdWT0KctyBlPIq4HGS+lF\n",
       "tAxSBoonzCzbuIpsBhu7z2oBShYgFTezNOBqtirgfYRun5qA+2Bm6YewCoNa8Hs6pcKHIs3E0q2+\n",
       "eRFpz/82wv9CcWAJpSNN5WTwlfxhxWxPS0O6UqV4K+UgoBWqUA/T9ixy36Mfr3C/q2Wx68ISOdz5\n",
       "5WEcSKortu48FwJ6iMsx14yqlx7yrqGiakVSpPQOAioLgv44eoWS+bD0HOafcBZQKcG/8jdOFAZA\n",
       "94Tl/LyIRdpeE8aDQEAXaVsiiBWS3M/nxu+tQTcrCrPSFtWBZYeAdtH2Jv+qcpLca3Lj5h2bbEj1\n",
       "tl1tBDRCJ32Y0VumhPpeo3tN5Sa+ffcpiiegUgMp9AG2htHb6+REI4nVWvkfwO3s5wwW4InERkCL\n",
       "qklzitVb06P1H4ADdPQ0BgVk4QjoTCuuW1m9ZR9P5C20e7IsNwrJslNAlRMaZTH0lk0vYbSrxxzX\n",
       "yINj4wkojZd6XYeqGb1l4mUTz1ZujYSxa3VsdnojFtAwNRlLrN4aZQNmURK8lxvX8z8fhZX8sc6d\n",
       "3vAElG532k6xemuUXviM6hGiEiu8XGcoQSjmSm+4AqqXS7S9xegt+9yG0wucJv0mngYYLFHVu2Ez\n",
       "C2h2TYptModSJ9ZGg2U86d2w8QU0YpM6GN20YZnMw7AJBPSb+IplcMNy7O2AZ8MmENA58RWLPBaa\n",
       "Enqyjk1eSaa0Ahk2JSE6E9Gc5gU7tqIMRNOBGjYui+7YqnCyDNKw8ecFOzaUXsbVQA2bIF7Q/aMJ\n",
       "GE0GatjE+ygaR88cBTVs+bOUJSpj3gybfyzyyAC4Nmz+fF9n75JEhm1PWESGrRAlyv81YD4Pw7br\n",
       "Qr+YA5eOzc6w7bqUbvEFZMjHewrL9F7cVPQ1zfr+Ydkvv2X9BzHbWJQSn5acAAAAAElFTkSuQmCC\n",
       "\" style=\"display:inline;vertical-align:middle;\" /></a><br>"
      ],
      "text/plain": [
       "expr: {{a if Q. \\\\  = {b if Q. if Q => (a = b)."
      ]
     },
     "execution_count": 2,
     "metadata": {},
     "output_type": "execute_result"
    }
   ],
   "source": [
    "# build up the expression from sub-expressions\n",
    "expr = Conditional(Equals(Conditional(Variable(\"a\"), Variable(\"Q\")), Conditional(Variable(\"b\"), Variable(\"Q\"))).withWrappingAt(1), Implies(Variable(\"Q\"), Equals(Variable(\"a\"), Variable(\"b\"))))"
   ]
  },
  {
   "cell_type": "code",
   "execution_count": 3,
   "metadata": {},
   "outputs": [
    {
     "name": "stdout",
     "output_type": "stream",
     "text": [
      "Passed sanity check: built 'expr' is the same as the stored Expression.\n"
     ]
    }
   ],
   "source": [
    "# check that the built expression is the same as the stored expression\n",
    "%check_expr"
   ]
  },
  {
   "cell_type": "code",
   "execution_count": 4,
   "metadata": {},
   "outputs": [
    {
     "name": "stdout",
     "output_type": "stream",
     "text": [
      "\\left\\{\\begin{array}{c} \\left\\{a \\textrm{ if } Q\\right.. \\\\  = \\left\\{b \\textrm{ if } Q\\right.. \\end{array} \\textrm{ if } Q \\Rightarrow \\left(a = b\\right)\\right..\n"
     ]
    }
   ],
   "source": [
    "# Show the LaTeX representation of the expression for convenience if you need it.\n",
    "print(expr.latex())"
   ]
  },
  {
   "cell_type": "code",
   "execution_count": 5,
   "metadata": {},
   "outputs": [
    {
     "data": {
      "text/html": [
       "<table><tr><th>&nbsp;</th><th>core type</th><th>sub-expressions</th><th>expression</th></tr>\n",
       "<tr><td>0</td><td>Conditional</td><td>value:&nbsp;1<br>condition:&nbsp;2<br></td><td><a class=\"ProveItLink\" href=\"expr.ipynb\"><img src=\"data:image/png;base64,iVBORw0KGgoAAAANSUhEUgAAARYAAAAyBAMAAABrKenoAAAAMFBMVEX///+qqqoyMjIiIiIQEBDM\n",
       "zMxUVFRmZma6urqYmJh2dnbu7u6IiIhERETc3NwAAABX2VgGAAAAAXRSTlMAQObYZgAAAAlwSFlz\n",
       "AAAOxAAADsQBlSsOGwAAA6RJREFUWMPNmU9IFFEcx3+uf2bX0dmB6BJESlCYh0xBb3VQSgnMkzdR\n",
       "iApJcC3xYIJLeXepa5FkGXRxMaEOyW5g1CFKIgrSYujQTSpR/LOVvffm7c6b8b35s+6MPtz3Z2Zn\n",
       "5+N7v/f7zncXAJXlBdgvpeJv0nzgeXzPWKYTFrZqC9vdwNjC65YDRxgUpQ0gdHBD7z9+0uszS+Uv\n",
       "y4FJC+gd5SrpP+iAsip/WaILNiyA5uiy3pvB7zvnL0uqx44FlSt6cxRX/T6zxFyxSGskzjuCZ1GG\n",
       "36Vx//tZ6Gwhi/STLOVoPFiWa+g1plVmyKAxGy+jKq5PaoGyKJsAchtIdWT0KctyBlPIq4HGS+lF\n",
       "tAxSBoonzCzbuIpsBhu7z2oBShYgFTezNOBqtirgfYRun5qA+2Bm6YewCoNa8Hs6pcKHIs3E0q2+\n",
       "eRFpz/82wv9CcWAJpSNN5WTwlfxhxWxPS0O6UqV4K+UgoBWqUA/T9ixy36Mfr3C/q2Wx68ISOdz5\n",
       "5WEcSKortu48FwJ6iMsx14yqlx7yrqGiakVSpPQOAioLgv44eoWS+bD0HOafcBZQKcG/8jdOFAZA\n",
       "94Tl/LyIRdpeE8aDQEAXaVsiiBWS3M/nxu+tQTcrCrPSFtWBZYeAdtH2Jv+qcpLca3Lj5h2bbEj1\n",
       "tl1tBDRCJ32Y0VumhPpeo3tN5Sa+ffcpiiegUgMp9AG2htHb6+REI4nVWvkfwO3s5wwW4InERkCL\n",
       "qklzitVb06P1H4ADdPQ0BgVk4QjoTCuuW1m9ZR9P5C20e7IsNwrJslNAlRMaZTH0lk0vYbSrxxzX\n",
       "yINj4wkojZd6XYeqGb1l4mUTz1ZujYSxa3VsdnojFtAwNRlLrN4aZQNmURK8lxvX8z8fhZX8sc6d\n",
       "3vAElG532k6xemuUXviM6hGiEiu8XGcoQSjmSm+4AqqXS7S9xegt+9yG0wucJv0mngYYLFHVu2Ez\n",
       "C2h2TYptModSJ9ZGg2U86d2w8QU0YpM6GN20YZnMw7AJBPSb+IplcMNy7O2AZ8MmENA58RWLPBaa\n",
       "Enqyjk1eSaa0Ahk2JSE6E9Gc5gU7tqIMRNOBGjYui+7YqnCyDNKw8ecFOzaUXsbVQA2bIF7Q/aMJ\n",
       "GE0GatjE+ygaR88cBTVs+bOUJSpj3gybfyzyyAC4Nmz+fF9n75JEhm1PWESGrRAlyv81YD4Pw7br\n",
       "Qr+YA5eOzc6w7bqUbvEFZMjHewrL9F7cVPQ1zfr+Ydkvv2X9BzHbWJQSn5acAAAAAElFTkSuQmCC\n",
       "\" style=\"display:inline;vertical-align:middle;\" /></a></td></tr>\n",
       "<tr><td>1</td><td>Operation</td><td>operator:&nbsp;10<br>operands:&nbsp;3<br></td><td><a class=\"ProveItLink\" href=\"../e1612447679a23f9aa3503dd7606c7214748485c0/expr.ipynb\"><img src=\"data:image/png;base64,iVBORw0KGgoAAAANSUhEUgAAAF0AAAAuBAMAAAC46QifAAAAMFBMVEX///8QEBBERERUVFTMzMyY\n",
       "mJjc3NxmZmYiIiJ2dnaqqqoyMjKIiIi6urru7u4AAAAvZeGPAAAAAXRSTlMAQObYZgAAAAlwSFlz\n",
       "AAAOxAAADsQBlSsOGwAAAdtJREFUSMfllD1IQlEUgE/+PfPnJgYSRaA0BC1Z0FISRtCabW0VDRII\n",
       "uWU4KLTUEARNQUNTY1kEQkTYFBFFc1DZDzQqUkKPtN49r/Kp9/puNHZ4PO6570PPPefyAahBbuBX\n",
       "cb5TnZsvGuK2siaZCQEcjl/hem5xPcTgm5Oa5C4K5uRsFvcPAIb0eAJg9KurfeXVFNXhlTCqjJ1u\n",
       "G/PCfCJIv71w+PBmhK4te35TXystyFKguVSq56UUgNMDvXhIq/+rfknGoor1/LzStPsQxDAxfPNW\n",
       "JHOuOnx0lRabhZVqvgVPOlU/ABJXCnEDKdX8Pj0V6WD0X0HIG5jz1bzSyWuQPOx5ERkMqe0q3iQ7\n",
       "bjMT05z5HsFkdA15L31onERgYVglcqla/vFsLEDnY/K5n3yFDP5B/0YnmJCwRhvNtxI9cAn696ES\n",
       "XTYvY9fh4vGJjyBjl7Tz+BH2l/Ag/MP4o7V0pIXWemgTlpZ6K9LC0lJ5WVhayDvLwtJCXnNT9aSF\n",
       "rD1wutVIWrFlGks/1sodk6KgtNBau1l4F5OWaq04FYuQtFRrpcEpN5KWtn6FgVeQyoLSwv6UqHfF\n",
       "pIX8AHSDoLSQf8b2C0mLbyG2tPg8W1p8a7GlxbcWR1oC1voEGVae/QuDCY0AAAAASUVORK5CYII=\n",
       "\" style=\"display:inline;vertical-align:middle;\" /></a></td></tr>\n",
       "<tr><td>2</td><td>Operation</td><td>operator:&nbsp;4<br>operands:&nbsp;5<br></td><td><a class=\"ProveItLink\" href=\"../341c799e979288a9ae3a902dffa74831a53d07370/expr.ipynb\"><img src=\"data:image/png;base64,iVBORw0KGgoAAAANSUhEUgAAAG0AAAAVBAMAAAC+p33JAAAAMFBMVEX///+IiIiqqqq6uroiIiIQ\n",
       "EBBERETu7u7MzMwyMjKYmJhUVFRmZmZ2dnbc3NwAAABtgPhfAAAAAXRSTlMAQObYZgAAAAlwSFlz\n",
       "AAAOxAAADsQBlSsOGwAAAbVJREFUOMt9VD1IAmEYfvTyzvTKq+bgpqAlbGnVwaEldKkhQlwao2tw\n",
       "iAbdg7qgaAjKodHC1pZMbKlBgxqCfgxaiiApIgvCvvfusuv8zg/u+3ve5/3e3wNcR68rUkOn0e+K\n",
       "jJp6r28OOaC3yqNIs1HAo9L2Koug3i6xyH+ru8imTcJTbJppFzjl80L0Vp5963Q6at2LmrVJ8HkR\n",
       "wn0a5Aad7rK/9/6UuQo6n3dhGJvDiyFXCbeAPXORKSzP5/dO3lZfCegpoGLEZodSUo7RiBdhqYSQ\n",
       "xDyZJRtArEDx/NQyNQR0xIkhvds0DhuauticzqHszM4HQgq8UTTpFPiyp2iDjPaxqaJhwsGTdWSq\n",
       "8NcRo1PaHoTHW1i8KUhv7emLqBASLAOCihOj4kz/YtumgArpG4E6/vsXypEVzM5VdWAhkLRpHLPy\n",
       "qEB6haiPONIelqaZXyl4kop8ptm6wDKZhRpr2C06qjSYE1m8ZQVYnrsMI/sHWFuB1e/S4MpB1lHX\n",
       "xyUKtuGXqHq09q4b79BiD6YrhSEOlu/AM2tebjY4mOje1b1mDfsnVV6Hplx5otbpP/HkiuwDPyFM\n",
       "Z/MDXE3EAAAAAElFTkSuQmCC\n",
       "\" style=\"display:inline;vertical-align:middle;\" /></a></td></tr>\n",
       "<tr><td>3</td><td>ExprTuple</td><td>6, 7</td><td><a class=\"ProveItLink\" href=\"../22761a31ec87ab27013de7084154299f840bb3b40/expr.ipynb\"><img src=\"data:image/png;base64,iVBORw0KGgoAAAANSUhEUgAAAH0AAAAVBAMAAACZCfwhAAAAMFBMVEX////MzMxUVFREREQiIiK6\n",
       "uroQEBCYmJhmZmYyMjLu7u52dnaqqqqIiIjc3NwAAACFAiZ1AAAAAXRSTlMAQObYZgAAAAlwSFlz\n",
       "AAAOxAAADsQBlSsOGwAAAd1JREFUOMtjYGB4wEAuAOvkPYAqWBuATwuKbCyIOI3g86UzMHAe/Aph\n",
       "79itDhHlMnPAIQuymmsCQj/rDwaGEj4tMHunAAMTVIqzAZfsLAYGjgIkBy1gYFCCsFYaAIkMCJv/\n",
       "AC7ZCgYGNjQPakCoKSBCH8KOX4BLlm0BQyRW/RwfQeR+ATBnC05ZzgKGblBodN+7ABJ5mcQglAZ2\n",
       "4nuQAxn6IYE96W4PDlluBYbpQFbYA+ZfYJVOMB/2g708HxzBXD8XrH+AXZZ9AoMPUEE6Awckioxg\n",
       "KvxBGri+gdk8vxj4L2CX5XFgSAV65xcDywZU/f9BBPt3iG8nMKzfgF2W8QNIP5sBw/oAVP0uIGLZ\n",
       "BFj0xx/ALsuawDCHAWR6PQOqfn0G1gMMbZCcwV/A0L8AuyzQ/bZA/QcYLHkeoKiQP3B1LXse0JMg\n",
       "/QHAAMIqy8BuwLAJ6MAL7B7cYAljMAJlqrwLHE1AS9cDHclUwNyAXZaB4wJDCNAS3Y2PLoLEhdOs\n",
       "hPNtwUqErLcFMAgwsHgBpXvB0Y9FloHlAQOLAI6cynyAF2jFKbyyT4BeaMClQuEwkNyAV7YdiO1w\n",
       "qOD4D0zlXBfwyfKB0vFiHCoY04CRzs6AT5YZFIZ8BWSXf3UMDADZ45NDffPTugAAAABJRU5ErkJg\n",
       "gg==\n",
       "\" style=\"display:inline;vertical-align:middle;\" /></a></td></tr>\n",
       "<tr><td>4</td><td>Literal</td><td></td><td><a class=\"ProveItLink\" href=\"../../../../logic/boolean/implication/__pv_it/1e62b0c0a90306fc48b17f0dc8d4dc4df8bb234f0/expr.ipynb\"><img src=\"data:image/png;base64,iVBORw0KGgoAAAANSUhEUgAAABMAAAANBAMAAAC5okgUAAAALVBMVEX///9UVFTc3Ny6uroQEBAy\n",
       "MjKqqqoiIiJmZmZ2dnaYmJjMzMzu7u5EREQAAAAQ4FZjAAAAAXRSTlMAQObYZgAAAAlwSFlzAAAO\n",
       "xAAADsQBlSsOGwAAADpJREFUCNdjYEADvAfgTO4LCOGVIKK9HATqGhDCqQlwJk+IAYypOgmmtjwI\n",
       "Lm8LZzEFwJmMGxCiIAIA1dcNGxothVYAAAAASUVORK5CYII=\n",
       "\" style=\"display:inline;vertical-align:middle;\" /></a></td></tr>\n",
       "<tr><td>5</td><td>ExprTuple</td><td>9, 8</td><td><a class=\"ProveItLink\" href=\"../f81a3b52075b77270d5d898fd886c937ec2bd2870/expr.ipynb\"><img src=\"data:image/png;base64,iVBORw0KGgoAAAANSUhEUgAAAFUAAAAVBAMAAADFg78FAAAAMFBMVEX////MzMxUVFREREQiIiK6\n",
       "uroQEBCYmJhmZmYyMjLu7u52dnaqqqqIiIjc3NwAAACFAiZ1AAAAAXRSTlMAQObYZgAAAAlwSFlz\n",
       "AAAOxAAADsQBlSsOGwAAAY5JREFUKM+NUzFIw1AQfWmjjWmadHIuOCkIxUEQVDp0cHDoIIKitEsR\n",
       "QSSTONluClVadRDEIeAsqcXNpbtLXBwEJYibCBVxsBT17v8plYR+yOWOe//9918uAHwMsgQq1R4I\n",
       "u87hjsNbrWWHwvTpnKTUG1Qlj4HxcM6RKoVzQCM+/ZTy4Woo1mKZuwThfXQGYp1QbNFhLgcr9Kqn\n",
       "WcdHKPZGCLFRA8xPzrUv2TBrz14f9uTpkLgyOCNUT+z7kY1lP97lrXmxMuzDt+P6SDSwCKgC5Zak\n",
       "QRvQckFaowvLg5FDma4pblWRBmtdqM0gVmvAbULpMFZlHn1TNoazcAv/7C22MVTChXBrDdq2bBBD\n",
       "BUG9lo26wxrmAKWXWvV2aDjYRreNGSM4TlaBLoFEFi0qHt5xMMH35QO9xEIyqCFmx+mbah6WqFDG\n",
       "bstQgDwR65PXL/d9s3NE9kL1oaZFPYtHMseJGMpXkiFHZsrI0qeJGuB9euZFVv8l/qsIqElcuBTp\n",
       "6BYFOwIbZ32mPdA/tAf8AdT0XW+/pqQDAAAAAElFTkSuQmCC\n",
       "\" style=\"display:inline;vertical-align:middle;\" /></a></td></tr>\n",
       "<tr><td>6</td><td>Conditional</td><td>value:&nbsp;12<br>condition:&nbsp;9<br></td><td><a class=\"ProveItLink\" href=\"../dfeaf34c95668869a95d63b867c4acd0b342dbcb0/expr.ipynb\"><img src=\"data:image/png;base64,iVBORw0KGgoAAAANSUhEUgAAAEkAAAAVBAMAAAD4Ed5jAAAAMFBMVEX///8QEBBERERUVFTMzMyY\n",
       "mJjc3NxmZmYiIiJ2dnaqqqoyMjKIiIi6urru7u4AAAAvZeGPAAAAAXRSTlMAQObYZgAAAAlwSFlz\n",
       "AAAOxAAADsQBlSsOGwAAATlJREFUKM9jYGDgu8tABDi9DpXPehaLIq5/SJzEAAaGXf4XwOzMyskB\n",
       "cAnOBiRV9wsYWBuSH4DFtzAwWGNXxcfAwGwAYW0CEowFWFUBATNEhhskzPyBgKp6B5DcFxRV6XNy\n",
       "QGy2jQYshsIgK9k+gfjsf2Gq2DcwMPCKMeiDncxhAHUX+y+wtd9gqvKB3n0YwFAB5jDBVHGA5d8L\n",
       "QBU594Ic8YChE1UVP9jd8bAA46sGWiXEwPcXzSyQa/mk4X4CSvD9ZGD9gKoKGAa3GNjFkEOV7xcD\n",
       "04ZlKKpYfvHcOxCYgBL2exgiCiaAVSmAEAgczGEot4OoeL8BourxSTcbUCiyKAo9Ufx0AGyY0UxZ\n",
       "BhawKo4CzLBHAC2Gcwy4YggBlLkU4GweAVyq6v87IBKLFC5Vjsgy6VYEEz0A721JVffRzbYAAAAA\n",
       "SUVORK5CYII=\n",
       "\" style=\"display:inline;vertical-align:middle;\" /></a></td></tr>\n",
       "<tr><td>7</td><td>Conditional</td><td>value:&nbsp;13<br>condition:&nbsp;9<br></td><td><a class=\"ProveItLink\" href=\"../15caa9f01177093c093a9b7c9efa93ead937393c0/expr.ipynb\"><img src=\"data:image/png;base64,iVBORw0KGgoAAAANSUhEUgAAAEcAAAAVBAMAAADm2O7QAAAAMFBMVEX///8QEBBERERUVFTMzMyY\n",
       "mJjc3NxmZmYiIiJ2dnaqqqoyMjKIiIi6urru7u4AAAAvZeGPAAAAAXRSTlMAQObYZgAAAAlwSFlz\n",
       "AAAOxAAADsQBlSsOGwAAAUJJREFUKM9jYGDgu8tAGJxeh8JlPYtFDdc/BoZHEhB2YgADwy7/C2B2\n",
       "ZuXkALgizgYgsR3Cvl/AwNqQ/AAsvIWBwRpV0S8Im4+BgdkAwtoEJBgLkBXx/oPrYYZIcIO0Mn9A\n",
       "VgQ2DUVRvQNI6guyIm6b4wuATLaNBiyGwiD72D6BpNj/whSxb2BgeL+P7xuIzWEAdRM72JHc32CK\n",
       "8oEeXf+A4Q+IzQRTxAGWfi8AVePcCySqGfh+oijiBzs5HhZQfNUPQMHE+wvVJJBP+KTh3gFKMHxl\n",
       "YP+Hogjo+VsM7GIogfmX4WEAiiKWXzz3DgQmoCgyZVCHmKoAQiBwMIeh3A6i4P0GiKLn4GBiYFEU\n",
       "eqL46QCYaTRTloEFrIijACW0UYEWwznUCMYGlLkU4GweARyK6v87wNl8UjgUOSJLpFsRSuAAQIVO\n",
       "Y1LajFAAAAAASUVORK5CYII=\n",
       "\" style=\"display:inline;vertical-align:middle;\" /></a></td></tr>\n",
       "<tr><td>8</td><td>Operation</td><td>operator:&nbsp;10<br>operands:&nbsp;11<br></td><td><a class=\"ProveItLink\" href=\"../a433019a1f21cbb60d8e3670ebdf72ecfa7c99260/expr.ipynb\"><img src=\"data:image/png;base64,iVBORw0KGgoAAAANSUhEUgAAADAAAAAOBAMAAACbXIJpAAAAMFBMVEX////MzMxUVFQyMjKqqqoi\n",
       "IiKYmJju7u5EREQQEBC6urqIiIh2dnZmZmbc3NwAAAD0tjQRAAAAAXRSTlMAQObYZgAAAAlwSFlz\n",
       "AAAOxAAADsQBlSsOGwAAAI5JREFUGNNjYMACKqYy4AC2uCS+4BDn+o5DgicARPLd2bcBTYJZe68D\n",
       "A8PKBxxgnVdDQSAIxKw3Z//HwD6NgTcATYd/AcNvBt7vDKwH0CQuM7D/YeBsYKhfgOENri8M9QcY\n",
       "8hnQ7PgGMqfegaGZ5QGqjl8MlQkMzBvYYnnQjFJj6GVgYNc++GgjmkQt0BsAthUnrlBMW4UAAAAA\n",
       "SUVORK5CYII=\n",
       "\" style=\"display:inline;vertical-align:middle;\" /></a></td></tr>\n",
       "<tr><td>9</td><td>Variable</td><td></td><td><a class=\"ProveItLink\" href=\"../dbe7145e53d9411a5ba89652cbfea9d54e4b581a0/expr.ipynb\"><img src=\"data:image/png;base64,iVBORw0KGgoAAAANSUhEUgAAAA8AAAASBAMAAAB2sJk8AAAAMFBMVEX///+IiIiqqqq6uroiIiIQ\n",
       "EBBERETu7u7MzMwyMjKYmJhUVFRmZmZ2dnbc3NwAAABtgPhfAAAAAXRSTlMAQObYZgAAAAlwSFlz\n",
       "AAAOxAAADsQBlSsOGwAAAIJJREFUCNdjYGDgu3N3FwMI3Gxg4J4ApCsTgEQMEE8Bie5nYOD5AWLc\n",
       "b2B4D5JhOG/AcF4BxJj/gMH/AZBm/8rA8B8kwPWLgcEFxCidANLIrMBwFCjfryBcyBUHFGWME+A5\n",
       "XQCS7869asDQALaVTYGxAMLYoAamGXj+/4AwOEKB1gAAAV0f3CdXaksAAAAASUVORK5CYII=\n",
       "\" style=\"display:inline;vertical-align:middle;\" /></a></td></tr>\n",
       "<tr><td>10</td><td>Literal</td><td></td><td><a class=\"ProveItLink\" href=\"../../../../logic/equality/__pv_it/e16d2caa26a16688b658bdb9c422caf4b84579e10/expr.ipynb\"><img src=\"data:image/png;base64,iVBORw0KGgoAAAANSUhEUgAAAA4AAAAFBAMAAACHocAhAAAAD1BMVEX///9UVFQiIiJmZmYAAACP\n",
       "OqLZAAAAAXRSTlMAQObYZgAAAAlwSFlzAAAOxAAADsQBlSsOGwAAABJJREFUCNdjMFICAUUGXAAq\n",
       "DwAoFgH7Aeay4gAAAABJRU5ErkJggg==\n",
       "\" style=\"display:inline;vertical-align:middle;\" /></a></td></tr>\n",
       "<tr><td>11</td><td>ExprTuple</td><td>12, 13</td><td><a class=\"ProveItLink\" href=\"../a4c691cef8b745e7bb8b7b885f462bedd8b31be30/expr.ipynb\"><img src=\"data:image/png;base64,iVBORw0KGgoAAAANSUhEUgAAACkAAAAVBAMAAAAp9toTAAAAMFBMVEX////MzMxUVFREREQiIiK6\n",
       "uroQEBCYmJhmZmYyMjLu7u52dnaqqqqIiIjc3NwAAACFAiZ1AAAAAXRSTlMAQObYZgAAAAlwSFlz\n",
       "AAAOxAAADsQBlSsOGwAAARFJREFUGNNdkbFOhEAQhj8FATnk7hF8ARMqEwsNpTEWVxiTK8xdY2wp\n",
       "rfQ6i9NIbEyMBYkPABofgFobfAANMT6ArVTOApvAkeww8+3w7z8LUNJ/6nojX6InKrx3gLsdNm1u\n",
       "3O1bn0t4ACfq0qGSOwerpzlNJFgJkx59rWUiFvLyF19FQ+8+r2Gwyb3kx6VRNR7+krTEjjmU/Awn\n",
       "rKlXMSzwQk7FRoWZ1dSJSTNWfhW1AtKxtjvNWZvxiNq+bO1G3CZKYVdozo5XuoqO5QzsgBf5rrD3\n",
       "B6Qy+mpkyMhOwZF42Hr+/sA8kOxG7GKWmCM915tOfkRkrotMJ1ey9vTdtkPjBxKe2sLWrYa6Nz9a\n",
       "+kMX8A+nBjzFoJaLpgAAAABJRU5ErkJggg==\n",
       "\" style=\"display:inline;vertical-align:middle;\" /></a></td></tr>\n",
       "<tr><td>12</td><td>Variable</td><td></td><td><a class=\"ProveItLink\" href=\"../a8d4b3a34d2189508f9082853fbac36935714f280/expr.ipynb\"><img src=\"data:image/png;base64,iVBORw0KGgoAAAANSUhEUgAAAAsAAAAJBAMAAAAWSsseAAAAMFBMVEX////MzMxUVFQyMjKqqqoi\n",
       "IiKYmJju7u5EREQQEBC6urqIiIh2dnZmZmbc3NwAAAD0tjQRAAAAAXRSTlMAQObYZgAAAAlwSFlz\n",
       "AAAOxAAADsQBlSsOGwAAAEdJREFUCNdjYOC7s28DAwPDygcc3xkY2Kcx8AYwMPB+Z2A9wMDA2cBQ\n",
       "v4CBof4AQz5QRb0DQzPLAwbmDWyxPECV2gcfbWQAABp5EMgcedARAAAAAElFTkSuQmCC\n",
       "\" style=\"display:inline;vertical-align:middle;\" /></a></td></tr>\n",
       "<tr><td>13</td><td>Variable</td><td></td><td><a class=\"ProveItLink\" href=\"../53e304ff98ebc000dbe3ef224f4637dbafd46ba70/expr.ipynb\"><img src=\"data:image/png;base64,iVBORw0KGgoAAAANSUhEUgAAAAkAAAAOBAMAAAAPuiubAAAALVBMVEX///+YmJjc3NyIiIhUVFR2\n",
       "dna6urqqqqpmZmYyMjIiIiIQEBBERETu7u4AAAALjtrwAAAAAXRSTlMAQObYZgAAAAlwSFlzAAAO\n",
       "xAAADsQBlSsOGwAAAE5JREFUCNdj4D29gAEIOBtAJF8BiMy7ACKjQATDFON2BgbelxfuKTCwv2Xg\n",
       "M2DgmMBwLwCkPK+AgU+Aoe8CA18C70YGBhYBHqARvM1A5QCqGhDobJhHyAAAAABJRU5ErkJggg==\n",
       "\" style=\"display:inline;vertical-align:middle;\" /></a></td></tr>\n",
       "</table>\n"
      ],
      "text/plain": [
       "0. {{a if Q. \\\\  = {b if Q. if Q => (a = b).\n",
       "   core type: Conditional\n",
       "   value: 1\n",
       "   condition: 2\n",
       "1. {a if Q. \\\\  = {b if Q.\n",
       "   core type: Operation\n",
       "   operator: 10\n",
       "   operands: 3\n",
       "2. Q => (a = b)\n",
       "   core type: Operation\n",
       "   operator: 4\n",
       "   operands: 5\n",
       "3. (a if Q , b if Q)\n",
       "   core type: ExprTuple\n",
       "   sub-expressions: 6, 7\n",
       "4. =>\n",
       "   core type: Literal\n",
       "   sub-expressions: \n",
       "5. (Q , a = b)\n",
       "   core type: ExprTuple\n",
       "   sub-expressions: 9, 8\n",
       "6. {a if Q.\n",
       "   core type: Conditional\n",
       "   value: 12\n",
       "   condition: 9\n",
       "7. {b if Q.\n",
       "   core type: Conditional\n",
       "   value: 13\n",
       "   condition: 9\n",
       "8. a = b\n",
       "   core type: Operation\n",
       "   operator: 10\n",
       "   operands: 11\n",
       "9. Q\n",
       "   core type: Variable\n",
       "   sub-expressions: \n",
       "10. =\n",
       "    core type: Literal\n",
       "    sub-expressions: \n",
       "11. (a , b)\n",
       "    core type: ExprTuple\n",
       "    sub-expressions: 12, 13\n",
       "12. a\n",
       "    core type: Variable\n",
       "    sub-expressions: \n",
       "13. b\n",
       "    core type: Variable\n",
       "    sub-expressions: "
      ]
     },
     "execution_count": 5,
     "metadata": {},
     "output_type": "execute_result"
    }
   ],
   "source": [
    "# display the expression information\n",
    "expr.exprInfo()"
   ]
  },
  {
   "cell_type": "code",
   "execution_count": null,
   "metadata": {},
   "outputs": [],
   "source": []
  }
 ],
 "metadata": {
  "kernelspec": {
   "display_name": "Python 3",
   "language": "python",
   "name": "python3"
  },
  "language_info": {
   "codemirror_mode": {
    "name": "ipython",
    "version": 3
   },
   "file_extension": ".py",
   "mimetype": "text/x-python",
   "name": "python",
   "nbconvert_exporter": "python",
   "pygments_lexer": "ipython3",
   "version": "3.7.4"
  }
 },
 "nbformat": 4,
 "nbformat_minor": 1
}
