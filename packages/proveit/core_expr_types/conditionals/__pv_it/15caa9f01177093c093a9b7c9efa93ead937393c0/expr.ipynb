{
 "cells": [
  {
   "cell_type": "markdown",
   "metadata": {},
   "source": [
    "Expression of type <a class=\"ProveItLink\" href=\"../../../../../../doc/html/api/proveit.Conditional.html\">Conditional</a>\n",
    "=======================\n",
    "# from context <a class=\"ProveItLink\" href=\"../../_context_.ipynb\">proveit.core_expr_types.conditionals</a>"
   ]
  },
  {
   "cell_type": "code",
   "execution_count": 1,
   "metadata": {},
   "outputs": [],
   "source": [
    "import proveit\n",
    "# Automation is not needed when building an expression:\n",
    "proveit.defaults.automation = False # This will speed things up.\n",
    "# import Expression classes needed to build the expression\n",
    "from proveit import Conditional, Variable"
   ]
  },
  {
   "cell_type": "code",
   "execution_count": 2,
   "metadata": {},
   "outputs": [
    {
     "data": {
      "text/html": [
       "<strong id=\"expr\">expr:</strong> <a class=\"ProveItLink\" href=\"expr.ipynb\"><img src=\"data:image/png;base64,iVBORw0KGgoAAAANSUhEUgAAAEcAAAAVBAMAAADm2O7QAAAAMFBMVEX///8QEBBERERUVFTMzMyY\n",
       "mJjc3NxmZmYiIiJ2dnaqqqoyMjKIiIi6urru7u4AAAAvZeGPAAAAAXRSTlMAQObYZgAAAAlwSFlz\n",
       "AAAOxAAADsQBlSsOGwAAAUJJREFUKM9jYGDgu8tAGJxeh8JlPYtFDdc/BoZHEhB2YgADwy7/C2B2\n",
       "ZuXkALgizgYgsR3Cvl/AwNqQ/AAsvIWBwRpV0S8Im4+BgdkAwtoEJBgLkBXx/oPrYYZIcIO0Mn9A\n",
       "VgQ2DUVRvQNI6guyIm6b4wuATLaNBiyGwiD72D6BpNj/whSxb2BgeL+P7xuIzWEAdRM72JHc32CK\n",
       "8oEeXf+A4Q+IzQRTxAGWfi8AVePcCySqGfh+oijiBzs5HhZQfNUPQMHE+wvVJJBP+KTh3gFKMHxl\n",
       "YP+Hogjo+VsM7GIogfmX4WEAiiKWXzz3DgQmoCgyZVCHmKoAQiBwMIeh3A6i4P0GiKLn4GBiYFEU\n",
       "eqL46QCYaTRTloEFrIijACW0UYEWwznUCMYGlLkU4GweARyK6v87wNl8UjgUOSJLpFsRSuAAQIVO\n",
       "Y1LajFAAAAAASUVORK5CYII=\n",
       "\" style=\"display:inline;vertical-align:middle;\" /></a><br>"
      ],
      "text/plain": [
       "expr: {b if Q."
      ]
     },
     "execution_count": 2,
     "metadata": {},
     "output_type": "execute_result"
    }
   ],
   "source": [
    "# build up the expression from sub-expressions\n",
    "expr = Conditional(Variable(\"b\"), Variable(\"Q\"))"
   ]
  },
  {
   "cell_type": "code",
   "execution_count": 3,
   "metadata": {},
   "outputs": [
    {
     "name": "stdout",
     "output_type": "stream",
     "text": [
      "Passed sanity check: built 'expr' is the same as the stored Expression.\n"
     ]
    }
   ],
   "source": [
    "# check that the built expression is the same as the stored expression\n",
    "%check_expr"
   ]
  },
  {
   "cell_type": "code",
   "execution_count": 4,
   "metadata": {},
   "outputs": [
    {
     "name": "stdout",
     "output_type": "stream",
     "text": [
      "\\left\\{b \\textrm{ if } Q\\right..\n"
     ]
    }
   ],
   "source": [
    "# Show the LaTeX representation of the expression for convenience if you need it.\n",
    "print(expr.latex())"
   ]
  },
  {
   "cell_type": "code",
   "execution_count": 5,
   "metadata": {},
   "outputs": [
    {
     "data": {
      "text/html": [
       "<table><tr><th>&nbsp;</th><th>core type</th><th>sub-expressions</th><th>expression</th></tr>\n",
       "<tr><td>0</td><td>Conditional</td><td>value:&nbsp;1<br>condition:&nbsp;2<br></td><td><a class=\"ProveItLink\" href=\"expr.ipynb\"><img src=\"data:image/png;base64,iVBORw0KGgoAAAANSUhEUgAAAEcAAAAVBAMAAADm2O7QAAAAMFBMVEX///8QEBBERERUVFTMzMyY\n",
       "mJjc3NxmZmYiIiJ2dnaqqqoyMjKIiIi6urru7u4AAAAvZeGPAAAAAXRSTlMAQObYZgAAAAlwSFlz\n",
       "AAAOxAAADsQBlSsOGwAAAUJJREFUKM9jYGDgu8tAGJxeh8JlPYtFDdc/BoZHEhB2YgADwy7/C2B2\n",
       "ZuXkALgizgYgsR3Cvl/AwNqQ/AAsvIWBwRpV0S8Im4+BgdkAwtoEJBgLkBXx/oPrYYZIcIO0Mn9A\n",
       "VgQ2DUVRvQNI6guyIm6b4wuATLaNBiyGwiD72D6BpNj/whSxb2BgeL+P7xuIzWEAdRM72JHc32CK\n",
       "8oEeXf+A4Q+IzQRTxAGWfi8AVePcCySqGfh+oijiBzs5HhZQfNUPQMHE+wvVJJBP+KTh3gFKMHxl\n",
       "YP+Hogjo+VsM7GIogfmX4WEAiiKWXzz3DgQmoCgyZVCHmKoAQiBwMIeh3A6i4P0GiKLn4GBiYFEU\n",
       "eqL46QCYaTRTloEFrIijACW0UYEWwznUCMYGlLkU4GweARyK6v87wNl8UjgUOSJLpFsRSuAAQIVO\n",
       "Y1LajFAAAAAASUVORK5CYII=\n",
       "\" style=\"display:inline;vertical-align:middle;\" /></a></td></tr>\n",
       "<tr><td>1</td><td>Variable</td><td></td><td><a class=\"ProveItLink\" href=\"../53e304ff98ebc000dbe3ef224f4637dbafd46ba70/expr.ipynb\"><img src=\"data:image/png;base64,iVBORw0KGgoAAAANSUhEUgAAAAkAAAAOBAMAAAAPuiubAAAALVBMVEX///+YmJjc3NyIiIhUVFR2\n",
       "dna6urqqqqpmZmYyMjIiIiIQEBBERETu7u4AAAALjtrwAAAAAXRSTlMAQObYZgAAAAlwSFlzAAAO\n",
       "xAAADsQBlSsOGwAAAE5JREFUCNdj4D29gAEIOBtAJF8BiMy7ACKjQATDFON2BgbelxfuKTCwv2Xg\n",
       "M2DgmMBwLwCkPK+AgU+Aoe8CA18C70YGBhYBHqARvM1A5QCqGhDobJhHyAAAAABJRU5ErkJggg==\n",
       "\" style=\"display:inline;vertical-align:middle;\" /></a></td></tr>\n",
       "<tr><td>2</td><td>Variable</td><td></td><td><a class=\"ProveItLink\" href=\"../dbe7145e53d9411a5ba89652cbfea9d54e4b581a0/expr.ipynb\"><img src=\"data:image/png;base64,iVBORw0KGgoAAAANSUhEUgAAAA8AAAASBAMAAAB2sJk8AAAAMFBMVEX///+IiIiqqqq6uroiIiIQ\n",
       "EBBERETu7u7MzMwyMjKYmJhUVFRmZmZ2dnbc3NwAAABtgPhfAAAAAXRSTlMAQObYZgAAAAlwSFlz\n",
       "AAAOxAAADsQBlSsOGwAAAIJJREFUCNdjYGDgu3N3FwMI3Gxg4J4ApCsTgEQMEE8Bie5nYOD5AWLc\n",
       "b2B4D5JhOG/AcF4BxJj/gMH/AZBm/8rA8B8kwPWLgcEFxCidANLIrMBwFCjfryBcyBUHFGWME+A5\n",
       "XQCS7869asDQALaVTYGxAMLYoAamGXj+/4AwOEKB1gAAAV0f3CdXaksAAAAASUVORK5CYII=\n",
       "\" style=\"display:inline;vertical-align:middle;\" /></a></td></tr>\n",
       "</table>\n"
      ],
      "text/plain": [
       "0. {b if Q.\n",
       "   core type: Conditional\n",
       "   value: 1\n",
       "   condition: 2\n",
       "1. b\n",
       "   core type: Variable\n",
       "   sub-expressions: \n",
       "2. Q\n",
       "   core type: Variable\n",
       "   sub-expressions: "
      ]
     },
     "execution_count": 5,
     "metadata": {},
     "output_type": "execute_result"
    }
   ],
   "source": [
    "# display the expression information\n",
    "expr.exprInfo()"
   ]
  },
  {
   "cell_type": "code",
   "execution_count": null,
   "metadata": {},
   "outputs": [],
   "source": []
  }
 ],
 "metadata": {
  "kernelspec": {
   "display_name": "Python 3",
   "language": "python",
   "name": "python3"
  },
  "language_info": {
   "codemirror_mode": {
    "name": "ipython",
    "version": 3
   },
   "file_extension": ".py",
   "mimetype": "text/x-python",
   "name": "python",
   "nbconvert_exporter": "python",
   "pygments_lexer": "ipython3",
   "version": "3.7.4"
  }
 },
 "nbformat": 4,
 "nbformat_minor": 1
}
