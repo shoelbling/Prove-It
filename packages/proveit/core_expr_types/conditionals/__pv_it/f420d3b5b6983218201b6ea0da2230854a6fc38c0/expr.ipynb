{
 "cells": [
  {
   "cell_type": "markdown",
   "metadata": {},
   "source": [
    "Expression of type <a class=\"ProveItLink\" href=\"../../../../../../doc/html/api/proveit.Lambda.html\">Lambda</a>\n",
    "=======================\n",
    "# from context <a class=\"ProveItLink\" href=\"../../_context_.ipynb\">proveit.core_expr_types.conditionals</a>"
   ]
  },
  {
   "cell_type": "code",
   "execution_count": 1,
   "metadata": {},
   "outputs": [],
   "source": [
    "import proveit\n",
    "# Automation is not needed when building an expression:\n",
    "proveit.defaults.automation = False # This will speed things up.\n",
    "# import Expression classes needed to build the expression\n",
    "from proveit import Conditional, Lambda, Variable\n",
    "from proveit.logic import And, Equals"
   ]
  },
  {
   "cell_type": "code",
   "execution_count": 2,
   "metadata": {},
   "outputs": [
    {
     "data": {
      "text/html": [
       "<strong id=\"expr\">expr:</strong> <a class=\"ProveItLink\" href=\"expr.ipynb\"><img src=\"data:image/png;base64,iVBORw0KGgoAAAANSUhEUgAAAMUAAAAyCAMAAADbce9jAAAANlBMVEX///8WFhYNDQ3MzMxUVFQy\n",
       "MjKqqqoiIiKYmJju7u5EREQQEBC6urqIiIh2dnZmZmbc3NwAAADRPqZpAAAAAXRSTlMAQObYZgAA\n",
       "AAlwSFlzAAAOxAAADsQBlSsOGwAAA09JREFUaN7NmomSpCAMhtnlJpzv/7Jrq60ih4rUNtTUTJVV\n",
       "jflC8idkGqHGRTT68ZJKvt2CiMy2+gmZ4RxXn/j5p7IwfYlBbMYsyuq7CnOktBnk4zPDENKmuiHj\n",
       "ryBE5uMsFBg8LOdGGQ76NgWzX5TKcuQFhA84Y0HJMTq4ldwTmbPYsvSZpMvfi6Dhop2CZ+KpTIEW\n",
       "Qwgp+F1ymlK41Tzh6jEFzakhAD2iWFPJFSiM2PRup9hecWEmda0UYLtScITV+ZnejofWY0YH3wZh\n",
       "8mm8UXhnjd/FxVOYYgkTgDimvhZ/0pj6E4XbHGUvErj1MHh+X7e6T8NkkjqSLh8o5cWHgLkTxX4C\n",
       "gtatKUpjfeGcQH10a3mxnHXVHcNL1Sjw/JjLU5SxuzVBBtNU8HK5jQlfDXCzbyIVq1KQ2SfGxBSg\n",
       "d6dd2KOaSh9kA0q6VdlBzQ7SNynWuiB5iULDlWK25DcOBdFYbJXBzjujmxTfiudYnBe3I2p6Y0Pl\n",
       "syX0RaNk+LxfUcT8LYpN2GhEobZgF6otOC7CsHTCq9JS82k2HDokhlL77xOF2KxV+Eix66szB6/T\n",
       "XokBqk4hibHYE7MJGVYASk6/gzIJxX5FwDaqeptl/HD03OWj4/nVJLg6xf3QrPa035uGv95VBP08\n",
       "uc1/ofh2gU68MGnrNnxSKksdv4GeFEjNb/aqMTyigs5ccny4tBmwnhRykYQ77UUgafsWBwZPWsFi\n",
       "jfGOPOGwmXs3HMj8FEviVkELKm3fYrvZWR/D68FD9wU0bd9O3jfxoboBKThP27e/f3i0QiRkJKDx\n",
       "KCBt305noWmUhYNSJO0br06uBo2opH2LKai/2Qz+OLvP7VsUQNolSovHoyCZ9i0KIHy76v1uhccD\n",
       "BBb0aBBLZve56v1u4Yb5QXCjUZQb1Iqs0e5mnMZwT5dpkE0Cza9zx5ZgvyynY7iHFjUUYtG77GXG\n",
       "cJ3u0NVcYn0pMmO4Z/HYNBwE0pciM4Z7GBwt3YSDrnmRG8M9S4umWNR9615uDPdM+tvUjfetGJkx\n",
       "3P9Qm84qVe3jbvi0NU3BomFW83/E+peMF0u1Kya14xxFu0MxjHLhgzcl2NAxIMi7CkyGiCn21plq\n",
       "gMvS628WTRi//5bXDvEPSDAhmSxAXUcAAAAASUVORK5CYII=\n",
       "\" style=\"display:inline;vertical-align:middle;\" /></a><br>"
      ],
      "text/plain": [
       "expr: a -> ({a if [and](). \\\\  = a)"
      ]
     },
     "execution_count": 2,
     "metadata": {},
     "output_type": "execute_result"
    }
   ],
   "source": [
    "# build up the expression from sub-expressions\n",
    "subExpr1 = Variable(\"a\")\n",
    "expr = Lambda(subExpr1, Equals(Conditional(subExpr1, And()), subExpr1).withWrappingAt(1))"
   ]
  },
  {
   "cell_type": "code",
   "execution_count": 3,
   "metadata": {},
   "outputs": [
    {
     "name": "stdout",
     "output_type": "stream",
     "text": [
      "Passed sanity check: built 'expr' is the same as the stored Expression.\n"
     ]
    }
   ],
   "source": [
    "# check that the built expression is the same as the stored expression\n",
    "%check_expr"
   ]
  },
  {
   "cell_type": "code",
   "execution_count": 4,
   "metadata": {},
   "outputs": [
    {
     "name": "stdout",
     "output_type": "stream",
     "text": [
      "a \\mapsto \\left(\\begin{array}{c} \\left\\{a \\textrm{ if } \\left[\\land\\right]\\left(\\right)\\right.. \\\\  = a \\end{array}\\right)\n"
     ]
    }
   ],
   "source": [
    "# Show the LaTeX representation of the expression for convenience if you need it.\n",
    "print(expr.latex())"
   ]
  },
  {
   "cell_type": "code",
   "execution_count": 5,
   "metadata": {},
   "outputs": [
    {
     "data": {
      "text/html": [
       "<table><tr><th>&nbsp;</th><th>core type</th><th>sub-expressions</th><th>expression</th></tr>\n",
       "<tr><td>0</td><td>Lambda</td><td>parameter:&nbsp;5<br>body:&nbsp;1<br></td><td><a class=\"ProveItLink\" href=\"expr.ipynb\"><img src=\"data:image/png;base64,iVBORw0KGgoAAAANSUhEUgAAAMUAAAAyCAMAAADbce9jAAAANlBMVEX///8WFhYNDQ3MzMxUVFQy\n",
       "MjKqqqoiIiKYmJju7u5EREQQEBC6urqIiIh2dnZmZmbc3NwAAADRPqZpAAAAAXRSTlMAQObYZgAA\n",
       "AAlwSFlzAAAOxAAADsQBlSsOGwAAA09JREFUaN7NmomSpCAMhtnlJpzv/7Jrq60ih4rUNtTUTJVV\n",
       "jflC8idkGqHGRTT68ZJKvt2CiMy2+gmZ4RxXn/j5p7IwfYlBbMYsyuq7CnOktBnk4zPDENKmuiHj\n",
       "ryBE5uMsFBg8LOdGGQ76NgWzX5TKcuQFhA84Y0HJMTq4ldwTmbPYsvSZpMvfi6Dhop2CZ+KpTIEW\n",
       "Qwgp+F1ymlK41Tzh6jEFzakhAD2iWFPJFSiM2PRup9hecWEmda0UYLtScITV+ZnejofWY0YH3wZh\n",
       "8mm8UXhnjd/FxVOYYgkTgDimvhZ/0pj6E4XbHGUvErj1MHh+X7e6T8NkkjqSLh8o5cWHgLkTxX4C\n",
       "gtatKUpjfeGcQH10a3mxnHXVHcNL1Sjw/JjLU5SxuzVBBtNU8HK5jQlfDXCzbyIVq1KQ2SfGxBSg\n",
       "d6dd2KOaSh9kA0q6VdlBzQ7SNynWuiB5iULDlWK25DcOBdFYbJXBzjujmxTfiudYnBe3I2p6Y0Pl\n",
       "syX0RaNk+LxfUcT8LYpN2GhEobZgF6otOC7CsHTCq9JS82k2HDokhlL77xOF2KxV+Eix66szB6/T\n",
       "XokBqk4hibHYE7MJGVYASk6/gzIJxX5FwDaqeptl/HD03OWj4/nVJLg6xf3QrPa035uGv95VBP08\n",
       "uc1/ofh2gU68MGnrNnxSKksdv4GeFEjNb/aqMTyigs5ccny4tBmwnhRykYQ77UUgafsWBwZPWsFi\n",
       "jfGOPOGwmXs3HMj8FEviVkELKm3fYrvZWR/D68FD9wU0bd9O3jfxoboBKThP27e/f3i0QiRkJKDx\n",
       "KCBt305noWmUhYNSJO0br06uBo2opH2LKai/2Qz+OLvP7VsUQNolSovHoyCZ9i0KIHy76v1uhccD\n",
       "BBb0aBBLZve56v1u4Yb5QXCjUZQb1Iqs0e5mnMZwT5dpkE0Cza9zx5ZgvyynY7iHFjUUYtG77GXG\n",
       "cJ3u0NVcYn0pMmO4Z/HYNBwE0pciM4Z7GBwt3YSDrnmRG8M9S4umWNR9615uDPdM+tvUjfetGJkx\n",
       "3P9Qm84qVe3jbvi0NU3BomFW83/E+peMF0u1Kya14xxFu0MxjHLhgzcl2NAxIMi7CkyGiCn21plq\n",
       "gMvS628WTRi//5bXDvEPSDAhmSxAXUcAAAAASUVORK5CYII=\n",
       "\" style=\"display:inline;vertical-align:middle;\" /></a></td></tr>\n",
       "<tr><td>1</td><td>Operation</td><td>operator:&nbsp;2<br>operands:&nbsp;3<br></td><td><a class=\"ProveItLink\" href=\"../67f33531ee14acd064875bd546a4bb47089b51c50/expr.ipynb\"><img src=\"data:image/png;base64,iVBORw0KGgoAAAANSUhEUgAAAGkAAAApBAMAAADE9BplAAAAMFBMVEX///8QEBBERERUVFTMzMyY\n",
       "mJjc3NxmZmYiIiJ2dnaqqqoyMjKIiIi6urru7u4AAAAvZeGPAAAAAXRSTlMAQObYZgAAAAlwSFlz\n",
       "AAAOxAAADsQBlSsOGwAAAepJREFUSMdjYGDgu8uAFZxoQWWwMSQgyZ5eh6qa9SyEngsXgbBOMdxB\n",
       "KOL6h6QjMYCBYZf/BWy6uCYw8CyAC3E2IOm6X8DA2pD8AKF2Fpz1Goj3YdfFx8DAbIBkA183XFcp\n",
       "EIdj1wUEzAVIuniCL8B0CQAx4wOidHGwKEBZvBuABHcAiq70OTngwN1owGIobIDQtZJhG5TFPgGk\n",
       "FuZ6BnagIbxiDPpgyzkMUP21jWE5lAW2hnUDTFc+kPswgKECzGFC1cViwMDxAOpWUKhzwXzj3Ask\n",
       "6h8wdGLTxezAwHMAoosRFCwsH2BhXQ00TIiB7y82XcA44mtA0sUrAHMhUCHfTwbWD9h0geK4Cuov\n",
       "FBeCwpDvFwPThmVYdIEUZUN0MR0AhYYCcsjvYYgomADWpQBCMF2sIJVMDmBd4EBnBwkwvN8A0fX4\n",
       "pJuNA8i3ikJPFD8dgOliAsUGywRILIPs5QDnFY4CzLSBlj/gLFAmy8CZDnHpCoemYAjgESBOF1MC\n",
       "A5sCInNIEaeLTwHiTyhIt8Kuawa83JAFU6kMYQyjYBQMBGCrPHaAOJXsHWAALj4uJjD9I9kqPlEG\n",
       "9gaSdbH/Y+CYQLIuRgWG9xdI9tf7CQzxpAfh+wUM2lwJpOriPsDazkl6GNpMST6CRRwAiGWD9KM+\n",
       "UpwAAAAASUVORK5CYII=\n",
       "\" style=\"display:inline;vertical-align:middle;\" /></a></td></tr>\n",
       "<tr><td>2</td><td>Literal</td><td></td><td><a class=\"ProveItLink\" href=\"../../../../logic/equality/__pv_it/e16d2caa26a16688b658bdb9c422caf4b84579e10/expr.ipynb\"><img src=\"data:image/png;base64,iVBORw0KGgoAAAANSUhEUgAAAA4AAAAFBAMAAACHocAhAAAAD1BMVEX///9UVFQiIiJmZmYAAACP\n",
       "OqLZAAAAAXRSTlMAQObYZgAAAAlwSFlzAAAOxAAADsQBlSsOGwAAABJJREFUCNdjMFICAUUGXAAq\n",
       "DwAoFgH7Aeay4gAAAABJRU5ErkJggg==\n",
       "\" style=\"display:inline;vertical-align:middle;\" /></a></td></tr>\n",
       "<tr><td>3</td><td>ExprTuple</td><td>4, 5</td><td><a class=\"ProveItLink\" href=\"../b041aa0470f66b01c2eb8b4fd02599702854c4900/expr.ipynb\"><img src=\"data:image/png;base64,iVBORw0KGgoAAAANSUhEUgAAAHkAAAAVBAMAAACQ4lxbAAAAMFBMVEX////MzMxUVFREREQiIiK6\n",
       "uroQEBCYmJhmZmYyMjLu7u52dnaqqqqIiIjc3NwAAACFAiZ1AAAAAXRSTlMAQObYZgAAAAlwSFlz\n",
       "AAAOxAAADsQBlSsOGwAAAdpJREFUOMuNlL9LAlEcwL/XnXd66nHkPyBOEQRSU4Fh0VDR4BBBQyCB\n",
       "OibR4NKPrcGGtiBChKYmr6CtwbbIxaAxQiIIt5YgnPp+v/d8eucRis93n+99P/fefd97AkAHgj7x\n",
       "Fdu9eF3izhrJY443vcHDHHfRXD9wz79vsOOzmVsDtkoAkcefIDvmjAxDbJ4POPQLcGBND+wHad9g\n",
       "u/QNjhwuD3EdICUuyTbXpH2KreKzkXVfaGrIju/n+nYem173piJv/2NrSlrYIXq/SNmbilylalXf\n",
       "24TdXZgspgZ2C2rCDjsUSsrysoB8gbDVUXscXfa+dw2ehM3DGrLAroC8gcUpQTjL0VmPrSRBq7u2\n",
       "RqsVy4p7QkAu4LR6oDkB9oQN8bZr61Q+5VvcEwIy2noaGrkAG9fYzA7ZoXy/2K6AfAXQcOAYAmza\n",
       "K2fivT0zFwJyBqEJ87HOqE3JXddWaU0MWj8TpIB8hw9uG6tRVub4K2yDDNVmmxcrTIHGuRSQN/Fx\n",
       "M7cfL2QkiguJvUzfVmlrKY67W2geGs1PW5cCsmYHHm//GaND/sn4LFOQjZOx7Io4KQCOTCFeHMtW\n",
       "O2Cleae05XYlvh7LNtPAdQBDZjBb5WBb/q8VuPuCI18G8h92sYAlbITsNAAAAABJRU5ErkJggg==\n",
       "\" style=\"display:inline;vertical-align:middle;\" /></a></td></tr>\n",
       "<tr><td>4</td><td>Conditional</td><td>value:&nbsp;5<br>condition:&nbsp;6<br></td><td><a class=\"ProveItLink\" href=\"../70b634b5a730e32f5910be164ebd1ba7c3e7678a0/expr.ipynb\"><img src=\"data:image/png;base64,iVBORw0KGgoAAAANSUhEUgAAAGkAAAAVBAMAAAC3TN2zAAAAMFBMVEX///8QEBBERERUVFTMzMyY\n",
       "mJjc3NxmZmYiIiJ2dnaqqqoyMjKIiIi6urru7u4AAAAvZeGPAAAAAXRSTlMAQObYZgAAAAlwSFlz\n",
       "AAAOxAAADsQBlSsOGwAAAZ1JREFUOMtjYGDgu8uAFZxoQWWwMSQgyZ5eh6qa9SyEngsXgbBOMdxB\n",
       "KOL6h6QjMYCBYZf/BWy6uCYw8CyAC3E2IOm6X8DA2pD8AKF2Fpz1Goj3YdfFx8DAbIBkA183XFcp\n",
       "EIdj1wUEzAVIuniCL8B0CQAx4wOidHGwKEBZvBuABHcAiq70OTngwN1owGIobIDQtZJhG5TFPgGk\n",
       "FuZ6BnagIbxiDPpgyzkMUP21jWE5lAW2hnUDTFc+kPswgKECzGFC1cViwMDxAOpWUKhzwXzj3Ask\n",
       "6h8wdGLTxezAwHMAoosRFCwsH2BhXQ00TIiB7y82XcA44mtA0sUrAHMhUCHfTwbWD9h0geK4Cuov\n",
       "FBeCwpDvFwPThmVYdIEUZUN0MR0AhYYCcsjvYYgomADWpQBCMF2sIJVMDmBd4EBnBwkwvN8A0fX4\n",
       "pJuNA8i3ikJPFD8dgOliAsUGywRILIPs5QDnFY4CzLSBlj/gLFAmy8CZDnHpCoemYAjgESBOF1MC\n",
       "A5sCInNIEaeLTwHiTyhIt8Kuawa83JAFU6kMYTApAHnDbWLsshS/AAAAAElFTkSuQmCC\n",
       "\" style=\"display:inline;vertical-align:middle;\" /></a></td></tr>\n",
       "<tr><td>5</td><td>Variable</td><td></td><td><a class=\"ProveItLink\" href=\"../a8d4b3a34d2189508f9082853fbac36935714f280/expr.ipynb\"><img src=\"data:image/png;base64,iVBORw0KGgoAAAANSUhEUgAAAAsAAAAJBAMAAAAWSsseAAAAMFBMVEX////MzMxUVFQyMjKqqqoi\n",
       "IiKYmJju7u5EREQQEBC6urqIiIh2dnZmZmbc3NwAAAD0tjQRAAAAAXRSTlMAQObYZgAAAAlwSFlz\n",
       "AAAOxAAADsQBlSsOGwAAAEdJREFUCNdjYOC7s28DAwPDygcc3xkY2Kcx8AYwMPB+Z2A9wMDA2cBQ\n",
       "v4CBof4AQz5QRb0DQzPLAwbmDWyxPECV2gcfbWQAABp5EMgcedARAAAAAElFTkSuQmCC\n",
       "\" style=\"display:inline;vertical-align:middle;\" /></a></td></tr>\n",
       "<tr><td>6</td><td>Operation</td><td>operator:&nbsp;7<br>operands:&nbsp;8<br></td><td><a class=\"ProveItLink\" href=\"../7c60b5b6b06b168bfd5d65c6a54a2863b7fd72780/expr.ipynb\"><img src=\"data:image/png;base64,iVBORw0KGgoAAAANSUhEUgAAACkAAAAVBAMAAAAp9toTAAAAMFBMVEX///8QEBBmZmbc3NxERERU\n",
       "VFSYmJgyMjLu7u6qqqq6urp2dnbMzMwiIiKIiIgAAAD/pI0GAAAAAXRSTlMAQObYZgAAAAlwSFlz\n",
       "AAAOxAAADsQBlSsOGwAAAOBJREFUGNNjeHuHAQKgDGYGAyC5iwEGIKyXDOswRTk3MPBNgLJ3wkXb\n",
       "gbgCwua4DhdVA+IkCJsvdQFMVACIGRvAbF4eB6goVwGQYE8As2czFENFmTYACe4AMLuYYRJUFKiM\n",
       "gYGtAMTmCWDgbYCI8k4Aue4CiM16gIHvAUSUEWQtzwcQG+hGjgtIolwCIDbID5pQcxEmANUxmENE\n",
       "WR6AbHMAstlALJYDYFGgo4DOewBkszSAbNgA8QVIH68BepiBAtkWIySTICGEJspiwMDsgCHK4QC2\n",
       "Zy883qTAlBlDMgMDAErOQ/EmKcqzAAAAAElFTkSuQmCC\n",
       "\" style=\"display:inline;vertical-align:middle;\" /></a></td></tr>\n",
       "<tr><td>7</td><td>Literal</td><td></td><td><a class=\"ProveItLink\" href=\"../../../../logic/boolean/conjunction/__pv_it/f41cc6b553210927c09f19a8a39cdf860a5585930/expr.ipynb\"><img src=\"data:image/png;base64,iVBORw0KGgoAAAANSUhEUgAAAAwAAAANBAMAAABvB5JxAAAALVBMVEX///9mZmbc3NxERETMzMy6\n",
       "urpUVFSYmJiIiIgyMjIiIiLu7u6qqqp2dnYAAACMfHT6AAAAAXRSTlMAQObYZgAAAAlwSFlzAAAO\n",
       "xAAADsQBlSsOGwAAAEpJREFUCNdjYGDgPcAAArsmgKn2VDC1wBlE8lzgVABSnAo8AkDKjYFhNZBK\n",
       "YWDoYGDgBirfBdHMeICBCyjONIGhAqTJhMEaRPkCACemC8GDBfsjAAAAAElFTkSuQmCC\n",
       "\" style=\"display:inline;vertical-align:middle;\" /></a></td></tr>\n",
       "<tr><td>8</td><td>ExprTuple</td><td></td><td><a class=\"ProveItLink\" href=\"../932ad914fbc084fb83cd7cce8742c2c1338987a00/expr.ipynb\"><img src=\"data:image/png;base64,iVBORw0KGgoAAAANSUhEUgAAAAwAAAAVBAMAAACAghKHAAAAMFBMVEX////MzMxUVFREREQiIiK6\n",
       "uroQEBCYmJhmZmYyMjLu7u52dnaqqqqIiIjc3NwAAACFAiZ1AAAAAXRSTlMAQObYZgAAAAlwSFlz\n",
       "AAAOxAAADsQBlSsOGwAAAHRJREFUCNdjYGB4wMcABLwHWC8AqdMMDHcYGLgmMDBwLmDgKGBgYG9g\n",
       "YAPJZzFEgqjpDN0gahOQAQSVDD4g6ghDKoiSh1BhDHMggrYgqhioFgh6GUJAlB8DiwADA58DyFiw\n",
       "8XYMDI+B4osZGKyAFF8B+wMGAFwSFSv4L9l8AAAAAElFTkSuQmCC\n",
       "\" style=\"display:inline;vertical-align:middle;\" /></a></td></tr>\n",
       "</table>\n"
      ],
      "text/plain": [
       "0. a -> ({a if [and](). \\\\  = a)\n",
       "   core type: Lambda\n",
       "   parameter: 5\n",
       "   body: 1\n",
       "1. {a if [and](). \\\\  = a\n",
       "   core type: Operation\n",
       "   operator: 2\n",
       "   operands: 3\n",
       "2. =\n",
       "   core type: Literal\n",
       "   sub-expressions: \n",
       "3. (a if [and]() , a)\n",
       "   core type: ExprTuple\n",
       "   sub-expressions: 4, 5\n",
       "4. {a if [and]().\n",
       "   core type: Conditional\n",
       "   value: 5\n",
       "   condition: 6\n",
       "5. a\n",
       "   core type: Variable\n",
       "   sub-expressions: \n",
       "6. [and]()\n",
       "   core type: Operation\n",
       "   operator: 7\n",
       "   operands: 8\n",
       "7. and\n",
       "   core type: Literal\n",
       "   sub-expressions: \n",
       "8. ()\n",
       "   core type: ExprTuple\n",
       "   sub-expressions: "
      ]
     },
     "execution_count": 5,
     "metadata": {},
     "output_type": "execute_result"
    }
   ],
   "source": [
    "# display the expression information\n",
    "expr.exprInfo()"
   ]
  },
  {
   "cell_type": "code",
   "execution_count": null,
   "metadata": {},
   "outputs": [],
   "source": []
  }
 ],
 "metadata": {
  "kernelspec": {
   "display_name": "Python 3",
   "language": "python",
   "name": "python3"
  },
  "language_info": {
   "codemirror_mode": {
    "name": "ipython",
    "version": 3
   },
   "file_extension": ".py",
   "mimetype": "text/x-python",
   "name": "python",
   "nbconvert_exporter": "python",
   "pygments_lexer": "ipython3",
   "version": "3.7.4"
  }
 },
 "nbformat": 4,
 "nbformat_minor": 1
}
