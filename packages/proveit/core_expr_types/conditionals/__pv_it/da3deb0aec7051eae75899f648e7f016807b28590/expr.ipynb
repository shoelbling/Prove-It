{
 "cells": [
  {
   "cell_type": "markdown",
   "metadata": {},
   "source": [
    "Axiom <a class=\"ProveItLink\" href=\"../../_axioms_.ipynb#true_condition_reduction\">true_condition_reduction</a> of type <a class=\"ProveItLink\" href=\"../../../../../../doc/html/api/proveit.logic.Forall.html\">Forall</a>\n",
    "=======================\n",
    "# from context <a class=\"ProveItLink\" href=\"../../_context_.ipynb\">proveit.core_expr_types.conditionals</a>\n",
    "*** see <a class=\"ProveItLink\" href=\"dependencies.ipynb\">dependencies</a> ***"
   ]
  },
  {
   "cell_type": "code",
   "execution_count": 1,
   "metadata": {},
   "outputs": [],
   "source": [
    "import proveit\n",
    "# Automation is not needed when only building an expression:\n",
    "proveit.defaults.automation = False # This will speed things up.\n",
    "# import the special expression\n",
    "from proveit.core_expr_types.conditionals._axioms_ import true_condition_reduction"
   ]
  },
  {
   "cell_type": "code",
   "execution_count": 2,
   "metadata": {},
   "outputs": [
    {
     "name": "stdout",
     "output_type": "stream",
     "text": [
      "Passed sanity check: built 'true_condition_reduction' is the same as the stored Expression.\n"
     ]
    }
   ],
   "source": [
    "# check that the built expression is the same as the stored expression\n",
    "%check_expr true_condition_reduction"
   ]
  },
  {
   "cell_type": "code",
   "execution_count": 3,
   "metadata": {},
   "outputs": [
    {
     "name": "stdout",
     "output_type": "stream",
     "text": [
      "\\vdash forall_{a} ({a if TRUE. = a)\n"
     ]
    }
   ],
   "source": [
    "# Show the LaTeX representation of the expression for convenience if you need it.\n",
    "print(true_condition_reduction.latex())"
   ]
  },
  {
   "cell_type": "code",
   "execution_count": 4,
   "metadata": {},
   "outputs": [
    {
     "data": {
      "text/html": [
       "<table><tr><th>&nbsp;</th><th>core type</th><th>sub-expressions</th><th>expression</th></tr>\n",
       "<tr><td>0</td><td>Operation</td><td>operator:&nbsp;1<br>operand:&nbsp;2<br></td><td><a class=\"ProveItLink\" href=\"expr.ipynb\"><img src=\"data:image/png;base64,iVBORw0KGgoAAAANSUhEUgAAAKAAAAAVBAMAAAAz5vjYAAAAMFBMVEX///+IiIgiIiIQEBB2dnbu\n",
       "7u5UVFTMzMzc3NwyMjK6urpmZmaYmJiqqqpEREQAAACk/Np2AAAAAXRSTlMAQObYZgAAAAlwSFlz\n",
       "AAAOxAAADsQBlSsOGwAAAgBJREFUOMtjYMAEDUActYCBDMCBVZTxAhDPDUAVPEiUBVwCDAwPQIw7\n",
       "yKJXgPg+knkcNgwMnNd/AVmblEBADY+JsgwMu0D0DCQx1glAwgnZ2t8MDIc4UiGci/idyBnAUAZy\n",
       "wwMkMe4DaAYyAF2bBmMTMJBnA8hMBpYLSGLMDOgGAkE2kQYymDLwAB3EiSy0kiID5zAwGCkpmSAL\n",
       "bYEZyLFFQgDE7jRjKDNOI2hgt2MjkHRjYNjOwPAUzQ4Ghp1AvLiB7ytYRA1nGCJFO5cFw3tg6J1k\n",
       "YGhj4EhAVqQLctwfYGzbMHArgEWeERMpwQcYNgGpSwwMfAEsKInWioGBPQkowv2VgcmBeAP3BzCo\n",
       "AKl6BgZeAZQ4ARnIED0VGNsPGOIXEG+gHQMrKO0vBuIJB0FGHPSAysyFmhHvwHCegYCBiDBk/cLA\n",
       "8wHiZQZfoHNY1dm/QhU9hMZy/AWGl7wNxLqQ9S8D34QbDAzngOxmYJxwb2A3gEq5QQ3kFODRZgGL\n",
       "vAMjVAPjJ6CZOJHh0AZgkG8EMvkKGBj4FzDConoR1EDWRPc2cRC7zvhpnf1DqOwaKM20Ac3AMJGK\n",
       "RKBBGjALG/iOQgsYpgIsOYXoAlEBloEb6tcg8jf5BoJLFnA633PRByb4AoiFyTSwD5tgHCjdXyDP\n",
       "wKdYwwHobI5tZJnI08AAAFXKfVf7EX9zAAAAAElFTkSuQmCC\n",
       "\" style=\"display:inline;vertical-align:middle;\" /></a></td></tr>\n",
       "<tr><td>1</td><td>Literal</td><td></td><td><a class=\"ProveItLink\" href=\"../../../../logic/boolean/quantification/universal/__pv_it/fd9c772d6675566ed52a6897806f45eb08a4ea910/expr.ipynb\"><img src=\"data:image/png;base64,iVBORw0KGgoAAAANSUhEUgAAAAwAAAAOBAMAAADpk+DfAAAAMFBMVEX///+IiIgiIiIQEBB2dnbu\n",
       "7u5UVFTMzMzc3NwyMjK6urpmZmaYmJiqqqpEREQAAACk/Np2AAAAAXRSTlMAQObYZgAAAAlwSFlz\n",
       "AAAOxAAADsQBlSsOGwAAAFNJREFUCNdjeMAABHcYdoGoGQxlQJLjAQNnAAMDywUGngMMDJxAESMl\n",
       "JRMgtZ2B4SmQamPgSABSfAEsC4AUrwBIBQPDhINgyncqmGpOAFN8BQwMAB49Dl+s5gmkAAAAAElF\n",
       "TkSuQmCC\n",
       "\" style=\"display:inline;vertical-align:middle;\" /></a></td></tr>\n",
       "<tr><td>2</td><td>Lambda</td><td>parameter:&nbsp;7<br>body:&nbsp;3<br></td><td><a class=\"ProveItLink\" href=\"../53c33f6162fec312805ed39fb63929c6a45c36c10/expr.ipynb\"><img src=\"data:image/png;base64,iVBORw0KGgoAAAANSUhEUgAAAKsAAAAVCAMAAAAO9u4uAAAANlBMVEX///8WFhYNDQ3MzMxUVFQy\n",
       "MjKqqqoiIiKYmJju7u5EREQQEBC6urqIiIh2dnZmZmbc3NwAAADRPqZpAAAAAXRSTlMAQObYZgAA\n",
       "AAlwSFlzAAAOxAAADsQBlSsOGwAAAbZJREFUSMfFltuWgyAMRZnhGi4C//+zgxbUgNZiWQ4Porbn\n",
       "sEkwQEhvC7kHa8ljLdxSOZF7LuD9P5UbNxnrbojElPt4RhqMWnouaMywXu4a+ypEHQ14vpnkaQii\n",
       "X6IqSWBoPsJ9E1kOvQqvLlnJy5Q18fuOVfnr2ONVbcg166sxP5aVGDiNSxkADWn5/7HyJaXBTy5s\n",
       "RpgCPfmpZa3UgZuUfcqMqVfBDda99zTbWZPyrLfvGrMK3cxtoS4RrtVJz7rX60mhQN4qjQhLjfHy\n",
       "JK7E6Y1DlsoRYqZu1MmcDfq2sLdIvV+45Zpd8vsjUYtxrenmdUeZLK8a9UBW7E1jGn9OMmw8dVwt\n",
       "337KrAR8KXeNeiAr9rYm3c/cKp58TYTuizAXGOhAfYv1cL1W3mkNQJzH15yIcMjK9wVWu6oOtOpx\n",
       "ca28VYoyd/OG6Mm65NCJw6IyObG6ZjXq5K636ztWiPyioiJvn56AuYkG5uhxdtBrK2vWRk21MRrS\n",
       "NeqKzarKW15sm9hb9p4LJf103xp+gu0ecD1BPM7qVbdE50w483BYdb8GdNlTxKOsGu5MUJVjBXuQ\n",
       "Vs3p/AMSlhLWzUvevQAAAABJRU5ErkJggg==\n",
       "\" style=\"display:inline;vertical-align:middle;\" /></a></td></tr>\n",
       "<tr><td>3</td><td>Operation</td><td>operator:&nbsp;4<br>operands:&nbsp;5<br></td><td><a class=\"ProveItLink\" href=\"../96f96f22566300e3aadfc8cffad9332263fcf6230/expr.ipynb\"><img src=\"data:image/png;base64,iVBORw0KGgoAAAANSUhEUgAAAHEAAAAVBAMAAACDNRyvAAAAMFBMVEX///8QEBBERERUVFTMzMyY\n",
       "mJjc3NxmZmYiIiJ2dnaqqqoyMjKIiIi6urru7u4AAAAvZeGPAAAAAXRSTlMAQObYZgAAAAlwSFlz\n",
       "AAAOxAAADsQBlSsOGwAAARlJREFUOMtjYGDgu8tAJji9DpXPepZIjVz/kDiJAQwMu/wvMDCwd4CB\n",
       "AT6dnA1InPsFDKwNyQ8gRh4gYCeKTj4GBmaYPaTpBALmAjrpTJ+TA2KzbTRgMRQ2IKSTrfIYSI59\n",
       "AwMDrxiDPjhYOAxw+RM5sC8mMIEiJB8YEQ8DGCrA8kwGRIQQnygDO9Chzr1Adv0Dhk7idbL/Y+CY\n",
       "ADSgGuhMIQa+v8TrZFRgeH8BopjvJwPrBwI6kfz5fgJDPDRs+X4xMG1YRrSd7xcwaHMlQGJlD0NE\n",
       "wQSwTgUQQtXJ9xtNJ/cB1nZOaHw+Pulm4wBksygKPVH8BNXBGwBV2Y4etjZTko9gSUPEA/J18giQ\n",
       "q5NPilydDOlWZGkDAIHRUackAoh1AAAAAElFTkSuQmCC\n",
       "\" style=\"display:inline;vertical-align:middle;\" /></a></td></tr>\n",
       "<tr><td>4</td><td>Literal</td><td></td><td><a class=\"ProveItLink\" href=\"../../../../logic/equality/__pv_it/e16d2caa26a16688b658bdb9c422caf4b84579e10/expr.ipynb\"><img src=\"data:image/png;base64,iVBORw0KGgoAAAANSUhEUgAAAA4AAAAFBAMAAACHocAhAAAAD1BMVEX///9UVFQiIiJmZmYAAACP\n",
       "OqLZAAAAAXRSTlMAQObYZgAAAAlwSFlzAAAOxAAADsQBlSsOGwAAABJJREFUCNdjMFICAUUGXAAq\n",
       "DwAoFgH7Aeay4gAAAABJRU5ErkJggg==\n",
       "\" style=\"display:inline;vertical-align:middle;\" /></a></td></tr>\n",
       "<tr><td>5</td><td>ExprTuple</td><td>6, 7</td><td><a class=\"ProveItLink\" href=\"../8c752e55e6fffeb66481e412c379b219c5ee6a540/expr.ipynb\"><img src=\"data:image/png;base64,iVBORw0KGgoAAAANSUhEUgAAAFUAAAAVBAMAAADFg78FAAAAMFBMVEX////MzMxUVFREREQiIiK6\n",
       "uroQEBCYmJhmZmYyMjLu7u52dnaqqqqIiIjc3NwAAACFAiZ1AAAAAXRSTlMAQObYZgAAAAlwSFlz\n",
       "AAAOxAAADsQBlSsOGwAAATZJREFUKM9jYGB4wEAMAKviPYAqWBuAVW0siDiN4POlMzBwHvwKZLW4\n",
       "gIATklqQkVwTEHzWHwwMJXxaEM5ZNINnMTBwFCDxFzAwKMHY6GorGBjY0IQ0cKllW8AQSaxazgKG\n",
       "bpCfuu9dAHFfJjEIpSlhqIVIcyswTAdywh4w/wKLOmF1L0SafQKDDzAo0hk4HMCiRtjUQqV5HBhS\n",
       "gUHxi4FlA261UGnGDyC1bAYM6wNwq4VKsyYwzGFgWL+BoZ4Bt1qoNNANtkDOAQZLngdY1XIxwKXZ\n",
       "DRg2AUPuArsHN1jeGIyQ1K6fAJfmuMAQAtSsu/HRRZCMcJqVcL4tVG04iGDxgkuzPGBgEcCbbE/B\n",
       "WU+AQdyAV+0GOKsdiO3wKeW6AI9oAyCxGJ9adjiLeQFIQwFR+a2OgQEA9zNR3/SoBYwAAAAASUVO\n",
       "RK5CYII=\n",
       "\" style=\"display:inline;vertical-align:middle;\" /></a></td></tr>\n",
       "<tr><td>6</td><td>Conditional</td><td>value:&nbsp;7<br>condition:&nbsp;8<br></td><td><a class=\"ProveItLink\" href=\"../efd3436ff3dd62c99925c764ae5f61ca8851782c0/expr.ipynb\"><img src=\"data:image/png;base64,iVBORw0KGgoAAAANSUhEUgAAAEkAAAAVBAMAAAD4Ed5jAAAAMFBMVEX///8QEBBERERUVFTMzMyY\n",
       "mJjc3NxmZmYiIiJ2dnaqqqoyMjKIiIi6urru7u4AAAAvZeGPAAAAAXRSTlMAQObYZgAAAAlwSFlz\n",
       "AAAOxAAADsQBlSsOGwAAANtJREFUKM9jYGDgu8tABDi9DpXPehaLIq5/SJzEAAaGXf4XGBjYO8DA\n",
       "ACbB2YCk6n4BA2tD8gOI9gNIEiiq+BgYmGH6casCAuYCClWxVR4DibFtNGAxFDbAoop9A5C4mMAE\n",
       "9iqHAQ535QM9zyfKwA62mAmHKudekHn/GDgm4FPFVw0MHUYFhvcX8KkCSTC8n8AQz4BXFciP7xcw\n",
       "aHMlEFLFfYC1nRNslgIIoal6vwGiis9mSvIRIJ9FUeiJ4ieoLG8AVBVHAWbYYwfEqeIRIEYVnxQx\n",
       "qhjSrQgqAQD2fjsz7Xb76wAAAABJRU5ErkJggg==\n",
       "\" style=\"display:inline;vertical-align:middle;\" /></a></td></tr>\n",
       "<tr><td>7</td><td>Variable</td><td></td><td><a class=\"ProveItLink\" href=\"../a8d4b3a34d2189508f9082853fbac36935714f280/expr.ipynb\"><img src=\"data:image/png;base64,iVBORw0KGgoAAAANSUhEUgAAAAsAAAAJBAMAAAAWSsseAAAAMFBMVEX////MzMxUVFQyMjKqqqoi\n",
       "IiKYmJju7u5EREQQEBC6urqIiIh2dnZmZmbc3NwAAAD0tjQRAAAAAXRSTlMAQObYZgAAAAlwSFlz\n",
       "AAAOxAAADsQBlSsOGwAAAEdJREFUCNdjYOC7s28DAwPDygcc3xkY2Kcx8AYwMPB+Z2A9wMDA2cBQ\n",
       "v4CBof4AQz5QRb0DQzPLAwbmDWyxPECV2gcfbWQAABp5EMgcedARAAAAAElFTkSuQmCC\n",
       "\" style=\"display:inline;vertical-align:middle;\" /></a></td></tr>\n",
       "<tr><td>8</td><td>Literal</td><td></td><td><a class=\"ProveItLink\" href=\"../../../../logic/boolean/__pv_it/b5b8ce0f03ab68a7c7bb937dfeb4112a686e3cbb0/expr.ipynb\"><img src=\"data:image/png;base64,iVBORw0KGgoAAAANSUhEUgAAAA4AAAAOBAMAAADtZjDiAAAAG1BMVEX///+YmJi6urqIiIiqqqpU\n",
       "VFQiIiJmZmYAAAD2GhH1AAAAAXRSTlMAQObYZgAAAAlwSFlzAAAOxAAADsQBlSsOGwAAABhJREFU\n",
       "CNdjKEsDgVQGIHBmgABa0YpADADkogYfXGfJdgAAAABJRU5ErkJggg==\n",
       "\" style=\"display:inline;vertical-align:middle;\" /></a></td></tr>\n",
       "</table>\n"
      ],
      "text/plain": [
       "0. forall_{a} ({a if TRUE. = a)\n",
       "   core type: Operation\n",
       "   operator: 1\n",
       "   operand: 2\n",
       "1. forall\n",
       "   core type: Literal\n",
       "   sub-expressions: \n",
       "2. a -> ({a if TRUE. = a)\n",
       "   core type: Lambda\n",
       "   parameter: 7\n",
       "   body: 3\n",
       "3. {a if TRUE. = a\n",
       "   core type: Operation\n",
       "   operator: 4\n",
       "   operands: 5\n",
       "4. =\n",
       "   core type: Literal\n",
       "   sub-expressions: \n",
       "5. (a if TRUE , a)\n",
       "   core type: ExprTuple\n",
       "   sub-expressions: 6, 7\n",
       "6. {a if TRUE.\n",
       "   core type: Conditional\n",
       "   value: 7\n",
       "   condition: 8\n",
       "7. a\n",
       "   core type: Variable\n",
       "   sub-expressions: \n",
       "8. TRUE\n",
       "   core type: Literal\n",
       "   sub-expressions: "
      ]
     },
     "execution_count": 4,
     "metadata": {},
     "output_type": "execute_result"
    }
   ],
   "source": [
    "# display the expression information\n",
    "true_condition_reduction.exprInfo()"
   ]
  },
  {
   "cell_type": "code",
   "execution_count": null,
   "metadata": {},
   "outputs": [],
   "source": []
  }
 ],
 "metadata": {
  "kernelspec": {
   "display_name": "Python 3",
   "language": "python",
   "name": "python3"
  },
  "language_info": {
   "codemirror_mode": {
    "name": "ipython",
    "version": 3
   },
   "file_extension": ".py",
   "mimetype": "text/x-python",
   "name": "python",
   "nbconvert_exporter": "python",
   "pygments_lexer": "ipython3",
   "version": "3.7.4"
  }
 },
 "nbformat": 4,
 "nbformat_minor": 1
}
