{
 "cells": [
  {
   "cell_type": "markdown",
   "metadata": {},
   "source": [
    "Theorems for context <a class=\"ProveItLink\" href=\"_context_.ipynb\">proveit.core_expr_types.conditionals</a>\n",
    "========"
   ]
  },
  {
   "cell_type": "code",
   "execution_count": 1,
   "metadata": {},
   "outputs": [],
   "source": [
    "import proveit\n",
    "# Automation is not needed when building theorem expressions:\n",
    "proveit.defaults.automation = False # This will speed things up.\n",
    "# the context is in the current directory:\n",
    "context = proveit.Context('.') # adds context root to sys.path if necessary\n",
    "from proveit import Conditional\n",
    "from proveit._common_ import a, b\n",
    "from proveit.logic import And, Forall, Equals"
   ]
  },
  {
   "cell_type": "code",
   "execution_count": 2,
   "metadata": {},
   "outputs": [
    {
     "name": "stdout",
     "output_type": "stream",
     "text": [
      "Defining theorems for context 'proveit.core_expr_types.conditionals'\n",
      "Subsequent end-of-cell assignments will define theorems\n",
      "'%end theorems' will finalize the definitions\n"
     ]
    }
   ],
   "source": [
    "%begin theorems"
   ]
  },
  {
   "cell_type": "code",
   "execution_count": 3,
   "metadata": {},
   "outputs": [
    {
     "data": {
      "text/html": [
       "<strong id=\"no_condition_reduction\"><a class=\"ProveItLink\" href=\"_proofs_/no_condition_reduction.ipynb\">no_condition_reduction</a>:</strong> <a class=\"ProveItLink\" href=\"__pv_it/52d640bd75bf9fbc973a1348e98e9fc2e26ee5150/expr.ipynb\"><img src=\"data:image/png;base64,iVBORw0KGgoAAAANSUhEUgAAALsAAAAyBAMAAAD2AbdJAAAAMFBMVEX///+IiIgiIiIQEBB2dnbu\n",
       "7u5UVFTMzMzc3NwyMjK6urpmZmaYmJiqqqpEREQAAACk/Np2AAAAAXRSTlMAQObYZgAAAAlwSFlz\n",
       "AAAOxAAADsQBlSsOGwAAA55JREFUWMO1mF9IFEEYwL/bu73du1vXpYLqIZQjtLBA0kTE6uqhIhIP\n",
       "hMAC7yzypaB7kp50IxAkiOshEEo48ikIvEyKoug0CnrJq4SKgjsDoyD6A0llCs3s3v6Zvdl17bYP\n",
       "nZu9+eY3M9983zezB0CVYAYqlJ64Q+NpvXaUPpAvmlIra+rVT5knFbjL9vRgTMeMWmYxpQ4X0Ec9\n",
       "pOrlwxKp+MIeP63XCiY63w4QerVIxc8CbCIZkaQdnf+pV/eZvg7/QQPzJw18h45n02hkyzq32eGZ\n",
       "GBUPqH9fqYrx7FYdH8kBCFmS8tJucx8BHY/klAnve5LR8H5c7CRVQ1kbfLM7PMMVNfx1XFwlVcO/\n",
       "6HTfAonnJzcoXjHcAv1NfQZ+FkY0/CQu9ls4V2xMb9rzu+h/TBbVAetI24/AWw2vTPyphVOgG38w\n",
       "ZfjQEtrBdojUKk8fCDyXBCZewm+neXpCouJPGKF3HE0ysqC5EokPpsAnlfBtyrQsHLGWim8xqsdQ\n",
       "aPuLkMhQ8N1oYbVm/JiFI1D3llsyPSBiIgYzQMHjoHpQwo/SjMMu0fAB86DIcxJ5+FQll+Px0odL\n",
       "+DlcPHMwg8lkjSQ+JAkNAeXhi/JXwgt448SUild88qYy5d9G5/cAODLgnRnvL5J4tvfA0HpcH2ia\n",
       "H9gzp+FF7HZcTMVfw8UWpaXB6NwJcA9/jhD+lAX7qAWT35syJoN8mS9zlJkM9GPvLhJuL60ej9MZ\n",
       "TmuWAJKUNBrIE8FmflrrDg8fAS6WKSE7CGjMELmklOmhK+8O3wMwX6ZUjbLLjmi0mfiyRjafLLfp\n",
       "/IB+1rapejlBLscjo9+xjtsZB4/Ej86wIeDJU/GhZ3gG+ZIYD5B3jTPgGR4FaJVE7qzHeEhP4dQ4\n",
       "dfD/GAc6UNJl6zn9BOyUvdxaOI92NpLl9ERWk/IMn1SzHlRnfElqWFUk1Vr2SsjiY83khYxX+IR2\n",
       "HfPLgzf0RJTzCq8nx/D954fLllSxFGgJhUm77X5h7znH9hqaDwYbnbpMRLHUKUtuha+OMUINUGHB\n",
       "5eS7cjDhqLCbehFZdolH4b3ZqZ3/vtI1aoXJsYtO7fRrFNxyZ3v2BwjfnFSD9EvguLu4YpdBTL92\n",
       "Clr6FZZx6fiXYDobc2ifobuVW9c5su5sr1N+qlv55acCsXv5sVvVKkW0e7ENxbzAj9tNkmv1Ar/L\n",
       "tmWjB/Rg0sVPFv8ubxzaPldMd/rBBcSKD8RuZWP/AqBV0fRm6Ar5AAAAAElFTkSuQmCC\n",
       "\" style=\"display:inline;vertical-align:middle;\" /></a><br>"
      ],
      "text/plain": [
       "no_condition_reduction: forall_{a} ({a if [and](). \\\\  = a)"
      ]
     },
     "execution_count": 3,
     "metadata": {},
     "output_type": "execute_result"
    }
   ],
   "source": [
    "no_condition_reduction = Forall(a, Equals(Conditional(a, And()), a).withWrapBeforeOperator())"
   ]
  },
  {
   "cell_type": "code",
   "execution_count": 4,
   "metadata": {},
   "outputs": [
    {
     "data": {
      "text/html": [
       "<strong id=\"single_condition_reduction\"><a class=\"ProveItLink\" href=\"_proofs_/single_condition_reduction.ipynb\">single_condition_reduction</a>:</strong> <a class=\"ProveItLink\" href=\"__pv_it/c253f31daf6c56a2c26c91bd7b9eea70c8a782e90/expr.ipynb\"><img src=\"data:image/png;base64,iVBORw0KGgoAAAANSUhEUgAAAM8AAAAyBAMAAAAJo5KrAAAAMFBMVEX///+IiIgiIiIQEBB2dnbu\n",
       "7u5UVFTMzMzc3NwyMjK6urpmZmaYmJiqqqpEREQAAACk/Np2AAAAAXRSTlMAQObYZgAAAAlwSFlz\n",
       "AAAOxAAADsQBlSsOGwAABK1JREFUWMO1mFuIG1UYgP9cJpPrJF5Qq4jLolu1PoS2rqXUmvZBRSwd\n",
       "qCi10Mla7YuKAWHxqRspLJSKjUilsLYM9E2EZKsolS5mWxREMPFGKwobXSqIoi64aNfd0v+cmTkz\n",
       "Z+bkzATjIZP8M3Pyf+fy32YAJC1lwhDafj20ywtMelqMvH49L6Q936ypx8M4qYojxU76RjVvgR9j\n",
       "FyzpdvqdLfGdvwoDnWfSgoeT3gaQubgiAhUqsH8j47GWq8o56b+ZuNNzOfsvDiH9nKt+F5P24jGD\n",
       "R8Y3//vkoHhFCALUctAzD+UeBjqHxxoe+Rav6Wu5OVwAMQjb8x5Q7FPTAZVxvstEuJ/vnmlJQZuj\n",
       "geJqz5ayDYDkCLn+Nt89+4+ME1vmQen3b6HWdGQcJjcddEHfwAlbyuFaZyZu6wI87NM1I90ij62c\n",
       "xeN0XbPQY/wenYDvbSnTBjCOKzj8z3y6FmSbNFVz7W8V93wb5OiywM8cSK1CXLcXsUtVLgU9xyhJ\n",
       "QAdc134Gtzu37JghD0rVIFayQAmTzF35Cwfp06WNSEDjrrgPg0iiB4YpAKHvKCMuaAayaOCnfbry\n",
       "EmtQVz0nqNuoQAcEIOKuc/Ye4dKtkqkHlk5Z7Q9KegeBVmd04ZdCPQgii3LEAmm4hCuwB03iC8ny\n",
       "+JtW5kGZUn5Dkp78Tj82KE+2WatRULJKAv6vKM3SaVxxFfwEQLwNfgiCEj0epEw8Mn0zkQ9tunzo\n",
       "oR8dkEYMV61YDouz20fcCO6mdze4CnYDfATUFwLNaEH/yMAnByY52SkdMLKOCZPkRk/gRqXBQZ87\n",
       "eaEt0EZCerIb1LHgvXZDNJBWt05eF61PHukZgY5OzXOypxsJpNgrcznQsYh2snF0dLNAxx11bw78\n",
       "QEzayWqGrfTnNcs960EQDuFD0QjQTsJrlwFaAjPINKRZnFZPsVsfDxUURzvU9KRbSz3LpJdgqCB0\n",
       "/0LJYwsP/I8gaMyTAD3/KFm6pZv0aEunvDPw0sEuTALKepWkz9hdMScg7K5L/7nuW18iuDXUGOAw\n",
       "2kKupZZp/M03HPOuyf5Y8BQUcBhd8eQUbrSy2C/BJapW7IWiGavS1MWqyo4UlPRqbKLbj0zrsrqq\n",
       "6Nww6ton2LOoJxzPXDAjgxRM6Nb4in0iCEmb9tTqU+/CE1hmsJQ11Y4MIs8D1oib/SyIhejsuS8f\n",
       "h5e76mwlMNlBQP2iPB+iAbxn8UYo6OiOV2kgfLOqHhina/fWdXPi/lzkhIJ34qmyv/OZUdLGrIyD\n",
       "w8hugT90u9S09ki5ohtir+DdP8+dLMtmdAx3EKuQM1Z54YDQ6IviUnG7pNxak3Am77Vix508COdp\n",
       "VISPWkvRCshgADqrk1EqKzwI3agpNHBZAQnvyfYIdWPpm/+TBxXbfUJkSlYSN0251SlroDUu8SAT\n",
       "HwWEgUFW5MdbIeb9Bpxv0R3ReuRDBt7W6J8Mv2t0ZKlAanYE9OSNr0yQgKgubn9q8SoZszI7Jx7j\n",
       "WNRHy9DIIG/yR0vpfAcDafIXDZmK5AG3PAioKc/W6haJIz04CCis8zrJvaMvRuekqpFfOv239l1o\n",
       "j9+Gwgl/jQbaUF4M7qWmcA104hdym7QJSwAAAABJRU5ErkJggg==\n",
       "\" style=\"display:inline;vertical-align:middle;\" /></a><br>"
      ],
      "text/plain": [
       "single_condition_reduction: forall_{a, b} ({a if [and](b). \\\\  = {a if b.)"
      ]
     },
     "execution_count": 4,
     "metadata": {},
     "output_type": "execute_result"
    }
   ],
   "source": [
    "single_condition_reduction = Forall((a, b), Equals(Conditional(a, And(b)), Conditional(a, b)) \\\n",
    "                                    .withWrapBeforeOperator())"
   ]
  },
  {
   "cell_type": "code",
   "execution_count": 5,
   "metadata": {},
   "outputs": [
    {
     "name": "stdout",
     "output_type": "stream",
     "text": [
      "Theorems may be imported from autogenerated _theorems_.py\n"
     ]
    }
   ],
   "source": [
    "%end theorems"
   ]
  }
 ],
 "metadata": {
  "kernelspec": {
   "display_name": "Python 3",
   "language": "python",
   "name": "python3"
  },
  "language_info": {
   "codemirror_mode": {
    "name": "ipython",
    "version": 3
   },
   "file_extension": ".py",
   "mimetype": "text/x-python",
   "name": "python",
   "nbconvert_exporter": "python",
   "pygments_lexer": "ipython3",
   "version": "3.7.4"
  }
 },
 "nbformat": 4,
 "nbformat_minor": 1
}
