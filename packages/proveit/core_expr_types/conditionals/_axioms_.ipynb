{
 "cells": [
  {
   "cell_type": "markdown",
   "metadata": {},
   "source": [
    "Axioms for context <a class=\"ProveItLink\" href=\"_context_.ipynb\">proveit.core_expr_types.conditionals</a>\n",
    "========"
   ]
  },
  {
   "cell_type": "code",
   "execution_count": 1,
   "metadata": {},
   "outputs": [],
   "source": [
    "import proveit\n",
    "# Automation is not needed when building axiom expressions:\n",
    "proveit.defaults.automation = False # This will speed things up.\n",
    "# the context is in the current directory:\n",
    "context = proveit.Context('.') # adds context root to sys.path if necessary\n",
    "from proveit import Conditional\n",
    "from proveit._common_ import a, b, Q\n",
    "from proveit.logic import Implies, Forall, Equals, TRUE"
   ]
  },
  {
   "cell_type": "code",
   "execution_count": 2,
   "metadata": {},
   "outputs": [
    {
     "name": "stdout",
     "output_type": "stream",
     "text": [
      "Defining axioms for context 'proveit.core_expr_types.conditionals'\n",
      "Subsequent end-of-cell assignments will define axioms\n",
      "%end_axioms will finalize the definitions\n"
     ]
    }
   ],
   "source": [
    "%begin axioms"
   ]
  },
  {
   "cell_type": "code",
   "execution_count": 3,
   "metadata": {},
   "outputs": [
    {
     "data": {
      "text/html": [
       "<strong id=\"conditional_substitution\">conditional_substitution:</strong> <a class=\"ProveItLink\" href=\"__pv_it/e74b55ee6c0f1b9c0f7aeca9ff80c9d245f3826d0/expr.ipynb\"><img src=\"data:image/png;base64,iVBORw0KGgoAAAANSUhEUgAAAScAAAAyBAMAAADsGADuAAAAMFBMVEX///+IiIgiIiIQEBB2dnbu\n",
       "7u5UVFTMzMzc3NwyMjK6urpmZmaYmJiqqqpEREQAAACk/Np2AAAAAXRSTlMAQObYZgAAAAlwSFlz\n",
       "AAAOxAAADsQBlSsOGwAABWRJREFUWMO9WWtoW1Uc/6fJzb25N7mJzAdsH1aKTnyAZZUaH6vVTVF0\n",
       "7spkMgtL9nCgDlcoFEFoOiYF8UPjozqYm/mgflKXqUxWZUkn++IHE/WDE8Vmdhs+MLboWM2a1fO4\n",
       "z3PPzZp57w7h3PxPzv+c3zn/9w2A/+3Zy2fdokEwLVp2kE8V2uAVJwICtcNBhQ4wh48vb8X8bTCY\n",
       "4p0OctqOaS+6xAM5enUvffpg2c2tZAMBNT7oIO+3E4eKCPMYgRl5C+AZDvutgYC6HrxBCUjj6FUI\n",
       "B1EXLrrZvwtC1ePdLUBhM6BAYljI0Vk3f6wYAKhw/5JAlbCQI+fd/PJ8AKBWahxQr9y3Bz+k17Pi\n",
       "9l4sP+ki0eoGZ4H9AYBaxdBH8enT8BfB2pHVdUppElHxbmXaf6USGYlIC6jbWIaPCaUaoDoInEw3\n",
       "Z4VMyn937txH3IadUknTbdIElSQqXuE4KlA7/ddzxvkN4LjRB0KDuSm8s3An13z91/Qce/izaPN/\n",
       "ID7rBIWcwYegpHkrCAu+g9owCi7rE5qg5k86QInN0HupL0e5S/T6DmoG3KDgVTheJO5LreEPbsv2\n",
       "wOdP05v5l+H4BYDM+ck3UH08UJuufmErdpbiTN+TMxeJdYnPr7sLRDLjFvayASbxc59fmIQLPFD8\n",
       "9idcwx2vFGAYO5Oab25qbumgzib42+ZSEEMONFL1C1SiyY4s85xbWhzkjmdQfoNsOOZfjuAKsRs9\n",
       "Dzy0hj+eRPa5uqvrdt9AhVyeTzrSrhiSSKqfAZzxDVTknA9BIQ8wBpJ3XszPuE4ytBVCFR9A4RCk\n",
       "ahGzCBIP6gc+vIJ62xpDU8WxF02YRbHi8awPoFBMT6RibHkk7wMpbQNl0aRtYisqud9vUJCfsgbu\n",
       "MIuvYzZQFk1c/6RjDcwycUnxtVGSkgxiPV5yYOoh4vuuRW5LwnZdsUDZ6CiWYqcxHQyW9aaie+Qd\n",
       "bEk6VWit6LAX6blwo4jPGLohhFQ7ikfXWqB0+rF6vf4buhcpT6cfQ3S9TFh+NDc/z98I57hbVlMf\n",
       "cQ9yjN/T/Ep6ZN0ufkqmIseqFEUsSTUVz+vl2JsWKBsNoUmQa8Z0MFg+8naetmBDSwIZhcfjEs0Q\n",
       "Hh6kJ3b6KcPkk4UQxhcu4LI5jExcnLeBsmiQdmiJrDEdDJYRM8w0WoDSQxC6tJ3022a8/N2uMGOY\n",
       "TWZUPYEmJ7Uw8r9qUdY6yhYoncbiq59G+Gp0OhUfYTHFJy54g5ItI3iOPl7D3W5OQNbPO5r7AJ6A\n",
       "Du1r1EvpE9e9DTZFt+hQmSg6ma7bCmKBq8wVL3iDinQyoBQi6w1sWJ424pL8xTePwlBVPNyPehg7\n",
       "tVOzO0+LfhF3v9Lp+t0gFjRitJu8QcW2rsDbvdwLwz1EfuNk9RJriCudWXLV7N8XynaPbtJk/ruu\n",
       "1M5KjLZbEaeLtKxZkmYmhHm9XKU6VSL7vcNm6k55JjSzH9+mOUAZNN2OXSZi/Vjh1rekJEVuYU6v\n",
       "byio2/A6wt+tM+q41cduBgcog6btAWaZr2xayktUaEl6FNdadlCLZDvWNKS5S7l8fhEkMLTmXYza\n",
       "StL9IDcdoLpIEpgPvhhVurk6hYDAgh4ZTVC7Qa7CJ+y5o/6X7XLD0/oa+EWHHVSuuvzxuKtKTvr/\n",
       "gsNVxVmgdsEf5HudfLDTS6eUIxpbkVYCeL/IXxODGiBuCkZ6zozce4qMDp9eW4BB5iyrrsDrxdbV\n",
       "n1oNaVfg9WL8XFugsj+7RgIABW/wBr1KUmWRzXUOBfLvzBDPt3mVpGIP+8OaIDBBKM+LM0stSaOB\n",
       "SI/9w6jN9kMwmEAt/4+3NkH9tQa/Xz7rZqLm/wHO6nrYsEugFwAAAABJRU5ErkJggg==\n",
       "\" style=\"display:inline;vertical-align:middle;\" /></a><br>"
      ],
      "text/plain": [
       "conditional_substitution: forall_{a, b, Q | Q => (a = b)} ({a if Q. \\\\  = {b if Q.)"
      ]
     },
     "execution_count": 3,
     "metadata": {},
     "output_type": "execute_result"
    }
   ],
   "source": [
    "conditional_substitution = \\\n",
    "    Forall((a, b, Q), Equals(Conditional(a, Q),\n",
    "                             Conditional(b, Q)).withWrapBeforeOperator(),\n",
    "          conditions=[Implies(Q, Equals(a, b))])"
   ]
  },
  {
   "cell_type": "code",
   "execution_count": 4,
   "metadata": {},
   "outputs": [
    {
     "data": {
      "text/html": [
       "<strong id=\"true_condition_reduction\">true_condition_reduction:</strong> <a class=\"ProveItLink\" href=\"__pv_it/da3deb0aec7051eae75899f648e7f016807b28590/expr.ipynb\"><img src=\"data:image/png;base64,iVBORw0KGgoAAAANSUhEUgAAAKAAAAAVBAMAAAAz5vjYAAAAMFBMVEX///+IiIgiIiIQEBB2dnbu\n",
       "7u5UVFTMzMzc3NwyMjK6urpmZmaYmJiqqqpEREQAAACk/Np2AAAAAXRSTlMAQObYZgAAAAlwSFlz\n",
       "AAAOxAAADsQBlSsOGwAAAgBJREFUOMtjYMAEDUActYCBDMCBVZTxAhDPDUAVPEiUBVwCDAwPQIw7\n",
       "yKJXgPg+knkcNgwMnNd/AVmblEBADY+JsgwMu0D0DCQx1glAwgnZ2t8MDIc4UiGci/idyBnAUAZy\n",
       "wwMkMe4DaAYyAF2bBmMTMJBnA8hMBpYLSGLMDOgGAkE2kQYymDLwAB3EiSy0kiID5zAwGCkpmSAL\n",
       "bYEZyLFFQgDE7jRjKDNOI2hgt2MjkHRjYNjOwPAUzQ4Ghp1AvLiB7ytYRA1nGCJFO5cFw3tg6J1k\n",
       "YGhj4EhAVqQLctwfYGzbMHArgEWeERMpwQcYNgGpSwwMfAEsKInWioGBPQkowv2VgcmBeAP3BzCo\n",
       "AKl6BgZeAZQ4ARnIED0VGNsPGOIXEG+gHQMrKO0vBuIJB0FGHPSAysyFmhHvwHCegYCBiDBk/cLA\n",
       "8wHiZQZfoHNY1dm/QhU9hMZy/AWGl7wNxLqQ9S8D34QbDAzngOxmYJxwb2A3gEq5QQ3kFODRZgGL\n",
       "vAMjVAPjJ6CZOJHh0AZgkG8EMvkKGBj4FzDConoR1EDWRPc2cRC7zvhpnf1DqOwaKM20Ac3AMJGK\n",
       "RKBBGjALG/iOQgsYpgIsOYXoAlEBloEb6tcg8jf5BoJLFnA633PRByb4AoiFyTSwD5tgHCjdXyDP\n",
       "wKdYwwHobI5tZJnI08AAAFXKfVf7EX9zAAAAAElFTkSuQmCC\n",
       "\" style=\"display:inline;vertical-align:middle;\" /></a><br>"
      ],
      "text/plain": [
       "true_condition_reduction: forall_{a} ({a if TRUE. = a)"
      ]
     },
     "execution_count": 4,
     "metadata": {},
     "output_type": "execute_result"
    }
   ],
   "source": [
    "true_condition_reduction = Forall(a, Equals(Conditional(a, TRUE), a))"
   ]
  },
  {
   "cell_type": "code",
   "execution_count": 5,
   "metadata": {},
   "outputs": [
    {
     "name": "stdout",
     "output_type": "stream",
     "text": [
      "Axioms may be imported from autogenerated _axioms_.py\n"
     ]
    }
   ],
   "source": [
    "%end axioms"
   ]
  }
 ],
 "metadata": {
  "kernelspec": {
   "display_name": "Python 3",
   "language": "python",
   "name": "python3"
  },
  "language_info": {
   "codemirror_mode": {
    "name": "ipython",
    "version": 3
   },
   "file_extension": ".py",
   "mimetype": "text/x-python",
   "name": "python",
   "nbconvert_exporter": "python",
   "pygments_lexer": "ipython3",
   "version": "3.7.4"
  }
 },
 "nbformat": 4,
 "nbformat_minor": 1
}
