{
 "cells": [
  {
   "cell_type": "markdown",
   "metadata": {},
   "source": [
    "Context: <a class=\"ProveItLink\" href=\"../_context_.ipynb\">proveit</a>.core_expr_types\n",
    "========\n",
    "\n",
    "Provide description here."
   ]
  },
  {
   "cell_type": "code",
   "execution_count": 1,
   "metadata": {},
   "outputs": [
    {
     "data": {
      "text/html": [
       "<table><tr>\n",
       "<th><a class=\"ProveItLink\" href=\"_common_.ipynb\">common expressions</a></th>\n",
       "<th><a class=\"ProveItLink\" href=\"_axioms_.ipynb\">axioms</a></th>\n",
       "<th><a class=\"ProveItLink\" href=\"_theorems_.ipynb\">theorems</a></th>\n",
       "<th><a class=\"ProveItLink\" href=\"_demonstrations_.ipynb\">demonstrations</a></th>\n",
       "</tr></table>\n",
       "<table>\n",
       "<tr><th><a class=\"ProveItLink\" href=\"operations\\_context_.ipynb\">operations</a></th><td>theory pertaining to Operation expressions</td></tr>\n",
       "<tr><th><a class=\"ProveItLink\" href=\"conditionals\\_context_.ipynb\">conditionals</a></th><td>theory pertaining to Conditional expressions</td></tr>\n",
       "<tr><th><a class=\"ProveItLink\" href=\"lambda_maps\\_context_.ipynb\">lambda_maps</a></th><td>theory pertaining to Lambda expressions</td></tr>\n",
       "<tr><th><a class=\"ProveItLink\" href=\"tuples\\_context_.ipynb\">tuples</a></th><td>theory pertaining to ExprTuple and ExprRange types</td></tr>\n",
       "</table>\n"
      ],
      "text/plain": [
       "<IPython.core.display.HTML object>"
      ]
     },
     "metadata": {},
     "output_type": "display_data"
    }
   ],
   "source": [
    "import proveit\n",
    "%context # toggles between interactive and static modes"
   ]
  },
  {
   "cell_type": "code",
   "execution_count": null,
   "metadata": {},
   "outputs": [],
   "source": []
  }
 ],
 "metadata": {
  "kernelspec": {
   "display_name": "Python 3",
   "language": "python",
   "name": "python3"
  },
  "language_info": {
   "codemirror_mode": {
    "name": "ipython",
    "version": 3
   },
   "file_extension": ".py",
   "mimetype": "text/x-python",
   "name": "python",
   "nbconvert_exporter": "python",
   "pygments_lexer": "ipython3",
   "version": "3.7.4"
  }
 },
 "nbformat": 4,
 "nbformat_minor": 1
}
