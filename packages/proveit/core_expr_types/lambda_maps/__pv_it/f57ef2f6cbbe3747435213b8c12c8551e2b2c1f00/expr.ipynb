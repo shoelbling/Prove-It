{
 "cells": [
  {
   "cell_type": "markdown",
   "metadata": {},
   "source": [
    "Expression of type <a class=\"ProveItLink\" href=\"../../../../../../doc/html/api/proveit.Lambda.html\">Lambda</a>\n",
    "=======================\n",
    "# from context <a class=\"ProveItLink\" href=\"../../_context_.ipynb\">proveit.core_expr_types.lambda_maps</a>"
   ]
  },
  {
   "cell_type": "code",
   "execution_count": 1,
   "metadata": {},
   "outputs": [],
   "source": [
    "import proveit\n",
    "# Automation is not needed when building an expression:\n",
    "proveit.defaults.automation = False # This will speed things up.\n",
    "# import Expression classes needed to build the expression\n",
    "from proveit import Conditional, Lambda\n",
    "from proveit.core_expr_types._common_ import Q__c_1_to_i, c_1_to_i, g__c_1_to_i"
   ]
  },
  {
   "cell_type": "code",
   "execution_count": 2,
   "metadata": {},
   "outputs": [
    {
     "data": {
      "text/html": [
       "<strong id=\"expr\">expr:</strong> <a class=\"ProveItLink\" href=\"../b02ab732dc613d7aef468bc881a5fde359c0c4690/expr.ipynb\"><img src=\"data:image/png;base64,iVBORw0KGgoAAAANSUhEUgAAAZMAAAAVCAMAAAC0XPMiAAAANlBMVEX///8WFhYNDQ3MzMxUVFRE\n",
       "REQiIiK6uroQEBCYmJhmZmYyMjLu7u52dnaqqqqIiIjc3NwAAACgirQNAAAAAXRSTlMAQObYZgAA\n",
       "AAlwSFlzAAAOxAAADsQBlSsOGwAAAztJREFUaN7NmemCoyAMgN3lvuH9X3ZQEZSjg1rY5UdLnUz4\n",
       "TEgIsCy+2eX77ZZOSch7JSPAZhBVVRo94NWJ6Zc1Qsv/AYwZ8hupngOk1TKi9eNrJ+vPJ4FZyrZv\n",
       "oYE7O8UqrhRkw4lKS0mxjGlCdgoqXE9os8CI41uU4MXC05+UAOsXFMOJCktxNujVGX/nk3lgu0kg\n",
       "vM4IFHqUjyYqgOgyqtF6oBjb55PZYPBiGRGhoBtOlAERMezVBbtOxCMp8y6fTAFr+oQ7EPGO7jii\n",
       "DIjHZUsZo8AbzbkCFZPB1ei46RPNjbFsIti2lAvqfwNIacpe1qGTe8hooitQdJHFfvXn6EWZHRXI\n",
       "kJyYqHtBZ6NwEVfVtQhCE8ECHszXE+5SLSScHU2UAeEwOF4nAfWlsmTPQjQq8JMg2B43IsOgczKz\n",
       "jp1rYmcmgu0NFT7BLi560tHhpsqAKAkTI5gJGIOfjMPLTQaIi+PfP/jSXNoHAIiP/hYh4LDGFLCW\n",
       "T1ySYMeUGUiUAYWBaApF/WggWsYyoY04IeK0NZM8lOdgyxeGzgRrxkkcSlIx3lQZkNB7gKp3AyUF\n",
       "xMDlc+4C2R5pN4mfkDb9mATW8slW/5KVgFM73lSZHrRntBCg5CzQsw+PMlGBkkdoMlT3ibDVuou5\n",
       "DZh9BywKfQRr+WSNWUOkWVhyyQeiW0AVogwolGF8K863+iwO5ER/JyqwMpqOx8O1y9EeaexP5Bon\n",
       "MObad2Cp9xEsGBulz6MModas/3s5bGkRVUa9Z6oT0CpGwmPlS2YjL4GEcQDChxUrHRxteChAxwC4\n",
       "frDNQWN/QqBRPIbUS7Ak9BsYQJQi6T8dOvkKQKTUtoKA34mSFZ6Z6gy0yuPcRCm56Y6YLGR8PIJQ\n",
       "hT8470o2fQtWCN0HW5BfQYzsIHoEFIkKoOIALL16z8l0IaNFeNZ9Yrf7BKxpAqQjjbdghdB9sHWh\n",
       "OW9w20SPgCJRCYQukWyVcCG9yY5rqVJGwv2Q0XZvdPfyF1K5SGG+BVYK3QfzOwnnQAfRM6CDqAIk\n",
       "W4w906ktg3qvT/wWQG9LP1OcfA2sLdQPtgBKdQ/R94HsiGsBduPm2nJYvZT852BTiAqgH4QtLR7Q\n",
       "mZrSAAAAAElFTkSuQmCC\n",
       "\" style=\"display:inline;vertical-align:middle;\" /></a><br>"
      ],
      "text/plain": [
       "expr: (c_{1},...,c_{i}) -> {g(c_{1} ,  ...  , c_{i}) if Q(c_{1} ,  ...  , c_{i})."
      ]
     },
     "execution_count": 2,
     "metadata": {},
     "output_type": "execute_result"
    }
   ],
   "source": [
    "# build up the expression from sub-expressions\n",
    "expr = Lambda(c_1_to_i, Conditional(g__c_1_to_i, Q__c_1_to_i))"
   ]
  },
  {
   "cell_type": "code",
   "execution_count": 3,
   "metadata": {},
   "outputs": [
    {
     "name": "stdout",
     "output_type": "stream",
     "text": [
      "Passed sanity check: built 'expr' is the same as the stored Expression.\n"
     ]
    }
   ],
   "source": [
    "# check that the built expression is the same as the stored expression\n",
    "%check_expr"
   ]
  },
  {
   "cell_type": "code",
   "execution_count": 4,
   "metadata": {},
   "outputs": [
    {
     "name": "stdout",
     "output_type": "stream",
     "text": [
      "\\left(c_{1},\\ldots,c_{i}\\right) \\mapsto \\left\\{g\\left(c_{1} , \\ldots , c_{i}\\right) \\textrm{ if } Q\\left(c_{1} , \\ldots , c_{i}\\right)\\right..\n"
     ]
    }
   ],
   "source": [
    "# Show the LaTeX representation of the expression for convenience if you need it.\n",
    "print(expr.latex())"
   ]
  },
  {
   "cell_type": "code",
   "execution_count": 5,
   "metadata": {},
   "outputs": [
    {
     "data": {
      "text/html": [
       "<table><tr><th>&nbsp;</th><th>core type</th><th>sub-expressions</th><th>expression</th></tr>\n",
       "<tr><td>0</td><td>Lambda</td><td>parameter:&nbsp;7<br>body:&nbsp;1<br></td><td><a class=\"ProveItLink\" href=\"../b02ab732dc613d7aef468bc881a5fde359c0c4690/expr.ipynb\"><img src=\"data:image/png;base64,iVBORw0KGgoAAAANSUhEUgAAAZMAAAAVCAMAAAC0XPMiAAAANlBMVEX///8WFhYNDQ3MzMxUVFRE\n",
       "REQiIiK6uroQEBCYmJhmZmYyMjLu7u52dnaqqqqIiIjc3NwAAACgirQNAAAAAXRSTlMAQObYZgAA\n",
       "AAlwSFlzAAAOxAAADsQBlSsOGwAAAztJREFUaN7NmemCoyAMgN3lvuH9X3ZQEZSjg1rY5UdLnUz4\n",
       "TEgIsCy+2eX77ZZOSch7JSPAZhBVVRo94NWJ6Zc1Qsv/AYwZ8hupngOk1TKi9eNrJ+vPJ4FZyrZv\n",
       "oYE7O8UqrhRkw4lKS0mxjGlCdgoqXE9os8CI41uU4MXC05+UAOsXFMOJCktxNujVGX/nk3lgu0kg\n",
       "vM4IFHqUjyYqgOgyqtF6oBjb55PZYPBiGRGhoBtOlAERMezVBbtOxCMp8y6fTAFr+oQ7EPGO7jii\n",
       "DIjHZUsZo8AbzbkCFZPB1ei46RPNjbFsIti2lAvqfwNIacpe1qGTe8hooitQdJHFfvXn6EWZHRXI\n",
       "kJyYqHtBZ6NwEVfVtQhCE8ECHszXE+5SLSScHU2UAeEwOF4nAfWlsmTPQjQq8JMg2B43IsOgczKz\n",
       "jp1rYmcmgu0NFT7BLi560tHhpsqAKAkTI5gJGIOfjMPLTQaIi+PfP/jSXNoHAIiP/hYh4LDGFLCW\n",
       "T1ySYMeUGUiUAYWBaApF/WggWsYyoY04IeK0NZM8lOdgyxeGzgRrxkkcSlIx3lQZkNB7gKp3AyUF\n",
       "xMDlc+4C2R5pN4mfkDb9mATW8slW/5KVgFM73lSZHrRntBCg5CzQsw+PMlGBkkdoMlT3ibDVuou5\n",
       "DZh9BywKfQRr+WSNWUOkWVhyyQeiW0AVogwolGF8K863+iwO5ER/JyqwMpqOx8O1y9EeaexP5Bon\n",
       "MObad2Cp9xEsGBulz6MModas/3s5bGkRVUa9Z6oT0CpGwmPlS2YjL4GEcQDChxUrHRxteChAxwC4\n",
       "frDNQWN/QqBRPIbUS7Ak9BsYQJQi6T8dOvkKQKTUtoKA34mSFZ6Z6gy0yuPcRCm56Y6YLGR8PIJQ\n",
       "hT8470o2fQtWCN0HW5BfQYzsIHoEFIkKoOIALL16z8l0IaNFeNZ9Yrf7BKxpAqQjjbdghdB9sHWh\n",
       "OW9w20SPgCJRCYQukWyVcCG9yY5rqVJGwv2Q0XZvdPfyF1K5SGG+BVYK3QfzOwnnQAfRM6CDqAIk\n",
       "W4w906ktg3qvT/wWQG9LP1OcfA2sLdQPtgBKdQ/R94HsiGsBduPm2nJYvZT852BTiAqgH4QtLR7Q\n",
       "mZrSAAAAAElFTkSuQmCC\n",
       "\" style=\"display:inline;vertical-align:middle;\" /></a></td></tr>\n",
       "<tr><td>1</td><td>Conditional</td><td>value:&nbsp;2<br>condition:&nbsp;3<br></td><td><a class=\"ProveItLink\" href=\"../c156475ad61ec34f12bc5d9be4a78fde3f295acc0/expr.ipynb\"><img src=\"data:image/png;base64,iVBORw0KGgoAAAANSUhEUgAAARMAAAAVBAMAAACXqRciAAAAMFBMVEX///8QEBBERERUVFTMzMyY\n",
       "mJjc3NxmZmYiIiJ2dnaqqqoyMjKIiIi6urru7u4AAAAvZeGPAAAAAXRSTlMAQObYZgAAAAlwSFlz\n",
       "AAAOxAAADsQBlSsOGwAAApRJREFUSMells9rE0EUx7/N702yY1KxgogGPQlFCiKClDa0f0ByUg9C\n",
       "14MoCNYflB4UUlCwCGqEQpAILuLBU8nRg2hE8KAR8gcorAdPFqJQKSKmzpvdaTa7myWZLuHt23k7\n",
       "n/3OmzczAcC+YudKYNjLCA+rgT6t9/yPQxO+9D2db3vCSqB01+VXhyZkTTn+fUDmxT/brz05qQwC\n",
       "tJVe8w8Mf71x7voWcC4xI/x6EdGGKqhfytIIhLPSsYATzkgK3OxXBvVJyY1AGLN6/in79orMrDrI\n",
       "JUVvjEDIlL1SkptknxWVQUJK+vYH3pCkYtNaa6E9ZVybsp+v7MV8XszQIs0PKm1FEO9GI6jjQsHW\n",
       "l7iPG6EbBsUZ3wzicuR3ZK1UxFp4a6iCsFgWC3pPE0hxVqqKg/g+OMEirvGX03Jij0opj2i3Yr+g\n",
       "Cpp/QJVTQIlzxnhuK7yIYq2VgYSKLLLYT6+UbTLx31AFsVu8qWTinUMYFzvUYML4To3nvFJWyXxr\n",
       "KIMQ4VWzYBAQGRPsTzhBxPX3CJqgWegmrhvKILGCFsAorxE+c/yuiyjzd6eUUlzrcC9e8EopmZ83\n",
       "4hNQBgkpHSPadZbVMrAmCB3KNBn21+1Q/OpLWnlNB3BE/Og0mWgmb1oIAomuoSBqJyn6dI2ypHOj\n",
       "PW1ZgpB6SGV+jZt70lm1nPgktTin+1z++NzhSXsJHHvcRjEQRIxQELXbu614A3flCU1t6768pp2i\n",
       "Z13+vctBFRAxs5Y6iEuJzaBUdJ9MguA/5zUZblQHnHiRqedQB2VziB5ir22SnfREfasJ1vQRNmT1\n",
       "TxtIFIKkJLc3dwFiB6Av1ex/YczFj/s/VHaP3wqSEsubuwFdOt3zLw59np4JDyuA/gPLH98QGrKS\n",
       "9wAAAABJRU5ErkJggg==\n",
       "\" style=\"display:inline;vertical-align:middle;\" /></a></td></tr>\n",
       "<tr><td>2</td><td>Operation</td><td>operator:&nbsp;4<br>operands:&nbsp;6<br></td><td><a class=\"ProveItLink\" href=\"../../../__pv_it/e14e27231dc40f19a6dc189d27bece9518c3c6120/expr.ipynb\"><img src=\"data:image/png;base64,iVBORw0KGgoAAAANSUhEUgAAAG0AAAAVBAMAAAC+p33JAAAAMFBMVEX///8iIiK6urpUVFTMzMzu\n",
       "7u5EREQQEBAyMjJ2dnaYmJjc3NyIiIhmZmaqqqoAAABI0TZoAAAAAXRSTlMAQObYZgAAAAlwSFlz\n",
       "AAAOxAAADsQBlSsOGwAAAX1JREFUOMuVUzFLw1AQ/lryoklqqaBjRXBV6OYiKPgH3lhEaH6AQ6ZM\n",
       "DlncM3RwcOgqItTBpVPASQiiDg6CtA6OYgcFtSreuyRtSmhJH+Rxd999yd13OWB4LOQ97THvJjdv\n",
       "Pe2U/dy8Ui/l1JH/HKXsxxl45ynbmYE3J4dm0ZuBN9+i6zXs0L2gZDHC5tT8BDdq9HiWG7/CWsHD\n",
       "NBrjgqZnUnFvEj8UK5C2BR+H2JtcMONGQDOrAC60gWp1FehSu1pYmcjrJnJofWh/KDkxz+X5T+a5\n",
       "QxEdmAPoNdVfD+JrOo/x4lWUY/bRUKrqVPY3hZknsiRVosKNBlmmDTHAtoylfQKazGuQNuITkTHy\n",
       "FH75rIZGH1m7vuOSKd04CSXzCssUqSoFb5NrUcb4gYrwJlW5kKVkL1R/L5k6y7GW4mMHuAB2pfY+\n",
       "9q8yL7tTRgJ7Pu/ApqwHHNCjLbaOfwOIIMPbT0TdasOygY3T+zhgj5LMrJ6tlK3LNNLJvQ5nwD/D\n",
       "QVZ9aDe8JAAAAABJRU5ErkJggg==\n",
       "\" style=\"display:inline;vertical-align:middle;\" /></a></td></tr>\n",
       "<tr><td>3</td><td>Operation</td><td>operator:&nbsp;5<br>operands:&nbsp;6<br></td><td><a class=\"ProveItLink\" href=\"../../../__pv_it/214f99766e3b50cdfe2796c3905fbe6bdd98977b0/expr.ipynb\"><img src=\"data:image/png;base64,iVBORw0KGgoAAAANSUhEUgAAAHEAAAAVBAMAAACDNRyvAAAAMFBMVEX///+IiIiqqqq6uroiIiIQ\n",
       "EBBERETu7u7MzMwyMjKYmJhUVFRmZmZ2dnbc3NwAAABtgPhfAAAAAXRSTlMAQObYZgAAAAlwSFlz\n",
       "AAAOxAAADsQBlSsOGwAAAblJREFUOMuVVL9Lw0AU/mrTXo1JTVFwECGD6CRUcHGTUnBRVEQnKfUP\n",
       "UNpBwalxdjCIILi0qyBSVxfroIM/aDsIFS12KDiJLlIVpL67tBANLenBe+8jd9/dd++9C2AbFbgd\n",
       "/1Z6dNfMceGDT+UzAcZcExuHPBjoMSky0z0TB2RbcXIrZEqmA+Yx2T4H52S+DojwJaB8cvBsAJOd\n",
       "MLszeONikQ8DdxwUh4y2DDVUsmIWeZGlNBXokGJVV+LtiMEIrsBosWxijheVfZCLkM3Cp7Gj1kyp\n",
       "gAWoGtA1hTr/IH+TW6T01ihu97dm5hMNEHhHlMcN02L6hNTh1szlJvDOUz28Oi655D0gVWjPZD+c\n",
       "NAihdlfvS8ox/nkV6KVmCAsmc9K4ULqVV00RkuPwxDTlRqh/pHvmoBqCmSL97MsOhLsFSi98XqEs\n",
       "7azdh8GLOEFWDg1YaqVpcjMc5BoAUdpfLYYSXBwk8c78uocfKjV7QNxz1KG2q5FXVqOFVQH92RFR\n",
       "mpydWXC2T3MHk+auBVTqonexbs28pi9oY83BTDYTfFpB0Oq0wJL1M9i0LZOdubU/Qn/ib1O6f6An\n",
       "wC+82l9FwH7JZwAAAABJRU5ErkJggg==\n",
       "\" style=\"display:inline;vertical-align:middle;\" /></a></td></tr>\n",
       "<tr><td>4</td><td>Variable</td><td></td><td><a class=\"ProveItLink\" href=\"../../../__pv_it/ee4ad292e488e3f95383e0f20138837b9e0a20550/expr.ipynb\"><img src=\"data:image/png;base64,iVBORw0KGgoAAAANSUhEUgAAAAoAAAANBAMAAABiGeI2AAAAMFBMVEX///8iIiK6urpUVFTMzMzu\n",
       "7u5EREQQEBAyMjJ2dnaYmJjc3NyIiIhmZmaqqqoAAABI0TZoAAAAAXRSTlMAQObYZgAAAAlwSFlz\n",
       "AAAOxAAADsQBlSsOGwAAAFVJREFUCNdjYGB4e2YXAwNnA3cZA8P7AIY/DAxlDCy/GVj+MfAUMHD9\n",
       "ZmAzYOD6wBC/gIH1N4N9AAOD8smLDCAgy8DgHMDyhYHBPCDiAAOD7spLDAwAOfYUG4v1KsgAAAAA\n",
       "SUVORK5CYII=\n",
       "\" style=\"display:inline;vertical-align:middle;\" /></a></td></tr>\n",
       "<tr><td>5</td><td>Variable</td><td></td><td><a class=\"ProveItLink\" href=\"../../../__pv_it/dbe7145e53d9411a5ba89652cbfea9d54e4b581a0/expr.ipynb\"><img src=\"data:image/png;base64,iVBORw0KGgoAAAANSUhEUgAAAA8AAAASBAMAAAB2sJk8AAAAMFBMVEX///+IiIiqqqq6uroiIiIQ\n",
       "EBBERETu7u7MzMwyMjKYmJhUVFRmZmZ2dnbc3NwAAABtgPhfAAAAAXRSTlMAQObYZgAAAAlwSFlz\n",
       "AAAOxAAADsQBlSsOGwAAAIJJREFUCNdjYGDgu3N3FwMI3Gxg4J4ApCsTgEQMEE8Bie5nYOD5AWLc\n",
       "b2B4D5JhOG/AcF4BxJj/gMH/AZBm/8rA8B8kwPWLgcEFxCidANLIrMBwFCjfryBcyBUHFGWME+A5\n",
       "XQCS7869asDQALaVTYGxAMLYoAamGXj+/4AwOEKB1gAAAV0f3CdXaksAAAAASUVORK5CYII=\n",
       "\" style=\"display:inline;vertical-align:middle;\" /></a></td></tr>\n",
       "<tr><td>6</td><td>ExprTuple</td><td>7</td><td><a class=\"ProveItLink\" href=\"../../../__pv_it/58bb65c04b2e5ab868b24e4549d3f21493b541960/expr.ipynb\"><img src=\"data:image/png;base64,iVBORw0KGgoAAAANSUhEUgAAAF0AAAAVBAMAAADWVP/xAAAAMFBMVEX////MzMxUVFREREQiIiK6\n",
       "uroQEBCYmJhmZmYyMjLu7u52dnaqqqqIiIjc3NwAAACFAiZ1AAAAAXRSTlMAQObYZgAAAAlwSFlz\n",
       "AAAOxAAADsQBlSsOGwAAATRJREFUKM9jYGB4wEAsAKvkPUC0+lgQcZpo5WCjuSYQr55hFgMDRwEJ\n",
       "6isYGNhIUM7AtoAhkhT1nAUM3SCa++5GvOpg8twKDNOBFJ8PQzM+5WB5LmDos09g8AHyWTYw5DIs\n",
       "xx1QYHnuCwwMPA4MqUB+/wIGBsa7DjjVg+TBgPEDWH0yiM2DW30yjMGawDAHGGW/8asHy7Negqix\n",
       "BVLfgVywei5MxQug8tzrgSx2A4ZNQH4HA8NGsPr1QD9z/WSAMBA8kPyrI0AGxwWGEFCw7r27AKye\n",
       "xQvI8wCFSAOMcFkAlQc5hOUBA4sA1GKw+09huIcHGjZcv4AKnwCd1ICsfgNm1MKkJwDl2oEMO2gc\n",
       "7vxxgYHrAob6tbBA0n3AwGcAZCxGkmTHDB/k5M4Mchsf8RmgjoEBALAgSGFj0ZqnAAAAAElFTkSu\n",
       "QmCC\n",
       "\" style=\"display:inline;vertical-align:middle;\" /></a></td></tr>\n",
       "<tr><td>7</td><td>ExprRange</td><td>lambda_map:&nbsp;8<br>start_index:&nbsp;9<br>end_index:&nbsp;10<br></td><td><a class=\"ProveItLink\" href=\"../../../__pv_it/081cf9f39c0802af2bbc75d2f58168819d03bf1d0/expr.ipynb\"><img src=\"data:image/png;base64,iVBORw0KGgoAAAANSUhEUgAAAE8AAAANBAMAAAAaii7SAAAAMFBMVEX///9UVFQyMjK6urqYmJju\n",
       "7u4QEBBERERmZmaqqqoiIiLc3NzMzMyIiIh2dnYAAAAoX9D3AAAAAXRSTlMAQObYZgAAAAlwSFlz\n",
       "AAAOxAAADsQBlSsOGwAAALZJREFUKM9jYGB4e+8AAz4Ak981gaMAnzqwfDSQsY6B7QKrE26FIHmG\n",
       "twwMHF+BnLO3cKoDy4MAG9jeWTgVssHcFf8Av0KwvK0AAwO/AwODAVhhAIYiVgao/FOg/RwNDHwH\n",
       "QApZP4H0K0AZcB5I/nTkAiDv3d2rEKtXAY3kagAyVjBACa6lUHn2CzBLQAo5Me2eCnNoDLJCPkyf\n",
       "PIDSk2By+/R7GRhiMT0DszHwNrKwA4ZCFiQ2AKsgNG0b9G6AAAAAAElFTkSuQmCC\n",
       "\" style=\"display:inline;vertical-align:middle;\" /></a></td></tr>\n",
       "<tr><td>8</td><td>Lambda</td><td>parameter:&nbsp;13<br>body:&nbsp;11<br></td><td><a class=\"ProveItLink\" href=\"../../../__pv_it/b7d044f706ce9dfee4503d406978f3241b57101d0/expr.ipynb\"><img src=\"data:image/png;base64,iVBORw0KGgoAAAANSUhEUgAAAD0AAAAOCAMAAACrUuTYAAAANlBMVEX///8WFhYNDQ3MzMxUVFQy\n",
       "MjKqqqoiIiKYmJju7u5EREQQEBC6urqIiIh2dnZmZmbc3NwAAADRPqZpAAAAAXRSTlMAQObYZgAA\n",
       "AAlwSFlzAAAOxAAADsQBlSsOGwAAAMxJREFUKM+dUtEOwyAIZLMqqIj+/88ObZpJ021Z78EInh4e\n",
       "AHwFN/gPtAZBfvKbVG58RNGcxRO3Mle3JkrW8lKnS35IRicGAFlTlFFXiR/UOC1fiVWXzMuxTNWZ\n",
       "n3g+okHvxVIN8iiE3pSTdvHFUq3Ffahi/+CT83Si7ltBrm2k1AhIHkK7uu3XhnfcywGKDtz8hlcT\n",
       "MAoc7xZTt+m3zEg7NjYuzyI27WDb2F2Ngths1XazSg6XeIN7oD4mBInuXdf5cr3gTfEiGLgivAAI\n",
       "3AdgjYgidAAAAABJRU5ErkJggg==\n",
       "\" style=\"display:inline;vertical-align:middle;\" /></a></td></tr>\n",
       "<tr><td>9</td><td>Literal</td><td></td><td><a class=\"ProveItLink\" href=\"../../../../number/numeral/__pv_it/f086f8c372bd40a2458306ddfdbb29f3dc6f63030/expr.ipynb\"><img src=\"data:image/png;base64,iVBORw0KGgoAAAANSUhEUgAAAAgAAAAOBAMAAADgeEClAAAAIVBMVEX///8QEBBERESIiIgyMjJm\n",
       "ZmZUVFTu7u4iIiLMzMwAAAAWRytzAAAAAXRSTlMAQObYZgAAAAlwSFlzAAAOxAAADsQBlSsOGwAA\n",
       "ABtJREFUCNdjYOBsZ2AoC1nOwMDATBbBprgiGQBsuwqCZsDj4wAAAABJRU5ErkJggg==\n",
       "\" style=\"display:inline;vertical-align:middle;\" /></a></td></tr>\n",
       "<tr><td>10</td><td>Variable</td><td></td><td><a class=\"ProveItLink\" href=\"../../../__pv_it/557ab5defdcd46aa58168b08767502985122cd490/expr.ipynb\"><img src=\"data:image/png;base64,iVBORw0KGgoAAAANSUhEUgAAAAcAAAAOBAMAAAARcxsoAAAALVBMVEX///9ERESYmJhUVFQyMjKq\n",
       "qqrc3NwQEBC6urru7u52dnYiIiJmZmaIiIgAAAD/UVazAAAAAXRSTlMAQObYZgAAAAlwSFlzAAAO\n",
       "xAAADsQBlSsOGwAAADlJREFUCNdjYGC4wwAEuxjQAeedCwwMXBwFDAypPA4MDBP4gFyGuAlAwhkk\n",
       "+5SLgYHjQRKQKavAAAAx5QmdfgFqMAAAAABJRU5ErkJggg==\n",
       "\" style=\"display:inline;vertical-align:middle;\" /></a></td></tr>\n",
       "<tr><td>11</td><td>IndexedVar</td><td>variable:&nbsp;12<br>index:&nbsp;13<br></td><td><a class=\"ProveItLink\" href=\"../../../__pv_it/180ecdc68f16bd3e9260cef5d2773f3cf1f4d5480/expr.ipynb\"><img src=\"data:image/png;base64,iVBORw0KGgoAAAANSUhEUgAAABIAAAAMBAMAAACdPPCPAAAALVBMVEX///9UVFS6urqYmJju7u4Q\n",
       "EBBERERmZmaqqqoiIiLc3NzMzMyIiIh2dnYAAAC/g6wNAAAAAXRSTlMAQObYZgAAAAlwSFlzAAAO\n",
       "xAAADsQBlSsOGwAAAF1JREFUCNdjYGC4c3YDAxisbGBPgLDmMrAeADPYnzBAAWsCjOV3AUiwFJ9d\n",
       "wMBnwMCg4LlhnwMDewED74Zyhq1AmbtnjjA8YjgIUcvyiiHZBcKM4n5kAGGpW5w1AAAeBhbL5icH\n",
       "EgAAAABJRU5ErkJggg==\n",
       "\" style=\"display:inline;vertical-align:middle;\" /></a></td></tr>\n",
       "<tr><td>12</td><td>Variable</td><td></td><td><a class=\"ProveItLink\" href=\"../../../__pv_it/b2b446b221a34ee579eb9a1fbdd4ac4e2891d8c70/expr.ipynb\"><img src=\"data:image/png;base64,iVBORw0KGgoAAAANSUhEUgAAAAkAAAAJBAMAAAASvxsjAAAAKlBMVEX///+6urqYmJju7u4QEBBE\n",
       "RERmZmaqqqoiIiLc3NzMzMyIiIh2dnYAAACSkFDuAAAAAXRSTlMAQObYZgAAAAlwSFlzAAAOxAAA\n",
       "DsQBlSsOGwAAADhJREFUCNdjYGA4vWcBA8OMArYABoYeBpYNDGyXGYCAJQBE2h4AkbwKDAwCDGwJ\n",
       "DDxAlWd2b2YAACirCnk+94p2AAAAAElFTkSuQmCC\n",
       "\" style=\"display:inline;vertical-align:middle;\" /></a></td></tr>\n",
       "<tr><td>13</td><td>Variable</td><td></td><td><a class=\"ProveItLink\" href=\"../../../__pv_it/a8d4b3a34d2189508f9082853fbac36935714f280/expr.ipynb\"><img src=\"data:image/png;base64,iVBORw0KGgoAAAANSUhEUgAAAAsAAAAJBAMAAAAWSsseAAAAMFBMVEX////MzMxUVFQyMjKqqqoi\n",
       "IiKYmJju7u5EREQQEBC6urqIiIh2dnZmZmbc3NwAAAD0tjQRAAAAAXRSTlMAQObYZgAAAAlwSFlz\n",
       "AAAOxAAADsQBlSsOGwAAAEdJREFUCNdjYOC7s28DAwPDygcc3xkY2Kcx8AYwMPB+Z2A9wMDA2cBQ\n",
       "v4CBof4AQz5QRb0DQzPLAwbmDWyxPECV2gcfbWQAABp5EMgcedARAAAAAElFTkSuQmCC\n",
       "\" style=\"display:inline;vertical-align:middle;\" /></a></td></tr>\n",
       "</table>\n"
      ],
      "text/plain": [
       "0. (c_{1},...,c_{i}) -> {g(c_{1} ,  ...  , c_{i}) if Q(c_{1} ,  ...  , c_{i}).\n",
       "   core type: Lambda\n",
       "   parameter: 7\n",
       "   body: 1\n",
       "1. {g(c_{1} ,  ...  , c_{i}) if Q(c_{1} ,  ...  , c_{i}).\n",
       "   core type: Conditional\n",
       "   value: 2\n",
       "   condition: 3\n",
       "2. g(c_{1} ,  ...  , c_{i})\n",
       "   core type: Operation\n",
       "   operator: 4\n",
       "   operands: 6\n",
       "3. Q(c_{1} ,  ...  , c_{i})\n",
       "   core type: Operation\n",
       "   operator: 5\n",
       "   operands: 6\n",
       "4. g\n",
       "   core type: Variable\n",
       "   sub-expressions: \n",
       "5. Q\n",
       "   core type: Variable\n",
       "   sub-expressions: \n",
       "6. (c_{1} ,  ...  , c_{i})\n",
       "   core type: ExprTuple\n",
       "   sub-expressions: 7\n",
       "7. c_{1},...,c_{i}\n",
       "   core type: ExprRange\n",
       "   lambda_map: 8\n",
       "   start_index: 9\n",
       "   end_index: 10\n",
       "8. a -> c_{a}\n",
       "   core type: Lambda\n",
       "   parameter: 13\n",
       "   body: 11\n",
       "9. 1\n",
       "   core type: Literal\n",
       "   sub-expressions: \n",
       "10. i\n",
       "    core type: Variable\n",
       "    sub-expressions: \n",
       "11. c_{a}\n",
       "    core type: IndexedVar\n",
       "variable: 12\n",
       "index: 13\n",
       "12. c\n",
       "    core type: Variable\n",
       "    sub-expressions: \n",
       "13. a\n",
       "    core type: Variable\n",
       "    sub-expressions: "
      ]
     },
     "execution_count": 5,
     "metadata": {},
     "output_type": "execute_result"
    }
   ],
   "source": [
    "# display the expression information\n",
    "expr.exprInfo()"
   ]
  },
  {
   "cell_type": "code",
   "execution_count": null,
   "metadata": {},
   "outputs": [],
   "source": []
  }
 ],
 "metadata": {
  "kernelspec": {
   "display_name": "Python 3",
   "language": "python",
   "name": "python3"
  },
  "language_info": {
   "codemirror_mode": {
    "name": "ipython",
    "version": 3
   },
   "file_extension": ".py",
   "mimetype": "text/x-python",
   "name": "python",
   "nbconvert_exporter": "python",
   "pygments_lexer": "ipython3",
   "version": "3.7.4"
  }
 },
 "nbformat": 4,
 "nbformat_minor": 1
}
