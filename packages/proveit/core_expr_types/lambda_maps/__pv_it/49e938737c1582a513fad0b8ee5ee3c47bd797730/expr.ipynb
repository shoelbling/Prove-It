{
 "cells": [
  {
   "cell_type": "markdown",
   "metadata": {},
   "source": [
    "Expression of type <a class=\"ProveItLink\" href=\"../../../../../../doc/html/api/proveit.Lambda.html\">Lambda</a>\n",
    "=======================\n",
    "# from context <a class=\"ProveItLink\" href=\"../../_context_.ipynb\">proveit.core_expr_types.lambda_maps</a>"
   ]
  },
  {
   "cell_type": "code",
   "execution_count": 1,
   "metadata": {},
   "outputs": [],
   "source": [
    "import proveit\n",
    "# Automation is not needed when building an expression:\n",
    "proveit.defaults.automation = False # This will speed things up.\n",
    "# import Expression classes needed to build the expression\n",
    "from proveit import Conditional, Lambda\n",
    "from proveit.core_expr_types._common_ import Q__b_1_to_i, b_1_to_i, f__b_1_to_i"
   ]
  },
  {
   "cell_type": "code",
   "execution_count": 2,
   "metadata": {},
   "outputs": [
    {
     "data": {
      "text/html": [
       "<strong id=\"expr\">expr:</strong> <a class=\"ProveItLink\" href=\"expr.ipynb\"><img src=\"data:image/png;base64,iVBORw0KGgoAAAANSUhEUgAAAZQAAAAVCAMAAABWgOhbAAAANlBMVEX///8WFhYNDQ3MzMxUVFRE\n",
       "REQiIiK6uroQEBCYmJhmZmYyMjLu7u52dnaqqqqIiIjc3NwAAACgirQNAAAAAXRSTlMAQObYZgAA\n",
       "AAlwSFlzAAAOxAAADsQBlSsOGwAAAzBJREFUaN7FmenCqiAQhj2HHYbt/m/2U5FNI6mI+FFWDDy+\n",
       "AzMjLcva3DK8vTQkMDZimG+gzSB6OKQ14yditr+vVQYav3yB7BmasOyOdZJWRm+LlXD6ycAX+356\n",
       "40uXSK1hKFkHmuNif1cG+dIrTq80WPxAK1DhXcnP/H22V9BpqEtCjRE3g8lu0ZjfOwi6OFz8pBXa\n",
       "3rCar5U8VoL/cGOe7YV8xyncMAKDye7RwowY14uVRCY5XSseVwt8NM/VnrcShWs7pRplEFk3Gq6k\n",
       "UQkL+9laMfVgvb7RrvZKnFZijMuybVk5aBDZc7SWU6RHyT5eTtEqJNbja2yt/GBXXu11jgY1BG0h\n",
       "CsxpVmYU2XO0LZ8rvn5GmPMcwJwnhX/YRK0KH4Ffkw34t6vwwh6OQYRquMGQelmoItja4WQ3aIEP\n",
       "n3OKLMK+ipNP0WrnMUVdumkCZ+IX6tpdU30Ia2hrb1hSxDPnRXGNhpPdoO2NXJxCs+bg+Uyt9hTD\n",
       "8nIFrxdk7TsRM9nnhlJ+XP7/o1Xz6XEAYcpK3PFkN2gNp/jcQ6RVM0WrYqK9cmb7njXvTFTYp0TN\n",
       "WzuFqewIkEWRXlfHY8hu0Fo7JU0FXE3VKjzFhpUh9kAK706U7JmNt9YMX6h+ViL40eUwshu0hlP2\n",
       "MphtBJK7qVrtPCGqbfEEwmlD7NBVi8dOyV5DLMIFaThFuVaByG0X2Ui0hlPQupAtA7uI7JM5WhXF\n",
       "2HbCQ2TptbVGWO4u8lW0d5CUk1nh6piPNZ9TqjzfJhuKFtQm+TUWI9ytnaSszl36tXqG9hxo68aO\n",
       "YWWqnGNPSg8eGlW8XqRO2Z7E8WmjZpSo5ZQqzz8hG4yGCOcE1ldPCmchTLTeswi6J7oCPULrA9r6\n",
       "U3Su2OKtm55Nee607sgwoOsNt9kpsn6EapPNQlvIKp6FDqLBQJfDsDSR7pL0bK2Or6R4zSkGx0R6\n",
       "TzYLbUs25aPuPK1ItZedVj5EOOj5n+rSCXA4cHSk98ZtKAcpAdVJNg1trZF8leemaQUNxq7l1OxE\n",
       "ug9SIfyBIqx0nWTT0BbEufmNVq57N/c38cLJkJO4cbr3DbKX0H6j1R8bijPPJv/STAAAAABJRU5E\n",
       "rkJggg==\n",
       "\" style=\"display:inline;vertical-align:middle;\" /></a><br>"
      ],
      "text/plain": [
       "expr: (b_{1},...,b_{i}) -> {f(b_{1} ,  ...  , b_{i}) if Q(b_{1} ,  ...  , b_{i})."
      ]
     },
     "execution_count": 2,
     "metadata": {},
     "output_type": "execute_result"
    }
   ],
   "source": [
    "# build up the expression from sub-expressions\n",
    "expr = Lambda(b_1_to_i, Conditional(f__b_1_to_i, Q__b_1_to_i))"
   ]
  },
  {
   "cell_type": "code",
   "execution_count": 3,
   "metadata": {},
   "outputs": [
    {
     "name": "stdout",
     "output_type": "stream",
     "text": [
      "Passed sanity check: built 'expr' is the same as the stored Expression.\n"
     ]
    }
   ],
   "source": [
    "# check that the built expression is the same as the stored expression\n",
    "%check_expr"
   ]
  },
  {
   "cell_type": "code",
   "execution_count": 4,
   "metadata": {},
   "outputs": [
    {
     "name": "stdout",
     "output_type": "stream",
     "text": [
      "\\left(b_{1},\\ldots,b_{i}\\right) \\mapsto \\left\\{f\\left(b_{1} , \\ldots , b_{i}\\right) \\textrm{ if } Q\\left(b_{1} , \\ldots , b_{i}\\right)\\right..\n"
     ]
    }
   ],
   "source": [
    "# Show the LaTeX representation of the expression for convenience if you need it.\n",
    "print(expr.latex())"
   ]
  },
  {
   "cell_type": "code",
   "execution_count": 5,
   "metadata": {},
   "outputs": [
    {
     "data": {
      "text/html": [
       "<table><tr><th>&nbsp;</th><th>core type</th><th>sub-expressions</th><th>expression</th></tr>\n",
       "<tr><td>0</td><td>Lambda</td><td>parameter:&nbsp;7<br>body:&nbsp;1<br></td><td><a class=\"ProveItLink\" href=\"expr.ipynb\"><img src=\"data:image/png;base64,iVBORw0KGgoAAAANSUhEUgAAAZQAAAAVCAMAAABWgOhbAAAANlBMVEX///8WFhYNDQ3MzMxUVFRE\n",
       "REQiIiK6uroQEBCYmJhmZmYyMjLu7u52dnaqqqqIiIjc3NwAAACgirQNAAAAAXRSTlMAQObYZgAA\n",
       "AAlwSFlzAAAOxAAADsQBlSsOGwAAAzBJREFUaN7FmenCqiAQhj2HHYbt/m/2U5FNI6mI+FFWDDy+\n",
       "AzMjLcva3DK8vTQkMDZimG+gzSB6OKQ14yditr+vVQYav3yB7BmasOyOdZJWRm+LlXD6ycAX+356\n",
       "40uXSK1hKFkHmuNif1cG+dIrTq80WPxAK1DhXcnP/H22V9BpqEtCjRE3g8lu0ZjfOwi6OFz8pBXa\n",
       "3rCar5U8VoL/cGOe7YV8xyncMAKDye7RwowY14uVRCY5XSseVwt8NM/VnrcShWs7pRplEFk3Gq6k\n",
       "UQkL+9laMfVgvb7RrvZKnFZijMuybVk5aBDZc7SWU6RHyT5eTtEqJNbja2yt/GBXXu11jgY1BG0h\n",
       "CsxpVmYU2XO0LZ8rvn5GmPMcwJwnhX/YRK0KH4Ffkw34t6vwwh6OQYRquMGQelmoItja4WQ3aIEP\n",
       "n3OKLMK+ipNP0WrnMUVdumkCZ+IX6tpdU30Ia2hrb1hSxDPnRXGNhpPdoO2NXJxCs+bg+Uyt9hTD\n",
       "8nIFrxdk7TsRM9nnhlJ+XP7/o1Xz6XEAYcpK3PFkN2gNp/jcQ6RVM0WrYqK9cmb7njXvTFTYp0TN\n",
       "WzuFqewIkEWRXlfHY8hu0Fo7JU0FXE3VKjzFhpUh9kAK706U7JmNt9YMX6h+ViL40eUwshu0hlP2\n",
       "MphtBJK7qVrtPCGqbfEEwmlD7NBVi8dOyV5DLMIFaThFuVaByG0X2Ui0hlPQupAtA7uI7JM5WhXF\n",
       "2HbCQ2TptbVGWO4u8lW0d5CUk1nh6piPNZ9TqjzfJhuKFtQm+TUWI9ytnaSszl36tXqG9hxo68aO\n",
       "YWWqnGNPSg8eGlW8XqRO2Z7E8WmjZpSo5ZQqzz8hG4yGCOcE1ldPCmchTLTeswi6J7oCPULrA9r6\n",
       "U3Su2OKtm55Nee607sgwoOsNt9kpsn6EapPNQlvIKp6FDqLBQJfDsDSR7pL0bK2Or6R4zSkGx0R6\n",
       "TzYLbUs25aPuPK1ItZedVj5EOOj5n+rSCXA4cHSk98ZtKAcpAdVJNg1trZF8leemaQUNxq7l1OxE\n",
       "ug9SIfyBIqx0nWTT0BbEufmNVq57N/c38cLJkJO4cbr3DbKX0H6j1R8bijPPJv/STAAAAABJRU5E\n",
       "rkJggg==\n",
       "\" style=\"display:inline;vertical-align:middle;\" /></a></td></tr>\n",
       "<tr><td>1</td><td>Conditional</td><td>value:&nbsp;2<br>condition:&nbsp;3<br></td><td><a class=\"ProveItLink\" href=\"../008b5a89d8ce192a9eaeb906bdd1b2298027eca10/expr.ipynb\"><img src=\"data:image/png;base64,iVBORw0KGgoAAAANSUhEUgAAARUAAAAVBAMAAACat2dlAAAAMFBMVEX///8QEBBERERUVFTMzMyY\n",
       "mJjc3NxmZmYiIiJ2dnaqqqoyMjKIiIi6urru7u4AAAAvZeGPAAAAAXRSTlMAQObYZgAAAAlwSFlz\n",
       "AAAOxAAADsQBlSsOGwAAAqtJREFUSMellstrE1EUxo81M9M85togVimCQRciFIlIEaTY2P4BZqUu\n",
       "XGQjCoJRRDddVKxgN2rEhZYuHNSFqzq7uqoDLgQfEFwrTAVxkUIUUovVpr3nPibTeTXcDJk7Z87H\n",
       "/ObLua8BAPINOocO3R6VZFkN9HHed/Oha8TXLXcX6gFZCZRps4sx6+JNDb7vS35U6jlLVmAPQPbl\n",
       "Oo+fzI5wqgIIIH2bXR6fxlSDngvb/A+pL4qruQpwXj/F4rkS7LRBEeR5GfqCdblJz7VtEFI/JxP0\n",
       "weM8ahRosxdUQcKLyXtqwItiD0/f4XaSJ/jlDTZj6iDuRTiyvTrFHp6eLQe9GC1sn5WUQSylHZu+\n",
       "hrAaVUbfW0kIT08XeeLKbpjIs06qYhfBVF0RRB9jY22XIx02F8mfJATTCV0UNFtkpuV4mWLstxVV\n",
       "EFRZhaolbPsp7LUL/+GHHYtgeppaz8gaH5JeHuKyRX4rgybuc4GPIlreSSB/U5/i+xp1FqR+Bb1s\n",
       "YKOtKIPIJBvFTz0vC2CudaxGrQomn4zmQNDLDDZLtjII+oqCh+OFlnYFjHYSAnXzHUT10RiYFlyv\n",
       "KIPE1NrPfdHeW4elMpNJ+HEsIerpJo20QtDLGevzsjaoDuJe9JY3u0bgMLfaxGJjQ/75A9SvvsIJ\n",
       "6AjCQfbDnWXQMW64kSCPEQtqyiUpw4ePSeOfOOsR0f8AJwQuO/dkMOMKfRgzYrMfzx8dPzDMJ8KR\n",
       "R3UoRYI8RhwI88yLIZabu3LzxuR8qLQZsVqTNn3h5ahB0GflXHUQenmRtbZuUwxRCy/bUrZrfPsL\n",
       "eyk+7wGUozPqTkOieN31uVUHiBNCLMuFYLQCeiHKi7HR6gFEhuhX2S1543uBFn5T2V8BN8pLKm/1\n",
       "Arp00idc7PrT8GyyrADaBB1mC9dAmO+mAAAAAElFTkSuQmCC\n",
       "\" style=\"display:inline;vertical-align:middle;\" /></a></td></tr>\n",
       "<tr><td>2</td><td>Operation</td><td>operator:&nbsp;4<br>operands:&nbsp;6<br></td><td><a class=\"ProveItLink\" href=\"../../../__pv_it/499325288fe1925f4c41ee86c2a6feed8db802d50/expr.ipynb\"><img src=\"data:image/png;base64,iVBORw0KGgoAAAANSUhEUgAAAG0AAAAVBAMAAAC+p33JAAAAMFBMVEX///8yMjLc3NyIiIiYmJgi\n",
       "IiJERES6urqqqqoQEBDMzMxUVFTu7u52dnZmZmYAAAD1zdHuAAAAAXRSTlMAQObYZgAAAAlwSFlz\n",
       "AAAOxAAADsQBlSsOGwAAAZdJREFUOMuNVD1Iw0AUfo2JacslZnBwKKWLm2DAUZCgu7gogiKioyCI\n",
       "6OzipFJBRMeuboW6uEUUwcXq4CRCFFeh/oBFqvje3eWIhKQ5eO99d999uZf3LgFQowJZx7+dPVuZ\n",
       "desi2I8++j2Aq8P0/SEvj3g4wcgcROUuB4V8ifvjTTzP9hC1u+hCfpKc2SFfUCh5KL5AL2ZNEVxT\n",
       "KHkoPofJ6WdzAcJXmjbGUouqeKuOrs8l2I/WLLH3NB3nGXZPpyIO12htFq3qwwdcOok6zlt4TJ4S\n",
       "rvK1I7QnYD/FkeSXJJ6DYgvdvdKVwWyLZyW1zxSdMPfRrXA4gPYJdidNR7w5CjLPA762jPYF1x5f\n",
       "Y3GNL3mriUhfBNC+xWVDO4VV8awm1oa9QQRwR/zQNt1oqk2L6zbQbqg9pDPmcbaAZgQSwLQveUrM\n",
       "wF7Yda4zajIhnvtuLM+8LyLr4MZBgJ2cuAJ6ENXdxu9YSDvIvQDMnMuFJRG0u18XmBvTXcjIGhXQ\n",
       "sCwTz+FHGdmkx+vpRXCvH5loXub/xDjAH/SwY1EnP0a2AAAAAElFTkSuQmCC\n",
       "\" style=\"display:inline;vertical-align:middle;\" /></a></td></tr>\n",
       "<tr><td>3</td><td>Operation</td><td>operator:&nbsp;5<br>operands:&nbsp;6<br></td><td><a class=\"ProveItLink\" href=\"../../../__pv_it/b819c0d896ef0c414ad539c5b3a643d72524423b0/expr.ipynb\"><img src=\"data:image/png;base64,iVBORw0KGgoAAAANSUhEUgAAAHEAAAAVBAMAAACDNRyvAAAAMFBMVEX///+IiIiqqqq6uroiIiIQ\n",
       "EBBERETu7u7MzMwyMjKYmJhUVFRmZmZ2dnbc3NwAAABtgPhfAAAAAXRSTlMAQObYZgAAAAlwSFlz\n",
       "AAAOxAAADsQBlSsOGwAAAcBJREFUOMuNVDFLw0AU/mransa0VBx16CA6iRVc3EQKLoKCukmpu0o6\n",
       "KChCuzsYRBCkYH6AiK5d7OKgIro4FBU7CI5qRapFre9d0hINTRv43vty3325l3uXAI6riFavfzN9\n",
       "0ZadwzKG7+5zkgwCq7PejppuLVLIoNOgLDhkmyxW03cJa0kK8wTNpFBq4qzpB4QdJieEAEEpexvr\n",
       "ekCH9sHkIQOMUg6NeTvreoeJZy4WVzHgkgeOez03uK6HjnAl2T41aI9yelf8eDmlLmiyamCKmyre\n",
       "KYwThnS8Yt1o6JR6KAK0jaHKA2qFwgzhDOK7vavxy7IuSfsL4pxXDNuZhVLi5zVup2L1RZmmfihR\n",
       "nHLJ24QKtLKXk3WlB7LarWh3Sk3w6ALhDSumdAq3S7f1UJqYmoQvEdEueBC3hBwW5fOQpvrFJxxE\n",
       "Btaf+vjA0S5tLt3EQAcBI4QNbhc7/RN0N0nw522CuG7rXJxffmfBqI8X9WfssuR7DriqbdOtLMo0\n",
       "8VHS4FG/bE3e6bx2n7yabJB2LqlWlWcXy5YSLnxFICIuZ8rO4riIcNLq6px1Flcd01T33poOHtT/\n",
       "SGGz5b/JIfAL28lv30J/XLYAAAAASUVORK5CYII=\n",
       "\" style=\"display:inline;vertical-align:middle;\" /></a></td></tr>\n",
       "<tr><td>4</td><td>Variable</td><td></td><td><a class=\"ProveItLink\" href=\"../../../__pv_it/d7bbb04e874e28c7cefb21d4eea40806ae52f1f70/expr.ipynb\"><img src=\"data:image/png;base64,iVBORw0KGgoAAAANSUhEUgAAAAsAAAASBAMAAAB/WzlGAAAAMFBMVEX///8yMjLc3NyIiIiYmJgi\n",
       "IiJERES6urqqqqoQEBDMzMxUVFTu7u52dnZmZmYAAAD1zdHuAAAAAXRSTlMAQObYZgAAAAlwSFlz\n",
       "AAAOxAAADsQBlSsOGwAAAFNJREFUCNdjYGBg4Lt7AEgy3F7ZAKJmlIF47H9AbAbeABDJsjP6AYjm\n",
       "NwAL6i8AU/1gkuEqhMqGUJPBJNMvMMXxAUzxbQCR3Yxg48MOgsWcH4FIAPrAEkCfAu8DAAAAAElF\n",
       "TkSuQmCC\n",
       "\" style=\"display:inline;vertical-align:middle;\" /></a></td></tr>\n",
       "<tr><td>5</td><td>Variable</td><td></td><td><a class=\"ProveItLink\" href=\"../../../__pv_it/dbe7145e53d9411a5ba89652cbfea9d54e4b581a0/expr.ipynb\"><img src=\"data:image/png;base64,iVBORw0KGgoAAAANSUhEUgAAAA8AAAASBAMAAAB2sJk8AAAAMFBMVEX///+IiIiqqqq6uroiIiIQ\n",
       "EBBERETu7u7MzMwyMjKYmJhUVFRmZmZ2dnbc3NwAAABtgPhfAAAAAXRSTlMAQObYZgAAAAlwSFlz\n",
       "AAAOxAAADsQBlSsOGwAAAIJJREFUCNdjYGDgu3N3FwMI3Gxg4J4ApCsTgEQMEE8Bie5nYOD5AWLc\n",
       "b2B4D5JhOG/AcF4BxJj/gMH/AZBm/8rA8B8kwPWLgcEFxCidANLIrMBwFCjfryBcyBUHFGWME+A5\n",
       "XQCS7869asDQALaVTYGxAMLYoAamGXj+/4AwOEKB1gAAAV0f3CdXaksAAAAASUVORK5CYII=\n",
       "\" style=\"display:inline;vertical-align:middle;\" /></a></td></tr>\n",
       "<tr><td>6</td><td>ExprTuple</td><td>7</td><td><a class=\"ProveItLink\" href=\"../../../__pv_it/44a8dcb5e283c57f4f671c1e9a0548837c04d4ca0/expr.ipynb\"><img src=\"data:image/png;base64,iVBORw0KGgoAAAANSUhEUgAAAFwAAAAVBAMAAAA5lpTPAAAAMFBMVEX////MzMxUVFREREQiIiK6\n",
       "uroQEBCYmJhmZmYyMjLu7u52dnaqqqqIiIjc3NwAAACFAiZ1AAAAAXRSTlMAQObYZgAAAAlwSFlz\n",
       "AAAOxAAADsQBlSsOGwAAAUxJREFUKM9jYGB4wEAk4AMRvAeIVc56AUicZuAyc8CrDC5/B8iewMDA\n",
       "2YDfWJg85wIGjgIGBn4C7oHJszcwsAGp+AX4lcPlsxgigeQWAn6Ey09n6AaSk+724FUOl98E1MDA\n",
       "9XPBenyBD5FfB2RVMvgwMPD8YuC/wFWJUzlYnmEvkHWEIZWBgWMCw/oNsldwKgfLg1nyIOXAYI0/\n",
       "ANSJJ9jjIUEZxjAHGKwFDP0L8CgHy8cqgB1jC+QGcKUzgJVjhj8XA1R+1y8gqxgYNgxMBcwNYOVc\n",
       "P4FC6ydAGXAeSJ5vDSjd9DKEAMV7exggprsAjWcBJRAPBijB4gWVZwYlRz8GFgGotSDlPJiuOQWl\n",
       "1y8EJngHULJBKOfG9OcGKH0SKAdKjnYQ7uv5vQwMazG9egHKWHSPgeExkF6MJFmAoZwdmWMFyoEF\n",
       "xGY+9gcMAPW7WWl6/IKKAAAAAElFTkSuQmCC\n",
       "\" style=\"display:inline;vertical-align:middle;\" /></a></td></tr>\n",
       "<tr><td>7</td><td>ExprRange</td><td>lambda_map:&nbsp;8<br>start_index:&nbsp;9<br>end_index:&nbsp;10<br></td><td><a class=\"ProveItLink\" href=\"../../../__pv_it/a25ed26e90b8362c52b6003635c2df95187cc7430/expr.ipynb\"><img src=\"data:image/png;base64,iVBORw0KGgoAAAANSUhEUgAAAE8AAAASBAMAAADoCp6cAAAAMFBMVEX////MzMyYmJjc3NyIiIhU\n",
       "VFR2dna6urqqqqpmZmYyMjIiIiIQEBBERETu7u4AAACIO4EmAAAAAXRSTlMAQObYZgAAAAlwSFlz\n",
       "AAAOxAAADsQBlSsOGwAAANtJREFUKM9j4LuzgQEfQMhzTcCrECHP34BfIVy+/gF+hXD5bPzqEPJL\n",
       "XWbgVQiT5/v14L0BPl+D5R8zMHD8Y+B34NPCqRAsz5DCwMC5gOF9gog3ToVgeWgw1TcwdOMLxnpw\n",
       "APErMMx/gEchWL4kAMgo4DvEAFaIGZ58DFD5vH8MDKwKvBPACvl+AYXfL4Ay4DyQPPMLYHzzTQEF\n",
       "E8jE3UAjuUERu5MBSnDvg8rzOsAsASnkwLS7D0q/f4iskA3TJwlQugsmZ7Z+CgPDE0zPwGx86ows\n",
       "rIChkAmJDQBazUNySmiZawAAAABJRU5ErkJggg==\n",
       "\" style=\"display:inline;vertical-align:middle;\" /></a></td></tr>\n",
       "<tr><td>8</td><td>Lambda</td><td>parameter:&nbsp;13<br>body:&nbsp;11<br></td><td><a class=\"ProveItLink\" href=\"../../../__pv_it/82d0ea3f98ed9257b91eab5ff5174ca110af05370/expr.ipynb\"><img src=\"data:image/png;base64,iVBORw0KGgoAAAANSUhEUgAAAD0AAAARCAMAAABZ0lSWAAAANlBMVEX///8WFhYNDQ3MzMxUVFQy\n",
       "MjKqqqoiIiKYmJju7u5EREQQEBC6urqIiIh2dnZmZmbc3NwAAADRPqZpAAAAAXRSTlMAQObYZgAA\n",
       "AAlwSFlzAAAOxAAADsQBlSsOGwAAAOBJREFUOMulUu2OAyEI9OoXKIi8/8ueeretJNs0u+UHCQgy\n",
       "w+DcBcNSs/vConzTrelKNXcTkuIncnuQLNJ2QrtL485HZAtsFAOzWPBUB7zyxGTrU9lhacThdjZY\n",
       "YXjJ59MclxeVtEYob8+yUrkd8eMnG1OlZ2lcANrWXctK0ZvZFMmqTbtqf1+BvtmTj5sGCgdWFODW\n",
       "Z/f8qkSX+umW9xVNgGtNmL3zi3EcS4As7mBDBrfRO4zGMjMynK8LeuDme2B/djpisij/ak8QHG5e\n",
       "+5K8AOK99nFfXgluDieBxA3cL916CF7y9Zg4AAAAAElFTkSuQmCC\n",
       "\" style=\"display:inline;vertical-align:middle;\" /></a></td></tr>\n",
       "<tr><td>9</td><td>Literal</td><td></td><td><a class=\"ProveItLink\" href=\"../../../../number/numeral/__pv_it/f086f8c372bd40a2458306ddfdbb29f3dc6f63030/expr.ipynb\"><img src=\"data:image/png;base64,iVBORw0KGgoAAAANSUhEUgAAAAgAAAAOBAMAAADgeEClAAAAIVBMVEX///8QEBBERESIiIgyMjJm\n",
       "ZmZUVFTu7u4iIiLMzMwAAAAWRytzAAAAAXRSTlMAQObYZgAAAAlwSFlzAAAOxAAADsQBlSsOGwAA\n",
       "ABtJREFUCNdjYOBsZ2AoC1nOwMDATBbBprgiGQBsuwqCZsDj4wAAAABJRU5ErkJggg==\n",
       "\" style=\"display:inline;vertical-align:middle;\" /></a></td></tr>\n",
       "<tr><td>10</td><td>Variable</td><td></td><td><a class=\"ProveItLink\" href=\"../../../__pv_it/557ab5defdcd46aa58168b08767502985122cd490/expr.ipynb\"><img src=\"data:image/png;base64,iVBORw0KGgoAAAANSUhEUgAAAAcAAAAOBAMAAAARcxsoAAAALVBMVEX///9ERESYmJhUVFQyMjKq\n",
       "qqrc3NwQEBC6urru7u52dnYiIiJmZmaIiIgAAAD/UVazAAAAAXRSTlMAQObYZgAAAAlwSFlzAAAO\n",
       "xAAADsQBlSsOGwAAADlJREFUCNdjYGC4wwAEuxjQAeedCwwMXBwFDAypPA4MDBP4gFyGuAlAwhkk\n",
       "+5SLgYHjQRKQKavAAAAx5QmdfgFqMAAAAABJRU5ErkJggg==\n",
       "\" style=\"display:inline;vertical-align:middle;\" /></a></td></tr>\n",
       "<tr><td>11</td><td>IndexedVar</td><td>variable:&nbsp;12<br>index:&nbsp;13<br></td><td><a class=\"ProveItLink\" href=\"../../../__pv_it/f753f8362b362955627c11616e72bcb2b9d636cf0/expr.ipynb\"><img src=\"data:image/png;base64,iVBORw0KGgoAAAANSUhEUgAAABIAAAARBAMAAAAidOHKAAAAMFBMVEX////MzMyYmJjc3NyIiIhU\n",
       "VFR2dna6urqqqqpmZmYyMjIiIiIQEBBERETu7u4AAACIO4EmAAAAAXRSTlMAQObYZgAAAAlwSFlz\n",
       "AAAOxAAADsQBlSsOGwAAAHNJREFUCNdj4LuzgQEKuCbAWPwNMFb9AxgrG8ZgWOoyA8Lg+/XgvQGY\n",
       "xfGPgd8BzOJcwPA+AWZcPcQcfgWG+Q/4JrkZMPAX8B1ieC0g/4CBVYF3AsNMBhmgKVOAxn1ncIWa\n",
       "+Znh0jsI8zDjdwUIq1LDTQEAoGAdmQp96AQAAAAASUVORK5CYII=\n",
       "\" style=\"display:inline;vertical-align:middle;\" /></a></td></tr>\n",
       "<tr><td>12</td><td>Variable</td><td></td><td><a class=\"ProveItLink\" href=\"../../../__pv_it/53e304ff98ebc000dbe3ef224f4637dbafd46ba70/expr.ipynb\"><img src=\"data:image/png;base64,iVBORw0KGgoAAAANSUhEUgAAAAkAAAAOBAMAAAAPuiubAAAALVBMVEX///+YmJjc3NyIiIhUVFR2\n",
       "dna6urqqqqpmZmYyMjIiIiIQEBBERETu7u4AAAALjtrwAAAAAXRSTlMAQObYZgAAAAlwSFlzAAAO\n",
       "xAAADsQBlSsOGwAAAE5JREFUCNdj4D29gAEIOBtAJF8BiMy7ACKjQATDFON2BgbelxfuKTCwv2Xg\n",
       "M2DgmMBwLwCkPK+AgU+Aoe8CA18C70YGBhYBHqARvM1A5QCqGhDobJhHyAAAAABJRU5ErkJggg==\n",
       "\" style=\"display:inline;vertical-align:middle;\" /></a></td></tr>\n",
       "<tr><td>13</td><td>Variable</td><td></td><td><a class=\"ProveItLink\" href=\"../../../__pv_it/a8d4b3a34d2189508f9082853fbac36935714f280/expr.ipynb\"><img src=\"data:image/png;base64,iVBORw0KGgoAAAANSUhEUgAAAAsAAAAJBAMAAAAWSsseAAAAMFBMVEX////MzMxUVFQyMjKqqqoi\n",
       "IiKYmJju7u5EREQQEBC6urqIiIh2dnZmZmbc3NwAAAD0tjQRAAAAAXRSTlMAQObYZgAAAAlwSFlz\n",
       "AAAOxAAADsQBlSsOGwAAAEdJREFUCNdjYOC7s28DAwPDygcc3xkY2Kcx8AYwMPB+Z2A9wMDA2cBQ\n",
       "v4CBof4AQz5QRb0DQzPLAwbmDWyxPECV2gcfbWQAABp5EMgcedARAAAAAElFTkSuQmCC\n",
       "\" style=\"display:inline;vertical-align:middle;\" /></a></td></tr>\n",
       "</table>\n"
      ],
      "text/plain": [
       "0. (b_{1},...,b_{i}) -> {f(b_{1} ,  ...  , b_{i}) if Q(b_{1} ,  ...  , b_{i}).\n",
       "   core type: Lambda\n",
       "   parameter: 7\n",
       "   body: 1\n",
       "1. {f(b_{1} ,  ...  , b_{i}) if Q(b_{1} ,  ...  , b_{i}).\n",
       "   core type: Conditional\n",
       "   value: 2\n",
       "   condition: 3\n",
       "2. f(b_{1} ,  ...  , b_{i})\n",
       "   core type: Operation\n",
       "   operator: 4\n",
       "   operands: 6\n",
       "3. Q(b_{1} ,  ...  , b_{i})\n",
       "   core type: Operation\n",
       "   operator: 5\n",
       "   operands: 6\n",
       "4. f\n",
       "   core type: Variable\n",
       "   sub-expressions: \n",
       "5. Q\n",
       "   core type: Variable\n",
       "   sub-expressions: \n",
       "6. (b_{1} ,  ...  , b_{i})\n",
       "   core type: ExprTuple\n",
       "   sub-expressions: 7\n",
       "7. b_{1},...,b_{i}\n",
       "   core type: ExprRange\n",
       "   lambda_map: 8\n",
       "   start_index: 9\n",
       "   end_index: 10\n",
       "8. a -> b_{a}\n",
       "   core type: Lambda\n",
       "   parameter: 13\n",
       "   body: 11\n",
       "9. 1\n",
       "   core type: Literal\n",
       "   sub-expressions: \n",
       "10. i\n",
       "    core type: Variable\n",
       "    sub-expressions: \n",
       "11. b_{a}\n",
       "    core type: IndexedVar\n",
       "variable: 12\n",
       "index: 13\n",
       "12. b\n",
       "    core type: Variable\n",
       "    sub-expressions: \n",
       "13. a\n",
       "    core type: Variable\n",
       "    sub-expressions: "
      ]
     },
     "execution_count": 5,
     "metadata": {},
     "output_type": "execute_result"
    }
   ],
   "source": [
    "# display the expression information\n",
    "expr.exprInfo()"
   ]
  },
  {
   "cell_type": "code",
   "execution_count": null,
   "metadata": {},
   "outputs": [],
   "source": []
  }
 ],
 "metadata": {
  "kernelspec": {
   "display_name": "Python 3",
   "language": "python",
   "name": "python3"
  },
  "language_info": {
   "codemirror_mode": {
    "name": "ipython",
    "version": 3
   },
   "file_extension": ".py",
   "mimetype": "text/x-python",
   "name": "python",
   "nbconvert_exporter": "python",
   "pygments_lexer": "ipython3",
   "version": "3.7.4"
  }
 },
 "nbformat": 4,
 "nbformat_minor": 1
}
