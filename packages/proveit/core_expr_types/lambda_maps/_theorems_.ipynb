{
 "cells": [
  {
   "cell_type": "markdown",
   "metadata": {},
   "source": [
    "Theorems for context <a class=\"ProveItLink\" href=\"_context_.ipynb\">proveit.core_expr_types.lambda_maps</a>\n",
    "========"
   ]
  },
  {
   "cell_type": "code",
   "execution_count": 1,
   "metadata": {},
   "outputs": [],
   "source": [
    "import proveit\n",
    "# Automation is not needed when building theorem expressions:\n",
    "proveit.defaults.automation = False # This will speed things up.\n",
    "# the context is in the current directory:\n",
    "context = proveit.Context('.') # adds context root to sys.path if necessary\n",
    "from proveit import Conditional, Lambda\n",
    "from proveit._common_ import i, a, b, c, f, g, Q\n",
    "from proveit.core_expr_types._common_ import (\n",
    "    a_1_to_i, b_1_to_i, c_1_to_i, \n",
    "    f__a_1_to_i, g__a_1_to_i, f__b_1_to_i, g__c_1_to_i,\n",
    "    Q__a_1_to_i, Q__b_1_to_i, Q__c_1_to_i)\n",
    "from proveit.logic import Forall, Implies, Equals\n",
    "from proveit.number import NaturalsPos"
   ]
  },
  {
   "cell_type": "code",
   "execution_count": 2,
   "metadata": {},
   "outputs": [
    {
     "name": "stdout",
     "output_type": "stream",
     "text": [
      "Defining theorems for context 'proveit.core_expr_types.lambda_maps'\n",
      "Subsequent end-of-cell assignments will define theorems\n",
      "'%end theorems' will finalize the definitions\n"
     ]
    }
   ],
   "source": [
    "%begin theorems"
   ]
  },
  {
   "cell_type": "code",
   "execution_count": 3,
   "metadata": {},
   "outputs": [
    {
     "data": {
      "text/html": [
       "<strong id=\"multi_lambda_substitution\"><a class=\"ProveItLink\" href=\"_proofs_/multi_lambda_substitution.ipynb\">multi_lambda_substitution</a>:</strong> <a class=\"ProveItLink\" href=\"__pv_it/b63ab298a6eee9814b6e6459d8dc167339940e410/expr.ipynb\"><img src=\"data:image/png;base64,iVBORw0KGgoAAAANSUhEUgAAAsEAAABMCAMAAAC73pppAAAAQlBMVEX///+Dg4MWFhYNDQ2urq7O\n",
       "zs6/v7+IiIgiIiIQEBB2dnbu7u5UVFTMzMzc3NwyMjK6urpmZmaYmJiqqqpEREQAAACU+1vPAAAA\n",
       "AXRSTlMAQObYZgAAAAlwSFlzAAAOxAAADsQBlSsOGwAAECpJREFUeNrtXYl2rCASdVZ2BdT//9Vp\n",
       "FxQEClDsaCae82KesfFaXIqigNtN86KDY4zb5u/4HQf61Gb/ECxinA9eu9xOHv7/V+2/69A6984W\n",
       "s8MVvJCuFoOp/hyy8vupY5N4PYPbwus3Pe6ej2WX255gcEO5x/7Pwasx+I6X7gn7ZQxGfdn1q4dE\n",
       "NVFWg7PDKmBwQ0L36iczmPmQZwYPO8X1uwjcU6t/oZSFrn+nyeSivAnOBquEwTJEskczmPsed76i\n",
       "tmCle9eojnV2nyhIH7hefSTBrqC8DY45lzC44cO7GCxGGWawMAFRO7zLBSurukgvBxa4Xn2opK6g\n",
       "vA3Odi55WDv2r2JwF/AFndOAaf8uBhO7R2TB6zc8lJ1HeSOc9Rxh8BAGPeA3MbgPuOCVwea1Xzau\n",
       "k3YQgcPXb+i39XmUN8JZzxEGiyFCM/QiBne4iTG4IXg6CH0Xg9WGV3OCufKut4qiFl15RKAEmpGk\n",
       "7xVCra6OBoKznmNRhA7X7UDew+BAc9sZrATQ1Tz2sL2h/XbmuiQfIw7jhbeyS2BrjejdpypsHRax\n",
       "6eeWlgy10YBwdOcx2IE3qnDH3L+GwTxou/X1W25+XHeMgGe68k6B9mfNoLaj8K4vyUM1dz1Mn+nL\n",
       "7RIauiLocTpeY1abqoYGhrOe4yO5vguNcsbuLQxmYzAS6qxIn1aZATw8hn76U7W8y8UZRr9pEGmR\n",
       "xr+uZiLhqfsUCOEzj9xLsKsmObga7BqshgaGs56BXATriAw4NvESBuuxhxjco1rjuMEdxUyv0U6d\n",
       "X8MuunhJAQbbAzlzfSYSW8ev/RnOOCXsXXmy7iZTI1IbDQxnPccZ3HY0wCk50pcwOBKAdfsvGlVn\n",
       "sKkoNV1UV128N5dgdYsD966zuW5MhZzhjF2CRLzxSgrHwXquuw1RLTQJOIEowoGHI7NVI3kHg9kY\n",
       "ttnGYNobgjClEc15evhGi8FbcDpbBRcW793pZauHvc0R5F1nsyscuiX8NhWdNZAylrBKoMy4AJ2a\n",
       "9pnflo06A00WHNbkwFnPMR8sh6hrE69gsB4pzOCWrI2aYfF5eoZlIzdaltpmsSmZOrGy4v07+2Mk\n",
       "vOe1nIGcud59qKOxaqjlotg2ctl+A37ZS2jZRjqFkt6itQfOAJosEDtkEM56jjC4jYaI6MCMpzKY\n",
       "jxJmcDOsHFAfnoi5Z2nh7Np+oxNBWwwmhnId35xAdvF++Z4bkTg4kDPXGUdUtBwJmzN4WxWLVfyX\n",
       "9Sa7hM3hp3cEyM/HFM5Bs8PJQAPDWc8RBnMRZ1r3CgaTCC6/aU5Un4MsITFIse3GqA82Xfv8Mj0v\n",
       "K94v359XwqZeDuuesV9fG2f6HP/v3/TptZdC27wQFqssNFlwAvd4cMw55oMBO49vYHAbCYN9Bs9d\n",
       "4KDZnLdhqb5yvrFHKMzg4VOL8lMG1hv/sosPlO9FEetylk/bOKQ6A6tvNs5kzTvSQDZ1vZhcpyM4\n",
       "m+pPZKHJghO4x4Njzrp4GVHnds8PZXA/Drk+mLTTIrbZDjPFGI382G7sHWrZIznSaobEOimFg8UX\n",
       "lI/8AHSYrIQHb/3icLBeS7txCRRZTsYlcNOnB2+X2CcZsBHWsA5locmCE7rnCGeDVc5g5U7WPpTB\n",
       "KjKQCzBYKt0julNsXnUrpoyu/aO3bxxEJJvW8gHxj0tq93o8Fl9Q/uCbhE1P02bK5HA9PKTNGvcC\n",
       "ycJkr//BTd3MYRxNFhzoHgNng1XOYO3uxnwog7uxz2WwHcstZgl9tHeSBo0MM3gZ1jRstqo3I2Gi\n",
       "iMzygzxoIxXW3rQmV5+qlrvQbHB2WOUMFm5G+KEMJqMoZrBARPWRsYZ7jSMWZ3A78pWqrqc0xWeX\n",
       "T1+27uhnjnIGM3co91AGj7EMbJfWi9CF3az/COOhwxzMLL/6vu1feCCMiT5BjvbxDG5riQDkPAtq\n",
       "7hfK/fPAdx3YSUY8k8H9mJXE5H9u7ncdLGvFdzfqxzMYjTnrzrj2+iSRdKt3uGq/JqSsUcwNyH4K\n",
       "0VY3CRrl7KzmTqLqmQymY8YmZH7MFZj1wrfodZRIh6AuNnN1BzQImUapbupriPJWc+csglNOOm1i\n",
       "cA0BEcPgOmIkPEOATeOIjWa9DjYQfKkWvALyq7p3hqGesEl1aD6ydh0fdb2rWNDSDxqn66qCKMtW\n",
       "mfsRVLrmXf82MbiGgIhhcB0xkmFMihy0fr5tsZGZ7+rURU9yLCBbOsRZvR4SNqkNzUMmF/t9GnnL\n",
       "rb/RbraZJSRTC1GGrXJ31GCdZnB3YHANARHD4DpiJF2awZhGbGQm3Mer3eOxgGzpEHf/RUDYpDY0\n",
       "H9nyRO74M9aZKiH7LulKiDJslcvgPqlvgZxx/hwHVxAQ2eLgKmIk3ZhaQKJJrJ8ym1jGi+ksv4CI\n",
       "aVELMDgkbFIfWgQZd3i0qxfsco+VEOXYKntXY7I/0D6DKwiIbAyuIkaCkwwOSUXMNjJ6HfRarBkq\n",
       "YN8s71SPv5AdR9h8G7SIqInDYLWHXdT8WgsRZKtiBstUUkA708pLLuK6gMiei6ghRoJHlOpIWITB\n",
       "Rq+j4wipS/2AV8C+xcKtMBytz7CwSX1oB1GTtps2sAhOCLd2hQwWmWVdRJCtihmcdMK9M9+1MPi6\n",
       "gMjO4BpiJGRMhPOYx/I1a+Nn4yecYRdSfFYBvnSIy9n+EPIrq/8JCJvcAM2Tc1jsY8fBygpVuy3k\n",
       "q4MItJXP4JjuSjiXk8dgR0CEQW9Ckww+iJEwFV1ibUkzHAcGCQaL4MKf2UarXscu4nFSrcNSAfGl\n",
       "Qw5eFznttbXAh4RNboDmZVEHj8F4JyjbeuFKiEBblftgluiBZYDBjoAIdT4vsJr+gNaNlSrJ4IMY\n",
       "CdcyPBljSzP4DIa7NB6UQJgfavQ6umbZ7n1arcMUYL+j+e1f/3T2heNxz7oKjqVdt3bPchs0T9TE\n",
       "Z7BV63prYpUQgbYqZ3BIodLlmu2kVwYHBEQE4sMg5z0xU0peMZDB/x3/s9WaU1asb3KkGXwG/xuO\n",
       "MniKwXMsJeeGcE6twypga3Mk4oOl/X01TFnJ0JCwyQ3QPFGTgA/eHsVIVxkRaKsTDNZwQPNfh8H/\n",
       "GE3q4CAgotTqOvvPH9QWPmT4YLusnhMrraYRMn9xpRkKfbAIBxlLHLx8cr5jUT06R5OtgJB0iFvi\n",
       "cTLfUjMJCJvcAS0jipgzaHJCoPZurxIi0FblcbClXRHzwX4UsQuIrCDQVkYvetmiicFUKYU//2SC\n",
       "wbsYiSu3MZVsqtSRZgiM5EAG03AbnW207uqeuvX1azhOqXXsBYSkQ9zqOc4+Wo43IGwSglYiaxKC\n",
       "5oma+AyepKWQZKjRVtxWCRFoqxM+ONLHgnHwLiCygLB2yPTic62XBT64tQAoZY1q2J4ndKQZAtk0\n",
       "sBEOYSWw2UZrGmea/B+U4w7K1DpMAUHpEKcyZDwfHBQ28aGVyZoEoHmiJsOw/zT+g0xCvko508xJ\n",
       "RIHH+5dAW5nbShgMB8JhBpvdiSsIqW0Gf3iLhnwG2zsprcz2vBRnE0hEgc/lMpgMcQYbvQ61JShP\n",
       "qnVsBaSkQ5SIMjgsbOJDK5I1CUA7IBMDIQP7/BwtnavPGHOgdI58RQEiH0dAaAW21XJ/CYPpeILB\n",
       "bs+iu2E++oXBjG7S0zkMtskmnAYvjPd0pBn8oQHIYBZZNbHYyFuHelGto1Q6xGZwStjkoqyJgdbm\n",
       "B69TjVq7BCsjgmxVwmA9SjB5RyAGLyAEdXzwZwiAcvPBx9LmE20WEZwpMpv/40ozeHYGM4Ii8tfF\n",
       "Rt6ikotqHfnSIQcGZwibXJQ1MdAKvnzoEyDbEzCVEUG2KmGwAOtfwwxeQew5+mXHIuKpZwYZvHZT\n",
       "ywJDpdEkrLH8x5Fm8BlMwTbYAww+yDRcVuvIlw7ZI87Fv6WETS7LmqzQSpYBqnF0YvO6iCBblTCY\n",
       "gWsTA2vTglYxiz/wsqh0OMXgrY33dlBhCLhJMxwPDr6BjmzFX20U1eu4ptaRP0/OlgXBBcIm12RN\n",
       "SmbwBSH9zyAqUtwHdzj464PD1UCnODj7qUEGD72RIPwETAJP22+c6GmXZvA8BQfbYBvpvZew7ha9\n",
       "jhLpkFbxSDbwDmj60v6uLyFCmBQxeAD7kSGHwYVHkMF0Uw7Tk1fXdJnY223WYRnh6AC2wb+d7L/8\n",
       "INDyDLeHfupu+w5sg38M/uUHhrIr7jj/mQwWIwHb4F8V/3YGQ/Xviuo9k8EM1Oz5Y/D/N4NdUb3H\n",
       "6qa1l6KIXWDjxyVGYuonPy7L8g1EZ7VPoCiCuaJ6D2UwhiZlaPpZW+rm2xIjfoVF1E++LcvyLu0T\n",
       "aCT3DvVVDk0ro1HkMri/5bvDC+o6tmPmHmA+skLtk6+YKofBQDZVu8P8hzIYQVMaOpvBrLuFJ/ni\n",
       "J7FdwHcB85AVa598wVQZDIaqn7oTtg9lsIDSaf0oMxms7lJGVxcZrG4TST8iK9U++YKp0gxm0KqC\n",
       "wV1U8NRv44KSEWLUmQwmN/EkJjECq5/Yn2++iyxb++QbgNIMBlf2YDcweyqDMVReWpNqMZK8q6+2\n",
       "lz3nq59YffttwCLiJ9naJ98AlGZwD+zRYYe5gqcymEJ+Fnd5DFZbX0QRouIKnMPnLUGPXPWTXiFk\n",
       "FiHUAwYha05on9xqqmwGI4BN/WHNzFMZLKG1PZzkMdg0/3bSRVDnpQj3zwcEPTLVT2g3JQYG1y9d\n",
       "BQYjW+AVaZ/ca6psBkNzVvwoe/hQBjeEQMkIlsXgVdBj0bkk5yVGts+HBD3y1E8sUZCKwGBky7in\n",
       "SPvkXlNlM5gATej4fcWPZbACUmYiKRa6yliuGQlD+LOCHn6DsQQ98tRP5jrZjFQJWAJZhMGg9smt\n",
       "psplcAsM5MSxc34sgyWUUCG8hMFWiz4lhxDwCJagR5b6ydLmEHH5chVYAlnMBwPaJ/eaKpfBkOIJ\n",
       "8qSKn8pgMIxQJIvByzY1O7l4plr2zwcFPbLUT5Y62fRP6gBLIYswGNA+udlUuQzmwKM70ryFwQiY\n",
       "t5CpOY3FSEbQY+kqZXNW0MN8PijokaV+Mpt5l6KpBCyBLMJgUPvkVlPlMhgMIuhrGAzulcIqh8Fr\n",
       "ImdRXZlTPKckRsznw4IeWeonszQp34LESsASyBZqFmmfAIiyoMGAMrVPoIE69/72YAZDm4lS2Yh1\n",
       "RmO1IqUILSIJ5yRGts+nxE/i6ieSI6o2d10LWBJZqfYJhCgkeVJoqjztE8yBMIU372EwODme0Ihf\n",
       "jfRFQY8YEBzsOO7SPilA9ljtEwmO49oXMTj8VQN5Tng10hcFPUAGi6nDtmW779I+KUD2WO2TAYge\n",
       "iWrexGDQ0XY0g8FfFPSItcJ56MwJa1jn6Fjeon1Sguyp2ifQ9yqFfNqjGdwDhQrSZjD4xyVGFvUT\n",
       "qTR1RWvvAVaC7KnaJwRa1KObdzG44YBLQR3YeZsvCf9piZGY+smPy7J8BVG59gnnhXR4NoPBryjl\n",
       "92zU+Tt+8ugBvySDa5/rMXg+eOUXEtBXlA76r8Z/2SGg/VuewBNeSFfn0UzPh6z9ShJy7YP8q/Nf\n",
       "dTCIwMyr7YVzuvkfIZUvVD+AN/wAAAAASUVORK5CYII=\n",
       "\" style=\"display:inline;vertical-align:middle;\" /></a><br>"
      ],
      "text/plain": [
       "multi_lambda_substitution: forall_{i in NaturalsPos} [forall_{f, g, Q} ([forall_{a_{1},...,a_{i} | Q(a_{1} ,  ...  , a_{i})} (f(a_{1} ,  ...  , a_{i}) = g(a_{1} ,  ...  , a_{i}))] =>  \\\\ ([(b_{1},...,b_{i}) -> {f(b_{1} ,  ...  , b_{i}) if Q(b_{1} ,  ...  , b_{i}).] =  \\\\ [(c_{1},...,c_{i}) -> {g(c_{1} ,  ...  , c_{i}) if Q(c_{1} ,  ...  , c_{i}).]))]"
      ]
     },
     "execution_count": 3,
     "metadata": {},
     "output_type": "execute_result"
    }
   ],
   "source": [
    "multi_lambda_substitution = \\\n",
    "    Forall(i, Forall((f, g, Q), \n",
    "                     Implies(Forall(a_1_to_i, \n",
    "                                    Equals(f__a_1_to_i, \n",
    "                                           g__a_1_to_i), \n",
    "                                    conditions = [Q__a_1_to_i]),\n",
    "                             Equals(Lambda(b_1_to_i, \n",
    "                                           Conditional(f__b_1_to_i, \n",
    "                                                       Q__b_1_to_i)),\n",
    "                                    Lambda(c_1_to_i, \n",
    "                                           Conditional(g__c_1_to_i, \n",
    "                                                       Q__c_1_to_i))) \\\n",
    "                                      .withWrapAfterOperator()).withWrapAfterOperator()),\n",
    "          domain=NaturalsPos)"
   ]
  },
  {
   "cell_type": "code",
   "execution_count": 4,
   "metadata": {},
   "outputs": [
    {
     "name": "stdout",
     "output_type": "stream",
     "text": [
      "Theorems may be imported from autogenerated _theorems_.py\n"
     ]
    }
   ],
   "source": [
    "%end theorems"
   ]
  }
 ],
 "metadata": {
  "kernelspec": {
   "display_name": "Python 3",
   "language": "python",
   "name": "python3"
  },
  "language_info": {
   "codemirror_mode": {
    "name": "ipython",
    "version": 3
   },
   "file_extension": ".py",
   "mimetype": "text/x-python",
   "name": "python",
   "nbconvert_exporter": "python",
   "pygments_lexer": "ipython3",
   "version": "3.7.4"
  }
 },
 "nbformat": 4,
 "nbformat_minor": 1
}
