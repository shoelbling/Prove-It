{
 "cells": [
  {
   "cell_type": "markdown",
   "metadata": {},
   "source": [
    "Axioms for context <a class=\"ProveItLink\" href=\"_context_.ipynb\">proveit.core_expr_types.lambda_maps</a>\n",
    "========"
   ]
  },
  {
   "cell_type": "code",
   "execution_count": 1,
   "metadata": {},
   "outputs": [],
   "source": [
    "import proveit\n",
    "# Automation is not needed when building axiom expressions:\n",
    "proveit.defaults.automation = False # This will speed things up.\n",
    "from proveit import Lambda, Conditional\n",
    "from proveit._common_ import i, a, b, c, f, g, Q\n",
    "from proveit.core_expr_types._common_ import (\n",
    "    a_1_to_i, b_1_to_i, c_1_to_i, \n",
    "    f__a_1_to_i, g__a_1_to_i, f__b_1_to_i, g__c_1_to_i)\n",
    "#from proveit.core_expr_types.tuples._common_ import f_x\n",
    "from proveit.logic import Implies, Forall, Equals\n",
    "from proveit.number import NaturalsPos\n",
    "# the context is in the current directory:\n",
    "context = proveit.Context('.') # adds context root to sys.path if necessary"
   ]
  },
  {
   "cell_type": "code",
   "execution_count": 2,
   "metadata": {},
   "outputs": [
    {
     "name": "stdout",
     "output_type": "stream",
     "text": [
      "Defining axioms for context 'proveit.core_expr_types.lambda_maps'\n",
      "Subsequent end-of-cell assignments will define axioms\n",
      "%end_axioms will finalize the definitions\n"
     ]
    }
   ],
   "source": [
    "%begin axioms"
   ]
  },
  {
   "cell_type": "markdown",
   "metadata": {},
   "source": [
    "**A `Lambda` map is as a `Lambda` map does.  Thus, `Lambda` maps are defined to be equal if they preform the same transformation under the pertinent conditions.  This is similar to the `proveit.logic.equality.substitution` axiom except that the substitution is performed within a `Lambda` map which requires a special rule due to scoping restriction.**"
   ]
  },
  {
   "cell_type": "code",
   "execution_count": 3,
   "metadata": {},
   "outputs": [
    {
     "data": {
      "text/html": [
       "<strong id=\"lambda_substitution\">lambda_substitution:</strong> <a class=\"ProveItLink\" href=\"__pv_it/78b6f8e91e68fcea5a8f3c91c4c508cfcdb89c920/expr.ipynb\"><img src=\"data:image/png;base64,iVBORw0KGgoAAAANSUhEUgAAAkMAAABMCAMAAABZLkNVAAAANlBMVEX///8WFhYNDQ2IiIgiIiIQ\n",
       "EBB2dnbu7u5UVFTMzMzc3NwyMjK6urpmZmaYmJiqqqpEREQAAACBdEgOAAAAAXRSTlMAQObYZgAA\n",
       "AAlwSFlzAAAOxAAADsQBlSsOGwAADL1JREFUeNrtXQuypCASdBcE/ABy/8tut4qClIAUzmMjmogZ\n",
       "O3yKKSRFUZDSdRXSYNYkUJlMc/dLDaeR8ssZulV7newHw9QnoUggxa+a2k7sWkPfOleiGodGbBa6\n",
       "v7CcUDq81KAenn/pce/clp3v+LyYewWcVM1wiAf42FtdG9HPzmPTTGqirAbngJVf0DNUze1wSEwd\n",
       "wKHlNFOqVhlq5vSfjHHo/L8hbS7Kl+DY44PGKpaGOTSYGeKQPM5OtUw7n9wOfug1cL52mjgG5Wtw\n",
       "9uMDDo1Gt8uhKSyz76sN1osbl1oFKB2D1ut54cD52klJDMrX4OzHJ07DQpvlkA7N0PZqtsmwat5B\n",
       "73bvHDxfP/W8HOWLcLYjyKGF31Q0aZVDE+1gDqm9PVYz7bPblVH4/Au9hypH+SKc7QhyaLgx/Evf\n",
       "KIcAdttX6+k39dU8THnkpERPhQzOj5KRkWAeAeTAMmJfWhIyqupoYnC2I9yXKXbTY+g2OSQMv+OQ\n",
       "HCKWFWkRXOba83P/eZPFIJ7n5sD3YlGnXZHUSQ612OeSsV9qo4nC2Y4nhzxsBnbizNQkh7iBDOf2\n",
       "aqOw/9VJVDuDjCE4v4Wp5NrJcVXSo7g5dGxnqaZpj5A7rK6GJg5nO9751HrSYHsfWuSQMvqWQ6sJ\n",
       "qhhu7Gen2sLzcq1K+rXjAyG04AFODm75JHEtbjFWQxOHsx1vS5dPffin2bAWOQQb6/3VNKnoUXsc\n",
       "cl1qe36tSr6PEnVJrXk5nB1KsgC/zYj0tdHE4WzHOw6NE4Nq1fQNcogbsHTsq02d2k0wl4qwnAdF\n",
       "LnTs8yKC83xtZLZUSmrNzWEm9glOTrA/pNYCPBDVQpOAc+3LPGz0Jqy7XDqzJjikDItxiOk9SMTp\n",
       "8HlQhn8Zu3A5/eieBOf5ag6WqdOjU9RZLi23lXbmwLgFoZZkGaz3qgw0WXB4lwNnO8J2aL6DTC7V\n",
       "1QSHhJljHBr7vfnIz0BhWA3pGB+nnReGveA5yvZcant++lSeorJjTnPlx1Dk+BX5ceYw8qPaJUna\n",
       "i9EdnkbQZIE4IUfhbEeQQ+N0X9dTexzqYRDHqy17XX+ptprjYaZRDh0XQs2Lgi61Pc8FYcMoyODW\n",
       "Gj0eR+X9j/0iN4fD6NFk8cyf2yTNQXPCyUATh7MdQQ6J+wUhl0VnLXBohN2h4NXWproovo4zeKpN\n",
       "rxdqErb/Y7XMZc0bsIrmqDWd032EF336ji3TMc+VoTILTRYc4JoAzn6E7VAkxOb3Gy1wSJsli0Nd\n",
       "P36n91eXYeUQZzf/HRdqHcbJtolGLbpL9AOYFz1qLStKzoAAy34yOYM6CP4txCELTRYc1qXh7Men\n",
       "kRPpzyq0wCEJu9Thq81SacJODq3rNoZvGNb9T7sXLoBFXr5Q6RKsrlgurzCyyWwOA8+ZbAAu+vQj\n",
       "4+a+JV3Cnnd8IllosuBA11zh2ONTDil/3XwLHJqMzuOQa/U3Sw3dqL0BWhdmwr9Fp4gcofNwoWWV\n",
       "bCT+lex7Pqxncs5DkwUndo2FY49POTT4EaIWONQb2H1jtwt9B9JLfeMX+OcEAS4Zbwp4fGnNjioq\n",
       "m7fQHHD2I6H9Qw5x36lugUOmeEpRldqMX0Il49V2Axwaa+mTfulfJeoNzBrgkDa0AgDx0zdmdkQV\n",
       "ltFMRrXFIWIqzKiKXxeWXVUTmkTCG0k3wCFm8MvtxSU6cOruXhD6jX94dyzLXLGhRtt96Q3uG+CQ\n",
       "MOgFZorehQXeEPrNmKWprwLKHKSjRel+s/9yqIYO0HKoIK/FSGw7DIIDtjBXoR9felzLu2bwkAeB\n",
       "DhILKLj/qdiQKiyHpguHaugALYcK8prQHKJBnHsvTBuKnrBPuGTwyKOAdJBYQNf7H4oNdY9ziYg3\n",
       "DPpyqIYO0HKoIK/JIDUbKlwjuBemnRcy2A7EJKfW7hOkg8QCut7/VGyI5LAKOFRDB3j4Q8/zolgO\n",
       "AbqhvTDtik+DHIkEGdy1YzLG760EKLw/IjaEMxhxHOqvHKqgAzw49DwvanDyKQJUyFaYVujHsAOR\n",
       "IANHYOQ9HFgmAOkgsYDC+yNiwxcMkfbCwtu4DK8DPMdlj/PqDc7Do8AoY5em7SAmQYjE9B5BBo7k\n",
       "0K/Oa+XCOkgsoPD+mNgQZgGvzCG8DvDk0OO8DI5DAzRjuxXmbi24+XSwHGG9nQx2kZ8j9fJZowM3\n",
       "ENBBYgGFeOJiQwFlgTH+M8AhTwfIY+/Gkhy6aAq5TK2/MjgHU0Cqm60wd6Hfqf4rlPk58sFd5OeE\n",
       "6S6Wh1xaD6SDxAIK8STEhlBEhaLarWvG9hijqwNkHkMHKr9/IPu6+LtulKsjU19TKNScCJ4qhXIw\n",
       "e3HLISv0m7pNI1Ms87MZOIV4/Pzvfzw9DTX+QlFQB4kEFOJJiQ0htxgj5lKuXdgXqQA6wIGIZZnX\n",
       "RaPfEJnkUQ45cWo/rzRUY2ZUk1ApDq3+47xau7Iwv5OBNeb9nR2aLx+3hXSQWEAhnoTYEOwPVWU7\n",
       "5OgALdflbj705w/y6MQyOOTmpUV/DvIVIYrU7ssYSNLdH9oyXktrkwyXcejI4BD53fZlwYQmoINE\n",
       "AwrxxMWGItt+53OoCzl06AB3WORgqR70PJIvh5iUkn7+zQkOHXl1njbvm/EioHEZhkMLKELeCnOX\n",
       "wnzt3P7F0BLRoZPBIfJzXssnQRCdB3SQaEAhnqjYsL5DNIMcOnSAGyxnMa8ePuf0/MAOjQ7FpTyd\n",
       "Sw5/yomixmX9cs+hfQT+XReySNd+PBMdHhmcIj9HcuhV23wtH1AHGQEEPD08FeKJiQ1vDXhtDlkB\n",
       "xA5rVi6HPswhSz6HXDHFSZp1bh3qeFAc4vBk2x5j3CtIHsGUItGhk4EV+d1JDuUQDKG8sk8DCmEA\n",
       "KsgAT0xseOtUz7U55NtbNS1r0huHOLNechaHXDMxuG1wgDqeCefdkXsOhUI/pOjQivzG7H4gpYPE\n",
       "AbqKDp9waEBEiHQ41xHCGphnh7pZk9z40DW3btcNfsZ3nYD8uAUT7tKwM7UXZjA3ihQdWpFf5kdb\n",
       "M3SQOEBX0eETDnHEcgkV59AO64yUbXtwEJFiNcihzXhvax+kIhMBOYSYY1GwrsgWpi/0Q4sOd5Ff\n",
       "7pqEpA4SC+gqOnwkFEMs/QvXfsDFNFgWTNvkRRGHbLvT157NSQKzfojAz7WFeSf0w4kOcydyHugg\n",
       "6wB6xqHylT7hGjSY8+zrD2VjAjm06P3jEZ9+fPgwl4CBfYlZC8vgucND3viG0E9h1k28COih2LAv\n",
       "X6Yhg7WwNRLIIWa/uqG+hk0xyWFTgliTLw3vfqko0fIAkd91NKEvQ6xbEj99YzGHyj/F7w+DGuDQ\n",
       "YPofh/6/OOR/ZaMBDnGMVvrXl/1FX+Z/ZaONbzaU38vS9zarV/xjtWK5T839r2y0wCGKiLoTkyys\n",
       "VvWKf61WLJ+4b/D7QwIx2aHyOfTOxoTFTHgXTgaHysNyyh8FtcAhgggy6rQNu+gVa6fCLyC8DCfN\n",
       "IV4+PcD8W1vg0IAY3A9pG3bRK9ZOqqwBvAwnzSHEnOviT1I28X1qzMAsbcN8vWL99ECv6N71Lpw0\n",
       "h3T50j/qD4ab4BDFOORTHofe25jwgV7RcX5fhpPmECkudH4J6DXBIYZwqkWfx6Fz+0RGCBsQr3q9\n",
       "P1uvCO6T+BKcNIfKo7P6MsHZBIdmxKyrSgYZPb1iN341XrJ8hu68H9giMapXBPdJfAtOmkN98UPF\n",
       "9QsWTexf1veIB+ssDtntE9fvzPTlesXjfmiLxJheEdwn8TU4SQ6N5S71dXuVNjgkTbk1T4bKfL2i\n",
       "NVuoTRIvr378jOkVI/skvgAnyaFyjeJw7TXa4NCMWMoo+ycccix4+SaJF/BZesXIPolvwElySBTP\n",
       "lpHg40dt7CuN6MzmVJTR1Su6gbXyTRLXx0JbJEb0ipF9Et+Ak+RQeVc29V2THCKIKTMqczhk5YGb\n",
       "Lzt3pfJAez+4RWJErwjuk/genBSHVPF6hyHoMxrhUPfiyMzTK26ayXUwfCsPjCkG7f3wFokRvSK8\n",
       "T2IOnBiuWzgpDtHi8hZBcbfCIYZYB5T4XpanV+wYI2TbB+ZeHhjTKx73J7dIvOgVwX0Ss+BE1Iq3\n",
       "cBIcmhEBRtE1yiHEDGDKEL2jV3y6ReK12/1bteJSbIaA8HYrHAK/qpjt5bEMDr0sD0yVT3KfxH+p\n",
       "VkR8U7QHNqZshUMd4muQ6waKKQ69LA9MeRGJfRL/rVqx1zWbejsc0pgVSFMGh/5Ur5i/T+I/UCuK\n",
       "4p4M/PJVOxzqBEJmJiJGrFW94p+pFfVUt44a4hBqF4nlt/dUdlWV7z01g2ul6nFoTagNaQbMLhLL\n",
       "bw+8zO4IsX0ZvRYy3aq9EjK1JlxFzuOvipumX1C9W62r7n95Y6PUMAhwigAAAABJRU5ErkJggg==\n",
       "\" style=\"display:inline;vertical-align:middle;\" /></a><br>"
      ],
      "text/plain": [
       "lambda_substitution: forall_{i in NaturalsPos} [forall_{f, g} ([forall_{a_{1},...,a_{i}} (f(a_{1} ,  ...  , a_{i}) = g(a_{1} ,  ...  , a_{i}))] =>  \\\\ ([(b_{1},...,b_{i}) -> f(b_{1} ,  ...  , b_{i})] =  \\\\ [(c_{1},...,c_{i}) -> g(c_{1} ,  ...  , c_{i})]))]"
      ]
     },
     "execution_count": 3,
     "metadata": {},
     "output_type": "execute_result"
    }
   ],
   "source": [
    "lambda_substitution = \\\n",
    "    Forall(i, Forall((f, g), \n",
    "                     Implies(Forall(a_1_to_i, \n",
    "                                    Equals(f__a_1_to_i, \n",
    "                                           g__a_1_to_i)),\n",
    "                             Equals(Lambda(b_1_to_i, f__b_1_to_i),\n",
    "                                    Lambda(c_1_to_i, g__c_1_to_i)) \\\n",
    "                                      .withWrapAfterOperator()).withWrapAfterOperator()),\n",
    "          domain=NaturalsPos)"
   ]
  },
  {
   "cell_type": "code",
   "execution_count": 4,
   "metadata": {},
   "outputs": [
    {
     "name": "stdout",
     "output_type": "stream",
     "text": [
      "Axioms may be imported from autogenerated _axioms_.py\n"
     ]
    }
   ],
   "source": [
    "%end axioms"
   ]
  },
  {
   "cell_type": "code",
   "execution_count": null,
   "metadata": {},
   "outputs": [],
   "source": []
  }
 ],
 "metadata": {
  "kernelspec": {
   "display_name": "Python 3",
   "language": "python",
   "name": "python3"
  },
  "language_info": {
   "codemirror_mode": {
    "name": "ipython",
    "version": 3
   },
   "file_extension": ".py",
   "mimetype": "text/x-python",
   "name": "python",
   "nbconvert_exporter": "python",
   "pygments_lexer": "ipython3",
   "version": "3.7.4"
  }
 },
 "nbformat": 4,
 "nbformat_minor": 1
}
