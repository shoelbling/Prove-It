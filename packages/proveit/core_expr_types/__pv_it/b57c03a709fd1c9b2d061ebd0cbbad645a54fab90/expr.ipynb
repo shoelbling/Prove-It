{
 "cells": [
  {
   "cell_type": "markdown",
   "metadata": {},
   "source": [
    "Common Expression <a class=\"ProveItLink\" href=\"../../_common_.ipynb#g_k_to_l\">g_k_to_l</a> of type <a class=\"ProveItLink\" href=\"../../../../../doc/html/api/proveit.ExprRange.html\">ExprRange</a>\n",
    "=======================\n",
    "# from context <a class=\"ProveItLink\" href=\"../../_context_.ipynb\">proveit.core_expr_types</a>"
   ]
  },
  {
   "cell_type": "code",
   "execution_count": 1,
   "metadata": {},
   "outputs": [],
   "source": [
    "import proveit\n",
    "# Automation is not needed when only building an expression:\n",
    "proveit.defaults.automation = False # This will speed things up.\n",
    "# import the special expression\n",
    "from proveit.core_expr_types._common_ import g_k_to_l"
   ]
  },
  {
   "cell_type": "code",
   "execution_count": 2,
   "metadata": {},
   "outputs": [
    {
     "name": "stdout",
     "output_type": "stream",
     "text": [
      "Passed sanity check: built 'g_k_to_l' is the same as the stored Expression.\n"
     ]
    }
   ],
   "source": [
    "# check that the built expression is the same as the stored expression\n",
    "%check_expr g_k_to_l"
   ]
  },
  {
   "cell_type": "code",
   "execution_count": 3,
   "metadata": {},
   "outputs": [
    {
     "name": "stdout",
     "output_type": "stream",
     "text": [
      "g\\left(k\\right),\\ldots,g\\left(l\\right)\n"
     ]
    }
   ],
   "source": [
    "# Show the LaTeX representation of the expression for convenience if you need it.\n",
    "print(g_k_to_l.latex())"
   ]
  },
  {
   "cell_type": "code",
   "execution_count": 4,
   "metadata": {},
   "outputs": [
    {
     "data": {
      "text/html": [
       "<table><tr><th>&nbsp;</th><th>core type</th><th>sub-expressions</th><th>expression</th></tr>\n",
       "<tr><td>0</td><td>ExprRange</td><td>lambda_map:&nbsp;1<br>start_index:&nbsp;2<br>end_index:&nbsp;3<br></td><td><a class=\"ProveItLink\" href=\"expr.ipynb\"><img src=\"data:image/png;base64,iVBORw0KGgoAAAANSUhEUgAAAH4AAAAVBAMAAAByPkciAAAAMFBMVEX///8iIiK6urpUVFTMzMzu\n",
       "7u5EREQQEBAyMjJ2dnaYmJjc3NyIiIhmZmaqqqoAAABI0TZoAAAAAXRSTlMAQObYZgAAAAlwSFlz\n",
       "AAAOxAAADsQBlSsOGwAAAiRJREFUOMuNVD1IW1EU/vLybmJ+TC20UOif0kGHCi7SpWCgS7e8SRwK\n",
       "CUindkgLOmdxKVUCXVwCGYooRXw6KDi5lFJai+3SGhzSoUOHVhGFYiT4nXtfHq88fMmF8/Puu9+5\n",
       "537n3gP4w/3PdBkZX3VGtmns/Z7wX0RZO4GZ38Dki0CcyJGrInU3b6KYoSpU8+LN9YCfoqwBfY4/\n",
       "01+naou32gO+QfkBpPf8maSc51R7Tnd8mXKLMuPPjFBSMo2+ele4xcNmTui8ovz5vE29L8ix3K6D\n",
       "1FgUcQefGL6/ytyP+PmGm1Yys16kYv3vVh3pSgR+EVslk2KcFsvAoYNzencohxvNxy5yAxHbn+IK\n",
       "ix5jjZNS/J/ALOwWvZeU729ljX10OT5ZQoEXNDkIbVGA3Ua27OFv7OeFnPLl+EITH2DwYjGMdAsJ\n",
       "IWyBV+jYEk6j8l9zMS1EM/9ppfMnjUUp2HNhVLWzNEKMCmMdfefUGU2CZz/jUixBtTDhmErES+ok\n",
       "xeIIMUUWQf0LOubLjcsdkxIfP6FzANz7+FWiDzFqE7vvSa4QE7tOdVucPc/BVW5jPazJ6SyqVd4B\n",
       "3ETnbyzfyXNd61/h2ul7rePhmtcFBvDIsYW0wFNoaF0N4Xk0exyFfOCN8dE9cKZMF3jW6Swl/Zx3\n",
       "QnieNz6jXms/YbrUJjC68s38nvSWJXSa6TD/rJLVqA2abqE3wdNgR/Oe3bue+te23sTFBSFPfz9a\n",
       "Qz7hAAAAAElFTkSuQmCC\n",
       "\" style=\"display:inline;vertical-align:middle;\" /></a></td></tr>\n",
       "<tr><td>1</td><td>Lambda</td><td>parameter:&nbsp;6<br>body:&nbsp;4<br></td><td><a class=\"ProveItLink\" href=\"../05aa45782ef7712bd061f905e47e09613ed094e00/expr.ipynb\"><img src=\"data:image/png;base64,iVBORw0KGgoAAAANSUhEUgAAAFQAAAAVCAMAAADvsTk6AAAANlBMVEX///8WFhYNDQ0QEBC6uroy\n",
       "MjJERETc3NyYmJgiIiJmZmaqqqp2dnbMzMxUVFSIiIju7u4AAAANq5mNAAAAAXRSTlMAQObYZgAA\n",
       "AAlwSFlzAAAOxAAADsQBlSsOGwAAAUdJREFUOMulVNm2wyAI9N4o7oL//7PFLI1b05OGFyN6xmGY\n",
       "IMTD0Jfb3wJ9u5f4HNOHb6/cD1JjTtFDUGfGnHHfNbtUfpkmZ1SbnL96V6pZVhX6hJgohnAobJsr\n",
       "tm+NQ9R71W5vU4sQUjniIhMKZ6cwHpptYHJ6gYrTgGD4imHVMGuRzJwbQqWHz2WTdzPajVqH4Bkg\n",
       "8gq1OP9/tomc5dmEwjHmvXvLdtAhxLytGT+rKJWs7hdueDR9OU8qBLkdy/I00RQ01mY2K0dIR5/f\n",
       "f0+NwOUTSJEK4TBnqmqjmnKR8qE+rPR6BAMsfSTHhOX5alN841MqhFI+uK/mGRAcCmLfsfnMhzng\n",
       "YitwwvD2npDrV49gfxl/9iRv42TA2ntwMVFxQLwcHrMhcxWJZwWp2n4wlKrhZuHSmeCaPtIAAfR8\n",
       "9Ouu2PLLihfpEAyNeXPxSAAAAABJRU5ErkJggg==\n",
       "\" style=\"display:inline;vertical-align:middle;\" /></a></td></tr>\n",
       "<tr><td>2</td><td>Variable</td><td></td><td><a class=\"ProveItLink\" href=\"../273f49450ca25e1b56abbd98a7aef618f8f6c1360/expr.ipynb\"><img src=\"data:image/png;base64,iVBORw0KGgoAAAANSUhEUgAAAAoAAAAOBAMAAADkjZCYAAAAMFBMVEX////MzMzc3NyYmJiIiIhU\n",
       "VFR2dna6urqqqqpmZmYyMjIiIiIQEBBERETu7u4AAADM1VnsAAAAAXRSTlMAQObYZgAAAAlwSFlz\n",
       "AAAOxAAADsQBlSsOGwAAAE9JREFUCNdj4LuzgQEIuCaASP4GEFn/AETmgAiGpQwt8xj4PnM0HWbg\n",
       "+FTBuIiB87AAUJh7ZSKQfF9QD+TYM7xvcGCIZXgvkMBwg4FlygMA76IUkutkA5UAAAAASUVORK5C\n",
       "YII=\n",
       "\" style=\"display:inline;vertical-align:middle;\" /></a></td></tr>\n",
       "<tr><td>3</td><td>Variable</td><td></td><td><a class=\"ProveItLink\" href=\"../../../__pv_it/146a2ac733407ae00030c58af25a3e0f465a566a0/expr.ipynb\"><img src=\"data:image/png;base64,iVBORw0KGgoAAAANSUhEUgAAAAYAAAAOBAMAAAD+sXAWAAAALVBMVEX///+6urru7u4QEBBERERU\n",
       "VFTc3NyIiIgyMjJmZmaYmJjMzMwiIiJ2dnYAAADXf7CVAAAAAXRSTlMAQObYZgAAAAlwSFlzAAAO\n",
       "xAAADsQBlSsOGwAAAD9JREFUCNdjYLjzmoGB6wEDA2cDAwNPAQND3gYGhnUMDAwhQGzOwMD9jIGB\n",
       "3YCBgSVAgYFvQQEDn1ABA9dcBgA2gAn/wFd3XQAAAABJRU5ErkJggg==\n",
       "\" style=\"display:inline;vertical-align:middle;\" /></a></td></tr>\n",
       "<tr><td>4</td><td>Operation</td><td>operator:&nbsp;5<br>operand:&nbsp;6<br></td><td><a class=\"ProveItLink\" href=\"../../../__pv_it/03cd40cb9846d2ffe540afad16f613712699495e0/expr.ipynb\"><img src=\"data:image/png;base64,iVBORw0KGgoAAAANSUhEUgAAACgAAAAVBAMAAADGNLEtAAAAMFBMVEX///8iIiK6urpUVFTMzMzu\n",
       "7u5EREQQEBAyMjJ2dnaYmJjc3NyIiIhmZmaqqqoAAABI0TZoAAAAAXRSTlMAQObYZgAAAAlwSFlz\n",
       "AAAOxAAADsQBlSsOGwAAAQNJREFUGNNjYICDDRCKmwEJ8DyA0EwHkARfwhjnEGKsDTAWRwBckHcB\n",
       "jMV1AS7IjtBUCmdpIAS7gPjtmV1A8iYQxxwOmQl0w2QGBs4G7jKo9AUeG14BBoYVDAzvAxj+AAXk\n",
       "gDZs4PnNDLTvIQNDGQPLb6BgEQMDCwMb2F3+DCz/GHgKIIIMDPxg36gzcP1mYDMAsvpAXP0NrAEg\n",
       "7VwfGOJB7s5hYAhTsGfgBDKXMbD+ZrAH+Qvojveu1xn0gMw7DAzKJy+CdCoyMMSe4bsFCippEF8W\n",
       "RDA6wDzELcDgHMDyBTUYgEFjHhABCdVsmOA2BgbdlZcg7DCYYCpSyHNDA5RrAwMANX05DrHAGMoA\n",
       "AAAASUVORK5CYII=\n",
       "\" style=\"display:inline;vertical-align:middle;\" /></a></td></tr>\n",
       "<tr><td>5</td><td>Variable</td><td></td><td><a class=\"ProveItLink\" href=\"../../../__pv_it/ee4ad292e488e3f95383e0f20138837b9e0a20550/expr.ipynb\"><img src=\"data:image/png;base64,iVBORw0KGgoAAAANSUhEUgAAAAoAAAANBAMAAABiGeI2AAAAMFBMVEX///8iIiK6urpUVFTMzMzu\n",
       "7u5EREQQEBAyMjJ2dnaYmJjc3NyIiIhmZmaqqqoAAABI0TZoAAAAAXRSTlMAQObYZgAAAAlwSFlz\n",
       "AAAOxAAADsQBlSsOGwAAAFVJREFUCNdjYGB4e2YXAwNnA3cZA8P7AIY/DAxlDCy/GVj+MfAUMHD9\n",
       "ZmAzYOD6wBC/gIH1N4N9AAOD8smLDCAgy8DgHMDyhYHBPCDiAAOD7spLDAwAOfYUG4v1KsgAAAAA\n",
       "SUVORK5CYII=\n",
       "\" style=\"display:inline;vertical-align:middle;\" /></a></td></tr>\n",
       "<tr><td>6</td><td>Variable</td><td></td><td><a class=\"ProveItLink\" href=\"../../../__pv_it/72df168d2bfb4e0140af90912ebf83b13772060b0/expr.ipynb\"><img src=\"data:image/png;base64,iVBORw0KGgoAAAANSUhEUgAAAAsAAAAJBAMAAAAWSsseAAAAMFBMVEX///8QEBC6uroyMjJERETc\n",
       "3NyYmJgiIiJmZmaqqqp2dnbMzMxUVFSIiIju7u4AAAAoIwv1AAAAAXRSTlMAQObYZgAAAAlwSFlz\n",
       "AAAOxAAADsQBlSsOGwAAAENJREFUCNdjYHh75/WqCQwMDbxnOQoY2AJ4v/IkMHAzsBgwgAD/BTCl\n",
       "H8D3gOGJwnkGLgaG+fsaGTQZGF7c5WybwAAAJGsQ2L2rVEcAAAAASUVORK5CYII=\n",
       "\" style=\"display:inline;vertical-align:middle;\" /></a></td></tr>\n",
       "</table>\n"
      ],
      "text/plain": [
       "0. g(k),...,g(l)\n",
       "   core type: ExprRange\n",
       "   lambda_map: 1\n",
       "   start_index: 2\n",
       "   end_index: 3\n",
       "1. x -> g(x)\n",
       "   core type: Lambda\n",
       "   parameter: 6\n",
       "   body: 4\n",
       "2. k\n",
       "   core type: Variable\n",
       "   sub-expressions: \n",
       "3. l\n",
       "   core type: Variable\n",
       "   sub-expressions: \n",
       "4. g(x)\n",
       "   core type: Operation\n",
       "   operator: 5\n",
       "   operand: 6\n",
       "5. g\n",
       "   core type: Variable\n",
       "   sub-expressions: \n",
       "6. x\n",
       "   core type: Variable\n",
       "   sub-expressions: "
      ]
     },
     "execution_count": 4,
     "metadata": {},
     "output_type": "execute_result"
    }
   ],
   "source": [
    "# display the expression information\n",
    "g_k_to_l.exprInfo()"
   ]
  },
  {
   "cell_type": "code",
   "execution_count": null,
   "metadata": {},
   "outputs": [],
   "source": []
  }
 ],
 "metadata": {
  "kernelspec": {
   "display_name": "Python 3",
   "language": "python",
   "name": "python3"
  },
  "language_info": {
   "codemirror_mode": {
    "name": "ipython",
    "version": 3
   },
   "file_extension": ".py",
   "mimetype": "text/x-python",
   "name": "python",
   "nbconvert_exporter": "python",
   "pygments_lexer": "ipython3",
   "version": "3.7.4"
  }
 },
 "nbformat": 4,
 "nbformat_minor": 1
}
