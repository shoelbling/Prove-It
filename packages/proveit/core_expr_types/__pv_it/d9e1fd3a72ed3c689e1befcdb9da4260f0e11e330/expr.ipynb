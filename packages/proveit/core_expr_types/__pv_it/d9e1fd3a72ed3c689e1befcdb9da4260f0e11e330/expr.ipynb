{
 "cells": [
  {
   "cell_type": "markdown",
   "metadata": {},
   "source": [
    "Expression of type <a class=\"ProveItLink\" href=\"../../../../../doc/html/api/proveit.ExprTuple.html\">ExprTuple</a>\n",
    "=======================\n",
    "# from context <a class=\"ProveItLink\" href=\"../../_context_.ipynb\">proveit.core_expr_types</a>"
   ]
  },
  {
   "cell_type": "code",
   "execution_count": 1,
   "metadata": {},
   "outputs": [],
   "source": [
    "import proveit\n",
    "# Automation is not needed when building an expression:\n",
    "proveit.defaults.automation = False # This will speed things up.\n",
    "# import Expression classes needed to build the expression\n",
    "from proveit import ExprRange, ExprTuple, Function, Variable\n",
    "from proveit._common_ import a, f, fa"
   ]
  },
  {
   "cell_type": "code",
   "execution_count": 2,
   "metadata": {},
   "outputs": [
    {
     "data": {
      "text/html": [
       "<strong id=\"expr\">expr:</strong> <a class=\"ProveItLink\" href=\"../b2018aa67353893cc941d2098cacb7a3f1b44b520/expr.ipynb\"><img src=\"data:image/png;base64,iVBORw0KGgoAAAANSUhEUgAAAMcAAAAVBAMAAAAA3efRAAAAMFBMVEX////MzMxUVFREREQiIiK6\n",
       "uroQEBCYmJhmZmYyMjLu7u52dnaqqqqIiIjc3NwAAACFAiZ1AAAAAXRSTlMAQObYZgAAAAlwSFlz\n",
       "AAAOxAAADsQBlSsOGwAAAr9JREFUSMeNVc1rE1EQn5BNNtls04B/gBUvHjz05CHYEqEHUZEeRChY\n",
       "2oMSEIWgF73EIkjAEghelBJkoScPklXEg6cc9KJoe4ygELDQi9B4Eksqzse+j13rmgczO/t+v5l5\n",
       "O2/eWwAYghlDrZJDJssw0ShbTuw41Teg2MuHuEWs3PZESb5Ez2UV7QO/rr9R9iCW1kbgSKDd/zWY\n",
       "7YfgnapFSyPxOoSVjt2AyD4PsGF5WQh8BigGqTmE/QyluEbvGyKFBr3k31VB2QB3LLc4Au5aahJh\n",
       "t1Cm+yoSSp7BFV5gXlGt5cYRgOupSYS9avwCliUGX7FeiqjFhnGLIwCPU5MwO0e1fa0joayTfevq\n",
       "Cd41LP4A+6c0o70MAt7XWdQv03IIuxCiegQfH0okFFnZgVplKYff6naMn0agAHXUd1O/5EAt3/vp\n",
       "f6pLJJQLfHh+MAXt7wWc9mvmWGkEmjBG/Tb1EDLbwT33f1/JPJVIKNdo2h8xB+1gGsuVGWk3g6C9\n",
       "j+poWhJh5xfxs+sVMikSCruXajrUFvYDlUw1vkGgQPbl1GNSU0mcJy+4B1ZZumRnZae7vGGxclkI\n",
       "OOH/yiXsIpart7hSAV2uOc4tVxLa3riEW0Vt5EEcAdjDFcJtDcVGYLGzqO9Br78tkVC4Jfe4gGTn\n",
       "RrtYF+L2OnGEHHG0FUTK+2Ubik19exx6lVAioVyi6S1ZDtlz2H8OXc/OuQSCjjguKsihC+asMhYC\n",
       "w85hjU7DVDuQSCgOJb8voRxZNuywfg8J5CY1aU1D8b4KLPYZPb0jgjeeP9ON334t1vi1NnLS3dc3\n",
       "Zfh3X4HFNhdsK5J5cKrqhM/LkaJ9Bw/LaSGZMZ0x+KagxHgOFjur/q0UiaNtgjtQk5vC4U93SSyk\n",
       "/YCeVQUlRsNme7OqpYMoWtm6csVuHnZhCMsdTvT73Y2eTZE/8inCNCBvvFUAAAAASUVORK5CYII=\n",
       "\" style=\"display:inline;vertical-align:middle;\" /></a><br>"
      ],
      "text/plain": [
       "expr: (f(i) , f(j) ,  ...  , f(k))"
      ]
     },
     "execution_count": 2,
     "metadata": {},
     "output_type": "execute_result"
    }
   ],
   "source": [
    "# build up the expression from sub-expressions\n",
    "expr = ExprTuple(Function(f, Variable(\"i\")), ExprRange(a, fa, Variable(\"j\"), Variable(\"k\")))"
   ]
  },
  {
   "cell_type": "code",
   "execution_count": 3,
   "metadata": {},
   "outputs": [
    {
     "name": "stdout",
     "output_type": "stream",
     "text": [
      "Passed sanity check: built 'expr' is the same as the stored Expression.\n"
     ]
    }
   ],
   "source": [
    "# check that the built expression is the same as the stored expression\n",
    "%check_expr"
   ]
  },
  {
   "cell_type": "code",
   "execution_count": 4,
   "metadata": {},
   "outputs": [
    {
     "name": "stdout",
     "output_type": "stream",
     "text": [
      "\\left(f\\left(i\\right) , f\\left(j\\right) , \\ldots , f\\left(k\\right)\\right)\n"
     ]
    }
   ],
   "source": [
    "# Show the LaTeX representation of the expression for convenience if you need it.\n",
    "print(expr.latex())"
   ]
  },
  {
   "cell_type": "code",
   "execution_count": 5,
   "metadata": {},
   "outputs": [
    {
     "data": {
      "text/html": [
       "<table><tr><th>&nbsp;</th><th>core type</th><th>sub-expressions</th><th>expression</th></tr>\n",
       "<tr><td>0</td><td>ExprTuple</td><td>1, 2</td><td><a class=\"ProveItLink\" href=\"../b2018aa67353893cc941d2098cacb7a3f1b44b520/expr.ipynb\"><img src=\"data:image/png;base64,iVBORw0KGgoAAAANSUhEUgAAAMcAAAAVBAMAAAAA3efRAAAAMFBMVEX////MzMxUVFREREQiIiK6\n",
       "uroQEBCYmJhmZmYyMjLu7u52dnaqqqqIiIjc3NwAAACFAiZ1AAAAAXRSTlMAQObYZgAAAAlwSFlz\n",
       "AAAOxAAADsQBlSsOGwAAAr9JREFUSMeNVc1rE1EQn5BNNtls04B/gBUvHjz05CHYEqEHUZEeRChY\n",
       "2oMSEIWgF73EIkjAEghelBJkoScPklXEg6cc9KJoe4ygELDQi9B4Eksqzse+j13rmgczO/t+v5l5\n",
       "O2/eWwAYghlDrZJDJssw0ShbTuw41Teg2MuHuEWs3PZESb5Ez2UV7QO/rr9R9iCW1kbgSKDd/zWY\n",
       "7YfgnapFSyPxOoSVjt2AyD4PsGF5WQh8BigGqTmE/QyluEbvGyKFBr3k31VB2QB3LLc4Au5aahJh\n",
       "t1Cm+yoSSp7BFV5gXlGt5cYRgOupSYS9avwCliUGX7FeiqjFhnGLIwCPU5MwO0e1fa0joayTfevq\n",
       "Cd41LP4A+6c0o70MAt7XWdQv03IIuxCiegQfH0okFFnZgVplKYff6naMn0agAHXUd1O/5EAt3/vp\n",
       "f6pLJJQLfHh+MAXt7wWc9mvmWGkEmjBG/Tb1EDLbwT33f1/JPJVIKNdo2h8xB+1gGsuVGWk3g6C9\n",
       "j+poWhJh5xfxs+sVMikSCruXajrUFvYDlUw1vkGgQPbl1GNSU0mcJy+4B1ZZumRnZae7vGGxclkI\n",
       "OOH/yiXsIpart7hSAV2uOc4tVxLa3riEW0Vt5EEcAdjDFcJtDcVGYLGzqO9Br78tkVC4Jfe4gGTn\n",
       "RrtYF+L2OnGEHHG0FUTK+2Ubik19exx6lVAioVyi6S1ZDtlz2H8OXc/OuQSCjjguKsihC+asMhYC\n",
       "w85hjU7DVDuQSCgOJb8voRxZNuywfg8J5CY1aU1D8b4KLPYZPb0jgjeeP9ON334t1vi1NnLS3dc3\n",
       "Zfh3X4HFNhdsK5J5cKrqhM/LkaJ9Bw/LaSGZMZ0x+KagxHgOFjur/q0UiaNtgjtQk5vC4U93SSyk\n",
       "/YCeVQUlRsNme7OqpYMoWtm6csVuHnZhCMsdTvT73Y2eTZE/8inCNCBvvFUAAAAASUVORK5CYII=\n",
       "\" style=\"display:inline;vertical-align:middle;\" /></a></td></tr>\n",
       "<tr><td>1</td><td>Operation</td><td>operator:&nbsp;8<br>operand:&nbsp;3<br></td><td><a class=\"ProveItLink\" href=\"../f78e211eb81b6bf4bca743e003e005836a4261570/expr.ipynb\"><img src=\"data:image/png;base64,iVBORw0KGgoAAAANSUhEUgAAACQAAAAVBAMAAADcCFGjAAAAMFBMVEX///8yMjLc3NyIiIiYmJgi\n",
       "IiJERES6urqqqqoQEBDMzMxUVFTu7u52dnZmZmYAAAD1zdHuAAAAAXRSTlMAQObYZgAAAAlwSFlz\n",
       "AAAOxAAADsQBlSsOGwAAAPFJREFUGNNjYIADJjgBBxYggt0AzOa7ewBIclxgYGB+AJFguL2yAUge\n",
       "BGLWCwyMIGmGGWUg6glEO8sDkPY/YPYEqJFzgJg3AGyuAFRIBKhyZzRILR/Q9MOPQSYDMT/YXkYH\n",
       "BoYLlUCGIxDrLwAJsTYwMDU8BDJagbgfbARnAQMPw2cgYz0QX4UJMXCA7AZpzgYLMQKdy7gBqnEy\n",
       "WIgNaMn5BqC1bkC//wIL8QJV1DMBrQU6hOMDWIgd6GA2EyAjCOjGDRBXR0FDLYChG2QuCPhBKD4H\n",
       "hrCDUL+xKYApNQYG50dQIZ4EMJWDHNAq4OBSYAAAorAwGv6j7CQAAAAASUVORK5CYII=\n",
       "\" style=\"display:inline;vertical-align:middle;\" /></a></td></tr>\n",
       "<tr><td>2</td><td>ExprRange</td><td>lambda_map:&nbsp;4<br>start_index:&nbsp;5<br>end_index:&nbsp;6<br></td><td><a class=\"ProveItLink\" href=\"../7848e0561cf0c19ccfb5b17066c7b4771041e8a90/expr.ipynb\"><img src=\"data:image/png;base64,iVBORw0KGgoAAAANSUhEUgAAAIQAAAAVBAMAAAB1UFtyAAAAMFBMVEX///8yMjLc3NyIiIiYmJgi\n",
       "IiJERES6urqqqqoQEBDMzMxUVFTu7u52dnZmZmYAAAD1zdHuAAAAAXRSTlMAQObYZgAAAAlwSFlz\n",
       "AAAOxAAADsQBlSsOGwAAAglJREFUOMuNVD1IHEEUfnfu3p/neoQUQkLYIqb1KrGSUyGlHhYhJEYO\n",
       "0yhaGETRykWxUjlBQQuLa61MJdgpgbRnY5FI4IjaKSQiCGLh++btjD+L4w3Mm7dvvvnmzTfzlsi0\n",
       "uAw+1dX8B4vC1iHDRF0MDYGMybwavD97bFMHbDJjZvKpJuhlouxI0Wx8tIVV+4o8R/TaTqHQWcZR\n",
       "rAYDQtqYwnCiMb12CoX2Cuw1Y2cHPMkbNbWiMek9G4Og0zCzCrjJvamopnIaFCvYKAT9DeaXCrzk\n",
       "THY/IxcPav5oB+i7hSFEn8N/RfNnrA2OlDd719JsnZwtC0Hz1pS9TM2tEXWx21ZB0GVtHB8KpYo2\n",
       "CkF/xCu4mM68IFpgtywijsOWWaHMPxuFoNdx9DXFts398B7FKYRdsVEcGgr3zW+4M9xH5R7Uo/xC\n",
       "zx1E0C3cq+OzSAMHWVXBBGSKX0H0ErSKrA0jgv7KvY+qAS96z8uu5b5xlQ5k8EBW5WvJ/n/sGDRu\n",
       "coeqFX4Jx5y3qJdE+o1IwEUduwNsBuHUtIOIRk9yH6aGY1a/nzcNX9InaIoEWtXnUuQkKhKi3Yr5\n",
       "yxRpMRbo6moM+u7q7SBCgYhGq+KS2i/Qh/3QT/jbAV5MvKTEy0fkRMSgh3T4HVHPXw0peZ14GwlV\n",
       "f060OmAM+qcOj93HvJWhu64fXzwsZ8enW917dEhPYprsAAAAAElFTkSuQmCC\n",
       "\" style=\"display:inline;vertical-align:middle;\" /></a></td></tr>\n",
       "<tr><td>3</td><td>Variable</td><td></td><td><a class=\"ProveItLink\" href=\"../557ab5defdcd46aa58168b08767502985122cd490/expr.ipynb\"><img src=\"data:image/png;base64,iVBORw0KGgoAAAANSUhEUgAAAAcAAAAOBAMAAAARcxsoAAAALVBMVEX///9ERESYmJhUVFQyMjKq\n",
       "qqrc3NwQEBC6urru7u52dnYiIiJmZmaIiIgAAAD/UVazAAAAAXRSTlMAQObYZgAAAAlwSFlzAAAO\n",
       "xAAADsQBlSsOGwAAADlJREFUCNdjYGC4wwAEuxjQAeedCwwMXBwFDAypPA4MDBP4gFyGuAlAwhkk\n",
       "+5SLgYHjQRKQKavAAAAx5QmdfgFqMAAAAABJRU5ErkJggg==\n",
       "\" style=\"display:inline;vertical-align:middle;\" /></a></td></tr>\n",
       "<tr><td>4</td><td>Lambda</td><td>parameter:&nbsp;9<br>body:&nbsp;7<br></td><td><a class=\"ProveItLink\" href=\"../f0043753ff2624d263f59c4c60930b136180b0460/expr.ipynb\"><img src=\"data:image/png;base64,iVBORw0KGgoAAAANSUhEUgAAAFQAAAAVCAMAAADvsTk6AAAANlBMVEX///8WFhYNDQ3MzMxUVFQy\n",
       "MjKqqqoiIiKYmJju7u5EREQQEBC6urqIiIh2dnZmZmbc3NwAAADRPqZpAAAAAXRSTlMAQObYZgAA\n",
       "AAlwSFlzAAAOxAAADsQBlSsOGwAAATxJREFUOMulVFtihCAMtOUdHoH7X7agZZcEdKvNj2JkMsOE\n",
       "bNt/I1+snkbUZBniQxxMyfV3na6L/DWSFL7vdGpKK/cE1OsAfSPaKW3x44nNBx/KQMWvii6okk96\n",
       "LpvMUEAtQNXOPmOK+eWaIX8YLk56I/FtWe+kASLJVs5XjfASRWE0cCIlclIMwlb6zrcMmhNuEegR\n",
       "5SIGHUcXUAhdn7gXMK9++/4yJEoJhHoZPTlSFELUP3wT6N47GdOgwqlPHZRCBF/fWwFbTqwRvJdB\n",
       "jkbv8hlEle9KS4DadF6BKt6ofrzcEA9QAmErb1UT1uDWD5WoDbxPiU9H93AIrCsnYxJZRrGcHfwr\n",
       "8WkLhywKYW6PP5T0bsxUsrmHqOWvNVfTYzFjLsPANOqAa81wU7uNyDEcx4BH45Qzo2ptq/oDHYoL\n",
       "1B9fEzQAAAAASUVORK5CYII=\n",
       "\" style=\"display:inline;vertical-align:middle;\" /></a></td></tr>\n",
       "<tr><td>5</td><td>Variable</td><td></td><td><a class=\"ProveItLink\" href=\"../6a5b5879f51878868f626bf09e4d76392d4779cd0/expr.ipynb\"><img src=\"data:image/png;base64,iVBORw0KGgoAAAANSUhEUgAAAAoAAAASBAMAAACQmVJ4AAAAMFBMVEX///9UVFS6urp2dnYiIiKq\n",
       "qqrc3NyYmJgQEBBmZmYyMjKIiIju7u5ERETMzMwAAAC4hZuzAAAAAXRSTlMAQObYZgAAAAlwSFlz\n",
       "AAAOxAAADsQBlSsOGwAAAEtJREFUCNdjYGBg4LsDJBi4FzBgA6f3gsgJHAUMDOwJ/AEgTvwBEDkF\n",
       "LO0MItg+gUj2DyCS8QKI5NgAZAXUAxW+D3AF8jl3KjAwAACAGg5QwkhbIAAAAABJRU5ErkJggg==\n",
       "\" style=\"display:inline;vertical-align:middle;\" /></a></td></tr>\n",
       "<tr><td>6</td><td>Variable</td><td></td><td><a class=\"ProveItLink\" href=\"../273f49450ca25e1b56abbd98a7aef618f8f6c1360/expr.ipynb\"><img src=\"data:image/png;base64,iVBORw0KGgoAAAANSUhEUgAAAAoAAAAOBAMAAADkjZCYAAAAMFBMVEX////MzMzc3NyYmJiIiIhU\n",
       "VFR2dna6urqqqqpmZmYyMjIiIiIQEBBERETu7u4AAADM1VnsAAAAAXRSTlMAQObYZgAAAAlwSFlz\n",
       "AAAOxAAADsQBlSsOGwAAAE9JREFUCNdj4LuzgQEIuCaASP4GEFn/AETmgAiGpQwt8xj4PnM0HWbg\n",
       "+FTBuIiB87AAUJh7ZSKQfF9QD+TYM7xvcGCIZXgvkMBwg4FlygMA76IUkutkA5UAAAAASUVORK5C\n",
       "YII=\n",
       "\" style=\"display:inline;vertical-align:middle;\" /></a></td></tr>\n",
       "<tr><td>7</td><td>Operation</td><td>operator:&nbsp;8<br>operand:&nbsp;9<br></td><td><a class=\"ProveItLink\" href=\"../../../__pv_it/e80bce2a0c2e8c976be76e7b3ce08f76e74ec5550/expr.ipynb\"><img src=\"data:image/png;base64,iVBORw0KGgoAAAANSUhEUgAAACgAAAAVBAMAAADGNLEtAAAAMFBMVEX///8yMjLc3NyIiIiYmJgi\n",
       "IiJERES6urqqqqoQEBDMzMxUVFTu7u52dnZmZmYAAAD1zdHuAAAAAXRSTlMAQObYZgAAAAlwSFlz\n",
       "AAAOxAAADsQBlSsOGwAAAP1JREFUGNNjYIADJhQKCiwgFLsBmOK7ewBIclxAkby9sgFIHoTpYAQp\n",
       "YZhRBqKewARZHoAM+QNmT4AbPgeIeQPA5gvABUWAqndGg9TzgezRu6wMsgOI+cFuYHQAqp7EkA80\n",
       "3hHI1V8AEmQFuuCkA8NTILMViPvBBnEWMDC8P8AQC2SuB+KrcMFpDDzfgcxKIM6GOLmBgecvA8sH\n",
       "qPbJYEE2AwaeHwxsAk0MDG7AUPkFFuTdwMAgzOD6AOiyx8CA+AAJHKAXTtsu2gx0ShDQ1Rsg/oiC\n",
       "h2sAQzdjA4TtBxPkc2AIgwUZmwKUocbA4PwIyuZJgDJykKNDBRqcCgwAmIo1X55DCvQAAAAASUVO\n",
       "RK5CYII=\n",
       "\" style=\"display:inline;vertical-align:middle;\" /></a></td></tr>\n",
       "<tr><td>8</td><td>Variable</td><td></td><td><a class=\"ProveItLink\" href=\"../../../__pv_it/d7bbb04e874e28c7cefb21d4eea40806ae52f1f70/expr.ipynb\"><img src=\"data:image/png;base64,iVBORw0KGgoAAAANSUhEUgAAAAsAAAASBAMAAAB/WzlGAAAAMFBMVEX///8yMjLc3NyIiIiYmJgi\n",
       "IiJERES6urqqqqoQEBDMzMxUVFTu7u52dnZmZmYAAAD1zdHuAAAAAXRSTlMAQObYZgAAAAlwSFlz\n",
       "AAAOxAAADsQBlSsOGwAAAFNJREFUCNdjYGBg4Lt7AEgy3F7ZAKJmlIF47H9AbAbeABDJsjP6AYjm\n",
       "NwAL6i8AU/1gkuEqhMqGUJPBJNMvMMXxAUzxbQCR3Yxg48MOgsWcH4FIAPrAEkCfAu8DAAAAAElF\n",
       "TkSuQmCC\n",
       "\" style=\"display:inline;vertical-align:middle;\" /></a></td></tr>\n",
       "<tr><td>9</td><td>Variable</td><td></td><td><a class=\"ProveItLink\" href=\"../../../__pv_it/a8d4b3a34d2189508f9082853fbac36935714f280/expr.ipynb\"><img src=\"data:image/png;base64,iVBORw0KGgoAAAANSUhEUgAAAAsAAAAJBAMAAAAWSsseAAAAMFBMVEX////MzMxUVFQyMjKqqqoi\n",
       "IiKYmJju7u5EREQQEBC6urqIiIh2dnZmZmbc3NwAAAD0tjQRAAAAAXRSTlMAQObYZgAAAAlwSFlz\n",
       "AAAOxAAADsQBlSsOGwAAAEdJREFUCNdjYOC7s28DAwPDygcc3xkY2Kcx8AYwMPB+Z2A9wMDA2cBQ\n",
       "v4CBof4AQz5QRb0DQzPLAwbmDWyxPECV2gcfbWQAABp5EMgcedARAAAAAElFTkSuQmCC\n",
       "\" style=\"display:inline;vertical-align:middle;\" /></a></td></tr>\n",
       "</table>\n"
      ],
      "text/plain": [
       "0. (f(i) , f(j) ,  ...  , f(k))\n",
       "   core type: ExprTuple\n",
       "   sub-expressions: 1, 2\n",
       "1. f(i)\n",
       "   core type: Operation\n",
       "   operator: 8\n",
       "   operand: 3\n",
       "2. f(j),...,f(k)\n",
       "   core type: ExprRange\n",
       "   lambda_map: 4\n",
       "   start_index: 5\n",
       "   end_index: 6\n",
       "3. i\n",
       "   core type: Variable\n",
       "   sub-expressions: \n",
       "4. a -> f(a)\n",
       "   core type: Lambda\n",
       "   parameter: 9\n",
       "   body: 7\n",
       "5. j\n",
       "   core type: Variable\n",
       "   sub-expressions: \n",
       "6. k\n",
       "   core type: Variable\n",
       "   sub-expressions: \n",
       "7. f(a)\n",
       "   core type: Operation\n",
       "   operator: 8\n",
       "   operand: 9\n",
       "8. f\n",
       "   core type: Variable\n",
       "   sub-expressions: \n",
       "9. a\n",
       "   core type: Variable\n",
       "   sub-expressions: "
      ]
     },
     "execution_count": 5,
     "metadata": {},
     "output_type": "execute_result"
    }
   ],
   "source": [
    "# display the expression information\n",
    "expr.exprInfo()"
   ]
  },
  {
   "cell_type": "code",
   "execution_count": null,
   "metadata": {},
   "outputs": [],
   "source": []
  }
 ],
 "metadata": {
  "kernelspec": {
   "display_name": "Python 3",
   "language": "python",
   "name": "python3"
  },
  "language_info": {
   "codemirror_mode": {
    "name": "ipython",
    "version": 3
   },
   "file_extension": ".py",
   "mimetype": "text/x-python",
   "name": "python",
   "nbconvert_exporter": "python",
   "pygments_lexer": "ipython3",
   "version": "3.7.4"
  }
 },
 "nbformat": 4,
 "nbformat_minor": 1
}
