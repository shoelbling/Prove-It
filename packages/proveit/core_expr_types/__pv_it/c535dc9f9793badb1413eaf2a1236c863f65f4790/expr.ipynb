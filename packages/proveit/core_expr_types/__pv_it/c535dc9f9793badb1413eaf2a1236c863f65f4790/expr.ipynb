{
 "cells": [
  {
   "cell_type": "markdown",
   "metadata": {},
   "source": [
    "Expression of type <a class=\"ProveItLink\" href=\"../../../../../doc/html/api/proveit.Lambda.html\">Lambda</a>\n",
    "=======================\n",
    "# from context <a class=\"ProveItLink\" href=\"../../_context_.ipynb\">proveit.core_expr_types</a>"
   ]
  },
  {
   "cell_type": "code",
   "execution_count": 1,
   "metadata": {},
   "outputs": [],
   "source": [
    "import proveit\n",
    "# Automation is not needed when building an expression:\n",
    "proveit.defaults.automation = False # This will speed things up.\n",
    "# import Expression classes needed to build the expression\n",
    "from proveit import IndexedVar, Lambda\n",
    "from proveit._common_ import a, x"
   ]
  },
  {
   "cell_type": "code",
   "execution_count": 2,
   "metadata": {},
   "outputs": [
    {
     "data": {
      "text/html": [
       "<strong id=\"expr\">expr:</strong> <a class=\"ProveItLink\" href=\"../e722db747cfbe405859686f15af09ea3f8e82cd00/expr.ipynb\"><img src=\"data:image/png;base64,iVBORw0KGgoAAAANSUhEUgAAAEAAAAAOCAMAAACo5erwAAAANlBMVEX///8WFhYNDQ3MzMxUVFQy\n",
       "MjKqqqoiIiKYmJju7u5EREQQEBC6urqIiIh2dnZmZmbc3NwAAADRPqZpAAAAAXRSTlMAQObYZgAA\n",
       "AAlwSFlzAAAOxAAADsQBlSsOGwAAAOJJREFUKM+dUtFyxCAI5IpRUBH9/58t5DpWr7lOG2Z8WCDL\n",
       "Qhbg95AO/w5eQdQ/fNG1SZcJ01bcEIsExtbi1lKLycyDrwliXoDJkSCgO2shL6U3CkDypCabJKND\n",
       "oLVBz9mpzcTHI20xRv2qoL18vF6guEaeTT8U1KOucMjrzYfPpvHmbIDH9leqbQDsKVaS5mDEp7DY\n",
       "LwmObyNwrhB8ko/khIDn9odpoqQwj7AprosP4kDWYjkfqVbAcvIGadiD4KVHdEmzipiz6HSBH00C\n",
       "3A72W2Rivs1g7sNR6b6EaqtII/gEvskH/QXIwUEAAAAASUVORK5CYII=\n",
       "\" style=\"display:inline;vertical-align:middle;\" /></a><br>"
      ],
      "text/plain": [
       "expr: a -> x_{a}"
      ]
     },
     "execution_count": 2,
     "metadata": {},
     "output_type": "execute_result"
    }
   ],
   "source": [
    "# build up the expression from sub-expressions\n",
    "expr = Lambda(a, IndexedVar(x, a))"
   ]
  },
  {
   "cell_type": "code",
   "execution_count": 3,
   "metadata": {},
   "outputs": [
    {
     "name": "stdout",
     "output_type": "stream",
     "text": [
      "Passed sanity check: built 'expr' is the same as the stored Expression.\n"
     ]
    }
   ],
   "source": [
    "# check that the built expression is the same as the stored expression\n",
    "%check_expr"
   ]
  },
  {
   "cell_type": "code",
   "execution_count": 4,
   "metadata": {},
   "outputs": [
    {
     "name": "stdout",
     "output_type": "stream",
     "text": [
      "a \\mapsto x_{a}\n"
     ]
    }
   ],
   "source": [
    "# Show the LaTeX representation of the expression for convenience if you need it.\n",
    "print(expr.latex())"
   ]
  },
  {
   "cell_type": "code",
   "execution_count": 5,
   "metadata": {},
   "outputs": [
    {
     "data": {
      "text/html": [
       "<table><tr><th>&nbsp;</th><th>core type</th><th>sub-expressions</th><th>expression</th></tr>\n",
       "<tr><td>0</td><td>Lambda</td><td>parameter:&nbsp;3<br>body:&nbsp;1<br></td><td><a class=\"ProveItLink\" href=\"../e722db747cfbe405859686f15af09ea3f8e82cd00/expr.ipynb\"><img src=\"data:image/png;base64,iVBORw0KGgoAAAANSUhEUgAAAEAAAAAOCAMAAACo5erwAAAANlBMVEX///8WFhYNDQ3MzMxUVFQy\n",
       "MjKqqqoiIiKYmJju7u5EREQQEBC6urqIiIh2dnZmZmbc3NwAAADRPqZpAAAAAXRSTlMAQObYZgAA\n",
       "AAlwSFlzAAAOxAAADsQBlSsOGwAAAOJJREFUKM+dUtFyxCAI5IpRUBH9/58t5DpWr7lOG2Z8WCDL\n",
       "Qhbg95AO/w5eQdQ/fNG1SZcJ01bcEIsExtbi1lKLycyDrwliXoDJkSCgO2shL6U3CkDypCabJKND\n",
       "oLVBz9mpzcTHI20xRv2qoL18vF6guEaeTT8U1KOucMjrzYfPpvHmbIDH9leqbQDsKVaS5mDEp7DY\n",
       "LwmObyNwrhB8ko/khIDn9odpoqQwj7AprosP4kDWYjkfqVbAcvIGadiD4KVHdEmzipiz6HSBH00C\n",
       "3A72W2Rivs1g7sNR6b6EaqtII/gEvskH/QXIwUEAAAAASUVORK5CYII=\n",
       "\" style=\"display:inline;vertical-align:middle;\" /></a></td></tr>\n",
       "<tr><td>1</td><td>IndexedVar</td><td>variable:&nbsp;2<br>index:&nbsp;3<br></td><td><a class=\"ProveItLink\" href=\"../dee26a812cfa22d9ad480944f52f6d73aab21be10/expr.ipynb\"><img src=\"data:image/png;base64,iVBORw0KGgoAAAANSUhEUgAAABUAAAAMBAMAAAB/4Ov2AAAAMFBMVEX///8QEBC6uroyMjJERETc\n",
       "3NyYmJgiIiJmZmaqqqp2dnbMzMxUVFSIiIju7u4AAAAoIwv1AAAAAXRSTlMAQObYZgAAAAlwSFlz\n",
       "AAAOxAAADsQBlSsOGwAAAG1JREFUCNdjYHh75/WqCQwQ0MB7lqMAwmQL4P3KkwBhczOwGDDAAf8F\n",
       "BFs/gO8Bw4vcpQwMTxTOM3Ax8FVz/2NgmL+vkUGTgaOBW4CB4cVdzrYJDPwKvAdget4HsOQ9gLIZ\n",
       "A/arwcSZ2uYuYwAAzdgblULCgcAAAAAASUVORK5CYII=\n",
       "\" style=\"display:inline;vertical-align:middle;\" /></a></td></tr>\n",
       "<tr><td>2</td><td>Variable</td><td></td><td><a class=\"ProveItLink\" href=\"../../../__pv_it/72df168d2bfb4e0140af90912ebf83b13772060b0/expr.ipynb\"><img src=\"data:image/png;base64,iVBORw0KGgoAAAANSUhEUgAAAAsAAAAJBAMAAAAWSsseAAAAMFBMVEX///8QEBC6uroyMjJERETc\n",
       "3NyYmJgiIiJmZmaqqqp2dnbMzMxUVFSIiIju7u4AAAAoIwv1AAAAAXRSTlMAQObYZgAAAAlwSFlz\n",
       "AAAOxAAADsQBlSsOGwAAAENJREFUCNdjYHh75/WqCQwMDbxnOQoY2AJ4v/IkMHAzsBgwgAD/BTCl\n",
       "H8D3gOGJwnkGLgaG+fsaGTQZGF7c5WybwAAAJGsQ2L2rVEcAAAAASUVORK5CYII=\n",
       "\" style=\"display:inline;vertical-align:middle;\" /></a></td></tr>\n",
       "<tr><td>3</td><td>Variable</td><td></td><td><a class=\"ProveItLink\" href=\"../../../__pv_it/a8d4b3a34d2189508f9082853fbac36935714f280/expr.ipynb\"><img src=\"data:image/png;base64,iVBORw0KGgoAAAANSUhEUgAAAAsAAAAJBAMAAAAWSsseAAAAMFBMVEX////MzMxUVFQyMjKqqqoi\n",
       "IiKYmJju7u5EREQQEBC6urqIiIh2dnZmZmbc3NwAAAD0tjQRAAAAAXRSTlMAQObYZgAAAAlwSFlz\n",
       "AAAOxAAADsQBlSsOGwAAAEdJREFUCNdjYOC7s28DAwPDygcc3xkY2Kcx8AYwMPB+Z2A9wMDA2cBQ\n",
       "v4CBof4AQz5QRb0DQzPLAwbmDWyxPECV2gcfbWQAABp5EMgcedARAAAAAElFTkSuQmCC\n",
       "\" style=\"display:inline;vertical-align:middle;\" /></a></td></tr>\n",
       "</table>\n"
      ],
      "text/plain": [
       "0. a -> x_{a}\n",
       "   core type: Lambda\n",
       "   parameter: 3\n",
       "   body: 1\n",
       "1. x_{a}\n",
       "   core type: IndexedVar\n",
       "variable: 2\n",
       "index: 3\n",
       "2. x\n",
       "   core type: Variable\n",
       "   sub-expressions: \n",
       "3. a\n",
       "   core type: Variable\n",
       "   sub-expressions: "
      ]
     },
     "execution_count": 5,
     "metadata": {},
     "output_type": "execute_result"
    }
   ],
   "source": [
    "# display the expression information\n",
    "expr.exprInfo()"
   ]
  },
  {
   "cell_type": "code",
   "execution_count": null,
   "metadata": {},
   "outputs": [],
   "source": []
  }
 ],
 "metadata": {
  "kernelspec": {
   "display_name": "Python 3",
   "language": "python",
   "name": "python3"
  },
  "language_info": {
   "codemirror_mode": {
    "name": "ipython",
    "version": 3
   },
   "file_extension": ".py",
   "mimetype": "text/x-python",
   "name": "python",
   "nbconvert_exporter": "python",
   "pygments_lexer": "ipython3",
   "version": "3.7.4"
  }
 },
 "nbformat": 4,
 "nbformat_minor": 1
}
