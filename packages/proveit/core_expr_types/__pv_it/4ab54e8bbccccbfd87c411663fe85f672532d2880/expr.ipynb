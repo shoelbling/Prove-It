{
 "cells": [
  {
   "cell_type": "markdown",
   "metadata": {},
   "source": [
    "Expression of type <a class=\"ProveItLink\" href=\"../../../../../doc/html/api/proveit.Lambda.html\">Lambda</a>\n",
    "=======================\n",
    "# from context <a class=\"ProveItLink\" href=\"../../_context_.ipynb\">proveit.core_expr_types</a>"
   ]
  },
  {
   "cell_type": "code",
   "execution_count": 1,
   "metadata": {},
   "outputs": [],
   "source": [
    "import proveit\n",
    "# Automation is not needed when building an expression:\n",
    "proveit.defaults.automation = False # This will speed things up.\n",
    "# import Expression classes needed to build the expression\n",
    "from proveit import Lambda, Variable\n",
    "from proveit._common_ import gx"
   ]
  },
  {
   "cell_type": "code",
   "execution_count": 2,
   "metadata": {},
   "outputs": [
    {
     "data": {
      "text/html": [
       "<strong id=\"expr\">expr:</strong> <a class=\"ProveItLink\" href=\"../a0a14f033d4835f8afeadfe3aaf319026ef604720/expr.ipynb\"><img src=\"data:image/png;base64,iVBORw0KGgoAAAANSUhEUgAAAFQAAAAVCAMAAADvsTk6AAAANlBMVEX///8WFhYNDQ0QEBC6uroy\n",
       "MjJERETc3NyYmJgiIiJmZmaqqqp2dnbMzMxUVFSIiIju7u4AAAANq5mNAAAAAXRSTlMAQObYZgAA\n",
       "AAlwSFlzAAAOxAAADsQBlSsOGwAAAUdJREFUOMulVNm2wyAI9N4o7oL//7PFLI1b05OGFyN6xmGY\n",
       "IMTD0Jfb3wJ9u5f4HNOHb6/cD1JjTtFDUGfGnHHfNbtUfpkmZ1SbnL96V6pZVhX6hJgohnAobJsr\n",
       "tm+NQ9R71W5vU4sQUjniIhMKZ6cwHpptYHJ6gYrTgGD4imHVMGuRzJwbQqWHz2WTdzPajVqH4Bkg\n",
       "8gq1OP9/tomc5dmEwjHmvXvLdtAhxLytGT+rKJWs7hdueDR9OU8qBLkdy/I00RQ01mY2K0dIR5/f\n",
       "f0+NwOUTSJEK4TBnqmqjmnKR8qE+rPR6BAMsfSTHhOX5alN841MqhFI+uK/mGRAcCmLfsfnMhzng\n",
       "YitwwvD2npDrV49gfxl/9iRv42TA2ntwMVFxQLwcHrMhcxWJZwWp2n4wlKrhZuHSmeCaPtIAAfR8\n",
       "9Ouu2PLLihfpEAyNeXPxSAAAAABJRU5ErkJggg==\n",
       "\" style=\"display:inline;vertical-align:middle;\" /></a><br>"
      ],
      "text/plain": [
       "expr: x -> g(x)"
      ]
     },
     "execution_count": 2,
     "metadata": {},
     "output_type": "execute_result"
    }
   ],
   "source": [
    "# build up the expression from sub-expressions\n",
    "expr = Lambda(Variable(\"x\"), gx)"
   ]
  },
  {
   "cell_type": "code",
   "execution_count": 3,
   "metadata": {},
   "outputs": [
    {
     "name": "stdout",
     "output_type": "stream",
     "text": [
      "Passed sanity check: built 'expr' is the same as the stored Expression.\n"
     ]
    }
   ],
   "source": [
    "# check that the built expression is the same as the stored expression\n",
    "%check_expr"
   ]
  },
  {
   "cell_type": "code",
   "execution_count": 4,
   "metadata": {},
   "outputs": [
    {
     "name": "stdout",
     "output_type": "stream",
     "text": [
      "x \\mapsto g\\left(x\\right)\n"
     ]
    }
   ],
   "source": [
    "# Show the LaTeX representation of the expression for convenience if you need it.\n",
    "print(expr.latex())"
   ]
  },
  {
   "cell_type": "code",
   "execution_count": 5,
   "metadata": {},
   "outputs": [
    {
     "data": {
      "text/html": [
       "<table><tr><th>&nbsp;</th><th>core type</th><th>sub-expressions</th><th>expression</th></tr>\n",
       "<tr><td>0</td><td>Lambda</td><td>parameter:&nbsp;3<br>body:&nbsp;1<br></td><td><a class=\"ProveItLink\" href=\"../a0a14f033d4835f8afeadfe3aaf319026ef604720/expr.ipynb\"><img src=\"data:image/png;base64,iVBORw0KGgoAAAANSUhEUgAAAFQAAAAVCAMAAADvsTk6AAAANlBMVEX///8WFhYNDQ0QEBC6uroy\n",
       "MjJERETc3NyYmJgiIiJmZmaqqqp2dnbMzMxUVFSIiIju7u4AAAANq5mNAAAAAXRSTlMAQObYZgAA\n",
       "AAlwSFlzAAAOxAAADsQBlSsOGwAAAUdJREFUOMulVNm2wyAI9N4o7oL//7PFLI1b05OGFyN6xmGY\n",
       "IMTD0Jfb3wJ9u5f4HNOHb6/cD1JjTtFDUGfGnHHfNbtUfpkmZ1SbnL96V6pZVhX6hJgohnAobJsr\n",
       "tm+NQ9R71W5vU4sQUjniIhMKZ6cwHpptYHJ6gYrTgGD4imHVMGuRzJwbQqWHz2WTdzPajVqH4Bkg\n",
       "8gq1OP9/tomc5dmEwjHmvXvLdtAhxLytGT+rKJWs7hdueDR9OU8qBLkdy/I00RQ01mY2K0dIR5/f\n",
       "f0+NwOUTSJEK4TBnqmqjmnKR8qE+rPR6BAMsfSTHhOX5alN841MqhFI+uK/mGRAcCmLfsfnMhzng\n",
       "YitwwvD2npDrV49gfxl/9iRv42TA2ntwMVFxQLwcHrMhcxWJZwWp2n4wlKrhZuHSmeCaPtIAAfR8\n",
       "9Ouu2PLLihfpEAyNeXPxSAAAAABJRU5ErkJggg==\n",
       "\" style=\"display:inline;vertical-align:middle;\" /></a></td></tr>\n",
       "<tr><td>1</td><td>Operation</td><td>operator:&nbsp;2<br>operand:&nbsp;3<br></td><td><a class=\"ProveItLink\" href=\"../../../__pv_it/03cd40cb9846d2ffe540afad16f613712699495e0/expr.ipynb\"><img src=\"data:image/png;base64,iVBORw0KGgoAAAANSUhEUgAAACgAAAAVBAMAAADGNLEtAAAAMFBMVEX///8iIiK6urpUVFTMzMzu\n",
       "7u5EREQQEBAyMjJ2dnaYmJjc3NyIiIhmZmaqqqoAAABI0TZoAAAAAXRSTlMAQObYZgAAAAlwSFlz\n",
       "AAAOxAAADsQBlSsOGwAAAQNJREFUGNNjYICDDRCKmwEJ8DyA0EwHkARfwhjnEGKsDTAWRwBckHcB\n",
       "jMV1AS7IjtBUCmdpIAS7gPjtmV1A8iYQxxwOmQl0w2QGBs4G7jKo9AUeG14BBoYVDAzvAxj+AAXk\n",
       "gDZs4PnNDLTvIQNDGQPLb6BgEQMDCwMb2F3+DCz/GHgKIIIMDPxg36gzcP1mYDMAsvpAXP0NrAEg\n",
       "7VwfGOJB7s5hYAhTsGfgBDKXMbD+ZrAH+Qvojveu1xn0gMw7DAzKJy+CdCoyMMSe4bsFCippEF8W\n",
       "RDA6wDzELcDgHMDyBTUYgEFjHhABCdVsmOA2BgbdlZcg7DCYYCpSyHNDA5RrAwMANX05DrHAGMoA\n",
       "AAAASUVORK5CYII=\n",
       "\" style=\"display:inline;vertical-align:middle;\" /></a></td></tr>\n",
       "<tr><td>2</td><td>Variable</td><td></td><td><a class=\"ProveItLink\" href=\"../../../__pv_it/ee4ad292e488e3f95383e0f20138837b9e0a20550/expr.ipynb\"><img src=\"data:image/png;base64,iVBORw0KGgoAAAANSUhEUgAAAAoAAAANBAMAAABiGeI2AAAAMFBMVEX///8iIiK6urpUVFTMzMzu\n",
       "7u5EREQQEBAyMjJ2dnaYmJjc3NyIiIhmZmaqqqoAAABI0TZoAAAAAXRSTlMAQObYZgAAAAlwSFlz\n",
       "AAAOxAAADsQBlSsOGwAAAFVJREFUCNdjYGB4e2YXAwNnA3cZA8P7AIY/DAxlDCy/GVj+MfAUMHD9\n",
       "ZmAzYOD6wBC/gIH1N4N9AAOD8smLDCAgy8DgHMDyhYHBPCDiAAOD7spLDAwAOfYUG4v1KsgAAAAA\n",
       "SUVORK5CYII=\n",
       "\" style=\"display:inline;vertical-align:middle;\" /></a></td></tr>\n",
       "<tr><td>3</td><td>Variable</td><td></td><td><a class=\"ProveItLink\" href=\"../../../__pv_it/72df168d2bfb4e0140af90912ebf83b13772060b0/expr.ipynb\"><img src=\"data:image/png;base64,iVBORw0KGgoAAAANSUhEUgAAAAsAAAAJBAMAAAAWSsseAAAAMFBMVEX///8QEBC6uroyMjJERETc\n",
       "3NyYmJgiIiJmZmaqqqp2dnbMzMxUVFSIiIju7u4AAAAoIwv1AAAAAXRSTlMAQObYZgAAAAlwSFlz\n",
       "AAAOxAAADsQBlSsOGwAAAENJREFUCNdjYHh75/WqCQwMDbxnOQoY2AJ4v/IkMHAzsBgwgAD/BTCl\n",
       "H8D3gOGJwnkGLgaG+fsaGTQZGF7c5WybwAAAJGsQ2L2rVEcAAAAASUVORK5CYII=\n",
       "\" style=\"display:inline;vertical-align:middle;\" /></a></td></tr>\n",
       "</table>\n"
      ],
      "text/plain": [
       "0. x -> g(x)\n",
       "   core type: Lambda\n",
       "   parameter: 3\n",
       "   body: 1\n",
       "1. g(x)\n",
       "   core type: Operation\n",
       "   operator: 2\n",
       "   operand: 3\n",
       "2. g\n",
       "   core type: Variable\n",
       "   sub-expressions: \n",
       "3. x\n",
       "   core type: Variable\n",
       "   sub-expressions: "
      ]
     },
     "execution_count": 5,
     "metadata": {},
     "output_type": "execute_result"
    }
   ],
   "source": [
    "# display the expression information\n",
    "expr.exprInfo()"
   ]
  },
  {
   "cell_type": "code",
   "execution_count": null,
   "metadata": {},
   "outputs": [],
   "source": []
  }
 ],
 "metadata": {
  "kernelspec": {
   "display_name": "Python 3",
   "language": "python",
   "name": "python3"
  },
  "language_info": {
   "codemirror_mode": {
    "name": "ipython",
    "version": 3
   },
   "file_extension": ".py",
   "mimetype": "text/x-python",
   "name": "python",
   "nbconvert_exporter": "python",
   "pygments_lexer": "ipython3",
   "version": "3.7.4"
  }
 },
 "nbformat": 4,
 "nbformat_minor": 1
}
