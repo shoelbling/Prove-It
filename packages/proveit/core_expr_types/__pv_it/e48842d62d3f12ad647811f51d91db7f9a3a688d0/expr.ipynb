{
 "cells": [
  {
   "cell_type": "markdown",
   "metadata": {},
   "source": [
    "Expression of type <a class=\"ProveItLink\" href=\"../../../../../doc/html/api/proveit.ExprTuple.html\">ExprTuple</a>\n",
    "=======================\n",
    "# from context <a class=\"ProveItLink\" href=\"../../_context_.ipynb\">proveit.core_expr_types</a>"
   ]
  },
  {
   "cell_type": "code",
   "execution_count": 1,
   "metadata": {},
   "outputs": [],
   "source": [
    "import proveit\n",
    "# Automation is not needed when building an expression:\n",
    "proveit.defaults.automation = False # This will speed things up.\n",
    "# import Expression classes needed to build the expression\n",
    "from proveit import ExprRange, ExprTuple, Function, Variable\n",
    "from proveit._common_ import a, f, fa"
   ]
  },
  {
   "cell_type": "code",
   "execution_count": 2,
   "metadata": {},
   "outputs": [
    {
     "data": {
      "text/html": [
       "<strong id=\"expr\">expr:</strong> <a class=\"ProveItLink\" href=\"../71894f66352a8c1e02938a33ae43069abfeff1e00/expr.ipynb\"><img src=\"data:image/png;base64,iVBORw0KGgoAAAANSUhEUgAAAXgAAAAVBAMAAAC+ruilAAAAMFBMVEX////MzMxUVFREREQiIiK6\n",
       "uroQEBCYmJhmZmYyMjLu7u52dnaqqqqIiIjc3NwAAACFAiZ1AAAAAXRSTlMAQObYZgAAAAlwSFlz\n",
       "AAAOxAAADsQBlSsOGwAABFBJREFUSMeVV01oVFcUPsnMmzfz5sesCl1lSkFcBhcuBiOxduEfJdAQ\n",
       "CFiSRUQQhVE3uqgOUio1KMFNRYI8yCqLMNNSumg3j9JuWtsEXDiIiwFtsxGcLESUtPSec+7/e77o\n",
       "hXvnzP2+c+737r3nvvsAYABcVRmA15FTmNbIghrmp5HRb+wGvM9Y9KOD1hOuqrD9xTvFk37BZgb2\n",
       "BDTm4E98O9P7rWORMh30D1kBln4Cafedx8kq5Z9j5TfScgRJqNaD6MCUFGjhot/mQL3jemcUrWt1\n",
       "UT2EDBotcwWofnQOpH0C4F5+wO8/SJRffRkqsQ/BmqiVDjYx2Piaxyn2XO90sXTdxf/3TNByG6gC\n",
       "lH5rgbIBLueLP/d5bLgQdnwIboi6J5GYhd/wOL53uli6dpQyGbSEMJHmaQJKyiV3OoI3NhfgrA/B\n",
       "go541sEXPI7nnVGMLjlqrIPOiXaOSD9QOyddKu3cpZyyuQDf+lCAq/yjxjQeLHsczzujGF3VBa2M\n",
       "gy5hRmDfxcV9wHbUF4lcbebEC/d+0lF+6w9xD/tQGfPyDvx5kzGNU7/FWb/leGcUowsqzVo/ZmUc\n",
       "1MzLv2oWqoF4wnA5L+KeTT1jnZKYiSs+hNMTvar9dYYxjfOCGk5vFhzvjKJ1Qbf94J82K+OgJ0V7\n",
       "kt4V20QS9vOygGtTeQFfjEkuhANMy199qCg6a/+dGrnPmMaLicNpJN+A453xstO6YOPv5MMBK+Og\n",
       "p0V7mg7gIZGEHePEjAzzIm4oLtoigcZ9qDQttsUZ0jgOFo79FieieR3PG8rogq8v0HtlqINq8ZxE\n",
       "ZKOcYGH3JGLxX4k660Mosnj3O5DYrCvecGpvXO+3nQ001rElnA1SxkFXRIsVCpyhK5Rou22b/ZpL\n",
       "bzR74RmqiO3RnZ4fA2/bVBKXU2nutm2MruhlsK2UcdBJ0U7SPPAVQ9jRTlXs5Ql8raVCyZ7ziiv2\n",
       "5EvRXEIrtqCCiHYNuskmYxovbLqcbtJzvNNjGV3hMNqpS2UcVB9knERoB8MtsWHRp4t3h9e+oZOI\n",
       "/ELcgnjgEa4gPM8+hu5YjzGN0zlnceYbbQvVw1hjGV2jE9F2VSrjoDOinTFJRPakCFjEq2fxuGiO\n",
       "otFRxnErichvFCfiM7Q+jQ0UiLU9CPVbMWMax36bU3hko3oYayyjq5BA/7FUxkGL4sGwwnV5lvGD\n",
       "wjNqf0+tJfWUm4aLy9qgBKnFBoLD+qibcvDDaY6FZozl6WJlMqi84tSaK+4tiS9NvVRA7PmF0w65\n",
       "o8k1fUOrWpC52JmbX1X2+xwLTY2V0sXKVNBDgLXYUm/UQzwbE5Qyqe8E6jmyprnjCb49ntK/dRsq\n",
       "qG+xpw6O/T7HQlNj+bqkMhV0lWrYV4OtclxaxDB9q8Hmy9uaW+7jwd2if20biiak0XJw7Pc5Fpoa\n",
       "y9cllamgmO4Ny5Ptq+/0aSb9wqwv3i3QmINv+XY4eJ+xSJkM+j83tmzlwEenfAAAAABJRU5ErkJg\n",
       "gg==\n",
       "\" style=\"display:inline;vertical-align:middle;\" /></a><br>"
      ],
      "text/plain": [
       "expr: ((f(i) ,  ...  , f(j) , f(k)) , (f(i) ,  ...  , f(k)))"
      ]
     },
     "execution_count": 2,
     "metadata": {},
     "output_type": "execute_result"
    }
   ],
   "source": [
    "# build up the expression from sub-expressions\n",
    "subExpr1 = Variable(\"i\")\n",
    "subExpr2 = Variable(\"k\")\n",
    "expr = ExprTuple([ExprRange(a, fa, subExpr1, Variable(\"j\")), Function(f, subExpr2)], [ExprRange(a, fa, subExpr1, subExpr2)])"
   ]
  },
  {
   "cell_type": "code",
   "execution_count": 3,
   "metadata": {},
   "outputs": [
    {
     "name": "stdout",
     "output_type": "stream",
     "text": [
      "Passed sanity check: built 'expr' is the same as the stored Expression.\n"
     ]
    }
   ],
   "source": [
    "# check that the built expression is the same as the stored expression\n",
    "%check_expr"
   ]
  },
  {
   "cell_type": "code",
   "execution_count": 4,
   "metadata": {},
   "outputs": [
    {
     "name": "stdout",
     "output_type": "stream",
     "text": [
      "\\left(\\left(f\\left(i\\right) , \\ldots , f\\left(j\\right) , f\\left(k\\right)\\right) , \\left(f\\left(i\\right) , \\ldots , f\\left(k\\right)\\right)\\right)\n"
     ]
    }
   ],
   "source": [
    "# Show the LaTeX representation of the expression for convenience if you need it.\n",
    "print(expr.latex())"
   ]
  },
  {
   "cell_type": "code",
   "execution_count": 5,
   "metadata": {},
   "outputs": [
    {
     "data": {
      "text/html": [
       "<table><tr><th>&nbsp;</th><th>core type</th><th>sub-expressions</th><th>expression</th></tr>\n",
       "<tr><td>0</td><td>ExprTuple</td><td>1, 2</td><td><a class=\"ProveItLink\" href=\"../71894f66352a8c1e02938a33ae43069abfeff1e00/expr.ipynb\"><img src=\"data:image/png;base64,iVBORw0KGgoAAAANSUhEUgAAAXgAAAAVBAMAAAC+ruilAAAAMFBMVEX////MzMxUVFREREQiIiK6\n",
       "uroQEBCYmJhmZmYyMjLu7u52dnaqqqqIiIjc3NwAAACFAiZ1AAAAAXRSTlMAQObYZgAAAAlwSFlz\n",
       "AAAOxAAADsQBlSsOGwAABFBJREFUSMeVV01oVFcUPsnMmzfz5sesCl1lSkFcBhcuBiOxduEfJdAQ\n",
       "CFiSRUQQhVE3uqgOUio1KMFNRYI8yCqLMNNSumg3j9JuWtsEXDiIiwFtsxGcLESUtPSec+7/e77o\n",
       "hXvnzP2+c+737r3nvvsAYABcVRmA15FTmNbIghrmp5HRb+wGvM9Y9KOD1hOuqrD9xTvFk37BZgb2\n",
       "BDTm4E98O9P7rWORMh30D1kBln4Cafedx8kq5Z9j5TfScgRJqNaD6MCUFGjhot/mQL3jemcUrWt1\n",
       "UT2EDBotcwWofnQOpH0C4F5+wO8/SJRffRkqsQ/BmqiVDjYx2Piaxyn2XO90sXTdxf/3TNByG6gC\n",
       "lH5rgbIBLueLP/d5bLgQdnwIboi6J5GYhd/wOL53uli6dpQyGbSEMJHmaQJKyiV3OoI3NhfgrA/B\n",
       "go541sEXPI7nnVGMLjlqrIPOiXaOSD9QOyddKu3cpZyyuQDf+lCAq/yjxjQeLHsczzujGF3VBa2M\n",
       "gy5hRmDfxcV9wHbUF4lcbebEC/d+0lF+6w9xD/tQGfPyDvx5kzGNU7/FWb/leGcUowsqzVo/ZmUc\n",
       "1MzLv2oWqoF4wnA5L+KeTT1jnZKYiSs+hNMTvar9dYYxjfOCGk5vFhzvjKJ1Qbf94J82K+OgJ0V7\n",
       "kt4V20QS9vOygGtTeQFfjEkuhANMy199qCg6a/+dGrnPmMaLicNpJN+A453xstO6YOPv5MMBK+Og\n",
       "p0V7mg7gIZGEHePEjAzzIm4oLtoigcZ9qDQttsUZ0jgOFo79FieieR3PG8rogq8v0HtlqINq8ZxE\n",
       "ZKOcYGH3JGLxX4k660Mosnj3O5DYrCvecGpvXO+3nQ001rElnA1SxkFXRIsVCpyhK5Rou22b/ZpL\n",
       "bzR74RmqiO3RnZ4fA2/bVBKXU2nutm2MruhlsK2UcdBJ0U7SPPAVQ9jRTlXs5Ql8raVCyZ7ziiv2\n",
       "5EvRXEIrtqCCiHYNuskmYxovbLqcbtJzvNNjGV3hMNqpS2UcVB9knERoB8MtsWHRp4t3h9e+oZOI\n",
       "/ELcgnjgEa4gPM8+hu5YjzGN0zlnceYbbQvVw1hjGV2jE9F2VSrjoDOinTFJRPakCFjEq2fxuGiO\n",
       "otFRxnErichvFCfiM7Q+jQ0UiLU9CPVbMWMax36bU3hko3oYayyjq5BA/7FUxkGL4sGwwnV5lvGD\n",
       "wjNqf0+tJfWUm4aLy9qgBKnFBoLD+qibcvDDaY6FZozl6WJlMqi84tSaK+4tiS9NvVRA7PmF0w65\n",
       "o8k1fUOrWpC52JmbX1X2+xwLTY2V0sXKVNBDgLXYUm/UQzwbE5Qyqe8E6jmyprnjCb49ntK/dRsq\n",
       "qG+xpw6O/T7HQlNj+bqkMhV0lWrYV4OtclxaxDB9q8Hmy9uaW+7jwd2if20biiak0XJw7Pc5Fpoa\n",
       "y9cllamgmO4Ny5Ptq+/0aSb9wqwv3i3QmINv+XY4eJ+xSJkM+j83tmzlwEenfAAAAABJRU5ErkJg\n",
       "gg==\n",
       "\" style=\"display:inline;vertical-align:middle;\" /></a></td></tr>\n",
       "<tr><td>1</td><td>ExprTuple</td><td>3, 4</td><td><a class=\"ProveItLink\" href=\"../049ac99185b6e70ed2ab297b8242065af8587b650/expr.ipynb\"><img src=\"data:image/png;base64,iVBORw0KGgoAAAANSUhEUgAAAMcAAAAVBAMAAAAA3efRAAAAMFBMVEX////MzMxUVFREREQiIiK6\n",
       "uroQEBCYmJhmZmYyMjLu7u52dnaqqqqIiIjc3NwAAACFAiZ1AAAAAXRSTlMAQObYZgAAAAlwSFlz\n",
       "AAAOxAAADsQBlSsOGwAAAsxJREFUSMeNlT9oE1Ecx39pL7nL5ZpmcrUiiGNwcAi2pOogtkNAl4Kl\n",
       "GSxdKgQnF9sgQqFFCS5KCXLQqUNJLMFBl0NwUdSASwaHDIEugnEQUaz4+/Peu5xJrz34vfu9+3zv\n",
       "97v3fu+9A4AuhFfXNMdf2YFXRiNmzCeCEIq/eLIkX+S2eDRixvw9d7deab8TSTvqcl772HpNbBKF\n",
       "/9QcB5F7sag+msytEcucWQXlzwFsxyfZP0Vxd3notaha4hBKV6m/LeZUqJN6WwDtA9yLT7J6g0ay\n",
       "obuDaolDaDLQDC3FcMlniZb6cTmSv/lWhhFqiVMOI/psCwxb3C4oaboSlyRT5FQ1GKFuGfTSMLQt\n",
       "8u/ePs9Vw7J02hhmKiaHfe4yTbdDdd/7DBG1xGH0BD5sCkN7yvSQW/QzSRyrXYsbyWTbfH81VYmq\n",
       "DzVyf3ofV4ShzfPm+c4S9L86+NgrxiX5lqPWwsLaXSrvgFriEPL+3ko8F4a2TI+9PmvQ9+k7E/24\n",
       "JJ+k3CX2/Yha4hByVvhTiKEth7Vkn15LluOStAaSPISIWuIQsp69AMXQ6uSPS+3qXLDjpuuCrBve\n",
       "B3NRtcQh1Cgt5cBM1zTn5lqS7/7J4FznafsPh5cNcUfi0SvZH6DUgiQOoXVoBG1haPthLclP9g9w\n",
       "QknbwBXg/lJO2NOLhBeuTTUgtSAVh9BZaOSawtBuhrVkfxrXn0XHs3Udm2vkVHVz1Q8XSZImaYwG\n",
       "wWpGKg6hSzDxyBeGZlHyB5LEkgFBj9t3Q9PlUSRH7b1ZPT09g3ScWfNGT8yugjdVV5u5Knc5+5rD\n",
       "Bwram3Sgz8WxYN2clIRMnPDI3FA2A1ZB79kZ2VI0CeC2h5LsoV3Z1SupezqYN2pCJs64/lsSY74D\n",
       "dkc/3BEND90eXl10ktx/rDpu3umUjJqQiePm9Yf4imcHDlHx1072+z2Q29rRiBnaPzk9xqhc0pnE\n",
       "AAAAAElFTkSuQmCC\n",
       "\" style=\"display:inline;vertical-align:middle;\" /></a></td></tr>\n",
       "<tr><td>2</td><td>ExprTuple</td><td>5</td><td><a class=\"ProveItLink\" href=\"../bdc427e2e66d82821927572997212022b50ea8bc0/expr.ipynb\"><img src=\"data:image/png;base64,iVBORw0KGgoAAAANSUhEUgAAAJAAAAAVBAMAAABbFXrgAAAAMFBMVEX////MzMxUVFREREQiIiK6\n",
       "uroQEBCYmJhmZmYyMjLu7u52dnaqqqqIiIjc3NwAAACFAiZ1AAAAAXRSTlMAQObYZgAAAAlwSFlz\n",
       "AAAOxAAADsQBlSsOGwAAAi5JREFUOMuNVDFoFEEU/Xq7t7ndzZnWyrOzvPog4YQUGiVYiGAhpkga\n",
       "sTi10UZCilgcgcPmQkhxkMpCDGJldUXSqHApF7E4UJNG8FJYKBfwvzezuwkbJhl4nz+77/2Z/+fP\n",
       "iMhQslGlPfbBNYa5hrrJfv7vG+2Dc8VJdf6egXzmtP1RTbytJjkR+rRBLnRbi+nqirCDSXT1sdo3\n",
       "cG+JbDjjGC5165hXesREC5PybkPtK0t97gxkuNSNMQ+WiTJ/PuzBLqTUniuQ4ULn/+OHR8R9+h9Y\n",
       "to6lVlquQORSF5mVu0Qb7tPFa9it1jpM9ACimiOO4VJXqcWJbu+9AF3+PUo3Evm6StBx7ego28a7\n",
       "1pd91bwQ4Dab6hDW02P/NaFB4qYjjuFSN/jZv6xtuSPAEr7GI9bvjkjvkqZ2YeQIZLjUrT6he4Vg\n",
       "oKiZBpKBJu0vuNqomQW62Z6Ce4/YhFtidSvo6NdyRmqGC134x2eaJrVp7mWPFLXhONJi13VW7KVQ\n",
       "ci50wSgcT6r7jMDZyW9uEafujw60DxDxL46lY00+s1zoLtbDQ11W1oi7+Dow9xgZTet5enghZnVL\n",
       "3rJYcwPOXM6FrtSX5Ku684SHBVbMz+s2hx88nWJunyTnelNZPzQJvW5xbfPkZeXljYp11s7PuLiq\n",
       "ZuD6AjPiNWwnl8yjV0Wt5W2x2Fq6jKs6O75bbEmQ2FczrJt4TKp4cQMg5arOjoZF9ZjigPbluZ7a\n",
       "VBcMif/cAI8CSamZNQAAAABJRU5ErkJggg==\n",
       "\" style=\"display:inline;vertical-align:middle;\" /></a></td></tr>\n",
       "<tr><td>3</td><td>ExprRange</td><td>lambda_map:&nbsp;7<br>start_index:&nbsp;8<br>end_index:&nbsp;6<br></td><td><a class=\"ProveItLink\" href=\"../14c0c9bb000b56f8d077902c994f2d4e9b8e9d030/expr.ipynb\"><img src=\"data:image/png;base64,iVBORw0KGgoAAAANSUhEUgAAAIAAAAAVBAMAAAB8u/sIAAAAMFBMVEX///8yMjLc3NyIiIiYmJgi\n",
       "IiJERES6urqqqqoQEBDMzMxUVFTu7u52dnZmZmYAAAD1zdHuAAAAAXRSTlMAQObYZgAAAAlwSFlz\n",
       "AAAOxAAADsQBlSsOGwAAAeNJREFUOMuNVDtIA0EQnTvv8pHkTGGRMoXYRtHCSqKCjaBBUERFgpam\n",
       "0ELBymvEQkVBxRQWqQQrU4laSESwNY2VCtEIFiIoNiIpnM/mIhysWbi3M3Nv52be7h6AN0wPGhgJ\n",
       "8LN7CIIdDa1vcuEP23ksIoZKGC9LGs14fyDcIjgqKvb9MeW7wscugVHUro9e5BAjMbI7QbFzyzS9\n",
       "CMMqaxOE17NUcwr+sINVtndU7FCbYJU/GfZ8YkfTrEdMhVq1Ce4YFz0f2db5FNXhoIbXFVJEt35o\n",
       "/5KVJB26MordwnthYFulFTT6tBV8eVU6sKfYyTzFbBdM9wmNNd1684enCXz64Vuxt0XeBYhw/hNd\n",
       "gtAHTwdsVxX7rpZAQivaY5CuJ3DSij3PMQMPk1H4r4VAgac4yKkT9q68QilvXYwNkuc/jhGpUw7/\n",
       "HEESaya20iWKuVdN3Araysgnwm1MQd1TgstWjxBUPF2C2FGgG41R8sawBJuOB8MMGdPgCQ5LBKcg\n",
       "bEfagkm1USxTyN/DJsGb2HZetY7sDUOuNgzLJPck6tcP5QkV4t4dOrOqwh6/qgksP5l2xmu/iCif\n",
       "na1dmNnmb9sV9sBzjZHhKcuY8iWw6OlNKO8GKq91thptzEs09Esz5QvI/gVZv2xbZL9soAAAAABJ\n",
       "RU5ErkJggg==\n",
       "\" style=\"display:inline;vertical-align:middle;\" /></a></td></tr>\n",
       "<tr><td>4</td><td>Operation</td><td>operator:&nbsp;11<br>operand:&nbsp;9<br></td><td><a class=\"ProveItLink\" href=\"../609b068ad0e743654af35f0dc985e28842c1cf8d0/expr.ipynb\"><img src=\"data:image/png;base64,iVBORw0KGgoAAAANSUhEUgAAACgAAAAVBAMAAADGNLEtAAAAMFBMVEX///8yMjLc3NyIiIiYmJgi\n",
       "IiJERES6urqqqqoQEBDMzMxUVFTu7u52dnZmZmYAAAD1zdHuAAAAAXRSTlMAQObYZgAAAAlwSFlz\n",
       "AAAOxAAADsQBlSsOGwAAAQpJREFUGNNjYIADJhQKCiwgFLsBmOK7ewBIclxg4MkMgEveXtkAJA8C\n",
       "MeMDEAFSwjCjDEQ9AWJ+kCwLSIb9D1j9BCCuByuaA8S8AWDzBYDETbC0CFD1zmiQer4LQEKaofkN\n",
       "0A6QQWA3MDowMPB84WiawsDgCOTqLwAJsgLt4PhUwSXEwNAK5PaDDeIsABoxBSy/HoivwgVZ5W6B\n",
       "mJVAnA0WZARqP19QD1IK0j4ZLMgGtM6f4XwDkHIDhsovsCDvBgaGbQznFwBd9hho5QdI4AC9kMHA\n",
       "/BjopyCglRsgQRYFD9cAhm6QDSDgBxPkc2AIOwhlsylAGWoMDM6PoGyeBCgjBzk6VCAUiwIDAAiC\n",
       "OTPp3iZnAAAAAElFTkSuQmCC\n",
       "\" style=\"display:inline;vertical-align:middle;\" /></a></td></tr>\n",
       "<tr><td>5</td><td>ExprRange</td><td>lambda_map:&nbsp;7<br>start_index:&nbsp;8<br>end_index:&nbsp;9<br></td><td><a class=\"ProveItLink\" href=\"../83b227da428f577be017668ce727bed14f45503a0/expr.ipynb\"><img src=\"data:image/png;base64,iVBORw0KGgoAAAANSUhEUgAAAIEAAAAVBAMAAACTeZA2AAAAMFBMVEX///8yMjLc3NyIiIiYmJgi\n",
       "IiJERES6urqqqqoQEBDMzMxUVFTu7u52dnZmZmYAAAD1zdHuAAAAAXRSTlMAQObYZgAAAAlwSFlz\n",
       "AAAOxAAADsQBlSsOGwAAAgZJREFUOMuNVD1IHFEQnt279fZkXYNYCIpcobZapEipCaTUICiiIpI0\n",
       "SiwUSYiVR8QqEQM50MLiWqtcFUh3ItjeNleoCGdMmYB/VUiRb2bebi4sebkHb+a92W+/NzNv5hEl\n",
       "o8DCpZaG2/xPPDJFlrmRlhgeGb2uKryoQu4wSyP59o+hWD+iYPlZciydH0IHD7DyInKqVgbB0hGm\n",
       "0+B9n1j3X+OvcFQh2YaVQbD0DbNTjh+X0H+xzMeYAxuBYukD5qY4m2fZwQHRWgzqtjEoNscRn4rB\n",
       "gevZL3Ps+A/M4yuO1EJgsGEE0Utb30FZ4YBG4qOjDYgxmw+K5YODe/9tCZzsznCZrTMok+IlFts2\n",
       "BsV6SKJ/+6a9C4rD2pVve6ClOyw+2RgUm19FJCUha7+GqMcM5HOmN2wM9YTB6z+TpPK1vBRrD8dX\n",
       "+V8UinUQRW11k52QKD6K9QVmrYgkPyWOJzW0VBXbhnxOAA2VXUT+fmq5cpG4SDLfaA0ZDm7IiGQX\n",
       "Y/kKP1OtjPNCsPjXYn3F3A8hJjnZ8xALZITHNTAlHaXYHFxfoswVTB76O6yI1Subzpeqe5+KwmcG\n",
       "g6XZxDxI9M4p/tVR2mFRup7pD1b7SQZ6bPrIrJ+rGmIRpN+ZY2rCtsVvk4tEPvlqNieqVsSh9F2w\n",
       "awk2WIypml8TV9zPFlp65QaMfkz0G0l2dYV3ydUiAAAAAElFTkSuQmCC\n",
       "\" style=\"display:inline;vertical-align:middle;\" /></a></td></tr>\n",
       "<tr><td>6</td><td>Variable</td><td></td><td><a class=\"ProveItLink\" href=\"../6a5b5879f51878868f626bf09e4d76392d4779cd0/expr.ipynb\"><img src=\"data:image/png;base64,iVBORw0KGgoAAAANSUhEUgAAAAoAAAASBAMAAACQmVJ4AAAAMFBMVEX///9UVFS6urp2dnYiIiKq\n",
       "qqrc3NyYmJgQEBBmZmYyMjKIiIju7u5ERETMzMwAAAC4hZuzAAAAAXRSTlMAQObYZgAAAAlwSFlz\n",
       "AAAOxAAADsQBlSsOGwAAAEtJREFUCNdjYGBg4LsDJBi4FzBgA6f3gsgJHAUMDOwJ/AEgTvwBEDkF\n",
       "LO0MItg+gUj2DyCS8QKI5NgAZAXUAxW+D3AF8jl3KjAwAACAGg5QwkhbIAAAAABJRU5ErkJggg==\n",
       "\" style=\"display:inline;vertical-align:middle;\" /></a></td></tr>\n",
       "<tr><td>7</td><td>Lambda</td><td>parameter:&nbsp;12<br>body:&nbsp;10<br></td><td><a class=\"ProveItLink\" href=\"../f0043753ff2624d263f59c4c60930b136180b0460/expr.ipynb\"><img src=\"data:image/png;base64,iVBORw0KGgoAAAANSUhEUgAAAFQAAAAVCAMAAADvsTk6AAAANlBMVEX///8WFhYNDQ3MzMxUVFQy\n",
       "MjKqqqoiIiKYmJju7u5EREQQEBC6urqIiIh2dnZmZmbc3NwAAADRPqZpAAAAAXRSTlMAQObYZgAA\n",
       "AAlwSFlzAAAOxAAADsQBlSsOGwAAATxJREFUOMulVFtihCAMtOUdHoH7X7agZZcEdKvNj2JkMsOE\n",
       "bNt/I1+snkbUZBniQxxMyfV3na6L/DWSFL7vdGpKK/cE1OsAfSPaKW3x44nNBx/KQMWvii6okk96\n",
       "LpvMUEAtQNXOPmOK+eWaIX8YLk56I/FtWe+kASLJVs5XjfASRWE0cCIlclIMwlb6zrcMmhNuEegR\n",
       "5SIGHUcXUAhdn7gXMK9++/4yJEoJhHoZPTlSFELUP3wT6N47GdOgwqlPHZRCBF/fWwFbTqwRvJdB\n",
       "jkbv8hlEle9KS4DadF6BKt6ofrzcEA9QAmErb1UT1uDWD5WoDbxPiU9H93AIrCsnYxJZRrGcHfwr\n",
       "8WkLhywKYW6PP5T0bsxUsrmHqOWvNVfTYzFjLsPANOqAa81wU7uNyDEcx4BH45Qzo2ptq/oDHYoL\n",
       "1B9fEzQAAAAASUVORK5CYII=\n",
       "\" style=\"display:inline;vertical-align:middle;\" /></a></td></tr>\n",
       "<tr><td>8</td><td>Variable</td><td></td><td><a class=\"ProveItLink\" href=\"../557ab5defdcd46aa58168b08767502985122cd490/expr.ipynb\"><img src=\"data:image/png;base64,iVBORw0KGgoAAAANSUhEUgAAAAcAAAAOBAMAAAARcxsoAAAALVBMVEX///9ERESYmJhUVFQyMjKq\n",
       "qqrc3NwQEBC6urru7u52dnYiIiJmZmaIiIgAAAD/UVazAAAAAXRSTlMAQObYZgAAAAlwSFlzAAAO\n",
       "xAAADsQBlSsOGwAAADlJREFUCNdjYGC4wwAEuxjQAeedCwwMXBwFDAypPA4MDBP4gFyGuAlAwhkk\n",
       "+5SLgYHjQRKQKavAAAAx5QmdfgFqMAAAAABJRU5ErkJggg==\n",
       "\" style=\"display:inline;vertical-align:middle;\" /></a></td></tr>\n",
       "<tr><td>9</td><td>Variable</td><td></td><td><a class=\"ProveItLink\" href=\"../273f49450ca25e1b56abbd98a7aef618f8f6c1360/expr.ipynb\"><img src=\"data:image/png;base64,iVBORw0KGgoAAAANSUhEUgAAAAoAAAAOBAMAAADkjZCYAAAAMFBMVEX////MzMzc3NyYmJiIiIhU\n",
       "VFR2dna6urqqqqpmZmYyMjIiIiIQEBBERETu7u4AAADM1VnsAAAAAXRSTlMAQObYZgAAAAlwSFlz\n",
       "AAAOxAAADsQBlSsOGwAAAE9JREFUCNdj4LuzgQEIuCaASP4GEFn/AETmgAiGpQwt8xj4PnM0HWbg\n",
       "+FTBuIiB87AAUJh7ZSKQfF9QD+TYM7xvcGCIZXgvkMBwg4FlygMA76IUkutkA5UAAAAASUVORK5C\n",
       "YII=\n",
       "\" style=\"display:inline;vertical-align:middle;\" /></a></td></tr>\n",
       "<tr><td>10</td><td>Operation</td><td>operator:&nbsp;11<br>operand:&nbsp;12<br></td><td><a class=\"ProveItLink\" href=\"../../../__pv_it/e80bce2a0c2e8c976be76e7b3ce08f76e74ec5550/expr.ipynb\"><img src=\"data:image/png;base64,iVBORw0KGgoAAAANSUhEUgAAACgAAAAVBAMAAADGNLEtAAAAMFBMVEX///8yMjLc3NyIiIiYmJgi\n",
       "IiJERES6urqqqqoQEBDMzMxUVFTu7u52dnZmZmYAAAD1zdHuAAAAAXRSTlMAQObYZgAAAAlwSFlz\n",
       "AAAOxAAADsQBlSsOGwAAAP1JREFUGNNjYIADJhQKCiwgFLsBmOK7ewBIclxAkby9sgFIHoTpYAQp\n",
       "YZhRBqKewARZHoAM+QNmT4AbPgeIeQPA5gvABUWAqndGg9TzgezRu6wMsgOI+cFuYHQAqp7EkA80\n",
       "3hHI1V8AEmQFuuCkA8NTILMViPvBBnEWMDC8P8AQC2SuB+KrcMFpDDzfgcxKIM6GOLmBgecvA8sH\n",
       "qPbJYEE2AwaeHwxsAk0MDG7AUPkFFuTdwMAgzOD6AOiyx8CA+AAJHKAXTtsu2gx0ShDQ1Rsg/oiC\n",
       "h2sAQzdjA4TtBxPkc2AIgwUZmwKUocbA4PwIyuZJgDJykKNDBRqcCgwAmIo1X55DCvQAAAAASUVO\n",
       "RK5CYII=\n",
       "\" style=\"display:inline;vertical-align:middle;\" /></a></td></tr>\n",
       "<tr><td>11</td><td>Variable</td><td></td><td><a class=\"ProveItLink\" href=\"../../../__pv_it/d7bbb04e874e28c7cefb21d4eea40806ae52f1f70/expr.ipynb\"><img src=\"data:image/png;base64,iVBORw0KGgoAAAANSUhEUgAAAAsAAAASBAMAAAB/WzlGAAAAMFBMVEX///8yMjLc3NyIiIiYmJgi\n",
       "IiJERES6urqqqqoQEBDMzMxUVFTu7u52dnZmZmYAAAD1zdHuAAAAAXRSTlMAQObYZgAAAAlwSFlz\n",
       "AAAOxAAADsQBlSsOGwAAAFNJREFUCNdjYGBg4Lt7AEgy3F7ZAKJmlIF47H9AbAbeABDJsjP6AYjm\n",
       "NwAL6i8AU/1gkuEqhMqGUJPBJNMvMMXxAUzxbQCR3Yxg48MOgsWcH4FIAPrAEkCfAu8DAAAAAElF\n",
       "TkSuQmCC\n",
       "\" style=\"display:inline;vertical-align:middle;\" /></a></td></tr>\n",
       "<tr><td>12</td><td>Variable</td><td></td><td><a class=\"ProveItLink\" href=\"../../../__pv_it/a8d4b3a34d2189508f9082853fbac36935714f280/expr.ipynb\"><img src=\"data:image/png;base64,iVBORw0KGgoAAAANSUhEUgAAAAsAAAAJBAMAAAAWSsseAAAAMFBMVEX////MzMxUVFQyMjKqqqoi\n",
       "IiKYmJju7u5EREQQEBC6urqIiIh2dnZmZmbc3NwAAAD0tjQRAAAAAXRSTlMAQObYZgAAAAlwSFlz\n",
       "AAAOxAAADsQBlSsOGwAAAEdJREFUCNdjYOC7s28DAwPDygcc3xkY2Kcx8AYwMPB+Z2A9wMDA2cBQ\n",
       "v4CBof4AQz5QRb0DQzPLAwbmDWyxPECV2gcfbWQAABp5EMgcedARAAAAAElFTkSuQmCC\n",
       "\" style=\"display:inline;vertical-align:middle;\" /></a></td></tr>\n",
       "</table>\n"
      ],
      "text/plain": [
       "0. ((f(i) ,  ...  , f(j) , f(k)) , (f(i) ,  ...  , f(k)))\n",
       "   core type: ExprTuple\n",
       "   sub-expressions: 1, 2\n",
       "1. (f(i) ,  ...  , f(j) , f(k))\n",
       "   core type: ExprTuple\n",
       "   sub-expressions: 3, 4\n",
       "2. (f(i) ,  ...  , f(k))\n",
       "   core type: ExprTuple\n",
       "   sub-expressions: 5\n",
       "3. f(i),...,f(j)\n",
       "   core type: ExprRange\n",
       "   lambda_map: 7\n",
       "   start_index: 8\n",
       "   end_index: 6\n",
       "4. f(k)\n",
       "   core type: Operation\n",
       "   operator: 11\n",
       "   operand: 9\n",
       "5. f(i),...,f(k)\n",
       "   core type: ExprRange\n",
       "   lambda_map: 7\n",
       "   start_index: 8\n",
       "   end_index: 9\n",
       "6. j\n",
       "   core type: Variable\n",
       "   sub-expressions: \n",
       "7. a -> f(a)\n",
       "   core type: Lambda\n",
       "   parameter: 12\n",
       "   body: 10\n",
       "8. i\n",
       "   core type: Variable\n",
       "   sub-expressions: \n",
       "9. k\n",
       "   core type: Variable\n",
       "   sub-expressions: \n",
       "10. f(a)\n",
       "    core type: Operation\n",
       "    operator: 11\n",
       "    operand: 12\n",
       "11. f\n",
       "    core type: Variable\n",
       "    sub-expressions: \n",
       "12. a\n",
       "    core type: Variable\n",
       "    sub-expressions: "
      ]
     },
     "execution_count": 5,
     "metadata": {},
     "output_type": "execute_result"
    }
   ],
   "source": [
    "# display the expression information\n",
    "expr.exprInfo()"
   ]
  },
  {
   "cell_type": "code",
   "execution_count": null,
   "metadata": {},
   "outputs": [],
   "source": []
  }
 ],
 "metadata": {
  "kernelspec": {
   "display_name": "Python 3",
   "language": "python",
   "name": "python3"
  },
  "language_info": {
   "codemirror_mode": {
    "name": "ipython",
    "version": 3
   },
   "file_extension": ".py",
   "mimetype": "text/x-python",
   "name": "python",
   "nbconvert_exporter": "python",
   "pygments_lexer": "ipython3",
   "version": "3.7.4"
  }
 },
 "nbformat": 4,
 "nbformat_minor": 1
}
