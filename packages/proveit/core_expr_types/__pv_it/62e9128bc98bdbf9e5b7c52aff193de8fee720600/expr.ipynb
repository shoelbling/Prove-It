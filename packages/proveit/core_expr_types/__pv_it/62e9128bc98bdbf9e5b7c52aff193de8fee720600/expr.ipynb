{
 "cells": [
  {
   "cell_type": "markdown",
   "metadata": {},
   "source": [
    "Expression of type <a class=\"ProveItLink\" href=\"../../../../../doc/html/api/proveit.ExprRange.html\">ExprRange</a>\n",
    "=======================\n",
    "# from context <a class=\"ProveItLink\" href=\"../../_context_.ipynb\">proveit.core_expr_types</a>"
   ]
  },
  {
   "cell_type": "code",
   "execution_count": 1,
   "metadata": {},
   "outputs": [],
   "source": [
    "import proveit\n",
    "# Automation is not needed when building an expression:\n",
    "proveit.defaults.automation = False # This will speed things up.\n",
    "# import Expression classes needed to build the expression\n",
    "from proveit import ExprRange, IndexedVar, Variable\n",
    "from proveit.number import one"
   ]
  },
  {
   "cell_type": "code",
   "execution_count": 2,
   "metadata": {},
   "outputs": [
    {
     "data": {
      "text/html": [
       "<strong id=\"expr\">expr:</strong> <a class=\"ProveItLink\" href=\"../b73ba374c11c8d0d62ff25da489ace8a1828f95b0/expr.ipynb\"><img src=\"data:image/png;base64,iVBORw0KGgoAAAANSUhEUgAAAGUAAAATBAMAAAB7Kd4gAAAAMFBMVEX///8QEBAiIiLu7u5ERES6\n",
       "urqYmJiIiIjMzMx2dnZUVFRmZmaqqqoyMjLc3NwAAABb1yYoAAAAAXRSTlMAQObYZgAAAAlwSFlz\n",
       "AAAOxAAADsQBlSsOGwAAATVJREFUKM9jYACBtwwEAd8FNIH7hPXwfkDl8/wnrOc8mh7u9Q8I6tn1\n",
       "D5U/b34DIS2cL3+geq+g/gAhPc/Z/6A6jeF8AiE9G3i+ofBjGPonENDCeoDjJ6oZDO8XMDCYXcCj\n",
       "h5uB7xcyn91793oHBo5yBTx6Snbv+oLMN2dg4Aeq58Gjh7mAgeETqtMYmATw6+EGYkUGhuyM8gVl\n",
       "K0DeS4AkDJAeA0wbwGQYJH2lijFIMVQB2Q+BmOUfWA/zX5AqEGF/AYnBwAd0BoP/Az5zBYavDDsZ\n",
       "GEz+X2bg8f87AWyPEsgibSBm2gBjKAM1+/81YDjy/yYDVwGHAIMOckIFhQOm4w4jsRkb2B34PjSg\n",
       "6uHE9D5ybL8H2sTmgBDhm/u7ABTsWEIZDqIYeB/wLUdzC2ayY8MS8gA6vEvz34oTJQAAAABJRU5E\n",
       "rkJggg==\n",
       "\" style=\"display:inline;vertical-align:middle;\" /></a><br>"
      ],
      "text/plain": [
       "expr: A_{1},...,A_{m}"
      ]
     },
     "execution_count": 2,
     "metadata": {},
     "output_type": "execute_result"
    }
   ],
   "source": [
    "# build up the expression from sub-expressions\n",
    "expr = ExprRange(Variable(\"a\"), IndexedVar(Variable(\"A\"), Variable(\"a\")), one, Variable(\"m\"))"
   ]
  },
  {
   "cell_type": "code",
   "execution_count": 3,
   "metadata": {},
   "outputs": [
    {
     "name": "stdout",
     "output_type": "stream",
     "text": [
      "Passed sanity check: built 'expr' is the same as the stored Expression.\n"
     ]
    }
   ],
   "source": [
    "# check that the built expression is the same as the stored expression\n",
    "%check_expr"
   ]
  },
  {
   "cell_type": "code",
   "execution_count": 4,
   "metadata": {},
   "outputs": [
    {
     "name": "stdout",
     "output_type": "stream",
     "text": [
      "A_{1},\\ldots,A_{m}\n"
     ]
    }
   ],
   "source": [
    "# Show the LaTeX representation of the expression for convenience if you need it.\n",
    "print(expr.latex())"
   ]
  },
  {
   "cell_type": "code",
   "execution_count": 5,
   "metadata": {},
   "outputs": [
    {
     "data": {
      "text/html": [
       "<table><tr><th>&nbsp;</th><th>core type</th><th>sub-expressions</th><th>expression</th></tr>\n",
       "<tr><td>0</td><td>ExprRange</td><td>lambda_map:&nbsp;1<br>start_index:&nbsp;2<br>end_index:&nbsp;3<br></td><td><a class=\"ProveItLink\" href=\"../b73ba374c11c8d0d62ff25da489ace8a1828f95b0/expr.ipynb\"><img src=\"data:image/png;base64,iVBORw0KGgoAAAANSUhEUgAAAGUAAAATBAMAAAB7Kd4gAAAAMFBMVEX///8QEBAiIiLu7u5ERES6\n",
       "urqYmJiIiIjMzMx2dnZUVFRmZmaqqqoyMjLc3NwAAABb1yYoAAAAAXRSTlMAQObYZgAAAAlwSFlz\n",
       "AAAOxAAADsQBlSsOGwAAATVJREFUKM9jYACBtwwEAd8FNIH7hPXwfkDl8/wnrOc8mh7u9Q8I6tn1\n",
       "D5U/b34DIS2cL3+geq+g/gAhPc/Z/6A6jeF8AiE9G3i+ofBjGPonENDCeoDjJ6oZDO8XMDCYXcCj\n",
       "h5uB7xcyn91793oHBo5yBTx6Snbv+oLMN2dg4Aeq58Gjh7mAgeETqtMYmATw6+EGYkUGhuyM8gVl\n",
       "K0DeS4AkDJAeA0wbwGQYJH2lijFIMVQB2Q+BmOUfWA/zX5AqEGF/AYnBwAd0BoP/Az5zBYavDDsZ\n",
       "GEz+X2bg8f87AWyPEsgibSBm2gBjKAM1+/81YDjy/yYDVwGHAIMOckIFhQOm4w4jsRkb2B34PjSg\n",
       "6uHE9D5ybL8H2sTmgBDhm/u7ABTsWEIZDqIYeB/wLUdzC2ayY8MS8gA6vEvz34oTJQAAAABJRU5E\n",
       "rkJggg==\n",
       "\" style=\"display:inline;vertical-align:middle;\" /></a></td></tr>\n",
       "<tr><td>1</td><td>Lambda</td><td>parameter:&nbsp;6<br>body:&nbsp;4<br></td><td><a class=\"ProveItLink\" href=\"../24fa7b9921fcbf66b8b081e2ec601368bfd07bda0/expr.ipynb\"><img src=\"data:image/png;base64,iVBORw0KGgoAAAANSUhEUgAAAEUAAAASCAMAAAA62ONUAAAANlBMVEX///8WFhYNDQ3MzMxUVFQy\n",
       "MjKqqqoiIiKYmJju7u5EREQQEBC6urqIiIh2dnZmZmbc3NwAAADRPqZpAAAAAXRSTlMAQObYZgAA\n",
       "AAlwSFlzAAAOxAAADsQBlSsOGwAAAPNJREFUOMutU1l2BCEIdOKKisj9LxtxJkljOy8v6eZLWYqi\n",
       "RGP+Zd2bG8zzDSCB70Ahx/0v+bjLbr2x/aUQFHfaSIsGOZy81HBEviyqYNzMI8KkxVnLYJ0Z9nUh\n",
       "ryB10LDclgGKwFJ81x0znKiYzm5xThbxB/vjEZUxV41KNN5ooVjkDofMhUv1CgSeArLOgjlh4nd6\n",
       "Wg+neSSpPKspYeuCIm+WvQl9i+L1wtR0/AIQ7RBa2vhBMUUy38KoAarel15ehzyXl0bUThc4bLY7\n",
       "3C8jHd2QmeeAQQ6jraiJ7uJ3AiGUE8A1mLGvlmu6SKZSCtiS+QR8xwkGAeaOLgAAAABJRU5ErkJg\n",
       "gg==\n",
       "\" style=\"display:inline;vertical-align:middle;\" /></a></td></tr>\n",
       "<tr><td>2</td><td>Literal</td><td></td><td><a class=\"ProveItLink\" href=\"../../../number/numeral/__pv_it/f086f8c372bd40a2458306ddfdbb29f3dc6f63030/expr.ipynb\"><img src=\"data:image/png;base64,iVBORw0KGgoAAAANSUhEUgAAAAgAAAAOBAMAAADgeEClAAAAIVBMVEX///8QEBBERESIiIgyMjJm\n",
       "ZmZUVFTu7u4iIiLMzMwAAAAWRytzAAAAAXRSTlMAQObYZgAAAAlwSFlzAAAOxAAADsQBlSsOGwAA\n",
       "ABtJREFUCNdjYOBsZ2AoC1nOwMDATBbBprgiGQBsuwqCZsDj4wAAAABJRU5ErkJggg==\n",
       "\" style=\"display:inline;vertical-align:middle;\" /></a></td></tr>\n",
       "<tr><td>3</td><td>Variable</td><td></td><td><a class=\"ProveItLink\" href=\"../../../__pv_it/6e8a38e9a7e2b6af352562cd77e0eb4751f142620/expr.ipynb\"><img src=\"data:image/png;base64,iVBORw0KGgoAAAANSUhEUgAAABIAAAAJBAMAAADN8WE8AAAAMFBMVEX///8iIiIyMjJmZmYQEBCq\n",
       "qqqYmJju7u5ERETMzMyIiIjc3NxUVFR2dna6uroAAACULOzSAAAAAXRSTlMAQObYZgAAAAlwSFlz\n",
       "AAAOxAAADsQBlSsOGwAAAGNJREFUCNdj4Luz+9Ypzlt9DAy8HF0M9XkMIQwM81gaGPZfYMhnYCio\n",
       "f8AQX8BwgoGBIZ6BwYiBwQvIOsTAIMvA95udgcGXgf0fA4/CVgbunwxsHxiYLlxg4BNg4DJgYLXa\n",
       "AAB/WBcBafZ/twAAAABJRU5ErkJggg==\n",
       "\" style=\"display:inline;vertical-align:middle;\" /></a></td></tr>\n",
       "<tr><td>4</td><td>IndexedVar</td><td>variable:&nbsp;5<br>index:&nbsp;6<br></td><td><a class=\"ProveItLink\" href=\"../6b698a6c8cacb9430d26f2e8bfb1b77dbb32676b0/expr.ipynb\"><img src=\"data:image/png;base64,iVBORw0KGgoAAAANSUhEUgAAABkAAAASBAMAAABcAGiTAAAAMFBMVEX///8QEBAiIiLu7u5ERES6\n",
       "urqYmJiIiIjMzMx2dnZUVFRmZmaqqqoyMjLc3NwAAABb1yYoAAAAAXRSTlMAQObYZgAAAAlwSFlz\n",
       "AAAOxAAADsQBlSsOGwAAAIdJREFUCNdjYACBtwzI4D4yh+c/Mo97/QMk3rz5DQgOX0H9ASSFDOcT\n",
       "ELwYhv4JCN4GhvcL4Bx2793rHeA8cwYGfgUkhQxMAgwM1unzgBxWoHm8HxiYNTg+A3kPgZjlHwP3\n",
       "Bg6gApP/lxl4/P9O4A9gRxjMYP+AJdkAzmN80B+GkGPddnwaAwCw3SEKz8u5qQAAAABJRU5ErkJg\n",
       "gg==\n",
       "\" style=\"display:inline;vertical-align:middle;\" /></a></td></tr>\n",
       "<tr><td>5</td><td>Variable</td><td></td><td><a class=\"ProveItLink\" href=\"../../../__pv_it/d3792d0d8642fdf1cd2a3a9b32c673ee13653de00/expr.ipynb\"><img src=\"data:image/png;base64,iVBORw0KGgoAAAANSUhEUgAAAA8AAAAPBAMAAADJ+Ih5AAAAMFBMVEX///8QEBAiIiLu7u5ERES6\n",
       "urqYmJiIiIjMzMx2dnZUVFRmZmaqqqoyMjLc3NwAAABb1yYoAAAAAXRSTlMAQObYZgAAAAlwSFlz\n",
       "AAAOxAAADsQBlSsOGwAAAF9JREFUCNdjYACBtwxQcB9K8/yHMrjXP4Aw5s1vANN8BfUHIDIM5xPA\n",
       "jBiG/glgxgaG9wtANLv37vUOIIY5AwO/AkSGgUkASLMCdfB+ADIeAjHLPwYGk/+XGXj8/04AADnq\n",
       "Fzds8Dk2AAAAAElFTkSuQmCC\n",
       "\" style=\"display:inline;vertical-align:middle;\" /></a></td></tr>\n",
       "<tr><td>6</td><td>Variable</td><td></td><td><a class=\"ProveItLink\" href=\"../../../__pv_it/a8d4b3a34d2189508f9082853fbac36935714f280/expr.ipynb\"><img src=\"data:image/png;base64,iVBORw0KGgoAAAANSUhEUgAAAAsAAAAJBAMAAAAWSsseAAAAMFBMVEX////MzMxUVFQyMjKqqqoi\n",
       "IiKYmJju7u5EREQQEBC6urqIiIh2dnZmZmbc3NwAAAD0tjQRAAAAAXRSTlMAQObYZgAAAAlwSFlz\n",
       "AAAOxAAADsQBlSsOGwAAAEdJREFUCNdjYOC7s28DAwPDygcc3xkY2Kcx8AYwMPB+Z2A9wMDA2cBQ\n",
       "v4CBof4AQz5QRb0DQzPLAwbmDWyxPECV2gcfbWQAABp5EMgcedARAAAAAElFTkSuQmCC\n",
       "\" style=\"display:inline;vertical-align:middle;\" /></a></td></tr>\n",
       "</table>\n"
      ],
      "text/plain": [
       "0. A_{1},...,A_{m}\n",
       "   core type: ExprRange\n",
       "   lambda_map: 1\n",
       "   start_index: 2\n",
       "   end_index: 3\n",
       "1. a -> A_{a}\n",
       "   core type: Lambda\n",
       "   parameter: 6\n",
       "   body: 4\n",
       "2. 1\n",
       "   core type: Literal\n",
       "   sub-expressions: \n",
       "3. m\n",
       "   core type: Variable\n",
       "   sub-expressions: \n",
       "4. A_{a}\n",
       "   core type: IndexedVar\n",
       "variable: 5\n",
       "index: 6\n",
       "5. A\n",
       "   core type: Variable\n",
       "   sub-expressions: \n",
       "6. a\n",
       "   core type: Variable\n",
       "   sub-expressions: "
      ]
     },
     "execution_count": 5,
     "metadata": {},
     "output_type": "execute_result"
    }
   ],
   "source": [
    "# display the expression information\n",
    "expr.exprInfo()"
   ]
  },
  {
   "cell_type": "code",
   "execution_count": null,
   "metadata": {},
   "outputs": [],
   "source": []
  }
 ],
 "metadata": {
  "kernelspec": {
   "display_name": "Python 3",
   "language": "python",
   "name": "python3"
  },
  "language_info": {
   "codemirror_mode": {
    "name": "ipython",
    "version": 3
   },
   "file_extension": ".py",
   "mimetype": "text/x-python",
   "name": "python",
   "nbconvert_exporter": "python",
   "pygments_lexer": "ipython3",
   "version": "3.7.4"
  }
 },
 "nbformat": 4,
 "nbformat_minor": 1
}
