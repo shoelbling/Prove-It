{
 "cells": [
  {
   "cell_type": "markdown",
   "metadata": {},
   "source": [
    "Expression of type <a class=\"ProveItLink\" href=\"../../../../../doc/html/api/proveit.ExprTuple.html\">ExprTuple</a>\n",
    "=======================\n",
    "# from context <a class=\"ProveItLink\" href=\"../../_context_.ipynb\">proveit.core_expr_types</a>"
   ]
  },
  {
   "cell_type": "code",
   "execution_count": 1,
   "metadata": {},
   "outputs": [],
   "source": [
    "import proveit\n",
    "# Automation is not needed when building an expression:\n",
    "proveit.defaults.automation = False # This will speed things up.\n",
    "# import Expression classes needed to build the expression\n",
    "from proveit import ExprRange, ExprTuple, Function\n",
    "from proveit._common_ import a, f, fa, i, j\n",
    "from proveit.number import Add, Neg, one"
   ]
  },
  {
   "cell_type": "code",
   "execution_count": 2,
   "metadata": {},
   "outputs": [
    {
     "data": {
      "text/html": [
       "<strong id=\"expr\">expr:</strong> <a class=\"ProveItLink\" href=\"../61f193a3c316463dc7508ded0d90240a20b367a20/expr.ipynb\"><img src=\"data:image/png;base64,iVBORw0KGgoAAAANSUhEUgAAAOkAAAAVBAMAAABRSdSyAAAAMFBMVEX////MzMxUVFREREQiIiK6\n",
       "uroQEBCYmJhmZmYyMjLu7u52dnaqqqqIiIjc3NwAAACFAiZ1AAAAAXRSTlMAQObYZgAAAAlwSFlz\n",
       "AAAOxAAADsQBlSsOGwAAAq1JREFUSMeVVj1oU1EUvm3eX15i6iCurQjSMTgGWtLaQWyRgiJ0KHaw\n",
       "i1QMutTBGkToUJTgIkjBB50yFEvopMtDdNHBgksGwYCFLoJxcFAUPN+57/U1L/e81Afn5Nx7v3zf\n",
       "/Tnv3KeU6qjk6Ry6wU/pf/pLCT/TnwiTMR0vHk/1s9Bv78ngxZj+Azc3XsVxu2cepsd7HZAv7pAb\n",
       "qqTGTgWp6fSCQQ3zGxgrnFlRUTyr1PNs1dZpTKvJm9PoGfHHX5BGPpDBoCbzauhw3mHSOlZqNVt1\n",
       "5Qpo141jX2jIrcvgVW0ON67z9JxoyAmyRO3f/LMkqqqbMhjUZAvc2GW/EA3la1mqhSrTNWTVZzIY\n",
       "1GQbiO/cGOeUopNpUwYWxjJE3XPT2EEP+bH9yajaksGgJtPz+sue4oJNm+E2stY6sne4H3WnZlK9\n",
       "J4NBTTbH7/APhlD8zaPuYjVL9ftJeItS0+2MhCbVtzIY1GTL6C12GUJxgMkNdbNUP+q0mOcYIs0Z\n",
       "PFOJ6qgMBjXZcnLmHGPIXspS3T1C9Mh4rtdkMKjJNtHO6fRB/FQN2uHzOhl5b2fVgB1Og6MdnuC5\n",
       "6NJJsf+nQEdQRp3p19Ov8S32Ofyl9NOoelcGg5qslZw5Yrt7QIkO0EtKK/9XFCStOPP47XK7RtXH\n",
       "SgSDmuxqcuYcT1B6W7iMrEvkLiKox24mSDLPxikMl1OiZ29PE+1lJYJBTWZhmQ/1fyy9ZLXP/n3f\n",
       "DhdB5EUlZCo5mfRdWpXB+9qoVBfHNqNKEpVtXat3+msh2Zt8GNfx4fCBsWDrS8QMXo9sUlmVuBZN\n",
       "6rnyvvn969gmu9CMGrnOaDhnTPKvMhjUTL+l3Hb8zbKlIbwCt58Oa7j/JL5Ly1573qhakcGgZvrS\n",
       "kVKq47XjfcEcSNdDRwavafsH9g3ZI3StGn8AAAAASUVORK5CYII=\n",
       "\" style=\"display:inline;vertical-align:middle;\" /></a><br>"
      ],
      "text/plain": [
       "expr: (f(i) ,  ...  , f(j - 1) , f(j))"
      ]
     },
     "execution_count": 2,
     "metadata": {},
     "output_type": "execute_result"
    }
   ],
   "source": [
    "# build up the expression from sub-expressions\n",
    "expr = ExprTuple(ExprRange(a, fa, i, Add(j, Neg(one))), Function(f, j))"
   ]
  },
  {
   "cell_type": "code",
   "execution_count": 3,
   "metadata": {},
   "outputs": [
    {
     "name": "stdout",
     "output_type": "stream",
     "text": [
      "Passed sanity check: built 'expr' is the same as the stored Expression.\n"
     ]
    }
   ],
   "source": [
    "# check that the built expression is the same as the stored expression\n",
    "%check_expr"
   ]
  },
  {
   "cell_type": "code",
   "execution_count": 4,
   "metadata": {},
   "outputs": [
    {
     "name": "stdout",
     "output_type": "stream",
     "text": [
      "\\left(f\\left(i\\right) , \\ldots , f\\left(j - 1\\right) , f\\left(j\\right)\\right)\n"
     ]
    }
   ],
   "source": [
    "# Show the LaTeX representation of the expression for convenience if you need it.\n",
    "print(expr.latex())"
   ]
  },
  {
   "cell_type": "code",
   "execution_count": 5,
   "metadata": {},
   "outputs": [
    {
     "data": {
      "text/html": [
       "<table><tr><th>&nbsp;</th><th>core type</th><th>sub-expressions</th><th>expression</th></tr>\n",
       "<tr><td>0</td><td>ExprTuple</td><td>1, 2</td><td><a class=\"ProveItLink\" href=\"../61f193a3c316463dc7508ded0d90240a20b367a20/expr.ipynb\"><img src=\"data:image/png;base64,iVBORw0KGgoAAAANSUhEUgAAAOkAAAAVBAMAAABRSdSyAAAAMFBMVEX////MzMxUVFREREQiIiK6\n",
       "uroQEBCYmJhmZmYyMjLu7u52dnaqqqqIiIjc3NwAAACFAiZ1AAAAAXRSTlMAQObYZgAAAAlwSFlz\n",
       "AAAOxAAADsQBlSsOGwAAAq1JREFUSMeVVj1oU1EUvm3eX15i6iCurQjSMTgGWtLaQWyRgiJ0KHaw\n",
       "i1QMutTBGkToUJTgIkjBB50yFEvopMtDdNHBgksGwYCFLoJxcFAUPN+57/U1L/e81Afn5Nx7v3zf\n",
       "/Tnv3KeU6qjk6Ry6wU/pf/pLCT/TnwiTMR0vHk/1s9Bv78ngxZj+Azc3XsVxu2cepsd7HZAv7pAb\n",
       "qqTGTgWp6fSCQQ3zGxgrnFlRUTyr1PNs1dZpTKvJm9PoGfHHX5BGPpDBoCbzauhw3mHSOlZqNVt1\n",
       "5Qpo141jX2jIrcvgVW0ON67z9JxoyAmyRO3f/LMkqqqbMhjUZAvc2GW/EA3la1mqhSrTNWTVZzIY\n",
       "1GQbiO/cGOeUopNpUwYWxjJE3XPT2EEP+bH9yajaksGgJtPz+sue4oJNm+E2stY6sne4H3WnZlK9\n",
       "J4NBTTbH7/APhlD8zaPuYjVL9ftJeItS0+2MhCbVtzIY1GTL6C12GUJxgMkNdbNUP+q0mOcYIs0Z\n",
       "PFOJ6qgMBjXZcnLmHGPIXspS3T1C9Mh4rtdkMKjJNtHO6fRB/FQN2uHzOhl5b2fVgB1Og6MdnuC5\n",
       "6NJJsf+nQEdQRp3p19Ov8S32Ofyl9NOoelcGg5qslZw5Yrt7QIkO0EtKK/9XFCStOPP47XK7RtXH\n",
       "SgSDmuxqcuYcT1B6W7iMrEvkLiKox24mSDLPxikMl1OiZ29PE+1lJYJBTWZhmQ/1fyy9ZLXP/n3f\n",
       "DhdB5EUlZCo5mfRdWpXB+9qoVBfHNqNKEpVtXat3+msh2Zt8GNfx4fCBsWDrS8QMXo9sUlmVuBZN\n",
       "6rnyvvn969gmu9CMGrnOaDhnTPKvMhjUTL+l3Hb8zbKlIbwCt58Oa7j/JL5Ly1573qhakcGgZvrS\n",
       "kVKq47XjfcEcSNdDRwavafsH9g3ZI3StGn8AAAAASUVORK5CYII=\n",
       "\" style=\"display:inline;vertical-align:middle;\" /></a></td></tr>\n",
       "<tr><td>1</td><td>ExprRange</td><td>lambda_map:&nbsp;3<br>start_index:&nbsp;4<br>end_index:&nbsp;5<br></td><td><a class=\"ProveItLink\" href=\"../35c8c1032d8ec9d393ad7e42ebf51de4910097c70/expr.ipynb\"><img src=\"data:image/png;base64,iVBORw0KGgoAAAANSUhEUgAAAKIAAAAVBAMAAAA3EyjlAAAAMFBMVEX///8yMjLc3NyIiIiYmJgi\n",
       "IiJERES6urqqqqoQEBDMzMxUVFTu7u52dnZmZmYAAAD1zdHuAAAAAXRSTlMAQObYZgAAAAlwSFlz\n",
       "AAAOxAAADsQBlSsOGwAAAgtJREFUOMuNVTtIA0EQ3ZyXn17OFAp2XiG2phCx8oNgqSJEgj9ESy20\n",
       "UEjlNVYqChZaCKaxsNJKsJFIwDZpUokQf6WgWAhi4Xz2Ds3trVnYuZ3b997t7OzOCeE3B40hGmpG\n",
       "I++bXLTxTEOK/SHvJd2+L4LdRdVaKFY2xiYqYJpX6uZOi96n7s5geVYaRtGKiBS1ioQVNxRU+s+M\n",
       "dd0JVKYfbcDDHuIJs6ZVJKx4Vs4NFiU9/o1u0nt/rBNkrNgPVSR6agLdNe99m06RsfF0uCLQzasZ\n",
       "XOkr9NIT7pRGUGJtTEypT6mI9NaMt7RKHsywbo2MjeCe15JDKkWk9xTQzcHxdB9gsKVTZGwU8m06\n",
       "ra5KEel75B5C/sUHDM51ioxNrtIYBaz2LLaCr4j0qqcoEpjJvE6x+kvxRbmPSF8mtwP35+K/qBkb\n",
       "oXjnRFjUB+QuQS+7kMRRjCWoxVeJsTHMj/GpVAS68cXXC/qmAenDE1SGA2e9C2l8z8OmMBbzTakI\n",
       "9ATPrOO3e8FMYjJnwcwLaaJ4BrNUIRgbx3PeslAneHkykyG6fUF+tCArHN2KnUDUCVSUWDGN6VHW\n",
       "PaBv8zb7FYIrRiV4/6B7WDEmWtxxZZEC+tSNHC/yo5sqU/D7Jeg+NuacuznlYQD6yKMc3/KDyqgZ\n",
       "hOLSfay1YA+sKhV/V2GDwjWdhv4KXWGlxBE/qTx/Ta7JFpQAAAAASUVORK5CYII=\n",
       "\" style=\"display:inline;vertical-align:middle;\" /></a></td></tr>\n",
       "<tr><td>2</td><td>Operation</td><td>operator:&nbsp;9<br>operand:&nbsp;11<br></td><td><a class=\"ProveItLink\" href=\"../36ca5b235979f21894d1d9e8fa3870f5f22fe4f10/expr.ipynb\"><img src=\"data:image/png;base64,iVBORw0KGgoAAAANSUhEUgAAACYAAAAVBAMAAADY/YGeAAAAMFBMVEX///8yMjLc3NyIiIiYmJgi\n",
       "IiJERES6urqqqqoQEBDMzMxUVFTu7u52dnZmZmYAAAD1zdHuAAAAAXRSTlMAQObYZgAAAAlwSFlz\n",
       "AAAOxAAADsQBlSsOGwAAAPtJREFUGNNjYIADJiQSBizAJLsBmOK7ewBIclwAElw5UKnbKxuA5EEQ\n",
       "k1mAgRGkgGFGGYh6AjWC5QHIhD9g9gSYuXOAmDcAbLYATEwEqHZnNEg1H8iKw2Yg44GYH2w7owOQ\n",
       "eMAJJB2BDP0FIDFWoN0sCvxAshXI6webwlkAIvuBLlgPpK8iiT0F4kogzgaLMYLczRDLANE7GSzG\n",
       "BrKJ6TuQcAPSv8BivBtAfvgAJB4D/f4BEh4gl3MnAIkgoGM3QJwfBbIIaABTAEM3xHAGBj8G7gZ/\n",
       "oFP4HBjCDkK9yaawviECSKsxMDg/gorxJPDZgdyYgxz2KpDgU2AAAAErMJ+sZ6wqAAAAAElFTkSu\n",
       "QmCC\n",
       "\" style=\"display:inline;vertical-align:middle;\" /></a></td></tr>\n",
       "<tr><td>3</td><td>Lambda</td><td>parameter:&nbsp;10<br>body:&nbsp;6<br></td><td><a class=\"ProveItLink\" href=\"../f0043753ff2624d263f59c4c60930b136180b0460/expr.ipynb\"><img src=\"data:image/png;base64,iVBORw0KGgoAAAANSUhEUgAAAFQAAAAVCAMAAADvsTk6AAAANlBMVEX///8WFhYNDQ3MzMxUVFQy\n",
       "MjKqqqoiIiKYmJju7u5EREQQEBC6urqIiIh2dnZmZmbc3NwAAADRPqZpAAAAAXRSTlMAQObYZgAA\n",
       "AAlwSFlzAAAOxAAADsQBlSsOGwAAATxJREFUOMulVFtihCAMtOUdHoH7X7agZZcEdKvNj2JkMsOE\n",
       "bNt/I1+snkbUZBniQxxMyfV3na6L/DWSFL7vdGpKK/cE1OsAfSPaKW3x44nNBx/KQMWvii6okk96\n",
       "LpvMUEAtQNXOPmOK+eWaIX8YLk56I/FtWe+kASLJVs5XjfASRWE0cCIlclIMwlb6zrcMmhNuEegR\n",
       "5SIGHUcXUAhdn7gXMK9++/4yJEoJhHoZPTlSFELUP3wT6N47GdOgwqlPHZRCBF/fWwFbTqwRvJdB\n",
       "jkbv8hlEle9KS4DadF6BKt6ofrzcEA9QAmErb1UT1uDWD5WoDbxPiU9H93AIrCsnYxJZRrGcHfwr\n",
       "8WkLhywKYW6PP5T0bsxUsrmHqOWvNVfTYzFjLsPANOqAa81wU7uNyDEcx4BH45Qzo2ptq/oDHYoL\n",
       "1B9fEzQAAAAASUVORK5CYII=\n",
       "\" style=\"display:inline;vertical-align:middle;\" /></a></td></tr>\n",
       "<tr><td>4</td><td>Variable</td><td></td><td><a class=\"ProveItLink\" href=\"../../../__pv_it/557ab5defdcd46aa58168b08767502985122cd490/expr.ipynb\"><img src=\"data:image/png;base64,iVBORw0KGgoAAAANSUhEUgAAAAcAAAAOBAMAAAARcxsoAAAALVBMVEX///9ERESYmJhUVFQyMjKq\n",
       "qqrc3NwQEBC6urru7u52dnYiIiJmZmaIiIgAAAD/UVazAAAAAXRSTlMAQObYZgAAAAlwSFlzAAAO\n",
       "xAAADsQBlSsOGwAAADlJREFUCNdjYGC4wwAEuxjQAeedCwwMXBwFDAypPA4MDBP4gFyGuAlAwhkk\n",
       "+5SLgYHjQRKQKavAAAAx5QmdfgFqMAAAAABJRU5ErkJggg==\n",
       "\" style=\"display:inline;vertical-align:middle;\" /></a></td></tr>\n",
       "<tr><td>5</td><td>Operation</td><td>operator:&nbsp;7<br>operands:&nbsp;8<br></td><td><a class=\"ProveItLink\" href=\"../aeefccf1ca394199229d9107d43d59aa55677ff30/expr.ipynb\"><img src=\"data:image/png;base64,iVBORw0KGgoAAAANSUhEUgAAAC0AAAASBAMAAAA9GErRAAAAMFBMVEX///9UVFS6urp2dnYiIiKq\n",
       "qqrc3NyYmJgQEBBmZmYyMjKIiIju7u5ERETMzMwAAAC4hZuzAAAAAXRSTlMAQObYZgAAAAlwSFlz\n",
       "AAAOxAAADsQBlSsOGwAAAGpJREFUGNNjYGBg4LvDgAqeHABT3AtQRHkk1x9gwAr2kyV+ei928Qkc\n",
       "BdjE2RP4A7CbHw+iTrmAgB+y+BQc7nHGLs72Cbs4+wfs4owX0IRl+x03ACmODdj8zBhQjzU03ge4\n",
       "Yg0jzp0K2IQB/8YmBu692W8AAAAASUVORK5CYII=\n",
       "\" style=\"display:inline;vertical-align:middle;\" /></a></td></tr>\n",
       "<tr><td>6</td><td>Operation</td><td>operator:&nbsp;9<br>operand:&nbsp;10<br></td><td><a class=\"ProveItLink\" href=\"../../../__pv_it/e80bce2a0c2e8c976be76e7b3ce08f76e74ec5550/expr.ipynb\"><img src=\"data:image/png;base64,iVBORw0KGgoAAAANSUhEUgAAACgAAAAVBAMAAADGNLEtAAAAMFBMVEX///8yMjLc3NyIiIiYmJgi\n",
       "IiJERES6urqqqqoQEBDMzMxUVFTu7u52dnZmZmYAAAD1zdHuAAAAAXRSTlMAQObYZgAAAAlwSFlz\n",
       "AAAOxAAADsQBlSsOGwAAAP1JREFUGNNjYIADJhQKCiwgFLsBmOK7ewBIclxAkby9sgFIHoTpYAQp\n",
       "YZhRBqKewARZHoAM+QNmT4AbPgeIeQPA5gvABUWAqndGg9TzgezRu6wMsgOI+cFuYHQAqp7EkA80\n",
       "3hHI1V8AEmQFuuCkA8NTILMViPvBBnEWMDC8P8AQC2SuB+KrcMFpDDzfgcxKIM6GOLmBgecvA8sH\n",
       "qPbJYEE2AwaeHwxsAk0MDG7AUPkFFuTdwMAgzOD6AOiyx8CA+AAJHKAXTtsu2gx0ShDQ1Rsg/oiC\n",
       "h2sAQzdjA4TtBxPkc2AIgwUZmwKUocbA4PwIyuZJgDJykKNDBRqcCgwAmIo1X55DCvQAAAAASUVO\n",
       "RK5CYII=\n",
       "\" style=\"display:inline;vertical-align:middle;\" /></a></td></tr>\n",
       "<tr><td>7</td><td>Literal</td><td></td><td><a class=\"ProveItLink\" href=\"../../../number/addition/__pv_it/65ad7e8aee19b10110d590375ba95a879c4fb7ea0/expr.ipynb\"><img src=\"data:image/png;base64,iVBORw0KGgoAAAANSUhEUgAAAA4AAAAOBAMAAADtZjDiAAAAHlBMVEX///9UVFQQEBAiIiJmZmaI\n",
       "iIiqqqqYmJi6uroAAAAAFVhYAAAAAXRSTlMAQObYZgAAAAlwSFlzAAAOxAAADsQBlSsOGwAAAB9J\n",
       "REFUCNdjYGBgaGeAgFRiaGdjYyVjY0Oi1SPRIHsAgDEGyG9xCpgAAAAASUVORK5CYII=\n",
       "\" style=\"display:inline;vertical-align:middle;\" /></a></td></tr>\n",
       "<tr><td>8</td><td>ExprTuple</td><td>11, 12</td><td><a class=\"ProveItLink\" href=\"../939889fe2b07e786ec7e35dd6c9980529c3c00a80/expr.ipynb\"><img src=\"data:image/png;base64,iVBORw0KGgoAAAANSUhEUgAAADgAAAAVBAMAAADhmjDFAAAAMFBMVEX////MzMxUVFREREQiIiK6\n",
       "uroQEBCYmJhmZmYyMjLu7u52dnaqqqqIiIjc3NwAAACFAiZ1AAAAAXRSTlMAQObYZgAAAAlwSFlz\n",
       "AAAOxAAADsQBlSsOGwAAAOpJREFUKM9jYGB4wIAV8IEI3gPYJVkvAInTIBajFaqMyAIGhjsMDFwT\n",
       "wNonIEtxacwHSnIuYOAowGbmfaAkewMDGwMuSYYshkjcktMZukHstZexSW4CSgNBA1sBFslKBh8g\n",
       "yf6A/wAWySMMqWDO+QVgL0xxAQEBqKQ8VLIFm51hDHPAHG8GrMbaggP5KwMXpmQx0L0gF31gWD8B\n",
       "Q7KXIQTEZjJgYPFCklPOdwLGiR8DC9BtDGxA5imMCHUABS/TgXqgKRvQJUFRYscgfwAYElwX0CUf\n",
       "A/FiBo4bAUA3YQQ+KP75CrAnE/YHDADxtT3dfKrZGgAAAABJRU5ErkJggg==\n",
       "\" style=\"display:inline;vertical-align:middle;\" /></a></td></tr>\n",
       "<tr><td>9</td><td>Variable</td><td></td><td><a class=\"ProveItLink\" href=\"../../../__pv_it/d7bbb04e874e28c7cefb21d4eea40806ae52f1f70/expr.ipynb\"><img src=\"data:image/png;base64,iVBORw0KGgoAAAANSUhEUgAAAAsAAAASBAMAAAB/WzlGAAAAMFBMVEX///8yMjLc3NyIiIiYmJgi\n",
       "IiJERES6urqqqqoQEBDMzMxUVFTu7u52dnZmZmYAAAD1zdHuAAAAAXRSTlMAQObYZgAAAAlwSFlz\n",
       "AAAOxAAADsQBlSsOGwAAAFNJREFUCNdjYGBg4Lt7AEgy3F7ZAKJmlIF47H9AbAbeABDJsjP6AYjm\n",
       "NwAL6i8AU/1gkuEqhMqGUJPBJNMvMMXxAUzxbQCR3Yxg48MOgsWcH4FIAPrAEkCfAu8DAAAAAElF\n",
       "TkSuQmCC\n",
       "\" style=\"display:inline;vertical-align:middle;\" /></a></td></tr>\n",
       "<tr><td>10</td><td>Variable</td><td></td><td><a class=\"ProveItLink\" href=\"../../../__pv_it/a8d4b3a34d2189508f9082853fbac36935714f280/expr.ipynb\"><img src=\"data:image/png;base64,iVBORw0KGgoAAAANSUhEUgAAAAsAAAAJBAMAAAAWSsseAAAAMFBMVEX////MzMxUVFQyMjKqqqoi\n",
       "IiKYmJju7u5EREQQEBC6urqIiIh2dnZmZmbc3NwAAAD0tjQRAAAAAXRSTlMAQObYZgAAAAlwSFlz\n",
       "AAAOxAAADsQBlSsOGwAAAEdJREFUCNdjYOC7s28DAwPDygcc3xkY2Kcx8AYwMPB+Z2A9wMDA2cBQ\n",
       "v4CBof4AQz5QRb0DQzPLAwbmDWyxPECV2gcfbWQAABp5EMgcedARAAAAAElFTkSuQmCC\n",
       "\" style=\"display:inline;vertical-align:middle;\" /></a></td></tr>\n",
       "<tr><td>11</td><td>Variable</td><td></td><td><a class=\"ProveItLink\" href=\"../../../__pv_it/6a5b5879f51878868f626bf09e4d76392d4779cd0/expr.ipynb\"><img src=\"data:image/png;base64,iVBORw0KGgoAAAANSUhEUgAAAAoAAAASBAMAAACQmVJ4AAAAMFBMVEX///9UVFS6urp2dnYiIiKq\n",
       "qqrc3NyYmJgQEBBmZmYyMjKIiIju7u5ERETMzMwAAAC4hZuzAAAAAXRSTlMAQObYZgAAAAlwSFlz\n",
       "AAAOxAAADsQBlSsOGwAAAEtJREFUCNdjYGBg4LsDJBi4FzBgA6f3gsgJHAUMDOwJ/AEgTvwBEDkF\n",
       "LO0MItg+gUj2DyCS8QKI5NgAZAXUAxW+D3AF8jl3KjAwAACAGg5QwkhbIAAAAABJRU5ErkJggg==\n",
       "\" style=\"display:inline;vertical-align:middle;\" /></a></td></tr>\n",
       "<tr><td>12</td><td>Operation</td><td>operator:&nbsp;13<br>operand:&nbsp;14<br></td><td><a class=\"ProveItLink\" href=\"../5b07ae4e68d064139ece8a196baaa37242fa33320/expr.ipynb\"><img src=\"data:image/png;base64,iVBORw0KGgoAAAANSUhEUgAAABgAAAAOBAMAAADH1sFNAAAAIVBMVEX///8QEBBERESIiIhmZmZU\n",
       "VFTMzMwiIiIyMjLu7u4AAAD38jUOAAAAAXRSTlMAQObYZgAAAAlwSFlzAAAOxAAADsQBlSsOGwAA\n",
       "ACRJREFUCNdjYIABtko4k2Gqx0oEh4GZGpwZ5SBQRrlprIrLgwGT3A3rrVYBpAAAAABJRU5ErkJg\n",
       "gg==\n",
       "\" style=\"display:inline;vertical-align:middle;\" /></a></td></tr>\n",
       "<tr><td>13</td><td>Literal</td><td></td><td><a class=\"ProveItLink\" href=\"../../../number/negation/__pv_it/2867787e35502987d81a45cac8e7f1c6996d6ff40/expr.ipynb\"><img src=\"data:image/png;base64,iVBORw0KGgoAAAANSUhEUgAAAA4AAAABBAMAAAAcMII3AAAAElBMVEX////MzMwiIiIyMjLu7u4A\n",
       "AADe/Ps1AAAAAXRSTlMAQObYZgAAAAlwSFlzAAAOxAAADsQBlSsOGwAAAA1JREFUCNdjcFYCAUUA\n",
       "BKYBD24TAeoAAAAASUVORK5CYII=\n",
       "\" style=\"display:inline;vertical-align:middle;\" /></a></td></tr>\n",
       "<tr><td>14</td><td>Literal</td><td></td><td><a class=\"ProveItLink\" href=\"../../../number/numeral/__pv_it/f086f8c372bd40a2458306ddfdbb29f3dc6f63030/expr.ipynb\"><img src=\"data:image/png;base64,iVBORw0KGgoAAAANSUhEUgAAAAgAAAAOBAMAAADgeEClAAAAIVBMVEX///8QEBBERESIiIgyMjJm\n",
       "ZmZUVFTu7u4iIiLMzMwAAAAWRytzAAAAAXRSTlMAQObYZgAAAAlwSFlzAAAOxAAADsQBlSsOGwAA\n",
       "ABtJREFUCNdjYOBsZ2AoC1nOwMDATBbBprgiGQBsuwqCZsDj4wAAAABJRU5ErkJggg==\n",
       "\" style=\"display:inline;vertical-align:middle;\" /></a></td></tr>\n",
       "</table>\n"
      ],
      "text/plain": [
       "0. (f(i) ,  ...  , f(j - 1) , f(j))\n",
       "   core type: ExprTuple\n",
       "   sub-expressions: 1, 2\n",
       "1. f(i),...,f(j - 1)\n",
       "   core type: ExprRange\n",
       "   lambda_map: 3\n",
       "   start_index: 4\n",
       "   end_index: 5\n",
       "2. f(j)\n",
       "   core type: Operation\n",
       "   operator: 9\n",
       "   operand: 11\n",
       "3. a -> f(a)\n",
       "   core type: Lambda\n",
       "   parameter: 10\n",
       "   body: 6\n",
       "4. i\n",
       "   core type: Variable\n",
       "   sub-expressions: \n",
       "5. j - 1\n",
       "   core type: Operation\n",
       "   operator: 7\n",
       "   operands: 8\n",
       "6. f(a)\n",
       "   core type: Operation\n",
       "   operator: 9\n",
       "   operand: 10\n",
       "7. +\n",
       "   core type: Literal\n",
       "   sub-expressions: \n",
       "8. (j , -1)\n",
       "   core type: ExprTuple\n",
       "   sub-expressions: 11, 12\n",
       "9. f\n",
       "   core type: Variable\n",
       "   sub-expressions: \n",
       "10. a\n",
       "    core type: Variable\n",
       "    sub-expressions: \n",
       "11. j\n",
       "    core type: Variable\n",
       "    sub-expressions: \n",
       "12. -1\n",
       "    core type: Operation\n",
       "    operator: 13\n",
       "    operand: 14\n",
       "13. -\n",
       "    core type: Literal\n",
       "    sub-expressions: \n",
       "14. 1\n",
       "    core type: Literal\n",
       "    sub-expressions: "
      ]
     },
     "execution_count": 5,
     "metadata": {},
     "output_type": "execute_result"
    }
   ],
   "source": [
    "# display the expression information\n",
    "expr.exprInfo()"
   ]
  },
  {
   "cell_type": "code",
   "execution_count": null,
   "metadata": {},
   "outputs": [],
   "source": []
  }
 ],
 "metadata": {
  "kernelspec": {
   "display_name": "Python 3",
   "language": "python",
   "name": "python3"
  },
  "language_info": {
   "codemirror_mode": {
    "name": "ipython",
    "version": 3
   },
   "file_extension": ".py",
   "mimetype": "text/x-python",
   "name": "python",
   "nbconvert_exporter": "python",
   "pygments_lexer": "ipython3",
   "version": "3.7.4"
  }
 },
 "nbformat": 4,
 "nbformat_minor": 1
}
