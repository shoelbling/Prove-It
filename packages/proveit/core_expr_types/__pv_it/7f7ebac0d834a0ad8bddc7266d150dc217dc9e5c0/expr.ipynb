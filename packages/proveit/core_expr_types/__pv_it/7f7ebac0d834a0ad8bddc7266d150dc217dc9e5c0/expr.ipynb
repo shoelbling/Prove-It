{
 "cells": [
  {
   "cell_type": "markdown",
   "metadata": {},
   "source": [
    "Expression of type <a class=\"ProveItLink\" href=\"../../../../../doc/html/api/proveit.Lambda.html\">Lambda</a>\n",
    "=======================\n",
    "# from context <a class=\"ProveItLink\" href=\"../../_context_.ipynb\">proveit.core_expr_types</a>"
   ]
  },
  {
   "cell_type": "code",
   "execution_count": 1,
   "metadata": {},
   "outputs": [],
   "source": [
    "import proveit\n",
    "# Automation is not needed when building an expression:\n",
    "proveit.defaults.automation = False # This will speed things up.\n",
    "# import Expression classes needed to build the expression\n",
    "from proveit import IndexedVar, Lambda, Variable"
   ]
  },
  {
   "cell_type": "code",
   "execution_count": 2,
   "metadata": {},
   "outputs": [
    {
     "data": {
      "text/html": [
       "<strong id=\"expr\">expr:</strong> <a class=\"ProveItLink\" href=\"expr.ipynb\"><img src=\"data:image/png;base64,iVBORw0KGgoAAAANSUhEUgAAAEMAAAARCAMAAACxUuG9AAAANlBMVEX///8WFhYNDQ3MzMxUVFQy\n",
       "MjKqqqoiIiKYmJju7u5EREQQEBC6urqIiIh2dnZmZmbc3NwAAADRPqZpAAAAAXRSTlMAQObYZgAA\n",
       "AAlwSFlzAAAOxAAADsQBlSsOGwAAAPpJREFUOMulU+2SwyAI5M5PVETe/2WrtjaasZ27hD8R11mW\n",
       "hQD8N5CC1tpDyXA1KBLWj83OX2TA4PB5Yil/rXp6aOKLAlL8VmpOLC9YFjuOakUKZyo0MrdgS1bk\n",
       "SFHNSIpVcBDcctiwyKAP2mMzmN1eB1A4mnOi9hzcFbj3tH9/3BIiaUBRcG9bbGrxeHjSkUyadBw9\n",
       "zopQmgIvexdBGZwlv0fdZSN7yqVxtHEFA7bsOExZ5jI8zY0ZnQLV2zP13juGYUhaOlm3wEpfcNsp\n",
       "gCuo+qqhpqyKpq3lfLpFrj8cv8o0D0nDncDmTvCId0jqbipJ/paQxN5S9vAAonEI6SXB8vIAAAAA\n",
       "SUVORK5CYII=\n",
       "\" style=\"display:inline;vertical-align:middle;\" /></a><br>"
      ],
      "text/plain": [
       "expr: a -> C_{a}"
      ]
     },
     "execution_count": 2,
     "metadata": {},
     "output_type": "execute_result"
    }
   ],
   "source": [
    "# build up the expression from sub-expressions\n",
    "subExpr1 = Variable(\"a\")\n",
    "expr = Lambda(subExpr1, IndexedVar(Variable(\"C\"), subExpr1))"
   ]
  },
  {
   "cell_type": "code",
   "execution_count": 3,
   "metadata": {},
   "outputs": [
    {
     "name": "stdout",
     "output_type": "stream",
     "text": [
      "Passed sanity check: built 'expr' is the same as the stored Expression.\n"
     ]
    }
   ],
   "source": [
    "# check that the built expression is the same as the stored expression\n",
    "%check_expr"
   ]
  },
  {
   "cell_type": "code",
   "execution_count": 4,
   "metadata": {},
   "outputs": [
    {
     "name": "stdout",
     "output_type": "stream",
     "text": [
      "a \\mapsto C_{a}\n"
     ]
    }
   ],
   "source": [
    "# Show the LaTeX representation of the expression for convenience if you need it.\n",
    "print(expr.latex())"
   ]
  },
  {
   "cell_type": "code",
   "execution_count": 5,
   "metadata": {},
   "outputs": [
    {
     "data": {
      "text/html": [
       "<table><tr><th>&nbsp;</th><th>core type</th><th>sub-expressions</th><th>expression</th></tr>\n",
       "<tr><td>0</td><td>Lambda</td><td>parameter:&nbsp;3<br>body:&nbsp;1<br></td><td><a class=\"ProveItLink\" href=\"expr.ipynb\"><img src=\"data:image/png;base64,iVBORw0KGgoAAAANSUhEUgAAAEMAAAARCAMAAACxUuG9AAAANlBMVEX///8WFhYNDQ3MzMxUVFQy\n",
       "MjKqqqoiIiKYmJju7u5EREQQEBC6urqIiIh2dnZmZmbc3NwAAADRPqZpAAAAAXRSTlMAQObYZgAA\n",
       "AAlwSFlzAAAOxAAADsQBlSsOGwAAAPpJREFUOMulU+2SwyAI5M5PVETe/2WrtjaasZ27hD8R11mW\n",
       "hQD8N5CC1tpDyXA1KBLWj83OX2TA4PB5Yil/rXp6aOKLAlL8VmpOLC9YFjuOakUKZyo0MrdgS1bk\n",
       "SFHNSIpVcBDcctiwyKAP2mMzmN1eB1A4mnOi9hzcFbj3tH9/3BIiaUBRcG9bbGrxeHjSkUyadBw9\n",
       "zopQmgIvexdBGZwlv0fdZSN7yqVxtHEFA7bsOExZ5jI8zY0ZnQLV2zP13juGYUhaOlm3wEpfcNsp\n",
       "gCuo+qqhpqyKpq3lfLpFrj8cv8o0D0nDncDmTvCId0jqbipJ/paQxN5S9vAAonEI6SXB8vIAAAAA\n",
       "SUVORK5CYII=\n",
       "\" style=\"display:inline;vertical-align:middle;\" /></a></td></tr>\n",
       "<tr><td>1</td><td>IndexedVar</td><td>variable:&nbsp;2<br>index:&nbsp;3<br></td><td><a class=\"ProveItLink\" href=\"../784967002face614d4c2832bf571406762afdc770/expr.ipynb\"><img src=\"data:image/png;base64,iVBORw0KGgoAAAANSUhEUgAAABcAAAARBAMAAADEXSqOAAAAMFBMVEX////MzMy6uroyMjJmZmYi\n",
       "IiKqqqoQEBB2dnbc3NyYmJhUVFRERESIiIju7u4AAACU7+9TAAAAAXRSTlMAQObYZgAAAAlwSFlz\n",
       "AAAOxAAADsQBlSsOGwAAAItJREFUCNdjYGDgu7N7F2cDAwRcv8fA1roAwn4TByT8J0A45g+AhDqE\n",
       "zfENRIpAOPMDQORDCKf/AgMCxAsgcepB+hkeQGVABBtUGmwDBwPDk7WdQNNABvQx8AUy/gOq+MXA\n",
       "kPGAgcWBsQAo+uT0FgUGBn4F3g1wQ99P4Fn3AMZhnyCvBZdh8srtYgAAzUcimPi51gcAAAAASUVO\n",
       "RK5CYII=\n",
       "\" style=\"display:inline;vertical-align:middle;\" /></a></td></tr>\n",
       "<tr><td>2</td><td>Variable</td><td></td><td><a class=\"ProveItLink\" href=\"../dcb5a3e430485237dfe486162b026a4affb149300/expr.ipynb\"><img src=\"data:image/png;base64,iVBORw0KGgoAAAANSUhEUgAAAA8AAAAOBAMAAAACpFvcAAAAMFBMVEX////MzMy6uroyMjJmZmYi\n",
       "IiKqqqoQEBB2dnbc3NyYmJhUVFRERESIiIju7u4AAACU7+9TAAAAAXRSTlMAQObYZgAAAAlwSFlz\n",
       "AAAOxAAADsQBlSsOGwAAAGRJREFUCNdjYGDgu7N7F2cDAwPD9XsMbK0LGBjexAE5/hMYGMwfABnq\n",
       "DAwc34A0gwgDw/wAEOMhA0P/BQYIiBeAMupBahmARDyIZhOAmMDAAcTzQYr7QKK/GBgywOqenN6i\n",
       "AKQAXj8YQ01800YAAAAASUVORK5CYII=\n",
       "\" style=\"display:inline;vertical-align:middle;\" /></a></td></tr>\n",
       "<tr><td>3</td><td>Variable</td><td></td><td><a class=\"ProveItLink\" href=\"../a8d4b3a34d2189508f9082853fbac36935714f280/expr.ipynb\"><img src=\"data:image/png;base64,iVBORw0KGgoAAAANSUhEUgAAAAsAAAAJBAMAAAAWSsseAAAAMFBMVEX////MzMxUVFQyMjKqqqoi\n",
       "IiKYmJju7u5EREQQEBC6urqIiIh2dnZmZmbc3NwAAAD0tjQRAAAAAXRSTlMAQObYZgAAAAlwSFlz\n",
       "AAAOxAAADsQBlSsOGwAAAEdJREFUCNdjYOC7s28DAwPDygcc3xkY2Kcx8AYwMPB+Z2A9wMDA2cBQ\n",
       "v4CBof4AQz5QRb0DQzPLAwbmDWyxPECV2gcfbWQAABp5EMgcedARAAAAAElFTkSuQmCC\n",
       "\" style=\"display:inline;vertical-align:middle;\" /></a></td></tr>\n",
       "</table>\n"
      ],
      "text/plain": [
       "0. a -> C_{a}\n",
       "   core type: Lambda\n",
       "   parameter: 3\n",
       "   body: 1\n",
       "1. C_{a}\n",
       "   core type: IndexedVar\n",
       "variable: 2\n",
       "index: 3\n",
       "2. C\n",
       "   core type: Variable\n",
       "   sub-expressions: \n",
       "3. a\n",
       "   core type: Variable\n",
       "   sub-expressions: "
      ]
     },
     "execution_count": 5,
     "metadata": {},
     "output_type": "execute_result"
    }
   ],
   "source": [
    "# display the expression information\n",
    "expr.exprInfo()"
   ]
  },
  {
   "cell_type": "code",
   "execution_count": null,
   "metadata": {},
   "outputs": [],
   "source": []
  }
 ],
 "metadata": {
  "kernelspec": {
   "display_name": "Python 3",
   "language": "python",
   "name": "python3"
  },
  "language_info": {
   "codemirror_mode": {
    "name": "ipython",
    "version": 3
   },
   "file_extension": ".py",
   "mimetype": "text/x-python",
   "name": "python",
   "nbconvert_exporter": "python",
   "pygments_lexer": "ipython3",
   "version": "3.7.4"
  }
 },
 "nbformat": 4,
 "nbformat_minor": 1
}
