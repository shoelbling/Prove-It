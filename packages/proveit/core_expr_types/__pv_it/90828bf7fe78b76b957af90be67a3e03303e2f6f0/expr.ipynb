{
 "cells": [
  {
   "cell_type": "markdown",
   "metadata": {},
   "source": [
    "Common Expression <a class=\"ProveItLink\" href=\"../../_common_.ipynb#R__z_1_to_n\">R__z_1_to_n</a> of type <a class=\"ProveItLink\" href=\"../../../../../doc/html/api/proveit.Function.html\">Function</a>\n",
    "=======================\n",
    "# from context <a class=\"ProveItLink\" href=\"../../_context_.ipynb\">proveit.core_expr_types</a>"
   ]
  },
  {
   "cell_type": "code",
   "execution_count": 1,
   "metadata": {},
   "outputs": [],
   "source": [
    "import proveit\n",
    "# Automation is not needed when only building an expression:\n",
    "proveit.defaults.automation = False # This will speed things up.\n",
    "# import the special expression\n",
    "from proveit.core_expr_types._common_ import R__z_1_to_n"
   ]
  },
  {
   "cell_type": "code",
   "execution_count": 2,
   "metadata": {},
   "outputs": [
    {
     "name": "stdout",
     "output_type": "stream",
     "text": [
      "Passed sanity check: built 'R__z_1_to_n' is the same as the stored Expression.\n"
     ]
    }
   ],
   "source": [
    "# check that the built expression is the same as the stored expression\n",
    "%check_expr R__z_1_to_n"
   ]
  },
  {
   "cell_type": "code",
   "execution_count": 3,
   "metadata": {},
   "outputs": [
    {
     "name": "stdout",
     "output_type": "stream",
     "text": [
      "R\\left(z_{1} , \\ldots , z_{n}\\right)\n"
     ]
    }
   ],
   "source": [
    "# Show the LaTeX representation of the expression for convenience if you need it.\n",
    "print(R__z_1_to_n.latex())"
   ]
  },
  {
   "cell_type": "code",
   "execution_count": 4,
   "metadata": {},
   "outputs": [
    {
     "data": {
      "text/html": [
       "<table><tr><th>&nbsp;</th><th>core type</th><th>sub-expressions</th><th>expression</th></tr>\n",
       "<tr><td>0</td><td>Operation</td><td>operator:&nbsp;1<br>operands:&nbsp;2<br></td><td><a class=\"ProveItLink\" href=\"expr.ipynb\"><img src=\"data:image/png;base64,iVBORw0KGgoAAAANSUhEUgAAAHcAAAAVBAMAAACOK2zoAAAAMFBMVEX///+YmJgQEBDu7u52dnZm\n",
       "Zma6uroiIiIyMjLc3NzMzMyqqqpUVFRERESIiIgAAABEQnZxAAAAAXRSTlMAQObYZgAAAAlwSFlz\n",
       "AAAOxAAADsQBlSsOGwAAAbBJREFUOMuVUz1Lw1AUPWmamLTWZhF00lGcsghOtkPBqdiis9QOjiqI\n",
       "FopDUXDUlhZci4uTtegguNg/oGTQSS0ZWjqIUHFR8eu+NK+0DQbyhvvOTTjvnnveu0DPUuFh5Qfy\n",
       "Zy/kNSu+/D4+PTAQjHohj1St7Rs4q9E+C09rj4XADxD6IJD0Rh616n8CCiNPeiP7dApKm2QbgJzz\n",
       "RlY0CmED6g7tEvPrJKtqboxAplywoZ/5tF5v3pf5SQfxpnu5Rj1hQ4EpXciLN0z+EHmv6ohCHPuf\n",
       "XISfw+AGhV1SzhT7UuzTjI5Ky6W0uNjtgLzCFxCpcbLKjrl0IZe6SKbbkV+Ba9aHUrUenehKlk3o\n",
       "QrLStGVLb9S2GaCHYtI/DcMdsu4UzMIKUBPSmo/GQjAgHhN5wlztWH8ab2QtsvgOO0RyPSBwV58v\n",
       "F1sI09mSCX8spkGq0zXJJCManEp1KmdY6S12CQkONqkAzveBW6RZ3jeUWQ4YOejUfcHBNJaozSPn\n",
       "S+dkv9MsPrFqG9tXg3MUsnWUDpeBOadhJne8hoYG1ej/25s6X7jQn4YG+ip4Gapx4A/3E2Mgzmwt\n",
       "GwAAAABJRU5ErkJggg==\n",
       "\" style=\"display:inline;vertical-align:middle;\" /></a></td></tr>\n",
       "<tr><td>1</td><td>Variable</td><td></td><td><a class=\"ProveItLink\" href=\"../../../__pv_it/0a2bba13f1df910578e611e3c0100cd5999bfe270/expr.ipynb\"><img src=\"data:image/png;base64,iVBORw0KGgoAAAANSUhEUgAAABAAAAAOBAMAAADUAYG5AAAAMFBMVEX///+YmJgQEBDu7u52dnZm\n",
       "Zma6uroiIiIyMjLc3NzMzMyqqqpUVFRERESIiIgAAABEQnZxAAAAAXRSTlMAQObYZgAAAAlwSFlz\n",
       "AAAOxAAADsQBlSsOGwAAAHBJREFUCNdjYGB4+//O3dsMIPCXgWH9ASDN9Y+BgfcnkMH3i4GBA8Tg\n",
       "+ACUugBk8F9g4KwBqc2/9/TqAhDDfwLzWQMQowko6wBi/GFgsAcZw/aRgWF/AJDB+hmo7AEXA/Mi\n",
       "IEP+QRoDi4uLAAPrPQEAazsf9Lya9EUAAAAASUVORK5CYII=\n",
       "\" style=\"display:inline;vertical-align:middle;\" /></a></td></tr>\n",
       "<tr><td>2</td><td>ExprTuple</td><td>3</td><td><a class=\"ProveItLink\" href=\"../d6700a862529bde1a7be5b24749a72a39e35bb3c0/expr.ipynb\"><img src=\"data:image/png;base64,iVBORw0KGgoAAAANSUhEUgAAAGIAAAAVBAMAAABPrCZEAAAAMFBMVEX////MzMxUVFREREQiIiK6\n",
       "uroQEBCYmJhmZmYyMjLu7u52dnaqqqqIiIjc3NwAAACFAiZ1AAAAAXRSTlMAQObYZgAAAAlwSFlz\n",
       "AAAOxAAADsQBlSsOGwAAAU9JREFUOMtjYGB4wEA84AMRvAdI0MF6AUicZiAF3GFg4JpAkg7OBQwc\n",
       "BSTpYG9gYGMgDWQxRJKoYzpDN5BkdBF4jleZiCMfzPGbgHqA3rlt24BXx9zNN2DMSgYfIPmKgZuB\n",
       "YTnuQONbwLABxj7CkAqiuLoYGO864LFkxQIYSx6i4zUQ8+DRwQe3giGMYQ4k7hfg1RHLwMVQUXi3\n",
       "AewqWyAZzsCgANbBhakY5BzWAgYmhtJ0hjwguxgYWgyM1rZbBMA61gN9z/WTAYkBJoQ333bkW+vA\n",
       "8AvI7mUIYQAG1LGpEH+weAHFPICYpQHKYHABWrKBJzOAgekCawKQ78fAIgC1HuyPUxiu4oGFEpsA\n",
       "xwYBBj4HUNJC0rEBQwc3jPGegSVGAJxw7aABuPPHBQauCxg61sIYQQy82xkYHgNZi5HTMmZYoWUG\n",
       "K5DhpGQQ9gcMAEfcR0yk2KPHAAAAAElFTkSuQmCC\n",
       "\" style=\"display:inline;vertical-align:middle;\" /></a></td></tr>\n",
       "<tr><td>3</td><td>ExprRange</td><td>lambda_map:&nbsp;4<br>start_index:&nbsp;5<br>end_index:&nbsp;6<br></td><td><a class=\"ProveItLink\" href=\"../d9943db087604fa8b763a052ef227e245bc8cb4c0/expr.ipynb\"><img src=\"data:image/png;base64,iVBORw0KGgoAAAANSUhEUgAAAFUAAAANBAMAAAAqBj/zAAAAMFBMVEX///8QEBCqqqpUVFS6urru\n",
       "7u5mZmZERER2dnaIiIgyMjKYmJjc3NwiIiLMzMwAAAC+/aJUAAAAAXRSTlMAQObYZgAAAAlwSFlz\n",
       "AAAOxAAADsQBlSsOGwAAAN9JREFUKM9jYOC7++A0Az7w9h7PBiiTa0ZlAl61K9unwZhHGTgYGKIX\n",
       "4FTKE8DQAOewpjLwzbyAx+CwADjzBBAz4VHLgzCWZQJDAF61ngysDNv2zQR5ypuBwQCslhVTGchy\n",
       "lg0MzAxbpBlkGBj4Kip7H4DVxgP9x/qLAYkBJp63z7jHE3mB4SsDMBAUl0Dcy3sVKHMNiHkToAyG\n",
       "u0CDG5ikHBiYJ7AIwCwDu1cVww1MsBBgfMDW8ABZbQOGWg4Y4zwDrxNULU/XtwkMrBMw1EbCGM4M\n",
       "nN3IEtyY4bABhQcAnb03en5OWhQAAAAASUVORK5CYII=\n",
       "\" style=\"display:inline;vertical-align:middle;\" /></a></td></tr>\n",
       "<tr><td>4</td><td>Lambda</td><td>parameter:&nbsp;9<br>body:&nbsp;7<br></td><td><a class=\"ProveItLink\" href=\"../d5f1cb3552e22160dd9cedbc5e81a71560fb99720/expr.ipynb\"><img src=\"data:image/png;base64,iVBORw0KGgoAAAANSUhEUgAAAD4AAAAOCAMAAABAZV/bAAAANlBMVEX///8WFhYNDQ3MzMxUVFQy\n",
       "MjKqqqoiIiKYmJju7u5EREQQEBC6urqIiIh2dnZmZmbc3NwAAADRPqZpAAAAAXRSTlMAQObYZgAA\n",
       "AAlwSFlzAAAOxAAADsQBlSsOGwAAANBJREFUKM+dUlsSwyAIpDW+5eH9L1t0Og1mknYavmR1WVwA\n",
       "+B4o8GdkmwT++V6YUPCTxuVyzVyMDiRZqFVtsPR8TgjFZh6p4NJQrqMYxws9wLL/RsaRlmueunEH\n",
       "n4+4RO/NqvHiDdTRXTZPDurNW7bQwec+gNQvzfJWreF7NJkTkgx60Kx4CHJK93bwbXq+KUsH4Oav\n",
       "vRZMkXdH2tK6tdkV9Z2UCaywq7P7DcnJhu50J9jCqhDqtGJYhRvcjNzHqqScb/J101xv6a584xSQ\n",
       "ErwAG6MHSlM24zoAAAAASUVORK5CYII=\n",
       "\" style=\"display:inline;vertical-align:middle;\" /></a></td></tr>\n",
       "<tr><td>5</td><td>Literal</td><td></td><td><a class=\"ProveItLink\" href=\"../../../number/numeral/__pv_it/f086f8c372bd40a2458306ddfdbb29f3dc6f63030/expr.ipynb\"><img src=\"data:image/png;base64,iVBORw0KGgoAAAANSUhEUgAAAAgAAAAOBAMAAADgeEClAAAAIVBMVEX///8QEBBERESIiIgyMjJm\n",
       "ZmZUVFTu7u4iIiLMzMwAAAAWRytzAAAAAXRSTlMAQObYZgAAAAlwSFlzAAAOxAAADsQBlSsOGwAA\n",
       "ABtJREFUCNdjYOBsZ2AoC1nOwMDATBbBprgiGQBsuwqCZsDj4wAAAABJRU5ErkJggg==\n",
       "\" style=\"display:inline;vertical-align:middle;\" /></a></td></tr>\n",
       "<tr><td>6</td><td>Variable</td><td></td><td><a class=\"ProveItLink\" href=\"../../../__pv_it/0c1c4cb515e0f4344b1ac06650f349123e526deb0/expr.ipynb\"><img src=\"data:image/png;base64,iVBORw0KGgoAAAANSUhEUgAAAAwAAAAJBAMAAAD0ltBnAAAALVBMVEX///8iIiIyMjKqqqqYmJgQ\n",
       "EBDMzMzu7u5ERESIiIjc3NxUVFR2dna6uroAAABc6vguAAAAAXRSTlMAQObYZgAAAAlwSFlzAAAO\n",
       "xAAADsQBlSsOGwAAAEdJREFUCNdj4D296uROBgYejk6GugUMuawNDOsSGArqLjD4MTAw2DEw7ABS\n",
       "mxgYnrAzMMQwMD/gYeB6xsCj4MXAK8DA1WIAACOEDusgYYkuAAAAAElFTkSuQmCC\n",
       "\" style=\"display:inline;vertical-align:middle;\" /></a></td></tr>\n",
       "<tr><td>7</td><td>IndexedVar</td><td>variable:&nbsp;8<br>index:&nbsp;9<br></td><td><a class=\"ProveItLink\" href=\"../bad1e1e0ff10949c13cb6e0dbebf0d282d59ea260/expr.ipynb\"><img src=\"data:image/png;base64,iVBORw0KGgoAAAANSUhEUgAAABMAAAAMBAMAAABy/puxAAAAMFBMVEX///8QEBCqqqpUVFS6urru\n",
       "7u5mZmZERER2dnaIiIgyMjKYmJjc3NwiIiLMzMwAAAC+/aJUAAAAAXRSTlMAQObYZgAAAAlwSFlz\n",
       "AAAOxAAADsQBlSsOGwAAAF5JREFUCNdjYOC7++A0AwRwzahMgDKPMnAwwABrKpx5As5imcAQwBC2\n",
       "swfI9GZgMGC9x/eVgYGvorL3AVsCnwADULviEgZ+B04DqPr4A+xbAyBMxgPvvWGmZGt2MwAAFAcU\n",
       "f2uzfuwAAAAASUVORK5CYII=\n",
       "\" style=\"display:inline;vertical-align:middle;\" /></a></td></tr>\n",
       "<tr><td>8</td><td>Variable</td><td></td><td><a class=\"ProveItLink\" href=\"../../../__pv_it/0d889e00aed425c3081fbda3ac9194ae911895960/expr.ipynb\"><img src=\"data:image/png;base64,iVBORw0KGgoAAAANSUhEUgAAAAoAAAAJBAMAAAD5iKAgAAAAMFBMVEX///8QEBCqqqpUVFS6urru\n",
       "7u5mZmZERER2dnaIiIgyMjKYmJjc3NwiIiLMzMwAAAC+/aJUAAAAAXRSTlMAQObYZgAAAAlwSFlz\n",
       "AAAOxAAADsQBlSsOGwAAADhJREFUCNdjYOC7++A0AwPXjMoEBoajDBwMQMCaCiJPgAiWCQwBDAze\n",
       "DAwGDHwVlb0PgAoUlzAAADSiCqmElLEHAAAAAElFTkSuQmCC\n",
       "\" style=\"display:inline;vertical-align:middle;\" /></a></td></tr>\n",
       "<tr><td>9</td><td>Variable</td><td></td><td><a class=\"ProveItLink\" href=\"../a8d4b3a34d2189508f9082853fbac36935714f280/expr.ipynb\"><img src=\"data:image/png;base64,iVBORw0KGgoAAAANSUhEUgAAAAsAAAAJBAMAAAAWSsseAAAAMFBMVEX////MzMxUVFQyMjKqqqoi\n",
       "IiKYmJju7u5EREQQEBC6urqIiIh2dnZmZmbc3NwAAAD0tjQRAAAAAXRSTlMAQObYZgAAAAlwSFlz\n",
       "AAAOxAAADsQBlSsOGwAAAEdJREFUCNdjYOC7s28DAwPDygcc3xkY2Kcx8AYwMPB+Z2A9wMDA2cBQ\n",
       "v4CBof4AQz5QRb0DQzPLAwbmDWyxPECV2gcfbWQAABp5EMgcedARAAAAAElFTkSuQmCC\n",
       "\" style=\"display:inline;vertical-align:middle;\" /></a></td></tr>\n",
       "</table>\n"
      ],
      "text/plain": [
       "0. R(z_{1} ,  ...  , z_{n})\n",
       "   core type: Operation\n",
       "   operator: 1\n",
       "   operands: 2\n",
       "1. R\n",
       "   core type: Variable\n",
       "   sub-expressions: \n",
       "2. (z_{1} ,  ...  , z_{n})\n",
       "   core type: ExprTuple\n",
       "   sub-expressions: 3\n",
       "3. z_{1},...,z_{n}\n",
       "   core type: ExprRange\n",
       "   lambda_map: 4\n",
       "   start_index: 5\n",
       "   end_index: 6\n",
       "4. a -> z_{a}\n",
       "   core type: Lambda\n",
       "   parameter: 9\n",
       "   body: 7\n",
       "5. 1\n",
       "   core type: Literal\n",
       "   sub-expressions: \n",
       "6. n\n",
       "   core type: Variable\n",
       "   sub-expressions: \n",
       "7. z_{a}\n",
       "   core type: IndexedVar\n",
       "variable: 8\n",
       "index: 9\n",
       "8. z\n",
       "   core type: Variable\n",
       "   sub-expressions: \n",
       "9. a\n",
       "   core type: Variable\n",
       "   sub-expressions: "
      ]
     },
     "execution_count": 4,
     "metadata": {},
     "output_type": "execute_result"
    }
   ],
   "source": [
    "# display the expression information\n",
    "R__z_1_to_n.exprInfo()"
   ]
  },
  {
   "cell_type": "code",
   "execution_count": null,
   "metadata": {},
   "outputs": [],
   "source": []
  }
 ],
 "metadata": {
  "kernelspec": {
   "display_name": "Python 3",
   "language": "python",
   "name": "python3"
  },
  "language_info": {
   "codemirror_mode": {
    "name": "ipython",
    "version": 3
   },
   "file_extension": ".py",
   "mimetype": "text/x-python",
   "name": "python",
   "nbconvert_exporter": "python",
   "pygments_lexer": "ipython3",
   "version": "3.7.4"
  }
 },
 "nbformat": 4,
 "nbformat_minor": 1
}
