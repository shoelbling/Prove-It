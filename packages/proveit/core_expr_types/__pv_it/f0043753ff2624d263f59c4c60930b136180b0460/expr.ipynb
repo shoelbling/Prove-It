{
 "cells": [
  {
   "cell_type": "markdown",
   "metadata": {},
   "source": [
    "Expression of type <a class=\"ProveItLink\" href=\"../../../../../doc/html/api/proveit.Lambda.html\">Lambda</a>\n",
    "=======================\n",
    "# from context <a class=\"ProveItLink\" href=\"../../_context_.ipynb\">proveit.core_expr_types</a>"
   ]
  },
  {
   "cell_type": "code",
   "execution_count": 1,
   "metadata": {},
   "outputs": [],
   "source": [
    "import proveit\n",
    "# Automation is not needed when building an expression:\n",
    "proveit.defaults.automation = False # This will speed things up.\n",
    "# import Expression classes needed to build the expression\n",
    "from proveit import Function, Lambda, Variable"
   ]
  },
  {
   "cell_type": "code",
   "execution_count": 2,
   "metadata": {},
   "outputs": [
    {
     "data": {
      "text/html": [
       "<strong id=\"expr\">expr:</strong> <a class=\"ProveItLink\" href=\"expr.ipynb\"><img src=\"data:image/png;base64,iVBORw0KGgoAAAANSUhEUgAAAFQAAAAVCAMAAADvsTk6AAAANlBMVEX///8WFhYNDQ3MzMxUVFQy\n",
       "MjKqqqoiIiKYmJju7u5EREQQEBC6urqIiIh2dnZmZmbc3NwAAADRPqZpAAAAAXRSTlMAQObYZgAA\n",
       "AAlwSFlzAAAOxAAADsQBlSsOGwAAATxJREFUOMulVFtihCAMtOUdHoH7X7agZZcEdKvNj2JkMsOE\n",
       "bNt/I1+snkbUZBniQxxMyfV3na6L/DWSFL7vdGpKK/cE1OsAfSPaKW3x44nNBx/KQMWvii6okk96\n",
       "LpvMUEAtQNXOPmOK+eWaIX8YLk56I/FtWe+kASLJVs5XjfASRWE0cCIlclIMwlb6zrcMmhNuEegR\n",
       "5SIGHUcXUAhdn7gXMK9++/4yJEoJhHoZPTlSFELUP3wT6N47GdOgwqlPHZRCBF/fWwFbTqwRvJdB\n",
       "jkbv8hlEle9KS4DadF6BKt6ofrzcEA9QAmErb1UT1uDWD5WoDbxPiU9H93AIrCsnYxJZRrGcHfwr\n",
       "8WkLhywKYW6PP5T0bsxUsrmHqOWvNVfTYzFjLsPANOqAa81wU7uNyDEcx4BH45Qzo2ptq/oDHYoL\n",
       "1B9fEzQAAAAASUVORK5CYII=\n",
       "\" style=\"display:inline;vertical-align:middle;\" /></a><br>"
      ],
      "text/plain": [
       "expr: a -> f(a)"
      ]
     },
     "execution_count": 2,
     "metadata": {},
     "output_type": "execute_result"
    }
   ],
   "source": [
    "# build up the expression from sub-expressions\n",
    "subExpr1 = Variable(\"a\")\n",
    "expr = Lambda(subExpr1, Function(Variable(\"f\"), subExpr1))"
   ]
  },
  {
   "cell_type": "code",
   "execution_count": 3,
   "metadata": {},
   "outputs": [
    {
     "name": "stdout",
     "output_type": "stream",
     "text": [
      "Passed sanity check: built 'expr' is the same as the stored Expression.\n"
     ]
    }
   ],
   "source": [
    "# check that the built expression is the same as the stored expression\n",
    "%check_expr"
   ]
  },
  {
   "cell_type": "code",
   "execution_count": 4,
   "metadata": {},
   "outputs": [
    {
     "name": "stdout",
     "output_type": "stream",
     "text": [
      "a \\mapsto f\\left(a\\right)\n"
     ]
    }
   ],
   "source": [
    "# Show the LaTeX representation of the expression for convenience if you need it.\n",
    "print(expr.latex())"
   ]
  },
  {
   "cell_type": "code",
   "execution_count": 5,
   "metadata": {},
   "outputs": [
    {
     "data": {
      "text/html": [
       "<table><tr><th>&nbsp;</th><th>core type</th><th>sub-expressions</th><th>expression</th></tr>\n",
       "<tr><td>0</td><td>Lambda</td><td>parameter:&nbsp;3<br>body:&nbsp;1<br></td><td><a class=\"ProveItLink\" href=\"expr.ipynb\"><img src=\"data:image/png;base64,iVBORw0KGgoAAAANSUhEUgAAAFQAAAAVCAMAAADvsTk6AAAANlBMVEX///8WFhYNDQ3MzMxUVFQy\n",
       "MjKqqqoiIiKYmJju7u5EREQQEBC6urqIiIh2dnZmZmbc3NwAAADRPqZpAAAAAXRSTlMAQObYZgAA\n",
       "AAlwSFlzAAAOxAAADsQBlSsOGwAAATxJREFUOMulVFtihCAMtOUdHoH7X7agZZcEdKvNj2JkMsOE\n",
       "bNt/I1+snkbUZBniQxxMyfV3na6L/DWSFL7vdGpKK/cE1OsAfSPaKW3x44nNBx/KQMWvii6okk96\n",
       "LpvMUEAtQNXOPmOK+eWaIX8YLk56I/FtWe+kASLJVs5XjfASRWE0cCIlclIMwlb6zrcMmhNuEegR\n",
       "5SIGHUcXUAhdn7gXMK9++/4yJEoJhHoZPTlSFELUP3wT6N47GdOgwqlPHZRCBF/fWwFbTqwRvJdB\n",
       "jkbv8hlEle9KS4DadF6BKt6ofrzcEA9QAmErb1UT1uDWD5WoDbxPiU9H93AIrCsnYxJZRrGcHfwr\n",
       "8WkLhywKYW6PP5T0bsxUsrmHqOWvNVfTYzFjLsPANOqAa81wU7uNyDEcx4BH45Qzo2ptq/oDHYoL\n",
       "1B9fEzQAAAAASUVORK5CYII=\n",
       "\" style=\"display:inline;vertical-align:middle;\" /></a></td></tr>\n",
       "<tr><td>1</td><td>Operation</td><td>operator:&nbsp;2<br>operand:&nbsp;3<br></td><td><a class=\"ProveItLink\" href=\"../e80bce2a0c2e8c976be76e7b3ce08f76e74ec5550/expr.ipynb\"><img src=\"data:image/png;base64,iVBORw0KGgoAAAANSUhEUgAAACgAAAAVBAMAAADGNLEtAAAAMFBMVEX///8yMjLc3NyIiIiYmJgi\n",
       "IiJERES6urqqqqoQEBDMzMxUVFTu7u52dnZmZmYAAAD1zdHuAAAAAXRSTlMAQObYZgAAAAlwSFlz\n",
       "AAAOxAAADsQBlSsOGwAAAP1JREFUGNNjYIADJhQKCiwgFLsBmOK7ewBIclxAkby9sgFIHoTpYAQp\n",
       "YZhRBqKewARZHoAM+QNmT4AbPgeIeQPA5gvABUWAqndGg9TzgezRu6wMsgOI+cFuYHQAqp7EkA80\n",
       "3hHI1V8AEmQFuuCkA8NTILMViPvBBnEWMDC8P8AQC2SuB+KrcMFpDDzfgcxKIM6GOLmBgecvA8sH\n",
       "qPbJYEE2AwaeHwxsAk0MDG7AUPkFFuTdwMAgzOD6AOiyx8CA+AAJHKAXTtsu2gx0ShDQ1Rsg/oiC\n",
       "h2sAQzdjA4TtBxPkc2AIgwUZmwKUocbA4PwIyuZJgDJykKNDBRqcCgwAmIo1X55DCvQAAAAASUVO\n",
       "RK5CYII=\n",
       "\" style=\"display:inline;vertical-align:middle;\" /></a></td></tr>\n",
       "<tr><td>2</td><td>Variable</td><td></td><td><a class=\"ProveItLink\" href=\"../d7bbb04e874e28c7cefb21d4eea40806ae52f1f70/expr.ipynb\"><img src=\"data:image/png;base64,iVBORw0KGgoAAAANSUhEUgAAAAsAAAASBAMAAAB/WzlGAAAAMFBMVEX///8yMjLc3NyIiIiYmJgi\n",
       "IiJERES6urqqqqoQEBDMzMxUVFTu7u52dnZmZmYAAAD1zdHuAAAAAXRSTlMAQObYZgAAAAlwSFlz\n",
       "AAAOxAAADsQBlSsOGwAAAFNJREFUCNdjYGBg4Lt7AEgy3F7ZAKJmlIF47H9AbAbeABDJsjP6AYjm\n",
       "NwAL6i8AU/1gkuEqhMqGUJPBJNMvMMXxAUzxbQCR3Yxg48MOgsWcH4FIAPrAEkCfAu8DAAAAAElF\n",
       "TkSuQmCC\n",
       "\" style=\"display:inline;vertical-align:middle;\" /></a></td></tr>\n",
       "<tr><td>3</td><td>Variable</td><td></td><td><a class=\"ProveItLink\" href=\"../a8d4b3a34d2189508f9082853fbac36935714f280/expr.ipynb\"><img src=\"data:image/png;base64,iVBORw0KGgoAAAANSUhEUgAAAAsAAAAJBAMAAAAWSsseAAAAMFBMVEX////MzMxUVFQyMjKqqqoi\n",
       "IiKYmJju7u5EREQQEBC6urqIiIh2dnZmZmbc3NwAAAD0tjQRAAAAAXRSTlMAQObYZgAAAAlwSFlz\n",
       "AAAOxAAADsQBlSsOGwAAAEdJREFUCNdjYOC7s28DAwPDygcc3xkY2Kcx8AYwMPB+Z2A9wMDA2cBQ\n",
       "v4CBof4AQz5QRb0DQzPLAwbmDWyxPECV2gcfbWQAABp5EMgcedARAAAAAElFTkSuQmCC\n",
       "\" style=\"display:inline;vertical-align:middle;\" /></a></td></tr>\n",
       "</table>\n"
      ],
      "text/plain": [
       "0. a -> f(a)\n",
       "   core type: Lambda\n",
       "   parameter: 3\n",
       "   body: 1\n",
       "1. f(a)\n",
       "   core type: Operation\n",
       "   operator: 2\n",
       "   operand: 3\n",
       "2. f\n",
       "   core type: Variable\n",
       "   sub-expressions: \n",
       "3. a\n",
       "   core type: Variable\n",
       "   sub-expressions: "
      ]
     },
     "execution_count": 5,
     "metadata": {},
     "output_type": "execute_result"
    }
   ],
   "source": [
    "# display the expression information\n",
    "expr.exprInfo()"
   ]
  },
  {
   "cell_type": "code",
   "execution_count": null,
   "metadata": {},
   "outputs": [],
   "source": []
  }
 ],
 "metadata": {
  "kernelspec": {
   "display_name": "Python 3",
   "language": "python",
   "name": "python3"
  },
  "language_info": {
   "codemirror_mode": {
    "name": "ipython",
    "version": 3
   },
   "file_extension": ".py",
   "mimetype": "text/x-python",
   "name": "python",
   "nbconvert_exporter": "python",
   "pygments_lexer": "ipython3",
   "version": "3.7.4"
  }
 },
 "nbformat": 4,
 "nbformat_minor": 1
}
