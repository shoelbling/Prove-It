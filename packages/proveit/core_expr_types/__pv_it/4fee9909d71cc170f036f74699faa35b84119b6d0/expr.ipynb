{
 "cells": [
  {
   "cell_type": "markdown",
   "metadata": {},
   "source": [
    "Common Expression <a class=\"ProveItLink\" href=\"../../_common_.ipynb#P__x_1_to_np1\">P__x_1_to_np1</a> of type <a class=\"ProveItLink\" href=\"../../../../../doc/html/api/proveit.Function.html\">Function</a>\n",
    "=======================\n",
    "# from context <a class=\"ProveItLink\" href=\"../../_context_.ipynb\">proveit.core_expr_types</a>"
   ]
  },
  {
   "cell_type": "code",
   "execution_count": 1,
   "metadata": {},
   "outputs": [],
   "source": [
    "import proveit\n",
    "# Automation is not needed when only building an expression:\n",
    "proveit.defaults.automation = False # This will speed things up.\n",
    "# import the special expression\n",
    "from proveit.core_expr_types._common_ import P__x_1_to_np1"
   ]
  },
  {
   "cell_type": "code",
   "execution_count": 2,
   "metadata": {},
   "outputs": [
    {
     "name": "stdout",
     "output_type": "stream",
     "text": [
      "Passed sanity check: built 'P__x_1_to_np1' is the same as the stored Expression.\n"
     ]
    }
   ],
   "source": [
    "# check that the built expression is the same as the stored expression\n",
    "%check_expr P__x_1_to_np1"
   ]
  },
  {
   "cell_type": "code",
   "execution_count": 3,
   "metadata": {},
   "outputs": [
    {
     "name": "stdout",
     "output_type": "stream",
     "text": [
      "P\\left(x_{1} , \\ldots , x_{n + 1}\\right)\n"
     ]
    }
   ],
   "source": [
    "# Show the LaTeX representation of the expression for convenience if you need it.\n",
    "print(P__x_1_to_np1.latex())"
   ]
  },
  {
   "cell_type": "code",
   "execution_count": 4,
   "metadata": {},
   "outputs": [
    {
     "data": {
      "text/html": [
       "<table><tr><th>&nbsp;</th><th>core type</th><th>sub-expressions</th><th>expression</th></tr>\n",
       "<tr><td>0</td><td>Operation</td><td>operator:&nbsp;1<br>operands:&nbsp;2<br></td><td><a class=\"ProveItLink\" href=\"expr.ipynb\"><img src=\"data:image/png;base64,iVBORw0KGgoAAAANSUhEUgAAAJEAAAAVBAMAAAC01xHeAAAAMFBMVEX///+YmJgiIiLc3Ny6urp2\n",
       "dnaqqqrMzMwQEBDu7u5mZmYyMjJUVFRERESIiIgAAACzCz+6AAAAAXRSTlMAQObYZgAAAAlwSFlz\n",
       "AAAOxAAADsQBlSsOGwAAAeNJREFUOMtjYEAGBgxkAnSNfAnkmuQHJt/+v3N21wQQK5Vcg2Bu+M3A\n",
       "wNsJpDk3kG0Sw04Qwf6PgYENiBm4BMg3SQrssu9A/BXI4CDfIAYOUPDwfgBioGkM3hSYxA3yD/8F\n",
       "Bgb/B0DGUiCe92Z6KN4Y5Hx3sjQMU5j1AJCof8BgqgbibQTiBXznuBTwmcTF8ObBIkxhRlBsvT8a\n",
       "KgLmAY1jNOD7zCPAMBF3LAozvDc4iCICVswGsv4+TKgFGI8MvEBx9ne4nVXAcBvZgTDF7B8gyQlu\n",
       "EjDUHsBswAX+IZi8DDDFLA1A077CxLeBCH8Dzgl4TWL5zDCTQUr83QIUk0AE3xeYmnsMDHMdzjOw\n",
       "QsQ5MQ0BphnOKzwfGAIYRBoZmlFMYgQmAO4PMIUxDAz5lSsY3CCS84EBxgnyOYgB57F9n9XAksA8\n",
       "T4HhJ4pJXA8YePb/fQA1yYmBYdY7toUJEEkmTaCQFhAzLYARShMYONc9yBJjYOB5AAyYtXdv3L0r\n",
       "ADGJCaVcYSqAscCSmRi+Y5sAzxwFXAEFyG4yQk1dC1BMCsBMyHCWPQOTG4pJC1FVXobSzNG/HjBw\n",
       "PsAwaR6c5cPAFwgNJ7Bi5guoKueiuBAz7jBKHV44YwKqBDOpBRQXIg8xAABPEXIBoO8dxgAAAABJ\n",
       "RU5ErkJggg==\n",
       "\" style=\"display:inline;vertical-align:middle;\" /></a></td></tr>\n",
       "<tr><td>1</td><td>Variable</td><td></td><td><a class=\"ProveItLink\" href=\"../../../__pv_it/390c91a44e60b16c95d2255652741252e8ec8d980/expr.ipynb\"><img src=\"data:image/png;base64,iVBORw0KGgoAAAANSUhEUgAAABAAAAAOBAMAAADUAYG5AAAAMFBMVEX///+YmJgiIiLc3Ny6urp2\n",
       "dnaqqqrMzMwQEBDu7u5mZmYyMjJUVFRERESIiIgAAACzCz+6AAAAAXRSTlMAQObYZgAAAAlwSFlz\n",
       "AAAOxAAADsQBlSsOGwAAAF1JREFUCNdjYGB4+//O2V0TGIDgNwMDbyeQZv/HwMAGxAx834H4K5DB\n",
       "+wGIgRwG/gsMDP4PgIz6BwymaiBN74+GioBohvsMUPAbSrN/hTL4vkAZ3B8gNM/+vyAzGABqABnj\n",
       "X5k3PAAAAABJRU5ErkJggg==\n",
       "\" style=\"display:inline;vertical-align:middle;\" /></a></td></tr>\n",
       "<tr><td>2</td><td>ExprTuple</td><td>3</td><td><a class=\"ProveItLink\" href=\"../4d6190de2a9090e5ff4f8d3b0fae20e0425d28a60/expr.ipynb\"><img src=\"data:image/png;base64,iVBORw0KGgoAAAANSUhEUgAAAHsAAAAVBAMAAACUF4xmAAAAMFBMVEX////MzMxUVFREREQiIiK6\n",
       "uroQEBCYmJhmZmYyMjLu7u52dnaqqqqIiIjc3NwAAACFAiZ1AAAAAXRSTlMAQObYZgAAAAlwSFlz\n",
       "AAAOxAAADsQBlSsOGwAAAYlJREFUOMulkz9Iw0AUxr+2aRuvScysi5sgiIWi4KB0cBBxEHERKnYR\n",
       "N4mD0EGkoNhBhG6CdIh0sAjF4iKiQ0fRwdA9mMHduqlg8fK3PY4WjAd5996X98u9u7wDYCHkcEC5\n",
       "GRbfsM1zWNpZmJRD4zgHRC08XgAS4WkkdKz/Ax/ScEKneuvifuD5E3Ni9IGXU2M4o1NRnhSzg3AR\n",
       "LeOIl5NlLFNryZ2ohsv+/+AAr9Y4ozjJUhZbQAQxGkTM/gWomO0txU+OtG0cGDbcb/UfP103Bj85\n",
       "nkfFDjYtog/E4x1cobBrFhmcmjmgujKFlKsQntSpOh1to4G9bewweDKNG+Bl5Bg5V7mmh0C+4Bk/\n",
       "kj5q+XhTqWfxzeCigTWgZkqlpqsIS1RdhGcEu9YFHeTUeNwHogbd7GFmJpPRXFywIKh+lY7yxBUv\n",
       "6UGPqmJD7V39jdZfZPAG31qB9w4hx+Al+sx7L5W7TwPE4PB64K1CvvX27iQraepVmTbkT5670LHA\n",
       "sbel/PXCi91Wxi+Td10iw8wvowAAAABJRU5ErkJggg==\n",
       "\" style=\"display:inline;vertical-align:middle;\" /></a></td></tr>\n",
       "<tr><td>3</td><td>ExprRange</td><td>lambda_map:&nbsp;4<br>start_index:&nbsp;12<br>end_index:&nbsp;5<br></td><td><a class=\"ProveItLink\" href=\"../5ca28f822e6112de8cced9363e45311ade6066b70/expr.ipynb\"><img src=\"data:image/png;base64,iVBORw0KGgoAAAANSUhEUgAAAG0AAAAOBAMAAADXto+RAAAAMFBMVEX///8QEBC6uroyMjJERETc\n",
       "3NyYmJgiIiJmZmaqqqp2dnbMzMxUVFSIiIju7u4AAAAoIwv1AAAAAXRSTlMAQObYZgAAAAlwSFlz\n",
       "AAAOxAAADsQBlSsOGwAAARFJREFUKM9jYHh75/WqCQx4AN/dc7tWYgo38J7lKMCnj4PhzoV2DFG2\n",
       "AN6vPAkMzwxw6ktluB9wDEUEpJibgQVE3sVt5QYGZ2TL4Yr5LwAJTnxO/YtgsjDAFesH8D3Aq4/p\n",
       "K8M7hozsuw3I+p4onGfggjD5MLU8AIo68XxgWMCQJMYgiqxv/r5GBk0I8z3Qo3yfGaAEjMf5+4UA\n",
       "0wTWtwUM/5D1vbjL2TYBwmSvA4pVMEAJdpCzyh8w8PVemJHJwMBzgUmAocXF0cUlAdlTYOY8DHdy\n",
       "PoCxGDdwLNiAEi4IfQsw9HHBWfEM7JqY+lgX/7jAwHcBQ99bOEuHgXcZ1H9gxchJBzM8E9AFWBjI\n",
       "AxxQGgC37E3VxMVVlQAAAABJRU5ErkJggg==\n",
       "\" style=\"display:inline;vertical-align:middle;\" /></a></td></tr>\n",
       "<tr><td>4</td><td>Lambda</td><td>parameter:&nbsp;10<br>body:&nbsp;6<br></td><td><a class=\"ProveItLink\" href=\"../e722db747cfbe405859686f15af09ea3f8e82cd00/expr.ipynb\"><img src=\"data:image/png;base64,iVBORw0KGgoAAAANSUhEUgAAAEAAAAAOCAMAAACo5erwAAAANlBMVEX///8WFhYNDQ3MzMxUVFQy\n",
       "MjKqqqoiIiKYmJju7u5EREQQEBC6urqIiIh2dnZmZmbc3NwAAADRPqZpAAAAAXRSTlMAQObYZgAA\n",
       "AAlwSFlzAAAOxAAADsQBlSsOGwAAAOJJREFUKM+dUtFyxCAI5IpRUBH9/58t5DpWr7lOG2Z8WCDL\n",
       "Qhbg95AO/w5eQdQ/fNG1SZcJ01bcEIsExtbi1lKLycyDrwliXoDJkSCgO2shL6U3CkDypCabJKND\n",
       "oLVBz9mpzcTHI20xRv2qoL18vF6guEaeTT8U1KOucMjrzYfPpvHmbIDH9leqbQDsKVaS5mDEp7DY\n",
       "LwmObyNwrhB8ko/khIDn9odpoqQwj7AprosP4kDWYjkfqVbAcvIGadiD4KVHdEmzipiz6HSBH00C\n",
       "3A72W2Rivs1g7sNR6b6EaqtII/gEvskH/QXIwUEAAAAASUVORK5CYII=\n",
       "\" style=\"display:inline;vertical-align:middle;\" /></a></td></tr>\n",
       "<tr><td>5</td><td>Operation</td><td>operator:&nbsp;7<br>operands:&nbsp;8<br></td><td><a class=\"ProveItLink\" href=\"../a54674df2d7176c1d41a547f110c8c2388c9a37d0/expr.ipynb\"><img src=\"data:image/png;base64,iVBORw0KGgoAAAANSUhEUgAAAC4AAAAQBAMAAACb51DZAAAAMFBMVEX///9mZmYiIiIyMjKqqqqY\n",
       "mJgQEBDMzMzu7u5ERESIiIjc3NxUVFR2dna6uroAAABonEzTAAAAAXRSTlMAQObYZgAAAAlwSFlz\n",
       "AAAOxAAADsQBlSsOGwAAAHdJREFUGNNjYMAC2DWwiTL0CP9AFXgKpbnQxL2IEOe7s/vWKSzivJyz\n",
       "GPo3YIrXsU1g2F+AKd7Q/4AhHsQRUlJKU1LSgdvrz8BwEpt7DjMwfOXAIp7LwPKBF1Oc+zsDr0E0\n",
       "FvcrMHBPdUAR55n26RRW/6KDpwgmACawJhZpoS4kAAAAAElFTkSuQmCC\n",
       "\" style=\"display:inline;vertical-align:middle;\" /></a></td></tr>\n",
       "<tr><td>6</td><td>IndexedVar</td><td>variable:&nbsp;9<br>index:&nbsp;10<br></td><td><a class=\"ProveItLink\" href=\"../dee26a812cfa22d9ad480944f52f6d73aab21be10/expr.ipynb\"><img src=\"data:image/png;base64,iVBORw0KGgoAAAANSUhEUgAAABUAAAAMBAMAAAB/4Ov2AAAAMFBMVEX///8QEBC6uroyMjJERETc\n",
       "3NyYmJgiIiJmZmaqqqp2dnbMzMxUVFSIiIju7u4AAAAoIwv1AAAAAXRSTlMAQObYZgAAAAlwSFlz\n",
       "AAAOxAAADsQBlSsOGwAAAG1JREFUCNdjYHh75/WqCQwQ0MB7lqMAwmQL4P3KkwBhczOwGDDAAf8F\n",
       "BFs/gO8Bw4vcpQwMTxTOM3Ax8FVz/2NgmL+vkUGTgaOBW4CB4cVdzrYJDPwKvAdget4HsOQ9gLIZ\n",
       "A/arwcSZ2uYuYwAAzdgblULCgcAAAAAASUVORK5CYII=\n",
       "\" style=\"display:inline;vertical-align:middle;\" /></a></td></tr>\n",
       "<tr><td>7</td><td>Literal</td><td></td><td><a class=\"ProveItLink\" href=\"../../../number/addition/__pv_it/65ad7e8aee19b10110d590375ba95a879c4fb7ea0/expr.ipynb\"><img src=\"data:image/png;base64,iVBORw0KGgoAAAANSUhEUgAAAA4AAAAOBAMAAADtZjDiAAAAHlBMVEX///9UVFQQEBAiIiJmZmaI\n",
       "iIiqqqqYmJi6uroAAAAAFVhYAAAAAXRSTlMAQObYZgAAAAlwSFlzAAAOxAAADsQBlSsOGwAAAB9J\n",
       "REFUCNdjYGBgaGeAgFRiaGdjYyVjY0Oi1SPRIHsAgDEGyG9xCpgAAAAASUVORK5CYII=\n",
       "\" style=\"display:inline;vertical-align:middle;\" /></a></td></tr>\n",
       "<tr><td>8</td><td>ExprTuple</td><td>11, 12</td><td><a class=\"ProveItLink\" href=\"../c8c700e8bbd6f06b8f0bfc7e9c55b079456776300/expr.ipynb\"><img src=\"data:image/png;base64,iVBORw0KGgoAAAANSUhEUgAAACsAAAAVBAMAAAAtAwouAAAAMFBMVEX////MzMxUVFREREQiIiK6\n",
       "uroQEBCYmJhmZmYyMjLu7u52dnaqqqqIiIjc3NwAAACFAiZ1AAAAAXRSTlMAQObYZgAAAAlwSFlz\n",
       "AAAOxAAADsQBlSsOGwAAAO1JREFUGNNjYGB4wIAGwAK8B9CFY0HEaRQhRi+IQq4JyKKLOn8ByVkM\n",
       "DBwFKKp5QcIVDAxsDJjCbAsYIrEIcxYwdDMwsG56t1cXWZhbgWE6kGS2ZVj/AEmYfQKDDwODKJsB\n",
       "w3sBJGEeB4ZUBoYF6wMY6pENYfwAEmY4z8CgjCzMmsAwB0hpMjB850I1xBZIZTPwfOBmWICw0oBh\n",
       "EwMD30cG7gl1XD/hwhwXGEKARjkw8JkfYHABKmcy+wL0AcsDBhYBmAd5FsBYT4DmNMA43PAQaAdi\n",
       "OxhnLYzBZwAkFsN48BBmBpnGV4AeaXUMDACUMjfVGKmCRgAAAABJRU5ErkJggg==\n",
       "\" style=\"display:inline;vertical-align:middle;\" /></a></td></tr>\n",
       "<tr><td>9</td><td>Variable</td><td></td><td><a class=\"ProveItLink\" href=\"../72df168d2bfb4e0140af90912ebf83b13772060b0/expr.ipynb\"><img src=\"data:image/png;base64,iVBORw0KGgoAAAANSUhEUgAAAAsAAAAJBAMAAAAWSsseAAAAMFBMVEX///8QEBC6uroyMjJERETc\n",
       "3NyYmJgiIiJmZmaqqqp2dnbMzMxUVFSIiIju7u4AAAAoIwv1AAAAAXRSTlMAQObYZgAAAAlwSFlz\n",
       "AAAOxAAADsQBlSsOGwAAAENJREFUCNdjYHh75/WqCQwMDbxnOQoY2AJ4v/IkMHAzsBgwgAD/BTCl\n",
       "H8D3gOGJwnkGLgaG+fsaGTQZGF7c5WybwAAAJGsQ2L2rVEcAAAAASUVORK5CYII=\n",
       "\" style=\"display:inline;vertical-align:middle;\" /></a></td></tr>\n",
       "<tr><td>10</td><td>Variable</td><td></td><td><a class=\"ProveItLink\" href=\"../a8d4b3a34d2189508f9082853fbac36935714f280/expr.ipynb\"><img src=\"data:image/png;base64,iVBORw0KGgoAAAANSUhEUgAAAAsAAAAJBAMAAAAWSsseAAAAMFBMVEX////MzMxUVFQyMjKqqqoi\n",
       "IiKYmJju7u5EREQQEBC6urqIiIh2dnZmZmbc3NwAAAD0tjQRAAAAAXRSTlMAQObYZgAAAAlwSFlz\n",
       "AAAOxAAADsQBlSsOGwAAAEdJREFUCNdjYOC7s28DAwPDygcc3xkY2Kcx8AYwMPB+Z2A9wMDA2cBQ\n",
       "v4CBof4AQz5QRb0DQzPLAwbmDWyxPECV2gcfbWQAABp5EMgcedARAAAAAElFTkSuQmCC\n",
       "\" style=\"display:inline;vertical-align:middle;\" /></a></td></tr>\n",
       "<tr><td>11</td><td>Variable</td><td></td><td><a class=\"ProveItLink\" href=\"../../../__pv_it/0c1c4cb515e0f4344b1ac06650f349123e526deb0/expr.ipynb\"><img src=\"data:image/png;base64,iVBORw0KGgoAAAANSUhEUgAAAAwAAAAJBAMAAAD0ltBnAAAALVBMVEX///8iIiIyMjKqqqqYmJgQ\n",
       "EBDMzMzu7u5ERESIiIjc3NxUVFR2dna6uroAAABc6vguAAAAAXRSTlMAQObYZgAAAAlwSFlzAAAO\n",
       "xAAADsQBlSsOGwAAAEdJREFUCNdj4D296uROBgYejk6GugUMuawNDOsSGArqLjD4MTAw2DEw7ABS\n",
       "mxgYnrAzMMQwMD/gYeB6xsCj4MXAK8DA1WIAACOEDusgYYkuAAAAAElFTkSuQmCC\n",
       "\" style=\"display:inline;vertical-align:middle;\" /></a></td></tr>\n",
       "<tr><td>12</td><td>Literal</td><td></td><td><a class=\"ProveItLink\" href=\"../../../number/numeral/__pv_it/f086f8c372bd40a2458306ddfdbb29f3dc6f63030/expr.ipynb\"><img src=\"data:image/png;base64,iVBORw0KGgoAAAANSUhEUgAAAAgAAAAOBAMAAADgeEClAAAAIVBMVEX///8QEBBERESIiIgyMjJm\n",
       "ZmZUVFTu7u4iIiLMzMwAAAAWRytzAAAAAXRSTlMAQObYZgAAAAlwSFlzAAAOxAAADsQBlSsOGwAA\n",
       "ABtJREFUCNdjYOBsZ2AoC1nOwMDATBbBprgiGQBsuwqCZsDj4wAAAABJRU5ErkJggg==\n",
       "\" style=\"display:inline;vertical-align:middle;\" /></a></td></tr>\n",
       "</table>\n"
      ],
      "text/plain": [
       "0. P(x_{1} ,  ...  , x_{n + 1})\n",
       "   core type: Operation\n",
       "   operator: 1\n",
       "   operands: 2\n",
       "1. P\n",
       "   core type: Variable\n",
       "   sub-expressions: \n",
       "2. (x_{1} ,  ...  , x_{n + 1})\n",
       "   core type: ExprTuple\n",
       "   sub-expressions: 3\n",
       "3. x_{1},...,x_{n + 1}\n",
       "   core type: ExprRange\n",
       "   lambda_map: 4\n",
       "   start_index: 12\n",
       "   end_index: 5\n",
       "4. a -> x_{a}\n",
       "   core type: Lambda\n",
       "   parameter: 10\n",
       "   body: 6\n",
       "5. n + 1\n",
       "   core type: Operation\n",
       "   operator: 7\n",
       "   operands: 8\n",
       "6. x_{a}\n",
       "   core type: IndexedVar\n",
       "variable: 9\n",
       "index: 10\n",
       "7. +\n",
       "   core type: Literal\n",
       "   sub-expressions: \n",
       "8. (n , 1)\n",
       "   core type: ExprTuple\n",
       "   sub-expressions: 11, 12\n",
       "9. x\n",
       "   core type: Variable\n",
       "   sub-expressions: \n",
       "10. a\n",
       "    core type: Variable\n",
       "    sub-expressions: \n",
       "11. n\n",
       "    core type: Variable\n",
       "    sub-expressions: \n",
       "12. 1\n",
       "    core type: Literal\n",
       "    sub-expressions: "
      ]
     },
     "execution_count": 4,
     "metadata": {},
     "output_type": "execute_result"
    }
   ],
   "source": [
    "# display the expression information\n",
    "P__x_1_to_np1.exprInfo()"
   ]
  },
  {
   "cell_type": "code",
   "execution_count": null,
   "metadata": {},
   "outputs": [],
   "source": []
  }
 ],
 "metadata": {
  "kernelspec": {
   "display_name": "Python 3",
   "language": "python",
   "name": "python3"
  },
  "language_info": {
   "codemirror_mode": {
    "name": "ipython",
    "version": 3
   },
   "file_extension": ".py",
   "mimetype": "text/x-python",
   "name": "python",
   "nbconvert_exporter": "python",
   "pygments_lexer": "ipython3",
   "version": "3.7.4"
  }
 },
 "nbformat": 4,
 "nbformat_minor": 1
}
