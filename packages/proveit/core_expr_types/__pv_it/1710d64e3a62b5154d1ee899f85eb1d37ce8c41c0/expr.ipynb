{
 "cells": [
  {
   "cell_type": "markdown",
   "metadata": {},
   "source": [
    "Expression of type <a class=\"ProveItLink\" href=\"../../../../../doc/html/api/proveit.ExprTuple.html\">ExprTuple</a>\n",
    "=======================\n",
    "# from context <a class=\"ProveItLink\" href=\"../../_context_.ipynb\">proveit.core_expr_types</a>"
   ]
  },
  {
   "cell_type": "code",
   "execution_count": 1,
   "metadata": {},
   "outputs": [],
   "source": [
    "import proveit\n",
    "# Automation is not needed when building an expression:\n",
    "proveit.defaults.automation = False # This will speed things up.\n",
    "# import Expression classes needed to build the expression\n",
    "from proveit import ExprTuple, Function, IndexedVar, Variable\n",
    "from proveit.number import Add"
   ]
  },
  {
   "cell_type": "code",
   "execution_count": 2,
   "metadata": {},
   "outputs": [
    {
     "data": {
      "text/html": [
       "<strong id=\"expr\">expr:</strong> <a class=\"ProveItLink\" href=\"expr.ipynb\"><img src=\"data:image/png;base64,iVBORw0KGgoAAAANSUhEUgAAAHcAAAAVBAMAAACOK2zoAAAAMFBMVEX////MzMxUVFREREQiIiK6\n",
       "uroQEBCYmJhmZmYyMjLu7u52dnaqqqqIiIjc3NwAAACFAiZ1AAAAAXRSTlMAQObYZgAAAAlwSFlz\n",
       "AAAOxAAADsQBlSsOGwAAAhBJREFUOMt1VD1IHFEQ/u72fvb29jYWIiSVVTrJYq+o2UZIISiGQIIW\n",
       "0cYENmhhoxgQjyARO0UsNgiixeEh6WyWtIl42OQICWzhTxPwrggkouLMe7uX22X3cd/s3Mx+b+bN\n",
       "m1kAHhKXkWD3fKDkJpN/Jthf+cDXOK965JDUq7T3Utiz89oPyNDW48iHXZzPPiFTjbg2WWxJqHYc\n",
       "+c0oRy63WZ4Hyg2LeYlcHDd7LR6TbabjkCvnCLyIIxcHxHvrMeSi2LFgC6ySWjn9dNRe8/zjIS6T\n",
       "SsetfIyQC9163UGxG4wNMiyVetSB9sgPasH21fEI+cD+dmEjT0kRnpH0SndpG3O1Fvmqg2XGheF+\n",
       "iJBPzt2HHnSKRZgCUlD4dLmRFvlESDJouGVt2bKmLWuI1ZV3LFMNgalWmlf/0/4ckKFfRyIPr3JW\n",
       "2UmBbbZMeJqDWaMekHtlbVyuT5is/ck2gSDtPuq4kScoAj2/dz044pW3QiqUz4FbDZHzDe2mRA9T\n",
       "4JBO+GgFL4EZOwXtnximprxSijph2CFy2tSaFEitCYwBe7/0MhX273tyWmIgGrKZKDflezhtxUX9\n",
       "B12EJ5DpCDrDHKPx1Zms+gcdjOkwuc4k8sHIpWudlA/98KXgt9t83GCIVfbRH/Sdl6YrrJD2dN83\n",
       "KUkfGcOUwE7IzOVZWPP/aGYCWXEkYNjJn6HLBPuixD0IsIl+fzDzngAAAABJRU5ErkJggg==\n",
       "\" style=\"display:inline;vertical-align:middle;\" /></a><br>"
      ],
      "text/plain": [
       "expr: (x_{k} , f(i + k))"
      ]
     },
     "execution_count": 2,
     "metadata": {},
     "output_type": "execute_result"
    }
   ],
   "source": [
    "# build up the expression from sub-expressions\n",
    "subExpr1 = Variable(\"k\")\n",
    "expr = ExprTuple(IndexedVar(Variable(\"x\"), subExpr1), Function(Variable(\"f\"), Add(Variable(\"i\"), subExpr1)))"
   ]
  },
  {
   "cell_type": "code",
   "execution_count": 3,
   "metadata": {},
   "outputs": [
    {
     "name": "stdout",
     "output_type": "stream",
     "text": [
      "Passed sanity check: built 'expr' is the same as the stored Expression.\n"
     ]
    }
   ],
   "source": [
    "# check that the built expression is the same as the stored expression\n",
    "%check_expr"
   ]
  },
  {
   "cell_type": "code",
   "execution_count": 4,
   "metadata": {},
   "outputs": [
    {
     "name": "stdout",
     "output_type": "stream",
     "text": [
      "\\left(x_{k} , f\\left(i + k\\right)\\right)\n"
     ]
    }
   ],
   "source": [
    "# Show the LaTeX representation of the expression for convenience if you need it.\n",
    "print(expr.latex())"
   ]
  },
  {
   "cell_type": "code",
   "execution_count": 5,
   "metadata": {},
   "outputs": [
    {
     "data": {
      "text/html": [
       "<table><tr><th>&nbsp;</th><th>core type</th><th>sub-expressions</th><th>expression</th></tr>\n",
       "<tr><td>0</td><td>ExprTuple</td><td>1, 2</td><td><a class=\"ProveItLink\" href=\"expr.ipynb\"><img src=\"data:image/png;base64,iVBORw0KGgoAAAANSUhEUgAAAHcAAAAVBAMAAACOK2zoAAAAMFBMVEX////MzMxUVFREREQiIiK6\n",
       "uroQEBCYmJhmZmYyMjLu7u52dnaqqqqIiIjc3NwAAACFAiZ1AAAAAXRSTlMAQObYZgAAAAlwSFlz\n",
       "AAAOxAAADsQBlSsOGwAAAhBJREFUOMt1VD1IHFEQ/u72fvb29jYWIiSVVTrJYq+o2UZIISiGQIIW\n",
       "0cYENmhhoxgQjyARO0UsNgiixeEh6WyWtIl42OQICWzhTxPwrggkouLMe7uX22X3cd/s3Mx+b+bN\n",
       "m1kAHhKXkWD3fKDkJpN/Jthf+cDXOK965JDUq7T3Utiz89oPyNDW48iHXZzPPiFTjbg2WWxJqHYc\n",
       "+c0oRy63WZ4Hyg2LeYlcHDd7LR6TbabjkCvnCLyIIxcHxHvrMeSi2LFgC6ySWjn9dNRe8/zjIS6T\n",
       "SsetfIyQC9163UGxG4wNMiyVetSB9sgPasH21fEI+cD+dmEjT0kRnpH0SndpG3O1Fvmqg2XGheF+\n",
       "iJBPzt2HHnSKRZgCUlD4dLmRFvlESDJouGVt2bKmLWuI1ZV3LFMNgalWmlf/0/4ckKFfRyIPr3JW\n",
       "2UmBbbZMeJqDWaMekHtlbVyuT5is/ck2gSDtPuq4kScoAj2/dz044pW3QiqUz4FbDZHzDe2mRA9T\n",
       "4JBO+GgFL4EZOwXtnximprxSijph2CFy2tSaFEitCYwBe7/0MhX273tyWmIgGrKZKDflezhtxUX9\n",
       "B12EJ5DpCDrDHKPx1Zms+gcdjOkwuc4k8sHIpWudlA/98KXgt9t83GCIVfbRH/Sdl6YrrJD2dN83\n",
       "KUkfGcOUwE7IzOVZWPP/aGYCWXEkYNjJn6HLBPuixD0IsIl+fzDzngAAAABJRU5ErkJggg==\n",
       "\" style=\"display:inline;vertical-align:middle;\" /></a></td></tr>\n",
       "<tr><td>1</td><td>IndexedVar</td><td>variable:&nbsp;3<br>index:&nbsp;9<br></td><td><a class=\"ProveItLink\" href=\"../7cbcf279169820a1c14215223a956dc832ac4cc10/expr.ipynb\"><img src=\"data:image/png;base64,iVBORw0KGgoAAAANSUhEUgAAABUAAAAMBAMAAAB/4Ov2AAAAMFBMVEX///8QEBC6uroyMjJERETc\n",
       "3NyYmJgiIiJmZmaqqqp2dnbMzMxUVFSIiIju7u4AAAAoIwv1AAAAAXRSTlMAQObYZgAAAAlwSFlz\n",
       "AAAOxAAADsQBlSsOGwAAAHNJREFUCNdjYHh75/WqCQwQ0MB7lqMAwmQL4P3Kk8CQfgHI5mZgMQBS\n",
       "jApgGX6QUDxElX4A3wOGFNYbDAxPFM4zcDEwnI18GMAwf18jgyYDg1QCNwPDi7ucbRMYWH90M8AA\n",
       "m4M6K4zNc2E7F4zNHMCTzQAAVwUbDfG1t/QAAAAASUVORK5CYII=\n",
       "\" style=\"display:inline;vertical-align:middle;\" /></a></td></tr>\n",
       "<tr><td>2</td><td>Operation</td><td>operator:&nbsp;4<br>operand:&nbsp;5<br></td><td><a class=\"ProveItLink\" href=\"../8d4ed14ef91ae7b1dde1266f3be1beb3a0c65f610/expr.ipynb\"><img src=\"data:image/png;base64,iVBORw0KGgoAAAANSUhEUgAAAEkAAAAVBAMAAAD4Ed5jAAAAMFBMVEX///8yMjLc3NyIiIiYmJgi\n",
       "IiJERES6urqqqqoQEBDMzMxUVFTu7u52dnZmZmYAAAD1zdHuAAAAAXRSTlMAQObYZgAAAAlwSFlz\n",
       "AAAOxAAADsQBlSsOGwAAAVlJREFUKM9jYIADJgbsQAGFZ4FDVTGE4rt7AEhyXGBgYH6AIs+TGQAk\n",
       "mRvAnNsrQfRBIGa9gGoMI1iXDJg9owxk1hOEJLsDlMEPNsYPLPYHLDIBoYrDAMqoB2ln4ASRvAFg\n",
       "tQJYVN2E2As0mmVnNMh2PqCTDj9GUyXN0PwGaMwGkOUGMA0XKlFV8XzhaJoCNAdkjf4CkAhrAwNT\n",
       "w0NUVRyfKriEgBTISf1gEc4CBh6GzyCrQ0Mjp4aGgmzhmwI2gOsDkLgKU8XA8QfVLFa5W2CPgbyf\n",
       "DfEIMGgYN6CqOl9QDzIMbONksAgbUOZ8wwUUVf5AESCTJQGYFH6BRUDerWdyQFG1jeH8AqA+PiCX\n",
       "4wMkVoDGspmg2pjBwPwYGO6swLTDB3VMFJawhwBVBoZuRkjCgMQpWmxDADAdhB2EstkUcKRCJqDj\n",
       "nR/BklwCDlVsB5B5KjhUOTEwAABOP0ryR8/XzAAAAABJRU5ErkJggg==\n",
       "\" style=\"display:inline;vertical-align:middle;\" /></a></td></tr>\n",
       "<tr><td>3</td><td>Variable</td><td></td><td><a class=\"ProveItLink\" href=\"../72df168d2bfb4e0140af90912ebf83b13772060b0/expr.ipynb\"><img src=\"data:image/png;base64,iVBORw0KGgoAAAANSUhEUgAAAAsAAAAJBAMAAAAWSsseAAAAMFBMVEX///8QEBC6uroyMjJERETc\n",
       "3NyYmJgiIiJmZmaqqqp2dnbMzMxUVFSIiIju7u4AAAAoIwv1AAAAAXRSTlMAQObYZgAAAAlwSFlz\n",
       "AAAOxAAADsQBlSsOGwAAAENJREFUCNdjYHh75/WqCQwMDbxnOQoY2AJ4v/IkMHAzsBgwgAD/BTCl\n",
       "H8D3gOGJwnkGLgaG+fsaGTQZGF7c5WybwAAAJGsQ2L2rVEcAAAAASUVORK5CYII=\n",
       "\" style=\"display:inline;vertical-align:middle;\" /></a></td></tr>\n",
       "<tr><td>4</td><td>Variable</td><td></td><td><a class=\"ProveItLink\" href=\"../d7bbb04e874e28c7cefb21d4eea40806ae52f1f70/expr.ipynb\"><img src=\"data:image/png;base64,iVBORw0KGgoAAAANSUhEUgAAAAsAAAASBAMAAAB/WzlGAAAAMFBMVEX///8yMjLc3NyIiIiYmJgi\n",
       "IiJERES6urqqqqoQEBDMzMxUVFTu7u52dnZmZmYAAAD1zdHuAAAAAXRSTlMAQObYZgAAAAlwSFlz\n",
       "AAAOxAAADsQBlSsOGwAAAFNJREFUCNdjYGBg4Lt7AEgy3F7ZAKJmlIF47H9AbAbeABDJsjP6AYjm\n",
       "NwAL6i8AU/1gkuEqhMqGUJPBJNMvMMXxAUzxbQCR3Yxg48MOgsWcH4FIAPrAEkCfAu8DAAAAAElF\n",
       "TkSuQmCC\n",
       "\" style=\"display:inline;vertical-align:middle;\" /></a></td></tr>\n",
       "<tr><td>5</td><td>Operation</td><td>operator:&nbsp;6<br>operands:&nbsp;7<br></td><td><a class=\"ProveItLink\" href=\"../9de6227f3c37ab248e3fade689fc788462ec2bf30/expr.ipynb\"><img src=\"data:image/png;base64,iVBORw0KGgoAAAANSUhEUgAAACsAAAAQBAMAAAB9zpudAAAAMFBMVEX////MzMxERESYmJhUVFQy\n",
       "MjKqqqrc3NwQEBC6urru7u52dnYiIiJmZmaIiIgAAAB85A1lAAAAAXRSTlMAQObYZgAAAAlwSFlz\n",
       "AAAOxAAADsQBlSsOGwAAAJVJREFUGNNjYGB4y4ACFvVA6NOowgyxKLzJMMY3FOE8KM35C6swdwOI\n",
       "5Hr7AFWY1YHt7QIGbs4GVOH1BmkVBgxlvAGowvmVCaIFDAv4QYbcOXOm48yZIyDhG4YQ2QWoqo/e\n",
       "FgBRIagu4frJ+RFEfeNGEWb+wPWND+j6D8UowiwKXB9BCvUMUISZEhjevsLiSzQwGZkDACuzKbFs\n",
       "Q3+OAAAAAElFTkSuQmCC\n",
       "\" style=\"display:inline;vertical-align:middle;\" /></a></td></tr>\n",
       "<tr><td>6</td><td>Literal</td><td></td><td><a class=\"ProveItLink\" href=\"../../../number/addition/__pv_it/65ad7e8aee19b10110d590375ba95a879c4fb7ea0/expr.ipynb\"><img src=\"data:image/png;base64,iVBORw0KGgoAAAANSUhEUgAAAA4AAAAOBAMAAADtZjDiAAAAHlBMVEX///9UVFQQEBAiIiJmZmaI\n",
       "iIiqqqqYmJi6uroAAAAAFVhYAAAAAXRSTlMAQObYZgAAAAlwSFlzAAAOxAAADsQBlSsOGwAAAB9J\n",
       "REFUCNdjYGBgaGeAgFRiaGdjYyVjY0Oi1SPRIHsAgDEGyG9xCpgAAAAASUVORK5CYII=\n",
       "\" style=\"display:inline;vertical-align:middle;\" /></a></td></tr>\n",
       "<tr><td>7</td><td>ExprTuple</td><td>8, 9</td><td><a class=\"ProveItLink\" href=\"../02f3a93fc4ad5d1a233b4c8022c235b321c904c80/expr.ipynb\"><img src=\"data:image/png;base64,iVBORw0KGgoAAAANSUhEUgAAACgAAAAVBAMAAADGNLEtAAAAMFBMVEX////MzMxUVFREREQiIiK6\n",
       "uroQEBCYmJhmZmYyMjLu7u52dnaqqqqIiIjc3NwAAACFAiZ1AAAAAXRSTlMAQObYZgAAAAlwSFlz\n",
       "AAAOxAAADsQBlSsOGwAAAQVJREFUGNNjYGB4wIAC+EAE7wFUQdYLQOI0EN+A8BengMg7DAxcE4C0\n",
       "N1TVDBDBuYCBowBJ6x8Qwd7AwIZs3C8wlcUQiSTInQCmpjN0A429cQEiyKnAc2MBA8MmoDADNytE\n",
       "BcP6gjPPgFZUMvgwMLzhmAARPP/0gCTQK0cYUhkYFvBDtbcVgil5kCDD+QUQQc9uARAVxjAHSE6C\n",
       "iHF9Zf0Ioo8w2AI5f7gZuECu/sD1hxdIFwPtZ2D98JxhPdAuJgOuj9xAwV6GECBpW8DA4sXAwHyA\n",
       "4cYtINePgUUAYuApRIA6gLwPBhvggqAgsoPYfAEu+BgUsmAWOyJYrEBGFKBGB/sDBgCRXzrnY370\n",
       "DQAAAABJRU5ErkJggg==\n",
       "\" style=\"display:inline;vertical-align:middle;\" /></a></td></tr>\n",
       "<tr><td>8</td><td>Variable</td><td></td><td><a class=\"ProveItLink\" href=\"../557ab5defdcd46aa58168b08767502985122cd490/expr.ipynb\"><img src=\"data:image/png;base64,iVBORw0KGgoAAAANSUhEUgAAAAcAAAAOBAMAAAARcxsoAAAALVBMVEX///9ERESYmJhUVFQyMjKq\n",
       "qqrc3NwQEBC6urru7u52dnYiIiJmZmaIiIgAAAD/UVazAAAAAXRSTlMAQObYZgAAAAlwSFlzAAAO\n",
       "xAAADsQBlSsOGwAAADlJREFUCNdjYGC4wwAEuxjQAeedCwwMXBwFDAypPA4MDBP4gFyGuAlAwhkk\n",
       "+5SLgYHjQRKQKavAAAAx5QmdfgFqMAAAAABJRU5ErkJggg==\n",
       "\" style=\"display:inline;vertical-align:middle;\" /></a></td></tr>\n",
       "<tr><td>9</td><td>Variable</td><td></td><td><a class=\"ProveItLink\" href=\"../273f49450ca25e1b56abbd98a7aef618f8f6c1360/expr.ipynb\"><img src=\"data:image/png;base64,iVBORw0KGgoAAAANSUhEUgAAAAoAAAAOBAMAAADkjZCYAAAAMFBMVEX////MzMzc3NyYmJiIiIhU\n",
       "VFR2dna6urqqqqpmZmYyMjIiIiIQEBBERETu7u4AAADM1VnsAAAAAXRSTlMAQObYZgAAAAlwSFlz\n",
       "AAAOxAAADsQBlSsOGwAAAE9JREFUCNdj4LuzgQEIuCaASP4GEFn/AETmgAiGpQwt8xj4PnM0HWbg\n",
       "+FTBuIiB87AAUJh7ZSKQfF9QD+TYM7xvcGCIZXgvkMBwg4FlygMA76IUkutkA5UAAAAASUVORK5C\n",
       "YII=\n",
       "\" style=\"display:inline;vertical-align:middle;\" /></a></td></tr>\n",
       "</table>\n"
      ],
      "text/plain": [
       "0. (x_{k} , f(i + k))\n",
       "   core type: ExprTuple\n",
       "   sub-expressions: 1, 2\n",
       "1. x_{k}\n",
       "   core type: IndexedVar\n",
       "variable: 3\n",
       "index: 9\n",
       "2. f(i + k)\n",
       "   core type: Operation\n",
       "   operator: 4\n",
       "   operand: 5\n",
       "3. x\n",
       "   core type: Variable\n",
       "   sub-expressions: \n",
       "4. f\n",
       "   core type: Variable\n",
       "   sub-expressions: \n",
       "5. i + k\n",
       "   core type: Operation\n",
       "   operator: 6\n",
       "   operands: 7\n",
       "6. +\n",
       "   core type: Literal\n",
       "   sub-expressions: \n",
       "7. (i , k)\n",
       "   core type: ExprTuple\n",
       "   sub-expressions: 8, 9\n",
       "8. i\n",
       "   core type: Variable\n",
       "   sub-expressions: \n",
       "9. k\n",
       "   core type: Variable\n",
       "   sub-expressions: "
      ]
     },
     "execution_count": 5,
     "metadata": {},
     "output_type": "execute_result"
    }
   ],
   "source": [
    "# display the expression information\n",
    "expr.exprInfo()"
   ]
  },
  {
   "cell_type": "code",
   "execution_count": null,
   "metadata": {},
   "outputs": [],
   "source": []
  }
 ],
 "metadata": {
  "kernelspec": {
   "display_name": "Python 3",
   "language": "python",
   "name": "python3"
  },
  "language_info": {
   "codemirror_mode": {
    "name": "ipython",
    "version": 3
   },
   "file_extension": ".py",
   "mimetype": "text/x-python",
   "name": "python",
   "nbconvert_exporter": "python",
   "pygments_lexer": "ipython3",
   "version": "3.7.4"
  }
 },
 "nbformat": 4,
 "nbformat_minor": 1
}
