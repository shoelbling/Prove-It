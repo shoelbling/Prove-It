{
 "cells": [
  {
   "cell_type": "markdown",
   "metadata": {},
   "source": [
    "Expression of type <a class=\"ProveItLink\" href=\"../../../../../doc/html/api/proveit.ExprTuple.html\">ExprTuple</a>\n",
    "=======================\n",
    "# from context <a class=\"ProveItLink\" href=\"../../_context_.ipynb\">proveit.core_expr_types</a>"
   ]
  },
  {
   "cell_type": "code",
   "execution_count": 1,
   "metadata": {},
   "outputs": [],
   "source": [
    "import proveit\n",
    "# Automation is not needed when building an expression:\n",
    "proveit.defaults.automation = False # This will speed things up.\n",
    "# import Expression classes needed to build the expression\n",
    "from proveit import ExprRange, ExprTuple, Variable\n",
    "from proveit._common_ import a, fa, l"
   ]
  },
  {
   "cell_type": "code",
   "execution_count": 2,
   "metadata": {},
   "outputs": [
    {
     "data": {
      "text/html": [
       "<strong id=\"expr\">expr:</strong> <a class=\"ProveItLink\" href=\"../6e5aaef4855731a9846f3cf1814767cc69dc6ee30/expr.ipynb\"><img src=\"data:image/png;base64,iVBORw0KGgoAAAANSUhEUgAAAcsAAAAVBAMAAADbb9ifAAAAMFBMVEX////MzMxUVFREREQiIiK6\n",
       "uroQEBCYmJhmZmYyMjLu7u52dnaqqqqIiIjc3NwAAACFAiZ1AAAAAXRSTlMAQObYZgAAAAlwSFlz\n",
       "AAAOxAAADsQBlSsOGwAAA+9JREFUWMOdWE1IVFEUPqMzvnFmdFy1zRCipbRoISn2s5B0IeTGSHRR\n",
       "uFEYWrlJhwiCpBjaGCHxwJUL0URa1GYI2hTVQJtZtJiF4CZoXEQUJZ177s95776/8V343jv3ne99\n",
       "35nLvfddBYAWSOjWAutBTOv3vBKe6lTJuLYCT1PU5VOjTl9dQjcZz3Um903e5qJTHSqx61zg6enr\n",
       "8qvROx8VANbf6H7TZxDW8m9dvJb28JIZ8bNNqnBp3Co1rBnXg+PAkKety68mUKhJABTPLYGKJwFe\n",
       "xMvtnxF+2zR0NT+bU71V0Y9XYlenLbnMT1uXrYbIVyQAet6PgI4BVuLllm6KUXukuyuhqXI9WYld\n",
       "8zXJZX7aumw1RA9IAMy7YGK8u3FquT90W4Ag25NSirFK7JptSC7z09ZlqyFm8dEsUQ7oOqte6K3E\n",
       "TrVxEq1BkO1Jve5AiV1/DEgu89PWZash1sUaF7l7dy6AjAtNHIniYIyac/6qWHZ5sQPtfAUv25t6\n",
       "Bp8eJyixK6wpHeanrctWQ2xgd4M4/+iKcTGHM86pxY1auWFGttpT8bE5VfhV+ryYpGRcYQgkl/lp\n",
       "67LVEFPYnaLP+TERMf4ulm9pPE5OTAmc/7jFOC2x0XjYnCqd3M68TFBiV1gGyWV+2rpsNcRd7ApA\n",
       "qU1EjF0xJpl2nNwXuR1MU+z62JzKL5JprBK7Zk4Ul/lp67LVEOZnytVLsSg8t5C8ccif+RB8bE5l\n",
       "n78CSFBi174FxWV+2rpsNcQmdgWgW67tTdo6kibHRbnr0Xdx0s/m1O70/ECSErt2D7r2pE1bl62G\n",
       "GMXHozT+tHpFXPhbxDU3LI4eQSH52VqWNYpX+n+CYtupNditN3w5b5Pa7FquKC47R9YVpabMbTXE\n",
       "vjgh8eoVca59hAtLqO+Kk+BvFXBPbwu0uYtTFbEDqSHYHdjz5IwSS3pcy7cakmucI+uKVFPmthpi\n",
       "Bh/P8OqleBS/Blnx50v2Bl4mRFDVl+subws5MYG6xPAS205dhr4nrjdnlCa0tsfVWVc67BxZV5Sa\n",
       "MrfVEFkcLAF4IOWycvDgkK4fglujcMirb/QVPakOQ1MepVJwnpF2iCs7R9YVpabMbTWEUyWUBjfV\n",
       "QaIq7/JUvhfcGhHveuv6HN1VXzNneCulm8lZDbVDXdk5sq5wNWNuqwmMEbIj+nQxJj/bw7SwGwG5\n",
       "HcS1bb1Pts7WpwzbSukDgMlZmwZqh7l6naPqCldjc78avbNFcJq6rC1ZJU0LJzhq4nx3/6kWH843\n",
       "pw3bSunfa3LW+VMgxNXrHFVXuBqb+9Xonf6KhDl+Ubza2T9JjuRtNTrVoRK7rgaenr4uvxriP36b\n",
       "ooRlLQ7dAAAAAElFTkSuQmCC\n",
       "\" style=\"display:inline;vertical-align:middle;\" /></a><br>"
      ],
      "text/plain": [
       "expr: ((f(i) ,  ...  , f(j) , f(k) ,  ...  , f(l)) , (f(i) ,  ...  , f(l)))"
      ]
     },
     "execution_count": 2,
     "metadata": {},
     "output_type": "execute_result"
    }
   ],
   "source": [
    "# build up the expression from sub-expressions\n",
    "subExpr1 = Variable(\"i\")\n",
    "expr = ExprTuple([ExprRange(a, fa, subExpr1, Variable(\"j\")), ExprRange(a, fa, Variable(\"k\"), l)], [ExprRange(a, fa, subExpr1, l)])"
   ]
  },
  {
   "cell_type": "code",
   "execution_count": 3,
   "metadata": {},
   "outputs": [
    {
     "name": "stdout",
     "output_type": "stream",
     "text": [
      "Passed sanity check: built 'expr' is the same as the stored Expression.\n"
     ]
    }
   ],
   "source": [
    "# check that the built expression is the same as the stored expression\n",
    "%check_expr"
   ]
  },
  {
   "cell_type": "code",
   "execution_count": 4,
   "metadata": {},
   "outputs": [
    {
     "name": "stdout",
     "output_type": "stream",
     "text": [
      "\\left(\\left(f\\left(i\\right) , \\ldots , f\\left(j\\right) , f\\left(k\\right) , \\ldots , f\\left(l\\right)\\right) , \\left(f\\left(i\\right) , \\ldots , f\\left(l\\right)\\right)\\right)\n"
     ]
    }
   ],
   "source": [
    "# Show the LaTeX representation of the expression for convenience if you need it.\n",
    "print(expr.latex())"
   ]
  },
  {
   "cell_type": "code",
   "execution_count": 5,
   "metadata": {},
   "outputs": [
    {
     "data": {
      "text/html": [
       "<table><tr><th>&nbsp;</th><th>core type</th><th>sub-expressions</th><th>expression</th></tr>\n",
       "<tr><td>0</td><td>ExprTuple</td><td>1, 2</td><td><a class=\"ProveItLink\" href=\"../6e5aaef4855731a9846f3cf1814767cc69dc6ee30/expr.ipynb\"><img src=\"data:image/png;base64,iVBORw0KGgoAAAANSUhEUgAAAcsAAAAVBAMAAADbb9ifAAAAMFBMVEX////MzMxUVFREREQiIiK6\n",
       "uroQEBCYmJhmZmYyMjLu7u52dnaqqqqIiIjc3NwAAACFAiZ1AAAAAXRSTlMAQObYZgAAAAlwSFlz\n",
       "AAAOxAAADsQBlSsOGwAAA+9JREFUWMOdWE1IVFEUPqMzvnFmdFy1zRCipbRoISn2s5B0IeTGSHRR\n",
       "uFEYWrlJhwiCpBjaGCHxwJUL0URa1GYI2hTVQJtZtJiF4CZoXEQUJZ177s95776/8V343jv3ne99\n",
       "35nLvfddBYAWSOjWAutBTOv3vBKe6lTJuLYCT1PU5VOjTl9dQjcZz3Um903e5qJTHSqx61zg6enr\n",
       "8qvROx8VANbf6H7TZxDW8m9dvJb28JIZ8bNNqnBp3Co1rBnXg+PAkKety68mUKhJABTPLYGKJwFe\n",
       "xMvtnxF+2zR0NT+bU71V0Y9XYlenLbnMT1uXrYbIVyQAet6PgI4BVuLllm6KUXukuyuhqXI9WYld\n",
       "8zXJZX7aumw1RA9IAMy7YGK8u3FquT90W4Ag25NSirFK7JptSC7z09ZlqyFm8dEsUQ7oOqte6K3E\n",
       "TrVxEq1BkO1Jve5AiV1/DEgu89PWZash1sUaF7l7dy6AjAtNHIniYIyac/6qWHZ5sQPtfAUv25t6\n",
       "Bp8eJyixK6wpHeanrctWQ2xgd4M4/+iKcTGHM86pxY1auWFGttpT8bE5VfhV+ryYpGRcYQgkl/lp\n",
       "67LVEFPYnaLP+TERMf4ulm9pPE5OTAmc/7jFOC2x0XjYnCqd3M68TFBiV1gGyWV+2rpsNcRd7ApA\n",
       "qU1EjF0xJpl2nNwXuR1MU+z62JzKL5JprBK7Zk4Ul/lp67LVEOZnytVLsSg8t5C8ccif+RB8bE5l\n",
       "n78CSFBi174FxWV+2rpsNcQmdgWgW67tTdo6kibHRbnr0Xdx0s/m1O70/ECSErt2D7r2pE1bl62G\n",
       "GMXHozT+tHpFXPhbxDU3LI4eQSH52VqWNYpX+n+CYtupNditN3w5b5Pa7FquKC47R9YVpabMbTXE\n",
       "vjgh8eoVca59hAtLqO+Kk+BvFXBPbwu0uYtTFbEDqSHYHdjz5IwSS3pcy7cakmucI+uKVFPmthpi\n",
       "Bh/P8OqleBS/Blnx50v2Bl4mRFDVl+subws5MYG6xPAS205dhr4nrjdnlCa0tsfVWVc67BxZV5Sa\n",
       "MrfVEFkcLAF4IOWycvDgkK4fglujcMirb/QVPakOQ1MepVJwnpF2iCs7R9YVpabMbTWEUyWUBjfV\n",
       "QaIq7/JUvhfcGhHveuv6HN1VXzNneCulm8lZDbVDXdk5sq5wNWNuqwmMEbIj+nQxJj/bw7SwGwG5\n",
       "HcS1bb1Pts7WpwzbSukDgMlZmwZqh7l6naPqCldjc78avbNFcJq6rC1ZJU0LJzhq4nx3/6kWH843\n",
       "pw3bSunfa3LW+VMgxNXrHFVXuBqb+9Xonf6KhDl+Ubza2T9JjuRtNTrVoRK7rgaenr4uvxriP36b\n",
       "ooRlLQ7dAAAAAElFTkSuQmCC\n",
       "\" style=\"display:inline;vertical-align:middle;\" /></a></td></tr>\n",
       "<tr><td>1</td><td>ExprTuple</td><td>3, 4</td><td><a class=\"ProveItLink\" href=\"../d710af283e12cb3a3b95a3c94475f592bf70d4da0/expr.ipynb\"><img src=\"data:image/png;base64,iVBORw0KGgoAAAANSUhEUgAAAR8AAAAVBAMAAACNlfesAAAAMFBMVEX////MzMxUVFREREQiIiK6\n",
       "uroQEBCYmJhmZmYyMjLu7u52dnaqqqqIiIjc3NwAAACFAiZ1AAAAAXRSTlMAQObYZgAAAAlwSFlz\n",
       "AAAOxAAADsQBlSsOGwAAAy5JREFUSMeNVj1oFFEQnkv2spu7TS6VrZGAWAYLi2DC+VMEkyKgTcSQ\n",
       "FIY0CRxWaUwOEQIG5bBRJMhCqhThYggW2hyCjaIe2FxhcUUgjeClEFE0ODNv35v9y+49mLez+333\n",
       "fe9n9u0BQBuktU2X3QYDP0mGulUyrpwMNARR+Vx3Mt/UZe50qEslcWX+R364+UbnrdAQk5rz1sPe\n",
       "3cMuNxZmG6hwqRyZbFIzrgfHzKUo1OhZ8dwy+PkUwIt0mf0z5LPDk6uF2QL1V+k+XUlc7Y7iYjgV\n",
       "gvrej4HOAVbTB7R8k5ZhQ9+uJkKlRraSuDo1xcXoY2jeY4Imemky+T98WYA4OwD5iqlK4mo1FRdj\n",
       "lqED7md9Yn8ldaHL7F2DODsAve5CSVx/DCkuxiY9u3f3AtcYbmgLx1ocTlGxz1+l8nCopne/QpAd\n",
       "hJ7Cp0cZSuIK674OxjPG/nGPeTGP623X0uZVapq5V/sqIbZAhV/u56UsJeMKI6C4GNN8kB0zhPl3\n",
       "Ki+3nCZDy4u7jkVrt6l0A2yB3JM7uZcZSuIKK6C4GIv0zO0whLlHk8x10gb0RZXyDOdeiC2Qs8Rj\n",
       "S1US19yJz8VYlGLknCzyC9mlqAb0EEJsgaznrwAylMR1YMHnYmzRs15Ve1tcjFlbdlG9P3zOTIXZ\n",
       "AtVn5oeylMS1d9gzWzbOc+JipLzwt4i1MUoHaFxBHSorSo1+MvgTfHYUWod6oxnCgk1pi2up4nMx\n",
       "9qUYKc93jrAAiFnH6i789hO506XILzSd+MyOQSNQH9oLYEZJJAOupdtNxcW4JcXI+Ti+sxb9DbBu\n",
       "YDdJSVV31z0pxTxtRg8tALOj0GUYeOwFMaM0qbUDrvamr4Nh0TAfKMhSQ4ZD7j/EXwtSdvyz7ope\n",
       "9MNEKKDkxveMtRNcMewquMNb/klbVVf13dyLvxYY7/ob+pva01g3X9kIpJvBIg21E10pJsAa0+fp\n",
       "hDqwRrnwmjGZXYxrO/odaZ9tTBt2BNJHn8EiRY3aSa7M3wa7pQW2lR4vsR2fF30t7j/RoqNOa8aw\n",
       "I5AemcEi30OKBFfmDwb4Kl/r7i/skbqsnQ51qSSuGP8BrbgEhlboLZgAAAAASUVORK5CYII=\n",
       "\" style=\"display:inline;vertical-align:middle;\" /></a></td></tr>\n",
       "<tr><td>2</td><td>ExprTuple</td><td>5</td><td><a class=\"ProveItLink\" href=\"../f50bc74ed5bedceb6d920e1f8f8078426b3917000/expr.ipynb\"><img src=\"data:image/png;base64,iVBORw0KGgoAAAANSUhEUgAAAIsAAAAVBAMAAACEWwD/AAAAMFBMVEX////MzMxUVFREREQiIiK6\n",
       "uroQEBCYmJhmZmYyMjLu7u52dnaqqqqIiIjc3NwAAACFAiZ1AAAAAXRSTlMAQObYZgAAAAlwSFlz\n",
       "AAAOxAAADsQBlSsOGwAAAh1JREFUOMuNVDFIG1EY/msuuXh3iZlc1aU4BkdBsdZBbEuFujiUdtBN\n",
       "QTq51IYuoQRKcBFKhgMnBzGETHYJBRc7mEkyOGQouBQah1JaWvD7//+9nHL2zIPvv+/e++679/7/\n",
       "vUdEXYpatx/ub3mrFX2uFY0ofzmYzYXViv6r9FWOLe/cMr6rZT+HiEGd/OcF1jK8Ko/4Extk+BOi\n",
       "T8k2jVH+zwHwTrVAdotHMifTZDnRdrLNxgueTRn4oFogIyOvQjEzukyY5JL+I4/XwDPVAqvS15S4\n",
       "aoTDW0k2/pyYIQH5K9UCFe57szYpeUZ6Om0IxxNc3IfzJU5AHbSnWmBPxv5JBPfTmKxbTZrNSNvO\n",
       "eKioWuCp7KQrEYB/z6I7mEuy+VHg6KBambZqgXXuC3oiAA/5Xw96STZnWoZlorGuaoH1KGvCz5B5\n",
       "Xtj/W7Nvc06qBWrcl9KcMt+l+xY1pdXEoqa8/qJmxFqyxtz76yNlRd7ScQPdTpsSU/jkV061QCPK\n",
       "GvN07xLFZNcj5Nr7fZNIsOXgQv88VC2wEmVN+AwK6fDRd5YQFpmUDKGFMCpHGovZrqsWcHgi79XG\n",
       "0UnRN4mnsUUFbJM1e/NRpAXcEgXjNbNBS/osS6zHjwHwZbh16/yWDWbJmba7dlavNc4wee2YDVJB\n",
       "jw/MS6prtaLfJ7djr819FUhF3Hil+MS+/WhevKLVij5/4zgr3xnsEr20WuAakOWE4xtXVq8AAAAA\n",
       "SUVORK5CYII=\n",
       "\" style=\"display:inline;vertical-align:middle;\" /></a></td></tr>\n",
       "<tr><td>3</td><td>ExprRange</td><td>lambda_map:&nbsp;8<br>start_index:&nbsp;9<br>end_index:&nbsp;6<br></td><td><a class=\"ProveItLink\" href=\"../14c0c9bb000b56f8d077902c994f2d4e9b8e9d030/expr.ipynb\"><img src=\"data:image/png;base64,iVBORw0KGgoAAAANSUhEUgAAAIAAAAAVBAMAAAB8u/sIAAAAMFBMVEX///8yMjLc3NyIiIiYmJgi\n",
       "IiJERES6urqqqqoQEBDMzMxUVFTu7u52dnZmZmYAAAD1zdHuAAAAAXRSTlMAQObYZgAAAAlwSFlz\n",
       "AAAOxAAADsQBlSsOGwAAAeNJREFUOMuNVDtIA0EQnTvv8pHkTGGRMoXYRtHCSqKCjaBBUERFgpam\n",
       "0ELBymvEQkVBxRQWqQQrU4laSESwNY2VCtEIFiIoNiIpnM/mIhysWbi3M3Nv52be7h6AN0wPGhgJ\n",
       "8LN7CIIdDa1vcuEP23ksIoZKGC9LGs14fyDcIjgqKvb9MeW7wscugVHUro9e5BAjMbI7QbFzyzS9\n",
       "CMMqaxOE17NUcwr+sINVtndU7FCbYJU/GfZ8YkfTrEdMhVq1Ce4YFz0f2db5FNXhoIbXFVJEt35o\n",
       "/5KVJB26MordwnthYFulFTT6tBV8eVU6sKfYyTzFbBdM9wmNNd1684enCXz64Vuxt0XeBYhw/hNd\n",
       "gtAHTwdsVxX7rpZAQivaY5CuJ3DSij3PMQMPk1H4r4VAgac4yKkT9q68QilvXYwNkuc/jhGpUw7/\n",
       "HEESaya20iWKuVdN3Araysgnwm1MQd1TgstWjxBUPF2C2FGgG41R8sawBJuOB8MMGdPgCQ5LBKcg\n",
       "bEfagkm1USxTyN/DJsGb2HZetY7sDUOuNgzLJPck6tcP5QkV4t4dOrOqwh6/qgksP5l2xmu/iCif\n",
       "na1dmNnmb9sV9sBzjZHhKcuY8iWw6OlNKO8GKq91thptzEs09Esz5QvI/gVZv2xbZL9soAAAAABJ\n",
       "RU5ErkJggg==\n",
       "\" style=\"display:inline;vertical-align:middle;\" /></a></td></tr>\n",
       "<tr><td>4</td><td>ExprRange</td><td>lambda_map:&nbsp;8<br>start_index:&nbsp;7<br>end_index:&nbsp;10<br></td><td><a class=\"ProveItLink\" href=\"../0359bceffa6cf5278634e1db39268fe5f8e0fe430/expr.ipynb\"><img src=\"data:image/png;base64,iVBORw0KGgoAAAANSUhEUgAAAIAAAAAVBAMAAAB8u/sIAAAAMFBMVEX///8yMjLc3NyIiIiYmJgi\n",
       "IiJERES6urqqqqoQEBDMzMxUVFTu7u52dnZmZmYAAAD1zdHuAAAAAXRSTlMAQObYZgAAAAlwSFlz\n",
       "AAAOxAAADsQBlSsOGwAAAfBJREFUOMuNlEsoRFEYx795XHNH80oWSmkWsjVLK42UjWJSJCSxIbNg\n",
       "QZQikgUyNSMWFrO1MivFQjMp27GZhVcJOxTDarLwPc696OZw6nvcOb/z3fP9z7kDYA/3j/DniDrY\n",
       "Fgm+2L/We5a+2NBNHr15DoGJxFehX8fzNflNgFJFsVf7VK2A5roll9euDx7vog9EALwvit2dpfCA\n",
       "FqZK3lttAf9aknYdR4sI6/vgiRTaIhfc0xYQxo9mxIQNJlg73BNcMFKrLVBiP43WnGXWezRI+wid\n",
       "o6uHlSfURLe+c/uElUTrBmHDfBYubCrwbi5nANq0O3izd3kIwtJOsCHUzyzPVdcArOrWuysc+tHS\n",
       "IOyWiDuFbWS41oGugPnCYQeguqzYkl3AaLikdF57DRJWAU9KsZP8iwtbKE4tZuGPFqpyHOooywub\n",
       "lokYyVpcwtBBz87rGJCdyvUfQ/HjwipVgjmStZjF07wn+hVdMfItEackp+MLL8SYVar4sLdx8Nzj\n",
       "m3vouRcTgy7IMKjEGAJbcpjBC0R3AdmQNAUD9kGxTKazhw1yj5IbWYtdJ/VodFkcfSfYklM/7M7M\n",
       "1Umuvjhk+wqWvFGVNLE/dYqILRvJiHoatdj2O2t+RCVJ9nFHAS9Zq/Was2+sGo2Ki/7rL80dF/YT\n",
       "AFlymEdFpnoAAAAASUVORK5CYII=\n",
       "\" style=\"display:inline;vertical-align:middle;\" /></a></td></tr>\n",
       "<tr><td>5</td><td>ExprRange</td><td>lambda_map:&nbsp;8<br>start_index:&nbsp;9<br>end_index:&nbsp;10<br></td><td><a class=\"ProveItLink\" href=\"../2ad04d0f21b575412ddd488e1ae04dd4ac6c64300/expr.ipynb\"><img src=\"data:image/png;base64,iVBORw0KGgoAAAANSUhEUgAAAHwAAAAVBAMAAAB2y5cfAAAAMFBMVEX///8yMjLc3NyIiIiYmJgi\n",
       "IiJERES6urqqqqoQEBDMzMxUVFTu7u52dnZmZmYAAAD1zdHuAAAAAXRSTlMAQObYZgAAAAlwSFlz\n",
       "AAAOxAAADsQBlSsOGwAAAdhJREFUOMuNVDtIA0EQ3Vzukosk8QqLlFeIrVdYWElEsBE0CIqoiGhp\n",
       "Ci0UAkLSiIWKgSCmsEhrZSpBC0kI2CZNKhXip5NA1C5YODM7d0YO1izMZ2/f7M682T0hvKF5qo9h\n",
       "+7DjqMJOX9HB3C82/lQBbTbga0tuohjtR9QnQjS7jH24xL2qIEZDBCrK6NhtEXTUEkLvMLa4h+ZN\n",
       "rustZXjkMI35JkEsiQ1/00KeARfK8CwdGMFMHYmNpYgziwFDyvAm6R2Q0RJh9ZsVzCEOzNVekQlV\n",
       "9MzZHfEHMsfYQeI/AOU0MuBMKk//8jK8ZixmAaXkhJZ7BudAFa11ySyBFBh7KindFlHa+0oVbnbI\n",
       "nAsx8MnYphsuTOxBRtn2lBsezDN2i74E4OoEyv8lHyqTSaBXkdiCXAAC6zmgfxpn/qsXlTnKa74J\n",
       "hCcdwjIbMdg3qwH92LzoB6i61eNIxTRjwwb3HcIyG2GoKjQGzjzOFuB4A6/DmmDHWBUezWIXrktb\n",
       "YuOyHLHMrSFyTH/2x6jepW+UXOwRcoZjVhp8DVCKnzWgxSwn/rwrwC5WXVJtMiOka37qoFQj7T6M\n",
       "DRc79eKur5NJk076wnWUCZtn9z1YHsOEsvv6WWGLEPsDTe1pf1iwOYAAAAAASUVORK5CYII=\n",
       "\" style=\"display:inline;vertical-align:middle;\" /></a></td></tr>\n",
       "<tr><td>6</td><td>Variable</td><td></td><td><a class=\"ProveItLink\" href=\"../6a5b5879f51878868f626bf09e4d76392d4779cd0/expr.ipynb\"><img src=\"data:image/png;base64,iVBORw0KGgoAAAANSUhEUgAAAAoAAAASBAMAAACQmVJ4AAAAMFBMVEX///9UVFS6urp2dnYiIiKq\n",
       "qqrc3NyYmJgQEBBmZmYyMjKIiIju7u5ERETMzMwAAAC4hZuzAAAAAXRSTlMAQObYZgAAAAlwSFlz\n",
       "AAAOxAAADsQBlSsOGwAAAEtJREFUCNdjYGBg4LsDJBi4FzBgA6f3gsgJHAUMDOwJ/AEgTvwBEDkF\n",
       "LO0MItg+gUj2DyCS8QKI5NgAZAXUAxW+D3AF8jl3KjAwAACAGg5QwkhbIAAAAABJRU5ErkJggg==\n",
       "\" style=\"display:inline;vertical-align:middle;\" /></a></td></tr>\n",
       "<tr><td>7</td><td>Variable</td><td></td><td><a class=\"ProveItLink\" href=\"../273f49450ca25e1b56abbd98a7aef618f8f6c1360/expr.ipynb\"><img src=\"data:image/png;base64,iVBORw0KGgoAAAANSUhEUgAAAAoAAAAOBAMAAADkjZCYAAAAMFBMVEX////MzMzc3NyYmJiIiIhU\n",
       "VFR2dna6urqqqqpmZmYyMjIiIiIQEBBERETu7u4AAADM1VnsAAAAAXRSTlMAQObYZgAAAAlwSFlz\n",
       "AAAOxAAADsQBlSsOGwAAAE9JREFUCNdj4LuzgQEIuCaASP4GEFn/AETmgAiGpQwt8xj4PnM0HWbg\n",
       "+FTBuIiB87AAUJh7ZSKQfF9QD+TYM7xvcGCIZXgvkMBwg4FlygMA76IUkutkA5UAAAAASUVORK5C\n",
       "YII=\n",
       "\" style=\"display:inline;vertical-align:middle;\" /></a></td></tr>\n",
       "<tr><td>8</td><td>Lambda</td><td>parameter:&nbsp;13<br>body:&nbsp;11<br></td><td><a class=\"ProveItLink\" href=\"../f0043753ff2624d263f59c4c60930b136180b0460/expr.ipynb\"><img src=\"data:image/png;base64,iVBORw0KGgoAAAANSUhEUgAAAFQAAAAVCAMAAADvsTk6AAAANlBMVEX///8WFhYNDQ3MzMxUVFQy\n",
       "MjKqqqoiIiKYmJju7u5EREQQEBC6urqIiIh2dnZmZmbc3NwAAADRPqZpAAAAAXRSTlMAQObYZgAA\n",
       "AAlwSFlzAAAOxAAADsQBlSsOGwAAATxJREFUOMulVFtihCAMtOUdHoH7X7agZZcEdKvNj2JkMsOE\n",
       "bNt/I1+snkbUZBniQxxMyfV3na6L/DWSFL7vdGpKK/cE1OsAfSPaKW3x44nNBx/KQMWvii6okk96\n",
       "LpvMUEAtQNXOPmOK+eWaIX8YLk56I/FtWe+kASLJVs5XjfASRWE0cCIlclIMwlb6zrcMmhNuEegR\n",
       "5SIGHUcXUAhdn7gXMK9++/4yJEoJhHoZPTlSFELUP3wT6N47GdOgwqlPHZRCBF/fWwFbTqwRvJdB\n",
       "jkbv8hlEle9KS4DadF6BKt6ofrzcEA9QAmErb1UT1uDWD5WoDbxPiU9H93AIrCsnYxJZRrGcHfwr\n",
       "8WkLhywKYW6PP5T0bsxUsrmHqOWvNVfTYzFjLsPANOqAa81wU7uNyDEcx4BH45Qzo2ptq/oDHYoL\n",
       "1B9fEzQAAAAASUVORK5CYII=\n",
       "\" style=\"display:inline;vertical-align:middle;\" /></a></td></tr>\n",
       "<tr><td>9</td><td>Variable</td><td></td><td><a class=\"ProveItLink\" href=\"../557ab5defdcd46aa58168b08767502985122cd490/expr.ipynb\"><img src=\"data:image/png;base64,iVBORw0KGgoAAAANSUhEUgAAAAcAAAAOBAMAAAARcxsoAAAALVBMVEX///9ERESYmJhUVFQyMjKq\n",
       "qqrc3NwQEBC6urru7u52dnYiIiJmZmaIiIgAAAD/UVazAAAAAXRSTlMAQObYZgAAAAlwSFlzAAAO\n",
       "xAAADsQBlSsOGwAAADlJREFUCNdjYGC4wwAEuxjQAeedCwwMXBwFDAypPA4MDBP4gFyGuAlAwhkk\n",
       "+5SLgYHjQRKQKavAAAAx5QmdfgFqMAAAAABJRU5ErkJggg==\n",
       "\" style=\"display:inline;vertical-align:middle;\" /></a></td></tr>\n",
       "<tr><td>10</td><td>Variable</td><td></td><td><a class=\"ProveItLink\" href=\"../../../__pv_it/146a2ac733407ae00030c58af25a3e0f465a566a0/expr.ipynb\"><img src=\"data:image/png;base64,iVBORw0KGgoAAAANSUhEUgAAAAYAAAAOBAMAAAD+sXAWAAAALVBMVEX///+6urru7u4QEBBERERU\n",
       "VFTc3NyIiIgyMjJmZmaYmJjMzMwiIiJ2dnYAAADXf7CVAAAAAXRSTlMAQObYZgAAAAlwSFlzAAAO\n",
       "xAAADsQBlSsOGwAAAD9JREFUCNdjYLjzmoGB6wEDA2cDAwNPAQND3gYGhnUMDAwhQGzOwMD9jIGB\n",
       "3YCBgSVAgYFvQQEDn1ABA9dcBgA2gAn/wFd3XQAAAABJRU5ErkJggg==\n",
       "\" style=\"display:inline;vertical-align:middle;\" /></a></td></tr>\n",
       "<tr><td>11</td><td>Operation</td><td>operator:&nbsp;12<br>operand:&nbsp;13<br></td><td><a class=\"ProveItLink\" href=\"../../../__pv_it/e80bce2a0c2e8c976be76e7b3ce08f76e74ec5550/expr.ipynb\"><img src=\"data:image/png;base64,iVBORw0KGgoAAAANSUhEUgAAACgAAAAVBAMAAADGNLEtAAAAMFBMVEX///8yMjLc3NyIiIiYmJgi\n",
       "IiJERES6urqqqqoQEBDMzMxUVFTu7u52dnZmZmYAAAD1zdHuAAAAAXRSTlMAQObYZgAAAAlwSFlz\n",
       "AAAOxAAADsQBlSsOGwAAAP1JREFUGNNjYIADJhQKCiwgFLsBmOK7ewBIclxAkby9sgFIHoTpYAQp\n",
       "YZhRBqKewARZHoAM+QNmT4AbPgeIeQPA5gvABUWAqndGg9TzgezRu6wMsgOI+cFuYHQAqp7EkA80\n",
       "3hHI1V8AEmQFuuCkA8NTILMViPvBBnEWMDC8P8AQC2SuB+KrcMFpDDzfgcxKIM6GOLmBgecvA8sH\n",
       "qPbJYEE2AwaeHwxsAk0MDG7AUPkFFuTdwMAgzOD6AOiyx8CA+AAJHKAXTtsu2gx0ShDQ1Rsg/oiC\n",
       "h2sAQzdjA4TtBxPkc2AIgwUZmwKUocbA4PwIyuZJgDJykKNDBRqcCgwAmIo1X55DCvQAAAAASUVO\n",
       "RK5CYII=\n",
       "\" style=\"display:inline;vertical-align:middle;\" /></a></td></tr>\n",
       "<tr><td>12</td><td>Variable</td><td></td><td><a class=\"ProveItLink\" href=\"../../../__pv_it/d7bbb04e874e28c7cefb21d4eea40806ae52f1f70/expr.ipynb\"><img src=\"data:image/png;base64,iVBORw0KGgoAAAANSUhEUgAAAAsAAAASBAMAAAB/WzlGAAAAMFBMVEX///8yMjLc3NyIiIiYmJgi\n",
       "IiJERES6urqqqqoQEBDMzMxUVFTu7u52dnZmZmYAAAD1zdHuAAAAAXRSTlMAQObYZgAAAAlwSFlz\n",
       "AAAOxAAADsQBlSsOGwAAAFNJREFUCNdjYGBg4Lt7AEgy3F7ZAKJmlIF47H9AbAbeABDJsjP6AYjm\n",
       "NwAL6i8AU/1gkuEqhMqGUJPBJNMvMMXxAUzxbQCR3Yxg48MOgsWcH4FIAPrAEkCfAu8DAAAAAElF\n",
       "TkSuQmCC\n",
       "\" style=\"display:inline;vertical-align:middle;\" /></a></td></tr>\n",
       "<tr><td>13</td><td>Variable</td><td></td><td><a class=\"ProveItLink\" href=\"../../../__pv_it/a8d4b3a34d2189508f9082853fbac36935714f280/expr.ipynb\"><img src=\"data:image/png;base64,iVBORw0KGgoAAAANSUhEUgAAAAsAAAAJBAMAAAAWSsseAAAAMFBMVEX////MzMxUVFQyMjKqqqoi\n",
       "IiKYmJju7u5EREQQEBC6urqIiIh2dnZmZmbc3NwAAAD0tjQRAAAAAXRSTlMAQObYZgAAAAlwSFlz\n",
       "AAAOxAAADsQBlSsOGwAAAEdJREFUCNdjYOC7s28DAwPDygcc3xkY2Kcx8AYwMPB+Z2A9wMDA2cBQ\n",
       "v4CBof4AQz5QRb0DQzPLAwbmDWyxPECV2gcfbWQAABp5EMgcedARAAAAAElFTkSuQmCC\n",
       "\" style=\"display:inline;vertical-align:middle;\" /></a></td></tr>\n",
       "</table>\n"
      ],
      "text/plain": [
       "0. ((f(i) ,  ...  , f(j) , f(k) ,  ...  , f(l)) , (f(i) ,  ...  , f(l)))\n",
       "   core type: ExprTuple\n",
       "   sub-expressions: 1, 2\n",
       "1. (f(i) ,  ...  , f(j) , f(k) ,  ...  , f(l))\n",
       "   core type: ExprTuple\n",
       "   sub-expressions: 3, 4\n",
       "2. (f(i) ,  ...  , f(l))\n",
       "   core type: ExprTuple\n",
       "   sub-expressions: 5\n",
       "3. f(i),...,f(j)\n",
       "   core type: ExprRange\n",
       "   lambda_map: 8\n",
       "   start_index: 9\n",
       "   end_index: 6\n",
       "4. f(k),...,f(l)\n",
       "   core type: ExprRange\n",
       "   lambda_map: 8\n",
       "   start_index: 7\n",
       "   end_index: 10\n",
       "5. f(i),...,f(l)\n",
       "   core type: ExprRange\n",
       "   lambda_map: 8\n",
       "   start_index: 9\n",
       "   end_index: 10\n",
       "6. j\n",
       "   core type: Variable\n",
       "   sub-expressions: \n",
       "7. k\n",
       "   core type: Variable\n",
       "   sub-expressions: \n",
       "8. a -> f(a)\n",
       "   core type: Lambda\n",
       "   parameter: 13\n",
       "   body: 11\n",
       "9. i\n",
       "   core type: Variable\n",
       "   sub-expressions: \n",
       "10. l\n",
       "    core type: Variable\n",
       "    sub-expressions: \n",
       "11. f(a)\n",
       "    core type: Operation\n",
       "    operator: 12\n",
       "    operand: 13\n",
       "12. f\n",
       "    core type: Variable\n",
       "    sub-expressions: \n",
       "13. a\n",
       "    core type: Variable\n",
       "    sub-expressions: "
      ]
     },
     "execution_count": 5,
     "metadata": {},
     "output_type": "execute_result"
    }
   ],
   "source": [
    "# display the expression information\n",
    "expr.exprInfo()"
   ]
  },
  {
   "cell_type": "code",
   "execution_count": null,
   "metadata": {},
   "outputs": [],
   "source": []
  }
 ],
 "metadata": {
  "kernelspec": {
   "display_name": "Python 3",
   "language": "python",
   "name": "python3"
  },
  "language_info": {
   "codemirror_mode": {
    "name": "ipython",
    "version": 3
   },
   "file_extension": ".py",
   "mimetype": "text/x-python",
   "name": "python",
   "nbconvert_exporter": "python",
   "pygments_lexer": "ipython3",
   "version": "3.7.4"
  }
 },
 "nbformat": 4,
 "nbformat_minor": 1
}
