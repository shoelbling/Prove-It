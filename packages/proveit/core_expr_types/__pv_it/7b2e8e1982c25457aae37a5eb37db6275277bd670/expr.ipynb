{
 "cells": [
  {
   "cell_type": "markdown",
   "metadata": {},
   "source": [
    "Expression of type <a class=\"ProveItLink\" href=\"../../../../../doc/html/api/proveit.ExprTuple.html\">ExprTuple</a>\n",
    "=======================\n",
    "# from context <a class=\"ProveItLink\" href=\"../../_context_.ipynb\">proveit.core_expr_types</a>"
   ]
  },
  {
   "cell_type": "code",
   "execution_count": 1,
   "metadata": {},
   "outputs": [],
   "source": [
    "import proveit\n",
    "# Automation is not needed when building an expression:\n",
    "proveit.defaults.automation = False # This will speed things up.\n",
    "# import Expression classes needed to build the expression\n",
    "from proveit import ExprTuple\n",
    "from proveit._common_ import j\n",
    "from proveit.number import Neg, one"
   ]
  },
  {
   "cell_type": "code",
   "execution_count": 2,
   "metadata": {},
   "outputs": [
    {
     "data": {
      "text/html": [
       "<strong id=\"expr\">expr:</strong> <a class=\"ProveItLink\" href=\"../939889fe2b07e786ec7e35dd6c9980529c3c00a80/expr.ipynb\"><img src=\"data:image/png;base64,iVBORw0KGgoAAAANSUhEUgAAADgAAAAVBAMAAADhmjDFAAAAMFBMVEX////MzMxUVFREREQiIiK6\n",
       "uroQEBCYmJhmZmYyMjLu7u52dnaqqqqIiIjc3NwAAACFAiZ1AAAAAXRSTlMAQObYZgAAAAlwSFlz\n",
       "AAAOxAAADsQBlSsOGwAAAOpJREFUKM9jYGB4wIAV8IEI3gPYJVkvAInTIBajFaqMyAIGhjsMDFwT\n",
       "wNonIEtxacwHSnIuYOAowGbmfaAkewMDGwMuSYYshkjcktMZukHstZexSW4CSgNBA1sBFslKBh8g\n",
       "yf6A/wAWySMMqWDO+QVgL0xxAQEBqKQ8VLIFm51hDHPAHG8GrMbaggP5KwMXpmQx0L0gF31gWD8B\n",
       "Q7KXIQTEZjJgYPFCklPOdwLGiR8DC9BtDGxA5imMCHUABS/TgXqgKRvQJUFRYscgfwAYElwX0CUf\n",
       "A/FiBo4bAUA3YQQ+KP75CrAnE/YHDADxtT3dfKrZGgAAAABJRU5ErkJggg==\n",
       "\" style=\"display:inline;vertical-align:middle;\" /></a><br>"
      ],
      "text/plain": [
       "expr: (j , -1)"
      ]
     },
     "execution_count": 2,
     "metadata": {},
     "output_type": "execute_result"
    }
   ],
   "source": [
    "# build up the expression from sub-expressions\n",
    "expr = ExprTuple(j, Neg(one))"
   ]
  },
  {
   "cell_type": "code",
   "execution_count": 3,
   "metadata": {},
   "outputs": [
    {
     "name": "stdout",
     "output_type": "stream",
     "text": [
      "Passed sanity check: built 'expr' is the same as the stored Expression.\n"
     ]
    }
   ],
   "source": [
    "# check that the built expression is the same as the stored expression\n",
    "%check_expr"
   ]
  },
  {
   "cell_type": "code",
   "execution_count": 4,
   "metadata": {},
   "outputs": [
    {
     "name": "stdout",
     "output_type": "stream",
     "text": [
      "\\left(j , -1\\right)\n"
     ]
    }
   ],
   "source": [
    "# Show the LaTeX representation of the expression for convenience if you need it.\n",
    "print(expr.latex())"
   ]
  },
  {
   "cell_type": "code",
   "execution_count": 5,
   "metadata": {},
   "outputs": [
    {
     "data": {
      "text/html": [
       "<table><tr><th>&nbsp;</th><th>core type</th><th>sub-expressions</th><th>expression</th></tr>\n",
       "<tr><td>0</td><td>ExprTuple</td><td>1, 2</td><td><a class=\"ProveItLink\" href=\"../939889fe2b07e786ec7e35dd6c9980529c3c00a80/expr.ipynb\"><img src=\"data:image/png;base64,iVBORw0KGgoAAAANSUhEUgAAADgAAAAVBAMAAADhmjDFAAAAMFBMVEX////MzMxUVFREREQiIiK6\n",
       "uroQEBCYmJhmZmYyMjLu7u52dnaqqqqIiIjc3NwAAACFAiZ1AAAAAXRSTlMAQObYZgAAAAlwSFlz\n",
       "AAAOxAAADsQBlSsOGwAAAOpJREFUKM9jYGB4wIAV8IEI3gPYJVkvAInTIBajFaqMyAIGhjsMDFwT\n",
       "wNonIEtxacwHSnIuYOAowGbmfaAkewMDGwMuSYYshkjcktMZukHstZexSW4CSgNBA1sBFslKBh8g\n",
       "yf6A/wAWySMMqWDO+QVgL0xxAQEBqKQ8VLIFm51hDHPAHG8GrMbaggP5KwMXpmQx0L0gF31gWD8B\n",
       "Q7KXIQTEZjJgYPFCklPOdwLGiR8DC9BtDGxA5imMCHUABS/TgXqgKRvQJUFRYscgfwAYElwX0CUf\n",
       "A/FiBo4bAUA3YQQ+KP75CrAnE/YHDADxtT3dfKrZGgAAAABJRU5ErkJggg==\n",
       "\" style=\"display:inline;vertical-align:middle;\" /></a></td></tr>\n",
       "<tr><td>1</td><td>Variable</td><td></td><td><a class=\"ProveItLink\" href=\"../../../__pv_it/6a5b5879f51878868f626bf09e4d76392d4779cd0/expr.ipynb\"><img src=\"data:image/png;base64,iVBORw0KGgoAAAANSUhEUgAAAAoAAAASBAMAAACQmVJ4AAAAMFBMVEX///9UVFS6urp2dnYiIiKq\n",
       "qqrc3NyYmJgQEBBmZmYyMjKIiIju7u5ERETMzMwAAAC4hZuzAAAAAXRSTlMAQObYZgAAAAlwSFlz\n",
       "AAAOxAAADsQBlSsOGwAAAEtJREFUCNdjYGBg4LsDJBi4FzBgA6f3gsgJHAUMDOwJ/AEgTvwBEDkF\n",
       "LO0MItg+gUj2DyCS8QKI5NgAZAXUAxW+D3AF8jl3KjAwAACAGg5QwkhbIAAAAABJRU5ErkJggg==\n",
       "\" style=\"display:inline;vertical-align:middle;\" /></a></td></tr>\n",
       "<tr><td>2</td><td>Operation</td><td>operator:&nbsp;3<br>operand:&nbsp;4<br></td><td><a class=\"ProveItLink\" href=\"../5b07ae4e68d064139ece8a196baaa37242fa33320/expr.ipynb\"><img src=\"data:image/png;base64,iVBORw0KGgoAAAANSUhEUgAAABgAAAAOBAMAAADH1sFNAAAAIVBMVEX///8QEBBERESIiIhmZmZU\n",
       "VFTMzMwiIiIyMjLu7u4AAAD38jUOAAAAAXRSTlMAQObYZgAAAAlwSFlzAAAOxAAADsQBlSsOGwAA\n",
       "ACRJREFUCNdjYIABtko4k2Gqx0oEh4GZGpwZ5SBQRrlprIrLgwGT3A3rrVYBpAAAAABJRU5ErkJg\n",
       "gg==\n",
       "\" style=\"display:inline;vertical-align:middle;\" /></a></td></tr>\n",
       "<tr><td>3</td><td>Literal</td><td></td><td><a class=\"ProveItLink\" href=\"../../../number/negation/__pv_it/2867787e35502987d81a45cac8e7f1c6996d6ff40/expr.ipynb\"><img src=\"data:image/png;base64,iVBORw0KGgoAAAANSUhEUgAAAA4AAAABBAMAAAAcMII3AAAAElBMVEX////MzMwiIiIyMjLu7u4A\n",
       "AADe/Ps1AAAAAXRSTlMAQObYZgAAAAlwSFlzAAAOxAAADsQBlSsOGwAAAA1JREFUCNdjcFYCAUUA\n",
       "BKYBD24TAeoAAAAASUVORK5CYII=\n",
       "\" style=\"display:inline;vertical-align:middle;\" /></a></td></tr>\n",
       "<tr><td>4</td><td>Literal</td><td></td><td><a class=\"ProveItLink\" href=\"../../../number/numeral/__pv_it/f086f8c372bd40a2458306ddfdbb29f3dc6f63030/expr.ipynb\"><img src=\"data:image/png;base64,iVBORw0KGgoAAAANSUhEUgAAAAgAAAAOBAMAAADgeEClAAAAIVBMVEX///8QEBBERESIiIgyMjJm\n",
       "ZmZUVFTu7u4iIiLMzMwAAAAWRytzAAAAAXRSTlMAQObYZgAAAAlwSFlzAAAOxAAADsQBlSsOGwAA\n",
       "ABtJREFUCNdjYOBsZ2AoC1nOwMDATBbBprgiGQBsuwqCZsDj4wAAAABJRU5ErkJggg==\n",
       "\" style=\"display:inline;vertical-align:middle;\" /></a></td></tr>\n",
       "</table>\n"
      ],
      "text/plain": [
       "0. (j , -1)\n",
       "   core type: ExprTuple\n",
       "   sub-expressions: 1, 2\n",
       "1. j\n",
       "   core type: Variable\n",
       "   sub-expressions: \n",
       "2. -1\n",
       "   core type: Operation\n",
       "   operator: 3\n",
       "   operand: 4\n",
       "3. -\n",
       "   core type: Literal\n",
       "   sub-expressions: \n",
       "4. 1\n",
       "   core type: Literal\n",
       "   sub-expressions: "
      ]
     },
     "execution_count": 5,
     "metadata": {},
     "output_type": "execute_result"
    }
   ],
   "source": [
    "# display the expression information\n",
    "expr.exprInfo()"
   ]
  },
  {
   "cell_type": "code",
   "execution_count": null,
   "metadata": {},
   "outputs": [],
   "source": []
  }
 ],
 "metadata": {
  "kernelspec": {
   "display_name": "Python 3",
   "language": "python",
   "name": "python3"
  },
  "language_info": {
   "codemirror_mode": {
    "name": "ipython",
    "version": 3
   },
   "file_extension": ".py",
   "mimetype": "text/x-python",
   "name": "python",
   "nbconvert_exporter": "python",
   "pygments_lexer": "ipython3",
   "version": "3.7.4"
  }
 },
 "nbformat": 4,
 "nbformat_minor": 1
}
