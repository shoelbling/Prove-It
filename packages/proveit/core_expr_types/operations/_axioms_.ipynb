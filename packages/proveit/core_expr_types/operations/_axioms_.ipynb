{
 "cells": [
  {
   "cell_type": "markdown",
   "metadata": {},
   "source": [
    "Axioms for context <a class=\"ProveItLink\" href=\"_context_.ipynb\">proveit.core_expr_types.operations</a>\n",
    "========"
   ]
  },
  {
   "cell_type": "code",
   "execution_count": 1,
   "metadata": {},
   "outputs": [],
   "source": [
    "import proveit\n",
    "# Automation is not needed when building axiom expressions:\n",
    "proveit.defaults.automation = False # This will speed things up.\n",
    "# the context is in the current directory:\n",
    "context = proveit.Context('.') # adds context root to sys.path if necessary\n",
    "from proveit import ExprTuple, ExprRange, Len\n",
    "from proveit._common_ import f, n\n",
    "from proveit.logic import Forall, Equals\n",
    "from proveit.core_expr_types._common_ import x_1_to_n, y_1_to_n, f__x_1_to_n, f__y_1_to_n\n",
    "from proveit.number import Naturals"
   ]
  },
  {
   "cell_type": "code",
   "execution_count": 2,
   "metadata": {},
   "outputs": [
    {
     "name": "stdout",
     "output_type": "stream",
     "text": [
      "Defining axioms for context 'proveit.core_expr_types.operations'\n",
      "Subsequent end-of-cell assignments will define axioms\n",
      "%end_axioms will finalize the definitions\n"
     ]
    }
   ],
   "source": [
    "%begin axioms"
   ]
  },
  {
   "cell_type": "markdown",
   "metadata": {},
   "source": [
    "**When there are multiple operands of an operation, they are internally represented as an ExprTuple.  However, this axiom is need to replace one ExprTuple of operands with another ExprTuple of operands.  The alternative would be to invent some notation to make a unary map expand a single ExprTuple argument into the operands of an operation (something like $x \\mapsto f(*x)$ where $*$ acts in the sense of the unpacking operator in Python).  We can attain this affect from the following axiom using explicit and standard notation.**"
   ]
  },
  {
   "cell_type": "code",
   "execution_count": 3,
   "metadata": {},
   "outputs": [
    {
     "data": {
      "text/html": [
       "<strong id=\"operands_substitution\">operands_substitution:</strong> <a class=\"ProveItLink\" href=\"__pv_it/06242cb942353d29e5e70b34932b8939ab6e30e00/expr.ipynb\"><img src=\"data:image/png;base64,iVBORw0KGgoAAAANSUhEUgAAArgAAAAZBAMAAAAoMUB+AAAAMFBMVEX///+IiIgiIiIQEBB2dnbu\n",
       "7u5UVFTMzMzc3NwyMjK6urpmZmaYmJiqqqpEREQAAACk/Np2AAAAAXRSTlMAQObYZgAAAAlwSFlz\n",
       "AAAOxAAADsQBlSsOGwAABsJJREFUaN7tWk2MFEUUfjPTPd3z07O9QjYmizgOISjEZCSoRNlkIK4J\n",
       "KKY34vqDwmyC4SDBJqgHD9KKcFKci4kHMcNPNBzIDkr42Sw6XBSXBWcVWQQShsMiENksB7Jr9GD9\n",
       "dHdVT+30TJs9MMZKqqb69auvqr+qevXq7QL4pWjmQfg//bsUyjzsrxBrtS+yWFUN1lJtEra5MZAG\n",
       "w/8tckMVVr8vWNO43hxs47THzojcKv65XJfcFP7Ryi1C7jlSHu7GY84FbDvtZBAoGzbIDJPpGIYB\n",
       "/PxZXXITRfxjtQa3cgGX0sYuVL4ctHHMEGUUisI2nz618zC8g+1NtS65Sh797GqRhZsgOyxycQyV\n",
       "g0EbJ0uijEIlAm7c03YeJhMmVerbXDwFq1uE3Agp+8kSzAZu/agoolCRoMMwaB6GZNnn3IrRI6/Q\n",
       "IuQeIOUKcj4FH/PnomgFBxvAwJRpRtQtzmSW+JAbyWTm5VqE3MO4+H7xG3gr4zH3dLz4lO9BL7e/\n",
       "/pa7LZ8WXlMoDCt36tDrh9RzCOS8Y6nzNCNyjwKM+ZCbMCFltAi5dO3ddlYPlEJ9ibSvkYYO/Wvn\n",
       "4UciyZBk83TbgZW0LPzkh5T7BZITjvUu0IzI3Qlq3odc9HLnTBJgHxsXGvkzXP1Cs6rkSqRO4jKM\n",
       "VmzSCk1FfQ+jU3C/tcl5+Fm8WEw6sB8nCrDZ7wpSOQ5Rxy3Q0jQjclOGVOTUlEWrYFaeu0SMwSpc\n",
       "XTs4M+TSESSLTU5CM7qu6hPk08gCiqBGCqSw5X21vvk14QZ72Ca8plAY1ojo8IgPkozeRpxriDJB\n",
       "MyJX09l5tmXzTTgvGQmDI3eEnmebvppJcnsb6u13a71NqxJypbRDLkAb+l6l3c8y3GbVfaKbm3Zh\n",
       "+w1l0g8pfge2mU49SzPxBU66Jugovq3pJYm//saSZEamYCbJHQjg0w80rbobFymy7WLkIOu3ZIPs\n",
       "0LqcTMELHrPgsbkUisAeh1DWDwmZjVkgmgVYjVzZ5OCWToA5+NXoxfc95Eq/4bGfX4JHG+r88Jho\n",
       "8zjhnjyIFxKPkNZQ1+3HnrF8sJjvnYZ4B72G10F1Va+SNUvWQgqV64pvgkS/UxbpQF8l34xOQA5O\n",
       "/9COLctZ0WHVXdhrmOn6SPjtNQcoWaUZk7sdzU9yXzliyWSwo9Jr+3ly1cfAbgBwb7S6W8Dmhbk7\n",
       "iui9e4QERy1AyNocq/hgaSX4dhylMtKV2oytPqhaiXemPjEdd+jK29/AQUruemTa5D+Bq+BCm1yb\n",
       "jVdgaBksRZJDQhcUisAegf6yF8kLl8jH/3aAEjrNmNwUgthxD7QZcXKyjkJpricq9jtZ9uQDyind\n",
       "hF01nhkR2ofmK+lQVa3x7IjQS268Ckm4qkCtKocVd5qgyo69MLe2Ww7VVd2LiytUhnhY264NVii5\n",
       "4flItgh7ESW7AhkD5EP6pTOg9qThDhKIoesrDLZ3+XeWF4nBZfAm2NA55QCFLZrdkGMfsufJL8bH\n",
       "byFy18TEkGOMujRtJih7a93eNtOtRnNR/d35Ne+x0Euuho0Z8nMEVYaluI4N0t0AfUK3DNVVDZtk\n",
       "jZG0AHgTCL+KroCLF9Xx8aOKBvUIBwsrGyBJBRsIPrCzS+7jcFhRcnTlxkdEciOm7a5YEK4lFwm1\n",
       "E2dI43ARKdYyhoWXLp/jyMV0KBMqCKoMyzULWHchGl9ttwzVNQvJEpqK3Sx6wpErXjIl7tsSOVMM\n",
       "z7hQCDZRkLt8kY7D8xUbiMSMBjly1QlYOEpvakMAHSK569EmyqnZlQg7jKuwximIUJsLWSwIm/2E\n",
       "MV6BCEeqEe+Btl0qSIIqw4KQzg40WBCfqO2WQ2Wq1yE8ZvuiKYsnVxZD4T3MtEL4oCmG/lwoDKtH\n",
       "c75ID6DdZQPhGCOJMzrkxvMwuwy7EO3xh0x2NDNykd1RuuRN+2cb+CuVLthqKUtxYQs3ogWGpNrg\n",
       "DcIYr0CEUfM9ntzr0Du0vFtQZVgcOdcBLp0t1HbLoTLVdZDstB9kx1aoK//SkYUXEluoX0Lo2Wli\n",
       "AC4UgtXaB/yRRjqLDhCOFpCIgffPPPJz4zdrr79cjFKzZ9Rwq0yYDg3h+kvwB93rvAIWhmFOkSPX\n",
       "8UdqVRnWOu6OIFupstAtQ2WqKre1PwoYzvX5g4AaKKB7ys5N/w3t1kbXlCuzTvBWndbkvLYa1/vi\n",
       "BdjyZMWrgIW9cK7CkZugnyKoMqxu5p9bUf2A2C1D7b5L40jNkrtc92wkrlr27I/Ls6dRcIWMXJ6Q\n",
       "abH4gEK3djLng9o4TnGXkjvz/7fgmMQGanKdegPVuyiFMsv+AQOL/bs59tMSAAAAAElFTkSuQmCC\n",
       "\" style=\"display:inline;vertical-align:middle;\" /></a><br>"
      ],
      "text/plain": [
       "operands_substitution: forall_{n in Naturals} [forall_{f, x_{1},...,x_{n}, y_{1},...,y_{n} | (x_{1} ,  ...  , x_{n}) = (y_{1} ,  ...  , y_{n})} (f(x_{1} ,  ...  , x_{n}) = f(y_{1} ,  ...  , y_{n}))]"
      ]
     },
     "execution_count": 3,
     "metadata": {},
     "output_type": "execute_result"
    }
   ],
   "source": [
    "operands_substitution = Forall(n, Forall((f, x_1_to_n, y_1_to_n),\n",
    "                                         Equals(f__x_1_to_n, f__y_1_to_n),\n",
    "                                         conditions = [Equals([x_1_to_n], [y_1_to_n])]),\n",
    "                               domain=Naturals)"
   ]
  },
  {
   "cell_type": "code",
   "execution_count": 4,
   "metadata": {},
   "outputs": [
    {
     "name": "stdout",
     "output_type": "stream",
     "text": [
      "Axioms may be imported from autogenerated _axioms_.py\n"
     ]
    }
   ],
   "source": [
    "%end axioms"
   ]
  }
 ],
 "metadata": {
  "kernelspec": {
   "display_name": "Python 3",
   "language": "python",
   "name": "python3"
  },
  "language_info": {
   "codemirror_mode": {
    "name": "ipython",
    "version": 3
   },
   "file_extension": ".py",
   "mimetype": "text/x-python",
   "name": "python",
   "nbconvert_exporter": "python",
   "pygments_lexer": "ipython3",
   "version": "3.7.4"
  }
 },
 "nbformat": 4,
 "nbformat_minor": 1
}
