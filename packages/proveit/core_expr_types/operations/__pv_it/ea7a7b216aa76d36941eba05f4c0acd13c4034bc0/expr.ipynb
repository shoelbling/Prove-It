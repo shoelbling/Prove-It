{
 "cells": [
  {
   "cell_type": "markdown",
   "metadata": {},
   "source": [
    "Expression of type <a class=\"ProveItLink\" href=\"../../../../../../doc/html/api/proveit.logic.InSet.html\">InSet</a>\n",
    "=======================\n",
    "# from context <a class=\"ProveItLink\" href=\"../../_context_.ipynb\">proveit.core_expr_types.operations</a>"
   ]
  },
  {
   "cell_type": "code",
   "execution_count": 1,
   "metadata": {},
   "outputs": [],
   "source": [
    "import proveit\n",
    "# Automation is not needed when building an expression:\n",
    "proveit.defaults.automation = False # This will speed things up.\n",
    "# import Expression classes needed to build the expression\n",
    "from proveit import Variable\n",
    "from proveit.logic import InSet\n",
    "from proveit.number import Naturals"
   ]
  },
  {
   "cell_type": "code",
   "execution_count": 2,
   "metadata": {},
   "outputs": [
    {
     "data": {
      "text/html": [
       "<strong id=\"expr\">expr:</strong> <a class=\"ProveItLink\" href=\"expr.ipynb\"><img src=\"data:image/png;base64,iVBORw0KGgoAAAANSUhEUgAAADUAAAAQBAMAAABEqSrGAAAAMFBMVEX///9mZmYiIiIyMjKqqqqY\n",
       "mJgQEBDMzMzu7u5ERESIiIjc3NxUVFR2dna6uroAAABonEzTAAAAAXRSTlMAQObYZgAAAAlwSFlz\n",
       "AAAOxAAADsQBlSsOGwAAAOdJREFUGNNjYMAETT8nNzBc+/aAARuYwneAgeMHVimGQxuuMjAkYJc7\n",
       "MoF5A4MCqthKJSUDEH06itsATe7xCijjNE/BWpAc353dt06BRbgtYIpOM0zgfACU4+WcxdC/ASTC\n",
       "vAEhV8ihAZSrY5vAsL8ALMeAkGN18AS6s6H/AUM8WKRMCQgmQOQYTvCA/ODPwHASLNeJpI+hhwPk\n",
       "zsMMDF85QCJMyHLsC0Am5DKwfOAFiXAtgMlNB+LlQDnu7wy8BtFgIROYnAoQMwJDgU+BgXuqA1io\n",
       "Z14DmC76BtTDYYAaZm8nKSGLAADF1zpFf81hBQAAAABJRU5ErkJggg==\n",
       "\" style=\"display:inline;vertical-align:middle;\" /></a><br>"
      ],
      "text/plain": [
       "expr: n in Naturals"
      ]
     },
     "execution_count": 2,
     "metadata": {},
     "output_type": "execute_result"
    }
   ],
   "source": [
    "# build up the expression from sub-expressions\n",
    "expr = InSet(Variable(\"n\"), Naturals)"
   ]
  },
  {
   "cell_type": "code",
   "execution_count": 3,
   "metadata": {},
   "outputs": [
    {
     "name": "stdout",
     "output_type": "stream",
     "text": [
      "Passed sanity check: built 'expr' is the same as the stored Expression.\n"
     ]
    }
   ],
   "source": [
    "# check that the built expression is the same as the stored expression\n",
    "%check_expr"
   ]
  },
  {
   "cell_type": "code",
   "execution_count": 4,
   "metadata": {},
   "outputs": [
    {
     "name": "stdout",
     "output_type": "stream",
     "text": [
      "n \\in \\mathbb{N}\n"
     ]
    }
   ],
   "source": [
    "# Show the LaTeX representation of the expression for convenience if you need it.\n",
    "print(expr.latex())"
   ]
  },
  {
   "cell_type": "code",
   "execution_count": 5,
   "metadata": {},
   "outputs": [
    {
     "data": {
      "text/html": [
       "<table><tr><th>&nbsp;</th><th>core type</th><th>sub-expressions</th><th>expression</th></tr>\n",
       "<tr><td>0</td><td>Operation</td><td>operator:&nbsp;1<br>operands:&nbsp;2<br></td><td><a class=\"ProveItLink\" href=\"expr.ipynb\"><img src=\"data:image/png;base64,iVBORw0KGgoAAAANSUhEUgAAADUAAAAQBAMAAABEqSrGAAAAMFBMVEX///9mZmYiIiIyMjKqqqqY\n",
       "mJgQEBDMzMzu7u5ERESIiIjc3NxUVFR2dna6uroAAABonEzTAAAAAXRSTlMAQObYZgAAAAlwSFlz\n",
       "AAAOxAAADsQBlSsOGwAAAOdJREFUGNNjYMAETT8nNzBc+/aAARuYwneAgeMHVimGQxuuMjAkYJc7\n",
       "MoF5A4MCqthKJSUDEH06itsATe7xCijjNE/BWpAc353dt06BRbgtYIpOM0zgfACU4+WcxdC/ASTC\n",
       "vAEhV8ihAZSrY5vAsL8ALMeAkGN18AS6s6H/AUM8WKRMCQgmQOQYTvCA/ODPwHASLNeJpI+hhwPk\n",
       "zsMMDF85QCJMyHLsC0Am5DKwfOAFiXAtgMlNB+LlQDnu7wy8BtFgIROYnAoQMwJDgU+BgXuqA1io\n",
       "Z14DmC76BtTDYYAaZm8nKSGLAADF1zpFf81hBQAAAABJRU5ErkJggg==\n",
       "\" style=\"display:inline;vertical-align:middle;\" /></a></td></tr>\n",
       "<tr><td>1</td><td>Literal</td><td></td><td><a class=\"ProveItLink\" href=\"../../../../logic/set_theory/membership/__pv_it/7776fc89cb67d0b5b1ec2c0c8e08da5587921ccf0/expr.ipynb\"><img src=\"data:image/png;base64,iVBORw0KGgoAAAANSUhEUgAAAAwAAAAMBAMAAACkW0HUAAAAKlBMVEX///92dnZUVFSqqqoQEBDM\n",
       "zMzc3Nzu7u66uroyMjIiIiJERESIiIgAAACm0meuAAAAAXRSTlMAQObYZgAAAAlwSFlzAAAOxAAA\n",
       "DsQBlSsOGwAAADxJREFUCNdjYGA4vWrVBAaGzuMMQMA2HUQycCZAKDDJELIKCDYwVEN4XBCK5wCE\n",
       "ngyhinYUgOnGXasmAABvGQ6ucz2C1gAAAABJRU5ErkJggg==\n",
       "\" style=\"display:inline;vertical-align:middle;\" /></a></td></tr>\n",
       "<tr><td>2</td><td>ExprTuple</td><td>3, 4</td><td><a class=\"ProveItLink\" href=\"../8523ac9024e017b0054bafb17df64301faa224970/expr.ipynb\"><img src=\"data:image/png;base64,iVBORw0KGgoAAAANSUhEUgAAADEAAAAVBAMAAAAdjxsPAAAAMFBMVEX////MzMxUVFREREQiIiK6\n",
       "uroQEBCYmJhmZmYyMjLu7u52dnaqqqqIiIjc3NwAAACFAiZ1AAAAAXRSTlMAQObYZgAAAAlwSFlz\n",
       "AAAOxAAADsQBlSsOGwAAATFJREFUKM9tki9IBEEUh7/7v7d7LhsUjAdaFJUxieDJBpMYLlgMwhWT\n",
       "5aLF02awbBPEsKhVDi6cSVgwGjyzZYNZT4QTTb45mXNXHXgDv/fN/ObNmwFi/o5hbixKZC7flkO6\n",
       "g/q2FnepxSuFKvbncLkdpMh0fA0NOAWrmSJzqhzjwx4U00cv7LuBJsWQrV8k6z1qUm5yDIXO8828\n",
       "IahcXYhT5UTmXI12bMikvS6kFLABE0XFi2dIKbqV2io+OxC26xyM3JjNCsn0NeEepn7IuS1uhQZn\n",
       "Imfg3R6RTE8N3Woid6n0HUJNFiUehJQUHXBfcYKW/aGJFIQlDbN6bIqnj7sUsSabxgfqu5X5mLxn\n",
       "rl8JE714EsNDI5xkl44kVo24SgBXTLkwKvkcOe3sNv/5By34Ak9LP+Ss6hVEAAAAAElFTkSuQmCC\n",
       "\" style=\"display:inline;vertical-align:middle;\" /></a></td></tr>\n",
       "<tr><td>3</td><td>Variable</td><td></td><td><a class=\"ProveItLink\" href=\"../0c1c4cb515e0f4344b1ac06650f349123e526deb0/expr.ipynb\"><img src=\"data:image/png;base64,iVBORw0KGgoAAAANSUhEUgAAAAwAAAAJBAMAAAD0ltBnAAAALVBMVEX///8iIiIyMjKqqqqYmJgQ\n",
       "EBDMzMzu7u5ERESIiIjc3NxUVFR2dna6uroAAABc6vguAAAAAXRSTlMAQObYZgAAAAlwSFlzAAAO\n",
       "xAAADsQBlSsOGwAAAEdJREFUCNdj4D296uROBgYejk6GugUMuawNDOsSGArqLjD4MTAw2DEw7ABS\n",
       "mxgYnrAzMMQwMD/gYeB6xsCj4MXAK8DA1WIAACOEDusgYYkuAAAAAElFTkSuQmCC\n",
       "\" style=\"display:inline;vertical-align:middle;\" /></a></td></tr>\n",
       "<tr><td>4</td><td>Literal</td><td></td><td><a class=\"ProveItLink\" href=\"../../../../number/sets/integer/__pv_it/b49c37b99b7e8d73a8d7971bcf454d693b90a2c60/expr.ipynb\"><img src=\"data:image/png;base64,iVBORw0KGgoAAAANSUhEUgAAAA8AAAAPBAMAAADJ+Ih5AAAAMFBMVEX///9mZmbMzMyIiIiYmJjc\n",
       "3NxUVFSqqqq6uroQEBB2dnYyMjJEREQiIiLu7u4AAAAPqInnAAAAAXRSTlMAQObYZgAAAAlwSFlz\n",
       "AAAOxAAADsQBlSsOGwAAAGpJREFUCNdjePvn9AOGlT8bGBiOcyQw8P1jYGDIDVjCwDAByEg/wB3A\n",
       "cAHISHVm3QBhsClYQRgMB3gaIAxFvnsQBktBzQQwgyGPDcp4xgeRYmAyOABkHAJiIxDjOhAzbmBg\n",
       "0P0J5PFtYAAA6AAhaNFZV/8AAAAASUVORK5CYII=\n",
       "\" style=\"display:inline;vertical-align:middle;\" /></a></td></tr>\n",
       "</table>\n"
      ],
      "text/plain": [
       "0. n in Naturals\n",
       "   core type: Operation\n",
       "   operator: 1\n",
       "   operands: 2\n",
       "1. in\n",
       "   core type: Literal\n",
       "   sub-expressions: \n",
       "2. (n , Naturals)\n",
       "   core type: ExprTuple\n",
       "   sub-expressions: 3, 4\n",
       "3. n\n",
       "   core type: Variable\n",
       "   sub-expressions: \n",
       "4. Naturals\n",
       "   core type: Literal\n",
       "   sub-expressions: "
      ]
     },
     "execution_count": 5,
     "metadata": {},
     "output_type": "execute_result"
    }
   ],
   "source": [
    "# display the expression information\n",
    "expr.exprInfo()"
   ]
  },
  {
   "cell_type": "code",
   "execution_count": null,
   "metadata": {},
   "outputs": [],
   "source": []
  }
 ],
 "metadata": {
  "kernelspec": {
   "display_name": "Python 3",
   "language": "python",
   "name": "python3"
  },
  "language_info": {
   "codemirror_mode": {
    "name": "ipython",
    "version": 3
   },
   "file_extension": ".py",
   "mimetype": "text/x-python",
   "name": "python",
   "nbconvert_exporter": "python",
   "pygments_lexer": "ipython3",
   "version": "3.7.4"
  }
 },
 "nbformat": 4,
 "nbformat_minor": 1
}
